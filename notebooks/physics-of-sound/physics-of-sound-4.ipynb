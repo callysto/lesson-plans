{
 "cells": [
  {
   "cell_type": "markdown",
   "id": "22013bbb",
   "metadata": {},
   "source": [
    "![Callysto.ca Banner](https://github.com/callysto/curriculum-notebooks/blob/master/callysto-notebook-banner-top.jpg?raw=true)"
   ]
  },
  {
   "attachments": {},
   "cell_type": "markdown",
   "id": "3f5f7219",
   "metadata": {},
   "source": [
    "# Physics of Sound, Part Four of Four\n",
    "\n",
    "---\n",
    "\n",
    "## <font color=\"#FF0000\">WARNING:</font>\n",
    "\n",
    "This notebook will play a variety of sounds to help you learn about sounds. It can be **<font color=\"#FF0000\">VERY LOUD</font>** so be sure to turn down the volume on your computer before beginning.\n",
    "\n",
    "---\n",
    "\n",
    "In this notebook we will build periodic waveforms from multiple sine waves and listen to what they sound like. You can run each code cell individually, or chose the menu item **Kernal / Restart and run all**."
   ]
  },
  {
   "attachments": {},
   "cell_type": "markdown",
   "id": "5c728789",
   "metadata": {},
   "source": [
    "## Periodic Waveforms\n",
    "\n",
    "Most musical tones, when examined under an oscilloscope, present as a periodic waveform. That is, if we measure the sound using a microphone, we will see regular, repeating patterns.\n",
    "\n",
    "For example, here is a plot of the first few milliseconds (ms) of a sinusoid wave at 200 cycles per second (200 Hz)."
   ]
  },
  {
   "cell_type": "code",
   "execution_count": null,
   "id": "8503ef86",
   "metadata": {},
   "outputs": [],
   "source": [
    "import plotly.express as px\n",
    "from numpy import sin, pi, linspace\n",
    "x = linspace(0, 25, 1000)\n",
    "y = sin(2*pi*200*x)\n",
    "px.line(x=x, y=y, title='Sine Wave at 200 Hz').update_xaxes(title_text='Time (ms)').update_yaxes(title_text='Amplitude').show()"
   ]
  },
  {
   "attachments": {},
   "cell_type": "markdown",
   "id": "638a5f42",
   "metadata": {},
   "source": [
    "\n",
    "We see the waveform repeats itself every 5 milliseconds, which called the **period** of the waveform. The reciprocal of the period gives the frequency of the waveform, as\n",
    "\n",
    "$$ frequency = \\frac{1}{period}$$\n",
    "\n",
    "In the above example, we have 5 milliseconds as .005 seconds, so\n",
    "\n",
    "$$ 200 \\, Hz = \\frac{1}{.005\\, seconds}$$"
   ]
  },
  {
   "attachments": {},
   "cell_type": "markdown",
   "id": "abacfd1a",
   "metadata": {},
   "source": [
    "## Sums of sine waves.\n",
    "\n",
    "It is a mathematical observation that any periodic waveform can be expressed as the sum of sinusoidal waves of various frequencies. In fact, given the period of the waveform, we define the **fundamental frequency** as the reciprocal of that period. Then, the waveform is actually a sum of sine waves whose frequencies are integer multiples of the fundamental frequencies.\n",
    "\n",
    "These integer multple frequencies are called the **harmonics** of the waveform, and they determine the timbre, or sound quality, of the corresponding sound that is produced.\n",
    "\n",
    "For instance, here is a more complex periodic waveform, that looks a bit like a sinusoid with some extra ripples."
   ]
  },
  {
   "cell_type": "code",
   "execution_count": null,
   "id": "264a4a78",
   "metadata": {},
   "outputs": [],
   "source": [
    "import pandas as pd\n",
    "x = linspace(0, 25, 1000)\n",
    "y1 = sin(2*pi*200*x)\n",
    "y2 = 0.3 * sin(2*pi*600*x)\n",
    "df = pd.DataFrame({'Time (ms)':x,'200 Hz Wave':y1, '600 Hz Wave':y2, 'Sum':y1+y2})\n",
    "px.line(df, x='Time (ms)', y=['200 Hz Wave', '600 Hz Wave', 'Sum'], title='Sum of Two Sine Waves').update_traces(visible='legendonly').update_traces(visible=True, selector=dict(name='Sum')).show()"
   ]
  },
  {
   "attachments": {},
   "cell_type": "markdown",
   "id": "74f0dd4a",
   "metadata": {},
   "source": [
    "We see the period again is 5 milliseconds, so the fundamental frequency is 200 Hz. This waveform is in fact the weight sum to two sinewaves, at 200 Hz (the fundamental) and 600 Hz (three times the fundamental frequency).\n",
    "\n",
    "By weight sum, we mean the sine waves are multiplied by some constant to adjust their strength in the final result. In this example we have\n",
    "\n",
    "$$ signal = 1 * \\sin(200 \\, Hz) + \\frac{1}{3} * \\sin(600 \\, Hz)$$\n",
    "\n",
    "You can show the individual waveforms by clicking on them in the legend on the right. The 600 Hz sine wave is the red curve that oscillates three times faster (600 Hz) and at 1/3 the amplitude."
   ]
  },
  {
   "attachments": {},
   "cell_type": "markdown",
   "id": "bcc18cd3",
   "metadata": {},
   "source": [
    "## Creating and Listening to Periodic Waves\n",
    "\n",
    "The follow code creates a widget to experiment with periodic waves from sums of sine waves.\n",
    "\n",
    "There are controls to set the fundamental frequency (in Hertz) of the waveform, then set the weights for the various harmonics of the fundamental frequency. The weights can be positive or negative, with magnitudes between zero and one. The result is a sum like this:\n",
    "\n",
    "$$ signal = A_1 \\sin(F_0 t) + A_2 \\sin(2*F_0 t) + A_3 \\sin(3*F_0 t) + \\cdots,$$\n",
    "\n",
    "where $t$ is the time variable. \n",
    "\n",
    "As you change the weights, you will hear a change in the sound. \n",
    "\n",
    "There is a drop-down menu that allows you to select some familiar waveforms (sine, square, triangle, and sawtooth) and have the weights set for you automatically."
   ]
  },
  {
   "cell_type": "code",
   "execution_count": null,
   "id": "da55146e",
   "metadata": {},
   "outputs": [],
   "source": [
    "import plotly.graph_objects as go\n",
    "from IPython.display import Audio, display\n",
    "from numpy import pi, sin, linspace\n",
    "from ipywidgets import interactive, Dropdown, HBox, VBox\n",
    "\n",
    "# Set up the figure and label the axes\n",
    "rate = 44100\n",
    "samples = 1024\n",
    "time = linspace(0,1000*samples/rate,samples)\n",
    "fig = go.Figure(data=go.Scatter(x= time, y=time, mode='lines'))\n",
    "fig.update_layout(title='Wave with Harmonics')\n",
    "fig.update_xaxes(title_text='Time (ms)').update_yaxes(title_text='Amplitude')\n",
    "f = go.FigureWidget(fig)\n",
    "# Set up a sum of sine wave, and a widget to set the relative strengths\n",
    "def set_harms(Autoplay=False, Hz = 220.0, Amp_1 = 1.0, Amp_2 = 0.0, Amp_3 = 0.0, Amp_4 = 0.0, Amp_5 = 0.0, Amp_6 = 0.0, Amp_7 = 0.0):\n",
    "    global signal\n",
    "    t_max = 5\n",
    "    rate = 44100\n",
    "    t = linspace(0,t_max,rate*t_max)\n",
    "    signal = Amp_1*sin(2*pi*Hz*t)\n",
    "    signal += Amp_2*sin(4*pi*Hz*t)\n",
    "    signal += Amp_3*sin(6*pi*Hz*t)\n",
    "    signal += Amp_4*sin(8*pi*Hz*t)\n",
    "    signal += Amp_5*sin(10*pi*Hz*t)\n",
    "    signal += Amp_6*sin(12*pi*Hz*t)\n",
    "    signal += Amp_7*sin(14*pi*Hz*t)\n",
    "    f.data[0]['y'] = signal[0:samples]\n",
    "    display(Audio(data=signal, rate=rate, autoplay=Autoplay))\n",
    "    return signal\n",
    "\n",
    "AA = (-1.0,1.0,.01) ## range for our amplitude sliders\n",
    "v1 = interactive(set_harms, Autoplay=False, Hz=(110.0,440.0), Amp_1=AA, Amp_2=AA, Amp_3=AA, Amp_4=AA, Amp_5=AA, Amp_6=AA, Amp_7=AA)\n",
    "# Put in a drop down menu, to choose a few standard waveforms, Fejer kernel used to get a better Square, Sawtooth shapes. \n",
    "def dropdown_eventhandler(change):\n",
    "    s_offset = 2 ## offset into the widget data structure. 2 is the offset that works.\n",
    "    if change.new == \"Square wave\":\n",
    "        v1.children[s_offset+0].value = (1-1/9)*1\n",
    "        v1.children[s_offset+1].value = 0\n",
    "        v1.children[s_offset+2].value = (1-3/9)*1/3\n",
    "        v1.children[s_offset+3].value = 0\n",
    "        v1.children[s_offset+4].value = (1-5/9)*1/5\n",
    "        v1.children[s_offset+5].value = 0\n",
    "        v1.children[s_offset+6].value = (1-7/9)*1/7\n",
    "    elif change.new == \"Triangle wave\":\n",
    "        v1.children[s_offset+0].value = 1\n",
    "        v1.children[s_offset+1].value = 0\n",
    "        v1.children[s_offset+2].value = -1/3**2\n",
    "        v1.children[s_offset+3].value = 0\n",
    "        v1.children[s_offset+4].value = 1/5**2\n",
    "        v1.children[s_offset+5].value = 0\n",
    "        v1.children[s_offset+6].value = -1/7**2\n",
    "    elif change.new == \"Sawtooth wave\":\n",
    "        v1.children[s_offset+0].value = (1-1/8)*1\n",
    "        v1.children[s_offset+1].value = (1-2/8)*1/2\n",
    "        v1.children[s_offset+2].value = (1-3/8)*1/3\n",
    "        v1.children[s_offset+3].value = (1-4/8)*1/4\n",
    "        v1.children[s_offset+4].value = (1-5/8)*1/5\n",
    "        v1.children[s_offset+5].value = (1-6/8)*1/6\n",
    "        v1.children[s_offset+6].value = (1-7/8)*1/7\n",
    "    else: #defaulr to the sine wave\n",
    "        v1.children[s_offset+0].value = 1\n",
    "        v1.children[s_offset+1].value = 0\n",
    "        v1.children[s_offset+2].value = 0\n",
    "        v1.children[s_offset+3].value = 0\n",
    "        v1.children[s_offset+4].value = 0\n",
    "        v1.children[s_offset+5].value = 0\n",
    "        v1.children[s_offset+6].value = 0\n",
    "option_list = (\"Sine wave\", \"Triangle wave\",\"Square wave\",\"Sawtooth wave\" )\n",
    "dropdown = Dropdown(description=\"Choose one:\", options=option_list)\n",
    "dropdown.observe(dropdown_eventhandler, names='value')\n",
    "#display the widgets\n",
    "HBox([VBox([v1,dropdown]),f])"
   ]
  },
  {
   "attachments": {},
   "cell_type": "markdown",
   "id": "07010c62",
   "metadata": {},
   "source": [
    "Use the tool above to create a variety of sounds with different pitches, amplitudes, and timbres. Take a look at the oscilloscope while the sounds are being created. Can you see the differences?\n",
    "\n",
    "## What to Observe\n",
    "\n",
    "* As you change the fundamental frequency (Hz) the period on the waveform display will change.\n",
    "* As you change the fundamental frequency (Hz), you will also hear the pitch of the sound change.\n",
    "* The triangle wave, square wave and sawtooth wave should sound harsh. Which one is the harshest to your ears?\n",
    "* The Sawtooth (Fejer) is a smoother-looking version of a sawtooth wave. Does it sound different to you? "
   ]
  },
  {
   "attachments": {},
   "cell_type": "markdown",
   "id": "23e05010",
   "metadata": {},
   "source": [
    "## Questions\n",
    "\n",
    "1. If you switch a weight from positive to negative at the same amount, does the tone sound different to you? Does the tone look different on the graph?\n",
    "1. On a complex wave (like sawtooth), if you reduce the $Amp_1$ to zero, is the waveform still periodic?\n",
    "1. On a complex wave (like sawtooth), if you reduce the $Amp_1$ to zero, is the period still the same?\n",
    "1. On a complex wave (like sawtooth), if you reduce the $Amp_1$ to zero, does it sound like the same pitch?\n",
    "1. Can you create a tone that sounds like a musical chord?\n",
    "1. Try setting $Amp_3$ and $Amp_4$ to $1$ and all others to zero. Does the resulting tone sound nice? Does the resulting graph look interesting?\n",
    "1. Which other $Amp$ pairs sound nice? Which pairs sound bad or unharmonious?"
   ]
  },
  {
   "attachments": {},
   "cell_type": "markdown",
   "id": "f7d63528",
   "metadata": {},
   "source": [
    "## Caveats\n",
    "\n",
    "We talked about ideal periodic waveforms in this notebook. However, in real life, mustical instruments do not create perfectly periodic waveforms, so this is only an approximation. There is always noise and some random variations in musical instruments and how their produce sound, which is part of the reason why musical instruments have such right and interesting sounds.\n",
    "\n",
    "For instance, a piano is made from wire string under great tension and so they do not vibrate like ideal strings. Instead they behave a bit like metal bars. Their oscillations are more complex and so their harmonics are not exact integer mutliple of their fundamental frequencies. Indeed, piano tuners have to know how this affects the process of tuning the piano from octave to octave, this is called octave stretching or [stretched tuning](https://en.wikipedia.org/wiki/Stretched_tuning).\n",
    "\n",
    "Also, we only included seven harmonics in our construction above. In order to be mathematically precise, we should include all harmonics, so we would need an infinite sum. However our ears can only hear the first dozen or so harmonics, so we don't need to worry about these smaller sums."
   ]
  },
  {
   "attachments": {},
   "cell_type": "markdown",
   "id": "abf31526",
   "metadata": {},
   "source": [
    "## Summary\n",
    "\n",
    "We have seen how a periodic waveform sounds musical, and has a pitch associated with it. The pitch, or numerical frequency of the waveform (in Hertz or cycles per second) is the reciprocal of the period of the waveform (as measured in seconds). \n",
    "\n",
    "Mathematically, periodic waveforms can be expressed as a sum of sine waves of various frequencies. The different sine waves at integer multiples of the fundamental frequency are called the harmonics. Each harmonic has a weight associated with it, indicating how much energy is present in the waveform at that frequency. But adjusting these weights, one changes the timbre of the sound. We can create different waveforms using a tool to select different frequencies and different weights for the harmonics. "
   ]
  },
  {
   "cell_type": "markdown",
   "id": "3d2651df",
   "metadata": {},
   "source": [
    "[![Callysto.ca License](https://github.com/callysto/curriculum-notebooks/blob/master/callysto-notebook-banner-bottom.jpg?raw=true)](https://github.com/callysto/curriculum-notebooks/blob/master/LICENSE.md)"
   ]
  }
 ],
 "metadata": {
  "kernelspec": {
   "display_name": "Python 3",
   "language": "python",
   "name": "python3"
  },
  "language_info": {
   "codemirror_mode": {
    "name": "ipython",
    "version": 3
   },
   "file_extension": ".py",
   "mimetype": "text/x-python",
   "name": "python",
   "nbconvert_exporter": "python",
   "pygments_lexer": "ipython3",
   "version": "3.10.1"
  },
  "vscode": {
   "interpreter": {
    "hash": "d1ca6d17674200220921376aaeb3d36cffe15ecab2470a9a5e7a456cdbf61425"
   }
  }
 },
 "nbformat": 4,
 "nbformat_minor": 5
}
