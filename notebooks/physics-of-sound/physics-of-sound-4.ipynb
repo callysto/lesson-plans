{
 "cells": [
  {
   "cell_type": "markdown",
   "id": "22013bbb",
   "metadata": {},
   "source": [
    "![Callysto.ca Banner](https://github.com/callysto/curriculum-notebooks/blob/master/callysto-notebook-banner-top.jpg?raw=true)"
   ]
  },
  {
   "cell_type": "markdown",
   "id": "3f5f7219",
   "metadata": {},
   "source": [
    "# Physics of Sound, Part four\n",
    "\n",
    "In this short notebook, we build periodic waveforms and listen to what they sound like.\n"
   ]
  },
  {
   "cell_type": "markdown",
   "id": "986b4278",
   "metadata": {},
   "source": [
    "![Warning](images/warning_2.png)\n",
    "![Warning](images/warning_1.png)\n",
    "\n",
    "## WARNING:\n",
    "This notebook will play a variety of sounds to help you learn about sounds. It can be VERY LOUD so be sure to turn down the volume on your computer before beginning."
   ]
  },
  {
   "cell_type": "markdown",
   "id": "799f7492",
   "metadata": {},
   "source": [
    "## Setting up\n",
    "\n",
    "Run all the following code, to set up the notebook. You can run each cell individually, for chose the menu item **Kernal / Restart and run all**., "
   ]
  },
  {
   "cell_type": "markdown",
   "id": "5c728789",
   "metadata": {},
   "source": [
    "## Periodic waveforms\n",
    "\n",
    "Most musical tones, when examined under an oscilloscope, present as a periodic waveform. That is, if we measure the sound using a microphone, we will see regular, repeating patterns.\n",
    "\n",
    "For example, here is a plot of the first few milliseconds (mS) of a sinusoid wave at 200 cycles per second (200 Hz). \n",
    "![sine iamge](images/OneSine.png)\n",
    "We see the waveform repeats itself every 5 milliseond, which called the **period** of the waveform. The reciprocal of the period gives the frequency of the waveform, as\n",
    "$$ frequency = \\frac{1}{period}.$$\n",
    "In the above example, we have 5 milliseconds as .005 seconds, so\n",
    "$$ 200 \\, Hz = \\frac{1}{.005\\, seconds}.$$"
   ]
  },
  {
   "cell_type": "markdown",
   "id": "abacfd1a",
   "metadata": {},
   "source": [
    "## Sums of sine waves.\n",
    "\n",
    "It is a mathematical observation that any periodic waveform can be expressed as the sum of sinusoidal waves of various frequencies. In fact, given the period of the waveform, we define the **fundamental frequency** as the reciprocal of that period. Then, the waveform is actually a sum of sine waves whose frequencies are integer multiples of the fundamental frequencies.\n",
    "\n",
    "These integer multple frequencies are called the **harmonics** of the waveform, and they determine the timbre, or sound quality, of the corresponding sound that is produced.\n",
    "\n",
    "For instance, here is a more complex periodic waveform, that looks a bit like a sinusoid with some extra ripples.\n",
    "![Sum of sines](images/SumSines.png)\n",
    "We see the period again is 5 milliseconds, so the fundamental frequency is 200 Hz. This waveform is in fact the weight sum to two sinewaves, at frequencies 200 Hz (the fundamental) and at 600 Hz (three times the fundamental frequency). \n",
    "\n",
    "By weight sum, we mean the sine waves are multiplied by some constant, to adjust their strength in the final result. In this example we have\n",
    "\n",
    "$$ signal = 1 * \\sin(200 \\, Hz) + \\frac{1}{3} * \\sin(600 \\, Hz).$$\n",
    "\n",
    "We can plot the individual components (sine waves) and the resulting sum as follows:\n",
    "\n",
    "![Sum of sines](images/SumSinesFull.png)\n",
    "\n",
    "Notice here we have the same 200 Hz sine wave as before, with full amplitude of one. The 600 Hz sine wave is the red curve that oscillates three times faster (600 Hz) and at 1/3 the amplitude. The sum is shown in green dots."
   ]
  },
  {
   "cell_type": "markdown",
   "id": "bcc18cd3",
   "metadata": {},
   "source": [
    "## Interactive work on creating and listening to periodic waves\n",
    "\n",
    "The follow code creates a handy widget to experiment with creatiing periodic waves from sums of sine waves.\n",
    "\n",
    "You are give controls to set the fundamental frequency (in Hertz) of the waveform, then set the weights for the various harmonics of the fundamental frequency. The weights can be positive or negation, with magnitudes running between zero and one. The result is a sum like this:\n",
    "\n",
    "$$ signal = A_1 \\sin(F_0 t) + A_2 \\sin(2*F_0 t) + A_3 \\sin(3*F_0 t) + \\cdots,$$\n",
    "\n",
    "where $t$ is the time variable. \n",
    "\n",
    "As you change the weights, you will hear a change in the sound. \n",
    "\n",
    "There is a drop down menu so you can select some familiar waveforms (Sine wave, square wave, etc) and have the weights set for you automaticsally."
   ]
  },
  {
   "cell_type": "code",
   "execution_count": null,
   "id": "4b381234",
   "metadata": {},
   "outputs": [],
   "source": [
    "## load some libraries\n",
    "import plotly.graph_objects as go\n",
    "from IPython.display import Audio, display\n",
    "from numpy import pi, sin, linspace\n",
    "from ipywidgets import interactive, Dropdown, HBox, VBox\n"
   ]
  },
  {
   "cell_type": "code",
   "execution_count": null,
   "id": "da55146e",
   "metadata": {},
   "outputs": [],
   "source": [
    "# Set up the figure, being careful about labeling the axes\n",
    "rate = 44100\n",
    "samples = 1024\n",
    "time = linspace(0,1000*samples/rate,samples)\n",
    "\n",
    "fig = go.Figure(data=go.Scatter(x= time, y=time, mode='lines'))\n",
    "fig.update_xaxes(title_text='Time (mS)').update_yaxes(title_text='Amplitude')\n",
    "f = go.FigureWidget(fig)\n"
   ]
  },
  {
   "cell_type": "code",
   "execution_count": null,
   "id": "e421b3ae",
   "metadata": {},
   "outputs": [],
   "source": [
    "# Set up a sum of sine wave, and a widget to set the relative strengths\n",
    "def set_harms(Autoplay=False, Hz = 220.0, \\\n",
    "              Amp_1 = 1.0, Amp_2 = 0.0, Amp_3 = 0.0, Amp_4 = 0.0, Amp_5 = 0.0, Amp_6 = 0.0, Amp_7 = 0.0):\n",
    "    global signal\n",
    "    t_max = 5\n",
    "    rate = 44100\n",
    "    t = linspace(0,t_max,rate*t_max)\n",
    "    signal = Amp_1*sin(2*pi*Hz*t)\n",
    "    signal += Amp_2*sin(4*pi*Hz*t)\n",
    "    signal += Amp_3*sin(6*pi*Hz*t)\n",
    "    signal += Amp_4*sin(8*pi*Hz*t)\n",
    "    signal += Amp_5*sin(10*pi*Hz*t)\n",
    "    signal += Amp_6*sin(12*pi*Hz*t)\n",
    "    signal += Amp_7*sin(14*pi*Hz*t)\n",
    "    f.data[0]['y'] = signal[0:samples]\n",
    "    display(Audio(data=signal, rate=rate,autoplay=Autoplay))\n",
    "    return signal\n",
    "\n",
    "AA = (-1.0,1.0,.01) ## range for our amplitude sliders\n",
    "\n",
    "v1 = interactive(set_harms, Autoplay=False, Hz=(110.0,440.0), \\\n",
    "        Amp_1=AA, Amp_2=AA, Amp_3=AA, Amp_4=AA, Amp_5=AA, Amp_6=AA, Amp_7=AA )"
   ]
  },
  {
   "cell_type": "code",
   "execution_count": null,
   "id": "5b24d3a6",
   "metadata": {},
   "outputs": [],
   "source": [
    "# Put in a drop down menu, to choose a few standard waveforms\n",
    "# Fejer kernel used to get a better Square, Sawtooth shapes. \n",
    "def dropdown_eventhandler(change):\n",
    "    s_offset = 2 ## offset into the widget data structure. 2 is the offset that works.\n",
    "    if change.new == \"Square wave\":\n",
    "        v1.children[s_offset+0].value = (1-1/9)*1\n",
    "        v1.children[s_offset+1].value = 0\n",
    "        v1.children[s_offset+2].value = (1-3/9)*1/3\n",
    "        v1.children[s_offset+3].value = 0\n",
    "        v1.children[s_offset+4].value = (1-5/9)*1/5\n",
    "        v1.children[s_offset+5].value = 0\n",
    "        v1.children[s_offset+6].value = (1-7/9)*1/7\n",
    "    elif change.new == \"Triangle wave\":\n",
    "        v1.children[s_offset+0].value = 1\n",
    "        v1.children[s_offset+1].value = 0\n",
    "        v1.children[s_offset+2].value = -1/3**2\n",
    "        v1.children[s_offset+3].value = 0\n",
    "        v1.children[s_offset+4].value = 1/5**2\n",
    "        v1.children[s_offset+5].value = 0\n",
    "        v1.children[s_offset+6].value = -1/7**2\n",
    "    elif change.new == \"Sawtooth wave\":\n",
    "        v1.children[s_offset+0].value = (1-1/8)*1\n",
    "        v1.children[s_offset+1].value = (1-2/8)*1/2\n",
    "        v1.children[s_offset+2].value = (1-3/8)*1/3\n",
    "        v1.children[s_offset+3].value = (1-4/8)*1/4\n",
    "        v1.children[s_offset+4].value = (1-5/8)*1/5\n",
    "        v1.children[s_offset+5].value = (1-6/8)*1/6\n",
    "        v1.children[s_offset+6].value = (1-7/8)*1/7\n",
    "    else: #defaulr to the sine wave\n",
    "        v1.children[s_offset+0].value = 1\n",
    "        v1.children[s_offset+1].value = 0\n",
    "        v1.children[s_offset+2].value = 0\n",
    "        v1.children[s_offset+3].value = 0\n",
    "        v1.children[s_offset+4].value = 0\n",
    "        v1.children[s_offset+5].value = 0\n",
    "        v1.children[s_offset+6].value = 0\n",
    "\n",
    "option_list = (\"Sine wave\", \"Triangle wave\",\"Square wave\",\"Sawtooth wave\" )\n",
    "dropdown = Dropdown(description=\"Choose one:\", options=option_list)\n",
    "dropdown.observe(dropdown_eventhandler, names='value')\n"
   ]
  },
  {
   "cell_type": "markdown",
   "id": "07010c62",
   "metadata": {},
   "source": [
    "## Creating a variety of tones\n",
    "\n",
    "Run the following cell to create a variety of sound with different pitches, amplitudes, and timbres. Take a look at the oscilloscope while the sounds are being created. Can you see the differences?"
   ]
  },
  {
   "cell_type": "code",
   "execution_count": null,
   "id": "d210dcec",
   "metadata": {},
   "outputs": [],
   "source": [
    "#display the widgets\n",
    "HBox([VBox([v1,dropdown]),f])"
   ]
  },
  {
   "cell_type": "markdown",
   "id": "6d74a03b",
   "metadata": {},
   "source": [
    "## What to observe\n",
    "\n",
    "1. As you change the fundamental frequency (hz) the period on the waveform display will change.\n",
    "2. As you change the fundamental frequency (hz), you will also hear the pitch of the sound change.\n",
    "2. Selecting the sine wave in the dropdown menu gives only one non-zero weight, at the fundamental frequency.\n",
    "3. The sine wave should sound like a pure tone to your ears.\n",
    "4. The triangle wave, square wave and sawtooth wave should sound harsh. Which one is the harshest to your ears?\n",
    "5. The Sawtooth (Fejer) is a smoother-looking version of a sawtooth wave. Does it sound different to you? "
   ]
  },
  {
   "cell_type": "markdown",
   "id": "23e05010",
   "metadata": {},
   "source": [
    "## Questions\n",
    "\n",
    "1. If you switch a weight from positive to negative (same magnitude), does the tone sound different to you?\n",
    "2. If you switch a weight from positive to negative (same magnitude), does the tone look different on the graph?\n",
    "3. On a complex wave (like sawtooth), if you reduce the $Amp_1$ to zero, is the waveform still periodic?\n",
    "4. On a complex wave (like sawtooth), if you reduce the $Amp_1$ to zero, is the period still the same?\n",
    "5. On a complex wave (like sawtooth), if you reduce the $Amp_1$ to zero, does it sound like the same pitch?\n",
    "6. Can you create a tone that sounds like a musical chord? \n",
    "7. Try setting $Amp_3, Amp_4$ to one, all others to zero. Does the resulting tone sound nice?\n",
    "7. Try setting $Amp_3, Amp_4$ to one, all others to zero. Does the resulting graph look interesting?\n",
    "8. What other two $Amp's$ sound nice? Which pairs sound bad or unharmonious?"
   ]
  },
  {
   "cell_type": "markdown",
   "id": "abf31526",
   "metadata": {},
   "source": [
    "## Summary\n",
    "\n",
    "We have seen how periodic waveform sound musical, and have a pitch associated with it. \n",
    "\n",
    "The pitch, or numerical frequency of the waveform (in cycles per second) is the reciprocal of the period of the waveform (as measured in seconds). \n",
    "\n",
    "Mathematically, periodic waveforms can be expressed as a sum of sine waves of various frequencies. \n",
    "The different sine waves are called the harmonics, and their frequencies are all integer multiples of the fundamental frequency. \n",
    "\n",
    "Each harmonic has a weight associated with it, indicating how much energy is present in the waveform at that frequency. But adjusting these weights, one changes the timbre of the sound.\n",
    "\n",
    "We can create different waveforms using a tool to select different frequencies and different weights for the harmonics. "
   ]
  },
  {
   "cell_type": "markdown",
   "id": "2ccfb0ae",
   "metadata": {},
   "source": [
    "## Caveats\n",
    "\n",
    "We talked about ideal periodic waveforms in this notebook. However, in real life, mustical instruments do not create perfectly periodic waveforms, so this is only an approximation to reality. There is always noise and some random variations in musical instruments and how their produce sound, which is part of the reason why musical instruments have such right and interesting sounds.\n",
    "\n",
    "For instance, a piano is made from wire string under great tension and so they do not vibrate like ideal strings -- instead they behave a bit like metal bars. Their oscillations are more complex and so their harmonics are not exact integer mutliple of the fundamental pitch. Indeed, piano tuners have to be trained about this less-than-ideal situation, as it affect how one tunes the piano from octave to octave. (This is call **octave stretching**.\n",
    "\n",
    "Also, we only included seven harmonics in our construction above. In order to be mathematically precise, we should include all harmonics, so we need an infinite sum. Our poor ears, though, can only hear the first dozen or so harmonices, so we need not worry about using these smaller sums. "
   ]
  },
  {
   "cell_type": "markdown",
   "id": "279f0745",
   "metadata": {},
   "source": [
    "## Side notes\n",
    "\n",
    "When developing this notebook, we created some code to produce some of the fixed plots shown above.\n",
    "\n",
    "We are happy to share this code with you below, in case you find it useful. It is a good example of how to use Plotly to make some nice graphics. "
   ]
  },
  {
   "cell_type": "code",
   "execution_count": null,
   "id": "416e041c",
   "metadata": {},
   "outputs": [],
   "source": [
    "## Plotting a simple sine wave\n",
    "rate = 44100\n",
    "samples = 1024\n",
    "t_max = samples/rate\n",
    "t_ms = linspace(0,1000*t_max,samples)\n",
    "t = linspace(0,t_max,samples)\n",
    "\n",
    "figA = go.Figure(data=go.Scatter(x= t_ms, y=sin(2*pi*200*t), mode='lines'))\n",
    "figA.update_xaxes(title_text='Time (mS)').update_yaxes(title_text='Amplitude')\n",
    "figA.update_layout(title = \"Sine Wave at 200 Hz\")\n",
    "display(figA)\n"
   ]
  },
  {
   "cell_type": "code",
   "execution_count": null,
   "id": "1bf87ce1",
   "metadata": {},
   "outputs": [],
   "source": [
    "## Plotting a sum of sine waves\n",
    "rate = 44100\n",
    "samples = 1024\n",
    "t_max = samples/rate\n",
    "t_ms = linspace(0,1000*t_max,samples)\n",
    "t = linspace(0,t_max,samples)\n",
    "\n",
    "figB = go.Figure(data=go.Scatter(x= t_ms, y=sin(2*pi*200*t), mode='lines', name=\"1.00 Sine(200 Hz)\"))\n",
    "figB.add_scatter(x= t_ms, y=sin(6*pi*200*t)/3, mode='lines',name=\"0.33 Sine(600 Hz)\")\n",
    "figB.add_scatter(x= t_ms, y=(sin(2*pi*200*t)+sin(6*pi*200*t)/3), mode='markers',name=\"Sum of Sines\")\n",
    "figB.update_xaxes(title_text='Time (mS)').update_yaxes(title_text='Amplitude')\n",
    "figB.update_layout(title = \"Sum of two sine waves\")\n",
    "display(figB)"
   ]
  },
  {
   "cell_type": "markdown",
   "id": "3d2651df",
   "metadata": {},
   "source": [
    "[![Callysto.ca License](https://github.com/callysto/curriculum-notebooks/blob/master/callysto-notebook-banner-bottom.jpg?raw=true)](https://github.com/callysto/curriculum-notebooks/blob/master/LICENSE.md)"
   ]
  }
 ],
 "metadata": {
  "kernelspec": {
   "display_name": "Python 3 (ipykernel)",
   "language": "python",
   "name": "python3"
  },
  "language_info": {
   "codemirror_mode": {
    "name": "ipython",
    "version": 3
   },
   "file_extension": ".py",
   "mimetype": "text/x-python",
   "name": "python",
   "nbconvert_exporter": "python",
   "pygments_lexer": "ipython3",
   "version": "3.10.5"
  }
 },
 "nbformat": 4,
 "nbformat_minor": 5
}
