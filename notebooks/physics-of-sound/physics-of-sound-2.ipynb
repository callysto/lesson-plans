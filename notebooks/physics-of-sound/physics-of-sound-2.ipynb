{
 "cells": [
  {
   "cell_type": "markdown",
   "id": "22013bbb",
   "metadata": {},
   "source": [
    "![Callysto.ca Banner](https://github.com/callysto/curriculum-notebooks/blob/master/callysto-notebook-banner-top.jpg?raw=true)"
   ]
  },
  {
   "cell_type": "markdown",
   "id": "3f5f7219",
   "metadata": {},
   "source": [
    "# Physics of Sound, Part two\n",
    "\n",
    "In this short notebook, we use an oscilloscope on the screen to visualize the sounds around us.\n",
    "\n",
    "The oscilloscopes captures sound from your computer's microphone, translates it into a sequence of numbers representing the changes in air pressure, as a function of time. The result is a plot in the x-y plane, displaying amplitude as a function of time. \n"
   ]
  },
  {
   "cell_type": "markdown",
   "id": "986b4278",
   "metadata": {},
   "source": [
    "![Warning](images/warning_2.png)\n",
    "![Warning](images/warning_1.png)\n",
    "\n",
    "## WARNING:\n",
    "This notebook will play a variety of sounds to help you learn about sounds. It can be VERY LOUD so be sure to turn down the volume on your computer before beginning."
   ]
  },
  {
   "cell_type": "markdown",
   "id": "799f7492",
   "metadata": {},
   "source": [
    "## Setting up\n",
    "\n",
    "Run the next two code cells to set up the oscilloscope.\n",
    "\n",
    "Your browser may ask permission to access your microphone, as input to the oscilloscope. Just say yes."
   ]
  },
  {
   "cell_type": "code",
   "execution_count": null,
   "id": "4b381234",
   "metadata": {},
   "outputs": [],
   "source": [
    "import plotly.graph_objects as go\n",
    "from IPython.display import Audio, display, Javascript\n",
    "from numpy import pi, sin, linspace, maximum, minimum, random\n",
    "from ipywidgets import interactive, FloatLogSlider\n"
   ]
  },
  {
   "cell_type": "code",
   "execution_count": null,
   "id": "da55146e",
   "metadata": {},
   "outputs": [],
   "source": [
    "myDataArray = linspace(0,1,1024)\n",
    "\n",
    "fig = go.Figure(data=go.Scatter(y=myDataArray, mode='lines'))\n",
    "fig.update_xaxes(title_text='Sample no. (time)').update_yaxes(title_text='Amplitude')\n",
    "fig.update_layout(yaxis_range=[-.3,.3])\n",
    "f = go.FigureWidget(fig)\n",
    "display(Javascript(filename=\"oscilloscope.js\"))\n",
    "\n",
    "f"
   ]
  },
  {
   "cell_type": "markdown",
   "id": "dd8b89c8",
   "metadata": {},
   "source": [
    "## Starting and stopping\n",
    "\n",
    "The following two cells are to start and stop the oscilloscope. Otherwise, the drawing is running all the time and can slow down the computer from other tasks. \n"
   ]
  },
  {
   "cell_type": "markdown",
   "id": "aa8ce9de",
   "metadata": {},
   "source": [
    "## STOP!   Run the next cell to stop the oscilloscope."
   ]
  },
  {
   "cell_type": "code",
   "execution_count": null,
   "id": "cc7a7e32",
   "metadata": {},
   "outputs": [],
   "source": [
    "Javascript(\"window.killDraw=true;\")"
   ]
  },
  {
   "cell_type": "markdown",
   "id": "39e978b7",
   "metadata": {},
   "source": [
    "## RESTART!!  Run the next cell to restart the oscilloscope."
   ]
  },
  {
   "cell_type": "code",
   "execution_count": null,
   "id": "618f0d11",
   "metadata": {},
   "outputs": [],
   "source": [
    "## Run this cell to restart the drawing\n",
    "Javascript(\"window.killDraw=true; window.myVis();\")"
   ]
  },
  {
   "cell_type": "markdown",
   "id": "6d74a03b",
   "metadata": {},
   "source": [
    "## What to observe\n",
    "\n",
    "1. As you make noise around the computer, various waveforms will appear on the screen.\n",
    "2. The height of the waveform indicates amplitude. The shape of the waveform is related to timbre.\n",
    "3. The number of repeating waveforms on the screen is related to pitch. More cycles indicates a higher frequency.\n",
    "4. You make click on the \"Download plot\" button in the graphic above, to get a snapshot of the waveform.\n",
    "5. The code cell below is can be used to create sounds of various amplitudes, pitches and timbre. Try it out, and observe the results in the oscilloscope above. "
   ]
  },
  {
   "cell_type": "markdown",
   "id": "07010c62",
   "metadata": {},
   "source": [
    "## Creating a variety of tones\n",
    "\n",
    "Run the following cell to create a variety of sound with different pitches, amplitudes, and timbres. Take a look at the oscilloscope while the sounds are being created. Can you see the differences?"
   ]
  },
  {
   "cell_type": "code",
   "execution_count": null,
   "id": "e421b3ae",
   "metadata": {},
   "outputs": [],
   "source": [
    "def set_all(Autoplay=False,Hz = 220.0, Amp = 1.0, Timbre=1.0):\n",
    "    global signal\n",
    "    t_max = 10\n",
    "    rate = 44100\n",
    "    t = linspace(0,t_max,rate*t_max)\n",
    "    signal = sin(2*pi*Hz*t)\n",
    "    signal = minimum(signal,Timbre)\n",
    "    signal = maximum(signal,-Timbre)\n",
    "    signal = Amp*signal + sin(pi*t/t_max)\n",
    "    display(Audio(data=signal, rate=rate,autoplay=Autoplay))\n",
    "    return signal\n",
    "\n",
    "v5 = interactive(set_all, Autoplay=False, Hz=(110.0,440.0), Amp=(0.0,1.0), Timbre=(0.1,1.0))\n",
    "display(v5)"
   ]
  },
  {
   "cell_type": "markdown",
   "id": "23e05010",
   "metadata": {},
   "source": [
    "## Questions\n",
    "\n",
    "1. As you adjust the freqwuency (Hz), what changes in the waveform shown on the oscilloscope? Can you hear the change?\n",
    "2. As you adjust the amplitude (Amp), what changes in the waveform shown the oscilloscope? Can you hear the change?\n",
    "3. As you adjust the timbre, what changes in the waveform shown on the oscilloscope? Can you hear the change?\n",
    "4. The following cell shows the mathematical signal used to synthesize the waveform. Does it look like the oscilloscope?"
   ]
  },
  {
   "cell_type": "markdown",
   "id": "0688e6e2",
   "metadata": {},
   "source": [
    "## Run the following to see the synthetic waveform. "
   ]
  },
  {
   "cell_type": "code",
   "execution_count": null,
   "id": "b8d34a70",
   "metadata": {},
   "outputs": [],
   "source": [
    "go.Figure(data=go.Scatter( y=signal[0:1024], mode='lines')).\\\n",
    "    update_xaxes(title_text='Sample no. (time)').\\\n",
    "    update_yaxes(title_text='Amplitude')"
   ]
  },
  {
   "cell_type": "markdown",
   "id": "08f4fc7b",
   "metadata": {},
   "source": [
    "## Challenging questions\n",
    "\n",
    "1. When timbre is set to 1.0, the sound is a sine wave or a very pure tone. The oscilloscope snapshot looks very close to a sinusoid, and matches the synthetic waveform. Why is this?\n",
    "2. When the timbre is set to 0.1, the sound is a synthesized as a clipped sinusoid, which looks like a square wave. The waveform on the oscilloscope looks quite different. How would you describe the shape of the waveform on the oscilloscope? What words would you use? Why do you think the oscilloscope waveform is different than the synthetic waveform?\n",
    "3. These waveforms have a period, or length, in the display, which is measured in sample number. The x-axis is labeled with samples numbers going from 0 to 1024. Counting the distance between the repeating peaks gives the period. For instance, in the image here, the period is 200 samples per cycle.\n",
    "![sine wave](images/sine.png)\n",
    "The connection between frequency and period is given by the formuls\n",
    "$$ Frequency = \\frac{Sample \\, rate}{Period}.$$\n",
    "In the above example, the Sample rate is 44100 samples per second. So we find\n",
    "$$ 220.5 \\, cycles \\, per \\, sec = \\frac{44100 \\, samples \\, per \\, sec }{200\\,  samples \\, per \\, cycle}.$$\n",
    "That is, we have a tone at a frequency of 220.5 Hz. \n",
    "4. Can you verify this formula for other frequencies and periods? \n",
    "\n",
    "NB: In this example, the sample rate was 44100 samples per second. This rate is a common industry standard, also used in recording CDs and audio files for the web. Other common sample rates are:\n",
    "- 8,000 samples per second (for cell phones)\n",
    "- 10,000 samples per second (on old computers)\n",
    "- 22,050 samples per second (half the CD rate)\n",
    "- 44,100 samples per second (CDs and high quality audio)\n",
    "- 48,000 samples per second (movie sound tracks)\n",
    "- 96,000 samples per second (high end digital audio)\n",
    "\n",
    "With this oscilloscope, you can verify that the computer's sampling rate is 44100 or something else. \n",
    "\n",
    " 5. What is the sample rate on your computer?\n"
   ]
  },
  {
   "cell_type": "markdown",
   "id": "3d2651df",
   "metadata": {},
   "source": [
    "[![Callysto.ca License](https://github.com/callysto/curriculum-notebooks/blob/master/callysto-notebook-banner-bottom.jpg?raw=true)](https://github.com/callysto/curriculum-notebooks/blob/master/LICENSE.md)"
   ]
  }
 ],
 "metadata": {
  "kernelspec": {
   "display_name": "Python 3 (ipykernel)",
   "language": "python",
   "name": "python3"
  },
  "language_info": {
   "codemirror_mode": {
    "name": "ipython",
    "version": 3
   },
   "file_extension": ".py",
   "mimetype": "text/x-python",
   "name": "python",
   "nbconvert_exporter": "python",
   "pygments_lexer": "ipython3",
   "version": "3.10.5"
  }
 },
 "nbformat": 4,
 "nbformat_minor": 5
}
