{
 "cells": [
  {
   "cell_type": "markdown",
   "id": "22013bbb",
   "metadata": {},
   "source": [
    "![Callysto.ca Banner](https://github.com/callysto/curriculum-notebooks/blob/master/callysto-notebook-banner-top.jpg?raw=true)"
   ]
  },
  {
   "attachments": {},
   "cell_type": "markdown",
   "id": "3f5f7219",
   "metadata": {},
   "source": [
    "# Physics of Sound, Part Two of Four\n",
    "\n",
    "---\n",
    "\n",
    "## <font color=\"#FF0000\">WARNING:</font>\n",
    "\n",
    "This notebook will play a variety of sounds to help you learn about sounds. It can be **<font color=\"#FF0000\">VERY LOUD</font>** so be sure to turn down the volume on your computer before beginning.\n",
    "\n",
    "---\n",
    "\n",
    "In this short notebook we will use an [oscilloscope](https://en.wikipedia.org/wiki/Oscilloscope) on the screen to visualize the sounds around us.\n",
    "\n",
    "The oscilloscopes captures sound from your computer's microphone, translates it into a sequence of numbers representing the changes in air pressure, as a function of time. The result is a plot in the x-y plane, displaying amplitude as a function of time."
   ]
  },
  {
   "attachments": {},
   "cell_type": "markdown",
   "id": "799f7492",
   "metadata": {},
   "source": [
    "## Setting up\n",
    "\n",
    "Run the following code cell to set up the oscilloscope. Your browser may ask permission to access your microphone, as input to the oscilloscope. Just say yes."
   ]
  },
  {
   "cell_type": "code",
   "execution_count": null,
   "id": "da55146e",
   "metadata": {},
   "outputs": [],
   "source": [
    "import plotly.graph_objects as go\n",
    "from IPython.display import Audio, display, Javascript\n",
    "from numpy import pi, sin, linspace, maximum, minimum, random\n",
    "from ipywidgets import interactive, FloatLogSlider\n",
    "\n",
    "myDataArray = linspace(0,1,1024)\n",
    "fig = go.Figure(data=go.Scatter(y=myDataArray, mode='lines'))\n",
    "fig.update_xaxes(title_text='Sample no. (time)').update_yaxes(title_text='Amplitude')\n",
    "fig.update_layout(yaxis_range=[-.3,.3])\n",
    "f = go.FigureWidget(fig)\n",
    "display(Javascript(filename=\"oscilloscope.js\"))\n",
    "f"
   ]
  },
  {
   "attachments": {},
   "cell_type": "markdown",
   "id": "dd8b89c8",
   "metadata": {},
   "source": [
    "## Starting and Stopping\n",
    "\n",
    "The following two cells are to start and stop the oscilloscope. Otherwise, the drawing is running all the time and can slow down the computer\n",
    "\n",
    "### Run the next cell to <font color=\"#FF0000\">stop</font> the oscilloscope."
   ]
  },
  {
   "cell_type": "code",
   "execution_count": null,
   "id": "cc7a7e32",
   "metadata": {},
   "outputs": [],
   "source": [
    "Javascript(\"window.killDraw=true;\")"
   ]
  },
  {
   "attachments": {},
   "cell_type": "markdown",
   "id": "39e978b7",
   "metadata": {},
   "source": [
    "### Run the next cell to <font color=\"#FF0000\">restart</font> the oscilloscope."
   ]
  },
  {
   "cell_type": "code",
   "execution_count": null,
   "id": "618f0d11",
   "metadata": {},
   "outputs": [],
   "source": [
    "Javascript(\"window.killDraw=true; window.myVis();\")"
   ]
  },
  {
   "attachments": {},
   "cell_type": "markdown",
   "id": "6d74a03b",
   "metadata": {},
   "source": [
    "## What to observe\n",
    "\n",
    "* As you make sound around the computer, various waveforms will appear on the screen.\n",
    "* The height of the waveform indicates amplitude. The shape of the waveform is related to timbre.\n",
    "* The number of repeating waveforms on the screen is related to pitch. More cycles indicates a higher frequency.\n",
    "* You can click on the `📷Download plot` button at the top right of the oscilloscope to get a snapshot of the waveform.\n",
    "\n",
    "## Creating a variety of tones\n",
    "\n",
    "Run the following cell to create a variety of sound with different pitches, amplitudes, and timbres. Take a look at the oscilloscope while the sounds are being created. Can you see the differences?"
   ]
  },
  {
   "cell_type": "code",
   "execution_count": null,
   "id": "e421b3ae",
   "metadata": {},
   "outputs": [],
   "source": [
    "def set_all(Autoplay=False,Hz = 220.0, Amp = 1.0, Timbre=1.0):\n",
    "    global signal\n",
    "    t_max = 10\n",
    "    rate = 44100\n",
    "    t = linspace(0,t_max,rate*t_max)\n",
    "    signal = sin(2*pi*Hz*t)\n",
    "    signal = minimum(signal,Timbre)\n",
    "    signal = maximum(signal,-Timbre)\n",
    "    signal = Amp*signal + sin(pi*t/t_max)\n",
    "    display(Audio(data=signal, rate=rate,autoplay=Autoplay))\n",
    "    return signal\n",
    "\n",
    "v5 = interactive(set_all, Autoplay=False, Hz=(110.0,440.0), Amp=(0.0,1.0), Timbre=(0.1,1.0))\n",
    "display(v5)"
   ]
  },
  {
   "attachments": {},
   "cell_type": "markdown",
   "id": "23e05010",
   "metadata": {},
   "source": [
    "## Questions\n",
    "\n",
    "1. As you adjust the frequency (Hz), what changes in the waveform shown on the oscilloscope? Can you hear the change?\n",
    "2. As you adjust the amplitude (Amp), what changes in the waveform shown the oscilloscope? Can you hear the change?\n",
    "3. As you adjust the timbre, what changes in the waveform shown on the oscilloscope? Can you hear the change?\n",
    "4. The following cell displays the mathematical signal used to synthesize the waveform. Does it look like the oscilloscope?"
   ]
  },
  {
   "cell_type": "code",
   "execution_count": null,
   "id": "b8d34a70",
   "metadata": {},
   "outputs": [],
   "source": [
    "go.Figure(data=go.Scatter( y=signal[0:1024], mode='lines')).\\\n",
    "    update_xaxes(title_text='Sample no. (time)').\\\n",
    "    update_yaxes(title_text='Amplitude')"
   ]
  },
  {
   "attachments": {},
   "cell_type": "markdown",
   "id": "08f4fc7b",
   "metadata": {},
   "source": [
    "## Challenge Questions\n",
    "\n",
    "1. When timbre is set to 1.0, the sound is a very pure tone and the oscilloscope snapshot looks like a sine wave. Why is this?\n",
    "2. When the timbre is set to 0.1, the sound is a synthesized as a clipped sinusoid, which looks like a square wave. The waveform on the oscilloscope looks quite different. How would you describe the shape of the waveform on the oscilloscope? What words would you use? Why do you think the oscilloscope waveform is different than the synthetic waveform?\n",
    "3. These waveforms have a period, or length, in the display, which is measured in sample number. The x-axis is labeled with samples numbers going from 0 to 1024. Counting the distance between the repeating peaks gives the period. For instance, in the image here, the period is 200 samples per cycle.\n",
    "\n",
    "![sine wave](images/sine.png)\n",
    "\n",
    "The connection between frequency and period is given by the formuls\n",
    "$$ Frequency = \\frac{Sample \\, rate}{Period}$$\n",
    "In the above example, the Sample rate is 44100 samples per second. So we find\n",
    "$$ 220.5 \\, cycles \\, per \\, sec = \\frac{44100 \\, samples \\, per \\, sec }{200\\,  samples \\, per \\, cycle}$$\n",
    "That is, we have a tone at a frequency of 220.5 Hz.\n",
    "\n",
    "4. Can you verify this formula for other frequencies and periods? \n",
    "\n",
    "In this example, the sample rate was 44100 samples per second. This rate is a common industry standard, also used in recording CDs and audio files. Other common sample rates are:\n",
    "- 8,000 samples per second (for cell phones)\n",
    "- 10,000 samples per second (on old computers)\n",
    "- 22,050 samples per second (half the CD rate)\n",
    "- 44,100 samples per second (CDs and high quality audio)\n",
    "- 48,000 samples per second (movie sound tracks)\n",
    "- 96,000 samples per second (high end digital audio)\n",
    "\n",
    "With this oscilloscope, you can verify if the computer's sampling rate is 44100 or something else. \n",
    "\n",
    " 5. What is the sample rate of your computer?"
   ]
  },
  {
   "attachments": {},
   "cell_type": "markdown",
   "id": "003d701d",
   "metadata": {},
   "source": [
    "# Summary\n",
    "\n",
    "This notebook demonstrated an oscilloscope to look at wave patterns in sounds.\n",
    "\n",
    "The next notebook is about [visualizing sounds with a spectroscope](physics-of-sound-3.ipynb)."
   ]
  },
  {
   "cell_type": "markdown",
   "id": "3d2651df",
   "metadata": {},
   "source": [
    "[![Callysto.ca License](https://github.com/callysto/curriculum-notebooks/blob/master/callysto-notebook-banner-bottom.jpg?raw=true)](https://github.com/callysto/curriculum-notebooks/blob/master/LICENSE.md)"
   ]
  }
 ],
 "metadata": {
  "kernelspec": {
   "display_name": "Python 3",
   "language": "python",
   "name": "python3"
  },
  "language_info": {
   "codemirror_mode": {
    "name": "ipython",
    "version": 3
   },
   "file_extension": ".py",
   "mimetype": "text/x-python",
   "name": "python",
   "nbconvert_exporter": "python",
   "pygments_lexer": "ipython3",
   "version": "3.10.1"
  },
  "vscode": {
   "interpreter": {
    "hash": "d1ca6d17674200220921376aaeb3d36cffe15ecab2470a9a5e7a456cdbf61425"
   }
  }
 },
 "nbformat": 4,
 "nbformat_minor": 5
}
