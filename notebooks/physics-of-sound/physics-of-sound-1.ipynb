{
 "cells": [
  {
   "cell_type": "markdown",
   "metadata": {},
   "source": [
    "![Callysto.ca Banner](https://github.com/callysto/curriculum-notebooks/blob/master/callysto-notebook-banner-top.jpg?raw=true)"
   ]
  },
  {
   "cell_type": "markdown",
   "metadata": {
    "slideshow": {
     "slide_type": "slide"
    }
   },
   "source": [
    "# Physics of Sound - Part One"
   ]
  },
  {
   "cell_type": "markdown",
   "metadata": {},
   "source": [
    "![Warning](images/warning_2.png)\n",
    "![Warning](images/warning_1.png)\n",
    "\n",
    "## WARNING:\n",
    "This notebook will play a variety of sounds to help you learn about sounds. It can be VERY LOUD so be sure to turn down the volume on your computer before beginning."
   ]
  },
  {
   "cell_type": "markdown",
   "metadata": {
    "slideshow": {
     "slide_type": "slide"
    }
   },
   "source": [
    "## What is sound?\n",
    "\n",
    "Sound is simply the rapid variations, or **vibrations** in air pressure that we hear in our ears as sound. Some sounds are produced by regular vibrations of a physical object like the strings on a guitar or the head of a drum. Other sounds are more random, coming for instance from the motion of wind through leaves on a tree. \n",
    "\n",
    "The tines of a tuning fork oscillate back and forth when struck. \n",
    "\n",
    "![tuning fork image](images/tuningfork.jpg)\n",
    "\n",
    "The stings on a violin vibrate when rubbed by a bow.\n",
    "![volin image](images/violin.jpg)\n",
    "\n",
    "\n",
    "For the more regular vibrations, the sounds often seem like musical notes to us. For such sounds, there are three\n",
    "important characteristics:\n",
    "- the **Amplitude** or loudness\n",
    "- the **Pitch** which is the speed of the vibrations\n",
    "- the **Timbre** or quality of the sound\n",
    "\n",
    "Our ears can sense changes in all these thre characteristics. It is what helps us identify what thing is creating a sound. For instance, we can tell the difference between the sound of a musical instrument, or a person talking. \n",
    "\n",
    "We can use the computer to create sounds and play around with these three characteristics. "
   ]
  },
  {
   "cell_type": "markdown",
   "metadata": {},
   "source": [
    "## Amplitude\n",
    "\n",
    "The amplitude of a sound is a measure of how loud it is. For instance, a whisper is a very low amplitude sound while the roar of a motorcycle is a very loud sound. Loudness is measured in **Bels**, in honour of inventor Alexander Graham Bell. We usually use the unit of **decibels** (one-tenth of a Bel) when we talk about sound. \n",
    "\n",
    "On the computer, it is difficult to create a sound with a specific loudness or decibel rating, becauase each computer has a different set of speakers, and the computer user can adjust the volume setting pretty much arbitrarily. So it is useful to think of familiar sounds and know what their loudness is. \n",
    "\n",
    "| Sound       | Decibel leve |\n",
    "| ----------- | ----------- |\n",
    "| Softest sound that can be heard      | 0 dB       |\n",
    "| Breathing   | 10 dB        |\n",
    "| Watch ticking   | 20 dB        |\n",
    "| Whisper   | 30 dB        |\n",
    "| Refrigerator hun   | 40 dB        |\n",
    "| Normal conversation   | 60 dB        |\n",
    "| Lawn mover    | 80 dB        |\n",
    "| Subway train, car horn    | 100 dB        |\n",
    "| Rock concert    | 110 dB        |\n",
    "| Siren  nearby    | 120 dB        |\n",
    "| Firecrackers nearby    | 140 dB        |\n"
   ]
  },
  {
   "cell_type": "markdown",
   "metadata": {},
   "source": [
    "## Playing with amplitude\n",
    "\n",
    "Run the following two cells of code to set up a \"slider\" to play sounds of different amplitude. \n",
    "\n",
    "As you move the slider back and forth, you will hear changes in the loudness, or amplitude, of the sound. "
   ]
  },
  {
   "cell_type": "code",
   "execution_count": null,
   "metadata": {},
   "outputs": [],
   "source": [
    "# We import the libraries numpy, matplotlib and widgets to make this work. And some audio tools\n",
    "%matplotlib inline\n",
    "import matplotlib.pyplot as plt\n",
    "from numpy import pi, sin, linspace, maximum, minimum, random\n",
    "from ipywidgets import interactive, FloatLogSlider\n",
    "from IPython.display import Audio, display"
   ]
  },
  {
   "cell_type": "code",
   "execution_count": null,
   "metadata": {},
   "outputs": [],
   "source": [
    "# vary amplitude\n",
    "def set_amp(Amp=1.0):\n",
    "    t_max = 5\n",
    "    rate = 44100\n",
    "    Hz = 220\n",
    "    t = linspace(0,t_max,rate*t_max)\n",
    "    signal = Amp*sin(2*pi*Hz*t) + sin(2*pi*10*t) # add the inaudible 10Hz to stop normalization\n",
    "    display(Audio(data=signal, rate=rate,autoplay=True))\n",
    "    return signal\n",
    "\n",
    "v1 = interactive(set_amp, Amp=(0.0,1.0))\n",
    "display(v1)"
   ]
  },
  {
   "cell_type": "markdown",
   "metadata": {},
   "source": [
    "## Pitch\n",
    "\n",
    "Pitch has to do with the rate of vibration. It is measured in **cycles per second** or **Hertz** in honour of [Heinrich Hertz](https://en.wikipedia.org/wiki/Heinrich_Hertz), who studied [electromagnetic waves](https://science.nasa.gov/ems/02_anatomy) in the 19th century. The pitch of a sound is usually directly related to the thing that is vibrating and the rate at which it vibrates.\n",
    "\n",
    "For instance, a [tuning fork](https://en.wikipedia.org/wiki/Tuning_fork) makes sound because its tines are quickly moving back and forth. usually several hundred times per second. A violin makes sounds because the strings are vibrating, with the sound amplified by the wooden body of the instrumnet. A violin string can vibrate from several hundred to several thousand times per second. \n",
    "\n",
    "Low frequency sounds are caused by very slow vibrations -- think of a fog horn or whale call. High frequency sounds are caused by very rapid vibrations -- think of birds or bat sounds, or fingers scratching along a chalkboard. \n",
    "\n",
    "Our ears are limited in what pitches we can hear. A yound person with healthy ears can typically hear sounds with frequencies in the range of 20 Hz to 20,000 Hz. A piano can create notes with frequencies from about 25 Hz to  4000 Hz\n",
    "\n",
    "[Wikipedia Hearing Range](https://en.wikipedia.org/wiki/Hearing_range): Ranges of frequencies of animals\n",
    "\n",
    "![frequency chart](./images/frequencychart.png)\n",
    "\n",
    "The next code cell lets you create a sound of various pitches. Run the cell, then move the slider back and forth to hear tones of different frequencies."
   ]
  },
  {
   "cell_type": "code",
   "execution_count": null,
   "metadata": {},
   "outputs": [],
   "source": [
    "# Vary frequency\n",
    "def set_freq(Hz=220.0):\n",
    "    t_max = 5 # max time in seconds\n",
    "    rate = 44100\n",
    "    t = linspace(0,t_max,rate*t_max)\n",
    "    signal = sin(2*pi*Hz*t)\n",
    "    display(Audio(data=signal, rate=rate,autoplay=True))\n",
    "    return signal\n",
    "\n",
    "v2 = interactive(set_freq, Hz=(110.0,440.0))\n",
    "display(v2)"
   ]
  },
  {
   "cell_type": "markdown",
   "metadata": {},
   "source": [
    "## Range of pitches\n",
    "\n",
    "Since we can hear such a large range of pitches, let's try another slider that ranges from 10Hz to 10,000 Hz.\n",
    "\n",
    "Note that most computers cannot create sounds in this full range, due to limitations in their electronics and in their speaker system. A very high quality music system should be able to reproduce all these tones.\n",
    "\n",
    "Howover, it is important to observe that you may not be able to hear all these sounds. It could be your computer is not able to produce such a range of tones. Or it could be your ears. Compare with your friends -- if none of you can hear a particular sound in this range of frequencies, it is probably the computer that is not producing the sound. "
   ]
  },
  {
   "cell_type": "code",
   "execution_count": null,
   "metadata": {},
   "outputs": [],
   "source": [
    "#vary tone on a large scale\n",
    "slide = FloatLogSlider(\n",
    "    value=220,\n",
    "    base=10,\n",
    "    min=1, # max exponent of base\n",
    "    max=4, # min exponent of base\n",
    "    step=0.01 # exponent step\n",
    "   )\n",
    "\n",
    "v3 = interactive(set_freq,Hz=slide)\n",
    "                 \n",
    "display(v3)"
   ]
  },
  {
   "cell_type": "markdown",
   "metadata": {},
   "source": [
    "## Timbre\n",
    "\n",
    "Timbre is the quality of the sound. This is the quality that allows us to distingush between the sound of a flute and the sound of a violin, or other musical instruments. It has to do with the complexity of the vibrations, specifically on the complexity of the object that is vibrating.\n",
    "\n",
    "On the computer, we can simulate different timbres by *clipping* a sinusoidal waveform. Let's not worry about the mechanics of this, just try it out in the following. Run the code cell below, and move the slider to obtain sounds with different pitches.\n",
    "\n"
   ]
  },
  {
   "cell_type": "code",
   "execution_count": null,
   "metadata": {},
   "outputs": [],
   "source": [
    "# vary timbre\n",
    "def set_timbre(Timbre=1.0):\n",
    "    t_max = 5\n",
    "    rate = 44100\n",
    "    Hz = 220\n",
    "    t = linspace(0,t_max,rate*t_max)\n",
    "    signal = sin(2*pi*Hz*t)\n",
    "    signal = minimum(signal,Timbre)\n",
    "    signal = maximum(signal,-Timbre)\n",
    "    display(Audio(data=signal, rate=rate,autoplay=True))\n",
    "    return signal\n",
    "\n",
    "v4 = interactive(set_timbre, Timbre=(0.01,1.0))\n",
    "display(v4)"
   ]
  },
  {
   "cell_type": "markdown",
   "metadata": {},
   "source": [
    "## Interactive play\n",
    "\n",
    "Let's have some fun with this sound generation.\n",
    "\n",
    "Run the following code cell, and play with the three sliders to  vary all three characteristics: Pitch, Amplitude and Timbre."
   ]
  },
  {
   "cell_type": "code",
   "execution_count": null,
   "metadata": {},
   "outputs": [],
   "source": [
    "# vary frequency, amplitude, timbre\n",
    "def set_all(Hz = 220.0, Amp = 1.0, Timbre=1.0):\n",
    "    t_max = 5\n",
    "    rate = 44100\n",
    "    t = linspace(0,t_max,rate*t_max)\n",
    "    signal = sin(2*pi*Hz*t)\n",
    "    signal = minimum(signal,Timbre)\n",
    "    signal = maximum(signal,-Timbre)\n",
    "    signal = Amp*signal + sin(2*pi*10*t)\n",
    "    display(Audio(data=signal, rate=rate,autoplay=True))\n",
    "    return signal\n",
    "\n",
    "v5 = interactive(set_all, Hz = (110.0,440.0), Amp=(0.0,1.0), Timbre=(0.1,1.0))\n",
    "display(v5)"
   ]
  },
  {
   "cell_type": "markdown",
   "metadata": {},
   "source": [
    "## Questions\n",
    "\n",
    "1. Can you hear the difference between changing the frequency, and changing the timbre?\n",
    "2. Is there a combination of frequency and timbre that sounds really good to you? Why is that? \n",
    "3. Is there a combination of frequency and timbre that sounds really bad or annoying to you? Why is that? \n",
    "4. Are there any combinations of frequency and timbre that you recognize in real life and what are they? \n"
   ]
  },
  {
   "cell_type": "markdown",
   "metadata": {},
   "source": [
    "## Interactive hearing test\n",
    "\n",
    "Let's do a little test to see what range of frequencies your ears can detect.\n",
    "\n",
    "Most people with normal hearing can hear sounds at 5,000 Hz, although it is an annoying sound to listen to. Most people struggle to hear a sound at 20,000 Hz. The following test lets you experiment with that range of frequencies, to see what you can hear or not hear.\n",
    "\n",
    "Run the following code cell. When you move the slider, the computer will produce two, three or four tones at the given frequency. If you can count the pulses, you can hear this frequency. If you can't count the pulses, you likely cannote hear this frequency. \n",
    "\n",
    "Try various frequencies, to see what you can hear and cannot hear.\n",
    "\n",
    "(Keep in mind, though, that perhaps your computer speakers are not able to generate certian high frequencies. Double check by asking a friend to listen as well,)\n",
    "\n"
   ]
  },
  {
   "cell_type": "code",
   "execution_count": null,
   "metadata": {},
   "outputs": [],
   "source": [
    "# Vary frequency\n",
    "def set_freq_pulses(Hz=5000):\n",
    "    t_max = 5 # max time in seconds\n",
    "    pulses = random.randint(2,5) # the number of pulses to generate\n",
    "    rate = 44100\n",
    "    t = linspace(0,t_max,rate*t_max)\n",
    "    signal = sin(2*pi*Hz*t)*sin(pi*pulses*t/t_max)**2\n",
    "    display(Audio(data=signal, rate=rate,autoplay=True))\n",
    "    return signal\n",
    "\n",
    "v6 = interactive(set_freq_pulses, Hz=(5000,20000))\n",
    "display(v6)"
   ]
  },
  {
   "cell_type": "markdown",
   "metadata": {},
   "source": [
    "## Questions\n",
    "\n",
    "1. What is the highest frequency you can hear in this test?\n",
    "2. Who amongst your friends can hear the highest frequencies?\n",
    "3. If you are in a big class, do you notice if one group of people can hear higher than others? Is the difference perhaps based on \n",
    " - age? \n",
    " - gender?\n",
    " - teacher versus students?\n",
    " - musical training?\n",
    " - hunters? (or people routinely exposed to loud noises like rifles)\n",
    " - other differences?"
   ]
  },
  {
   "cell_type": "markdown",
   "metadata": {},
   "source": [
    "## Some thoughts on music\n",
    "\n",
    "The ancient Greeks noticed that strings of different lengths produced pleasant sounds (music) when their lengths were related by **small integer fractions** like 3/4 or 4/5. \n",
    "\n",
    "This interesting observation has to do with the pitches produced by the strings. Why they sound good to humans is an interesting question about how we perceive sound. \n",
    "\n",
    "The follow code lets you produce sounds with frequencies related by small integers. "
   ]
  },
  {
   "cell_type": "code",
   "execution_count": null,
   "metadata": {},
   "outputs": [],
   "source": [
    "## Small integer frequencies ratios sound nice\n",
    "# vary frequency, amplitude, timbre\n",
    "def set_int_freqs(Integer_1 = 2, Integer_2 = 3):\n",
    "    t_max = 5\n",
    "    rate = 44100\n",
    "    t = linspace(0,t_max,rate*t_max)\n",
    "    Hz = 220\n",
    "    signal = sin(2*pi*Integer_1*Hz*t) + sin(2*pi*Integer_2*Hz*t + .1) # add a weird phase\n",
    "    display(Audio(data=signal, rate=rate,autoplay=True))\n",
    "    return signal\n",
    "\n",
    "v7 = interactive(set_int_freqs, Integer_1 = (1,9), Integer_2=(1,9))\n",
    "display(v7)\n",
    "\n"
   ]
  },
  {
   "cell_type": "markdown",
   "metadata": {},
   "source": [
    "## Questions\n",
    "\n",
    "1. Which combination of tones sound good to you?\n",
    "2. Whcih combinations sound strange to you?\n",
    "3. If you play a musical instrument, do you recognize any of these as musical intervals on a scale?"
   ]
  },
  {
   "cell_type": "markdown",
   "metadata": {},
   "source": [
    "## Interactive Beats\n",
    "\n",
    "There is an interesting psycho-acoustical phenomena we can observe in humans, which is how we perceive two tones that are close in frequency. Usually, two tones playing at the same time are heard by our ears as two separate tones. But if they are close in frequency, we hear only one tone that **beats** loud and soft. \n",
    "\n",
    "Why this happens is an interesting question about both how our ears work, and how our brain works.\n",
    "\n",
    "You can experiment with this by running the following code cell. "
   ]
  },
  {
   "cell_type": "code",
   "execution_count": null,
   "metadata": {},
   "outputs": [],
   "source": [
    "def beat_freq(f1_Hz=220.0, f2_Hz=224.0):\n",
    "    t_max = 5\n",
    "    rate = 44100\n",
    "    t = linspace(0,t_max,rate*t_max)\n",
    "    signal = sin(2*pi*f1_Hz*t) + sin(2*pi*f2_Hz*t)\n",
    "    display(Audio(data=signal, rate=rate,autoplay=True))\n",
    "    return signal\n",
    "\n",
    "v8 = interactive(beat_freq, f1_Hz=(200.0,300.0), f2_Hz=(200.0,300.0))\n",
    "display(v8)"
   ]
  },
  {
   "cell_type": "markdown",
   "metadata": {},
   "source": [
    "## Questions and activities\n",
    "\n",
    "1. Using the two sliders above, move the sliders to hear two sounds of different frequencies.\n",
    "2. If you set both sliders to the same frequency, you should hear just one tone. Do you?\n",
    "3. If you set the sliders to different, but close frequencies (like 220 and 224 Hz), you will hear beats. Do you?\n",
    "4. If you set the sliders to different, far apart freqeuncies (like 220 and 275 Hz), you will hear a musical chord. Do you?\n",
    "5. How close do the frequencies need to be for you to hear beats?\n",
    "6. How far apart do the frequencies need to be for you to hear something like a musical chord?\n",
    "7. If the frequencies differ by 3 Hz (like 220 and 223 Hz), how many beats per second do you hear? If you can't hear it, make a guess. (It is just arithmetic!)\n",
    "8. Does the number of beats per second only depend on the difference of the frequencies? Or something else?\n",
    "\n",
    "By the way, using the \"arrow keys\" on your keyboard will allow you to make fine changes to the slider values. You can also type in values directly in the text box by the slider. Try it!\n",
    "\n"
   ]
  },
  {
   "cell_type": "markdown",
   "metadata": {
    "slideshow": {
     "slide_type": "slide"
    }
   },
   "source": [
    "## A really annoying sound\n",
    "\n",
    "The following sound is really annoying, so you might like to turn down the volume on your computer. \n",
    "\n",
    "Animals that use sonar for locating objects in their enviroments include whale, dophins and bats. Using their voice boxes or nasal cavities, they can produce a tone that rapidly increase in frequency. This is called a chirp, and is also the idea behind certain radar signals made by humans in the electromagnetic spectrum.\n",
    "\n",
    "We can use a chirp to explore the range of frequencies that we can hear. Humans with very good ears can hear from 20 Hz to 20,000 Hz. "
   ]
  },
  {
   "cell_type": "code",
   "execution_count": null,
   "metadata": {
    "slideshow": {
     "slide_type": "slide"
    }
   },
   "outputs": [],
   "source": [
    "def make_chirp(Hz=5000):\n",
    "    t_max = 5\n",
    "    rate = 44100\n",
    "    t = linspace(0,t_max,rate*t_max)\n",
    "    signal = sin(pi*Hz*t*t/t_max) \n",
    "    display(Audio(data=signal, rate=rate,autoplay=True))\n",
    "    return signal\n",
    "\n",
    "v9 = interactive(make_chirp, Hz=(1000,20000))\n",
    "display(v9)"
   ]
  },
  {
   "cell_type": "markdown",
   "metadata": {},
   "source": [
    "## To explore\n",
    "\n",
    "1. The slider sets the maximum frequency for the chirp. At what frequency does it get annoying to you? To your friends?\n",
    "2. Try the slider at 1000 Hz. Can you hear how the frequency starts low, then works its way up to a higher frequency?\n",
    "3. At what frequency do you stop hearing the slide? How about your friends?\n"
   ]
  },
  {
   "cell_type": "markdown",
   "metadata": {
    "slideshow": {
     "slide_type": "slide"
    }
   },
   "source": [
    "## Random numbers\n",
    "\n",
    "A list of random numbers, will create a sound. \n",
    "\n",
    "What do you think is will sound like?\n",
    "\n"
   ]
  },
  {
   "cell_type": "code",
   "execution_count": null,
   "metadata": {
    "slideshow": {
     "slide_type": "skip"
    }
   },
   "outputs": [],
   "source": [
    "Fs = 44100\n",
    "random_sound = random.randn(Fs)\n",
    "Audio(data=random_sound, rate=Fs, autoplay=True)"
   ]
  },
  {
   "cell_type": "markdown",
   "metadata": {},
   "source": [
    "## Summary\n",
    "\n",
    "This notebook was a brief introduction to the physics of sound.\n",
    "\n",
    "We generated vibrations in air pressure using code that sends a string of numbers to the computer speakers. We can vary the pitch, amplitude and timbre of the sound using simple commands. \n",
    "\n",
    "We also explored the phenomena of beats and looked into the range of frequencies that a person can hear. \n",
    "\n",
    "We used random numbers to generate noise. "
   ]
  },
  {
   "cell_type": "markdown",
   "metadata": {},
   "source": [
    "[![Callysto.ca License](https://github.com/callysto/curriculum-notebooks/blob/master/callysto-notebook-banner-bottom.jpg?raw=true)](https://github.com/callysto/curriculum-notebooks/blob/master/LICENSE.md)"
   ]
  }
 ],
 "metadata": {
  "kernelspec": {
   "display_name": "Python 3 (ipykernel)",
   "language": "python",
   "name": "python3"
  },
  "language_info": {
   "codemirror_mode": {
    "name": "ipython",
    "version": 3
   },
   "file_extension": ".py",
   "mimetype": "text/x-python",
   "name": "python",
   "nbconvert_exporter": "python",
   "pygments_lexer": "ipython3",
   "version": "3.9.12"
  },
  "vscode": {
   "interpreter": {
    "hash": "d1ca6d17674200220921376aaeb3d36cffe15ecab2470a9a5e7a456cdbf61425"
   }
  }
 },
 "nbformat": 4,
 "nbformat_minor": 4
}
