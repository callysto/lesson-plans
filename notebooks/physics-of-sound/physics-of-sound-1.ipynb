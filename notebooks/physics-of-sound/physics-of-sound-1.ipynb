{
 "cells": [
  {
   "cell_type": "markdown",
   "metadata": {},
   "source": [
    "![Callysto.ca Banner](https://github.com/callysto/curriculum-notebooks/blob/master/callysto-notebook-banner-top.jpg?raw=true)"
   ]
  },
  {
   "cell_type": "markdown",
   "metadata": {
    "slideshow": {
     "slide_type": "slide"
    }
   },
   "source": [
    "# Physics of Sound - Part One"
   ]
  },
  {
   "cell_type": "markdown",
   "metadata": {},
   "source": [
    "![Warning](images/warning_2.png)\n",
    "![Warning](images/warning_1.png)\n",
    "\n",
    "## WARNING:\n",
    "This notebook will play a variety of sounds to help you learn about sounds. It can be VERY LOUD so be sure to turn down the volume on your computer before beginning."
   ]
  },
  {
   "cell_type": "markdown",
   "metadata": {
    "slideshow": {
     "slide_type": "slide"
    }
   },
   "source": [
    "## What is sound?\n",
    "\n",
    "Sound is simply the rapid variations, or **vibrations** in air pressure that we hear in our ears as sound. Some sounds are produced by regular vibrations of a physical object like the strings on a guitar or the head of a drum. Other sounds are more random, coming for instance from the motion of wind through leaves on a tree. \n",
    "\n",
    "The tines of a tuning fork oscillate back and forth when struck. \n",
    "\n",
    "![tuning fork image](images/tuningfork.jpg)\n",
    "\n",
    "The stings on a violin vibrate when rubbed by a bow.\n",
    "![volin image](images/violin.jpg)\n",
    "\n",
    "\n",
    "For the more regular vibrations, the sounds often seem like musical notes to us. For such sounds, there are three\n",
    "important characteristics:\n",
    "- the **Amplitude** or loudness\n",
    "- the **Pitch** which is the speed of the vibrations\n",
    "- the **Timbre** or quality of the sound\n",
    "\n",
    "Our ears can sense changes in all these thre characteristics. It is what helps us identify what thing is creating a sound. For instance, we can tell the difference between the sound of a musical instrument, or a person talking. \n",
    "\n",
    "We can use the computer to create sounds and play around with these three characteristics. "
   ]
  },
  {
   "cell_type": "markdown",
   "metadata": {},
   "source": [
    "## Amplitude\n",
    "\n",
    "The amplitude of a sound is a measure of how loud it is. For instance, a whisper is a very low amplitude sound while the roar of a motorcycle is a very loud sound. Loudness is measured in **Bels**, in honour of inventor Alexander Graham Bell. We usually use the unit of **decibels** (one-tenth of a Bel) when we talk about sound. \n",
    "\n",
    "On the computer, it is difficult to create a sound with a specific loudness or decibel rating, becauase each computer has a different set of speakers, and the computer user can adjust the volume setting pretty much arbitrarily. So it is useful to think of familiar sounds and know what their loudness is. \n",
    "\n",
    "| Sound       | Decibel leve |\n",
    "| ----------- | ----------- |\n",
    "| Softest sound that can be heard      | 0 dB       |\n",
    "| Breathing   | 10 dB        |\n",
    "| Watch ticking   | 20 dB        |\n",
    "| Whisper   | 30 dB        |\n",
    "| Refrigerator hun   | 40 dB        |\n",
    "| Normal conversation   | 60 dB        |\n",
    "| Lawn mover    | 80 dB        |\n",
    "| Subway train, car horn    | 100 dB        |\n",
    "| Rock concert    | 110 dB        |\n",
    "| Siren  nearby    | 120 dB        |\n",
    "| Firecrackers nearby    | 140 dB        |\n"
   ]
  },
  {
   "cell_type": "markdown",
   "metadata": {},
   "source": [
    "## Playing with amplitude\n",
    "\n",
    "Run the following two cells of code to set up a \"slider\" to play sounds of different amplitude. \n",
    "\n",
    "As you move the slider back and forth, you will hear changes in the loudness, or amplitude, of the sound. "
   ]
  },
  {
   "cell_type": "code",
   "execution_count": 1,
   "metadata": {},
   "outputs": [],
   "source": [
    "# We import the libraries numpy, matplotlib and widgets to make this work. And some audio tools\n",
    "%matplotlib inline\n",
    "import matplotlib.pyplot as plt\n",
    "from numpy import pi, sin, linspace, maximum, minimum, random\n",
    "from ipywidgets import interactive, FloatLogSlider\n",
    "from IPython.display import Audio, display"
   ]
  },
  {
   "cell_type": "code",
   "execution_count": 2,
   "metadata": {},
   "outputs": [
    {
     "data": {
      "application/vnd.jupyter.widget-view+json": {
       "model_id": "397b4aa9b4484c5a8d81e705cdb5970e",
       "version_major": 2,
       "version_minor": 0
      },
      "text/plain": [
       "interactive(children=(FloatSlider(value=1.0, description='Amp', max=1.0), Output()), _dom_classes=('widget-int…"
      ]
     },
     "metadata": {},
     "output_type": "display_data"
    }
   ],
   "source": [
    "# vary amplitude\n",
    "def set_amp(Amp=1.0):\n",
    "    t_max = 5\n",
    "    rate = 44100\n",
    "    Hz = 220\n",
    "    t = linspace(0,t_max,rate*t_max)\n",
    "    signal = Amp*sin(2*pi*Hz*t) + sin(2*pi*10*t) # add the inaudible 10Hz to stop normalization\n",
    "    display(Audio(data=signal, rate=rate,autoplay=True))\n",
    "    return signal\n",
    "\n",
    "v1 = interactive(set_amp, Amp=(0.0,1.0))\n",
    "display(v1)"
   ]
  },
  {
   "cell_type": "markdown",
   "metadata": {},
   "source": [
    "## Pitch\n",
    "\n",
    "Pitch has to do with the rate of vibration. It is measured in **cycles per second** or **Hertz** in honour of [Heinrich Hertz](https://en.wikipedia.org/wiki/Heinrich_Hertz), who studied [electromagnetic waves](https://science.nasa.gov/ems/02_anatomy) in the 19th century. The pitch of a sound is usually directly related to the thing that is vibrating and the rate at which it vibrates.\n",
    "\n",
    "For instance, a [tuning fork](https://en.wikipedia.org/wiki/Tuning_fork) makes sound because its tines are quickly moving back and forth. usually several hundred times per second. A violin makes sounds because the strings are vibrating, with the sound amplified by the wooden body of the instrumnet. A violin string can vibrate from several hundred to several thousand times per second. \n",
    "\n",
    "Low frequency sounds are caused by very slow vibrations -- think of a fog horn or whale call. High frequency sounds are caused by very rapid vibrations -- think of birds or bat sounds, or fingers scratching along a chalkboard. \n",
    "\n",
    "Our ears are limited in what pitches we can hear. A yound person with healthy ears can typically hear sounds with frequencies in the range of 20 Hz to 20,000 Hz. A piano can create notes with frequencies from about 25 Hz to  4000 Hz\n",
    "\n",
    "[Wikipedia Hearing Range](https://en.wikipedia.org/wiki/Hearing_range): Ranges of frequencies of animals\n",
    "\n",
    "![frequency chart](./images/frequencychart.png)\n",
    "\n",
    "The next code cell lets you create a sound of various pitches. Run the cell, then move the slider back and forth to hear tones of different frequencies."
   ]
  },
  {
   "cell_type": "code",
   "execution_count": 3,
   "metadata": {},
   "outputs": [
    {
     "data": {
      "application/vnd.jupyter.widget-view+json": {
       "model_id": "7279451ab67f42be89146d588eaf0e14",
       "version_major": 2,
       "version_minor": 0
      },
      "text/plain": [
       "interactive(children=(FloatSlider(value=220.0, description='Hz', max=440.0, min=110.0), Output()), _dom_classe…"
      ]
     },
     "metadata": {},
     "output_type": "display_data"
    }
   ],
   "source": [
    "# Vary frequency\n",
    "def set_freq(Hz=220.0):\n",
    "    t_max = 5 # max time in seconds\n",
    "    rate = 44100\n",
    "    t = linspace(0,t_max,rate*t_max)\n",
    "    signal = sin(2*pi*Hz*t)\n",
    "    display(Audio(data=signal, rate=rate,autoplay=True))\n",
    "    return signal\n",
    "\n",
    "v2 = interactive(set_freq, Hz=(110.0,440.0))\n",
    "display(v2)"
   ]
  },
  {
   "cell_type": "markdown",
   "metadata": {},
   "source": [
    "## Range of pitches\n",
    "\n",
    "Since we can hear such a large range of pitches, let's try another slider that ranges from 10Hz to 10,000 Hz.\n",
    "\n",
    "Note that most computers cannot create sounds in this full range, due to limitations in their electronics and in their speaker system. A very high quality music system should be able to reproduce all these tones.\n",
    "\n",
    "Howover, it is important to observe that you may not be able to hear all these sounds. It could be your computer is not able to produce such a range of tones. Or it could be your ears. Compare with your friends -- if none of you can hear a particular sound in this range of frequencies, it is probably the computer that is not producing the sound. "
   ]
  },
  {
   "cell_type": "code",
   "execution_count": 4,
   "metadata": {},
   "outputs": [
    {
     "data": {
      "application/vnd.jupyter.widget-view+json": {
       "model_id": "dfae10adfdcc4bb0b26d34f5bba3cb81",
       "version_major": 2,
       "version_minor": 0
      },
      "text/plain": [
       "interactive(children=(FloatLogSlider(value=220.0, description='Hz', min=1.0, step=0.01), Output()), _dom_class…"
      ]
     },
     "metadata": {},
     "output_type": "display_data"
    }
   ],
   "source": [
    "#vary tone on a large scale\n",
    "slide = FloatLogSlider(\n",
    "    value=220,\n",
    "    base=10,\n",
    "    min=1, # max exponent of base\n",
    "    max=4, # min exponent of base\n",
    "    step=0.01 # exponent step\n",
    "   )\n",
    "\n",
    "v3 = interactive(set_freq,Hz=slide)\n",
    "                 \n",
    "display(v3)"
   ]
  },
  {
   "cell_type": "markdown",
   "metadata": {},
   "source": [
    "## Timbre\n",
    "\n",
    "Timbre is the quality of the sound. This is the quality that allows us to distingush between the sound of a flute and the sound of a violin, or other musical instruments. It has to do with the complexity of the vibrations, specifically on the complexity of the object that is vibrating.\n",
    "\n",
    "On the computer, we can simulate different timbres by *clipping* a sinusoidal waveform. Let's not worry about the mechanics of this, just try it out in the following. Run the code cell below, and move the slider to obtain sounds with different pitches.\n",
    "\n"
   ]
  },
  {
   "cell_type": "code",
   "execution_count": 5,
   "metadata": {},
   "outputs": [
    {
     "data": {
      "application/vnd.jupyter.widget-view+json": {
       "model_id": "79640081a78e4686aa23ba47b9359d1a",
       "version_major": 2,
       "version_minor": 0
      },
      "text/plain": [
       "interactive(children=(FloatSlider(value=1.0, description='Timbre', max=1.0, min=0.01), Output()), _dom_classes…"
      ]
     },
     "metadata": {},
     "output_type": "display_data"
    }
   ],
   "source": [
    "# vary timbre\n",
    "def set_timbre(Timbre=1.0):\n",
    "    t_max = 5\n",
    "    rate = 44100\n",
    "    Hz = 220\n",
    "    t = linspace(0,t_max,rate*t_max)\n",
    "    signal = sin(2*pi*Hz*t)\n",
    "    signal = minimum(signal,Timbre)\n",
    "    signal = maximum(signal,-Timbre)\n",
    "    display(Audio(data=signal, rate=rate,autoplay=True))\n",
    "    return signal\n",
    "\n",
    "v4 = interactive(set_timbre, Timbre=(0.01,1.0))\n",
    "display(v4)"
   ]
  },
  {
   "cell_type": "markdown",
   "metadata": {},
   "source": [
    "## Interactive play\n",
    "\n",
    "Let's have some fun with this sound generation.\n",
    "\n",
    "Run the following code cell, and play with the three sliders to  vary all three characteristics: Pitch, Amplitude and Timbre."
   ]
  },
  {
   "cell_type": "code",
   "execution_count": 6,
   "metadata": {},
   "outputs": [
    {
     "data": {
      "application/vnd.jupyter.widget-view+json": {
       "model_id": "9db24681d8d54135a9df3dc2c3ef50cd",
       "version_major": 2,
       "version_minor": 0
      },
      "text/plain": [
       "interactive(children=(FloatSlider(value=220.0, description='Hz', max=440.0, min=110.0), FloatSlider(value=1.0,…"
      ]
     },
     "metadata": {},
     "output_type": "display_data"
    }
   ],
   "source": [
    "# vary frequency, amplitude, timbre\n",
    "def set_all(Hz = 220.0, Amp = 1.0, Timbre=1.0):\n",
    "    t_max = 5\n",
    "    rate = 44100\n",
    "    t = linspace(0,t_max,rate*t_max)\n",
    "    signal = sin(2*pi*Hz*t)\n",
    "    signal = minimum(signal,Timbre)\n",
    "    signal = maximum(signal,-Timbre)\n",
    "    signal = Amp*signal + sin(2*pi*10*t)\n",
    "    display(Audio(data=signal, rate=rate,autoplay=True))\n",
    "    return signal\n",
    "\n",
    "v5 = interactive(set_all, Hz = (110.0,440.0), Amp=(0.0,1.0), Timbre=(0.1,1.0))\n",
    "display(v5)"
   ]
  },
  {
   "cell_type": "markdown",
   "metadata": {},
   "source": [
    "## Questions\n",
    "\n",
    "1. Can you hear the difference between changing the frequency, and changing the timbre?\n",
    "2. Is there a combination of frequency and timbre that sounds really good to you? Why is that? \n",
    "3. Is there a combination of frequency and timbre that sounds really bad or annoying to you? Why is that? \n",
    "4. Are there any combinations of frequency and timbre that you recognize in real life and what are they? \n"
   ]
  },
  {
   "cell_type": "markdown",
   "metadata": {},
   "source": [
    "## Interactive hearing test\n",
    "\n",
    "Let's do a little test to see what range of frequencies your ears can detect.\n",
    "\n",
    "Most people with normal hearing can hear sounds at 5,000 Hz, although it is an annoying sound to listen to. Most people struggle to hear a sound at 20,000 Hz. The following test lets you experiment with that range of frequencies, to see what you can hear or not hear.\n",
    "\n",
    "Run the following code cell. When you move the slider, the computer will produce two, three or four tones at the given frequency. If you can count the pulses, you can hear this frequency. If you can't count the pulses, you likely cannote hear this frequency. \n",
    "\n",
    "Try various frequencies, to see what you can hear and cannot hear.\n",
    "\n",
    "(Keep in mind, though, that perhaps your computer speakers are not able to generate certian high frequencies. Double check by asking a friend to listen as well,)\n",
    "\n"
   ]
  },
  {
   "cell_type": "code",
   "execution_count": 7,
   "metadata": {},
   "outputs": [
    {
     "data": {
      "application/vnd.jupyter.widget-view+json": {
       "model_id": "eb2fc4278b564cf8be7a805ed98a40ff",
       "version_major": 2,
       "version_minor": 0
      },
      "text/plain": [
       "interactive(children=(IntSlider(value=5000, description='Hz', max=20000, min=5000), Output()), _dom_classes=('…"
      ]
     },
     "metadata": {},
     "output_type": "display_data"
    }
   ],
   "source": [
    "# Vary frequency\n",
    "def set_freq_pulses(Hz=5000):\n",
    "    t_max = 5 # max time in seconds\n",
    "    pulses = random.randint(2,5) # the number of pulses to generate\n",
    "    rate = 44100\n",
    "    t = linspace(0,t_max,rate*t_max)\n",
    "    signal = sin(2*pi*Hz*t)*sin(pi*pulses*t/t_max)**2\n",
    "    display(Audio(data=signal, rate=rate,autoplay=True))\n",
    "    return signal\n",
    "\n",
    "v6 = interactive(set_freq_pulses, Hz=(5000,20000))\n",
    "display(v6)"
   ]
  },
  {
   "cell_type": "markdown",
   "metadata": {},
   "source": [
    "## Questions\n",
    "\n",
    "1. What is the highest frequency you can hear in this test?\n",
    "2. Who amongst your friends can hear the highest frequencies?\n",
    "3. If you are in a big class, do you notice if one group of people can hear higher than others? Is the difference perhaps based on \n",
    " - age? \n",
    " - gender?\n",
    " - teacher versus students?\n",
    " - musical training?\n",
    " - hunters? (or people routinely exposed to loud noises like rifles)\n",
    " - other differences?"
   ]
  },
  {
   "cell_type": "markdown",
   "metadata": {},
   "source": [
    "## Some thoughts on music\n",
    "\n",
    "The ancient Greeks noticed that strings of different lengths produced pleasant sounds (music) when their lengths were related by **small integer fractions** like 3/4 or 4/5. \n",
    "\n",
    "This interesting observation has to do with the pitches produced by the strings. Why they sound good to humans is an interesting question about how we perceive sound. \n",
    "\n",
    "The follow code lets you produce sounds with frequencies related by small integers. "
   ]
  },
  {
   "cell_type": "code",
   "execution_count": 8,
   "metadata": {},
   "outputs": [
    {
     "data": {
      "application/vnd.jupyter.widget-view+json": {
       "model_id": "4f9750e5e3644c51a97e311f5b2a25a3",
       "version_major": 2,
       "version_minor": 0
      },
      "text/plain": [
       "interactive(children=(IntSlider(value=2, description='Integer_1', max=9, min=1), IntSlider(value=3, descriptio…"
      ]
     },
     "metadata": {},
     "output_type": "display_data"
    }
   ],
   "source": [
    "## Small integer frequencies ratios sound nice\n",
    "# vary frequency, amplitude, timbre\n",
    "def set_int_freqs(Integer_1 = 2, Integer_2 = 3):\n",
    "    t_max = 5\n",
    "    rate = 44100\n",
    "    t = linspace(0,t_max,rate*t_max)\n",
    "    Hz = 220\n",
    "    signal = sin(2*pi*Integer_1*Hz*t) + sin(2*pi*Integer_2*Hz*t + .1) # add a weird phase\n",
    "    display(Audio(data=signal, rate=rate,autoplay=True))\n",
    "    return signal\n",
    "\n",
    "v7 = interactive(set_int_freqs, Integer_1 = (1,9), Integer_2=(1,9))\n",
    "display(v7)\n",
    "\n"
   ]
  },
  {
   "cell_type": "markdown",
   "metadata": {},
   "source": [
    "## Questions\n",
    "\n",
    "1. Which combination of tones sound good to you?\n",
    "2. Whcih combinations sound strange to you?\n",
    "3. If you play a musical instrument, do you recognize any of these as musical intervals on a scale?"
   ]
  },
  {
   "cell_type": "markdown",
   "metadata": {},
   "source": [
    "## Interactive Beats\n",
    "\n",
    "There is an interesting psycho-acoustical phenomena we can observe in humans, which is how we perceive two tones that are close in frequency. Usually, two tones playing at the same time are heard by our ears as two separate tones. But if they are close in frequency, we hear only one tone that **beats** loud and soft. \n",
    "\n",
    "Why this happens is an interesting question about both how our ears work, and how our brain works.\n",
    "\n",
    "You can experiment with this by running the following code cell. "
   ]
  },
  {
   "cell_type": "code",
   "execution_count": 10,
   "metadata": {},
   "outputs": [
    {
     "data": {
      "application/vnd.jupyter.widget-view+json": {
       "model_id": "fd8d5f78b0a74f1d903b4d909f8535dd",
       "version_major": 2,
       "version_minor": 0
      },
      "text/plain": [
       "interactive(children=(FloatSlider(value=220.0, description='f1_Hz', max=300.0, min=200.0), FloatSlider(value=2…"
      ]
     },
     "metadata": {},
     "output_type": "display_data"
    }
   ],
   "source": [
    "def beat_freq(f1_Hz=220.0, f2_Hz=224.0):\n",
    "    t_max = 5\n",
    "    rate = 44100\n",
    "    t = linspace(0,t_max,rate*t_max)\n",
    "    signal = sin(2*pi*f1_Hz*t) + sin(2*pi*f2_Hz*t)\n",
    "    display(Audio(data=signal, rate=rate,autoplay=True))\n",
    "    return signal\n",
    "\n",
    "v8 = interactive(beat_freq, f1_Hz=(200.0,300.0), f2_Hz=(200.0,300.0))\n",
    "display(v8)"
   ]
  },
  {
   "cell_type": "markdown",
   "metadata": {},
   "source": [
    "## Questions and activities\n",
    "\n",
    "1. Using the two sliders above, move the sliders to hear two sounds of different frequencies.\n",
    "2. If you set both sliders to the same frequency, you should hear just one tone. Do you?\n",
    "3. If you set the sliders to different, but close frequencies (like 220 and 224 Hz), you will hear beats. Do you?\n",
    "4. If you set the sliders to different, far apart freqeuncies (like 220 and 275 Hz), you will hear a musical chord. Do you?\n",
    "5. How close do the frequencies need to be for you to hear beats?\n",
    "6. How far apart do the frequencies need to be for you to hear something like a musical chord?\n",
    "7. If the frequencies differ by 3 Hz (like 220 and 223 Hz), how many beats per second do you hear? If you can't hear it, make a guess. (It is just arithmetic!)\n",
    "8. Does the number of beats per second only depend on the difference of the frequencies? Or something else?\n",
    "\n",
    "By the way, using the \"arrow keys\" on your keyboard will allow you to make fine changes to the slider values. You can also type in values directly in the text box by the slider. Try it!\n",
    "\n"
   ]
  },
  {
   "cell_type": "markdown",
   "metadata": {
    "slideshow": {
     "slide_type": "slide"
    }
   },
   "source": [
    "## A really annoying sound\n",
    "\n",
    "The following sound is really annoying, so you might like to turn down the volume on your computer. \n",
    "\n",
    "Animals that use sonar for locating objects in their enviroments include whale, dophins and bats. Using their voice boxes or nasal cavities, they can produce a tone that rapidly increase in frequency. This is called a chirp, and is also the idea behind certain radar signals made by humans in the electromagnetic spectrum.\n",
    "\n",
    "We can use a chirp to explore the range of frequencies that we can hear. Humans with very good ears can hear from 20 Hz to 20,000 Hz. "
   ]
  },
  {
   "cell_type": "code",
   "execution_count": 11,
   "metadata": {
    "slideshow": {
     "slide_type": "slide"
    }
   },
   "outputs": [
    {
     "data": {
      "application/vnd.jupyter.widget-view+json": {
       "model_id": "94114dae91e14ec5adbad1cf7dfa2026",
       "version_major": 2,
       "version_minor": 0
      },
      "text/plain": [
       "interactive(children=(IntSlider(value=5000, description='Hz', max=20000, min=1000), Output()), _dom_classes=('…"
      ]
     },
     "metadata": {},
     "output_type": "display_data"
    }
   ],
   "source": [
    "def make_chirp(Hz=5000):\n",
    "    t_max = 5\n",
    "    rate = 44100\n",
    "    t = linspace(0,t_max,rate*t_max)\n",
    "    signal = sin(pi*Hz*t*t/t_max) \n",
    "    display(Audio(data=signal, rate=rate,autoplay=True))\n",
    "    return signal\n",
    "\n",
    "v9 = interactive(make_chirp, Hz=(1000,20000))\n",
    "display(v9)"
   ]
  },
  {
   "cell_type": "markdown",
   "metadata": {},
   "source": [
    "## To explore\n",
    "\n",
    "1. The slider sets the maximum frequency for the chirp. At what frequency does it get annoying to you? To your friends?\n",
    "2. Try the slider at 1000 Hz. Can you hear how the frequency starts low, then works its way up to a higher frequency?\n",
    "3. At what frequency do you stop hearing the slide? How about your friends?\n"
   ]
  },
  {
   "cell_type": "markdown",
   "metadata": {
    "slideshow": {
     "slide_type": "slide"
    }
   },
   "source": [
    "## Random numbers\n",
    "\n",
    "A list of random numbers, will create a sound. \n",
    "\n",
    "What do you think is will sound like?\n",
    "\n"
   ]
  },
  {
   "cell_type": "code",
   "execution_count": 12,
   "metadata": {
    "slideshow": {
     "slide_type": "skip"
    }
   },
   "outputs": [
    {
     "data": {
      "text/html": [
       "\n",
       "                <audio  controls=\"controls\" autoplay=\"autoplay\">\n",
       "                    <source src=\"data:audio/wav;base64,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\" type=\"audio/wav\" />\n",
       "                    Your browser does not support the audio element.\n",
       "                </audio>\n",
       "              "
      ],
      "text/plain": [
       "<IPython.lib.display.Audio object>"
      ]
     },
     "execution_count": 12,
     "metadata": {},
     "output_type": "execute_result"
    }
   ],
   "source": [
    "Fs = 44100\n",
    "random_sound = random.randn(Fs)\n",
    "Audio(data=random_sound, rate=Fs, autoplay=True)"
   ]
  },
  {
   "cell_type": "markdown",
   "metadata": {},
   "source": [
    "## Summary\n",
    "\n",
    "This notebook was a brief introduction to the physics of sound.\n",
    "\n",
    "We generated vibrations in air pressure using code that sends a string of numbers to the computer speakers. We can vary the pitch, amplitude and timbre of the sound using simple commands. \n",
    "\n",
    "We also explored the phenomena of beats and looked into the range of frequencies that a person can hear. \n",
    "\n",
    "We used random numbers to generate noise. "
   ]
  },
  {
   "cell_type": "markdown",
   "metadata": {},
   "source": [
    "[![Callysto.ca License](https://github.com/callysto/curriculum-notebooks/blob/master/callysto-notebook-banner-bottom.jpg?raw=true)](https://github.com/callysto/curriculum-notebooks/blob/master/LICENSE.md)"
   ]
  }
 ],
 "metadata": {
  "kernelspec": {
   "display_name": "Python 3 (ipykernel)",
   "language": "python",
   "name": "python3"
  },
  "language_info": {
   "codemirror_mode": {
    "name": "ipython",
    "version": 3
   },
   "file_extension": ".py",
   "mimetype": "text/x-python",
   "name": "python",
   "nbconvert_exporter": "python",
   "pygments_lexer": "ipython3",
   "version": "3.9.12"
  },
  "vscode": {
   "interpreter": {
    "hash": "d1ca6d17674200220921376aaeb3d36cffe15ecab2470a9a5e7a456cdbf61425"
   }
  }
 },
 "nbformat": 4,
 "nbformat_minor": 4
}
