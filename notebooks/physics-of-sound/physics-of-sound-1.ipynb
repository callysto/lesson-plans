{
 "cells": [
  {
   "cell_type": "markdown",
   "metadata": {},
   "source": [
    "![Callysto.ca Banner](https://github.com/callysto/curriculum-notebooks/blob/master/callysto-notebook-banner-top.jpg?raw=true)"
   ]
  },
  {
   "cell_type": "markdown",
   "metadata": {
    "slideshow": {
     "slide_type": "slide"
    }
   },
   "source": [
    "# Physics of Sound - Part One"
   ]
  },
  {
   "cell_type": "markdown",
   "metadata": {},
   "source": [
    "![Warning](images/warning_2.png)\n",
    "![Warning](images/warning_1.png)\n",
    "\n",
    "## WARNING:\n",
    "This notebook will play a variety of sounds to help you learn about sounds. It can be VERY LOUD so be sure to turn down the volume on your computer before beginning."
   ]
  },
  {
   "cell_type": "markdown",
   "metadata": {
    "slideshow": {
     "slide_type": "slide"
    }
   },
   "source": [
    "## What is sound?\n",
    "\n",
    "Sound is simply the rapid variations, or **vibrations** in air pressure that we hear in our ears as sound. Some sounds are produced by regular vibrations of a physical object like the strings on a guitar or the head of a drum. Other sounds are more random, coming for instance from the motion of wind through leaves on a tree. \n",
    "\n",
    "The tines of a tuning fork oscillate back and forth when struck. \n",
    "\n",
    "![tuning fork image](images/tuningfork.jpg)\n",
    "\n",
    "The stings on a violin vibrate when rubbed by a bow.\n",
    "![volin image](images/violin.jpg)\n",
    "\n",
    "\n",
    "For the more regular vibrations, the sounds often seem like musical notes to us. For such sounds, there are three\n",
    "important characteristics:\n",
    "- the **Amplitude** or loudness\n",
    "- the **Pitch** which is the speed of the vibrations\n",
    "- the **Timbre** or quality of the sound\n",
    "\n",
    "Our ears can sense changes in all these thre characteristics. It is what helps us identify what thing is creating a sound. For instance, we can tell the difference between the sound of a musical instrument, or a person talking. \n",
    "\n",
    "We can use the computer to create sounds and play around with these three characteristics. "
   ]
  },
  {
   "cell_type": "markdown",
   "metadata": {},
   "source": [
    "## Amplitude\n",
    "\n",
    "The amplitude of a sound is a measure of how loud it is. For instance, a whisper is a very low amplitude sound while the roar of a motorcycle is a very loud sound. Loudness is measured in **Bels**, in honour of inventor Alexander Graham Bell. We usually use the unit of **decibels** (one-tenth of a Bel) when we talk about sound. \n",
    "\n",
    "On the computer, it is difficult to create a sound with a specific loudness or decibel rating, becauase each computer has a different set of speakers, and the computer user can adjust the volume setting pretty much arbitrarily. So it is useful to think of familiar sounds and know what their loudness is. \n",
    "\n",
    "| Sound       | Decibel leve |\n",
    "| ----------- | ----------- |\n",
    "| Softest sound that can be heard      | 0 dB       |\n",
    "| Breathing   | 10 dB        |\n",
    "| Watch ticking   | 20 dB        |\n",
    "| Whisper   | 30 dB        |\n",
    "| Refrigerator hun   | 40 dB        |\n",
    "| Normal conversation   | 60 dB        |\n",
    "| Lawn mover    | 80 dB        |\n",
    "| Subway train, car horn    | 100 dB        |\n",
    "| Rock concert    | 110 dB        |\n",
    "| Siren  nearby    | 120 dB        |\n",
    "| Firecrackers nearby    | 140 dB        |\n"
   ]
  },
  {
   "cell_type": "markdown",
   "metadata": {},
   "source": [
    "## Playing with amplitude\n",
    "\n",
    "Run the following two cells of code to set up a \"slider\" to play sounds of different amplitude. \n",
    "\n",
    "As you move the slider back and forth, you will hear changes in the loudness, or amplitude, of the sound. "
   ]
  },
  {
   "cell_type": "code",
   "execution_count": 1,
   "metadata": {},
   "outputs": [],
   "source": [
    "# We import the libraries numpy, matplotlib and widgets to make this work. And some audio tools\n",
    "%matplotlib inline\n",
    "import matplotlib.pyplot as plt\n",
    "from numpy import pi, sin, linspace, maximum, minimum, random\n",
    "from ipywidgets import interactive, FloatLogSlider\n",
    "from IPython.display import Audio, display"
   ]
  },
  {
   "cell_type": "code",
   "execution_count": 2,
   "metadata": {},
   "outputs": [
    {
     "data": {
      "application/vnd.jupyter.widget-view+json": {
       "model_id": "cf00682883ce4ad48910fca310882144",
       "version_major": 2,
       "version_minor": 0
      },
      "text/plain": [
       "interactive(children=(FloatSlider(value=1.0, description='Amp', max=1.0), Output()), _dom_classes=('widget-int…"
      ]
     },
     "metadata": {},
     "output_type": "display_data"
    }
   ],
   "source": [
    "# vary amplitude\n",
    "def set_amp(Amp=1.0):\n",
    "    t_max = 5\n",
    "    rate = 44100\n",
    "    Hz = 220\n",
    "    t = linspace(0,t_max,rate*t_max)\n",
    "    signal = Amp*sin(2*pi*Hz*t) + sin(2*pi*10*t) # add the inaudible 10Hz to stop normalization\n",
    "    display(Audio(data=signal, rate=rate,autoplay=True))\n",
    "    return signal\n",
    "\n",
    "v1 = interactive(set_amp, Amp=(0.0,1.0))\n",
    "display(v1)"
   ]
  },
  {
   "cell_type": "markdown",
   "metadata": {},
   "source": [
    "## Pitch\n",
    "\n",
    "Pitch has to do with the rate of vibration. It is measured in **cycles per second** or **Hertz** in honour of [Heinrich Hertz](https://en.wikipedia.org/wiki/Heinrich_Hertz), who studied [electromagnetic waves](https://science.nasa.gov/ems/02_anatomy) in the 19th century. The pitch of a sound is usually directly related to the thing that is vibrating and the rate at which it vibrates.\n",
    "\n",
    "For instance, a [tuning fork](https://en.wikipedia.org/wiki/Tuning_fork) makes sound because its tines are quickly moving back and forth. usually several hundred times per second. A violin makes sounds because the strings are vibrating, with the sound amplified by the wooden body of the instrumnet. A violin string can vibrate from several hundred to several thousand times per second. \n",
    "\n",
    "Low frequency sounds are caused by very slow vibrations -- think of a fog horn or whale call. High frequency sounds are caused by very rapid vibrations -- think of birds or bat sounds, or fingers scratching along a chalkboard. \n",
    "\n",
    "Our ears are limited in what pitches we can hear. A yound person with healthy ears can typically hear sounds with frequencies in the range of 20 Hz to 20,000 Hz. A piano can create notes with frequencies from about 25 Hz to  4000 Hz\n",
    "\n",
    "[Wikipedia Hearing Range](https://en.wikipedia.org/wiki/Hearing_range): Ranges of frequencies of animals\n",
    "\n",
    "![frequency chart](./images/frequencychart.png)\n",
    "\n",
    "The next code cell lets you create a sound of various pitches. Run the cell, then move the slider back and forth to hear tones of different frequencies."
   ]
  },
  {
   "cell_type": "code",
   "execution_count": 3,
   "metadata": {},
   "outputs": [
    {
     "data": {
      "application/vnd.jupyter.widget-view+json": {
       "model_id": "d55c9f6956a9466391978ac17b3a4002",
       "version_major": 2,
       "version_minor": 0
      },
      "text/plain": [
       "interactive(children=(FloatSlider(value=220.0, description='Hz', max=440.0, min=110.0), Output()), _dom_classe…"
      ]
     },
     "metadata": {},
     "output_type": "display_data"
    }
   ],
   "source": [
    "# Vary frequency\n",
    "def set_freq(Hz=220.0):\n",
    "    t_max = 5 # max time in seconds\n",
    "    rate = 44100\n",
    "    t = linspace(0,t_max,rate*t_max)\n",
    "    signal = sin(2*pi*Hz*t)\n",
    "    display(Audio(data=signal, rate=rate,autoplay=True))\n",
    "    return signal\n",
    "\n",
    "v2 = interactive(set_freq, Hz=(110.0,440.0))\n",
    "display(v2)"
   ]
  },
  {
   "cell_type": "markdown",
   "metadata": {},
   "source": [
    "## Range of pitches\n",
    "\n",
    "Since we can hear such a large range of pitches, let's try another slider that ranges from 10Hz to 10,000 Hz.\n",
    "\n",
    "Note that most computers cannot create sounds in this full range, due to limitations in their electronics and in their speaker system. A very high quality music system should be able to reproduce all these tones.\n",
    "\n",
    "Howver, it is important to observe that you may not be able to hear all these sounds. It could be your computer is not able to produce such a range of tones. Or it could be your ears. Compare with your friends -- if none of you can hear a particular sound in this range of frequencies, it is probably the computer that is not producing the sound. "
   ]
  },
  {
   "cell_type": "code",
   "execution_count": 4,
   "metadata": {},
   "outputs": [
    {
     "data": {
      "application/vnd.jupyter.widget-view+json": {
       "model_id": "4506b9faa69649b2bf92764bb22596b1",
       "version_major": 2,
       "version_minor": 0
      },
      "text/plain": [
       "interactive(children=(FloatLogSlider(value=220.0, description='Hz', min=1.0, step=0.01), Output()), _dom_class…"
      ]
     },
     "metadata": {},
     "output_type": "display_data"
    }
   ],
   "source": [
    "#vary tone on a large scale\n",
    "slide = FloatLogSlider(\n",
    "    value=220,\n",
    "    base=10,\n",
    "    min=1, # max exponent of base\n",
    "    max=4, # min exponent of base\n",
    "    step=0.01 # exponent step\n",
    "   )\n",
    "\n",
    "v3 = interactive(set_freq,Hz=slide)\n",
    "                 \n",
    "display(v3)"
   ]
  },
  {
   "cell_type": "markdown",
   "metadata": {},
   "source": [
    "## Timbre\n",
    "\n",
    "Timbre is the quality of the sound. This is the quality that allows us to distingush between the sound of a flute and the sound of a violin, or other musical instrument. It has to do with the complexity of the vibrations, specifically on the complexity of the object that is vibrating.\n",
    "\n",
    "On the computer, we can simulate different timbres by *clipping* a sinusoidal waveform. Let's not worry about the mechanics of this, just try it out in the following. Run the code cell below, and move the slider to obtain sounds with different pitches.\n",
    "\n"
   ]
  },
  {
   "cell_type": "code",
   "execution_count": 5,
   "metadata": {},
   "outputs": [
    {
     "data": {
      "application/vnd.jupyter.widget-view+json": {
       "model_id": "3b64d94114194d0c8824208b779ce501",
       "version_major": 2,
       "version_minor": 0
      },
      "text/plain": [
       "interactive(children=(FloatSlider(value=1.0, description='Timbre', max=1.0, min=0.01), Output()), _dom_classes…"
      ]
     },
     "metadata": {},
     "output_type": "display_data"
    }
   ],
   "source": [
    "# vary timbre\n",
    "def set_timbre(Timbre=1.0):\n",
    "    t_max = 5\n",
    "    rate = 44100\n",
    "    Hz = 220\n",
    "    t = linspace(0,t_max,rate*t_max)\n",
    "    signal = sin(2*pi*Hz*t)\n",
    "    signal = minimum(signal,Timbre)\n",
    "    signal = maximum(signal,-Timbre)\n",
    "    display(Audio(data=signal, rate=rate,autoplay=True))\n",
    "    return signal\n",
    "\n",
    "v4 = interactive(set_timbre, Timbre=(0.01,1.0))\n",
    "display(v4)"
   ]
  },
  {
   "cell_type": "markdown",
   "metadata": {},
   "source": [
    "## Interactive play\n",
    "\n",
    "Let's have some fun with this sound generation.\n",
    "\n",
    "Run the following code cell, and play with the three sliders to  vary all three characteristics: Pitch, Amplitude and Timbre."
   ]
  },
  {
   "cell_type": "code",
   "execution_count": 12,
   "metadata": {},
   "outputs": [
    {
     "data": {
      "application/vnd.jupyter.widget-view+json": {
       "model_id": "5d2c6b0ece6d4e5eb92d063d11c4de15",
       "version_major": 2,
       "version_minor": 0
      },
      "text/plain": [
       "interactive(children=(FloatSlider(value=220.0, description='Hz', max=440.0, min=110.0), FloatSlider(value=1.0,…"
      ]
     },
     "metadata": {},
     "output_type": "display_data"
    }
   ],
   "source": [
    "# vary frequency, amplitude, timbre\n",
    "def set_all(Hz = 220.0, Amp = 1.0, Timbre=1.0):\n",
    "    t_max = 5\n",
    "    rate = 44100\n",
    "    t = linspace(0,t_max,rate*t_max)\n",
    "    signal = sin(2*pi*Hz*t)\n",
    "    signal = minimum(signal,Timbre)\n",
    "    signal = maximum(signal,-Timbre)\n",
    "    signal = Amp*signal + sin(2*pi*10*t)\n",
    "    display(Audio(data=signal, rate=rate,autoplay=True))\n",
    "    return signal\n",
    "\n",
    "v5 = interactive(set_all, Hz = (110.0,440.0), Amp=(0.0,1.0), Timbre=(0.1,1.0))\n",
    "display(v5)"
   ]
  },
  {
   "cell_type": "markdown",
   "metadata": {},
   "source": [
    "## Questions\n",
    "\n",
    "1. Can you hear the difference between changing the frequency, and changing the timbre?\n",
    "2. Is there a combination of frequency and timbre that sounds really good to you? Why is that? \n",
    "3. Is there a combination of frequency and timbre that sounds really bad or annoying to you? Why is that? \n",
    "4. Are there any combinations of frequency and timbre that you recognize in real life and what are they? \n"
   ]
  },
  {
   "cell_type": "markdown",
   "metadata": {},
   "source": [
    "## Interactive hearing test\n",
    "\n",
    "Let's do a little test to see what range of frequencies your ears can detect.\n",
    "\n",
    "Most people with normal hearing can hear sounds at 5,000 Hz, although it is an annoying sound to listen to. Most people struggle to hear a sound at 20,000 Hz. The following test lets you experiment with that range of frequencies, to see what you can hear or not hear.\n",
    "\n",
    "Run the following code cell. When you move the slider, the computer will produce two, three or four tones at the given frequency. If you can count the pulses, you can hear this frequency. If you can't count the pulses, you likely cannote hear this frequency. \n",
    "\n",
    "Try various frequencies, to see what you can hear and cannot hear.\n",
    "\n",
    "(Keep in mind, though, that perhaps your computer speakers are not able to generate certian high frequencies. DOuble check by asking a friend to listen as well,)\n",
    "\n"
   ]
  },
  {
   "cell_type": "code",
   "execution_count": 7,
   "metadata": {},
   "outputs": [
    {
     "data": {
      "application/vnd.jupyter.widget-view+json": {
       "model_id": "9b884dec68a24d619e4bf070631c2012",
       "version_major": 2,
       "version_minor": 0
      },
      "text/plain": [
       "interactive(children=(IntSlider(value=5000, description='Hz', max=20000, min=5000), Output()), _dom_classes=('…"
      ]
     },
     "metadata": {},
     "output_type": "display_data"
    }
   ],
   "source": [
    "# Vary frequency\n",
    "def set_freq_pulses(Hz=5000):\n",
    "    t_max = 5 # max time in seconds\n",
    "    pulses = random.randint(2,5) # the number of pulses to generate\n",
    "    rate = 44100\n",
    "    t = linspace(0,t_max,rate*t_max)\n",
    "    signal = sin(2*pi*Hz*t)*sin(pi*pulses*t/t_max)**2\n",
    "    display(Audio(data=signal, rate=rate,autoplay=True))\n",
    "    return signal\n",
    "\n",
    "v6 = interactive(set_freq_pulses, Hz=(5000,20000))\n",
    "display(v6)"
   ]
  },
  {
   "cell_type": "markdown",
   "metadata": {},
   "source": [
    "## Questions\n",
    "\n",
    "1. What is the highest frequency you can hear in this test?\n",
    "2. Who amongst your friends can hear the highest frequencies?\n",
    "3. If you are in a big class, do you notice if one group of people can hear higher than others? Is the difference perhaps based on \n",
    " - age? \n",
    " - gender?\n",
    " - teacher versus students?\n",
    " - musical training?\n",
    " - hunters? (or people routinely exposed to loud noises liek rifles)\n",
    " - other differences?"
   ]
  },
  {
   "cell_type": "markdown",
   "metadata": {},
   "source": [
    "## Some thoughts on music\n",
    "\n",
    "The ancient Greeks noticed that strings of different lengths produced pleasant sounds (music) when their lengths were related by **small integer fractions** like 3/4 or 4/5. \n",
    "\n",
    "This interesting observation has to do with the pitches produced by the strings. Why they sound good to humans is an interesting question about how we perceive sound. \n",
    "\n",
    "The follow code lets you produce sounds with frequencies related by small integers. "
   ]
  },
  {
   "cell_type": "code",
   "execution_count": 8,
   "metadata": {},
   "outputs": [
    {
     "data": {
      "application/vnd.jupyter.widget-view+json": {
       "model_id": "5d5b0fd8e59748e9b361f60f5fc27098",
       "version_major": 2,
       "version_minor": 0
      },
      "text/plain": [
       "interactive(children=(IntSlider(value=2, description='Integer_1', max=9, min=1), IntSlider(value=3, descriptio…"
      ]
     },
     "metadata": {},
     "output_type": "display_data"
    }
   ],
   "source": [
    "## Small integer frequencies ratios sound nice\n",
    "# vary frequency, amplitude, timbre\n",
    "def set_int_freqs(Integer_1 = 2, Integer_2 = 3):\n",
    "    t_max = 5\n",
    "    rate = 44100\n",
    "    t = linspace(0,t_max,rate*t_max)\n",
    "    Hz = 220\n",
    "    signal = sin(2*pi*Integer_1*Hz*t) + sin(2*pi*Integer_2*Hz*t + .1) # add a weird phase\n",
    "    display(Audio(data=signal, rate=rate,autoplay=True))\n",
    "    return signal\n",
    "\n",
    "v7 = interactive(set_int_freqs, Integer_1 = (1,9), Integer_2=(1,9))\n",
    "display(v7)\n",
    "\n"
   ]
  },
  {
   "cell_type": "markdown",
   "metadata": {},
   "source": [
    "## Questions\n",
    "\n",
    "1. Which combination of tones sound good to you?\n",
    "2. Whcih combinations sound strange to you?\n",
    "3. If you play a musical instrument, do you recognize any of these as musical intervals on a scale?"
   ]
  },
  {
   "cell_type": "markdown",
   "metadata": {},
   "source": [
    "## Interactive Beats\n",
    "\n",
    "There is an interesting psycho-acoustical phenomena we can observe in humans, which is how we perceive two tones that are close in frequency. Usually, two tones playing at the same time are heard by our ears as two separate tones. But if they are close in frequency, we hear only one tone that **beats** loud and soft. \n",
    "\n",
    "Why this happens is an interesting question about both how our ears work, and how our brain works.\n",
    "\n",
    "You can experiment with this by running the following code cell. "
   ]
  },
  {
   "cell_type": "code",
   "execution_count": 9,
   "metadata": {},
   "outputs": [
    {
     "data": {
      "application/vnd.jupyter.widget-view+json": {
       "model_id": "f3b06372c55b41a9a38c5ce02b0e8c86",
       "version_major": 2,
       "version_minor": 0
      },
      "text/plain": [
       "interactive(children=(FloatSlider(value=220.0, description='f1_Hz', max=300.0, min=200.0), FloatSlider(value=2…"
      ]
     },
     "metadata": {},
     "output_type": "display_data"
    }
   ],
   "source": [
    "def beat_freq(f1_Hz=220.0, f2_Hz=224.0):\n",
    "    t_max = 5\n",
    "    rate = 44100\n",
    "    t = linspace(0,t_max,rate*t_max)\n",
    "    signal = sin(2*pi*f1_Hz*t) + sin(2*pi*f2_Hz*t)\n",
    "    display(Audio(data=signal, rate=rate,autoplay=True))\n",
    "    return signal\n",
    "\n",
    "v8 = interactive(beat_freq, f1_Hz=(200.0,300.0), f2_Hz=(200.0,300.0))\n",
    "display(v8)"
   ]
  },
  {
   "cell_type": "markdown",
   "metadata": {},
   "source": [
    "## Questions and activities\n",
    "\n",
    "1. Using the two sliders above, move the sliders to hear two sounds of different frequencies.\n",
    "2. If you set both sliders to the same frequency, you should hear just one tone. Do you?\n",
    "3. If you set the sliders to different, but close frequencies (like 220 and 224 Hz), you will hear beats. Do you?\n",
    "4. If you set the sliders to different, far apart freqeuncies (like 220 and 275 Hz), you will hear a musical chord. Do you?\n",
    "5. How close do the frequencies need to be for you to hear beats?\n",
    "6. How far apart do the frequencies need to be for you to hear something like a musical chord?\n",
    "7. If the frequencies differ by 3 Hz (like 220 and 223 Hz), how many beats per second do you hear? If you can't hear it, make a guess. (It is just arithmetic!)\n",
    "8. Does the number of beats per second only depend on the difference of the frequencies? Or something else?\n",
    "\n",
    "By the way, using the \"arrow keys\" on your keyboard will allow you to make fine changes to the slider values. You can also type in values directly in the text box by the slider. Try it!\n",
    "\n"
   ]
  },
  {
   "cell_type": "markdown",
   "metadata": {
    "slideshow": {
     "slide_type": "slide"
    }
   },
   "source": [
    "## A really annoying sound\n",
    "\n",
    "The following sound is really annoying, so you might like to turn down the volume on your computer. \n",
    "\n",
    "Animals that use sonar for locating objects in their enviroments include whale, dophins and bats. Using their voice boxes or nasal cavities, they can produce a tone that rapidly increase in frequency. This is called a chirp, and is also the idea behind certain radar signals made by humans in the electromagnetic spectrum.\n",
    "\n",
    "We can use a chirp to explore the range of frequencies that we can hear. Humans with very good ears can hear from 20 Hz to 20,000 Hz. "
   ]
  },
  {
   "cell_type": "code",
   "execution_count": 10,
   "metadata": {
    "slideshow": {
     "slide_type": "slide"
    }
   },
   "outputs": [
    {
     "data": {
      "application/vnd.jupyter.widget-view+json": {
       "model_id": "42e90d9d7a904d11855f3e771718d064",
       "version_major": 2,
       "version_minor": 0
      },
      "text/plain": [
       "interactive(children=(IntSlider(value=5000, description='Hz', max=20000, min=1000), Output()), _dom_classes=('…"
      ]
     },
     "metadata": {},
     "output_type": "display_data"
    }
   ],
   "source": [
    "def make_chirp(Hz=5000):\n",
    "    t_max = 5\n",
    "    rate = 44100\n",
    "    t = linspace(0,t_max,rate*t_max)\n",
    "    signal = sin(pi*Hz*t*t/t_max) \n",
    "    display(Audio(data=signal, rate=rate,autoplay=True))\n",
    "    return signal\n",
    "\n",
    "v9 = interactive(make_chirp, Hz=(1000,20000))\n",
    "display(v9)"
   ]
  },
  {
   "cell_type": "markdown",
   "metadata": {},
   "source": [
    "## To explore\n",
    "\n",
    "1. The slider sets the maximum frequency for the chirp. At what frequency does it get annoying to you? To your friends?\n",
    "2. Try the slider at 1000 Hz. Can you hear how the frequency starts low, then works its way up to a higher frequency?\n",
    "3. At what frequency do you stop hearing the slide? How about your friends?\n"
   ]
  },
  {
   "cell_type": "markdown",
   "metadata": {
    "slideshow": {
     "slide_type": "slide"
    }
   },
   "source": [
    "## Random numbers\n",
    "\n",
    "A list of random numbers, will create a sound. \n",
    "\n",
    "What do you think is will sound like?\n",
    "\n"
   ]
  },
  {
   "cell_type": "code",
   "execution_count": 11,
   "metadata": {
    "slideshow": {
     "slide_type": "skip"
    }
   },
   "outputs": [
    {
     "data": {
      "text/html": [
       "\n",
       "                <audio  controls=\"controls\" autoplay=\"autoplay\">\n",
       "                    <source src=\"data:audio/wav;base64,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\" type=\"audio/wav\" />\n",
       "                    Your browser does not support the audio element.\n",
       "                </audio>\n",
       "              "
      ],
      "text/plain": [
       "<IPython.lib.display.Audio object>"
      ]
     },
     "execution_count": 11,
     "metadata": {},
     "output_type": "execute_result"
    }
   ],
   "source": [
    "Fs = 44100\n",
    "random_sound = random.randn(Fs)\n",
    "Audio(data=random_sound, rate=Fs, autoplay=True)"
   ]
  },
  {
   "cell_type": "markdown",
   "metadata": {},
   "source": [
    "## Summary\n",
    "\n",
    "This notebook was a brief introduction to the physics of sound.\n",
    "\n",
    "We generated vibrations in air pressure using code that sends a string of numbers to the computer speakers. We can vary the pitch, amplitude and timbre of the sound using simple commands. \n",
    "\n",
    "We also explored the phenomena of beats and looked into the range of frequencies that a person can hear. \n",
    "\n",
    "We used random numbers to generate noise. "
   ]
  },
  {
   "cell_type": "markdown",
   "metadata": {},
   "source": [
    "[![Callysto.ca License](https://github.com/callysto/curriculum-notebooks/blob/master/callysto-notebook-banner-bottom.jpg?raw=true)](https://github.com/callysto/curriculum-notebooks/blob/master/LICENSE.md)"
   ]
  }
 ],
 "metadata": {
  "kernelspec": {
   "display_name": "Python 3 (ipykernel)",
   "language": "python",
   "name": "python3"
  },
  "language_info": {
   "codemirror_mode": {
    "name": "ipython",
    "version": 3
   },
   "file_extension": ".py",
   "mimetype": "text/x-python",
   "name": "python",
   "nbconvert_exporter": "python",
   "pygments_lexer": "ipython3",
   "version": "3.9.12"
  },
  "vscode": {
   "interpreter": {
    "hash": "d1ca6d17674200220921376aaeb3d36cffe15ecab2470a9a5e7a456cdbf61425"
   }
  }
 },
 "nbformat": 4,
 "nbformat_minor": 4
}
