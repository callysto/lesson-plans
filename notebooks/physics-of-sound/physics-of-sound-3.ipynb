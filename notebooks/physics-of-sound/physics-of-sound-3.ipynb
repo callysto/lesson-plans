{
 "cells": [
  {
   "cell_type": "markdown",
   "id": "22013bbb",
   "metadata": {},
   "source": [
    "![Callysto.ca Banner](https://github.com/callysto/curriculum-notebooks/blob/master/callysto-notebook-banner-top.jpg?raw=true)"
   ]
  },
  {
   "cell_type": "markdown",
   "id": "3f5f7219",
   "metadata": {},
   "source": [
    "# Physics of Sound, Part three\n",
    "\n",
    "In this short notebook, we use as spectroscope on the screen to visualize the sounds around us.\n",
    "\n",
    "The spectroscope captures sound from your computer's microphone, and analyzes it to see what energy is present at various audio frequecy. The result is a plot in the x-y plane, displaying amplitude as a function of frequency. \n"
   ]
  },
  {
   "cell_type": "markdown",
   "id": "986b4278",
   "metadata": {},
   "source": [
    "![Warning](images/warning_2.png)\n",
    "![Warning](images/warning_1.png)\n",
    "\n",
    "## WARNING:\n",
    "This notebook will play a variety of sounds to help you learn about sounds. It can be VERY LOUD so be sure to turn down the volume on your computer before beginning."
   ]
  },
  {
   "cell_type": "markdown",
   "id": "2f36cdc0",
   "metadata": {},
   "source": [
    "## Setting up\n",
    "\n",
    "Run the next two code cells to set up the spectrooscope.\n",
    "\n",
    "Your browser may ask permission to access your microphone, as input to the oscilloscope. Just say yes."
   ]
  },
  {
   "cell_type": "code",
   "execution_count": null,
   "id": "4b381234",
   "metadata": {},
   "outputs": [],
   "source": [
    "import plotly.graph_objects as go\n",
    "from IPython.display import Audio, display, Javascript\n",
    "from numpy import pi, sin, linspace, maximum, minimum, random\n",
    "from ipywidgets import interactive"
   ]
  },
  {
   "cell_type": "code",
   "execution_count": null,
   "id": "da55146e",
   "metadata": {},
   "outputs": [],
   "source": [
    "sampleRate, FFTsize = 10000, 256\n",
    "x = linspace(0,sampleRate//2,FFTsize//2)\n",
    "\n",
    "fig = go.Figure(data=go.Scatter( x=x,y=x, mode='lines'))\n",
    "fig.update_layout(yaxis_range=[-120,0],title=\"Spectrogram\",xaxis_title=\"Frequency (Hz)\",yaxis_title=\"Magnitude (dB)\")\n",
    "f = go.FigureWidget(fig)\n",
    "display(Javascript(filename=\"spectroscope.js\"))\n",
    "f"
   ]
  },
  {
   "cell_type": "markdown",
   "id": "dd8b89c8",
   "metadata": {},
   "source": [
    "## Starting and stopping\n",
    "\n",
    "The following two cells are to start and stop the oscilloscope. Otherwise, the drawing is running all the time and can slow down the computer from other tasks. \n"
   ]
  },
  {
   "cell_type": "markdown",
   "id": "ebd3abc7",
   "metadata": {},
   "source": [
    "## STOP!   Run the next cell to stop the oscilloscope."
   ]
  },
  {
   "cell_type": "code",
   "execution_count": null,
   "id": "cc7a7e32",
   "metadata": {},
   "outputs": [],
   "source": [
    "Javascript(\"window.killDraw=true;\")"
   ]
  },
  {
   "cell_type": "markdown",
   "id": "7000468d",
   "metadata": {},
   "source": [
    "## RESTART!!  Run the next cell to restart the oscilloscope."
   ]
  },
  {
   "cell_type": "code",
   "execution_count": null,
   "id": "618f0d11",
   "metadata": {},
   "outputs": [],
   "source": [
    "## Run this cell to restart the drawing\n",
    "Javascript(\"window.killDraw=true; window.myVis();\")"
   ]
  },
  {
   "cell_type": "markdown",
   "id": "70954d58",
   "metadata": {},
   "source": [
    "## What to observe\n",
    "\n",
    "1. As you make noise around the computer, a changing curve will appear on the graph above.\n",
    "2. The curve has some *inertia* in it, so the energy response in each frequency slowly decays. \n",
    "3. The horizontal position represents frequency, and the height indicates energy at that frequenc. \n",
    "4. A pure tone, like a tuning fork, will create one peak on the graph, identifying its frequency. \n",
    "5. A more complex tone, like a singing voice or a violin playing, will show several peaks, representing the harmonics.\n",
    "6. A noise, like a hand clap or door banding, generates energy across all frequencies. \n",
    "7. The code cell below is can be used to create sounds of various amplitudes, pitches and timbre. Try it out, and observe the results in the spectroscope above. "
   ]
  },
  {
   "cell_type": "markdown",
   "id": "bd7798d5",
   "metadata": {},
   "source": [
    "## Creating a variety of tones\n",
    "\n",
    "Run the following cell to create a variety of sound with different pitches, amplitudes, and timbres. Take a look at the oscilloscope while the sounds are being created. Can you see the differences?"
   ]
  },
  {
   "cell_type": "code",
   "execution_count": null,
   "id": "e421b3ae",
   "metadata": {},
   "outputs": [],
   "source": [
    "def set_all(Autoplay=False, Hz = 220.0, Amp = 1.0, Timbre=1.0):\n",
    "    global signal\n",
    "    t_max = 10\n",
    "    rate = 44100\n",
    "    t = linspace(0,t_max,rate*t_max)\n",
    "    signal = sin(2*pi*Hz*t)\n",
    "    signal = minimum(signal,Timbre)\n",
    "    signal = maximum(signal,-Timbre)\n",
    "    signal = Amp*signal + sin(pi*t/t_max)\n",
    "    display(Audio(data=signal, rate=rate,autoplay=Autoplay))\n",
    "    return signal\n",
    "\n",
    "v5 = interactive(set_all, Autoplay=False, Hz=(110.0,880.0), Amp=(0.0,1.0), Timbre=(0.1,1.0))\n",
    "display(v5)"
   ]
  },
  {
   "cell_type": "markdown",
   "id": "95668ecc",
   "metadata": {},
   "source": [
    "## Questions\n",
    "\n",
    "1. As you adjust the frequency (Hz), can you see the peac change on the spectrooscope? Can you hear the change?\n",
    "2. As you adjust the amplitude (Amp), what changes in the waveform shown the spectrooscope? Can you hear the change?\n",
    "3. As you adjust the timbre, can you see peaks at multiple frequencies? Can you hear the change?\n",
    "4. Can you use the graph to identify the exact frequency of each peak? Are they integer multiples of each other?"
   ]
  },
  {
   "cell_type": "markdown",
   "id": "7aaacfc0",
   "metadata": {},
   "source": [
    "## Challenging questions\n",
    "\n",
    "1. When timbre is set to 1.0, the sound is a sine wave or a very pure tone. The spectroscope will show one peak. Why is this?\n",
    "2. When the timbre is set to 0.1, the sound has many harmonics. Can you see the various peaks? Can you pick out the exact frequency for each? The lowest frequency is call the **fundamental**. Does it agree with the Hz setting on the sliders?\n",
    "3. When the timbre is set to 0.1, the frequency of the harmonics should be multiples of the fundamental frequency. Check this out. Look at the graph and find the exact frequency of each peak. Are these frequncies integer multiples of the fundamental frequncy? (Or nearly so, to the accurage of your measurements. \n",
    "4. Can you play a note on an instument, like a flute, or clarinet, or violin? Can you see the harmonics for each one?\n"
   ]
  },
  {
   "cell_type": "markdown",
   "id": "82816094",
   "metadata": {},
   "source": [
    "## Summary\n",
    "\n",
    "We are able to display the energy in a sound, sorted by frequency, using a spectrogram.\n",
    "\n",
    "Using the spectrogram, we can see the difference between a pure tone, a musical note that is rich in harmonics, and a percussion noise like a hand clap. \n",
    "\n",
    "By measuring the frequency of the peaks, we can see a simple relationship between the fundamental frequency and the frequency of the harmonics. "
   ]
  },
  {
   "cell_type": "markdown",
   "id": "3d2651df",
   "metadata": {},
   "source": [
    "[![Callysto.ca License](https://github.com/callysto/curriculum-notebooks/blob/master/callysto-notebook-banner-bottom.jpg?raw=true)](https://github.com/callysto/curriculum-notebooks/blob/master/LICENSE.md)"
   ]
  }
 ],
 "metadata": {
  "kernelspec": {
   "display_name": "Python 3 (ipykernel)",
   "language": "python",
   "name": "python3"
  },
  "language_info": {
   "codemirror_mode": {
    "name": "ipython",
    "version": 3
   },
   "file_extension": ".py",
   "mimetype": "text/x-python",
   "name": "python",
   "nbconvert_exporter": "python",
   "pygments_lexer": "ipython3",
   "version": "3.10.5"
  }
 },
 "nbformat": 4,
 "nbformat_minor": 5
}
