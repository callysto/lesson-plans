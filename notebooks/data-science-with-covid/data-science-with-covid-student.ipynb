{
 "cells": [
  {
   "attachments": {},
   "cell_type": "markdown",
   "metadata": {},
   "source": [
    "![Callysto.ca Banner](https://github.com/callysto/curriculum-notebooks/blob/master/callysto-notebook-banner-top.jpg?raw=true)\n",
    "\n",
    "<a href=\"https://hub.callysto.ca/jupyter/hub/user-redirect/git-pull?repo=https%3A%2F%2Fgithub.com%2Fcallysto%2Flesson-plans&branch=master&subPath=notebooks/data-science-with-covid/data-science-with-covid-student.ipynb&depth=1\"><img src=\"https://raw.githubusercontent.com/callysto/curriculum-notebooks/master/open-in-callysto-button.svg?sanitize=true\" width=\"123\" height=\"24\" alt=\"Open in Callysto\"/></a>"
   ]
  },
  {
   "cell_type": "markdown",
   "metadata": {},
   "source": [
    "# Introduction to Data Science with COVID-19 Data\n",
    "\n",
    "While there are a number of well-designed dashboards and visualization tools for COVID-19 data, such as [Bing](https://bing.com/covid) and [The World Bank](http://datatopics.worldbank.org/universal-health-coverage/coronavirus/), we are going to try building something ourselves in a Jupyter notebook.\n",
    "\n",
    "This Jupyter notebook uses [COVID-19 statistics from Johns Hopkins University CSSE](https://github.com/CSSEGISandData/COVID-19), you can also see [their dashboard](https://www.arcgis.com/apps/opsdashboard/index.html#/bda7594740fd40299423467b48e9ecf6).\n",
    "\n",
    "## Licence and Disclaimer\n",
    "\n",
    "COVID-19 data sets are copyright 2020 [Johns Hopkins University](https://systems.jhu.edu) (available for educational and academic research purposes). The population data is free to use from [Gapminder](https://www.gapminder.org) under a [Creative Commons Attribution license](https://creativecommons.org/licenses/by/4.0/). This notebook also carries a [Creative Commons Attribution license](https://creativecommons.org/licenses/by/4.0/).\n",
    "\n",
    "This notebook should not be considered medical or policy-making advice. Always follow the directives and orders of your public health authority.\n",
    "\n",
    "## Getting Started\n",
    "\n",
    "First, `▶Run` the next cell to import a data set. Once the data set has been downloaded and imported into a [DataFrame](https://www.tutorialspoint.com/python_pandas/python_pandas_dataframe.htm), it will be displayed.\n",
    "\n",
    "You can change the date, but make sure you use the format `'MM-DD-YYYY'` as they do in the CSSE data set. Files are updated once a day around midnight [UTC](https://en.wikipedia.org/wiki/Coordinated_Universal_Time)."
   ]
  },
  {
   "cell_type": "code",
   "execution_count": null,
   "metadata": {},
   "outputs": [],
   "source": [
    "date = '04-08-2020'\n",
    "\n",
    "import pandas as pd\n",
    "import plotly.graph_objects as go\n",
    "\n",
    "csv_url = 'https://raw.githubusercontent.com/CSSEGISandData/COVID-19/master/csse_covid_19_data/csse_covid_19_daily_reports/'+date+'.csv'\n",
    "covid_stats = pd.read_csv(csv_url)\n",
    "covid_stats"
   ]
  },
  {
   "cell_type": "markdown",
   "metadata": {},
   "source": [
    "## Data Cleaning\n",
    "\n",
    "`Run` the next cell to clean up the data. We'll add up values for each country and create a new dataframe."
   ]
  },
  {
   "cell_type": "code",
   "execution_count": null,
   "metadata": {},
   "outputs": [],
   "source": [
    "# If you prefer specific countries, put a # in front of the next line and remove the six ' marks around the next list\n",
    "country_list = covid_stats['Country_Region'].unique()\n",
    "'''\n",
    "country_list = ['Italy', 'Spain', 'Germany', 'France', \n",
    "                'Israel', 'US', 'United Kingdom',\n",
    "                'Singapore', 'Australia', 'Canada',\n",
    "                'China', 'Argentina', 'Russia', 'India']\n",
    "'''\n",
    "df_list = []\n",
    "\n",
    "for country in country_list:\n",
    "    confirmed = covid_stats[covid_stats['Country_Region']==country]['Confirmed'].sum()\n",
    "    recovered = covid_stats[covid_stats['Country_Region']==country]['Recovered'].sum()\n",
    "    deaths = covid_stats[covid_stats['Country_Region']==country]['Deaths'].sum()\n",
    "    data_row = {'Country':country,'Confirmed':confirmed,'Recovered':recovered,'Deaths':deaths}\n",
    "    df_list.append(pd.DataFrame([data_row]))\n",
    "\n",
    "df = pd.concat(df_list, ignore_index=True)\n",
    "df.sort_values('Confirmed',ascending=False)"
   ]
  },
  {
   "cell_type": "code",
   "execution_count": null,
   "metadata": {},
   "outputs": [],
   "source": [
    "df.sort_values('Confirmed',ascending=False).tail(20)"
   ]
  },
  {
   "cell_type": "markdown",
   "metadata": {},
   "source": [
    "## Graphing Data\n",
    "\n",
    "We will use the `cufflinks` library to create a graph of our data set.\n",
    "\n",
    "```python\n",
    "import cufflinks as cf\n",
    "cf.go_offline()\n",
    "df.sort_values('Confirmed').iplot(kind='bar',x='Country',y='Confirmed')\n",
    "```\n",
    "\n",
    "Another option:\n",
    "\n",
    "```python\n",
    "import cufflinks as cf\n",
    "cf.go_offline()\n",
    "df.sort_values('Confirmed',ascending=False).head(20).iplot(kind='bar',x='Country',y='Confirmed',title='COVID Cases')\n",
    "```"
   ]
  },
  {
   "cell_type": "code",
   "execution_count": null,
   "metadata": {},
   "outputs": [],
   "source": [
    "import cufflinks as cf\n",
    "cf.go_offline()\n",
    "df.sort_values('Confirmed',ascending=False).head(20).iplot(kind='bar',x='Country',y='Confirmed',title='COVID Cases')"
   ]
  },
  {
   "cell_type": "markdown",
   "metadata": {},
   "source": [
    "### Renaming Countries\n",
    "\n",
    "The country/state naming for this data set mostly follows the [WHO list of member states](https://www.who.int/choice/demography/by_country/en/), but we can `Run` the next cell to rename some of them."
   ]
  },
  {
   "cell_type": "code",
   "execution_count": null,
   "metadata": {},
   "outputs": [],
   "source": [
    "df.replace('US','United States',regex=True,inplace=True)\n",
    "df.replace('Korea, South','South Korea',regex=True,inplace=True)"
   ]
  },
  {
   "cell_type": "code",
   "execution_count": null,
   "metadata": {},
   "outputs": [],
   "source": [
    "df"
   ]
  },
  {
   "cell_type": "markdown",
   "metadata": {},
   "source": [
    "### Listing Countries\n",
    "\n",
    "To see a list of the countries in your data set, use\n",
    "\n",
    "```python\n",
    "df['Country'].unique()\n",
    "```\n",
    "\n",
    "or\n",
    "\n",
    "```python\n",
    "covid_stats['Country_Region'].unique()\n",
    "```"
   ]
  },
  {
   "cell_type": "code",
   "execution_count": null,
   "metadata": {},
   "outputs": [],
   "source": [
    "df['Country'].unique().tolist()"
   ]
  },
  {
   "cell_type": "markdown",
   "metadata": {},
   "source": [
    "## Adding World Data\n",
    "\n",
    "We can also add up all of the values in the data set to get worldwide totals."
   ]
  },
  {
   "cell_type": "code",
   "execution_count": null,
   "metadata": {},
   "outputs": [],
   "source": [
    "confirmed = covid_stats['Confirmed'].sum()\n",
    "recovered = covid_stats['Recovered'].sum()\n",
    "deaths = covid_stats['Deaths'].sum()\n",
    "world_values = {'Country': 'World', 'Confirmed': confirmed, 'Recovered': recovered, 'Deaths': deaths}\n",
    "world_df = pd.DataFrame([world_values])\n",
    "df = pd.concat([df, world_df], ignore_index=True)\n",
    "df.tail()"
   ]
  },
  {
   "cell_type": "markdown",
   "metadata": {},
   "source": [
    "## Sorting Data\n",
    "\n",
    "`Run` the next cell to sort the data by a particular column using the code:\n",
    "\n",
    "```python\n",
    "df.sort_values('Confirmed', ascending=False).head(16)\n",
    "```\n",
    "\n",
    "The `ascending=False` is optional (the default is `True`), and `.head(16)` shows just the first 16 rows."
   ]
  },
  {
   "cell_type": "code",
   "execution_count": null,
   "metadata": {},
   "outputs": [],
   "source": []
  },
  {
   "cell_type": "markdown",
   "metadata": {},
   "source": [
    "## Selecting Specific Countries\n",
    "\n",
    "To see a DataFrame of specific countries, use either of the following two options:\n",
    "\n",
    "```python\n",
    "df[df['Country']=='Canada']\n",
    "```\n",
    "\n",
    "or\n",
    "\n",
    "```python\n",
    "list_of_countries = ['Canada', 'China', 'Italy']\n",
    "df[df['Country'].isin(list_of_countries)]\n",
    "```"
   ]
  },
  {
   "cell_type": "code",
   "execution_count": null,
   "metadata": {},
   "outputs": [],
   "source": [
    "list_of_countries = ['Canada', 'China', 'Italy']\n",
    "df[df['Country'].isin(list_of_countries)].iplot(kind='bar',x='Country',y='Recovered',title='COVID Cases')"
   ]
  },
  {
   "cell_type": "markdown",
   "metadata": {},
   "source": [
    "## Adding Population Data\n",
    "\n",
    "We'll use population data from [Gapminder](https://gapminder.org)."
   ]
  },
  {
   "cell_type": "code",
   "execution_count": null,
   "metadata": {},
   "outputs": [],
   "source": [
    "pop_sheet_id = '18Ep3s1S0cvlT1ovQG9KdipLEoQ1Ktz5LtTTQpDcWbX0'\n",
    "pop_gid = '1668956939'\n",
    "population_csv_url = 'https://docs.google.com/spreadsheets/d/'+pop_sheet_id+'/export?gid='+pop_gid+'&format=csv'\n",
    "population_data = pd.read_csv(population_csv_url)\n",
    "population = population_data[population_data['time']==2019]\n",
    "population"
   ]
  },
  {
   "cell_type": "code",
   "execution_count": null,
   "metadata": {},
   "outputs": [],
   "source": [
    "cp = population.set_index('name')\n",
    "cs = df.set_index('Country')"
   ]
  },
  {
   "cell_type": "code",
   "execution_count": null,
   "metadata": {},
   "outputs": [],
   "source": [
    "covid_combined = cs.join(cp)"
   ]
  },
  {
   "cell_type": "code",
   "execution_count": null,
   "metadata": {},
   "outputs": [],
   "source": [
    "covid_combined.drop(columns='time',inplace=True)"
   ]
  },
  {
   "cell_type": "code",
   "execution_count": null,
   "metadata": {},
   "outputs": [],
   "source": [
    "covid_combined.dropna(inplace=True)"
   ]
  },
  {
   "cell_type": "code",
   "execution_count": null,
   "metadata": {},
   "outputs": [],
   "source": [
    "covid_combined.loc[:, 'Confirmed Percentage'] = covid_combined['Confirmed'] / covid_combined['population'] * 100"
   ]
  },
  {
   "cell_type": "code",
   "execution_count": null,
   "metadata": {},
   "outputs": [],
   "source": [
    "covid_combined"
   ]
  },
  {
   "cell_type": "code",
   "execution_count": null,
   "metadata": {},
   "outputs": [],
   "source": [
    "covid_combined.sort_values('Confirmed Percentage',ascending=False).iplot(kind='bar',y='Confirmed Percentage')"
   ]
  },
  {
   "cell_type": "markdown",
   "metadata": {},
   "source": [
    "## Next Steps\n",
    "\n",
    "Hopefully that's an interesting introduction to data science using online COVID-19 data.\n",
    "\n",
    "If you would like to see time series or geographical data, here are some examples."
   ]
  },
  {
   "cell_type": "code",
   "execution_count": null,
   "metadata": {},
   "outputs": [],
   "source": [
    "time_series_confirmed_url = 'https://raw.githubusercontent.com/CSSEGISandData/COVID-19/master/csse_covid_19_data/csse_covid_19_time_series/time_series_covid19_confirmed_global.csv'\n",
    "tsc = pd.read_csv(time_series_confirmed_url)\n",
    "\n",
    "time_series_deaths_url = 'https://raw.githubusercontent.com/CSSEGISandData/COVID-19/master/csse_covid_19_data/csse_covid_19_time_series/time_series_covid19_deaths_global.csv'\n",
    "tsd = pd.read_csv(time_series_deaths_url)\n",
    "\n",
    "time_series_recovered_url = 'https://raw.githubusercontent.com/CSSEGISandData/COVID-19/master/csse_covid_19_data/csse_covid_19_time_series/time_series_covid19_recovered_global.csv'\n",
    "tsr = pd.read_csv(time_series_recovered_url)"
   ]
  },
  {
   "cell_type": "code",
   "execution_count": null,
   "metadata": {},
   "outputs": [],
   "source": [
    "tsr"
   ]
  },
  {
   "cell_type": "code",
   "execution_count": null,
   "metadata": {},
   "outputs": [],
   "source": [
    "# Create a time series graph by setting the index, dropping some columns, and Transposing rows and columns\n",
    "tsr.set_index('Country/Region').drop(columns=['Province/State','Lat','Long']).T.iplot()\n",
    "#tsr.set_index('Country/Region').drop(columns=['Province/State','Lat','Long']).T.iplot(y=['Canada', 'Mexico'])\n",
    "#tsr.set_index('Country/Region').drop(columns=['Province/State','Lat','Long']).T.iplot(y='Canada')"
   ]
  },
  {
   "cell_type": "code",
   "execution_count": null,
   "metadata": {},
   "outputs": [],
   "source": [
    "# Plot geospacial data\n",
    "import plotly.express as px\n",
    "fig = px.scatter_geo(covid_stats, lat='Lat', lon='Long_', size='Confirmed', hover_name='Combined_Key')\n",
    "fig.show()"
   ]
  },
  {
   "cell_type": "markdown",
   "metadata": {},
   "source": [
    "[![Callysto.ca License](https://github.com/callysto/curriculum-notebooks/blob/master/callysto-notebook-banner-bottom.jpg?raw=true)](https://github.com/callysto/curriculum-notebooks/blob/master/LICENSE.md)"
   ]
  }
 ],
 "metadata": {
  "kernelspec": {
   "display_name": "Python 3",
   "language": "python",
   "name": "python3"
  },
  "language_info": {
   "codemirror_mode": {
    "name": "ipython",
    "version": 3
   },
   "file_extension": ".py",
   "mimetype": "text/x-python",
   "name": "python",
   "nbconvert_exporter": "python",
   "pygments_lexer": "ipython3",
   "version": "3.10.8"
  }
 },
 "nbformat": 4,
 "nbformat_minor": 2
}
