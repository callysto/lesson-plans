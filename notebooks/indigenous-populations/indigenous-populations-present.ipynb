{
 "cells": [
  {
   "cell_type": "markdown",
   "id": "a833c648",
   "metadata": {},
   "source": [
    "![Callysto.ca Banner](https://github.com/callysto/curriculum-notebooks/blob/master/callysto-notebook-banner-top.jpg?raw=true)"
   ]
  },
  {
   "attachments": {},
   "cell_type": "markdown",
   "id": "36711e2c",
   "metadata": {},
   "source": [
    "# Indigenous Populations in Canada\n",
    "\n",
    "## A Current Data Analysis\n",
    "\n",
    "In this notebook we are looking at population data for Indigenous people across Canada.\n",
    "\n",
    "We will scrape some data from a Wikipedia webpage and then visualize the data.\n",
    "\n",
    "Our data source is the Wikipedia page [Indigenous peoples in Canada](https://en.wikipedia.org/wiki/Indigenous_peoples_in_Canada), which is largely based on the [2016 Canada Census](https://www12.statcan.gc.ca/census-recensement/2016/dp-pd/dt-td/Lp-eng.cfm?LANG=E&APATH=3&DETAIL=0&DIM=0&FL=A&FREE=0&GC=0&GID=0&GK=0&GRP=1&PID=0&PRID=10&PTYPE=109445&S=0&SHOWALL=0&SUB=0&Temporal=2017&THEME=122&VID=0&VNAMEE=&VNAMEF=)."
   ]
  },
  {
   "attachments": {},
   "cell_type": "markdown",
   "id": "ffa6337d",
   "metadata": {},
   "source": [
    "### Step 1: Libraries\n",
    "\n",
    "FIrst, we import some useful Python libraries: [pandas](https://pandas.pydata.org/) for data analysis and [Plotly Express](https://plotly.com/python/plotly-express/) for creating visualizations."
   ]
  },
  {
   "cell_type": "code",
   "execution_count": null,
   "id": "f1f38eda",
   "metadata": {},
   "outputs": [],
   "source": [
    "import pandas as pd\n",
    "import plotly.express as px\n",
    "print('Libraries imported')"
   ]
  },
  {
   "attachments": {},
   "cell_type": "markdown",
   "id": "50ee6432-3e8e-440e-9c0a-de056afcc594",
   "metadata": {
    "tags": []
   },
   "source": [
    "### Step 2: Getting Data\n",
    "\n",
    "We then read a Wikipedia webpage, and store the results in a dataframe called `df`. We've saved the data to a CSV file that we can import if things have changed on the Wikipedia page."
   ]
  },
  {
   "cell_type": "code",
   "execution_count": null,
   "id": "7e2b1521-f515-4cd3-9fbc-315d528f2356",
   "metadata": {},
   "outputs": [],
   "source": [
    "df = pd.read_html('https://en.wikipedia.org/wiki/Indigenous_peoples_in_Canada')[3]\n",
    "if df.columns[1] != 'Number':\n",
    "    print('reading data from CSV file')\n",
    "    df = pd.read_csv('data/indigenous-populations-present.csv')\n",
    "df"
   ]
  },
  {
   "attachments": {},
   "cell_type": "markdown",
   "id": "3ac9fe73-5049-4ffe-9976-0e32393a94b9",
   "metadata": {
    "tags": []
   },
   "source": [
    "### Step 3: Cleaning Up\n",
    "\n",
    "Let's clean up the dataframe.\n",
    "\n",
    "We will start by removing the last row (sources) and the last column (`Unnamed: 8`) as they don't contain useful information for our purposes."
   ]
  },
  {
   "cell_type": "code",
   "execution_count": null,
   "id": "e712b352-2866-4973-9c2f-d1220b185552",
   "metadata": {},
   "outputs": [],
   "source": [
    "df = df.drop(14)\n",
    "df = df.drop('Unnamed: 8',axis=1)\n",
    "df"
   ]
  },
  {
   "attachments": {},
   "cell_type": "markdown",
   "id": "8fc434fe",
   "metadata": {},
   "source": [
    "It turns out the column names have some problems as they include some additional characters, including some that are invisible. We can see this by listing the column names."
   ]
  },
  {
   "cell_type": "code",
   "execution_count": null,
   "id": "0f75a38b",
   "metadata": {},
   "outputs": [],
   "source": [
    "df.columns"
   ]
  },
  {
   "attachments": {},
   "cell_type": "markdown",
   "id": "0b144871",
   "metadata": {},
   "source": [
    "Let's rename the columns."
   ]
  },
  {
   "cell_type": "code",
   "execution_count": null,
   "id": "7c4bdaff",
   "metadata": {},
   "outputs": [],
   "source": [
    "df.columns = ['Province/Territory','Number','%','First Nations','Métis','Inuit','Multiple','Other']\n",
    "df"
   ]
  },
  {
   "attachments": {},
   "cell_type": "markdown",
   "id": "4bdafece",
   "metadata": {},
   "source": [
    "Let's also rename the `NaN` at the bottom of `Province/Territory` column. This really should be the total for Canada."
   ]
  },
  {
   "cell_type": "code",
   "execution_count": null,
   "id": "7551732e",
   "metadata": {},
   "outputs": [],
   "source": [
    "df['Province/Territory'][13] = 'Canada'\n",
    "df"
   ]
  },
  {
   "attachments": {},
   "cell_type": "markdown",
   "id": "9c7d41d1",
   "metadata": {},
   "source": [
    "### Step 4: Plotting the Data\n",
    "\n",
    "Let's use Plotly Express to create a bar chart of the number of Indigenous people in each Province or Territory."
   ]
  },
  {
   "cell_type": "code",
   "execution_count": null,
   "id": "aef240bc",
   "metadata": {},
   "outputs": [],
   "source": [
    "px.bar(df, x='Province/Territory', y='Number', title='A: Indigenous Populations by location')"
   ]
  },
  {
   "attachments": {},
   "cell_type": "markdown",
   "id": "f96067ae",
   "metadata": {},
   "source": [
    "### Step 5: What Went Wrong?\n",
    "\n",
    "You may have noticed that something is wrong with the. What went wrong and how do we fix it?\n",
    "\n",
    "Discuss before going to the next stage."
   ]
  },
  {
   "attachments": {},
   "cell_type": "markdown",
   "id": "be9b9696",
   "metadata": {},
   "source": [
    "### Step 6: Fixing the Data\n",
    "\n",
    "The problem is that Python thinks thoses numbers are just text strings. So we have to force them to be numbers. There is a command called `to_numeric` which will convert the text in a column into numbers."
   ]
  },
  {
   "cell_type": "code",
   "execution_count": null,
   "id": "6c15862d",
   "metadata": {},
   "outputs": [],
   "source": [
    "df['Number'] = pd.to_numeric(df['Number'], errors='coerce')\n",
    "px.bar(df, x='Province/Territory', y='Number', title='B: Indigenous Populations by Location')"
   ]
  },
  {
   "attachments": {},
   "cell_type": "markdown",
   "id": "f208789d",
   "metadata": {},
   "source": [
    "### Step 7: A Better Plot\n",
    "\n",
    "Let's drop row 13, which is the total for Canada. It is so big that it obscures the other bars.\n",
    "\n",
    "The result shows each province and territory in more detail."
   ]
  },
  {
   "cell_type": "code",
   "execution_count": null,
   "id": "949acbae",
   "metadata": {},
   "outputs": [],
   "source": [
    "px.bar(df.drop(13), x='Province/Territory', y='Number', title='C: Indigenous Populations by Province/Territory')"
   ]
  },
  {
   "attachments": {},
   "cell_type": "markdown",
   "id": "37a5d90d",
   "metadata": {},
   "source": [
    "### Step 8: Plot More Data\n",
    "\n",
    "Finally, let's do a multi-bar plot to show the breakdown of the different categories of Indigenous people in this data. Plotly has an easy way to do this, using the \"wide format\" for data frames. \n",
    "\n",
    "First, though, we need to convert the data into numerical values in each columns. Then we call the Plotly bar command."
   ]
  },
  {
   "cell_type": "code",
   "execution_count": null,
   "id": "f18b4347",
   "metadata": {},
   "outputs": [],
   "source": [
    "df['First Nations'] = pd.to_numeric(df['First Nations'], errors='coerce')\n",
    "df['Métis'] = pd.to_numeric(df['Métis'], errors='coerce')\n",
    "df['Inuit'] = pd.to_numeric(df['Inuit'], errors='coerce')\n",
    "df['Multiple'] = pd.to_numeric(df['Multiple'], errors='coerce')\n",
    "df['Other'] = pd.to_numeric(df['Other'], errors='coerce')\n",
    "px.bar(df, x='Province/Territory', y=['First Nations','Métis','Inuit','Multiple','Other'], title='D: Indigenous Populations in Canada', barmode='group')"
   ]
  },
  {
   "attachments": {},
   "cell_type": "markdown",
   "id": "c2acdcc9",
   "metadata": {},
   "source": [
    "Opps. Let's get rid of the `Canada` bar again, to make the other values clearer."
   ]
  },
  {
   "cell_type": "code",
   "execution_count": null,
   "id": "1fab9089",
   "metadata": {},
   "outputs": [],
   "source": [
    "px.bar(df.drop(13), x='Province/Territory', y=['First Nations','Métis','Inuit','Multiple','Other'], title='E: Indigenous populations in Canada', barmode='group')"
   ]
  },
  {
   "attachments": {},
   "cell_type": "markdown",
   "id": "869211a8",
   "metadata": {},
   "source": [
    "### Notes on data sources\n",
    "\n",
    "This data came from Wikipedia, based on the 2016 Canadian census.\n",
    "\n",
    "This data may be updated in the future, as the census is completed every 5 years, and often released in the fall following the year it was collected. See if you can update the data with the most current available census."
   ]
  },
  {
   "attachments": {},
   "cell_type": "markdown",
   "id": "c27e86d8",
   "metadata": {},
   "source": [
    "## Further work\n",
    "\n",
    "- What else can you do with this data? Perhaps you want to plot information about percentages. How would you do that?\n",
    "\n",
    "- What other sources of data can you get? Can you access Wikipedia data about Indigenous populations in other countries that interest you? How about the United States? Or Australia?"
   ]
  },
  {
   "attachments": {},
   "cell_type": "markdown",
   "id": "a7b0cb14",
   "metadata": {},
   "source": [
    "### A little help\n",
    "\n",
    "Let's see if we can plot the percentages, by `Province/Territory`. Try it yourself first, and then check your work here.\n",
    "\n",
    "First, remove the percentage sign by replacing it with just `''`. Then convert the percentage numbers (which are strings) to numerical values."
   ]
  },
  {
   "cell_type": "code",
   "execution_count": null,
   "id": "f250b1a5",
   "metadata": {},
   "outputs": [],
   "source": [
    "df['%'] = df['%'].str.replace('%','')\n",
    "df['%'] = pd.to_numeric(df['%'], errors='coerce')\n",
    "px.bar(df, x='Province/Territory', y='%', title='F: Indigenous Population Percent each Province or Territory')"
   ]
  },
  {
   "cell_type": "markdown",
   "id": "3d510c51",
   "metadata": {},
   "source": [
    "## Conclusions\n",
    "\n",
    "We have shown how to scrape some data from Wikipedia, place into a Pandas dataframe and produce informative charts using Plotly. Important steps including cleaning up the data to get it into a form that can be understood by the program and put into good shapre for plotting. "
   ]
  },
  {
   "cell_type": "markdown",
   "id": "8348b85a",
   "metadata": {},
   "source": [
    "[![Callysto.ca License](https://github.com/callysto/curriculum-notebooks/blob/master/callysto-notebook-banner-bottom.jpg?raw=true)](https://github.com/callysto/curriculum-notebooks/blob/master/LICENSE.md)"
   ]
  }
 ],
 "metadata": {
  "kernelspec": {
   "display_name": "Python 3 (ipykernel)",
   "language": "python",
   "name": "python3"
  },
  "language_info": {
   "codemirror_mode": {
    "name": "ipython",
    "version": 3
   },
   "file_extension": ".py",
   "mimetype": "text/x-python",
   "name": "python",
   "nbconvert_exporter": "python",
   "pygments_lexer": "ipython3",
   "version": "3.10.6"
  }
 },
 "nbformat": 4,
 "nbformat_minor": 5
}
