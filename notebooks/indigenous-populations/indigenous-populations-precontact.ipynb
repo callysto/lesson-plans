{
 "cells": [
  {
   "cell_type": "markdown",
   "id": "a833c648",
   "metadata": {},
   "source": [
    "![Callysto.ca Banner](https://github.com/callysto/curriculum-notebooks/blob/master/callysto-notebook-banner-top.jpg?raw=true)"
   ]
  },
  {
   "attachments": {},
   "cell_type": "markdown",
   "id": "36711e2c",
   "metadata": {},
   "source": [
    "# Exploring Indigenous Populations in the Americans (Canada and United States)\n",
    "\n",
    "## Prior to European Contact \n",
    "\n",
    "In this short notebook, we show how to scrape some data from a Wikipedia webpage and then visualize the data in a nice graphic.\n",
    "\n",
    "We are looking at population data for Indigenous peoples before contact with Europeans. \n",
    "\n",
    "Our data source is the Wikipedia page [Population history of the Indigenous peoples of the Americas](https://en.wikipedia.org/wiki/Population_history_of_Indigenous_peoples_of_the_Americas). Note that population estimates vary widely, often reflecting biases of various authors. "
   ]
  },
  {
   "attachments": {},
   "cell_type": "markdown",
   "id": "ffa6337d",
   "metadata": {},
   "source": [
    "### Step 1: Libraries\n",
    "\n",
    "FIrst, we import some useful Python libraries: [pandas](https://pandas.pydata.org/) for data analysis and [Plotly Express](https://plotly.com/python/plotly-express/) for creating visualizations."
   ]
  },
  {
   "cell_type": "code",
   "execution_count": null,
   "id": "f1f38eda",
   "metadata": {},
   "outputs": [],
   "source": [
    "import pandas as pd\n",
    "import plotly.express as px\n",
    "print('Libraries imported')"
   ]
  },
  {
   "attachments": {},
   "cell_type": "markdown",
   "id": "ba078237-3bf3-4b6b-8db9-ff427db377f2",
   "metadata": {},
   "source": [
    "### Step 2: Getting Data\n",
    "\n",
    "We then read a Wikipedia webpage, and store the results in a dataframe called `df`. We've saved the data to a CSV file that we can import if things have changed on the Wikipedia page."
   ]
  },
  {
   "cell_type": "code",
   "execution_count": null,
   "id": "12e5f427-fea3-4056-acb8-a8ed327eb6bd",
   "metadata": {},
   "outputs": [],
   "source": [
    "df = pd.read_html('https://en.wikipedia.org/wiki/Population_history_of_Indigenous_peoples_of_the_Americas')[0]\n",
    "if df.columns[0] != 'Author':\n",
    "    print('reading data from CSV file')\n",
    "    df = pd.read_csv('data/indigenous-populations-precontact.csv')\n",
    "df"
   ]
  },
  {
   "attachments": {},
   "cell_type": "markdown",
   "id": "79a0b0c1-e3d6-4d98-bae9-8d744945fa3a",
   "metadata": {},
   "source": [
    "### Step 3: Cleaning Data\n",
    "\n",
    "The columns contain text references to ranges of numbers, but computers usually don't like that. Instead, we're going to replace the text with the number that represents the average of the value.\n",
    "\n",
    "As we'll be focusing on the USA and Canada, we'll primarily replace values in that column."
   ]
  },
  {
   "cell_type": "code",
   "execution_count": null,
   "id": "909ebd4a-5e9e-4ef7-994d-002a6a6ec292",
   "metadata": {},
   "outputs": [],
   "source": [
    "df.replace(['2 million-3 million'],'2500000',inplace=True)\n",
    "df.replace(['0.9 million'],'900000',inplace=True)\n",
    "df.replace(['1 million'],'1000000',inplace=True)\n",
    "df.replace(['9.8-12.25 million'],'11000000',inplace=True)\n",
    "df.replace(['1.213-2.639 million'],'2000000',inplace=True)\n",
    "df.replace(['3.79 million'],'3790000',inplace=True)\n",
    "df.replace(['3.44 million'],'3440000',inplace=True)\n",
    "df.replace(['3.5 million'],'3500000',inplace=True)\n",
    "df.replace(['7 million'],'7000000',inplace=True)\n",
    "df['USA and Canada'] = pd.to_numeric(df['USA and Canada'], errors='coerce')\n",
    "df"
   ]
  },
  {
   "attachments": {},
   "cell_type": "markdown",
   "id": "5954c9a5-0286-4f7f-bef1-e3984bd0193c",
   "metadata": {},
   "source": [
    "Wikipedia is an excellent source of information, but one of the drawbacks of being so well sourced is that the editors of Wikipedia often add tags to pieces of information to show where the data came from. In our dataframe, this shows up in the Author column as \\[#\\], with various numbers depending on the source.\n",
    "\n",
    "We can remove those with the code below, that simply removes the last three characters from a string."
   ]
  },
  {
   "cell_type": "code",
   "execution_count": null,
   "id": "b4705d50-76e5-422c-8014-3d89841a8d53",
   "metadata": {},
   "outputs": [],
   "source": [
    "df['Author'] = df['Author'].str[:-4]\n",
    "df"
   ]
  },
  {
   "attachments": {},
   "cell_type": "markdown",
   "id": "6cece176",
   "metadata": {},
   "source": [
    "It will make things easier if we combine the `Author` and `Date` columns. We'll do this in the next code cell."
   ]
  },
  {
   "cell_type": "code",
   "execution_count": null,
   "id": "bd9d4f24",
   "metadata": {},
   "outputs": [],
   "source": [
    "df['Author (Year)'] = df['Author'] + ' (' + df['Date'].astype(str) + ')'\n",
    "df"
   ]
  },
  {
   "attachments": {},
   "cell_type": "markdown",
   "id": "9c7d41d1",
   "metadata": {},
   "source": [
    "### Step 4: Plotting Data\n",
    "\n",
    "Let's use Plotly Express to create a bar chart. We will plot the number of indigenous people in the USA/Canada prior to European contact."
   ]
  },
  {
   "cell_type": "code",
   "execution_count": null,
   "id": "22153fcf",
   "metadata": {},
   "outputs": [],
   "source": [
    "\n",
    "px.bar(df, x='Author (Year)', y='USA and Canada', title='Precontact Indigenous Populations Estimates by Author')\n"
   ]
  },
  {
   "attachments": {},
   "cell_type": "markdown",
   "id": "c27e86d8",
   "metadata": {},
   "source": [
    "## Further Work\n",
    "\n",
    "- What else can you do with this data? Perhaps clean up the data in other columns to make other plots.\n",
    "\n",
    "- What other sources of data can you use? Is there data for particular regions, such as B.C. or the Pacific West Coast, that might have more accurate data? Look into the work of anthropologist [Robert Boyd](https://en.wikipedia.org/wiki/Robert_Boyd_(anthropologist))."
   ]
  },
  {
   "attachments": {},
   "cell_type": "markdown",
   "id": "3d510c51",
   "metadata": {},
   "source": [
    "## Conclusions\n",
    "\n",
    "This notebook showed how to scrape data from Wikipedia into a pandas dataframe and produce informative charts. The data needed to be cleaned in order to be understood and plotted using Plotly Express."
   ]
  },
  {
   "cell_type": "markdown",
   "id": "8348b85a",
   "metadata": {},
   "source": [
    "[![Callysto.ca License](https://github.com/callysto/curriculum-notebooks/blob/master/callysto-notebook-banner-bottom.jpg?raw=true)](https://github.com/callysto/curriculum-notebooks/blob/master/LICENSE.md)"
   ]
  }
 ],
 "metadata": {
  "kernelspec": {
   "display_name": "Python 3 (ipykernel)",
   "language": "python",
   "name": "python3"
  },
  "language_info": {
   "codemirror_mode": {
    "name": "ipython",
    "version": 3
   },
   "file_extension": ".py",
   "mimetype": "text/x-python",
   "name": "python",
   "nbconvert_exporter": "python",
   "pygments_lexer": "ipython3",
   "version": "3.10.6"
  }
 },
 "nbformat": 4,
 "nbformat_minor": 5
}
