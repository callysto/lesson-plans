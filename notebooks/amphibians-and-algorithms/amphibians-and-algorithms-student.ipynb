{
 "cells": [
  {
   "cell_type": "markdown",
   "metadata": {},
   "source": [
    "![Callysto.ca Banner](https://github.com/callysto/curriculum-notebooks/blob/master/callysto-notebook-banner-top.jpg?raw=true)"
   ]
  },
  {
   "cell_type": "markdown",
   "metadata": {},
   "source": [
    "### To run this Notebook, repeatedly hit the \"Run\" button as you go down the Notebook one cell at a time.</font>"
   ]
  },
  {
   "cell_type": "markdown",
   "metadata": {},
   "source": [
    "## Let's play the Frog Jumping game! \n",
    "### The YouTube video teaches us the rules of this game."
   ]
  },
  {
   "cell_type": "code",
   "execution_count": null,
   "metadata": {},
   "outputs": [],
   "source": [
    "#Import Youtube Video\n",
    "from IPython.display import YouTubeVideo\n",
    "YouTubeVideo('R8wkhae4Pvg')"
   ]
  },
  {
   "cell_type": "markdown",
   "metadata": {},
   "source": [
    "## Now you play the Frog Jumping game!"
   ]
  },
  {
   "cell_type": "code",
   "execution_count": null,
   "metadata": {},
   "outputs": [],
   "source": [
    "%%html\n",
    "<link rel=\"stylesheet\" href=\"style.css\">\n",
    "    <div class=\"frogNum\">\n",
    "        <label for=\"frogs\"><strong>Choose number of frogs: </strong></label>\n",
    "        <select name=\"frogs\" id=\"frogNumberSelector\">\n",
    "            <option value=\"2\" selected>4 Frogs</option>\n",
    "            <option value=\"3\">6 Frogs</option>\n",
    "            <option value=\"4\">8 Frogs</option>\n",
    "        </select>\n",
    "    </div>\n",
    "    <div class=\"mainGrid\">\n",
    "        <ul id=\"frogList\" class=\"frogGrid\">\n",
    "            <li class=\"btns\" onclick=\"resetFrogs()\"><span>Reset</span></li>\n",
    "            <li class=\"btns\" onclick=\"undo()\"><span>Undo</span></li>\n",
    "            <li class=\"counter\">Your moves: <span id=\"counter\">0</span></li>\n",
    "        </ul>\n",
    "    </div>\n",
    "    \n",
    "        <div>\n",
    "        <table id=\"moveTable\">\n",
    "            <tr>\n",
    "                <th>Step Number</th>\n",
    "                <th>Current Position</th>\n",
    "                <th>Move</th>\n",
    "            </tr>\n",
    "        </table>\n",
    "    </div>\n",
    "\n",
    "    <script src=\"https://code.jquery.com/jquery-3.3.1.slim.min.js\" integrity=\"sha256-3edrmyuQ0w65f8gfBsqowzjJe2iM6n0nKciPUp8y+7E=\"\n",
    "        crossorigin=\"anonymous\"></script>\n",
    "    <script src=\"main.js\"></script>"
   ]
  },
  {
   "cell_type": "markdown",
   "metadata": {},
   "source": [
    "## Below is a Python program that takes YOUR move sequence, and applies it to the starting position."
   ]
  },
  {
   "cell_type": "code",
   "execution_count": null,
   "metadata": {},
   "outputs": [],
   "source": [
    "def play_game(starting_position, move_sequence):\n",
    "    \n",
    "    Rlist=[]\n",
    "    Glist=[]\n",
    "    Empty=0\n",
    "    totalmoves=0\n",
    "    counter=0\n",
    "    flag=0\n",
    "\n",
    "    for i in range(0,len(starting_position)):\n",
    "        if starting_position[i]=='R':\n",
    "            counter+=1\n",
    "            Rlist.append(counter)\n",
    "        if starting_position[i]=='G':\n",
    "            counter+=1\n",
    "            Glist.append(counter)\n",
    "        if starting_position[i]=='_':\n",
    "            counter+=1\n",
    "            Empty=counter\n",
    "\n",
    "    startRlist=list.copy(Rlist)\n",
    "    startGlist=list.copy(Glist)\n",
    "    startEmpty=Empty\n",
    "\n",
    "    for i in range(0,len(move_sequence)):\n",
    "        if move_sequence[i]=='R':\n",
    "            totalmoves+=1\n",
    "            print(\"\")\n",
    "            if Empty-1 in Rlist:\n",
    "                Rlist.remove(Empty-1)\n",
    "                Rlist.append(Empty)\n",
    "                Empty=Empty-1\n",
    "            elif Empty-2 in Rlist and Empty-1 in Glist:\n",
    "                Rlist.remove(Empty-2)\n",
    "                Rlist.append(Empty)\n",
    "                Empty=Empty-2\n",
    "            else:\n",
    "                print(\"\")\n",
    "                print(\"ERROR: sorry you made a mistake after\", totalmoves, \"total moves\")\n",
    "                flag=1\n",
    "                break\n",
    "        if move_sequence[i]=='G': \n",
    "            totalmoves+=1\n",
    "            print(\"\")\n",
    "            if Empty+1 in Glist:\n",
    "                Glist.remove(Empty+1)\n",
    "                Glist.append(Empty)\n",
    "                Empty=Empty+1\n",
    "            elif Empty+2 in Glist and Empty+1 in Rlist:\n",
    "                Glist.remove(Empty+2)\n",
    "                Glist.append(Empty)\n",
    "                Empty=Empty+2\n",
    "            else:\n",
    "                print(\"\")\n",
    "                print(\"ERROR: sorry you made a mistake after\", totalmoves, \"total moves\")\n",
    "                flag=1\n",
    "                break\n",
    "\n",
    "        if move_sequence[i]=='R' or move_sequence[i]=='G':\n",
    "            for j in range(0,counter+1):\n",
    "                if j in Rlist: print(\"R \", end = \" \") \n",
    "                elif j in Glist: print(\"G \", end = \" \")\n",
    "                elif j == Empty: print(\"_ \", end = \" \") \n",
    "                else: print(\"\", end = \" \")\n",
    "            print(\"\")\n",
    "    \n",
    "    print(\"\")\n",
    "    \n",
    "    startRlist.sort()\n",
    "    startGlist.sort()\n",
    "    Rlist.sort()\n",
    "    Glist.sort()\n",
    "    \n",
    "    if flag==0:\n",
    "        if startRlist==Glist and startGlist==Rlist and startEmpty==Empty:\n",
    "            print(\"Congratulations! You have solved the problem in\", totalmoves, \"total moves\")\n",
    "        else:\n",
    "            print(\"You have currently made\", totalmoves, \"total moves.  Keep going!\")\n",
    "        \n"
   ]
  },
  {
   "cell_type": "markdown",
   "metadata": {},
   "source": [
    "## Input your STARTING POSITION below, with team names R and G\n",
    "### For example, with four people on each team, write down RRRR _ GGGG"
   ]
  },
  {
   "cell_type": "code",
   "execution_count": null,
   "metadata": {},
   "outputs": [],
   "source": [
    "starting_position = 'RR_GG'"
   ]
  },
  {
   "cell_type": "markdown",
   "metadata": {},
   "source": [
    "## Now input your MOVE SEQUENCE, to try to solve the game\n",
    "### For example, with two people on each team, one solution is G RR GG RR G"
   ]
  },
  {
   "cell_type": "code",
   "execution_count": null,
   "metadata": {},
   "outputs": [],
   "source": [
    "move_sequence = 'G RR GG RR G'"
   ]
  },
  {
   "cell_type": "markdown",
   "metadata": {},
   "source": [
    "## Click the Run button to check your solution!"
   ]
  },
  {
   "cell_type": "code",
   "execution_count": null,
   "metadata": {},
   "outputs": [],
   "source": [
    "play_game(starting_position, move_sequence)"
   ]
  },
  {
   "cell_type": "markdown",
   "metadata": {},
   "source": [
    "[![Callysto.ca License](https://github.com/callysto/curriculum-notebooks/blob/master/callysto-notebook-banner-bottom.jpg?raw=true)](https://github.com/callysto/curriculum-notebooks/blob/master/LICENSE.md)"
   ]
  }
 ],
 "metadata": {
  "kernelspec": {
   "display_name": "Python 3 (ipykernel)",
   "language": "python",
   "name": "python3"
  },
  "language_info": {
   "codemirror_mode": {
    "name": "ipython",
    "version": 3
   },
   "file_extension": ".py",
   "mimetype": "text/x-python",
   "name": "python",
   "nbconvert_exporter": "python",
   "pygments_lexer": "ipython3",
   "version": "3.9.13"
  }
 },
 "nbformat": 4,
 "nbformat_minor": 2
}
