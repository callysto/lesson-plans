{
 "cells": [
  {
   "cell_type": "markdown",
   "metadata": {},
   "source": [
    "![alt text](https://github.com/callysto/callysto-sample-notebooks/blob/master/notebooks/images/Callysto_Notebook-Banner_Top_06.06.18.jpg?raw=true)"
   ]
  },
  {
   "cell_type": "markdown",
   "metadata": {},
   "source": [
    "# The Frog Jumping Problem\n",
    "\n",
    "#### In this Callysto Notebook, we present a lesson that was first taught to Grade 4/5 students at Wishart Elementary School in Colwood, and Grade 7/8 students at Coast Mountain Academy in Squamish.\n",
    "\n",
    "#### To use this Notebook, repeatedly click the \"Run\" button above, until you reach the end.  The teacher manual is embedded in this Notebook, marked in <font color='red'>red</font>.\n",
    "\n",
    "##### Written by Richard Hoshino"
   ]
  },
  {
   "cell_type": "markdown",
   "metadata": {},
   "source": [
    "#### <font color='red'>There are two ways to introduce the Frog Jumping Problem.  The first way is to show the following YouTube video, which presents the problem and walks the students through the scenario with 3 red frogs and 3 green frogs.  To play the video, click the triangular \"Play\" button appearing in the middle of the video's screen.</font>\n",
    "\n",
    "#### <font color='red'>If you do show the video, make sure you cut off the video at the 2:30 mark, just after the solution is revealed.</font>\n",
    "\n",
    "#### <font color='red'>The second (and better) way to introduce the Frog Jumping Problem is to invite six students to come up to the front of the classroom.  They will sit in a line of seven chairs, with an empty chair in the middle.  The three students on the left will be the red frog team, and the three students on the right will be the green frog team.  If you have access to coloured gym pinnies, have each student put on a red or green pinny corresponding to their team colour.</font>\n",
    "\n",
    "#### <font color='red'>Now introduce the rules: the red team can only move to the right, and the green team can only move to the left.  On any move, a student can either <i>Slide</i> into the empty chair, or a <i>Jump</i> over one player from the other team into the empty chair.  The goal is to have the two teams swap positions, where the green team ends up on the left and the red team ends up on the right.</font>\n",
    "\n",
    "#### <font color='red'>If the six students are ever stuck, and cannot make a legal move, then they have to start from the beginning.  They are to keep going until the game is solved, where the three green students are on the left and the three red students are on the right.</font>\n",
    "\n",
    "#### <font color='red'>Students will need to be reminded that reds can only jump over greens, and vice versa.  Also, in each jump, a player can only jump over one player from the opposite colour.</font>\n",
    "\n",
    "#### <font color='red'>Have the six students try to solve the game, either working amongst themselves, or enlisting the help of everyone else in the class.  I highly recommend that the students attempt this without talking.  When I lead this activity, I say this to the students: \"you may communicate in any way that you wish, but you can't use words\". </font>\n",
    "\n",
    "#### <font color='red'>The solution appears in the YouTube video below.  If we denote the team names as Green (G) and Red (R), this sequence of fifteen moves solves the problem: G, R, R, G, G, G, R, R, R, G, G, G, R, R, G</font>\n",
    "\n"
   ]
  },
  {
   "cell_type": "markdown",
   "metadata": {},
   "source": [
    "## Let's play the Frog Jumping game! \n",
    "### The YouTube video teaches us the rules of this game."
   ]
  },
  {
   "cell_type": "code",
   "execution_count": 1,
   "metadata": {},
   "outputs": [
    {
     "data": {
      "image/jpeg": "[encoded data removed]",
      "text/html": [
       "\n",
       "        <iframe\n",
       "            width=\"400\"\n",
       "            height=\"300\"\n",
       "            src=\"https://www.youtube.com/embed/R8wkhae4Pvg\"\n",
       "            frameborder=\"0\"\n",
       "            allowfullscreen\n",
       "        ></iframe>\n",
       "        "
      ],
      "text/plain": [
       "<IPython.lib.display.YouTubeVideo at 0x7f0098567240>"
      ]
     },
     "execution_count": 1,
     "metadata": {},
     "output_type": "execute_result"
    }
   ],
   "source": [
    "#Import Youtube Video\n",
    "from IPython.display import YouTubeVideo\n",
    "YouTubeVideo('R8wkhae4Pvg')"
   ]
  },
  {
   "cell_type": "markdown",
   "metadata": {},
   "source": [
    "#### <font color='red'>Now have your students pair up, open up a shared computer, load this Notebook, and play the Frog Jumping Game on the computer.  To do so, they need to keep hitting the Run button until they see the game below, with a bunch of smiling red and green frogs on a log.</font>\n",
    "\n",
    "#### <font color='red'>Have your students solve all three games: where the total number of red and green frogs is 4, 6, and 8.  To move a frog (either a Slide or a Jump), you just need to click on that frog.</font>\n",
    "\n",
    "#### <font color='red'>Have them keep track of the moves they make, so they can list the <i>move sequence</i> that solves the game.  Assuming the green frog moves first, the correct move sequences are:</font>\n",
    "\n",
    "#### <font color='red'>For 4 frogs: G, R, R, G, G, R, R, G</font>\n",
    "\n",
    "#### <font color='red'>For 6 frogs: G, R, R, G, G, G, R, R, R, G, G, G, R, R, G </font>\n",
    "\n",
    "#### <font color='red'>For 8 frogs: G, R, R, G, G, G, R, R, R, R, G, G, G, G, R, R, R, R, G, G, G, R, R, G </font>\n",
    "\n",
    "#### <font color='red'>This is not at all obvious, but it turns out that there is only one solution to the problem if the green frog moves first, and only one solution to the problem if the red frog moves first.  In all moves (other than the initial move), whenever there are two possible moves, one of these moves will lead to the team becoming stuck.  This is why the solution is unique.   \n",
    "\n",
    "\n"
   ]
  },
  {
   "cell_type": "markdown",
   "metadata": {},
   "source": [
    "## Now you play the Frog Jumping game!"
   ]
  },
  {
   "cell_type": "code",
   "execution_count": 2,
   "metadata": {},
   "outputs": [
    {
     "data": {
      "text/html": [
       "<link rel=\"stylesheet\" href=\"style.css\">\n",
       "    <div class=\"frogNum\">\n",
       "        <label for=\"frogs\"><strong>Choose number of frogs: </strong></label>\n",
       "        <select name=\"frogs\" id=\"frogNumberSelector\">\n",
       "            <option value=\"2\" selected>4 Frogs</option>\n",
       "            <option value=\"3\">6 Frogs</option>\n",
       "            <option value=\"4\">8 Frogs</option>\n",
       "        </select>\n",
       "    </div>\n",
       "    <div class=\"mainGrid\">\n",
       "        <ul id=\"frogList\" class=\"frogGrid\">\n",
       "            <li class=\"btns\" onclick=\"resetFrogs()\"><span>Reset</span></li>\n",
       "            <li class=\"btns\" onclick=\"undo()\"><span>Undo</span></li>\n",
       "            <li class=\"counter\">Your moves: <span id=\"counter\">0</span></li>\n",
       "        </ul>\n",
       "    </div>\n",
       "    \n",
       "        <div>\n",
       "        <table id=\"moveTable\">\n",
       "            <tr>\n",
       "                <th>Step Number</th>\n",
       "                <th>Current Position</th>\n",
       "                <th>Move</th>\n",
       "            </tr>\n",
       "        </table>\n",
       "    </div>\n",
       "\n",
       "    <script src=\"https://code.jquery.com/jquery-3.3.1.slim.min.js\" integrity=\"sha256-3edrmyuQ0w65f8gfBsqowzjJe2iM6n0nKciPUp8y+7E=\"\n",
       "        crossorigin=\"anonymous\"></script>\n",
       "    <script src=\"main.js\"></script>\n"
      ],
      "text/plain": [
       "<IPython.core.display.HTML object>"
      ]
     },
     "metadata": {},
     "output_type": "display_data"
    }
   ],
   "source": [
    "%%html\n",
    "<link rel=\"stylesheet\" href=\"style.css\">\n",
    "    <div class=\"frogNum\">\n",
    "        <label for=\"frogs\"><strong>Choose number of frogs: </strong></label>\n",
    "        <select name=\"frogs\" id=\"frogNumberSelector\">\n",
    "            <option value=\"2\" selected>4 Frogs</option>\n",
    "            <option value=\"3\">6 Frogs</option>\n",
    "            <option value=\"4\">8 Frogs</option>\n",
    "        </select>\n",
    "    </div>\n",
    "    <div class=\"mainGrid\">\n",
    "        <ul id=\"frogList\" class=\"frogGrid\">\n",
    "            <li class=\"btns\" onclick=\"resetFrogs()\"><span>Reset</span></li>\n",
    "            <li class=\"btns\" onclick=\"undo()\"><span>Undo</span></li>\n",
    "            <li class=\"counter\">Your moves: <span id=\"counter\">0</span></li>\n",
    "        </ul>\n",
    "    </div>\n",
    "    \n",
    "        <div>\n",
    "        <table id=\"moveTable\">\n",
    "            <tr>\n",
    "                <th>Step Number</th>\n",
    "                <th>Current Position</th>\n",
    "                <th>Move</th>\n",
    "            </tr>\n",
    "        </table>\n",
    "    </div>\n",
    "\n",
    "    <script src=\"https://code.jquery.com/jquery-3.3.1.slim.min.js\" integrity=\"sha256-3edrmyuQ0w65f8gfBsqowzjJe2iM6n0nKciPUp8y+7E=\"\n",
    "        crossorigin=\"anonymous\"></script>\n",
    "    <script src=\"main.js\"></script>"
   ]
  },
  {
   "cell_type": "markdown",
   "metadata": {},
   "source": [
    "#### <font color='red'>Write down the correct move sequences on the board, and ask students if they notice any patterns.  They might notice that the number of moves required is 8, 15, and 24, respectively.  Perhaps it's not a coincidence that 8=2x4, 15=3x5, and 24=4x6.  They can use this information to predict the number of moves that will be required to solve larger instances of the problem, which they will do momentarily.    \n",
    "    \n",
    "#### <font color='red'>Another key insight is that the letters G and R in the move sequence occur in <i>blocks</i>.  So what we can do is express the move sequences as a code of numbers, where each number represents how many consecutive moves of that colour we make.  For example, the sequence G, R, R, G, G, R, R, G can be thought of as 1G, 2R, 2G, 2R, 1G, and we can write this as 12-2-21.    \n",
    "\n",
    "#### <font color='red'>For 4 frogs: G, R, R, G, G, R, R, G is equal to the code 12-2-21</font>\n",
    "\n",
    "#### <font color='red'>For 6 frogs: G, R, R, G, G, G, R, R, R, G, G, G, R, R, G is equal to the code 123-3-321</font>\n",
    "\n",
    "#### <font color='red'>For 8 frogs: G, R, R, G, G, G, R, R, R, R, G, G, G, G, R, R, R, R, G, G, G, R, R, G is equal to the code 1234-4-4321</font>\n",
    "\n",
    "#### <font color='red'>And now the pattern will be clear to the students.  For 10 frogs, with five of each colour, the correct code is 12345-5-54321, and they can use this code to create the desired move sequence of G's and R's.  Bring 10 volunteers up to the front of the class to illustrate this, to show how the move sequence G-RR-GGG-RRRR-GGGGG-RRRRR-GGGGG-RRRR-GGG-RR-G solves the problem with 5 green frogs and 5 red frogs.</font>\n",
    "    \n",
    "#### <font color='red'>This is a beautiful illustration of computational thinking and mathematical problem-solving, where we solve smaller simpler problems to find patterns and use these patterns to solve harder problems.</font> "
   ]
  },
  {
   "cell_type": "markdown",
   "metadata": {},
   "source": [
    "## Below is a Python program that takes YOUR move sequence, and applies it to the starting position."
   ]
  },
  {
   "cell_type": "code",
   "execution_count": 3,
   "metadata": {},
   "outputs": [],
   "source": [
    "def play_game(starting_position, move_sequence):\n",
    "    \n",
    "    Rlist=[]\n",
    "    Glist=[]\n",
    "    Empty=0\n",
    "    totalmoves=0\n",
    "    counter=0\n",
    "    flag=0\n",
    "\n",
    "    for i in range(0,len(starting_position)):\n",
    "        if starting_position[i]=='R':\n",
    "            counter+=1\n",
    "            Rlist.append(counter)\n",
    "        if starting_position[i]=='G':\n",
    "            counter+=1\n",
    "            Glist.append(counter)\n",
    "        if starting_position[i]=='_':\n",
    "            counter+=1\n",
    "            Empty=counter\n",
    "\n",
    "    startRlist=list.copy(Rlist)\n",
    "    startGlist=list.copy(Glist)\n",
    "    startEmpty=Empty\n",
    "\n",
    "    for i in range(0,len(move_sequence)):\n",
    "        if move_sequence[i]=='R':\n",
    "            totalmoves+=1\n",
    "            print(\"\")\n",
    "            if Empty-1 in Rlist:\n",
    "                Rlist.remove(Empty-1)\n",
    "                Rlist.append(Empty)\n",
    "                Empty=Empty-1\n",
    "            elif Empty-2 in Rlist and Empty-1 in Glist:\n",
    "                Rlist.remove(Empty-2)\n",
    "                Rlist.append(Empty)\n",
    "                Empty=Empty-2\n",
    "            else:\n",
    "                print(\"\")\n",
    "                print(\"ERROR: sorry you made a mistake after\", totalmoves, \"total moves\")\n",
    "                flag=1\n",
    "                break\n",
    "        if move_sequence[i]=='G': \n",
    "            totalmoves+=1\n",
    "            print(\"\")\n",
    "            if Empty+1 in Glist:\n",
    "                Glist.remove(Empty+1)\n",
    "                Glist.append(Empty)\n",
    "                Empty=Empty+1\n",
    "            elif Empty+2 in Glist and Empty+1 in Rlist:\n",
    "                Glist.remove(Empty+2)\n",
    "                Glist.append(Empty)\n",
    "                Empty=Empty+2\n",
    "            else:\n",
    "                print(\"\")\n",
    "                print(\"ERROR: sorry you made a mistake after\", totalmoves, \"total moves\")\n",
    "                flag=1\n",
    "                break\n",
    "\n",
    "        if move_sequence[i]=='R' or move_sequence[i]=='G':\n",
    "            for j in range(0,counter+1):\n",
    "                if j in Rlist: print(\"R \", end = \" \") \n",
    "                elif j in Glist: print(\"G \", end = \" \")\n",
    "                elif j == Empty: print(\"_ \", end = \" \") \n",
    "                else: print(\"\", end = \" \")\n",
    "            print(\"\")\n",
    "    \n",
    "    print(\"\")\n",
    "    \n",
    "    startRlist.sort()\n",
    "    startGlist.sort()\n",
    "    Rlist.sort()\n",
    "    Glist.sort()\n",
    "    \n",
    "    if flag==0:\n",
    "        if startRlist==Glist and startGlist==Rlist and startEmpty==Empty:\n",
    "            print(\"Congratulations! You have solved the problem in\", totalmoves, \"total moves\")\n",
    "        else:\n",
    "            print(\"You have currently made\", totalmoves, \"total moves.  Keep going!\")\n",
    "        \n"
   ]
  },
  {
   "cell_type": "markdown",
   "metadata": {},
   "source": [
    "#### <font color='red'>Now have your students solve harder problems directly in this Notebook.  To do this, they will need to input their STARTING POSITION, and then input their MOVE SEQUENCE.  If they do this correctly, they will receive a Congratulations message once they run their program.\n",
    "\n",
    "#### <font color='red'>Note that the number of red and green frogs must be equal.  For example, with five people on each team, their STARTING POSITION will be RRRRR_GGGGG, where the underscore symbol _ denotes the empty chair. </font>\n",
    "\n",
    "#### <font color='red'>Now the students will input the MOVE SEQUENCE that will solve the problem.  For example, with five frogs of each colour, the move sequence G-RR-GGG-RRRR-GGGGG-RRRRR-GGGGG-RRRR-GGG-RR-G will move all the greens to the left and all the reds to the right, as we see from the Python program.</font>\n",
    "    \n",
    "#### <font color='red'>Have the students try harder cases, such as 6 frogs of each colour, or even 10 frogs of each colour!  What will be the correct move sequences in these scenarios?</font>\n"
   ]
  },
  {
   "cell_type": "markdown",
   "metadata": {},
   "source": [
    "## Input your STARTING POSITION below, with team names R and G\n",
    "### For example, with four people on each team, write down RRRR _ GGGG"
   ]
  },
  {
   "cell_type": "code",
   "execution_count": 4,
   "metadata": {},
   "outputs": [],
   "source": [
    "starting_position = 'RR_GG'"
   ]
  },
  {
   "cell_type": "markdown",
   "metadata": {},
   "source": [
    "## Now input your MOVE SEQUENCE, to try to solve the game\n",
    "### For example, with two people on each team, one solution is G RR GG RR G"
   ]
  },
  {
   "cell_type": "code",
   "execution_count": 5,
   "metadata": {},
   "outputs": [],
   "source": [
    "move_sequence = 'G RR GG RR G'"
   ]
  },
  {
   "cell_type": "markdown",
   "metadata": {},
   "source": [
    "## Click the Run button to check your solution!"
   ]
  },
  {
   "cell_type": "code",
   "execution_count": 6,
   "metadata": {},
   "outputs": [
    {
     "name": "stdout",
     "output_type": "stream",
     "text": [
      "\n",
      " R  R  G  _  G  \n",
      "\n",
      " R  _  G  R  G  \n",
      "\n",
      " _  R  G  R  G  \n",
      "\n",
      " G  R  _  R  G  \n",
      "\n",
      " G  R  G  R  _  \n",
      "\n",
      " G  R  G  _  R  \n",
      "\n",
      " G  _  G  R  R  \n",
      "\n",
      " G  G  _  R  R  \n",
      "\n",
      "Congratulations! You have solved the problem in 8 total moves\n"
     ]
    }
   ],
   "source": [
    "play_game(starting_position, move_sequence)"
   ]
  },
  {
   "cell_type": "markdown",
   "metadata": {},
   "source": [
    "#### <font color='red'>For more advanced classes (say a Grade 11 or 12 class), the students may wish to investigate the 2-dimensional version of this game, where the game is played on a square board, rather than a single row.  In this variation, the red team can only move right and down, while the green team can only move left and up.  Students can play the game at https://www.cut-the-knot.org/SimpleGames/FrogsAndToads2D.shtml\n",
    "    \n",
    "#### <font color='red'>For your strongest students, here is one final challenge problem: </font>\n",
    "\n",
    "#### <font color='red'>Suppose we begin with R red frogs on the left and G green frogs on the right, where R and G are any positive intgers (that are not necessarily equal!)  Determine the correct sequence of moves to solve this game, so that the G green frogs end up on the left, and the R red frogs end up on the right.</font>\n",
    "\n",
    "#### <font color='red'>In your sequence of moves, how many total Jumps take place, and how many total Slides take place?  (Both answers will be a simple formula in terms of R and G.)  Clearly explain why these two formulas make sense.</font>\n",
    "   \n",
    "#### <font color='red'>I will purposely not post the solution to that challenge problem here.  However, your students are encouraged to write out their solution, scan it as a PDF, and then e-mail it to me (richard.hoshino@gmail.com).  I would be happy to write to the student and provide feedback on their solution.</font>\n",
    "    "
   ]
  },
  {
   "cell_type": "markdown",
   "metadata": {},
   "source": [
    "![alt text](https://github.com/callysto/callysto-sample-notebooks/blob/master/notebooks/images/Callysto_Notebook-Banners_Bottom_06.06.18.jpg?raw=true)"
   ]
  }
 ],
 "metadata": {
  "kernelspec": {
   "display_name": "Python 3",
   "language": "python",
   "name": "python3"
  },
  "language_info": {
   "codemirror_mode": {
    "name": "ipython",
    "version": 3
   },
   "file_extension": ".py",
   "mimetype": "text/x-python",
   "name": "python",
   "nbconvert_exporter": "python",
   "pygments_lexer": "ipython3",
   "version": "3.6.8"
  }
 },
 "nbformat": 4,
 "nbformat_minor": 2
}
