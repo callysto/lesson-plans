{
 "cells": [
  {
   "cell_type": "markdown",
   "id": "a39077dc-558d-440b-b48d-05fe9135c775",
   "metadata": {},
   "source": [
    "![Callysto.ca Banner](https://github.com/callysto/curriculum-notebooks/blob/master/callysto-notebook-banner-top.jpg?raw=true)"
   ]
  },
  {
   "cell_type": "markdown",
   "id": "1729d17b-268c-42a3-a283-93e153fa2f5b",
   "metadata": {},
   "source": [
    "# Baseball Analytics\n",
    "\n",
    "Welcome to another Jupyter notebook on baseball analytics. This notebook is a free resource and is part of the Callysto project, which brings data science skills to grades 5 to 12 classrooms. \n",
    "\n",
    "In this notebook, we’ll start by looking at some baseball statistical data, specifically on batters and what pitches they are good at hitting.\n",
    "\n",
    "In real major league baseball, computing statistic are key to understanding how players are valued by their team. The money Moneyball, with Brad Pitt and Jonah Hill is all about baseball analytics. \n",
    "\n",
    "Visualizations are coded using Python, a computer programming language. Python contains words from English and is used by data scientists. Programming languages are how people communicate with computers. Our graphics are done in Plotly, which makes it easy to create line chart, scatter plots and even heat maps. This is all great for understanding the baseball statistics \n",
    "\n",
    "# Strike Zone Heatmaps\n",
    "\n",
    "It can be of strategic interest to know what areas of the strike zone a hitter is most likely to make good contact with the ball in. Hitters want to wait for pitches in those zones, and pitchers want to avoid them. We'll explore two visualizations that can quickly show that: barreled balls, and *all* balls hit into play.\n",
    "\n",
    "This visualization is a construction of a heatmap of a player's ['barreled balls'](https://www.mlb.com/glossary/statcast/barrel). A barreled ball has a specific definition, but in simple terms refers to a hit where the batter has put considerable power and launch angle into the ball, increasing the chances for them to reach base safely:\n",
    "\n",
    "<div>\n",
    "<!-- <img src = 'img/r8ilsaxwpjhtbszghayu.jpg' width = 600/> -->\n",
    "<img src = 'https://img.mlbstatic.com/mlb-images/image/private/mlb/r8ilsaxwpjhtbszghayu' width=750 />\n",
    "\n",
    "</div>\n",
    "\n",
    "<p>\n",
    "    <font size = 2>\n",
    "    https://img.mlbstatic.com/mlb-images/image/private/mlb/r8ilsaxwpjhtbszghayu\n",
    "    </font>\n",
    "</p>"
   ]
  },
  {
   "cell_type": "markdown",
   "id": "23770c8a-4c1e-4600-bebd-2dc2e7026173",
   "metadata": {},
   "source": [
    "## Barreled ball heatmaps.\n",
    "\n",
    "In a barreled ball heatmap, greater density equates to a higher rate of barreled balls and thus higher likelihood of a base hit (or even HR). Hitters want to focus on swinging at balls in the denser regions of their heatmaps, and pitchers want to avoid those regions.\n",
    "\n",
    "## Coding\n",
    "\n",
    "To start our coding, we import two useful libraries: **Plotly for graphing,** and **pybaseball** for accessing Major League Baseball data. \n",
    "\n",
    "To learn more about **pybaseball** you can access its documentation on Github: https://github.com/jldbc/pybaseball/tree/master/docs\n",
    "\n",
    "Run the following code cells to complete this notebook."
   ]
  },
  {
   "cell_type": "code",
   "execution_count": null,
   "id": "754f0af4-b4ad-42ef-8ad9-187dff257e98",
   "metadata": {},
   "outputs": [],
   "source": [
    "!pip install pybaseball"
   ]
  },
  {
   "cell_type": "code",
   "execution_count": null,
   "id": "883889e2-cd2c-44af-8fd2-7cbc4c0f8ff5",
   "metadata": {},
   "outputs": [],
   "source": [
    "from pybaseball import playerid_lookup, statcast_batter\n",
    "import plotly.graph_objects as go"
   ]
  },
  {
   "cell_type": "markdown",
   "id": "5e74c195-e724-4422-bb81-1dbf754ba28e",
   "metadata": {},
   "source": [
    "## Finding a player\n",
    "\n",
    "We use the **lookup** command to find the ID of any player, which we will need to access the player database. \n",
    "\n",
    "Here we look up the 2021 Americal League Most Valuable Player, Shohei Ohtani. "
   ]
  },
  {
   "cell_type": "code",
   "execution_count": null,
   "id": "5a0c5dcd-ae25-4b46-98e8-1624d7ebeeab",
   "metadata": {},
   "outputs": [],
   "source": [
    "# Load data for 2021 AL MVP Shohei Ohtani\n",
    "playerID = playerid_lookup('Ohtani', 'Shohei')\n",
    "playerID"
   ]
  },
  {
   "cell_type": "markdown",
   "id": "965ff680-cf35-4767-ba31-bd5d1c404420",
   "metadata": {},
   "source": [
    "We see his player ID is **660271.** We use this number in the following command to look up his data for the baseball season of 2021. "
   ]
  },
  {
   "cell_type": "code",
   "execution_count": null,
   "id": "f9056ddd-c6f6-40d8-992b-758a90125536",
   "metadata": {},
   "outputs": [],
   "source": [
    "data = statcast_batter('2021-04-01', '2021-10-03', player_id = 660271)\n",
    "data"
   ]
  },
  {
   "cell_type": "markdown",
   "id": "4827f315-22d0-4f13-adeb-ab0493784898",
   "metadata": {},
   "source": [
    "## Examining the data\n",
    "\n",
    "We see there is a lot of information here, contained in over 2500 rows and almost 100 columns. \n",
    "\n",
    "Let's first look at the names of all the columns."
   ]
  },
  {
   "cell_type": "code",
   "execution_count": null,
   "id": "1d37aece-861c-4cbe-8d75-125f7ef8d62d",
   "metadata": {},
   "outputs": [],
   "source": [
    "data.columns"
   ]
  },
  {
   "cell_type": "markdown",
   "id": "08258528-b57d-4f96-a6cb-61dcd41b254a",
   "metadata": {},
   "source": [
    "## Important columns\n",
    "\n",
    "There is a lot of information in this data frame. Each row represents an individual pitch during some game, thrown to this particular player. Each column has information about the pitch: the type of pitch, the date of the game, the speed at which the pitch was thrown, and so on. \n",
    "\n",
    "In this notebook, we are interested in the **description** of the pitch, the position of the call when it reaches the player (**plate_x** and **plate_z** which are the horizontal and vertical coordinates of the position), the **launch_angle** and the **launch_speed.**\n",
    "\n",
    "The strike zone is also important: it is the rectangular box near the player where the pitcher is supposed to throw the ball. The strike zone is always 17 inches wide, so we easily compute the left and right borders for the strike zone. The top and bottom borders depend on the player (it is based on their physical size) which we can gather from the data base."
   ]
  },
  {
   "cell_type": "code",
   "execution_count": null,
   "id": "b34b3330-edc5-4a87-a941-9428b62a1c0a",
   "metadata": {},
   "outputs": [],
   "source": [
    "sz_left = -17/2/12        # 17 inches, halved, in feet\n",
    "sz_right = 17/2/12\n",
    "sz_top = data['sz_top'].mean()  # average of the strike zone top\n",
    "sz_bot = data['sz_bot'].mean()  # average of the strike zone bottom"
   ]
  },
  {
   "cell_type": "markdown",
   "id": "c1ab2189-0756-44f1-9060-9db9cda1536f",
   "metadata": {},
   "source": [
    "## Plotting the Pitches\n",
    "\n",
    "Let's use this data to plot the positions of the 2500 pitched balls for this player. We use Plotly to create the chart, and draw the strike zone in the chart for reference."
   ]
  },
  {
   "cell_type": "code",
   "execution_count": null,
   "id": "f6d97997-625e-48c2-9e2c-84b9bdc40b31",
   "metadata": {},
   "outputs": [],
   "source": [
    "fig = go.Figure()\n",
    "\n",
    "fig.add_trace(\n",
    "    go.Scatter(\n",
    "        x=data['plate_x'],\n",
    "        y=data['plate_z'],\n",
    "        mode='markers',\n",
    "        name='Ball position'\n",
    "    ))\n",
    "fig.add_trace(\n",
    "    go.Line(\n",
    "        x=[sz_left,sz_right,sz_right,sz_left,sz_left],\n",
    "        y=[sz_bot,sz_bot,sz_top,sz_top,sz_bot],\n",
    "        name='Strike zone'\n",
    "    ))\n",
    "fig.update_layout(\n",
    "    title = \"Shohei Ohtani, 2021 - Placement of Pitched Ball\"\n",
    ")\n",
    "fig.update_xaxes(\n",
    "    title=\"Horizontal position (feet)\"\n",
    ")\n",
    "fig.update_yaxes(\n",
    "    title=\"Vertical position (feet)\"\n",
    ")\n",
    "\n",
    "fig.show()"
   ]
  },
  {
   "cell_type": "markdown",
   "id": "c5238263-9193-4f28-a99e-88adaede8d62",
   "metadata": {},
   "source": [
    "## Observations\n",
    "\n",
    "There are a lot of pitches that land outside the strike zone. There are called \"balls\" in baseball, and the player is not obliged to swing at these balls. \n",
    "\n",
    "The strike zone looks unusual in the above chart because the scales of the axes are not the same. We will fix this in the following charts, using the **scaleratio** command in Plotly. \n",
    "\n",
    "## Types of pitches and where they go\n",
    "\n",
    "We can use the description of the pitches to narrow the dataset to something more relevant to the player's performance. \n",
    "\n",
    "First, let's examine the entries in the **description** column and find what types of pitches occur."
   ]
  },
  {
   "cell_type": "code",
   "execution_count": null,
   "id": "367f613c-6640-498a-b7ae-260084a2d963",
   "metadata": {},
   "outputs": [],
   "source": [
    "data['description'].unique()"
   ]
  },
  {
   "cell_type": "markdown",
   "id": "3dc15256-3f28-4be3-bdc8-b9bb7bdb9902",
   "metadata": {},
   "source": [
    "## Hit into play\n",
    "\n",
    "The pitches marked **hit_into_play** are the ones where the batter actually hit the ball and it went on to a play where the runners are running around the bases. This is a good thing -- the batter made a good hit. \n",
    "\n",
    "Let's plot just those pitches. We use a selector in the data frame to grab just those pitches with the description **hit_int_play.**"
   ]
  },
  {
   "cell_type": "code",
   "execution_count": null,
   "id": "ad2b5c98-f6c2-411d-92eb-d7499cb4fe9a",
   "metadata": {},
   "outputs": [],
   "source": [
    "fig = go.Figure()\n",
    "\n",
    "fig.add_trace(\n",
    "    go.Scatter(\n",
    "        x=data[data['description'] =='hit_into_play']['plate_x'],\n",
    "        y=data[data['description'] =='hit_into_play']['plate_z'],\n",
    "        mode='markers',\n",
    "        name='Ball position'\n",
    "    ))\n",
    "fig.add_trace(\n",
    "    go.Line(\n",
    "        x=[sz_left,sz_right,sz_right,sz_left,sz_left],\n",
    "        y=[sz_bot,sz_bot,sz_top,sz_top,sz_bot],\n",
    "        name='Strike zone'\n",
    "    ))\n",
    "fig.update_layout(\n",
    "    title = \"Shohei Ohtani, 2021 - Ball Position: Hit Into Play\",\n",
    "    height = 600\n",
    ")\n",
    "fig.update_xaxes(\n",
    "    ##range=(-4,4),\n",
    "    constrain = \"domain\",\n",
    "    title=\"Horizontal position (feet)\"\n",
    ")\n",
    "fig.update_yaxes(\n",
    "    scaleanchor = \"x\",\n",
    "    scaleratio = 1,\n",
    "    title=\"Vertical position (feet)\"\n",
    ")\n",
    "\n",
    "fig.show()"
   ]
  },
  {
   "cell_type": "markdown",
   "id": "e4badf70-a276-4e6b-b546-56fccbb11d23",
   "metadata": {},
   "source": [
    "## Observations\n",
    "\n",
    "In the chart above, we notice most of the pitches that did get hit into play actually were very close to the strike zone. Which is expected: these are the pitches the player has a good chance to hit well. \n",
    "\n",
    "## Hit by pitch\n",
    "\n",
    "Sometimes, the pitcher messes up in his throw and the ball actually hits the batter. Whether on purpose or by accident, this is not recorded! In any case, it is interesting to see a chart of where the hit-by-pitch balls were thrown. \n",
    "\n",
    "Again, we use a selector to only show the data whose description says **hit_by_pitch.**"
   ]
  },
  {
   "cell_type": "code",
   "execution_count": null,
   "id": "067845b1-ee3a-4142-b615-c0463aae94d4",
   "metadata": {},
   "outputs": [],
   "source": [
    "fig = go.Figure()\n",
    "\n",
    "fig.add_trace(\n",
    "    go.Scatter(\n",
    "        x=data[data['description'] =='hit_by_pitch']['plate_x'],\n",
    "        y=data[data['description'] =='hit_by_pitch']['plate_z'],\n",
    "        mode='markers',\n",
    "        name='Ball position'\n",
    "    ))\n",
    "fig.add_trace(\n",
    "    go.Line(\n",
    "        x=[sz_left,sz_right,sz_right,sz_left,sz_left],\n",
    "        y=[sz_bot,sz_bot,sz_top,sz_top,sz_bot],\n",
    "        name='Strike zone'\n",
    "    ))\n",
    "fig.update_layout(\n",
    "    title = \"Shohei Ohtani, 2021 - Ball Position: Hit By Pitch\",\n",
    "    height = 600\n",
    ")\n",
    "fig.update_xaxes(\n",
    "    range=(-4,4),\n",
    "    constrain = \"domain\",\n",
    "    title=\"Horizontal position (feet)\"\n",
    ")\n",
    "fig.update_yaxes(\n",
    "    scaleanchor = \"x\",\n",
    "    scaleratio = 1,\n",
    "    title=\"Vertical position (feet)\"\n",
    ")\n",
    "\n",
    "fig.show()"
   ]
  },
  {
   "cell_type": "markdown",
   "id": "9c3c2bb0-b3df-46c9-86a2-d971dd4d539b",
   "metadata": {},
   "source": [
    "## Barreled balls\n",
    "\n",
    "Finally, we want to take a look those pitches that the batter hit really, really well. These are called \"barreled balls\" and they typically occur in a spot that the batter usually is very successful at hitting. \n",
    "\n",
    "There is a formula to determine what hits are considered as **barreled balls.** It depends on the angle and speed at which the ball is launched off the bat as the batter hits it. We found the formula in the code for a library called **baseballr** which you can look at here:\n",
    "https://github.com/BillPetti/baseballr/blob/master/R/sch_code_barrel.R\n",
    "\n",
    "The code is writting in the R language and looks like this:\n",
    "```\n",
    "code_barrel <- function(df) {\n",
    "  df$barrel <- with(df, ifelse(launch_angle <= 50 & launch_speed >= 97 & launch_speed * 1.5 - \n",
    "                                 launch_angle >= 117 & launch_speed + launch_angle >= 123, 1, 0))\n",
    "```\n",
    "\n",
    "We translate this to Python as follows, creating a new column in our data frame called **barreled.**"
   ]
  },
  {
   "cell_type": "code",
   "execution_count": null,
   "id": "ae0ae880-482f-4ae2-ac5d-7567c2bd72f9",
   "metadata": {},
   "outputs": [],
   "source": [
    "data['barreled']=(data['launch_angle'] <= 50)&(data['launch_speed'] >= 97)& \\\n",
    "    (data['launch_speed']*1.5 - data['launch_angle'] >= 117) & (data['launch_speed'] + data['launch_angle'] >= 123)"
   ]
  },
  {
   "cell_type": "markdown",
   "id": "627f62aa-da15-45fd-a3ed-5dafc4c00243",
   "metadata": {},
   "source": [
    "## Plotting, heat map\n",
    "\n",
    "Let's plot the barreled balls and their positions. We include a heat map, to focus attention on where most of these balls arrived. "
   ]
  },
  {
   "cell_type": "code",
   "execution_count": null,
   "id": "fd67b8c2-2cb9-4d34-bb93-0fe831e5c398",
   "metadata": {},
   "outputs": [],
   "source": [
    "fig = go.Figure()\n",
    "\n",
    "fig.add_trace(\n",
    "    go.Scatter(\n",
    "        x=data[data['barreled']]['plate_x'],\n",
    "        y=data[data['barreled']]['plate_z'],\n",
    "        mode='markers',\n",
    "        name='Ball position'\n",
    "    ))\n",
    "fig.add_trace(\n",
    "    go.Line(\n",
    "        x=[sz_left,sz_right,sz_right,sz_left,sz_left],\n",
    "        y=[sz_bot,sz_bot,sz_top,sz_top,sz_bot],\n",
    "        name='Strike zone'\n",
    "    ))\n",
    "fig.add_trace(\n",
    "    go.Histogram2d(\n",
    "        x=data[data['barreled']]['plate_x'],\n",
    "        y=data[data['barreled']]['plate_z'],\n",
    "        colorscale='YlGnBu',\n",
    "        zmax=15,\n",
    "        nbinsx=10,\n",
    "        nbinsy=10,\n",
    "        zauto=False,\n",
    "))\n",
    "fig.update_layout(\n",
    "    title = \"Shohei Ohtani, 2021 - Ball Position: Barreled Ball\",\n",
    "    height = 600,showlegend=False\n",
    ")\n",
    "fig.update_xaxes(\n",
    "    range=(-4,4),\n",
    "    constrain = \"domain\",\n",
    "    title=\"Horizontal position (feet)\"\n",
    ")\n",
    "fig.update_yaxes(\n",
    "    scaleanchor = \"x\",\n",
    "    scaleratio = 1,\n",
    "    title=\"Vertical position (feet)\"\n",
    ")\n",
    "\n",
    "fig.show()"
   ]
  },
  {
   "cell_type": "markdown",
   "id": "0cc9b116-114f-4422-a80d-ef5802ad0463",
   "metadata": {},
   "source": [
    "## Observations\n",
    "\n",
    "The heat map shows the barreled balls are concentrated just about the center of the strike zone. For this player, this is the ideal place to hit the ball. \n",
    "\n",
    "## Going further\n",
    "\n",
    "Try exploring the data for other player and other seasons. Who are your favourite hitters? What can you learn about them from this data exercise?"
   ]
  },
  {
   "cell_type": "markdown",
   "id": "41c99bbb-a604-41c1-b5ab-59ec1c566562",
   "metadata": {},
   "source": [
    "[![Callysto.ca License](https://github.com/callysto/curriculum-notebooks/blob/master/callysto-notebook-banner-bottom.jpg?raw=true)](https://github.com/callysto/curriculum-notebooks/blob/master/LICENSE.md)"
   ]
  },
  {
   "cell_type": "code",
   "execution_count": null,
   "id": "b1742e46-5c9e-4df0-ac1f-8473514efb9a",
   "metadata": {},
   "outputs": [],
   "source": []
  }
 ],
 "metadata": {
  "kernelspec": {
   "display_name": "Python 3 (ipykernel)",
   "language": "python",
   "name": "python3"
  },
  "language_info": {
   "codemirror_mode": {
    "name": "ipython",
    "version": 3
   },
   "file_extension": ".py",
   "mimetype": "text/x-python",
   "name": "python",
   "nbconvert_exporter": "python",
   "pygments_lexer": "ipython3",
   "version": "3.11.6"
  }
 },
 "nbformat": 4,
 "nbformat_minor": 5
}
