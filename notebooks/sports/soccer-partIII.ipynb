{
 "cells": [
  {
   "cell_type": "markdown",
   "metadata": {},
   "source": [
    "![Callysto.ca Banner](https://github.com/callysto/curriculum-notebooks/blob/master/callysto-notebook-banner-top.jpg?raw=true)"
   ]
  },
  {
   "cell_type": "markdown",
   "metadata": {
    "slideshow": {
     "slide_type": "slide"
    }
   },
   "source": [
    "# Soccer Analytics"
   ]
  },
  {
   "cell_type": "markdown",
   "metadata": {},
   "source": [
    "Welcome to a Jupyter notebook on soccer analytics. This notebook is a free resource and is part of the Callysto project, which brings data science skills to grades 5 to 12 classrooms. \n",
    "\n",
    "In this notebook, we answer the question: How do ball possession and scoring relate?\n",
    "\n",
    "\n",
    "Visualizations will be coded using Python, a computer programming language. Python contains words from English and is used by data scientists. Programming languages are how people communicate with computers."
   ]
  },
  {
   "cell_type": "markdown",
   "metadata": {},
   "source": [
    "“Run” the cells to see the graphs.\n",
    "Click “Cell” and select “Run All.” This will import the data and run all the code to create the data visualizations (scroll back to the top after you’ve run the cells).   \n",
    "\n",
    "![instructions](https://github.com/callysto/data-viz-of-the-week/blob/main/images/instructions.png?raw=true)"
   ]
  },
  {
   "cell_type": "code",
   "execution_count": null,
   "metadata": {
    "slideshow": {
     "slide_type": "skip"
    }
   },
   "outputs": [],
   "source": [
    "# import Python libraries\n",
    "\n",
    "import pandas as pd\n",
    "import plotly.express as px"
   ]
  },
  {
   "cell_type": "markdown",
   "metadata": {},
   "source": [
    "### Making a csv file\n",
    "Data source: https://www.uefa.com/uefachampionsleague/standings/\n",
    "<br>Data was collected for the group phase (6 games per team) for the 2020-2021 season from the Champions League website. The data was inputted into the cell below by reading tables on the website. Notice that the values are separated by commas; this format is needed for the computer to read the data. The `writefile` command is used to create the file."
   ]
  },
  {
   "cell_type": "code",
   "execution_count": null,
   "metadata": {},
   "outputs": [],
   "source": [
    "%%writefile possession.csv\n",
    "Total goals,Goal difference,Average ball possession (%),Team\n",
    "18,16,61,Bayern\n",
    "16,11,57,Barcelona\n",
    "16,7,44,Monchengladbach\n",
    "15,5,50,Man. United\n",
    "14,12,54,Chelsea\n",
    "14,10,51,Juventus\n",
    "13,12,59,Man. City\n",
    "13,7,54,Paris\n",
    "12,7,56,Dortmund\n",
    "11,2,58,Real Madrid\n",
    "11,-1,51,Leipzig\n",
    "11,4,47,Lazio\n",
    "10,7,53,Liverpool\n",
    "10,7,41,Porto\n",
    "10,-7,48,RB Salzburg\n",
    "10,2,47,Atalanta\n",
    "9,1,57,Sevilla\n",
    "8,-2,51,Club Brugge\n",
    "7,0,55,Ajax\n",
    "7,-2,51,Inter Milan\n",
    "7,-1,50,Atletico Madrid\n",
    "7,-11,45,Istanbul Basaksehir\n",
    "6,-5,40,Krasnodar\n",
    "5,-12,47,Ferencvaros\n",
    "5,-7,47,Shakhtar Donetsk\n",
    "5,-5,42,Lokomotiv Moskva\n",
    "4,-9,47,Zenit\n",
    "4,-9,46,Midtjylland\n",
    "4,-9,45,Dynamo Kyiv\n",
    "3,-8,50,Rennes\n",
    "2,-8,50,Olympiacos\n",
    "2,-11,50,Marseille"
   ]
  },
  {
   "cell_type": "markdown",
   "metadata": {},
   "source": [
    "The Python library pandas is used to tell the computer to read and then display the data in a table, or dataframe. Pandas is a library used to organize data. The dataframe below is organized from most to least total goals per team."
   ]
  },
  {
   "cell_type": "code",
   "execution_count": null,
   "metadata": {
    "scrolled": false,
    "slideshow": {
     "slide_type": "-"
    }
   },
   "outputs": [],
   "source": [
    "possession_df = pd.read_csv('possession.csv')\n",
    "possession_df.sort_values('Average ball possession (%)', ascending=False)"
   ]
  },
  {
   "cell_type": "markdown",
   "metadata": {},
   "source": [
    "Since we are exploring how possession and scoring relate, let's calculate some measures of spread and central tendency on average ball possession (%) to better understand the shape of the data."
   ]
  },
  {
   "cell_type": "code",
   "execution_count": null,
   "metadata": {
    "scrolled": true,
    "slideshow": {
     "slide_type": "slide"
    }
   },
   "outputs": [],
   "source": [
    "# Compute min, max, range, mean and median\n",
    "# Min average ball possession\n",
    "min_df = possession_df['Average ball possession (%)'].min() # change to 'Total goals' or 'Goal difference' to for different calculations\n",
    "# Max average ball possession\n",
    "max_df = possession_df['Average ball possession (%)'].max()\n",
    "# Range average ball possession\n",
    "range_df = (possession_df['Average ball possession (%)'].max()) - (possession_df['Average ball possession (%)'].min())\n",
    "# Mean of average ball possession\n",
    "mean_df = possession_df['Average ball possession (%)'].mean()\n",
    "# Median of average ball possession\n",
    "median_df = possession_df['Average ball possession (%)'].median()\n",
    "# Print results\n",
    "print(\"The minimum value is\", min_df)\n",
    "print(\"The maximum value is\", max_df)\n",
    "print(\"The range is\", range_df)\n",
    "print(\"The mean is\", mean_df)\n",
    "print(\"The median is\", median_df)"
   ]
  },
  {
   "cell_type": "markdown",
   "metadata": {},
   "source": [
    "Notice that the mean and median are 50, and the range is 21. \n",
    "\n",
    "You can update or change the code. Follow the directions after the # in the code cell above.\n",
    "\n",
    "Now, let's visualize the range with a bar graph."
   ]
  },
  {
   "cell_type": "code",
   "execution_count": null,
   "metadata": {
    "scrolled": false
   },
   "outputs": [],
   "source": [
    "bar_df = px.bar(possession_df, \n",
    "                x='Team', \n",
    "                y='Average ball possession (%)', # change y to Total goals or Goal difference to visualize different variables\n",
    "                title='Average ball possession (%) by team') # update title, if needed\n",
    "bar_df.update_layout(xaxis={'categoryorder':'total descending'})"
   ]
  },
  {
   "cell_type": "markdown",
   "metadata": {},
   "source": [
    "Notice that the x-axis represents teams, and the y-axis represents average ball possession (%). Bayern has the highest average ball possession at 60%, and Krasnodar has the lowest at 40%. Marseille, Olympiacos, Atletico Madrid, and RB Salzburg all have ball possession of 50%, which is the mean and the median. These measures of central tendency can help us divide the dataset into teams with more ball possession and teams with less ball possession.\n",
    "\n",
    "Now that we've explored the centre and spread of average ball possession (%), let's examine how average ball possession (%) relates to total goals. The scatter plot displays average ball possession (%) on the x-axis and total goals on the y-axis. Total goals range from Marseille with 2 to Bayern with 18. Hover over the data points to view more information."
   ]
  },
  {
   "cell_type": "code",
   "execution_count": null,
   "metadata": {
    "scrolled": true,
    "slideshow": {
     "slide_type": "slide"
    }
   },
   "outputs": [],
   "source": [
    "scatter_total_df = px.scatter(possession_df,\n",
    "                    x=\"Average ball possession (%)\", \n",
    "                    y=\"Total goals\", # change y to Goal difference\n",
    "                    hover_data=[\"Team\"],\n",
    "                    trendline=\"ols\",\n",
    "                    title=\"Relationship between average ball possession (%) and total goals\")\n",
    "scatter_total_df.show()"
   ]
  },
  {
   "cell_type": "markdown",
   "metadata": {},
   "source": [
    "Notice that the line of best fit indicates a positive trend with total goals increasing with average ball possession. \n",
    "\n",
    "Hover over the data points to find out more information. The data points further from the line seem to tell a different story. Bayern has the highest ball possession at 61% and the most total goals at 18. Marseille, on the other hand, has the least amount of total goals at 2 with ball possession of 50%.\n",
    "\n",
    "While total goals can help understand how successful teams are, the idea of possession involves keeping the ball to score and keeping the ball to prevent the other team from scoring. It might be interesting to explore the relationship between average ball possession and goal difference. \n",
    "\n",
    "Goal difference is the addition of total goals scored minus goals that other teams have scored against the team. The scatter plot below visualizes the relationship between average ball possession (%) and goal difference by team. The goal difference on the y-axis contains negative values; the negative values mean that a team has more goals scored against than more goals scored. Hover over the data points to view more information."
   ]
  },
  {
   "cell_type": "code",
   "execution_count": null,
   "metadata": {
    "scrolled": false,
    "slideshow": {
     "slide_type": "slide"
    }
   },
   "outputs": [],
   "source": [
    "scatter_difference_df = px.scatter(possession_df,\n",
    "                    x=\"Average ball possession (%)\", \n",
    "                    y=\"Goal difference\",\n",
    "                    size=\"Total goals\",\n",
    "                    color=\"Team\",\n",
    "                    title=\"Relationship between average ball possession (%) and goal difference by team\")\n",
    "scatter_difference_df.show()"
   ]
  },
  {
   "cell_type": "markdown",
   "metadata": {},
   "source": [
    "Notice that Bayern leads in ball possession at 61% as well as in both total goals at 18 with a goal difference of 16 -- that means only 2 goals were scored against Bayern within the 6 games prior to knock-outs. \n",
    "\n",
    "Ferencvaros has the lowest goal difference of -12 and ball possession of 47%. Marseille with the lowest total goals of 2 has the second lowest goal difference of -11 and ball possession 50% of game play. "
   ]
  },
  {
   "cell_type": "code",
   "execution_count": null,
   "metadata": {},
   "outputs": [],
   "source": [
    "# This cell prevents the next section from running automatically\n",
    "%%script false"
   ]
  },
  {
   "cell_type": "code",
   "execution_count": null,
   "metadata": {
    "scrolled": false
   },
   "outputs": [],
   "source": [
    "#❗️Run this cell with Shift+Enter\n",
    "import interactive as i\n",
    "i.challenge1()"
   ]
  },
  {
   "cell_type": "code",
   "execution_count": null,
   "metadata": {
    "scrolled": true
   },
   "outputs": [],
   "source": [
    "#❗️Run this cell with Shift+Enter\n",
    "import interactive as i\n",
    "i.challenge2()"
   ]
  },
  {
   "cell_type": "code",
   "execution_count": null,
   "metadata": {},
   "outputs": [],
   "source": [
    "#❗️Run this cell with Shift+Enter\n",
    "import interactive as i\n",
    "i.challenge3()"
   ]
  },
  {
   "cell_type": "markdown",
   "metadata": {},
   "source": [
    "To reset the last three interactive questions, select Kernel and then Restart & Clear Output from the menu."
   ]
  },
  {
   "cell_type": "markdown",
   "metadata": {},
   "source": [
    "[![Callysto.ca License](https://github.com/callysto/curriculum-notebooks/blob/master/callysto-notebook-banner-bottom.jpg?raw=true)](https://github.com/callysto/curriculum-notebooks/blob/master/LICENSE.md)"
   ]
  }
 ],
 "metadata": {
  "kernelspec": {
   "display_name": "Python 3",
   "language": "python",
   "name": "python3"
  },
  "language_info": {
   "codemirror_mode": {
    "name": "ipython",
    "version": 3
   },
   "file_extension": ".py",
   "mimetype": "text/x-python",
   "name": "python",
   "nbconvert_exporter": "python",
   "pygments_lexer": "ipython3",
   "version": "3.8.8"
  },
  "rise": {
   "footer": "<IMG src='./images/callysto_logo.png' height='50'>",
   "scroll": true,
   "transition": "none"
  }
 },
 "nbformat": 4,
 "nbformat_minor": 4
}
