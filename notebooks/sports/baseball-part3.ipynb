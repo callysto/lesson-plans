{
 "cells": [
  {
   "cell_type": "markdown",
   "metadata": {},
   "source": [
    "![Callysto.ca Banner](https://github.com/callysto/curriculum-notebooks/blob/master/callysto-notebook-banner-top.jpg?raw=true)"
   ]
  },
  {
   "cell_type": "markdown",
   "metadata": {
    "slideshow": {
     "slide_type": "slide"
    }
   },
   "source": [
    "# Baseball Analytics\n",
    "\n",
    "By Alex Lamoureux and Michael Lamoureux "
   ]
  },
  {
   "cell_type": "markdown",
   "metadata": {},
   "source": [
    "Welcome to a Jupyter notebook on baseball analytics. This notebook is a free resource and is part of the Callysto project, which brings data science skills to grades 5 to 12 classrooms. \n",
    "\n",
    "In this notebook, we’ll start by looking at some baseball statistical data. We will then make some evaluations of the quality of players based on statistical measures.\n",
    "\n",
    "In real major league baseball, computing statistic are key to understanding how players are valued by their team. The money Moneyball, with Brad Pitt and Jonah Hill is all about baseball analytics. \n",
    "\n",
    "Visualizations are coded using Python, a computer programming language. Python contains words from English and is used by data scientists. Programming languages are how people communicate with computers."
   ]
  },
  {
   "cell_type": "markdown",
   "metadata": {},
   "source": [
    "“Run” the cells to see the graphs.\n",
    "Click “Cell” and select “Run All.” This will import the data and run all the code to create the data visualizations (scroll back to the top after you’ve run the cells).   \n",
    "\n",
    "![instructions](https://github.com/callysto/data-viz-of-the-week/blob/main/images/instructions.png?raw=true)"
   ]
  },
  {
   "cell_type": "code",
   "execution_count": 1,
   "metadata": {
    "slideshow": {
     "slide_type": "skip"
    }
   },
   "outputs": [],
   "source": [
    "# import Python libraries\n",
    "\n",
    "import pandas as pd\n",
    "import plotly.express as px"
   ]
  },
  {
   "cell_type": "markdown",
   "metadata": {
    "slideshow": {
     "slide_type": "slide"
    }
   },
   "source": [
    "## Example: Home run data for Major League Baseball\n",
    "\n",
    "Data source: https://stathead.com/baseball/"
   ]
  },
  {
   "cell_type": "markdown",
   "metadata": {},
   "source": [
    "The data source for this dataset is StatHead. The site contains data for all sorts of profession sports. In this notebook, we concentrate on professional baseball data from 2023. It contains a great deal of information about hundreds of players and their performance over the course of the year. This data is not anonymized so we can make evaluations about individual players based on their record. Professional sports data can also be valuable because it helps teams gain a competitive advantage.\n",
    "\n",
    "We can use Python code to link to the dataset, which is was downloaded from the Internet, and saved locally as a CSV file, a type of spreadsheet. The dataset is large with 766 rows and 34 columns. That’s over 26,000 data points!\n",
    "\n",
    "Let’s take a look at the columns: Data is displayed for each player, giving their name (Player), home run count (HR), Age, Team, League (Lg) and so on. \n",
    "\n",
    "There are 34 columns which can't fit on this display. In the next cell, we can show all the columns names. "
   ]
  },
  {
   "cell_type": "code",
   "execution_count": 33,
   "metadata": {},
   "outputs": [
    {
     "data": {
      "text/html": [
       "<div>\n",
       "<style scoped>\n",
       "    .dataframe tbody tr th:only-of-type {\n",
       "        vertical-align: middle;\n",
       "    }\n",
       "\n",
       "    .dataframe tbody tr th {\n",
       "        vertical-align: top;\n",
       "    }\n",
       "\n",
       "    .dataframe thead th {\n",
       "        text-align: right;\n",
       "    }\n",
       "</style>\n",
       "<table border=\"1\" class=\"dataframe\">\n",
       "  <thead>\n",
       "    <tr style=\"text-align: right;\">\n",
       "      <th></th>\n",
       "      <th>Rk</th>\n",
       "      <th>Player</th>\n",
       "      <th>HR</th>\n",
       "      <th>Season</th>\n",
       "      <th>Age</th>\n",
       "      <th>Team</th>\n",
       "      <th>Lg</th>\n",
       "      <th>G</th>\n",
       "      <th>PA</th>\n",
       "      <th>AB</th>\n",
       "      <th>...</th>\n",
       "      <th>OPS</th>\n",
       "      <th>OPS+</th>\n",
       "      <th>TB</th>\n",
       "      <th>GIDP</th>\n",
       "      <th>HBP</th>\n",
       "      <th>SH</th>\n",
       "      <th>SF</th>\n",
       "      <th>IBB</th>\n",
       "      <th>Pos</th>\n",
       "      <th>Player-additional</th>\n",
       "    </tr>\n",
       "  </thead>\n",
       "  <tbody>\n",
       "    <tr>\n",
       "      <th>0</th>\n",
       "      <td>NaN</td>\n",
       "      <td>NaN</td>\n",
       "      <td>NaN</td>\n",
       "      <td>NaN</td>\n",
       "      <td>NaN</td>\n",
       "      <td>NaN</td>\n",
       "      <td>NaN</td>\n",
       "      <td>NaN</td>\n",
       "      <td>NaN</td>\n",
       "      <td>NaN</td>\n",
       "      <td>...</td>\n",
       "      <td>NaN</td>\n",
       "      <td>NaN</td>\n",
       "      <td>NaN</td>\n",
       "      <td>NaN</td>\n",
       "      <td>NaN</td>\n",
       "      <td>NaN</td>\n",
       "      <td>NaN</td>\n",
       "      <td>NaN</td>\n",
       "      <td>NaN</td>\n",
       "      <td>-9999</td>\n",
       "    </tr>\n",
       "    <tr>\n",
       "      <th>1</th>\n",
       "      <td>1.0</td>\n",
       "      <td>Matt Olson</td>\n",
       "      <td>54.0</td>\n",
       "      <td>2023.0</td>\n",
       "      <td>29.0</td>\n",
       "      <td>ATL</td>\n",
       "      <td>NL</td>\n",
       "      <td>162.0</td>\n",
       "      <td>720.0</td>\n",
       "      <td>608.0</td>\n",
       "      <td>...</td>\n",
       "      <td>0.993</td>\n",
       "      <td>162.0</td>\n",
       "      <td>367.0</td>\n",
       "      <td>13.0</td>\n",
       "      <td>4.0</td>\n",
       "      <td>0.0</td>\n",
       "      <td>4.0</td>\n",
       "      <td>8.0</td>\n",
       "      <td>*3</td>\n",
       "      <td>olsonma02</td>\n",
       "    </tr>\n",
       "    <tr>\n",
       "      <th>2</th>\n",
       "      <td>2.0</td>\n",
       "      <td>Kyle Schwarber</td>\n",
       "      <td>47.0</td>\n",
       "      <td>2023.0</td>\n",
       "      <td>30.0</td>\n",
       "      <td>PHI</td>\n",
       "      <td>NL</td>\n",
       "      <td>160.0</td>\n",
       "      <td>720.0</td>\n",
       "      <td>585.0</td>\n",
       "      <td>...</td>\n",
       "      <td>0.817</td>\n",
       "      <td>122.0</td>\n",
       "      <td>277.0</td>\n",
       "      <td>4.0</td>\n",
       "      <td>6.0</td>\n",
       "      <td>0.0</td>\n",
       "      <td>3.0</td>\n",
       "      <td>5.0</td>\n",
       "      <td>7D</td>\n",
       "      <td>schwaky01</td>\n",
       "    </tr>\n",
       "    <tr>\n",
       "      <th>3</th>\n",
       "      <td>3.0</td>\n",
       "      <td>Pete Alonso</td>\n",
       "      <td>46.0</td>\n",
       "      <td>2023.0</td>\n",
       "      <td>28.0</td>\n",
       "      <td>NYM</td>\n",
       "      <td>NL</td>\n",
       "      <td>154.0</td>\n",
       "      <td>658.0</td>\n",
       "      <td>568.0</td>\n",
       "      <td>...</td>\n",
       "      <td>0.821</td>\n",
       "      <td>122.0</td>\n",
       "      <td>286.0</td>\n",
       "      <td>17.0</td>\n",
       "      <td>21.0</td>\n",
       "      <td>0.0</td>\n",
       "      <td>4.0</td>\n",
       "      <td>6.0</td>\n",
       "      <td>*3/D</td>\n",
       "      <td>alonspe01</td>\n",
       "    </tr>\n",
       "    <tr>\n",
       "      <th>4</th>\n",
       "      <td>4.0</td>\n",
       "      <td>Shohei Ohtani</td>\n",
       "      <td>44.0</td>\n",
       "      <td>2023.0</td>\n",
       "      <td>28.0</td>\n",
       "      <td>LAA</td>\n",
       "      <td>AL</td>\n",
       "      <td>135.0</td>\n",
       "      <td>599.0</td>\n",
       "      <td>497.0</td>\n",
       "      <td>...</td>\n",
       "      <td>1.066</td>\n",
       "      <td>184.0</td>\n",
       "      <td>325.0</td>\n",
       "      <td>9.0</td>\n",
       "      <td>3.0</td>\n",
       "      <td>0.0</td>\n",
       "      <td>3.0</td>\n",
       "      <td>21.0</td>\n",
       "      <td>*D1</td>\n",
       "      <td>ohtansh01</td>\n",
       "    </tr>\n",
       "    <tr>\n",
       "      <th>...</th>\n",
       "      <td>...</td>\n",
       "      <td>...</td>\n",
       "      <td>...</td>\n",
       "      <td>...</td>\n",
       "      <td>...</td>\n",
       "      <td>...</td>\n",
       "      <td>...</td>\n",
       "      <td>...</td>\n",
       "      <td>...</td>\n",
       "      <td>...</td>\n",
       "      <td>...</td>\n",
       "      <td>...</td>\n",
       "      <td>...</td>\n",
       "      <td>...</td>\n",
       "      <td>...</td>\n",
       "      <td>...</td>\n",
       "      <td>...</td>\n",
       "      <td>...</td>\n",
       "      <td>...</td>\n",
       "      <td>...</td>\n",
       "      <td>...</td>\n",
       "    </tr>\n",
       "    <tr>\n",
       "      <th>761</th>\n",
       "      <td>761.0</td>\n",
       "      <td>Alika Williams</td>\n",
       "      <td>0.0</td>\n",
       "      <td>2023.0</td>\n",
       "      <td>24.0</td>\n",
       "      <td>PIT</td>\n",
       "      <td>NL</td>\n",
       "      <td>46.0</td>\n",
       "      <td>112.0</td>\n",
       "      <td>101.0</td>\n",
       "      <td>...</td>\n",
       "      <td>0.518</td>\n",
       "      <td>44.0</td>\n",
       "      <td>25.0</td>\n",
       "      <td>2.0</td>\n",
       "      <td>1.0</td>\n",
       "      <td>1.0</td>\n",
       "      <td>0.0</td>\n",
       "      <td>0.0</td>\n",
       "      <td>6/H</td>\n",
       "      <td>willial04</td>\n",
       "    </tr>\n",
       "    <tr>\n",
       "      <th>762</th>\n",
       "      <td>762.0</td>\n",
       "      <td>Nick Wittgren</td>\n",
       "      <td>0.0</td>\n",
       "      <td>2023.0</td>\n",
       "      <td>32.0</td>\n",
       "      <td>KCR</td>\n",
       "      <td>AL</td>\n",
       "      <td>1.0</td>\n",
       "      <td>0.0</td>\n",
       "      <td>0.0</td>\n",
       "      <td>...</td>\n",
       "      <td>NaN</td>\n",
       "      <td>NaN</td>\n",
       "      <td>0.0</td>\n",
       "      <td>0.0</td>\n",
       "      <td>0.0</td>\n",
       "      <td>0.0</td>\n",
       "      <td>0.0</td>\n",
       "      <td>0.0</td>\n",
       "      <td>1</td>\n",
       "      <td>wittgni01</td>\n",
       "    </tr>\n",
       "    <tr>\n",
       "      <th>763</th>\n",
       "      <td>763.0</td>\n",
       "      <td>Ryan Yarbrough</td>\n",
       "      <td>0.0</td>\n",
       "      <td>2023.0</td>\n",
       "      <td>31.0</td>\n",
       "      <td>KCRLAD</td>\n",
       "      <td>ALNL</td>\n",
       "      <td>1.0</td>\n",
       "      <td>0.0</td>\n",
       "      <td>0.0</td>\n",
       "      <td>...</td>\n",
       "      <td>NaN</td>\n",
       "      <td>NaN</td>\n",
       "      <td>0.0</td>\n",
       "      <td>0.0</td>\n",
       "      <td>0.0</td>\n",
       "      <td>0.0</td>\n",
       "      <td>0.0</td>\n",
       "      <td>0.0</td>\n",
       "      <td>1</td>\n",
       "      <td>yarbrry01</td>\n",
       "    </tr>\n",
       "    <tr>\n",
       "      <th>764</th>\n",
       "      <td>764.0</td>\n",
       "      <td>Alex Young</td>\n",
       "      <td>0.0</td>\n",
       "      <td>2023.0</td>\n",
       "      <td>29.0</td>\n",
       "      <td>CIN</td>\n",
       "      <td>NL</td>\n",
       "      <td>2.0</td>\n",
       "      <td>0.0</td>\n",
       "      <td>0.0</td>\n",
       "      <td>...</td>\n",
       "      <td>NaN</td>\n",
       "      <td>NaN</td>\n",
       "      <td>0.0</td>\n",
       "      <td>0.0</td>\n",
       "      <td>0.0</td>\n",
       "      <td>0.0</td>\n",
       "      <td>0.0</td>\n",
       "      <td>0.0</td>\n",
       "      <td>1</td>\n",
       "      <td>youngal01</td>\n",
       "    </tr>\n",
       "    <tr>\n",
       "      <th>765</th>\n",
       "      <td>765.0</td>\n",
       "      <td>Jacob Young</td>\n",
       "      <td>0.0</td>\n",
       "      <td>2023.0</td>\n",
       "      <td>23.0</td>\n",
       "      <td>WSN</td>\n",
       "      <td>NL</td>\n",
       "      <td>33.0</td>\n",
       "      <td>121.0</td>\n",
       "      <td>107.0</td>\n",
       "      <td>...</td>\n",
       "      <td>0.658</td>\n",
       "      <td>84.0</td>\n",
       "      <td>36.0</td>\n",
       "      <td>2.0</td>\n",
       "      <td>1.0</td>\n",
       "      <td>3.0</td>\n",
       "      <td>0.0</td>\n",
       "      <td>0.0</td>\n",
       "      <td>8/DH</td>\n",
       "      <td>youngja03</td>\n",
       "    </tr>\n",
       "  </tbody>\n",
       "</table>\n",
       "<p>766 rows × 34 columns</p>\n",
       "</div>"
      ],
      "text/plain": [
       "        Rk          Player    HR  Season   Age    Team    Lg      G     PA  \\\n",
       "0      NaN             NaN   NaN     NaN   NaN     NaN   NaN    NaN    NaN   \n",
       "1      1.0      Matt Olson  54.0  2023.0  29.0     ATL    NL  162.0  720.0   \n",
       "2      2.0  Kyle Schwarber  47.0  2023.0  30.0     PHI    NL  160.0  720.0   \n",
       "3      3.0     Pete Alonso  46.0  2023.0  28.0     NYM    NL  154.0  658.0   \n",
       "4      4.0   Shohei Ohtani  44.0  2023.0  28.0     LAA    AL  135.0  599.0   \n",
       "..     ...             ...   ...     ...   ...     ...   ...    ...    ...   \n",
       "761  761.0  Alika Williams   0.0  2023.0  24.0     PIT    NL   46.0  112.0   \n",
       "762  762.0   Nick Wittgren   0.0  2023.0  32.0     KCR    AL    1.0    0.0   \n",
       "763  763.0  Ryan Yarbrough   0.0  2023.0  31.0  KCRLAD  ALNL    1.0    0.0   \n",
       "764  764.0      Alex Young   0.0  2023.0  29.0     CIN    NL    2.0    0.0   \n",
       "765  765.0     Jacob Young   0.0  2023.0  23.0     WSN    NL   33.0  121.0   \n",
       "\n",
       "        AB  ...    OPS   OPS+     TB  GIDP   HBP   SH   SF   IBB   Pos  \\\n",
       "0      NaN  ...    NaN    NaN    NaN   NaN   NaN  NaN  NaN   NaN   NaN   \n",
       "1    608.0  ...  0.993  162.0  367.0  13.0   4.0  0.0  4.0   8.0    *3   \n",
       "2    585.0  ...  0.817  122.0  277.0   4.0   6.0  0.0  3.0   5.0    7D   \n",
       "3    568.0  ...  0.821  122.0  286.0  17.0  21.0  0.0  4.0   6.0  *3/D   \n",
       "4    497.0  ...  1.066  184.0  325.0   9.0   3.0  0.0  3.0  21.0   *D1   \n",
       "..     ...  ...    ...    ...    ...   ...   ...  ...  ...   ...   ...   \n",
       "761  101.0  ...  0.518   44.0   25.0   2.0   1.0  1.0  0.0   0.0   6/H   \n",
       "762    0.0  ...    NaN    NaN    0.0   0.0   0.0  0.0  0.0   0.0     1   \n",
       "763    0.0  ...    NaN    NaN    0.0   0.0   0.0  0.0  0.0   0.0     1   \n",
       "764    0.0  ...    NaN    NaN    0.0   0.0   0.0  0.0  0.0   0.0     1   \n",
       "765  107.0  ...  0.658   84.0   36.0   2.0   1.0  3.0  0.0   0.0  8/DH   \n",
       "\n",
       "     Player-additional  \n",
       "0                -9999  \n",
       "1            olsonma02  \n",
       "2            schwaky01  \n",
       "3            alonspe01  \n",
       "4            ohtansh01  \n",
       "..                 ...  \n",
       "761          willial04  \n",
       "762          wittgni01  \n",
       "763          yarbrry01  \n",
       "764          youngal01  \n",
       "765          youngja03  \n",
       "\n",
       "[766 rows x 34 columns]"
      ]
     },
     "execution_count": 33,
     "metadata": {},
     "output_type": "execute_result"
    }
   ],
   "source": [
    "dfb = pd.read_csv(\"homersfull.csv\")\n",
    "dfb"
   ]
  },
  {
   "cell_type": "markdown",
   "metadata": {},
   "source": [
    "### Column names\n",
    "\n",
    "THe following command will list all 34 column titles in the data base. \n",
    "\n",
    "We will be interested in **HR** home runs, **BA** batting average, **OPS** on-base plus slugging, and a few other items."
   ]
  },
  {
   "cell_type": "code",
   "execution_count": 34,
   "metadata": {},
   "outputs": [
    {
     "data": {
      "text/plain": [
       "Index(['Rk', 'Player', 'HR', 'Season', 'Age', 'Team', 'Lg', 'G', 'PA', 'AB',\n",
       "       'R', 'H', '1B', '2B', '3B', 'HR.1', 'RBI', 'SB', 'CS', 'BB', 'SO', 'BA',\n",
       "       'OBP', 'SLG', 'OPS', 'OPS+', 'TB', 'GIDP', 'HBP', 'SH', 'SF', 'IBB',\n",
       "       'Pos', 'Player-additional'],\n",
       "      dtype='object')"
      ]
     },
     "execution_count": 34,
     "metadata": {},
     "output_type": "execute_result"
    }
   ],
   "source": [
    "dfb.columns"
   ]
  },
  {
   "cell_type": "markdown",
   "metadata": {},
   "source": [
    "Baseball is a complex game and there are a lot of information collected in each game. Here is a list of the abbreviations of the column names, which records all this data:\n",
    "\n",
    "- Player: Name of Player\n",
    "- HR: Number of Home Runs\n",
    "- G: Number of Games\n",
    "- PA: Number of Plate Appearances\n",
    "- AB:  Number Aof t-Bats (Plate appearances minus walks and sacrifices)\n",
    "- R: Runs\n",
    "- H: Hits\n",
    "- 1B: Singles\n",
    "- 2B: Doubles\n",
    "- 3B: Triple\n",
    "- HR.1: Home runs\n",
    "- RBI: Runs Batted In\n",
    "- SB: Stolen Base\n",
    "- CS: Caught Stealing\n",
    "- BB: Base on Balls\n",
    "- SO: Strikeout\n",
    "- BA: Batting Average\n",
    "- OBP: On Base Percentage\n",
    "- SLG: Slugging Average\n",
    "- OPS: On Base Plus Slugging\n",
    "- OPS+: is the player's OPS divided by the league average for that player's home stadium, times 100.\n",
    "- TB: Total Bases\n",
    "- GIDP: Grounded Into Double Play\n",
    "- HBP: Hit By Pitch\n",
    "- SH: Sacrifice Hits (bunts)\n",
    "- SF: Sacrifice Flies\n",
    "- IBB: Intentional Base on Balls"
   ]
  },
  {
   "cell_type": "markdown",
   "metadata": {},
   "source": [
    "## Plotting\n",
    "\n",
    "Now, let’s plot some basic information. We start with a bar chart showing the top players, with their home run count, and indicate their team. \n",
    "\n",
    "This can be done in one line of code using **plotly** to create the chart. "
   ]
  },
  {
   "cell_type": "code",
   "execution_count": 15,
   "metadata": {},
   "outputs": [
    {
     "data": {
      "application/vnd.plotly.v1+json": {
       "config": {
        "plotlyServerURL": "https://plot.ly"
       },
       "data": [
        {
         "alignmentgroup": "True",
         "hovertemplate": "Team=ATL<br>Player=%{x}<br>HR=%{y}<extra></extra>",
         "legendgroup": "ATL",
         "marker": {
          "color": "#EF553B",
          "pattern": {
           "shape": ""
          }
         },
         "name": "ATL",
         "offsetgroup": "ATL",
         "orientation": "v",
         "showlegend": true,
         "textposition": "auto",
         "type": "bar",
         "x": [
          "Matt Olson",
          "Ronald Acuña Jr.",
          "Marcell Ozuna",
          "Austin Riley",
          "Ozzie Albies"
         ],
         "xaxis": "x",
         "y": [
          54,
          41,
          40,
          37,
          33
         ],
         "yaxis": "y"
        },
        {
         "alignmentgroup": "True",
         "hovertemplate": "Team=PHI<br>Player=%{x}<br>HR=%{y}<extra></extra>",
         "legendgroup": "PHI",
         "marker": {
          "color": "#00cc96",
          "pattern": {
           "shape": ""
          }
         },
         "name": "PHI",
         "offsetgroup": "PHI",
         "orientation": "v",
         "showlegend": true,
         "textposition": "auto",
         "type": "bar",
         "x": [
          "Kyle Schwarber"
         ],
         "xaxis": "x",
         "y": [
          47
         ],
         "yaxis": "y"
        },
        {
         "alignmentgroup": "True",
         "hovertemplate": "Team=NYM<br>Player=%{x}<br>HR=%{y}<extra></extra>",
         "legendgroup": "NYM",
         "marker": {
          "color": "#ab63fa",
          "pattern": {
           "shape": ""
          }
         },
         "name": "NYM",
         "offsetgroup": "NYM",
         "orientation": "v",
         "showlegend": true,
         "textposition": "auto",
         "type": "bar",
         "x": [
          "Pete Alonso"
         ],
         "xaxis": "x",
         "y": [
          46
         ],
         "yaxis": "y"
        },
        {
         "alignmentgroup": "True",
         "hovertemplate": "Team=LAA<br>Player=%{x}<br>HR=%{y}<extra></extra>",
         "legendgroup": "LAA",
         "marker": {
          "color": "#FFA15A",
          "pattern": {
           "shape": ""
          }
         },
         "name": "LAA",
         "offsetgroup": "LAA",
         "orientation": "v",
         "showlegend": true,
         "textposition": "auto",
         "type": "bar",
         "x": [
          "Shohei Ohtani"
         ],
         "xaxis": "x",
         "y": [
          44
         ],
         "yaxis": "y"
        },
        {
         "alignmentgroup": "True",
         "hovertemplate": "Team=LAD<br>Player=%{x}<br>HR=%{y}<extra></extra>",
         "legendgroup": "LAD",
         "marker": {
          "color": "#19d3f3",
          "pattern": {
           "shape": ""
          }
         },
         "name": "LAD",
         "offsetgroup": "LAD",
         "orientation": "v",
         "showlegend": true,
         "textposition": "auto",
         "type": "bar",
         "x": [
          "Mookie Betts",
          "Max Muncy",
          "J.D. Martinez"
         ],
         "xaxis": "x",
         "y": [
          39,
          36,
          33
         ],
         "yaxis": "y"
        },
        {
         "alignmentgroup": "True",
         "hovertemplate": "Team=TEX<br>Player=%{x}<br>HR=%{y}<extra></extra>",
         "legendgroup": "TEX",
         "marker": {
          "color": "#FF6692",
          "pattern": {
           "shape": ""
          }
         },
         "name": "TEX",
         "offsetgroup": "TEX",
         "orientation": "v",
         "showlegend": true,
         "textposition": "auto",
         "type": "bar",
         "x": [
          "Adolis García",
          "Corey Seager"
         ],
         "xaxis": "x",
         "y": [
          39,
          33
         ],
         "yaxis": "y"
        },
        {
         "alignmentgroup": "True",
         "hovertemplate": "Team=CHW<br>Player=%{x}<br>HR=%{y}<extra></extra>",
         "legendgroup": "CHW",
         "marker": {
          "color": "#B6E880",
          "pattern": {
           "shape": ""
          }
         },
         "name": "CHW",
         "offsetgroup": "CHW",
         "orientation": "v",
         "showlegend": true,
         "textposition": "auto",
         "type": "bar",
         "x": [
          "Luis Robert Jr."
         ],
         "xaxis": "x",
         "y": [
          38
         ],
         "yaxis": "y"
        },
        {
         "alignmentgroup": "True",
         "hovertemplate": "Team=NYY<br>Player=%{x}<br>HR=%{y}<extra></extra>",
         "legendgroup": "NYY",
         "marker": {
          "color": "#FF97FF",
          "pattern": {
           "shape": ""
          }
         },
         "name": "NYY",
         "offsetgroup": "NYY",
         "orientation": "v",
         "showlegend": true,
         "textposition": "auto",
         "type": "bar",
         "x": [
          "Aaron Judge"
         ],
         "xaxis": "x",
         "y": [
          37
         ],
         "yaxis": "y"
        },
        {
         "alignmentgroup": "True",
         "hovertemplate": "Team=MIA<br>Player=%{x}<br>HR=%{y}<extra></extra>",
         "legendgroup": "MIA",
         "marker": {
          "color": "#FECB52",
          "pattern": {
           "shape": ""
          }
         },
         "name": "MIA",
         "offsetgroup": "MIA",
         "orientation": "v",
         "showlegend": true,
         "textposition": "auto",
         "type": "bar",
         "x": [
          "Jorge Soler"
         ],
         "xaxis": "x",
         "y": [
          36
         ],
         "yaxis": "y"
        },
        {
         "alignmentgroup": "True",
         "hovertemplate": "Team=SDP<br>Player=%{x}<br>HR=%{y}<extra></extra>",
         "legendgroup": "SDP",
         "marker": {
          "color": "#636efa",
          "pattern": {
           "shape": ""
          }
         },
         "name": "SDP",
         "offsetgroup": "SDP",
         "orientation": "v",
         "showlegend": true,
         "textposition": "auto",
         "type": "bar",
         "x": [
          "Juan Soto"
         ],
         "xaxis": "x",
         "y": [
          35
         ],
         "yaxis": "y"
        },
        {
         "alignmentgroup": "True",
         "hovertemplate": "Team=CHWMIA<br>Player=%{x}<br>HR=%{y}<extra></extra>",
         "legendgroup": "CHWMIA",
         "marker": {
          "color": "#EF553B",
          "pattern": {
           "shape": ""
          }
         },
         "name": "CHWMIA",
         "offsetgroup": "CHWMIA",
         "orientation": "v",
         "showlegend": true,
         "textposition": "auto",
         "type": "bar",
         "x": [
          "Jake Burger"
         ],
         "xaxis": "x",
         "y": [
          34
         ],
         "yaxis": "y"
        },
        {
         "alignmentgroup": "True",
         "hovertemplate": "Team=BOS<br>Player=%{x}<br>HR=%{y}<extra></extra>",
         "legendgroup": "BOS",
         "marker": {
          "color": "#00cc96",
          "pattern": {
           "shape": ""
          }
         },
         "name": "BOS",
         "offsetgroup": "BOS",
         "orientation": "v",
         "showlegend": true,
         "textposition": "auto",
         "type": "bar",
         "x": [
          "Rafael Devers"
         ],
         "xaxis": "x",
         "y": [
          33
         ],
         "yaxis": "y"
        }
       ],
       "layout": {
        "autosize": true,
        "barmode": "relative",
        "legend": {
         "title": {
          "text": "Team"
         },
         "tracegroupgap": 0
        },
        "template": {
         "data": {
          "bar": [
           {
            "error_x": {
             "color": "#2a3f5f"
            },
            "error_y": {
             "color": "#2a3f5f"
            },
            "marker": {
             "line": {
              "color": "#E5ECF6",
              "width": 0.5
             },
             "pattern": {
              "fillmode": "overlay",
              "size": 10,
              "solidity": 0.2
             }
            },
            "type": "bar"
           }
          ],
          "barpolar": [
           {
            "marker": {
             "line": {
              "color": "#E5ECF6",
              "width": 0.5
             },
             "pattern": {
              "fillmode": "overlay",
              "size": 10,
              "solidity": 0.2
             }
            },
            "type": "barpolar"
           }
          ],
          "carpet": [
           {
            "aaxis": {
             "endlinecolor": "#2a3f5f",
             "gridcolor": "white",
             "linecolor": "white",
             "minorgridcolor": "white",
             "startlinecolor": "#2a3f5f"
            },
            "baxis": {
             "endlinecolor": "#2a3f5f",
             "gridcolor": "white",
             "linecolor": "white",
             "minorgridcolor": "white",
             "startlinecolor": "#2a3f5f"
            },
            "type": "carpet"
           }
          ],
          "choropleth": [
           {
            "colorbar": {
             "outlinewidth": 0,
             "ticks": ""
            },
            "type": "choropleth"
           }
          ],
          "contour": [
           {
            "colorbar": {
             "outlinewidth": 0,
             "ticks": ""
            },
            "colorscale": [
             [
              0,
              "#0d0887"
             ],
             [
              0.1111111111111111,
              "#46039f"
             ],
             [
              0.2222222222222222,
              "#7201a8"
             ],
             [
              0.3333333333333333,
              "#9c179e"
             ],
             [
              0.4444444444444444,
              "#bd3786"
             ],
             [
              0.5555555555555556,
              "#d8576b"
             ],
             [
              0.6666666666666666,
              "#ed7953"
             ],
             [
              0.7777777777777778,
              "#fb9f3a"
             ],
             [
              0.8888888888888888,
              "#fdca26"
             ],
             [
              1,
              "#f0f921"
             ]
            ],
            "type": "contour"
           }
          ],
          "contourcarpet": [
           {
            "colorbar": {
             "outlinewidth": 0,
             "ticks": ""
            },
            "type": "contourcarpet"
           }
          ],
          "heatmap": [
           {
            "colorbar": {
             "outlinewidth": 0,
             "ticks": ""
            },
            "colorscale": [
             [
              0,
              "#0d0887"
             ],
             [
              0.1111111111111111,
              "#46039f"
             ],
             [
              0.2222222222222222,
              "#7201a8"
             ],
             [
              0.3333333333333333,
              "#9c179e"
             ],
             [
              0.4444444444444444,
              "#bd3786"
             ],
             [
              0.5555555555555556,
              "#d8576b"
             ],
             [
              0.6666666666666666,
              "#ed7953"
             ],
             [
              0.7777777777777778,
              "#fb9f3a"
             ],
             [
              0.8888888888888888,
              "#fdca26"
             ],
             [
              1,
              "#f0f921"
             ]
            ],
            "type": "heatmap"
           }
          ],
          "heatmapgl": [
           {
            "colorbar": {
             "outlinewidth": 0,
             "ticks": ""
            },
            "colorscale": [
             [
              0,
              "#0d0887"
             ],
             [
              0.1111111111111111,
              "#46039f"
             ],
             [
              0.2222222222222222,
              "#7201a8"
             ],
             [
              0.3333333333333333,
              "#9c179e"
             ],
             [
              0.4444444444444444,
              "#bd3786"
             ],
             [
              0.5555555555555556,
              "#d8576b"
             ],
             [
              0.6666666666666666,
              "#ed7953"
             ],
             [
              0.7777777777777778,
              "#fb9f3a"
             ],
             [
              0.8888888888888888,
              "#fdca26"
             ],
             [
              1,
              "#f0f921"
             ]
            ],
            "type": "heatmapgl"
           }
          ],
          "histogram": [
           {
            "marker": {
             "pattern": {
              "fillmode": "overlay",
              "size": 10,
              "solidity": 0.2
             }
            },
            "type": "histogram"
           }
          ],
          "histogram2d": [
           {
            "colorbar": {
             "outlinewidth": 0,
             "ticks": ""
            },
            "colorscale": [
             [
              0,
              "#0d0887"
             ],
             [
              0.1111111111111111,
              "#46039f"
             ],
             [
              0.2222222222222222,
              "#7201a8"
             ],
             [
              0.3333333333333333,
              "#9c179e"
             ],
             [
              0.4444444444444444,
              "#bd3786"
             ],
             [
              0.5555555555555556,
              "#d8576b"
             ],
             [
              0.6666666666666666,
              "#ed7953"
             ],
             [
              0.7777777777777778,
              "#fb9f3a"
             ],
             [
              0.8888888888888888,
              "#fdca26"
             ],
             [
              1,
              "#f0f921"
             ]
            ],
            "type": "histogram2d"
           }
          ],
          "histogram2dcontour": [
           {
            "colorbar": {
             "outlinewidth": 0,
             "ticks": ""
            },
            "colorscale": [
             [
              0,
              "#0d0887"
             ],
             [
              0.1111111111111111,
              "#46039f"
             ],
             [
              0.2222222222222222,
              "#7201a8"
             ],
             [
              0.3333333333333333,
              "#9c179e"
             ],
             [
              0.4444444444444444,
              "#bd3786"
             ],
             [
              0.5555555555555556,
              "#d8576b"
             ],
             [
              0.6666666666666666,
              "#ed7953"
             ],
             [
              0.7777777777777778,
              "#fb9f3a"
             ],
             [
              0.8888888888888888,
              "#fdca26"
             ],
             [
              1,
              "#f0f921"
             ]
            ],
            "type": "histogram2dcontour"
           }
          ],
          "mesh3d": [
           {
            "colorbar": {
             "outlinewidth": 0,
             "ticks": ""
            },
            "type": "mesh3d"
           }
          ],
          "parcoords": [
           {
            "line": {
             "colorbar": {
              "outlinewidth": 0,
              "ticks": ""
             }
            },
            "type": "parcoords"
           }
          ],
          "pie": [
           {
            "automargin": true,
            "type": "pie"
           }
          ],
          "scatter": [
           {
            "fillpattern": {
             "fillmode": "overlay",
             "size": 10,
             "solidity": 0.2
            },
            "type": "scatter"
           }
          ],
          "scatter3d": [
           {
            "line": {
             "colorbar": {
              "outlinewidth": 0,
              "ticks": ""
             }
            },
            "marker": {
             "colorbar": {
              "outlinewidth": 0,
              "ticks": ""
             }
            },
            "type": "scatter3d"
           }
          ],
          "scattercarpet": [
           {
            "marker": {
             "colorbar": {
              "outlinewidth": 0,
              "ticks": ""
             }
            },
            "type": "scattercarpet"
           }
          ],
          "scattergeo": [
           {
            "marker": {
             "colorbar": {
              "outlinewidth": 0,
              "ticks": ""
             }
            },
            "type": "scattergeo"
           }
          ],
          "scattergl": [
           {
            "marker": {
             "colorbar": {
              "outlinewidth": 0,
              "ticks": ""
             }
            },
            "type": "scattergl"
           }
          ],
          "scattermapbox": [
           {
            "marker": {
             "colorbar": {
              "outlinewidth": 0,
              "ticks": ""
             }
            },
            "type": "scattermapbox"
           }
          ],
          "scatterpolar": [
           {
            "marker": {
             "colorbar": {
              "outlinewidth": 0,
              "ticks": ""
             }
            },
            "type": "scatterpolar"
           }
          ],
          "scatterpolargl": [
           {
            "marker": {
             "colorbar": {
              "outlinewidth": 0,
              "ticks": ""
             }
            },
            "type": "scatterpolargl"
           }
          ],
          "scatterternary": [
           {
            "marker": {
             "colorbar": {
              "outlinewidth": 0,
              "ticks": ""
             }
            },
            "type": "scatterternary"
           }
          ],
          "surface": [
           {
            "colorbar": {
             "outlinewidth": 0,
             "ticks": ""
            },
            "colorscale": [
             [
              0,
              "#0d0887"
             ],
             [
              0.1111111111111111,
              "#46039f"
             ],
             [
              0.2222222222222222,
              "#7201a8"
             ],
             [
              0.3333333333333333,
              "#9c179e"
             ],
             [
              0.4444444444444444,
              "#bd3786"
             ],
             [
              0.5555555555555556,
              "#d8576b"
             ],
             [
              0.6666666666666666,
              "#ed7953"
             ],
             [
              0.7777777777777778,
              "#fb9f3a"
             ],
             [
              0.8888888888888888,
              "#fdca26"
             ],
             [
              1,
              "#f0f921"
             ]
            ],
            "type": "surface"
           }
          ],
          "table": [
           {
            "cells": {
             "fill": {
              "color": "#EBF0F8"
             },
             "line": {
              "color": "white"
             }
            },
            "header": {
             "fill": {
              "color": "#C8D4E3"
             },
             "line": {
              "color": "white"
             }
            },
            "type": "table"
           }
          ]
         },
         "layout": {
          "annotationdefaults": {
           "arrowcolor": "#2a3f5f",
           "arrowhead": 0,
           "arrowwidth": 1
          },
          "autotypenumbers": "strict",
          "coloraxis": {
           "colorbar": {
            "outlinewidth": 0,
            "ticks": ""
           }
          },
          "colorscale": {
           "diverging": [
            [
             0,
             "#8e0152"
            ],
            [
             0.1,
             "#c51b7d"
            ],
            [
             0.2,
             "#de77ae"
            ],
            [
             0.3,
             "#f1b6da"
            ],
            [
             0.4,
             "#fde0ef"
            ],
            [
             0.5,
             "#f7f7f7"
            ],
            [
             0.6,
             "#e6f5d0"
            ],
            [
             0.7,
             "#b8e186"
            ],
            [
             0.8,
             "#7fbc41"
            ],
            [
             0.9,
             "#4d9221"
            ],
            [
             1,
             "#276419"
            ]
           ],
           "sequential": [
            [
             0,
             "#0d0887"
            ],
            [
             0.1111111111111111,
             "#46039f"
            ],
            [
             0.2222222222222222,
             "#7201a8"
            ],
            [
             0.3333333333333333,
             "#9c179e"
            ],
            [
             0.4444444444444444,
             "#bd3786"
            ],
            [
             0.5555555555555556,
             "#d8576b"
            ],
            [
             0.6666666666666666,
             "#ed7953"
            ],
            [
             0.7777777777777778,
             "#fb9f3a"
            ],
            [
             0.8888888888888888,
             "#fdca26"
            ],
            [
             1,
             "#f0f921"
            ]
           ],
           "sequentialminus": [
            [
             0,
             "#0d0887"
            ],
            [
             0.1111111111111111,
             "#46039f"
            ],
            [
             0.2222222222222222,
             "#7201a8"
            ],
            [
             0.3333333333333333,
             "#9c179e"
            ],
            [
             0.4444444444444444,
             "#bd3786"
            ],
            [
             0.5555555555555556,
             "#d8576b"
            ],
            [
             0.6666666666666666,
             "#ed7953"
            ],
            [
             0.7777777777777778,
             "#fb9f3a"
            ],
            [
             0.8888888888888888,
             "#fdca26"
            ],
            [
             1,
             "#f0f921"
            ]
           ]
          },
          "colorway": [
           "#636efa",
           "#EF553B",
           "#00cc96",
           "#ab63fa",
           "#FFA15A",
           "#19d3f3",
           "#FF6692",
           "#B6E880",
           "#FF97FF",
           "#FECB52"
          ],
          "font": {
           "color": "#2a3f5f"
          },
          "geo": {
           "bgcolor": "white",
           "lakecolor": "white",
           "landcolor": "#E5ECF6",
           "showlakes": true,
           "showland": true,
           "subunitcolor": "white"
          },
          "hoverlabel": {
           "align": "left"
          },
          "hovermode": "closest",
          "mapbox": {
           "style": "light"
          },
          "paper_bgcolor": "white",
          "plot_bgcolor": "#E5ECF6",
          "polar": {
           "angularaxis": {
            "gridcolor": "white",
            "linecolor": "white",
            "ticks": ""
           },
           "bgcolor": "#E5ECF6",
           "radialaxis": {
            "gridcolor": "white",
            "linecolor": "white",
            "ticks": ""
           }
          },
          "scene": {
           "xaxis": {
            "backgroundcolor": "#E5ECF6",
            "gridcolor": "white",
            "gridwidth": 2,
            "linecolor": "white",
            "showbackground": true,
            "ticks": "",
            "zerolinecolor": "white"
           },
           "yaxis": {
            "backgroundcolor": "#E5ECF6",
            "gridcolor": "white",
            "gridwidth": 2,
            "linecolor": "white",
            "showbackground": true,
            "ticks": "",
            "zerolinecolor": "white"
           },
           "zaxis": {
            "backgroundcolor": "#E5ECF6",
            "gridcolor": "white",
            "gridwidth": 2,
            "linecolor": "white",
            "showbackground": true,
            "ticks": "",
            "zerolinecolor": "white"
           }
          },
          "shapedefaults": {
           "line": {
            "color": "#2a3f5f"
           }
          },
          "ternary": {
           "aaxis": {
            "gridcolor": "white",
            "linecolor": "white",
            "ticks": ""
           },
           "baxis": {
            "gridcolor": "white",
            "linecolor": "white",
            "ticks": ""
           },
           "bgcolor": "#E5ECF6",
           "caxis": {
            "gridcolor": "white",
            "linecolor": "white",
            "ticks": ""
           }
          },
          "title": {
           "x": 0.05
          },
          "xaxis": {
           "automargin": true,
           "gridcolor": "white",
           "linecolor": "white",
           "ticks": "",
           "title": {
            "standoff": 15
           },
           "zerolinecolor": "white",
           "zerolinewidth": 2
          },
          "yaxis": {
           "automargin": true,
           "gridcolor": "white",
           "linecolor": "white",
           "ticks": "",
           "title": {
            "standoff": 15
           },
           "zerolinecolor": "white",
           "zerolinewidth": 2
          }
         }
        },
        "title": {
         "text": "Total counts for types of plays"
        },
        "xaxis": {
         "anchor": "y",
         "autorange": true,
         "domain": [
          0,
          1
         ],
         "range": [
          -0.5,
          18.5
         ],
         "title": {
          "text": "Player"
         },
         "type": "category"
        },
        "yaxis": {
         "anchor": "x",
         "autorange": true,
         "domain": [
          0,
          1
         ],
         "range": [
          0,
          56.8421052631579
         ],
         "title": {
          "text": "HR"
         },
         "type": "linear"
        }
       }
      },
      "image/png": "[encoded data removed]",
      "text/html": [
       "<div>                            <div id=\"4d3c99b0-208d-4ec0-bc9e-14188440cb16\" class=\"plotly-graph-div\" style=\"height:525px; width:100%;\"></div>            <script type=\"text/javascript\">                require([\"plotly\"], function(Plotly) {                    window.PLOTLYENV=window.PLOTLYENV || {};                                    if (document.getElementById(\"4d3c99b0-208d-4ec0-bc9e-14188440cb16\")) {                    Plotly.newPlot(                        \"4d3c99b0-208d-4ec0-bc9e-14188440cb16\",                        [{\"alignmentgroup\":\"True\",\"hovertemplate\":\"Team=ATL\\u003cbr\\u003ePlayer=%{x}\\u003cbr\\u003eHR=%{y}\\u003cextra\\u003e\\u003c\\u002fextra\\u003e\",\"legendgroup\":\"ATL\",\"marker\":{\"color\":\"#EF553B\",\"pattern\":{\"shape\":\"\"}},\"name\":\"ATL\",\"offsetgroup\":\"ATL\",\"orientation\":\"v\",\"showlegend\":true,\"textposition\":\"auto\",\"x\":[\"Matt Olson\",\"Ronald Acu\\u00f1a Jr.\",\"Marcell Ozuna\",\"Austin Riley\",\"Ozzie Albies\"],\"xaxis\":\"x\",\"y\":[54.0,41.0,40.0,37.0,33.0],\"yaxis\":\"y\",\"type\":\"bar\"},{\"alignmentgroup\":\"True\",\"hovertemplate\":\"Team=PHI\\u003cbr\\u003ePlayer=%{x}\\u003cbr\\u003eHR=%{y}\\u003cextra\\u003e\\u003c\\u002fextra\\u003e\",\"legendgroup\":\"PHI\",\"marker\":{\"color\":\"#00cc96\",\"pattern\":{\"shape\":\"\"}},\"name\":\"PHI\",\"offsetgroup\":\"PHI\",\"orientation\":\"v\",\"showlegend\":true,\"textposition\":\"auto\",\"x\":[\"Kyle Schwarber\"],\"xaxis\":\"x\",\"y\":[47.0],\"yaxis\":\"y\",\"type\":\"bar\"},{\"alignmentgroup\":\"True\",\"hovertemplate\":\"Team=NYM\\u003cbr\\u003ePlayer=%{x}\\u003cbr\\u003eHR=%{y}\\u003cextra\\u003e\\u003c\\u002fextra\\u003e\",\"legendgroup\":\"NYM\",\"marker\":{\"color\":\"#ab63fa\",\"pattern\":{\"shape\":\"\"}},\"name\":\"NYM\",\"offsetgroup\":\"NYM\",\"orientation\":\"v\",\"showlegend\":true,\"textposition\":\"auto\",\"x\":[\"Pete Alonso\"],\"xaxis\":\"x\",\"y\":[46.0],\"yaxis\":\"y\",\"type\":\"bar\"},{\"alignmentgroup\":\"True\",\"hovertemplate\":\"Team=LAA\\u003cbr\\u003ePlayer=%{x}\\u003cbr\\u003eHR=%{y}\\u003cextra\\u003e\\u003c\\u002fextra\\u003e\",\"legendgroup\":\"LAA\",\"marker\":{\"color\":\"#FFA15A\",\"pattern\":{\"shape\":\"\"}},\"name\":\"LAA\",\"offsetgroup\":\"LAA\",\"orientation\":\"v\",\"showlegend\":true,\"textposition\":\"auto\",\"x\":[\"Shohei Ohtani\"],\"xaxis\":\"x\",\"y\":[44.0],\"yaxis\":\"y\",\"type\":\"bar\"},{\"alignmentgroup\":\"True\",\"hovertemplate\":\"Team=LAD\\u003cbr\\u003ePlayer=%{x}\\u003cbr\\u003eHR=%{y}\\u003cextra\\u003e\\u003c\\u002fextra\\u003e\",\"legendgroup\":\"LAD\",\"marker\":{\"color\":\"#19d3f3\",\"pattern\":{\"shape\":\"\"}},\"name\":\"LAD\",\"offsetgroup\":\"LAD\",\"orientation\":\"v\",\"showlegend\":true,\"textposition\":\"auto\",\"x\":[\"Mookie Betts\",\"Max Muncy\",\"J.D. Martinez\"],\"xaxis\":\"x\",\"y\":[39.0,36.0,33.0],\"yaxis\":\"y\",\"type\":\"bar\"},{\"alignmentgroup\":\"True\",\"hovertemplate\":\"Team=TEX\\u003cbr\\u003ePlayer=%{x}\\u003cbr\\u003eHR=%{y}\\u003cextra\\u003e\\u003c\\u002fextra\\u003e\",\"legendgroup\":\"TEX\",\"marker\":{\"color\":\"#FF6692\",\"pattern\":{\"shape\":\"\"}},\"name\":\"TEX\",\"offsetgroup\":\"TEX\",\"orientation\":\"v\",\"showlegend\":true,\"textposition\":\"auto\",\"x\":[\"Adolis Garc\\u00eda\",\"Corey Seager\"],\"xaxis\":\"x\",\"y\":[39.0,33.0],\"yaxis\":\"y\",\"type\":\"bar\"},{\"alignmentgroup\":\"True\",\"hovertemplate\":\"Team=CHW\\u003cbr\\u003ePlayer=%{x}\\u003cbr\\u003eHR=%{y}\\u003cextra\\u003e\\u003c\\u002fextra\\u003e\",\"legendgroup\":\"CHW\",\"marker\":{\"color\":\"#B6E880\",\"pattern\":{\"shape\":\"\"}},\"name\":\"CHW\",\"offsetgroup\":\"CHW\",\"orientation\":\"v\",\"showlegend\":true,\"textposition\":\"auto\",\"x\":[\"Luis Robert Jr.\"],\"xaxis\":\"x\",\"y\":[38.0],\"yaxis\":\"y\",\"type\":\"bar\"},{\"alignmentgroup\":\"True\",\"hovertemplate\":\"Team=NYY\\u003cbr\\u003ePlayer=%{x}\\u003cbr\\u003eHR=%{y}\\u003cextra\\u003e\\u003c\\u002fextra\\u003e\",\"legendgroup\":\"NYY\",\"marker\":{\"color\":\"#FF97FF\",\"pattern\":{\"shape\":\"\"}},\"name\":\"NYY\",\"offsetgroup\":\"NYY\",\"orientation\":\"v\",\"showlegend\":true,\"textposition\":\"auto\",\"x\":[\"Aaron Judge\"],\"xaxis\":\"x\",\"y\":[37.0],\"yaxis\":\"y\",\"type\":\"bar\"},{\"alignmentgroup\":\"True\",\"hovertemplate\":\"Team=MIA\\u003cbr\\u003ePlayer=%{x}\\u003cbr\\u003eHR=%{y}\\u003cextra\\u003e\\u003c\\u002fextra\\u003e\",\"legendgroup\":\"MIA\",\"marker\":{\"color\":\"#FECB52\",\"pattern\":{\"shape\":\"\"}},\"name\":\"MIA\",\"offsetgroup\":\"MIA\",\"orientation\":\"v\",\"showlegend\":true,\"textposition\":\"auto\",\"x\":[\"Jorge Soler\"],\"xaxis\":\"x\",\"y\":[36.0],\"yaxis\":\"y\",\"type\":\"bar\"},{\"alignmentgroup\":\"True\",\"hovertemplate\":\"Team=SDP\\u003cbr\\u003ePlayer=%{x}\\u003cbr\\u003eHR=%{y}\\u003cextra\\u003e\\u003c\\u002fextra\\u003e\",\"legendgroup\":\"SDP\",\"marker\":{\"color\":\"#636efa\",\"pattern\":{\"shape\":\"\"}},\"name\":\"SDP\",\"offsetgroup\":\"SDP\",\"orientation\":\"v\",\"showlegend\":true,\"textposition\":\"auto\",\"x\":[\"Juan Soto\"],\"xaxis\":\"x\",\"y\":[35.0],\"yaxis\":\"y\",\"type\":\"bar\"},{\"alignmentgroup\":\"True\",\"hovertemplate\":\"Team=CHWMIA\\u003cbr\\u003ePlayer=%{x}\\u003cbr\\u003eHR=%{y}\\u003cextra\\u003e\\u003c\\u002fextra\\u003e\",\"legendgroup\":\"CHWMIA\",\"marker\":{\"color\":\"#EF553B\",\"pattern\":{\"shape\":\"\"}},\"name\":\"CHWMIA\",\"offsetgroup\":\"CHWMIA\",\"orientation\":\"v\",\"showlegend\":true,\"textposition\":\"auto\",\"x\":[\"Jake Burger\"],\"xaxis\":\"x\",\"y\":[34.0],\"yaxis\":\"y\",\"type\":\"bar\"},{\"alignmentgroup\":\"True\",\"hovertemplate\":\"Team=BOS\\u003cbr\\u003ePlayer=%{x}\\u003cbr\\u003eHR=%{y}\\u003cextra\\u003e\\u003c\\u002fextra\\u003e\",\"legendgroup\":\"BOS\",\"marker\":{\"color\":\"#00cc96\",\"pattern\":{\"shape\":\"\"}},\"name\":\"BOS\",\"offsetgroup\":\"BOS\",\"orientation\":\"v\",\"showlegend\":true,\"textposition\":\"auto\",\"x\":[\"Rafael Devers\"],\"xaxis\":\"x\",\"y\":[33.0],\"yaxis\":\"y\",\"type\":\"bar\"}],                        {\"template\":{\"data\":{\"histogram2dcontour\":[{\"type\":\"histogram2dcontour\",\"colorbar\":{\"outlinewidth\":0,\"ticks\":\"\"},\"colorscale\":[[0.0,\"#0d0887\"],[0.1111111111111111,\"#46039f\"],[0.2222222222222222,\"#7201a8\"],[0.3333333333333333,\"#9c179e\"],[0.4444444444444444,\"#bd3786\"],[0.5555555555555556,\"#d8576b\"],[0.6666666666666666,\"#ed7953\"],[0.7777777777777778,\"#fb9f3a\"],[0.8888888888888888,\"#fdca26\"],[1.0,\"#f0f921\"]]}],\"choropleth\":[{\"type\":\"choropleth\",\"colorbar\":{\"outlinewidth\":0,\"ticks\":\"\"}}],\"histogram2d\":[{\"type\":\"histogram2d\",\"colorbar\":{\"outlinewidth\":0,\"ticks\":\"\"},\"colorscale\":[[0.0,\"#0d0887\"],[0.1111111111111111,\"#46039f\"],[0.2222222222222222,\"#7201a8\"],[0.3333333333333333,\"#9c179e\"],[0.4444444444444444,\"#bd3786\"],[0.5555555555555556,\"#d8576b\"],[0.6666666666666666,\"#ed7953\"],[0.7777777777777778,\"#fb9f3a\"],[0.8888888888888888,\"#fdca26\"],[1.0,\"#f0f921\"]]}],\"heatmap\":[{\"type\":\"heatmap\",\"colorbar\":{\"outlinewidth\":0,\"ticks\":\"\"},\"colorscale\":[[0.0,\"#0d0887\"],[0.1111111111111111,\"#46039f\"],[0.2222222222222222,\"#7201a8\"],[0.3333333333333333,\"#9c179e\"],[0.4444444444444444,\"#bd3786\"],[0.5555555555555556,\"#d8576b\"],[0.6666666666666666,\"#ed7953\"],[0.7777777777777778,\"#fb9f3a\"],[0.8888888888888888,\"#fdca26\"],[1.0,\"#f0f921\"]]}],\"heatmapgl\":[{\"type\":\"heatmapgl\",\"colorbar\":{\"outlinewidth\":0,\"ticks\":\"\"},\"colorscale\":[[0.0,\"#0d0887\"],[0.1111111111111111,\"#46039f\"],[0.2222222222222222,\"#7201a8\"],[0.3333333333333333,\"#9c179e\"],[0.4444444444444444,\"#bd3786\"],[0.5555555555555556,\"#d8576b\"],[0.6666666666666666,\"#ed7953\"],[0.7777777777777778,\"#fb9f3a\"],[0.8888888888888888,\"#fdca26\"],[1.0,\"#f0f921\"]]}],\"contourcarpet\":[{\"type\":\"contourcarpet\",\"colorbar\":{\"outlinewidth\":0,\"ticks\":\"\"}}],\"contour\":[{\"type\":\"contour\",\"colorbar\":{\"outlinewidth\":0,\"ticks\":\"\"},\"colorscale\":[[0.0,\"#0d0887\"],[0.1111111111111111,\"#46039f\"],[0.2222222222222222,\"#7201a8\"],[0.3333333333333333,\"#9c179e\"],[0.4444444444444444,\"#bd3786\"],[0.5555555555555556,\"#d8576b\"],[0.6666666666666666,\"#ed7953\"],[0.7777777777777778,\"#fb9f3a\"],[0.8888888888888888,\"#fdca26\"],[1.0,\"#f0f921\"]]}],\"surface\":[{\"type\":\"surface\",\"colorbar\":{\"outlinewidth\":0,\"ticks\":\"\"},\"colorscale\":[[0.0,\"#0d0887\"],[0.1111111111111111,\"#46039f\"],[0.2222222222222222,\"#7201a8\"],[0.3333333333333333,\"#9c179e\"],[0.4444444444444444,\"#bd3786\"],[0.5555555555555556,\"#d8576b\"],[0.6666666666666666,\"#ed7953\"],[0.7777777777777778,\"#fb9f3a\"],[0.8888888888888888,\"#fdca26\"],[1.0,\"#f0f921\"]]}],\"mesh3d\":[{\"type\":\"mesh3d\",\"colorbar\":{\"outlinewidth\":0,\"ticks\":\"\"}}],\"scatter\":[{\"fillpattern\":{\"fillmode\":\"overlay\",\"size\":10,\"solidity\":0.2},\"type\":\"scatter\"}],\"parcoords\":[{\"type\":\"parcoords\",\"line\":{\"colorbar\":{\"outlinewidth\":0,\"ticks\":\"\"}}}],\"scatterpolargl\":[{\"type\":\"scatterpolargl\",\"marker\":{\"colorbar\":{\"outlinewidth\":0,\"ticks\":\"\"}}}],\"bar\":[{\"error_x\":{\"color\":\"#2a3f5f\"},\"error_y\":{\"color\":\"#2a3f5f\"},\"marker\":{\"line\":{\"color\":\"#E5ECF6\",\"width\":0.5},\"pattern\":{\"fillmode\":\"overlay\",\"size\":10,\"solidity\":0.2}},\"type\":\"bar\"}],\"scattergeo\":[{\"type\":\"scattergeo\",\"marker\":{\"colorbar\":{\"outlinewidth\":0,\"ticks\":\"\"}}}],\"scatterpolar\":[{\"type\":\"scatterpolar\",\"marker\":{\"colorbar\":{\"outlinewidth\":0,\"ticks\":\"\"}}}],\"histogram\":[{\"marker\":{\"pattern\":{\"fillmode\":\"overlay\",\"size\":10,\"solidity\":0.2}},\"type\":\"histogram\"}],\"scattergl\":[{\"type\":\"scattergl\",\"marker\":{\"colorbar\":{\"outlinewidth\":0,\"ticks\":\"\"}}}],\"scatter3d\":[{\"type\":\"scatter3d\",\"line\":{\"colorbar\":{\"outlinewidth\":0,\"ticks\":\"\"}},\"marker\":{\"colorbar\":{\"outlinewidth\":0,\"ticks\":\"\"}}}],\"scattermapbox\":[{\"type\":\"scattermapbox\",\"marker\":{\"colorbar\":{\"outlinewidth\":0,\"ticks\":\"\"}}}],\"scatterternary\":[{\"type\":\"scatterternary\",\"marker\":{\"colorbar\":{\"outlinewidth\":0,\"ticks\":\"\"}}}],\"scattercarpet\":[{\"type\":\"scattercarpet\",\"marker\":{\"colorbar\":{\"outlinewidth\":0,\"ticks\":\"\"}}}],\"carpet\":[{\"aaxis\":{\"endlinecolor\":\"#2a3f5f\",\"gridcolor\":\"white\",\"linecolor\":\"white\",\"minorgridcolor\":\"white\",\"startlinecolor\":\"#2a3f5f\"},\"baxis\":{\"endlinecolor\":\"#2a3f5f\",\"gridcolor\":\"white\",\"linecolor\":\"white\",\"minorgridcolor\":\"white\",\"startlinecolor\":\"#2a3f5f\"},\"type\":\"carpet\"}],\"table\":[{\"cells\":{\"fill\":{\"color\":\"#EBF0F8\"},\"line\":{\"color\":\"white\"}},\"header\":{\"fill\":{\"color\":\"#C8D4E3\"},\"line\":{\"color\":\"white\"}},\"type\":\"table\"}],\"barpolar\":[{\"marker\":{\"line\":{\"color\":\"#E5ECF6\",\"width\":0.5},\"pattern\":{\"fillmode\":\"overlay\",\"size\":10,\"solidity\":0.2}},\"type\":\"barpolar\"}],\"pie\":[{\"automargin\":true,\"type\":\"pie\"}]},\"layout\":{\"autotypenumbers\":\"strict\",\"colorway\":[\"#636efa\",\"#EF553B\",\"#00cc96\",\"#ab63fa\",\"#FFA15A\",\"#19d3f3\",\"#FF6692\",\"#B6E880\",\"#FF97FF\",\"#FECB52\"],\"font\":{\"color\":\"#2a3f5f\"},\"hovermode\":\"closest\",\"hoverlabel\":{\"align\":\"left\"},\"paper_bgcolor\":\"white\",\"plot_bgcolor\":\"#E5ECF6\",\"polar\":{\"bgcolor\":\"#E5ECF6\",\"angularaxis\":{\"gridcolor\":\"white\",\"linecolor\":\"white\",\"ticks\":\"\"},\"radialaxis\":{\"gridcolor\":\"white\",\"linecolor\":\"white\",\"ticks\":\"\"}},\"ternary\":{\"bgcolor\":\"#E5ECF6\",\"aaxis\":{\"gridcolor\":\"white\",\"linecolor\":\"white\",\"ticks\":\"\"},\"baxis\":{\"gridcolor\":\"white\",\"linecolor\":\"white\",\"ticks\":\"\"},\"caxis\":{\"gridcolor\":\"white\",\"linecolor\":\"white\",\"ticks\":\"\"}},\"coloraxis\":{\"colorbar\":{\"outlinewidth\":0,\"ticks\":\"\"}},\"colorscale\":{\"sequential\":[[0.0,\"#0d0887\"],[0.1111111111111111,\"#46039f\"],[0.2222222222222222,\"#7201a8\"],[0.3333333333333333,\"#9c179e\"],[0.4444444444444444,\"#bd3786\"],[0.5555555555555556,\"#d8576b\"],[0.6666666666666666,\"#ed7953\"],[0.7777777777777778,\"#fb9f3a\"],[0.8888888888888888,\"#fdca26\"],[1.0,\"#f0f921\"]],\"sequentialminus\":[[0.0,\"#0d0887\"],[0.1111111111111111,\"#46039f\"],[0.2222222222222222,\"#7201a8\"],[0.3333333333333333,\"#9c179e\"],[0.4444444444444444,\"#bd3786\"],[0.5555555555555556,\"#d8576b\"],[0.6666666666666666,\"#ed7953\"],[0.7777777777777778,\"#fb9f3a\"],[0.8888888888888888,\"#fdca26\"],[1.0,\"#f0f921\"]],\"diverging\":[[0,\"#8e0152\"],[0.1,\"#c51b7d\"],[0.2,\"#de77ae\"],[0.3,\"#f1b6da\"],[0.4,\"#fde0ef\"],[0.5,\"#f7f7f7\"],[0.6,\"#e6f5d0\"],[0.7,\"#b8e186\"],[0.8,\"#7fbc41\"],[0.9,\"#4d9221\"],[1,\"#276419\"]]},\"xaxis\":{\"gridcolor\":\"white\",\"linecolor\":\"white\",\"ticks\":\"\",\"title\":{\"standoff\":15},\"zerolinecolor\":\"white\",\"automargin\":true,\"zerolinewidth\":2},\"yaxis\":{\"gridcolor\":\"white\",\"linecolor\":\"white\",\"ticks\":\"\",\"title\":{\"standoff\":15},\"zerolinecolor\":\"white\",\"automargin\":true,\"zerolinewidth\":2},\"scene\":{\"xaxis\":{\"backgroundcolor\":\"#E5ECF6\",\"gridcolor\":\"white\",\"linecolor\":\"white\",\"showbackground\":true,\"ticks\":\"\",\"zerolinecolor\":\"white\",\"gridwidth\":2},\"yaxis\":{\"backgroundcolor\":\"#E5ECF6\",\"gridcolor\":\"white\",\"linecolor\":\"white\",\"showbackground\":true,\"ticks\":\"\",\"zerolinecolor\":\"white\",\"gridwidth\":2},\"zaxis\":{\"backgroundcolor\":\"#E5ECF6\",\"gridcolor\":\"white\",\"linecolor\":\"white\",\"showbackground\":true,\"ticks\":\"\",\"zerolinecolor\":\"white\",\"gridwidth\":2}},\"shapedefaults\":{\"line\":{\"color\":\"#2a3f5f\"}},\"annotationdefaults\":{\"arrowcolor\":\"#2a3f5f\",\"arrowhead\":0,\"arrowwidth\":1},\"geo\":{\"bgcolor\":\"white\",\"landcolor\":\"#E5ECF6\",\"subunitcolor\":\"white\",\"showland\":true,\"showlakes\":true,\"lakecolor\":\"white\"},\"title\":{\"x\":0.05},\"mapbox\":{\"style\":\"light\"}}},\"xaxis\":{\"anchor\":\"y\",\"domain\":[0.0,1.0],\"title\":{\"text\":\"Player\"}},\"yaxis\":{\"anchor\":\"x\",\"domain\":[0.0,1.0],\"title\":{\"text\":\"HR\"}},\"legend\":{\"title\":{\"text\":\"Team\"},\"tracegroupgap\":0},\"title\":{\"text\":\"Total counts for types of plays\"},\"barmode\":\"relative\"},                        {\"responsive\": true}                    ).then(function(){\n",
       "                            \n",
       "var gd = document.getElementById('4d3c99b0-208d-4ec0-bc9e-14188440cb16');\n",
       "var x = new MutationObserver(function (mutations, observer) {{\n",
       "        var display = window.getComputedStyle(gd).display;\n",
       "        if (!display || display === 'none') {{\n",
       "            console.log([gd, 'removed!']);\n",
       "            Plotly.purge(gd);\n",
       "            observer.disconnect();\n",
       "        }}\n",
       "}});\n",
       "\n",
       "// Listen for the removal of the full notebook cells\n",
       "var notebookContainer = gd.closest('#notebook-container');\n",
       "if (notebookContainer) {{\n",
       "    x.observe(notebookContainer, {childList: true});\n",
       "}}\n",
       "\n",
       "// Listen for the clearing of the current output cell\n",
       "var outputEl = gd.closest('.output');\n",
       "if (outputEl) {{\n",
       "    x.observe(outputEl, {childList: true});\n",
       "}}\n",
       "\n",
       "                        })                };                });            </script>        </div>"
      ]
     },
     "metadata": {},
     "output_type": "display_data"
    }
   ],
   "source": [
    "px.bar(dfb[0:20], x='Player', y='HR', color=\"Team\", title='Total counts for types of plays')"
   ]
  },
  {
   "cell_type": "markdown",
   "metadata": {},
   "source": [
    "### Observations\n",
    "\n",
    "What do you notice in this bar cheat? WHo is the top home run hitter? What team has the most top hitters?"
   ]
  },
  {
   "cell_type": "markdown",
   "metadata": {},
   "source": [
    "## Plotting data points\n",
    "\n",
    "Let's see how the home run production is predicted by the players batting average."
   ]
  },
  {
   "cell_type": "code",
   "execution_count": 17,
   "metadata": {},
   "outputs": [
    {
     "data": {
      "application/vnd.plotly.v1+json": {
       "config": {
        "plotlyServerURL": "https://plot.ly"
       },
       "data": [
        {
         "hovertemplate": "BA=%{x}<br>HR=%{y}<extra></extra>",
         "legendgroup": "",
         "marker": {
          "color": "#636efa",
          "symbol": "circle"
         },
         "mode": "markers",
         "name": "",
         "orientation": "v",
         "showlegend": false,
         "type": "scatter",
         "x": [
          null,
          0.283,
          0.197,
          0.217,
          0.304,
          0.337,
          0.274,
          0.307,
          0.245,
          0.264,
          0.267,
          0.281,
          0.212,
          0.25,
          0.275,
          0.25,
          0.28,
          0.271,
          0.271,
          0.327,
          0.258,
          0.275,
          0.293,
          0.254,
          0.25,
          0.233,
          0.258,
          0.232,
          0.246,
          0.276,
          0.272,
          0.331,
          0.276,
          0.284,
          0.255,
          0.257,
          0.268,
          0.236,
          0.266,
          0.307,
          0.262,
          0.264,
          0.258,
          0.247,
          0.224,
          0.266,
          0.209,
          0.262,
          0.285,
          0.268,
          0.276,
          0.222,
          0.257,
          0.273,
          0.217,
          0.263,
          0.261,
          0.26,
          0.274,
          0.282,
          0.263,
          0.191,
          0.254,
          0.282,
          0.284,
          0.266,
          0.24,
          0.248,
          0.255,
          0.24,
          0.271,
          0.276,
          0.205,
          0.247,
          0.251,
          0.33,
          0.205,
          0.273,
          0.232,
          0.244,
          0.247,
          0.177,
          0.248,
          0.293,
          0.231,
          0.251,
          0.221,
          0.255,
          0.258,
          0.22,
          0.258,
          0.209,
          0.306,
          0.274,
          0.278,
          0.264,
          0.297,
          0.292,
          0.252,
          0.233,
          0.277,
          0.285,
          0.22,
          0.254,
          0.285,
          0.25,
          0.266,
          0.257,
          0.27,
          0.249,
          0.217,
          0.261,
          0.278,
          0.245,
          0.237,
          0.23,
          0.248,
          0.279,
          0.293,
          0.258,
          0.272,
          0.27,
          0.26,
          0.263,
          0.311,
          0.264,
          0.207,
          0.24,
          0.289,
          0.251,
          0.281,
          0.244,
          0.228,
          0.26,
          0.262,
          0.308,
          0.235,
          0.256,
          0.228,
          0.267,
          0.275,
          0.263,
          0.29,
          0.235,
          0.229,
          0.256,
          0.264,
          0.276,
          0.239,
          0.256,
          0.251,
          0.271,
          0.269,
          0.243,
          0.309,
          0.191,
          0.229,
          0.233,
          0.235,
          0.28,
          0.237,
          0.253,
          0.233,
          0.289,
          0.222,
          0.207,
          0.267,
          0.276,
          0.271,
          0.267,
          0.276,
          0.28,
          0.261,
          0.289,
          0.236,
          0.255,
          0.253,
          0.266,
          0.202,
          0.249,
          0.253,
          0.198,
          0.235,
          0.152,
          0.248,
          0.27,
          0.24,
          0.275,
          0.235,
          0.236,
          0.243,
          0.215,
          0.264,
          0.233,
          0.204,
          0.202,
          0.248,
          0.25,
          0.277,
          0.256,
          0.247,
          0.263,
          0.313,
          0.244,
          0.254,
          0.218,
          0.275,
          0.225,
          0.262,
          0.225,
          0.284,
          0.256,
          0.288,
          0.237,
          0.264,
          0.247,
          0.253,
          0.27,
          0.223,
          0.272,
          0.26,
          0.243,
          0.237,
          0.244,
          0.21,
          0.354,
          0.195,
          0.233,
          0.229,
          0.221,
          0.203,
          0.278,
          0.267,
          0.238,
          0.236,
          0.241,
          0.27,
          0.227,
          0.239,
          0.263,
          0.203,
          0.251,
          0.234,
          0.261,
          0.226,
          0.222,
          0.212,
          0.235,
          0.257,
          0.281,
          0.266,
          0.269,
          0.283,
          0.224,
          0.231,
          0.225,
          0.231,
          0.247,
          0.228,
          0.242,
          0.214,
          0.23,
          0.211,
          0.235,
          0.279,
          0.244,
          0.2,
          0.295,
          0.234,
          0.253,
          0.265,
          0.25,
          0.213,
          0.173,
          0.29,
          0.276,
          0.252,
          0.201,
          0.228,
          0.232,
          0.233,
          0.294,
          0.319,
          0.259,
          0.194,
          0.213,
          0.217,
          0.207,
          0.284,
          0.237,
          0.259,
          0.232,
          0.204,
          0.188,
          0.195,
          0.197,
          0.171,
          0.251,
          0.217,
          0.22,
          0.211,
          0.162,
          0.163,
          0.188,
          0.226,
          0.204,
          0.209,
          0.245,
          0.242,
          0.235,
          0.264,
          0.222,
          0.227,
          0.258,
          0.246,
          0.226,
          0.211,
          0.252,
          0.263,
          0.185,
          0.201,
          0.163,
          0.218,
          0.266,
          0.223,
          0.221,
          0.214,
          0.262,
          0.266,
          0.211,
          0.239,
          0.219,
          0.176,
          0.306,
          0.212,
          0.216,
          0.245,
          0.228,
          0.24,
          0.209,
          0.268,
          0.248,
          0.227,
          0.261,
          0.165,
          0.236,
          0.254,
          0.206,
          0.27,
          0.185,
          0.282,
          0.145,
          0.273,
          0.221,
          0.25,
          0.316,
          0.205,
          0.211,
          0.221,
          0.257,
          0.23,
          0.229,
          0.258,
          0.242,
          0.238,
          0.272,
          0.245,
          0.201,
          0.207,
          0.234,
          0.264,
          0.203,
          0.217,
          0.261,
          0.258,
          0.245,
          0.163,
          0.232,
          0.21,
          0.264,
          0.252,
          0.125,
          0.229,
          0.183,
          0.207,
          0.22,
          0.136,
          0.241,
          0.258,
          0.246,
          0.185,
          0.194,
          0.276,
          0.236,
          0.256,
          0.233,
          0.239,
          0.316,
          0.232,
          0.167,
          0.211,
          0.246,
          0.259,
          0.189,
          0.253,
          0.175,
          0.229,
          0.22,
          0.219,
          0.16,
          0.191,
          0.203,
          0.236,
          0.13,
          0.298,
          0.194,
          0.161,
          0.26,
          0.177,
          0.316,
          0.212,
          0.226,
          0.23,
          0.231,
          0.231,
          0.209,
          0.18,
          0.258,
          0.278,
          0.167,
          0.242,
          0.244,
          0.262,
          0.25,
          0.203,
          0.183,
          0.251,
          0.217,
          0.248,
          0.219,
          0.301,
          0.247,
          0.218,
          0.179,
          0.214,
          0.209,
          0.176,
          0.204,
          0.234,
          0.206,
          0.233,
          0.216,
          0.232,
          0.208,
          0.263,
          0.237,
          0.25,
          0.248,
          0.243,
          0.254,
          0.211,
          0.2,
          0.238,
          0.191,
          0.241,
          0.236,
          0.186,
          0.287,
          0.302,
          0.118,
          0.25,
          0.165,
          0.444,
          0.299,
          0.173,
          0.212,
          0.172,
          0.175,
          0.183,
          0.186,
          0.146,
          0.217,
          0.245,
          0.202,
          0.218,
          0.161,
          0.133,
          0.182,
          0.208,
          0.235,
          0.294,
          0.252,
          0.38,
          0.25,
          0.111,
          0.204,
          0.251,
          0.2,
          0.4,
          0.224,
          0.253,
          0.167,
          0.184,
          0.119,
          0.256,
          0.263,
          0.163,
          0.2,
          0.077,
          0.157,
          0.286,
          0.231,
          0.225,
          0.241,
          0.267,
          0.253,
          0.185,
          0.286,
          0.214,
          0.184,
          0.269,
          0.146,
          0.219,
          0.204,
          0.25,
          0.194,
          0.179,
          0.248,
          0.252,
          0.071,
          0.275,
          0.238,
          0.204,
          0.21,
          0.238,
          0.462,
          0.313,
          0.199,
          0.208,
          0.128,
          null,
          0,
          null,
          0.067,
          0.222,
          null,
          0,
          null,
          0,
          0.207,
          null,
          0.23,
          0.182,
          null,
          null,
          null,
          0.17,
          0.171,
          null,
          null,
          null,
          0.222,
          null,
          0.26,
          0.167,
          0.175,
          0,
          null,
          null,
          null,
          null,
          null,
          0.5,
          null,
          0.115,
          null,
          null,
          0.167,
          0,
          1,
          0.27,
          0.042,
          null,
          null,
          0.4,
          null,
          0.075,
          0.167,
          0.295,
          0,
          null,
          null,
          0.235,
          0.23,
          0.197,
          null,
          null,
          0,
          0.126,
          0.2,
          null,
          null,
          null,
          null,
          null,
          null,
          null,
          null,
          null,
          0.28,
          0.167,
          null,
          null,
          0,
          0,
          0.121,
          0.222,
          null,
          null,
          0.237,
          null,
          0.136,
          null,
          0.297,
          0.208,
          0.17,
          null,
          0.171,
          0.087,
          null,
          null,
          null,
          null,
          null,
          null,
          0.2,
          null,
          0,
          null,
          null,
          0.167,
          null,
          0.154,
          null,
          0.111,
          null,
          0.19,
          null,
          0.129,
          null,
          null,
          0.146,
          0.182,
          null,
          0.323,
          0,
          0.5,
          0.231,
          0.192,
          0.154,
          0.333,
          null,
          null,
          0.226,
          null,
          null,
          null,
          0,
          null,
          0.238,
          0.232,
          0.29,
          null,
          0,
          0,
          null,
          null,
          0.171,
          null,
          null,
          null,
          0,
          null,
          null,
          null,
          0.125,
          0.105,
          0,
          0.143,
          0.212,
          0.16,
          0.125,
          null,
          0.1,
          0.151,
          null,
          0.5,
          0.133,
          null,
          null,
          0.1,
          null,
          null,
          0.243,
          0.2,
          0.299,
          0.247,
          null,
          null,
          null,
          null,
          null,
          null,
          0.224,
          null,
          0.171,
          0.111,
          null,
          null,
          null,
          0,
          0.213,
          null,
          null,
          0,
          0.13,
          null,
          0,
          0,
          null,
          0.125,
          null,
          null,
          null,
          0.222,
          null,
          null,
          0.29,
          0,
          0.189,
          0.067,
          null,
          null,
          0.2,
          0.226,
          0.17,
          null,
          0.25,
          0.125,
          0.5,
          0.245,
          null,
          null,
          0,
          0.221,
          0.255,
          0,
          null,
          0.071,
          null,
          0.053,
          0.198,
          null,
          null,
          null,
          0.252
         ],
         "xaxis": "x",
         "y": [
          null,
          54,
          47,
          46,
          44,
          41,
          40,
          39,
          39,
          38,
          37,
          37,
          36,
          36,
          35,
          34,
          33,
          33,
          33,
          33,
          33,
          32,
          31,
          31,
          31,
          31,
          30,
          30,
          30,
          30,
          29,
          29,
          29,
          29,
          28,
          28,
          28,
          27,
          26,
          26,
          26,
          26,
          26,
          26,
          26,
          26,
          25,
          25,
          25,
          25,
          25,
          25,
          25,
          25,
          24,
          24,
          24,
          24,
          24,
          24,
          24,
          24,
          23,
          23,
          23,
          23,
          23,
          23,
          23,
          23,
          23,
          23,
          23,
          22,
          22,
          22,
          22,
          22,
          22,
          22,
          21,
          21,
          21,
          21,
          21,
          21,
          21,
          21,
          21,
          21,
          21,
          21,
          20,
          20,
          20,
          20,
          20,
          20,
          20,
          20,
          20,
          20,
          20,
          19,
          19,
          19,
          19,
          19,
          19,
          19,
          19,
          19,
          19,
          18,
          18,
          18,
          18,
          18,
          18,
          18,
          18,
          18,
          18,
          18,
          17,
          17,
          17,
          17,
          17,
          17,
          17,
          17,
          17,
          17,
          17,
          17,
          17,
          17,
          16,
          16,
          16,
          16,
          16,
          16,
          16,
          16,
          16,
          16,
          15,
          15,
          15,
          15,
          15,
          15,
          15,
          15,
          15,
          15,
          15,
          15,
          15,
          15,
          15,
          15,
          14,
          14,
          14,
          14,
          14,
          14,
          14,
          14,
          14,
          14,
          14,
          14,
          14,
          14,
          14,
          14,
          14,
          13,
          13,
          13,
          13,
          13,
          13,
          13,
          13,
          13,
          13,
          13,
          13,
          13,
          13,
          12,
          12,
          12,
          12,
          12,
          12,
          12,
          12,
          12,
          12,
          11,
          11,
          11,
          11,
          11,
          11,
          11,
          11,
          11,
          11,
          11,
          11,
          11,
          11,
          11,
          11,
          11,
          11,
          11,
          10,
          10,
          10,
          10,
          10,
          10,
          10,
          10,
          10,
          10,
          10,
          10,
          10,
          10,
          10,
          10,
          10,
          10,
          10,
          10,
          9,
          9,
          9,
          9,
          9,
          9,
          9,
          9,
          9,
          9,
          9,
          9,
          9,
          9,
          9,
          9,
          9,
          9,
          9,
          9,
          8,
          8,
          8,
          8,
          8,
          8,
          8,
          8,
          8,
          8,
          8,
          8,
          8,
          8,
          8,
          7,
          7,
          7,
          7,
          7,
          7,
          7,
          7,
          7,
          7,
          7,
          7,
          7,
          7,
          7,
          7,
          7,
          7,
          6,
          6,
          6,
          6,
          6,
          6,
          6,
          6,
          6,
          6,
          6,
          6,
          6,
          6,
          6,
          6,
          6,
          6,
          6,
          6,
          6,
          6,
          6,
          6,
          6,
          6,
          6,
          6,
          5,
          5,
          5,
          5,
          5,
          5,
          5,
          5,
          5,
          5,
          5,
          5,
          5,
          5,
          5,
          5,
          5,
          5,
          5,
          5,
          5,
          5,
          5,
          5,
          5,
          5,
          5,
          4,
          4,
          4,
          4,
          4,
          4,
          4,
          4,
          4,
          4,
          4,
          4,
          4,
          4,
          4,
          4,
          4,
          4,
          4,
          4,
          4,
          4,
          4,
          4,
          4,
          4,
          4,
          4,
          4,
          4,
          4,
          4,
          3,
          3,
          3,
          3,
          3,
          3,
          3,
          3,
          3,
          3,
          3,
          3,
          3,
          3,
          3,
          3,
          3,
          3,
          3,
          3,
          3,
          3,
          3,
          3,
          3,
          3,
          3,
          3,
          3,
          3,
          3,
          3,
          3,
          3,
          3,
          2,
          2,
          2,
          2,
          2,
          2,
          2,
          2,
          2,
          2,
          2,
          2,
          2,
          2,
          2,
          2,
          2,
          2,
          2,
          2,
          2,
          2,
          2,
          2,
          2,
          2,
          2,
          2,
          2,
          2,
          2,
          2,
          2,
          2,
          2,
          2,
          2,
          2,
          2,
          2,
          2,
          2,
          2,
          2,
          2,
          2,
          2,
          2,
          2,
          2,
          2,
          2,
          2,
          2,
          2,
          2,
          2,
          2,
          2,
          2,
          2,
          1,
          1,
          1,
          1,
          1,
          1,
          1,
          1,
          1,
          1,
          1,
          1,
          1,
          1,
          1,
          1,
          1,
          1,
          1,
          1,
          1,
          1,
          1,
          1,
          1,
          1,
          1,
          1,
          1,
          1,
          1,
          1,
          1,
          1,
          1,
          1,
          1,
          1,
          1,
          1,
          1,
          1,
          1,
          1,
          1,
          1,
          1,
          1,
          1,
          1,
          1,
          1,
          1,
          1,
          1,
          1,
          1,
          1,
          1,
          0,
          0,
          0,
          0,
          0,
          0,
          0,
          0,
          0,
          0,
          0,
          0,
          0,
          0,
          0,
          0,
          0,
          0,
          0,
          0,
          0,
          0,
          0,
          0,
          0,
          0,
          0,
          0,
          0,
          0,
          0,
          0,
          0,
          0,
          0,
          0,
          0,
          0,
          0,
          0,
          0,
          0,
          0,
          0,
          0,
          0,
          0,
          0,
          0,
          0,
          0,
          0,
          0,
          0,
          0,
          0,
          0,
          0,
          0,
          0,
          0,
          0,
          0,
          0,
          0,
          0,
          0,
          0,
          0,
          0,
          0,
          0,
          0,
          0,
          0,
          0,
          0,
          0,
          0,
          0,
          0,
          0,
          0,
          0,
          0,
          0,
          0,
          0,
          0,
          0,
          0,
          0,
          0,
          0,
          0,
          0,
          0,
          0,
          0,
          0,
          0,
          0,
          0,
          0,
          0,
          0,
          0,
          0,
          0,
          0,
          0,
          0,
          0,
          0,
          0,
          0,
          0,
          0,
          0,
          0,
          0,
          0,
          0,
          0,
          0,
          0,
          0,
          0,
          0,
          0,
          0,
          0,
          0,
          0,
          0,
          0,
          0,
          0,
          0,
          0,
          0,
          0,
          0,
          0,
          0,
          0,
          0,
          0,
          0,
          0,
          0,
          0,
          0,
          0,
          0,
          0,
          0,
          0,
          0,
          0,
          0,
          0,
          0,
          0,
          0,
          0,
          0,
          0,
          0,
          0,
          0,
          0,
          0,
          0,
          0,
          0,
          0,
          0,
          0,
          0,
          0,
          0,
          0,
          0,
          0,
          0,
          0,
          0,
          0,
          0,
          0,
          0,
          0,
          0,
          0,
          0,
          0,
          0,
          0,
          0,
          0,
          0,
          0,
          0,
          0,
          0,
          0,
          0,
          0,
          0,
          0,
          0,
          0,
          0,
          0,
          0,
          0,
          0,
          0,
          0,
          0,
          0,
          0,
          0,
          0,
          0,
          0
         ],
         "yaxis": "y"
        },
        {
         "hovertemplate": "<b>OLS trendline</b><br>HR = 40.3085 * BA + -0.197481<br>R<sup>2</sup>=0.096367<br><br>BA=%{x}<br>HR=%{y} <b>(trend)</b><extra></extra>",
         "legendgroup": "",
         "marker": {
          "color": "#636efa",
          "symbol": "circle"
         },
         "mode": "lines",
         "name": "",
         "showlegend": false,
         "type": "scatter",
         "x": [
          0,
          0,
          0,
          0,
          0,
          0,
          0,
          0,
          0,
          0,
          0,
          0,
          0,
          0,
          0,
          0,
          0,
          0,
          0,
          0,
          0,
          0,
          0,
          0.042,
          0.053,
          0.067,
          0.067,
          0.071,
          0.071,
          0.075,
          0.077,
          0.087,
          0.1,
          0.1,
          0.105,
          0.111,
          0.111,
          0.111,
          0.115,
          0.118,
          0.119,
          0.121,
          0.125,
          0.125,
          0.125,
          0.125,
          0.125,
          0.126,
          0.128,
          0.129,
          0.13,
          0.13,
          0.133,
          0.133,
          0.136,
          0.136,
          0.143,
          0.145,
          0.146,
          0.146,
          0.146,
          0.151,
          0.152,
          0.154,
          0.154,
          0.157,
          0.16,
          0.16,
          0.161,
          0.161,
          0.162,
          0.163,
          0.163,
          0.163,
          0.163,
          0.165,
          0.165,
          0.167,
          0.167,
          0.167,
          0.167,
          0.167,
          0.167,
          0.167,
          0.167,
          0.17,
          0.17,
          0.17,
          0.171,
          0.171,
          0.171,
          0.171,
          0.171,
          0.172,
          0.173,
          0.173,
          0.175,
          0.175,
          0.175,
          0.176,
          0.176,
          0.177,
          0.177,
          0.179,
          0.179,
          0.18,
          0.182,
          0.182,
          0.182,
          0.183,
          0.183,
          0.183,
          0.184,
          0.184,
          0.185,
          0.185,
          0.185,
          0.185,
          0.186,
          0.186,
          0.188,
          0.188,
          0.189,
          0.189,
          0.19,
          0.191,
          0.191,
          0.191,
          0.191,
          0.192,
          0.194,
          0.194,
          0.194,
          0.194,
          0.195,
          0.195,
          0.197,
          0.197,
          0.197,
          0.198,
          0.198,
          0.199,
          0.2,
          0.2,
          0.2,
          0.2,
          0.2,
          0.2,
          0.2,
          0.2,
          0.201,
          0.201,
          0.201,
          0.202,
          0.202,
          0.202,
          0.203,
          0.203,
          0.203,
          0.203,
          0.203,
          0.204,
          0.204,
          0.204,
          0.204,
          0.204,
          0.204,
          0.204,
          0.205,
          0.205,
          0.205,
          0.206,
          0.206,
          0.207,
          0.207,
          0.207,
          0.207,
          0.207,
          0.207,
          0.208,
          0.208,
          0.208,
          0.208,
          0.209,
          0.209,
          0.209,
          0.209,
          0.209,
          0.209,
          0.21,
          0.21,
          0.21,
          0.211,
          0.211,
          0.211,
          0.211,
          0.211,
          0.211,
          0.211,
          0.212,
          0.212,
          0.212,
          0.212,
          0.212,
          0.212,
          0.213,
          0.213,
          0.213,
          0.214,
          0.214,
          0.214,
          0.214,
          0.215,
          0.216,
          0.216,
          0.217,
          0.217,
          0.217,
          0.217,
          0.217,
          0.217,
          0.217,
          0.217,
          0.218,
          0.218,
          0.218,
          0.218,
          0.219,
          0.219,
          0.219,
          0.219,
          0.22,
          0.22,
          0.22,
          0.22,
          0.22,
          0.221,
          0.221,
          0.221,
          0.221,
          0.221,
          0.221,
          0.222,
          0.222,
          0.222,
          0.222,
          0.222,
          0.222,
          0.222,
          0.222,
          0.223,
          0.223,
          0.224,
          0.224,
          0.224,
          0.224,
          0.225,
          0.225,
          0.225,
          0.225,
          0.226,
          0.226,
          0.226,
          0.226,
          0.226,
          0.226,
          0.227,
          0.227,
          0.227,
          0.228,
          0.228,
          0.228,
          0.228,
          0.228,
          0.229,
          0.229,
          0.229,
          0.229,
          0.229,
          0.229,
          0.23,
          0.23,
          0.23,
          0.23,
          0.23,
          0.23,
          0.231,
          0.231,
          0.231,
          0.231,
          0.231,
          0.231,
          0.231,
          0.232,
          0.232,
          0.232,
          0.232,
          0.232,
          0.232,
          0.232,
          0.232,
          0.233,
          0.233,
          0.233,
          0.233,
          0.233,
          0.233,
          0.233,
          0.233,
          0.233,
          0.234,
          0.234,
          0.234,
          0.234,
          0.235,
          0.235,
          0.235,
          0.235,
          0.235,
          0.235,
          0.235,
          0.235,
          0.235,
          0.235,
          0.236,
          0.236,
          0.236,
          0.236,
          0.236,
          0.236,
          0.236,
          0.236,
          0.237,
          0.237,
          0.237,
          0.237,
          0.237,
          0.237,
          0.237,
          0.238,
          0.238,
          0.238,
          0.238,
          0.238,
          0.238,
          0.239,
          0.239,
          0.239,
          0.239,
          0.24,
          0.24,
          0.24,
          0.24,
          0.24,
          0.241,
          0.241,
          0.241,
          0.241,
          0.242,
          0.242,
          0.242,
          0.242,
          0.243,
          0.243,
          0.243,
          0.243,
          0.243,
          0.244,
          0.244,
          0.244,
          0.244,
          0.244,
          0.244,
          0.245,
          0.245,
          0.245,
          0.245,
          0.245,
          0.245,
          0.245,
          0.245,
          0.246,
          0.246,
          0.246,
          0.246,
          0.247,
          0.247,
          0.247,
          0.247,
          0.247,
          0.247,
          0.247,
          0.247,
          0.248,
          0.248,
          0.248,
          0.248,
          0.248,
          0.248,
          0.248,
          0.248,
          0.248,
          0.249,
          0.249,
          0.25,
          0.25,
          0.25,
          0.25,
          0.25,
          0.25,
          0.25,
          0.25,
          0.25,
          0.25,
          0.25,
          0.25,
          0.25,
          0.251,
          0.251,
          0.251,
          0.251,
          0.251,
          0.251,
          0.251,
          0.251,
          0.252,
          0.252,
          0.252,
          0.252,
          0.252,
          0.252,
          0.252,
          0.253,
          0.253,
          0.253,
          0.253,
          0.253,
          0.253,
          0.253,
          0.253,
          0.254,
          0.254,
          0.254,
          0.254,
          0.254,
          0.254,
          0.255,
          0.255,
          0.255,
          0.255,
          0.255,
          0.256,
          0.256,
          0.256,
          0.256,
          0.256,
          0.256,
          0.256,
          0.257,
          0.257,
          0.257,
          0.257,
          0.257,
          0.258,
          0.258,
          0.258,
          0.258,
          0.258,
          0.258,
          0.258,
          0.258,
          0.258,
          0.258,
          0.258,
          0.259,
          0.259,
          0.259,
          0.26,
          0.26,
          0.26,
          0.26,
          0.26,
          0.26,
          0.261,
          0.261,
          0.261,
          0.261,
          0.261,
          0.261,
          0.262,
          0.262,
          0.262,
          0.262,
          0.262,
          0.262,
          0.263,
          0.263,
          0.263,
          0.263,
          0.263,
          0.263,
          0.263,
          0.263,
          0.263,
          0.264,
          0.264,
          0.264,
          0.264,
          0.264,
          0.264,
          0.264,
          0.264,
          0.264,
          0.264,
          0.265,
          0.266,
          0.266,
          0.266,
          0.266,
          0.266,
          0.266,
          0.266,
          0.266,
          0.267,
          0.267,
          0.267,
          0.267,
          0.267,
          0.267,
          0.268,
          0.268,
          0.268,
          0.269,
          0.269,
          0.269,
          0.27,
          0.27,
          0.27,
          0.27,
          0.27,
          0.27,
          0.27,
          0.271,
          0.271,
          0.271,
          0.271,
          0.271,
          0.272,
          0.272,
          0.272,
          0.272,
          0.273,
          0.273,
          0.273,
          0.274,
          0.274,
          0.274,
          0.275,
          0.275,
          0.275,
          0.275,
          0.275,
          0.275,
          0.276,
          0.276,
          0.276,
          0.276,
          0.276,
          0.276,
          0.276,
          0.276,
          0.276,
          0.277,
          0.277,
          0.278,
          0.278,
          0.278,
          0.278,
          0.279,
          0.279,
          0.28,
          0.28,
          0.28,
          0.28,
          0.281,
          0.281,
          0.281,
          0.282,
          0.282,
          0.282,
          0.283,
          0.283,
          0.284,
          0.284,
          0.284,
          0.284,
          0.285,
          0.285,
          0.285,
          0.286,
          0.286,
          0.287,
          0.288,
          0.289,
          0.289,
          0.289,
          0.29,
          0.29,
          0.29,
          0.29,
          0.292,
          0.293,
          0.293,
          0.293,
          0.294,
          0.294,
          0.295,
          0.295,
          0.297,
          0.297,
          0.298,
          0.299,
          0.299,
          0.301,
          0.302,
          0.304,
          0.306,
          0.306,
          0.307,
          0.307,
          0.308,
          0.309,
          0.311,
          0.313,
          0.313,
          0.316,
          0.316,
          0.316,
          0.319,
          0.323,
          0.327,
          0.33,
          0.331,
          0.333,
          0.337,
          0.354,
          0.38,
          0.4,
          0.4,
          0.444,
          0.462,
          0.5,
          0.5,
          0.5,
          0.5,
          1
         ],
         "xaxis": "x",
         "y": [
          -0.19748113183318375,
          -0.19748113183318375,
          -0.19748113183318375,
          -0.19748113183318375,
          -0.19748113183318375,
          -0.19748113183318375,
          -0.19748113183318375,
          -0.19748113183318375,
          -0.19748113183318375,
          -0.19748113183318375,
          -0.19748113183318375,
          -0.19748113183318375,
          -0.19748113183318375,
          -0.19748113183318375,
          -0.19748113183318375,
          -0.19748113183318375,
          -0.19748113183318375,
          -0.19748113183318375,
          -0.19748113183318375,
          -0.19748113183318375,
          -0.19748113183318375,
          -0.19748113183318375,
          -0.19748113183318375,
          1.4954774486203906,
          1.9388713625487073,
          2.5031908893665658,
          2.5031908893665658,
          2.6644250398859533,
          2.6644250398859533,
          2.825659190405341,
          2.9062762656650354,
          3.3093616419635055,
          3.833372631151517,
          3.833372631151517,
          4.034915319300751,
          4.276766545079833,
          4.276766545079833,
          4.276766545079833,
          4.4380006955992215,
          4.558926308488762,
          4.599234846118609,
          4.679851921378303,
          4.841086071897691,
          4.841086071897691,
          4.841086071897691,
          4.841086071897691,
          4.841086071897691,
          4.881394609527538,
          4.962011684787233,
          5.0023202224170795,
          5.042628760046926,
          5.042628760046926,
          5.163554372936467,
          5.163554372936467,
          5.2844799858260085,
          5.2844799858260085,
          5.566639749234937,
          5.64725682449463,
          5.687565362124478,
          5.687565362124478,
          5.687565362124478,
          5.889108050273713,
          5.92941658790356,
          6.010033663163254,
          6.010033663163254,
          6.130959276052796,
          6.251884888942336,
          6.251884888942336,
          6.292193426572183,
          6.292193426572183,
          6.332501964202031,
          6.372810501831878,
          6.372810501831878,
          6.372810501831878,
          6.372810501831878,
          6.453427577091571,
          6.453427577091571,
          6.534044652351265,
          6.534044652351265,
          6.534044652351265,
          6.534044652351265,
          6.534044652351265,
          6.534044652351265,
          6.534044652351265,
          6.534044652351265,
          6.654970265240807,
          6.654970265240807,
          6.654970265240807,
          6.695278802870654,
          6.695278802870654,
          6.695278802870654,
          6.695278802870654,
          6.695278802870654,
          6.7355873405005,
          6.775895878130346,
          6.775895878130346,
          6.856512953390041,
          6.856512953390041,
          6.856512953390041,
          6.896821491019888,
          6.896821491019888,
          6.937130028649735,
          6.937130028649735,
          7.017747103909429,
          7.017747103909429,
          7.058055641539276,
          7.13867271679897,
          7.13867271679897,
          7.13867271679897,
          7.178981254428817,
          7.178981254428817,
          7.178981254428817,
          7.219289792058664,
          7.219289792058664,
          7.259598329688512,
          7.259598329688512,
          7.259598329688512,
          7.259598329688512,
          7.2999068673183585,
          7.2999068673183585,
          7.380523942578052,
          7.380523942578052,
          7.420832480207899,
          7.420832480207899,
          7.461141017837746,
          7.501449555467594,
          7.501449555467594,
          7.501449555467594,
          7.501449555467594,
          7.541758093097441,
          7.622375168357134,
          7.622375168357134,
          7.622375168357134,
          7.622375168357134,
          7.662683705986981,
          7.662683705986981,
          7.743300781246676,
          7.743300781246676,
          7.743300781246676,
          7.783609318876523,
          7.783609318876523,
          7.82391785650637,
          7.864226394136217,
          7.864226394136217,
          7.864226394136217,
          7.864226394136217,
          7.864226394136217,
          7.864226394136217,
          7.864226394136217,
          7.864226394136217,
          7.904534931766063,
          7.904534931766063,
          7.904534931766063,
          7.944843469395911,
          7.944843469395911,
          7.944843469395911,
          7.985152007025757,
          7.985152007025757,
          7.985152007025757,
          7.985152007025757,
          7.985152007025757,
          8.025460544655603,
          8.025460544655603,
          8.025460544655603,
          8.025460544655603,
          8.025460544655603,
          8.025460544655603,
          8.025460544655603,
          8.06576908228545,
          8.06576908228545,
          8.06576908228545,
          8.106077619915299,
          8.106077619915299,
          8.146386157545145,
          8.146386157545145,
          8.146386157545145,
          8.146386157545145,
          8.146386157545145,
          8.146386157545145,
          8.186694695174992,
          8.186694695174992,
          8.186694695174992,
          8.186694695174992,
          8.227003232804838,
          8.227003232804838,
          8.227003232804838,
          8.227003232804838,
          8.227003232804838,
          8.227003232804838,
          8.267311770434686,
          8.267311770434686,
          8.267311770434686,
          8.307620308064534,
          8.307620308064534,
          8.307620308064534,
          8.307620308064534,
          8.307620308064534,
          8.307620308064534,
          8.307620308064534,
          8.34792884569438,
          8.34792884569438,
          8.34792884569438,
          8.34792884569438,
          8.34792884569438,
          8.34792884569438,
          8.388237383324228,
          8.388237383324228,
          8.388237383324228,
          8.428545920954074,
          8.428545920954074,
          8.428545920954074,
          8.428545920954074,
          8.468854458583921,
          8.509162996213767,
          8.509162996213767,
          8.549471533843615,
          8.549471533843615,
          8.549471533843615,
          8.549471533843615,
          8.549471533843615,
          8.549471533843615,
          8.549471533843615,
          8.549471533843615,
          8.589780071473463,
          8.589780071473463,
          8.589780071473463,
          8.589780071473463,
          8.630088609103309,
          8.630088609103309,
          8.630088609103309,
          8.630088609103309,
          8.670397146733157,
          8.670397146733157,
          8.670397146733157,
          8.670397146733157,
          8.670397146733157,
          8.710705684363003,
          8.710705684363003,
          8.710705684363003,
          8.710705684363003,
          8.710705684363003,
          8.710705684363003,
          8.75101422199285,
          8.75101422199285,
          8.75101422199285,
          8.75101422199285,
          8.75101422199285,
          8.75101422199285,
          8.75101422199285,
          8.75101422199285,
          8.791322759622698,
          8.791322759622698,
          8.831631297252544,
          8.831631297252544,
          8.831631297252544,
          8.831631297252544,
          8.871939834882392,
          8.871939834882392,
          8.871939834882392,
          8.871939834882392,
          8.912248372512238,
          8.912248372512238,
          8.912248372512238,
          8.912248372512238,
          8.912248372512238,
          8.912248372512238,
          8.952556910142086,
          8.952556910142086,
          8.952556910142086,
          8.992865447771933,
          8.992865447771933,
          8.992865447771933,
          8.992865447771933,
          8.992865447771933,
          9.03317398540178,
          9.03317398540178,
          9.03317398540178,
          9.03317398540178,
          9.03317398540178,
          9.03317398540178,
          9.073482523031627,
          9.073482523031627,
          9.073482523031627,
          9.073482523031627,
          9.073482523031627,
          9.073482523031627,
          9.113791060661473,
          9.113791060661473,
          9.113791060661473,
          9.113791060661473,
          9.113791060661473,
          9.113791060661473,
          9.113791060661473,
          9.154099598291321,
          9.154099598291321,
          9.154099598291321,
          9.154099598291321,
          9.154099598291321,
          9.154099598291321,
          9.154099598291321,
          9.154099598291321,
          9.194408135921169,
          9.194408135921169,
          9.194408135921169,
          9.194408135921169,
          9.194408135921169,
          9.194408135921169,
          9.194408135921169,
          9.194408135921169,
          9.194408135921169,
          9.234716673551015,
          9.234716673551015,
          9.234716673551015,
          9.234716673551015,
          9.27502521118086,
          9.27502521118086,
          9.27502521118086,
          9.27502521118086,
          9.27502521118086,
          9.27502521118086,
          9.27502521118086,
          9.27502521118086,
          9.27502521118086,
          9.27502521118086,
          9.315333748810708,
          9.315333748810708,
          9.315333748810708,
          9.315333748810708,
          9.315333748810708,
          9.315333748810708,
          9.315333748810708,
          9.315333748810708,
          9.355642286440554,
          9.355642286440554,
          9.355642286440554,
          9.355642286440554,
          9.355642286440554,
          9.355642286440554,
          9.355642286440554,
          9.395950824070402,
          9.395950824070402,
          9.395950824070402,
          9.395950824070402,
          9.395950824070402,
          9.395950824070402,
          9.436259361700248,
          9.436259361700248,
          9.436259361700248,
          9.436259361700248,
          9.476567899330096,
          9.476567899330096,
          9.476567899330096,
          9.476567899330096,
          9.476567899330096,
          9.516876436959944,
          9.516876436959944,
          9.516876436959944,
          9.516876436959944,
          9.55718497458979,
          9.55718497458979,
          9.55718497458979,
          9.55718497458979,
          9.597493512219637,
          9.597493512219637,
          9.597493512219637,
          9.597493512219637,
          9.597493512219637,
          9.637802049849483,
          9.637802049849483,
          9.637802049849483,
          9.637802049849483,
          9.637802049849483,
          9.637802049849483,
          9.678110587479331,
          9.678110587479331,
          9.678110587479331,
          9.678110587479331,
          9.678110587479331,
          9.678110587479331,
          9.678110587479331,
          9.678110587479331,
          9.718419125109179,
          9.718419125109179,
          9.718419125109179,
          9.718419125109179,
          9.758727662739025,
          9.758727662739025,
          9.758727662739025,
          9.758727662739025,
          9.758727662739025,
          9.758727662739025,
          9.758727662739025,
          9.758727662739025,
          9.799036200368873,
          9.799036200368873,
          9.799036200368873,
          9.799036200368873,
          9.799036200368873,
          9.799036200368873,
          9.799036200368873,
          9.799036200368873,
          9.799036200368873,
          9.839344737998719,
          9.839344737998719,
          9.879653275628566,
          9.879653275628566,
          9.879653275628566,
          9.879653275628566,
          9.879653275628566,
          9.879653275628566,
          9.879653275628566,
          9.879653275628566,
          9.879653275628566,
          9.879653275628566,
          9.879653275628566,
          9.879653275628566,
          9.879653275628566,
          9.919961813258414,
          9.919961813258414,
          9.919961813258414,
          9.919961813258414,
          9.919961813258414,
          9.919961813258414,
          9.919961813258414,
          9.919961813258414,
          9.96027035088826,
          9.96027035088826,
          9.96027035088826,
          9.96027035088826,
          9.96027035088826,
          9.96027035088826,
          9.96027035088826,
          10.000578888518108,
          10.000578888518108,
          10.000578888518108,
          10.000578888518108,
          10.000578888518108,
          10.000578888518108,
          10.000578888518108,
          10.000578888518108,
          10.040887426147954,
          10.040887426147954,
          10.040887426147954,
          10.040887426147954,
          10.040887426147954,
          10.040887426147954,
          10.081195963777802,
          10.081195963777802,
          10.081195963777802,
          10.081195963777802,
          10.081195963777802,
          10.12150450140765,
          10.12150450140765,
          10.12150450140765,
          10.12150450140765,
          10.12150450140765,
          10.12150450140765,
          10.12150450140765,
          10.161813039037495,
          10.161813039037495,
          10.161813039037495,
          10.161813039037495,
          10.161813039037495,
          10.202121576667343,
          10.202121576667343,
          10.202121576667343,
          10.202121576667343,
          10.202121576667343,
          10.202121576667343,
          10.202121576667343,
          10.202121576667343,
          10.202121576667343,
          10.202121576667343,
          10.202121576667343,
          10.24243011429719,
          10.24243011429719,
          10.24243011429719,
          10.282738651927037,
          10.282738651927037,
          10.282738651927037,
          10.282738651927037,
          10.282738651927037,
          10.282738651927037,
          10.323047189556885,
          10.323047189556885,
          10.323047189556885,
          10.323047189556885,
          10.323047189556885,
          10.323047189556885,
          10.36335572718673,
          10.36335572718673,
          10.36335572718673,
          10.36335572718673,
          10.36335572718673,
          10.36335572718673,
          10.403664264816578,
          10.403664264816578,
          10.403664264816578,
          10.403664264816578,
          10.403664264816578,
          10.403664264816578,
          10.403664264816578,
          10.403664264816578,
          10.403664264816578,
          10.443972802446424,
          10.443972802446424,
          10.443972802446424,
          10.443972802446424,
          10.443972802446424,
          10.443972802446424,
          10.443972802446424,
          10.443972802446424,
          10.443972802446424,
          10.443972802446424,
          10.484281340076272,
          10.524589877706118,
          10.524589877706118,
          10.524589877706118,
          10.524589877706118,
          10.524589877706118,
          10.524589877706118,
          10.524589877706118,
          10.524589877706118,
          10.564898415335966,
          10.564898415335966,
          10.564898415335966,
          10.564898415335966,
          10.564898415335966,
          10.564898415335966,
          10.605206952965814,
          10.605206952965814,
          10.605206952965814,
          10.64551549059566,
          10.64551549059566,
          10.64551549059566,
          10.685824028225507,
          10.685824028225507,
          10.685824028225507,
          10.685824028225507,
          10.685824028225507,
          10.685824028225507,
          10.685824028225507,
          10.726132565855353,
          10.726132565855353,
          10.726132565855353,
          10.726132565855353,
          10.726132565855353,
          10.766441103485201,
          10.766441103485201,
          10.766441103485201,
          10.766441103485201,
          10.806749641115049,
          10.806749641115049,
          10.806749641115049,
          10.847058178744895,
          10.847058178744895,
          10.847058178744895,
          10.887366716374743,
          10.887366716374743,
          10.887366716374743,
          10.887366716374743,
          10.887366716374743,
          10.887366716374743,
          10.927675254004589,
          10.927675254004589,
          10.927675254004589,
          10.927675254004589,
          10.927675254004589,
          10.927675254004589,
          10.927675254004589,
          10.927675254004589,
          10.927675254004589,
          10.967983791634436,
          10.967983791634436,
          11.008292329264284,
          11.008292329264284,
          11.008292329264284,
          11.008292329264284,
          11.04860086689413,
          11.04860086689413,
          11.088909404523978,
          11.088909404523978,
          11.088909404523978,
          11.088909404523978,
          11.129217942153824,
          11.129217942153824,
          11.129217942153824,
          11.16952647978367,
          11.16952647978367,
          11.16952647978367,
          11.209835017413516,
          11.209835017413516,
          11.250143555043364,
          11.250143555043364,
          11.250143555043364,
          11.250143555043364,
          11.29045209267321,
          11.29045209267321,
          11.29045209267321,
          11.330760630303057,
          11.330760630303057,
          11.371069167932905,
          11.411377705562751,
          11.451686243192599,
          11.451686243192599,
          11.451686243192599,
          11.491994780822445,
          11.491994780822445,
          11.491994780822445,
          11.491994780822445,
          11.57261185608214,
          11.612920393711986,
          11.612920393711986,
          11.612920393711986,
          11.653228931341834,
          11.653228931341834,
          11.69353746897168,
          11.69353746897168,
          11.774154544231376,
          11.774154544231376,
          11.814463081861222,
          11.85477161949107,
          11.85477161949107,
          11.935388694750763,
          11.975697232380611,
          12.056314307640305,
          12.136931382899999,
          12.136931382899999,
          12.177239920529844,
          12.177239920529844,
          12.217548458159692,
          12.25785699578954,
          12.338474071049234,
          12.419091146308928,
          12.419091146308928,
          12.540016759198469,
          12.540016759198469,
          12.540016759198469,
          12.66094237208801,
          12.822176522607398,
          12.983410673126786,
          13.104336286016327,
          13.144644823646175,
          13.225261898905869,
          13.386496049425256,
          14.071741189132654,
          15.119763167508676,
          15.925933920105619,
          15.925933920105619,
          17.699509575818887,
          18.425063253156132,
          19.95678768309032,
          19.95678768309032,
          19.95678768309032,
          19.95678768309032,
          40.11105649801382
         ],
         "yaxis": "y"
        }
       ],
       "layout": {
        "autosize": true,
        "legend": {
         "tracegroupgap": 0
        },
        "template": {
         "data": {
          "bar": [
           {
            "error_x": {
             "color": "#2a3f5f"
            },
            "error_y": {
             "color": "#2a3f5f"
            },
            "marker": {
             "line": {
              "color": "#E5ECF6",
              "width": 0.5
             },
             "pattern": {
              "fillmode": "overlay",
              "size": 10,
              "solidity": 0.2
             }
            },
            "type": "bar"
           }
          ],
          "barpolar": [
           {
            "marker": {
             "line": {
              "color": "#E5ECF6",
              "width": 0.5
             },
             "pattern": {
              "fillmode": "overlay",
              "size": 10,
              "solidity": 0.2
             }
            },
            "type": "barpolar"
           }
          ],
          "carpet": [
           {
            "aaxis": {
             "endlinecolor": "#2a3f5f",
             "gridcolor": "white",
             "linecolor": "white",
             "minorgridcolor": "white",
             "startlinecolor": "#2a3f5f"
            },
            "baxis": {
             "endlinecolor": "#2a3f5f",
             "gridcolor": "white",
             "linecolor": "white",
             "minorgridcolor": "white",
             "startlinecolor": "#2a3f5f"
            },
            "type": "carpet"
           }
          ],
          "choropleth": [
           {
            "colorbar": {
             "outlinewidth": 0,
             "ticks": ""
            },
            "type": "choropleth"
           }
          ],
          "contour": [
           {
            "colorbar": {
             "outlinewidth": 0,
             "ticks": ""
            },
            "colorscale": [
             [
              0,
              "#0d0887"
             ],
             [
              0.1111111111111111,
              "#46039f"
             ],
             [
              0.2222222222222222,
              "#7201a8"
             ],
             [
              0.3333333333333333,
              "#9c179e"
             ],
             [
              0.4444444444444444,
              "#bd3786"
             ],
             [
              0.5555555555555556,
              "#d8576b"
             ],
             [
              0.6666666666666666,
              "#ed7953"
             ],
             [
              0.7777777777777778,
              "#fb9f3a"
             ],
             [
              0.8888888888888888,
              "#fdca26"
             ],
             [
              1,
              "#f0f921"
             ]
            ],
            "type": "contour"
           }
          ],
          "contourcarpet": [
           {
            "colorbar": {
             "outlinewidth": 0,
             "ticks": ""
            },
            "type": "contourcarpet"
           }
          ],
          "heatmap": [
           {
            "colorbar": {
             "outlinewidth": 0,
             "ticks": ""
            },
            "colorscale": [
             [
              0,
              "#0d0887"
             ],
             [
              0.1111111111111111,
              "#46039f"
             ],
             [
              0.2222222222222222,
              "#7201a8"
             ],
             [
              0.3333333333333333,
              "#9c179e"
             ],
             [
              0.4444444444444444,
              "#bd3786"
             ],
             [
              0.5555555555555556,
              "#d8576b"
             ],
             [
              0.6666666666666666,
              "#ed7953"
             ],
             [
              0.7777777777777778,
              "#fb9f3a"
             ],
             [
              0.8888888888888888,
              "#fdca26"
             ],
             [
              1,
              "#f0f921"
             ]
            ],
            "type": "heatmap"
           }
          ],
          "heatmapgl": [
           {
            "colorbar": {
             "outlinewidth": 0,
             "ticks": ""
            },
            "colorscale": [
             [
              0,
              "#0d0887"
             ],
             [
              0.1111111111111111,
              "#46039f"
             ],
             [
              0.2222222222222222,
              "#7201a8"
             ],
             [
              0.3333333333333333,
              "#9c179e"
             ],
             [
              0.4444444444444444,
              "#bd3786"
             ],
             [
              0.5555555555555556,
              "#d8576b"
             ],
             [
              0.6666666666666666,
              "#ed7953"
             ],
             [
              0.7777777777777778,
              "#fb9f3a"
             ],
             [
              0.8888888888888888,
              "#fdca26"
             ],
             [
              1,
              "#f0f921"
             ]
            ],
            "type": "heatmapgl"
           }
          ],
          "histogram": [
           {
            "marker": {
             "pattern": {
              "fillmode": "overlay",
              "size": 10,
              "solidity": 0.2
             }
            },
            "type": "histogram"
           }
          ],
          "histogram2d": [
           {
            "colorbar": {
             "outlinewidth": 0,
             "ticks": ""
            },
            "colorscale": [
             [
              0,
              "#0d0887"
             ],
             [
              0.1111111111111111,
              "#46039f"
             ],
             [
              0.2222222222222222,
              "#7201a8"
             ],
             [
              0.3333333333333333,
              "#9c179e"
             ],
             [
              0.4444444444444444,
              "#bd3786"
             ],
             [
              0.5555555555555556,
              "#d8576b"
             ],
             [
              0.6666666666666666,
              "#ed7953"
             ],
             [
              0.7777777777777778,
              "#fb9f3a"
             ],
             [
              0.8888888888888888,
              "#fdca26"
             ],
             [
              1,
              "#f0f921"
             ]
            ],
            "type": "histogram2d"
           }
          ],
          "histogram2dcontour": [
           {
            "colorbar": {
             "outlinewidth": 0,
             "ticks": ""
            },
            "colorscale": [
             [
              0,
              "#0d0887"
             ],
             [
              0.1111111111111111,
              "#46039f"
             ],
             [
              0.2222222222222222,
              "#7201a8"
             ],
             [
              0.3333333333333333,
              "#9c179e"
             ],
             [
              0.4444444444444444,
              "#bd3786"
             ],
             [
              0.5555555555555556,
              "#d8576b"
             ],
             [
              0.6666666666666666,
              "#ed7953"
             ],
             [
              0.7777777777777778,
              "#fb9f3a"
             ],
             [
              0.8888888888888888,
              "#fdca26"
             ],
             [
              1,
              "#f0f921"
             ]
            ],
            "type": "histogram2dcontour"
           }
          ],
          "mesh3d": [
           {
            "colorbar": {
             "outlinewidth": 0,
             "ticks": ""
            },
            "type": "mesh3d"
           }
          ],
          "parcoords": [
           {
            "line": {
             "colorbar": {
              "outlinewidth": 0,
              "ticks": ""
             }
            },
            "type": "parcoords"
           }
          ],
          "pie": [
           {
            "automargin": true,
            "type": "pie"
           }
          ],
          "scatter": [
           {
            "fillpattern": {
             "fillmode": "overlay",
             "size": 10,
             "solidity": 0.2
            },
            "type": "scatter"
           }
          ],
          "scatter3d": [
           {
            "line": {
             "colorbar": {
              "outlinewidth": 0,
              "ticks": ""
             }
            },
            "marker": {
             "colorbar": {
              "outlinewidth": 0,
              "ticks": ""
             }
            },
            "type": "scatter3d"
           }
          ],
          "scattercarpet": [
           {
            "marker": {
             "colorbar": {
              "outlinewidth": 0,
              "ticks": ""
             }
            },
            "type": "scattercarpet"
           }
          ],
          "scattergeo": [
           {
            "marker": {
             "colorbar": {
              "outlinewidth": 0,
              "ticks": ""
             }
            },
            "type": "scattergeo"
           }
          ],
          "scattergl": [
           {
            "marker": {
             "colorbar": {
              "outlinewidth": 0,
              "ticks": ""
             }
            },
            "type": "scattergl"
           }
          ],
          "scattermapbox": [
           {
            "marker": {
             "colorbar": {
              "outlinewidth": 0,
              "ticks": ""
             }
            },
            "type": "scattermapbox"
           }
          ],
          "scatterpolar": [
           {
            "marker": {
             "colorbar": {
              "outlinewidth": 0,
              "ticks": ""
             }
            },
            "type": "scatterpolar"
           }
          ],
          "scatterpolargl": [
           {
            "marker": {
             "colorbar": {
              "outlinewidth": 0,
              "ticks": ""
             }
            },
            "type": "scatterpolargl"
           }
          ],
          "scatterternary": [
           {
            "marker": {
             "colorbar": {
              "outlinewidth": 0,
              "ticks": ""
             }
            },
            "type": "scatterternary"
           }
          ],
          "surface": [
           {
            "colorbar": {
             "outlinewidth": 0,
             "ticks": ""
            },
            "colorscale": [
             [
              0,
              "#0d0887"
             ],
             [
              0.1111111111111111,
              "#46039f"
             ],
             [
              0.2222222222222222,
              "#7201a8"
             ],
             [
              0.3333333333333333,
              "#9c179e"
             ],
             [
              0.4444444444444444,
              "#bd3786"
             ],
             [
              0.5555555555555556,
              "#d8576b"
             ],
             [
              0.6666666666666666,
              "#ed7953"
             ],
             [
              0.7777777777777778,
              "#fb9f3a"
             ],
             [
              0.8888888888888888,
              "#fdca26"
             ],
             [
              1,
              "#f0f921"
             ]
            ],
            "type": "surface"
           }
          ],
          "table": [
           {
            "cells": {
             "fill": {
              "color": "#EBF0F8"
             },
             "line": {
              "color": "white"
             }
            },
            "header": {
             "fill": {
              "color": "#C8D4E3"
             },
             "line": {
              "color": "white"
             }
            },
            "type": "table"
           }
          ]
         },
         "layout": {
          "annotationdefaults": {
           "arrowcolor": "#2a3f5f",
           "arrowhead": 0,
           "arrowwidth": 1
          },
          "autotypenumbers": "strict",
          "coloraxis": {
           "colorbar": {
            "outlinewidth": 0,
            "ticks": ""
           }
          },
          "colorscale": {
           "diverging": [
            [
             0,
             "#8e0152"
            ],
            [
             0.1,
             "#c51b7d"
            ],
            [
             0.2,
             "#de77ae"
            ],
            [
             0.3,
             "#f1b6da"
            ],
            [
             0.4,
             "#fde0ef"
            ],
            [
             0.5,
             "#f7f7f7"
            ],
            [
             0.6,
             "#e6f5d0"
            ],
            [
             0.7,
             "#b8e186"
            ],
            [
             0.8,
             "#7fbc41"
            ],
            [
             0.9,
             "#4d9221"
            ],
            [
             1,
             "#276419"
            ]
           ],
           "sequential": [
            [
             0,
             "#0d0887"
            ],
            [
             0.1111111111111111,
             "#46039f"
            ],
            [
             0.2222222222222222,
             "#7201a8"
            ],
            [
             0.3333333333333333,
             "#9c179e"
            ],
            [
             0.4444444444444444,
             "#bd3786"
            ],
            [
             0.5555555555555556,
             "#d8576b"
            ],
            [
             0.6666666666666666,
             "#ed7953"
            ],
            [
             0.7777777777777778,
             "#fb9f3a"
            ],
            [
             0.8888888888888888,
             "#fdca26"
            ],
            [
             1,
             "#f0f921"
            ]
           ],
           "sequentialminus": [
            [
             0,
             "#0d0887"
            ],
            [
             0.1111111111111111,
             "#46039f"
            ],
            [
             0.2222222222222222,
             "#7201a8"
            ],
            [
             0.3333333333333333,
             "#9c179e"
            ],
            [
             0.4444444444444444,
             "#bd3786"
            ],
            [
             0.5555555555555556,
             "#d8576b"
            ],
            [
             0.6666666666666666,
             "#ed7953"
            ],
            [
             0.7777777777777778,
             "#fb9f3a"
            ],
            [
             0.8888888888888888,
             "#fdca26"
            ],
            [
             1,
             "#f0f921"
            ]
           ]
          },
          "colorway": [
           "#636efa",
           "#EF553B",
           "#00cc96",
           "#ab63fa",
           "#FFA15A",
           "#19d3f3",
           "#FF6692",
           "#B6E880",
           "#FF97FF",
           "#FECB52"
          ],
          "font": {
           "color": "#2a3f5f"
          },
          "geo": {
           "bgcolor": "white",
           "lakecolor": "white",
           "landcolor": "#E5ECF6",
           "showlakes": true,
           "showland": true,
           "subunitcolor": "white"
          },
          "hoverlabel": {
           "align": "left"
          },
          "hovermode": "closest",
          "mapbox": {
           "style": "light"
          },
          "paper_bgcolor": "white",
          "plot_bgcolor": "#E5ECF6",
          "polar": {
           "angularaxis": {
            "gridcolor": "white",
            "linecolor": "white",
            "ticks": ""
           },
           "bgcolor": "#E5ECF6",
           "radialaxis": {
            "gridcolor": "white",
            "linecolor": "white",
            "ticks": ""
           }
          },
          "scene": {
           "xaxis": {
            "backgroundcolor": "#E5ECF6",
            "gridcolor": "white",
            "gridwidth": 2,
            "linecolor": "white",
            "showbackground": true,
            "ticks": "",
            "zerolinecolor": "white"
           },
           "yaxis": {
            "backgroundcolor": "#E5ECF6",
            "gridcolor": "white",
            "gridwidth": 2,
            "linecolor": "white",
            "showbackground": true,
            "ticks": "",
            "zerolinecolor": "white"
           },
           "zaxis": {
            "backgroundcolor": "#E5ECF6",
            "gridcolor": "white",
            "gridwidth": 2,
            "linecolor": "white",
            "showbackground": true,
            "ticks": "",
            "zerolinecolor": "white"
           }
          },
          "shapedefaults": {
           "line": {
            "color": "#2a3f5f"
           }
          },
          "ternary": {
           "aaxis": {
            "gridcolor": "white",
            "linecolor": "white",
            "ticks": ""
           },
           "baxis": {
            "gridcolor": "white",
            "linecolor": "white",
            "ticks": ""
           },
           "bgcolor": "#E5ECF6",
           "caxis": {
            "gridcolor": "white",
            "linecolor": "white",
            "ticks": ""
           }
          },
          "title": {
           "x": 0.05
          },
          "xaxis": {
           "automargin": true,
           "gridcolor": "white",
           "linecolor": "white",
           "ticks": "",
           "title": {
            "standoff": 15
           },
           "zerolinecolor": "white",
           "zerolinewidth": 2
          },
          "yaxis": {
           "automargin": true,
           "gridcolor": "white",
           "linecolor": "white",
           "ticks": "",
           "title": {
            "standoff": 15
           },
           "zerolinecolor": "white",
           "zerolinewidth": 2
          }
         }
        },
        "title": {
         "text": "Homers versus Batting Average"
        },
        "xaxis": {
         "anchor": "y",
         "autorange": true,
         "domain": [
          0,
          1
         ],
         "range": [
          -0.060430560430560436,
          1.0604305604305604
         ],
         "title": {
          "text": "BA"
         },
         "type": "linear"
        },
        "yaxis": {
         "anchor": "x",
         "autorange": true,
         "domain": [
          0,
          1
         ],
         "range": [
          -4.456310679611651,
          58.45631067961165
         ],
         "title": {
          "text": "HR"
         },
         "type": "linear"
        }
       }
      },
      "image/png": "[encoded data removed]",
      "text/html": [
       "<div>                            <div id=\"6dd395f9-b5c4-41ea-b875-fc6ae3494cd1\" class=\"plotly-graph-div\" style=\"height:525px; width:100%;\"></div>            <script type=\"text/javascript\">                require([\"plotly\"], function(Plotly) {                    window.PLOTLYENV=window.PLOTLYENV || {};                                    if (document.getElementById(\"6dd395f9-b5c4-41ea-b875-fc6ae3494cd1\")) {                    Plotly.newPlot(                        \"6dd395f9-b5c4-41ea-b875-fc6ae3494cd1\",                        [{\"hovertemplate\":\"BA=%{x}\\u003cbr\\u003eHR=%{y}\\u003cextra\\u003e\\u003c\\u002fextra\\u003e\",\"legendgroup\":\"\",\"marker\":{\"color\":\"#636efa\",\"symbol\":\"circle\"},\"mode\":\"markers\",\"name\":\"\",\"orientation\":\"v\",\"showlegend\":false,\"x\":[null,0.283,0.197,0.217,0.304,0.337,0.274,0.307,0.245,0.264,0.267,0.281,0.212,0.25,0.275,0.25,0.28,0.271,0.271,0.327,0.258,0.275,0.293,0.254,0.25,0.233,0.258,0.232,0.246,0.276,0.272,0.331,0.276,0.284,0.255,0.257,0.268,0.236,0.266,0.307,0.262,0.264,0.258,0.247,0.224,0.266,0.209,0.262,0.285,0.268,0.276,0.222,0.257,0.273,0.217,0.263,0.261,0.26,0.274,0.282,0.263,0.191,0.254,0.282,0.284,0.266,0.24,0.248,0.255,0.24,0.271,0.276,0.205,0.247,0.251,0.33,0.205,0.273,0.232,0.244,0.247,0.177,0.248,0.293,0.231,0.251,0.221,0.255,0.258,0.22,0.258,0.209,0.306,0.274,0.278,0.264,0.297,0.292,0.252,0.233,0.277,0.285,0.22,0.254,0.285,0.25,0.266,0.257,0.27,0.249,0.217,0.261,0.278,0.245,0.237,0.23,0.248,0.279,0.293,0.258,0.272,0.27,0.26,0.263,0.311,0.264,0.207,0.24,0.289,0.251,0.281,0.244,0.228,0.26,0.262,0.308,0.235,0.256,0.228,0.267,0.275,0.263,0.29,0.235,0.229,0.256,0.264,0.276,0.239,0.256,0.251,0.271,0.269,0.243,0.309,0.191,0.229,0.233,0.235,0.28,0.237,0.253,0.233,0.289,0.222,0.207,0.267,0.276,0.271,0.267,0.276,0.28,0.261,0.289,0.236,0.255,0.253,0.266,0.202,0.249,0.253,0.198,0.235,0.152,0.248,0.27,0.24,0.275,0.235,0.236,0.243,0.215,0.264,0.233,0.204,0.202,0.248,0.25,0.277,0.256,0.247,0.263,0.313,0.244,0.254,0.218,0.275,0.225,0.262,0.225,0.284,0.256,0.288,0.237,0.264,0.247,0.253,0.27,0.223,0.272,0.26,0.243,0.237,0.244,0.21,0.354,0.195,0.233,0.229,0.221,0.203,0.278,0.267,0.238,0.236,0.241,0.27,0.227,0.239,0.263,0.203,0.251,0.234,0.261,0.226,0.222,0.212,0.235,0.257,0.281,0.266,0.269,0.283,0.224,0.231,0.225,0.231,0.247,0.228,0.242,0.214,0.23,0.211,0.235,0.279,0.244,0.2,0.295,0.234,0.253,0.265,0.25,0.213,0.173,0.29,0.276,0.252,0.201,0.228,0.232,0.233,0.294,0.319,0.259,0.194,0.213,0.217,0.207,0.284,0.237,0.259,0.232,0.204,0.188,0.195,0.197,0.171,0.251,0.217,0.22,0.211,0.162,0.163,0.188,0.226,0.204,0.209,0.245,0.242,0.235,0.264,0.222,0.227,0.258,0.246,0.226,0.211,0.252,0.263,0.185,0.201,0.163,0.218,0.266,0.223,0.221,0.214,0.262,0.266,0.211,0.239,0.219,0.176,0.306,0.212,0.216,0.245,0.228,0.24,0.209,0.268,0.248,0.227,0.261,0.165,0.236,0.254,0.206,0.27,0.185,0.282,0.145,0.273,0.221,0.25,0.316,0.205,0.211,0.221,0.257,0.23,0.229,0.258,0.242,0.238,0.272,0.245,0.201,0.207,0.234,0.264,0.203,0.217,0.261,0.258,0.245,0.163,0.232,0.21,0.264,0.252,0.125,0.229,0.183,0.207,0.22,0.136,0.241,0.258,0.246,0.185,0.194,0.276,0.236,0.256,0.233,0.239,0.316,0.232,0.167,0.211,0.246,0.259,0.189,0.253,0.175,0.229,0.22,0.219,0.16,0.191,0.203,0.236,0.13,0.298,0.194,0.161,0.26,0.177,0.316,0.212,0.226,0.23,0.231,0.231,0.209,0.18,0.258,0.278,0.167,0.242,0.244,0.262,0.25,0.203,0.183,0.251,0.217,0.248,0.219,0.301,0.247,0.218,0.179,0.214,0.209,0.176,0.204,0.234,0.206,0.233,0.216,0.232,0.208,0.263,0.237,0.25,0.248,0.243,0.254,0.211,0.2,0.238,0.191,0.241,0.236,0.186,0.287,0.302,0.118,0.25,0.165,0.444,0.299,0.173,0.212,0.172,0.175,0.183,0.186,0.146,0.217,0.245,0.202,0.218,0.161,0.133,0.182,0.208,0.235,0.294,0.252,0.38,0.25,0.111,0.204,0.251,0.2,0.4,0.224,0.253,0.167,0.184,0.119,0.256,0.263,0.163,0.2,0.077,0.157,0.286,0.231,0.225,0.241,0.267,0.253,0.185,0.286,0.214,0.184,0.269,0.146,0.219,0.204,0.25,0.194,0.179,0.248,0.252,0.071,0.275,0.238,0.204,0.21,0.238,0.462,0.313,0.199,0.208,0.128,null,0.0,null,0.067,0.222,null,0.0,null,0.0,0.207,null,0.23,0.182,null,null,null,0.17,0.171,null,null,null,0.222,null,0.26,0.167,0.175,0.0,null,null,null,null,null,0.5,null,0.115,null,null,0.167,0.0,1.0,0.27,0.042,null,null,0.4,null,0.075,0.167,0.295,0.0,null,null,0.235,0.23,0.197,null,null,0.0,0.126,0.2,null,null,null,null,null,null,null,null,null,0.28,0.167,null,null,0.0,0.0,0.121,0.222,null,null,0.237,null,0.136,null,0.297,0.208,0.17,null,0.171,0.087,null,null,null,null,null,null,0.2,null,0.0,null,null,0.167,null,0.154,null,0.111,null,0.19,null,0.129,null,null,0.146,0.182,null,0.323,0.0,0.5,0.231,0.192,0.154,0.333,null,null,0.226,null,null,null,0.0,null,0.238,0.232,0.29,null,0.0,0.0,null,null,0.171,null,null,null,0.0,null,null,null,0.125,0.105,0.0,0.143,0.212,0.16,0.125,null,0.1,0.151,null,0.5,0.133,null,null,0.1,null,null,0.243,0.2,0.299,0.247,null,null,null,null,null,null,0.224,null,0.171,0.111,null,null,null,0.0,0.213,null,null,0.0,0.13,null,0.0,0.0,null,0.125,null,null,null,0.222,null,null,0.29,0.0,0.189,0.067,null,null,0.2,0.226,0.17,null,0.25,0.125,0.5,0.245,null,null,0.0,0.221,0.255,0.0,null,0.071,null,0.053,0.198,null,null,null,0.252],\"xaxis\":\"x\",\"y\":[null,54.0,47.0,46.0,44.0,41.0,40.0,39.0,39.0,38.0,37.0,37.0,36.0,36.0,35.0,34.0,33.0,33.0,33.0,33.0,33.0,32.0,31.0,31.0,31.0,31.0,30.0,30.0,30.0,30.0,29.0,29.0,29.0,29.0,28.0,28.0,28.0,27.0,26.0,26.0,26.0,26.0,26.0,26.0,26.0,26.0,25.0,25.0,25.0,25.0,25.0,25.0,25.0,25.0,24.0,24.0,24.0,24.0,24.0,24.0,24.0,24.0,23.0,23.0,23.0,23.0,23.0,23.0,23.0,23.0,23.0,23.0,23.0,22.0,22.0,22.0,22.0,22.0,22.0,22.0,21.0,21.0,21.0,21.0,21.0,21.0,21.0,21.0,21.0,21.0,21.0,21.0,20.0,20.0,20.0,20.0,20.0,20.0,20.0,20.0,20.0,20.0,20.0,19.0,19.0,19.0,19.0,19.0,19.0,19.0,19.0,19.0,19.0,18.0,18.0,18.0,18.0,18.0,18.0,18.0,18.0,18.0,18.0,18.0,17.0,17.0,17.0,17.0,17.0,17.0,17.0,17.0,17.0,17.0,17.0,17.0,17.0,17.0,16.0,16.0,16.0,16.0,16.0,16.0,16.0,16.0,16.0,16.0,15.0,15.0,15.0,15.0,15.0,15.0,15.0,15.0,15.0,15.0,15.0,15.0,15.0,15.0,15.0,15.0,14.0,14.0,14.0,14.0,14.0,14.0,14.0,14.0,14.0,14.0,14.0,14.0,14.0,14.0,14.0,14.0,14.0,13.0,13.0,13.0,13.0,13.0,13.0,13.0,13.0,13.0,13.0,13.0,13.0,13.0,13.0,12.0,12.0,12.0,12.0,12.0,12.0,12.0,12.0,12.0,12.0,11.0,11.0,11.0,11.0,11.0,11.0,11.0,11.0,11.0,11.0,11.0,11.0,11.0,11.0,11.0,11.0,11.0,11.0,11.0,10.0,10.0,10.0,10.0,10.0,10.0,10.0,10.0,10.0,10.0,10.0,10.0,10.0,10.0,10.0,10.0,10.0,10.0,10.0,10.0,9.0,9.0,9.0,9.0,9.0,9.0,9.0,9.0,9.0,9.0,9.0,9.0,9.0,9.0,9.0,9.0,9.0,9.0,9.0,9.0,8.0,8.0,8.0,8.0,8.0,8.0,8.0,8.0,8.0,8.0,8.0,8.0,8.0,8.0,8.0,7.0,7.0,7.0,7.0,7.0,7.0,7.0,7.0,7.0,7.0,7.0,7.0,7.0,7.0,7.0,7.0,7.0,7.0,6.0,6.0,6.0,6.0,6.0,6.0,6.0,6.0,6.0,6.0,6.0,6.0,6.0,6.0,6.0,6.0,6.0,6.0,6.0,6.0,6.0,6.0,6.0,6.0,6.0,6.0,6.0,6.0,5.0,5.0,5.0,5.0,5.0,5.0,5.0,5.0,5.0,5.0,5.0,5.0,5.0,5.0,5.0,5.0,5.0,5.0,5.0,5.0,5.0,5.0,5.0,5.0,5.0,5.0,5.0,4.0,4.0,4.0,4.0,4.0,4.0,4.0,4.0,4.0,4.0,4.0,4.0,4.0,4.0,4.0,4.0,4.0,4.0,4.0,4.0,4.0,4.0,4.0,4.0,4.0,4.0,4.0,4.0,4.0,4.0,4.0,4.0,3.0,3.0,3.0,3.0,3.0,3.0,3.0,3.0,3.0,3.0,3.0,3.0,3.0,3.0,3.0,3.0,3.0,3.0,3.0,3.0,3.0,3.0,3.0,3.0,3.0,3.0,3.0,3.0,3.0,3.0,3.0,3.0,3.0,3.0,3.0,2.0,2.0,2.0,2.0,2.0,2.0,2.0,2.0,2.0,2.0,2.0,2.0,2.0,2.0,2.0,2.0,2.0,2.0,2.0,2.0,2.0,2.0,2.0,2.0,2.0,2.0,2.0,2.0,2.0,2.0,2.0,2.0,2.0,2.0,2.0,2.0,2.0,2.0,2.0,2.0,2.0,2.0,2.0,2.0,2.0,2.0,2.0,2.0,2.0,2.0,2.0,2.0,2.0,2.0,2.0,2.0,2.0,2.0,2.0,2.0,2.0,1.0,1.0,1.0,1.0,1.0,1.0,1.0,1.0,1.0,1.0,1.0,1.0,1.0,1.0,1.0,1.0,1.0,1.0,1.0,1.0,1.0,1.0,1.0,1.0,1.0,1.0,1.0,1.0,1.0,1.0,1.0,1.0,1.0,1.0,1.0,1.0,1.0,1.0,1.0,1.0,1.0,1.0,1.0,1.0,1.0,1.0,1.0,1.0,1.0,1.0,1.0,1.0,1.0,1.0,1.0,1.0,1.0,1.0,1.0,0.0,0.0,0.0,0.0,0.0,0.0,0.0,0.0,0.0,0.0,0.0,0.0,0.0,0.0,0.0,0.0,0.0,0.0,0.0,0.0,0.0,0.0,0.0,0.0,0.0,0.0,0.0,0.0,0.0,0.0,0.0,0.0,0.0,0.0,0.0,0.0,0.0,0.0,0.0,0.0,0.0,0.0,0.0,0.0,0.0,0.0,0.0,0.0,0.0,0.0,0.0,0.0,0.0,0.0,0.0,0.0,0.0,0.0,0.0,0.0,0.0,0.0,0.0,0.0,0.0,0.0,0.0,0.0,0.0,0.0,0.0,0.0,0.0,0.0,0.0,0.0,0.0,0.0,0.0,0.0,0.0,0.0,0.0,0.0,0.0,0.0,0.0,0.0,0.0,0.0,0.0,0.0,0.0,0.0,0.0,0.0,0.0,0.0,0.0,0.0,0.0,0.0,0.0,0.0,0.0,0.0,0.0,0.0,0.0,0.0,0.0,0.0,0.0,0.0,0.0,0.0,0.0,0.0,0.0,0.0,0.0,0.0,0.0,0.0,0.0,0.0,0.0,0.0,0.0,0.0,0.0,0.0,0.0,0.0,0.0,0.0,0.0,0.0,0.0,0.0,0.0,0.0,0.0,0.0,0.0,0.0,0.0,0.0,0.0,0.0,0.0,0.0,0.0,0.0,0.0,0.0,0.0,0.0,0.0,0.0,0.0,0.0,0.0,0.0,0.0,0.0,0.0,0.0,0.0,0.0,0.0,0.0,0.0,0.0,0.0,0.0,0.0,0.0,0.0,0.0,0.0,0.0,0.0,0.0,0.0,0.0,0.0,0.0,0.0,0.0,0.0,0.0,0.0,0.0,0.0,0.0,0.0,0.0,0.0,0.0,0.0,0.0,0.0,0.0,0.0,0.0,0.0,0.0,0.0,0.0,0.0,0.0,0.0,0.0,0.0,0.0,0.0,0.0,0.0,0.0,0.0,0.0,0.0,0.0,0.0,0.0,0.0],\"yaxis\":\"y\",\"type\":\"scatter\"},{\"hovertemplate\":\"\\u003cb\\u003eOLS trendline\\u003c\\u002fb\\u003e\\u003cbr\\u003eHR = 40.3085 * BA + -0.197481\\u003cbr\\u003eR\\u003csup\\u003e2\\u003c\\u002fsup\\u003e=0.096367\\u003cbr\\u003e\\u003cbr\\u003eBA=%{x}\\u003cbr\\u003eHR=%{y} \\u003cb\\u003e(trend)\\u003c\\u002fb\\u003e\\u003cextra\\u003e\\u003c\\u002fextra\\u003e\",\"legendgroup\":\"\",\"marker\":{\"color\":\"#636efa\",\"symbol\":\"circle\"},\"mode\":\"lines\",\"name\":\"\",\"showlegend\":false,\"x\":[0.0,0.0,0.0,0.0,0.0,0.0,0.0,0.0,0.0,0.0,0.0,0.0,0.0,0.0,0.0,0.0,0.0,0.0,0.0,0.0,0.0,0.0,0.0,0.042,0.053,0.067,0.067,0.071,0.071,0.075,0.077,0.087,0.1,0.1,0.105,0.111,0.111,0.111,0.115,0.118,0.119,0.121,0.125,0.125,0.125,0.125,0.125,0.126,0.128,0.129,0.13,0.13,0.133,0.133,0.136,0.136,0.143,0.145,0.146,0.146,0.146,0.151,0.152,0.154,0.154,0.157,0.16,0.16,0.161,0.161,0.162,0.163,0.163,0.163,0.163,0.165,0.165,0.167,0.167,0.167,0.167,0.167,0.167,0.167,0.167,0.17,0.17,0.17,0.171,0.171,0.171,0.171,0.171,0.172,0.173,0.173,0.175,0.175,0.175,0.176,0.176,0.177,0.177,0.179,0.179,0.18,0.182,0.182,0.182,0.183,0.183,0.183,0.184,0.184,0.185,0.185,0.185,0.185,0.186,0.186,0.188,0.188,0.189,0.189,0.19,0.191,0.191,0.191,0.191,0.192,0.194,0.194,0.194,0.194,0.195,0.195,0.197,0.197,0.197,0.198,0.198,0.199,0.2,0.2,0.2,0.2,0.2,0.2,0.2,0.2,0.201,0.201,0.201,0.202,0.202,0.202,0.203,0.203,0.203,0.203,0.203,0.204,0.204,0.204,0.204,0.204,0.204,0.204,0.205,0.205,0.205,0.206,0.206,0.207,0.207,0.207,0.207,0.207,0.207,0.208,0.208,0.208,0.208,0.209,0.209,0.209,0.209,0.209,0.209,0.21,0.21,0.21,0.211,0.211,0.211,0.211,0.211,0.211,0.211,0.212,0.212,0.212,0.212,0.212,0.212,0.213,0.213,0.213,0.214,0.214,0.214,0.214,0.215,0.216,0.216,0.217,0.217,0.217,0.217,0.217,0.217,0.217,0.217,0.218,0.218,0.218,0.218,0.219,0.219,0.219,0.219,0.22,0.22,0.22,0.22,0.22,0.221,0.221,0.221,0.221,0.221,0.221,0.222,0.222,0.222,0.222,0.222,0.222,0.222,0.222,0.223,0.223,0.224,0.224,0.224,0.224,0.225,0.225,0.225,0.225,0.226,0.226,0.226,0.226,0.226,0.226,0.227,0.227,0.227,0.228,0.228,0.228,0.228,0.228,0.229,0.229,0.229,0.229,0.229,0.229,0.23,0.23,0.23,0.23,0.23,0.23,0.231,0.231,0.231,0.231,0.231,0.231,0.231,0.232,0.232,0.232,0.232,0.232,0.232,0.232,0.232,0.233,0.233,0.233,0.233,0.233,0.233,0.233,0.233,0.233,0.234,0.234,0.234,0.234,0.235,0.235,0.235,0.235,0.235,0.235,0.235,0.235,0.235,0.235,0.236,0.236,0.236,0.236,0.236,0.236,0.236,0.236,0.237,0.237,0.237,0.237,0.237,0.237,0.237,0.238,0.238,0.238,0.238,0.238,0.238,0.239,0.239,0.239,0.239,0.24,0.24,0.24,0.24,0.24,0.241,0.241,0.241,0.241,0.242,0.242,0.242,0.242,0.243,0.243,0.243,0.243,0.243,0.244,0.244,0.244,0.244,0.244,0.244,0.245,0.245,0.245,0.245,0.245,0.245,0.245,0.245,0.246,0.246,0.246,0.246,0.247,0.247,0.247,0.247,0.247,0.247,0.247,0.247,0.248,0.248,0.248,0.248,0.248,0.248,0.248,0.248,0.248,0.249,0.249,0.25,0.25,0.25,0.25,0.25,0.25,0.25,0.25,0.25,0.25,0.25,0.25,0.25,0.251,0.251,0.251,0.251,0.251,0.251,0.251,0.251,0.252,0.252,0.252,0.252,0.252,0.252,0.252,0.253,0.253,0.253,0.253,0.253,0.253,0.253,0.253,0.254,0.254,0.254,0.254,0.254,0.254,0.255,0.255,0.255,0.255,0.255,0.256,0.256,0.256,0.256,0.256,0.256,0.256,0.257,0.257,0.257,0.257,0.257,0.258,0.258,0.258,0.258,0.258,0.258,0.258,0.258,0.258,0.258,0.258,0.259,0.259,0.259,0.26,0.26,0.26,0.26,0.26,0.26,0.261,0.261,0.261,0.261,0.261,0.261,0.262,0.262,0.262,0.262,0.262,0.262,0.263,0.263,0.263,0.263,0.263,0.263,0.263,0.263,0.263,0.264,0.264,0.264,0.264,0.264,0.264,0.264,0.264,0.264,0.264,0.265,0.266,0.266,0.266,0.266,0.266,0.266,0.266,0.266,0.267,0.267,0.267,0.267,0.267,0.267,0.268,0.268,0.268,0.269,0.269,0.269,0.27,0.27,0.27,0.27,0.27,0.27,0.27,0.271,0.271,0.271,0.271,0.271,0.272,0.272,0.272,0.272,0.273,0.273,0.273,0.274,0.274,0.274,0.275,0.275,0.275,0.275,0.275,0.275,0.276,0.276,0.276,0.276,0.276,0.276,0.276,0.276,0.276,0.277,0.277,0.278,0.278,0.278,0.278,0.279,0.279,0.28,0.28,0.28,0.28,0.281,0.281,0.281,0.282,0.282,0.282,0.283,0.283,0.284,0.284,0.284,0.284,0.285,0.285,0.285,0.286,0.286,0.287,0.288,0.289,0.289,0.289,0.29,0.29,0.29,0.29,0.292,0.293,0.293,0.293,0.294,0.294,0.295,0.295,0.297,0.297,0.298,0.299,0.299,0.301,0.302,0.304,0.306,0.306,0.307,0.307,0.308,0.309,0.311,0.313,0.313,0.316,0.316,0.316,0.319,0.323,0.327,0.33,0.331,0.333,0.337,0.354,0.38,0.4,0.4,0.444,0.462,0.5,0.5,0.5,0.5,1.0],\"xaxis\":\"x\",\"y\":[-0.19748113183318375,-0.19748113183318375,-0.19748113183318375,-0.19748113183318375,-0.19748113183318375,-0.19748113183318375,-0.19748113183318375,-0.19748113183318375,-0.19748113183318375,-0.19748113183318375,-0.19748113183318375,-0.19748113183318375,-0.19748113183318375,-0.19748113183318375,-0.19748113183318375,-0.19748113183318375,-0.19748113183318375,-0.19748113183318375,-0.19748113183318375,-0.19748113183318375,-0.19748113183318375,-0.19748113183318375,-0.19748113183318375,1.4954774486203906,1.9388713625487073,2.5031908893665658,2.5031908893665658,2.6644250398859533,2.6644250398859533,2.825659190405341,2.9062762656650354,3.3093616419635055,3.833372631151517,3.833372631151517,4.034915319300751,4.276766545079833,4.276766545079833,4.276766545079833,4.4380006955992215,4.558926308488762,4.599234846118609,4.679851921378303,4.841086071897691,4.841086071897691,4.841086071897691,4.841086071897691,4.841086071897691,4.881394609527538,4.962011684787233,5.0023202224170795,5.042628760046926,5.042628760046926,5.163554372936467,5.163554372936467,5.2844799858260085,5.2844799858260085,5.566639749234937,5.64725682449463,5.687565362124478,5.687565362124478,5.687565362124478,5.889108050273713,5.92941658790356,6.010033663163254,6.010033663163254,6.130959276052796,6.251884888942336,6.251884888942336,6.292193426572183,6.292193426572183,6.332501964202031,6.372810501831878,6.372810501831878,6.372810501831878,6.372810501831878,6.453427577091571,6.453427577091571,6.534044652351265,6.534044652351265,6.534044652351265,6.534044652351265,6.534044652351265,6.534044652351265,6.534044652351265,6.534044652351265,6.654970265240807,6.654970265240807,6.654970265240807,6.695278802870654,6.695278802870654,6.695278802870654,6.695278802870654,6.695278802870654,6.7355873405005,6.775895878130346,6.775895878130346,6.856512953390041,6.856512953390041,6.856512953390041,6.896821491019888,6.896821491019888,6.937130028649735,6.937130028649735,7.017747103909429,7.017747103909429,7.058055641539276,7.13867271679897,7.13867271679897,7.13867271679897,7.178981254428817,7.178981254428817,7.178981254428817,7.219289792058664,7.219289792058664,7.259598329688512,7.259598329688512,7.259598329688512,7.259598329688512,7.2999068673183585,7.2999068673183585,7.380523942578052,7.380523942578052,7.420832480207899,7.420832480207899,7.461141017837746,7.501449555467594,7.501449555467594,7.501449555467594,7.501449555467594,7.541758093097441,7.622375168357134,7.622375168357134,7.622375168357134,7.622375168357134,7.662683705986981,7.662683705986981,7.743300781246676,7.743300781246676,7.743300781246676,7.783609318876523,7.783609318876523,7.82391785650637,7.864226394136217,7.864226394136217,7.864226394136217,7.864226394136217,7.864226394136217,7.864226394136217,7.864226394136217,7.864226394136217,7.904534931766063,7.904534931766063,7.904534931766063,7.944843469395911,7.944843469395911,7.944843469395911,7.985152007025757,7.985152007025757,7.985152007025757,7.985152007025757,7.985152007025757,8.025460544655603,8.025460544655603,8.025460544655603,8.025460544655603,8.025460544655603,8.025460544655603,8.025460544655603,8.06576908228545,8.06576908228545,8.06576908228545,8.106077619915299,8.106077619915299,8.146386157545145,8.146386157545145,8.146386157545145,8.146386157545145,8.146386157545145,8.146386157545145,8.186694695174992,8.186694695174992,8.186694695174992,8.186694695174992,8.227003232804838,8.227003232804838,8.227003232804838,8.227003232804838,8.227003232804838,8.227003232804838,8.267311770434686,8.267311770434686,8.267311770434686,8.307620308064534,8.307620308064534,8.307620308064534,8.307620308064534,8.307620308064534,8.307620308064534,8.307620308064534,8.34792884569438,8.34792884569438,8.34792884569438,8.34792884569438,8.34792884569438,8.34792884569438,8.388237383324228,8.388237383324228,8.388237383324228,8.428545920954074,8.428545920954074,8.428545920954074,8.428545920954074,8.468854458583921,8.509162996213767,8.509162996213767,8.549471533843615,8.549471533843615,8.549471533843615,8.549471533843615,8.549471533843615,8.549471533843615,8.549471533843615,8.549471533843615,8.589780071473463,8.589780071473463,8.589780071473463,8.589780071473463,8.630088609103309,8.630088609103309,8.630088609103309,8.630088609103309,8.670397146733157,8.670397146733157,8.670397146733157,8.670397146733157,8.670397146733157,8.710705684363003,8.710705684363003,8.710705684363003,8.710705684363003,8.710705684363003,8.710705684363003,8.75101422199285,8.75101422199285,8.75101422199285,8.75101422199285,8.75101422199285,8.75101422199285,8.75101422199285,8.75101422199285,8.791322759622698,8.791322759622698,8.831631297252544,8.831631297252544,8.831631297252544,8.831631297252544,8.871939834882392,8.871939834882392,8.871939834882392,8.871939834882392,8.912248372512238,8.912248372512238,8.912248372512238,8.912248372512238,8.912248372512238,8.912248372512238,8.952556910142086,8.952556910142086,8.952556910142086,8.992865447771933,8.992865447771933,8.992865447771933,8.992865447771933,8.992865447771933,9.03317398540178,9.03317398540178,9.03317398540178,9.03317398540178,9.03317398540178,9.03317398540178,9.073482523031627,9.073482523031627,9.073482523031627,9.073482523031627,9.073482523031627,9.073482523031627,9.113791060661473,9.113791060661473,9.113791060661473,9.113791060661473,9.113791060661473,9.113791060661473,9.113791060661473,9.154099598291321,9.154099598291321,9.154099598291321,9.154099598291321,9.154099598291321,9.154099598291321,9.154099598291321,9.154099598291321,9.194408135921169,9.194408135921169,9.194408135921169,9.194408135921169,9.194408135921169,9.194408135921169,9.194408135921169,9.194408135921169,9.194408135921169,9.234716673551015,9.234716673551015,9.234716673551015,9.234716673551015,9.27502521118086,9.27502521118086,9.27502521118086,9.27502521118086,9.27502521118086,9.27502521118086,9.27502521118086,9.27502521118086,9.27502521118086,9.27502521118086,9.315333748810708,9.315333748810708,9.315333748810708,9.315333748810708,9.315333748810708,9.315333748810708,9.315333748810708,9.315333748810708,9.355642286440554,9.355642286440554,9.355642286440554,9.355642286440554,9.355642286440554,9.355642286440554,9.355642286440554,9.395950824070402,9.395950824070402,9.395950824070402,9.395950824070402,9.395950824070402,9.395950824070402,9.436259361700248,9.436259361700248,9.436259361700248,9.436259361700248,9.476567899330096,9.476567899330096,9.476567899330096,9.476567899330096,9.476567899330096,9.516876436959944,9.516876436959944,9.516876436959944,9.516876436959944,9.55718497458979,9.55718497458979,9.55718497458979,9.55718497458979,9.597493512219637,9.597493512219637,9.597493512219637,9.597493512219637,9.597493512219637,9.637802049849483,9.637802049849483,9.637802049849483,9.637802049849483,9.637802049849483,9.637802049849483,9.678110587479331,9.678110587479331,9.678110587479331,9.678110587479331,9.678110587479331,9.678110587479331,9.678110587479331,9.678110587479331,9.718419125109179,9.718419125109179,9.718419125109179,9.718419125109179,9.758727662739025,9.758727662739025,9.758727662739025,9.758727662739025,9.758727662739025,9.758727662739025,9.758727662739025,9.758727662739025,9.799036200368873,9.799036200368873,9.799036200368873,9.799036200368873,9.799036200368873,9.799036200368873,9.799036200368873,9.799036200368873,9.799036200368873,9.839344737998719,9.839344737998719,9.879653275628566,9.879653275628566,9.879653275628566,9.879653275628566,9.879653275628566,9.879653275628566,9.879653275628566,9.879653275628566,9.879653275628566,9.879653275628566,9.879653275628566,9.879653275628566,9.879653275628566,9.919961813258414,9.919961813258414,9.919961813258414,9.919961813258414,9.919961813258414,9.919961813258414,9.919961813258414,9.919961813258414,9.96027035088826,9.96027035088826,9.96027035088826,9.96027035088826,9.96027035088826,9.96027035088826,9.96027035088826,10.000578888518108,10.000578888518108,10.000578888518108,10.000578888518108,10.000578888518108,10.000578888518108,10.000578888518108,10.000578888518108,10.040887426147954,10.040887426147954,10.040887426147954,10.040887426147954,10.040887426147954,10.040887426147954,10.081195963777802,10.081195963777802,10.081195963777802,10.081195963777802,10.081195963777802,10.12150450140765,10.12150450140765,10.12150450140765,10.12150450140765,10.12150450140765,10.12150450140765,10.12150450140765,10.161813039037495,10.161813039037495,10.161813039037495,10.161813039037495,10.161813039037495,10.202121576667343,10.202121576667343,10.202121576667343,10.202121576667343,10.202121576667343,10.202121576667343,10.202121576667343,10.202121576667343,10.202121576667343,10.202121576667343,10.202121576667343,10.24243011429719,10.24243011429719,10.24243011429719,10.282738651927037,10.282738651927037,10.282738651927037,10.282738651927037,10.282738651927037,10.282738651927037,10.323047189556885,10.323047189556885,10.323047189556885,10.323047189556885,10.323047189556885,10.323047189556885,10.36335572718673,10.36335572718673,10.36335572718673,10.36335572718673,10.36335572718673,10.36335572718673,10.403664264816578,10.403664264816578,10.403664264816578,10.403664264816578,10.403664264816578,10.403664264816578,10.403664264816578,10.403664264816578,10.403664264816578,10.443972802446424,10.443972802446424,10.443972802446424,10.443972802446424,10.443972802446424,10.443972802446424,10.443972802446424,10.443972802446424,10.443972802446424,10.443972802446424,10.484281340076272,10.524589877706118,10.524589877706118,10.524589877706118,10.524589877706118,10.524589877706118,10.524589877706118,10.524589877706118,10.524589877706118,10.564898415335966,10.564898415335966,10.564898415335966,10.564898415335966,10.564898415335966,10.564898415335966,10.605206952965814,10.605206952965814,10.605206952965814,10.64551549059566,10.64551549059566,10.64551549059566,10.685824028225507,10.685824028225507,10.685824028225507,10.685824028225507,10.685824028225507,10.685824028225507,10.685824028225507,10.726132565855353,10.726132565855353,10.726132565855353,10.726132565855353,10.726132565855353,10.766441103485201,10.766441103485201,10.766441103485201,10.766441103485201,10.806749641115049,10.806749641115049,10.806749641115049,10.847058178744895,10.847058178744895,10.847058178744895,10.887366716374743,10.887366716374743,10.887366716374743,10.887366716374743,10.887366716374743,10.887366716374743,10.927675254004589,10.927675254004589,10.927675254004589,10.927675254004589,10.927675254004589,10.927675254004589,10.927675254004589,10.927675254004589,10.927675254004589,10.967983791634436,10.967983791634436,11.008292329264284,11.008292329264284,11.008292329264284,11.008292329264284,11.04860086689413,11.04860086689413,11.088909404523978,11.088909404523978,11.088909404523978,11.088909404523978,11.129217942153824,11.129217942153824,11.129217942153824,11.16952647978367,11.16952647978367,11.16952647978367,11.209835017413516,11.209835017413516,11.250143555043364,11.250143555043364,11.250143555043364,11.250143555043364,11.29045209267321,11.29045209267321,11.29045209267321,11.330760630303057,11.330760630303057,11.371069167932905,11.411377705562751,11.451686243192599,11.451686243192599,11.451686243192599,11.491994780822445,11.491994780822445,11.491994780822445,11.491994780822445,11.57261185608214,11.612920393711986,11.612920393711986,11.612920393711986,11.653228931341834,11.653228931341834,11.69353746897168,11.69353746897168,11.774154544231376,11.774154544231376,11.814463081861222,11.85477161949107,11.85477161949107,11.935388694750763,11.975697232380611,12.056314307640305,12.136931382899999,12.136931382899999,12.177239920529844,12.177239920529844,12.217548458159692,12.25785699578954,12.338474071049234,12.419091146308928,12.419091146308928,12.540016759198469,12.540016759198469,12.540016759198469,12.66094237208801,12.822176522607398,12.983410673126786,13.104336286016327,13.144644823646175,13.225261898905869,13.386496049425256,14.071741189132654,15.119763167508676,15.925933920105619,15.925933920105619,17.699509575818887,18.425063253156132,19.95678768309032,19.95678768309032,19.95678768309032,19.95678768309032,40.11105649801382],\"yaxis\":\"y\",\"type\":\"scatter\"}],                        {\"template\":{\"data\":{\"histogram2dcontour\":[{\"type\":\"histogram2dcontour\",\"colorbar\":{\"outlinewidth\":0,\"ticks\":\"\"},\"colorscale\":[[0.0,\"#0d0887\"],[0.1111111111111111,\"#46039f\"],[0.2222222222222222,\"#7201a8\"],[0.3333333333333333,\"#9c179e\"],[0.4444444444444444,\"#bd3786\"],[0.5555555555555556,\"#d8576b\"],[0.6666666666666666,\"#ed7953\"],[0.7777777777777778,\"#fb9f3a\"],[0.8888888888888888,\"#fdca26\"],[1.0,\"#f0f921\"]]}],\"choropleth\":[{\"type\":\"choropleth\",\"colorbar\":{\"outlinewidth\":0,\"ticks\":\"\"}}],\"histogram2d\":[{\"type\":\"histogram2d\",\"colorbar\":{\"outlinewidth\":0,\"ticks\":\"\"},\"colorscale\":[[0.0,\"#0d0887\"],[0.1111111111111111,\"#46039f\"],[0.2222222222222222,\"#7201a8\"],[0.3333333333333333,\"#9c179e\"],[0.4444444444444444,\"#bd3786\"],[0.5555555555555556,\"#d8576b\"],[0.6666666666666666,\"#ed7953\"],[0.7777777777777778,\"#fb9f3a\"],[0.8888888888888888,\"#fdca26\"],[1.0,\"#f0f921\"]]}],\"heatmap\":[{\"type\":\"heatmap\",\"colorbar\":{\"outlinewidth\":0,\"ticks\":\"\"},\"colorscale\":[[0.0,\"#0d0887\"],[0.1111111111111111,\"#46039f\"],[0.2222222222222222,\"#7201a8\"],[0.3333333333333333,\"#9c179e\"],[0.4444444444444444,\"#bd3786\"],[0.5555555555555556,\"#d8576b\"],[0.6666666666666666,\"#ed7953\"],[0.7777777777777778,\"#fb9f3a\"],[0.8888888888888888,\"#fdca26\"],[1.0,\"#f0f921\"]]}],\"heatmapgl\":[{\"type\":\"heatmapgl\",\"colorbar\":{\"outlinewidth\":0,\"ticks\":\"\"},\"colorscale\":[[0.0,\"#0d0887\"],[0.1111111111111111,\"#46039f\"],[0.2222222222222222,\"#7201a8\"],[0.3333333333333333,\"#9c179e\"],[0.4444444444444444,\"#bd3786\"],[0.5555555555555556,\"#d8576b\"],[0.6666666666666666,\"#ed7953\"],[0.7777777777777778,\"#fb9f3a\"],[0.8888888888888888,\"#fdca26\"],[1.0,\"#f0f921\"]]}],\"contourcarpet\":[{\"type\":\"contourcarpet\",\"colorbar\":{\"outlinewidth\":0,\"ticks\":\"\"}}],\"contour\":[{\"type\":\"contour\",\"colorbar\":{\"outlinewidth\":0,\"ticks\":\"\"},\"colorscale\":[[0.0,\"#0d0887\"],[0.1111111111111111,\"#46039f\"],[0.2222222222222222,\"#7201a8\"],[0.3333333333333333,\"#9c179e\"],[0.4444444444444444,\"#bd3786\"],[0.5555555555555556,\"#d8576b\"],[0.6666666666666666,\"#ed7953\"],[0.7777777777777778,\"#fb9f3a\"],[0.8888888888888888,\"#fdca26\"],[1.0,\"#f0f921\"]]}],\"surface\":[{\"type\":\"surface\",\"colorbar\":{\"outlinewidth\":0,\"ticks\":\"\"},\"colorscale\":[[0.0,\"#0d0887\"],[0.1111111111111111,\"#46039f\"],[0.2222222222222222,\"#7201a8\"],[0.3333333333333333,\"#9c179e\"],[0.4444444444444444,\"#bd3786\"],[0.5555555555555556,\"#d8576b\"],[0.6666666666666666,\"#ed7953\"],[0.7777777777777778,\"#fb9f3a\"],[0.8888888888888888,\"#fdca26\"],[1.0,\"#f0f921\"]]}],\"mesh3d\":[{\"type\":\"mesh3d\",\"colorbar\":{\"outlinewidth\":0,\"ticks\":\"\"}}],\"scatter\":[{\"fillpattern\":{\"fillmode\":\"overlay\",\"size\":10,\"solidity\":0.2},\"type\":\"scatter\"}],\"parcoords\":[{\"type\":\"parcoords\",\"line\":{\"colorbar\":{\"outlinewidth\":0,\"ticks\":\"\"}}}],\"scatterpolargl\":[{\"type\":\"scatterpolargl\",\"marker\":{\"colorbar\":{\"outlinewidth\":0,\"ticks\":\"\"}}}],\"bar\":[{\"error_x\":{\"color\":\"#2a3f5f\"},\"error_y\":{\"color\":\"#2a3f5f\"},\"marker\":{\"line\":{\"color\":\"#E5ECF6\",\"width\":0.5},\"pattern\":{\"fillmode\":\"overlay\",\"size\":10,\"solidity\":0.2}},\"type\":\"bar\"}],\"scattergeo\":[{\"type\":\"scattergeo\",\"marker\":{\"colorbar\":{\"outlinewidth\":0,\"ticks\":\"\"}}}],\"scatterpolar\":[{\"type\":\"scatterpolar\",\"marker\":{\"colorbar\":{\"outlinewidth\":0,\"ticks\":\"\"}}}],\"histogram\":[{\"marker\":{\"pattern\":{\"fillmode\":\"overlay\",\"size\":10,\"solidity\":0.2}},\"type\":\"histogram\"}],\"scattergl\":[{\"type\":\"scattergl\",\"marker\":{\"colorbar\":{\"outlinewidth\":0,\"ticks\":\"\"}}}],\"scatter3d\":[{\"type\":\"scatter3d\",\"line\":{\"colorbar\":{\"outlinewidth\":0,\"ticks\":\"\"}},\"marker\":{\"colorbar\":{\"outlinewidth\":0,\"ticks\":\"\"}}}],\"scattermapbox\":[{\"type\":\"scattermapbox\",\"marker\":{\"colorbar\":{\"outlinewidth\":0,\"ticks\":\"\"}}}],\"scatterternary\":[{\"type\":\"scatterternary\",\"marker\":{\"colorbar\":{\"outlinewidth\":0,\"ticks\":\"\"}}}],\"scattercarpet\":[{\"type\":\"scattercarpet\",\"marker\":{\"colorbar\":{\"outlinewidth\":0,\"ticks\":\"\"}}}],\"carpet\":[{\"aaxis\":{\"endlinecolor\":\"#2a3f5f\",\"gridcolor\":\"white\",\"linecolor\":\"white\",\"minorgridcolor\":\"white\",\"startlinecolor\":\"#2a3f5f\"},\"baxis\":{\"endlinecolor\":\"#2a3f5f\",\"gridcolor\":\"white\",\"linecolor\":\"white\",\"minorgridcolor\":\"white\",\"startlinecolor\":\"#2a3f5f\"},\"type\":\"carpet\"}],\"table\":[{\"cells\":{\"fill\":{\"color\":\"#EBF0F8\"},\"line\":{\"color\":\"white\"}},\"header\":{\"fill\":{\"color\":\"#C8D4E3\"},\"line\":{\"color\":\"white\"}},\"type\":\"table\"}],\"barpolar\":[{\"marker\":{\"line\":{\"color\":\"#E5ECF6\",\"width\":0.5},\"pattern\":{\"fillmode\":\"overlay\",\"size\":10,\"solidity\":0.2}},\"type\":\"barpolar\"}],\"pie\":[{\"automargin\":true,\"type\":\"pie\"}]},\"layout\":{\"autotypenumbers\":\"strict\",\"colorway\":[\"#636efa\",\"#EF553B\",\"#00cc96\",\"#ab63fa\",\"#FFA15A\",\"#19d3f3\",\"#FF6692\",\"#B6E880\",\"#FF97FF\",\"#FECB52\"],\"font\":{\"color\":\"#2a3f5f\"},\"hovermode\":\"closest\",\"hoverlabel\":{\"align\":\"left\"},\"paper_bgcolor\":\"white\",\"plot_bgcolor\":\"#E5ECF6\",\"polar\":{\"bgcolor\":\"#E5ECF6\",\"angularaxis\":{\"gridcolor\":\"white\",\"linecolor\":\"white\",\"ticks\":\"\"},\"radialaxis\":{\"gridcolor\":\"white\",\"linecolor\":\"white\",\"ticks\":\"\"}},\"ternary\":{\"bgcolor\":\"#E5ECF6\",\"aaxis\":{\"gridcolor\":\"white\",\"linecolor\":\"white\",\"ticks\":\"\"},\"baxis\":{\"gridcolor\":\"white\",\"linecolor\":\"white\",\"ticks\":\"\"},\"caxis\":{\"gridcolor\":\"white\",\"linecolor\":\"white\",\"ticks\":\"\"}},\"coloraxis\":{\"colorbar\":{\"outlinewidth\":0,\"ticks\":\"\"}},\"colorscale\":{\"sequential\":[[0.0,\"#0d0887\"],[0.1111111111111111,\"#46039f\"],[0.2222222222222222,\"#7201a8\"],[0.3333333333333333,\"#9c179e\"],[0.4444444444444444,\"#bd3786\"],[0.5555555555555556,\"#d8576b\"],[0.6666666666666666,\"#ed7953\"],[0.7777777777777778,\"#fb9f3a\"],[0.8888888888888888,\"#fdca26\"],[1.0,\"#f0f921\"]],\"sequentialminus\":[[0.0,\"#0d0887\"],[0.1111111111111111,\"#46039f\"],[0.2222222222222222,\"#7201a8\"],[0.3333333333333333,\"#9c179e\"],[0.4444444444444444,\"#bd3786\"],[0.5555555555555556,\"#d8576b\"],[0.6666666666666666,\"#ed7953\"],[0.7777777777777778,\"#fb9f3a\"],[0.8888888888888888,\"#fdca26\"],[1.0,\"#f0f921\"]],\"diverging\":[[0,\"#8e0152\"],[0.1,\"#c51b7d\"],[0.2,\"#de77ae\"],[0.3,\"#f1b6da\"],[0.4,\"#fde0ef\"],[0.5,\"#f7f7f7\"],[0.6,\"#e6f5d0\"],[0.7,\"#b8e186\"],[0.8,\"#7fbc41\"],[0.9,\"#4d9221\"],[1,\"#276419\"]]},\"xaxis\":{\"gridcolor\":\"white\",\"linecolor\":\"white\",\"ticks\":\"\",\"title\":{\"standoff\":15},\"zerolinecolor\":\"white\",\"automargin\":true,\"zerolinewidth\":2},\"yaxis\":{\"gridcolor\":\"white\",\"linecolor\":\"white\",\"ticks\":\"\",\"title\":{\"standoff\":15},\"zerolinecolor\":\"white\",\"automargin\":true,\"zerolinewidth\":2},\"scene\":{\"xaxis\":{\"backgroundcolor\":\"#E5ECF6\",\"gridcolor\":\"white\",\"linecolor\":\"white\",\"showbackground\":true,\"ticks\":\"\",\"zerolinecolor\":\"white\",\"gridwidth\":2},\"yaxis\":{\"backgroundcolor\":\"#E5ECF6\",\"gridcolor\":\"white\",\"linecolor\":\"white\",\"showbackground\":true,\"ticks\":\"\",\"zerolinecolor\":\"white\",\"gridwidth\":2},\"zaxis\":{\"backgroundcolor\":\"#E5ECF6\",\"gridcolor\":\"white\",\"linecolor\":\"white\",\"showbackground\":true,\"ticks\":\"\",\"zerolinecolor\":\"white\",\"gridwidth\":2}},\"shapedefaults\":{\"line\":{\"color\":\"#2a3f5f\"}},\"annotationdefaults\":{\"arrowcolor\":\"#2a3f5f\",\"arrowhead\":0,\"arrowwidth\":1},\"geo\":{\"bgcolor\":\"white\",\"landcolor\":\"#E5ECF6\",\"subunitcolor\":\"white\",\"showland\":true,\"showlakes\":true,\"lakecolor\":\"white\"},\"title\":{\"x\":0.05},\"mapbox\":{\"style\":\"light\"}}},\"xaxis\":{\"anchor\":\"y\",\"domain\":[0.0,1.0],\"title\":{\"text\":\"BA\"}},\"yaxis\":{\"anchor\":\"x\",\"domain\":[0.0,1.0],\"title\":{\"text\":\"HR\"}},\"legend\":{\"tracegroupgap\":0},\"title\":{\"text\":\"Homers versus Batting Average\"}},                        {\"responsive\": true}                    ).then(function(){\n",
       "                            \n",
       "var gd = document.getElementById('6dd395f9-b5c4-41ea-b875-fc6ae3494cd1');\n",
       "var x = new MutationObserver(function (mutations, observer) {{\n",
       "        var display = window.getComputedStyle(gd).display;\n",
       "        if (!display || display === 'none') {{\n",
       "            console.log([gd, 'removed!']);\n",
       "            Plotly.purge(gd);\n",
       "            observer.disconnect();\n",
       "        }}\n",
       "}});\n",
       "\n",
       "// Listen for the removal of the full notebook cells\n",
       "var notebookContainer = gd.closest('#notebook-container');\n",
       "if (notebookContainer) {{\n",
       "    x.observe(notebookContainer, {childList: true});\n",
       "}}\n",
       "\n",
       "// Listen for the clearing of the current output cell\n",
       "var outputEl = gd.closest('.output');\n",
       "if (outputEl) {{\n",
       "    x.observe(outputEl, {childList: true});\n",
       "}}\n",
       "\n",
       "                        })                };                });            </script>        </div>"
      ]
     },
     "metadata": {},
     "output_type": "display_data"
    }
   ],
   "source": [
    "px.scatter(dfb, x='BA', y='HR', title='Homers versus Batting Average',trendline=\"ols\")"
   ]
  },
  {
   "cell_type": "code",
   "execution_count": 18,
   "metadata": {},
   "outputs": [
    {
     "data": {
      "application/vnd.plotly.v1+json": {
       "config": {
        "plotlyServerURL": "https://plot.ly"
       },
       "data": [
        {
         "hovertemplate": "OPS=%{x}<br>HR=%{y}<extra></extra>",
         "legendgroup": "",
         "marker": {
          "color": "#636efa",
          "symbol": "circle"
         },
         "mode": "markers",
         "name": "",
         "orientation": "v",
         "showlegend": false,
         "type": "scatter",
         "x": [
          null,
          0.993,
          0.817,
          0.821,
          1.066,
          1.012,
          0.905,
          0.987,
          0.836,
          0.857,
          1.019,
          0.861,
          0.808,
          0.853,
          0.93,
          0.828,
          0.849,
          0.851,
          0.893,
          1.013,
          0.83,
          0.818,
          0.99,
          0.806,
          0.84,
          0.758,
          0.782,
          0.762,
          0.817,
          0.813,
          0.788,
          0.976,
          0.826,
          0.886,
          0.814,
          0.797,
          0.783,
          0.805,
          0.774,
          0.881,
          0.803,
          0.788,
          0.741,
          0.821,
          0.793,
          0.778,
          0.721,
          0.804,
          0.868,
          0.81,
          0.844,
          0.761,
          0.77,
          0.8,
          0.717,
          0.856,
          0.772,
          0.816,
          0.829,
          0.831,
          0.79,
          0.695,
          0.789,
          0.846,
          0.863,
          0.781,
          0.753,
          0.79,
          0.714,
          0.747,
          0.82,
          0.8,
          0.789,
          0.744,
          0.807,
          0.932,
          0.681,
          0.842,
          0.714,
          0.744,
          0.834,
          0.741,
          0.791,
          0.9,
          0.771,
          0.844,
          0.73,
          0.755,
          0.732,
          0.72,
          0.743,
          0.666,
          0.814,
          0.765,
          0.811,
          0.826,
          0.931,
          0.835,
          0.762,
          0.713,
          0.809,
          0.842,
          0.674,
          0.858,
          0.79,
          0.761,
          0.818,
          0.715,
          0.87,
          0.824,
          0.78,
          0.797,
          0.818,
          0.712,
          0.68,
          0.711,
          0.738,
          0.819,
          0.808,
          0.755,
          0.758,
          0.779,
          0.717,
          0.858,
          0.915,
          0.741,
          0.731,
          0.755,
          0.825,
          0.724,
          0.819,
          0.746,
          0.786,
          0.749,
          0.775,
          0.842,
          0.888,
          0.79,
          0.798,
          0.779,
          0.769,
          0.839,
          0.864,
          0.713,
          0.77,
          0.774,
          0.783,
          0.787,
          0.718,
          0.783,
          0.712,
          0.762,
          0.813,
          0.718,
          0.921,
          0.606,
          0.655,
          0.721,
          0.764,
          0.747,
          0.746,
          0.695,
          0.775,
          0.783,
          0.692,
          0.612,
          0.725,
          0.768,
          0.731,
          0.84,
          0.858,
          0.802,
          0.784,
          0.801,
          0.796,
          0.789,
          0.777,
          0.733,
          0.747,
          0.877,
          0.756,
          0.666,
          0.71,
          0.667,
          0.705,
          0.805,
          0.696,
          0.722,
          0.695,
          0.696,
          0.696,
          0.667,
          0.745,
          0.742,
          0.645,
          0.693,
          0.729,
          0.703,
          0.829,
          0.776,
          0.685,
          0.769,
          0.813,
          0.706,
          0.692,
          0.682,
          0.863,
          0.635,
          0.755,
          0.685,
          0.787,
          0.725,
          0.796,
          0.646,
          0.744,
          0.76,
          0.746,
          0.793,
          0.717,
          0.7,
          0.73,
          0.716,
          0.809,
          0.84,
          0.628,
          0.861,
          0.666,
          0.68,
          0.689,
          0.637,
          0.593,
          0.72,
          0.723,
          0.734,
          0.687,
          0.712,
          0.711,
          0.678,
          0.692,
          0.705,
          0.599,
          0.719,
          0.713,
          0.717,
          0.678,
          0.593,
          0.598,
          0.71,
          0.75,
          0.781,
          0.688,
          0.801,
          0.729,
          0.676,
          0.654,
          0.685,
          0.715,
          0.762,
          0.664,
          0.689,
          0.659,
          0.647,
          0.62,
          0.673,
          0.803,
          0.691,
          0.614,
          0.828,
          0.647,
          0.735,
          0.741,
          0.692,
          0.727,
          0.593,
          0.873,
          1.008,
          0.739,
          0.638,
          0.677,
          0.622,
          0.644,
          0.748,
          0.847,
          0.711,
          0.587,
          0.653,
          0.607,
          0.731,
          0.747,
          0.653,
          0.675,
          0.66,
          0.631,
          0.642,
          0.672,
          0.635,
          0.545,
          0.662,
          0.657,
          0.657,
          0.618,
          0.552,
          0.624,
          0.69,
          0.613,
          0.562,
          0.631,
          0.65,
          0.646,
          0.699,
          0.912,
          0.646,
          0.726,
          0.823,
          0.712,
          0.65,
          0.611,
          0.723,
          0.683,
          0.633,
          0.571,
          0.579,
          0.585,
          0.764,
          0.598,
          0.665,
          0.688,
          0.682,
          0.655,
          0.574,
          0.712,
          0.651,
          0.641,
          1.058,
          0.62,
          0.571,
          0.681,
          0.71,
          0.662,
          0.607,
          0.71,
          0.625,
          0.658,
          0.674,
          0.524,
          0.612,
          0.654,
          0.58,
          0.748,
          0.546,
          0.76,
          0.55,
          0.807,
          0.55,
          0.776,
          1.056,
          0.654,
          0.582,
          0.663,
          0.675,
          0.644,
          0.616,
          0.98,
          0.661,
          0.734,
          0.681,
          0.663,
          0.528,
          0.634,
          0.635,
          0.686,
          0.654,
          0.675,
          0.672,
          0.7,
          0.641,
          0.507,
          0.631,
          0.57,
          0.703,
          0.666,
          0.494,
          0.742,
          0.519,
          0.706,
          0.652,
          0.491,
          0.638,
          0.775,
          0.692,
          0.556,
          0.585,
          0.729,
          0.725,
          0.801,
          0.633,
          0.75,
          0.822,
          0.699,
          0.531,
          0.566,
          0.761,
          0.678,
          0.541,
          0.675,
          0.601,
          0.725,
          0.612,
          0.556,
          0.472,
          0.565,
          0.566,
          0.655,
          0.612,
          0.785,
          0.636,
          0.571,
          0.715,
          0.578,
          0.862,
          0.56,
          0.571,
          0.708,
          0.641,
          0.608,
          0.627,
          0.498,
          0.713,
          0.724,
          0.539,
          0.622,
          0.685,
          0.74,
          0.637,
          0.573,
          0.558,
          0.631,
          0.858,
          0.644,
          0.733,
          0.791,
          0.628,
          0.619,
          0.662,
          0.551,
          0.616,
          0.503,
          0.554,
          0.61,
          0.565,
          0.748,
          0.612,
          0.731,
          0.647,
          0.663,
          0.688,
          0.661,
          0.643,
          0.644,
          0.677,
          0.58,
          0.622,
          0.736,
          0.539,
          0.666,
          0.678,
          0.519,
          0.716,
          0.771,
          0.461,
          0.77,
          0.53,
          1.302,
          0.703,
          0.548,
          0.554,
          0.467,
          0.497,
          0.546,
          0.72,
          0.503,
          0.812,
          0.582,
          0.541,
          0.587,
          0.555,
          0.397,
          0.604,
          0.553,
          0.631,
          0.941,
          0.589,
          0.885,
          0.75,
          0.556,
          0.57,
          0.666,
          0.632,
          1.4,
          0.615,
          0.705,
          0.437,
          0.461,
          0.379,
          0.726,
          0.689,
          0.485,
          0.614,
          0.281,
          0.459,
          0.742,
          0.632,
          0.575,
          0.609,
          0.668,
          0.675,
          0.509,
          0.839,
          0.668,
          0.56,
          0.644,
          0.452,
          0.613,
          0.611,
          0.75,
          0.647,
          0.537,
          0.682,
          0.615,
          0.45,
          0.732,
          0.597,
          0.557,
          0.528,
          0.685,
          1.379,
          1,
          0.567,
          0.545,
          0.253,
          null,
          0.091,
          null,
          0.258,
          0.444,
          null,
          0,
          null,
          0,
          0.528,
          null,
          0.642,
          0.49,
          null,
          null,
          null,
          0.49,
          0.438,
          null,
          null,
          null,
          0.522,
          null,
          0.701,
          0.472,
          0.49,
          0,
          null,
          null,
          null,
          null,
          null,
          1.167,
          null,
          0.433,
          null,
          null,
          0.31,
          0.176,
          2,
          0.655,
          0.157,
          null,
          null,
          1.067,
          null,
          0.2,
          0.333,
          0.663,
          0,
          null,
          null,
          0.594,
          0.635,
          0.545,
          null,
          null,
          0,
          0.322,
          0.467,
          null,
          null,
          null,
          null,
          null,
          null,
          null,
          null,
          null,
          0.659,
          0.494,
          null,
          null,
          0.167,
          0,
          0.438,
          0.56,
          null,
          null,
          0.699,
          null,
          0.413,
          null,
          0.76,
          0.553,
          0.411,
          null,
          0.398,
          0.323,
          null,
          null,
          null,
          null,
          null,
          null,
          0.573,
          null,
          0,
          null,
          null,
          0.519,
          null,
          0.308,
          null,
          0.222,
          null,
          0.53,
          null,
          0.335,
          null,
          null,
          0.381,
          0.399,
          null,
          0.803,
          0,
          1.5,
          0.641,
          0.598,
          0.459,
          0.833,
          null,
          null,
          0.591,
          null,
          null,
          null,
          0,
          null,
          0.524,
          0.578,
          0.7,
          null,
          0,
          0.2,
          null,
          null,
          0.442,
          null,
          null,
          null,
          0,
          null,
          null,
          null,
          0.278,
          0.401,
          0,
          0.393,
          0.448,
          0.32,
          0.375,
          null,
          0.3,
          0.427,
          null,
          1.125,
          0.369,
          null,
          null,
          0.293,
          null,
          null,
          0.66,
          0.4,
          0.75,
          0.6,
          null,
          null,
          null,
          null,
          null,
          null,
          0.619,
          null,
          0.366,
          0.269,
          null,
          null,
          null,
          0,
          0.55,
          null,
          null,
          0,
          0.304,
          null,
          0,
          0.167,
          null,
          0.435,
          null,
          null,
          null,
          0.639,
          null,
          null,
          0.735,
          0.25,
          0.466,
          0.218,
          null,
          null,
          0.546,
          0.584,
          0.52,
          null,
          0.657,
          0.313,
          1.1,
          0.56,
          null,
          null,
          0.25,
          0.548,
          0.623,
          0,
          null,
          0.307,
          null,
          0.105,
          0.518,
          null,
          null,
          null,
          0.658
         ],
         "xaxis": "x",
         "y": [
          null,
          54,
          47,
          46,
          44,
          41,
          40,
          39,
          39,
          38,
          37,
          37,
          36,
          36,
          35,
          34,
          33,
          33,
          33,
          33,
          33,
          32,
          31,
          31,
          31,
          31,
          30,
          30,
          30,
          30,
          29,
          29,
          29,
          29,
          28,
          28,
          28,
          27,
          26,
          26,
          26,
          26,
          26,
          26,
          26,
          26,
          25,
          25,
          25,
          25,
          25,
          25,
          25,
          25,
          24,
          24,
          24,
          24,
          24,
          24,
          24,
          24,
          23,
          23,
          23,
          23,
          23,
          23,
          23,
          23,
          23,
          23,
          23,
          22,
          22,
          22,
          22,
          22,
          22,
          22,
          21,
          21,
          21,
          21,
          21,
          21,
          21,
          21,
          21,
          21,
          21,
          21,
          20,
          20,
          20,
          20,
          20,
          20,
          20,
          20,
          20,
          20,
          20,
          19,
          19,
          19,
          19,
          19,
          19,
          19,
          19,
          19,
          19,
          18,
          18,
          18,
          18,
          18,
          18,
          18,
          18,
          18,
          18,
          18,
          17,
          17,
          17,
          17,
          17,
          17,
          17,
          17,
          17,
          17,
          17,
          17,
          17,
          17,
          16,
          16,
          16,
          16,
          16,
          16,
          16,
          16,
          16,
          16,
          15,
          15,
          15,
          15,
          15,
          15,
          15,
          15,
          15,
          15,
          15,
          15,
          15,
          15,
          15,
          15,
          14,
          14,
          14,
          14,
          14,
          14,
          14,
          14,
          14,
          14,
          14,
          14,
          14,
          14,
          14,
          14,
          14,
          13,
          13,
          13,
          13,
          13,
          13,
          13,
          13,
          13,
          13,
          13,
          13,
          13,
          13,
          12,
          12,
          12,
          12,
          12,
          12,
          12,
          12,
          12,
          12,
          11,
          11,
          11,
          11,
          11,
          11,
          11,
          11,
          11,
          11,
          11,
          11,
          11,
          11,
          11,
          11,
          11,
          11,
          11,
          10,
          10,
          10,
          10,
          10,
          10,
          10,
          10,
          10,
          10,
          10,
          10,
          10,
          10,
          10,
          10,
          10,
          10,
          10,
          10,
          9,
          9,
          9,
          9,
          9,
          9,
          9,
          9,
          9,
          9,
          9,
          9,
          9,
          9,
          9,
          9,
          9,
          9,
          9,
          9,
          8,
          8,
          8,
          8,
          8,
          8,
          8,
          8,
          8,
          8,
          8,
          8,
          8,
          8,
          8,
          7,
          7,
          7,
          7,
          7,
          7,
          7,
          7,
          7,
          7,
          7,
          7,
          7,
          7,
          7,
          7,
          7,
          7,
          6,
          6,
          6,
          6,
          6,
          6,
          6,
          6,
          6,
          6,
          6,
          6,
          6,
          6,
          6,
          6,
          6,
          6,
          6,
          6,
          6,
          6,
          6,
          6,
          6,
          6,
          6,
          6,
          5,
          5,
          5,
          5,
          5,
          5,
          5,
          5,
          5,
          5,
          5,
          5,
          5,
          5,
          5,
          5,
          5,
          5,
          5,
          5,
          5,
          5,
          5,
          5,
          5,
          5,
          5,
          4,
          4,
          4,
          4,
          4,
          4,
          4,
          4,
          4,
          4,
          4,
          4,
          4,
          4,
          4,
          4,
          4,
          4,
          4,
          4,
          4,
          4,
          4,
          4,
          4,
          4,
          4,
          4,
          4,
          4,
          4,
          4,
          3,
          3,
          3,
          3,
          3,
          3,
          3,
          3,
          3,
          3,
          3,
          3,
          3,
          3,
          3,
          3,
          3,
          3,
          3,
          3,
          3,
          3,
          3,
          3,
          3,
          3,
          3,
          3,
          3,
          3,
          3,
          3,
          3,
          3,
          3,
          2,
          2,
          2,
          2,
          2,
          2,
          2,
          2,
          2,
          2,
          2,
          2,
          2,
          2,
          2,
          2,
          2,
          2,
          2,
          2,
          2,
          2,
          2,
          2,
          2,
          2,
          2,
          2,
          2,
          2,
          2,
          2,
          2,
          2,
          2,
          2,
          2,
          2,
          2,
          2,
          2,
          2,
          2,
          2,
          2,
          2,
          2,
          2,
          2,
          2,
          2,
          2,
          2,
          2,
          2,
          2,
          2,
          2,
          2,
          2,
          2,
          1,
          1,
          1,
          1,
          1,
          1,
          1,
          1,
          1,
          1,
          1,
          1,
          1,
          1,
          1,
          1,
          1,
          1,
          1,
          1,
          1,
          1,
          1,
          1,
          1,
          1,
          1,
          1,
          1,
          1,
          1,
          1,
          1,
          1,
          1,
          1,
          1,
          1,
          1,
          1,
          1,
          1,
          1,
          1,
          1,
          1,
          1,
          1,
          1,
          1,
          1,
          1,
          1,
          1,
          1,
          1,
          1,
          1,
          1,
          0,
          0,
          0,
          0,
          0,
          0,
          0,
          0,
          0,
          0,
          0,
          0,
          0,
          0,
          0,
          0,
          0,
          0,
          0,
          0,
          0,
          0,
          0,
          0,
          0,
          0,
          0,
          0,
          0,
          0,
          0,
          0,
          0,
          0,
          0,
          0,
          0,
          0,
          0,
          0,
          0,
          0,
          0,
          0,
          0,
          0,
          0,
          0,
          0,
          0,
          0,
          0,
          0,
          0,
          0,
          0,
          0,
          0,
          0,
          0,
          0,
          0,
          0,
          0,
          0,
          0,
          0,
          0,
          0,
          0,
          0,
          0,
          0,
          0,
          0,
          0,
          0,
          0,
          0,
          0,
          0,
          0,
          0,
          0,
          0,
          0,
          0,
          0,
          0,
          0,
          0,
          0,
          0,
          0,
          0,
          0,
          0,
          0,
          0,
          0,
          0,
          0,
          0,
          0,
          0,
          0,
          0,
          0,
          0,
          0,
          0,
          0,
          0,
          0,
          0,
          0,
          0,
          0,
          0,
          0,
          0,
          0,
          0,
          0,
          0,
          0,
          0,
          0,
          0,
          0,
          0,
          0,
          0,
          0,
          0,
          0,
          0,
          0,
          0,
          0,
          0,
          0,
          0,
          0,
          0,
          0,
          0,
          0,
          0,
          0,
          0,
          0,
          0,
          0,
          0,
          0,
          0,
          0,
          0,
          0,
          0,
          0,
          0,
          0,
          0,
          0,
          0,
          0,
          0,
          0,
          0,
          0,
          0,
          0,
          0,
          0,
          0,
          0,
          0,
          0,
          0,
          0,
          0,
          0,
          0,
          0,
          0,
          0,
          0,
          0,
          0,
          0,
          0,
          0,
          0,
          0,
          0,
          0,
          0,
          0,
          0,
          0,
          0,
          0,
          0,
          0,
          0,
          0,
          0,
          0,
          0,
          0,
          0,
          0,
          0,
          0,
          0,
          0,
          0,
          0,
          0,
          0,
          0,
          0,
          0,
          0,
          0
         ],
         "yaxis": "y"
        },
        {
         "hovertemplate": "<b>OLS trendline</b><br>HR = 24.2737 * OPS + -7.15762<br>R<sup>2</sup>=0.252631<br><br>OPS=%{x}<br>HR=%{y} <b>(trend)</b><extra></extra>",
         "legendgroup": "",
         "marker": {
          "color": "#636efa",
          "symbol": "circle"
         },
         "mode": "lines",
         "name": "",
         "showlegend": false,
         "type": "scatter",
         "x": [
          0,
          0,
          0,
          0,
          0,
          0,
          0,
          0,
          0,
          0,
          0,
          0,
          0,
          0,
          0,
          0,
          0.091,
          0.105,
          0.157,
          0.167,
          0.167,
          0.176,
          0.2,
          0.2,
          0.218,
          0.222,
          0.25,
          0.25,
          0.253,
          0.258,
          0.269,
          0.278,
          0.281,
          0.293,
          0.3,
          0.304,
          0.307,
          0.308,
          0.31,
          0.313,
          0.32,
          0.322,
          0.323,
          0.333,
          0.335,
          0.366,
          0.369,
          0.375,
          0.379,
          0.381,
          0.393,
          0.397,
          0.398,
          0.399,
          0.4,
          0.401,
          0.411,
          0.413,
          0.427,
          0.433,
          0.435,
          0.437,
          0.438,
          0.438,
          0.442,
          0.444,
          0.448,
          0.45,
          0.452,
          0.459,
          0.459,
          0.461,
          0.461,
          0.466,
          0.467,
          0.467,
          0.472,
          0.472,
          0.485,
          0.49,
          0.49,
          0.49,
          0.491,
          0.494,
          0.494,
          0.497,
          0.498,
          0.503,
          0.503,
          0.507,
          0.509,
          0.518,
          0.519,
          0.519,
          0.519,
          0.52,
          0.522,
          0.524,
          0.524,
          0.528,
          0.528,
          0.528,
          0.53,
          0.53,
          0.531,
          0.537,
          0.539,
          0.539,
          0.541,
          0.541,
          0.545,
          0.545,
          0.545,
          0.546,
          0.546,
          0.546,
          0.548,
          0.548,
          0.55,
          0.55,
          0.55,
          0.551,
          0.552,
          0.553,
          0.553,
          0.554,
          0.554,
          0.555,
          0.556,
          0.556,
          0.556,
          0.557,
          0.558,
          0.56,
          0.56,
          0.56,
          0.56,
          0.562,
          0.565,
          0.565,
          0.566,
          0.566,
          0.567,
          0.57,
          0.57,
          0.571,
          0.571,
          0.571,
          0.571,
          0.573,
          0.573,
          0.574,
          0.575,
          0.578,
          0.578,
          0.579,
          0.58,
          0.58,
          0.582,
          0.582,
          0.584,
          0.585,
          0.585,
          0.587,
          0.587,
          0.589,
          0.591,
          0.593,
          0.593,
          0.593,
          0.594,
          0.597,
          0.598,
          0.598,
          0.598,
          0.599,
          0.6,
          0.601,
          0.604,
          0.606,
          0.607,
          0.607,
          0.608,
          0.609,
          0.61,
          0.611,
          0.611,
          0.612,
          0.612,
          0.612,
          0.612,
          0.612,
          0.613,
          0.613,
          0.614,
          0.614,
          0.615,
          0.615,
          0.616,
          0.616,
          0.618,
          0.619,
          0.619,
          0.62,
          0.62,
          0.622,
          0.622,
          0.622,
          0.623,
          0.624,
          0.625,
          0.627,
          0.628,
          0.628,
          0.631,
          0.631,
          0.631,
          0.631,
          0.631,
          0.632,
          0.632,
          0.633,
          0.633,
          0.634,
          0.635,
          0.635,
          0.635,
          0.635,
          0.636,
          0.637,
          0.637,
          0.638,
          0.638,
          0.639,
          0.641,
          0.641,
          0.641,
          0.641,
          0.642,
          0.642,
          0.643,
          0.644,
          0.644,
          0.644,
          0.644,
          0.644,
          0.645,
          0.646,
          0.646,
          0.646,
          0.647,
          0.647,
          0.647,
          0.647,
          0.65,
          0.65,
          0.651,
          0.652,
          0.653,
          0.653,
          0.654,
          0.654,
          0.654,
          0.654,
          0.655,
          0.655,
          0.655,
          0.655,
          0.657,
          0.657,
          0.657,
          0.658,
          0.658,
          0.659,
          0.659,
          0.66,
          0.66,
          0.661,
          0.661,
          0.662,
          0.662,
          0.662,
          0.663,
          0.663,
          0.663,
          0.663,
          0.664,
          0.665,
          0.666,
          0.666,
          0.666,
          0.666,
          0.666,
          0.666,
          0.667,
          0.667,
          0.668,
          0.668,
          0.672,
          0.672,
          0.673,
          0.674,
          0.674,
          0.675,
          0.675,
          0.675,
          0.675,
          0.675,
          0.676,
          0.677,
          0.677,
          0.678,
          0.678,
          0.678,
          0.678,
          0.68,
          0.68,
          0.681,
          0.681,
          0.681,
          0.682,
          0.682,
          0.682,
          0.683,
          0.685,
          0.685,
          0.685,
          0.685,
          0.685,
          0.686,
          0.687,
          0.688,
          0.688,
          0.688,
          0.689,
          0.689,
          0.689,
          0.69,
          0.691,
          0.692,
          0.692,
          0.692,
          0.692,
          0.692,
          0.693,
          0.695,
          0.695,
          0.695,
          0.696,
          0.696,
          0.696,
          0.699,
          0.699,
          0.699,
          0.7,
          0.7,
          0.7,
          0.701,
          0.703,
          0.703,
          0.703,
          0.705,
          0.705,
          0.705,
          0.706,
          0.706,
          0.708,
          0.71,
          0.71,
          0.71,
          0.71,
          0.711,
          0.711,
          0.711,
          0.712,
          0.712,
          0.712,
          0.712,
          0.712,
          0.713,
          0.713,
          0.713,
          0.713,
          0.714,
          0.714,
          0.715,
          0.715,
          0.715,
          0.716,
          0.716,
          0.717,
          0.717,
          0.717,
          0.717,
          0.718,
          0.718,
          0.719,
          0.72,
          0.72,
          0.72,
          0.721,
          0.721,
          0.722,
          0.723,
          0.723,
          0.724,
          0.724,
          0.725,
          0.725,
          0.725,
          0.725,
          0.726,
          0.726,
          0.727,
          0.729,
          0.729,
          0.729,
          0.73,
          0.73,
          0.731,
          0.731,
          0.731,
          0.731,
          0.732,
          0.732,
          0.733,
          0.733,
          0.734,
          0.734,
          0.735,
          0.735,
          0.736,
          0.738,
          0.739,
          0.74,
          0.741,
          0.741,
          0.741,
          0.741,
          0.742,
          0.742,
          0.742,
          0.743,
          0.744,
          0.744,
          0.744,
          0.745,
          0.746,
          0.746,
          0.746,
          0.747,
          0.747,
          0.747,
          0.747,
          0.748,
          0.748,
          0.748,
          0.749,
          0.75,
          0.75,
          0.75,
          0.75,
          0.75,
          0.753,
          0.755,
          0.755,
          0.755,
          0.755,
          0.756,
          0.758,
          0.758,
          0.76,
          0.76,
          0.76,
          0.761,
          0.761,
          0.761,
          0.762,
          0.762,
          0.762,
          0.762,
          0.764,
          0.764,
          0.765,
          0.768,
          0.769,
          0.769,
          0.77,
          0.77,
          0.77,
          0.771,
          0.771,
          0.772,
          0.774,
          0.774,
          0.775,
          0.775,
          0.775,
          0.776,
          0.776,
          0.777,
          0.778,
          0.779,
          0.779,
          0.78,
          0.781,
          0.781,
          0.782,
          0.783,
          0.783,
          0.783,
          0.783,
          0.784,
          0.785,
          0.786,
          0.787,
          0.787,
          0.788,
          0.788,
          0.789,
          0.789,
          0.789,
          0.79,
          0.79,
          0.79,
          0.79,
          0.791,
          0.791,
          0.793,
          0.793,
          0.796,
          0.796,
          0.797,
          0.797,
          0.798,
          0.8,
          0.8,
          0.801,
          0.801,
          0.801,
          0.802,
          0.803,
          0.803,
          0.803,
          0.804,
          0.805,
          0.805,
          0.806,
          0.807,
          0.807,
          0.808,
          0.808,
          0.809,
          0.809,
          0.81,
          0.811,
          0.812,
          0.813,
          0.813,
          0.813,
          0.814,
          0.814,
          0.816,
          0.817,
          0.817,
          0.818,
          0.818,
          0.818,
          0.819,
          0.819,
          0.82,
          0.821,
          0.821,
          0.822,
          0.823,
          0.824,
          0.825,
          0.826,
          0.826,
          0.828,
          0.828,
          0.829,
          0.829,
          0.83,
          0.831,
          0.833,
          0.834,
          0.835,
          0.836,
          0.839,
          0.839,
          0.84,
          0.84,
          0.84,
          0.842,
          0.842,
          0.842,
          0.844,
          0.844,
          0.846,
          0.847,
          0.849,
          0.851,
          0.853,
          0.856,
          0.857,
          0.858,
          0.858,
          0.858,
          0.858,
          0.861,
          0.861,
          0.862,
          0.863,
          0.863,
          0.864,
          0.868,
          0.87,
          0.873,
          0.877,
          0.881,
          0.885,
          0.886,
          0.888,
          0.893,
          0.9,
          0.905,
          0.912,
          0.915,
          0.921,
          0.93,
          0.931,
          0.932,
          0.941,
          0.976,
          0.98,
          0.987,
          0.99,
          0.993,
          1,
          1.008,
          1.012,
          1.013,
          1.019,
          1.056,
          1.058,
          1.066,
          1.067,
          1.1,
          1.125,
          1.167,
          1.302,
          1.379,
          1.4,
          1.5,
          2
         ],
         "xaxis": "x",
         "y": [
          -7.157622750778258,
          -7.157622750778258,
          -7.157622750778258,
          -7.157622750778258,
          -7.157622750778258,
          -7.157622750778258,
          -7.157622750778258,
          -7.157622750778258,
          -7.157622750778258,
          -7.157622750778258,
          -7.157622750778258,
          -7.157622750778258,
          -7.157622750778258,
          -7.157622750778258,
          -7.157622750778258,
          -7.157622750778258,
          -4.948711804612646,
          -4.608879351356398,
          -3.3466445249760484,
          -3.1039070583644426,
          -3.1039070583644426,
          -2.8854433384139977,
          -2.3028734185461435,
          -2.3028734185461435,
          -1.8659459786452537,
          -1.768850992000611,
          -1.089186085488115,
          -1.089186085488115,
          -1.0163648455046328,
          -0.8949961121988306,
          -0.6279848989260639,
          -0.4095211789756181,
          -0.3366999389921368,
          -0.04541497905821057,
          0.12450124756991343,
          0.2215962342145561,
          0.29441747419803743,
          0.3186912208591979,
          0.36723871418151965,
          0.440059954165001,
          0.609976180793125,
          0.6585236741154468,
          0.6827974207766072,
          0.9255348873882125,
          0.9740823807105334,
          1.7265685272065108,
          1.799389767189992,
          1.9450322471569566,
          2.0421272338015983,
          2.090674727123921,
          2.381959687057848,
          2.47905467370249,
          2.5033284203636503,
          2.5276021670248108,
          2.551875913685971,
          2.5761496603471317,
          2.818887126958736,
          2.867434620281057,
          3.207267073537307,
          3.3529095535042694,
          3.4014570468265903,
          3.4500045401489112,
          3.4742782868100734,
          3.4742782868100734,
          3.5713732734547152,
          3.619920766777036,
          3.717015753421678,
          3.7655632467440006,
          3.8141107400663214,
          3.9840269666944446,
          3.9840269666944446,
          4.0325744600167654,
          4.0325744600167654,
          4.1539431933225694,
          4.17821693998373,
          4.17821693998373,
          4.299585673289532,
          4.299585673289532,
          4.61514437988462,
          4.736513113190422,
          4.736513113190422,
          4.736513113190422,
          4.760786859851582,
          4.833608099835064,
          4.833608099835064,
          4.906429339818547,
          4.930703086479707,
          5.0520718197855095,
          5.0520718197855095,
          5.149166806430153,
          5.197714299752474,
          5.41617801970292,
          5.44045176636408,
          5.44045176636408,
          5.44045176636408,
          5.464725513025241,
          5.5132730063475615,
          5.561820499669882,
          5.561820499669882,
          5.658915486314524,
          5.658915486314524,
          5.658915486314524,
          5.707462979636847,
          5.707462979636847,
          5.731736726298007,
          5.87737920626497,
          5.925926699587291,
          5.925926699587291,
          5.974474192909612,
          5.974474192909612,
          6.071569179554255,
          6.071569179554255,
          6.071569179554255,
          6.095842926215416,
          6.095842926215416,
          6.095842926215416,
          6.144390419537737,
          6.144390419537737,
          6.1929379128600575,
          6.1929379128600575,
          6.1929379128600575,
          6.217211659521218,
          6.241485406182378,
          6.265759152843539,
          6.265759152843539,
          6.290032899504701,
          6.290032899504701,
          6.3143066461658615,
          6.338580392827022,
          6.338580392827022,
          6.338580392827022,
          6.362854139488182,
          6.387127886149343,
          6.435675379471664,
          6.435675379471664,
          6.435675379471664,
          6.435675379471664,
          6.484222872793985,
          6.557044112777464,
          6.557044112777464,
          6.581317859438625,
          6.581317859438625,
          6.605591606099785,
          6.678412846083266,
          6.678412846083266,
          6.702686592744427,
          6.702686592744427,
          6.702686592744427,
          6.702686592744427,
          6.7512340860667495,
          6.7512340860667495,
          6.77550783272791,
          6.79978157938907,
          6.872602819372552,
          6.872602819372552,
          6.896876566033712,
          6.921150312694873,
          6.921150312694873,
          6.9696978060171935,
          6.9696978060171935,
          7.018245299339516,
          7.042519046000677,
          7.042519046000677,
          7.0910665393229975,
          7.0910665393229975,
          7.139614032645318,
          7.188161525967639,
          7.23670901928996,
          7.23670901928996,
          7.23670901928996,
          7.260982765951121,
          7.333804005934604,
          7.358077752595764,
          7.358077752595764,
          7.358077752595764,
          7.382351499256925,
          7.406625245918085,
          7.4308989925792455,
          7.503720232562727,
          7.552267725885048,
          7.576541472546208,
          7.576541472546208,
          7.60081521920737,
          7.625088965868531,
          7.649362712529691,
          7.673636459190852,
          7.673636459190852,
          7.697910205852012,
          7.697910205852012,
          7.697910205852012,
          7.697910205852012,
          7.697910205852012,
          7.722183952513173,
          7.722183952513173,
          7.746457699174333,
          7.746457699174333,
          7.7707314458354935,
          7.7707314458354935,
          7.795005192496654,
          7.795005192496654,
          7.843552685818975,
          7.867826432480135,
          7.867826432480135,
          7.8921001791412975,
          7.8921001791412975,
          7.940647672463618,
          7.940647672463618,
          7.940647672463618,
          7.964921419124779,
          7.989195165785939,
          8.013468912447099,
          8.06201640576942,
          8.086290152430582,
          8.086290152430582,
          8.159111392414065,
          8.159111392414065,
          8.159111392414065,
          8.159111392414065,
          8.159111392414065,
          8.183385139075224,
          8.183385139075224,
          8.207658885736386,
          8.207658885736386,
          8.231932632397545,
          8.256206379058707,
          8.256206379058707,
          8.256206379058707,
          8.256206379058707,
          8.280480125719865,
          8.304753872381028,
          8.304753872381028,
          8.329027619042186,
          8.329027619042186,
          8.353301365703349,
          8.40184885902567,
          8.40184885902567,
          8.40184885902567,
          8.40184885902567,
          8.426122605686828,
          8.426122605686828,
          8.45039635234799,
          8.474670099009153,
          8.474670099009153,
          8.474670099009153,
          8.474670099009153,
          8.474670099009153,
          8.498943845670311,
          8.523217592331473,
          8.523217592331473,
          8.523217592331473,
          8.547491338992632,
          8.547491338992632,
          8.547491338992632,
          8.547491338992632,
          8.620312578976115,
          8.620312578976115,
          8.644586325637274,
          8.668860072298436,
          8.693133818959595,
          8.693133818959595,
          8.717407565620757,
          8.717407565620757,
          8.717407565620757,
          8.717407565620757,
          8.74168131228192,
          8.74168131228192,
          8.74168131228192,
          8.74168131228192,
          8.79022880560424,
          8.79022880560424,
          8.79022880560424,
          8.814502552265399,
          8.814502552265399,
          8.838776298926561,
          8.838776298926561,
          8.86305004558772,
          8.86305004558772,
          8.887323792248882,
          8.887323792248882,
          8.91159753891004,
          8.91159753891004,
          8.91159753891004,
          8.935871285571203,
          8.935871285571203,
          8.935871285571203,
          8.935871285571203,
          8.960145032232361,
          8.984418778893524,
          9.008692525554682,
          9.008692525554682,
          9.008692525554682,
          9.008692525554682,
          9.008692525554682,
          9.008692525554682,
          9.032966272215845,
          9.032966272215845,
          9.057240018877003,
          9.057240018877003,
          9.154335005521645,
          9.154335005521645,
          9.178608752182807,
          9.20288249884397,
          9.20288249884397,
          9.227156245505128,
          9.227156245505128,
          9.227156245505128,
          9.227156245505128,
          9.227156245505128,
          9.25142999216629,
          9.275703738827449,
          9.275703738827449,
          9.299977485488611,
          9.299977485488611,
          9.299977485488611,
          9.299977485488611,
          9.348524978810932,
          9.348524978810932,
          9.37279872547209,
          9.37279872547209,
          9.37279872547209,
          9.397072472133253,
          9.397072472133253,
          9.397072472133253,
          9.421346218794412,
          9.469893712116736,
          9.469893712116736,
          9.469893712116736,
          9.469893712116736,
          9.469893712116736,
          9.494167458777895,
          9.518441205439057,
          9.542714952100212,
          9.542714952100212,
          9.542714952100212,
          9.566988698761374,
          9.566988698761374,
          9.566988698761374,
          9.591262445422533,
          9.615536192083695,
          9.639809938744857,
          9.639809938744857,
          9.639809938744857,
          9.639809938744857,
          9.639809938744857,
          9.664083685406016,
          9.712631178728337,
          9.712631178728337,
          9.712631178728337,
          9.7369049253895,
          9.7369049253895,
          9.7369049253895,
          9.809726165372979,
          9.809726165372979,
          9.809726165372979,
          9.833999912034141,
          9.833999912034141,
          9.833999912034141,
          9.8582736586953,
          9.906821152017624,
          9.906821152017624,
          9.906821152017624,
          9.955368645339945,
          9.955368645339945,
          9.955368645339945,
          9.979642392001104,
          9.979642392001104,
          10.028189885323425,
          10.076737378645745,
          10.076737378645745,
          10.076737378645745,
          10.076737378645745,
          10.101011125306908,
          10.101011125306908,
          10.101011125306908,
          10.125284871968066,
          10.125284871968066,
          10.125284871968066,
          10.125284871968066,
          10.125284871968066,
          10.149558618629229,
          10.149558618629229,
          10.149558618629229,
          10.149558618629229,
          10.173832365290387,
          10.173832365290387,
          10.19810611195155,
          10.19810611195155,
          10.19810611195155,
          10.222379858612712,
          10.222379858612712,
          10.24665360527387,
          10.24665360527387,
          10.24665360527387,
          10.24665360527387,
          10.270927351935033,
          10.270927351935033,
          10.295201098596191,
          10.319474845257353,
          10.319474845257353,
          10.319474845257353,
          10.343748591918512,
          10.343748591918512,
          10.368022338579674,
          10.392296085240833,
          10.392296085240833,
          10.416569831901995,
          10.416569831901995,
          10.440843578563154,
          10.440843578563154,
          10.440843578563154,
          10.440843578563154,
          10.465117325224316,
          10.465117325224316,
          10.489391071885478,
          10.5379385652078,
          10.5379385652078,
          10.5379385652078,
          10.562212311868958,
          10.562212311868958,
          10.58648605853012,
          10.58648605853012,
          10.58648605853012,
          10.58648605853012,
          10.610759805191279,
          10.610759805191279,
          10.635033551852441,
          10.635033551852441,
          10.6593072985136,
          10.6593072985136,
          10.683581045174762,
          10.683581045174762,
          10.70785479183592,
          10.756402285158241,
          10.780676031819404,
          10.804949778480566,
          10.829223525141725,
          10.829223525141725,
          10.829223525141725,
          10.829223525141725,
          10.853497271802887,
          10.853497271802887,
          10.853497271802887,
          10.877771018464045,
          10.902044765125208,
          10.902044765125208,
          10.902044765125208,
          10.926318511786366,
          10.950592258447529,
          10.950592258447529,
          10.950592258447529,
          10.974866005108687,
          10.974866005108687,
          10.974866005108687,
          10.974866005108687,
          10.99913975176985,
          10.99913975176985,
          10.99913975176985,
          11.023413498431008,
          11.04768724509217,
          11.04768724509217,
          11.04768724509217,
          11.04768724509217,
          11.04768724509217,
          11.120508485075653,
          11.169055978397974,
          11.169055978397974,
          11.169055978397974,
          11.169055978397974,
          11.193329725059133,
          11.241877218381454,
          11.241877218381454,
          11.290424711703775,
          11.290424711703775,
          11.290424711703775,
          11.314698458364937,
          11.314698458364937,
          11.314698458364937,
          11.3389722050261,
          11.3389722050261,
          11.3389722050261,
          11.3389722050261,
          11.38751969834842,
          11.38751969834842,
          11.411793445009579,
          11.484614684993062,
          11.50888843165422,
          11.50888843165422,
          11.533162178315383,
          11.533162178315383,
          11.533162178315383,
          11.557435924976541,
          11.557435924976541,
          11.581709671637704,
          11.630257164960025,
          11.630257164960025,
          11.654530911621187,
          11.654530911621187,
          11.654530911621187,
          11.678804658282345,
          11.678804658282345,
          11.703078404943508,
          11.727352151604666,
          11.751625898265829,
          11.751625898265829,
          11.775899644926987,
          11.80017339158815,
          11.80017339158815,
          11.824447138249308,
          11.84872088491047,
          11.84872088491047,
          11.84872088491047,
          11.84872088491047,
          11.872994631571629,
          11.897268378232791,
          11.921542124893953,
          11.945815871555112,
          11.945815871555112,
          11.970089618216274,
          11.970089618216274,
          11.994363364877433,
          11.994363364877433,
          11.994363364877433,
          12.018637111538595,
          12.018637111538595,
          12.018637111538595,
          12.018637111538595,
          12.042910858199754,
          12.042910858199754,
          12.091458351522075,
          12.091458351522075,
          12.164279591505558,
          12.164279591505558,
          12.188553338166717,
          12.188553338166717,
          12.212827084827879,
          12.2613745781502,
          12.2613745781502,
          12.285648324811362,
          12.285648324811362,
          12.285648324811362,
          12.30992207147252,
          12.334195818133683,
          12.334195818133683,
          12.334195818133683,
          12.358469564794841,
          12.382743311456004,
          12.382743311456004,
          12.407017058117162,
          12.431290804778325,
          12.431290804778325,
          12.455564551439483,
          12.455564551439483,
          12.479838298100645,
          12.479838298100645,
          12.504112044761808,
          12.528385791422966,
          12.552659538084129,
          12.576933284745284,
          12.576933284745284,
          12.576933284745284,
          12.601207031406446,
          12.601207031406446,
          12.649754524728767,
          12.674028271389929,
          12.674028271389929,
          12.698302018051088,
          12.698302018051088,
          12.698302018051088,
          12.72257576471225,
          12.72257576471225,
          12.746849511373409,
          12.77112325803457,
          12.77112325803457,
          12.79539700469573,
          12.819670751356892,
          12.84394449801805,
          12.868218244679213,
          12.892491991340371,
          12.892491991340371,
          12.941039484662696,
          12.941039484662696,
          12.965313231323854,
          12.965313231323854,
          12.989586977985017,
          13.013860724646175,
          13.062408217968496,
          13.086681964629658,
          13.110955711290817,
          13.13522945795198,
          13.208050697935459,
          13.208050697935459,
          13.232324444596621,
          13.232324444596621,
          13.232324444596621,
          13.280871937918942,
          13.280871937918942,
          13.280871937918942,
          13.329419431241263,
          13.329419431241263,
          13.377966924563584,
          13.402240671224746,
          13.450788164547067,
          13.499335657869388,
          13.547883151191709,
          13.620704391175192,
          13.64497813783635,
          13.669251884497513,
          13.669251884497513,
          13.669251884497513,
          13.669251884497513,
          13.742073124480992,
          13.742073124480992,
          13.766346871142154,
          13.790620617803313,
          13.790620617803313,
          13.814894364464475,
          13.911989351109117,
          13.960536844431438,
          14.033358084414921,
          14.130453071059563,
          14.227548057704205,
          14.324643044348846,
          14.348916791010009,
          14.39746428433233,
          14.518833017638133,
          14.688749244266258,
          14.810117977572059,
          14.980034204200184,
          15.052855444183667,
          15.19849792415063,
          15.416961644101075,
          15.441235390762234,
          15.465509137423396,
          15.683972857373838,
          16.53355399051446,
          16.6306489771591,
          16.800565203787226,
          16.87338644377071,
          16.94620768375419,
          17.116123910382314,
          17.310313883671597,
          17.407408870316242,
          17.431682616977398,
          17.577325096944364,
          18.475453723407306,
          18.524001216729626,
          18.718191190018914,
          18.742464936680072,
          19.543498576498372,
          20.150342243027385,
          21.16983960279613,
          24.446795402052807,
          26.315873894962174,
          26.82562257484654,
          29.2529972409626,
          41.389870571542886
         ],
         "yaxis": "y"
        }
       ],
       "layout": {
        "autosize": true,
        "legend": {
         "tracegroupgap": 0
        },
        "template": {
         "data": {
          "bar": [
           {
            "error_x": {
             "color": "#2a3f5f"
            },
            "error_y": {
             "color": "#2a3f5f"
            },
            "marker": {
             "line": {
              "color": "#E5ECF6",
              "width": 0.5
             },
             "pattern": {
              "fillmode": "overlay",
              "size": 10,
              "solidity": 0.2
             }
            },
            "type": "bar"
           }
          ],
          "barpolar": [
           {
            "marker": {
             "line": {
              "color": "#E5ECF6",
              "width": 0.5
             },
             "pattern": {
              "fillmode": "overlay",
              "size": 10,
              "solidity": 0.2
             }
            },
            "type": "barpolar"
           }
          ],
          "carpet": [
           {
            "aaxis": {
             "endlinecolor": "#2a3f5f",
             "gridcolor": "white",
             "linecolor": "white",
             "minorgridcolor": "white",
             "startlinecolor": "#2a3f5f"
            },
            "baxis": {
             "endlinecolor": "#2a3f5f",
             "gridcolor": "white",
             "linecolor": "white",
             "minorgridcolor": "white",
             "startlinecolor": "#2a3f5f"
            },
            "type": "carpet"
           }
          ],
          "choropleth": [
           {
            "colorbar": {
             "outlinewidth": 0,
             "ticks": ""
            },
            "type": "choropleth"
           }
          ],
          "contour": [
           {
            "colorbar": {
             "outlinewidth": 0,
             "ticks": ""
            },
            "colorscale": [
             [
              0,
              "#0d0887"
             ],
             [
              0.1111111111111111,
              "#46039f"
             ],
             [
              0.2222222222222222,
              "#7201a8"
             ],
             [
              0.3333333333333333,
              "#9c179e"
             ],
             [
              0.4444444444444444,
              "#bd3786"
             ],
             [
              0.5555555555555556,
              "#d8576b"
             ],
             [
              0.6666666666666666,
              "#ed7953"
             ],
             [
              0.7777777777777778,
              "#fb9f3a"
             ],
             [
              0.8888888888888888,
              "#fdca26"
             ],
             [
              1,
              "#f0f921"
             ]
            ],
            "type": "contour"
           }
          ],
          "contourcarpet": [
           {
            "colorbar": {
             "outlinewidth": 0,
             "ticks": ""
            },
            "type": "contourcarpet"
           }
          ],
          "heatmap": [
           {
            "colorbar": {
             "outlinewidth": 0,
             "ticks": ""
            },
            "colorscale": [
             [
              0,
              "#0d0887"
             ],
             [
              0.1111111111111111,
              "#46039f"
             ],
             [
              0.2222222222222222,
              "#7201a8"
             ],
             [
              0.3333333333333333,
              "#9c179e"
             ],
             [
              0.4444444444444444,
              "#bd3786"
             ],
             [
              0.5555555555555556,
              "#d8576b"
             ],
             [
              0.6666666666666666,
              "#ed7953"
             ],
             [
              0.7777777777777778,
              "#fb9f3a"
             ],
             [
              0.8888888888888888,
              "#fdca26"
             ],
             [
              1,
              "#f0f921"
             ]
            ],
            "type": "heatmap"
           }
          ],
          "heatmapgl": [
           {
            "colorbar": {
             "outlinewidth": 0,
             "ticks": ""
            },
            "colorscale": [
             [
              0,
              "#0d0887"
             ],
             [
              0.1111111111111111,
              "#46039f"
             ],
             [
              0.2222222222222222,
              "#7201a8"
             ],
             [
              0.3333333333333333,
              "#9c179e"
             ],
             [
              0.4444444444444444,
              "#bd3786"
             ],
             [
              0.5555555555555556,
              "#d8576b"
             ],
             [
              0.6666666666666666,
              "#ed7953"
             ],
             [
              0.7777777777777778,
              "#fb9f3a"
             ],
             [
              0.8888888888888888,
              "#fdca26"
             ],
             [
              1,
              "#f0f921"
             ]
            ],
            "type": "heatmapgl"
           }
          ],
          "histogram": [
           {
            "marker": {
             "pattern": {
              "fillmode": "overlay",
              "size": 10,
              "solidity": 0.2
             }
            },
            "type": "histogram"
           }
          ],
          "histogram2d": [
           {
            "colorbar": {
             "outlinewidth": 0,
             "ticks": ""
            },
            "colorscale": [
             [
              0,
              "#0d0887"
             ],
             [
              0.1111111111111111,
              "#46039f"
             ],
             [
              0.2222222222222222,
              "#7201a8"
             ],
             [
              0.3333333333333333,
              "#9c179e"
             ],
             [
              0.4444444444444444,
              "#bd3786"
             ],
             [
              0.5555555555555556,
              "#d8576b"
             ],
             [
              0.6666666666666666,
              "#ed7953"
             ],
             [
              0.7777777777777778,
              "#fb9f3a"
             ],
             [
              0.8888888888888888,
              "#fdca26"
             ],
             [
              1,
              "#f0f921"
             ]
            ],
            "type": "histogram2d"
           }
          ],
          "histogram2dcontour": [
           {
            "colorbar": {
             "outlinewidth": 0,
             "ticks": ""
            },
            "colorscale": [
             [
              0,
              "#0d0887"
             ],
             [
              0.1111111111111111,
              "#46039f"
             ],
             [
              0.2222222222222222,
              "#7201a8"
             ],
             [
              0.3333333333333333,
              "#9c179e"
             ],
             [
              0.4444444444444444,
              "#bd3786"
             ],
             [
              0.5555555555555556,
              "#d8576b"
             ],
             [
              0.6666666666666666,
              "#ed7953"
             ],
             [
              0.7777777777777778,
              "#fb9f3a"
             ],
             [
              0.8888888888888888,
              "#fdca26"
             ],
             [
              1,
              "#f0f921"
             ]
            ],
            "type": "histogram2dcontour"
           }
          ],
          "mesh3d": [
           {
            "colorbar": {
             "outlinewidth": 0,
             "ticks": ""
            },
            "type": "mesh3d"
           }
          ],
          "parcoords": [
           {
            "line": {
             "colorbar": {
              "outlinewidth": 0,
              "ticks": ""
             }
            },
            "type": "parcoords"
           }
          ],
          "pie": [
           {
            "automargin": true,
            "type": "pie"
           }
          ],
          "scatter": [
           {
            "fillpattern": {
             "fillmode": "overlay",
             "size": 10,
             "solidity": 0.2
            },
            "type": "scatter"
           }
          ],
          "scatter3d": [
           {
            "line": {
             "colorbar": {
              "outlinewidth": 0,
              "ticks": ""
             }
            },
            "marker": {
             "colorbar": {
              "outlinewidth": 0,
              "ticks": ""
             }
            },
            "type": "scatter3d"
           }
          ],
          "scattercarpet": [
           {
            "marker": {
             "colorbar": {
              "outlinewidth": 0,
              "ticks": ""
             }
            },
            "type": "scattercarpet"
           }
          ],
          "scattergeo": [
           {
            "marker": {
             "colorbar": {
              "outlinewidth": 0,
              "ticks": ""
             }
            },
            "type": "scattergeo"
           }
          ],
          "scattergl": [
           {
            "marker": {
             "colorbar": {
              "outlinewidth": 0,
              "ticks": ""
             }
            },
            "type": "scattergl"
           }
          ],
          "scattermapbox": [
           {
            "marker": {
             "colorbar": {
              "outlinewidth": 0,
              "ticks": ""
             }
            },
            "type": "scattermapbox"
           }
          ],
          "scatterpolar": [
           {
            "marker": {
             "colorbar": {
              "outlinewidth": 0,
              "ticks": ""
             }
            },
            "type": "scatterpolar"
           }
          ],
          "scatterpolargl": [
           {
            "marker": {
             "colorbar": {
              "outlinewidth": 0,
              "ticks": ""
             }
            },
            "type": "scatterpolargl"
           }
          ],
          "scatterternary": [
           {
            "marker": {
             "colorbar": {
              "outlinewidth": 0,
              "ticks": ""
             }
            },
            "type": "scatterternary"
           }
          ],
          "surface": [
           {
            "colorbar": {
             "outlinewidth": 0,
             "ticks": ""
            },
            "colorscale": [
             [
              0,
              "#0d0887"
             ],
             [
              0.1111111111111111,
              "#46039f"
             ],
             [
              0.2222222222222222,
              "#7201a8"
             ],
             [
              0.3333333333333333,
              "#9c179e"
             ],
             [
              0.4444444444444444,
              "#bd3786"
             ],
             [
              0.5555555555555556,
              "#d8576b"
             ],
             [
              0.6666666666666666,
              "#ed7953"
             ],
             [
              0.7777777777777778,
              "#fb9f3a"
             ],
             [
              0.8888888888888888,
              "#fdca26"
             ],
             [
              1,
              "#f0f921"
             ]
            ],
            "type": "surface"
           }
          ],
          "table": [
           {
            "cells": {
             "fill": {
              "color": "#EBF0F8"
             },
             "line": {
              "color": "white"
             }
            },
            "header": {
             "fill": {
              "color": "#C8D4E3"
             },
             "line": {
              "color": "white"
             }
            },
            "type": "table"
           }
          ]
         },
         "layout": {
          "annotationdefaults": {
           "arrowcolor": "#2a3f5f",
           "arrowhead": 0,
           "arrowwidth": 1
          },
          "autotypenumbers": "strict",
          "coloraxis": {
           "colorbar": {
            "outlinewidth": 0,
            "ticks": ""
           }
          },
          "colorscale": {
           "diverging": [
            [
             0,
             "#8e0152"
            ],
            [
             0.1,
             "#c51b7d"
            ],
            [
             0.2,
             "#de77ae"
            ],
            [
             0.3,
             "#f1b6da"
            ],
            [
             0.4,
             "#fde0ef"
            ],
            [
             0.5,
             "#f7f7f7"
            ],
            [
             0.6,
             "#e6f5d0"
            ],
            [
             0.7,
             "#b8e186"
            ],
            [
             0.8,
             "#7fbc41"
            ],
            [
             0.9,
             "#4d9221"
            ],
            [
             1,
             "#276419"
            ]
           ],
           "sequential": [
            [
             0,
             "#0d0887"
            ],
            [
             0.1111111111111111,
             "#46039f"
            ],
            [
             0.2222222222222222,
             "#7201a8"
            ],
            [
             0.3333333333333333,
             "#9c179e"
            ],
            [
             0.4444444444444444,
             "#bd3786"
            ],
            [
             0.5555555555555556,
             "#d8576b"
            ],
            [
             0.6666666666666666,
             "#ed7953"
            ],
            [
             0.7777777777777778,
             "#fb9f3a"
            ],
            [
             0.8888888888888888,
             "#fdca26"
            ],
            [
             1,
             "#f0f921"
            ]
           ],
           "sequentialminus": [
            [
             0,
             "#0d0887"
            ],
            [
             0.1111111111111111,
             "#46039f"
            ],
            [
             0.2222222222222222,
             "#7201a8"
            ],
            [
             0.3333333333333333,
             "#9c179e"
            ],
            [
             0.4444444444444444,
             "#bd3786"
            ],
            [
             0.5555555555555556,
             "#d8576b"
            ],
            [
             0.6666666666666666,
             "#ed7953"
            ],
            [
             0.7777777777777778,
             "#fb9f3a"
            ],
            [
             0.8888888888888888,
             "#fdca26"
            ],
            [
             1,
             "#f0f921"
            ]
           ]
          },
          "colorway": [
           "#636efa",
           "#EF553B",
           "#00cc96",
           "#ab63fa",
           "#FFA15A",
           "#19d3f3",
           "#FF6692",
           "#B6E880",
           "#FF97FF",
           "#FECB52"
          ],
          "font": {
           "color": "#2a3f5f"
          },
          "geo": {
           "bgcolor": "white",
           "lakecolor": "white",
           "landcolor": "#E5ECF6",
           "showlakes": true,
           "showland": true,
           "subunitcolor": "white"
          },
          "hoverlabel": {
           "align": "left"
          },
          "hovermode": "closest",
          "mapbox": {
           "style": "light"
          },
          "paper_bgcolor": "white",
          "plot_bgcolor": "#E5ECF6",
          "polar": {
           "angularaxis": {
            "gridcolor": "white",
            "linecolor": "white",
            "ticks": ""
           },
           "bgcolor": "#E5ECF6",
           "radialaxis": {
            "gridcolor": "white",
            "linecolor": "white",
            "ticks": ""
           }
          },
          "scene": {
           "xaxis": {
            "backgroundcolor": "#E5ECF6",
            "gridcolor": "white",
            "gridwidth": 2,
            "linecolor": "white",
            "showbackground": true,
            "ticks": "",
            "zerolinecolor": "white"
           },
           "yaxis": {
            "backgroundcolor": "#E5ECF6",
            "gridcolor": "white",
            "gridwidth": 2,
            "linecolor": "white",
            "showbackground": true,
            "ticks": "",
            "zerolinecolor": "white"
           },
           "zaxis": {
            "backgroundcolor": "#E5ECF6",
            "gridcolor": "white",
            "gridwidth": 2,
            "linecolor": "white",
            "showbackground": true,
            "ticks": "",
            "zerolinecolor": "white"
           }
          },
          "shapedefaults": {
           "line": {
            "color": "#2a3f5f"
           }
          },
          "ternary": {
           "aaxis": {
            "gridcolor": "white",
            "linecolor": "white",
            "ticks": ""
           },
           "baxis": {
            "gridcolor": "white",
            "linecolor": "white",
            "ticks": ""
           },
           "bgcolor": "#E5ECF6",
           "caxis": {
            "gridcolor": "white",
            "linecolor": "white",
            "ticks": ""
           }
          },
          "title": {
           "x": 0.05
          },
          "xaxis": {
           "automargin": true,
           "gridcolor": "white",
           "linecolor": "white",
           "ticks": "",
           "title": {
            "standoff": 15
           },
           "zerolinecolor": "white",
           "zerolinewidth": 2
          },
          "yaxis": {
           "automargin": true,
           "gridcolor": "white",
           "linecolor": "white",
           "ticks": "",
           "title": {
            "standoff": 15
           },
           "zerolinecolor": "white",
           "zerolinewidth": 2
          }
         }
        },
        "title": {
         "text": "Homers versus On-base Plus Slugging"
        },
        "xaxis": {
         "anchor": "y",
         "autorange": true,
         "domain": [
          0,
          1
         ],
         "range": [
          -0.12086112086112087,
          2.1208611208611208
         ],
         "title": {
          "text": "OPS"
         },
         "type": "linear"
        },
        "yaxis": {
         "anchor": "x",
         "autorange": true,
         "domain": [
          0,
          1
         ],
         "range": [
          -10.635781390632946,
          58.927391406460806
         ],
         "title": {
          "text": "HR"
         },
         "type": "linear"
        }
       }
      },
      "image/png": "[encoded data removed]",
      "text/html": [
       "<div>                            <div id=\"7452401f-0215-4e77-a5ab-28d0a11cd10a\" class=\"plotly-graph-div\" style=\"height:525px; width:100%;\"></div>            <script type=\"text/javascript\">                require([\"plotly\"], function(Plotly) {                    window.PLOTLYENV=window.PLOTLYENV || {};                                    if (document.getElementById(\"7452401f-0215-4e77-a5ab-28d0a11cd10a\")) {                    Plotly.newPlot(                        \"7452401f-0215-4e77-a5ab-28d0a11cd10a\",                        [{\"hovertemplate\":\"OPS=%{x}\\u003cbr\\u003eHR=%{y}\\u003cextra\\u003e\\u003c\\u002fextra\\u003e\",\"legendgroup\":\"\",\"marker\":{\"color\":\"#636efa\",\"symbol\":\"circle\"},\"mode\":\"markers\",\"name\":\"\",\"orientation\":\"v\",\"showlegend\":false,\"x\":[null,0.993,0.817,0.821,1.066,1.012,0.905,0.987,0.836,0.857,1.019,0.861,0.808,0.853,0.93,0.828,0.849,0.851,0.893,1.013,0.83,0.818,0.99,0.806,0.84,0.758,0.782,0.762,0.817,0.813,0.788,0.976,0.826,0.886,0.814,0.797,0.783,0.805,0.774,0.881,0.803,0.788,0.741,0.821,0.793,0.778,0.721,0.804,0.868,0.81,0.844,0.761,0.77,0.8,0.717,0.856,0.772,0.816,0.829,0.831,0.79,0.695,0.789,0.846,0.863,0.781,0.753,0.79,0.714,0.747,0.82,0.8,0.789,0.744,0.807,0.932,0.681,0.842,0.714,0.744,0.834,0.741,0.791,0.9,0.771,0.844,0.73,0.755,0.732,0.72,0.743,0.666,0.814,0.765,0.811,0.826,0.931,0.835,0.762,0.713,0.809,0.842,0.674,0.858,0.79,0.761,0.818,0.715,0.87,0.824,0.78,0.797,0.818,0.712,0.68,0.711,0.738,0.819,0.808,0.755,0.758,0.779,0.717,0.858,0.915,0.741,0.731,0.755,0.825,0.724,0.819,0.746,0.786,0.749,0.775,0.842,0.888,0.79,0.798,0.779,0.769,0.839,0.864,0.713,0.77,0.774,0.783,0.787,0.718,0.783,0.712,0.762,0.813,0.718,0.921,0.606,0.655,0.721,0.764,0.747,0.746,0.695,0.775,0.783,0.692,0.612,0.725,0.768,0.731,0.84,0.858,0.802,0.784,0.801,0.796,0.789,0.777,0.733,0.747,0.877,0.756,0.666,0.71,0.667,0.705,0.805,0.696,0.722,0.695,0.696,0.696,0.667,0.745,0.742,0.645,0.693,0.729,0.703,0.829,0.776,0.685,0.769,0.813,0.706,0.692,0.682,0.863,0.635,0.755,0.685,0.787,0.725,0.796,0.646,0.744,0.76,0.746,0.793,0.717,0.7,0.73,0.716,0.809,0.84,0.628,0.861,0.666,0.68,0.689,0.637,0.593,0.72,0.723,0.734,0.687,0.712,0.711,0.678,0.692,0.705,0.599,0.719,0.713,0.717,0.678,0.593,0.598,0.71,0.75,0.781,0.688,0.801,0.729,0.676,0.654,0.685,0.715,0.762,0.664,0.689,0.659,0.647,0.62,0.673,0.803,0.691,0.614,0.828,0.647,0.735,0.741,0.692,0.727,0.593,0.873,1.008,0.739,0.638,0.677,0.622,0.644,0.748,0.847,0.711,0.587,0.653,0.607,0.731,0.747,0.653,0.675,0.66,0.631,0.642,0.672,0.635,0.545,0.662,0.657,0.657,0.618,0.552,0.624,0.69,0.613,0.562,0.631,0.65,0.646,0.699,0.912,0.646,0.726,0.823,0.712,0.65,0.611,0.723,0.683,0.633,0.571,0.579,0.585,0.764,0.598,0.665,0.688,0.682,0.655,0.574,0.712,0.651,0.641,1.058,0.62,0.571,0.681,0.71,0.662,0.607,0.71,0.625,0.658,0.674,0.524,0.612,0.654,0.58,0.748,0.546,0.76,0.55,0.807,0.55,0.776,1.056,0.654,0.582,0.663,0.675,0.644,0.616,0.98,0.661,0.734,0.681,0.663,0.528,0.634,0.635,0.686,0.654,0.675,0.672,0.7,0.641,0.507,0.631,0.57,0.703,0.666,0.494,0.742,0.519,0.706,0.652,0.491,0.638,0.775,0.692,0.556,0.585,0.729,0.725,0.801,0.633,0.75,0.822,0.699,0.531,0.566,0.761,0.678,0.541,0.675,0.601,0.725,0.612,0.556,0.472,0.565,0.566,0.655,0.612,0.785,0.636,0.571,0.715,0.578,0.862,0.56,0.571,0.708,0.641,0.608,0.627,0.498,0.713,0.724,0.539,0.622,0.685,0.74,0.637,0.573,0.558,0.631,0.858,0.644,0.733,0.791,0.628,0.619,0.662,0.551,0.616,0.503,0.554,0.61,0.565,0.748,0.612,0.731,0.647,0.663,0.688,0.661,0.643,0.644,0.677,0.58,0.622,0.736,0.539,0.666,0.678,0.519,0.716,0.771,0.461,0.77,0.53,1.302,0.703,0.548,0.554,0.467,0.497,0.546,0.72,0.503,0.812,0.582,0.541,0.587,0.555,0.397,0.604,0.553,0.631,0.941,0.589,0.885,0.75,0.556,0.57,0.666,0.632,1.4,0.615,0.705,0.437,0.461,0.379,0.726,0.689,0.485,0.614,0.281,0.459,0.742,0.632,0.575,0.609,0.668,0.675,0.509,0.839,0.668,0.56,0.644,0.452,0.613,0.611,0.75,0.647,0.537,0.682,0.615,0.45,0.732,0.597,0.557,0.528,0.685,1.379,1.0,0.567,0.545,0.253,null,0.091,null,0.258,0.444,null,0.0,null,0.0,0.528,null,0.642,0.49,null,null,null,0.49,0.438,null,null,null,0.522,null,0.701,0.472,0.49,0.0,null,null,null,null,null,1.167,null,0.433,null,null,0.31,0.176,2.0,0.655,0.157,null,null,1.067,null,0.2,0.333,0.663,0.0,null,null,0.594,0.635,0.545,null,null,0.0,0.322,0.467,null,null,null,null,null,null,null,null,null,0.659,0.494,null,null,0.167,0.0,0.438,0.56,null,null,0.699,null,0.413,null,0.76,0.553,0.411,null,0.398,0.323,null,null,null,null,null,null,0.573,null,0.0,null,null,0.519,null,0.308,null,0.222,null,0.53,null,0.335,null,null,0.381,0.399,null,0.803,0.0,1.5,0.641,0.598,0.459,0.833,null,null,0.591,null,null,null,0.0,null,0.524,0.578,0.7,null,0.0,0.2,null,null,0.442,null,null,null,0.0,null,null,null,0.278,0.401,0.0,0.393,0.448,0.32,0.375,null,0.3,0.427,null,1.125,0.369,null,null,0.293,null,null,0.66,0.4,0.75,0.6,null,null,null,null,null,null,0.619,null,0.366,0.269,null,null,null,0.0,0.55,null,null,0.0,0.304,null,0.0,0.167,null,0.435,null,null,null,0.639,null,null,0.735,0.25,0.466,0.218,null,null,0.546,0.584,0.52,null,0.657,0.313,1.1,0.56,null,null,0.25,0.548,0.623,0.0,null,0.307,null,0.105,0.518,null,null,null,0.658],\"xaxis\":\"x\",\"y\":[null,54.0,47.0,46.0,44.0,41.0,40.0,39.0,39.0,38.0,37.0,37.0,36.0,36.0,35.0,34.0,33.0,33.0,33.0,33.0,33.0,32.0,31.0,31.0,31.0,31.0,30.0,30.0,30.0,30.0,29.0,29.0,29.0,29.0,28.0,28.0,28.0,27.0,26.0,26.0,26.0,26.0,26.0,26.0,26.0,26.0,25.0,25.0,25.0,25.0,25.0,25.0,25.0,25.0,24.0,24.0,24.0,24.0,24.0,24.0,24.0,24.0,23.0,23.0,23.0,23.0,23.0,23.0,23.0,23.0,23.0,23.0,23.0,22.0,22.0,22.0,22.0,22.0,22.0,22.0,21.0,21.0,21.0,21.0,21.0,21.0,21.0,21.0,21.0,21.0,21.0,21.0,20.0,20.0,20.0,20.0,20.0,20.0,20.0,20.0,20.0,20.0,20.0,19.0,19.0,19.0,19.0,19.0,19.0,19.0,19.0,19.0,19.0,18.0,18.0,18.0,18.0,18.0,18.0,18.0,18.0,18.0,18.0,18.0,17.0,17.0,17.0,17.0,17.0,17.0,17.0,17.0,17.0,17.0,17.0,17.0,17.0,17.0,16.0,16.0,16.0,16.0,16.0,16.0,16.0,16.0,16.0,16.0,15.0,15.0,15.0,15.0,15.0,15.0,15.0,15.0,15.0,15.0,15.0,15.0,15.0,15.0,15.0,15.0,14.0,14.0,14.0,14.0,14.0,14.0,14.0,14.0,14.0,14.0,14.0,14.0,14.0,14.0,14.0,14.0,14.0,13.0,13.0,13.0,13.0,13.0,13.0,13.0,13.0,13.0,13.0,13.0,13.0,13.0,13.0,12.0,12.0,12.0,12.0,12.0,12.0,12.0,12.0,12.0,12.0,11.0,11.0,11.0,11.0,11.0,11.0,11.0,11.0,11.0,11.0,11.0,11.0,11.0,11.0,11.0,11.0,11.0,11.0,11.0,10.0,10.0,10.0,10.0,10.0,10.0,10.0,10.0,10.0,10.0,10.0,10.0,10.0,10.0,10.0,10.0,10.0,10.0,10.0,10.0,9.0,9.0,9.0,9.0,9.0,9.0,9.0,9.0,9.0,9.0,9.0,9.0,9.0,9.0,9.0,9.0,9.0,9.0,9.0,9.0,8.0,8.0,8.0,8.0,8.0,8.0,8.0,8.0,8.0,8.0,8.0,8.0,8.0,8.0,8.0,7.0,7.0,7.0,7.0,7.0,7.0,7.0,7.0,7.0,7.0,7.0,7.0,7.0,7.0,7.0,7.0,7.0,7.0,6.0,6.0,6.0,6.0,6.0,6.0,6.0,6.0,6.0,6.0,6.0,6.0,6.0,6.0,6.0,6.0,6.0,6.0,6.0,6.0,6.0,6.0,6.0,6.0,6.0,6.0,6.0,6.0,5.0,5.0,5.0,5.0,5.0,5.0,5.0,5.0,5.0,5.0,5.0,5.0,5.0,5.0,5.0,5.0,5.0,5.0,5.0,5.0,5.0,5.0,5.0,5.0,5.0,5.0,5.0,4.0,4.0,4.0,4.0,4.0,4.0,4.0,4.0,4.0,4.0,4.0,4.0,4.0,4.0,4.0,4.0,4.0,4.0,4.0,4.0,4.0,4.0,4.0,4.0,4.0,4.0,4.0,4.0,4.0,4.0,4.0,4.0,3.0,3.0,3.0,3.0,3.0,3.0,3.0,3.0,3.0,3.0,3.0,3.0,3.0,3.0,3.0,3.0,3.0,3.0,3.0,3.0,3.0,3.0,3.0,3.0,3.0,3.0,3.0,3.0,3.0,3.0,3.0,3.0,3.0,3.0,3.0,2.0,2.0,2.0,2.0,2.0,2.0,2.0,2.0,2.0,2.0,2.0,2.0,2.0,2.0,2.0,2.0,2.0,2.0,2.0,2.0,2.0,2.0,2.0,2.0,2.0,2.0,2.0,2.0,2.0,2.0,2.0,2.0,2.0,2.0,2.0,2.0,2.0,2.0,2.0,2.0,2.0,2.0,2.0,2.0,2.0,2.0,2.0,2.0,2.0,2.0,2.0,2.0,2.0,2.0,2.0,2.0,2.0,2.0,2.0,2.0,2.0,1.0,1.0,1.0,1.0,1.0,1.0,1.0,1.0,1.0,1.0,1.0,1.0,1.0,1.0,1.0,1.0,1.0,1.0,1.0,1.0,1.0,1.0,1.0,1.0,1.0,1.0,1.0,1.0,1.0,1.0,1.0,1.0,1.0,1.0,1.0,1.0,1.0,1.0,1.0,1.0,1.0,1.0,1.0,1.0,1.0,1.0,1.0,1.0,1.0,1.0,1.0,1.0,1.0,1.0,1.0,1.0,1.0,1.0,1.0,0.0,0.0,0.0,0.0,0.0,0.0,0.0,0.0,0.0,0.0,0.0,0.0,0.0,0.0,0.0,0.0,0.0,0.0,0.0,0.0,0.0,0.0,0.0,0.0,0.0,0.0,0.0,0.0,0.0,0.0,0.0,0.0,0.0,0.0,0.0,0.0,0.0,0.0,0.0,0.0,0.0,0.0,0.0,0.0,0.0,0.0,0.0,0.0,0.0,0.0,0.0,0.0,0.0,0.0,0.0,0.0,0.0,0.0,0.0,0.0,0.0,0.0,0.0,0.0,0.0,0.0,0.0,0.0,0.0,0.0,0.0,0.0,0.0,0.0,0.0,0.0,0.0,0.0,0.0,0.0,0.0,0.0,0.0,0.0,0.0,0.0,0.0,0.0,0.0,0.0,0.0,0.0,0.0,0.0,0.0,0.0,0.0,0.0,0.0,0.0,0.0,0.0,0.0,0.0,0.0,0.0,0.0,0.0,0.0,0.0,0.0,0.0,0.0,0.0,0.0,0.0,0.0,0.0,0.0,0.0,0.0,0.0,0.0,0.0,0.0,0.0,0.0,0.0,0.0,0.0,0.0,0.0,0.0,0.0,0.0,0.0,0.0,0.0,0.0,0.0,0.0,0.0,0.0,0.0,0.0,0.0,0.0,0.0,0.0,0.0,0.0,0.0,0.0,0.0,0.0,0.0,0.0,0.0,0.0,0.0,0.0,0.0,0.0,0.0,0.0,0.0,0.0,0.0,0.0,0.0,0.0,0.0,0.0,0.0,0.0,0.0,0.0,0.0,0.0,0.0,0.0,0.0,0.0,0.0,0.0,0.0,0.0,0.0,0.0,0.0,0.0,0.0,0.0,0.0,0.0,0.0,0.0,0.0,0.0,0.0,0.0,0.0,0.0,0.0,0.0,0.0,0.0,0.0,0.0,0.0,0.0,0.0,0.0,0.0,0.0,0.0,0.0,0.0,0.0,0.0,0.0,0.0,0.0,0.0,0.0,0.0,0.0],\"yaxis\":\"y\",\"type\":\"scatter\"},{\"hovertemplate\":\"\\u003cb\\u003eOLS trendline\\u003c\\u002fb\\u003e\\u003cbr\\u003eHR = 24.2737 * OPS + -7.15762\\u003cbr\\u003eR\\u003csup\\u003e2\\u003c\\u002fsup\\u003e=0.252631\\u003cbr\\u003e\\u003cbr\\u003eOPS=%{x}\\u003cbr\\u003eHR=%{y} \\u003cb\\u003e(trend)\\u003c\\u002fb\\u003e\\u003cextra\\u003e\\u003c\\u002fextra\\u003e\",\"legendgroup\":\"\",\"marker\":{\"color\":\"#636efa\",\"symbol\":\"circle\"},\"mode\":\"lines\",\"name\":\"\",\"showlegend\":false,\"x\":[0.0,0.0,0.0,0.0,0.0,0.0,0.0,0.0,0.0,0.0,0.0,0.0,0.0,0.0,0.0,0.0,0.091,0.105,0.157,0.167,0.167,0.176,0.2,0.2,0.218,0.222,0.25,0.25,0.253,0.258,0.269,0.278,0.281,0.293,0.3,0.304,0.307,0.308,0.31,0.313,0.32,0.322,0.323,0.333,0.335,0.366,0.369,0.375,0.379,0.381,0.393,0.397,0.398,0.399,0.4,0.401,0.411,0.413,0.427,0.433,0.435,0.437,0.438,0.438,0.442,0.444,0.448,0.45,0.452,0.459,0.459,0.461,0.461,0.466,0.467,0.467,0.472,0.472,0.485,0.49,0.49,0.49,0.491,0.494,0.494,0.497,0.498,0.503,0.503,0.507,0.509,0.518,0.519,0.519,0.519,0.52,0.522,0.524,0.524,0.528,0.528,0.528,0.53,0.53,0.531,0.537,0.539,0.539,0.541,0.541,0.545,0.545,0.545,0.546,0.546,0.546,0.548,0.548,0.55,0.55,0.55,0.551,0.552,0.553,0.553,0.554,0.554,0.555,0.556,0.556,0.556,0.557,0.558,0.56,0.56,0.56,0.56,0.562,0.565,0.565,0.566,0.566,0.567,0.57,0.57,0.571,0.571,0.571,0.571,0.573,0.573,0.574,0.575,0.578,0.578,0.579,0.58,0.58,0.582,0.582,0.584,0.585,0.585,0.587,0.587,0.589,0.591,0.593,0.593,0.593,0.594,0.597,0.598,0.598,0.598,0.599,0.6,0.601,0.604,0.606,0.607,0.607,0.608,0.609,0.61,0.611,0.611,0.612,0.612,0.612,0.612,0.612,0.613,0.613,0.614,0.614,0.615,0.615,0.616,0.616,0.618,0.619,0.619,0.62,0.62,0.622,0.622,0.622,0.623,0.624,0.625,0.627,0.628,0.628,0.631,0.631,0.631,0.631,0.631,0.632,0.632,0.633,0.633,0.634,0.635,0.635,0.635,0.635,0.636,0.637,0.637,0.638,0.638,0.639,0.641,0.641,0.641,0.641,0.642,0.642,0.643,0.644,0.644,0.644,0.644,0.644,0.645,0.646,0.646,0.646,0.647,0.647,0.647,0.647,0.65,0.65,0.651,0.652,0.653,0.653,0.654,0.654,0.654,0.654,0.655,0.655,0.655,0.655,0.657,0.657,0.657,0.658,0.658,0.659,0.659,0.66,0.66,0.661,0.661,0.662,0.662,0.662,0.663,0.663,0.663,0.663,0.664,0.665,0.666,0.666,0.666,0.666,0.666,0.666,0.667,0.667,0.668,0.668,0.672,0.672,0.673,0.674,0.674,0.675,0.675,0.675,0.675,0.675,0.676,0.677,0.677,0.678,0.678,0.678,0.678,0.68,0.68,0.681,0.681,0.681,0.682,0.682,0.682,0.683,0.685,0.685,0.685,0.685,0.685,0.686,0.687,0.688,0.688,0.688,0.689,0.689,0.689,0.69,0.691,0.692,0.692,0.692,0.692,0.692,0.693,0.695,0.695,0.695,0.696,0.696,0.696,0.699,0.699,0.699,0.7,0.7,0.7,0.701,0.703,0.703,0.703,0.705,0.705,0.705,0.706,0.706,0.708,0.71,0.71,0.71,0.71,0.711,0.711,0.711,0.712,0.712,0.712,0.712,0.712,0.713,0.713,0.713,0.713,0.714,0.714,0.715,0.715,0.715,0.716,0.716,0.717,0.717,0.717,0.717,0.718,0.718,0.719,0.72,0.72,0.72,0.721,0.721,0.722,0.723,0.723,0.724,0.724,0.725,0.725,0.725,0.725,0.726,0.726,0.727,0.729,0.729,0.729,0.73,0.73,0.731,0.731,0.731,0.731,0.732,0.732,0.733,0.733,0.734,0.734,0.735,0.735,0.736,0.738,0.739,0.74,0.741,0.741,0.741,0.741,0.742,0.742,0.742,0.743,0.744,0.744,0.744,0.745,0.746,0.746,0.746,0.747,0.747,0.747,0.747,0.748,0.748,0.748,0.749,0.75,0.75,0.75,0.75,0.75,0.753,0.755,0.755,0.755,0.755,0.756,0.758,0.758,0.76,0.76,0.76,0.761,0.761,0.761,0.762,0.762,0.762,0.762,0.764,0.764,0.765,0.768,0.769,0.769,0.77,0.77,0.77,0.771,0.771,0.772,0.774,0.774,0.775,0.775,0.775,0.776,0.776,0.777,0.778,0.779,0.779,0.78,0.781,0.781,0.782,0.783,0.783,0.783,0.783,0.784,0.785,0.786,0.787,0.787,0.788,0.788,0.789,0.789,0.789,0.79,0.79,0.79,0.79,0.791,0.791,0.793,0.793,0.796,0.796,0.797,0.797,0.798,0.8,0.8,0.801,0.801,0.801,0.802,0.803,0.803,0.803,0.804,0.805,0.805,0.806,0.807,0.807,0.808,0.808,0.809,0.809,0.81,0.811,0.812,0.813,0.813,0.813,0.814,0.814,0.816,0.817,0.817,0.818,0.818,0.818,0.819,0.819,0.82,0.821,0.821,0.822,0.823,0.824,0.825,0.826,0.826,0.828,0.828,0.829,0.829,0.83,0.831,0.833,0.834,0.835,0.836,0.839,0.839,0.84,0.84,0.84,0.842,0.842,0.842,0.844,0.844,0.846,0.847,0.849,0.851,0.853,0.856,0.857,0.858,0.858,0.858,0.858,0.861,0.861,0.862,0.863,0.863,0.864,0.868,0.87,0.873,0.877,0.881,0.885,0.886,0.888,0.893,0.9,0.905,0.912,0.915,0.921,0.93,0.931,0.932,0.941,0.976,0.98,0.987,0.99,0.993,1.0,1.008,1.012,1.013,1.019,1.056,1.058,1.066,1.067,1.1,1.125,1.167,1.302,1.379,1.4,1.5,2.0],\"xaxis\":\"x\",\"y\":[-7.157622750778258,-7.157622750778258,-7.157622750778258,-7.157622750778258,-7.157622750778258,-7.157622750778258,-7.157622750778258,-7.157622750778258,-7.157622750778258,-7.157622750778258,-7.157622750778258,-7.157622750778258,-7.157622750778258,-7.157622750778258,-7.157622750778258,-7.157622750778258,-4.948711804612646,-4.608879351356398,-3.3466445249760484,-3.1039070583644426,-3.1039070583644426,-2.8854433384139977,-2.3028734185461435,-2.3028734185461435,-1.8659459786452537,-1.768850992000611,-1.089186085488115,-1.089186085488115,-1.0163648455046328,-0.8949961121988306,-0.6279848989260639,-0.4095211789756181,-0.3366999389921368,-0.04541497905821057,0.12450124756991343,0.2215962342145561,0.29441747419803743,0.3186912208591979,0.36723871418151965,0.440059954165001,0.609976180793125,0.6585236741154468,0.6827974207766072,0.9255348873882125,0.9740823807105334,1.7265685272065108,1.799389767189992,1.9450322471569566,2.0421272338015983,2.090674727123921,2.381959687057848,2.47905467370249,2.5033284203636503,2.5276021670248108,2.551875913685971,2.5761496603471317,2.818887126958736,2.867434620281057,3.207267073537307,3.3529095535042694,3.4014570468265903,3.4500045401489112,3.4742782868100734,3.4742782868100734,3.5713732734547152,3.619920766777036,3.717015753421678,3.7655632467440006,3.8141107400663214,3.9840269666944446,3.9840269666944446,4.0325744600167654,4.0325744600167654,4.1539431933225694,4.17821693998373,4.17821693998373,4.299585673289532,4.299585673289532,4.61514437988462,4.736513113190422,4.736513113190422,4.736513113190422,4.760786859851582,4.833608099835064,4.833608099835064,4.906429339818547,4.930703086479707,5.0520718197855095,5.0520718197855095,5.149166806430153,5.197714299752474,5.41617801970292,5.44045176636408,5.44045176636408,5.44045176636408,5.464725513025241,5.5132730063475615,5.561820499669882,5.561820499669882,5.658915486314524,5.658915486314524,5.658915486314524,5.707462979636847,5.707462979636847,5.731736726298007,5.87737920626497,5.925926699587291,5.925926699587291,5.974474192909612,5.974474192909612,6.071569179554255,6.071569179554255,6.071569179554255,6.095842926215416,6.095842926215416,6.095842926215416,6.144390419537737,6.144390419537737,6.1929379128600575,6.1929379128600575,6.1929379128600575,6.217211659521218,6.241485406182378,6.265759152843539,6.265759152843539,6.290032899504701,6.290032899504701,6.3143066461658615,6.338580392827022,6.338580392827022,6.338580392827022,6.362854139488182,6.387127886149343,6.435675379471664,6.435675379471664,6.435675379471664,6.435675379471664,6.484222872793985,6.557044112777464,6.557044112777464,6.581317859438625,6.581317859438625,6.605591606099785,6.678412846083266,6.678412846083266,6.702686592744427,6.702686592744427,6.702686592744427,6.702686592744427,6.7512340860667495,6.7512340860667495,6.77550783272791,6.79978157938907,6.872602819372552,6.872602819372552,6.896876566033712,6.921150312694873,6.921150312694873,6.9696978060171935,6.9696978060171935,7.018245299339516,7.042519046000677,7.042519046000677,7.0910665393229975,7.0910665393229975,7.139614032645318,7.188161525967639,7.23670901928996,7.23670901928996,7.23670901928996,7.260982765951121,7.333804005934604,7.358077752595764,7.358077752595764,7.358077752595764,7.382351499256925,7.406625245918085,7.4308989925792455,7.503720232562727,7.552267725885048,7.576541472546208,7.576541472546208,7.60081521920737,7.625088965868531,7.649362712529691,7.673636459190852,7.673636459190852,7.697910205852012,7.697910205852012,7.697910205852012,7.697910205852012,7.697910205852012,7.722183952513173,7.722183952513173,7.746457699174333,7.746457699174333,7.7707314458354935,7.7707314458354935,7.795005192496654,7.795005192496654,7.843552685818975,7.867826432480135,7.867826432480135,7.8921001791412975,7.8921001791412975,7.940647672463618,7.940647672463618,7.940647672463618,7.964921419124779,7.989195165785939,8.013468912447099,8.06201640576942,8.086290152430582,8.086290152430582,8.159111392414065,8.159111392414065,8.159111392414065,8.159111392414065,8.159111392414065,8.183385139075224,8.183385139075224,8.207658885736386,8.207658885736386,8.231932632397545,8.256206379058707,8.256206379058707,8.256206379058707,8.256206379058707,8.280480125719865,8.304753872381028,8.304753872381028,8.329027619042186,8.329027619042186,8.353301365703349,8.40184885902567,8.40184885902567,8.40184885902567,8.40184885902567,8.426122605686828,8.426122605686828,8.45039635234799,8.474670099009153,8.474670099009153,8.474670099009153,8.474670099009153,8.474670099009153,8.498943845670311,8.523217592331473,8.523217592331473,8.523217592331473,8.547491338992632,8.547491338992632,8.547491338992632,8.547491338992632,8.620312578976115,8.620312578976115,8.644586325637274,8.668860072298436,8.693133818959595,8.693133818959595,8.717407565620757,8.717407565620757,8.717407565620757,8.717407565620757,8.74168131228192,8.74168131228192,8.74168131228192,8.74168131228192,8.79022880560424,8.79022880560424,8.79022880560424,8.814502552265399,8.814502552265399,8.838776298926561,8.838776298926561,8.86305004558772,8.86305004558772,8.887323792248882,8.887323792248882,8.91159753891004,8.91159753891004,8.91159753891004,8.935871285571203,8.935871285571203,8.935871285571203,8.935871285571203,8.960145032232361,8.984418778893524,9.008692525554682,9.008692525554682,9.008692525554682,9.008692525554682,9.008692525554682,9.008692525554682,9.032966272215845,9.032966272215845,9.057240018877003,9.057240018877003,9.154335005521645,9.154335005521645,9.178608752182807,9.20288249884397,9.20288249884397,9.227156245505128,9.227156245505128,9.227156245505128,9.227156245505128,9.227156245505128,9.25142999216629,9.275703738827449,9.275703738827449,9.299977485488611,9.299977485488611,9.299977485488611,9.299977485488611,9.348524978810932,9.348524978810932,9.37279872547209,9.37279872547209,9.37279872547209,9.397072472133253,9.397072472133253,9.397072472133253,9.421346218794412,9.469893712116736,9.469893712116736,9.469893712116736,9.469893712116736,9.469893712116736,9.494167458777895,9.518441205439057,9.542714952100212,9.542714952100212,9.542714952100212,9.566988698761374,9.566988698761374,9.566988698761374,9.591262445422533,9.615536192083695,9.639809938744857,9.639809938744857,9.639809938744857,9.639809938744857,9.639809938744857,9.664083685406016,9.712631178728337,9.712631178728337,9.712631178728337,9.7369049253895,9.7369049253895,9.7369049253895,9.809726165372979,9.809726165372979,9.809726165372979,9.833999912034141,9.833999912034141,9.833999912034141,9.8582736586953,9.906821152017624,9.906821152017624,9.906821152017624,9.955368645339945,9.955368645339945,9.955368645339945,9.979642392001104,9.979642392001104,10.028189885323425,10.076737378645745,10.076737378645745,10.076737378645745,10.076737378645745,10.101011125306908,10.101011125306908,10.101011125306908,10.125284871968066,10.125284871968066,10.125284871968066,10.125284871968066,10.125284871968066,10.149558618629229,10.149558618629229,10.149558618629229,10.149558618629229,10.173832365290387,10.173832365290387,10.19810611195155,10.19810611195155,10.19810611195155,10.222379858612712,10.222379858612712,10.24665360527387,10.24665360527387,10.24665360527387,10.24665360527387,10.270927351935033,10.270927351935033,10.295201098596191,10.319474845257353,10.319474845257353,10.319474845257353,10.343748591918512,10.343748591918512,10.368022338579674,10.392296085240833,10.392296085240833,10.416569831901995,10.416569831901995,10.440843578563154,10.440843578563154,10.440843578563154,10.440843578563154,10.465117325224316,10.465117325224316,10.489391071885478,10.5379385652078,10.5379385652078,10.5379385652078,10.562212311868958,10.562212311868958,10.58648605853012,10.58648605853012,10.58648605853012,10.58648605853012,10.610759805191279,10.610759805191279,10.635033551852441,10.635033551852441,10.6593072985136,10.6593072985136,10.683581045174762,10.683581045174762,10.70785479183592,10.756402285158241,10.780676031819404,10.804949778480566,10.829223525141725,10.829223525141725,10.829223525141725,10.829223525141725,10.853497271802887,10.853497271802887,10.853497271802887,10.877771018464045,10.902044765125208,10.902044765125208,10.902044765125208,10.926318511786366,10.950592258447529,10.950592258447529,10.950592258447529,10.974866005108687,10.974866005108687,10.974866005108687,10.974866005108687,10.99913975176985,10.99913975176985,10.99913975176985,11.023413498431008,11.04768724509217,11.04768724509217,11.04768724509217,11.04768724509217,11.04768724509217,11.120508485075653,11.169055978397974,11.169055978397974,11.169055978397974,11.169055978397974,11.193329725059133,11.241877218381454,11.241877218381454,11.290424711703775,11.290424711703775,11.290424711703775,11.314698458364937,11.314698458364937,11.314698458364937,11.3389722050261,11.3389722050261,11.3389722050261,11.3389722050261,11.38751969834842,11.38751969834842,11.411793445009579,11.484614684993062,11.50888843165422,11.50888843165422,11.533162178315383,11.533162178315383,11.533162178315383,11.557435924976541,11.557435924976541,11.581709671637704,11.630257164960025,11.630257164960025,11.654530911621187,11.654530911621187,11.654530911621187,11.678804658282345,11.678804658282345,11.703078404943508,11.727352151604666,11.751625898265829,11.751625898265829,11.775899644926987,11.80017339158815,11.80017339158815,11.824447138249308,11.84872088491047,11.84872088491047,11.84872088491047,11.84872088491047,11.872994631571629,11.897268378232791,11.921542124893953,11.945815871555112,11.945815871555112,11.970089618216274,11.970089618216274,11.994363364877433,11.994363364877433,11.994363364877433,12.018637111538595,12.018637111538595,12.018637111538595,12.018637111538595,12.042910858199754,12.042910858199754,12.091458351522075,12.091458351522075,12.164279591505558,12.164279591505558,12.188553338166717,12.188553338166717,12.212827084827879,12.2613745781502,12.2613745781502,12.285648324811362,12.285648324811362,12.285648324811362,12.30992207147252,12.334195818133683,12.334195818133683,12.334195818133683,12.358469564794841,12.382743311456004,12.382743311456004,12.407017058117162,12.431290804778325,12.431290804778325,12.455564551439483,12.455564551439483,12.479838298100645,12.479838298100645,12.504112044761808,12.528385791422966,12.552659538084129,12.576933284745284,12.576933284745284,12.576933284745284,12.601207031406446,12.601207031406446,12.649754524728767,12.674028271389929,12.674028271389929,12.698302018051088,12.698302018051088,12.698302018051088,12.72257576471225,12.72257576471225,12.746849511373409,12.77112325803457,12.77112325803457,12.79539700469573,12.819670751356892,12.84394449801805,12.868218244679213,12.892491991340371,12.892491991340371,12.941039484662696,12.941039484662696,12.965313231323854,12.965313231323854,12.989586977985017,13.013860724646175,13.062408217968496,13.086681964629658,13.110955711290817,13.13522945795198,13.208050697935459,13.208050697935459,13.232324444596621,13.232324444596621,13.232324444596621,13.280871937918942,13.280871937918942,13.280871937918942,13.329419431241263,13.329419431241263,13.377966924563584,13.402240671224746,13.450788164547067,13.499335657869388,13.547883151191709,13.620704391175192,13.64497813783635,13.669251884497513,13.669251884497513,13.669251884497513,13.669251884497513,13.742073124480992,13.742073124480992,13.766346871142154,13.790620617803313,13.790620617803313,13.814894364464475,13.911989351109117,13.960536844431438,14.033358084414921,14.130453071059563,14.227548057704205,14.324643044348846,14.348916791010009,14.39746428433233,14.518833017638133,14.688749244266258,14.810117977572059,14.980034204200184,15.052855444183667,15.19849792415063,15.416961644101075,15.441235390762234,15.465509137423396,15.683972857373838,16.53355399051446,16.6306489771591,16.800565203787226,16.87338644377071,16.94620768375419,17.116123910382314,17.310313883671597,17.407408870316242,17.431682616977398,17.577325096944364,18.475453723407306,18.524001216729626,18.718191190018914,18.742464936680072,19.543498576498372,20.150342243027385,21.16983960279613,24.446795402052807,26.315873894962174,26.82562257484654,29.2529972409626,41.389870571542886],\"yaxis\":\"y\",\"type\":\"scatter\"}],                        {\"template\":{\"data\":{\"histogram2dcontour\":[{\"type\":\"histogram2dcontour\",\"colorbar\":{\"outlinewidth\":0,\"ticks\":\"\"},\"colorscale\":[[0.0,\"#0d0887\"],[0.1111111111111111,\"#46039f\"],[0.2222222222222222,\"#7201a8\"],[0.3333333333333333,\"#9c179e\"],[0.4444444444444444,\"#bd3786\"],[0.5555555555555556,\"#d8576b\"],[0.6666666666666666,\"#ed7953\"],[0.7777777777777778,\"#fb9f3a\"],[0.8888888888888888,\"#fdca26\"],[1.0,\"#f0f921\"]]}],\"choropleth\":[{\"type\":\"choropleth\",\"colorbar\":{\"outlinewidth\":0,\"ticks\":\"\"}}],\"histogram2d\":[{\"type\":\"histogram2d\",\"colorbar\":{\"outlinewidth\":0,\"ticks\":\"\"},\"colorscale\":[[0.0,\"#0d0887\"],[0.1111111111111111,\"#46039f\"],[0.2222222222222222,\"#7201a8\"],[0.3333333333333333,\"#9c179e\"],[0.4444444444444444,\"#bd3786\"],[0.5555555555555556,\"#d8576b\"],[0.6666666666666666,\"#ed7953\"],[0.7777777777777778,\"#fb9f3a\"],[0.8888888888888888,\"#fdca26\"],[1.0,\"#f0f921\"]]}],\"heatmap\":[{\"type\":\"heatmap\",\"colorbar\":{\"outlinewidth\":0,\"ticks\":\"\"},\"colorscale\":[[0.0,\"#0d0887\"],[0.1111111111111111,\"#46039f\"],[0.2222222222222222,\"#7201a8\"],[0.3333333333333333,\"#9c179e\"],[0.4444444444444444,\"#bd3786\"],[0.5555555555555556,\"#d8576b\"],[0.6666666666666666,\"#ed7953\"],[0.7777777777777778,\"#fb9f3a\"],[0.8888888888888888,\"#fdca26\"],[1.0,\"#f0f921\"]]}],\"heatmapgl\":[{\"type\":\"heatmapgl\",\"colorbar\":{\"outlinewidth\":0,\"ticks\":\"\"},\"colorscale\":[[0.0,\"#0d0887\"],[0.1111111111111111,\"#46039f\"],[0.2222222222222222,\"#7201a8\"],[0.3333333333333333,\"#9c179e\"],[0.4444444444444444,\"#bd3786\"],[0.5555555555555556,\"#d8576b\"],[0.6666666666666666,\"#ed7953\"],[0.7777777777777778,\"#fb9f3a\"],[0.8888888888888888,\"#fdca26\"],[1.0,\"#f0f921\"]]}],\"contourcarpet\":[{\"type\":\"contourcarpet\",\"colorbar\":{\"outlinewidth\":0,\"ticks\":\"\"}}],\"contour\":[{\"type\":\"contour\",\"colorbar\":{\"outlinewidth\":0,\"ticks\":\"\"},\"colorscale\":[[0.0,\"#0d0887\"],[0.1111111111111111,\"#46039f\"],[0.2222222222222222,\"#7201a8\"],[0.3333333333333333,\"#9c179e\"],[0.4444444444444444,\"#bd3786\"],[0.5555555555555556,\"#d8576b\"],[0.6666666666666666,\"#ed7953\"],[0.7777777777777778,\"#fb9f3a\"],[0.8888888888888888,\"#fdca26\"],[1.0,\"#f0f921\"]]}],\"surface\":[{\"type\":\"surface\",\"colorbar\":{\"outlinewidth\":0,\"ticks\":\"\"},\"colorscale\":[[0.0,\"#0d0887\"],[0.1111111111111111,\"#46039f\"],[0.2222222222222222,\"#7201a8\"],[0.3333333333333333,\"#9c179e\"],[0.4444444444444444,\"#bd3786\"],[0.5555555555555556,\"#d8576b\"],[0.6666666666666666,\"#ed7953\"],[0.7777777777777778,\"#fb9f3a\"],[0.8888888888888888,\"#fdca26\"],[1.0,\"#f0f921\"]]}],\"mesh3d\":[{\"type\":\"mesh3d\",\"colorbar\":{\"outlinewidth\":0,\"ticks\":\"\"}}],\"scatter\":[{\"fillpattern\":{\"fillmode\":\"overlay\",\"size\":10,\"solidity\":0.2},\"type\":\"scatter\"}],\"parcoords\":[{\"type\":\"parcoords\",\"line\":{\"colorbar\":{\"outlinewidth\":0,\"ticks\":\"\"}}}],\"scatterpolargl\":[{\"type\":\"scatterpolargl\",\"marker\":{\"colorbar\":{\"outlinewidth\":0,\"ticks\":\"\"}}}],\"bar\":[{\"error_x\":{\"color\":\"#2a3f5f\"},\"error_y\":{\"color\":\"#2a3f5f\"},\"marker\":{\"line\":{\"color\":\"#E5ECF6\",\"width\":0.5},\"pattern\":{\"fillmode\":\"overlay\",\"size\":10,\"solidity\":0.2}},\"type\":\"bar\"}],\"scattergeo\":[{\"type\":\"scattergeo\",\"marker\":{\"colorbar\":{\"outlinewidth\":0,\"ticks\":\"\"}}}],\"scatterpolar\":[{\"type\":\"scatterpolar\",\"marker\":{\"colorbar\":{\"outlinewidth\":0,\"ticks\":\"\"}}}],\"histogram\":[{\"marker\":{\"pattern\":{\"fillmode\":\"overlay\",\"size\":10,\"solidity\":0.2}},\"type\":\"histogram\"}],\"scattergl\":[{\"type\":\"scattergl\",\"marker\":{\"colorbar\":{\"outlinewidth\":0,\"ticks\":\"\"}}}],\"scatter3d\":[{\"type\":\"scatter3d\",\"line\":{\"colorbar\":{\"outlinewidth\":0,\"ticks\":\"\"}},\"marker\":{\"colorbar\":{\"outlinewidth\":0,\"ticks\":\"\"}}}],\"scattermapbox\":[{\"type\":\"scattermapbox\",\"marker\":{\"colorbar\":{\"outlinewidth\":0,\"ticks\":\"\"}}}],\"scatterternary\":[{\"type\":\"scatterternary\",\"marker\":{\"colorbar\":{\"outlinewidth\":0,\"ticks\":\"\"}}}],\"scattercarpet\":[{\"type\":\"scattercarpet\",\"marker\":{\"colorbar\":{\"outlinewidth\":0,\"ticks\":\"\"}}}],\"carpet\":[{\"aaxis\":{\"endlinecolor\":\"#2a3f5f\",\"gridcolor\":\"white\",\"linecolor\":\"white\",\"minorgridcolor\":\"white\",\"startlinecolor\":\"#2a3f5f\"},\"baxis\":{\"endlinecolor\":\"#2a3f5f\",\"gridcolor\":\"white\",\"linecolor\":\"white\",\"minorgridcolor\":\"white\",\"startlinecolor\":\"#2a3f5f\"},\"type\":\"carpet\"}],\"table\":[{\"cells\":{\"fill\":{\"color\":\"#EBF0F8\"},\"line\":{\"color\":\"white\"}},\"header\":{\"fill\":{\"color\":\"#C8D4E3\"},\"line\":{\"color\":\"white\"}},\"type\":\"table\"}],\"barpolar\":[{\"marker\":{\"line\":{\"color\":\"#E5ECF6\",\"width\":0.5},\"pattern\":{\"fillmode\":\"overlay\",\"size\":10,\"solidity\":0.2}},\"type\":\"barpolar\"}],\"pie\":[{\"automargin\":true,\"type\":\"pie\"}]},\"layout\":{\"autotypenumbers\":\"strict\",\"colorway\":[\"#636efa\",\"#EF553B\",\"#00cc96\",\"#ab63fa\",\"#FFA15A\",\"#19d3f3\",\"#FF6692\",\"#B6E880\",\"#FF97FF\",\"#FECB52\"],\"font\":{\"color\":\"#2a3f5f\"},\"hovermode\":\"closest\",\"hoverlabel\":{\"align\":\"left\"},\"paper_bgcolor\":\"white\",\"plot_bgcolor\":\"#E5ECF6\",\"polar\":{\"bgcolor\":\"#E5ECF6\",\"angularaxis\":{\"gridcolor\":\"white\",\"linecolor\":\"white\",\"ticks\":\"\"},\"radialaxis\":{\"gridcolor\":\"white\",\"linecolor\":\"white\",\"ticks\":\"\"}},\"ternary\":{\"bgcolor\":\"#E5ECF6\",\"aaxis\":{\"gridcolor\":\"white\",\"linecolor\":\"white\",\"ticks\":\"\"},\"baxis\":{\"gridcolor\":\"white\",\"linecolor\":\"white\",\"ticks\":\"\"},\"caxis\":{\"gridcolor\":\"white\",\"linecolor\":\"white\",\"ticks\":\"\"}},\"coloraxis\":{\"colorbar\":{\"outlinewidth\":0,\"ticks\":\"\"}},\"colorscale\":{\"sequential\":[[0.0,\"#0d0887\"],[0.1111111111111111,\"#46039f\"],[0.2222222222222222,\"#7201a8\"],[0.3333333333333333,\"#9c179e\"],[0.4444444444444444,\"#bd3786\"],[0.5555555555555556,\"#d8576b\"],[0.6666666666666666,\"#ed7953\"],[0.7777777777777778,\"#fb9f3a\"],[0.8888888888888888,\"#fdca26\"],[1.0,\"#f0f921\"]],\"sequentialminus\":[[0.0,\"#0d0887\"],[0.1111111111111111,\"#46039f\"],[0.2222222222222222,\"#7201a8\"],[0.3333333333333333,\"#9c179e\"],[0.4444444444444444,\"#bd3786\"],[0.5555555555555556,\"#d8576b\"],[0.6666666666666666,\"#ed7953\"],[0.7777777777777778,\"#fb9f3a\"],[0.8888888888888888,\"#fdca26\"],[1.0,\"#f0f921\"]],\"diverging\":[[0,\"#8e0152\"],[0.1,\"#c51b7d\"],[0.2,\"#de77ae\"],[0.3,\"#f1b6da\"],[0.4,\"#fde0ef\"],[0.5,\"#f7f7f7\"],[0.6,\"#e6f5d0\"],[0.7,\"#b8e186\"],[0.8,\"#7fbc41\"],[0.9,\"#4d9221\"],[1,\"#276419\"]]},\"xaxis\":{\"gridcolor\":\"white\",\"linecolor\":\"white\",\"ticks\":\"\",\"title\":{\"standoff\":15},\"zerolinecolor\":\"white\",\"automargin\":true,\"zerolinewidth\":2},\"yaxis\":{\"gridcolor\":\"white\",\"linecolor\":\"white\",\"ticks\":\"\",\"title\":{\"standoff\":15},\"zerolinecolor\":\"white\",\"automargin\":true,\"zerolinewidth\":2},\"scene\":{\"xaxis\":{\"backgroundcolor\":\"#E5ECF6\",\"gridcolor\":\"white\",\"linecolor\":\"white\",\"showbackground\":true,\"ticks\":\"\",\"zerolinecolor\":\"white\",\"gridwidth\":2},\"yaxis\":{\"backgroundcolor\":\"#E5ECF6\",\"gridcolor\":\"white\",\"linecolor\":\"white\",\"showbackground\":true,\"ticks\":\"\",\"zerolinecolor\":\"white\",\"gridwidth\":2},\"zaxis\":{\"backgroundcolor\":\"#E5ECF6\",\"gridcolor\":\"white\",\"linecolor\":\"white\",\"showbackground\":true,\"ticks\":\"\",\"zerolinecolor\":\"white\",\"gridwidth\":2}},\"shapedefaults\":{\"line\":{\"color\":\"#2a3f5f\"}},\"annotationdefaults\":{\"arrowcolor\":\"#2a3f5f\",\"arrowhead\":0,\"arrowwidth\":1},\"geo\":{\"bgcolor\":\"white\",\"landcolor\":\"#E5ECF6\",\"subunitcolor\":\"white\",\"showland\":true,\"showlakes\":true,\"lakecolor\":\"white\"},\"title\":{\"x\":0.05},\"mapbox\":{\"style\":\"light\"}}},\"xaxis\":{\"anchor\":\"y\",\"domain\":[0.0,1.0],\"title\":{\"text\":\"OPS\"}},\"yaxis\":{\"anchor\":\"x\",\"domain\":[0.0,1.0],\"title\":{\"text\":\"HR\"}},\"legend\":{\"tracegroupgap\":0},\"title\":{\"text\":\"Homers versus On-base Plus Slugging\"}},                        {\"responsive\": true}                    ).then(function(){\n",
       "                            \n",
       "var gd = document.getElementById('7452401f-0215-4e77-a5ab-28d0a11cd10a');\n",
       "var x = new MutationObserver(function (mutations, observer) {{\n",
       "        var display = window.getComputedStyle(gd).display;\n",
       "        if (!display || display === 'none') {{\n",
       "            console.log([gd, 'removed!']);\n",
       "            Plotly.purge(gd);\n",
       "            observer.disconnect();\n",
       "        }}\n",
       "}});\n",
       "\n",
       "// Listen for the removal of the full notebook cells\n",
       "var notebookContainer = gd.closest('#notebook-container');\n",
       "if (notebookContainer) {{\n",
       "    x.observe(notebookContainer, {childList: true});\n",
       "}}\n",
       "\n",
       "// Listen for the clearing of the current output cell\n",
       "var outputEl = gd.closest('.output');\n",
       "if (outputEl) {{\n",
       "    x.observe(outputEl, {childList: true});\n",
       "}}\n",
       "\n",
       "                        })                };                });            </script>        </div>"
      ]
     },
     "metadata": {},
     "output_type": "display_data"
    }
   ],
   "source": [
    "px.scatter(dfb, x='OPS', y='HR', title='Homers versus On-base Plus Slugging',trendline=\"ols\")"
   ]
  },
  {
   "cell_type": "markdown",
   "metadata": {},
   "source": [
    "## Improving the predictions\n",
    "\n",
    "We notice on the far right, there are very few data points. These seem to come from players who actually did not play many games. \n",
    "\n",
    "So let's improve our data by removing players who have few Plate Apperances (PA)."
   ]
  },
  {
   "cell_type": "code",
   "execution_count": 35,
   "metadata": {
    "scrolled": true,
    "slideshow": {
     "slide_type": "slide"
    }
   },
   "outputs": [
    {
     "data": {
      "text/html": [
       "<div>\n",
       "<style scoped>\n",
       "    .dataframe tbody tr th:only-of-type {\n",
       "        vertical-align: middle;\n",
       "    }\n",
       "\n",
       "    .dataframe tbody tr th {\n",
       "        vertical-align: top;\n",
       "    }\n",
       "\n",
       "    .dataframe thead th {\n",
       "        text-align: right;\n",
       "    }\n",
       "</style>\n",
       "<table border=\"1\" class=\"dataframe\">\n",
       "  <thead>\n",
       "    <tr style=\"text-align: right;\">\n",
       "      <th></th>\n",
       "      <th>Rk</th>\n",
       "      <th>Player</th>\n",
       "      <th>HR</th>\n",
       "      <th>Season</th>\n",
       "      <th>Age</th>\n",
       "      <th>Team</th>\n",
       "      <th>Lg</th>\n",
       "      <th>G</th>\n",
       "      <th>PA</th>\n",
       "      <th>AB</th>\n",
       "      <th>...</th>\n",
       "      <th>OPS</th>\n",
       "      <th>OPS+</th>\n",
       "      <th>TB</th>\n",
       "      <th>GIDP</th>\n",
       "      <th>HBP</th>\n",
       "      <th>SH</th>\n",
       "      <th>SF</th>\n",
       "      <th>IBB</th>\n",
       "      <th>Pos</th>\n",
       "      <th>Player-additional</th>\n",
       "    </tr>\n",
       "  </thead>\n",
       "  <tbody>\n",
       "    <tr>\n",
       "      <th>1</th>\n",
       "      <td>1.0</td>\n",
       "      <td>Matt Olson</td>\n",
       "      <td>54.0</td>\n",
       "      <td>2023.0</td>\n",
       "      <td>29.0</td>\n",
       "      <td>ATL</td>\n",
       "      <td>NL</td>\n",
       "      <td>162.0</td>\n",
       "      <td>720.0</td>\n",
       "      <td>608.0</td>\n",
       "      <td>...</td>\n",
       "      <td>0.993</td>\n",
       "      <td>162.0</td>\n",
       "      <td>367.0</td>\n",
       "      <td>13.0</td>\n",
       "      <td>4.0</td>\n",
       "      <td>0.0</td>\n",
       "      <td>4.0</td>\n",
       "      <td>8.0</td>\n",
       "      <td>*3</td>\n",
       "      <td>olsonma02</td>\n",
       "    </tr>\n",
       "    <tr>\n",
       "      <th>2</th>\n",
       "      <td>2.0</td>\n",
       "      <td>Kyle Schwarber</td>\n",
       "      <td>47.0</td>\n",
       "      <td>2023.0</td>\n",
       "      <td>30.0</td>\n",
       "      <td>PHI</td>\n",
       "      <td>NL</td>\n",
       "      <td>160.0</td>\n",
       "      <td>720.0</td>\n",
       "      <td>585.0</td>\n",
       "      <td>...</td>\n",
       "      <td>0.817</td>\n",
       "      <td>122.0</td>\n",
       "      <td>277.0</td>\n",
       "      <td>4.0</td>\n",
       "      <td>6.0</td>\n",
       "      <td>0.0</td>\n",
       "      <td>3.0</td>\n",
       "      <td>5.0</td>\n",
       "      <td>7D</td>\n",
       "      <td>schwaky01</td>\n",
       "    </tr>\n",
       "    <tr>\n",
       "      <th>3</th>\n",
       "      <td>3.0</td>\n",
       "      <td>Pete Alonso</td>\n",
       "      <td>46.0</td>\n",
       "      <td>2023.0</td>\n",
       "      <td>28.0</td>\n",
       "      <td>NYM</td>\n",
       "      <td>NL</td>\n",
       "      <td>154.0</td>\n",
       "      <td>658.0</td>\n",
       "      <td>568.0</td>\n",
       "      <td>...</td>\n",
       "      <td>0.821</td>\n",
       "      <td>122.0</td>\n",
       "      <td>286.0</td>\n",
       "      <td>17.0</td>\n",
       "      <td>21.0</td>\n",
       "      <td>0.0</td>\n",
       "      <td>4.0</td>\n",
       "      <td>6.0</td>\n",
       "      <td>*3/D</td>\n",
       "      <td>alonspe01</td>\n",
       "    </tr>\n",
       "    <tr>\n",
       "      <th>4</th>\n",
       "      <td>4.0</td>\n",
       "      <td>Shohei Ohtani</td>\n",
       "      <td>44.0</td>\n",
       "      <td>2023.0</td>\n",
       "      <td>28.0</td>\n",
       "      <td>LAA</td>\n",
       "      <td>AL</td>\n",
       "      <td>135.0</td>\n",
       "      <td>599.0</td>\n",
       "      <td>497.0</td>\n",
       "      <td>...</td>\n",
       "      <td>1.066</td>\n",
       "      <td>184.0</td>\n",
       "      <td>325.0</td>\n",
       "      <td>9.0</td>\n",
       "      <td>3.0</td>\n",
       "      <td>0.0</td>\n",
       "      <td>3.0</td>\n",
       "      <td>21.0</td>\n",
       "      <td>*D1</td>\n",
       "      <td>ohtansh01</td>\n",
       "    </tr>\n",
       "    <tr>\n",
       "      <th>5</th>\n",
       "      <td>5.0</td>\n",
       "      <td>Ronald Acuña Jr.</td>\n",
       "      <td>41.0</td>\n",
       "      <td>2023.0</td>\n",
       "      <td>25.0</td>\n",
       "      <td>ATL</td>\n",
       "      <td>NL</td>\n",
       "      <td>159.0</td>\n",
       "      <td>735.0</td>\n",
       "      <td>643.0</td>\n",
       "      <td>...</td>\n",
       "      <td>1.012</td>\n",
       "      <td>168.0</td>\n",
       "      <td>383.0</td>\n",
       "      <td>15.0</td>\n",
       "      <td>9.0</td>\n",
       "      <td>0.0</td>\n",
       "      <td>3.0</td>\n",
       "      <td>3.0</td>\n",
       "      <td>*9/D</td>\n",
       "      <td>acunaro01</td>\n",
       "    </tr>\n",
       "    <tr>\n",
       "      <th>...</th>\n",
       "      <td>...</td>\n",
       "      <td>...</td>\n",
       "      <td>...</td>\n",
       "      <td>...</td>\n",
       "      <td>...</td>\n",
       "      <td>...</td>\n",
       "      <td>...</td>\n",
       "      <td>...</td>\n",
       "      <td>...</td>\n",
       "      <td>...</td>\n",
       "      <td>...</td>\n",
       "      <td>...</td>\n",
       "      <td>...</td>\n",
       "      <td>...</td>\n",
       "      <td>...</td>\n",
       "      <td>...</td>\n",
       "      <td>...</td>\n",
       "      <td>...</td>\n",
       "      <td>...</td>\n",
       "      <td>...</td>\n",
       "      <td>...</td>\n",
       "    </tr>\n",
       "    <tr>\n",
       "      <th>327</th>\n",
       "      <td>327.0</td>\n",
       "      <td>Andrew Benintendi</td>\n",
       "      <td>5.0</td>\n",
       "      <td>2023.0</td>\n",
       "      <td>28.0</td>\n",
       "      <td>CHW</td>\n",
       "      <td>AL</td>\n",
       "      <td>151.0</td>\n",
       "      <td>621.0</td>\n",
       "      <td>562.0</td>\n",
       "      <td>...</td>\n",
       "      <td>0.682</td>\n",
       "      <td>87.0</td>\n",
       "      <td>200.0</td>\n",
       "      <td>12.0</td>\n",
       "      <td>3.0</td>\n",
       "      <td>1.0</td>\n",
       "      <td>3.0</td>\n",
       "      <td>5.0</td>\n",
       "      <td>*7/HD</td>\n",
       "      <td>beninan01</td>\n",
       "    </tr>\n",
       "    <tr>\n",
       "      <th>340</th>\n",
       "      <td>340.0</td>\n",
       "      <td>Steven Kwan</td>\n",
       "      <td>5.0</td>\n",
       "      <td>2023.0</td>\n",
       "      <td>25.0</td>\n",
       "      <td>CLE</td>\n",
       "      <td>AL</td>\n",
       "      <td>158.0</td>\n",
       "      <td>718.0</td>\n",
       "      <td>638.0</td>\n",
       "      <td>...</td>\n",
       "      <td>0.710</td>\n",
       "      <td>100.0</td>\n",
       "      <td>236.0</td>\n",
       "      <td>9.0</td>\n",
       "      <td>3.0</td>\n",
       "      <td>1.0</td>\n",
       "      <td>6.0</td>\n",
       "      <td>2.0</td>\n",
       "      <td>*7/DH</td>\n",
       "      <td>kwanst01</td>\n",
       "    </tr>\n",
       "    <tr>\n",
       "      <th>365</th>\n",
       "      <td>365.0</td>\n",
       "      <td>Maikel García</td>\n",
       "      <td>4.0</td>\n",
       "      <td>2023.0</td>\n",
       "      <td>23.0</td>\n",
       "      <td>KCR</td>\n",
       "      <td>AL</td>\n",
       "      <td>123.0</td>\n",
       "      <td>515.0</td>\n",
       "      <td>464.0</td>\n",
       "      <td>...</td>\n",
       "      <td>0.681</td>\n",
       "      <td>88.0</td>\n",
       "      <td>166.0</td>\n",
       "      <td>9.0</td>\n",
       "      <td>2.0</td>\n",
       "      <td>1.0</td>\n",
       "      <td>10.0</td>\n",
       "      <td>0.0</td>\n",
       "      <td>56/D4H</td>\n",
       "      <td>garcima01</td>\n",
       "    </tr>\n",
       "    <tr>\n",
       "      <th>482</th>\n",
       "      <td>482.0</td>\n",
       "      <td>Tim Anderson</td>\n",
       "      <td>1.0</td>\n",
       "      <td>2023.0</td>\n",
       "      <td>30.0</td>\n",
       "      <td>CHW</td>\n",
       "      <td>AL</td>\n",
       "      <td>123.0</td>\n",
       "      <td>524.0</td>\n",
       "      <td>493.0</td>\n",
       "      <td>...</td>\n",
       "      <td>0.582</td>\n",
       "      <td>60.0</td>\n",
       "      <td>146.0</td>\n",
       "      <td>15.0</td>\n",
       "      <td>3.0</td>\n",
       "      <td>0.0</td>\n",
       "      <td>2.0</td>\n",
       "      <td>0.0</td>\n",
       "      <td>*6/H4</td>\n",
       "      <td>anderti01</td>\n",
       "    </tr>\n",
       "    <tr>\n",
       "      <th>531</th>\n",
       "      <td>531.0</td>\n",
       "      <td>Myles Straw</td>\n",
       "      <td>1.0</td>\n",
       "      <td>2023.0</td>\n",
       "      <td>28.0</td>\n",
       "      <td>CLE</td>\n",
       "      <td>AL</td>\n",
       "      <td>147.0</td>\n",
       "      <td>518.0</td>\n",
       "      <td>462.0</td>\n",
       "      <td>...</td>\n",
       "      <td>0.597</td>\n",
       "      <td>69.0</td>\n",
       "      <td>137.0</td>\n",
       "      <td>10.0</td>\n",
       "      <td>2.0</td>\n",
       "      <td>6.0</td>\n",
       "      <td>6.0</td>\n",
       "      <td>0.0</td>\n",
       "      <td>*8/H</td>\n",
       "      <td>strawmy01</td>\n",
       "    </tr>\n",
       "  </tbody>\n",
       "</table>\n",
       "<p>136 rows × 34 columns</p>\n",
       "</div>"
      ],
      "text/plain": [
       "        Rk             Player    HR  Season   Age Team  Lg      G     PA  \\\n",
       "1      1.0         Matt Olson  54.0  2023.0  29.0  ATL  NL  162.0  720.0   \n",
       "2      2.0     Kyle Schwarber  47.0  2023.0  30.0  PHI  NL  160.0  720.0   \n",
       "3      3.0        Pete Alonso  46.0  2023.0  28.0  NYM  NL  154.0  658.0   \n",
       "4      4.0      Shohei Ohtani  44.0  2023.0  28.0  LAA  AL  135.0  599.0   \n",
       "5      5.0   Ronald Acuña Jr.  41.0  2023.0  25.0  ATL  NL  159.0  735.0   \n",
       "..     ...                ...   ...     ...   ...  ...  ..    ...    ...   \n",
       "327  327.0  Andrew Benintendi   5.0  2023.0  28.0  CHW  AL  151.0  621.0   \n",
       "340  340.0        Steven Kwan   5.0  2023.0  25.0  CLE  AL  158.0  718.0   \n",
       "365  365.0      Maikel García   4.0  2023.0  23.0  KCR  AL  123.0  515.0   \n",
       "482  482.0       Tim Anderson   1.0  2023.0  30.0  CHW  AL  123.0  524.0   \n",
       "531  531.0        Myles Straw   1.0  2023.0  28.0  CLE  AL  147.0  518.0   \n",
       "\n",
       "        AB  ...    OPS   OPS+     TB  GIDP   HBP   SH    SF   IBB     Pos  \\\n",
       "1    608.0  ...  0.993  162.0  367.0  13.0   4.0  0.0   4.0   8.0      *3   \n",
       "2    585.0  ...  0.817  122.0  277.0   4.0   6.0  0.0   3.0   5.0      7D   \n",
       "3    568.0  ...  0.821  122.0  286.0  17.0  21.0  0.0   4.0   6.0    *3/D   \n",
       "4    497.0  ...  1.066  184.0  325.0   9.0   3.0  0.0   3.0  21.0     *D1   \n",
       "5    643.0  ...  1.012  168.0  383.0  15.0   9.0  0.0   3.0   3.0    *9/D   \n",
       "..     ...  ...    ...    ...    ...   ...   ...  ...   ...   ...     ...   \n",
       "327  562.0  ...  0.682   87.0  200.0  12.0   3.0  1.0   3.0   5.0   *7/HD   \n",
       "340  638.0  ...  0.710  100.0  236.0   9.0   3.0  1.0   6.0   2.0   *7/DH   \n",
       "365  464.0  ...  0.681   88.0  166.0   9.0   2.0  1.0  10.0   0.0  56/D4H   \n",
       "482  493.0  ...  0.582   60.0  146.0  15.0   3.0  0.0   2.0   0.0   *6/H4   \n",
       "531  462.0  ...  0.597   69.0  137.0  10.0   2.0  6.0   6.0   0.0    *8/H   \n",
       "\n",
       "     Player-additional  \n",
       "1            olsonma02  \n",
       "2            schwaky01  \n",
       "3            alonspe01  \n",
       "4            ohtansh01  \n",
       "5            acunaro01  \n",
       "..                 ...  \n",
       "327          beninan01  \n",
       "340           kwanst01  \n",
       "365          garcima01  \n",
       "482          anderti01  \n",
       "531          strawmy01  \n",
       "\n",
       "[136 rows x 34 columns]"
      ]
     },
     "execution_count": 35,
     "metadata": {},
     "output_type": "execute_result"
    }
   ],
   "source": [
    "dfc=dfb.loc[dfb[\"PA\"] > 500]\n",
    "dfc"
   ]
  },
  {
   "cell_type": "code",
   "execution_count": 24,
   "metadata": {},
   "outputs": [
    {
     "data": {
      "application/vnd.plotly.v1+json": {
       "config": {
        "plotlyServerURL": "https://plot.ly"
       },
       "data": [
        {
         "hovertemplate": "BA=%{x}<br>HR=%{y}<extra></extra>",
         "legendgroup": "",
         "marker": {
          "color": "#636efa",
          "symbol": "circle"
         },
         "mode": "markers",
         "name": "",
         "orientation": "v",
         "showlegend": false,
         "type": "scatter",
         "x": [
          0.283,
          0.197,
          0.217,
          0.304,
          0.337,
          0.274,
          0.307,
          0.245,
          0.264,
          0.281,
          0.212,
          0.25,
          0.275,
          0.25,
          0.28,
          0.271,
          0.327,
          0.258,
          0.275,
          0.254,
          0.25,
          0.233,
          0.258,
          0.232,
          0.246,
          0.276,
          0.272,
          0.331,
          0.276,
          0.284,
          0.255,
          0.257,
          0.268,
          0.266,
          0.307,
          0.262,
          0.264,
          0.258,
          0.224,
          0.266,
          0.262,
          0.285,
          0.268,
          0.276,
          0.257,
          0.273,
          0.217,
          0.263,
          0.261,
          0.274,
          0.282,
          0.263,
          0.254,
          0.266,
          0.24,
          0.248,
          0.255,
          0.24,
          0.271,
          0.276,
          0.247,
          0.251,
          0.33,
          0.232,
          0.244,
          0.248,
          0.293,
          0.255,
          0.258,
          0.258,
          0.209,
          0.306,
          0.274,
          0.292,
          0.252,
          0.233,
          0.277,
          0.285,
          0.22,
          0.285,
          0.266,
          0.257,
          0.261,
          0.278,
          0.245,
          0.237,
          0.23,
          0.248,
          0.279,
          0.293,
          0.258,
          0.26,
          0.264,
          0.24,
          0.289,
          0.244,
          0.26,
          0.262,
          0.256,
          0.275,
          0.235,
          0.251,
          0.271,
          0.243,
          0.28,
          0.253,
          0.289,
          0.267,
          0.271,
          0.261,
          0.266,
          0.198,
          0.248,
          0.275,
          0.243,
          0.264,
          0.25,
          0.254,
          0.262,
          0.237,
          0.272,
          0.354,
          0.229,
          0.27,
          0.263,
          0.261,
          0.222,
          0.283,
          0.231,
          0.242,
          0.263,
          0.262,
          0.268,
          0.272,
          0.245,
          0.238
         ],
         "xaxis": "x",
         "y": [
          54,
          47,
          46,
          44,
          41,
          40,
          39,
          39,
          38,
          37,
          36,
          36,
          35,
          34,
          33,
          33,
          33,
          33,
          32,
          31,
          31,
          31,
          30,
          30,
          30,
          30,
          29,
          29,
          29,
          29,
          28,
          28,
          28,
          26,
          26,
          26,
          26,
          26,
          26,
          26,
          25,
          25,
          25,
          25,
          25,
          25,
          24,
          24,
          24,
          24,
          24,
          24,
          23,
          23,
          23,
          23,
          23,
          23,
          23,
          23,
          22,
          22,
          22,
          22,
          22,
          21,
          21,
          21,
          21,
          21,
          21,
          20,
          20,
          20,
          20,
          20,
          20,
          20,
          20,
          19,
          19,
          19,
          19,
          19,
          18,
          18,
          18,
          18,
          18,
          18,
          18,
          18,
          17,
          17,
          17,
          17,
          17,
          17,
          17,
          16,
          16,
          15,
          15,
          15,
          15,
          15,
          15,
          14,
          14,
          14,
          14,
          13,
          13,
          13,
          13,
          13,
          12,
          12,
          11,
          11,
          11,
          10,
          10,
          10,
          10,
          10,
          9,
          9,
          9,
          9,
          6,
          5,
          5,
          4,
          1,
          1
         ],
         "yaxis": "y"
        },
        {
         "hovertemplate": "<b>OLS trendline</b><br>HR = 40.4942 * BA + 11.1953<br>R<sup>2</sup>=0.011648<br><br>BA=%{x}<br>HR=%{y} <b>(trend)</b><extra></extra>",
         "legendgroup": "",
         "marker": {
          "color": "#636efa",
          "symbol": "circle"
         },
         "mode": "lines",
         "name": "",
         "showlegend": false,
         "type": "scatter",
         "x": [
          0.197,
          0.198,
          0.209,
          0.212,
          0.217,
          0.217,
          0.22,
          0.222,
          0.224,
          0.229,
          0.23,
          0.231,
          0.232,
          0.232,
          0.233,
          0.233,
          0.235,
          0.237,
          0.237,
          0.238,
          0.24,
          0.24,
          0.24,
          0.242,
          0.243,
          0.243,
          0.244,
          0.244,
          0.245,
          0.245,
          0.245,
          0.246,
          0.247,
          0.248,
          0.248,
          0.248,
          0.248,
          0.25,
          0.25,
          0.25,
          0.25,
          0.251,
          0.251,
          0.252,
          0.253,
          0.254,
          0.254,
          0.254,
          0.255,
          0.255,
          0.255,
          0.256,
          0.257,
          0.257,
          0.257,
          0.258,
          0.258,
          0.258,
          0.258,
          0.258,
          0.258,
          0.26,
          0.26,
          0.261,
          0.261,
          0.261,
          0.261,
          0.262,
          0.262,
          0.262,
          0.262,
          0.262,
          0.263,
          0.263,
          0.263,
          0.263,
          0.264,
          0.264,
          0.264,
          0.264,
          0.266,
          0.266,
          0.266,
          0.266,
          0.266,
          0.267,
          0.268,
          0.268,
          0.268,
          0.27,
          0.271,
          0.271,
          0.271,
          0.271,
          0.272,
          0.272,
          0.272,
          0.273,
          0.274,
          0.274,
          0.274,
          0.275,
          0.275,
          0.275,
          0.275,
          0.276,
          0.276,
          0.276,
          0.276,
          0.277,
          0.278,
          0.279,
          0.28,
          0.28,
          0.281,
          0.282,
          0.283,
          0.283,
          0.284,
          0.285,
          0.285,
          0.285,
          0.289,
          0.289,
          0.292,
          0.293,
          0.293,
          0.304,
          0.306,
          0.307,
          0.307,
          0.327,
          0.33,
          0.331,
          0.337,
          0.354
         ],
         "xaxis": "x",
         "y": [
          19.172622648757695,
          19.213116851925548,
          19.65855308677191,
          19.780035696275462,
          19.982506712114716,
          19.982506712114716,
          20.10398932161827,
          20.18497772795397,
          20.265966134289673,
          20.468437150128928,
          20.50893135329678,
          20.54942555646463,
          20.58991975963248,
          20.58991975963248,
          20.630413962800333,
          20.630413962800333,
          20.71140236913603,
          20.792390775471738,
          20.792390775471738,
          20.832884978639584,
          20.91387338497529,
          20.91387338497529,
          20.91387338497529,
          20.99486179131099,
          21.03535599447884,
          21.03535599447884,
          21.075850197646695,
          21.075850197646695,
          21.116344400814544,
          21.116344400814544,
          21.116344400814544,
          21.156838603982393,
          21.197332807150246,
          21.237827010318096,
          21.237827010318096,
          21.237827010318096,
          21.237827010318096,
          21.3188154166538,
          21.3188154166538,
          21.3188154166538,
          21.3188154166538,
          21.35930961982165,
          21.35930961982165,
          21.3998038229895,
          21.44029802615735,
          21.480792229325203,
          21.480792229325203,
          21.480792229325203,
          21.521286432493053,
          21.521286432493053,
          21.521286432493053,
          21.561780635660902,
          21.602274838828755,
          21.602274838828755,
          21.602274838828755,
          21.64276904199661,
          21.64276904199661,
          21.64276904199661,
          21.64276904199661,
          21.64276904199661,
          21.64276904199661,
          21.723757448332307,
          21.723757448332307,
          21.76425165150016,
          21.76425165150016,
          21.76425165150016,
          21.76425165150016,
          21.804745854668013,
          21.804745854668013,
          21.804745854668013,
          21.804745854668013,
          21.804745854668013,
          21.84524005783586,
          21.84524005783586,
          21.84524005783586,
          21.84524005783586,
          21.885734261003712,
          21.885734261003712,
          21.885734261003712,
          21.885734261003712,
          21.966722667339415,
          21.966722667339415,
          21.966722667339415,
          21.966722667339415,
          21.966722667339415,
          22.007216870507264,
          22.047711073675117,
          22.047711073675117,
          22.047711073675117,
          22.12869948001082,
          22.16919368317867,
          22.16919368317867,
          22.16919368317867,
          22.16919368317867,
          22.209687886346522,
          22.209687886346522,
          22.209687886346522,
          22.25018208951437,
          22.29067629268222,
          22.29067629268222,
          22.29067629268222,
          22.331170495850074,
          22.331170495850074,
          22.331170495850074,
          22.331170495850074,
          22.371664699017927,
          22.371664699017927,
          22.371664699017927,
          22.371664699017927,
          22.412158902185777,
          22.452653105353626,
          22.49314730852148,
          22.53364151168933,
          22.53364151168933,
          22.574135714857178,
          22.61462991802503,
          22.65512412119288,
          22.65512412119288,
          22.69561832436073,
          22.736112527528583,
          22.736112527528583,
          22.736112527528583,
          22.898089340199988,
          22.898089340199988,
          23.01957194970354,
          23.06006615287139,
          23.06006615287139,
          23.50550238771775,
          23.586490794053454,
          23.626984997221307,
          23.626984997221307,
          24.436869060578324,
          24.558351670081876,
          24.59884587324973,
          24.841811092256833,
          25.5302125461103
         ],
         "yaxis": "y"
        }
       ],
       "layout": {
        "autosize": true,
        "legend": {
         "tracegroupgap": 0
        },
        "template": {
         "data": {
          "bar": [
           {
            "error_x": {
             "color": "#2a3f5f"
            },
            "error_y": {
             "color": "#2a3f5f"
            },
            "marker": {
             "line": {
              "color": "#E5ECF6",
              "width": 0.5
             },
             "pattern": {
              "fillmode": "overlay",
              "size": 10,
              "solidity": 0.2
             }
            },
            "type": "bar"
           }
          ],
          "barpolar": [
           {
            "marker": {
             "line": {
              "color": "#E5ECF6",
              "width": 0.5
             },
             "pattern": {
              "fillmode": "overlay",
              "size": 10,
              "solidity": 0.2
             }
            },
            "type": "barpolar"
           }
          ],
          "carpet": [
           {
            "aaxis": {
             "endlinecolor": "#2a3f5f",
             "gridcolor": "white",
             "linecolor": "white",
             "minorgridcolor": "white",
             "startlinecolor": "#2a3f5f"
            },
            "baxis": {
             "endlinecolor": "#2a3f5f",
             "gridcolor": "white",
             "linecolor": "white",
             "minorgridcolor": "white",
             "startlinecolor": "#2a3f5f"
            },
            "type": "carpet"
           }
          ],
          "choropleth": [
           {
            "colorbar": {
             "outlinewidth": 0,
             "ticks": ""
            },
            "type": "choropleth"
           }
          ],
          "contour": [
           {
            "colorbar": {
             "outlinewidth": 0,
             "ticks": ""
            },
            "colorscale": [
             [
              0,
              "#0d0887"
             ],
             [
              0.1111111111111111,
              "#46039f"
             ],
             [
              0.2222222222222222,
              "#7201a8"
             ],
             [
              0.3333333333333333,
              "#9c179e"
             ],
             [
              0.4444444444444444,
              "#bd3786"
             ],
             [
              0.5555555555555556,
              "#d8576b"
             ],
             [
              0.6666666666666666,
              "#ed7953"
             ],
             [
              0.7777777777777778,
              "#fb9f3a"
             ],
             [
              0.8888888888888888,
              "#fdca26"
             ],
             [
              1,
              "#f0f921"
             ]
            ],
            "type": "contour"
           }
          ],
          "contourcarpet": [
           {
            "colorbar": {
             "outlinewidth": 0,
             "ticks": ""
            },
            "type": "contourcarpet"
           }
          ],
          "heatmap": [
           {
            "colorbar": {
             "outlinewidth": 0,
             "ticks": ""
            },
            "colorscale": [
             [
              0,
              "#0d0887"
             ],
             [
              0.1111111111111111,
              "#46039f"
             ],
             [
              0.2222222222222222,
              "#7201a8"
             ],
             [
              0.3333333333333333,
              "#9c179e"
             ],
             [
              0.4444444444444444,
              "#bd3786"
             ],
             [
              0.5555555555555556,
              "#d8576b"
             ],
             [
              0.6666666666666666,
              "#ed7953"
             ],
             [
              0.7777777777777778,
              "#fb9f3a"
             ],
             [
              0.8888888888888888,
              "#fdca26"
             ],
             [
              1,
              "#f0f921"
             ]
            ],
            "type": "heatmap"
           }
          ],
          "heatmapgl": [
           {
            "colorbar": {
             "outlinewidth": 0,
             "ticks": ""
            },
            "colorscale": [
             [
              0,
              "#0d0887"
             ],
             [
              0.1111111111111111,
              "#46039f"
             ],
             [
              0.2222222222222222,
              "#7201a8"
             ],
             [
              0.3333333333333333,
              "#9c179e"
             ],
             [
              0.4444444444444444,
              "#bd3786"
             ],
             [
              0.5555555555555556,
              "#d8576b"
             ],
             [
              0.6666666666666666,
              "#ed7953"
             ],
             [
              0.7777777777777778,
              "#fb9f3a"
             ],
             [
              0.8888888888888888,
              "#fdca26"
             ],
             [
              1,
              "#f0f921"
             ]
            ],
            "type": "heatmapgl"
           }
          ],
          "histogram": [
           {
            "marker": {
             "pattern": {
              "fillmode": "overlay",
              "size": 10,
              "solidity": 0.2
             }
            },
            "type": "histogram"
           }
          ],
          "histogram2d": [
           {
            "colorbar": {
             "outlinewidth": 0,
             "ticks": ""
            },
            "colorscale": [
             [
              0,
              "#0d0887"
             ],
             [
              0.1111111111111111,
              "#46039f"
             ],
             [
              0.2222222222222222,
              "#7201a8"
             ],
             [
              0.3333333333333333,
              "#9c179e"
             ],
             [
              0.4444444444444444,
              "#bd3786"
             ],
             [
              0.5555555555555556,
              "#d8576b"
             ],
             [
              0.6666666666666666,
              "#ed7953"
             ],
             [
              0.7777777777777778,
              "#fb9f3a"
             ],
             [
              0.8888888888888888,
              "#fdca26"
             ],
             [
              1,
              "#f0f921"
             ]
            ],
            "type": "histogram2d"
           }
          ],
          "histogram2dcontour": [
           {
            "colorbar": {
             "outlinewidth": 0,
             "ticks": ""
            },
            "colorscale": [
             [
              0,
              "#0d0887"
             ],
             [
              0.1111111111111111,
              "#46039f"
             ],
             [
              0.2222222222222222,
              "#7201a8"
             ],
             [
              0.3333333333333333,
              "#9c179e"
             ],
             [
              0.4444444444444444,
              "#bd3786"
             ],
             [
              0.5555555555555556,
              "#d8576b"
             ],
             [
              0.6666666666666666,
              "#ed7953"
             ],
             [
              0.7777777777777778,
              "#fb9f3a"
             ],
             [
              0.8888888888888888,
              "#fdca26"
             ],
             [
              1,
              "#f0f921"
             ]
            ],
            "type": "histogram2dcontour"
           }
          ],
          "mesh3d": [
           {
            "colorbar": {
             "outlinewidth": 0,
             "ticks": ""
            },
            "type": "mesh3d"
           }
          ],
          "parcoords": [
           {
            "line": {
             "colorbar": {
              "outlinewidth": 0,
              "ticks": ""
             }
            },
            "type": "parcoords"
           }
          ],
          "pie": [
           {
            "automargin": true,
            "type": "pie"
           }
          ],
          "scatter": [
           {
            "fillpattern": {
             "fillmode": "overlay",
             "size": 10,
             "solidity": 0.2
            },
            "type": "scatter"
           }
          ],
          "scatter3d": [
           {
            "line": {
             "colorbar": {
              "outlinewidth": 0,
              "ticks": ""
             }
            },
            "marker": {
             "colorbar": {
              "outlinewidth": 0,
              "ticks": ""
             }
            },
            "type": "scatter3d"
           }
          ],
          "scattercarpet": [
           {
            "marker": {
             "colorbar": {
              "outlinewidth": 0,
              "ticks": ""
             }
            },
            "type": "scattercarpet"
           }
          ],
          "scattergeo": [
           {
            "marker": {
             "colorbar": {
              "outlinewidth": 0,
              "ticks": ""
             }
            },
            "type": "scattergeo"
           }
          ],
          "scattergl": [
           {
            "marker": {
             "colorbar": {
              "outlinewidth": 0,
              "ticks": ""
             }
            },
            "type": "scattergl"
           }
          ],
          "scattermapbox": [
           {
            "marker": {
             "colorbar": {
              "outlinewidth": 0,
              "ticks": ""
             }
            },
            "type": "scattermapbox"
           }
          ],
          "scatterpolar": [
           {
            "marker": {
             "colorbar": {
              "outlinewidth": 0,
              "ticks": ""
             }
            },
            "type": "scatterpolar"
           }
          ],
          "scatterpolargl": [
           {
            "marker": {
             "colorbar": {
              "outlinewidth": 0,
              "ticks": ""
             }
            },
            "type": "scatterpolargl"
           }
          ],
          "scatterternary": [
           {
            "marker": {
             "colorbar": {
              "outlinewidth": 0,
              "ticks": ""
             }
            },
            "type": "scatterternary"
           }
          ],
          "surface": [
           {
            "colorbar": {
             "outlinewidth": 0,
             "ticks": ""
            },
            "colorscale": [
             [
              0,
              "#0d0887"
             ],
             [
              0.1111111111111111,
              "#46039f"
             ],
             [
              0.2222222222222222,
              "#7201a8"
             ],
             [
              0.3333333333333333,
              "#9c179e"
             ],
             [
              0.4444444444444444,
              "#bd3786"
             ],
             [
              0.5555555555555556,
              "#d8576b"
             ],
             [
              0.6666666666666666,
              "#ed7953"
             ],
             [
              0.7777777777777778,
              "#fb9f3a"
             ],
             [
              0.8888888888888888,
              "#fdca26"
             ],
             [
              1,
              "#f0f921"
             ]
            ],
            "type": "surface"
           }
          ],
          "table": [
           {
            "cells": {
             "fill": {
              "color": "#EBF0F8"
             },
             "line": {
              "color": "white"
             }
            },
            "header": {
             "fill": {
              "color": "#C8D4E3"
             },
             "line": {
              "color": "white"
             }
            },
            "type": "table"
           }
          ]
         },
         "layout": {
          "annotationdefaults": {
           "arrowcolor": "#2a3f5f",
           "arrowhead": 0,
           "arrowwidth": 1
          },
          "autotypenumbers": "strict",
          "coloraxis": {
           "colorbar": {
            "outlinewidth": 0,
            "ticks": ""
           }
          },
          "colorscale": {
           "diverging": [
            [
             0,
             "#8e0152"
            ],
            [
             0.1,
             "#c51b7d"
            ],
            [
             0.2,
             "#de77ae"
            ],
            [
             0.3,
             "#f1b6da"
            ],
            [
             0.4,
             "#fde0ef"
            ],
            [
             0.5,
             "#f7f7f7"
            ],
            [
             0.6,
             "#e6f5d0"
            ],
            [
             0.7,
             "#b8e186"
            ],
            [
             0.8,
             "#7fbc41"
            ],
            [
             0.9,
             "#4d9221"
            ],
            [
             1,
             "#276419"
            ]
           ],
           "sequential": [
            [
             0,
             "#0d0887"
            ],
            [
             0.1111111111111111,
             "#46039f"
            ],
            [
             0.2222222222222222,
             "#7201a8"
            ],
            [
             0.3333333333333333,
             "#9c179e"
            ],
            [
             0.4444444444444444,
             "#bd3786"
            ],
            [
             0.5555555555555556,
             "#d8576b"
            ],
            [
             0.6666666666666666,
             "#ed7953"
            ],
            [
             0.7777777777777778,
             "#fb9f3a"
            ],
            [
             0.8888888888888888,
             "#fdca26"
            ],
            [
             1,
             "#f0f921"
            ]
           ],
           "sequentialminus": [
            [
             0,
             "#0d0887"
            ],
            [
             0.1111111111111111,
             "#46039f"
            ],
            [
             0.2222222222222222,
             "#7201a8"
            ],
            [
             0.3333333333333333,
             "#9c179e"
            ],
            [
             0.4444444444444444,
             "#bd3786"
            ],
            [
             0.5555555555555556,
             "#d8576b"
            ],
            [
             0.6666666666666666,
             "#ed7953"
            ],
            [
             0.7777777777777778,
             "#fb9f3a"
            ],
            [
             0.8888888888888888,
             "#fdca26"
            ],
            [
             1,
             "#f0f921"
            ]
           ]
          },
          "colorway": [
           "#636efa",
           "#EF553B",
           "#00cc96",
           "#ab63fa",
           "#FFA15A",
           "#19d3f3",
           "#FF6692",
           "#B6E880",
           "#FF97FF",
           "#FECB52"
          ],
          "font": {
           "color": "#2a3f5f"
          },
          "geo": {
           "bgcolor": "white",
           "lakecolor": "white",
           "landcolor": "#E5ECF6",
           "showlakes": true,
           "showland": true,
           "subunitcolor": "white"
          },
          "hoverlabel": {
           "align": "left"
          },
          "hovermode": "closest",
          "mapbox": {
           "style": "light"
          },
          "paper_bgcolor": "white",
          "plot_bgcolor": "#E5ECF6",
          "polar": {
           "angularaxis": {
            "gridcolor": "white",
            "linecolor": "white",
            "ticks": ""
           },
           "bgcolor": "#E5ECF6",
           "radialaxis": {
            "gridcolor": "white",
            "linecolor": "white",
            "ticks": ""
           }
          },
          "scene": {
           "xaxis": {
            "backgroundcolor": "#E5ECF6",
            "gridcolor": "white",
            "gridwidth": 2,
            "linecolor": "white",
            "showbackground": true,
            "ticks": "",
            "zerolinecolor": "white"
           },
           "yaxis": {
            "backgroundcolor": "#E5ECF6",
            "gridcolor": "white",
            "gridwidth": 2,
            "linecolor": "white",
            "showbackground": true,
            "ticks": "",
            "zerolinecolor": "white"
           },
           "zaxis": {
            "backgroundcolor": "#E5ECF6",
            "gridcolor": "white",
            "gridwidth": 2,
            "linecolor": "white",
            "showbackground": true,
            "ticks": "",
            "zerolinecolor": "white"
           }
          },
          "shapedefaults": {
           "line": {
            "color": "#2a3f5f"
           }
          },
          "ternary": {
           "aaxis": {
            "gridcolor": "white",
            "linecolor": "white",
            "ticks": ""
           },
           "baxis": {
            "gridcolor": "white",
            "linecolor": "white",
            "ticks": ""
           },
           "bgcolor": "#E5ECF6",
           "caxis": {
            "gridcolor": "white",
            "linecolor": "white",
            "ticks": ""
           }
          },
          "title": {
           "x": 0.05
          },
          "xaxis": {
           "automargin": true,
           "gridcolor": "white",
           "linecolor": "white",
           "ticks": "",
           "title": {
            "standoff": 15
           },
           "zerolinecolor": "white",
           "zerolinewidth": 2
          },
          "yaxis": {
           "automargin": true,
           "gridcolor": "white",
           "linecolor": "white",
           "ticks": "",
           "title": {
            "standoff": 15
           },
           "zerolinecolor": "white",
           "zerolinewidth": 2
          }
         }
        },
        "title": {
         "text": "Homers versus Batting Average (Small data)"
        },
        "xaxis": {
         "anchor": "y",
         "autorange": true,
         "domain": [
          0,
          1
         ],
         "range": [
          0.18751240201240202,
          0.36348759798759794
         ],
         "title": {
          "text": "BA"
         },
         "type": "linear"
        },
        "yaxis": {
         "anchor": "x",
         "autorange": true,
         "domain": [
          0,
          1
         ],
         "range": [
          -3.37378640776699,
          58.37378640776699
         ],
         "title": {
          "text": "HR"
         },
         "type": "linear"
        }
       }
      },
      "image/png": "[encoded data removed]",
      "text/html": [
       "<div>                            <div id=\"2e061566-d84f-4bc0-9add-de64dd8a7e58\" class=\"plotly-graph-div\" style=\"height:525px; width:100%;\"></div>            <script type=\"text/javascript\">                require([\"plotly\"], function(Plotly) {                    window.PLOTLYENV=window.PLOTLYENV || {};                                    if (document.getElementById(\"2e061566-d84f-4bc0-9add-de64dd8a7e58\")) {                    Plotly.newPlot(                        \"2e061566-d84f-4bc0-9add-de64dd8a7e58\",                        [{\"hovertemplate\":\"BA=%{x}\\u003cbr\\u003eHR=%{y}\\u003cextra\\u003e\\u003c\\u002fextra\\u003e\",\"legendgroup\":\"\",\"marker\":{\"color\":\"#636efa\",\"symbol\":\"circle\"},\"mode\":\"markers\",\"name\":\"\",\"orientation\":\"v\",\"showlegend\":false,\"x\":[0.283,0.197,0.217,0.304,0.337,0.274,0.307,0.245,0.264,0.281,0.212,0.25,0.275,0.25,0.28,0.271,0.327,0.258,0.275,0.254,0.25,0.233,0.258,0.232,0.246,0.276,0.272,0.331,0.276,0.284,0.255,0.257,0.268,0.266,0.307,0.262,0.264,0.258,0.224,0.266,0.262,0.285,0.268,0.276,0.257,0.273,0.217,0.263,0.261,0.274,0.282,0.263,0.254,0.266,0.24,0.248,0.255,0.24,0.271,0.276,0.247,0.251,0.33,0.232,0.244,0.248,0.293,0.255,0.258,0.258,0.209,0.306,0.274,0.292,0.252,0.233,0.277,0.285,0.22,0.285,0.266,0.257,0.261,0.278,0.245,0.237,0.23,0.248,0.279,0.293,0.258,0.26,0.264,0.24,0.289,0.244,0.26,0.262,0.256,0.275,0.235,0.251,0.271,0.243,0.28,0.253,0.289,0.267,0.271,0.261,0.266,0.198,0.248,0.275,0.243,0.264,0.25,0.254,0.262,0.237,0.272,0.354,0.229,0.27,0.263,0.261,0.222,0.283,0.231,0.242,0.263,0.262,0.268,0.272,0.245,0.238],\"xaxis\":\"x\",\"y\":[54.0,47.0,46.0,44.0,41.0,40.0,39.0,39.0,38.0,37.0,36.0,36.0,35.0,34.0,33.0,33.0,33.0,33.0,32.0,31.0,31.0,31.0,30.0,30.0,30.0,30.0,29.0,29.0,29.0,29.0,28.0,28.0,28.0,26.0,26.0,26.0,26.0,26.0,26.0,26.0,25.0,25.0,25.0,25.0,25.0,25.0,24.0,24.0,24.0,24.0,24.0,24.0,23.0,23.0,23.0,23.0,23.0,23.0,23.0,23.0,22.0,22.0,22.0,22.0,22.0,21.0,21.0,21.0,21.0,21.0,21.0,20.0,20.0,20.0,20.0,20.0,20.0,20.0,20.0,19.0,19.0,19.0,19.0,19.0,18.0,18.0,18.0,18.0,18.0,18.0,18.0,18.0,17.0,17.0,17.0,17.0,17.0,17.0,17.0,16.0,16.0,15.0,15.0,15.0,15.0,15.0,15.0,14.0,14.0,14.0,14.0,13.0,13.0,13.0,13.0,13.0,12.0,12.0,11.0,11.0,11.0,10.0,10.0,10.0,10.0,10.0,9.0,9.0,9.0,9.0,6.0,5.0,5.0,4.0,1.0,1.0],\"yaxis\":\"y\",\"type\":\"scatter\"},{\"hovertemplate\":\"\\u003cb\\u003eOLS trendline\\u003c\\u002fb\\u003e\\u003cbr\\u003eHR = 40.4942 * BA + 11.1953\\u003cbr\\u003eR\\u003csup\\u003e2\\u003c\\u002fsup\\u003e=0.011648\\u003cbr\\u003e\\u003cbr\\u003eBA=%{x}\\u003cbr\\u003eHR=%{y} \\u003cb\\u003e(trend)\\u003c\\u002fb\\u003e\\u003cextra\\u003e\\u003c\\u002fextra\\u003e\",\"legendgroup\":\"\",\"marker\":{\"color\":\"#636efa\",\"symbol\":\"circle\"},\"mode\":\"lines\",\"name\":\"\",\"showlegend\":false,\"x\":[0.197,0.198,0.209,0.212,0.217,0.217,0.22,0.222,0.224,0.229,0.23,0.231,0.232,0.232,0.233,0.233,0.235,0.237,0.237,0.238,0.24,0.24,0.24,0.242,0.243,0.243,0.244,0.244,0.245,0.245,0.245,0.246,0.247,0.248,0.248,0.248,0.248,0.25,0.25,0.25,0.25,0.251,0.251,0.252,0.253,0.254,0.254,0.254,0.255,0.255,0.255,0.256,0.257,0.257,0.257,0.258,0.258,0.258,0.258,0.258,0.258,0.26,0.26,0.261,0.261,0.261,0.261,0.262,0.262,0.262,0.262,0.262,0.263,0.263,0.263,0.263,0.264,0.264,0.264,0.264,0.266,0.266,0.266,0.266,0.266,0.267,0.268,0.268,0.268,0.27,0.271,0.271,0.271,0.271,0.272,0.272,0.272,0.273,0.274,0.274,0.274,0.275,0.275,0.275,0.275,0.276,0.276,0.276,0.276,0.277,0.278,0.279,0.28,0.28,0.281,0.282,0.283,0.283,0.284,0.285,0.285,0.285,0.289,0.289,0.292,0.293,0.293,0.304,0.306,0.307,0.307,0.327,0.33,0.331,0.337,0.354],\"xaxis\":\"x\",\"y\":[19.172622648757695,19.213116851925548,19.65855308677191,19.780035696275462,19.982506712114716,19.982506712114716,20.10398932161827,20.18497772795397,20.265966134289673,20.468437150128928,20.50893135329678,20.54942555646463,20.58991975963248,20.58991975963248,20.630413962800333,20.630413962800333,20.71140236913603,20.792390775471738,20.792390775471738,20.832884978639584,20.91387338497529,20.91387338497529,20.91387338497529,20.99486179131099,21.03535599447884,21.03535599447884,21.075850197646695,21.075850197646695,21.116344400814544,21.116344400814544,21.116344400814544,21.156838603982393,21.197332807150246,21.237827010318096,21.237827010318096,21.237827010318096,21.237827010318096,21.3188154166538,21.3188154166538,21.3188154166538,21.3188154166538,21.35930961982165,21.35930961982165,21.3998038229895,21.44029802615735,21.480792229325203,21.480792229325203,21.480792229325203,21.521286432493053,21.521286432493053,21.521286432493053,21.561780635660902,21.602274838828755,21.602274838828755,21.602274838828755,21.64276904199661,21.64276904199661,21.64276904199661,21.64276904199661,21.64276904199661,21.64276904199661,21.723757448332307,21.723757448332307,21.76425165150016,21.76425165150016,21.76425165150016,21.76425165150016,21.804745854668013,21.804745854668013,21.804745854668013,21.804745854668013,21.804745854668013,21.84524005783586,21.84524005783586,21.84524005783586,21.84524005783586,21.885734261003712,21.885734261003712,21.885734261003712,21.885734261003712,21.966722667339415,21.966722667339415,21.966722667339415,21.966722667339415,21.966722667339415,22.007216870507264,22.047711073675117,22.047711073675117,22.047711073675117,22.12869948001082,22.16919368317867,22.16919368317867,22.16919368317867,22.16919368317867,22.209687886346522,22.209687886346522,22.209687886346522,22.25018208951437,22.29067629268222,22.29067629268222,22.29067629268222,22.331170495850074,22.331170495850074,22.331170495850074,22.331170495850074,22.371664699017927,22.371664699017927,22.371664699017927,22.371664699017927,22.412158902185777,22.452653105353626,22.49314730852148,22.53364151168933,22.53364151168933,22.574135714857178,22.61462991802503,22.65512412119288,22.65512412119288,22.69561832436073,22.736112527528583,22.736112527528583,22.736112527528583,22.898089340199988,22.898089340199988,23.01957194970354,23.06006615287139,23.06006615287139,23.50550238771775,23.586490794053454,23.626984997221307,23.626984997221307,24.436869060578324,24.558351670081876,24.59884587324973,24.841811092256833,25.5302125461103],\"yaxis\":\"y\",\"type\":\"scatter\"}],                        {\"template\":{\"data\":{\"histogram2dcontour\":[{\"type\":\"histogram2dcontour\",\"colorbar\":{\"outlinewidth\":0,\"ticks\":\"\"},\"colorscale\":[[0.0,\"#0d0887\"],[0.1111111111111111,\"#46039f\"],[0.2222222222222222,\"#7201a8\"],[0.3333333333333333,\"#9c179e\"],[0.4444444444444444,\"#bd3786\"],[0.5555555555555556,\"#d8576b\"],[0.6666666666666666,\"#ed7953\"],[0.7777777777777778,\"#fb9f3a\"],[0.8888888888888888,\"#fdca26\"],[1.0,\"#f0f921\"]]}],\"choropleth\":[{\"type\":\"choropleth\",\"colorbar\":{\"outlinewidth\":0,\"ticks\":\"\"}}],\"histogram2d\":[{\"type\":\"histogram2d\",\"colorbar\":{\"outlinewidth\":0,\"ticks\":\"\"},\"colorscale\":[[0.0,\"#0d0887\"],[0.1111111111111111,\"#46039f\"],[0.2222222222222222,\"#7201a8\"],[0.3333333333333333,\"#9c179e\"],[0.4444444444444444,\"#bd3786\"],[0.5555555555555556,\"#d8576b\"],[0.6666666666666666,\"#ed7953\"],[0.7777777777777778,\"#fb9f3a\"],[0.8888888888888888,\"#fdca26\"],[1.0,\"#f0f921\"]]}],\"heatmap\":[{\"type\":\"heatmap\",\"colorbar\":{\"outlinewidth\":0,\"ticks\":\"\"},\"colorscale\":[[0.0,\"#0d0887\"],[0.1111111111111111,\"#46039f\"],[0.2222222222222222,\"#7201a8\"],[0.3333333333333333,\"#9c179e\"],[0.4444444444444444,\"#bd3786\"],[0.5555555555555556,\"#d8576b\"],[0.6666666666666666,\"#ed7953\"],[0.7777777777777778,\"#fb9f3a\"],[0.8888888888888888,\"#fdca26\"],[1.0,\"#f0f921\"]]}],\"heatmapgl\":[{\"type\":\"heatmapgl\",\"colorbar\":{\"outlinewidth\":0,\"ticks\":\"\"},\"colorscale\":[[0.0,\"#0d0887\"],[0.1111111111111111,\"#46039f\"],[0.2222222222222222,\"#7201a8\"],[0.3333333333333333,\"#9c179e\"],[0.4444444444444444,\"#bd3786\"],[0.5555555555555556,\"#d8576b\"],[0.6666666666666666,\"#ed7953\"],[0.7777777777777778,\"#fb9f3a\"],[0.8888888888888888,\"#fdca26\"],[1.0,\"#f0f921\"]]}],\"contourcarpet\":[{\"type\":\"contourcarpet\",\"colorbar\":{\"outlinewidth\":0,\"ticks\":\"\"}}],\"contour\":[{\"type\":\"contour\",\"colorbar\":{\"outlinewidth\":0,\"ticks\":\"\"},\"colorscale\":[[0.0,\"#0d0887\"],[0.1111111111111111,\"#46039f\"],[0.2222222222222222,\"#7201a8\"],[0.3333333333333333,\"#9c179e\"],[0.4444444444444444,\"#bd3786\"],[0.5555555555555556,\"#d8576b\"],[0.6666666666666666,\"#ed7953\"],[0.7777777777777778,\"#fb9f3a\"],[0.8888888888888888,\"#fdca26\"],[1.0,\"#f0f921\"]]}],\"surface\":[{\"type\":\"surface\",\"colorbar\":{\"outlinewidth\":0,\"ticks\":\"\"},\"colorscale\":[[0.0,\"#0d0887\"],[0.1111111111111111,\"#46039f\"],[0.2222222222222222,\"#7201a8\"],[0.3333333333333333,\"#9c179e\"],[0.4444444444444444,\"#bd3786\"],[0.5555555555555556,\"#d8576b\"],[0.6666666666666666,\"#ed7953\"],[0.7777777777777778,\"#fb9f3a\"],[0.8888888888888888,\"#fdca26\"],[1.0,\"#f0f921\"]]}],\"mesh3d\":[{\"type\":\"mesh3d\",\"colorbar\":{\"outlinewidth\":0,\"ticks\":\"\"}}],\"scatter\":[{\"fillpattern\":{\"fillmode\":\"overlay\",\"size\":10,\"solidity\":0.2},\"type\":\"scatter\"}],\"parcoords\":[{\"type\":\"parcoords\",\"line\":{\"colorbar\":{\"outlinewidth\":0,\"ticks\":\"\"}}}],\"scatterpolargl\":[{\"type\":\"scatterpolargl\",\"marker\":{\"colorbar\":{\"outlinewidth\":0,\"ticks\":\"\"}}}],\"bar\":[{\"error_x\":{\"color\":\"#2a3f5f\"},\"error_y\":{\"color\":\"#2a3f5f\"},\"marker\":{\"line\":{\"color\":\"#E5ECF6\",\"width\":0.5},\"pattern\":{\"fillmode\":\"overlay\",\"size\":10,\"solidity\":0.2}},\"type\":\"bar\"}],\"scattergeo\":[{\"type\":\"scattergeo\",\"marker\":{\"colorbar\":{\"outlinewidth\":0,\"ticks\":\"\"}}}],\"scatterpolar\":[{\"type\":\"scatterpolar\",\"marker\":{\"colorbar\":{\"outlinewidth\":0,\"ticks\":\"\"}}}],\"histogram\":[{\"marker\":{\"pattern\":{\"fillmode\":\"overlay\",\"size\":10,\"solidity\":0.2}},\"type\":\"histogram\"}],\"scattergl\":[{\"type\":\"scattergl\",\"marker\":{\"colorbar\":{\"outlinewidth\":0,\"ticks\":\"\"}}}],\"scatter3d\":[{\"type\":\"scatter3d\",\"line\":{\"colorbar\":{\"outlinewidth\":0,\"ticks\":\"\"}},\"marker\":{\"colorbar\":{\"outlinewidth\":0,\"ticks\":\"\"}}}],\"scattermapbox\":[{\"type\":\"scattermapbox\",\"marker\":{\"colorbar\":{\"outlinewidth\":0,\"ticks\":\"\"}}}],\"scatterternary\":[{\"type\":\"scatterternary\",\"marker\":{\"colorbar\":{\"outlinewidth\":0,\"ticks\":\"\"}}}],\"scattercarpet\":[{\"type\":\"scattercarpet\",\"marker\":{\"colorbar\":{\"outlinewidth\":0,\"ticks\":\"\"}}}],\"carpet\":[{\"aaxis\":{\"endlinecolor\":\"#2a3f5f\",\"gridcolor\":\"white\",\"linecolor\":\"white\",\"minorgridcolor\":\"white\",\"startlinecolor\":\"#2a3f5f\"},\"baxis\":{\"endlinecolor\":\"#2a3f5f\",\"gridcolor\":\"white\",\"linecolor\":\"white\",\"minorgridcolor\":\"white\",\"startlinecolor\":\"#2a3f5f\"},\"type\":\"carpet\"}],\"table\":[{\"cells\":{\"fill\":{\"color\":\"#EBF0F8\"},\"line\":{\"color\":\"white\"}},\"header\":{\"fill\":{\"color\":\"#C8D4E3\"},\"line\":{\"color\":\"white\"}},\"type\":\"table\"}],\"barpolar\":[{\"marker\":{\"line\":{\"color\":\"#E5ECF6\",\"width\":0.5},\"pattern\":{\"fillmode\":\"overlay\",\"size\":10,\"solidity\":0.2}},\"type\":\"barpolar\"}],\"pie\":[{\"automargin\":true,\"type\":\"pie\"}]},\"layout\":{\"autotypenumbers\":\"strict\",\"colorway\":[\"#636efa\",\"#EF553B\",\"#00cc96\",\"#ab63fa\",\"#FFA15A\",\"#19d3f3\",\"#FF6692\",\"#B6E880\",\"#FF97FF\",\"#FECB52\"],\"font\":{\"color\":\"#2a3f5f\"},\"hovermode\":\"closest\",\"hoverlabel\":{\"align\":\"left\"},\"paper_bgcolor\":\"white\",\"plot_bgcolor\":\"#E5ECF6\",\"polar\":{\"bgcolor\":\"#E5ECF6\",\"angularaxis\":{\"gridcolor\":\"white\",\"linecolor\":\"white\",\"ticks\":\"\"},\"radialaxis\":{\"gridcolor\":\"white\",\"linecolor\":\"white\",\"ticks\":\"\"}},\"ternary\":{\"bgcolor\":\"#E5ECF6\",\"aaxis\":{\"gridcolor\":\"white\",\"linecolor\":\"white\",\"ticks\":\"\"},\"baxis\":{\"gridcolor\":\"white\",\"linecolor\":\"white\",\"ticks\":\"\"},\"caxis\":{\"gridcolor\":\"white\",\"linecolor\":\"white\",\"ticks\":\"\"}},\"coloraxis\":{\"colorbar\":{\"outlinewidth\":0,\"ticks\":\"\"}},\"colorscale\":{\"sequential\":[[0.0,\"#0d0887\"],[0.1111111111111111,\"#46039f\"],[0.2222222222222222,\"#7201a8\"],[0.3333333333333333,\"#9c179e\"],[0.4444444444444444,\"#bd3786\"],[0.5555555555555556,\"#d8576b\"],[0.6666666666666666,\"#ed7953\"],[0.7777777777777778,\"#fb9f3a\"],[0.8888888888888888,\"#fdca26\"],[1.0,\"#f0f921\"]],\"sequentialminus\":[[0.0,\"#0d0887\"],[0.1111111111111111,\"#46039f\"],[0.2222222222222222,\"#7201a8\"],[0.3333333333333333,\"#9c179e\"],[0.4444444444444444,\"#bd3786\"],[0.5555555555555556,\"#d8576b\"],[0.6666666666666666,\"#ed7953\"],[0.7777777777777778,\"#fb9f3a\"],[0.8888888888888888,\"#fdca26\"],[1.0,\"#f0f921\"]],\"diverging\":[[0,\"#8e0152\"],[0.1,\"#c51b7d\"],[0.2,\"#de77ae\"],[0.3,\"#f1b6da\"],[0.4,\"#fde0ef\"],[0.5,\"#f7f7f7\"],[0.6,\"#e6f5d0\"],[0.7,\"#b8e186\"],[0.8,\"#7fbc41\"],[0.9,\"#4d9221\"],[1,\"#276419\"]]},\"xaxis\":{\"gridcolor\":\"white\",\"linecolor\":\"white\",\"ticks\":\"\",\"title\":{\"standoff\":15},\"zerolinecolor\":\"white\",\"automargin\":true,\"zerolinewidth\":2},\"yaxis\":{\"gridcolor\":\"white\",\"linecolor\":\"white\",\"ticks\":\"\",\"title\":{\"standoff\":15},\"zerolinecolor\":\"white\",\"automargin\":true,\"zerolinewidth\":2},\"scene\":{\"xaxis\":{\"backgroundcolor\":\"#E5ECF6\",\"gridcolor\":\"white\",\"linecolor\":\"white\",\"showbackground\":true,\"ticks\":\"\",\"zerolinecolor\":\"white\",\"gridwidth\":2},\"yaxis\":{\"backgroundcolor\":\"#E5ECF6\",\"gridcolor\":\"white\",\"linecolor\":\"white\",\"showbackground\":true,\"ticks\":\"\",\"zerolinecolor\":\"white\",\"gridwidth\":2},\"zaxis\":{\"backgroundcolor\":\"#E5ECF6\",\"gridcolor\":\"white\",\"linecolor\":\"white\",\"showbackground\":true,\"ticks\":\"\",\"zerolinecolor\":\"white\",\"gridwidth\":2}},\"shapedefaults\":{\"line\":{\"color\":\"#2a3f5f\"}},\"annotationdefaults\":{\"arrowcolor\":\"#2a3f5f\",\"arrowhead\":0,\"arrowwidth\":1},\"geo\":{\"bgcolor\":\"white\",\"landcolor\":\"#E5ECF6\",\"subunitcolor\":\"white\",\"showland\":true,\"showlakes\":true,\"lakecolor\":\"white\"},\"title\":{\"x\":0.05},\"mapbox\":{\"style\":\"light\"}}},\"xaxis\":{\"anchor\":\"y\",\"domain\":[0.0,1.0],\"title\":{\"text\":\"BA\"}},\"yaxis\":{\"anchor\":\"x\",\"domain\":[0.0,1.0],\"title\":{\"text\":\"HR\"}},\"legend\":{\"tracegroupgap\":0},\"title\":{\"text\":\"Homers versus Batting Average (Small data)\"}},                        {\"responsive\": true}                    ).then(function(){\n",
       "                            \n",
       "var gd = document.getElementById('2e061566-d84f-4bc0-9add-de64dd8a7e58');\n",
       "var x = new MutationObserver(function (mutations, observer) {{\n",
       "        var display = window.getComputedStyle(gd).display;\n",
       "        if (!display || display === 'none') {{\n",
       "            console.log([gd, 'removed!']);\n",
       "            Plotly.purge(gd);\n",
       "            observer.disconnect();\n",
       "        }}\n",
       "}});\n",
       "\n",
       "// Listen for the removal of the full notebook cells\n",
       "var notebookContainer = gd.closest('#notebook-container');\n",
       "if (notebookContainer) {{\n",
       "    x.observe(notebookContainer, {childList: true});\n",
       "}}\n",
       "\n",
       "// Listen for the clearing of the current output cell\n",
       "var outputEl = gd.closest('.output');\n",
       "if (outputEl) {{\n",
       "    x.observe(outputEl, {childList: true});\n",
       "}}\n",
       "\n",
       "                        })                };                });            </script>        </div>"
      ]
     },
     "metadata": {},
     "output_type": "display_data"
    }
   ],
   "source": [
    "px.scatter(dfc, x='BA', y='HR', title='Homers versus Batting Average (Small data)',trendline=\"ols\")"
   ]
  },
  {
   "cell_type": "code",
   "execution_count": 23,
   "metadata": {},
   "outputs": [
    {
     "data": {
      "application/vnd.plotly.v1+json": {
       "config": {
        "plotlyServerURL": "https://plot.ly"
       },
       "data": [
        {
         "hovertemplate": "OPS=%{x}<br>HR=%{y}<extra></extra>",
         "legendgroup": "",
         "marker": {
          "color": "#636efa",
          "symbol": "circle"
         },
         "mode": "markers",
         "name": "",
         "orientation": "v",
         "showlegend": false,
         "type": "scatter",
         "x": [
          0.993,
          0.817,
          0.821,
          1.066,
          1.012,
          0.905,
          0.987,
          0.836,
          0.857,
          0.861,
          0.808,
          0.853,
          0.93,
          0.828,
          0.849,
          0.851,
          1.013,
          0.83,
          0.818,
          0.806,
          0.84,
          0.758,
          0.782,
          0.762,
          0.817,
          0.813,
          0.788,
          0.976,
          0.826,
          0.886,
          0.814,
          0.797,
          0.783,
          0.774,
          0.881,
          0.803,
          0.788,
          0.741,
          0.793,
          0.778,
          0.804,
          0.868,
          0.81,
          0.844,
          0.77,
          0.8,
          0.717,
          0.856,
          0.772,
          0.829,
          0.831,
          0.79,
          0.789,
          0.781,
          0.753,
          0.79,
          0.714,
          0.747,
          0.82,
          0.8,
          0.744,
          0.807,
          0.932,
          0.714,
          0.744,
          0.791,
          0.9,
          0.755,
          0.732,
          0.743,
          0.666,
          0.814,
          0.765,
          0.835,
          0.762,
          0.713,
          0.809,
          0.842,
          0.674,
          0.79,
          0.818,
          0.715,
          0.797,
          0.818,
          0.712,
          0.68,
          0.711,
          0.738,
          0.819,
          0.808,
          0.755,
          0.717,
          0.741,
          0.755,
          0.825,
          0.746,
          0.749,
          0.775,
          0.79,
          0.769,
          0.713,
          0.712,
          0.762,
          0.718,
          0.747,
          0.695,
          0.783,
          0.725,
          0.731,
          0.784,
          0.733,
          0.666,
          0.705,
          0.722,
          0.696,
          0.745,
          0.703,
          0.692,
          0.755,
          0.646,
          0.7,
          0.861,
          0.689,
          0.711,
          0.705,
          0.717,
          0.593,
          0.729,
          0.654,
          0.689,
          0.683,
          0.682,
          0.71,
          0.681,
          0.582,
          0.597
         ],
         "xaxis": "x",
         "y": [
          54,
          47,
          46,
          44,
          41,
          40,
          39,
          39,
          38,
          37,
          36,
          36,
          35,
          34,
          33,
          33,
          33,
          33,
          32,
          31,
          31,
          31,
          30,
          30,
          30,
          30,
          29,
          29,
          29,
          29,
          28,
          28,
          28,
          26,
          26,
          26,
          26,
          26,
          26,
          26,
          25,
          25,
          25,
          25,
          25,
          25,
          24,
          24,
          24,
          24,
          24,
          24,
          23,
          23,
          23,
          23,
          23,
          23,
          23,
          23,
          22,
          22,
          22,
          22,
          22,
          21,
          21,
          21,
          21,
          21,
          21,
          20,
          20,
          20,
          20,
          20,
          20,
          20,
          20,
          19,
          19,
          19,
          19,
          19,
          18,
          18,
          18,
          18,
          18,
          18,
          18,
          18,
          17,
          17,
          17,
          17,
          17,
          17,
          17,
          16,
          16,
          15,
          15,
          15,
          15,
          15,
          15,
          14,
          14,
          14,
          14,
          13,
          13,
          13,
          13,
          13,
          12,
          12,
          11,
          11,
          11,
          10,
          10,
          10,
          10,
          10,
          9,
          9,
          9,
          9,
          6,
          5,
          5,
          4,
          1,
          1
         ],
         "yaxis": "y"
        },
        {
         "hovertemplate": "<b>OLS trendline</b><br>HR = 87.3573 * OPS + -46.2935<br>R<sup>2</sup>=0.560789<br><br>OPS=%{x}<br>HR=%{y} <b>(trend)</b><extra></extra>",
         "legendgroup": "",
         "marker": {
          "color": "#636efa",
          "symbol": "circle"
         },
         "mode": "lines",
         "name": "",
         "showlegend": false,
         "type": "scatter",
         "x": [
          0.582,
          0.593,
          0.597,
          0.646,
          0.654,
          0.666,
          0.666,
          0.674,
          0.68,
          0.681,
          0.682,
          0.683,
          0.689,
          0.689,
          0.692,
          0.695,
          0.696,
          0.7,
          0.703,
          0.705,
          0.705,
          0.71,
          0.711,
          0.711,
          0.712,
          0.712,
          0.713,
          0.713,
          0.714,
          0.714,
          0.715,
          0.717,
          0.717,
          0.717,
          0.718,
          0.722,
          0.725,
          0.729,
          0.731,
          0.732,
          0.733,
          0.738,
          0.741,
          0.741,
          0.743,
          0.744,
          0.744,
          0.745,
          0.746,
          0.747,
          0.747,
          0.749,
          0.753,
          0.755,
          0.755,
          0.755,
          0.755,
          0.758,
          0.762,
          0.762,
          0.762,
          0.765,
          0.769,
          0.77,
          0.772,
          0.774,
          0.775,
          0.778,
          0.781,
          0.782,
          0.783,
          0.783,
          0.784,
          0.788,
          0.788,
          0.789,
          0.79,
          0.79,
          0.79,
          0.79,
          0.791,
          0.793,
          0.797,
          0.797,
          0.8,
          0.8,
          0.803,
          0.804,
          0.806,
          0.807,
          0.808,
          0.808,
          0.809,
          0.81,
          0.813,
          0.814,
          0.814,
          0.817,
          0.817,
          0.818,
          0.818,
          0.818,
          0.819,
          0.82,
          0.821,
          0.825,
          0.826,
          0.828,
          0.829,
          0.83,
          0.831,
          0.835,
          0.836,
          0.84,
          0.842,
          0.844,
          0.849,
          0.851,
          0.853,
          0.856,
          0.857,
          0.861,
          0.861,
          0.868,
          0.881,
          0.886,
          0.9,
          0.905,
          0.93,
          0.932,
          0.976,
          0.987,
          0.993,
          1.012,
          1.013,
          1.066
         ],
         "xaxis": "x",
         "y": [
          4.548408107696062,
          5.509338169903309,
          5.858767283433217,
          10.139273924174603,
          10.838132151234426,
          11.88641949182415,
          11.88641949182415,
          12.585277718883965,
          13.109421389178834,
          13.196778667561311,
          13.284135945943788,
          13.371493224326265,
          13.89563689462112,
          13.89563689462112,
          14.15770872976855,
          14.419780564915982,
          14.507137843298459,
          14.856566956828367,
          15.118638791975798,
          15.293353348740752,
          15.293353348740752,
          15.730139740653136,
          15.817497019035613,
          15.817497019035613,
          15.904854297418098,
          15.904854297418098,
          15.992211575800575,
          15.992211575800575,
          16.07956885418305,
          16.07956885418305,
          16.16692613256553,
          16.341640689330482,
          16.341640689330482,
          16.341640689330482,
          16.42899796771296,
          16.778427081242867,
          17.0404989163903,
          17.389928029920206,
          17.56464258668516,
          17.651999865067637,
          17.73935714345012,
          18.1761435353625,
          18.438215370509937,
          18.438215370509937,
          18.61292992727489,
          18.70028720565736,
          18.70028720565736,
          18.787644484039845,
          18.875001762422315,
          18.9623590408048,
          18.9623590408048,
          19.137073597569753,
          19.48650271109966,
          19.661217267864615,
          19.661217267864615,
          19.661217267864615,
          19.661217267864615,
          19.923289103012053,
          20.27271821654196,
          20.27271821654196,
          20.27271821654196,
          20.534790051689384,
          20.884219165219292,
          20.971576443601776,
          21.14629100036673,
          21.321005557131684,
          21.408362835514154,
          21.670434670661592,
          21.93250650580903,
          22.0198637841915,
          22.107221062573984,
          22.107221062573984,
          22.194578340956454,
          22.544007454486362,
          22.544007454486362,
          22.631364732868846,
          22.718722011251316,
          22.718722011251316,
          22.718722011251316,
          22.718722011251316,
          22.8060792896338,
          22.980793846398754,
          23.330222959928662,
          23.330222959928662,
          23.592294795076086,
          23.592294795076086,
          23.854366630223524,
          23.941723908606008,
          24.116438465370962,
          24.20379574375343,
          24.291153022135916,
          24.291153022135916,
          24.378510300518386,
          24.46586757890087,
          24.727939414048294,
          24.815296692430763,
          24.815296692430763,
          25.0773685275782,
          25.0773685275782,
          25.16472580596067,
          25.16472580596067,
          25.16472580596067,
          25.252083084343155,
          25.339440362725625,
          25.42679764110811,
          25.776226754638017,
          25.863584033020487,
          26.03829858978544,
          26.125655868167925,
          26.213013146550395,
          26.30037042493288,
          26.649799538462787,
          26.737156816845257,
          27.08658593037518,
          27.261300487140133,
          27.436015043905087,
          27.872801435817465,
          28.04751599258242,
          28.222230549347373,
          28.48430238449481,
          28.57165966287728,
          28.92108877640719,
          28.92108877640719,
          29.532589725084534,
          30.668234344056742,
          31.10502073596912,
          32.32802263332381,
          32.76480902523619,
          34.94874098479812,
          35.123455541563075,
          38.967175790392076,
          39.928105852599316,
          40.45224952289418,
          42.11203781216125,
          42.19939509054372,
          46.82933084481502
         ],
         "yaxis": "y"
        }
       ],
       "layout": {
        "autosize": true,
        "legend": {
         "tracegroupgap": 0
        },
        "template": {
         "data": {
          "bar": [
           {
            "error_x": {
             "color": "#2a3f5f"
            },
            "error_y": {
             "color": "#2a3f5f"
            },
            "marker": {
             "line": {
              "color": "#E5ECF6",
              "width": 0.5
             },
             "pattern": {
              "fillmode": "overlay",
              "size": 10,
              "solidity": 0.2
             }
            },
            "type": "bar"
           }
          ],
          "barpolar": [
           {
            "marker": {
             "line": {
              "color": "#E5ECF6",
              "width": 0.5
             },
             "pattern": {
              "fillmode": "overlay",
              "size": 10,
              "solidity": 0.2
             }
            },
            "type": "barpolar"
           }
          ],
          "carpet": [
           {
            "aaxis": {
             "endlinecolor": "#2a3f5f",
             "gridcolor": "white",
             "linecolor": "white",
             "minorgridcolor": "white",
             "startlinecolor": "#2a3f5f"
            },
            "baxis": {
             "endlinecolor": "#2a3f5f",
             "gridcolor": "white",
             "linecolor": "white",
             "minorgridcolor": "white",
             "startlinecolor": "#2a3f5f"
            },
            "type": "carpet"
           }
          ],
          "choropleth": [
           {
            "colorbar": {
             "outlinewidth": 0,
             "ticks": ""
            },
            "type": "choropleth"
           }
          ],
          "contour": [
           {
            "colorbar": {
             "outlinewidth": 0,
             "ticks": ""
            },
            "colorscale": [
             [
              0,
              "#0d0887"
             ],
             [
              0.1111111111111111,
              "#46039f"
             ],
             [
              0.2222222222222222,
              "#7201a8"
             ],
             [
              0.3333333333333333,
              "#9c179e"
             ],
             [
              0.4444444444444444,
              "#bd3786"
             ],
             [
              0.5555555555555556,
              "#d8576b"
             ],
             [
              0.6666666666666666,
              "#ed7953"
             ],
             [
              0.7777777777777778,
              "#fb9f3a"
             ],
             [
              0.8888888888888888,
              "#fdca26"
             ],
             [
              1,
              "#f0f921"
             ]
            ],
            "type": "contour"
           }
          ],
          "contourcarpet": [
           {
            "colorbar": {
             "outlinewidth": 0,
             "ticks": ""
            },
            "type": "contourcarpet"
           }
          ],
          "heatmap": [
           {
            "colorbar": {
             "outlinewidth": 0,
             "ticks": ""
            },
            "colorscale": [
             [
              0,
              "#0d0887"
             ],
             [
              0.1111111111111111,
              "#46039f"
             ],
             [
              0.2222222222222222,
              "#7201a8"
             ],
             [
              0.3333333333333333,
              "#9c179e"
             ],
             [
              0.4444444444444444,
              "#bd3786"
             ],
             [
              0.5555555555555556,
              "#d8576b"
             ],
             [
              0.6666666666666666,
              "#ed7953"
             ],
             [
              0.7777777777777778,
              "#fb9f3a"
             ],
             [
              0.8888888888888888,
              "#fdca26"
             ],
             [
              1,
              "#f0f921"
             ]
            ],
            "type": "heatmap"
           }
          ],
          "heatmapgl": [
           {
            "colorbar": {
             "outlinewidth": 0,
             "ticks": ""
            },
            "colorscale": [
             [
              0,
              "#0d0887"
             ],
             [
              0.1111111111111111,
              "#46039f"
             ],
             [
              0.2222222222222222,
              "#7201a8"
             ],
             [
              0.3333333333333333,
              "#9c179e"
             ],
             [
              0.4444444444444444,
              "#bd3786"
             ],
             [
              0.5555555555555556,
              "#d8576b"
             ],
             [
              0.6666666666666666,
              "#ed7953"
             ],
             [
              0.7777777777777778,
              "#fb9f3a"
             ],
             [
              0.8888888888888888,
              "#fdca26"
             ],
             [
              1,
              "#f0f921"
             ]
            ],
            "type": "heatmapgl"
           }
          ],
          "histogram": [
           {
            "marker": {
             "pattern": {
              "fillmode": "overlay",
              "size": 10,
              "solidity": 0.2
             }
            },
            "type": "histogram"
           }
          ],
          "histogram2d": [
           {
            "colorbar": {
             "outlinewidth": 0,
             "ticks": ""
            },
            "colorscale": [
             [
              0,
              "#0d0887"
             ],
             [
              0.1111111111111111,
              "#46039f"
             ],
             [
              0.2222222222222222,
              "#7201a8"
             ],
             [
              0.3333333333333333,
              "#9c179e"
             ],
             [
              0.4444444444444444,
              "#bd3786"
             ],
             [
              0.5555555555555556,
              "#d8576b"
             ],
             [
              0.6666666666666666,
              "#ed7953"
             ],
             [
              0.7777777777777778,
              "#fb9f3a"
             ],
             [
              0.8888888888888888,
              "#fdca26"
             ],
             [
              1,
              "#f0f921"
             ]
            ],
            "type": "histogram2d"
           }
          ],
          "histogram2dcontour": [
           {
            "colorbar": {
             "outlinewidth": 0,
             "ticks": ""
            },
            "colorscale": [
             [
              0,
              "#0d0887"
             ],
             [
              0.1111111111111111,
              "#46039f"
             ],
             [
              0.2222222222222222,
              "#7201a8"
             ],
             [
              0.3333333333333333,
              "#9c179e"
             ],
             [
              0.4444444444444444,
              "#bd3786"
             ],
             [
              0.5555555555555556,
              "#d8576b"
             ],
             [
              0.6666666666666666,
              "#ed7953"
             ],
             [
              0.7777777777777778,
              "#fb9f3a"
             ],
             [
              0.8888888888888888,
              "#fdca26"
             ],
             [
              1,
              "#f0f921"
             ]
            ],
            "type": "histogram2dcontour"
           }
          ],
          "mesh3d": [
           {
            "colorbar": {
             "outlinewidth": 0,
             "ticks": ""
            },
            "type": "mesh3d"
           }
          ],
          "parcoords": [
           {
            "line": {
             "colorbar": {
              "outlinewidth": 0,
              "ticks": ""
             }
            },
            "type": "parcoords"
           }
          ],
          "pie": [
           {
            "automargin": true,
            "type": "pie"
           }
          ],
          "scatter": [
           {
            "fillpattern": {
             "fillmode": "overlay",
             "size": 10,
             "solidity": 0.2
            },
            "type": "scatter"
           }
          ],
          "scatter3d": [
           {
            "line": {
             "colorbar": {
              "outlinewidth": 0,
              "ticks": ""
             }
            },
            "marker": {
             "colorbar": {
              "outlinewidth": 0,
              "ticks": ""
             }
            },
            "type": "scatter3d"
           }
          ],
          "scattercarpet": [
           {
            "marker": {
             "colorbar": {
              "outlinewidth": 0,
              "ticks": ""
             }
            },
            "type": "scattercarpet"
           }
          ],
          "scattergeo": [
           {
            "marker": {
             "colorbar": {
              "outlinewidth": 0,
              "ticks": ""
             }
            },
            "type": "scattergeo"
           }
          ],
          "scattergl": [
           {
            "marker": {
             "colorbar": {
              "outlinewidth": 0,
              "ticks": ""
             }
            },
            "type": "scattergl"
           }
          ],
          "scattermapbox": [
           {
            "marker": {
             "colorbar": {
              "outlinewidth": 0,
              "ticks": ""
             }
            },
            "type": "scattermapbox"
           }
          ],
          "scatterpolar": [
           {
            "marker": {
             "colorbar": {
              "outlinewidth": 0,
              "ticks": ""
             }
            },
            "type": "scatterpolar"
           }
          ],
          "scatterpolargl": [
           {
            "marker": {
             "colorbar": {
              "outlinewidth": 0,
              "ticks": ""
             }
            },
            "type": "scatterpolargl"
           }
          ],
          "scatterternary": [
           {
            "marker": {
             "colorbar": {
              "outlinewidth": 0,
              "ticks": ""
             }
            },
            "type": "scatterternary"
           }
          ],
          "surface": [
           {
            "colorbar": {
             "outlinewidth": 0,
             "ticks": ""
            },
            "colorscale": [
             [
              0,
              "#0d0887"
             ],
             [
              0.1111111111111111,
              "#46039f"
             ],
             [
              0.2222222222222222,
              "#7201a8"
             ],
             [
              0.3333333333333333,
              "#9c179e"
             ],
             [
              0.4444444444444444,
              "#bd3786"
             ],
             [
              0.5555555555555556,
              "#d8576b"
             ],
             [
              0.6666666666666666,
              "#ed7953"
             ],
             [
              0.7777777777777778,
              "#fb9f3a"
             ],
             [
              0.8888888888888888,
              "#fdca26"
             ],
             [
              1,
              "#f0f921"
             ]
            ],
            "type": "surface"
           }
          ],
          "table": [
           {
            "cells": {
             "fill": {
              "color": "#EBF0F8"
             },
             "line": {
              "color": "white"
             }
            },
            "header": {
             "fill": {
              "color": "#C8D4E3"
             },
             "line": {
              "color": "white"
             }
            },
            "type": "table"
           }
          ]
         },
         "layout": {
          "annotationdefaults": {
           "arrowcolor": "#2a3f5f",
           "arrowhead": 0,
           "arrowwidth": 1
          },
          "autotypenumbers": "strict",
          "coloraxis": {
           "colorbar": {
            "outlinewidth": 0,
            "ticks": ""
           }
          },
          "colorscale": {
           "diverging": [
            [
             0,
             "#8e0152"
            ],
            [
             0.1,
             "#c51b7d"
            ],
            [
             0.2,
             "#de77ae"
            ],
            [
             0.3,
             "#f1b6da"
            ],
            [
             0.4,
             "#fde0ef"
            ],
            [
             0.5,
             "#f7f7f7"
            ],
            [
             0.6,
             "#e6f5d0"
            ],
            [
             0.7,
             "#b8e186"
            ],
            [
             0.8,
             "#7fbc41"
            ],
            [
             0.9,
             "#4d9221"
            ],
            [
             1,
             "#276419"
            ]
           ],
           "sequential": [
            [
             0,
             "#0d0887"
            ],
            [
             0.1111111111111111,
             "#46039f"
            ],
            [
             0.2222222222222222,
             "#7201a8"
            ],
            [
             0.3333333333333333,
             "#9c179e"
            ],
            [
             0.4444444444444444,
             "#bd3786"
            ],
            [
             0.5555555555555556,
             "#d8576b"
            ],
            [
             0.6666666666666666,
             "#ed7953"
            ],
            [
             0.7777777777777778,
             "#fb9f3a"
            ],
            [
             0.8888888888888888,
             "#fdca26"
            ],
            [
             1,
             "#f0f921"
            ]
           ],
           "sequentialminus": [
            [
             0,
             "#0d0887"
            ],
            [
             0.1111111111111111,
             "#46039f"
            ],
            [
             0.2222222222222222,
             "#7201a8"
            ],
            [
             0.3333333333333333,
             "#9c179e"
            ],
            [
             0.4444444444444444,
             "#bd3786"
            ],
            [
             0.5555555555555556,
             "#d8576b"
            ],
            [
             0.6666666666666666,
             "#ed7953"
            ],
            [
             0.7777777777777778,
             "#fb9f3a"
            ],
            [
             0.8888888888888888,
             "#fdca26"
            ],
            [
             1,
             "#f0f921"
            ]
           ]
          },
          "colorway": [
           "#636efa",
           "#EF553B",
           "#00cc96",
           "#ab63fa",
           "#FFA15A",
           "#19d3f3",
           "#FF6692",
           "#B6E880",
           "#FF97FF",
           "#FECB52"
          ],
          "font": {
           "color": "#2a3f5f"
          },
          "geo": {
           "bgcolor": "white",
           "lakecolor": "white",
           "landcolor": "#E5ECF6",
           "showlakes": true,
           "showland": true,
           "subunitcolor": "white"
          },
          "hoverlabel": {
           "align": "left"
          },
          "hovermode": "closest",
          "mapbox": {
           "style": "light"
          },
          "paper_bgcolor": "white",
          "plot_bgcolor": "#E5ECF6",
          "polar": {
           "angularaxis": {
            "gridcolor": "white",
            "linecolor": "white",
            "ticks": ""
           },
           "bgcolor": "#E5ECF6",
           "radialaxis": {
            "gridcolor": "white",
            "linecolor": "white",
            "ticks": ""
           }
          },
          "scene": {
           "xaxis": {
            "backgroundcolor": "#E5ECF6",
            "gridcolor": "white",
            "gridwidth": 2,
            "linecolor": "white",
            "showbackground": true,
            "ticks": "",
            "zerolinecolor": "white"
           },
           "yaxis": {
            "backgroundcolor": "#E5ECF6",
            "gridcolor": "white",
            "gridwidth": 2,
            "linecolor": "white",
            "showbackground": true,
            "ticks": "",
            "zerolinecolor": "white"
           },
           "zaxis": {
            "backgroundcolor": "#E5ECF6",
            "gridcolor": "white",
            "gridwidth": 2,
            "linecolor": "white",
            "showbackground": true,
            "ticks": "",
            "zerolinecolor": "white"
           }
          },
          "shapedefaults": {
           "line": {
            "color": "#2a3f5f"
           }
          },
          "ternary": {
           "aaxis": {
            "gridcolor": "white",
            "linecolor": "white",
            "ticks": ""
           },
           "baxis": {
            "gridcolor": "white",
            "linecolor": "white",
            "ticks": ""
           },
           "bgcolor": "#E5ECF6",
           "caxis": {
            "gridcolor": "white",
            "linecolor": "white",
            "ticks": ""
           }
          },
          "title": {
           "x": 0.05
          },
          "xaxis": {
           "automargin": true,
           "gridcolor": "white",
           "linecolor": "white",
           "ticks": "",
           "title": {
            "standoff": 15
           },
           "zerolinecolor": "white",
           "zerolinewidth": 2
          },
          "yaxis": {
           "automargin": true,
           "gridcolor": "white",
           "linecolor": "white",
           "ticks": "",
           "title": {
            "standoff": 15
           },
           "zerolinecolor": "white",
           "zerolinewidth": 2
          }
         }
        },
        "title": {
         "text": "Homers versus On-base Plus Slugging (Small data)"
        },
        "xaxis": {
         "anchor": "y",
         "autorange": true,
         "domain": [
          0,
          1
         ],
         "range": [
          0.5527516087516087,
          1.0952483912483912
         ],
         "title": {
          "text": "OPS"
         },
         "type": "linear"
        },
        "yaxis": {
         "anchor": "x",
         "autorange": true,
         "domain": [
          0,
          1
         ],
         "range": [
          -3.37378640776699,
          58.37378640776699
         ],
         "title": {
          "text": "HR"
         },
         "type": "linear"
        }
       }
      },
      "image/png": "[encoded data removed]",
      "text/html": [
       "<div>                            <div id=\"9e59277f-0f12-4956-8701-cb62664aa3d9\" class=\"plotly-graph-div\" style=\"height:525px; width:100%;\"></div>            <script type=\"text/javascript\">                require([\"plotly\"], function(Plotly) {                    window.PLOTLYENV=window.PLOTLYENV || {};                                    if (document.getElementById(\"9e59277f-0f12-4956-8701-cb62664aa3d9\")) {                    Plotly.newPlot(                        \"9e59277f-0f12-4956-8701-cb62664aa3d9\",                        [{\"hovertemplate\":\"OPS=%{x}\\u003cbr\\u003eHR=%{y}\\u003cextra\\u003e\\u003c\\u002fextra\\u003e\",\"legendgroup\":\"\",\"marker\":{\"color\":\"#636efa\",\"symbol\":\"circle\"},\"mode\":\"markers\",\"name\":\"\",\"orientation\":\"v\",\"showlegend\":false,\"x\":[0.993,0.817,0.821,1.066,1.012,0.905,0.987,0.836,0.857,0.861,0.808,0.853,0.93,0.828,0.849,0.851,1.013,0.83,0.818,0.806,0.84,0.758,0.782,0.762,0.817,0.813,0.788,0.976,0.826,0.886,0.814,0.797,0.783,0.774,0.881,0.803,0.788,0.741,0.793,0.778,0.804,0.868,0.81,0.844,0.77,0.8,0.717,0.856,0.772,0.829,0.831,0.79,0.789,0.781,0.753,0.79,0.714,0.747,0.82,0.8,0.744,0.807,0.932,0.714,0.744,0.791,0.9,0.755,0.732,0.743,0.666,0.814,0.765,0.835,0.762,0.713,0.809,0.842,0.674,0.79,0.818,0.715,0.797,0.818,0.712,0.68,0.711,0.738,0.819,0.808,0.755,0.717,0.741,0.755,0.825,0.746,0.749,0.775,0.79,0.769,0.713,0.712,0.762,0.718,0.747,0.695,0.783,0.725,0.731,0.784,0.733,0.666,0.705,0.722,0.696,0.745,0.703,0.692,0.755,0.646,0.7,0.861,0.689,0.711,0.705,0.717,0.593,0.729,0.654,0.689,0.683,0.682,0.71,0.681,0.582,0.597],\"xaxis\":\"x\",\"y\":[54.0,47.0,46.0,44.0,41.0,40.0,39.0,39.0,38.0,37.0,36.0,36.0,35.0,34.0,33.0,33.0,33.0,33.0,32.0,31.0,31.0,31.0,30.0,30.0,30.0,30.0,29.0,29.0,29.0,29.0,28.0,28.0,28.0,26.0,26.0,26.0,26.0,26.0,26.0,26.0,25.0,25.0,25.0,25.0,25.0,25.0,24.0,24.0,24.0,24.0,24.0,24.0,23.0,23.0,23.0,23.0,23.0,23.0,23.0,23.0,22.0,22.0,22.0,22.0,22.0,21.0,21.0,21.0,21.0,21.0,21.0,20.0,20.0,20.0,20.0,20.0,20.0,20.0,20.0,19.0,19.0,19.0,19.0,19.0,18.0,18.0,18.0,18.0,18.0,18.0,18.0,18.0,17.0,17.0,17.0,17.0,17.0,17.0,17.0,16.0,16.0,15.0,15.0,15.0,15.0,15.0,15.0,14.0,14.0,14.0,14.0,13.0,13.0,13.0,13.0,13.0,12.0,12.0,11.0,11.0,11.0,10.0,10.0,10.0,10.0,10.0,9.0,9.0,9.0,9.0,6.0,5.0,5.0,4.0,1.0,1.0],\"yaxis\":\"y\",\"type\":\"scatter\"},{\"hovertemplate\":\"\\u003cb\\u003eOLS trendline\\u003c\\u002fb\\u003e\\u003cbr\\u003eHR = 87.3573 * OPS + -46.2935\\u003cbr\\u003eR\\u003csup\\u003e2\\u003c\\u002fsup\\u003e=0.560789\\u003cbr\\u003e\\u003cbr\\u003eOPS=%{x}\\u003cbr\\u003eHR=%{y} \\u003cb\\u003e(trend)\\u003c\\u002fb\\u003e\\u003cextra\\u003e\\u003c\\u002fextra\\u003e\",\"legendgroup\":\"\",\"marker\":{\"color\":\"#636efa\",\"symbol\":\"circle\"},\"mode\":\"lines\",\"name\":\"\",\"showlegend\":false,\"x\":[0.582,0.593,0.597,0.646,0.654,0.666,0.666,0.674,0.68,0.681,0.682,0.683,0.689,0.689,0.692,0.695,0.696,0.7,0.703,0.705,0.705,0.71,0.711,0.711,0.712,0.712,0.713,0.713,0.714,0.714,0.715,0.717,0.717,0.717,0.718,0.722,0.725,0.729,0.731,0.732,0.733,0.738,0.741,0.741,0.743,0.744,0.744,0.745,0.746,0.747,0.747,0.749,0.753,0.755,0.755,0.755,0.755,0.758,0.762,0.762,0.762,0.765,0.769,0.77,0.772,0.774,0.775,0.778,0.781,0.782,0.783,0.783,0.784,0.788,0.788,0.789,0.79,0.79,0.79,0.79,0.791,0.793,0.797,0.797,0.8,0.8,0.803,0.804,0.806,0.807,0.808,0.808,0.809,0.81,0.813,0.814,0.814,0.817,0.817,0.818,0.818,0.818,0.819,0.82,0.821,0.825,0.826,0.828,0.829,0.83,0.831,0.835,0.836,0.84,0.842,0.844,0.849,0.851,0.853,0.856,0.857,0.861,0.861,0.868,0.881,0.886,0.9,0.905,0.93,0.932,0.976,0.987,0.993,1.012,1.013,1.066],\"xaxis\":\"x\",\"y\":[4.548408107696062,5.509338169903309,5.858767283433217,10.139273924174603,10.838132151234426,11.88641949182415,11.88641949182415,12.585277718883965,13.109421389178834,13.196778667561311,13.284135945943788,13.371493224326265,13.89563689462112,13.89563689462112,14.15770872976855,14.419780564915982,14.507137843298459,14.856566956828367,15.118638791975798,15.293353348740752,15.293353348740752,15.730139740653136,15.817497019035613,15.817497019035613,15.904854297418098,15.904854297418098,15.992211575800575,15.992211575800575,16.07956885418305,16.07956885418305,16.16692613256553,16.341640689330482,16.341640689330482,16.341640689330482,16.42899796771296,16.778427081242867,17.0404989163903,17.389928029920206,17.56464258668516,17.651999865067637,17.73935714345012,18.1761435353625,18.438215370509937,18.438215370509937,18.61292992727489,18.70028720565736,18.70028720565736,18.787644484039845,18.875001762422315,18.9623590408048,18.9623590408048,19.137073597569753,19.48650271109966,19.661217267864615,19.661217267864615,19.661217267864615,19.661217267864615,19.923289103012053,20.27271821654196,20.27271821654196,20.27271821654196,20.534790051689384,20.884219165219292,20.971576443601776,21.14629100036673,21.321005557131684,21.408362835514154,21.670434670661592,21.93250650580903,22.0198637841915,22.107221062573984,22.107221062573984,22.194578340956454,22.544007454486362,22.544007454486362,22.631364732868846,22.718722011251316,22.718722011251316,22.718722011251316,22.718722011251316,22.8060792896338,22.980793846398754,23.330222959928662,23.330222959928662,23.592294795076086,23.592294795076086,23.854366630223524,23.941723908606008,24.116438465370962,24.20379574375343,24.291153022135916,24.291153022135916,24.378510300518386,24.46586757890087,24.727939414048294,24.815296692430763,24.815296692430763,25.0773685275782,25.0773685275782,25.16472580596067,25.16472580596067,25.16472580596067,25.252083084343155,25.339440362725625,25.42679764110811,25.776226754638017,25.863584033020487,26.03829858978544,26.125655868167925,26.213013146550395,26.30037042493288,26.649799538462787,26.737156816845257,27.08658593037518,27.261300487140133,27.436015043905087,27.872801435817465,28.04751599258242,28.222230549347373,28.48430238449481,28.57165966287728,28.92108877640719,28.92108877640719,29.532589725084534,30.668234344056742,31.10502073596912,32.32802263332381,32.76480902523619,34.94874098479812,35.123455541563075,38.967175790392076,39.928105852599316,40.45224952289418,42.11203781216125,42.19939509054372,46.82933084481502],\"yaxis\":\"y\",\"type\":\"scatter\"}],                        {\"template\":{\"data\":{\"histogram2dcontour\":[{\"type\":\"histogram2dcontour\",\"colorbar\":{\"outlinewidth\":0,\"ticks\":\"\"},\"colorscale\":[[0.0,\"#0d0887\"],[0.1111111111111111,\"#46039f\"],[0.2222222222222222,\"#7201a8\"],[0.3333333333333333,\"#9c179e\"],[0.4444444444444444,\"#bd3786\"],[0.5555555555555556,\"#d8576b\"],[0.6666666666666666,\"#ed7953\"],[0.7777777777777778,\"#fb9f3a\"],[0.8888888888888888,\"#fdca26\"],[1.0,\"#f0f921\"]]}],\"choropleth\":[{\"type\":\"choropleth\",\"colorbar\":{\"outlinewidth\":0,\"ticks\":\"\"}}],\"histogram2d\":[{\"type\":\"histogram2d\",\"colorbar\":{\"outlinewidth\":0,\"ticks\":\"\"},\"colorscale\":[[0.0,\"#0d0887\"],[0.1111111111111111,\"#46039f\"],[0.2222222222222222,\"#7201a8\"],[0.3333333333333333,\"#9c179e\"],[0.4444444444444444,\"#bd3786\"],[0.5555555555555556,\"#d8576b\"],[0.6666666666666666,\"#ed7953\"],[0.7777777777777778,\"#fb9f3a\"],[0.8888888888888888,\"#fdca26\"],[1.0,\"#f0f921\"]]}],\"heatmap\":[{\"type\":\"heatmap\",\"colorbar\":{\"outlinewidth\":0,\"ticks\":\"\"},\"colorscale\":[[0.0,\"#0d0887\"],[0.1111111111111111,\"#46039f\"],[0.2222222222222222,\"#7201a8\"],[0.3333333333333333,\"#9c179e\"],[0.4444444444444444,\"#bd3786\"],[0.5555555555555556,\"#d8576b\"],[0.6666666666666666,\"#ed7953\"],[0.7777777777777778,\"#fb9f3a\"],[0.8888888888888888,\"#fdca26\"],[1.0,\"#f0f921\"]]}],\"heatmapgl\":[{\"type\":\"heatmapgl\",\"colorbar\":{\"outlinewidth\":0,\"ticks\":\"\"},\"colorscale\":[[0.0,\"#0d0887\"],[0.1111111111111111,\"#46039f\"],[0.2222222222222222,\"#7201a8\"],[0.3333333333333333,\"#9c179e\"],[0.4444444444444444,\"#bd3786\"],[0.5555555555555556,\"#d8576b\"],[0.6666666666666666,\"#ed7953\"],[0.7777777777777778,\"#fb9f3a\"],[0.8888888888888888,\"#fdca26\"],[1.0,\"#f0f921\"]]}],\"contourcarpet\":[{\"type\":\"contourcarpet\",\"colorbar\":{\"outlinewidth\":0,\"ticks\":\"\"}}],\"contour\":[{\"type\":\"contour\",\"colorbar\":{\"outlinewidth\":0,\"ticks\":\"\"},\"colorscale\":[[0.0,\"#0d0887\"],[0.1111111111111111,\"#46039f\"],[0.2222222222222222,\"#7201a8\"],[0.3333333333333333,\"#9c179e\"],[0.4444444444444444,\"#bd3786\"],[0.5555555555555556,\"#d8576b\"],[0.6666666666666666,\"#ed7953\"],[0.7777777777777778,\"#fb9f3a\"],[0.8888888888888888,\"#fdca26\"],[1.0,\"#f0f921\"]]}],\"surface\":[{\"type\":\"surface\",\"colorbar\":{\"outlinewidth\":0,\"ticks\":\"\"},\"colorscale\":[[0.0,\"#0d0887\"],[0.1111111111111111,\"#46039f\"],[0.2222222222222222,\"#7201a8\"],[0.3333333333333333,\"#9c179e\"],[0.4444444444444444,\"#bd3786\"],[0.5555555555555556,\"#d8576b\"],[0.6666666666666666,\"#ed7953\"],[0.7777777777777778,\"#fb9f3a\"],[0.8888888888888888,\"#fdca26\"],[1.0,\"#f0f921\"]]}],\"mesh3d\":[{\"type\":\"mesh3d\",\"colorbar\":{\"outlinewidth\":0,\"ticks\":\"\"}}],\"scatter\":[{\"fillpattern\":{\"fillmode\":\"overlay\",\"size\":10,\"solidity\":0.2},\"type\":\"scatter\"}],\"parcoords\":[{\"type\":\"parcoords\",\"line\":{\"colorbar\":{\"outlinewidth\":0,\"ticks\":\"\"}}}],\"scatterpolargl\":[{\"type\":\"scatterpolargl\",\"marker\":{\"colorbar\":{\"outlinewidth\":0,\"ticks\":\"\"}}}],\"bar\":[{\"error_x\":{\"color\":\"#2a3f5f\"},\"error_y\":{\"color\":\"#2a3f5f\"},\"marker\":{\"line\":{\"color\":\"#E5ECF6\",\"width\":0.5},\"pattern\":{\"fillmode\":\"overlay\",\"size\":10,\"solidity\":0.2}},\"type\":\"bar\"}],\"scattergeo\":[{\"type\":\"scattergeo\",\"marker\":{\"colorbar\":{\"outlinewidth\":0,\"ticks\":\"\"}}}],\"scatterpolar\":[{\"type\":\"scatterpolar\",\"marker\":{\"colorbar\":{\"outlinewidth\":0,\"ticks\":\"\"}}}],\"histogram\":[{\"marker\":{\"pattern\":{\"fillmode\":\"overlay\",\"size\":10,\"solidity\":0.2}},\"type\":\"histogram\"}],\"scattergl\":[{\"type\":\"scattergl\",\"marker\":{\"colorbar\":{\"outlinewidth\":0,\"ticks\":\"\"}}}],\"scatter3d\":[{\"type\":\"scatter3d\",\"line\":{\"colorbar\":{\"outlinewidth\":0,\"ticks\":\"\"}},\"marker\":{\"colorbar\":{\"outlinewidth\":0,\"ticks\":\"\"}}}],\"scattermapbox\":[{\"type\":\"scattermapbox\",\"marker\":{\"colorbar\":{\"outlinewidth\":0,\"ticks\":\"\"}}}],\"scatterternary\":[{\"type\":\"scatterternary\",\"marker\":{\"colorbar\":{\"outlinewidth\":0,\"ticks\":\"\"}}}],\"scattercarpet\":[{\"type\":\"scattercarpet\",\"marker\":{\"colorbar\":{\"outlinewidth\":0,\"ticks\":\"\"}}}],\"carpet\":[{\"aaxis\":{\"endlinecolor\":\"#2a3f5f\",\"gridcolor\":\"white\",\"linecolor\":\"white\",\"minorgridcolor\":\"white\",\"startlinecolor\":\"#2a3f5f\"},\"baxis\":{\"endlinecolor\":\"#2a3f5f\",\"gridcolor\":\"white\",\"linecolor\":\"white\",\"minorgridcolor\":\"white\",\"startlinecolor\":\"#2a3f5f\"},\"type\":\"carpet\"}],\"table\":[{\"cells\":{\"fill\":{\"color\":\"#EBF0F8\"},\"line\":{\"color\":\"white\"}},\"header\":{\"fill\":{\"color\":\"#C8D4E3\"},\"line\":{\"color\":\"white\"}},\"type\":\"table\"}],\"barpolar\":[{\"marker\":{\"line\":{\"color\":\"#E5ECF6\",\"width\":0.5},\"pattern\":{\"fillmode\":\"overlay\",\"size\":10,\"solidity\":0.2}},\"type\":\"barpolar\"}],\"pie\":[{\"automargin\":true,\"type\":\"pie\"}]},\"layout\":{\"autotypenumbers\":\"strict\",\"colorway\":[\"#636efa\",\"#EF553B\",\"#00cc96\",\"#ab63fa\",\"#FFA15A\",\"#19d3f3\",\"#FF6692\",\"#B6E880\",\"#FF97FF\",\"#FECB52\"],\"font\":{\"color\":\"#2a3f5f\"},\"hovermode\":\"closest\",\"hoverlabel\":{\"align\":\"left\"},\"paper_bgcolor\":\"white\",\"plot_bgcolor\":\"#E5ECF6\",\"polar\":{\"bgcolor\":\"#E5ECF6\",\"angularaxis\":{\"gridcolor\":\"white\",\"linecolor\":\"white\",\"ticks\":\"\"},\"radialaxis\":{\"gridcolor\":\"white\",\"linecolor\":\"white\",\"ticks\":\"\"}},\"ternary\":{\"bgcolor\":\"#E5ECF6\",\"aaxis\":{\"gridcolor\":\"white\",\"linecolor\":\"white\",\"ticks\":\"\"},\"baxis\":{\"gridcolor\":\"white\",\"linecolor\":\"white\",\"ticks\":\"\"},\"caxis\":{\"gridcolor\":\"white\",\"linecolor\":\"white\",\"ticks\":\"\"}},\"coloraxis\":{\"colorbar\":{\"outlinewidth\":0,\"ticks\":\"\"}},\"colorscale\":{\"sequential\":[[0.0,\"#0d0887\"],[0.1111111111111111,\"#46039f\"],[0.2222222222222222,\"#7201a8\"],[0.3333333333333333,\"#9c179e\"],[0.4444444444444444,\"#bd3786\"],[0.5555555555555556,\"#d8576b\"],[0.6666666666666666,\"#ed7953\"],[0.7777777777777778,\"#fb9f3a\"],[0.8888888888888888,\"#fdca26\"],[1.0,\"#f0f921\"]],\"sequentialminus\":[[0.0,\"#0d0887\"],[0.1111111111111111,\"#46039f\"],[0.2222222222222222,\"#7201a8\"],[0.3333333333333333,\"#9c179e\"],[0.4444444444444444,\"#bd3786\"],[0.5555555555555556,\"#d8576b\"],[0.6666666666666666,\"#ed7953\"],[0.7777777777777778,\"#fb9f3a\"],[0.8888888888888888,\"#fdca26\"],[1.0,\"#f0f921\"]],\"diverging\":[[0,\"#8e0152\"],[0.1,\"#c51b7d\"],[0.2,\"#de77ae\"],[0.3,\"#f1b6da\"],[0.4,\"#fde0ef\"],[0.5,\"#f7f7f7\"],[0.6,\"#e6f5d0\"],[0.7,\"#b8e186\"],[0.8,\"#7fbc41\"],[0.9,\"#4d9221\"],[1,\"#276419\"]]},\"xaxis\":{\"gridcolor\":\"white\",\"linecolor\":\"white\",\"ticks\":\"\",\"title\":{\"standoff\":15},\"zerolinecolor\":\"white\",\"automargin\":true,\"zerolinewidth\":2},\"yaxis\":{\"gridcolor\":\"white\",\"linecolor\":\"white\",\"ticks\":\"\",\"title\":{\"standoff\":15},\"zerolinecolor\":\"white\",\"automargin\":true,\"zerolinewidth\":2},\"scene\":{\"xaxis\":{\"backgroundcolor\":\"#E5ECF6\",\"gridcolor\":\"white\",\"linecolor\":\"white\",\"showbackground\":true,\"ticks\":\"\",\"zerolinecolor\":\"white\",\"gridwidth\":2},\"yaxis\":{\"backgroundcolor\":\"#E5ECF6\",\"gridcolor\":\"white\",\"linecolor\":\"white\",\"showbackground\":true,\"ticks\":\"\",\"zerolinecolor\":\"white\",\"gridwidth\":2},\"zaxis\":{\"backgroundcolor\":\"#E5ECF6\",\"gridcolor\":\"white\",\"linecolor\":\"white\",\"showbackground\":true,\"ticks\":\"\",\"zerolinecolor\":\"white\",\"gridwidth\":2}},\"shapedefaults\":{\"line\":{\"color\":\"#2a3f5f\"}},\"annotationdefaults\":{\"arrowcolor\":\"#2a3f5f\",\"arrowhead\":0,\"arrowwidth\":1},\"geo\":{\"bgcolor\":\"white\",\"landcolor\":\"#E5ECF6\",\"subunitcolor\":\"white\",\"showland\":true,\"showlakes\":true,\"lakecolor\":\"white\"},\"title\":{\"x\":0.05},\"mapbox\":{\"style\":\"light\"}}},\"xaxis\":{\"anchor\":\"y\",\"domain\":[0.0,1.0],\"title\":{\"text\":\"OPS\"}},\"yaxis\":{\"anchor\":\"x\",\"domain\":[0.0,1.0],\"title\":{\"text\":\"HR\"}},\"legend\":{\"tracegroupgap\":0},\"title\":{\"text\":\"Homers versus On-base Plus Slugging (Small data)\"}},                        {\"responsive\": true}                    ).then(function(){\n",
       "                            \n",
       "var gd = document.getElementById('9e59277f-0f12-4956-8701-cb62664aa3d9');\n",
       "var x = new MutationObserver(function (mutations, observer) {{\n",
       "        var display = window.getComputedStyle(gd).display;\n",
       "        if (!display || display === 'none') {{\n",
       "            console.log([gd, 'removed!']);\n",
       "            Plotly.purge(gd);\n",
       "            observer.disconnect();\n",
       "        }}\n",
       "}});\n",
       "\n",
       "// Listen for the removal of the full notebook cells\n",
       "var notebookContainer = gd.closest('#notebook-container');\n",
       "if (notebookContainer) {{\n",
       "    x.observe(notebookContainer, {childList: true});\n",
       "}}\n",
       "\n",
       "// Listen for the clearing of the current output cell\n",
       "var outputEl = gd.closest('.output');\n",
       "if (outputEl) {{\n",
       "    x.observe(outputEl, {childList: true});\n",
       "}}\n",
       "\n",
       "                        })                };                });            </script>        </div>"
      ]
     },
     "metadata": {},
     "output_type": "display_data"
    }
   ],
   "source": [
    "px.scatter(dfc, x='OPS', y='HR', title='Homers versus On-base Plus Slugging (Small data)',trendline=\"ols\")"
   ]
  },
  {
   "cell_type": "markdown",
   "metadata": {},
   "source": [
    "### Observations\n",
    "\n",
    "It appears that the HR vs OPS chart shows a much stronger linear correlation that the first chart. You can also use your mouse to roll over the straight line in this second chart and see the $R^2$ value is about 0.5, which indicates a strong correlation.\n",
    "\n",
    "The first graph has a much smaller $R^2$. What is it? Does this tell you the correlation in the first graph is weaker?\n"
   ]
  },
  {
   "cell_type": "markdown",
   "metadata": {},
   "source": [
    "## Adding our own statistical measure\n",
    "\n",
    "We can create our own statistics to indicate what measures the value of the player. For instance, perhaps we are less interested in home runs but more interested in players that help the team score overall.\n",
    "\n",
    "For instance, Runs Batted In (RBI) and Runs (R) are good measure of how a player helps the team put points on the score board. We can define a new stat by the formula\n",
    "\n",
    "$$ \\mbox{ result } = \\mbox{ RBI } + \\mbox{ R } + \\mbox{ HR }$$\n",
    "\n",
    "Notice we have to subtract the Home Run count, since it is already counted in Hits .\n",
    "\n",
    "Here is the code. We save the results in dfb and then make a new copy of the shorter data frame dfc. "
   ]
  },
  {
   "cell_type": "code",
   "execution_count": 41,
   "metadata": {},
   "outputs": [
    {
     "data": {
      "text/html": [
       "<div>\n",
       "<style scoped>\n",
       "    .dataframe tbody tr th:only-of-type {\n",
       "        vertical-align: middle;\n",
       "    }\n",
       "\n",
       "    .dataframe tbody tr th {\n",
       "        vertical-align: top;\n",
       "    }\n",
       "\n",
       "    .dataframe thead th {\n",
       "        text-align: right;\n",
       "    }\n",
       "</style>\n",
       "<table border=\"1\" class=\"dataframe\">\n",
       "  <thead>\n",
       "    <tr style=\"text-align: right;\">\n",
       "      <th></th>\n",
       "      <th>Rk</th>\n",
       "      <th>Player</th>\n",
       "      <th>HR</th>\n",
       "      <th>Season</th>\n",
       "      <th>Age</th>\n",
       "      <th>Team</th>\n",
       "      <th>Lg</th>\n",
       "      <th>G</th>\n",
       "      <th>PA</th>\n",
       "      <th>AB</th>\n",
       "      <th>...</th>\n",
       "      <th>OPS+</th>\n",
       "      <th>TB</th>\n",
       "      <th>GIDP</th>\n",
       "      <th>HBP</th>\n",
       "      <th>SH</th>\n",
       "      <th>SF</th>\n",
       "      <th>IBB</th>\n",
       "      <th>Pos</th>\n",
       "      <th>Player-additional</th>\n",
       "      <th>result</th>\n",
       "    </tr>\n",
       "  </thead>\n",
       "  <tbody>\n",
       "    <tr>\n",
       "      <th>1</th>\n",
       "      <td>1.0</td>\n",
       "      <td>Matt Olson</td>\n",
       "      <td>54.0</td>\n",
       "      <td>2023.0</td>\n",
       "      <td>29.0</td>\n",
       "      <td>ATL</td>\n",
       "      <td>NL</td>\n",
       "      <td>162.0</td>\n",
       "      <td>720.0</td>\n",
       "      <td>608.0</td>\n",
       "      <td>...</td>\n",
       "      <td>162.0</td>\n",
       "      <td>367.0</td>\n",
       "      <td>13.0</td>\n",
       "      <td>4.0</td>\n",
       "      <td>0.0</td>\n",
       "      <td>4.0</td>\n",
       "      <td>8.0</td>\n",
       "      <td>*3</td>\n",
       "      <td>olsonma02</td>\n",
       "      <td>212.0</td>\n",
       "    </tr>\n",
       "    <tr>\n",
       "      <th>2</th>\n",
       "      <td>2.0</td>\n",
       "      <td>Kyle Schwarber</td>\n",
       "      <td>47.0</td>\n",
       "      <td>2023.0</td>\n",
       "      <td>30.0</td>\n",
       "      <td>PHI</td>\n",
       "      <td>NL</td>\n",
       "      <td>160.0</td>\n",
       "      <td>720.0</td>\n",
       "      <td>585.0</td>\n",
       "      <td>...</td>\n",
       "      <td>122.0</td>\n",
       "      <td>277.0</td>\n",
       "      <td>4.0</td>\n",
       "      <td>6.0</td>\n",
       "      <td>0.0</td>\n",
       "      <td>3.0</td>\n",
       "      <td>5.0</td>\n",
       "      <td>7D</td>\n",
       "      <td>schwaky01</td>\n",
       "      <td>165.0</td>\n",
       "    </tr>\n",
       "    <tr>\n",
       "      <th>3</th>\n",
       "      <td>3.0</td>\n",
       "      <td>Pete Alonso</td>\n",
       "      <td>46.0</td>\n",
       "      <td>2023.0</td>\n",
       "      <td>28.0</td>\n",
       "      <td>NYM</td>\n",
       "      <td>NL</td>\n",
       "      <td>154.0</td>\n",
       "      <td>658.0</td>\n",
       "      <td>568.0</td>\n",
       "      <td>...</td>\n",
       "      <td>122.0</td>\n",
       "      <td>286.0</td>\n",
       "      <td>17.0</td>\n",
       "      <td>21.0</td>\n",
       "      <td>0.0</td>\n",
       "      <td>4.0</td>\n",
       "      <td>6.0</td>\n",
       "      <td>*3/D</td>\n",
       "      <td>alonspe01</td>\n",
       "      <td>164.0</td>\n",
       "    </tr>\n",
       "    <tr>\n",
       "      <th>4</th>\n",
       "      <td>4.0</td>\n",
       "      <td>Shohei Ohtani</td>\n",
       "      <td>44.0</td>\n",
       "      <td>2023.0</td>\n",
       "      <td>28.0</td>\n",
       "      <td>LAA</td>\n",
       "      <td>AL</td>\n",
       "      <td>135.0</td>\n",
       "      <td>599.0</td>\n",
       "      <td>497.0</td>\n",
       "      <td>...</td>\n",
       "      <td>184.0</td>\n",
       "      <td>325.0</td>\n",
       "      <td>9.0</td>\n",
       "      <td>3.0</td>\n",
       "      <td>0.0</td>\n",
       "      <td>3.0</td>\n",
       "      <td>21.0</td>\n",
       "      <td>*D1</td>\n",
       "      <td>ohtansh01</td>\n",
       "      <td>153.0</td>\n",
       "    </tr>\n",
       "    <tr>\n",
       "      <th>5</th>\n",
       "      <td>5.0</td>\n",
       "      <td>Ronald Acuña Jr.</td>\n",
       "      <td>41.0</td>\n",
       "      <td>2023.0</td>\n",
       "      <td>25.0</td>\n",
       "      <td>ATL</td>\n",
       "      <td>NL</td>\n",
       "      <td>159.0</td>\n",
       "      <td>735.0</td>\n",
       "      <td>643.0</td>\n",
       "      <td>...</td>\n",
       "      <td>168.0</td>\n",
       "      <td>383.0</td>\n",
       "      <td>15.0</td>\n",
       "      <td>9.0</td>\n",
       "      <td>0.0</td>\n",
       "      <td>3.0</td>\n",
       "      <td>3.0</td>\n",
       "      <td>*9/D</td>\n",
       "      <td>acunaro01</td>\n",
       "      <td>214.0</td>\n",
       "    </tr>\n",
       "    <tr>\n",
       "      <th>...</th>\n",
       "      <td>...</td>\n",
       "      <td>...</td>\n",
       "      <td>...</td>\n",
       "      <td>...</td>\n",
       "      <td>...</td>\n",
       "      <td>...</td>\n",
       "      <td>...</td>\n",
       "      <td>...</td>\n",
       "      <td>...</td>\n",
       "      <td>...</td>\n",
       "      <td>...</td>\n",
       "      <td>...</td>\n",
       "      <td>...</td>\n",
       "      <td>...</td>\n",
       "      <td>...</td>\n",
       "      <td>...</td>\n",
       "      <td>...</td>\n",
       "      <td>...</td>\n",
       "      <td>...</td>\n",
       "      <td>...</td>\n",
       "      <td>...</td>\n",
       "    </tr>\n",
       "    <tr>\n",
       "      <th>327</th>\n",
       "      <td>327.0</td>\n",
       "      <td>Andrew Benintendi</td>\n",
       "      <td>5.0</td>\n",
       "      <td>2023.0</td>\n",
       "      <td>28.0</td>\n",
       "      <td>CHW</td>\n",
       "      <td>AL</td>\n",
       "      <td>151.0</td>\n",
       "      <td>621.0</td>\n",
       "      <td>562.0</td>\n",
       "      <td>...</td>\n",
       "      <td>87.0</td>\n",
       "      <td>200.0</td>\n",
       "      <td>12.0</td>\n",
       "      <td>3.0</td>\n",
       "      <td>1.0</td>\n",
       "      <td>3.0</td>\n",
       "      <td>5.0</td>\n",
       "      <td>*7/HD</td>\n",
       "      <td>beninan01</td>\n",
       "      <td>112.0</td>\n",
       "    </tr>\n",
       "    <tr>\n",
       "      <th>340</th>\n",
       "      <td>340.0</td>\n",
       "      <td>Steven Kwan</td>\n",
       "      <td>5.0</td>\n",
       "      <td>2023.0</td>\n",
       "      <td>25.0</td>\n",
       "      <td>CLE</td>\n",
       "      <td>AL</td>\n",
       "      <td>158.0</td>\n",
       "      <td>718.0</td>\n",
       "      <td>638.0</td>\n",
       "      <td>...</td>\n",
       "      <td>100.0</td>\n",
       "      <td>236.0</td>\n",
       "      <td>9.0</td>\n",
       "      <td>3.0</td>\n",
       "      <td>1.0</td>\n",
       "      <td>6.0</td>\n",
       "      <td>2.0</td>\n",
       "      <td>*7/DH</td>\n",
       "      <td>kwanst01</td>\n",
       "      <td>142.0</td>\n",
       "    </tr>\n",
       "    <tr>\n",
       "      <th>365</th>\n",
       "      <td>365.0</td>\n",
       "      <td>Maikel García</td>\n",
       "      <td>4.0</td>\n",
       "      <td>2023.0</td>\n",
       "      <td>23.0</td>\n",
       "      <td>KCR</td>\n",
       "      <td>AL</td>\n",
       "      <td>123.0</td>\n",
       "      <td>515.0</td>\n",
       "      <td>464.0</td>\n",
       "      <td>...</td>\n",
       "      <td>88.0</td>\n",
       "      <td>166.0</td>\n",
       "      <td>9.0</td>\n",
       "      <td>2.0</td>\n",
       "      <td>1.0</td>\n",
       "      <td>10.0</td>\n",
       "      <td>0.0</td>\n",
       "      <td>56/D4H</td>\n",
       "      <td>garcima01</td>\n",
       "      <td>105.0</td>\n",
       "    </tr>\n",
       "    <tr>\n",
       "      <th>482</th>\n",
       "      <td>482.0</td>\n",
       "      <td>Tim Anderson</td>\n",
       "      <td>1.0</td>\n",
       "      <td>2023.0</td>\n",
       "      <td>30.0</td>\n",
       "      <td>CHW</td>\n",
       "      <td>AL</td>\n",
       "      <td>123.0</td>\n",
       "      <td>524.0</td>\n",
       "      <td>493.0</td>\n",
       "      <td>...</td>\n",
       "      <td>60.0</td>\n",
       "      <td>146.0</td>\n",
       "      <td>15.0</td>\n",
       "      <td>3.0</td>\n",
       "      <td>0.0</td>\n",
       "      <td>2.0</td>\n",
       "      <td>0.0</td>\n",
       "      <td>*6/H4</td>\n",
       "      <td>anderti01</td>\n",
       "      <td>76.0</td>\n",
       "    </tr>\n",
       "    <tr>\n",
       "      <th>531</th>\n",
       "      <td>531.0</td>\n",
       "      <td>Myles Straw</td>\n",
       "      <td>1.0</td>\n",
       "      <td>2023.0</td>\n",
       "      <td>28.0</td>\n",
       "      <td>CLE</td>\n",
       "      <td>AL</td>\n",
       "      <td>147.0</td>\n",
       "      <td>518.0</td>\n",
       "      <td>462.0</td>\n",
       "      <td>...</td>\n",
       "      <td>69.0</td>\n",
       "      <td>137.0</td>\n",
       "      <td>10.0</td>\n",
       "      <td>2.0</td>\n",
       "      <td>6.0</td>\n",
       "      <td>6.0</td>\n",
       "      <td>0.0</td>\n",
       "      <td>*8/H</td>\n",
       "      <td>strawmy01</td>\n",
       "      <td>80.0</td>\n",
       "    </tr>\n",
       "  </tbody>\n",
       "</table>\n",
       "<p>136 rows × 35 columns</p>\n",
       "</div>"
      ],
      "text/plain": [
       "        Rk             Player    HR  Season   Age Team  Lg      G     PA  \\\n",
       "1      1.0         Matt Olson  54.0  2023.0  29.0  ATL  NL  162.0  720.0   \n",
       "2      2.0     Kyle Schwarber  47.0  2023.0  30.0  PHI  NL  160.0  720.0   \n",
       "3      3.0        Pete Alonso  46.0  2023.0  28.0  NYM  NL  154.0  658.0   \n",
       "4      4.0      Shohei Ohtani  44.0  2023.0  28.0  LAA  AL  135.0  599.0   \n",
       "5      5.0   Ronald Acuña Jr.  41.0  2023.0  25.0  ATL  NL  159.0  735.0   \n",
       "..     ...                ...   ...     ...   ...  ...  ..    ...    ...   \n",
       "327  327.0  Andrew Benintendi   5.0  2023.0  28.0  CHW  AL  151.0  621.0   \n",
       "340  340.0        Steven Kwan   5.0  2023.0  25.0  CLE  AL  158.0  718.0   \n",
       "365  365.0      Maikel García   4.0  2023.0  23.0  KCR  AL  123.0  515.0   \n",
       "482  482.0       Tim Anderson   1.0  2023.0  30.0  CHW  AL  123.0  524.0   \n",
       "531  531.0        Myles Straw   1.0  2023.0  28.0  CLE  AL  147.0  518.0   \n",
       "\n",
       "        AB  ...   OPS+     TB  GIDP   HBP   SH    SF   IBB     Pos  \\\n",
       "1    608.0  ...  162.0  367.0  13.0   4.0  0.0   4.0   8.0      *3   \n",
       "2    585.0  ...  122.0  277.0   4.0   6.0  0.0   3.0   5.0      7D   \n",
       "3    568.0  ...  122.0  286.0  17.0  21.0  0.0   4.0   6.0    *3/D   \n",
       "4    497.0  ...  184.0  325.0   9.0   3.0  0.0   3.0  21.0     *D1   \n",
       "5    643.0  ...  168.0  383.0  15.0   9.0  0.0   3.0   3.0    *9/D   \n",
       "..     ...  ...    ...    ...   ...   ...  ...   ...   ...     ...   \n",
       "327  562.0  ...   87.0  200.0  12.0   3.0  1.0   3.0   5.0   *7/HD   \n",
       "340  638.0  ...  100.0  236.0   9.0   3.0  1.0   6.0   2.0   *7/DH   \n",
       "365  464.0  ...   88.0  166.0   9.0   2.0  1.0  10.0   0.0  56/D4H   \n",
       "482  493.0  ...   60.0  146.0  15.0   3.0  0.0   2.0   0.0   *6/H4   \n",
       "531  462.0  ...   69.0  137.0  10.0   2.0  6.0   6.0   0.0    *8/H   \n",
       "\n",
       "     Player-additional  result  \n",
       "1            olsonma02   212.0  \n",
       "2            schwaky01   165.0  \n",
       "3            alonspe01   164.0  \n",
       "4            ohtansh01   153.0  \n",
       "5            acunaro01   214.0  \n",
       "..                 ...     ...  \n",
       "327          beninan01   112.0  \n",
       "340           kwanst01   142.0  \n",
       "365          garcima01   105.0  \n",
       "482          anderti01    76.0  \n",
       "531          strawmy01    80.0  \n",
       "\n",
       "[136 rows x 35 columns]"
      ]
     },
     "execution_count": 41,
     "metadata": {},
     "output_type": "execute_result"
    }
   ],
   "source": [
    "dfb[\"result\"]=dfb[\"RBI\"] +dfb[\"R\"]-dfb[\"HR\"]\n",
    "dfc=dfb.loc[dfb[\"PA\"] > 500]\n",
    "dfc"
   ]
  },
  {
   "cell_type": "markdown",
   "metadata": {},
   "source": [
    "## Plotting\n",
    "\n",
    "Let's plot this **results** data, representing the Runs produced, versus Batting Average and On-base Plus Slugging. \n",
    "\n",
    "You can examine the outliers by dragging your mouse over a data point -- it will show the name of the player. "
   ]
  },
  {
   "cell_type": "code",
   "execution_count": 46,
   "metadata": {},
   "outputs": [
    {
     "data": {
      "application/vnd.plotly.v1+json": {
       "config": {
        "plotlyServerURL": "https://plot.ly"
       },
       "data": [
        {
         "hovertemplate": "<b>%{hovertext}</b><br><br>BA=%{x}<br>result=%{y}<extra></extra>",
         "hovertext": [
          "Matt Olson",
          "Kyle Schwarber",
          "Pete Alonso",
          "Shohei Ohtani",
          "Ronald Acuña Jr.",
          "Marcell Ozuna",
          "Mookie Betts",
          "Adolis García",
          "Luis Robert Jr.",
          "Austin Riley",
          "Max Muncy",
          "Jorge Soler",
          "Juan Soto",
          "Jake Burger",
          "Ozzie Albies",
          "Rafael Devers",
          "Corey Seager",
          "Christian Walker",
          "Julio Rodríguez",
          "Francisco Lindor",
          "Isaac Paredes",
          "Spencer Torkelson",
          "Manny Machado",
          "Cal Raleigh",
          "Brent Rooker",
          "Bobby Witt Jr.",
          "Nick Castellanos",
          "Freddie Freeman",
          "Marcus Semien",
          "Kyle Tucker",
          "Gunnar Henderson",
          "Anthony Santander",
          "Lane Thomas",
          "Nolan Arenado",
          "Cody Bellinger",
          "Brandon Drury",
          "Vladimir Guerrero Jr.",
          "Teoscar Hernández",
          "Jack Suwinski",
          "Trea Turner",
          "Alex Bregman",
          "Corbin Carroll",
          "Paul Goldschmidt",
          "Ketel Marte",
          "Fernando Tatis Jr.",
          "Gleyber Torres",
          "Willy Adames",
          "Triston Casas",
          "Lourdes Gurriel Jr.",
          "Brandon Nimmo",
          "José Ramírez",
          "Bryan Reynolds",
          "Randy Arozarena",
          "Josh Jung",
          "Ryan McMahon",
          "James Outman",
          "Salvador Pérez",
          "Carlos Santana",
          "Spencer Steer",
          "Justin Turner",
          "Josh Bell",
          "Jeimer Candelario",
          "Yandy Díaz",
          "Eugenio Suárez",
          "Dansby Swanson",
          "Ian Happ",
          "Bryce Harper",
          "Eddie Rosario",
          "George Springer",
          "Andrew Vaughn",
          "Anthony Volpe",
          "Bo Bichette",
          "Alec Bohm",
          "Josh Lowe",
          "J.T. Realmuto",
          "Hunter Renfroe",
          "Adley Rutschman",
          "Seiya Suzuki",
          "Daulton Varsho",
          "Xander Bogaerts",
          "J.P. Crawford",
          "Bryan De La Cruz",
          "Will Smith",
          "Christian Yelich",
          "CJ Abrams",
          "José Abreu",
          "Carlos Correa",
          "J.D. Davis",
          "TJ Friedl",
          "Michael Harris II",
          "Jonah Heim",
          "Keibert Ruiz",
          "Orlando Arcia",
          "Matt Chapman",
          "William Contreras",
          "Jonathan India",
          "Ha-Seong Kim",
          "Nathaniel Lowe",
          "LaMonte Wade Jr.",
          "Austin Hays",
          "MJ Melendez",
          "Andrés Giménez",
          "Ke'Bryan Hayes",
          "DJ LeMahieu",
          "Bryson Stott",
          "Ezequiel Tovar",
          "Masataka Yoshida",
          "Elías Díaz",
          "Thairo Estrada",
          "Lars Nootbaar",
          "Leody Taveras",
          "Trent Grisham",
          "Tommy Edman",
          "Joey Meneses",
          "Tyler Stephenson",
          "Alex Verdugo",
          "Ty France",
          "Dominic Smith",
          "Mark Canha",
          "Kiké Hernández",
          "Whit Merrifield",
          "Luis Arráez",
          "Jake Cronenworth",
          "Jeff McNeil",
          "Jeremy Peña",
          "Matt Vierling",
          "Javier Báez",
          "Nico Hoerner",
          "Zach McKinstry",
          "Jurickson Profar",
          "Amed Rosario",
          "Andrew Benintendi",
          "Steven Kwan",
          "Maikel García",
          "Tim Anderson",
          "Myles Straw"
         ],
         "legendgroup": "",
         "marker": {
          "color": "#636efa",
          "symbol": "circle"
         },
         "mode": "markers",
         "name": "",
         "orientation": "v",
         "showlegend": false,
         "type": "scatter",
         "x": [
          0.283,
          0.197,
          0.217,
          0.304,
          0.337,
          0.274,
          0.307,
          0.245,
          0.264,
          0.281,
          0.212,
          0.25,
          0.275,
          0.25,
          0.28,
          0.271,
          0.327,
          0.258,
          0.275,
          0.254,
          0.25,
          0.233,
          0.258,
          0.232,
          0.246,
          0.276,
          0.272,
          0.331,
          0.276,
          0.284,
          0.255,
          0.257,
          0.268,
          0.266,
          0.307,
          0.262,
          0.264,
          0.258,
          0.224,
          0.266,
          0.262,
          0.285,
          0.268,
          0.276,
          0.257,
          0.273,
          0.217,
          0.263,
          0.261,
          0.274,
          0.282,
          0.263,
          0.254,
          0.266,
          0.24,
          0.248,
          0.255,
          0.24,
          0.271,
          0.276,
          0.247,
          0.251,
          0.33,
          0.232,
          0.244,
          0.248,
          0.293,
          0.255,
          0.258,
          0.258,
          0.209,
          0.306,
          0.274,
          0.292,
          0.252,
          0.233,
          0.277,
          0.285,
          0.22,
          0.285,
          0.266,
          0.257,
          0.261,
          0.278,
          0.245,
          0.237,
          0.23,
          0.248,
          0.279,
          0.293,
          0.258,
          0.26,
          0.264,
          0.24,
          0.289,
          0.244,
          0.26,
          0.262,
          0.256,
          0.275,
          0.235,
          0.251,
          0.271,
          0.243,
          0.28,
          0.253,
          0.289,
          0.267,
          0.271,
          0.261,
          0.266,
          0.198,
          0.248,
          0.275,
          0.243,
          0.264,
          0.25,
          0.254,
          0.262,
          0.237,
          0.272,
          0.354,
          0.229,
          0.27,
          0.263,
          0.261,
          0.222,
          0.283,
          0.231,
          0.242,
          0.263,
          0.262,
          0.268,
          0.272,
          0.245,
          0.238
         ],
         "xaxis": "x",
         "y": [
          212,
          165,
          164,
          153,
          214,
          144,
          194,
          176,
          132,
          177,
          164,
          116,
          171,
          117,
          172,
          157,
          151,
          156,
          173,
          175,
          138,
          151,
          136,
          123,
          100,
          163,
          156,
          204,
          193,
          180,
          154,
          148,
          159,
          138,
          166,
          118,
          146,
          137,
          111,
          152,
          176,
          167,
          144,
          151,
          144,
          133,
          129,
          107,
          123,
          133,
          143,
          145,
          155,
          122,
          127,
          133,
          116,
          141,
          137,
          159,
          104,
          125,
          151,
          142,
          139,
          149,
          135,
          117,
          138,
          126,
          101,
          122,
          151,
          134,
          113,
          100,
          144,
          129,
          106,
          122,
          140,
          119,
          137,
          163,
          129,
          134,
          107,
          112,
          121,
          115,
          138,
          104,
          114,
          103,
          147,
          122,
          127,
          154,
          92,
          127,
          105,
          123,
          111,
          84,
          125,
          137,
          128,
          106,
          98,
          106,
          120,
          104,
          103,
          147,
          102,
          122,
          125,
          91,
          102,
          107,
          122,
          130,
          92,
          120,
          123,
          97,
          108,
          157,
          86,
          92,
          122,
          112,
          142,
          105,
          76,
          80
         ],
         "yaxis": "y"
        },
        {
         "hovertemplate": "<b>OLS trendline</b><br>result = 465.532 * BA + 11.186<br>R<sup>2</sup>=0.190172<br><br>BA=%{x}<br>result=%{y} <b>(trend)</b><extra></extra>",
         "legendgroup": "",
         "marker": {
          "color": "#636efa",
          "symbol": "circle"
         },
         "mode": "lines",
         "name": "",
         "showlegend": false,
         "type": "scatter",
         "x": [
          0.197,
          0.198,
          0.209,
          0.212,
          0.217,
          0.217,
          0.22,
          0.222,
          0.224,
          0.229,
          0.23,
          0.231,
          0.232,
          0.232,
          0.233,
          0.233,
          0.235,
          0.237,
          0.237,
          0.238,
          0.24,
          0.24,
          0.24,
          0.242,
          0.243,
          0.243,
          0.244,
          0.244,
          0.245,
          0.245,
          0.245,
          0.246,
          0.247,
          0.248,
          0.248,
          0.248,
          0.248,
          0.25,
          0.25,
          0.25,
          0.25,
          0.251,
          0.251,
          0.252,
          0.253,
          0.254,
          0.254,
          0.254,
          0.255,
          0.255,
          0.255,
          0.256,
          0.257,
          0.257,
          0.257,
          0.258,
          0.258,
          0.258,
          0.258,
          0.258,
          0.258,
          0.26,
          0.26,
          0.261,
          0.261,
          0.261,
          0.261,
          0.262,
          0.262,
          0.262,
          0.262,
          0.262,
          0.263,
          0.263,
          0.263,
          0.263,
          0.264,
          0.264,
          0.264,
          0.264,
          0.266,
          0.266,
          0.266,
          0.266,
          0.266,
          0.267,
          0.268,
          0.268,
          0.268,
          0.27,
          0.271,
          0.271,
          0.271,
          0.271,
          0.272,
          0.272,
          0.272,
          0.273,
          0.274,
          0.274,
          0.274,
          0.275,
          0.275,
          0.275,
          0.275,
          0.276,
          0.276,
          0.276,
          0.276,
          0.277,
          0.278,
          0.279,
          0.28,
          0.28,
          0.281,
          0.282,
          0.283,
          0.283,
          0.284,
          0.285,
          0.285,
          0.285,
          0.289,
          0.289,
          0.292,
          0.293,
          0.293,
          0.304,
          0.306,
          0.307,
          0.307,
          0.327,
          0.33,
          0.331,
          0.337,
          0.354
         ],
         "xaxis": "x",
         "y": [
          102.89574366771933,
          103.3612753090366,
          108.48212336352655,
          109.87871828747835,
          112.2063764940647,
          112.2063764940647,
          113.60297141801651,
          114.53403470065105,
          115.46509798328559,
          117.79275618987192,
          118.2582878311892,
          118.72381947250646,
          119.18935111382373,
          119.18935111382373,
          119.654882755141,
          119.654882755141,
          120.58594603777553,
          121.51700932041007,
          121.51700932041007,
          121.98254096172734,
          122.91360424436188,
          122.91360424436188,
          122.91360424436188,
          123.84466752699642,
          124.31019916831367,
          124.31019916831367,
          124.77573080963094,
          124.77573080963094,
          125.24126245094821,
          125.24126245094821,
          125.24126245094821,
          125.70679409226548,
          126.17232573358275,
          126.63785737490002,
          126.63785737490002,
          126.63785737490002,
          126.63785737490002,
          127.56892065753456,
          127.56892065753456,
          127.56892065753456,
          127.56892065753456,
          128.03445229885182,
          128.03445229885182,
          128.4999839401691,
          128.9655155814864,
          129.43104722280364,
          129.43104722280364,
          129.43104722280364,
          129.8965788641209,
          129.8965788641209,
          129.8965788641209,
          130.36211050543818,
          130.82764214675547,
          130.82764214675547,
          130.82764214675547,
          131.2931737880727,
          131.2931737880727,
          131.2931737880727,
          131.2931737880727,
          131.2931737880727,
          131.2931737880727,
          132.22423707070726,
          132.22423707070726,
          132.68976871202452,
          132.68976871202452,
          132.68976871202452,
          132.68976871202452,
          133.15530035334177,
          133.15530035334177,
          133.15530035334177,
          133.15530035334177,
          133.15530035334177,
          133.62083199465906,
          133.62083199465906,
          133.62083199465906,
          133.62083199465906,
          134.08636363597634,
          134.08636363597634,
          134.08636363597634,
          134.08636363597634,
          135.01742691861085,
          135.01742691861085,
          135.01742691861085,
          135.01742691861085,
          135.01742691861085,
          135.48295855992814,
          135.94849020124542,
          135.94849020124542,
          135.94849020124542,
          136.87955348387993,
          137.34508512519722,
          137.34508512519722,
          137.34508512519722,
          137.34508512519722,
          137.8106167665145,
          137.8106167665145,
          137.8106167665145,
          138.27614840783173,
          138.741680049149,
          138.741680049149,
          138.741680049149,
          139.2072116904663,
          139.2072116904663,
          139.2072116904663,
          139.2072116904663,
          139.67274333178355,
          139.67274333178355,
          139.67274333178355,
          139.67274333178355,
          140.13827497310083,
          140.6038066144181,
          141.06933825573537,
          141.53486989705263,
          141.53486989705263,
          142.00040153836989,
          142.46593317968714,
          142.9314648210044,
          142.9314648210044,
          143.39699646232168,
          143.86252810363894,
          143.86252810363894,
          143.86252810363894,
          145.72465466890802,
          145.72465466890802,
          147.12124959285984,
          147.5867812341771,
          147.5867812341771,
          152.70762928866705,
          153.6386925713016,
          154.10422421261887,
          154.10422421261887,
          163.41485703896424,
          164.81145196291604,
          165.27698360423332,
          168.07017345213694,
          175.9842113545305
         ],
         "yaxis": "y"
        }
       ],
       "layout": {
        "autosize": true,
        "legend": {
         "tracegroupgap": 0
        },
        "template": {
         "data": {
          "bar": [
           {
            "error_x": {
             "color": "#2a3f5f"
            },
            "error_y": {
             "color": "#2a3f5f"
            },
            "marker": {
             "line": {
              "color": "#E5ECF6",
              "width": 0.5
             },
             "pattern": {
              "fillmode": "overlay",
              "size": 10,
              "solidity": 0.2
             }
            },
            "type": "bar"
           }
          ],
          "barpolar": [
           {
            "marker": {
             "line": {
              "color": "#E5ECF6",
              "width": 0.5
             },
             "pattern": {
              "fillmode": "overlay",
              "size": 10,
              "solidity": 0.2
             }
            },
            "type": "barpolar"
           }
          ],
          "carpet": [
           {
            "aaxis": {
             "endlinecolor": "#2a3f5f",
             "gridcolor": "white",
             "linecolor": "white",
             "minorgridcolor": "white",
             "startlinecolor": "#2a3f5f"
            },
            "baxis": {
             "endlinecolor": "#2a3f5f",
             "gridcolor": "white",
             "linecolor": "white",
             "minorgridcolor": "white",
             "startlinecolor": "#2a3f5f"
            },
            "type": "carpet"
           }
          ],
          "choropleth": [
           {
            "colorbar": {
             "outlinewidth": 0,
             "ticks": ""
            },
            "type": "choropleth"
           }
          ],
          "contour": [
           {
            "colorbar": {
             "outlinewidth": 0,
             "ticks": ""
            },
            "colorscale": [
             [
              0,
              "#0d0887"
             ],
             [
              0.1111111111111111,
              "#46039f"
             ],
             [
              0.2222222222222222,
              "#7201a8"
             ],
             [
              0.3333333333333333,
              "#9c179e"
             ],
             [
              0.4444444444444444,
              "#bd3786"
             ],
             [
              0.5555555555555556,
              "#d8576b"
             ],
             [
              0.6666666666666666,
              "#ed7953"
             ],
             [
              0.7777777777777778,
              "#fb9f3a"
             ],
             [
              0.8888888888888888,
              "#fdca26"
             ],
             [
              1,
              "#f0f921"
             ]
            ],
            "type": "contour"
           }
          ],
          "contourcarpet": [
           {
            "colorbar": {
             "outlinewidth": 0,
             "ticks": ""
            },
            "type": "contourcarpet"
           }
          ],
          "heatmap": [
           {
            "colorbar": {
             "outlinewidth": 0,
             "ticks": ""
            },
            "colorscale": [
             [
              0,
              "#0d0887"
             ],
             [
              0.1111111111111111,
              "#46039f"
             ],
             [
              0.2222222222222222,
              "#7201a8"
             ],
             [
              0.3333333333333333,
              "#9c179e"
             ],
             [
              0.4444444444444444,
              "#bd3786"
             ],
             [
              0.5555555555555556,
              "#d8576b"
             ],
             [
              0.6666666666666666,
              "#ed7953"
             ],
             [
              0.7777777777777778,
              "#fb9f3a"
             ],
             [
              0.8888888888888888,
              "#fdca26"
             ],
             [
              1,
              "#f0f921"
             ]
            ],
            "type": "heatmap"
           }
          ],
          "heatmapgl": [
           {
            "colorbar": {
             "outlinewidth": 0,
             "ticks": ""
            },
            "colorscale": [
             [
              0,
              "#0d0887"
             ],
             [
              0.1111111111111111,
              "#46039f"
             ],
             [
              0.2222222222222222,
              "#7201a8"
             ],
             [
              0.3333333333333333,
              "#9c179e"
             ],
             [
              0.4444444444444444,
              "#bd3786"
             ],
             [
              0.5555555555555556,
              "#d8576b"
             ],
             [
              0.6666666666666666,
              "#ed7953"
             ],
             [
              0.7777777777777778,
              "#fb9f3a"
             ],
             [
              0.8888888888888888,
              "#fdca26"
             ],
             [
              1,
              "#f0f921"
             ]
            ],
            "type": "heatmapgl"
           }
          ],
          "histogram": [
           {
            "marker": {
             "pattern": {
              "fillmode": "overlay",
              "size": 10,
              "solidity": 0.2
             }
            },
            "type": "histogram"
           }
          ],
          "histogram2d": [
           {
            "colorbar": {
             "outlinewidth": 0,
             "ticks": ""
            },
            "colorscale": [
             [
              0,
              "#0d0887"
             ],
             [
              0.1111111111111111,
              "#46039f"
             ],
             [
              0.2222222222222222,
              "#7201a8"
             ],
             [
              0.3333333333333333,
              "#9c179e"
             ],
             [
              0.4444444444444444,
              "#bd3786"
             ],
             [
              0.5555555555555556,
              "#d8576b"
             ],
             [
              0.6666666666666666,
              "#ed7953"
             ],
             [
              0.7777777777777778,
              "#fb9f3a"
             ],
             [
              0.8888888888888888,
              "#fdca26"
             ],
             [
              1,
              "#f0f921"
             ]
            ],
            "type": "histogram2d"
           }
          ],
          "histogram2dcontour": [
           {
            "colorbar": {
             "outlinewidth": 0,
             "ticks": ""
            },
            "colorscale": [
             [
              0,
              "#0d0887"
             ],
             [
              0.1111111111111111,
              "#46039f"
             ],
             [
              0.2222222222222222,
              "#7201a8"
             ],
             [
              0.3333333333333333,
              "#9c179e"
             ],
             [
              0.4444444444444444,
              "#bd3786"
             ],
             [
              0.5555555555555556,
              "#d8576b"
             ],
             [
              0.6666666666666666,
              "#ed7953"
             ],
             [
              0.7777777777777778,
              "#fb9f3a"
             ],
             [
              0.8888888888888888,
              "#fdca26"
             ],
             [
              1,
              "#f0f921"
             ]
            ],
            "type": "histogram2dcontour"
           }
          ],
          "mesh3d": [
           {
            "colorbar": {
             "outlinewidth": 0,
             "ticks": ""
            },
            "type": "mesh3d"
           }
          ],
          "parcoords": [
           {
            "line": {
             "colorbar": {
              "outlinewidth": 0,
              "ticks": ""
             }
            },
            "type": "parcoords"
           }
          ],
          "pie": [
           {
            "automargin": true,
            "type": "pie"
           }
          ],
          "scatter": [
           {
            "fillpattern": {
             "fillmode": "overlay",
             "size": 10,
             "solidity": 0.2
            },
            "type": "scatter"
           }
          ],
          "scatter3d": [
           {
            "line": {
             "colorbar": {
              "outlinewidth": 0,
              "ticks": ""
             }
            },
            "marker": {
             "colorbar": {
              "outlinewidth": 0,
              "ticks": ""
             }
            },
            "type": "scatter3d"
           }
          ],
          "scattercarpet": [
           {
            "marker": {
             "colorbar": {
              "outlinewidth": 0,
              "ticks": ""
             }
            },
            "type": "scattercarpet"
           }
          ],
          "scattergeo": [
           {
            "marker": {
             "colorbar": {
              "outlinewidth": 0,
              "ticks": ""
             }
            },
            "type": "scattergeo"
           }
          ],
          "scattergl": [
           {
            "marker": {
             "colorbar": {
              "outlinewidth": 0,
              "ticks": ""
             }
            },
            "type": "scattergl"
           }
          ],
          "scattermapbox": [
           {
            "marker": {
             "colorbar": {
              "outlinewidth": 0,
              "ticks": ""
             }
            },
            "type": "scattermapbox"
           }
          ],
          "scatterpolar": [
           {
            "marker": {
             "colorbar": {
              "outlinewidth": 0,
              "ticks": ""
             }
            },
            "type": "scatterpolar"
           }
          ],
          "scatterpolargl": [
           {
            "marker": {
             "colorbar": {
              "outlinewidth": 0,
              "ticks": ""
             }
            },
            "type": "scatterpolargl"
           }
          ],
          "scatterternary": [
           {
            "marker": {
             "colorbar": {
              "outlinewidth": 0,
              "ticks": ""
             }
            },
            "type": "scatterternary"
           }
          ],
          "surface": [
           {
            "colorbar": {
             "outlinewidth": 0,
             "ticks": ""
            },
            "colorscale": [
             [
              0,
              "#0d0887"
             ],
             [
              0.1111111111111111,
              "#46039f"
             ],
             [
              0.2222222222222222,
              "#7201a8"
             ],
             [
              0.3333333333333333,
              "#9c179e"
             ],
             [
              0.4444444444444444,
              "#bd3786"
             ],
             [
              0.5555555555555556,
              "#d8576b"
             ],
             [
              0.6666666666666666,
              "#ed7953"
             ],
             [
              0.7777777777777778,
              "#fb9f3a"
             ],
             [
              0.8888888888888888,
              "#fdca26"
             ],
             [
              1,
              "#f0f921"
             ]
            ],
            "type": "surface"
           }
          ],
          "table": [
           {
            "cells": {
             "fill": {
              "color": "#EBF0F8"
             },
             "line": {
              "color": "white"
             }
            },
            "header": {
             "fill": {
              "color": "#C8D4E3"
             },
             "line": {
              "color": "white"
             }
            },
            "type": "table"
           }
          ]
         },
         "layout": {
          "annotationdefaults": {
           "arrowcolor": "#2a3f5f",
           "arrowhead": 0,
           "arrowwidth": 1
          },
          "autotypenumbers": "strict",
          "coloraxis": {
           "colorbar": {
            "outlinewidth": 0,
            "ticks": ""
           }
          },
          "colorscale": {
           "diverging": [
            [
             0,
             "#8e0152"
            ],
            [
             0.1,
             "#c51b7d"
            ],
            [
             0.2,
             "#de77ae"
            ],
            [
             0.3,
             "#f1b6da"
            ],
            [
             0.4,
             "#fde0ef"
            ],
            [
             0.5,
             "#f7f7f7"
            ],
            [
             0.6,
             "#e6f5d0"
            ],
            [
             0.7,
             "#b8e186"
            ],
            [
             0.8,
             "#7fbc41"
            ],
            [
             0.9,
             "#4d9221"
            ],
            [
             1,
             "#276419"
            ]
           ],
           "sequential": [
            [
             0,
             "#0d0887"
            ],
            [
             0.1111111111111111,
             "#46039f"
            ],
            [
             0.2222222222222222,
             "#7201a8"
            ],
            [
             0.3333333333333333,
             "#9c179e"
            ],
            [
             0.4444444444444444,
             "#bd3786"
            ],
            [
             0.5555555555555556,
             "#d8576b"
            ],
            [
             0.6666666666666666,
             "#ed7953"
            ],
            [
             0.7777777777777778,
             "#fb9f3a"
            ],
            [
             0.8888888888888888,
             "#fdca26"
            ],
            [
             1,
             "#f0f921"
            ]
           ],
           "sequentialminus": [
            [
             0,
             "#0d0887"
            ],
            [
             0.1111111111111111,
             "#46039f"
            ],
            [
             0.2222222222222222,
             "#7201a8"
            ],
            [
             0.3333333333333333,
             "#9c179e"
            ],
            [
             0.4444444444444444,
             "#bd3786"
            ],
            [
             0.5555555555555556,
             "#d8576b"
            ],
            [
             0.6666666666666666,
             "#ed7953"
            ],
            [
             0.7777777777777778,
             "#fb9f3a"
            ],
            [
             0.8888888888888888,
             "#fdca26"
            ],
            [
             1,
             "#f0f921"
            ]
           ]
          },
          "colorway": [
           "#636efa",
           "#EF553B",
           "#00cc96",
           "#ab63fa",
           "#FFA15A",
           "#19d3f3",
           "#FF6692",
           "#B6E880",
           "#FF97FF",
           "#FECB52"
          ],
          "font": {
           "color": "#2a3f5f"
          },
          "geo": {
           "bgcolor": "white",
           "lakecolor": "white",
           "landcolor": "#E5ECF6",
           "showlakes": true,
           "showland": true,
           "subunitcolor": "white"
          },
          "hoverlabel": {
           "align": "left"
          },
          "hovermode": "closest",
          "mapbox": {
           "style": "light"
          },
          "paper_bgcolor": "white",
          "plot_bgcolor": "#E5ECF6",
          "polar": {
           "angularaxis": {
            "gridcolor": "white",
            "linecolor": "white",
            "ticks": ""
           },
           "bgcolor": "#E5ECF6",
           "radialaxis": {
            "gridcolor": "white",
            "linecolor": "white",
            "ticks": ""
           }
          },
          "scene": {
           "xaxis": {
            "backgroundcolor": "#E5ECF6",
            "gridcolor": "white",
            "gridwidth": 2,
            "linecolor": "white",
            "showbackground": true,
            "ticks": "",
            "zerolinecolor": "white"
           },
           "yaxis": {
            "backgroundcolor": "#E5ECF6",
            "gridcolor": "white",
            "gridwidth": 2,
            "linecolor": "white",
            "showbackground": true,
            "ticks": "",
            "zerolinecolor": "white"
           },
           "zaxis": {
            "backgroundcolor": "#E5ECF6",
            "gridcolor": "white",
            "gridwidth": 2,
            "linecolor": "white",
            "showbackground": true,
            "ticks": "",
            "zerolinecolor": "white"
           }
          },
          "shapedefaults": {
           "line": {
            "color": "#2a3f5f"
           }
          },
          "ternary": {
           "aaxis": {
            "gridcolor": "white",
            "linecolor": "white",
            "ticks": ""
           },
           "baxis": {
            "gridcolor": "white",
            "linecolor": "white",
            "ticks": ""
           },
           "bgcolor": "#E5ECF6",
           "caxis": {
            "gridcolor": "white",
            "linecolor": "white",
            "ticks": ""
           }
          },
          "title": {
           "x": 0.05
          },
          "xaxis": {
           "automargin": true,
           "gridcolor": "white",
           "linecolor": "white",
           "ticks": "",
           "title": {
            "standoff": 15
           },
           "zerolinecolor": "white",
           "zerolinewidth": 2
          },
          "yaxis": {
           "automargin": true,
           "gridcolor": "white",
           "linecolor": "white",
           "ticks": "",
           "title": {
            "standoff": 15
           },
           "zerolinecolor": "white",
           "zerolinewidth": 2
          }
         }
        },
        "title": {
         "text": "Runs Produced versus Batting Average"
        },
        "xaxis": {
         "anchor": "y",
         "autorange": true,
         "domain": [
          0,
          1
         ],
         "range": [
          0.18751240201240202,
          0.36348759798759794
         ],
         "title": {
          "text": "BA"
         },
         "type": "linear"
        },
        "yaxis": {
         "anchor": "x",
         "autorange": true,
         "domain": [
          0,
          1
         ],
         "range": [
          64.6116504854369,
          225.38834951456312
         ],
         "title": {
          "text": "result"
         },
         "type": "linear"
        }
       }
      },
      "image/png": "[encoded data removed]",
      "text/html": [
       "<div>                            <div id=\"61278dc0-b21a-431b-93ce-27de103968fd\" class=\"plotly-graph-div\" style=\"height:525px; width:100%;\"></div>            <script type=\"text/javascript\">                require([\"plotly\"], function(Plotly) {                    window.PLOTLYENV=window.PLOTLYENV || {};                                    if (document.getElementById(\"61278dc0-b21a-431b-93ce-27de103968fd\")) {                    Plotly.newPlot(                        \"61278dc0-b21a-431b-93ce-27de103968fd\",                        [{\"hovertemplate\":\"\\u003cb\\u003e%{hovertext}\\u003c\\u002fb\\u003e\\u003cbr\\u003e\\u003cbr\\u003eBA=%{x}\\u003cbr\\u003eresult=%{y}\\u003cextra\\u003e\\u003c\\u002fextra\\u003e\",\"hovertext\":[\"Matt Olson\",\"Kyle Schwarber\",\"Pete Alonso\",\"Shohei Ohtani\",\"Ronald Acu\\u00f1a Jr.\",\"Marcell Ozuna\",\"Mookie Betts\",\"Adolis Garc\\u00eda\",\"Luis Robert Jr.\",\"Austin Riley\",\"Max Muncy\",\"Jorge Soler\",\"Juan Soto\",\"Jake Burger\",\"Ozzie Albies\",\"Rafael Devers\",\"Corey Seager\",\"Christian Walker\",\"Julio Rodr\\u00edguez\",\"Francisco Lindor\",\"Isaac Paredes\",\"Spencer Torkelson\",\"Manny Machado\",\"Cal Raleigh\",\"Brent Rooker\",\"Bobby Witt Jr.\",\"Nick Castellanos\",\"Freddie Freeman\",\"Marcus Semien\",\"Kyle Tucker\",\"Gunnar Henderson\",\"Anthony Santander\",\"Lane Thomas\",\"Nolan Arenado\",\"Cody Bellinger\",\"Brandon Drury\",\"Vladimir Guerrero Jr.\",\"Teoscar Hern\\u00e1ndez\",\"Jack Suwinski\",\"Trea Turner\",\"Alex Bregman\",\"Corbin Carroll\",\"Paul Goldschmidt\",\"Ketel Marte\",\"Fernando Tatis Jr.\",\"Gleyber Torres\",\"Willy Adames\",\"Triston Casas\",\"Lourdes Gurriel Jr.\",\"Brandon Nimmo\",\"Jos\\u00e9 Ram\\u00edrez\",\"Bryan Reynolds\",\"Randy Arozarena\",\"Josh Jung\",\"Ryan McMahon\",\"James Outman\",\"Salvador P\\u00e9rez\",\"Carlos Santana\",\"Spencer Steer\",\"Justin Turner\",\"Josh Bell\",\"Jeimer Candelario\",\"Yandy D\\u00edaz\",\"Eugenio Su\\u00e1rez\",\"Dansby Swanson\",\"Ian Happ\",\"Bryce Harper\",\"Eddie Rosario\",\"George Springer\",\"Andrew Vaughn\",\"Anthony Volpe\",\"Bo Bichette\",\"Alec Bohm\",\"Josh Lowe\",\"J.T. Realmuto\",\"Hunter Renfroe\",\"Adley Rutschman\",\"Seiya Suzuki\",\"Daulton Varsho\",\"Xander Bogaerts\",\"J.P. Crawford\",\"Bryan De La Cruz\",\"Will Smith\",\"Christian Yelich\",\"CJ Abrams\",\"Jos\\u00e9 Abreu\",\"Carlos Correa\",\"J.D. Davis\",\"TJ Friedl\",\"Michael Harris II\",\"Jonah Heim\",\"Keibert Ruiz\",\"Orlando Arcia\",\"Matt Chapman\",\"William Contreras\",\"Jonathan India\",\"Ha-Seong Kim\",\"Nathaniel Lowe\",\"LaMonte Wade Jr.\",\"Austin Hays\",\"MJ Melendez\",\"Andr\\u00e9s Gim\\u00e9nez\",\"Ke'Bryan Hayes\",\"DJ LeMahieu\",\"Bryson Stott\",\"Ezequiel Tovar\",\"Masataka Yoshida\",\"El\\u00edas D\\u00edaz\",\"Thairo Estrada\",\"Lars Nootbaar\",\"Leody Taveras\",\"Trent Grisham\",\"Tommy Edman\",\"Joey Meneses\",\"Tyler Stephenson\",\"Alex Verdugo\",\"Ty France\",\"Dominic Smith\",\"Mark Canha\",\"Kik\\u00e9 Hern\\u00e1ndez\",\"Whit Merrifield\",\"Luis Arr\\u00e1ez\",\"Jake Cronenworth\",\"Jeff McNeil\",\"Jeremy Pe\\u00f1a\",\"Matt Vierling\",\"Javier B\\u00e1ez\",\"Nico Hoerner\",\"Zach McKinstry\",\"Jurickson Profar\",\"Amed Rosario\",\"Andrew Benintendi\",\"Steven Kwan\",\"Maikel Garc\\u00eda\",\"Tim Anderson\",\"Myles Straw\"],\"legendgroup\":\"\",\"marker\":{\"color\":\"#636efa\",\"symbol\":\"circle\"},\"mode\":\"markers\",\"name\":\"\",\"orientation\":\"v\",\"showlegend\":false,\"x\":[0.283,0.197,0.217,0.304,0.337,0.274,0.307,0.245,0.264,0.281,0.212,0.25,0.275,0.25,0.28,0.271,0.327,0.258,0.275,0.254,0.25,0.233,0.258,0.232,0.246,0.276,0.272,0.331,0.276,0.284,0.255,0.257,0.268,0.266,0.307,0.262,0.264,0.258,0.224,0.266,0.262,0.285,0.268,0.276,0.257,0.273,0.217,0.263,0.261,0.274,0.282,0.263,0.254,0.266,0.24,0.248,0.255,0.24,0.271,0.276,0.247,0.251,0.33,0.232,0.244,0.248,0.293,0.255,0.258,0.258,0.209,0.306,0.274,0.292,0.252,0.233,0.277,0.285,0.22,0.285,0.266,0.257,0.261,0.278,0.245,0.237,0.23,0.248,0.279,0.293,0.258,0.26,0.264,0.24,0.289,0.244,0.26,0.262,0.256,0.275,0.235,0.251,0.271,0.243,0.28,0.253,0.289,0.267,0.271,0.261,0.266,0.198,0.248,0.275,0.243,0.264,0.25,0.254,0.262,0.237,0.272,0.354,0.229,0.27,0.263,0.261,0.222,0.283,0.231,0.242,0.263,0.262,0.268,0.272,0.245,0.238],\"xaxis\":\"x\",\"y\":[212.0,165.0,164.0,153.0,214.0,144.0,194.0,176.0,132.0,177.0,164.0,116.0,171.0,117.0,172.0,157.0,151.0,156.0,173.0,175.0,138.0,151.0,136.0,123.0,100.0,163.0,156.0,204.0,193.0,180.0,154.0,148.0,159.0,138.0,166.0,118.0,146.0,137.0,111.0,152.0,176.0,167.0,144.0,151.0,144.0,133.0,129.0,107.0,123.0,133.0,143.0,145.0,155.0,122.0,127.0,133.0,116.0,141.0,137.0,159.0,104.0,125.0,151.0,142.0,139.0,149.0,135.0,117.0,138.0,126.0,101.0,122.0,151.0,134.0,113.0,100.0,144.0,129.0,106.0,122.0,140.0,119.0,137.0,163.0,129.0,134.0,107.0,112.0,121.0,115.0,138.0,104.0,114.0,103.0,147.0,122.0,127.0,154.0,92.0,127.0,105.0,123.0,111.0,84.0,125.0,137.0,128.0,106.0,98.0,106.0,120.0,104.0,103.0,147.0,102.0,122.0,125.0,91.0,102.0,107.0,122.0,130.0,92.0,120.0,123.0,97.0,108.0,157.0,86.0,92.0,122.0,112.0,142.0,105.0,76.0,80.0],\"yaxis\":\"y\",\"type\":\"scatter\"},{\"hovertemplate\":\"\\u003cb\\u003eOLS trendline\\u003c\\u002fb\\u003e\\u003cbr\\u003eresult = 465.532 * BA + 11.186\\u003cbr\\u003eR\\u003csup\\u003e2\\u003c\\u002fsup\\u003e=0.190172\\u003cbr\\u003e\\u003cbr\\u003eBA=%{x}\\u003cbr\\u003eresult=%{y} \\u003cb\\u003e(trend)\\u003c\\u002fb\\u003e\\u003cextra\\u003e\\u003c\\u002fextra\\u003e\",\"legendgroup\":\"\",\"marker\":{\"color\":\"#636efa\",\"symbol\":\"circle\"},\"mode\":\"lines\",\"name\":\"\",\"showlegend\":false,\"x\":[0.197,0.198,0.209,0.212,0.217,0.217,0.22,0.222,0.224,0.229,0.23,0.231,0.232,0.232,0.233,0.233,0.235,0.237,0.237,0.238,0.24,0.24,0.24,0.242,0.243,0.243,0.244,0.244,0.245,0.245,0.245,0.246,0.247,0.248,0.248,0.248,0.248,0.25,0.25,0.25,0.25,0.251,0.251,0.252,0.253,0.254,0.254,0.254,0.255,0.255,0.255,0.256,0.257,0.257,0.257,0.258,0.258,0.258,0.258,0.258,0.258,0.26,0.26,0.261,0.261,0.261,0.261,0.262,0.262,0.262,0.262,0.262,0.263,0.263,0.263,0.263,0.264,0.264,0.264,0.264,0.266,0.266,0.266,0.266,0.266,0.267,0.268,0.268,0.268,0.27,0.271,0.271,0.271,0.271,0.272,0.272,0.272,0.273,0.274,0.274,0.274,0.275,0.275,0.275,0.275,0.276,0.276,0.276,0.276,0.277,0.278,0.279,0.28,0.28,0.281,0.282,0.283,0.283,0.284,0.285,0.285,0.285,0.289,0.289,0.292,0.293,0.293,0.304,0.306,0.307,0.307,0.327,0.33,0.331,0.337,0.354],\"xaxis\":\"x\",\"y\":[102.89574366771933,103.3612753090366,108.48212336352655,109.87871828747835,112.2063764940647,112.2063764940647,113.60297141801651,114.53403470065105,115.46509798328559,117.79275618987192,118.2582878311892,118.72381947250646,119.18935111382373,119.18935111382373,119.654882755141,119.654882755141,120.58594603777553,121.51700932041007,121.51700932041007,121.98254096172734,122.91360424436188,122.91360424436188,122.91360424436188,123.84466752699642,124.31019916831367,124.31019916831367,124.77573080963094,124.77573080963094,125.24126245094821,125.24126245094821,125.24126245094821,125.70679409226548,126.17232573358275,126.63785737490002,126.63785737490002,126.63785737490002,126.63785737490002,127.56892065753456,127.56892065753456,127.56892065753456,127.56892065753456,128.03445229885182,128.03445229885182,128.4999839401691,128.9655155814864,129.43104722280364,129.43104722280364,129.43104722280364,129.8965788641209,129.8965788641209,129.8965788641209,130.36211050543818,130.82764214675547,130.82764214675547,130.82764214675547,131.2931737880727,131.2931737880727,131.2931737880727,131.2931737880727,131.2931737880727,131.2931737880727,132.22423707070726,132.22423707070726,132.68976871202452,132.68976871202452,132.68976871202452,132.68976871202452,133.15530035334177,133.15530035334177,133.15530035334177,133.15530035334177,133.15530035334177,133.62083199465906,133.62083199465906,133.62083199465906,133.62083199465906,134.08636363597634,134.08636363597634,134.08636363597634,134.08636363597634,135.01742691861085,135.01742691861085,135.01742691861085,135.01742691861085,135.01742691861085,135.48295855992814,135.94849020124542,135.94849020124542,135.94849020124542,136.87955348387993,137.34508512519722,137.34508512519722,137.34508512519722,137.34508512519722,137.8106167665145,137.8106167665145,137.8106167665145,138.27614840783173,138.741680049149,138.741680049149,138.741680049149,139.2072116904663,139.2072116904663,139.2072116904663,139.2072116904663,139.67274333178355,139.67274333178355,139.67274333178355,139.67274333178355,140.13827497310083,140.6038066144181,141.06933825573537,141.53486989705263,141.53486989705263,142.00040153836989,142.46593317968714,142.9314648210044,142.9314648210044,143.39699646232168,143.86252810363894,143.86252810363894,143.86252810363894,145.72465466890802,145.72465466890802,147.12124959285984,147.5867812341771,147.5867812341771,152.70762928866705,153.6386925713016,154.10422421261887,154.10422421261887,163.41485703896424,164.81145196291604,165.27698360423332,168.07017345213694,175.9842113545305],\"yaxis\":\"y\",\"type\":\"scatter\"}],                        {\"template\":{\"data\":{\"histogram2dcontour\":[{\"type\":\"histogram2dcontour\",\"colorbar\":{\"outlinewidth\":0,\"ticks\":\"\"},\"colorscale\":[[0.0,\"#0d0887\"],[0.1111111111111111,\"#46039f\"],[0.2222222222222222,\"#7201a8\"],[0.3333333333333333,\"#9c179e\"],[0.4444444444444444,\"#bd3786\"],[0.5555555555555556,\"#d8576b\"],[0.6666666666666666,\"#ed7953\"],[0.7777777777777778,\"#fb9f3a\"],[0.8888888888888888,\"#fdca26\"],[1.0,\"#f0f921\"]]}],\"choropleth\":[{\"type\":\"choropleth\",\"colorbar\":{\"outlinewidth\":0,\"ticks\":\"\"}}],\"histogram2d\":[{\"type\":\"histogram2d\",\"colorbar\":{\"outlinewidth\":0,\"ticks\":\"\"},\"colorscale\":[[0.0,\"#0d0887\"],[0.1111111111111111,\"#46039f\"],[0.2222222222222222,\"#7201a8\"],[0.3333333333333333,\"#9c179e\"],[0.4444444444444444,\"#bd3786\"],[0.5555555555555556,\"#d8576b\"],[0.6666666666666666,\"#ed7953\"],[0.7777777777777778,\"#fb9f3a\"],[0.8888888888888888,\"#fdca26\"],[1.0,\"#f0f921\"]]}],\"heatmap\":[{\"type\":\"heatmap\",\"colorbar\":{\"outlinewidth\":0,\"ticks\":\"\"},\"colorscale\":[[0.0,\"#0d0887\"],[0.1111111111111111,\"#46039f\"],[0.2222222222222222,\"#7201a8\"],[0.3333333333333333,\"#9c179e\"],[0.4444444444444444,\"#bd3786\"],[0.5555555555555556,\"#d8576b\"],[0.6666666666666666,\"#ed7953\"],[0.7777777777777778,\"#fb9f3a\"],[0.8888888888888888,\"#fdca26\"],[1.0,\"#f0f921\"]]}],\"heatmapgl\":[{\"type\":\"heatmapgl\",\"colorbar\":{\"outlinewidth\":0,\"ticks\":\"\"},\"colorscale\":[[0.0,\"#0d0887\"],[0.1111111111111111,\"#46039f\"],[0.2222222222222222,\"#7201a8\"],[0.3333333333333333,\"#9c179e\"],[0.4444444444444444,\"#bd3786\"],[0.5555555555555556,\"#d8576b\"],[0.6666666666666666,\"#ed7953\"],[0.7777777777777778,\"#fb9f3a\"],[0.8888888888888888,\"#fdca26\"],[1.0,\"#f0f921\"]]}],\"contourcarpet\":[{\"type\":\"contourcarpet\",\"colorbar\":{\"outlinewidth\":0,\"ticks\":\"\"}}],\"contour\":[{\"type\":\"contour\",\"colorbar\":{\"outlinewidth\":0,\"ticks\":\"\"},\"colorscale\":[[0.0,\"#0d0887\"],[0.1111111111111111,\"#46039f\"],[0.2222222222222222,\"#7201a8\"],[0.3333333333333333,\"#9c179e\"],[0.4444444444444444,\"#bd3786\"],[0.5555555555555556,\"#d8576b\"],[0.6666666666666666,\"#ed7953\"],[0.7777777777777778,\"#fb9f3a\"],[0.8888888888888888,\"#fdca26\"],[1.0,\"#f0f921\"]]}],\"surface\":[{\"type\":\"surface\",\"colorbar\":{\"outlinewidth\":0,\"ticks\":\"\"},\"colorscale\":[[0.0,\"#0d0887\"],[0.1111111111111111,\"#46039f\"],[0.2222222222222222,\"#7201a8\"],[0.3333333333333333,\"#9c179e\"],[0.4444444444444444,\"#bd3786\"],[0.5555555555555556,\"#d8576b\"],[0.6666666666666666,\"#ed7953\"],[0.7777777777777778,\"#fb9f3a\"],[0.8888888888888888,\"#fdca26\"],[1.0,\"#f0f921\"]]}],\"mesh3d\":[{\"type\":\"mesh3d\",\"colorbar\":{\"outlinewidth\":0,\"ticks\":\"\"}}],\"scatter\":[{\"fillpattern\":{\"fillmode\":\"overlay\",\"size\":10,\"solidity\":0.2},\"type\":\"scatter\"}],\"parcoords\":[{\"type\":\"parcoords\",\"line\":{\"colorbar\":{\"outlinewidth\":0,\"ticks\":\"\"}}}],\"scatterpolargl\":[{\"type\":\"scatterpolargl\",\"marker\":{\"colorbar\":{\"outlinewidth\":0,\"ticks\":\"\"}}}],\"bar\":[{\"error_x\":{\"color\":\"#2a3f5f\"},\"error_y\":{\"color\":\"#2a3f5f\"},\"marker\":{\"line\":{\"color\":\"#E5ECF6\",\"width\":0.5},\"pattern\":{\"fillmode\":\"overlay\",\"size\":10,\"solidity\":0.2}},\"type\":\"bar\"}],\"scattergeo\":[{\"type\":\"scattergeo\",\"marker\":{\"colorbar\":{\"outlinewidth\":0,\"ticks\":\"\"}}}],\"scatterpolar\":[{\"type\":\"scatterpolar\",\"marker\":{\"colorbar\":{\"outlinewidth\":0,\"ticks\":\"\"}}}],\"histogram\":[{\"marker\":{\"pattern\":{\"fillmode\":\"overlay\",\"size\":10,\"solidity\":0.2}},\"type\":\"histogram\"}],\"scattergl\":[{\"type\":\"scattergl\",\"marker\":{\"colorbar\":{\"outlinewidth\":0,\"ticks\":\"\"}}}],\"scatter3d\":[{\"type\":\"scatter3d\",\"line\":{\"colorbar\":{\"outlinewidth\":0,\"ticks\":\"\"}},\"marker\":{\"colorbar\":{\"outlinewidth\":0,\"ticks\":\"\"}}}],\"scattermapbox\":[{\"type\":\"scattermapbox\",\"marker\":{\"colorbar\":{\"outlinewidth\":0,\"ticks\":\"\"}}}],\"scatterternary\":[{\"type\":\"scatterternary\",\"marker\":{\"colorbar\":{\"outlinewidth\":0,\"ticks\":\"\"}}}],\"scattercarpet\":[{\"type\":\"scattercarpet\",\"marker\":{\"colorbar\":{\"outlinewidth\":0,\"ticks\":\"\"}}}],\"carpet\":[{\"aaxis\":{\"endlinecolor\":\"#2a3f5f\",\"gridcolor\":\"white\",\"linecolor\":\"white\",\"minorgridcolor\":\"white\",\"startlinecolor\":\"#2a3f5f\"},\"baxis\":{\"endlinecolor\":\"#2a3f5f\",\"gridcolor\":\"white\",\"linecolor\":\"white\",\"minorgridcolor\":\"white\",\"startlinecolor\":\"#2a3f5f\"},\"type\":\"carpet\"}],\"table\":[{\"cells\":{\"fill\":{\"color\":\"#EBF0F8\"},\"line\":{\"color\":\"white\"}},\"header\":{\"fill\":{\"color\":\"#C8D4E3\"},\"line\":{\"color\":\"white\"}},\"type\":\"table\"}],\"barpolar\":[{\"marker\":{\"line\":{\"color\":\"#E5ECF6\",\"width\":0.5},\"pattern\":{\"fillmode\":\"overlay\",\"size\":10,\"solidity\":0.2}},\"type\":\"barpolar\"}],\"pie\":[{\"automargin\":true,\"type\":\"pie\"}]},\"layout\":{\"autotypenumbers\":\"strict\",\"colorway\":[\"#636efa\",\"#EF553B\",\"#00cc96\",\"#ab63fa\",\"#FFA15A\",\"#19d3f3\",\"#FF6692\",\"#B6E880\",\"#FF97FF\",\"#FECB52\"],\"font\":{\"color\":\"#2a3f5f\"},\"hovermode\":\"closest\",\"hoverlabel\":{\"align\":\"left\"},\"paper_bgcolor\":\"white\",\"plot_bgcolor\":\"#E5ECF6\",\"polar\":{\"bgcolor\":\"#E5ECF6\",\"angularaxis\":{\"gridcolor\":\"white\",\"linecolor\":\"white\",\"ticks\":\"\"},\"radialaxis\":{\"gridcolor\":\"white\",\"linecolor\":\"white\",\"ticks\":\"\"}},\"ternary\":{\"bgcolor\":\"#E5ECF6\",\"aaxis\":{\"gridcolor\":\"white\",\"linecolor\":\"white\",\"ticks\":\"\"},\"baxis\":{\"gridcolor\":\"white\",\"linecolor\":\"white\",\"ticks\":\"\"},\"caxis\":{\"gridcolor\":\"white\",\"linecolor\":\"white\",\"ticks\":\"\"}},\"coloraxis\":{\"colorbar\":{\"outlinewidth\":0,\"ticks\":\"\"}},\"colorscale\":{\"sequential\":[[0.0,\"#0d0887\"],[0.1111111111111111,\"#46039f\"],[0.2222222222222222,\"#7201a8\"],[0.3333333333333333,\"#9c179e\"],[0.4444444444444444,\"#bd3786\"],[0.5555555555555556,\"#d8576b\"],[0.6666666666666666,\"#ed7953\"],[0.7777777777777778,\"#fb9f3a\"],[0.8888888888888888,\"#fdca26\"],[1.0,\"#f0f921\"]],\"sequentialminus\":[[0.0,\"#0d0887\"],[0.1111111111111111,\"#46039f\"],[0.2222222222222222,\"#7201a8\"],[0.3333333333333333,\"#9c179e\"],[0.4444444444444444,\"#bd3786\"],[0.5555555555555556,\"#d8576b\"],[0.6666666666666666,\"#ed7953\"],[0.7777777777777778,\"#fb9f3a\"],[0.8888888888888888,\"#fdca26\"],[1.0,\"#f0f921\"]],\"diverging\":[[0,\"#8e0152\"],[0.1,\"#c51b7d\"],[0.2,\"#de77ae\"],[0.3,\"#f1b6da\"],[0.4,\"#fde0ef\"],[0.5,\"#f7f7f7\"],[0.6,\"#e6f5d0\"],[0.7,\"#b8e186\"],[0.8,\"#7fbc41\"],[0.9,\"#4d9221\"],[1,\"#276419\"]]},\"xaxis\":{\"gridcolor\":\"white\",\"linecolor\":\"white\",\"ticks\":\"\",\"title\":{\"standoff\":15},\"zerolinecolor\":\"white\",\"automargin\":true,\"zerolinewidth\":2},\"yaxis\":{\"gridcolor\":\"white\",\"linecolor\":\"white\",\"ticks\":\"\",\"title\":{\"standoff\":15},\"zerolinecolor\":\"white\",\"automargin\":true,\"zerolinewidth\":2},\"scene\":{\"xaxis\":{\"backgroundcolor\":\"#E5ECF6\",\"gridcolor\":\"white\",\"linecolor\":\"white\",\"showbackground\":true,\"ticks\":\"\",\"zerolinecolor\":\"white\",\"gridwidth\":2},\"yaxis\":{\"backgroundcolor\":\"#E5ECF6\",\"gridcolor\":\"white\",\"linecolor\":\"white\",\"showbackground\":true,\"ticks\":\"\",\"zerolinecolor\":\"white\",\"gridwidth\":2},\"zaxis\":{\"backgroundcolor\":\"#E5ECF6\",\"gridcolor\":\"white\",\"linecolor\":\"white\",\"showbackground\":true,\"ticks\":\"\",\"zerolinecolor\":\"white\",\"gridwidth\":2}},\"shapedefaults\":{\"line\":{\"color\":\"#2a3f5f\"}},\"annotationdefaults\":{\"arrowcolor\":\"#2a3f5f\",\"arrowhead\":0,\"arrowwidth\":1},\"geo\":{\"bgcolor\":\"white\",\"landcolor\":\"#E5ECF6\",\"subunitcolor\":\"white\",\"showland\":true,\"showlakes\":true,\"lakecolor\":\"white\"},\"title\":{\"x\":0.05},\"mapbox\":{\"style\":\"light\"}}},\"xaxis\":{\"anchor\":\"y\",\"domain\":[0.0,1.0],\"title\":{\"text\":\"BA\"}},\"yaxis\":{\"anchor\":\"x\",\"domain\":[0.0,1.0],\"title\":{\"text\":\"result\"}},\"legend\":{\"tracegroupgap\":0},\"title\":{\"text\":\"Runs Produced versus Batting Average\"}},                        {\"responsive\": true}                    ).then(function(){\n",
       "                            \n",
       "var gd = document.getElementById('61278dc0-b21a-431b-93ce-27de103968fd');\n",
       "var x = new MutationObserver(function (mutations, observer) {{\n",
       "        var display = window.getComputedStyle(gd).display;\n",
       "        if (!display || display === 'none') {{\n",
       "            console.log([gd, 'removed!']);\n",
       "            Plotly.purge(gd);\n",
       "            observer.disconnect();\n",
       "        }}\n",
       "}});\n",
       "\n",
       "// Listen for the removal of the full notebook cells\n",
       "var notebookContainer = gd.closest('#notebook-container');\n",
       "if (notebookContainer) {{\n",
       "    x.observe(notebookContainer, {childList: true});\n",
       "}}\n",
       "\n",
       "// Listen for the clearing of the current output cell\n",
       "var outputEl = gd.closest('.output');\n",
       "if (outputEl) {{\n",
       "    x.observe(outputEl, {childList: true});\n",
       "}}\n",
       "\n",
       "                        })                };                });            </script>        </div>"
      ]
     },
     "metadata": {},
     "output_type": "display_data"
    }
   ],
   "source": [
    "px.scatter(dfc, x='BA', y='result', title='Runs Produced versus Batting Average',trendline=\"ols\",hover_name=\"Player\")"
   ]
  },
  {
   "cell_type": "code",
   "execution_count": 47,
   "metadata": {},
   "outputs": [
    {
     "data": {
      "application/vnd.plotly.v1+json": {
       "config": {
        "plotlyServerURL": "https://plot.ly"
       },
       "data": [
        {
         "hovertemplate": "<b>%{hovertext}</b><br><br>OPS=%{x}<br>result=%{y}<extra></extra>",
         "hovertext": [
          "Matt Olson",
          "Kyle Schwarber",
          "Pete Alonso",
          "Shohei Ohtani",
          "Ronald Acuña Jr.",
          "Marcell Ozuna",
          "Mookie Betts",
          "Adolis García",
          "Luis Robert Jr.",
          "Austin Riley",
          "Max Muncy",
          "Jorge Soler",
          "Juan Soto",
          "Jake Burger",
          "Ozzie Albies",
          "Rafael Devers",
          "Corey Seager",
          "Christian Walker",
          "Julio Rodríguez",
          "Francisco Lindor",
          "Isaac Paredes",
          "Spencer Torkelson",
          "Manny Machado",
          "Cal Raleigh",
          "Brent Rooker",
          "Bobby Witt Jr.",
          "Nick Castellanos",
          "Freddie Freeman",
          "Marcus Semien",
          "Kyle Tucker",
          "Gunnar Henderson",
          "Anthony Santander",
          "Lane Thomas",
          "Nolan Arenado",
          "Cody Bellinger",
          "Brandon Drury",
          "Vladimir Guerrero Jr.",
          "Teoscar Hernández",
          "Jack Suwinski",
          "Trea Turner",
          "Alex Bregman",
          "Corbin Carroll",
          "Paul Goldschmidt",
          "Ketel Marte",
          "Fernando Tatis Jr.",
          "Gleyber Torres",
          "Willy Adames",
          "Triston Casas",
          "Lourdes Gurriel Jr.",
          "Brandon Nimmo",
          "José Ramírez",
          "Bryan Reynolds",
          "Randy Arozarena",
          "Josh Jung",
          "Ryan McMahon",
          "James Outman",
          "Salvador Pérez",
          "Carlos Santana",
          "Spencer Steer",
          "Justin Turner",
          "Josh Bell",
          "Jeimer Candelario",
          "Yandy Díaz",
          "Eugenio Suárez",
          "Dansby Swanson",
          "Ian Happ",
          "Bryce Harper",
          "Eddie Rosario",
          "George Springer",
          "Andrew Vaughn",
          "Anthony Volpe",
          "Bo Bichette",
          "Alec Bohm",
          "Josh Lowe",
          "J.T. Realmuto",
          "Hunter Renfroe",
          "Adley Rutschman",
          "Seiya Suzuki",
          "Daulton Varsho",
          "Xander Bogaerts",
          "J.P. Crawford",
          "Bryan De La Cruz",
          "Will Smith",
          "Christian Yelich",
          "CJ Abrams",
          "José Abreu",
          "Carlos Correa",
          "J.D. Davis",
          "TJ Friedl",
          "Michael Harris II",
          "Jonah Heim",
          "Keibert Ruiz",
          "Orlando Arcia",
          "Matt Chapman",
          "William Contreras",
          "Jonathan India",
          "Ha-Seong Kim",
          "Nathaniel Lowe",
          "LaMonte Wade Jr.",
          "Austin Hays",
          "MJ Melendez",
          "Andrés Giménez",
          "Ke'Bryan Hayes",
          "DJ LeMahieu",
          "Bryson Stott",
          "Ezequiel Tovar",
          "Masataka Yoshida",
          "Elías Díaz",
          "Thairo Estrada",
          "Lars Nootbaar",
          "Leody Taveras",
          "Trent Grisham",
          "Tommy Edman",
          "Joey Meneses",
          "Tyler Stephenson",
          "Alex Verdugo",
          "Ty France",
          "Dominic Smith",
          "Mark Canha",
          "Kiké Hernández",
          "Whit Merrifield",
          "Luis Arráez",
          "Jake Cronenworth",
          "Jeff McNeil",
          "Jeremy Peña",
          "Matt Vierling",
          "Javier Báez",
          "Nico Hoerner",
          "Zach McKinstry",
          "Jurickson Profar",
          "Amed Rosario",
          "Andrew Benintendi",
          "Steven Kwan",
          "Maikel García",
          "Tim Anderson",
          "Myles Straw"
         ],
         "legendgroup": "",
         "marker": {
          "color": "#636efa",
          "symbol": "circle"
         },
         "mode": "markers",
         "name": "",
         "orientation": "v",
         "showlegend": false,
         "type": "scatter",
         "x": [
          0.993,
          0.817,
          0.821,
          1.066,
          1.012,
          0.905,
          0.987,
          0.836,
          0.857,
          0.861,
          0.808,
          0.853,
          0.93,
          0.828,
          0.849,
          0.851,
          1.013,
          0.83,
          0.818,
          0.806,
          0.84,
          0.758,
          0.782,
          0.762,
          0.817,
          0.813,
          0.788,
          0.976,
          0.826,
          0.886,
          0.814,
          0.797,
          0.783,
          0.774,
          0.881,
          0.803,
          0.788,
          0.741,
          0.793,
          0.778,
          0.804,
          0.868,
          0.81,
          0.844,
          0.77,
          0.8,
          0.717,
          0.856,
          0.772,
          0.829,
          0.831,
          0.79,
          0.789,
          0.781,
          0.753,
          0.79,
          0.714,
          0.747,
          0.82,
          0.8,
          0.744,
          0.807,
          0.932,
          0.714,
          0.744,
          0.791,
          0.9,
          0.755,
          0.732,
          0.743,
          0.666,
          0.814,
          0.765,
          0.835,
          0.762,
          0.713,
          0.809,
          0.842,
          0.674,
          0.79,
          0.818,
          0.715,
          0.797,
          0.818,
          0.712,
          0.68,
          0.711,
          0.738,
          0.819,
          0.808,
          0.755,
          0.717,
          0.741,
          0.755,
          0.825,
          0.746,
          0.749,
          0.775,
          0.79,
          0.769,
          0.713,
          0.712,
          0.762,
          0.718,
          0.747,
          0.695,
          0.783,
          0.725,
          0.731,
          0.784,
          0.733,
          0.666,
          0.705,
          0.722,
          0.696,
          0.745,
          0.703,
          0.692,
          0.755,
          0.646,
          0.7,
          0.861,
          0.689,
          0.711,
          0.705,
          0.717,
          0.593,
          0.729,
          0.654,
          0.689,
          0.683,
          0.682,
          0.71,
          0.681,
          0.582,
          0.597
         ],
         "xaxis": "x",
         "y": [
          212,
          165,
          164,
          153,
          214,
          144,
          194,
          176,
          132,
          177,
          164,
          116,
          171,
          117,
          172,
          157,
          151,
          156,
          173,
          175,
          138,
          151,
          136,
          123,
          100,
          163,
          156,
          204,
          193,
          180,
          154,
          148,
          159,
          138,
          166,
          118,
          146,
          137,
          111,
          152,
          176,
          167,
          144,
          151,
          144,
          133,
          129,
          107,
          123,
          133,
          143,
          145,
          155,
          122,
          127,
          133,
          116,
          141,
          137,
          159,
          104,
          125,
          151,
          142,
          139,
          149,
          135,
          117,
          138,
          126,
          101,
          122,
          151,
          134,
          113,
          100,
          144,
          129,
          106,
          122,
          140,
          119,
          137,
          163,
          129,
          134,
          107,
          112,
          121,
          115,
          138,
          104,
          114,
          103,
          147,
          122,
          127,
          154,
          92,
          127,
          105,
          123,
          111,
          84,
          125,
          137,
          128,
          106,
          98,
          106,
          120,
          104,
          103,
          147,
          102,
          122,
          125,
          91,
          102,
          107,
          122,
          130,
          92,
          120,
          123,
          97,
          108,
          157,
          86,
          92,
          122,
          112,
          142,
          105,
          76,
          80
         ],
         "yaxis": "y"
        },
        {
         "hovertemplate": "<b>OLS trendline</b><br>result = 230.717 * OPS + -46.7261<br>R<sup>2</sup>=0.483214<br><br>OPS=%{x}<br>result=%{y} <b>(trend)</b><extra></extra>",
         "legendgroup": "",
         "marker": {
          "color": "#636efa",
          "symbol": "circle"
         },
         "mode": "lines",
         "name": "",
         "showlegend": false,
         "type": "scatter",
         "x": [
          0.582,
          0.593,
          0.597,
          0.646,
          0.654,
          0.666,
          0.666,
          0.674,
          0.68,
          0.681,
          0.682,
          0.683,
          0.689,
          0.689,
          0.692,
          0.695,
          0.696,
          0.7,
          0.703,
          0.705,
          0.705,
          0.71,
          0.711,
          0.711,
          0.712,
          0.712,
          0.713,
          0.713,
          0.714,
          0.714,
          0.715,
          0.717,
          0.717,
          0.717,
          0.718,
          0.722,
          0.725,
          0.729,
          0.731,
          0.732,
          0.733,
          0.738,
          0.741,
          0.741,
          0.743,
          0.744,
          0.744,
          0.745,
          0.746,
          0.747,
          0.747,
          0.749,
          0.753,
          0.755,
          0.755,
          0.755,
          0.755,
          0.758,
          0.762,
          0.762,
          0.762,
          0.765,
          0.769,
          0.77,
          0.772,
          0.774,
          0.775,
          0.778,
          0.781,
          0.782,
          0.783,
          0.783,
          0.784,
          0.788,
          0.788,
          0.789,
          0.79,
          0.79,
          0.79,
          0.79,
          0.791,
          0.793,
          0.797,
          0.797,
          0.8,
          0.8,
          0.803,
          0.804,
          0.806,
          0.807,
          0.808,
          0.808,
          0.809,
          0.81,
          0.813,
          0.814,
          0.814,
          0.817,
          0.817,
          0.818,
          0.818,
          0.818,
          0.819,
          0.82,
          0.821,
          0.825,
          0.826,
          0.828,
          0.829,
          0.83,
          0.831,
          0.835,
          0.836,
          0.84,
          0.842,
          0.844,
          0.849,
          0.851,
          0.853,
          0.856,
          0.857,
          0.861,
          0.861,
          0.868,
          0.881,
          0.886,
          0.9,
          0.905,
          0.93,
          0.932,
          0.976,
          0.987,
          0.993,
          1.012,
          1.013,
          1.066
         ],
         "xaxis": "x",
         "y": [
          87.55108675901016,
          90.08897113013902,
          91.01183817418587,
          102.31695946375984,
          104.16269355185355,
          106.93129468399411,
          106.93129468399411,
          108.77702877208782,
          110.16132933815811,
          110.39204609916982,
          110.62276286018152,
          110.85347962119326,
          112.2377801872635,
          112.2377801872635,
          112.92993047029864,
          113.62208075333379,
          113.8527975143455,
          114.77566455839235,
          115.4678148414275,
          115.92924836345094,
          115.92924836345094,
          117.0828321685095,
          117.3135489295212,
          117.3135489295212,
          117.54426569053291,
          117.54426569053291,
          117.77498245154464,
          117.77498245154464,
          118.00569921255635,
          118.00569921255635,
          118.23641597356806,
          118.6978494955915,
          118.6978494955915,
          118.6978494955915,
          118.9285662566032,
          119.85143330065006,
          120.5435835836852,
          121.46645062773206,
          121.92788414975547,
          122.1586009107672,
          122.38931767177891,
          123.54290147683747,
          124.23505175987262,
          124.23505175987262,
          124.69648528189606,
          124.92720204290777,
          124.92720204290777,
          125.15791880391947,
          125.38863556493118,
          125.61935232594291,
          125.61935232594291,
          126.08078584796633,
          127.00365289201318,
          127.46508641403662,
          127.46508641403662,
          127.46508641403662,
          127.46508641403662,
          128.15723669707177,
          129.08010374111862,
          129.08010374111862,
          129.08010374111862,
          129.77225402415374,
          130.69512106820062,
          130.92583782921233,
          131.38727135123574,
          131.84870487325918,
          132.0794216342709,
          132.77157191730603,
          133.46372220034118,
          133.6944389613529,
          133.9251557223646,
          133.9251557223646,
          134.15587248337633,
          135.07873952742318,
          135.07873952742318,
          135.3094562884349,
          135.5401730494466,
          135.5401730494466,
          135.5401730494466,
          135.5401730494466,
          135.7708898104583,
          136.23232333248174,
          137.1551903765286,
          137.1551903765286,
          137.84734065956374,
          137.84734065956374,
          138.5394909425989,
          138.7702077036106,
          139.231641225634,
          139.46235798664574,
          139.69307474765745,
          139.69307474765745,
          139.92379150866915,
          140.15450826968086,
          140.84665855271598,
          141.0773753137277,
          141.0773753137277,
          141.76952559676283,
          141.76952559676283,
          142.00024235777457,
          142.00024235777457,
          142.00024235777457,
          142.23095911878627,
          142.46167587979798,
          142.6923926408097,
          143.61525968485654,
          143.84597644586827,
          144.3074099678917,
          144.53812672890342,
          144.76884348991513,
          144.99956025092683,
          145.9224272949737,
          146.1531440559854,
          147.07601110003225,
          147.5374446220557,
          147.99887814407913,
          149.1524619491377,
          149.6138954711611,
          150.07532899318454,
          150.7674792762197,
          150.9981960372314,
          151.92106308127825,
          151.92106308127825,
          153.53608040836025,
          156.53539830151252,
          157.6889821065711,
          160.91901676073508,
          162.07260056579366,
          167.8405195910865,
          168.30195311310993,
          178.45349059762532,
          180.99137496875417,
          182.37567553482444,
          186.759293994047,
          186.9900107550587,
          199.21799908867956
         ],
         "yaxis": "y"
        }
       ],
       "layout": {
        "autosize": true,
        "legend": {
         "tracegroupgap": 0
        },
        "template": {
         "data": {
          "bar": [
           {
            "error_x": {
             "color": "#2a3f5f"
            },
            "error_y": {
             "color": "#2a3f5f"
            },
            "marker": {
             "line": {
              "color": "#E5ECF6",
              "width": 0.5
             },
             "pattern": {
              "fillmode": "overlay",
              "size": 10,
              "solidity": 0.2
             }
            },
            "type": "bar"
           }
          ],
          "barpolar": [
           {
            "marker": {
             "line": {
              "color": "#E5ECF6",
              "width": 0.5
             },
             "pattern": {
              "fillmode": "overlay",
              "size": 10,
              "solidity": 0.2
             }
            },
            "type": "barpolar"
           }
          ],
          "carpet": [
           {
            "aaxis": {
             "endlinecolor": "#2a3f5f",
             "gridcolor": "white",
             "linecolor": "white",
             "minorgridcolor": "white",
             "startlinecolor": "#2a3f5f"
            },
            "baxis": {
             "endlinecolor": "#2a3f5f",
             "gridcolor": "white",
             "linecolor": "white",
             "minorgridcolor": "white",
             "startlinecolor": "#2a3f5f"
            },
            "type": "carpet"
           }
          ],
          "choropleth": [
           {
            "colorbar": {
             "outlinewidth": 0,
             "ticks": ""
            },
            "type": "choropleth"
           }
          ],
          "contour": [
           {
            "colorbar": {
             "outlinewidth": 0,
             "ticks": ""
            },
            "colorscale": [
             [
              0,
              "#0d0887"
             ],
             [
              0.1111111111111111,
              "#46039f"
             ],
             [
              0.2222222222222222,
              "#7201a8"
             ],
             [
              0.3333333333333333,
              "#9c179e"
             ],
             [
              0.4444444444444444,
              "#bd3786"
             ],
             [
              0.5555555555555556,
              "#d8576b"
             ],
             [
              0.6666666666666666,
              "#ed7953"
             ],
             [
              0.7777777777777778,
              "#fb9f3a"
             ],
             [
              0.8888888888888888,
              "#fdca26"
             ],
             [
              1,
              "#f0f921"
             ]
            ],
            "type": "contour"
           }
          ],
          "contourcarpet": [
           {
            "colorbar": {
             "outlinewidth": 0,
             "ticks": ""
            },
            "type": "contourcarpet"
           }
          ],
          "heatmap": [
           {
            "colorbar": {
             "outlinewidth": 0,
             "ticks": ""
            },
            "colorscale": [
             [
              0,
              "#0d0887"
             ],
             [
              0.1111111111111111,
              "#46039f"
             ],
             [
              0.2222222222222222,
              "#7201a8"
             ],
             [
              0.3333333333333333,
              "#9c179e"
             ],
             [
              0.4444444444444444,
              "#bd3786"
             ],
             [
              0.5555555555555556,
              "#d8576b"
             ],
             [
              0.6666666666666666,
              "#ed7953"
             ],
             [
              0.7777777777777778,
              "#fb9f3a"
             ],
             [
              0.8888888888888888,
              "#fdca26"
             ],
             [
              1,
              "#f0f921"
             ]
            ],
            "type": "heatmap"
           }
          ],
          "heatmapgl": [
           {
            "colorbar": {
             "outlinewidth": 0,
             "ticks": ""
            },
            "colorscale": [
             [
              0,
              "#0d0887"
             ],
             [
              0.1111111111111111,
              "#46039f"
             ],
             [
              0.2222222222222222,
              "#7201a8"
             ],
             [
              0.3333333333333333,
              "#9c179e"
             ],
             [
              0.4444444444444444,
              "#bd3786"
             ],
             [
              0.5555555555555556,
              "#d8576b"
             ],
             [
              0.6666666666666666,
              "#ed7953"
             ],
             [
              0.7777777777777778,
              "#fb9f3a"
             ],
             [
              0.8888888888888888,
              "#fdca26"
             ],
             [
              1,
              "#f0f921"
             ]
            ],
            "type": "heatmapgl"
           }
          ],
          "histogram": [
           {
            "marker": {
             "pattern": {
              "fillmode": "overlay",
              "size": 10,
              "solidity": 0.2
             }
            },
            "type": "histogram"
           }
          ],
          "histogram2d": [
           {
            "colorbar": {
             "outlinewidth": 0,
             "ticks": ""
            },
            "colorscale": [
             [
              0,
              "#0d0887"
             ],
             [
              0.1111111111111111,
              "#46039f"
             ],
             [
              0.2222222222222222,
              "#7201a8"
             ],
             [
              0.3333333333333333,
              "#9c179e"
             ],
             [
              0.4444444444444444,
              "#bd3786"
             ],
             [
              0.5555555555555556,
              "#d8576b"
             ],
             [
              0.6666666666666666,
              "#ed7953"
             ],
             [
              0.7777777777777778,
              "#fb9f3a"
             ],
             [
              0.8888888888888888,
              "#fdca26"
             ],
             [
              1,
              "#f0f921"
             ]
            ],
            "type": "histogram2d"
           }
          ],
          "histogram2dcontour": [
           {
            "colorbar": {
             "outlinewidth": 0,
             "ticks": ""
            },
            "colorscale": [
             [
              0,
              "#0d0887"
             ],
             [
              0.1111111111111111,
              "#46039f"
             ],
             [
              0.2222222222222222,
              "#7201a8"
             ],
             [
              0.3333333333333333,
              "#9c179e"
             ],
             [
              0.4444444444444444,
              "#bd3786"
             ],
             [
              0.5555555555555556,
              "#d8576b"
             ],
             [
              0.6666666666666666,
              "#ed7953"
             ],
             [
              0.7777777777777778,
              "#fb9f3a"
             ],
             [
              0.8888888888888888,
              "#fdca26"
             ],
             [
              1,
              "#f0f921"
             ]
            ],
            "type": "histogram2dcontour"
           }
          ],
          "mesh3d": [
           {
            "colorbar": {
             "outlinewidth": 0,
             "ticks": ""
            },
            "type": "mesh3d"
           }
          ],
          "parcoords": [
           {
            "line": {
             "colorbar": {
              "outlinewidth": 0,
              "ticks": ""
             }
            },
            "type": "parcoords"
           }
          ],
          "pie": [
           {
            "automargin": true,
            "type": "pie"
           }
          ],
          "scatter": [
           {
            "fillpattern": {
             "fillmode": "overlay",
             "size": 10,
             "solidity": 0.2
            },
            "type": "scatter"
           }
          ],
          "scatter3d": [
           {
            "line": {
             "colorbar": {
              "outlinewidth": 0,
              "ticks": ""
             }
            },
            "marker": {
             "colorbar": {
              "outlinewidth": 0,
              "ticks": ""
             }
            },
            "type": "scatter3d"
           }
          ],
          "scattercarpet": [
           {
            "marker": {
             "colorbar": {
              "outlinewidth": 0,
              "ticks": ""
             }
            },
            "type": "scattercarpet"
           }
          ],
          "scattergeo": [
           {
            "marker": {
             "colorbar": {
              "outlinewidth": 0,
              "ticks": ""
             }
            },
            "type": "scattergeo"
           }
          ],
          "scattergl": [
           {
            "marker": {
             "colorbar": {
              "outlinewidth": 0,
              "ticks": ""
             }
            },
            "type": "scattergl"
           }
          ],
          "scattermapbox": [
           {
            "marker": {
             "colorbar": {
              "outlinewidth": 0,
              "ticks": ""
             }
            },
            "type": "scattermapbox"
           }
          ],
          "scatterpolar": [
           {
            "marker": {
             "colorbar": {
              "outlinewidth": 0,
              "ticks": ""
             }
            },
            "type": "scatterpolar"
           }
          ],
          "scatterpolargl": [
           {
            "marker": {
             "colorbar": {
              "outlinewidth": 0,
              "ticks": ""
             }
            },
            "type": "scatterpolargl"
           }
          ],
          "scatterternary": [
           {
            "marker": {
             "colorbar": {
              "outlinewidth": 0,
              "ticks": ""
             }
            },
            "type": "scatterternary"
           }
          ],
          "surface": [
           {
            "colorbar": {
             "outlinewidth": 0,
             "ticks": ""
            },
            "colorscale": [
             [
              0,
              "#0d0887"
             ],
             [
              0.1111111111111111,
              "#46039f"
             ],
             [
              0.2222222222222222,
              "#7201a8"
             ],
             [
              0.3333333333333333,
              "#9c179e"
             ],
             [
              0.4444444444444444,
              "#bd3786"
             ],
             [
              0.5555555555555556,
              "#d8576b"
             ],
             [
              0.6666666666666666,
              "#ed7953"
             ],
             [
              0.7777777777777778,
              "#fb9f3a"
             ],
             [
              0.8888888888888888,
              "#fdca26"
             ],
             [
              1,
              "#f0f921"
             ]
            ],
            "type": "surface"
           }
          ],
          "table": [
           {
            "cells": {
             "fill": {
              "color": "#EBF0F8"
             },
             "line": {
              "color": "white"
             }
            },
            "header": {
             "fill": {
              "color": "#C8D4E3"
             },
             "line": {
              "color": "white"
             }
            },
            "type": "table"
           }
          ]
         },
         "layout": {
          "annotationdefaults": {
           "arrowcolor": "#2a3f5f",
           "arrowhead": 0,
           "arrowwidth": 1
          },
          "autotypenumbers": "strict",
          "coloraxis": {
           "colorbar": {
            "outlinewidth": 0,
            "ticks": ""
           }
          },
          "colorscale": {
           "diverging": [
            [
             0,
             "#8e0152"
            ],
            [
             0.1,
             "#c51b7d"
            ],
            [
             0.2,
             "#de77ae"
            ],
            [
             0.3,
             "#f1b6da"
            ],
            [
             0.4,
             "#fde0ef"
            ],
            [
             0.5,
             "#f7f7f7"
            ],
            [
             0.6,
             "#e6f5d0"
            ],
            [
             0.7,
             "#b8e186"
            ],
            [
             0.8,
             "#7fbc41"
            ],
            [
             0.9,
             "#4d9221"
            ],
            [
             1,
             "#276419"
            ]
           ],
           "sequential": [
            [
             0,
             "#0d0887"
            ],
            [
             0.1111111111111111,
             "#46039f"
            ],
            [
             0.2222222222222222,
             "#7201a8"
            ],
            [
             0.3333333333333333,
             "#9c179e"
            ],
            [
             0.4444444444444444,
             "#bd3786"
            ],
            [
             0.5555555555555556,
             "#d8576b"
            ],
            [
             0.6666666666666666,
             "#ed7953"
            ],
            [
             0.7777777777777778,
             "#fb9f3a"
            ],
            [
             0.8888888888888888,
             "#fdca26"
            ],
            [
             1,
             "#f0f921"
            ]
           ],
           "sequentialminus": [
            [
             0,
             "#0d0887"
            ],
            [
             0.1111111111111111,
             "#46039f"
            ],
            [
             0.2222222222222222,
             "#7201a8"
            ],
            [
             0.3333333333333333,
             "#9c179e"
            ],
            [
             0.4444444444444444,
             "#bd3786"
            ],
            [
             0.5555555555555556,
             "#d8576b"
            ],
            [
             0.6666666666666666,
             "#ed7953"
            ],
            [
             0.7777777777777778,
             "#fb9f3a"
            ],
            [
             0.8888888888888888,
             "#fdca26"
            ],
            [
             1,
             "#f0f921"
            ]
           ]
          },
          "colorway": [
           "#636efa",
           "#EF553B",
           "#00cc96",
           "#ab63fa",
           "#FFA15A",
           "#19d3f3",
           "#FF6692",
           "#B6E880",
           "#FF97FF",
           "#FECB52"
          ],
          "font": {
           "color": "#2a3f5f"
          },
          "geo": {
           "bgcolor": "white",
           "lakecolor": "white",
           "landcolor": "#E5ECF6",
           "showlakes": true,
           "showland": true,
           "subunitcolor": "white"
          },
          "hoverlabel": {
           "align": "left"
          },
          "hovermode": "closest",
          "mapbox": {
           "style": "light"
          },
          "paper_bgcolor": "white",
          "plot_bgcolor": "#E5ECF6",
          "polar": {
           "angularaxis": {
            "gridcolor": "white",
            "linecolor": "white",
            "ticks": ""
           },
           "bgcolor": "#E5ECF6",
           "radialaxis": {
            "gridcolor": "white",
            "linecolor": "white",
            "ticks": ""
           }
          },
          "scene": {
           "xaxis": {
            "backgroundcolor": "#E5ECF6",
            "gridcolor": "white",
            "gridwidth": 2,
            "linecolor": "white",
            "showbackground": true,
            "ticks": "",
            "zerolinecolor": "white"
           },
           "yaxis": {
            "backgroundcolor": "#E5ECF6",
            "gridcolor": "white",
            "gridwidth": 2,
            "linecolor": "white",
            "showbackground": true,
            "ticks": "",
            "zerolinecolor": "white"
           },
           "zaxis": {
            "backgroundcolor": "#E5ECF6",
            "gridcolor": "white",
            "gridwidth": 2,
            "linecolor": "white",
            "showbackground": true,
            "ticks": "",
            "zerolinecolor": "white"
           }
          },
          "shapedefaults": {
           "line": {
            "color": "#2a3f5f"
           }
          },
          "ternary": {
           "aaxis": {
            "gridcolor": "white",
            "linecolor": "white",
            "ticks": ""
           },
           "baxis": {
            "gridcolor": "white",
            "linecolor": "white",
            "ticks": ""
           },
           "bgcolor": "#E5ECF6",
           "caxis": {
            "gridcolor": "white",
            "linecolor": "white",
            "ticks": ""
           }
          },
          "title": {
           "x": 0.05
          },
          "xaxis": {
           "automargin": true,
           "gridcolor": "white",
           "linecolor": "white",
           "ticks": "",
           "title": {
            "standoff": 15
           },
           "zerolinecolor": "white",
           "zerolinewidth": 2
          },
          "yaxis": {
           "automargin": true,
           "gridcolor": "white",
           "linecolor": "white",
           "ticks": "",
           "title": {
            "standoff": 15
           },
           "zerolinecolor": "white",
           "zerolinewidth": 2
          }
         }
        },
        "title": {
         "text": "Runs Produced versus On-base Plus Slugging"
        },
        "xaxis": {
         "anchor": "y",
         "autorange": true,
         "domain": [
          0,
          1
         ],
         "range": [
          0.5527516087516087,
          1.0952483912483912
         ],
         "title": {
          "text": "OPS"
         },
         "type": "linear"
        },
        "yaxis": {
         "anchor": "x",
         "autorange": true,
         "domain": [
          0,
          1
         ],
         "range": [
          64.6116504854369,
          225.38834951456312
         ],
         "title": {
          "text": "result"
         },
         "type": "linear"
        }
       }
      },
      "image/png": "[encoded data removed]",
      "text/html": [
       "<div>                            <div id=\"58a8619f-fefb-42c7-8eb7-cf2b9c153ad2\" class=\"plotly-graph-div\" style=\"height:525px; width:100%;\"></div>            <script type=\"text/javascript\">                require([\"plotly\"], function(Plotly) {                    window.PLOTLYENV=window.PLOTLYENV || {};                                    if (document.getElementById(\"58a8619f-fefb-42c7-8eb7-cf2b9c153ad2\")) {                    Plotly.newPlot(                        \"58a8619f-fefb-42c7-8eb7-cf2b9c153ad2\",                        [{\"hovertemplate\":\"\\u003cb\\u003e%{hovertext}\\u003c\\u002fb\\u003e\\u003cbr\\u003e\\u003cbr\\u003eOPS=%{x}\\u003cbr\\u003eresult=%{y}\\u003cextra\\u003e\\u003c\\u002fextra\\u003e\",\"hovertext\":[\"Matt Olson\",\"Kyle Schwarber\",\"Pete Alonso\",\"Shohei Ohtani\",\"Ronald Acu\\u00f1a Jr.\",\"Marcell Ozuna\",\"Mookie Betts\",\"Adolis Garc\\u00eda\",\"Luis Robert Jr.\",\"Austin Riley\",\"Max Muncy\",\"Jorge Soler\",\"Juan Soto\",\"Jake Burger\",\"Ozzie Albies\",\"Rafael Devers\",\"Corey Seager\",\"Christian Walker\",\"Julio Rodr\\u00edguez\",\"Francisco Lindor\",\"Isaac Paredes\",\"Spencer Torkelson\",\"Manny Machado\",\"Cal Raleigh\",\"Brent Rooker\",\"Bobby Witt Jr.\",\"Nick Castellanos\",\"Freddie Freeman\",\"Marcus Semien\",\"Kyle Tucker\",\"Gunnar Henderson\",\"Anthony Santander\",\"Lane Thomas\",\"Nolan Arenado\",\"Cody Bellinger\",\"Brandon Drury\",\"Vladimir Guerrero Jr.\",\"Teoscar Hern\\u00e1ndez\",\"Jack Suwinski\",\"Trea Turner\",\"Alex Bregman\",\"Corbin Carroll\",\"Paul Goldschmidt\",\"Ketel Marte\",\"Fernando Tatis Jr.\",\"Gleyber Torres\",\"Willy Adames\",\"Triston Casas\",\"Lourdes Gurriel Jr.\",\"Brandon Nimmo\",\"Jos\\u00e9 Ram\\u00edrez\",\"Bryan Reynolds\",\"Randy Arozarena\",\"Josh Jung\",\"Ryan McMahon\",\"James Outman\",\"Salvador P\\u00e9rez\",\"Carlos Santana\",\"Spencer Steer\",\"Justin Turner\",\"Josh Bell\",\"Jeimer Candelario\",\"Yandy D\\u00edaz\",\"Eugenio Su\\u00e1rez\",\"Dansby Swanson\",\"Ian Happ\",\"Bryce Harper\",\"Eddie Rosario\",\"George Springer\",\"Andrew Vaughn\",\"Anthony Volpe\",\"Bo Bichette\",\"Alec Bohm\",\"Josh Lowe\",\"J.T. Realmuto\",\"Hunter Renfroe\",\"Adley Rutschman\",\"Seiya Suzuki\",\"Daulton Varsho\",\"Xander Bogaerts\",\"J.P. Crawford\",\"Bryan De La Cruz\",\"Will Smith\",\"Christian Yelich\",\"CJ Abrams\",\"Jos\\u00e9 Abreu\",\"Carlos Correa\",\"J.D. Davis\",\"TJ Friedl\",\"Michael Harris II\",\"Jonah Heim\",\"Keibert Ruiz\",\"Orlando Arcia\",\"Matt Chapman\",\"William Contreras\",\"Jonathan India\",\"Ha-Seong Kim\",\"Nathaniel Lowe\",\"LaMonte Wade Jr.\",\"Austin Hays\",\"MJ Melendez\",\"Andr\\u00e9s Gim\\u00e9nez\",\"Ke'Bryan Hayes\",\"DJ LeMahieu\",\"Bryson Stott\",\"Ezequiel Tovar\",\"Masataka Yoshida\",\"El\\u00edas D\\u00edaz\",\"Thairo Estrada\",\"Lars Nootbaar\",\"Leody Taveras\",\"Trent Grisham\",\"Tommy Edman\",\"Joey Meneses\",\"Tyler Stephenson\",\"Alex Verdugo\",\"Ty France\",\"Dominic Smith\",\"Mark Canha\",\"Kik\\u00e9 Hern\\u00e1ndez\",\"Whit Merrifield\",\"Luis Arr\\u00e1ez\",\"Jake Cronenworth\",\"Jeff McNeil\",\"Jeremy Pe\\u00f1a\",\"Matt Vierling\",\"Javier B\\u00e1ez\",\"Nico Hoerner\",\"Zach McKinstry\",\"Jurickson Profar\",\"Amed Rosario\",\"Andrew Benintendi\",\"Steven Kwan\",\"Maikel Garc\\u00eda\",\"Tim Anderson\",\"Myles Straw\"],\"legendgroup\":\"\",\"marker\":{\"color\":\"#636efa\",\"symbol\":\"circle\"},\"mode\":\"markers\",\"name\":\"\",\"orientation\":\"v\",\"showlegend\":false,\"x\":[0.993,0.817,0.821,1.066,1.012,0.905,0.987,0.836,0.857,0.861,0.808,0.853,0.93,0.828,0.849,0.851,1.013,0.83,0.818,0.806,0.84,0.758,0.782,0.762,0.817,0.813,0.788,0.976,0.826,0.886,0.814,0.797,0.783,0.774,0.881,0.803,0.788,0.741,0.793,0.778,0.804,0.868,0.81,0.844,0.77,0.8,0.717,0.856,0.772,0.829,0.831,0.79,0.789,0.781,0.753,0.79,0.714,0.747,0.82,0.8,0.744,0.807,0.932,0.714,0.744,0.791,0.9,0.755,0.732,0.743,0.666,0.814,0.765,0.835,0.762,0.713,0.809,0.842,0.674,0.79,0.818,0.715,0.797,0.818,0.712,0.68,0.711,0.738,0.819,0.808,0.755,0.717,0.741,0.755,0.825,0.746,0.749,0.775,0.79,0.769,0.713,0.712,0.762,0.718,0.747,0.695,0.783,0.725,0.731,0.784,0.733,0.666,0.705,0.722,0.696,0.745,0.703,0.692,0.755,0.646,0.7,0.861,0.689,0.711,0.705,0.717,0.593,0.729,0.654,0.689,0.683,0.682,0.71,0.681,0.582,0.597],\"xaxis\":\"x\",\"y\":[212.0,165.0,164.0,153.0,214.0,144.0,194.0,176.0,132.0,177.0,164.0,116.0,171.0,117.0,172.0,157.0,151.0,156.0,173.0,175.0,138.0,151.0,136.0,123.0,100.0,163.0,156.0,204.0,193.0,180.0,154.0,148.0,159.0,138.0,166.0,118.0,146.0,137.0,111.0,152.0,176.0,167.0,144.0,151.0,144.0,133.0,129.0,107.0,123.0,133.0,143.0,145.0,155.0,122.0,127.0,133.0,116.0,141.0,137.0,159.0,104.0,125.0,151.0,142.0,139.0,149.0,135.0,117.0,138.0,126.0,101.0,122.0,151.0,134.0,113.0,100.0,144.0,129.0,106.0,122.0,140.0,119.0,137.0,163.0,129.0,134.0,107.0,112.0,121.0,115.0,138.0,104.0,114.0,103.0,147.0,122.0,127.0,154.0,92.0,127.0,105.0,123.0,111.0,84.0,125.0,137.0,128.0,106.0,98.0,106.0,120.0,104.0,103.0,147.0,102.0,122.0,125.0,91.0,102.0,107.0,122.0,130.0,92.0,120.0,123.0,97.0,108.0,157.0,86.0,92.0,122.0,112.0,142.0,105.0,76.0,80.0],\"yaxis\":\"y\",\"type\":\"scatter\"},{\"hovertemplate\":\"\\u003cb\\u003eOLS trendline\\u003c\\u002fb\\u003e\\u003cbr\\u003eresult = 230.717 * OPS + -46.7261\\u003cbr\\u003eR\\u003csup\\u003e2\\u003c\\u002fsup\\u003e=0.483214\\u003cbr\\u003e\\u003cbr\\u003eOPS=%{x}\\u003cbr\\u003eresult=%{y} \\u003cb\\u003e(trend)\\u003c\\u002fb\\u003e\\u003cextra\\u003e\\u003c\\u002fextra\\u003e\",\"legendgroup\":\"\",\"marker\":{\"color\":\"#636efa\",\"symbol\":\"circle\"},\"mode\":\"lines\",\"name\":\"\",\"showlegend\":false,\"x\":[0.582,0.593,0.597,0.646,0.654,0.666,0.666,0.674,0.68,0.681,0.682,0.683,0.689,0.689,0.692,0.695,0.696,0.7,0.703,0.705,0.705,0.71,0.711,0.711,0.712,0.712,0.713,0.713,0.714,0.714,0.715,0.717,0.717,0.717,0.718,0.722,0.725,0.729,0.731,0.732,0.733,0.738,0.741,0.741,0.743,0.744,0.744,0.745,0.746,0.747,0.747,0.749,0.753,0.755,0.755,0.755,0.755,0.758,0.762,0.762,0.762,0.765,0.769,0.77,0.772,0.774,0.775,0.778,0.781,0.782,0.783,0.783,0.784,0.788,0.788,0.789,0.79,0.79,0.79,0.79,0.791,0.793,0.797,0.797,0.8,0.8,0.803,0.804,0.806,0.807,0.808,0.808,0.809,0.81,0.813,0.814,0.814,0.817,0.817,0.818,0.818,0.818,0.819,0.82,0.821,0.825,0.826,0.828,0.829,0.83,0.831,0.835,0.836,0.84,0.842,0.844,0.849,0.851,0.853,0.856,0.857,0.861,0.861,0.868,0.881,0.886,0.9,0.905,0.93,0.932,0.976,0.987,0.993,1.012,1.013,1.066],\"xaxis\":\"x\",\"y\":[87.55108675901016,90.08897113013902,91.01183817418587,102.31695946375984,104.16269355185355,106.93129468399411,106.93129468399411,108.77702877208782,110.16132933815811,110.39204609916982,110.62276286018152,110.85347962119326,112.2377801872635,112.2377801872635,112.92993047029864,113.62208075333379,113.8527975143455,114.77566455839235,115.4678148414275,115.92924836345094,115.92924836345094,117.0828321685095,117.3135489295212,117.3135489295212,117.54426569053291,117.54426569053291,117.77498245154464,117.77498245154464,118.00569921255635,118.00569921255635,118.23641597356806,118.6978494955915,118.6978494955915,118.6978494955915,118.9285662566032,119.85143330065006,120.5435835836852,121.46645062773206,121.92788414975547,122.1586009107672,122.38931767177891,123.54290147683747,124.23505175987262,124.23505175987262,124.69648528189606,124.92720204290777,124.92720204290777,125.15791880391947,125.38863556493118,125.61935232594291,125.61935232594291,126.08078584796633,127.00365289201318,127.46508641403662,127.46508641403662,127.46508641403662,127.46508641403662,128.15723669707177,129.08010374111862,129.08010374111862,129.08010374111862,129.77225402415374,130.69512106820062,130.92583782921233,131.38727135123574,131.84870487325918,132.0794216342709,132.77157191730603,133.46372220034118,133.6944389613529,133.9251557223646,133.9251557223646,134.15587248337633,135.07873952742318,135.07873952742318,135.3094562884349,135.5401730494466,135.5401730494466,135.5401730494466,135.5401730494466,135.7708898104583,136.23232333248174,137.1551903765286,137.1551903765286,137.84734065956374,137.84734065956374,138.5394909425989,138.7702077036106,139.231641225634,139.46235798664574,139.69307474765745,139.69307474765745,139.92379150866915,140.15450826968086,140.84665855271598,141.0773753137277,141.0773753137277,141.76952559676283,141.76952559676283,142.00024235777457,142.00024235777457,142.00024235777457,142.23095911878627,142.46167587979798,142.6923926408097,143.61525968485654,143.84597644586827,144.3074099678917,144.53812672890342,144.76884348991513,144.99956025092683,145.9224272949737,146.1531440559854,147.07601110003225,147.5374446220557,147.99887814407913,149.1524619491377,149.6138954711611,150.07532899318454,150.7674792762197,150.9981960372314,151.92106308127825,151.92106308127825,153.53608040836025,156.53539830151252,157.6889821065711,160.91901676073508,162.07260056579366,167.8405195910865,168.30195311310993,178.45349059762532,180.99137496875417,182.37567553482444,186.759293994047,186.9900107550587,199.21799908867956],\"yaxis\":\"y\",\"type\":\"scatter\"}],                        {\"template\":{\"data\":{\"histogram2dcontour\":[{\"type\":\"histogram2dcontour\",\"colorbar\":{\"outlinewidth\":0,\"ticks\":\"\"},\"colorscale\":[[0.0,\"#0d0887\"],[0.1111111111111111,\"#46039f\"],[0.2222222222222222,\"#7201a8\"],[0.3333333333333333,\"#9c179e\"],[0.4444444444444444,\"#bd3786\"],[0.5555555555555556,\"#d8576b\"],[0.6666666666666666,\"#ed7953\"],[0.7777777777777778,\"#fb9f3a\"],[0.8888888888888888,\"#fdca26\"],[1.0,\"#f0f921\"]]}],\"choropleth\":[{\"type\":\"choropleth\",\"colorbar\":{\"outlinewidth\":0,\"ticks\":\"\"}}],\"histogram2d\":[{\"type\":\"histogram2d\",\"colorbar\":{\"outlinewidth\":0,\"ticks\":\"\"},\"colorscale\":[[0.0,\"#0d0887\"],[0.1111111111111111,\"#46039f\"],[0.2222222222222222,\"#7201a8\"],[0.3333333333333333,\"#9c179e\"],[0.4444444444444444,\"#bd3786\"],[0.5555555555555556,\"#d8576b\"],[0.6666666666666666,\"#ed7953\"],[0.7777777777777778,\"#fb9f3a\"],[0.8888888888888888,\"#fdca26\"],[1.0,\"#f0f921\"]]}],\"heatmap\":[{\"type\":\"heatmap\",\"colorbar\":{\"outlinewidth\":0,\"ticks\":\"\"},\"colorscale\":[[0.0,\"#0d0887\"],[0.1111111111111111,\"#46039f\"],[0.2222222222222222,\"#7201a8\"],[0.3333333333333333,\"#9c179e\"],[0.4444444444444444,\"#bd3786\"],[0.5555555555555556,\"#d8576b\"],[0.6666666666666666,\"#ed7953\"],[0.7777777777777778,\"#fb9f3a\"],[0.8888888888888888,\"#fdca26\"],[1.0,\"#f0f921\"]]}],\"heatmapgl\":[{\"type\":\"heatmapgl\",\"colorbar\":{\"outlinewidth\":0,\"ticks\":\"\"},\"colorscale\":[[0.0,\"#0d0887\"],[0.1111111111111111,\"#46039f\"],[0.2222222222222222,\"#7201a8\"],[0.3333333333333333,\"#9c179e\"],[0.4444444444444444,\"#bd3786\"],[0.5555555555555556,\"#d8576b\"],[0.6666666666666666,\"#ed7953\"],[0.7777777777777778,\"#fb9f3a\"],[0.8888888888888888,\"#fdca26\"],[1.0,\"#f0f921\"]]}],\"contourcarpet\":[{\"type\":\"contourcarpet\",\"colorbar\":{\"outlinewidth\":0,\"ticks\":\"\"}}],\"contour\":[{\"type\":\"contour\",\"colorbar\":{\"outlinewidth\":0,\"ticks\":\"\"},\"colorscale\":[[0.0,\"#0d0887\"],[0.1111111111111111,\"#46039f\"],[0.2222222222222222,\"#7201a8\"],[0.3333333333333333,\"#9c179e\"],[0.4444444444444444,\"#bd3786\"],[0.5555555555555556,\"#d8576b\"],[0.6666666666666666,\"#ed7953\"],[0.7777777777777778,\"#fb9f3a\"],[0.8888888888888888,\"#fdca26\"],[1.0,\"#f0f921\"]]}],\"surface\":[{\"type\":\"surface\",\"colorbar\":{\"outlinewidth\":0,\"ticks\":\"\"},\"colorscale\":[[0.0,\"#0d0887\"],[0.1111111111111111,\"#46039f\"],[0.2222222222222222,\"#7201a8\"],[0.3333333333333333,\"#9c179e\"],[0.4444444444444444,\"#bd3786\"],[0.5555555555555556,\"#d8576b\"],[0.6666666666666666,\"#ed7953\"],[0.7777777777777778,\"#fb9f3a\"],[0.8888888888888888,\"#fdca26\"],[1.0,\"#f0f921\"]]}],\"mesh3d\":[{\"type\":\"mesh3d\",\"colorbar\":{\"outlinewidth\":0,\"ticks\":\"\"}}],\"scatter\":[{\"fillpattern\":{\"fillmode\":\"overlay\",\"size\":10,\"solidity\":0.2},\"type\":\"scatter\"}],\"parcoords\":[{\"type\":\"parcoords\",\"line\":{\"colorbar\":{\"outlinewidth\":0,\"ticks\":\"\"}}}],\"scatterpolargl\":[{\"type\":\"scatterpolargl\",\"marker\":{\"colorbar\":{\"outlinewidth\":0,\"ticks\":\"\"}}}],\"bar\":[{\"error_x\":{\"color\":\"#2a3f5f\"},\"error_y\":{\"color\":\"#2a3f5f\"},\"marker\":{\"line\":{\"color\":\"#E5ECF6\",\"width\":0.5},\"pattern\":{\"fillmode\":\"overlay\",\"size\":10,\"solidity\":0.2}},\"type\":\"bar\"}],\"scattergeo\":[{\"type\":\"scattergeo\",\"marker\":{\"colorbar\":{\"outlinewidth\":0,\"ticks\":\"\"}}}],\"scatterpolar\":[{\"type\":\"scatterpolar\",\"marker\":{\"colorbar\":{\"outlinewidth\":0,\"ticks\":\"\"}}}],\"histogram\":[{\"marker\":{\"pattern\":{\"fillmode\":\"overlay\",\"size\":10,\"solidity\":0.2}},\"type\":\"histogram\"}],\"scattergl\":[{\"type\":\"scattergl\",\"marker\":{\"colorbar\":{\"outlinewidth\":0,\"ticks\":\"\"}}}],\"scatter3d\":[{\"type\":\"scatter3d\",\"line\":{\"colorbar\":{\"outlinewidth\":0,\"ticks\":\"\"}},\"marker\":{\"colorbar\":{\"outlinewidth\":0,\"ticks\":\"\"}}}],\"scattermapbox\":[{\"type\":\"scattermapbox\",\"marker\":{\"colorbar\":{\"outlinewidth\":0,\"ticks\":\"\"}}}],\"scatterternary\":[{\"type\":\"scatterternary\",\"marker\":{\"colorbar\":{\"outlinewidth\":0,\"ticks\":\"\"}}}],\"scattercarpet\":[{\"type\":\"scattercarpet\",\"marker\":{\"colorbar\":{\"outlinewidth\":0,\"ticks\":\"\"}}}],\"carpet\":[{\"aaxis\":{\"endlinecolor\":\"#2a3f5f\",\"gridcolor\":\"white\",\"linecolor\":\"white\",\"minorgridcolor\":\"white\",\"startlinecolor\":\"#2a3f5f\"},\"baxis\":{\"endlinecolor\":\"#2a3f5f\",\"gridcolor\":\"white\",\"linecolor\":\"white\",\"minorgridcolor\":\"white\",\"startlinecolor\":\"#2a3f5f\"},\"type\":\"carpet\"}],\"table\":[{\"cells\":{\"fill\":{\"color\":\"#EBF0F8\"},\"line\":{\"color\":\"white\"}},\"header\":{\"fill\":{\"color\":\"#C8D4E3\"},\"line\":{\"color\":\"white\"}},\"type\":\"table\"}],\"barpolar\":[{\"marker\":{\"line\":{\"color\":\"#E5ECF6\",\"width\":0.5},\"pattern\":{\"fillmode\":\"overlay\",\"size\":10,\"solidity\":0.2}},\"type\":\"barpolar\"}],\"pie\":[{\"automargin\":true,\"type\":\"pie\"}]},\"layout\":{\"autotypenumbers\":\"strict\",\"colorway\":[\"#636efa\",\"#EF553B\",\"#00cc96\",\"#ab63fa\",\"#FFA15A\",\"#19d3f3\",\"#FF6692\",\"#B6E880\",\"#FF97FF\",\"#FECB52\"],\"font\":{\"color\":\"#2a3f5f\"},\"hovermode\":\"closest\",\"hoverlabel\":{\"align\":\"left\"},\"paper_bgcolor\":\"white\",\"plot_bgcolor\":\"#E5ECF6\",\"polar\":{\"bgcolor\":\"#E5ECF6\",\"angularaxis\":{\"gridcolor\":\"white\",\"linecolor\":\"white\",\"ticks\":\"\"},\"radialaxis\":{\"gridcolor\":\"white\",\"linecolor\":\"white\",\"ticks\":\"\"}},\"ternary\":{\"bgcolor\":\"#E5ECF6\",\"aaxis\":{\"gridcolor\":\"white\",\"linecolor\":\"white\",\"ticks\":\"\"},\"baxis\":{\"gridcolor\":\"white\",\"linecolor\":\"white\",\"ticks\":\"\"},\"caxis\":{\"gridcolor\":\"white\",\"linecolor\":\"white\",\"ticks\":\"\"}},\"coloraxis\":{\"colorbar\":{\"outlinewidth\":0,\"ticks\":\"\"}},\"colorscale\":{\"sequential\":[[0.0,\"#0d0887\"],[0.1111111111111111,\"#46039f\"],[0.2222222222222222,\"#7201a8\"],[0.3333333333333333,\"#9c179e\"],[0.4444444444444444,\"#bd3786\"],[0.5555555555555556,\"#d8576b\"],[0.6666666666666666,\"#ed7953\"],[0.7777777777777778,\"#fb9f3a\"],[0.8888888888888888,\"#fdca26\"],[1.0,\"#f0f921\"]],\"sequentialminus\":[[0.0,\"#0d0887\"],[0.1111111111111111,\"#46039f\"],[0.2222222222222222,\"#7201a8\"],[0.3333333333333333,\"#9c179e\"],[0.4444444444444444,\"#bd3786\"],[0.5555555555555556,\"#d8576b\"],[0.6666666666666666,\"#ed7953\"],[0.7777777777777778,\"#fb9f3a\"],[0.8888888888888888,\"#fdca26\"],[1.0,\"#f0f921\"]],\"diverging\":[[0,\"#8e0152\"],[0.1,\"#c51b7d\"],[0.2,\"#de77ae\"],[0.3,\"#f1b6da\"],[0.4,\"#fde0ef\"],[0.5,\"#f7f7f7\"],[0.6,\"#e6f5d0\"],[0.7,\"#b8e186\"],[0.8,\"#7fbc41\"],[0.9,\"#4d9221\"],[1,\"#276419\"]]},\"xaxis\":{\"gridcolor\":\"white\",\"linecolor\":\"white\",\"ticks\":\"\",\"title\":{\"standoff\":15},\"zerolinecolor\":\"white\",\"automargin\":true,\"zerolinewidth\":2},\"yaxis\":{\"gridcolor\":\"white\",\"linecolor\":\"white\",\"ticks\":\"\",\"title\":{\"standoff\":15},\"zerolinecolor\":\"white\",\"automargin\":true,\"zerolinewidth\":2},\"scene\":{\"xaxis\":{\"backgroundcolor\":\"#E5ECF6\",\"gridcolor\":\"white\",\"linecolor\":\"white\",\"showbackground\":true,\"ticks\":\"\",\"zerolinecolor\":\"white\",\"gridwidth\":2},\"yaxis\":{\"backgroundcolor\":\"#E5ECF6\",\"gridcolor\":\"white\",\"linecolor\":\"white\",\"showbackground\":true,\"ticks\":\"\",\"zerolinecolor\":\"white\",\"gridwidth\":2},\"zaxis\":{\"backgroundcolor\":\"#E5ECF6\",\"gridcolor\":\"white\",\"linecolor\":\"white\",\"showbackground\":true,\"ticks\":\"\",\"zerolinecolor\":\"white\",\"gridwidth\":2}},\"shapedefaults\":{\"line\":{\"color\":\"#2a3f5f\"}},\"annotationdefaults\":{\"arrowcolor\":\"#2a3f5f\",\"arrowhead\":0,\"arrowwidth\":1},\"geo\":{\"bgcolor\":\"white\",\"landcolor\":\"#E5ECF6\",\"subunitcolor\":\"white\",\"showland\":true,\"showlakes\":true,\"lakecolor\":\"white\"},\"title\":{\"x\":0.05},\"mapbox\":{\"style\":\"light\"}}},\"xaxis\":{\"anchor\":\"y\",\"domain\":[0.0,1.0],\"title\":{\"text\":\"OPS\"}},\"yaxis\":{\"anchor\":\"x\",\"domain\":[0.0,1.0],\"title\":{\"text\":\"result\"}},\"legend\":{\"tracegroupgap\":0},\"title\":{\"text\":\"Runs Produced versus On-base Plus Slugging\"}},                        {\"responsive\": true}                    ).then(function(){\n",
       "                            \n",
       "var gd = document.getElementById('58a8619f-fefb-42c7-8eb7-cf2b9c153ad2');\n",
       "var x = new MutationObserver(function (mutations, observer) {{\n",
       "        var display = window.getComputedStyle(gd).display;\n",
       "        if (!display || display === 'none') {{\n",
       "            console.log([gd, 'removed!']);\n",
       "            Plotly.purge(gd);\n",
       "            observer.disconnect();\n",
       "        }}\n",
       "}});\n",
       "\n",
       "// Listen for the removal of the full notebook cells\n",
       "var notebookContainer = gd.closest('#notebook-container');\n",
       "if (notebookContainer) {{\n",
       "    x.observe(notebookContainer, {childList: true});\n",
       "}}\n",
       "\n",
       "// Listen for the clearing of the current output cell\n",
       "var outputEl = gd.closest('.output');\n",
       "if (outputEl) {{\n",
       "    x.observe(outputEl, {childList: true});\n",
       "}}\n",
       "\n",
       "                        })                };                });            </script>        </div>"
      ]
     },
     "metadata": {},
     "output_type": "display_data"
    }
   ],
   "source": [
    "px.scatter(dfc, x='OPS', y='result', title='Runs Produced versus On-base Plus Slugging',trendline=\"ols\",hover_name=\"Player\")"
   ]
  },
  {
   "cell_type": "markdown",
   "metadata": {},
   "source": [
    "### Observations\n",
    "\n",
    "Do Batting Average, and OPS serve as a good predictor of the Runs Produced (result)? Which one is better?\n",
    "\n",
    "Which players are the outliers? Why do you think these player are unusual?\n"
   ]
  },
  {
   "cell_type": "markdown",
   "metadata": {},
   "source": [
    "## Going further\n",
    "\n",
    "What other statistics can you explore, as good predictors of player performance? Here are some possibilities:\n",
    "- SO: Strike outs\n",
    "- BA: Batting Average\n",
    "- OBP: On Base Percentage\n",
    "- SLG: Slugging Average\n",
    "- OPS+: On Base Plus Slugging, normalized.\n",
    "\n",
    "Can you use this kind of data on amateur baseball data? \n",
    "\n",
    "For instance, one of us did some multiple regressions with our team's softball statistics. One interesting result is that walk rate is negatively correlated with runs produced, unlike in major league baseball. This is probably because weaker players are trying to draw more walks, while more confident players are swinging early.\n",
    "\n",
    "What else might you discover?\n"
   ]
  },
  {
   "cell_type": "markdown",
   "metadata": {},
   "source": [
    "[![Callysto.ca License](https://github.com/callysto/curriculum-notebooks/blob/master/callysto-notebook-banner-bottom.jpg?raw=true)](https://github.com/callysto/curriculum-notebooks/blob/master/LICENSE.md)"
   ]
  },
  {
   "cell_type": "code",
   "execution_count": null,
   "metadata": {},
   "outputs": [],
   "source": []
  }
 ],
 "metadata": {
  "kernelspec": {
   "display_name": "Python 3 (ipykernel)",
   "language": "python",
   "name": "python3"
  },
  "language_info": {
   "codemirror_mode": {
    "name": "ipython",
    "version": 3
   },
   "file_extension": ".py",
   "mimetype": "text/x-python",
   "name": "python",
   "nbconvert_exporter": "python",
   "pygments_lexer": "ipython3",
   "version": "3.9.13"
  },
  "rise": {
   "footer": "<IMG src='./images/callysto_logo.png' height='50'>",
   "scroll": true,
   "transition": "none"
  }
 },
 "nbformat": 4,
 "nbformat_minor": 4
}
