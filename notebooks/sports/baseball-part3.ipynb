{
 "cells": [
  {
   "cell_type": "markdown",
   "metadata": {},
   "source": [
    "![Callysto.ca Banner](https://github.com/callysto/curriculum-notebooks/blob/master/callysto-notebook-banner-top.jpg?raw=true)"
   ]
  },
  {
   "cell_type": "markdown",
   "metadata": {
    "slideshow": {
     "slide_type": "slide"
    }
   },
   "source": [
    "# Baseball Analytics\n",
    "\n",
    "By Alex Lamoureux and Michael Lamoureux "
   ]
  },
  {
   "cell_type": "markdown",
   "metadata": {},
   "source": [
    "Welcome to a Jupyter notebook on baseball analytics. This notebook is a free resource and is part of the Callysto project, which brings data science skills to grades 5 to 12 classrooms. \n",
    "\n",
    "In this notebook, we’ll start by looking at some baseball statistical data. We will then make some evaluations of the quality of players based on statistical measures.\n",
    "\n",
    "In real major league baseball, computing statistic are key to understanding how players are valued by their team. The money Moneyball, with Brad Pitt and Jonah Hill is all about baseball analytics. \n",
    "\n",
    "Visualizations are coded using Python, a computer programming language. Python contains words from English and is used by data scientists. Programming languages are how people communicate with computers."
   ]
  },
  {
   "cell_type": "markdown",
   "metadata": {},
   "source": [
    "“Run” the cells to see the graphs.\n",
    "\n",
    "Click the \"Run\" menu and select “Run All Cells.”  This will import the data and run all the code to create the data visualizations (scroll back to the top after you’ve run the cells).   \n",
    "\n",
    "Or you can run one cell at a time, by clicking on `▶Run`."
   ]
  },
  {
   "cell_type": "code",
   "execution_count": null,
   "metadata": {
    "slideshow": {
     "slide_type": "skip"
    }
   },
   "outputs": [],
   "source": [
    "# import Python libraries\n",
    "\n",
    "import pandas as pd\n",
    "import plotly.express as px\n",
    "\n",
    "print(\"Libraries successfully imported.\")"
   ]
  },
  {
   "cell_type": "markdown",
   "metadata": {
    "slideshow": {
     "slide_type": "slide"
    }
   },
   "source": [
    "## Example: Home run data for Major League Baseball\n",
    "\n",
    "Data source: https://stathead.com/baseball/"
   ]
  },
  {
   "cell_type": "markdown",
   "metadata": {},
   "source": [
    "The data source for this dataset is StatHead. The site contains data for all sorts of profession sports. In this notebook, we concentrate on professional baseball data from 2023. It contains a great deal of information about hundreds of players and their performance over the course of the year. This data is not anonymized so we can make evaluations about individual players based on their record. Professional sports data can also be valuable because it helps teams gain a competitive advantage.\n",
    "\n",
    "We can use Python code to link to the dataset, which is was downloaded from the Internet, and saved locally as a CSV file, a type of spreadsheet. The dataset is large with 766 rows and 34 columns. That’s over 26,000 data points!\n",
    "\n",
    "Let’s take a look at the columns: Data is displayed for each player, giving their name (Player), home run count (HR), Age, Team, League (Lg) and so on. \n",
    "\n",
    "There are 34 columns which can't fit on this display. In the next cell, we can show all the columns names. "
   ]
  },
  {
   "cell_type": "code",
   "execution_count": null,
   "metadata": {},
   "outputs": [],
   "source": [
    "dfb = pd.read_csv(\"homersfull.csv\")\n",
    "dfb"
   ]
  },
  {
   "cell_type": "markdown",
   "metadata": {},
   "source": [
    "### Column names\n",
    "\n",
    "THe following command will list all 34 column titles in the data base. \n",
    "\n",
    "We will be interested in **HR** home runs, **BA** batting average, **OPS** on-base plus slugging, and a few other items."
   ]
  },
  {
   "cell_type": "code",
   "execution_count": null,
   "metadata": {},
   "outputs": [],
   "source": [
    "dfb.columns"
   ]
  },
  {
   "cell_type": "markdown",
   "metadata": {},
   "source": [
    "Baseball is a complex game and there are a lot of information collected in each game. Here is a list of the abbreviations of the column names, which records all this data:\n",
    "\n",
    "- Player: Name of Player\n",
    "- HR: Number of Home Runs\n",
    "- G: Number of Games\n",
    "- PA: Number of Plate Appearances\n",
    "- AB:  Number Aof t-Bats (Plate appearances minus walks and sacrifices)\n",
    "- R: Runs\n",
    "- H: Hits\n",
    "- 1B: Singles\n",
    "- 2B: Doubles\n",
    "- 3B: Triple\n",
    "- HR.1: Home runs\n",
    "- RBI: Runs Batted In\n",
    "- SB: Stolen Base\n",
    "- CS: Caught Stealing\n",
    "- BB: Base on Balls\n",
    "- SO: Strikeout\n",
    "- BA: Batting Average\n",
    "- OBP: On Base Percentage\n",
    "- SLG: Slugging Average\n",
    "- OPS: On Base Plus Slugging\n",
    "- OPS+: is the player's OPS divided by the league average for that player's home stadium, times 100.\n",
    "- TB: Total Bases\n",
    "- GIDP: Grounded Into Double Play\n",
    "- HBP: Hit By Pitch\n",
    "- SH: Sacrifice Hits (bunts)\n",
    "- SF: Sacrifice Flies\n",
    "- IBB: Intentional Base on Balls"
   ]
  },
  {
   "cell_type": "markdown",
   "metadata": {},
   "source": [
    "## Plotting\n",
    "\n",
    "Now, let’s plot some basic information. We start with a bar chart showing the top players, with their home run count, and indicate their team. \n",
    "\n",
    "This can be done in one line of code using **plotly** to create the chart. "
   ]
  },
  {
   "cell_type": "code",
   "execution_count": null,
   "metadata": {},
   "outputs": [],
   "source": [
    "px.bar(dfb[0:20], x='Player', y='HR', color=\"Team\", title='Total counts for types of plays')"
   ]
  },
  {
   "cell_type": "markdown",
   "metadata": {},
   "source": [
    "### Observations\n",
    "\n",
    "What do you notice in this bar cheat? WHo is the top home run hitter? What team has the most top hitters?"
   ]
  },
  {
   "cell_type": "markdown",
   "metadata": {},
   "source": [
    "## Plotting data points\n",
    "\n",
    "Let's see how the home run production is predicted by the players batting average."
   ]
  },
  {
   "cell_type": "code",
   "execution_count": null,
   "metadata": {},
   "outputs": [],
   "source": [
    "px.scatter(dfb, x='BA', y='HR', title='Homers versus Batting Average',trendline=\"ols\")"
   ]
  },
  {
   "cell_type": "code",
   "execution_count": null,
   "metadata": {},
   "outputs": [],
   "source": [
    "px.scatter(dfb, x='OPS', y='HR', title='Homers versus On-base Plus Slugging',trendline=\"ols\")"
   ]
  },
  {
   "cell_type": "markdown",
   "metadata": {},
   "source": [
    "## Improving the predictions\n",
    "\n",
    "We notice on the far right, there are very few data points. These seem to come from players who actually did not play many games. \n",
    "\n",
    "So let's improve our data by removing players who have less than 500 Plate Apperances (PA)."
   ]
  },
  {
   "cell_type": "code",
   "execution_count": null,
   "metadata": {
    "scrolled": true,
    "slideshow": {
     "slide_type": "slide"
    }
   },
   "outputs": [],
   "source": [
    "dfc=dfb.loc[dfb[\"PA\"] > 500]\n",
    "dfc"
   ]
  },
  {
   "cell_type": "code",
   "execution_count": null,
   "metadata": {},
   "outputs": [],
   "source": [
    "px.scatter(dfc, x='BA', y='HR', title='Homers versus Batting Average (Small data)',trendline=\"ols\")"
   ]
  },
  {
   "cell_type": "code",
   "execution_count": null,
   "metadata": {},
   "outputs": [],
   "source": [
    "px.scatter(dfc, x='OPS', y='HR', title='Homers versus On-base Plus Slugging (Small data)',trendline=\"ols\")"
   ]
  },
  {
   "cell_type": "markdown",
   "metadata": {},
   "source": [
    "### Observations\n",
    "\n",
    "It appears that the HR vs OPS chart shows a much stronger linear correlation that the first chart. You can also use your mouse to roll over the straight line in this second chart and see the $R^2$ value is about 0.5, which indicates a strong correlation.\n",
    "\n",
    "The first graph has a much smaller $R^2$. What is it? Does this tell you the correlation in the first graph is weaker?\n"
   ]
  },
  {
   "cell_type": "markdown",
   "metadata": {},
   "source": [
    "## Adding our own statistical measure\n",
    "\n",
    "We can create our own statistics to indicate what measures the value of the player. For instance, perhaps we are less interested in home runs but more interested in players that help the team score overall.\n",
    "\n",
    "For instance, Runs Batted In (RBI) and Runs (R) are good measure of how a player helps the team put points on the score board. We can define a new stat by the formula\n",
    "\n",
    "$$ \\mbox{ result } = \\mbox{ RBI } + \\mbox{ R } + \\mbox{ HR }$$\n",
    "\n",
    "Notice we have to subtract the Home Run count, since it is already counted in Hits .\n",
    "\n",
    "Here is the code. We save the results in dfb and then make a new copy of the shorter data frame dfc. "
   ]
  },
  {
   "cell_type": "code",
   "execution_count": null,
   "metadata": {},
   "outputs": [],
   "source": [
    "dfb[\"result\"]=dfb[\"RBI\"] +dfb[\"R\"]-dfb[\"HR\"]\n",
    "dfc=dfb.loc[dfb[\"PA\"] > 500]\n",
    "dfc"
   ]
  },
  {
   "cell_type": "markdown",
   "metadata": {},
   "source": [
    "## Plotting\n",
    "\n",
    "Let's plot this **results** data, representing the Runs produced, versus Batting Average and On-base Plus Slugging. \n",
    "\n",
    "You can examine the outliers by dragging your mouse over a data point -- it will show the name of the player. "
   ]
  },
  {
   "cell_type": "code",
   "execution_count": null,
   "metadata": {},
   "outputs": [],
   "source": [
    "px.scatter(dfc, x='BA', y='result', title='Runs Produced versus Batting Average',trendline=\"ols\",hover_name=\"Player\")"
   ]
  },
  {
   "cell_type": "code",
   "execution_count": null,
   "metadata": {},
   "outputs": [],
   "source": [
    "px.scatter(dfc, x='OPS', y='result', title='Runs Produced versus On-base Plus Slugging',trendline=\"ols\",hover_name=\"Player\")"
   ]
  },
  {
   "cell_type": "markdown",
   "metadata": {},
   "source": [
    "### Observations\n",
    "\n",
    "Do Batting Average, and OPS serve as a good predictor of the Runs Produced (result)? Which one is better?\n",
    "\n",
    "Which players are the outliers? Why do you think these player are unusual?\n"
   ]
  },
  {
   "cell_type": "markdown",
   "metadata": {},
   "source": [
    "## Going further\n",
    "\n",
    "What other statistics can you explore, as good predictors of player performance? Here are some possibilities:\n",
    "- SO: Strike outs\n",
    "- BA: Batting Average\n",
    "- OBP: On Base Percentage\n",
    "- SLG: Slugging Average\n",
    "- OPS+: On Base Plus Slugging, normalized.\n",
    "\n",
    "Can you use this kind of data on amateur baseball data? \n",
    "\n",
    "For instance, one of us did some multiple regressions with our team's softball statistics. One interesting result is that walk rate is negatively correlated with runs produced, unlike in major league baseball. This is probably because weaker players are trying to draw more walks, while more confident players are swinging early.\n",
    "\n",
    "What else might you discover?\n"
   ]
  },
  {
   "cell_type": "markdown",
   "metadata": {},
   "source": [
    "[![Callysto.ca License](https://github.com/callysto/curriculum-notebooks/blob/master/callysto-notebook-banner-bottom.jpg?raw=true)](https://github.com/callysto/curriculum-notebooks/blob/master/LICENSE.md)"
   ]
  },
  {
   "cell_type": "code",
   "execution_count": null,
   "metadata": {},
   "outputs": [],
   "source": []
  }
 ],
 "metadata": {
  "kernelspec": {
   "display_name": "Python 3 (ipykernel)",
   "language": "python",
   "name": "python3"
  },
  "language_info": {
   "codemirror_mode": {
    "name": "ipython",
    "version": 3
   },
   "file_extension": ".py",
   "mimetype": "text/x-python",
   "name": "python",
   "nbconvert_exporter": "python",
   "pygments_lexer": "ipython3",
   "version": "3.11.6"
  },
  "rise": {
   "footer": "<IMG src='./images/callysto_logo.png' height='50'>",
   "scroll": true,
   "transition": "none"
  }
 },
 "nbformat": 4,
 "nbformat_minor": 4
}
