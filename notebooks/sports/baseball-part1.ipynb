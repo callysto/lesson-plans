{
 "cells": [
  {
   "cell_type": "markdown",
   "id": "a8693290-1c85-4578-b420-6aa9f873d65c",
   "metadata": {},
   "source": [
    "![Callysto.ca Banner](https://github.com/callysto/curriculum-notebooks/blob/master/callysto-notebook-banner-top.jpg?raw=true)"
   ]
  },
  {
   "cell_type": "markdown",
   "id": "0c4704ce-1639-4260-a551-c39afee677c5",
   "metadata": {},
   "source": [
    "# Baseball Analytics\n",
    "\n",
    "Welcome to another Jupyter notebook on baseball analytics. This notebook is a free resource and is part of the Callysto project, which brings data science skills to grades 5 to 12 classrooms. \n",
    "\n",
    "In this notebook, we’ll start by looking at some baseball statistical data, specifically on batters and where they hit the ball out into the field. \n",
    "\n",
    "In real major league baseball, computing statistic are key to understanding how players are valued by their team. The money Moneyball, with Brad Pitt and Jonah Hill is all about baseball analytics. \n",
    "\n",
    "Visualizations are coded using Python, a computer programming language. Python contains words from English and is used by data scientists. Programming languages are how people communicate with computers. Our graphics are done in Plotly, which makes it easy to create line charts, scatter plots and mores. This is all great for understanding the baseball statistics \n",
    "\n",
    "# Spray Charts\n",
    "\n",
    "Knowing the hitting tendencies of a batter can be incredibly helpful when establishing defensive alignment. In today's data-driven baseball world, shifting the fielders around to increase the chances of making an out is commonplace, and becomes more popular each season. With [MLB set to ban shifting](https://www.si.com/mlb/2022/04/26/shifts-increasing-the-opener) in 2023, it remains to be seen how teams will adapt, but we can explore the data behind the strategy.\n",
    "\n",
    "![](https://ftw.usatoday.com/wp-content/uploads/sites/90/2022/03/Screen-Shot-2022-03-07-at-10.26.27-AM.png?w=1000&h=600&crop=1)\n",
    "\n",
    "Spray charts are a common way of showing where a ball that's been batted into play lands."
   ]
  },
  {
   "cell_type": "markdown",
   "id": "eb1f132e-744c-40c7-baac-0e20588e2773",
   "metadata": {},
   "source": [
    "Due to the assymetric nature of the game (i.e., there's always a force play at first base), left-handed power hitters are shifted on more than right-handed hitters, so to illustrate the point we'll single out a notorious lefty pull hitter in Joey Gallo.\n",
    "\n",
    "Run the following code cells to complete this notebook."
   ]
  },
  {
   "cell_type": "code",
   "execution_count": null,
   "id": "dcfd2747-68ae-42e7-a874-51da916de22f",
   "metadata": {},
   "outputs": [],
   "source": [
    "!pip install pybaseball"
   ]
  },
  {
   "cell_type": "code",
   "execution_count": null,
   "id": "d3aec740-98d5-4e51-bee2-13aa83a83a04",
   "metadata": {},
   "outputs": [],
   "source": [
    "from pybaseball import playerid_lookup, statcast_batter\n",
    "from scipy.interpolate import CubicSpline\n",
    "import plotly.graph_objects as go\n",
    "import numpy as np"
   ]
  },
  {
   "cell_type": "code",
   "execution_count": null,
   "id": "144fb569-d83f-490d-aabc-e30f51319e08",
   "metadata": {},
   "outputs": [],
   "source": [
    "playerID = playerid_lookup('Gallo', 'Joey')\n",
    "playerID"
   ]
  },
  {
   "cell_type": "code",
   "execution_count": null,
   "id": "165bfff6-bc02-4ffa-8e40-ee2034f9c339",
   "metadata": {},
   "outputs": [],
   "source": [
    "## use the polayer id 608336 from the table above, for player Joey Gallo.\n",
    "data = statcast_batter('2021-04-01', '2021-10-03', player_id = 608336)\n",
    "data"
   ]
  },
  {
   "cell_type": "code",
   "execution_count": null,
   "id": "5c38760e-b79a-43bf-9e96-0cdc7c68f81d",
   "metadata": {},
   "outputs": [],
   "source": [
    "# Statcast data for all barreled balls hit into play\n",
    "\n",
    "data['barreled']=(data['launch_angle'] <= 50)&(data['launch_speed'] >= 97)& \\\n",
    "    (data['launch_speed']*1.5 - data['launch_angle'] >= 117) & (data['launch_speed'] + data['launch_angle'] >= 123)\n",
    "\n",
    "data=data[data['barreled']&(data['description']=='hit_into_play')]\n"
   ]
  },
  {
   "cell_type": "code",
   "execution_count": null,
   "id": "b583c80d-3385-4d34-9594-825295309f9b",
   "metadata": {},
   "outputs": [],
   "source": [
    "# Manipulate the data to align coordinate systems \n",
    "# Conversion constants from https://jaysfromthecouch.com/2018/12/31/using-statcast-data-to-estimate-minor-league-home-run-distance/\n",
    "\n",
    "data.loc[:,'location_x']=2.29*(data['hc_x']-126)\n",
    "data.loc[:,'location_y']=2.29*(204-data['hc_y'])"
   ]
  },
  {
   "cell_type": "code",
   "execution_count": null,
   "id": "38a5565e-27b7-494e-bd69-a8cc4dba6a22",
   "metadata": {},
   "outputs": [],
   "source": [
    "## Finally we plot the data points\n",
    "\n",
    "fig = go.Figure()\n",
    "\n",
    "# first we draw in the baseball diamond\n",
    "dmd = 90/1.414  # baseball diamond dimentions (90x90 feet)\n",
    "fig.add_trace(\n",
    "    go.Scatter(\n",
    "        x=[0,-dmd,0,dmd,0],\n",
    "        y=[0, dmd,2*dmd,dmd,0],\n",
    "        mode='lines',\n",
    "        name='Diamond'\n",
    "    ))\n",
    "\n",
    "fig.add_trace(\n",
    "    go.Scatter(\n",
    "        x=data['location_x'],\n",
    "        y=data['location_y'],\n",
    "        mode='markers',\n",
    "        name='Ball position'\n",
    "    ))\n",
    "fig.update_layout(\n",
    "    title = \"Joey Gallo, 2021 - Ball Landing Position\",\n",
    "    height = 600\n",
    ")\n",
    "fig.update_xaxes(\n",
    "    constrain = \"domain\",\n",
    "    title=\"Cross-field position (feet)\"\n",
    ")\n",
    "fig.update_yaxes(\n",
    "    range = [-50,450],\n",
    "    scaleanchor = \"x\",\n",
    "    scaleratio = 1,\n",
    "    title=\"Down-field position (feet)\"\n",
    ")\n",
    "\n",
    "fig.show()"
   ]
  },
  {
   "cell_type": "markdown",
   "id": "2e95c099-12e0-44ca-a61e-b23b60a6e07e",
   "metadata": {},
   "source": [
    "## Observation\n",
    "\n",
    "As expected, the barreled balls landed mostly on the right hand side of the field, which is what we would expect for a left-handed batter. \n",
    "\n",
    "If the defending team knew this in advance, they would want to move their fielders to the right side as that is where they expect the ball to land. "
   ]
  },
  {
   "cell_type": "markdown",
   "id": "498a458b-b0b4-4203-9696-48cd87d6d9f2",
   "metadata": {},
   "source": [
    "## Spray charts\n",
    "\n",
    "Just for fun, let's plot the trajectory of these balls in three dimensions. This gives us a spray chart.\n",
    "\n",
    "The code below looks at each row in the data frame. It takes the endpoint of the ball's trajectory, and interpolates with a parabola connecting it to home plate. This uses a CubicSpline, which is a convenient way of interpolating points into a nice curve. \n",
    "\n",
    "We add a few update_layout commands to make the result look pretty."
   ]
  },
  {
   "cell_type": "code",
   "execution_count": null,
   "id": "6f17d2a5-0753-4a16-b320-134da880b2ce",
   "metadata": {},
   "outputs": [],
   "source": [
    "fig = go.Figure()\n",
    "\n",
    "dmd = 90/1.414  # baseball diamond dimentions (90x90 feet)\n",
    "\n",
    "fig.add_trace(\n",
    "    go.Scatter3d(\n",
    "        x=[0,-dmd,0,dmd,0],\n",
    "        y=[0, dmd,2*dmd,dmd,0],\n",
    "        z=[0,0,0,0,0],\n",
    "        mode='lines',\n",
    "        name='Diamond'\n",
    "    )\n",
    ")\n",
    "\n",
    "\n",
    "for index, row in data.iterrows():\n",
    "    if not (np.isnan(row['location_x'])):\n",
    "        xmax = row['location_x']\n",
    "        ymax = row['location_y']\n",
    "        rmax = np.sqrt(xmax**2 + ymax**2)\n",
    "        spl = CubicSpline([0,rmax/2,rmax], [0,rmax/8,0])\n",
    "        x = np.linspace(0,xmax,20)\n",
    "        y = np.linspace(0,ymax,20)\n",
    "        r = np.linspace(0,rmax,20)\n",
    "        z = spl(r)\n",
    "        fig.add_trace(\n",
    "            go.Scatter3d(\n",
    "                x=x,\n",
    "                y=y,\n",
    "                z=2*z,\n",
    "                mode='lines',\n",
    "                name='Ball position'\n",
    "            )\n",
    "        )\n",
    "fig.update_layout(\n",
    "    title = \"Joey Gallo, 2021 - Spray chart\",\n",
    "    showlegend=False,\n",
    "    height = 1000\n",
    ")\n",
    "fig.update_layout(\n",
    "    scene=dict(\n",
    "        xaxis=dict(showticklabels=False,title=\"Cross field\"),\n",
    "        yaxis=dict(showticklabels=False,title=\"Down field\"),\n",
    "        zaxis=dict(showticklabels=False,title=\"Vertical\"),\n",
    "    )\n",
    ")\n",
    "\n",
    "camera = dict(\n",
    "    eye=dict(x=0, y=-1.5, z=.75)\n",
    ")\n",
    "fig.update_layout(scene_camera=camera)\n",
    "\n",
    "fig.update_layout(\n",
    "        scene = dict(\n",
    "            aspectmode='manual',\n",
    "            aspectratio=dict(x=1, y=1, z=.25)\n",
    "        )\n",
    "    )\n",
    " \n",
    "fig.show() "
   ]
  },
  {
   "cell_type": "markdown",
   "id": "35618ef9-5d58-4e54-80f3-50696403e9bb",
   "metadata": {},
   "source": [
    "## Observations\n",
    "\n",
    "The three dimensional chart looks very appealing. You can also move it around with your mouse.  Does this 3D chart contain more information than the one before? Does it it help you see, or understand more information? Which one do you feel is more useful, the 2D plot of ball positions, or the 3D plot of the trajectories?"
   ]
  },
  {
   "cell_type": "markdown",
   "id": "d268f1fe-fe0b-4a70-87e4-4d0882e691a5",
   "metadata": {},
   "source": [
    "## Going further\n",
    "\n",
    "Can you repeat this analysis for a different player? In a different season? Who are your favourite players and how do they perform?"
   ]
  },
  {
   "cell_type": "markdown",
   "id": "40308bc5-6b82-47f8-a82a-dc455889c0ac",
   "metadata": {},
   "source": [
    "[![Callysto.ca License](https://github.com/callysto/curriculum-notebooks/blob/master/callysto-notebook-banner-bottom.jpg?raw=true)](https://github.com/callysto/curriculum-notebooks/blob/master/LICENSE.md)"
   ]
  }
 ],
 "metadata": {
  "kernelspec": {
   "display_name": "Python 3 (ipykernel)",
   "language": "python",
   "name": "python3"
  },
  "language_info": {
   "codemirror_mode": {
    "name": "ipython",
    "version": 3
   },
   "file_extension": ".py",
   "mimetype": "text/x-python",
   "name": "python",
   "nbconvert_exporter": "python",
   "pygments_lexer": "ipython3",
   "version": "3.11.6"
  }
 },
 "nbformat": 4,
 "nbformat_minor": 5
}
