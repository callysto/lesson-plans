{
 "cells": [
  {
   "cell_type": "markdown",
   "id": "948b3336-6f2e-437f-9556-cd7643336f65",
   "metadata": {},
   "source": [
    "![Callysto.ca Banner](https://github.com/callysto/curriculum-notebooks/blob/master/callysto-notebook-banner-top.jpg?raw=true)\n",
    "\n",
    "<a href=\"https://hub.callysto.ca/jupyter/hub/user-redirect/git-pull?repo=https%3A%2F%2Fgithub.com%2Fcallysto%2Flesson-plans&branch=master&subPath=notebooks/3Dprinting/3Dprinting-canoe.ipynb&depth=1\"><img src=\"https://raw.githubusercontent.com/callysto/curriculum-notebooks/master/open-in-callysto-button.svg?sanitize=true\" width=\"123\" height=\"24\" alt=\"Open in Callysto\"/></a>"
   ]
  },
  {
   "cell_type": "markdown",
   "id": "649b5314-298f-4d2c-aa98-7321cfa2aa40",
   "metadata": {},
   "source": [
    "# 3D Printing of Canoes\n",
    "\n",
    "Credits:\n",
    "\n",
    "- the canoe models orginate from a mathematical modeling project of Professor Cedric Chauve at Simon Fraser University\n",
    "- the modelling code is available at this github repo: https://github.com/cchauve/CanoesProject_v2/tree/main\n",
    "- the canoe designs are from the First Nations of the Pacific Northwest\n",
    "- the 3D printing code is based on the Callysto notebook https://github.com/callysto/lesson-plans/tree/master/notebooks/3Dprinting"
   ]
  },
  {
   "cell_type": "markdown",
   "id": "11c2d3c5-8cc5-42a2-bceb-7a9033d7f134",
   "metadata": {},
   "source": [
    "## Objective\n",
    "In this notebook, we create an STL file of an Indigenous-style canoe suitable for printing on a 3D printer. \n",
    "\n",
    "The STL data is based on mathematical equations that representthe complex shape of canoes designed by First Nations people. The notebook includes an interactive tool to modify the dimension of the canoe before printing. "
   ]
  },
  {
   "cell_type": "markdown",
   "id": "ba4a5659-2ed5-4f5b-90e9-e7ba24587694",
   "metadata": {},
   "source": [
    "## Different Types of Canoes\n",
    "\n",
    "Ranging in length from three to twenty metres, canoes were essential for travel, transport, hunting, and trade. Different coastal communities developed distinctive styles to suit their particular needs. The following figures refer to canoes from the First Nations people of the Pacific Northwest Coast who are renowned for their elegantly engineered canoes.\n",
    "\n",
    "The first figure shows the design of a Haida canoe, while the second figure shows the design specifications for the Salish canoe"
   ]
  },
  {
   "cell_type": "markdown",
   "id": "3ddeeadd-662c-4194-8e25-918861dd2f38",
   "metadata": {},
   "source": [
    "\n",
    "<img src=\"images/haida00001a.gif\" width=\"800\">\n",
    "<center>Canoe designs of the First Nations of the Pacific Northwest--Haida Canoe<center>\n",
    "<p>\n",
    "<font size=\"1\"> \n",
    "image from: https://www.donsmaps.com/images30/haida00001a.gif\n",
    "</font>\n",
    "<p>\n",
    "\n",
    "\n",
    "<img src=\"images/salish00001a.gif\" width=\"800\">\n",
    "<center>Canoe designs of the First Nations of the Pacific Northwest--Salish Canoe<center>\n",
    "<p>\n",
    "<font size=\"1\"> \n",
    "image from: https://www.donsmaps.com/images30/salish00001a.gif\n",
    "</font>\n",
    "<p>\n",
    "\n"
   ]
  },
  {
   "cell_type": "markdown",
   "id": "b6d8d524-e3c2-4465-aa90-0a539cc3277a",
   "metadata": {},
   "source": [
    "## Building the 3D Canoe model\n",
    "\n",
    "Run the following cell to build the canoe model and see it on the screen. Choose the canoe type, set the dimensions (or leave as the defaults), and click the run button to see your canoe. Adjust as necessary."
   ]
  },
  {
   "cell_type": "code",
   "execution_count": null,
   "id": "5194a33c",
   "metadata": {
    "tags": []
   },
   "outputs": [],
   "source": [
    "import scripts.BezierSurf_Interface as bsi\n",
    "bsi.Canoe() #NOOTKAN-STYLE Canoe"
   ]
  },
  {
   "cell_type": "markdown",
   "id": "a4a8d29d-f380-4f45-8962-32c4e15830e9",
   "metadata": {},
   "source": [
    "## Create the data arrays\n",
    "\n",
    "The following code grabs the data from the canoe model and produces arrays X,Y,Z that are used to build the 3D model in the Standard Triangle Language (STL) file. "
   ]
  },
  {
   "cell_type": "code",
   "execution_count": null,
   "id": "3d9cbc4b-aedc-48fa-b66d-46b84badd9c2",
   "metadata": {},
   "outputs": [],
   "source": [
    "import numpy as np\n",
    "\n",
    "\n",
    "Na,Nb = bsi.XX.shape\n",
    "\n",
    "X= np.concatenate((bsi.XX,np.flip(bsi.XX[:,0:Nb-1],axis=1)),axis=1)\n",
    "Y= np.concatenate((bsi.YY,np.flip(bsi.YY_mirror[:,0:Nb-1],axis=1)),axis=1)\n",
    "Z= np.concatenate((bsi.ZZ,np.flip(bsi.ZZ[:,0:Nb-1],axis=1)),axis=1)\n"
   ]
  },
  {
   "cell_type": "markdown",
   "id": "1bd1e45d-c9da-42f9-8cc4-938325b2b4e7",
   "metadata": {},
   "source": [
    " ## Create the STL file\n",
    " \n",
    " We use the X,Y,Z arrays to produce a list of files triangles and save as an STL file called canoe.stl\n",
    "\n",
    " You may adjust the thickness of the canoe wall by setting the parameter h below. The default is h=0.1 which gives a rather thin-walled canoe."
   ]
  },
  {
   "cell_type": "code",
   "execution_count": null,
   "id": "001b1cb3-462c-4cb9-a5d8-0b7a3949998c",
   "metadata": {},
   "outputs": [],
   "source": [
    "!pip install numpy-stl"
   ]
  },
  {
   "cell_type": "code",
   "execution_count": null,
   "id": "e29cda85-b581-4575-927f-f4750364884c",
   "metadata": {},
   "outputs": [],
   "source": [
    "from stl import mesh\n",
    "\n",
    "h = 0.1  # thickness for the solid surface\n",
    "Z0 = Z - h # The bottom surface. Could also use Z0 = np.min(Z) for a flat base. \n",
    "\n",
    "Ny,Nx = X.shape\n",
    "Nfaces = 4*(Nx-1)*(Ny-1) + 4*(Nx-1) + 4*(Ny-1)\n",
    "surf = mesh.Mesh(np.zeros(Nfaces, dtype=mesh.Mesh.dtype))\n",
    "k = 0\n",
    "\n",
    "# top surface grid, two triangles per rectangular cell\n",
    "for i in range(Ny-1):\n",
    "    for j in range(Nx-1):\n",
    "        surf.vectors[k][0] = [ X[i,j],Y[i,j],Z[i,j] ]\n",
    "        surf.vectors[k][1] = [ X[i+1,j+1],Y[i+1,j+1],Z[i+1,j+1] ]\n",
    "        surf.vectors[k][2] = [ X[i+1,j],Y[i+1,j],Z[i+1,j] ]\n",
    "        k +=1\n",
    "        surf.vectors[k][0] = [ X[i,j],Y[i,j],Z[i,j] ]\n",
    "        surf.vectors[k][1] = [ X[i,j+1],Y[i,j+1],Z[i,j+1] ]\n",
    "        surf.vectors[k][2] = [ X[i+1,j+1],Y[i+1,j+1],Z[i+1,j+1] ]\n",
    "        k += 1\n",
    "# bottom surface grid, two triangles per rectangular cell. Note clockwise order!\n",
    "for i in range(Ny-1):\n",
    "    for j in range(Nx-1):\n",
    "        surf.vectors[k][0] = [ X[i,j],Y[i,j],Z0[i,j] ]\n",
    "        surf.vectors[k][2] = [ X[i+1,j+1],Y[i+1,j+1],Z0[i+1,j+1] ]\n",
    "        surf.vectors[k][1] = [ X[i+1,j],Y[i+1,j],Z0[i+1,j] ]\n",
    "        k +=1\n",
    "        surf.vectors[k][0] = [ X[i,j],Y[i,j],Z0[i,j] ]\n",
    "        surf.vectors[k][2] = [ X[i,j+1],Y[i,j+1],Z0[i,j+1] ]\n",
    "        surf.vectors[k][1] = [ X[i+1,j+1],Y[i+1,j+1],Z0[i+1,j+1] ]\n",
    "        k += 1\n",
    "\n",
    "# now we create the side walls. Each wall connects the bottom surface Z0 to the top Z\n",
    "# each wall has a line of rectangular cells which become two triangles each\n",
    "\n",
    "# lower x side wall, two triangles for each of Nx-1 cells on edge\n",
    "for i in [0]:\n",
    "    for j in range(Nx-1):\n",
    "        surf.vectors[k][0] = [ X[i,j],Y[i,j],Z0[i,j] ]\n",
    "        surf.vectors[k][1] = [ X[i,j+1],Y[i,j+1],Z[i,j+1] ]\n",
    "        surf.vectors[k][2] = [ X[i,j],Y[i,j],Z[i,j] ]\n",
    "        k +=1\n",
    "        surf.vectors[k][0] = [ X[i,j],Y[i,j],Z0[i,j] ]\n",
    "        surf.vectors[k][1] = [ X[i,j+1],Y[i,j+1],Z0[i,j+1] ]\n",
    "        surf.vectors[k][2] = [ X[i,j+1],Y[i,j+1],Z[i,j+1] ]\n",
    "        k += 1\n",
    "# upper x side wall, note the clockwise order!\n",
    "for i in [Ny-1]:\n",
    "    for j in range(Nx-1):\n",
    "        surf.vectors[k][0] = [ X[i,j],Y[i,j],Z0[i,j] ]\n",
    "        surf.vectors[k][2] = [ X[i,j+1],Y[i,j+1],Z[i,j+1] ]\n",
    "        surf.vectors[k][1] = [ X[i,j],Y[i,j],Z[i,j] ]\n",
    "        k +=1\n",
    "        surf.vectors[k][0] = [ X[i,j],Y[i,j],Z0[i,j] ]\n",
    "        surf.vectors[k][2] = [ X[i,j+1],Y[i,j+1],Z0[i,j+1] ]\n",
    "        surf.vectors[k][1] = [ X[i,j+1],Y[i,j+1],Z[i,j+1] ]\n",
    "        k += 1\n",
    "# left y side wall, two triangles for each of Ny-1 cells on edge\n",
    "for i in range(Ny-1):\n",
    "    for j in [0]:\n",
    "        surf.vectors[k][0] = [ X[i,j],Y[i,j],Z0[i,j] ]\n",
    "        surf.vectors[k][1] = [ X[i+1,j],Y[i+1,j],Z[i+1,j] ]\n",
    "        surf.vectors[k][2] = [ X[i,j],Y[i,j],Z[i,j] ]\n",
    "        k +=1\n",
    "        surf.vectors[k][0] = [ X[i,j],Y[i,j],Z0[i,j] ]\n",
    "        surf.vectors[k][1] = [ X[i+1,j],Y[i+1,j],Z0[i+1,j] ]\n",
    "        surf.vectors[k][2] = [ X[i+1,j],Y[i+1,j],Z[i+1,j] ]\n",
    "        k += 1\n",
    "# right y side wall, note the clockwise order!\n",
    "for i in range(Ny-1):\n",
    "    for j in [Nx-1]:\n",
    "        surf.vectors[k][0] = [ X[i,j],Y[i,j],Z0[i,j] ]\n",
    "        surf.vectors[k][2] = [ X[i+1,j],Y[i+1,j],Z[i+1,j] ]\n",
    "        surf.vectors[k][1] = [ X[i,j],Y[i,j],Z[i,j] ]\n",
    "        k +=1\n",
    "        surf.vectors[k][0] = [ X[i,j],Y[i,j],Z0[i,j] ]\n",
    "        surf.vectors[k][2] = [ X[i+1,j],Y[i+1,j],Z0[i+1,j] ]\n",
    "        surf.vectors[k][1] = [ X[i+1,j],Y[i+1,j],Z[i+1,j] ]\n",
    "        k += 1\n",
    "\n",
    "\n",
    "# Write the mesh to file \"canoe.stl\"\n",
    "surf.save('canoe.stl')"
   ]
  },
  {
   "cell_type": "markdown",
   "id": "af85ef2f-944c-4e8a-939e-376866dc52cc",
   "metadata": {},
   "source": [
    "## Ready for printing!\n",
    "\n",
    "You now have a file in your Jupyter hub called **canoe.stl** that you can print. Download this file to your local computer, then open it with your favourite 3D printing software. For instance, we have used PrusaSlicer, with is based on Slic3r. Use the Slicer software to adjust the size, add supports if necessary and adjust any other settings for the filament type and quality of print you require. Then create a g-code file and transfer this to your 3D printer. \n",
    "\n",
    "And print!  \n",
    "\n",
    "Here is a sample result, using PLA filament in draft mode on a Prusa printer.\n",
    "\n",
    "<div align=\"center\">\n",
    "<img src=\"images/canoe.jpeg\" alt=\"The final printed canoe\" width=\"600\"/><br>\n",
    "The final printed canoe.\n",
    "</div>"
   ]
  },
  {
   "cell_type": "markdown",
   "id": "5e6fcca5-e831-4840-b475-ee02a119c906",
   "metadata": {},
   "source": [
    "## Going further\n",
    "\n",
    "We can try several ideas to explore these canoes:\n",
    "\n",
    "- Drag your STL file to view it at this website: https://www.viewstl.com/ \n",
    "- Try printing both types of canoes here, both Haida and Salish\n",
    "- Try changing the dimensions of the canoe, to get some different variations\n",
    "- Try changing the thickness of the wall of the canoe, by varying the parameter **h** mentioned above\n",
    "- Can you design your own canoe?\n"
   ]
  },
  {
   "cell_type": "markdown",
   "id": "abaabc61-d3c4-492d-9c51-b29355fe4ec1",
   "metadata": {},
   "source": [
    "[![Callysto.ca License](https://github.com/callysto/curriculum-notebooks/blob/master/callysto-notebook-banner-bottom.jpg?raw=true)](https://github.com/callysto/curriculum-notebooks/blob/master/LICENSE.md)"
   ]
  }
 ],
 "metadata": {
  "kernelspec": {
   "display_name": "Python 3 (ipykernel)",
   "language": "python",
   "name": "python3"
  },
  "language_info": {
   "codemirror_mode": {
    "name": "ipython",
    "version": 3
   },
   "file_extension": ".py",
   "mimetype": "text/x-python",
   "name": "python",
   "nbconvert_exporter": "python",
   "pygments_lexer": "ipython3",
   "version": "3.11.6"
  }
 },
 "nbformat": 4,
 "nbformat_minor": 5
}
