{
 "cells": [
  {
   "cell_type": "markdown",
   "id": "463bdd2d-e645-4869-8af2-91e16e2801c3",
   "metadata": {},
   "source": [
    "![Callysto.ca Banner](https://github.com/callysto/curriculum-notebooks/blob/master/callysto-notebook-banner-top.jpg?raw=true)\n",
    "\n",
    "<a href=\"https://hub.callysto.ca/jupyter/hub/user-redirect/git-pull?repo=https%3A%2F%2Fgithub.com%2Fcallysto%2Flesson-plans&branch=master&subPath=notebooks/3Dprinting/3Dprinting-polar.ipynb&depth=1\"><img src=\"https://raw.githubusercontent.com/callysto/curriculum-notebooks/master/open-in-callysto-button.svg?sanitize=true\" width=\"123\" height=\"24\" alt=\"Open in Callysto\"/></a>"
   ]
  },
  {
   "cell_type": "markdown",
   "id": "12bf1604-757f-46c6-a1f4-999074ddc753",
   "metadata": {},
   "source": [
    "## 3D Printing in Polar Coordinates\n",
    "\n",
    "This short notebook demonstrates how to plot a surface in 3D and convert it into an STL file suitable for printing on any standard 3D printer. \n",
    "\n",
    "This is a modification of an earlier notebook, 3Dprinting.ipynb. Here, we use polar coordinates instead of Cartesian coordinates. \n",
    "\n",
    "There are two sections to the notebook\n",
    "- create an STL file for a sphere, defined by a mathematical formula in polar coordinates\n",
    "- view the files, and print on a 3D printer\n",
    "\n",
    "We start by installing the numpy-stl library, then importing it and a few other necessary libraries. "
   ]
  },
  {
   "cell_type": "code",
   "execution_count": null,
   "id": "6855a381-030e-4ee5-addb-ab694dda6f89",
   "metadata": {},
   "outputs": [],
   "source": [
    "!pip install numpy-stl"
   ]
  },
  {
   "cell_type": "code",
   "execution_count": null,
   "id": "b1b82916-649e-4d81-b015-13b38214af05",
   "metadata": {},
   "outputs": [],
   "source": [
    "import numpy as np\n",
    "import matplotlib.pyplot as plt\n",
    "from stl import mesh"
   ]
  },
  {
   "cell_type": "markdown",
   "id": "b0b07b6e-391b-4e53-9271-beb3832f4761",
   "metadata": {},
   "source": [
    "## The  example. A sphere\n",
    "\n",
    "Here we demonstrate how to print a surface given from a mathematical function, described using polar coordinates.\n",
    "\n",
    "Let's make a visual plot of a sphere, given by the formula  $$x^2 + y^2 + z^2 = 1. $$\n",
    "\n",
    "We can plot the top part of the sphere by solving for $z$, with $$ z = \\sqrt{1 - x^2 - y^2}.$$\n",
    "\n",
    "For polar form, take rectangular grid in the r-$\\theta$ polar coordinates in the  plane, create a meshgrid, and then define indexed arranges $X,Y,Z$ using the formulas for polar coordinates. These formulas for $x,y,z$ are\n",
    "\n",
    "- $ x = r\\cos(\\theta)$\n",
    "- $ y = r\\sin(\\theta)$\n",
    "- $ z = \\sqrt{1-r^2} $ \n",
    "\n",
    "Here is the code and the plot:"
   ]
  },
  {
   "cell_type": "code",
   "execution_count": null,
   "id": "8f74e329-886a-48a3-9fad-ce5c0282fb0d",
   "metadata": {},
   "outputs": [],
   "source": [
    "# Code for a 3D surface plot\n",
    "\n",
    "# set the number of points in r and theta directions\n",
    "Nr = 10\n",
    "Nt = 10\n",
    "\n",
    "r = np.linspace(0,1,Nr)\n",
    "t = np.linspace(0,1,Nt)\n",
    "\n",
    "# create a mesh grid in x and y, then define z values.\n",
    "R, T = np.meshgrid(r, t)\n",
    "X = R*np.cos(2*np.pi*T)\n",
    "Y = R*np.sin(2*np.pi*T)\n",
    "Z = np.sqrt(1-R*R)\n",
    "\n",
    "# now we plot\n",
    "fig = plt.figure(figsize = (10,10))\n",
    "ax = plt.axes(projection='3d')\n",
    "psurf = ax.plot_surface(X, Y, Z)\n",
    "ax.set_xlabel('x', labelpad=20)\n",
    "ax.set_ylabel('y', labelpad=20)\n",
    "ax.set_zlabel('z', labelpad=20)\n",
    "\n",
    "plt.show()"
   ]
  },
  {
   "cell_type": "markdown",
   "id": "05f97118-e86c-4ec1-9b13-71f5ccca1c12",
   "metadata": {},
   "source": [
    "## Triangulating the surface.\n",
    "\n",
    "To triangulate the surface, we break up each cell in the grid as a union of two triangles, oriented counterclockwise. \n",
    "\n",
    "<div align=\"center\">\n",
    "<img src=\"images/Cell_triangles.png\" alt=\"A grid cell with two triangles\" width=\"400\"/><br>\n",
    "A grid cell with two oriented triangles.\n",
    "</div>\n",
    "\n",
    "The coordinates of the three vertices in each triangle are fed into the **vectors** dataset of the 3D print mesh. Noting the coordinates for x,y in the diagram above, the three vertices of the red triangle are given as\n",
    "\n",
    "```\n",
    "bottom left: [ X[i,j],   Y[i,j],     Z[i,j] ]\n",
    "  top right: [ X[i+1,j+1],Y[i+1,j+1],Z[i+1,j+1] ]\n",
    "   top left: [ X[i+1,j],  Y[i+1,j],  Z[i+1,j] ],\n",
    "```\n",
    "while the coordinates for the blue triangle are given as\n",
    "```\n",
    " bottom left: [ X[i,j],    Y[i,j],    Z[i,j] ]\n",
    "bottom right: [ X[i,j+1],  Y[i,j+1],  Z[i,j+1] ]\n",
    "   top right: [ X[i+1,j+1],Y[i+1,j+1],Z[i+1,j+1] ].\n",
    "```\n",
    "\n",
    "The 3D printer expects to see a bottom surface as well, so we get set $Z0 = -Z $ to get a bottom half of the sphere. \n",
    "This second surface also must be triangulated and vectors added to the mesh. Since it is on the bottom, the oriented triangles go in the opposite directions \n",
    "\n",
    "Unlike the earlier notebook, there are no edges needed to connect these two surfaces. So we can skip that part of the code. \n",
    "\n",
    "Finally, we write the code to create the surface mesh that is used to create the STL file for printing. Note that the arrays $X,Y,Z$ define points on our vertices and we don't need to explicitly label the faces. This makes the code easier to understand, as we just loop over grid points to create the final data structure. \n",
    "\n",
    "The two surfaces have $Nr*Nt$ points each, giving $(Nr-1)*(Nt-1)$ rectangles each, and so we have $4(Nx-1)*(Ny-1)$ triangles for their triangulation. The total number of triangles (faces) is\n",
    "$$\\mbox{Nfaces } = 4(Nx-1)(Ny-1).$$\n",
    "\n",
    "Here is the code:"
   ]
  },
  {
   "cell_type": "code",
   "execution_count": null,
   "id": "1daa0774-0464-4f79-86d5-32df5f871244",
   "metadata": {},
   "outputs": [],
   "source": [
    "Z0 = -Z  # The bottom surface, the negative ot the top\n",
    "\n",
    "Nfaces = 4*(Nr-1)*(Nt-1)\n",
    "surf = mesh.Mesh(np.zeros(Nfaces, dtype=mesh.Mesh.dtype))\n",
    "k = 0\n",
    "\n",
    "# top surface grid, two triangles per rectangular cell\n",
    "for i in range(Nt-1):\n",
    "    for j in range(Nr-1):\n",
    "        surf.vectors[k][0] = [ X[i,j],Y[i,j],Z[i,j] ]\n",
    "        surf.vectors[k][1] = [ X[i+1,j+1],Y[i+1,j+1],Z[i+1,j+1] ]\n",
    "        surf.vectors[k][2] = [ X[i+1,j],Y[i+1,j],Z[i+1,j] ]\n",
    "        k +=1\n",
    "        surf.vectors[k][0] = [ X[i,j],Y[i,j],Z[i,j] ]\n",
    "        surf.vectors[k][1] = [ X[i,j+1],Y[i,j+1],Z[i,j+1] ]\n",
    "        surf.vectors[k][2] = [ X[i+1,j+1],Y[i+1,j+1],Z[i+1,j+1] ]\n",
    "        k += 1\n",
    "# bottom surface grid, two triangles per rectangular cell. Note clockwise order!\n",
    "for i in range(Nt-1):\n",
    "    for j in range(Nr-1):\n",
    "        surf.vectors[k][0] = [ X[i,j],Y[i,j],Z0[i,j] ]\n",
    "        surf.vectors[k][2] = [ X[i+1,j+1],Y[i+1,j+1],Z0[i+1,j+1] ]\n",
    "        surf.vectors[k][1] = [ X[i+1,j],Y[i+1,j],Z0[i+1,j] ]\n",
    "        k +=1\n",
    "        surf.vectors[k][0] = [ X[i,j],Y[i,j],Z0[i,j] ]\n",
    "        surf.vectors[k][2] = [ X[i,j+1],Y[i,j+1],Z0[i,j+1] ]\n",
    "        surf.vectors[k][1] = [ X[i+1,j+1],Y[i+1,j+1],Z0[i+1,j+1] ]\n",
    "        k += 1\n",
    "\n",
    "\n",
    "\n",
    "# Write the mesh to file \"sphere.stl\"\n",
    "surf.save('sphere.stl')"
   ]
  },
  {
   "cell_type": "markdown",
   "id": "f6d5c763-4082-4405-8917-6d747e1eda1c",
   "metadata": {},
   "source": [
    "## Viewing your results\n",
    "\n",
    "You now have a file in your Jupyter hub called sphere.stl that you can view and print. Download this file to your local computer, then drag and drop into an online STL viewer such as https://www.viewstl.com/\n"
   ]
  },
  {
   "cell_type": "markdown",
   "id": "3b875199-e509-4c65-a921-cc16e9ba790c",
   "metadata": {},
   "source": [
    "## 3D Printing the file - final steps\n",
    "\n",
    "You now have a file in your Jupyter hub called sphere.stl that you can print. Download this file to your local computer, then open it with your favourite 3D printing software. For instance, I am using PrusaSlicer, with is based on Slic3r. Use the Slicer software to adjust the size, add supports if necessary and adjust any other settings for the filament type and quality of print you require. Then create a g-code file and transfer this to your 3D printer. \n",
    "\n",
    "And print!  \n",
    "\n",
    "Here is a sample result, using PLA filament in draft mode on a Prusa printer. The support columns at the base are still attached. \n",
    "\n",
    "<div align=\"center\">\n",
    "<img src=\"images/Sphere_with_supports.jpg\" alt=\"The final printed sphere\" width=\"400\"/><br>\n",
    "The final printed sphere\n",
    "</div>"
   ]
  },
  {
   "cell_type": "markdown",
   "id": "c3badadc-0bf9-48e0-8e4b-c4f7b7998b4b",
   "metadata": {},
   "source": [
    "## Going further\n",
    "\n",
    "We can try several ideas to explore this 3D printing:\n",
    "\n",
    "- try printing the surface with fewer supports on the base. It is symmetric so it may print well without supports.\n",
    "- increase the number of grid points to obtain a smoother printed surface\n",
    "- use a different function to get a different surface\n",
    "  - eg, a paraboloid is given by the equation $z = x^2 + y^2 = r^2$\n",
    "  - a cone is given by $z = r$, inverted cone by $z = 1-r$\n",
    "  - a wavey function is given by $z = \\sin(10*(r^2))$\n",
    "\n",
    "Experiment and print."
   ]
  },
  {
   "cell_type": "markdown",
   "id": "72e63025-5c7b-43a0-803c-8490b6b8fce1",
   "metadata": {},
   "source": [
    "[![Callysto.ca License](https://github.com/callysto/curriculum-notebooks/blob/master/callysto-notebook-banner-bottom.jpg?raw=true)](https://github.com/callysto/curriculum-notebooks/blob/master/LICENSE.md)"
   ]
  }
 ],
 "metadata": {
  "kernelspec": {
   "display_name": "Python 3 (ipykernel)",
   "language": "python",
   "name": "python3"
  },
  "language_info": {
   "codemirror_mode": {
    "name": "ipython",
    "version": 3
   },
   "file_extension": ".py",
   "mimetype": "text/x-python",
   "name": "python",
   "nbconvert_exporter": "python",
   "pygments_lexer": "ipython3",
   "version": "3.11.6"
  }
 },
 "nbformat": 4,
 "nbformat_minor": 5
}
