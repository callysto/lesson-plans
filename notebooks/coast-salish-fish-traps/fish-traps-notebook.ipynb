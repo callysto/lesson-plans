{
 "cells": [
  {
   "cell_type": "markdown",
   "metadata": {},
   "source": [
    "![Callysto.ca Banner](https://github.com/callysto/curriculum-notebooks/blob/master/callysto-notebook-banner-top.jpg?raw=true)"
   ]
  },
  {
   "cell_type": "markdown",
   "metadata": {},
   "source": [
    "# Modelling First Nations Fish Traps\n",
    "\n",
    "### Northern Coast Salish and the sea\n",
    "\n",
    "We refer to 'fish traps' as intertidal (meaning seashore areas covered when the tide is high, and uncovered when the tide is low) rock walls that trap fish. \n",
    "\n",
    "Researchers [1] have studied a the different kinds of intertidal modifications that allowed Coast Salish Peoples to capture fish more easily. In this notebook, we will explore the different elements involved in fish traps, and focus our attention on one specific type of trap: the crescent element. \n",
    "\n",
    "### A video on wuχoθɛn (Fish Traps)\n",
    "\n",
    "This video was produced by the Tla’amin Nation, a First Nations self-governing nation whose traditional territories reside on the upper Sunshine Coast in British Columbia.\n",
    "\n",
    "This video contains interviews with elders on the process behind Tla'amin Nation fish traps found in ʔagayqsɛn. All rights on this video reserved by the Tla'amin Nation. \n",
    "\n",
    "\n",
    "[![Fish traps video](https://img.youtube.com/vi/JWw9ZduMgb8/0.jpg)](https://www.youtube.com/watch?v=JWw9ZduMgb8)\n",
    "\n",
    "\n",
    "\n",
    "### The crescent element\n",
    "\n",
    "The crescent element consists of either a semi- or completely circular stonewall. Crescent elements are located in the high to low intertidal zone. \n",
    "\n",
    "![](./animations-images/crescent.png)\n",
    "\n",
    "Image in Fig 2d, Combes <em>et al.</em> [1]\n",
    "\n",
    "[1] Combes, G., & Welch, J. R. (2012). A Bird's Eye View of Northern Coast Salish Intertidal Resource Management Features, Southern British Columbia, Canada. The Journal of Island and Coastal Archaeology.\n",
    "___\n",
    "\n",
    "\n",
    "## Modelling Fish Traps using Mathematics\n",
    "\n",
    "We will use the language of mathematics to model how Coast Salish Peoples captured fish using the crescent element. \n",
    "\n",
    "We will focus on the following key elements:\n",
    "\n",
    "1. Geographical location: how close is the community to intertidal areas?\n",
    "\n",
    "2. Tide patterns for the chosen region\n",
    "\n",
    "3. Slope of shore and height of the trap\n",
    "\n",
    "4. When should harvesting be done to get as many fish as possible?\n",
    "\n",
    "4. How many fish are trapped combining these elements?\n",
    "\n",
    "\n",
    "### 1. Geographical location: how close is the community to intertidal areas?\n",
    "\n",
    "#### What location are we choosing?\n",
    "\n",
    "The ʔagayqsɛn is a region on the west coast of Vancouver Island, British Columbia, Canada. \n",
    "\n",
    "In this notebook we will focus on the ʔagayqsɛn region and in particular, a region where traps have been found. \n",
    "\n",
    "Run the cell below to generate an interactive map of ʔagayqsɛn. "
   ]
  },
  {
   "cell_type": "code",
   "execution_count": null,
   "metadata": {},
   "outputs": [],
   "source": [
    "%run ./scripts/web_scrapping.py \"https://www.waterlevels.gc.ca/eng/data/table/2021/wlev_sec/382\"\n",
    "%run -i ./scripts/scripts.py\n",
    "title = \"Display location for ʔagayqsɛn\"\n",
    "display(Markdown('<h1>{}</h1><br/>'.format(title)))\n",
    "# Coordinates for Comox Harbour https://latitude.to/articles-by-country/ca/canada/42519/comox-valley\n",
    "#latitude =  49.668485\n",
    "#longitude = -124.912761\n",
    "latitude = 49.8645\n",
    "longitude = -124.6458\n",
    "plot_interactive_map(latitude,longitude,'ʔagayqsɛn' )"
   ]
  },
  {
   "cell_type": "markdown",
   "metadata": {},
   "source": [
    "### 2. Tide patterns for this region\n",
    "\n",
    "#### What are the tides like in there?\n",
    "\n",
    "Let's take a look at a simulation of tide levels for a day. Let's get some data for area. \n",
    "\n",
    "<b>Data Source:</b> https://www.waterlevels.gc.ca/eng/station?sid=7880\n",
    "\n",
    "We will use Python code to visualize this data. \n",
    "\n",
    "Run the cell below. You should see a plot. Interact with it to see how high the tides were and when. \n",
    "\n",
    "The horizontal line the lowest point of an imagined fish trap in this area. When the blue line, the tide, is above this then the trap is \"open\" meaning fish can freely swim in and out. Alternatively, when the tide is below that level the fish are trapped and could be harvested"
   ]
  },
  {
   "cell_type": "code",
   "execution_count": null,
   "metadata": {
    "scrolled": false
   },
   "outputs": [],
   "source": [
    "create_tide_plot_grade6().show()"
   ]
  },
  {
   "cell_type": "markdown",
   "metadata": {},
   "source": [
    "On the x-axis you can see how high was the tide during the day. On the x-axis you can see the time of day (24 hour format), use the table below to help you convert it if you are not familiar with 24 hour format:\n",
    "\n",
    "|<b>Time in 24 hour format</b>|<b>Time in 12 hour format</b>||<b>Time in 24 hour format</b>|<b>Time in 12 hour format</b>|\n",
    "|-|-|-|-|-|\n",
    "|0:00|12:00 AM| |12:00|12:00 PM| \n",
    "|1:00|1:00 AM| |13:00 | 1:00 PM |\n",
    "|2:00|2:00 AM| |14:00| 2:00 PM|\n",
    "|3:00|3:00 AM| | 15:00| 3:00 PM |\n",
    "|4:00|4:00 AM| | 16:00| 4:00 PM |\n",
    "|5:00|5:00 AM| | 17:00| 5:00 PM|\n",
    "|6:00|6:00 AM| | 18:00| 6:00 PM|\n",
    "|7:00|7:00 AM| | 19:00| 7:00 PM|\n",
    "|8:00|8:00 AM| | 20:00| 8:00 PM|\n",
    "|9:00|9:00 AM| | 21:00| 9:00 PM|\n",
    "|10:00|10:00 AM| | 22:00| 10:00 PM|\n",
    "|11:00|11:00 AM| | 23:00| 11:00 PM |\n"
   ]
  },
  {
   "cell_type": "markdown",
   "metadata": {},
   "source": [
    "How did the tide behave during the last month?\n",
    "\n",
    "Run the cell below to generate a chart with real tide data for Powell River. \n",
    "\n",
    "Data source: https://www.waterlevels.gc.ca/eng/data/table/2021/wlev_sec/7880"
   ]
  },
  {
   "cell_type": "code",
   "execution_count": null,
   "metadata": {},
   "outputs": [],
   "source": [
    "# Have these in days and hours \n",
    "create_dated_tide_plot(monthly_tide_df)"
   ]
  },
  {
   "cell_type": "markdown",
   "metadata": {},
   "source": [
    "#### Where to locate the trap\n",
    "\n",
    "Fish enter into the trap when the tide level is above the trap, and are then trapped when the tide is below the trap. \n",
    "\n",
    "Let's visualize this effect using the crescent element. \n",
    "\n",
    "Below is an animation created using [Python code](https://github.com/BryceHaley/Callysto-Fish-Traps/blob/master/Notebooks/scripts/particle_box.py). \n",
    "\n",
    "![](./animations-images/ezgif.com-optimize.gif)"
   ]
  },
  {
   "cell_type": "markdown",
   "metadata": {},
   "source": [
    "### Using Python to Simulate Trapping Fish\n",
    "\n",
    "The menu below can help us simulate locating a trap. Play with the parameters and observe the plot results. "
   ]
  },
  {
   "cell_type": "code",
   "execution_count": null,
   "metadata": {},
   "outputs": [],
   "source": [
    "display(tab)\n"
   ]
  },
  {
   "cell_type": "markdown",
   "metadata": {},
   "source": [
    "### Simulate trapping fish\n",
    "\n",
    "Play with the parameters using the menu. \n",
    "\n",
    "How many fish can you trap? \n",
    "\n",
    "Press the `Plot 3D Beach Only` checkmark. How big is the trap? How tall is it? How does it help us with catching fish? \n",
    "\n"
   ]
  },
  {
   "cell_type": "markdown",
   "metadata": {},
   "source": [
    "### Acknowledgements\n",
    "\n",
    "We thank the Tla’amin Nation for producing media content and generously sharing their knowledge on the longstanding tradition of fish traps within ʔagayqsɛn (Ahgykson Island), formerly Harwood Island, in British Columbia, Canada. \n",
    "\n",
    "We thank Anouk de Brouwer, Rachel Dunn, Courtney Van Den Elzen, Janson Lin, and Pierayeh Vahdani, for their contributions to code as part of the Vancouver DataJam 2020. \n",
    "\n",
    "Developer team: Cedric Chauve, Laura Gutierrez Funderburk, Bryce Haley, Veselin Jungic"
   ]
  },
  {
   "cell_type": "markdown",
   "metadata": {},
   "source": [
    "[![Callysto.ca License](https://github.com/callysto/curriculum-notebooks/blob/master/callysto-notebook-banner-bottom.jpg?raw=true)](https://github.com/callysto/curriculum-notebooks/blob/master/LICENSE.md)"
   ]
  }
 ],
 "metadata": {
  "kernelspec": {
   "display_name": "Python 3",
   "language": "python",
   "name": "python3"
  },
  "language_info": {
   "codemirror_mode": {
    "name": "ipython",
    "version": 3
   },
   "file_extension": ".py",
   "mimetype": "text/x-python",
   "name": "python",
   "nbconvert_exporter": "python",
   "pygments_lexer": "ipython3",
   "version": "3.8.8"
  }
 },
 "nbformat": 4,
 "nbformat_minor": 4
}
