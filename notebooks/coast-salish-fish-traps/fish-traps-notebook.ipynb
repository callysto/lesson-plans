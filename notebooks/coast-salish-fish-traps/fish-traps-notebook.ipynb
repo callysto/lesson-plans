{
 "cells": [
  {
   "cell_type": "markdown",
   "metadata": {},
   "source": [
    "![Callysto.ca Banner](https://github.com/callysto/curriculum-notebooks/blob/master/callysto-notebook-banner-top.jpg?raw=true)"
   ]
  },
  {
   "cell_type": "markdown",
   "metadata": {},
   "source": [
    "# Modelling First Nations Fish Traps\n",
    "\n",
    "### Northern Coast Salish and the sea\n",
    "\n",
    "We refer to 'fish traps' as intertidal (meaning seashore areas covered when the tide is high, and uncovered when the tide is low) rock walls that trap fish. \n",
    "\n",
    "Researchers [1] have studied a the different kinds of intertidal modifications that allowed Coast Salish Peoples to capture fish more easily. In this notebook, we will explore the different elements involved in fish traps, and focus our attention on one specific type of trap: the crescent element. \n",
    "\n",
    "### A video on wuχoθɛn (Fish Traps)\n",
    "\n",
    "This video was produced by the Tla’amin Nation, a First Nations self-governing nation whose traditional territories reside on the upper Sunshine Coast in British Columbia.\n",
    "\n",
    "This video contains interviews with elders on the process behind Tla'amin Nation fish traps found in ʔagayqsɛn. All rights on this video reserved by the Tla'amin Nation. \n",
    "\n",
    "\n",
    "[![Fish traps video](https://img.youtube.com/vi/JWw9ZduMgb8/0.jpg)](https://www.youtube.com/watch?v=JWw9ZduMgb8)\n",
    "\n",
    "\n",
    "\n",
    "### The crescent element\n",
    "\n",
    "The crescent element consists of either a semi- or completely circular stonewall. Crescent elements are located in the high to low intertidal zone. \n",
    "\n",
    "![](./animations-images/crescent.png)\n",
    "\n",
    "Image in Fig 2d, Combes <em>et al.</em> [1]\n",
    "\n",
    "[1] Combes, G., & Welch, J. R. (2012). A Bird's Eye View of Northern Coast Salish Intertidal Resource Management Features, Southern British Columbia, Canada. The Journal of Island and Coastal Archaeology.\n",
    "___\n",
    "\n",
    "\n",
    "## Modelling Fish Traps using Mathematics\n",
    "\n",
    "We will use the language of mathematics to model how Coast Salish Peoples captured fish using the crescent element. \n",
    "\n",
    "We will focus on the following key elements:\n",
    "\n",
    "1. Geographical location: how close is the community to intertidal areas?\n",
    "\n",
    "2. Tide patterns for the chosen region\n",
    "\n",
    "3. Slope of shore and height of the trap\n",
    "\n",
    "4. When should harvesting be done to get as many fish as possible?\n",
    "\n",
    "4. How many fish are trapped combining these elements?\n",
    "\n",
    "\n",
    "### 1. Geographical location: how close is the community to intertidal areas?\n",
    "\n",
    "#### What location are we choosing?\n",
    "\n",
    "The ʔagayqsɛn is a region on the west coast of Vancouver Island, British Columbia, Canada. \n",
    "\n",
    "In this notebook we will focus on the ʔagayqsɛn region and in particular, a region where traps have been found. \n",
    "\n",
    "Run the cell below to generate an interactive map of ʔagayqsɛn. "
   ]
  },
  {
   "cell_type": "code",
   "execution_count": 7,
   "metadata": {},
   "outputs": [
    {
     "data": {
      "text/markdown": [
       "<h1>Display location for ʔagayqsɛn</h1><br/>"
      ],
      "text/plain": [
       "<IPython.core.display.Markdown object>"
      ]
     },
     "metadata": {},
     "output_type": "display_data"
    },
    {
     "data": {
      "text/html": [
       "<div style=\"width:100%;\"><div style=\"position:relative;width:100%;height:0;padding-bottom:60%;\"><span style=\"color:#565656\">Make this Notebook Trusted to load map: File -> Trust Notebook</span><iframe src=\"about:blank\" style=\"position:absolute;width:100%;height:100%;left:0;top:0;border:none !important;\" data-html=%3C%21DOCTYPE%20html%3E%0A%3Chead%3E%20%20%20%20%0A%20%20%20%20%3Cmeta%20http-equiv%3D%22content-type%22%20content%3D%22text/html%3B%20charset%3DUTF-8%22%20/%3E%0A%20%20%20%20%0A%20%20%20%20%20%20%20%20%3Cscript%3E%0A%20%20%20%20%20%20%20%20%20%20%20%20L_NO_TOUCH%20%3D%20false%3B%0A%20%20%20%20%20%20%20%20%20%20%20%20L_DISABLE_3D%20%3D%20false%3B%0A%20%20%20%20%20%20%20%20%3C/script%3E%0A%20%20%20%20%0A%20%20%20%20%3Cstyle%3Ehtml%2C%20body%20%7Bwidth%3A%20100%25%3Bheight%3A%20100%25%3Bmargin%3A%200%3Bpadding%3A%200%3B%7D%3C/style%3E%0A%20%20%20%20%3Cstyle%3E%23map%20%7Bposition%3Aabsolute%3Btop%3A0%3Bbottom%3A0%3Bright%3A0%3Bleft%3A0%3B%7D%3C/style%3E%0A%20%20%20%20%3Cscript%20src%3D%22https%3A//cdn.jsdelivr.net/npm/leaflet%401.6.0/dist/leaflet.js%22%3E%3C/script%3E%0A%20%20%20%20%3Cscript%20src%3D%22https%3A//code.jquery.com/jquery-1.12.4.min.js%22%3E%3C/script%3E%0A%20%20%20%20%3Cscript%20src%3D%22https%3A//maxcdn.bootstrapcdn.com/bootstrap/3.2.0/js/bootstrap.min.js%22%3E%3C/script%3E%0A%20%20%20%20%3Cscript%20src%3D%22https%3A//cdnjs.cloudflare.com/ajax/libs/Leaflet.awesome-markers/2.0.2/leaflet.awesome-markers.js%22%3E%3C/script%3E%0A%20%20%20%20%3Clink%20rel%3D%22stylesheet%22%20href%3D%22https%3A//cdn.jsdelivr.net/npm/leaflet%401.6.0/dist/leaflet.css%22/%3E%0A%20%20%20%20%3Clink%20rel%3D%22stylesheet%22%20href%3D%22https%3A//maxcdn.bootstrapcdn.com/bootstrap/3.2.0/css/bootstrap.min.css%22/%3E%0A%20%20%20%20%3Clink%20rel%3D%22stylesheet%22%20href%3D%22https%3A//maxcdn.bootstrapcdn.com/bootstrap/3.2.0/css/bootstrap-theme.min.css%22/%3E%0A%20%20%20%20%3Clink%20rel%3D%22stylesheet%22%20href%3D%22https%3A//maxcdn.bootstrapcdn.com/font-awesome/4.6.3/css/font-awesome.min.css%22/%3E%0A%20%20%20%20%3Clink%20rel%3D%22stylesheet%22%20href%3D%22https%3A//cdnjs.cloudflare.com/ajax/libs/Leaflet.awesome-markers/2.0.2/leaflet.awesome-markers.css%22/%3E%0A%20%20%20%20%3Clink%20rel%3D%22stylesheet%22%20href%3D%22https%3A//cdn.jsdelivr.net/gh/python-visualization/folium/folium/templates/leaflet.awesome.rotate.min.css%22/%3E%0A%20%20%20%20%0A%20%20%20%20%20%20%20%20%20%20%20%20%3Cmeta%20name%3D%22viewport%22%20content%3D%22width%3Ddevice-width%2C%0A%20%20%20%20%20%20%20%20%20%20%20%20%20%20%20%20initial-scale%3D1.0%2C%20maximum-scale%3D1.0%2C%20user-scalable%3Dno%22%20/%3E%0A%20%20%20%20%20%20%20%20%20%20%20%20%3Cstyle%3E%0A%20%20%20%20%20%20%20%20%20%20%20%20%20%20%20%20%23map_dbf8a9c4d7974bb9a915265ea0980d29%20%7B%0A%20%20%20%20%20%20%20%20%20%20%20%20%20%20%20%20%20%20%20%20position%3A%20relative%3B%0A%20%20%20%20%20%20%20%20%20%20%20%20%20%20%20%20%20%20%20%20width%3A%20100.0%25%3B%0A%20%20%20%20%20%20%20%20%20%20%20%20%20%20%20%20%20%20%20%20height%3A%20100.0%25%3B%0A%20%20%20%20%20%20%20%20%20%20%20%20%20%20%20%20%20%20%20%20left%3A%200.0%25%3B%0A%20%20%20%20%20%20%20%20%20%20%20%20%20%20%20%20%20%20%20%20top%3A%200.0%25%3B%0A%20%20%20%20%20%20%20%20%20%20%20%20%20%20%20%20%7D%0A%20%20%20%20%20%20%20%20%20%20%20%20%3C/style%3E%0A%20%20%20%20%20%20%20%20%0A%20%20%20%20%3Cscript%20src%3D%22https%3A//cdnjs.cloudflare.com/ajax/libs/leaflet.markercluster/1.1.0/leaflet.markercluster.js%22%3E%3C/script%3E%0A%20%20%20%20%3Clink%20rel%3D%22stylesheet%22%20href%3D%22https%3A//cdnjs.cloudflare.com/ajax/libs/leaflet.markercluster/1.1.0/MarkerCluster.css%22/%3E%0A%20%20%20%20%3Clink%20rel%3D%22stylesheet%22%20href%3D%22https%3A//cdnjs.cloudflare.com/ajax/libs/leaflet.markercluster/1.1.0/MarkerCluster.Default.css%22/%3E%0A%3C/head%3E%0A%3Cbody%3E%20%20%20%20%0A%20%20%20%20%0A%20%20%20%20%20%20%20%20%20%20%20%20%3Cdiv%20class%3D%22folium-map%22%20id%3D%22map_dbf8a9c4d7974bb9a915265ea0980d29%22%20%3E%3C/div%3E%0A%20%20%20%20%20%20%20%20%0A%3C/body%3E%0A%3Cscript%3E%20%20%20%20%0A%20%20%20%20%0A%20%20%20%20%20%20%20%20%20%20%20%20var%20map_dbf8a9c4d7974bb9a915265ea0980d29%20%3D%20L.map%28%0A%20%20%20%20%20%20%20%20%20%20%20%20%20%20%20%20%22map_dbf8a9c4d7974bb9a915265ea0980d29%22%2C%0A%20%20%20%20%20%20%20%20%20%20%20%20%20%20%20%20%7B%0A%20%20%20%20%20%20%20%20%20%20%20%20%20%20%20%20%20%20%20%20center%3A%20%5B49.8352%2C%20-124.5247%5D%2C%0A%20%20%20%20%20%20%20%20%20%20%20%20%20%20%20%20%20%20%20%20crs%3A%20L.CRS.EPSG3857%2C%0A%20%20%20%20%20%20%20%20%20%20%20%20%20%20%20%20%20%20%20%20zoom%3A%2010%2C%0A%20%20%20%20%20%20%20%20%20%20%20%20%20%20%20%20%20%20%20%20zoomControl%3A%20true%2C%0A%20%20%20%20%20%20%20%20%20%20%20%20%20%20%20%20%20%20%20%20preferCanvas%3A%20false%2C%0A%20%20%20%20%20%20%20%20%20%20%20%20%20%20%20%20%7D%0A%20%20%20%20%20%20%20%20%20%20%20%20%29%3B%0A%0A%20%20%20%20%20%20%20%20%20%20%20%20%0A%0A%20%20%20%20%20%20%20%20%0A%20%20%20%20%0A%20%20%20%20%20%20%20%20%20%20%20%20var%20tile_layer_051452cec6d2464687325a010acb3e2b%20%3D%20L.tileLayer%28%0A%20%20%20%20%20%20%20%20%20%20%20%20%20%20%20%20%22https%3A//stamen-tiles-%7Bs%7D.a.ssl.fastly.net/terrain/%7Bz%7D/%7Bx%7D/%7By%7D.jpg%22%2C%0A%20%20%20%20%20%20%20%20%20%20%20%20%20%20%20%20%7B%22attribution%22%3A%20%22Map%20tiles%20by%20%5Cu003ca%20href%3D%5C%22http%3A//stamen.com%5C%22%5Cu003eStamen%20Design%5Cu003c/a%5Cu003e%2C%20under%20%5Cu003ca%20href%3D%5C%22http%3A//creativecommons.org/licenses/by/3.0%5C%22%5Cu003eCC%20BY%203.0%5Cu003c/a%5Cu003e.%20Data%20by%20%5Cu0026copy%3B%20%5Cu003ca%20href%3D%5C%22http%3A//openstreetmap.org%5C%22%5Cu003eOpenStreetMap%5Cu003c/a%5Cu003e%2C%20under%20%5Cu003ca%20href%3D%5C%22http%3A//creativecommons.org/licenses/by-sa/3.0%5C%22%5Cu003eCC%20BY%20SA%5Cu003c/a%5Cu003e.%22%2C%20%22detectRetina%22%3A%20false%2C%20%22maxNativeZoom%22%3A%2018%2C%20%22maxZoom%22%3A%2018%2C%20%22minZoom%22%3A%200%2C%20%22noWrap%22%3A%20false%2C%20%22opacity%22%3A%201%2C%20%22subdomains%22%3A%20%22abc%22%2C%20%22tms%22%3A%20false%7D%0A%20%20%20%20%20%20%20%20%20%20%20%20%29.addTo%28map_dbf8a9c4d7974bb9a915265ea0980d29%29%3B%0A%20%20%20%20%20%20%20%20%0A%20%20%20%20%0A%20%20%20%20%20%20%20%20%20%20%20%20var%20marker_cluster_5467f227fc5d4b34a342e43628009795%20%3D%20L.markerClusterGroup%28%0A%20%20%20%20%20%20%20%20%20%20%20%20%20%20%20%20%7B%7D%0A%20%20%20%20%20%20%20%20%20%20%20%20%29%3B%0A%20%20%20%20%20%20%20%20%20%20%20%20map_dbf8a9c4d7974bb9a915265ea0980d29.addLayer%28marker_cluster_5467f227fc5d4b34a342e43628009795%29%3B%0A%20%20%20%20%20%20%20%20%0A%20%20%20%20%0A%20%20%20%20%20%20%20%20%20%20%20%20var%20marker_363df1812f84481c992ae65e8da5deea%20%3D%20L.marker%28%0A%20%20%20%20%20%20%20%20%20%20%20%20%20%20%20%20%5B49.8352%2C%20-124.5247%5D%2C%0A%20%20%20%20%20%20%20%20%20%20%20%20%20%20%20%20%7B%22clusteredMarker%22%3A%20true%7D%0A%20%20%20%20%20%20%20%20%20%20%20%20%29.addTo%28marker_cluster_5467f227fc5d4b34a342e43628009795%29%3B%0A%20%20%20%20%20%20%20%20%0A%20%20%20%20%0A%20%20%20%20%20%20%20%20%20%20%20%20var%20icon_b838cede1ca5404f9f93db54ddee30fc%20%3D%20L.AwesomeMarkers.icon%28%0A%20%20%20%20%20%20%20%20%20%20%20%20%20%20%20%20%7B%22extraClasses%22%3A%20%22fa-rotate-0%22%2C%20%22icon%22%3A%20%22anchor%22%2C%20%22iconColor%22%3A%20%22white%22%2C%20%22markerColor%22%3A%20%22red%22%2C%20%22prefix%22%3A%20%22fa%22%7D%0A%20%20%20%20%20%20%20%20%20%20%20%20%29%3B%0A%20%20%20%20%20%20%20%20%20%20%20%20marker_363df1812f84481c992ae65e8da5deea.setIcon%28icon_b838cede1ca5404f9f93db54ddee30fc%29%3B%0A%20%20%20%20%20%20%20%20%0A%20%20%20%20%0A%20%20%20%20%20%20%20%20var%20popup_92c74b0b1b5f4f68bbff5f952d6c352f%20%3D%20L.popup%28%7B%22autoClose%22%3A%20false%2C%20%22closeOnClick%22%3A%20false%2C%20%22maxWidth%22%3A%20%22100%25%22%7D%29%3B%0A%0A%20%20%20%20%20%20%20%20%0A%20%20%20%20%20%20%20%20%20%20%20%20var%20html_d602d86af5e34fc58bee0df82eed7d71%20%3D%20%24%28%60%3Cdiv%20id%3D%22html_d602d86af5e34fc58bee0df82eed7d71%22%20style%3D%22width%3A%20100.0%25%3B%20height%3A%20100.0%25%3B%22%3E%CA%94agayqs%C9%9Bn%3C/div%3E%60%29%5B0%5D%3B%0A%20%20%20%20%20%20%20%20%20%20%20%20popup_92c74b0b1b5f4f68bbff5f952d6c352f.setContent%28html_d602d86af5e34fc58bee0df82eed7d71%29%3B%0A%20%20%20%20%20%20%20%20%0A%0A%20%20%20%20%20%20%20%20marker_363df1812f84481c992ae65e8da5deea.bindPopup%28popup_92c74b0b1b5f4f68bbff5f952d6c352f%29%0A%20%20%20%20%20%20%20%20%3B%0A%0A%20%20%20%20%20%20%20%20%0A%20%20%20%20%0A%20%20%20%20%0A%20%20%20%20%20%20%20%20%20%20%20%20marker_363df1812f84481c992ae65e8da5deea.bindTooltip%28%0A%20%20%20%20%20%20%20%20%20%20%20%20%20%20%20%20%60%3Cdiv%3E%0A%20%20%20%20%20%20%20%20%20%20%20%20%20%20%20%20%20%20%20%20%20Display%20location%20name%0A%20%20%20%20%20%20%20%20%20%20%20%20%20%20%20%20%20%3C/div%3E%60%2C%0A%20%20%20%20%20%20%20%20%20%20%20%20%20%20%20%20%7B%22sticky%22%3A%20true%7D%0A%20%20%20%20%20%20%20%20%20%20%20%20%29%3B%0A%20%20%20%20%20%20%20%20%0A%3C/script%3E onload=\"this.contentDocument.open();this.contentDocument.write(    decodeURIComponent(this.getAttribute('data-html')));this.contentDocument.close();\" allowfullscreen webkitallowfullscreen mozallowfullscreen></iframe></div></div>"
      ],
      "text/plain": [
       "<folium.folium.Map at 0x7f2d8e3219a0>"
      ]
     },
     "metadata": {},
     "output_type": "display_data"
    }
   ],
   "source": [
    "%run ./scripts/web_scrapping.py \"https://www.waterlevels.gc.ca/eng/data/table/2021/wlev_sec/7965\"\n",
    "%run -i ./scripts/scripts.py\n",
    "title = \"Display location for ʔagayqsɛn\"\n",
    "display(Markdown('<h1>{}</h1><br/>'.format(title)))\n",
    "# Coordinates for Comox Harbour https://latitude.to/articles-by-country/ca/canada/42519/comox-valley\n",
    "#latitude =  49.668485\n",
    "#longitude = -124.912761\n",
    "# 49.8352° N, 124.5247° W \n",
    "latitude = 49.8352\n",
    "longitude = -124.5247\n",
    "plot_interactive_map(latitude,longitude,\"ʔagayqsɛn\" )"
   ]
  },
  {
   "cell_type": "markdown",
   "metadata": {},
   "source": [
    "### 2. Tide patterns for this region\n",
    "\n",
    "#### What are the tides like in there?\n",
    "\n",
    "Let's take a look at a simulation of tide levels for a day. Let's get some data for area. \n",
    "\n",
    "<b>Data Source:</b> https://www.waterlevels.gc.ca/eng/station?sid=7880\n",
    "\n",
    "We will use Python code to visualize this data. \n",
    "\n",
    "Run the cell below. You should see a plot. Interact with it to see how high the tides were and when. \n",
    "\n",
    "The horizontal line the lowest point of an imagined fish trap in this area. When the blue line, the tide, is above this then the trap is \"open\" meaning fish can freely swim in and out. Alternatively, when the tide is below that level the fish are trapped and could be harvested"
   ]
  },
  {
   "cell_type": "code",
   "execution_count": 8,
   "metadata": {
    "scrolled": false
   },
   "outputs": [
    {
     "data": {
      "application/vnd.plotly.v1+json": {
       "config": {
        "plotlyServerURL": "https://plot.ly"
       },
       "data": [
        {
         "hovertemplate": "%{text}<br>%{y:}m above sea-level",
         "legendgroup": "",
         "line": {
          "color": "#636efa",
          "dash": "solid",
          "shape": "spline"
         },
         "marker": {
          "symbol": "circle"
         },
         "mode": "lines",
         "name": "Tide Level",
         "orientation": "v",
         "showlegend": true,
         "text": [
          "<b>Day</b>: 3<br><b>Hour</b>: 0",
          "<b>Day</b>: 3<br><b>Hour</b>: 1",
          "<b>Day</b>: 3<br><b>Hour</b>: 2",
          "<b>Day</b>: 3<br><b>Hour</b>: 3",
          "<b>Day</b>: 3<br><b>Hour</b>: 4",
          "<b>Day</b>: 3<br><b>Hour</b>: 5",
          "<b>Day</b>: 3<br><b>Hour</b>: 6",
          "<b>Day</b>: 3<br><b>Hour</b>: 7",
          "<b>Day</b>: 3<br><b>Hour</b>: 8",
          "<b>Day</b>: 3<br><b>Hour</b>: 9",
          "<b>Day</b>: 3<br><b>Hour</b>: 10",
          "<b>Day</b>: 3<br><b>Hour</b>: 11",
          "<b>Day</b>: 3<br><b>Hour</b>: 12",
          "<b>Day</b>: 3<br><b>Hour</b>: 13",
          "<b>Day</b>: 3<br><b>Hour</b>: 14",
          "<b>Day</b>: 3<br><b>Hour</b>: 15",
          "<b>Day</b>: 3<br><b>Hour</b>: 16",
          "<b>Day</b>: 3<br><b>Hour</b>: 17",
          "<b>Day</b>: 3<br><b>Hour</b>: 18",
          "<b>Day</b>: 3<br><b>Hour</b>: 19",
          "<b>Day</b>: 3<br><b>Hour</b>: 20",
          "<b>Day</b>: 3<br><b>Hour</b>: 21",
          "<b>Day</b>: 3<br><b>Hour</b>: 22",
          "<b>Day</b>: 3<br><b>Hour</b>: 23"
         ],
         "type": "scatter",
         "x": [
          0,
          1,
          2,
          3,
          4,
          5,
          6,
          7,
          8,
          9,
          10,
          11,
          12,
          13,
          14,
          15,
          16,
          17,
          18,
          19,
          20,
          21,
          22,
          23
         ],
         "xaxis": "x",
         "y": [
          3,
          3.7,
          4.3,
          4.7,
          4.8,
          4.6,
          4.2,
          3.6,
          3,
          2.4,
          2.1,
          2.1,
          2.4,
          2.9,
          3.4,
          3.9,
          4.1,
          4,
          3.6,
          3.2,
          2.7,
          2.2,
          2,
          2.2
         ],
         "yaxis": "y"
        },
        {
         "hovertemplate": " %{y:.3f}m",
         "name": "low point of the trap",
         "type": "scatter",
         "x": [
          0,
          1,
          2,
          3,
          4,
          5,
          6,
          7,
          8,
          9,
          10,
          11,
          12,
          13,
          14,
          15,
          16,
          17,
          18,
          19,
          20,
          21,
          22,
          23
         ],
         "y": [
          2.9005349573860304,
          2.9005349573860304,
          2.9005349573860304,
          2.9005349573860304,
          2.9005349573860304,
          2.9005349573860304,
          2.9005349573860304,
          2.9005349573860304,
          2.9005349573860304,
          2.9005349573860304,
          2.9005349573860304,
          2.9005349573860304,
          2.9005349573860304,
          2.9005349573860304,
          2.9005349573860304,
          2.9005349573860304,
          2.9005349573860304,
          2.9005349573860304,
          2.9005349573860304,
          2.9005349573860304,
          2.9005349573860304,
          2.9005349573860304,
          2.9005349573860304,
          2.9005349573860304
         ]
        },
        {
         "hovertemplate": "The water level is now below the trap.<br> This means fish can now be harvested.",
         "mode": "markers+text",
         "name": "Fish become trapped",
         "text": [
          "Trap Closed",
          "Trap Closed"
         ],
         "textposition": "top right",
         "type": "scatter",
         "x": [
          8.2,
          19.6
         ],
         "y": [
          2.9005349573860304,
          2.9005349573860304
         ]
        },
        {
         "hovertemplate": "The water level is now above the trap.<br> This means fish can swim in and out of it.",
         "mode": "markers+text",
         "name": "No fish are trapped",
         "text": [
          "Trap Open"
         ],
         "textposition": "top right",
         "type": "scatter",
         "x": [
          13
         ],
         "y": [
          2.9005349573860304
         ]
        }
       ],
       "layout": {
        "legend": {
         "tracegroupgap": 0
        },
        "margin": {
         "t": 60
        },
        "template": {
         "data": {
          "bar": [
           {
            "error_x": {
             "color": "#2a3f5f"
            },
            "error_y": {
             "color": "#2a3f5f"
            },
            "marker": {
             "line": {
              "color": "#E5ECF6",
              "width": 0.5
             },
             "pattern": {
              "fillmode": "overlay",
              "size": 10,
              "solidity": 0.2
             }
            },
            "type": "bar"
           }
          ],
          "barpolar": [
           {
            "marker": {
             "line": {
              "color": "#E5ECF6",
              "width": 0.5
             },
             "pattern": {
              "fillmode": "overlay",
              "size": 10,
              "solidity": 0.2
             }
            },
            "type": "barpolar"
           }
          ],
          "carpet": [
           {
            "aaxis": {
             "endlinecolor": "#2a3f5f",
             "gridcolor": "white",
             "linecolor": "white",
             "minorgridcolor": "white",
             "startlinecolor": "#2a3f5f"
            },
            "baxis": {
             "endlinecolor": "#2a3f5f",
             "gridcolor": "white",
             "linecolor": "white",
             "minorgridcolor": "white",
             "startlinecolor": "#2a3f5f"
            },
            "type": "carpet"
           }
          ],
          "choropleth": [
           {
            "colorbar": {
             "outlinewidth": 0,
             "ticks": ""
            },
            "type": "choropleth"
           }
          ],
          "contour": [
           {
            "colorbar": {
             "outlinewidth": 0,
             "ticks": ""
            },
            "colorscale": [
             [
              0,
              "#0d0887"
             ],
             [
              0.1111111111111111,
              "#46039f"
             ],
             [
              0.2222222222222222,
              "#7201a8"
             ],
             [
              0.3333333333333333,
              "#9c179e"
             ],
             [
              0.4444444444444444,
              "#bd3786"
             ],
             [
              0.5555555555555556,
              "#d8576b"
             ],
             [
              0.6666666666666666,
              "#ed7953"
             ],
             [
              0.7777777777777778,
              "#fb9f3a"
             ],
             [
              0.8888888888888888,
              "#fdca26"
             ],
             [
              1,
              "#f0f921"
             ]
            ],
            "type": "contour"
           }
          ],
          "contourcarpet": [
           {
            "colorbar": {
             "outlinewidth": 0,
             "ticks": ""
            },
            "type": "contourcarpet"
           }
          ],
          "heatmap": [
           {
            "colorbar": {
             "outlinewidth": 0,
             "ticks": ""
            },
            "colorscale": [
             [
              0,
              "#0d0887"
             ],
             [
              0.1111111111111111,
              "#46039f"
             ],
             [
              0.2222222222222222,
              "#7201a8"
             ],
             [
              0.3333333333333333,
              "#9c179e"
             ],
             [
              0.4444444444444444,
              "#bd3786"
             ],
             [
              0.5555555555555556,
              "#d8576b"
             ],
             [
              0.6666666666666666,
              "#ed7953"
             ],
             [
              0.7777777777777778,
              "#fb9f3a"
             ],
             [
              0.8888888888888888,
              "#fdca26"
             ],
             [
              1,
              "#f0f921"
             ]
            ],
            "type": "heatmap"
           }
          ],
          "heatmapgl": [
           {
            "colorbar": {
             "outlinewidth": 0,
             "ticks": ""
            },
            "colorscale": [
             [
              0,
              "#0d0887"
             ],
             [
              0.1111111111111111,
              "#46039f"
             ],
             [
              0.2222222222222222,
              "#7201a8"
             ],
             [
              0.3333333333333333,
              "#9c179e"
             ],
             [
              0.4444444444444444,
              "#bd3786"
             ],
             [
              0.5555555555555556,
              "#d8576b"
             ],
             [
              0.6666666666666666,
              "#ed7953"
             ],
             [
              0.7777777777777778,
              "#fb9f3a"
             ],
             [
              0.8888888888888888,
              "#fdca26"
             ],
             [
              1,
              "#f0f921"
             ]
            ],
            "type": "heatmapgl"
           }
          ],
          "histogram": [
           {
            "marker": {
             "pattern": {
              "fillmode": "overlay",
              "size": 10,
              "solidity": 0.2
             }
            },
            "type": "histogram"
           }
          ],
          "histogram2d": [
           {
            "colorbar": {
             "outlinewidth": 0,
             "ticks": ""
            },
            "colorscale": [
             [
              0,
              "#0d0887"
             ],
             [
              0.1111111111111111,
              "#46039f"
             ],
             [
              0.2222222222222222,
              "#7201a8"
             ],
             [
              0.3333333333333333,
              "#9c179e"
             ],
             [
              0.4444444444444444,
              "#bd3786"
             ],
             [
              0.5555555555555556,
              "#d8576b"
             ],
             [
              0.6666666666666666,
              "#ed7953"
             ],
             [
              0.7777777777777778,
              "#fb9f3a"
             ],
             [
              0.8888888888888888,
              "#fdca26"
             ],
             [
              1,
              "#f0f921"
             ]
            ],
            "type": "histogram2d"
           }
          ],
          "histogram2dcontour": [
           {
            "colorbar": {
             "outlinewidth": 0,
             "ticks": ""
            },
            "colorscale": [
             [
              0,
              "#0d0887"
             ],
             [
              0.1111111111111111,
              "#46039f"
             ],
             [
              0.2222222222222222,
              "#7201a8"
             ],
             [
              0.3333333333333333,
              "#9c179e"
             ],
             [
              0.4444444444444444,
              "#bd3786"
             ],
             [
              0.5555555555555556,
              "#d8576b"
             ],
             [
              0.6666666666666666,
              "#ed7953"
             ],
             [
              0.7777777777777778,
              "#fb9f3a"
             ],
             [
              0.8888888888888888,
              "#fdca26"
             ],
             [
              1,
              "#f0f921"
             ]
            ],
            "type": "histogram2dcontour"
           }
          ],
          "mesh3d": [
           {
            "colorbar": {
             "outlinewidth": 0,
             "ticks": ""
            },
            "type": "mesh3d"
           }
          ],
          "parcoords": [
           {
            "line": {
             "colorbar": {
              "outlinewidth": 0,
              "ticks": ""
             }
            },
            "type": "parcoords"
           }
          ],
          "pie": [
           {
            "automargin": true,
            "type": "pie"
           }
          ],
          "scatter": [
           {
            "marker": {
             "colorbar": {
              "outlinewidth": 0,
              "ticks": ""
             }
            },
            "type": "scatter"
           }
          ],
          "scatter3d": [
           {
            "line": {
             "colorbar": {
              "outlinewidth": 0,
              "ticks": ""
             }
            },
            "marker": {
             "colorbar": {
              "outlinewidth": 0,
              "ticks": ""
             }
            },
            "type": "scatter3d"
           }
          ],
          "scattercarpet": [
           {
            "marker": {
             "colorbar": {
              "outlinewidth": 0,
              "ticks": ""
             }
            },
            "type": "scattercarpet"
           }
          ],
          "scattergeo": [
           {
            "marker": {
             "colorbar": {
              "outlinewidth": 0,
              "ticks": ""
             }
            },
            "type": "scattergeo"
           }
          ],
          "scattergl": [
           {
            "marker": {
             "colorbar": {
              "outlinewidth": 0,
              "ticks": ""
             }
            },
            "type": "scattergl"
           }
          ],
          "scattermapbox": [
           {
            "marker": {
             "colorbar": {
              "outlinewidth": 0,
              "ticks": ""
             }
            },
            "type": "scattermapbox"
           }
          ],
          "scatterpolar": [
           {
            "marker": {
             "colorbar": {
              "outlinewidth": 0,
              "ticks": ""
             }
            },
            "type": "scatterpolar"
           }
          ],
          "scatterpolargl": [
           {
            "marker": {
             "colorbar": {
              "outlinewidth": 0,
              "ticks": ""
             }
            },
            "type": "scatterpolargl"
           }
          ],
          "scatterternary": [
           {
            "marker": {
             "colorbar": {
              "outlinewidth": 0,
              "ticks": ""
             }
            },
            "type": "scatterternary"
           }
          ],
          "surface": [
           {
            "colorbar": {
             "outlinewidth": 0,
             "ticks": ""
            },
            "colorscale": [
             [
              0,
              "#0d0887"
             ],
             [
              0.1111111111111111,
              "#46039f"
             ],
             [
              0.2222222222222222,
              "#7201a8"
             ],
             [
              0.3333333333333333,
              "#9c179e"
             ],
             [
              0.4444444444444444,
              "#bd3786"
             ],
             [
              0.5555555555555556,
              "#d8576b"
             ],
             [
              0.6666666666666666,
              "#ed7953"
             ],
             [
              0.7777777777777778,
              "#fb9f3a"
             ],
             [
              0.8888888888888888,
              "#fdca26"
             ],
             [
              1,
              "#f0f921"
             ]
            ],
            "type": "surface"
           }
          ],
          "table": [
           {
            "cells": {
             "fill": {
              "color": "#EBF0F8"
             },
             "line": {
              "color": "white"
             }
            },
            "header": {
             "fill": {
              "color": "#C8D4E3"
             },
             "line": {
              "color": "white"
             }
            },
            "type": "table"
           }
          ]
         },
         "layout": {
          "annotationdefaults": {
           "arrowcolor": "#2a3f5f",
           "arrowhead": 0,
           "arrowwidth": 1
          },
          "autotypenumbers": "strict",
          "coloraxis": {
           "colorbar": {
            "outlinewidth": 0,
            "ticks": ""
           }
          },
          "colorscale": {
           "diverging": [
            [
             0,
             "#8e0152"
            ],
            [
             0.1,
             "#c51b7d"
            ],
            [
             0.2,
             "#de77ae"
            ],
            [
             0.3,
             "#f1b6da"
            ],
            [
             0.4,
             "#fde0ef"
            ],
            [
             0.5,
             "#f7f7f7"
            ],
            [
             0.6,
             "#e6f5d0"
            ],
            [
             0.7,
             "#b8e186"
            ],
            [
             0.8,
             "#7fbc41"
            ],
            [
             0.9,
             "#4d9221"
            ],
            [
             1,
             "#276419"
            ]
           ],
           "sequential": [
            [
             0,
             "#0d0887"
            ],
            [
             0.1111111111111111,
             "#46039f"
            ],
            [
             0.2222222222222222,
             "#7201a8"
            ],
            [
             0.3333333333333333,
             "#9c179e"
            ],
            [
             0.4444444444444444,
             "#bd3786"
            ],
            [
             0.5555555555555556,
             "#d8576b"
            ],
            [
             0.6666666666666666,
             "#ed7953"
            ],
            [
             0.7777777777777778,
             "#fb9f3a"
            ],
            [
             0.8888888888888888,
             "#fdca26"
            ],
            [
             1,
             "#f0f921"
            ]
           ],
           "sequentialminus": [
            [
             0,
             "#0d0887"
            ],
            [
             0.1111111111111111,
             "#46039f"
            ],
            [
             0.2222222222222222,
             "#7201a8"
            ],
            [
             0.3333333333333333,
             "#9c179e"
            ],
            [
             0.4444444444444444,
             "#bd3786"
            ],
            [
             0.5555555555555556,
             "#d8576b"
            ],
            [
             0.6666666666666666,
             "#ed7953"
            ],
            [
             0.7777777777777778,
             "#fb9f3a"
            ],
            [
             0.8888888888888888,
             "#fdca26"
            ],
            [
             1,
             "#f0f921"
            ]
           ]
          },
          "colorway": [
           "#636efa",
           "#EF553B",
           "#00cc96",
           "#ab63fa",
           "#FFA15A",
           "#19d3f3",
           "#FF6692",
           "#B6E880",
           "#FF97FF",
           "#FECB52"
          ],
          "font": {
           "color": "#2a3f5f"
          },
          "geo": {
           "bgcolor": "white",
           "lakecolor": "white",
           "landcolor": "#E5ECF6",
           "showlakes": true,
           "showland": true,
           "subunitcolor": "white"
          },
          "hoverlabel": {
           "align": "left"
          },
          "hovermode": "closest",
          "mapbox": {
           "style": "light"
          },
          "paper_bgcolor": "white",
          "plot_bgcolor": "#E5ECF6",
          "polar": {
           "angularaxis": {
            "gridcolor": "white",
            "linecolor": "white",
            "ticks": ""
           },
           "bgcolor": "#E5ECF6",
           "radialaxis": {
            "gridcolor": "white",
            "linecolor": "white",
            "ticks": ""
           }
          },
          "scene": {
           "xaxis": {
            "backgroundcolor": "#E5ECF6",
            "gridcolor": "white",
            "gridwidth": 2,
            "linecolor": "white",
            "showbackground": true,
            "ticks": "",
            "zerolinecolor": "white"
           },
           "yaxis": {
            "backgroundcolor": "#E5ECF6",
            "gridcolor": "white",
            "gridwidth": 2,
            "linecolor": "white",
            "showbackground": true,
            "ticks": "",
            "zerolinecolor": "white"
           },
           "zaxis": {
            "backgroundcolor": "#E5ECF6",
            "gridcolor": "white",
            "gridwidth": 2,
            "linecolor": "white",
            "showbackground": true,
            "ticks": "",
            "zerolinecolor": "white"
           }
          },
          "shapedefaults": {
           "line": {
            "color": "#2a3f5f"
           }
          },
          "ternary": {
           "aaxis": {
            "gridcolor": "white",
            "linecolor": "white",
            "ticks": ""
           },
           "baxis": {
            "gridcolor": "white",
            "linecolor": "white",
            "ticks": ""
           },
           "bgcolor": "#E5ECF6",
           "caxis": {
            "gridcolor": "white",
            "linecolor": "white",
            "ticks": ""
           }
          },
          "title": {
           "x": 0.05
          },
          "xaxis": {
           "automargin": true,
           "gridcolor": "white",
           "linecolor": "white",
           "ticks": "",
           "title": {
            "standoff": 15
           },
           "zerolinecolor": "white",
           "zerolinewidth": 2
          },
          "yaxis": {
           "automargin": true,
           "gridcolor": "white",
           "linecolor": "white",
           "ticks": "",
           "title": {
            "standoff": 15
           },
           "zerolinecolor": "white",
           "zerolinewidth": 2
          }
         }
        },
        "title": {
         "text": "Measured Tide Readings for ʔagayqsεn"
        },
        "xaxis": {
         "anchor": "y",
         "domain": [
          0,
          1
         ],
         "title": {
          "text": "Time (Hours)"
         }
        },
        "yaxis": {
         "anchor": "x",
         "domain": [
          0,
          1
         ],
         "title": {
          "text": "Tide Level (Meters Above Sea Level)"
         }
        }
       }
      },
      "text/html": [
       "<div>                            <div id=\"2f13bce8-681b-45e3-ae9d-ff72a934be0d\" class=\"plotly-graph-div\" style=\"height:525px; width:100%;\"></div>            <script type=\"text/javascript\">                require([\"plotly\"], function(Plotly) {                    window.PLOTLYENV=window.PLOTLYENV || {};                                    if (document.getElementById(\"2f13bce8-681b-45e3-ae9d-ff72a934be0d\")) {                    Plotly.newPlot(                        \"2f13bce8-681b-45e3-ae9d-ff72a934be0d\",                        [{\"hovertemplate\":\"%{text}<br>%{y:}m above sea-level\",\"legendgroup\":\"\",\"line\":{\"color\":\"#636efa\",\"dash\":\"solid\",\"shape\":\"spline\"},\"marker\":{\"symbol\":\"circle\"},\"mode\":\"lines\",\"name\":\"Tide Level\",\"orientation\":\"v\",\"showlegend\":true,\"text\":[\"<b>Day</b>: 3<br><b>Hour</b>: 0\",\"<b>Day</b>: 3<br><b>Hour</b>: 1\",\"<b>Day</b>: 3<br><b>Hour</b>: 2\",\"<b>Day</b>: 3<br><b>Hour</b>: 3\",\"<b>Day</b>: 3<br><b>Hour</b>: 4\",\"<b>Day</b>: 3<br><b>Hour</b>: 5\",\"<b>Day</b>: 3<br><b>Hour</b>: 6\",\"<b>Day</b>: 3<br><b>Hour</b>: 7\",\"<b>Day</b>: 3<br><b>Hour</b>: 8\",\"<b>Day</b>: 3<br><b>Hour</b>: 9\",\"<b>Day</b>: 3<br><b>Hour</b>: 10\",\"<b>Day</b>: 3<br><b>Hour</b>: 11\",\"<b>Day</b>: 3<br><b>Hour</b>: 12\",\"<b>Day</b>: 3<br><b>Hour</b>: 13\",\"<b>Day</b>: 3<br><b>Hour</b>: 14\",\"<b>Day</b>: 3<br><b>Hour</b>: 15\",\"<b>Day</b>: 3<br><b>Hour</b>: 16\",\"<b>Day</b>: 3<br><b>Hour</b>: 17\",\"<b>Day</b>: 3<br><b>Hour</b>: 18\",\"<b>Day</b>: 3<br><b>Hour</b>: 19\",\"<b>Day</b>: 3<br><b>Hour</b>: 20\",\"<b>Day</b>: 3<br><b>Hour</b>: 21\",\"<b>Day</b>: 3<br><b>Hour</b>: 22\",\"<b>Day</b>: 3<br><b>Hour</b>: 23\"],\"type\":\"scatter\",\"x\":[0,1,2,3,4,5,6,7,8,9,10,11,12,13,14,15,16,17,18,19,20,21,22,23],\"xaxis\":\"x\",\"y\":[3.0,3.7,4.3,4.7,4.8,4.6,4.2,3.6,3.0,2.4,2.1,2.1,2.4,2.9,3.4,3.9,4.1,4.0,3.6,3.2,2.7,2.2,2.0,2.2],\"yaxis\":\"y\"},{\"hovertemplate\":\" %{y:.3f}m\",\"name\":\"low point of the trap\",\"type\":\"scatter\",\"x\":[0,1,2,3,4,5,6,7,8,9,10,11,12,13,14,15,16,17,18,19,20,21,22,23],\"y\":[2.9005349573860304,2.9005349573860304,2.9005349573860304,2.9005349573860304,2.9005349573860304,2.9005349573860304,2.9005349573860304,2.9005349573860304,2.9005349573860304,2.9005349573860304,2.9005349573860304,2.9005349573860304,2.9005349573860304,2.9005349573860304,2.9005349573860304,2.9005349573860304,2.9005349573860304,2.9005349573860304,2.9005349573860304,2.9005349573860304,2.9005349573860304,2.9005349573860304,2.9005349573860304,2.9005349573860304]},{\"hovertemplate\":\"The water level is now below the trap.<br> This means fish can now be harvested.\",\"mode\":\"markers+text\",\"name\":\"Fish become trapped\",\"text\":[\"Trap Closed\",\"Trap Closed\"],\"textposition\":\"top right\",\"type\":\"scatter\",\"x\":[8.2,19.6],\"y\":[2.9005349573860304,2.9005349573860304]},{\"hovertemplate\":\"The water level is now above the trap.<br> This means fish can swim in and out of it.\",\"mode\":\"markers+text\",\"name\":\"No fish are trapped\",\"text\":[\"Trap Open\"],\"textposition\":\"top right\",\"type\":\"scatter\",\"x\":[13],\"y\":[2.9005349573860304]}],                        {\"legend\":{\"tracegroupgap\":0},\"margin\":{\"t\":60},\"template\":{\"data\":{\"bar\":[{\"error_x\":{\"color\":\"#2a3f5f\"},\"error_y\":{\"color\":\"#2a3f5f\"},\"marker\":{\"line\":{\"color\":\"#E5ECF6\",\"width\":0.5},\"pattern\":{\"fillmode\":\"overlay\",\"size\":10,\"solidity\":0.2}},\"type\":\"bar\"}],\"barpolar\":[{\"marker\":{\"line\":{\"color\":\"#E5ECF6\",\"width\":0.5},\"pattern\":{\"fillmode\":\"overlay\",\"size\":10,\"solidity\":0.2}},\"type\":\"barpolar\"}],\"carpet\":[{\"aaxis\":{\"endlinecolor\":\"#2a3f5f\",\"gridcolor\":\"white\",\"linecolor\":\"white\",\"minorgridcolor\":\"white\",\"startlinecolor\":\"#2a3f5f\"},\"baxis\":{\"endlinecolor\":\"#2a3f5f\",\"gridcolor\":\"white\",\"linecolor\":\"white\",\"minorgridcolor\":\"white\",\"startlinecolor\":\"#2a3f5f\"},\"type\":\"carpet\"}],\"choropleth\":[{\"colorbar\":{\"outlinewidth\":0,\"ticks\":\"\"},\"type\":\"choropleth\"}],\"contour\":[{\"colorbar\":{\"outlinewidth\":0,\"ticks\":\"\"},\"colorscale\":[[0.0,\"#0d0887\"],[0.1111111111111111,\"#46039f\"],[0.2222222222222222,\"#7201a8\"],[0.3333333333333333,\"#9c179e\"],[0.4444444444444444,\"#bd3786\"],[0.5555555555555556,\"#d8576b\"],[0.6666666666666666,\"#ed7953\"],[0.7777777777777778,\"#fb9f3a\"],[0.8888888888888888,\"#fdca26\"],[1.0,\"#f0f921\"]],\"type\":\"contour\"}],\"contourcarpet\":[{\"colorbar\":{\"outlinewidth\":0,\"ticks\":\"\"},\"type\":\"contourcarpet\"}],\"heatmap\":[{\"colorbar\":{\"outlinewidth\":0,\"ticks\":\"\"},\"colorscale\":[[0.0,\"#0d0887\"],[0.1111111111111111,\"#46039f\"],[0.2222222222222222,\"#7201a8\"],[0.3333333333333333,\"#9c179e\"],[0.4444444444444444,\"#bd3786\"],[0.5555555555555556,\"#d8576b\"],[0.6666666666666666,\"#ed7953\"],[0.7777777777777778,\"#fb9f3a\"],[0.8888888888888888,\"#fdca26\"],[1.0,\"#f0f921\"]],\"type\":\"heatmap\"}],\"heatmapgl\":[{\"colorbar\":{\"outlinewidth\":0,\"ticks\":\"\"},\"colorscale\":[[0.0,\"#0d0887\"],[0.1111111111111111,\"#46039f\"],[0.2222222222222222,\"#7201a8\"],[0.3333333333333333,\"#9c179e\"],[0.4444444444444444,\"#bd3786\"],[0.5555555555555556,\"#d8576b\"],[0.6666666666666666,\"#ed7953\"],[0.7777777777777778,\"#fb9f3a\"],[0.8888888888888888,\"#fdca26\"],[1.0,\"#f0f921\"]],\"type\":\"heatmapgl\"}],\"histogram\":[{\"marker\":{\"pattern\":{\"fillmode\":\"overlay\",\"size\":10,\"solidity\":0.2}},\"type\":\"histogram\"}],\"histogram2d\":[{\"colorbar\":{\"outlinewidth\":0,\"ticks\":\"\"},\"colorscale\":[[0.0,\"#0d0887\"],[0.1111111111111111,\"#46039f\"],[0.2222222222222222,\"#7201a8\"],[0.3333333333333333,\"#9c179e\"],[0.4444444444444444,\"#bd3786\"],[0.5555555555555556,\"#d8576b\"],[0.6666666666666666,\"#ed7953\"],[0.7777777777777778,\"#fb9f3a\"],[0.8888888888888888,\"#fdca26\"],[1.0,\"#f0f921\"]],\"type\":\"histogram2d\"}],\"histogram2dcontour\":[{\"colorbar\":{\"outlinewidth\":0,\"ticks\":\"\"},\"colorscale\":[[0.0,\"#0d0887\"],[0.1111111111111111,\"#46039f\"],[0.2222222222222222,\"#7201a8\"],[0.3333333333333333,\"#9c179e\"],[0.4444444444444444,\"#bd3786\"],[0.5555555555555556,\"#d8576b\"],[0.6666666666666666,\"#ed7953\"],[0.7777777777777778,\"#fb9f3a\"],[0.8888888888888888,\"#fdca26\"],[1.0,\"#f0f921\"]],\"type\":\"histogram2dcontour\"}],\"mesh3d\":[{\"colorbar\":{\"outlinewidth\":0,\"ticks\":\"\"},\"type\":\"mesh3d\"}],\"parcoords\":[{\"line\":{\"colorbar\":{\"outlinewidth\":0,\"ticks\":\"\"}},\"type\":\"parcoords\"}],\"pie\":[{\"automargin\":true,\"type\":\"pie\"}],\"scatter\":[{\"marker\":{\"colorbar\":{\"outlinewidth\":0,\"ticks\":\"\"}},\"type\":\"scatter\"}],\"scatter3d\":[{\"line\":{\"colorbar\":{\"outlinewidth\":0,\"ticks\":\"\"}},\"marker\":{\"colorbar\":{\"outlinewidth\":0,\"ticks\":\"\"}},\"type\":\"scatter3d\"}],\"scattercarpet\":[{\"marker\":{\"colorbar\":{\"outlinewidth\":0,\"ticks\":\"\"}},\"type\":\"scattercarpet\"}],\"scattergeo\":[{\"marker\":{\"colorbar\":{\"outlinewidth\":0,\"ticks\":\"\"}},\"type\":\"scattergeo\"}],\"scattergl\":[{\"marker\":{\"colorbar\":{\"outlinewidth\":0,\"ticks\":\"\"}},\"type\":\"scattergl\"}],\"scattermapbox\":[{\"marker\":{\"colorbar\":{\"outlinewidth\":0,\"ticks\":\"\"}},\"type\":\"scattermapbox\"}],\"scatterpolar\":[{\"marker\":{\"colorbar\":{\"outlinewidth\":0,\"ticks\":\"\"}},\"type\":\"scatterpolar\"}],\"scatterpolargl\":[{\"marker\":{\"colorbar\":{\"outlinewidth\":0,\"ticks\":\"\"}},\"type\":\"scatterpolargl\"}],\"scatterternary\":[{\"marker\":{\"colorbar\":{\"outlinewidth\":0,\"ticks\":\"\"}},\"type\":\"scatterternary\"}],\"surface\":[{\"colorbar\":{\"outlinewidth\":0,\"ticks\":\"\"},\"colorscale\":[[0.0,\"#0d0887\"],[0.1111111111111111,\"#46039f\"],[0.2222222222222222,\"#7201a8\"],[0.3333333333333333,\"#9c179e\"],[0.4444444444444444,\"#bd3786\"],[0.5555555555555556,\"#d8576b\"],[0.6666666666666666,\"#ed7953\"],[0.7777777777777778,\"#fb9f3a\"],[0.8888888888888888,\"#fdca26\"],[1.0,\"#f0f921\"]],\"type\":\"surface\"}],\"table\":[{\"cells\":{\"fill\":{\"color\":\"#EBF0F8\"},\"line\":{\"color\":\"white\"}},\"header\":{\"fill\":{\"color\":\"#C8D4E3\"},\"line\":{\"color\":\"white\"}},\"type\":\"table\"}]},\"layout\":{\"annotationdefaults\":{\"arrowcolor\":\"#2a3f5f\",\"arrowhead\":0,\"arrowwidth\":1},\"autotypenumbers\":\"strict\",\"coloraxis\":{\"colorbar\":{\"outlinewidth\":0,\"ticks\":\"\"}},\"colorscale\":{\"diverging\":[[0,\"#8e0152\"],[0.1,\"#c51b7d\"],[0.2,\"#de77ae\"],[0.3,\"#f1b6da\"],[0.4,\"#fde0ef\"],[0.5,\"#f7f7f7\"],[0.6,\"#e6f5d0\"],[0.7,\"#b8e186\"],[0.8,\"#7fbc41\"],[0.9,\"#4d9221\"],[1,\"#276419\"]],\"sequential\":[[0.0,\"#0d0887\"],[0.1111111111111111,\"#46039f\"],[0.2222222222222222,\"#7201a8\"],[0.3333333333333333,\"#9c179e\"],[0.4444444444444444,\"#bd3786\"],[0.5555555555555556,\"#d8576b\"],[0.6666666666666666,\"#ed7953\"],[0.7777777777777778,\"#fb9f3a\"],[0.8888888888888888,\"#fdca26\"],[1.0,\"#f0f921\"]],\"sequentialminus\":[[0.0,\"#0d0887\"],[0.1111111111111111,\"#46039f\"],[0.2222222222222222,\"#7201a8\"],[0.3333333333333333,\"#9c179e\"],[0.4444444444444444,\"#bd3786\"],[0.5555555555555556,\"#d8576b\"],[0.6666666666666666,\"#ed7953\"],[0.7777777777777778,\"#fb9f3a\"],[0.8888888888888888,\"#fdca26\"],[1.0,\"#f0f921\"]]},\"colorway\":[\"#636efa\",\"#EF553B\",\"#00cc96\",\"#ab63fa\",\"#FFA15A\",\"#19d3f3\",\"#FF6692\",\"#B6E880\",\"#FF97FF\",\"#FECB52\"],\"font\":{\"color\":\"#2a3f5f\"},\"geo\":{\"bgcolor\":\"white\",\"lakecolor\":\"white\",\"landcolor\":\"#E5ECF6\",\"showlakes\":true,\"showland\":true,\"subunitcolor\":\"white\"},\"hoverlabel\":{\"align\":\"left\"},\"hovermode\":\"closest\",\"mapbox\":{\"style\":\"light\"},\"paper_bgcolor\":\"white\",\"plot_bgcolor\":\"#E5ECF6\",\"polar\":{\"angularaxis\":{\"gridcolor\":\"white\",\"linecolor\":\"white\",\"ticks\":\"\"},\"bgcolor\":\"#E5ECF6\",\"radialaxis\":{\"gridcolor\":\"white\",\"linecolor\":\"white\",\"ticks\":\"\"}},\"scene\":{\"xaxis\":{\"backgroundcolor\":\"#E5ECF6\",\"gridcolor\":\"white\",\"gridwidth\":2,\"linecolor\":\"white\",\"showbackground\":true,\"ticks\":\"\",\"zerolinecolor\":\"white\"},\"yaxis\":{\"backgroundcolor\":\"#E5ECF6\",\"gridcolor\":\"white\",\"gridwidth\":2,\"linecolor\":\"white\",\"showbackground\":true,\"ticks\":\"\",\"zerolinecolor\":\"white\"},\"zaxis\":{\"backgroundcolor\":\"#E5ECF6\",\"gridcolor\":\"white\",\"gridwidth\":2,\"linecolor\":\"white\",\"showbackground\":true,\"ticks\":\"\",\"zerolinecolor\":\"white\"}},\"shapedefaults\":{\"line\":{\"color\":\"#2a3f5f\"}},\"ternary\":{\"aaxis\":{\"gridcolor\":\"white\",\"linecolor\":\"white\",\"ticks\":\"\"},\"baxis\":{\"gridcolor\":\"white\",\"linecolor\":\"white\",\"ticks\":\"\"},\"bgcolor\":\"#E5ECF6\",\"caxis\":{\"gridcolor\":\"white\",\"linecolor\":\"white\",\"ticks\":\"\"}},\"title\":{\"x\":0.05},\"xaxis\":{\"automargin\":true,\"gridcolor\":\"white\",\"linecolor\":\"white\",\"ticks\":\"\",\"title\":{\"standoff\":15},\"zerolinecolor\":\"white\",\"zerolinewidth\":2},\"yaxis\":{\"automargin\":true,\"gridcolor\":\"white\",\"linecolor\":\"white\",\"ticks\":\"\",\"title\":{\"standoff\":15},\"zerolinecolor\":\"white\",\"zerolinewidth\":2}}},\"title\":{\"text\":\"Measured Tide Readings for ʔagayqsεn\"},\"xaxis\":{\"anchor\":\"y\",\"domain\":[0.0,1.0],\"title\":{\"text\":\"Time (Hours)\"}},\"yaxis\":{\"anchor\":\"x\",\"domain\":[0.0,1.0],\"title\":{\"text\":\"Tide Level (Meters Above Sea Level)\"}}},                        {\"responsive\": true}                    ).then(function(){\n",
       "                            \n",
       "var gd = document.getElementById('2f13bce8-681b-45e3-ae9d-ff72a934be0d');\n",
       "var x = new MutationObserver(function (mutations, observer) {{\n",
       "        var display = window.getComputedStyle(gd).display;\n",
       "        if (!display || display === 'none') {{\n",
       "            console.log([gd, 'removed!']);\n",
       "            Plotly.purge(gd);\n",
       "            observer.disconnect();\n",
       "        }}\n",
       "}});\n",
       "\n",
       "// Listen for the removal of the full notebook cells\n",
       "var notebookContainer = gd.closest('#notebook-container');\n",
       "if (notebookContainer) {{\n",
       "    x.observe(notebookContainer, {childList: true});\n",
       "}}\n",
       "\n",
       "// Listen for the clearing of the current output cell\n",
       "var outputEl = gd.closest('.output');\n",
       "if (outputEl) {{\n",
       "    x.observe(outputEl, {childList: true});\n",
       "}}\n",
       "\n",
       "                        })                };                });            </script>        </div>"
      ]
     },
     "metadata": {},
     "output_type": "display_data"
    }
   ],
   "source": [
    "create_tide_plot_grade6().show()"
   ]
  },
  {
   "cell_type": "markdown",
   "metadata": {},
   "source": [
    "On the x-axis you can see how high was the tide during the day. On the x-axis you can see the time of day (24 hour format), use the table below to help you convert it if you are not familiar with 24 hour format:\n",
    "\n",
    "|<b>Time in 24 hour format</b>|<b>Time in 12 hour format</b>||<b>Time in 24 hour format</b>|<b>Time in 12 hour format</b>|\n",
    "|-|-|-|-|-|\n",
    "|0:00|12:00 AM| |12:00|12:00 PM| \n",
    "|1:00|1:00 AM| |13:00 | 1:00 PM |\n",
    "|2:00|2:00 AM| |14:00| 2:00 PM|\n",
    "|3:00|3:00 AM| | 15:00| 3:00 PM |\n",
    "|4:00|4:00 AM| | 16:00| 4:00 PM |\n",
    "|5:00|5:00 AM| | 17:00| 5:00 PM|\n",
    "|6:00|6:00 AM| | 18:00| 6:00 PM|\n",
    "|7:00|7:00 AM| | 19:00| 7:00 PM|\n",
    "|8:00|8:00 AM| | 20:00| 8:00 PM|\n",
    "|9:00|9:00 AM| | 21:00| 9:00 PM|\n",
    "|10:00|10:00 AM| | 22:00| 10:00 PM|\n",
    "|11:00|11:00 AM| | 23:00| 11:00 PM |\n"
   ]
  },
  {
   "cell_type": "markdown",
   "metadata": {},
   "source": [
    "How did the tide behave during the last month?\n",
    "\n",
    "Run the cell below to generate a chart with real tide data for Powell River. \n",
    "\n",
    "Data source: https://www.waterlevels.gc.ca/eng/data/table/2021/wlev_sec/7880"
   ]
  },
  {
   "cell_type": "code",
   "execution_count": 9,
   "metadata": {},
   "outputs": [
    {
     "data": {
      "application/vnd.plotly.v1+json": {
       "config": {
        "plotlyServerURL": "https://plot.ly"
       },
       "data": [
        {
         "hovertemplate": "Date=%{x}<br>Height_m=%{y}<extra></extra>",
         "legendgroup": "",
         "line": {
          "color": "#636efa",
          "dash": "solid",
          "shape": "spline"
         },
         "marker": {
          "symbol": "circle"
         },
         "mode": "lines",
         "name": "",
         "orientation": "v",
         "showlegend": false,
         "type": "scatter",
         "x": [
          "2021-11-10 03:15:00",
          "2021-11-10 11:06:00",
          "2021-11-10 17:08:00",
          "2021-11-10 20:37:00",
          "2021-11-11 04:13:00",
          "2021-11-11 12:06:00",
          "2021-11-11 18:43:00",
          "2021-11-11 22:14:00",
          "2021-11-12 05:19:00",
          "2021-11-12 13:00:00",
          "2021-11-12 19:50:00",
          "2021-11-13 00:12:00",
          "2021-11-13 06:29:00",
          "2021-11-13 13:46:00",
          "2021-11-13 20:37:00",
          "2021-11-14 01:53:00",
          "2021-11-14 07:38:00",
          "2021-11-14 14:23:00",
          "2021-11-14 21:16:00",
          "2021-11-15 03:10:00",
          "2021-11-15 08:39:00",
          "2021-11-15 14:54:00",
          "2021-11-15 21:49:00",
          "2021-11-16 04:11:00",
          "2021-11-16 09:32:00",
          "2021-11-16 15:21:00",
          "2021-11-16 22:20:00",
          "2021-11-17 05:02:00",
          "2021-11-17 10:19:00",
          "2021-11-17 15:44:00",
          "2021-11-17 22:49:00",
          "2021-11-18 05:48:00",
          "2021-11-18 11:02:00",
          "2021-11-18 16:05:00",
          "2021-11-18 23:18:00",
          "2021-11-19 06:29:00",
          "2021-11-19 11:42:00",
          "2021-11-19 16:26:00",
          "2021-11-19 23:47:00",
          "2021-11-20 07:08:00",
          "2021-11-20 12:22:00",
          "2021-11-20 16:46:00",
          "2021-11-21 00:17:00",
          "2021-11-21 07:47:00",
          "2021-11-21 13:03:00",
          "2021-11-21 17:09:00",
          "2021-11-22 00:48:00",
          "2021-11-22 08:26:00",
          "2021-11-22 13:48:00",
          "2021-11-22 17:33:00",
          "2021-11-23 01:21:00",
          "2021-11-23 09:08:00",
          "2021-11-23 14:40:00",
          "2021-11-23 18:00:00",
          "2021-11-24 01:57:00",
          "2021-11-24 09:52:00",
          "2021-11-24 15:44:00",
          "2021-11-24 18:32:00",
          "2021-11-25 02:37:00",
          "2021-11-25 10:38:00",
          "2021-11-25 17:03:00",
          "2021-11-25 19:20:00",
          "2021-11-26 03:22:00",
          "2021-11-26 11:23:00",
          "2021-11-26 18:19:00",
          "2021-11-26 20:51:00",
          "2021-11-27 04:14:00",
          "2021-11-27 12:05:00",
          "2021-11-27 19:08:00",
          "2021-11-27 22:47:00",
          "2021-11-28 05:13:00",
          "2021-11-28 12:42:00",
          "2021-11-28 19:46:00",
          "2021-11-29 00:37:00",
          "2021-11-29 06:19:00",
          "2021-11-29 13:16:00",
          "2021-11-29 20:22:00",
          "2021-11-30 02:07:00",
          "2021-11-30 07:26:00",
          "2021-11-30 13:48:00",
          "2021-11-30 20:59:00",
          "2021-12-01 03:19:00",
          "2021-12-01 08:29:00",
          "2021-12-01 14:20:00",
          "2021-12-01 21:38:00",
          "2021-12-02 04:22:00",
          "2021-12-02 09:27:00",
          "2021-12-02 14:54:00",
          "2021-12-02 22:19:00",
          "2021-12-03 05:20:00",
          "2021-12-03 10:23:00",
          "2021-12-03 15:30:00",
          "2021-12-03 23:01:00",
          "2021-12-04 06:15:00",
          "2021-12-04 11:19:00",
          "2021-12-04 16:09:00",
          "2021-12-04 23:45:00",
          "2021-12-05 07:08:00",
          "2021-12-05 12:15:00",
          "2021-12-05 16:52:00",
          "2021-12-06 00:30:00",
          "2021-12-06 08:00:00",
          "2021-12-06 13:15:00",
          "2021-12-06 17:38:00",
          "2021-12-07 01:17:00",
          "2021-12-07 08:51:00",
          "2021-12-07 14:20:00",
          "2021-12-07 18:29:00",
          "2021-12-08 02:04:00",
          "2021-12-08 09:42:00",
          "2021-12-08 15:32:00",
          "2021-12-08 19:28:00",
          "2021-12-09 02:53:00",
          "2021-12-09 10:32:00",
          "2021-12-09 16:51:00",
          "2021-12-09 20:42:00"
         ],
         "xaxis": "x",
         "y": [
          0.8,
          5.1,
          3.6,
          3.9,
          1.2,
          5,
          3.3,
          3.6,
          1.6,
          5,
          3,
          3.5,
          2,
          4.9,
          2.6,
          3.6,
          2.3,
          4.9,
          2.2,
          3.9,
          2.6,
          4.8,
          1.8,
          4.2,
          2.8,
          4.7,
          1.5,
          4.4,
          3.1,
          4.6,
          1.3,
          4.6,
          3.3,
          4.5,
          1.1,
          4.7,
          3.5,
          4.5,
          1,
          4.8,
          3.7,
          4.4,
          0.9,
          4.9,
          3.8,
          4.3,
          1,
          4.9,
          3.8,
          4.2,
          1,
          4.9,
          3.9,
          4.1,
          1.2,
          4.9,
          3.8,
          4,
          1.3,
          4.8,
          3.7,
          3.8,
          1.5,
          4.8,
          3.5,
          3.5,
          1.8,
          4.8,
          3.1,
          3.4,
          2.1,
          4.9,
          2.7,
          3.5,
          2.4,
          4.9,
          2.2,
          3.8,
          2.7,
          4.9,
          1.7,
          4.1,
          3,
          5,
          1.2,
          4.5,
          3.3,
          5,
          0.7,
          4.8,
          3.5,
          5,
          0.3,
          5.1,
          3.7,
          5,
          0.1,
          5.2,
          3.8,
          4.9,
          0,
          5.3,
          3.8,
          4.8,
          0.2,
          5.4,
          3.8,
          4.5,
          0.4,
          5.3,
          3.6,
          4.2,
          0.8,
          5.3,
          3.4,
          3.8
         ],
         "yaxis": "y"
        }
       ],
       "layout": {
        "legend": {
         "tracegroupgap": 0
        },
        "margin": {
         "t": 60
        },
        "template": {
         "data": {
          "bar": [
           {
            "error_x": {
             "color": "#2a3f5f"
            },
            "error_y": {
             "color": "#2a3f5f"
            },
            "marker": {
             "line": {
              "color": "#E5ECF6",
              "width": 0.5
             },
             "pattern": {
              "fillmode": "overlay",
              "size": 10,
              "solidity": 0.2
             }
            },
            "type": "bar"
           }
          ],
          "barpolar": [
           {
            "marker": {
             "line": {
              "color": "#E5ECF6",
              "width": 0.5
             },
             "pattern": {
              "fillmode": "overlay",
              "size": 10,
              "solidity": 0.2
             }
            },
            "type": "barpolar"
           }
          ],
          "carpet": [
           {
            "aaxis": {
             "endlinecolor": "#2a3f5f",
             "gridcolor": "white",
             "linecolor": "white",
             "minorgridcolor": "white",
             "startlinecolor": "#2a3f5f"
            },
            "baxis": {
             "endlinecolor": "#2a3f5f",
             "gridcolor": "white",
             "linecolor": "white",
             "minorgridcolor": "white",
             "startlinecolor": "#2a3f5f"
            },
            "type": "carpet"
           }
          ],
          "choropleth": [
           {
            "colorbar": {
             "outlinewidth": 0,
             "ticks": ""
            },
            "type": "choropleth"
           }
          ],
          "contour": [
           {
            "colorbar": {
             "outlinewidth": 0,
             "ticks": ""
            },
            "colorscale": [
             [
              0,
              "#0d0887"
             ],
             [
              0.1111111111111111,
              "#46039f"
             ],
             [
              0.2222222222222222,
              "#7201a8"
             ],
             [
              0.3333333333333333,
              "#9c179e"
             ],
             [
              0.4444444444444444,
              "#bd3786"
             ],
             [
              0.5555555555555556,
              "#d8576b"
             ],
             [
              0.6666666666666666,
              "#ed7953"
             ],
             [
              0.7777777777777778,
              "#fb9f3a"
             ],
             [
              0.8888888888888888,
              "#fdca26"
             ],
             [
              1,
              "#f0f921"
             ]
            ],
            "type": "contour"
           }
          ],
          "contourcarpet": [
           {
            "colorbar": {
             "outlinewidth": 0,
             "ticks": ""
            },
            "type": "contourcarpet"
           }
          ],
          "heatmap": [
           {
            "colorbar": {
             "outlinewidth": 0,
             "ticks": ""
            },
            "colorscale": [
             [
              0,
              "#0d0887"
             ],
             [
              0.1111111111111111,
              "#46039f"
             ],
             [
              0.2222222222222222,
              "#7201a8"
             ],
             [
              0.3333333333333333,
              "#9c179e"
             ],
             [
              0.4444444444444444,
              "#bd3786"
             ],
             [
              0.5555555555555556,
              "#d8576b"
             ],
             [
              0.6666666666666666,
              "#ed7953"
             ],
             [
              0.7777777777777778,
              "#fb9f3a"
             ],
             [
              0.8888888888888888,
              "#fdca26"
             ],
             [
              1,
              "#f0f921"
             ]
            ],
            "type": "heatmap"
           }
          ],
          "heatmapgl": [
           {
            "colorbar": {
             "outlinewidth": 0,
             "ticks": ""
            },
            "colorscale": [
             [
              0,
              "#0d0887"
             ],
             [
              0.1111111111111111,
              "#46039f"
             ],
             [
              0.2222222222222222,
              "#7201a8"
             ],
             [
              0.3333333333333333,
              "#9c179e"
             ],
             [
              0.4444444444444444,
              "#bd3786"
             ],
             [
              0.5555555555555556,
              "#d8576b"
             ],
             [
              0.6666666666666666,
              "#ed7953"
             ],
             [
              0.7777777777777778,
              "#fb9f3a"
             ],
             [
              0.8888888888888888,
              "#fdca26"
             ],
             [
              1,
              "#f0f921"
             ]
            ],
            "type": "heatmapgl"
           }
          ],
          "histogram": [
           {
            "marker": {
             "pattern": {
              "fillmode": "overlay",
              "size": 10,
              "solidity": 0.2
             }
            },
            "type": "histogram"
           }
          ],
          "histogram2d": [
           {
            "colorbar": {
             "outlinewidth": 0,
             "ticks": ""
            },
            "colorscale": [
             [
              0,
              "#0d0887"
             ],
             [
              0.1111111111111111,
              "#46039f"
             ],
             [
              0.2222222222222222,
              "#7201a8"
             ],
             [
              0.3333333333333333,
              "#9c179e"
             ],
             [
              0.4444444444444444,
              "#bd3786"
             ],
             [
              0.5555555555555556,
              "#d8576b"
             ],
             [
              0.6666666666666666,
              "#ed7953"
             ],
             [
              0.7777777777777778,
              "#fb9f3a"
             ],
             [
              0.8888888888888888,
              "#fdca26"
             ],
             [
              1,
              "#f0f921"
             ]
            ],
            "type": "histogram2d"
           }
          ],
          "histogram2dcontour": [
           {
            "colorbar": {
             "outlinewidth": 0,
             "ticks": ""
            },
            "colorscale": [
             [
              0,
              "#0d0887"
             ],
             [
              0.1111111111111111,
              "#46039f"
             ],
             [
              0.2222222222222222,
              "#7201a8"
             ],
             [
              0.3333333333333333,
              "#9c179e"
             ],
             [
              0.4444444444444444,
              "#bd3786"
             ],
             [
              0.5555555555555556,
              "#d8576b"
             ],
             [
              0.6666666666666666,
              "#ed7953"
             ],
             [
              0.7777777777777778,
              "#fb9f3a"
             ],
             [
              0.8888888888888888,
              "#fdca26"
             ],
             [
              1,
              "#f0f921"
             ]
            ],
            "type": "histogram2dcontour"
           }
          ],
          "mesh3d": [
           {
            "colorbar": {
             "outlinewidth": 0,
             "ticks": ""
            },
            "type": "mesh3d"
           }
          ],
          "parcoords": [
           {
            "line": {
             "colorbar": {
              "outlinewidth": 0,
              "ticks": ""
             }
            },
            "type": "parcoords"
           }
          ],
          "pie": [
           {
            "automargin": true,
            "type": "pie"
           }
          ],
          "scatter": [
           {
            "marker": {
             "colorbar": {
              "outlinewidth": 0,
              "ticks": ""
             }
            },
            "type": "scatter"
           }
          ],
          "scatter3d": [
           {
            "line": {
             "colorbar": {
              "outlinewidth": 0,
              "ticks": ""
             }
            },
            "marker": {
             "colorbar": {
              "outlinewidth": 0,
              "ticks": ""
             }
            },
            "type": "scatter3d"
           }
          ],
          "scattercarpet": [
           {
            "marker": {
             "colorbar": {
              "outlinewidth": 0,
              "ticks": ""
             }
            },
            "type": "scattercarpet"
           }
          ],
          "scattergeo": [
           {
            "marker": {
             "colorbar": {
              "outlinewidth": 0,
              "ticks": ""
             }
            },
            "type": "scattergeo"
           }
          ],
          "scattergl": [
           {
            "marker": {
             "colorbar": {
              "outlinewidth": 0,
              "ticks": ""
             }
            },
            "type": "scattergl"
           }
          ],
          "scattermapbox": [
           {
            "marker": {
             "colorbar": {
              "outlinewidth": 0,
              "ticks": ""
             }
            },
            "type": "scattermapbox"
           }
          ],
          "scatterpolar": [
           {
            "marker": {
             "colorbar": {
              "outlinewidth": 0,
              "ticks": ""
             }
            },
            "type": "scatterpolar"
           }
          ],
          "scatterpolargl": [
           {
            "marker": {
             "colorbar": {
              "outlinewidth": 0,
              "ticks": ""
             }
            },
            "type": "scatterpolargl"
           }
          ],
          "scatterternary": [
           {
            "marker": {
             "colorbar": {
              "outlinewidth": 0,
              "ticks": ""
             }
            },
            "type": "scatterternary"
           }
          ],
          "surface": [
           {
            "colorbar": {
             "outlinewidth": 0,
             "ticks": ""
            },
            "colorscale": [
             [
              0,
              "#0d0887"
             ],
             [
              0.1111111111111111,
              "#46039f"
             ],
             [
              0.2222222222222222,
              "#7201a8"
             ],
             [
              0.3333333333333333,
              "#9c179e"
             ],
             [
              0.4444444444444444,
              "#bd3786"
             ],
             [
              0.5555555555555556,
              "#d8576b"
             ],
             [
              0.6666666666666666,
              "#ed7953"
             ],
             [
              0.7777777777777778,
              "#fb9f3a"
             ],
             [
              0.8888888888888888,
              "#fdca26"
             ],
             [
              1,
              "#f0f921"
             ]
            ],
            "type": "surface"
           }
          ],
          "table": [
           {
            "cells": {
             "fill": {
              "color": "#EBF0F8"
             },
             "line": {
              "color": "white"
             }
            },
            "header": {
             "fill": {
              "color": "#C8D4E3"
             },
             "line": {
              "color": "white"
             }
            },
            "type": "table"
           }
          ]
         },
         "layout": {
          "annotationdefaults": {
           "arrowcolor": "#2a3f5f",
           "arrowhead": 0,
           "arrowwidth": 1
          },
          "autotypenumbers": "strict",
          "coloraxis": {
           "colorbar": {
            "outlinewidth": 0,
            "ticks": ""
           }
          },
          "colorscale": {
           "diverging": [
            [
             0,
             "#8e0152"
            ],
            [
             0.1,
             "#c51b7d"
            ],
            [
             0.2,
             "#de77ae"
            ],
            [
             0.3,
             "#f1b6da"
            ],
            [
             0.4,
             "#fde0ef"
            ],
            [
             0.5,
             "#f7f7f7"
            ],
            [
             0.6,
             "#e6f5d0"
            ],
            [
             0.7,
             "#b8e186"
            ],
            [
             0.8,
             "#7fbc41"
            ],
            [
             0.9,
             "#4d9221"
            ],
            [
             1,
             "#276419"
            ]
           ],
           "sequential": [
            [
             0,
             "#0d0887"
            ],
            [
             0.1111111111111111,
             "#46039f"
            ],
            [
             0.2222222222222222,
             "#7201a8"
            ],
            [
             0.3333333333333333,
             "#9c179e"
            ],
            [
             0.4444444444444444,
             "#bd3786"
            ],
            [
             0.5555555555555556,
             "#d8576b"
            ],
            [
             0.6666666666666666,
             "#ed7953"
            ],
            [
             0.7777777777777778,
             "#fb9f3a"
            ],
            [
             0.8888888888888888,
             "#fdca26"
            ],
            [
             1,
             "#f0f921"
            ]
           ],
           "sequentialminus": [
            [
             0,
             "#0d0887"
            ],
            [
             0.1111111111111111,
             "#46039f"
            ],
            [
             0.2222222222222222,
             "#7201a8"
            ],
            [
             0.3333333333333333,
             "#9c179e"
            ],
            [
             0.4444444444444444,
             "#bd3786"
            ],
            [
             0.5555555555555556,
             "#d8576b"
            ],
            [
             0.6666666666666666,
             "#ed7953"
            ],
            [
             0.7777777777777778,
             "#fb9f3a"
            ],
            [
             0.8888888888888888,
             "#fdca26"
            ],
            [
             1,
             "#f0f921"
            ]
           ]
          },
          "colorway": [
           "#636efa",
           "#EF553B",
           "#00cc96",
           "#ab63fa",
           "#FFA15A",
           "#19d3f3",
           "#FF6692",
           "#B6E880",
           "#FF97FF",
           "#FECB52"
          ],
          "font": {
           "color": "#2a3f5f"
          },
          "geo": {
           "bgcolor": "white",
           "lakecolor": "white",
           "landcolor": "#E5ECF6",
           "showlakes": true,
           "showland": true,
           "subunitcolor": "white"
          },
          "hoverlabel": {
           "align": "left"
          },
          "hovermode": "closest",
          "mapbox": {
           "style": "light"
          },
          "paper_bgcolor": "white",
          "plot_bgcolor": "#E5ECF6",
          "polar": {
           "angularaxis": {
            "gridcolor": "white",
            "linecolor": "white",
            "ticks": ""
           },
           "bgcolor": "#E5ECF6",
           "radialaxis": {
            "gridcolor": "white",
            "linecolor": "white",
            "ticks": ""
           }
          },
          "scene": {
           "xaxis": {
            "backgroundcolor": "#E5ECF6",
            "gridcolor": "white",
            "gridwidth": 2,
            "linecolor": "white",
            "showbackground": true,
            "ticks": "",
            "zerolinecolor": "white"
           },
           "yaxis": {
            "backgroundcolor": "#E5ECF6",
            "gridcolor": "white",
            "gridwidth": 2,
            "linecolor": "white",
            "showbackground": true,
            "ticks": "",
            "zerolinecolor": "white"
           },
           "zaxis": {
            "backgroundcolor": "#E5ECF6",
            "gridcolor": "white",
            "gridwidth": 2,
            "linecolor": "white",
            "showbackground": true,
            "ticks": "",
            "zerolinecolor": "white"
           }
          },
          "shapedefaults": {
           "line": {
            "color": "#2a3f5f"
           }
          },
          "ternary": {
           "aaxis": {
            "gridcolor": "white",
            "linecolor": "white",
            "ticks": ""
           },
           "baxis": {
            "gridcolor": "white",
            "linecolor": "white",
            "ticks": ""
           },
           "bgcolor": "#E5ECF6",
           "caxis": {
            "gridcolor": "white",
            "linecolor": "white",
            "ticks": ""
           }
          },
          "title": {
           "x": 0.05
          },
          "xaxis": {
           "automargin": true,
           "gridcolor": "white",
           "linecolor": "white",
           "ticks": "",
           "title": {
            "standoff": 15
           },
           "zerolinecolor": "white",
           "zerolinewidth": 2
          },
          "yaxis": {
           "automargin": true,
           "gridcolor": "white",
           "linecolor": "white",
           "ticks": "",
           "title": {
            "standoff": 15
           },
           "zerolinecolor": "white",
           "zerolinewidth": 2
          }
         }
        },
        "title": {
         "text": "Measured Tide Readings for ʔagayqsεn"
        },
        "xaxis": {
         "anchor": "y",
         "domain": [
          0,
          1
         ],
         "title": {
          "text": "Time (Days Since Start)"
         }
        },
        "yaxis": {
         "anchor": "x",
         "domain": [
          0,
          1
         ],
         "title": {
          "text": "Tide Level (Meters Above Sea Level)"
         }
        }
       }
      },
      "text/html": [
       "<div>                            <div id=\"745db468-080b-4081-bf90-2ec233531705\" class=\"plotly-graph-div\" style=\"height:525px; width:100%;\"></div>            <script type=\"text/javascript\">                require([\"plotly\"], function(Plotly) {                    window.PLOTLYENV=window.PLOTLYENV || {};                                    if (document.getElementById(\"745db468-080b-4081-bf90-2ec233531705\")) {                    Plotly.newPlot(                        \"745db468-080b-4081-bf90-2ec233531705\",                        [{\"hovertemplate\":\"Date=%{x}<br>Height_m=%{y}<extra></extra>\",\"legendgroup\":\"\",\"line\":{\"color\":\"#636efa\",\"dash\":\"solid\",\"shape\":\"spline\"},\"marker\":{\"symbol\":\"circle\"},\"mode\":\"lines\",\"name\":\"\",\"orientation\":\"v\",\"showlegend\":false,\"type\":\"scatter\",\"x\":[\"2021-11-10 03:15:00\",\"2021-11-10 11:06:00\",\"2021-11-10 17:08:00\",\"2021-11-10 20:37:00\",\"2021-11-11 04:13:00\",\"2021-11-11 12:06:00\",\"2021-11-11 18:43:00\",\"2021-11-11 22:14:00\",\"2021-11-12 05:19:00\",\"2021-11-12 13:00:00\",\"2021-11-12 19:50:00\",\"2021-11-13 00:12:00\",\"2021-11-13 06:29:00\",\"2021-11-13 13:46:00\",\"2021-11-13 20:37:00\",\"2021-11-14 01:53:00\",\"2021-11-14 07:38:00\",\"2021-11-14 14:23:00\",\"2021-11-14 21:16:00\",\"2021-11-15 03:10:00\",\"2021-11-15 08:39:00\",\"2021-11-15 14:54:00\",\"2021-11-15 21:49:00\",\"2021-11-16 04:11:00\",\"2021-11-16 09:32:00\",\"2021-11-16 15:21:00\",\"2021-11-16 22:20:00\",\"2021-11-17 05:02:00\",\"2021-11-17 10:19:00\",\"2021-11-17 15:44:00\",\"2021-11-17 22:49:00\",\"2021-11-18 05:48:00\",\"2021-11-18 11:02:00\",\"2021-11-18 16:05:00\",\"2021-11-18 23:18:00\",\"2021-11-19 06:29:00\",\"2021-11-19 11:42:00\",\"2021-11-19 16:26:00\",\"2021-11-19 23:47:00\",\"2021-11-20 07:08:00\",\"2021-11-20 12:22:00\",\"2021-11-20 16:46:00\",\"2021-11-21 00:17:00\",\"2021-11-21 07:47:00\",\"2021-11-21 13:03:00\",\"2021-11-21 17:09:00\",\"2021-11-22 00:48:00\",\"2021-11-22 08:26:00\",\"2021-11-22 13:48:00\",\"2021-11-22 17:33:00\",\"2021-11-23 01:21:00\",\"2021-11-23 09:08:00\",\"2021-11-23 14:40:00\",\"2021-11-23 18:00:00\",\"2021-11-24 01:57:00\",\"2021-11-24 09:52:00\",\"2021-11-24 15:44:00\",\"2021-11-24 18:32:00\",\"2021-11-25 02:37:00\",\"2021-11-25 10:38:00\",\"2021-11-25 17:03:00\",\"2021-11-25 19:20:00\",\"2021-11-26 03:22:00\",\"2021-11-26 11:23:00\",\"2021-11-26 18:19:00\",\"2021-11-26 20:51:00\",\"2021-11-27 04:14:00\",\"2021-11-27 12:05:00\",\"2021-11-27 19:08:00\",\"2021-11-27 22:47:00\",\"2021-11-28 05:13:00\",\"2021-11-28 12:42:00\",\"2021-11-28 19:46:00\",\"2021-11-29 00:37:00\",\"2021-11-29 06:19:00\",\"2021-11-29 13:16:00\",\"2021-11-29 20:22:00\",\"2021-11-30 02:07:00\",\"2021-11-30 07:26:00\",\"2021-11-30 13:48:00\",\"2021-11-30 20:59:00\",\"2021-12-01 03:19:00\",\"2021-12-01 08:29:00\",\"2021-12-01 14:20:00\",\"2021-12-01 21:38:00\",\"2021-12-02 04:22:00\",\"2021-12-02 09:27:00\",\"2021-12-02 14:54:00\",\"2021-12-02 22:19:00\",\"2021-12-03 05:20:00\",\"2021-12-03 10:23:00\",\"2021-12-03 15:30:00\",\"2021-12-03 23:01:00\",\"2021-12-04 06:15:00\",\"2021-12-04 11:19:00\",\"2021-12-04 16:09:00\",\"2021-12-04 23:45:00\",\"2021-12-05 07:08:00\",\"2021-12-05 12:15:00\",\"2021-12-05 16:52:00\",\"2021-12-06 00:30:00\",\"2021-12-06 08:00:00\",\"2021-12-06 13:15:00\",\"2021-12-06 17:38:00\",\"2021-12-07 01:17:00\",\"2021-12-07 08:51:00\",\"2021-12-07 14:20:00\",\"2021-12-07 18:29:00\",\"2021-12-08 02:04:00\",\"2021-12-08 09:42:00\",\"2021-12-08 15:32:00\",\"2021-12-08 19:28:00\",\"2021-12-09 02:53:00\",\"2021-12-09 10:32:00\",\"2021-12-09 16:51:00\",\"2021-12-09 20:42:00\"],\"xaxis\":\"x\",\"y\":[0.8,5.1,3.6,3.9,1.2,5.0,3.3,3.6,1.6,5.0,3.0,3.5,2.0,4.9,2.6,3.6,2.3,4.9,2.2,3.9,2.6,4.8,1.8,4.2,2.8,4.7,1.5,4.4,3.1,4.6,1.3,4.6,3.3,4.5,1.1,4.7,3.5,4.5,1.0,4.8,3.7,4.4,0.9,4.9,3.8,4.3,1.0,4.9,3.8,4.2,1.0,4.9,3.9,4.1,1.2,4.9,3.8,4.0,1.3,4.8,3.7,3.8,1.5,4.8,3.5,3.5,1.8,4.8,3.1,3.4,2.1,4.9,2.7,3.5,2.4,4.9,2.2,3.8,2.7,4.9,1.7,4.1,3.0,5.0,1.2,4.5,3.3,5.0,0.7,4.8,3.5,5.0,0.3,5.1,3.7,5.0,0.1,5.2,3.8,4.9,0.0,5.3,3.8,4.8,0.2,5.4,3.8,4.5,0.4,5.3,3.6,4.2,0.8,5.3,3.4,3.8],\"yaxis\":\"y\"}],                        {\"legend\":{\"tracegroupgap\":0},\"margin\":{\"t\":60},\"template\":{\"data\":{\"bar\":[{\"error_x\":{\"color\":\"#2a3f5f\"},\"error_y\":{\"color\":\"#2a3f5f\"},\"marker\":{\"line\":{\"color\":\"#E5ECF6\",\"width\":0.5},\"pattern\":{\"fillmode\":\"overlay\",\"size\":10,\"solidity\":0.2}},\"type\":\"bar\"}],\"barpolar\":[{\"marker\":{\"line\":{\"color\":\"#E5ECF6\",\"width\":0.5},\"pattern\":{\"fillmode\":\"overlay\",\"size\":10,\"solidity\":0.2}},\"type\":\"barpolar\"}],\"carpet\":[{\"aaxis\":{\"endlinecolor\":\"#2a3f5f\",\"gridcolor\":\"white\",\"linecolor\":\"white\",\"minorgridcolor\":\"white\",\"startlinecolor\":\"#2a3f5f\"},\"baxis\":{\"endlinecolor\":\"#2a3f5f\",\"gridcolor\":\"white\",\"linecolor\":\"white\",\"minorgridcolor\":\"white\",\"startlinecolor\":\"#2a3f5f\"},\"type\":\"carpet\"}],\"choropleth\":[{\"colorbar\":{\"outlinewidth\":0,\"ticks\":\"\"},\"type\":\"choropleth\"}],\"contour\":[{\"colorbar\":{\"outlinewidth\":0,\"ticks\":\"\"},\"colorscale\":[[0.0,\"#0d0887\"],[0.1111111111111111,\"#46039f\"],[0.2222222222222222,\"#7201a8\"],[0.3333333333333333,\"#9c179e\"],[0.4444444444444444,\"#bd3786\"],[0.5555555555555556,\"#d8576b\"],[0.6666666666666666,\"#ed7953\"],[0.7777777777777778,\"#fb9f3a\"],[0.8888888888888888,\"#fdca26\"],[1.0,\"#f0f921\"]],\"type\":\"contour\"}],\"contourcarpet\":[{\"colorbar\":{\"outlinewidth\":0,\"ticks\":\"\"},\"type\":\"contourcarpet\"}],\"heatmap\":[{\"colorbar\":{\"outlinewidth\":0,\"ticks\":\"\"},\"colorscale\":[[0.0,\"#0d0887\"],[0.1111111111111111,\"#46039f\"],[0.2222222222222222,\"#7201a8\"],[0.3333333333333333,\"#9c179e\"],[0.4444444444444444,\"#bd3786\"],[0.5555555555555556,\"#d8576b\"],[0.6666666666666666,\"#ed7953\"],[0.7777777777777778,\"#fb9f3a\"],[0.8888888888888888,\"#fdca26\"],[1.0,\"#f0f921\"]],\"type\":\"heatmap\"}],\"heatmapgl\":[{\"colorbar\":{\"outlinewidth\":0,\"ticks\":\"\"},\"colorscale\":[[0.0,\"#0d0887\"],[0.1111111111111111,\"#46039f\"],[0.2222222222222222,\"#7201a8\"],[0.3333333333333333,\"#9c179e\"],[0.4444444444444444,\"#bd3786\"],[0.5555555555555556,\"#d8576b\"],[0.6666666666666666,\"#ed7953\"],[0.7777777777777778,\"#fb9f3a\"],[0.8888888888888888,\"#fdca26\"],[1.0,\"#f0f921\"]],\"type\":\"heatmapgl\"}],\"histogram\":[{\"marker\":{\"pattern\":{\"fillmode\":\"overlay\",\"size\":10,\"solidity\":0.2}},\"type\":\"histogram\"}],\"histogram2d\":[{\"colorbar\":{\"outlinewidth\":0,\"ticks\":\"\"},\"colorscale\":[[0.0,\"#0d0887\"],[0.1111111111111111,\"#46039f\"],[0.2222222222222222,\"#7201a8\"],[0.3333333333333333,\"#9c179e\"],[0.4444444444444444,\"#bd3786\"],[0.5555555555555556,\"#d8576b\"],[0.6666666666666666,\"#ed7953\"],[0.7777777777777778,\"#fb9f3a\"],[0.8888888888888888,\"#fdca26\"],[1.0,\"#f0f921\"]],\"type\":\"histogram2d\"}],\"histogram2dcontour\":[{\"colorbar\":{\"outlinewidth\":0,\"ticks\":\"\"},\"colorscale\":[[0.0,\"#0d0887\"],[0.1111111111111111,\"#46039f\"],[0.2222222222222222,\"#7201a8\"],[0.3333333333333333,\"#9c179e\"],[0.4444444444444444,\"#bd3786\"],[0.5555555555555556,\"#d8576b\"],[0.6666666666666666,\"#ed7953\"],[0.7777777777777778,\"#fb9f3a\"],[0.8888888888888888,\"#fdca26\"],[1.0,\"#f0f921\"]],\"type\":\"histogram2dcontour\"}],\"mesh3d\":[{\"colorbar\":{\"outlinewidth\":0,\"ticks\":\"\"},\"type\":\"mesh3d\"}],\"parcoords\":[{\"line\":{\"colorbar\":{\"outlinewidth\":0,\"ticks\":\"\"}},\"type\":\"parcoords\"}],\"pie\":[{\"automargin\":true,\"type\":\"pie\"}],\"scatter\":[{\"marker\":{\"colorbar\":{\"outlinewidth\":0,\"ticks\":\"\"}},\"type\":\"scatter\"}],\"scatter3d\":[{\"line\":{\"colorbar\":{\"outlinewidth\":0,\"ticks\":\"\"}},\"marker\":{\"colorbar\":{\"outlinewidth\":0,\"ticks\":\"\"}},\"type\":\"scatter3d\"}],\"scattercarpet\":[{\"marker\":{\"colorbar\":{\"outlinewidth\":0,\"ticks\":\"\"}},\"type\":\"scattercarpet\"}],\"scattergeo\":[{\"marker\":{\"colorbar\":{\"outlinewidth\":0,\"ticks\":\"\"}},\"type\":\"scattergeo\"}],\"scattergl\":[{\"marker\":{\"colorbar\":{\"outlinewidth\":0,\"ticks\":\"\"}},\"type\":\"scattergl\"}],\"scattermapbox\":[{\"marker\":{\"colorbar\":{\"outlinewidth\":0,\"ticks\":\"\"}},\"type\":\"scattermapbox\"}],\"scatterpolar\":[{\"marker\":{\"colorbar\":{\"outlinewidth\":0,\"ticks\":\"\"}},\"type\":\"scatterpolar\"}],\"scatterpolargl\":[{\"marker\":{\"colorbar\":{\"outlinewidth\":0,\"ticks\":\"\"}},\"type\":\"scatterpolargl\"}],\"scatterternary\":[{\"marker\":{\"colorbar\":{\"outlinewidth\":0,\"ticks\":\"\"}},\"type\":\"scatterternary\"}],\"surface\":[{\"colorbar\":{\"outlinewidth\":0,\"ticks\":\"\"},\"colorscale\":[[0.0,\"#0d0887\"],[0.1111111111111111,\"#46039f\"],[0.2222222222222222,\"#7201a8\"],[0.3333333333333333,\"#9c179e\"],[0.4444444444444444,\"#bd3786\"],[0.5555555555555556,\"#d8576b\"],[0.6666666666666666,\"#ed7953\"],[0.7777777777777778,\"#fb9f3a\"],[0.8888888888888888,\"#fdca26\"],[1.0,\"#f0f921\"]],\"type\":\"surface\"}],\"table\":[{\"cells\":{\"fill\":{\"color\":\"#EBF0F8\"},\"line\":{\"color\":\"white\"}},\"header\":{\"fill\":{\"color\":\"#C8D4E3\"},\"line\":{\"color\":\"white\"}},\"type\":\"table\"}]},\"layout\":{\"annotationdefaults\":{\"arrowcolor\":\"#2a3f5f\",\"arrowhead\":0,\"arrowwidth\":1},\"autotypenumbers\":\"strict\",\"coloraxis\":{\"colorbar\":{\"outlinewidth\":0,\"ticks\":\"\"}},\"colorscale\":{\"diverging\":[[0,\"#8e0152\"],[0.1,\"#c51b7d\"],[0.2,\"#de77ae\"],[0.3,\"#f1b6da\"],[0.4,\"#fde0ef\"],[0.5,\"#f7f7f7\"],[0.6,\"#e6f5d0\"],[0.7,\"#b8e186\"],[0.8,\"#7fbc41\"],[0.9,\"#4d9221\"],[1,\"#276419\"]],\"sequential\":[[0.0,\"#0d0887\"],[0.1111111111111111,\"#46039f\"],[0.2222222222222222,\"#7201a8\"],[0.3333333333333333,\"#9c179e\"],[0.4444444444444444,\"#bd3786\"],[0.5555555555555556,\"#d8576b\"],[0.6666666666666666,\"#ed7953\"],[0.7777777777777778,\"#fb9f3a\"],[0.8888888888888888,\"#fdca26\"],[1.0,\"#f0f921\"]],\"sequentialminus\":[[0.0,\"#0d0887\"],[0.1111111111111111,\"#46039f\"],[0.2222222222222222,\"#7201a8\"],[0.3333333333333333,\"#9c179e\"],[0.4444444444444444,\"#bd3786\"],[0.5555555555555556,\"#d8576b\"],[0.6666666666666666,\"#ed7953\"],[0.7777777777777778,\"#fb9f3a\"],[0.8888888888888888,\"#fdca26\"],[1.0,\"#f0f921\"]]},\"colorway\":[\"#636efa\",\"#EF553B\",\"#00cc96\",\"#ab63fa\",\"#FFA15A\",\"#19d3f3\",\"#FF6692\",\"#B6E880\",\"#FF97FF\",\"#FECB52\"],\"font\":{\"color\":\"#2a3f5f\"},\"geo\":{\"bgcolor\":\"white\",\"lakecolor\":\"white\",\"landcolor\":\"#E5ECF6\",\"showlakes\":true,\"showland\":true,\"subunitcolor\":\"white\"},\"hoverlabel\":{\"align\":\"left\"},\"hovermode\":\"closest\",\"mapbox\":{\"style\":\"light\"},\"paper_bgcolor\":\"white\",\"plot_bgcolor\":\"#E5ECF6\",\"polar\":{\"angularaxis\":{\"gridcolor\":\"white\",\"linecolor\":\"white\",\"ticks\":\"\"},\"bgcolor\":\"#E5ECF6\",\"radialaxis\":{\"gridcolor\":\"white\",\"linecolor\":\"white\",\"ticks\":\"\"}},\"scene\":{\"xaxis\":{\"backgroundcolor\":\"#E5ECF6\",\"gridcolor\":\"white\",\"gridwidth\":2,\"linecolor\":\"white\",\"showbackground\":true,\"ticks\":\"\",\"zerolinecolor\":\"white\"},\"yaxis\":{\"backgroundcolor\":\"#E5ECF6\",\"gridcolor\":\"white\",\"gridwidth\":2,\"linecolor\":\"white\",\"showbackground\":true,\"ticks\":\"\",\"zerolinecolor\":\"white\"},\"zaxis\":{\"backgroundcolor\":\"#E5ECF6\",\"gridcolor\":\"white\",\"gridwidth\":2,\"linecolor\":\"white\",\"showbackground\":true,\"ticks\":\"\",\"zerolinecolor\":\"white\"}},\"shapedefaults\":{\"line\":{\"color\":\"#2a3f5f\"}},\"ternary\":{\"aaxis\":{\"gridcolor\":\"white\",\"linecolor\":\"white\",\"ticks\":\"\"},\"baxis\":{\"gridcolor\":\"white\",\"linecolor\":\"white\",\"ticks\":\"\"},\"bgcolor\":\"#E5ECF6\",\"caxis\":{\"gridcolor\":\"white\",\"linecolor\":\"white\",\"ticks\":\"\"}},\"title\":{\"x\":0.05},\"xaxis\":{\"automargin\":true,\"gridcolor\":\"white\",\"linecolor\":\"white\",\"ticks\":\"\",\"title\":{\"standoff\":15},\"zerolinecolor\":\"white\",\"zerolinewidth\":2},\"yaxis\":{\"automargin\":true,\"gridcolor\":\"white\",\"linecolor\":\"white\",\"ticks\":\"\",\"title\":{\"standoff\":15},\"zerolinecolor\":\"white\",\"zerolinewidth\":2}}},\"title\":{\"text\":\"Measured Tide Readings for ʔagayqsεn\"},\"xaxis\":{\"anchor\":\"y\",\"domain\":[0.0,1.0],\"title\":{\"text\":\"Time (Days Since Start)\"}},\"yaxis\":{\"anchor\":\"x\",\"domain\":[0.0,1.0],\"title\":{\"text\":\"Tide Level (Meters Above Sea Level)\"}}},                        {\"responsive\": true}                    ).then(function(){\n",
       "                            \n",
       "var gd = document.getElementById('745db468-080b-4081-bf90-2ec233531705');\n",
       "var x = new MutationObserver(function (mutations, observer) {{\n",
       "        var display = window.getComputedStyle(gd).display;\n",
       "        if (!display || display === 'none') {{\n",
       "            console.log([gd, 'removed!']);\n",
       "            Plotly.purge(gd);\n",
       "            observer.disconnect();\n",
       "        }}\n",
       "}});\n",
       "\n",
       "// Listen for the removal of the full notebook cells\n",
       "var notebookContainer = gd.closest('#notebook-container');\n",
       "if (notebookContainer) {{\n",
       "    x.observe(notebookContainer, {childList: true});\n",
       "}}\n",
       "\n",
       "// Listen for the clearing of the current output cell\n",
       "var outputEl = gd.closest('.output');\n",
       "if (outputEl) {{\n",
       "    x.observe(outputEl, {childList: true});\n",
       "}}\n",
       "\n",
       "                        })                };                });            </script>        </div>"
      ]
     },
     "metadata": {},
     "output_type": "display_data"
    }
   ],
   "source": [
    "# Have these in days and hours \n",
    "create_dated_tide_plot(monthly_tide_df)"
   ]
  },
  {
   "cell_type": "markdown",
   "metadata": {},
   "source": [
    "#### Where to locate the trap\n",
    "\n",
    "Fish enter into the trap when the tide level is above the trap, and are then trapped when the tide is below the trap. \n",
    "\n",
    "Let's visualize this effect using the crescent element. \n",
    "\n",
    "Below is an animation created using [Python code](https://github.com/BryceHaley/Callysto-Fish-Traps/blob/master/Notebooks/scripts/particle_box.py). \n",
    "\n",
    "![](./animations-images/ezgif.com-optimize.gif)"
   ]
  },
  {
   "cell_type": "markdown",
   "metadata": {},
   "source": [
    "### Using Python to Simulate Trapping Fish\n",
    "\n",
    "The menu below can help us simulate locating a trap. Play with the parameters and observe the plot results. "
   ]
  },
  {
   "cell_type": "code",
   "execution_count": 4,
   "metadata": {},
   "outputs": [
    {
     "data": {
      "application/vnd.jupyter.widget-view+json": {
       "model_id": "d478ce0b5dc648e3b775d2be94228130",
       "version_major": 2,
       "version_minor": 0
      },
      "text/plain": [
       "Tab(children=(VBox(children=(HBox(children=(IntSlider(value=25, continuous_update=False, description='Radius o…"
      ]
     },
     "metadata": {},
     "output_type": "display_data"
    },
    {
     "data": {
      "application/vnd.plotly.v1+json": {
       "config": {
        "plotlyServerURL": "https://plot.ly"
       },
       "data": [
        {
         "hovertemplate": "%{text}<br>%{y:}m above sea-level",
         "name": "Weekly Tide",
         "text": [
          "<b>Day</b>: 2021-11-10 03:15:00<br>",
          "<b>Day</b>: 2021-11-10 11:06:00<br>",
          "<b>Day</b>: 2021-11-10 17:08:00<br>",
          "<b>Day</b>: 2021-11-10 20:37:00<br>",
          "<b>Day</b>: 2021-11-11 04:13:00<br>",
          "<b>Day</b>: 2021-11-11 12:06:00<br>",
          "<b>Day</b>: 2021-11-11 18:43:00<br>",
          "<b>Day</b>: 2021-11-11 22:14:00<br>",
          "<b>Day</b>: 2021-11-12 05:19:00<br>",
          "<b>Day</b>: 2021-11-12 13:00:00<br>",
          "<b>Day</b>: 2021-11-12 19:50:00<br>",
          "<b>Day</b>: 2021-11-13 00:12:00<br>",
          "<b>Day</b>: 2021-11-13 06:29:00<br>",
          "<b>Day</b>: 2021-11-13 13:46:00<br>",
          "<b>Day</b>: 2021-11-13 20:37:00<br>",
          "<b>Day</b>: 2021-11-14 01:53:00<br>",
          "<b>Day</b>: 2021-11-14 07:38:00<br>",
          "<b>Day</b>: 2021-11-14 14:23:00<br>",
          "<b>Day</b>: 2021-11-14 21:16:00<br>",
          "<b>Day</b>: 2021-11-15 03:10:00<br>",
          "<b>Day</b>: 2021-11-15 08:39:00<br>",
          "<b>Day</b>: 2021-11-15 14:54:00<br>",
          "<b>Day</b>: 2021-11-15 21:49:00<br>",
          "<b>Day</b>: 2021-11-16 04:11:00<br>",
          "<b>Day</b>: 2021-11-16 09:32:00<br>",
          "<b>Day</b>: 2021-11-16 15:21:00<br>",
          "<b>Day</b>: 2021-11-16 22:20:00<br>",
          "<b>Day</b>: 2021-11-17 05:02:00<br>",
          "<b>Day</b>: 2021-11-17 10:19:00<br>",
          "<b>Day</b>: 2021-11-17 15:44:00<br>",
          "<b>Day</b>: 2021-11-17 22:49:00<br>",
          "<b>Day</b>: 2021-11-18 05:48:00<br>",
          "<b>Day</b>: 2021-11-18 11:02:00<br>",
          "<b>Day</b>: 2021-11-18 16:05:00<br>",
          "<b>Day</b>: 2021-11-18 23:18:00<br>",
          "<b>Day</b>: 2021-11-19 06:29:00<br>",
          "<b>Day</b>: 2021-11-19 11:42:00<br>",
          "<b>Day</b>: 2021-11-19 16:26:00<br>",
          "<b>Day</b>: 2021-11-19 23:47:00<br>",
          "<b>Day</b>: 2021-11-20 07:08:00<br>",
          "<b>Day</b>: 2021-11-20 12:22:00<br>",
          "<b>Day</b>: 2021-11-20 16:46:00<br>",
          "<b>Day</b>: 2021-11-21 00:17:00<br>",
          "<b>Day</b>: 2021-11-21 07:47:00<br>",
          "<b>Day</b>: 2021-11-21 13:03:00<br>",
          "<b>Day</b>: 2021-11-21 17:09:00<br>",
          "<b>Day</b>: 2021-11-22 00:48:00<br>",
          "<b>Day</b>: 2021-11-22 08:26:00<br>",
          "<b>Day</b>: 2021-11-22 13:48:00<br>",
          "<b>Day</b>: 2021-11-22 17:33:00<br>",
          "<b>Day</b>: 2021-11-23 01:21:00<br>",
          "<b>Day</b>: 2021-11-23 09:08:00<br>",
          "<b>Day</b>: 2021-11-23 14:40:00<br>",
          "<b>Day</b>: 2021-11-23 18:00:00<br>",
          "<b>Day</b>: 2021-11-24 01:57:00<br>",
          "<b>Day</b>: 2021-11-24 09:52:00<br>",
          "<b>Day</b>: 2021-11-24 15:44:00<br>",
          "<b>Day</b>: 2021-11-24 18:32:00<br>",
          "<b>Day</b>: 2021-11-25 02:37:00<br>",
          "<b>Day</b>: 2021-11-25 10:38:00<br>",
          "<b>Day</b>: 2021-11-25 17:03:00<br>",
          "<b>Day</b>: 2021-11-25 19:20:00<br>",
          "<b>Day</b>: 2021-11-26 03:22:00<br>",
          "<b>Day</b>: 2021-11-26 11:23:00<br>",
          "<b>Day</b>: 2021-11-26 18:19:00<br>",
          "<b>Day</b>: 2021-11-26 20:51:00<br>",
          "<b>Day</b>: 2021-11-27 04:14:00<br>",
          "<b>Day</b>: 2021-11-27 12:05:00<br>",
          "<b>Day</b>: 2021-11-27 19:08:00<br>",
          "<b>Day</b>: 2021-11-27 22:47:00<br>",
          "<b>Day</b>: 2021-11-28 05:13:00<br>",
          "<b>Day</b>: 2021-11-28 12:42:00<br>",
          "<b>Day</b>: 2021-11-28 19:46:00<br>",
          "<b>Day</b>: 2021-11-29 00:37:00<br>",
          "<b>Day</b>: 2021-11-29 06:19:00<br>",
          "<b>Day</b>: 2021-11-29 13:16:00<br>",
          "<b>Day</b>: 2021-11-29 20:22:00<br>",
          "<b>Day</b>: 2021-11-30 02:07:00<br>",
          "<b>Day</b>: 2021-11-30 07:26:00<br>",
          "<b>Day</b>: 2021-11-30 13:48:00<br>",
          "<b>Day</b>: 2021-11-30 20:59:00<br>",
          "<b>Day</b>: 2021-12-01 03:19:00<br>",
          "<b>Day</b>: 2021-12-01 08:29:00<br>",
          "<b>Day</b>: 2021-12-01 14:20:00<br>",
          "<b>Day</b>: 2021-12-01 21:38:00<br>",
          "<b>Day</b>: 2021-12-02 04:22:00<br>",
          "<b>Day</b>: 2021-12-02 09:27:00<br>",
          "<b>Day</b>: 2021-12-02 14:54:00<br>",
          "<b>Day</b>: 2021-12-02 22:19:00<br>",
          "<b>Day</b>: 2021-12-03 05:20:00<br>",
          "<b>Day</b>: 2021-12-03 10:23:00<br>",
          "<b>Day</b>: 2021-12-03 15:30:00<br>",
          "<b>Day</b>: 2021-12-03 23:01:00<br>",
          "<b>Day</b>: 2021-12-04 06:15:00<br>",
          "<b>Day</b>: 2021-12-04 11:19:00<br>",
          "<b>Day</b>: 2021-12-04 16:09:00<br>",
          "<b>Day</b>: 2021-12-04 23:45:00<br>",
          "<b>Day</b>: 2021-12-05 07:08:00<br>",
          "<b>Day</b>: 2021-12-05 12:15:00<br>",
          "<b>Day</b>: 2021-12-05 16:52:00<br>",
          "<b>Day</b>: 2021-12-06 00:30:00<br>",
          "<b>Day</b>: 2021-12-06 08:00:00<br>",
          "<b>Day</b>: 2021-12-06 13:15:00<br>",
          "<b>Day</b>: 2021-12-06 17:38:00<br>",
          "<b>Day</b>: 2021-12-07 01:17:00<br>",
          "<b>Day</b>: 2021-12-07 08:51:00<br>",
          "<b>Day</b>: 2021-12-07 14:20:00<br>",
          "<b>Day</b>: 2021-12-07 18:29:00<br>",
          "<b>Day</b>: 2021-12-08 02:04:00<br>",
          "<b>Day</b>: 2021-12-08 09:42:00<br>",
          "<b>Day</b>: 2021-12-08 15:32:00<br>",
          "<b>Day</b>: 2021-12-08 19:28:00<br>",
          "<b>Day</b>: 2021-12-09 02:53:00<br>",
          "<b>Day</b>: 2021-12-09 10:32:00<br>",
          "<b>Day</b>: 2021-12-09 16:51:00<br>",
          "<b>Day</b>: 2021-12-09 20:42:00<br>"
         ],
         "type": "scatter",
         "x": [
          "2021-11-10 03:15:00",
          "2021-11-10 11:06:00",
          "2021-11-10 17:08:00",
          "2021-11-10 20:37:00",
          "2021-11-11 04:13:00",
          "2021-11-11 12:06:00",
          "2021-11-11 18:43:00",
          "2021-11-11 22:14:00",
          "2021-11-12 05:19:00",
          "2021-11-12 13:00:00",
          "2021-11-12 19:50:00",
          "2021-11-13 00:12:00",
          "2021-11-13 06:29:00",
          "2021-11-13 13:46:00",
          "2021-11-13 20:37:00",
          "2021-11-14 01:53:00",
          "2021-11-14 07:38:00",
          "2021-11-14 14:23:00",
          "2021-11-14 21:16:00",
          "2021-11-15 03:10:00",
          "2021-11-15 08:39:00",
          "2021-11-15 14:54:00",
          "2021-11-15 21:49:00",
          "2021-11-16 04:11:00",
          "2021-11-16 09:32:00",
          "2021-11-16 15:21:00",
          "2021-11-16 22:20:00",
          "2021-11-17 05:02:00",
          "2021-11-17 10:19:00",
          "2021-11-17 15:44:00",
          "2021-11-17 22:49:00",
          "2021-11-18 05:48:00",
          "2021-11-18 11:02:00",
          "2021-11-18 16:05:00",
          "2021-11-18 23:18:00",
          "2021-11-19 06:29:00",
          "2021-11-19 11:42:00",
          "2021-11-19 16:26:00",
          "2021-11-19 23:47:00",
          "2021-11-20 07:08:00",
          "2021-11-20 12:22:00",
          "2021-11-20 16:46:00",
          "2021-11-21 00:17:00",
          "2021-11-21 07:47:00",
          "2021-11-21 13:03:00",
          "2021-11-21 17:09:00",
          "2021-11-22 00:48:00",
          "2021-11-22 08:26:00",
          "2021-11-22 13:48:00",
          "2021-11-22 17:33:00",
          "2021-11-23 01:21:00",
          "2021-11-23 09:08:00",
          "2021-11-23 14:40:00",
          "2021-11-23 18:00:00",
          "2021-11-24 01:57:00",
          "2021-11-24 09:52:00",
          "2021-11-24 15:44:00",
          "2021-11-24 18:32:00",
          "2021-11-25 02:37:00",
          "2021-11-25 10:38:00",
          "2021-11-25 17:03:00",
          "2021-11-25 19:20:00",
          "2021-11-26 03:22:00",
          "2021-11-26 11:23:00",
          "2021-11-26 18:19:00",
          "2021-11-26 20:51:00",
          "2021-11-27 04:14:00",
          "2021-11-27 12:05:00",
          "2021-11-27 19:08:00",
          "2021-11-27 22:47:00",
          "2021-11-28 05:13:00",
          "2021-11-28 12:42:00",
          "2021-11-28 19:46:00",
          "2021-11-29 00:37:00",
          "2021-11-29 06:19:00",
          "2021-11-29 13:16:00",
          "2021-11-29 20:22:00",
          "2021-11-30 02:07:00",
          "2021-11-30 07:26:00",
          "2021-11-30 13:48:00",
          "2021-11-30 20:59:00",
          "2021-12-01 03:19:00",
          "2021-12-01 08:29:00",
          "2021-12-01 14:20:00",
          "2021-12-01 21:38:00",
          "2021-12-02 04:22:00",
          "2021-12-02 09:27:00",
          "2021-12-02 14:54:00",
          "2021-12-02 22:19:00",
          "2021-12-03 05:20:00",
          "2021-12-03 10:23:00",
          "2021-12-03 15:30:00",
          "2021-12-03 23:01:00",
          "2021-12-04 06:15:00",
          "2021-12-04 11:19:00",
          "2021-12-04 16:09:00",
          "2021-12-04 23:45:00",
          "2021-12-05 07:08:00",
          "2021-12-05 12:15:00",
          "2021-12-05 16:52:00",
          "2021-12-06 00:30:00",
          "2021-12-06 08:00:00",
          "2021-12-06 13:15:00",
          "2021-12-06 17:38:00",
          "2021-12-07 01:17:00",
          "2021-12-07 08:51:00",
          "2021-12-07 14:20:00",
          "2021-12-07 18:29:00",
          "2021-12-08 02:04:00",
          "2021-12-08 09:42:00",
          "2021-12-08 15:32:00",
          "2021-12-08 19:28:00",
          "2021-12-09 02:53:00",
          "2021-12-09 10:32:00",
          "2021-12-09 16:51:00",
          "2021-12-09 20:42:00"
         ],
         "xaxis": "x",
         "y": [
          0.8,
          5.1,
          3.6,
          3.9,
          1.2,
          5,
          3.3,
          3.6,
          1.6,
          5,
          3,
          3.5,
          2,
          4.9,
          2.6,
          3.6,
          2.3,
          4.9,
          2.2,
          3.9,
          2.6,
          4.8,
          1.8,
          4.2,
          2.8,
          4.7,
          1.5,
          4.4,
          3.1,
          4.6,
          1.3,
          4.6,
          3.3,
          4.5,
          1.1,
          4.7,
          3.5,
          4.5,
          1,
          4.8,
          3.7,
          4.4,
          0.9,
          4.9,
          3.8,
          4.3,
          1,
          4.9,
          3.8,
          4.2,
          1,
          4.9,
          3.9,
          4.1,
          1.2,
          4.9,
          3.8,
          4,
          1.3,
          4.8,
          3.7,
          3.8,
          1.5,
          4.8,
          3.5,
          3.5,
          1.8,
          4.8,
          3.1,
          3.4,
          2.1,
          4.9,
          2.7,
          3.5,
          2.4,
          4.9,
          2.2,
          3.8,
          2.7,
          4.9,
          1.7,
          4.1,
          3,
          5,
          1.2,
          4.5,
          3.3,
          5,
          0.7,
          4.8,
          3.5,
          5,
          0.3,
          5.1,
          3.7,
          5,
          0.1,
          5.2,
          3.8,
          4.9,
          0,
          5.3,
          3.8,
          4.8,
          0.2,
          5.4,
          3.8,
          4.5,
          0.4,
          5.3,
          3.6,
          4.2,
          0.8,
          5.3,
          3.4,
          3.8
         ],
         "yaxis": "y"
        },
        {
         "hovertemplate": " %{y:.3f}m",
         "name": "low point of the trap",
         "type": "scatter",
         "x": [
          "2021-11-10 03:15:00",
          "2021-11-10 11:06:00",
          "2021-11-10 17:08:00",
          "2021-11-10 20:37:00",
          "2021-11-11 04:13:00",
          "2021-11-11 12:06:00",
          "2021-11-11 18:43:00",
          "2021-11-11 22:14:00",
          "2021-11-12 05:19:00",
          "2021-11-12 13:00:00",
          "2021-11-12 19:50:00",
          "2021-11-13 00:12:00",
          "2021-11-13 06:29:00",
          "2021-11-13 13:46:00",
          "2021-11-13 20:37:00",
          "2021-11-14 01:53:00",
          "2021-11-14 07:38:00",
          "2021-11-14 14:23:00",
          "2021-11-14 21:16:00",
          "2021-11-15 03:10:00",
          "2021-11-15 08:39:00",
          "2021-11-15 14:54:00",
          "2021-11-15 21:49:00",
          "2021-11-16 04:11:00",
          "2021-11-16 09:32:00",
          "2021-11-16 15:21:00",
          "2021-11-16 22:20:00",
          "2021-11-17 05:02:00",
          "2021-11-17 10:19:00",
          "2021-11-17 15:44:00",
          "2021-11-17 22:49:00",
          "2021-11-18 05:48:00",
          "2021-11-18 11:02:00",
          "2021-11-18 16:05:00",
          "2021-11-18 23:18:00",
          "2021-11-19 06:29:00",
          "2021-11-19 11:42:00",
          "2021-11-19 16:26:00",
          "2021-11-19 23:47:00",
          "2021-11-20 07:08:00",
          "2021-11-20 12:22:00",
          "2021-11-20 16:46:00",
          "2021-11-21 00:17:00",
          "2021-11-21 07:47:00",
          "2021-11-21 13:03:00",
          "2021-11-21 17:09:00",
          "2021-11-22 00:48:00",
          "2021-11-22 08:26:00",
          "2021-11-22 13:48:00",
          "2021-11-22 17:33:00",
          "2021-11-23 01:21:00",
          "2021-11-23 09:08:00",
          "2021-11-23 14:40:00",
          "2021-11-23 18:00:00",
          "2021-11-24 01:57:00",
          "2021-11-24 09:52:00",
          "2021-11-24 15:44:00",
          "2021-11-24 18:32:00",
          "2021-11-25 02:37:00",
          "2021-11-25 10:38:00",
          "2021-11-25 17:03:00",
          "2021-11-25 19:20:00",
          "2021-11-26 03:22:00",
          "2021-11-26 11:23:00",
          "2021-11-26 18:19:00",
          "2021-11-26 20:51:00",
          "2021-11-27 04:14:00",
          "2021-11-27 12:05:00",
          "2021-11-27 19:08:00",
          "2021-11-27 22:47:00",
          "2021-11-28 05:13:00",
          "2021-11-28 12:42:00",
          "2021-11-28 19:46:00",
          "2021-11-29 00:37:00",
          "2021-11-29 06:19:00",
          "2021-11-29 13:16:00",
          "2021-11-29 20:22:00",
          "2021-11-30 02:07:00",
          "2021-11-30 07:26:00",
          "2021-11-30 13:48:00",
          "2021-11-30 20:59:00",
          "2021-12-01 03:19:00",
          "2021-12-01 08:29:00",
          "2021-12-01 14:20:00",
          "2021-12-01 21:38:00",
          "2021-12-02 04:22:00",
          "2021-12-02 09:27:00",
          "2021-12-02 14:54:00",
          "2021-12-02 22:19:00",
          "2021-12-03 05:20:00",
          "2021-12-03 10:23:00",
          "2021-12-03 15:30:00",
          "2021-12-03 23:01:00",
          "2021-12-04 06:15:00",
          "2021-12-04 11:19:00",
          "2021-12-04 16:09:00",
          "2021-12-04 23:45:00",
          "2021-12-05 07:08:00",
          "2021-12-05 12:15:00",
          "2021-12-05 16:52:00",
          "2021-12-06 00:30:00",
          "2021-12-06 08:00:00",
          "2021-12-06 13:15:00",
          "2021-12-06 17:38:00",
          "2021-12-07 01:17:00",
          "2021-12-07 08:51:00",
          "2021-12-07 14:20:00",
          "2021-12-07 18:29:00",
          "2021-12-08 02:04:00",
          "2021-12-08 09:42:00",
          "2021-12-08 15:32:00",
          "2021-12-08 19:28:00",
          "2021-12-09 02:53:00",
          "2021-12-09 10:32:00",
          "2021-12-09 16:51:00",
          "2021-12-09 20:42:00"
         ],
         "xaxis": "x",
         "y": [
          2.9005349573860304,
          2.9005349573860304,
          2.9005349573860304,
          2.9005349573860304,
          2.9005349573860304,
          2.9005349573860304,
          2.9005349573860304,
          2.9005349573860304,
          2.9005349573860304,
          2.9005349573860304,
          2.9005349573860304,
          2.9005349573860304,
          2.9005349573860304,
          2.9005349573860304,
          2.9005349573860304,
          2.9005349573860304,
          2.9005349573860304,
          2.9005349573860304,
          2.9005349573860304,
          2.9005349573860304,
          2.9005349573860304,
          2.9005349573860304,
          2.9005349573860304,
          2.9005349573860304,
          2.9005349573860304,
          2.9005349573860304,
          2.9005349573860304,
          2.9005349573860304,
          2.9005349573860304,
          2.9005349573860304,
          2.9005349573860304,
          2.9005349573860304,
          2.9005349573860304,
          2.9005349573860304,
          2.9005349573860304,
          2.9005349573860304,
          2.9005349573860304,
          2.9005349573860304,
          2.9005349573860304,
          2.9005349573860304,
          2.9005349573860304,
          2.9005349573860304,
          2.9005349573860304,
          2.9005349573860304,
          2.9005349573860304,
          2.9005349573860304,
          2.9005349573860304,
          2.9005349573860304,
          2.9005349573860304,
          2.9005349573860304,
          2.9005349573860304,
          2.9005349573860304,
          2.9005349573860304,
          2.9005349573860304,
          2.9005349573860304,
          2.9005349573860304,
          2.9005349573860304,
          2.9005349573860304,
          2.9005349573860304,
          2.9005349573860304,
          2.9005349573860304,
          2.9005349573860304,
          2.9005349573860304,
          2.9005349573860304,
          2.9005349573860304,
          2.9005349573860304,
          2.9005349573860304,
          2.9005349573860304,
          2.9005349573860304,
          2.9005349573860304,
          2.9005349573860304,
          2.9005349573860304,
          2.9005349573860304,
          2.9005349573860304,
          2.9005349573860304,
          2.9005349573860304,
          2.9005349573860304,
          2.9005349573860304,
          2.9005349573860304,
          2.9005349573860304,
          2.9005349573860304,
          2.9005349573860304,
          2.9005349573860304,
          2.9005349573860304,
          2.9005349573860304,
          2.9005349573860304,
          2.9005349573860304,
          2.9005349573860304,
          2.9005349573860304,
          2.9005349573860304,
          2.9005349573860304,
          2.9005349573860304,
          2.9005349573860304,
          2.9005349573860304,
          2.9005349573860304,
          2.9005349573860304,
          2.9005349573860304,
          2.9005349573860304,
          2.9005349573860304,
          2.9005349573860304,
          2.9005349573860304,
          2.9005349573860304,
          2.9005349573860304,
          2.9005349573860304,
          2.9005349573860304,
          2.9005349573860304,
          2.9005349573860304,
          2.9005349573860304,
          2.9005349573860304,
          2.9005349573860304,
          2.9005349573860304,
          2.9005349573860304,
          2.9005349573860304,
          2.9005349573860304,
          2.9005349573860304,
          2.9005349573860304
         ],
         "yaxis": "y"
        },
        {
         "domain": {
          "x": [
           0.55,
           1
          ],
          "y": [
           0,
           1
          ]
         },
         "labels": [
          "Harvested Fish",
          "Surviving Fish in Area"
         ],
         "marker": {
          "colors": [
           "rgb(33, 75, 99)",
           "rgb(79, 129, 102)"
          ]
         },
         "name": "Survivors vs Harvested Fish",
         "type": "pie",
         "values": [
          609,
          391
         ]
        }
       ],
       "layout": {
        "height": 600,
        "showlegend": true,
        "template": {
         "data": {
          "bar": [
           {
            "error_x": {
             "color": "#2a3f5f"
            },
            "error_y": {
             "color": "#2a3f5f"
            },
            "marker": {
             "line": {
              "color": "#E5ECF6",
              "width": 0.5
             },
             "pattern": {
              "fillmode": "overlay",
              "size": 10,
              "solidity": 0.2
             }
            },
            "type": "bar"
           }
          ],
          "barpolar": [
           {
            "marker": {
             "line": {
              "color": "#E5ECF6",
              "width": 0.5
             },
             "pattern": {
              "fillmode": "overlay",
              "size": 10,
              "solidity": 0.2
             }
            },
            "type": "barpolar"
           }
          ],
          "carpet": [
           {
            "aaxis": {
             "endlinecolor": "#2a3f5f",
             "gridcolor": "white",
             "linecolor": "white",
             "minorgridcolor": "white",
             "startlinecolor": "#2a3f5f"
            },
            "baxis": {
             "endlinecolor": "#2a3f5f",
             "gridcolor": "white",
             "linecolor": "white",
             "minorgridcolor": "white",
             "startlinecolor": "#2a3f5f"
            },
            "type": "carpet"
           }
          ],
          "choropleth": [
           {
            "colorbar": {
             "outlinewidth": 0,
             "ticks": ""
            },
            "type": "choropleth"
           }
          ],
          "contour": [
           {
            "colorbar": {
             "outlinewidth": 0,
             "ticks": ""
            },
            "colorscale": [
             [
              0,
              "#0d0887"
             ],
             [
              0.1111111111111111,
              "#46039f"
             ],
             [
              0.2222222222222222,
              "#7201a8"
             ],
             [
              0.3333333333333333,
              "#9c179e"
             ],
             [
              0.4444444444444444,
              "#bd3786"
             ],
             [
              0.5555555555555556,
              "#d8576b"
             ],
             [
              0.6666666666666666,
              "#ed7953"
             ],
             [
              0.7777777777777778,
              "#fb9f3a"
             ],
             [
              0.8888888888888888,
              "#fdca26"
             ],
             [
              1,
              "#f0f921"
             ]
            ],
            "type": "contour"
           }
          ],
          "contourcarpet": [
           {
            "colorbar": {
             "outlinewidth": 0,
             "ticks": ""
            },
            "type": "contourcarpet"
           }
          ],
          "heatmap": [
           {
            "colorbar": {
             "outlinewidth": 0,
             "ticks": ""
            },
            "colorscale": [
             [
              0,
              "#0d0887"
             ],
             [
              0.1111111111111111,
              "#46039f"
             ],
             [
              0.2222222222222222,
              "#7201a8"
             ],
             [
              0.3333333333333333,
              "#9c179e"
             ],
             [
              0.4444444444444444,
              "#bd3786"
             ],
             [
              0.5555555555555556,
              "#d8576b"
             ],
             [
              0.6666666666666666,
              "#ed7953"
             ],
             [
              0.7777777777777778,
              "#fb9f3a"
             ],
             [
              0.8888888888888888,
              "#fdca26"
             ],
             [
              1,
              "#f0f921"
             ]
            ],
            "type": "heatmap"
           }
          ],
          "heatmapgl": [
           {
            "colorbar": {
             "outlinewidth": 0,
             "ticks": ""
            },
            "colorscale": [
             [
              0,
              "#0d0887"
             ],
             [
              0.1111111111111111,
              "#46039f"
             ],
             [
              0.2222222222222222,
              "#7201a8"
             ],
             [
              0.3333333333333333,
              "#9c179e"
             ],
             [
              0.4444444444444444,
              "#bd3786"
             ],
             [
              0.5555555555555556,
              "#d8576b"
             ],
             [
              0.6666666666666666,
              "#ed7953"
             ],
             [
              0.7777777777777778,
              "#fb9f3a"
             ],
             [
              0.8888888888888888,
              "#fdca26"
             ],
             [
              1,
              "#f0f921"
             ]
            ],
            "type": "heatmapgl"
           }
          ],
          "histogram": [
           {
            "marker": {
             "pattern": {
              "fillmode": "overlay",
              "size": 10,
              "solidity": 0.2
             }
            },
            "type": "histogram"
           }
          ],
          "histogram2d": [
           {
            "colorbar": {
             "outlinewidth": 0,
             "ticks": ""
            },
            "colorscale": [
             [
              0,
              "#0d0887"
             ],
             [
              0.1111111111111111,
              "#46039f"
             ],
             [
              0.2222222222222222,
              "#7201a8"
             ],
             [
              0.3333333333333333,
              "#9c179e"
             ],
             [
              0.4444444444444444,
              "#bd3786"
             ],
             [
              0.5555555555555556,
              "#d8576b"
             ],
             [
              0.6666666666666666,
              "#ed7953"
             ],
             [
              0.7777777777777778,
              "#fb9f3a"
             ],
             [
              0.8888888888888888,
              "#fdca26"
             ],
             [
              1,
              "#f0f921"
             ]
            ],
            "type": "histogram2d"
           }
          ],
          "histogram2dcontour": [
           {
            "colorbar": {
             "outlinewidth": 0,
             "ticks": ""
            },
            "colorscale": [
             [
              0,
              "#0d0887"
             ],
             [
              0.1111111111111111,
              "#46039f"
             ],
             [
              0.2222222222222222,
              "#7201a8"
             ],
             [
              0.3333333333333333,
              "#9c179e"
             ],
             [
              0.4444444444444444,
              "#bd3786"
             ],
             [
              0.5555555555555556,
              "#d8576b"
             ],
             [
              0.6666666666666666,
              "#ed7953"
             ],
             [
              0.7777777777777778,
              "#fb9f3a"
             ],
             [
              0.8888888888888888,
              "#fdca26"
             ],
             [
              1,
              "#f0f921"
             ]
            ],
            "type": "histogram2dcontour"
           }
          ],
          "mesh3d": [
           {
            "colorbar": {
             "outlinewidth": 0,
             "ticks": ""
            },
            "type": "mesh3d"
           }
          ],
          "parcoords": [
           {
            "line": {
             "colorbar": {
              "outlinewidth": 0,
              "ticks": ""
             }
            },
            "type": "parcoords"
           }
          ],
          "pie": [
           {
            "automargin": true,
            "type": "pie"
           }
          ],
          "scatter": [
           {
            "marker": {
             "colorbar": {
              "outlinewidth": 0,
              "ticks": ""
             }
            },
            "type": "scatter"
           }
          ],
          "scatter3d": [
           {
            "line": {
             "colorbar": {
              "outlinewidth": 0,
              "ticks": ""
             }
            },
            "marker": {
             "colorbar": {
              "outlinewidth": 0,
              "ticks": ""
             }
            },
            "type": "scatter3d"
           }
          ],
          "scattercarpet": [
           {
            "marker": {
             "colorbar": {
              "outlinewidth": 0,
              "ticks": ""
             }
            },
            "type": "scattercarpet"
           }
          ],
          "scattergeo": [
           {
            "marker": {
             "colorbar": {
              "outlinewidth": 0,
              "ticks": ""
             }
            },
            "type": "scattergeo"
           }
          ],
          "scattergl": [
           {
            "marker": {
             "colorbar": {
              "outlinewidth": 0,
              "ticks": ""
             }
            },
            "type": "scattergl"
           }
          ],
          "scattermapbox": [
           {
            "marker": {
             "colorbar": {
              "outlinewidth": 0,
              "ticks": ""
             }
            },
            "type": "scattermapbox"
           }
          ],
          "scatterpolar": [
           {
            "marker": {
             "colorbar": {
              "outlinewidth": 0,
              "ticks": ""
             }
            },
            "type": "scatterpolar"
           }
          ],
          "scatterpolargl": [
           {
            "marker": {
             "colorbar": {
              "outlinewidth": 0,
              "ticks": ""
             }
            },
            "type": "scatterpolargl"
           }
          ],
          "scatterternary": [
           {
            "marker": {
             "colorbar": {
              "outlinewidth": 0,
              "ticks": ""
             }
            },
            "type": "scatterternary"
           }
          ],
          "surface": [
           {
            "colorbar": {
             "outlinewidth": 0,
             "ticks": ""
            },
            "colorscale": [
             [
              0,
              "#0d0887"
             ],
             [
              0.1111111111111111,
              "#46039f"
             ],
             [
              0.2222222222222222,
              "#7201a8"
             ],
             [
              0.3333333333333333,
              "#9c179e"
             ],
             [
              0.4444444444444444,
              "#bd3786"
             ],
             [
              0.5555555555555556,
              "#d8576b"
             ],
             [
              0.6666666666666666,
              "#ed7953"
             ],
             [
              0.7777777777777778,
              "#fb9f3a"
             ],
             [
              0.8888888888888888,
              "#fdca26"
             ],
             [
              1,
              "#f0f921"
             ]
            ],
            "type": "surface"
           }
          ],
          "table": [
           {
            "cells": {
             "fill": {
              "color": "#EBF0F8"
             },
             "line": {
              "color": "white"
             }
            },
            "header": {
             "fill": {
              "color": "#C8D4E3"
             },
             "line": {
              "color": "white"
             }
            },
            "type": "table"
           }
          ]
         },
         "layout": {
          "annotationdefaults": {
           "arrowcolor": "#2a3f5f",
           "arrowhead": 0,
           "arrowwidth": 1
          },
          "autotypenumbers": "strict",
          "coloraxis": {
           "colorbar": {
            "outlinewidth": 0,
            "ticks": ""
           }
          },
          "colorscale": {
           "diverging": [
            [
             0,
             "#8e0152"
            ],
            [
             0.1,
             "#c51b7d"
            ],
            [
             0.2,
             "#de77ae"
            ],
            [
             0.3,
             "#f1b6da"
            ],
            [
             0.4,
             "#fde0ef"
            ],
            [
             0.5,
             "#f7f7f7"
            ],
            [
             0.6,
             "#e6f5d0"
            ],
            [
             0.7,
             "#b8e186"
            ],
            [
             0.8,
             "#7fbc41"
            ],
            [
             0.9,
             "#4d9221"
            ],
            [
             1,
             "#276419"
            ]
           ],
           "sequential": [
            [
             0,
             "#0d0887"
            ],
            [
             0.1111111111111111,
             "#46039f"
            ],
            [
             0.2222222222222222,
             "#7201a8"
            ],
            [
             0.3333333333333333,
             "#9c179e"
            ],
            [
             0.4444444444444444,
             "#bd3786"
            ],
            [
             0.5555555555555556,
             "#d8576b"
            ],
            [
             0.6666666666666666,
             "#ed7953"
            ],
            [
             0.7777777777777778,
             "#fb9f3a"
            ],
            [
             0.8888888888888888,
             "#fdca26"
            ],
            [
             1,
             "#f0f921"
            ]
           ],
           "sequentialminus": [
            [
             0,
             "#0d0887"
            ],
            [
             0.1111111111111111,
             "#46039f"
            ],
            [
             0.2222222222222222,
             "#7201a8"
            ],
            [
             0.3333333333333333,
             "#9c179e"
            ],
            [
             0.4444444444444444,
             "#bd3786"
            ],
            [
             0.5555555555555556,
             "#d8576b"
            ],
            [
             0.6666666666666666,
             "#ed7953"
            ],
            [
             0.7777777777777778,
             "#fb9f3a"
            ],
            [
             0.8888888888888888,
             "#fdca26"
            ],
            [
             1,
             "#f0f921"
            ]
           ]
          },
          "colorway": [
           "#636efa",
           "#EF553B",
           "#00cc96",
           "#ab63fa",
           "#FFA15A",
           "#19d3f3",
           "#FF6692",
           "#B6E880",
           "#FF97FF",
           "#FECB52"
          ],
          "font": {
           "color": "#2a3f5f"
          },
          "geo": {
           "bgcolor": "white",
           "lakecolor": "white",
           "landcolor": "#E5ECF6",
           "showlakes": true,
           "showland": true,
           "subunitcolor": "white"
          },
          "hoverlabel": {
           "align": "left"
          },
          "hovermode": "closest",
          "mapbox": {
           "style": "light"
          },
          "paper_bgcolor": "white",
          "plot_bgcolor": "#E5ECF6",
          "polar": {
           "angularaxis": {
            "gridcolor": "white",
            "linecolor": "white",
            "ticks": ""
           },
           "bgcolor": "#E5ECF6",
           "radialaxis": {
            "gridcolor": "white",
            "linecolor": "white",
            "ticks": ""
           }
          },
          "scene": {
           "xaxis": {
            "backgroundcolor": "#E5ECF6",
            "gridcolor": "white",
            "gridwidth": 2,
            "linecolor": "white",
            "showbackground": true,
            "ticks": "",
            "zerolinecolor": "white"
           },
           "yaxis": {
            "backgroundcolor": "#E5ECF6",
            "gridcolor": "white",
            "gridwidth": 2,
            "linecolor": "white",
            "showbackground": true,
            "ticks": "",
            "zerolinecolor": "white"
           },
           "zaxis": {
            "backgroundcolor": "#E5ECF6",
            "gridcolor": "white",
            "gridwidth": 2,
            "linecolor": "white",
            "showbackground": true,
            "ticks": "",
            "zerolinecolor": "white"
           }
          },
          "shapedefaults": {
           "line": {
            "color": "#2a3f5f"
           }
          },
          "ternary": {
           "aaxis": {
            "gridcolor": "white",
            "linecolor": "white",
            "ticks": ""
           },
           "baxis": {
            "gridcolor": "white",
            "linecolor": "white",
            "ticks": ""
           },
           "bgcolor": "#E5ECF6",
           "caxis": {
            "gridcolor": "white",
            "linecolor": "white",
            "ticks": ""
           }
          },
          "title": {
           "x": 0.05
          },
          "xaxis": {
           "automargin": true,
           "gridcolor": "white",
           "linecolor": "white",
           "ticks": "",
           "title": {
            "standoff": 15
           },
           "zerolinecolor": "white",
           "zerolinewidth": 2
          },
          "yaxis": {
           "automargin": true,
           "gridcolor": "white",
           "linecolor": "white",
           "ticks": "",
           "title": {
            "standoff": 15
           },
           "zerolinecolor": "white",
           "zerolinewidth": 2
          }
         }
        },
        "title": {
         "text": "Fish Trap Simulation"
        },
        "width": 950,
        "xaxis": {
         "anchor": "y",
         "domain": [
          0,
          0.45
         ]
        },
        "yaxis": {
         "anchor": "x",
         "domain": [
          0,
          1
         ]
        }
       }
      },
      "text/html": [
       "<div>                            <div id=\"b629f627-5ad8-4344-b538-a9e9721977ba\" class=\"plotly-graph-div\" style=\"height:600px; width:950px;\"></div>            <script type=\"text/javascript\">                require([\"plotly\"], function(Plotly) {                    window.PLOTLYENV=window.PLOTLYENV || {};                                    if (document.getElementById(\"b629f627-5ad8-4344-b538-a9e9721977ba\")) {                    Plotly.newPlot(                        \"b629f627-5ad8-4344-b538-a9e9721977ba\",                        [{\"hovertemplate\":\"%{text}<br>%{y:}m above sea-level\",\"name\":\"Weekly Tide\",\"text\":[\"<b>Day</b>: 2021-11-10 03:15:00<br>\",\"<b>Day</b>: 2021-11-10 11:06:00<br>\",\"<b>Day</b>: 2021-11-10 17:08:00<br>\",\"<b>Day</b>: 2021-11-10 20:37:00<br>\",\"<b>Day</b>: 2021-11-11 04:13:00<br>\",\"<b>Day</b>: 2021-11-11 12:06:00<br>\",\"<b>Day</b>: 2021-11-11 18:43:00<br>\",\"<b>Day</b>: 2021-11-11 22:14:00<br>\",\"<b>Day</b>: 2021-11-12 05:19:00<br>\",\"<b>Day</b>: 2021-11-12 13:00:00<br>\",\"<b>Day</b>: 2021-11-12 19:50:00<br>\",\"<b>Day</b>: 2021-11-13 00:12:00<br>\",\"<b>Day</b>: 2021-11-13 06:29:00<br>\",\"<b>Day</b>: 2021-11-13 13:46:00<br>\",\"<b>Day</b>: 2021-11-13 20:37:00<br>\",\"<b>Day</b>: 2021-11-14 01:53:00<br>\",\"<b>Day</b>: 2021-11-14 07:38:00<br>\",\"<b>Day</b>: 2021-11-14 14:23:00<br>\",\"<b>Day</b>: 2021-11-14 21:16:00<br>\",\"<b>Day</b>: 2021-11-15 03:10:00<br>\",\"<b>Day</b>: 2021-11-15 08:39:00<br>\",\"<b>Day</b>: 2021-11-15 14:54:00<br>\",\"<b>Day</b>: 2021-11-15 21:49:00<br>\",\"<b>Day</b>: 2021-11-16 04:11:00<br>\",\"<b>Day</b>: 2021-11-16 09:32:00<br>\",\"<b>Day</b>: 2021-11-16 15:21:00<br>\",\"<b>Day</b>: 2021-11-16 22:20:00<br>\",\"<b>Day</b>: 2021-11-17 05:02:00<br>\",\"<b>Day</b>: 2021-11-17 10:19:00<br>\",\"<b>Day</b>: 2021-11-17 15:44:00<br>\",\"<b>Day</b>: 2021-11-17 22:49:00<br>\",\"<b>Day</b>: 2021-11-18 05:48:00<br>\",\"<b>Day</b>: 2021-11-18 11:02:00<br>\",\"<b>Day</b>: 2021-11-18 16:05:00<br>\",\"<b>Day</b>: 2021-11-18 23:18:00<br>\",\"<b>Day</b>: 2021-11-19 06:29:00<br>\",\"<b>Day</b>: 2021-11-19 11:42:00<br>\",\"<b>Day</b>: 2021-11-19 16:26:00<br>\",\"<b>Day</b>: 2021-11-19 23:47:00<br>\",\"<b>Day</b>: 2021-11-20 07:08:00<br>\",\"<b>Day</b>: 2021-11-20 12:22:00<br>\",\"<b>Day</b>: 2021-11-20 16:46:00<br>\",\"<b>Day</b>: 2021-11-21 00:17:00<br>\",\"<b>Day</b>: 2021-11-21 07:47:00<br>\",\"<b>Day</b>: 2021-11-21 13:03:00<br>\",\"<b>Day</b>: 2021-11-21 17:09:00<br>\",\"<b>Day</b>: 2021-11-22 00:48:00<br>\",\"<b>Day</b>: 2021-11-22 08:26:00<br>\",\"<b>Day</b>: 2021-11-22 13:48:00<br>\",\"<b>Day</b>: 2021-11-22 17:33:00<br>\",\"<b>Day</b>: 2021-11-23 01:21:00<br>\",\"<b>Day</b>: 2021-11-23 09:08:00<br>\",\"<b>Day</b>: 2021-11-23 14:40:00<br>\",\"<b>Day</b>: 2021-11-23 18:00:00<br>\",\"<b>Day</b>: 2021-11-24 01:57:00<br>\",\"<b>Day</b>: 2021-11-24 09:52:00<br>\",\"<b>Day</b>: 2021-11-24 15:44:00<br>\",\"<b>Day</b>: 2021-11-24 18:32:00<br>\",\"<b>Day</b>: 2021-11-25 02:37:00<br>\",\"<b>Day</b>: 2021-11-25 10:38:00<br>\",\"<b>Day</b>: 2021-11-25 17:03:00<br>\",\"<b>Day</b>: 2021-11-25 19:20:00<br>\",\"<b>Day</b>: 2021-11-26 03:22:00<br>\",\"<b>Day</b>: 2021-11-26 11:23:00<br>\",\"<b>Day</b>: 2021-11-26 18:19:00<br>\",\"<b>Day</b>: 2021-11-26 20:51:00<br>\",\"<b>Day</b>: 2021-11-27 04:14:00<br>\",\"<b>Day</b>: 2021-11-27 12:05:00<br>\",\"<b>Day</b>: 2021-11-27 19:08:00<br>\",\"<b>Day</b>: 2021-11-27 22:47:00<br>\",\"<b>Day</b>: 2021-11-28 05:13:00<br>\",\"<b>Day</b>: 2021-11-28 12:42:00<br>\",\"<b>Day</b>: 2021-11-28 19:46:00<br>\",\"<b>Day</b>: 2021-11-29 00:37:00<br>\",\"<b>Day</b>: 2021-11-29 06:19:00<br>\",\"<b>Day</b>: 2021-11-29 13:16:00<br>\",\"<b>Day</b>: 2021-11-29 20:22:00<br>\",\"<b>Day</b>: 2021-11-30 02:07:00<br>\",\"<b>Day</b>: 2021-11-30 07:26:00<br>\",\"<b>Day</b>: 2021-11-30 13:48:00<br>\",\"<b>Day</b>: 2021-11-30 20:59:00<br>\",\"<b>Day</b>: 2021-12-01 03:19:00<br>\",\"<b>Day</b>: 2021-12-01 08:29:00<br>\",\"<b>Day</b>: 2021-12-01 14:20:00<br>\",\"<b>Day</b>: 2021-12-01 21:38:00<br>\",\"<b>Day</b>: 2021-12-02 04:22:00<br>\",\"<b>Day</b>: 2021-12-02 09:27:00<br>\",\"<b>Day</b>: 2021-12-02 14:54:00<br>\",\"<b>Day</b>: 2021-12-02 22:19:00<br>\",\"<b>Day</b>: 2021-12-03 05:20:00<br>\",\"<b>Day</b>: 2021-12-03 10:23:00<br>\",\"<b>Day</b>: 2021-12-03 15:30:00<br>\",\"<b>Day</b>: 2021-12-03 23:01:00<br>\",\"<b>Day</b>: 2021-12-04 06:15:00<br>\",\"<b>Day</b>: 2021-12-04 11:19:00<br>\",\"<b>Day</b>: 2021-12-04 16:09:00<br>\",\"<b>Day</b>: 2021-12-04 23:45:00<br>\",\"<b>Day</b>: 2021-12-05 07:08:00<br>\",\"<b>Day</b>: 2021-12-05 12:15:00<br>\",\"<b>Day</b>: 2021-12-05 16:52:00<br>\",\"<b>Day</b>: 2021-12-06 00:30:00<br>\",\"<b>Day</b>: 2021-12-06 08:00:00<br>\",\"<b>Day</b>: 2021-12-06 13:15:00<br>\",\"<b>Day</b>: 2021-12-06 17:38:00<br>\",\"<b>Day</b>: 2021-12-07 01:17:00<br>\",\"<b>Day</b>: 2021-12-07 08:51:00<br>\",\"<b>Day</b>: 2021-12-07 14:20:00<br>\",\"<b>Day</b>: 2021-12-07 18:29:00<br>\",\"<b>Day</b>: 2021-12-08 02:04:00<br>\",\"<b>Day</b>: 2021-12-08 09:42:00<br>\",\"<b>Day</b>: 2021-12-08 15:32:00<br>\",\"<b>Day</b>: 2021-12-08 19:28:00<br>\",\"<b>Day</b>: 2021-12-09 02:53:00<br>\",\"<b>Day</b>: 2021-12-09 10:32:00<br>\",\"<b>Day</b>: 2021-12-09 16:51:00<br>\",\"<b>Day</b>: 2021-12-09 20:42:00<br>\"],\"type\":\"scatter\",\"x\":[\"2021-11-10 03:15:00\",\"2021-11-10 11:06:00\",\"2021-11-10 17:08:00\",\"2021-11-10 20:37:00\",\"2021-11-11 04:13:00\",\"2021-11-11 12:06:00\",\"2021-11-11 18:43:00\",\"2021-11-11 22:14:00\",\"2021-11-12 05:19:00\",\"2021-11-12 13:00:00\",\"2021-11-12 19:50:00\",\"2021-11-13 00:12:00\",\"2021-11-13 06:29:00\",\"2021-11-13 13:46:00\",\"2021-11-13 20:37:00\",\"2021-11-14 01:53:00\",\"2021-11-14 07:38:00\",\"2021-11-14 14:23:00\",\"2021-11-14 21:16:00\",\"2021-11-15 03:10:00\",\"2021-11-15 08:39:00\",\"2021-11-15 14:54:00\",\"2021-11-15 21:49:00\",\"2021-11-16 04:11:00\",\"2021-11-16 09:32:00\",\"2021-11-16 15:21:00\",\"2021-11-16 22:20:00\",\"2021-11-17 05:02:00\",\"2021-11-17 10:19:00\",\"2021-11-17 15:44:00\",\"2021-11-17 22:49:00\",\"2021-11-18 05:48:00\",\"2021-11-18 11:02:00\",\"2021-11-18 16:05:00\",\"2021-11-18 23:18:00\",\"2021-11-19 06:29:00\",\"2021-11-19 11:42:00\",\"2021-11-19 16:26:00\",\"2021-11-19 23:47:00\",\"2021-11-20 07:08:00\",\"2021-11-20 12:22:00\",\"2021-11-20 16:46:00\",\"2021-11-21 00:17:00\",\"2021-11-21 07:47:00\",\"2021-11-21 13:03:00\",\"2021-11-21 17:09:00\",\"2021-11-22 00:48:00\",\"2021-11-22 08:26:00\",\"2021-11-22 13:48:00\",\"2021-11-22 17:33:00\",\"2021-11-23 01:21:00\",\"2021-11-23 09:08:00\",\"2021-11-23 14:40:00\",\"2021-11-23 18:00:00\",\"2021-11-24 01:57:00\",\"2021-11-24 09:52:00\",\"2021-11-24 15:44:00\",\"2021-11-24 18:32:00\",\"2021-11-25 02:37:00\",\"2021-11-25 10:38:00\",\"2021-11-25 17:03:00\",\"2021-11-25 19:20:00\",\"2021-11-26 03:22:00\",\"2021-11-26 11:23:00\",\"2021-11-26 18:19:00\",\"2021-11-26 20:51:00\",\"2021-11-27 04:14:00\",\"2021-11-27 12:05:00\",\"2021-11-27 19:08:00\",\"2021-11-27 22:47:00\",\"2021-11-28 05:13:00\",\"2021-11-28 12:42:00\",\"2021-11-28 19:46:00\",\"2021-11-29 00:37:00\",\"2021-11-29 06:19:00\",\"2021-11-29 13:16:00\",\"2021-11-29 20:22:00\",\"2021-11-30 02:07:00\",\"2021-11-30 07:26:00\",\"2021-11-30 13:48:00\",\"2021-11-30 20:59:00\",\"2021-12-01 03:19:00\",\"2021-12-01 08:29:00\",\"2021-12-01 14:20:00\",\"2021-12-01 21:38:00\",\"2021-12-02 04:22:00\",\"2021-12-02 09:27:00\",\"2021-12-02 14:54:00\",\"2021-12-02 22:19:00\",\"2021-12-03 05:20:00\",\"2021-12-03 10:23:00\",\"2021-12-03 15:30:00\",\"2021-12-03 23:01:00\",\"2021-12-04 06:15:00\",\"2021-12-04 11:19:00\",\"2021-12-04 16:09:00\",\"2021-12-04 23:45:00\",\"2021-12-05 07:08:00\",\"2021-12-05 12:15:00\",\"2021-12-05 16:52:00\",\"2021-12-06 00:30:00\",\"2021-12-06 08:00:00\",\"2021-12-06 13:15:00\",\"2021-12-06 17:38:00\",\"2021-12-07 01:17:00\",\"2021-12-07 08:51:00\",\"2021-12-07 14:20:00\",\"2021-12-07 18:29:00\",\"2021-12-08 02:04:00\",\"2021-12-08 09:42:00\",\"2021-12-08 15:32:00\",\"2021-12-08 19:28:00\",\"2021-12-09 02:53:00\",\"2021-12-09 10:32:00\",\"2021-12-09 16:51:00\",\"2021-12-09 20:42:00\"],\"xaxis\":\"x\",\"y\":[0.8,5.1,3.6,3.9,1.2,5.0,3.3,3.6,1.6,5.0,3.0,3.5,2.0,4.9,2.6,3.6,2.3,4.9,2.2,3.9,2.6,4.8,1.8,4.2,2.8,4.7,1.5,4.4,3.1,4.6,1.3,4.6,3.3,4.5,1.1,4.7,3.5,4.5,1.0,4.8,3.7,4.4,0.9,4.9,3.8,4.3,1.0,4.9,3.8,4.2,1.0,4.9,3.9,4.1,1.2,4.9,3.8,4.0,1.3,4.8,3.7,3.8,1.5,4.8,3.5,3.5,1.8,4.8,3.1,3.4,2.1,4.9,2.7,3.5,2.4,4.9,2.2,3.8,2.7,4.9,1.7,4.1,3.0,5.0,1.2,4.5,3.3,5.0,0.7,4.8,3.5,5.0,0.3,5.1,3.7,5.0,0.1,5.2,3.8,4.9,0.0,5.3,3.8,4.8,0.2,5.4,3.8,4.5,0.4,5.3,3.6,4.2,0.8,5.3,3.4,3.8],\"yaxis\":\"y\"},{\"hovertemplate\":\" %{y:.3f}m\",\"name\":\"low point of the trap\",\"type\":\"scatter\",\"x\":[\"2021-11-10 03:15:00\",\"2021-11-10 11:06:00\",\"2021-11-10 17:08:00\",\"2021-11-10 20:37:00\",\"2021-11-11 04:13:00\",\"2021-11-11 12:06:00\",\"2021-11-11 18:43:00\",\"2021-11-11 22:14:00\",\"2021-11-12 05:19:00\",\"2021-11-12 13:00:00\",\"2021-11-12 19:50:00\",\"2021-11-13 00:12:00\",\"2021-11-13 06:29:00\",\"2021-11-13 13:46:00\",\"2021-11-13 20:37:00\",\"2021-11-14 01:53:00\",\"2021-11-14 07:38:00\",\"2021-11-14 14:23:00\",\"2021-11-14 21:16:00\",\"2021-11-15 03:10:00\",\"2021-11-15 08:39:00\",\"2021-11-15 14:54:00\",\"2021-11-15 21:49:00\",\"2021-11-16 04:11:00\",\"2021-11-16 09:32:00\",\"2021-11-16 15:21:00\",\"2021-11-16 22:20:00\",\"2021-11-17 05:02:00\",\"2021-11-17 10:19:00\",\"2021-11-17 15:44:00\",\"2021-11-17 22:49:00\",\"2021-11-18 05:48:00\",\"2021-11-18 11:02:00\",\"2021-11-18 16:05:00\",\"2021-11-18 23:18:00\",\"2021-11-19 06:29:00\",\"2021-11-19 11:42:00\",\"2021-11-19 16:26:00\",\"2021-11-19 23:47:00\",\"2021-11-20 07:08:00\",\"2021-11-20 12:22:00\",\"2021-11-20 16:46:00\",\"2021-11-21 00:17:00\",\"2021-11-21 07:47:00\",\"2021-11-21 13:03:00\",\"2021-11-21 17:09:00\",\"2021-11-22 00:48:00\",\"2021-11-22 08:26:00\",\"2021-11-22 13:48:00\",\"2021-11-22 17:33:00\",\"2021-11-23 01:21:00\",\"2021-11-23 09:08:00\",\"2021-11-23 14:40:00\",\"2021-11-23 18:00:00\",\"2021-11-24 01:57:00\",\"2021-11-24 09:52:00\",\"2021-11-24 15:44:00\",\"2021-11-24 18:32:00\",\"2021-11-25 02:37:00\",\"2021-11-25 10:38:00\",\"2021-11-25 17:03:00\",\"2021-11-25 19:20:00\",\"2021-11-26 03:22:00\",\"2021-11-26 11:23:00\",\"2021-11-26 18:19:00\",\"2021-11-26 20:51:00\",\"2021-11-27 04:14:00\",\"2021-11-27 12:05:00\",\"2021-11-27 19:08:00\",\"2021-11-27 22:47:00\",\"2021-11-28 05:13:00\",\"2021-11-28 12:42:00\",\"2021-11-28 19:46:00\",\"2021-11-29 00:37:00\",\"2021-11-29 06:19:00\",\"2021-11-29 13:16:00\",\"2021-11-29 20:22:00\",\"2021-11-30 02:07:00\",\"2021-11-30 07:26:00\",\"2021-11-30 13:48:00\",\"2021-11-30 20:59:00\",\"2021-12-01 03:19:00\",\"2021-12-01 08:29:00\",\"2021-12-01 14:20:00\",\"2021-12-01 21:38:00\",\"2021-12-02 04:22:00\",\"2021-12-02 09:27:00\",\"2021-12-02 14:54:00\",\"2021-12-02 22:19:00\",\"2021-12-03 05:20:00\",\"2021-12-03 10:23:00\",\"2021-12-03 15:30:00\",\"2021-12-03 23:01:00\",\"2021-12-04 06:15:00\",\"2021-12-04 11:19:00\",\"2021-12-04 16:09:00\",\"2021-12-04 23:45:00\",\"2021-12-05 07:08:00\",\"2021-12-05 12:15:00\",\"2021-12-05 16:52:00\",\"2021-12-06 00:30:00\",\"2021-12-06 08:00:00\",\"2021-12-06 13:15:00\",\"2021-12-06 17:38:00\",\"2021-12-07 01:17:00\",\"2021-12-07 08:51:00\",\"2021-12-07 14:20:00\",\"2021-12-07 18:29:00\",\"2021-12-08 02:04:00\",\"2021-12-08 09:42:00\",\"2021-12-08 15:32:00\",\"2021-12-08 19:28:00\",\"2021-12-09 02:53:00\",\"2021-12-09 10:32:00\",\"2021-12-09 16:51:00\",\"2021-12-09 20:42:00\"],\"xaxis\":\"x\",\"y\":[2.9005349573860304,2.9005349573860304,2.9005349573860304,2.9005349573860304,2.9005349573860304,2.9005349573860304,2.9005349573860304,2.9005349573860304,2.9005349573860304,2.9005349573860304,2.9005349573860304,2.9005349573860304,2.9005349573860304,2.9005349573860304,2.9005349573860304,2.9005349573860304,2.9005349573860304,2.9005349573860304,2.9005349573860304,2.9005349573860304,2.9005349573860304,2.9005349573860304,2.9005349573860304,2.9005349573860304,2.9005349573860304,2.9005349573860304,2.9005349573860304,2.9005349573860304,2.9005349573860304,2.9005349573860304,2.9005349573860304,2.9005349573860304,2.9005349573860304,2.9005349573860304,2.9005349573860304,2.9005349573860304,2.9005349573860304,2.9005349573860304,2.9005349573860304,2.9005349573860304,2.9005349573860304,2.9005349573860304,2.9005349573860304,2.9005349573860304,2.9005349573860304,2.9005349573860304,2.9005349573860304,2.9005349573860304,2.9005349573860304,2.9005349573860304,2.9005349573860304,2.9005349573860304,2.9005349573860304,2.9005349573860304,2.9005349573860304,2.9005349573860304,2.9005349573860304,2.9005349573860304,2.9005349573860304,2.9005349573860304,2.9005349573860304,2.9005349573860304,2.9005349573860304,2.9005349573860304,2.9005349573860304,2.9005349573860304,2.9005349573860304,2.9005349573860304,2.9005349573860304,2.9005349573860304,2.9005349573860304,2.9005349573860304,2.9005349573860304,2.9005349573860304,2.9005349573860304,2.9005349573860304,2.9005349573860304,2.9005349573860304,2.9005349573860304,2.9005349573860304,2.9005349573860304,2.9005349573860304,2.9005349573860304,2.9005349573860304,2.9005349573860304,2.9005349573860304,2.9005349573860304,2.9005349573860304,2.9005349573860304,2.9005349573860304,2.9005349573860304,2.9005349573860304,2.9005349573860304,2.9005349573860304,2.9005349573860304,2.9005349573860304,2.9005349573860304,2.9005349573860304,2.9005349573860304,2.9005349573860304,2.9005349573860304,2.9005349573860304,2.9005349573860304,2.9005349573860304,2.9005349573860304,2.9005349573860304,2.9005349573860304,2.9005349573860304,2.9005349573860304,2.9005349573860304,2.9005349573860304,2.9005349573860304,2.9005349573860304,2.9005349573860304,2.9005349573860304,2.9005349573860304],\"yaxis\":\"y\"},{\"domain\":{\"x\":[0.55,1.0],\"y\":[0.0,1.0]},\"labels\":[\"Harvested Fish\",\"Surviving Fish in Area\"],\"marker\":{\"colors\":[\"rgb(33, 75, 99)\",\"rgb(79, 129, 102)\"]},\"name\":\"Survivors vs Harvested Fish\",\"type\":\"pie\",\"values\":[609,391]}],                        {\"height\":600,\"showlegend\":true,\"template\":{\"data\":{\"bar\":[{\"error_x\":{\"color\":\"#2a3f5f\"},\"error_y\":{\"color\":\"#2a3f5f\"},\"marker\":{\"line\":{\"color\":\"#E5ECF6\",\"width\":0.5},\"pattern\":{\"fillmode\":\"overlay\",\"size\":10,\"solidity\":0.2}},\"type\":\"bar\"}],\"barpolar\":[{\"marker\":{\"line\":{\"color\":\"#E5ECF6\",\"width\":0.5},\"pattern\":{\"fillmode\":\"overlay\",\"size\":10,\"solidity\":0.2}},\"type\":\"barpolar\"}],\"carpet\":[{\"aaxis\":{\"endlinecolor\":\"#2a3f5f\",\"gridcolor\":\"white\",\"linecolor\":\"white\",\"minorgridcolor\":\"white\",\"startlinecolor\":\"#2a3f5f\"},\"baxis\":{\"endlinecolor\":\"#2a3f5f\",\"gridcolor\":\"white\",\"linecolor\":\"white\",\"minorgridcolor\":\"white\",\"startlinecolor\":\"#2a3f5f\"},\"type\":\"carpet\"}],\"choropleth\":[{\"colorbar\":{\"outlinewidth\":0,\"ticks\":\"\"},\"type\":\"choropleth\"}],\"contour\":[{\"colorbar\":{\"outlinewidth\":0,\"ticks\":\"\"},\"colorscale\":[[0.0,\"#0d0887\"],[0.1111111111111111,\"#46039f\"],[0.2222222222222222,\"#7201a8\"],[0.3333333333333333,\"#9c179e\"],[0.4444444444444444,\"#bd3786\"],[0.5555555555555556,\"#d8576b\"],[0.6666666666666666,\"#ed7953\"],[0.7777777777777778,\"#fb9f3a\"],[0.8888888888888888,\"#fdca26\"],[1.0,\"#f0f921\"]],\"type\":\"contour\"}],\"contourcarpet\":[{\"colorbar\":{\"outlinewidth\":0,\"ticks\":\"\"},\"type\":\"contourcarpet\"}],\"heatmap\":[{\"colorbar\":{\"outlinewidth\":0,\"ticks\":\"\"},\"colorscale\":[[0.0,\"#0d0887\"],[0.1111111111111111,\"#46039f\"],[0.2222222222222222,\"#7201a8\"],[0.3333333333333333,\"#9c179e\"],[0.4444444444444444,\"#bd3786\"],[0.5555555555555556,\"#d8576b\"],[0.6666666666666666,\"#ed7953\"],[0.7777777777777778,\"#fb9f3a\"],[0.8888888888888888,\"#fdca26\"],[1.0,\"#f0f921\"]],\"type\":\"heatmap\"}],\"heatmapgl\":[{\"colorbar\":{\"outlinewidth\":0,\"ticks\":\"\"},\"colorscale\":[[0.0,\"#0d0887\"],[0.1111111111111111,\"#46039f\"],[0.2222222222222222,\"#7201a8\"],[0.3333333333333333,\"#9c179e\"],[0.4444444444444444,\"#bd3786\"],[0.5555555555555556,\"#d8576b\"],[0.6666666666666666,\"#ed7953\"],[0.7777777777777778,\"#fb9f3a\"],[0.8888888888888888,\"#fdca26\"],[1.0,\"#f0f921\"]],\"type\":\"heatmapgl\"}],\"histogram\":[{\"marker\":{\"pattern\":{\"fillmode\":\"overlay\",\"size\":10,\"solidity\":0.2}},\"type\":\"histogram\"}],\"histogram2d\":[{\"colorbar\":{\"outlinewidth\":0,\"ticks\":\"\"},\"colorscale\":[[0.0,\"#0d0887\"],[0.1111111111111111,\"#46039f\"],[0.2222222222222222,\"#7201a8\"],[0.3333333333333333,\"#9c179e\"],[0.4444444444444444,\"#bd3786\"],[0.5555555555555556,\"#d8576b\"],[0.6666666666666666,\"#ed7953\"],[0.7777777777777778,\"#fb9f3a\"],[0.8888888888888888,\"#fdca26\"],[1.0,\"#f0f921\"]],\"type\":\"histogram2d\"}],\"histogram2dcontour\":[{\"colorbar\":{\"outlinewidth\":0,\"ticks\":\"\"},\"colorscale\":[[0.0,\"#0d0887\"],[0.1111111111111111,\"#46039f\"],[0.2222222222222222,\"#7201a8\"],[0.3333333333333333,\"#9c179e\"],[0.4444444444444444,\"#bd3786\"],[0.5555555555555556,\"#d8576b\"],[0.6666666666666666,\"#ed7953\"],[0.7777777777777778,\"#fb9f3a\"],[0.8888888888888888,\"#fdca26\"],[1.0,\"#f0f921\"]],\"type\":\"histogram2dcontour\"}],\"mesh3d\":[{\"colorbar\":{\"outlinewidth\":0,\"ticks\":\"\"},\"type\":\"mesh3d\"}],\"parcoords\":[{\"line\":{\"colorbar\":{\"outlinewidth\":0,\"ticks\":\"\"}},\"type\":\"parcoords\"}],\"pie\":[{\"automargin\":true,\"type\":\"pie\"}],\"scatter\":[{\"marker\":{\"colorbar\":{\"outlinewidth\":0,\"ticks\":\"\"}},\"type\":\"scatter\"}],\"scatter3d\":[{\"line\":{\"colorbar\":{\"outlinewidth\":0,\"ticks\":\"\"}},\"marker\":{\"colorbar\":{\"outlinewidth\":0,\"ticks\":\"\"}},\"type\":\"scatter3d\"}],\"scattercarpet\":[{\"marker\":{\"colorbar\":{\"outlinewidth\":0,\"ticks\":\"\"}},\"type\":\"scattercarpet\"}],\"scattergeo\":[{\"marker\":{\"colorbar\":{\"outlinewidth\":0,\"ticks\":\"\"}},\"type\":\"scattergeo\"}],\"scattergl\":[{\"marker\":{\"colorbar\":{\"outlinewidth\":0,\"ticks\":\"\"}},\"type\":\"scattergl\"}],\"scattermapbox\":[{\"marker\":{\"colorbar\":{\"outlinewidth\":0,\"ticks\":\"\"}},\"type\":\"scattermapbox\"}],\"scatterpolar\":[{\"marker\":{\"colorbar\":{\"outlinewidth\":0,\"ticks\":\"\"}},\"type\":\"scatterpolar\"}],\"scatterpolargl\":[{\"marker\":{\"colorbar\":{\"outlinewidth\":0,\"ticks\":\"\"}},\"type\":\"scatterpolargl\"}],\"scatterternary\":[{\"marker\":{\"colorbar\":{\"outlinewidth\":0,\"ticks\":\"\"}},\"type\":\"scatterternary\"}],\"surface\":[{\"colorbar\":{\"outlinewidth\":0,\"ticks\":\"\"},\"colorscale\":[[0.0,\"#0d0887\"],[0.1111111111111111,\"#46039f\"],[0.2222222222222222,\"#7201a8\"],[0.3333333333333333,\"#9c179e\"],[0.4444444444444444,\"#bd3786\"],[0.5555555555555556,\"#d8576b\"],[0.6666666666666666,\"#ed7953\"],[0.7777777777777778,\"#fb9f3a\"],[0.8888888888888888,\"#fdca26\"],[1.0,\"#f0f921\"]],\"type\":\"surface\"}],\"table\":[{\"cells\":{\"fill\":{\"color\":\"#EBF0F8\"},\"line\":{\"color\":\"white\"}},\"header\":{\"fill\":{\"color\":\"#C8D4E3\"},\"line\":{\"color\":\"white\"}},\"type\":\"table\"}]},\"layout\":{\"annotationdefaults\":{\"arrowcolor\":\"#2a3f5f\",\"arrowhead\":0,\"arrowwidth\":1},\"autotypenumbers\":\"strict\",\"coloraxis\":{\"colorbar\":{\"outlinewidth\":0,\"ticks\":\"\"}},\"colorscale\":{\"diverging\":[[0,\"#8e0152\"],[0.1,\"#c51b7d\"],[0.2,\"#de77ae\"],[0.3,\"#f1b6da\"],[0.4,\"#fde0ef\"],[0.5,\"#f7f7f7\"],[0.6,\"#e6f5d0\"],[0.7,\"#b8e186\"],[0.8,\"#7fbc41\"],[0.9,\"#4d9221\"],[1,\"#276419\"]],\"sequential\":[[0.0,\"#0d0887\"],[0.1111111111111111,\"#46039f\"],[0.2222222222222222,\"#7201a8\"],[0.3333333333333333,\"#9c179e\"],[0.4444444444444444,\"#bd3786\"],[0.5555555555555556,\"#d8576b\"],[0.6666666666666666,\"#ed7953\"],[0.7777777777777778,\"#fb9f3a\"],[0.8888888888888888,\"#fdca26\"],[1.0,\"#f0f921\"]],\"sequentialminus\":[[0.0,\"#0d0887\"],[0.1111111111111111,\"#46039f\"],[0.2222222222222222,\"#7201a8\"],[0.3333333333333333,\"#9c179e\"],[0.4444444444444444,\"#bd3786\"],[0.5555555555555556,\"#d8576b\"],[0.6666666666666666,\"#ed7953\"],[0.7777777777777778,\"#fb9f3a\"],[0.8888888888888888,\"#fdca26\"],[1.0,\"#f0f921\"]]},\"colorway\":[\"#636efa\",\"#EF553B\",\"#00cc96\",\"#ab63fa\",\"#FFA15A\",\"#19d3f3\",\"#FF6692\",\"#B6E880\",\"#FF97FF\",\"#FECB52\"],\"font\":{\"color\":\"#2a3f5f\"},\"geo\":{\"bgcolor\":\"white\",\"lakecolor\":\"white\",\"landcolor\":\"#E5ECF6\",\"showlakes\":true,\"showland\":true,\"subunitcolor\":\"white\"},\"hoverlabel\":{\"align\":\"left\"},\"hovermode\":\"closest\",\"mapbox\":{\"style\":\"light\"},\"paper_bgcolor\":\"white\",\"plot_bgcolor\":\"#E5ECF6\",\"polar\":{\"angularaxis\":{\"gridcolor\":\"white\",\"linecolor\":\"white\",\"ticks\":\"\"},\"bgcolor\":\"#E5ECF6\",\"radialaxis\":{\"gridcolor\":\"white\",\"linecolor\":\"white\",\"ticks\":\"\"}},\"scene\":{\"xaxis\":{\"backgroundcolor\":\"#E5ECF6\",\"gridcolor\":\"white\",\"gridwidth\":2,\"linecolor\":\"white\",\"showbackground\":true,\"ticks\":\"\",\"zerolinecolor\":\"white\"},\"yaxis\":{\"backgroundcolor\":\"#E5ECF6\",\"gridcolor\":\"white\",\"gridwidth\":2,\"linecolor\":\"white\",\"showbackground\":true,\"ticks\":\"\",\"zerolinecolor\":\"white\"},\"zaxis\":{\"backgroundcolor\":\"#E5ECF6\",\"gridcolor\":\"white\",\"gridwidth\":2,\"linecolor\":\"white\",\"showbackground\":true,\"ticks\":\"\",\"zerolinecolor\":\"white\"}},\"shapedefaults\":{\"line\":{\"color\":\"#2a3f5f\"}},\"ternary\":{\"aaxis\":{\"gridcolor\":\"white\",\"linecolor\":\"white\",\"ticks\":\"\"},\"baxis\":{\"gridcolor\":\"white\",\"linecolor\":\"white\",\"ticks\":\"\"},\"bgcolor\":\"#E5ECF6\",\"caxis\":{\"gridcolor\":\"white\",\"linecolor\":\"white\",\"ticks\":\"\"}},\"title\":{\"x\":0.05},\"xaxis\":{\"automargin\":true,\"gridcolor\":\"white\",\"linecolor\":\"white\",\"ticks\":\"\",\"title\":{\"standoff\":15},\"zerolinecolor\":\"white\",\"zerolinewidth\":2},\"yaxis\":{\"automargin\":true,\"gridcolor\":\"white\",\"linecolor\":\"white\",\"ticks\":\"\",\"title\":{\"standoff\":15},\"zerolinecolor\":\"white\",\"zerolinewidth\":2}}},\"title\":{\"text\":\"Fish Trap Simulation\"},\"width\":950,\"xaxis\":{\"anchor\":\"y\",\"domain\":[0.0,0.45]},\"yaxis\":{\"anchor\":\"x\",\"domain\":[0.0,1.0]}},                        {\"responsive\": true}                    ).then(function(){\n",
       "                            \n",
       "var gd = document.getElementById('b629f627-5ad8-4344-b538-a9e9721977ba');\n",
       "var x = new MutationObserver(function (mutations, observer) {{\n",
       "        var display = window.getComputedStyle(gd).display;\n",
       "        if (!display || display === 'none') {{\n",
       "            console.log([gd, 'removed!']);\n",
       "            Plotly.purge(gd);\n",
       "            observer.disconnect();\n",
       "        }}\n",
       "}});\n",
       "\n",
       "// Listen for the removal of the full notebook cells\n",
       "var notebookContainer = gd.closest('#notebook-container');\n",
       "if (notebookContainer) {{\n",
       "    x.observe(notebookContainer, {childList: true});\n",
       "}}\n",
       "\n",
       "// Listen for the clearing of the current output cell\n",
       "var outputEl = gd.closest('.output');\n",
       "if (outputEl) {{\n",
       "    x.observe(outputEl, {childList: true});\n",
       "}}\n",
       "\n",
       "                        })                };                });            </script>        </div>"
      ]
     },
     "metadata": {},
     "output_type": "display_data"
    }
   ],
   "source": [
    "display(tab)\n"
   ]
  },
  {
   "cell_type": "markdown",
   "metadata": {},
   "source": [
    "### Simulate trapping fish\n",
    "\n",
    "Play with the parameters using the menu. \n",
    "\n",
    "How many fish can you trap? \n",
    "\n",
    "Press the `Plot 3D Beach Only` checkmark. How big is the trap? How tall is it? How does it help us with catching fish? \n",
    "\n"
   ]
  },
  {
   "cell_type": "markdown",
   "metadata": {},
   "source": [
    "### Acknowledgements\n",
    "\n",
    "We thank the Tla’amin Nation for producing media content and generously sharing their knowledge on the longstanding tradition of fish traps within ʔagayqsɛn (Ahgykson Island), formerly Harwood Island, in British Columbia, Canada. \n",
    "\n",
    "We thank Anouk de Brouwer, Rachel Dunn, Courtney Van Den Elzen, Janson Lin, and Pierayeh Vahdani, for their contributions to code as part of the Vancouver DataJam 2020. \n",
    "\n",
    "Developer team: Cedric Chauve, Laura Gutierrez Funderburk, Bryce Haley, Veselin Jungic"
   ]
  },
  {
   "cell_type": "markdown",
   "metadata": {},
   "source": [
    "[![Callysto.ca License](https://github.com/callysto/curriculum-notebooks/blob/master/callysto-notebook-banner-bottom.jpg?raw=true)](https://github.com/callysto/curriculum-notebooks/blob/master/LICENSE.md)"
   ]
  }
 ],
 "metadata": {
  "kernelspec": {
   "display_name": "Python 3 (ipykernel)",
   "language": "python",
   "name": "python3"
  },
  "language_info": {
   "codemirror_mode": {
    "name": "ipython",
    "version": 3
   },
   "file_extension": ".py",
   "mimetype": "text/x-python",
   "name": "python",
   "nbconvert_exporter": "python",
   "pygments_lexer": "ipython3",
   "version": "3.9.6"
  }
 },
 "nbformat": 4,
 "nbformat_minor": 4
}
