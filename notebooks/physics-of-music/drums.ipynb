{
 "cells": [
  {
   "cell_type": "markdown",
   "id": "87e914e0",
   "metadata": {},
   "source": [
    "![Callysto.ca Banner](https://github.com/callysto/curriculum-notebooks/blob/master/callysto-notebook-banner-top.jpg?raw=true)"
   ]
  },
  {
   "cell_type": "markdown",
   "id": "52d28393",
   "metadata": {},
   "source": [
    "# Physics of Music - Drums\n",
    "\n",
    "---\n",
    "\n",
    "## <font color=\"#FF0000\">WARNING:</font>\n",
    "\n",
    "This notebook will play a variety of sounds to help you learn about sounds. It can be **<font color=\"#FF0000\">VERY LOUD</font>** so be sure to turn down the volume on your computer before beginning.\n",
    "\n",
    "---\n"
   ]
  },
  {
   "cell_type": "markdown",
   "id": "9c969e0c",
   "metadata": {},
   "source": [
    "## What are Drums\n",
    "\n",
    "A drum is a musical instrument that produces sound by means of a vibrating membrane or skin stretched over a hollow shell or frame. The vibrations of a drum are not usually periodic but consist of a mix of oscillations at different frequncies and amplitudes, arrayed across the surface of the drum head. The material of the drum head, its thickness, the diameter, and the tension of the membrane all influence the sound produced, as does the manner of striking the drum and shape of the frame holding the drum head. \n",
    "\n",
    "Drums come in many different sizes, shapes and designs, from places all around the world.  A typical drum set for a rock band includes a snare drum, a couple of tom-toms, a floor tom, and a bass drum. Usually the kit includes a few cymbals as well, which is a different kind of percussive instrument. \n",
    "\n",
    "<img src=\"images/drum-asba3.jpg\" alt=\"A drum set\" width=\"300\"/>\n",
    "<div align=\"center\">\n",
    "Photo by <a href=\"https://unsplash.com/es/@asbadrums?utm_source=unsplash&utm_medium=referral&utm_content=creditCopyText\">ASBA Drums</a> on <a href=\"https://unsplash.com/@asbadrums?utm_source=unsplash&utm_medium=referral&utm_content=creditCopyText\">Unsplash</a>\n",
    "</div>\n",
    "\n",
    "Different drums come from various cultures all over, include such things as bongo,\n",
    "conga, djembe, damroo, dhal, hudak, bendir, darbuka, deff, nagada, and more.\n",
    "\n",
    "All types have three common ingredients: a drum head consisting of a circular membrane that vibrates when struck, something to strike it with such as sticks or hands and fingers, and a body or frame that support the membrane. Some drum designs include additional elements, such as second vibrating membrane on the back of the drum that moves in tandem with the first drum head, a device for tightening or loosening the drum head for tuning, wires or metal pieces attached to the drum, like a snare drum that vibrate along with the drum head. \n",
    "\n",
    "Notice again that the drum then has the three features of a musical instruments. An initiator to start the sound (e.g. drum sticks), a vibrating membrane to create the sound (the drum head), and the resonator, which is the frame of the drum itself and the air within. \n",
    "\n",
    "Let's start by examining the drum head and how it vibrates. "
   ]
  },
  {
   "cell_type": "markdown",
   "id": "85f2fb61",
   "metadata": {},
   "source": [
    "### The drum head\n",
    "\n",
    "The head of a drum consists of a thin membrane stretched across a circular frame as shown in the figure below. Often this membrane is made from the skin of an animal, or more recently made of a plastic like Mylar. The membrane is drawn tight across the frame, with the tightness adjusted by the drum builder to get an acceptable sound. \n",
    "\n",
    "In the figure, you can see the cords that are used to tighten the membrane against the drum head.\n",
    "\n",
    "<img src=\"images/drum-mendoza.jpg\" alt=\"A simple drum head\" width=\"500\"/>\n",
    "<div align=\"center\">\n",
    "    Photo by <a href=\"https://unsplash.com/@luxiernaga?utm_source=unsplash&utm_medium=referral&utm_content=creditCopyText\">Luz Mendoza</a> on <a href=\"https://unsplash.com/s/photos/drum?utm_source=unsplash&utm_medium=referral&utm_content=creditCopyText\">Unsplash</a>\n",
    "   <\\div>\n",
    "  \n",
    "As a two dimensional surface, the drum head can vibrate in very complex patterns, in fact much more complex than the plucked string of a guitar or violin. Mathematicians and physicists have exact equations to describe the motion of an ideal two-dimensional circular membrane. This is only an approximation, as a real drum is not \"ideal\" and the resonances of the drum body strongly affects the vibrations. \n",
    "       \n",
    " However, understanding the motion of an ideal circlar membrane is a good place to start."
   ]
  },
  {
   "cell_type": "markdown",
   "id": "f32e4ad3",
   "metadata": {},
   "source": [
    "## Modes of vibration - symmetric\n",
    "\n",
    "The complex motions of the circular drum head are made up of simpler vibrations called modes, that are very much like the standing wave modes we see in vibrating strings. It's a bit more complicated for a two-dimensional drum head because the drum modes are index by pairs of integers $(m,n)$ while for strings, we just index by the harmonic number (first harmonic, second harmonic, third harmonic, etc.)\n",
    "\n",
    "The $(0,n)$ modes are the symmetric modes of vibration, and are a bit easier to understand.  The first three symmetric modes vibrate like this:\n",
    "\n",
    "<div align=\"center\">\n",
    "    <b> The symmetric vibration modes of a circular drumhead </b>    \n",
    "<table width = 600>\n",
    "<tr>\n",
    "<td><img src=\"images/drumhead_01.gif\"></td>\n",
    "<td><img src=\"images/drumhead_02.gif\"></td>\n",
    "<td><img src=\"images/drumhead_03.gif\"></td>\n",
    "</tr>\n",
    "<tr>\n",
    "<td><div align=\"center\">Vibration Mode 01. </div></td>\n",
    "<td><div align=\"center\">Vibration Mode 02. </div></td>\n",
    "<td><div align=\"center\">Vibration Mode 03. </div></td>\n",
    "</tr>\n",
    "</table>\n",
    "</div>\n",
    "\n",
    "A cross section through the center of the drumhead shows a shape to the vibration that looks a bit like the bumps on a cosine wave. In fact, it comes from a Bessel function, which looks like this:\n",
    "\n",
    "<img src=\"images/bessel.png\" alt=\"A Bessel function\" width=\"500\"/>\n",
    "<div align=\"center\">Bessel function $J_0$ with zeros marked. </div>\n",
    "\n",
    "The number of bumps included is labeled by the number $n$ in the mode index $(0,n)$. You may have noticed in the GIFs above that the $(0,3)$ mode moves more quickly than the $(0,1)$ mode. In fact, it is the location of the zeros of the Bessel function that determine the frequency of vibration for the corresponding mode of vibration. However, unlike the sine and cosine functions, these zeros are not evenly spaced, so the frequencies of the various modes are not related by simple integers. \n",
    "\n",
    "This is why drums do not sound as musical as, say, a guitar string. "
   ]
  },
  {
   "cell_type": "markdown",
   "id": "db348108",
   "metadata": {},
   "source": [
    "## Modes of vibration - nonsymmetric\n",
    "\n",
    "There are additional modes of vibration that are not symmetric, and are identifies by indices $(m,n)$ where $m$ is an integer bigger than zero. The first few modes look like the following, where we have included the symmetric modes in the top row of the figure:\n",
    "\n",
    "<div align=\"center\">\n",
    "    <b> A few vibration modes for a circular drumhead </b>    \n",
    "<table width = 600>\n",
    "<tr>\n",
    "<td><img src=\"images/drumhead_01.gif\"></td>\n",
    "<td><img src=\"images/drumhead_02.gif\"></td>\n",
    "<td><img src=\"images/drumhead_03.gif\"></td>\n",
    "</tr>\n",
    "<tr>\n",
    "<td><div align=\"center\">Vibration Mode 01. </div></td>\n",
    "<td><div align=\"center\">Vibration Mode 02. </div></td>\n",
    "<td><div align=\"center\">Vibration Mode 03. </div></td>\n",
    "</tr>\n",
    "<tr>\n",
    "<td><img src=\"images/drumhead_11.gif\"></td>\n",
    "<td><img src=\"images/drumhead_12.gif\"></td>\n",
    "<td><img src=\"images/drumhead_13.gif\"></td>\n",
    "</tr>\n",
    "<tr>\n",
    "<td><div align=\"center\">Vibration Mode 11. </div></td>\n",
    "<td><div align=\"center\">Vibration Mode 12. </div></td>\n",
    "<td><div align=\"center\">Vibration Mode 13. </div></td>\n",
    "</tr>\n",
    "<tr>\n",
    "<td><img src=\"images/drumhead_21.gif\"></td>\n",
    "<td><img src=\"images/drumhead_22.gif\"></td>\n",
    "<td><img src=\"images/drumhead_23.gif\"></td>\n",
    "</tr>\n",
    "<tr>\n",
    "<td><div align=\"center\">Vibration Mode 21. </div></td>\n",
    "<td><div align=\"center\">Vibration Mode 22. </div></td>\n",
    "<td><div align=\"center\">Vibration Mode 23. </div></td>\n",
    "</tr>\n",
    "</table>\n",
    "</div>\n",
    "\n",
    "Basically, the non-symmetric modes introduce a sinusoid function $\\sin(m\\theta)$ in the motion of the membrane, which depends on the angle $\\theta$ as you go around the membrane. In other words, if you were to cut a circular cross-section on the membrane, you would see the shape of a sine wave, with $m$ full periods going around the circle. \n",
    "\n",
    "For instance, if you look at the $(1,1)$ mode above, you can see two peaks moving up and down in opposite directions. These are the positive and negative bumps on a sine wave, fixed on a circle midway between the center and edge of the vibrating membrane.  The $(2,1)$ mode has two periods of the sine wave, so we see two peaks moving up while two matching peaks are going down. \n",
    "\n",
    "The higher modes $(m,n)$ have multple bumps, coming from the bumps in the bessel function as well as the bumps in the sine function. \n",
    "\n",
    "Maybe you can see the pattern?"
   ]
  },
  {
   "cell_type": "markdown",
   "id": "24096261",
   "metadata": {},
   "source": [
    "## Frequency of the resonances\n",
    "\n",
    "We can find the relative frequencies for the various modes by looking up the zeroes of the Bessel functions, and normalizing. This can be done in one or two lines of Python code, using the SciPy package to get access to the special function, $J_n$, which is the collection of Bessel functions describing the vibration.\n",
    "\n",
    "Here is the code:"
   ]
  },
  {
   "cell_type": "code",
   "execution_count": null,
   "id": "284f5105",
   "metadata": {},
   "outputs": [],
   "source": [
    "from scipy.special import jn_zeros \n",
    "[jn_zeros(0,3),jn_zeros(1,3),jn_zeros(2,3)]/jn_zeros(0,1)"
   ]
  },
  {
   "cell_type": "markdown",
   "id": "f8007da0",
   "metadata": {},
   "source": [
    "We put this in a chart, as follows:\n",
    "\n",
    "<div align=\"center\">\n",
    "    <b> Relative frequency of vibration for various nodes. </b>    \n",
    "<table width = 600>\n",
    "<tr>\n",
    "<td><div align=\"center\">Mode 01 </div></td>\n",
    "<td><div align=\"center\">Mode 02 </div></td>\n",
    "<td><div align=\"center\">Mode 03 </div></td>\n",
    "</tr>\n",
    "<tr>\n",
    "<td><div align=\"center\">Rel. Freq = 1.00 </div></td>\n",
    "<td><div align=\"center\">Rel. Freq = 2.30 </div></td>\n",
    "<td><div align=\"center\">Rel. Freq = 3.60 </div></td>\n",
    "</tr>\n",
    "<tr>\n",
    "<td><div align=\"center\">Mode 11 </div></td>\n",
    "<td><div align=\"center\">Mode 12 </div></td>\n",
    "<td><div align=\"center\">Mode 13 </div></td>\n",
    "</tr>\n",
    "<tr>\n",
    "<td><div align=\"center\">Rel. Freq = 1.59 </div></td>\n",
    "<td><div align=\"center\">Rel. Freq = 2.92 </div></td>\n",
    "<td><div align=\"center\">Rel. Freq = 4.23 </div></td>\n",
    "</tr>\n",
    "<tr>\n",
    "<td><div align=\"center\">Mode 21 </div></td>\n",
    "<td><div align=\"center\">Mode 22 </div></td>\n",
    "<td><div align=\"center\">Mode 23 </div></td>\n",
    "</tr>\n",
    "<tr>\n",
    "<td><div align=\"center\">Rel. Freq = 2.14 </div></td>\n",
    "<td><div align=\"center\">Rel. Freq = 3.50 </div></td>\n",
    "<td><div align=\"center\">Rel. Freq = 4.83 </div></td>\n",
    "</tr>\n",
    "</table>\n",
    "</div>\n",
    "\n",
    "Notice the $(0,1)$ mode is the lowest frequency, which we have normalized to one. The other frequencies are higher, but also notice they are not integer multiples of the lowest frequency. This is very different than the nice integer multiple frequencies of the plucked string. \n",
    "\n",
    "Also notice that modes $(2,2)$ and $(0,3)$ have almost the same relative frequency (3.50 and 3.60 respectively). In the GIFs, you should be able to see these two modes moving at nearly the same rate."
   ]
  },
  {
   "cell_type": "markdown",
   "id": "fc80e937",
   "metadata": {},
   "source": [
    "## Which modes?\n",
    "\n",
    "You might ask, which modes actually appear in a vibrating drum? This depends on two things -- where you hit the drum, and how quickly the various modes decay.\n",
    "\n",
    "Hitting the drum at the center of the drum head tends to create the symmetric vibrations, so combinations of modes 01, 02, 03 and so on. Hitting the drum off-center tends to create the non-symmetric vibrations, so combinations of modes 11, 21, 12, 22 and so on. "
   ]
  },
  {
   "cell_type": "markdown",
   "id": "aa13febd",
   "metadata": {},
   "source": [
    "## Resonances and a real drum\n",
    "\n",
    "With a real drum, the resonant frequencies of the drumhead change from those of the ideal circular membrane, for a number of reasons. First of all, the real drum head is not vibrating in a vacuum. There is air around the membrane that gets moved with the vibration, and that takes work. This causes the vibrations to lose energy and eventually die out. It also cause the resonant frequencies to change, as the physics of the vibrating system has changed.\n",
    "\n",
    "Second, there are the resonances of the drum body and the volume of air it contains. The air in the drum body is a three dimensional mass that vibrates itself and has its own preferred resonances. The drum head will tend to vibrate more strongly at its resonant modes that happen to move well with the resonance modes of the air mass. \n",
    "\n",
    "This effect depends on the design of the drum body itself. For instance, in a kettle drum, the drum body is closed, so there is a fixed mass of air inside the drum. This will suppress the (0,1), (0,2), (0,3) modes, for instance, because the in-and-out motion of the central bump on the drumhead in these mode is resisted by the force of the air pressure inside the drum as it gets sucked and squeezed. The (1,1), (2,1), (3,1) modes have those up-and-down going peaks that move in opposite directions, keeping the air volume constant. This way, the fixed air mass does not resist this mode of vibration, so the drum head tends to move in this mode. \n",
    "\n",
    "A bass drum, on the other hand, has an opening to the air, so the (0,1), (0,2), (0,3) modes are not so affected. These give a deeper, thunding sound to the bass drum.\n",
    "\n",
    "Other drums, like a snare drum, have a second membrane on the bottom of the drum, that also vibrates in tandem with the top drum, and again affecting the resonances. \n",
    "\n",
    "Third, there is the fact that when the drum head is hit hard, the membrane stretches a lot and the tension in the membrane increases. This higher tension causes the resonant frequencies to shift higher. \n",
    "\n",
    "Finally, there is the wrinkle factor. The drumhead is often made of something like a plastic sheet, and if you have ever tried to wrap a plastic sheet around something round like an apple, you know the plastic will tend to wrinkle. This resistance to a sheer force also affects the motion of the membrane, and tends to shift resonant frequencies higher. "
   ]
  },
  {
   "cell_type": "markdown",
   "id": "cf7779a4",
   "metadata": {},
   "source": [
    "## Timpani\n",
    "\n",
    "The timpani or kettle drum is a big, tonal drum used in symphony orchestras. Its drumhead consists of a large thin membrane, usually made of a plastic called Mylar, which is stretched across a large bowl-shaped drum shell made of copper or fiberglass. The drum shell is closed off to the air, which as mentioned above, tends to surpress the $(0,n)$  modes of vibration. \n",
    "\n",
    "The timpani is tunable, with a foot pedal used to adjust the tension on the drum head. It can be tuned in a range of about half an octave. \n",
    "\n",
    "Back in the 1800's Hermann von Helmholtz studied the timpani and noted that the main tone generated by this drum is from the $(1,1)$ mode of vibration, rather than the fundamental mode $(0,1)$. We call this the principal mode. The other dominant modes we can usually hear are the $(2,1),(3,1),(4,1)$ and $(5,1)$ modes.\n",
    "\n",
    "From the information on Bessel functions, for an ideal vibrating membrane, the relative frequencies of these modes are given by this calculation:"
   ]
  },
  {
   "cell_type": "code",
   "execution_count": null,
   "id": "6e9ca2c5",
   "metadata": {},
   "outputs": [],
   "source": [
    "[jn_zeros(1,1),jn_zeros(2,1),jn_zeros(3,1),jn_zeros(4,1),jn_zeros(5,1)]/jn_zeros(1,1)"
   ]
  },
  {
   "cell_type": "markdown",
   "id": "eecaf149",
   "metadata": {},
   "source": [
    "However, in an actual timpani, the measured relative frequencies are observed to be quite a big higher, as this:\n",
    "\n",
    "| Mode  |  Rel. Freq. |\n",
    "|---|---|\n",
    "|  11 | 1.00  |\n",
    "|  21 | 1.51  |\n",
    "|  31 | 1.99  |\n",
    "|  41 | 2.44  |\n",
    "|  51 | 2.89  |\n",
    "\n",
    "These are very close to the fractions 2/2, 3/2, 4/2, 5/2, 6/2, which is just half the usual harmonic sequence 1,2,3,4,5,6. This is why the timpani sounds as harmonious as it does. \n",
    "\n",
    "## Sound sythesis\n",
    "\n",
    "Let's try to synthesis the sound of a timpani, using a collection of sine wave generators, with decays appropriate for the timpani. \n",
    "\n",
    "We follow the direction of researcher Gordon Reid in this article: https://www.soundonsound.com/techniques/practical-percussion-synthesis-timpani"
   ]
  },
  {
   "cell_type": "markdown",
   "id": "52b0d790",
   "metadata": {},
   "source": [
    "First, we import some Python modules to allow us to work with sound. "
   ]
  },
  {
   "cell_type": "code",
   "execution_count": null,
   "id": "cd04371c",
   "metadata": {},
   "outputs": [],
   "source": [
    "from IPython.display import Audio \n",
    "from numpy import pi, sin, arcsin, maximum, linspace\n",
    "from scipy import signal"
   ]
  },
  {
   "cell_type": "markdown",
   "id": "1dce30a7",
   "metadata": {},
   "source": [
    "Next, we define the relative frequencies for the four loudest modes of vibrations, their decay times (in seconds) and the relative amplitudes for these modes. "
   ]
  },
  {
   "cell_type": "code",
   "execution_count": null,
   "id": "7f7b2ced",
   "metadata": {},
   "outputs": [],
   "source": [
    "## The four main partials or modes: relative frequencies, decays and amplitudes\n",
    "freqs = [1.0, 1.51, 1.99, 2.44]\n",
    "decays = [.45, .73, .91, .84]\n",
    "amps = [5.0, 4.0, 3.0, 1.0]\n",
    "partials = list(zip(freqs, decays, amps))"
   ]
  },
  {
   "cell_type": "markdown",
   "id": "d8f5d9b9",
   "metadata": {},
   "source": [
    "Now we define a tone generator to create the sine wave. We allow a way to set the decay time, so the tone dies out naturally, in a set amount of time."
   ]
  },
  {
   "cell_type": "code",
   "execution_count": null,
   "id": "073c8631",
   "metadata": {},
   "outputs": [],
   "source": [
    "##  Define globals for the Audio\n",
    "rate = 44100 # sample rate\n",
    "dur = 3     # duration in seconds\n",
    "t = linspace(0,dur,int(rate*dur))\n",
    "\n",
    "# define the tone generator with decay\n",
    "def tone(freq,decay):\n",
    "    s = sin(2*pi*freq*t)*maximum(0,decay-t)/decay\n",
    "    return s"
   ]
  },
  {
   "cell_type": "code",
   "execution_count": null,
   "id": "dc91ca2a",
   "metadata": {},
   "outputs": [],
   "source": [
    "## test it\n",
    "Audio(tone(440,.3), rate=rate, autoplay=True)"
   ]
  },
  {
   "cell_type": "markdown",
   "id": "78c82cfd",
   "metadata": {},
   "source": [
    "Finally, let's put this all together, combining all four vibration modes."
   ]
  },
  {
   "cell_type": "code",
   "execution_count": null,
   "id": "ca9b955e",
   "metadata": {},
   "outputs": [],
   "source": [
    "freq = 150\n",
    "decay = 2\n",
    "amp = 1\n",
    "s = 0\n",
    "for f,d,a in partials:\n",
    "    s += amp*a*tone(freq*f,decay*d)\n",
    "    \n",
    "Audio(s, rate=rate, autoplay=True) "
   ]
  },
  {
   "cell_type": "markdown",
   "id": "9b74b45f",
   "metadata": {},
   "source": [
    "### That's not bad!\n",
    "\n",
    "This seems to get the basic tone of the timpani correct. Mr Reid suggests, though, that we should add some initial enharmonics to the sound, to represent the more rapid modes of oscillation that die out very quickly. \n",
    "\n",
    "Reid suggests creating a ring oscillator for amplitude modulation. Without getting too far into the reeds, we just take a triangle wave at one base frequency (100 Hz) and modulate it with another frequency (87 Hz). \n",
    "\n",
    "Here is the code:"
   ]
  },
  {
   "cell_type": "code",
   "execution_count": null,
   "id": "c888ba83",
   "metadata": {},
   "outputs": [],
   "source": [
    "def triangle(freq,t):\n",
    "    return arcsin(sin(2*pi*freq*t))\n",
    "    \n",
    "def ring(f1,f2,a1,a2,decay):\n",
    "    s = (a1*triangle(f1,t) + a2*triangle(f1,t)*triangle(f2,t))*maximum(0,decay-t)/decay\n",
    "    return s"
   ]
  },
  {
   "cell_type": "markdown",
   "id": "43ca2067",
   "metadata": {},
   "source": [
    "We can test the sound of the ring oscillator by playing it through the Audio device. "
   ]
  },
  {
   "cell_type": "code",
   "execution_count": null,
   "id": "fea02936",
   "metadata": {},
   "outputs": [],
   "source": [
    "Audio(ring(100,87,1,.8,.8), rate=rate, autoplay=True)"
   ]
  },
  {
   "cell_type": "markdown",
   "id": "0fbc1ae2",
   "metadata": {},
   "source": [
    "Let's define a filter to make the sound a bit better -- we cut out some low frequencies and some high frequencies. "
   ]
  },
  {
   "cell_type": "code",
   "execution_count": null,
   "id": "b3dfc758",
   "metadata": {},
   "outputs": [],
   "source": [
    "sos = signal.butter(16, [100,1000], 'bp', fs=rate, output='sos')\n",
    "s = signal.sosfilt(sos, ring(100,87,1,.25,.5))\n",
    "Audio(s, rate=rate, autoplay=True)"
   ]
  },
  {
   "cell_type": "markdown",
   "id": "27d2f547",
   "metadata": {},
   "source": [
    "Now put it all together to see how it sounds"
   ]
  },
  {
   "cell_type": "code",
   "execution_count": null,
   "id": "7a0d1760",
   "metadata": {},
   "outputs": [],
   "source": [
    "freq = 150\n",
    "decay = 2\n",
    "amp = 1\n",
    "\n",
    "sos = signal.butter(16, [100,1000], 'bp', fs=rate, output='sos')\n",
    "\n",
    "s = 0*t\n",
    "for f,d,a in partials:\n",
    "    s += amp*a*tone(freq*f,decay*d)\n",
    "    \n",
    "s += 10*signal.sosfilt(sos, ring(100,87,1,.25,.5))\n",
    "\n",
    "display(Audio(s, rate=rate, autoplay=True))"
   ]
  },
  {
   "attachments": {},
   "cell_type": "markdown",
   "id": "3ff1757b",
   "metadata": {},
   "source": [
    "## Summary\n",
    "\n",
    "A drum is a percussive instrument that produces a musical sound when the drum head vibrates in response to being hit, and resonates with the air in the drum body and its parts. The motion of the vibrating drum head is complex, and can be describe by a collection of modes. Each mode has a natural frequency which can be described mathematically for an ideal circular membrane. For a real drum, the natural frequencies are usually different than the idea, but can be found by direct measurement. \n",
    "\n",
    "We can synthesize a timpani with just 4 sine waves and a ring oscillator. "
   ]
  },
  {
   "cell_type": "markdown",
   "id": "3d6fc47e",
   "metadata": {},
   "source": [
    "[![Callysto.ca License](https://github.com/callysto/curriculum-notebooks/blob/master/callysto-notebook-banner-bottom.jpg?raw=true)](https://github.com/callysto/curriculum-notebooks/blob/master/LICENSE.md)"
   ]
  }
 ],
 "metadata": {
  "kernelspec": {
   "display_name": "Python 3 (ipykernel)",
   "language": "python",
   "name": "python3"
  },
  "language_info": {
   "codemirror_mode": {
    "name": "ipython",
    "version": 3
   },
   "file_extension": ".py",
   "mimetype": "text/x-python",
   "name": "python",
   "nbconvert_exporter": "python",
   "pygments_lexer": "ipython3",
   "version": "3.9.13"
  }
 },
 "nbformat": 4,
 "nbformat_minor": 5
}
