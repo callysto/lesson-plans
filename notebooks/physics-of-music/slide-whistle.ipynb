{
 "cells": [
  {
   "cell_type": "markdown",
   "id": "87e914e0",
   "metadata": {},
   "source": [
    "![Callysto.ca Banner](https://github.com/callysto/curriculum-notebooks/blob/master/callysto-notebook-banner-top.jpg?raw=true)"
   ]
  },
  {
   "cell_type": "markdown",
   "id": "b286e9e4",
   "metadata": {},
   "source": [
    "# Physics of Music - Part One"
   ]
  },
  {
   "cell_type": "markdown",
   "id": "5719f13b",
   "metadata": {},
   "source": [
    "<img src=\"images/warning_2.png\" alt=\"Warning - loud sounds\" width=\"100\"/>\n",
    "<img src=\"images/warning_1.png\" alt=\"Warning - turn down your volume\" width=\"200\"/>\n",
    "\n",
    "\n",
    "## WARNING:\n",
    "This notebook will play a variety of sounds to help you learn about sounds. It can be VERY LOUD so be sure to turn down the volume on your computer before beginning."
   ]
  },
  {
   "cell_type": "markdown",
   "id": "92941fcc",
   "metadata": {},
   "source": [
    "## The slide whistle - another wind instrument \n",
    "\n",
    "A slide whistle, also known as a swanee whistle or lotus flute, is a simple, narrow-bore wind instrument that is played by blowing air through a small hole at one end, producing a sliding pitch when the attached piston is moved in and out. It consists of a narrow tube with a whistle on one end and sliding piston on the other that can be moved in and out to change the length of the air column inside the tube.\n",
    "\n",
    "<img src=\"images/SlideWhistle.jpg\" alt=\"Slide Whistle\" width=\"500\"/>\n",
    "<div align=\"center\">A child's slide whistle. </div>\n",
    "\n",
    "To play a slide whistle, the player blows into the mouthpiece at one end of the instrument. This cause a stream of air to move through the whislte, across the fipple and labium, forcing the airstream to rapidly diverge up and down. As the player pushes the sliding piston in and out, it changes the length of the air column inside the tube, which in turn changes the pitch of the sound.\n",
    "\n",
    "Let's again identify the three components that produce the musical sound. First, there is the person blowing into the whistle on the end, which initiates the vibrations in the mouthpiece. Next, there is the vibrating object -- in this case, it is the stream air itself that is vibrating up and down, across the fipple and labium of the mouthpiece. Finally, the vibrations force a resonance in the air column in the tube, which is then passed on to the open air through the hole in the whistle, creating the sound we hear. \n",
    "\n",
    "### The pitch of the slide whistle\n",
    "\n",
    "The pitch of the slide whistle is lower than the penny whistle. This surprising difference is because the slide tube is closed at one end. That is, the slide piston seals off the bottom end of the tube, so no pressure pulse escapes there. This causes the pressure pulse to reflect *without inverting the pulse* at that one end, as in this animation:\n",
    "\n",
    "<img src=\"images/tubeNeg.gif\" alt=\"Pulses with negative reflection, with output\" width=\"500\"/>\n",
    "\n",
    "The result is that the waveform coming out the of slide, with peaks both up and down, makes a complete cycle only when the pulse travels four times across the length of the tube:\n",
    "\n",
    "<img src=\"images/tubeNegP.gif\" alt=\"Three pulses in tube, with output\" width=\"1000\"/>\n",
    "\n",
    "Since the distance the pulse travels per cycle is four time the tube length, the fundamental frequency is\n",
    "\n",
    "$$ \\mbox{Fundamental freq } = \\frac{V}{4L}$$\n",
    "\n",
    "Our slide whistle in the photo above has a tube length of about 19.5 cm, when the piston is fully extended. We expect a fundamental frequency of \n",
    "\n",
    "$$ \\mbox{Fundamental freq } = \\frac{346 \\, m/s}{4\\times 0.195 m} = 443.6 \\mbox{ Hz.}$$\n",
    "\n",
    "Using the online pitch detector, we measured a pitch of 442 Hz, which is pretty close to the above estimate.\n",
    "\n",
    "### Harmonics of the slide whistle\n",
    "\n",
    "When we blow hard on the slide whistle, the tone jumps to the third harmonic, with an estimated frequency of \n",
    "\n",
    "$$ \\mbox{Third harmonic freq } = 3\\times \\mbox{ Fundamental freq },$$\n",
    "\n",
    "which in our sample whistle would be $3\\times 442 = 1326$ Hz. With the online pitch detector, we measured a value of 1326 Hz, whch is very close. \n",
    "\n",
    "So, what happened to the second harmonic. It turns out any tube with one open and one closed end cannot produce a second harmonic. Indeed, it can only produce the odd harmonics, that is, 1,3,5,7,... times the fundamental frequency. \n",
    "\n",
    "### Do it yourself\n",
    "\n",
    "- Try sketching what happens if you place two equally-spaced (positive) pulses per cycle in the diagram of the slide whistle above. Can you see that each positive pulse lines up with, and is cancelled by, a negative pulse? \n",
    "\n",
    "- Try this with other even harmonic, like 4x, 6x, etc. It happens that for all even harmonics,  the slide whistle cannot support them.\n",
    "\n",
    "- If you have your own slide whistle, measure the length with the slide all the way in, and all the way out. Measure the frequency with an online pitch detector. Do the measurements match the formula above?\n",
    "\n",
    "There are many web pages available that let's you measure the pitch of the sound directly. Here is one:\n",
    "\n",
    "https://www.onlinemictest.com/tuners/pitch-detector/"
   ]
  },
  {
   "cell_type": "markdown",
   "id": "a87b8c34",
   "metadata": {},
   "source": [
    "## What have you learned?\n",
    "\n",
    "- Slide whistles have a closed end, so the pitch formula is different. - Lower pitches are available, compared to the penny whistle with the openn end.\n",
    "- The pitch formula depends on the speed of sound in air.\n",
    "- Odd harmonics can be generated in the slide whistle, but not the even harmonics.\n",
    "\n",
    "## Going further\n",
    "\n",
    "- Can you make turn a penny whistle work with one end closed?\n",
    "- If you do, what happens to the pitch? Does it go up or down? Why?"
   ]
  },
  {
   "cell_type": "code",
   "execution_count": null,
   "id": "91095010",
   "metadata": {},
   "outputs": [],
   "source": []
  }
 ],
 "metadata": {
  "kernelspec": {
   "display_name": "Python 3 (ipykernel)",
   "language": "python",
   "name": "python3"
  },
  "language_info": {
   "codemirror_mode": {
    "name": "ipython",
    "version": 3
   },
   "file_extension": ".py",
   "mimetype": "text/x-python",
   "name": "python",
   "nbconvert_exporter": "python",
   "pygments_lexer": "ipython3",
   "version": "3.9.13"
  }
 },
 "nbformat": 4,
 "nbformat_minor": 5
}
