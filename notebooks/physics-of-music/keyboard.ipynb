{
 "cells": [
  {
   "cell_type": "markdown",
   "id": "74d0811b",
   "metadata": {},
   "source": [
    "![Callysto.ca Banner](https://github.com/callysto/curriculum-notebooks/blob/master/callysto-notebook-banner-top.jpg?raw=true)"
   ]
  },
  {
   "cell_type": "markdown",
   "id": "ec94bd53",
   "metadata": {},
   "source": [
    "# Physics of Music - Keyboard demo\n",
    "\n",
    "---\n",
    "\n",
    "## <font color=\"#FF0000\">WARNING:</font>\n",
    "\n",
    "This notebook will play a variety of sounds to help you learn about sounds. It can be **<font color=\"#FF0000\">VERY LOUD</font>** so be sure to turn down the volume on your computer before beginning.\n",
    "\n",
    "---\n"
   ]
  },
  {
   "cell_type": "markdown",
   "id": "097fa5a2",
   "metadata": {},
   "source": [
    "## A keyboard\n",
    "\n",
    "Here is a simple notebook that shows how to create musical notes from a Jupyter notebook interface.\n",
    "\n",
    "As a demonstration of harmonics we compare two different scales on two keyboards. The first is the familiar Equal Temperament scale commonly used in modern Western music, and the second is based on the Pythagorian scale that uses only fractions that arise from the harmonics of s simple string. \\\n",
    "\n",
    "The code here is based on a sample from\n",
    " https://ipython-books.github.io/117-creating-a-sound-synthesizer-in-the-notebook/\n",
    "    "
   ]
  },
  {
   "cell_type": "code",
   "execution_count": null,
   "id": "94268f12",
   "metadata": {},
   "outputs": [],
   "source": [
    "# import some code modules\n",
    "import numpy as np\n",
    "from IPython.display import Audio, display, clear_output\n",
    "from ipywidgets import widgets\n",
    "from functools import partial"
   ]
  },
  {
   "cell_type": "code",
   "execution_count": null,
   "id": "c3fc485c",
   "metadata": {},
   "outputs": [],
   "source": [
    "# sample rate for the sound, and duration in seconds\n",
    "rate = 44100\n",
    "duration = 0.25\n",
    "t = np.linspace(\n",
    "    0., duration, int(rate * duration))"
   ]
  },
  {
   "cell_type": "code",
   "execution_count": null,
   "id": "da05a9ce",
   "metadata": {},
   "outputs": [],
   "source": [
    "# Create a simple tone of a given frequncy f, with a smooth decay to silence\n",
    "def synth(f):\n",
    "    x = (np.sin(f * 2. * np.pi * t)**(9))*(duration-t)**.5\n",
    "    clear_output()\n",
    "    display(Audio(x, rate=rate, autoplay=True))"
   ]
  },
  {
   "cell_type": "code",
   "execution_count": null,
   "id": "cea2adf8",
   "metadata": {},
   "outputs": [],
   "source": [
    "# test the sound\n",
    "synth(440)"
   ]
  },
  {
   "cell_type": "markdown",
   "id": "3abe2d57",
   "metadata": {},
   "source": [
    "## The Equal Temperament scale\n",
    "\n",
    "There are 12 notes in a scale, and an octave jump in music is simply a doubling of frequency. The scale of Equal Temperament is created by making each step in the scale increase by the 12-th root of 2. That is, the number\n",
    "$$\\sqrt[12]{2} \\approx 1.059463.$$\n",
    "\n",
    "We get the frequencies for this scale by taking this number to the powers of 0,1,2,3 up to twelve, to get\n",
    "$$(\\sqrt[12]{2})^{12} =2 $$\n",
    "the doubling of frequency, so an octave in total. \n",
    "\n",
    "Here is the code to create these notes and frequencies. We normalize by the value 256 Hz, which is the frequency of middle C on the piano."
   ]
  },
  {
   "cell_type": "code",
   "execution_count": null,
   "id": "d72797f5",
   "metadata": {},
   "outputs": [],
   "source": [
    "notes = 'C,C#,D,D#,E,F,F#,G,G#,A,A#,B,C'.split(',')\n",
    "freqs = 256 * 2**(np.arange(len(notes)) / 12.)\n",
    "notes = list(zip(notes, freqs))"
   ]
  },
  {
   "cell_type": "code",
   "execution_count": null,
   "id": "14cbd6c6",
   "metadata": {},
   "outputs": [],
   "source": [
    "layout = widgets.Layout(\n",
    "    width='40px', height='60px',\n",
    "    border='1px solid black')\n",
    "\n",
    "out = widgets.Output() # the sound is played in a dedicated Output widget\n",
    "buttons = []\n",
    "for note, f in notes:\n",
    "    button = widgets.Button(\n",
    "        description=note, layout=layout)\n",
    "\n",
    "    def on_button_clicked(f, b):\n",
    "        with out:\n",
    "            synth(f)\n",
    "\n",
    "    button.on_click(partial(on_button_clicked, f))\n",
    "    buttons.append(button)\n",
    "\n",
    "widgets.Box(children=buttons+[out])"
   ]
  },
  {
   "cell_type": "markdown",
   "id": "6900cebc",
   "metadata": {},
   "source": [
    "## The Pythagorean Scale\n",
    "\n",
    "The Pythagorean scale was created based on the observation by Pythagoras (circa 560 BCE) that strings of lengths in the ratio of small integers sound good together. One way to think this might happen is because the harmonics of a vibrating string create frequencies which are multiples of a given fundamental frequency, so ratios like 3/2 or 4/3 occur naturally in vibrating string. \n",
    "\n",
    "One might expect the ratio that appear should be based on a sequence of integers, suitably normalized to one octave range. A good start would be the fractions\n",
    "$$1 = \\frac{8}{8}, \\frac{9}{8}, \\frac{10}{8}, \\frac{11}{8}, \\frac{12}{8}, \\frac{13}{8}, \\frac{14}{8}, \\frac{15}{8}, \\frac{16}{8} = 2.$$\n",
    "\n",
    "Actually, a better sounding scale is obtain by some small adjustments, to get the ratios\n",
    "$$1 = \\frac{8}{8}, \\frac{9}{8}, \\frac{1+10\\cdot 8}{8\\cdot 8}, \\frac{1+11}{1+8}, \\frac{12}{8}, \\frac{1+13\\cdot 2}{8\\cdot 2}, \\frac{3 + 15\\cdot 16}{8\\cdot 16}, \\frac{16}{8} = 2.$$\n",
    "$$1 = \\frac{8}{8}, \\frac{9}{8}, \\frac{10}{8}+ \\frac{1}{64}, \\frac{1+11}{1+8}, \\frac{12}{8}, \n",
    "    \\frac{13}{8} + \\frac{1}{16}, \\frac{15}{8}+\\frac{3}{128}, \\frac{16}{8} = 2.$$\n",
    "Or, in other words, the ratios are \n",
    "$$1, \\frac{9}{8}, \\frac{81}{64}, \\frac{4}{3}, \\frac{3}{2}, \\frac{27}{16}, \\frac{243}{128},2.$$\n",
    "\n",
    "We can put these into our keyboard code, and have a keyboard that uses the Pythagorean scale.\n",
    "\n",
    "Try it out. How do you like it?\n"
   ]
  },
  {
   "cell_type": "code",
   "execution_count": null,
   "id": "6fe445e2",
   "metadata": {},
   "outputs": [],
   "source": [
    "notes = 'C,D,E,F,G,A,B,C'.split(',')\n",
    "freqs = 256*np.array([1, 9/8, 81/64, 4/3, 3/2, 27/16, 243/128, 2])\n",
    "notes = list(zip(notes, freqs))"
   ]
  },
  {
   "cell_type": "code",
   "execution_count": null,
   "id": "0088fa17",
   "metadata": {},
   "outputs": [],
   "source": [
    "out = widgets.Output()\n",
    "buttons = []\n",
    "for note, f in notes:\n",
    "    button = widgets.Button(\n",
    "        description=note, layout=layout)\n",
    "\n",
    "    def on_button_clicked(f, b):\n",
    "        # When a button is clicked, we play the sound\n",
    "        # in a dedicated Output widget.\n",
    "        with out:\n",
    "            synth(f)\n",
    "\n",
    "    button.on_click(partial(on_button_clicked, f))\n",
    "    buttons.append(button)\n",
    "\n",
    "# We place all buttons horizontally.\n",
    "widgets.Box(children=buttons+[out])"
   ]
  },
  {
   "cell_type": "markdown",
   "id": "78e5f369",
   "metadata": {},
   "source": [
    "[![Callysto.ca License](https://github.com/callysto/curriculum-notebooks/blob/master/callysto-notebook-banner-bottom.jpg?raw=true)](https://github.com/callysto/curriculum-notebooks/blob/master/LICENSE.md)"
   ]
  },
  {
   "cell_type": "code",
   "execution_count": null,
   "id": "6cc2319d",
   "metadata": {},
   "outputs": [],
   "source": []
  }
 ],
 "metadata": {
  "kernelspec": {
   "display_name": "Python 3 (ipykernel)",
   "language": "python",
   "name": "python3"
  },
  "language_info": {
   "codemirror_mode": {
    "name": "ipython",
    "version": 3
   },
   "file_extension": ".py",
   "mimetype": "text/x-python",
   "name": "python",
   "nbconvert_exporter": "python",
   "pygments_lexer": "ipython3",
   "version": "3.9.13"
  }
 },
 "nbformat": 4,
 "nbformat_minor": 5
}
