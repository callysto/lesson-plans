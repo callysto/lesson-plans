{
 "cells": [
  {
   "cell_type": "markdown",
   "id": "87e914e0",
   "metadata": {},
   "source": [
    "![Callysto.ca Banner](https://github.com/callysto/curriculum-notebooks/blob/master/callysto-notebook-banner-top.jpg?raw=true)"
   ]
  },
  {
   "cell_type": "markdown",
   "id": "b286e9e4",
   "metadata": {},
   "source": [
    "# Physics of Music - Overview\n",
    "\n",
    "---\n",
    "\n",
    "## <font color=\"#FF0000\">WARNING:</font>\n",
    "\n",
    "This notebook will play a variety of sounds to help you learn about sounds. It can be **<font color=\"#FF0000\">VERY LOUD</font>** so be sure to turn down the volume on your computer before beginning.\n",
    "\n",
    "---\n"
   ]
  },
  {
   "cell_type": "markdown",
   "id": "64ccebf0",
   "metadata": {},
   "source": [
    "## Outline\n",
    "\n",
    "In this notebook, we will explore how musical instruments produce sound. There are also several demos of how to play musical sounds in a Jupyter notebook, including how to simulate an instrument in Python code. The topics are organized as follows:\n",
    "\n",
    "- What is sound?\n",
    "- How do we simulate sound on a computer?\n",
    "- What is music and what makes a sound musical?\n",
    "- The physics of musical instruments\n",
    "- Some examples\n",
    "    - tuning fork, penny whistle, slide whistle, didgeridoo, strings\n",
    "- Harmonics and music\n",
    "- Some more examples\n",
    "    - drum, trumpet, clarinet, violin\n",
    "\n",
    "There are also several auxiliary notebooks that are referred to in the notebook, including detailed information on many of the examples.\n"
   ]
  },
  {
   "cell_type": "markdown",
   "id": "7e66c1d1",
   "metadata": {},
   "source": [
    "## What is sound?\n",
    "\n",
    "Sound is a type of energy that travels through the air as a vibration of pressure waves. It is caused by the movement or vibration of objects, and it is detected by the ear.\n",
    "\n",
    "When an object vibrates, it causes the air around it to vibrate as well. This vibration creates a pressure wave that travels through the air. When these pressure waves reach the ear, they cause the ear drum to vibrate, which the brain interprets as sound.\n",
    "\n",
    "Sound is characterized by several properties, including its amplitude, pitch and timbre. The amplitude of a sound wave is how loud or quiet the sound is, and is related to the energy carried by the sound. For instance, a whisper is very quiet while a jet engine is very oud. \n",
    "\n",
    "The pitch of a sound wave is related to the rate of vibrations of the oscillation, which our ears interpret in a range from a low pitch (like the hum of an car engine) to a high pitch (like the sound of a whistle). \n",
    "\n",
    "The timbre of a sound is the quality that makes one sound harsh, like the banging of garbage cans, or melodious, like the sound from a musical instrument. It is also the qualtiy that allows us to distinguish the difference between voices from one person to another, or the music of different instruments. \n",
    "\n",
    "Many animals, including most vertebrates, can hear sounds. However, different animals have different hearing abilities. Humans, for instance, can hear sound covering a wide range of amplitudes, for instance from the whisper of a child to the roar of a jet engine. We also can hear sounds covering a wide range of pitches, from the low booming of a bass drum to the screeching scrape of fingernails on a blackboard. Other animals such as whales can hear much lower pitched sounds, while dogs and bats can hear pitches that are too high for our ears. Their audio world is much different than ours. \n",
    "\n",
    "### Simulating sound on a computer\n",
    "\n",
    "By sending a list of numbers to the computer's speaker, a sound is generated that follows the amplitude of the values of those numbers. Essentially, the numbers become instruction on how much the speakers are to move. This motion makes small changes or vibrations in the air pressure near the speaker that then travel through the air to our ears. With the appropriate motion or vibration, we hear this as a sound. \n",
    "\n",
    "In Python, we use the Audio tool to take the numbers in a Python list or array, and send them one by one to the speaker at a specific rate.\n",
    "\n",
    "For historical reasons, and respecting the limitations of humans' hearing ability, the rate is usually set at 44,100 samples per second for high quality audio. \n",
    "\n",
    "In the following demo, we create a long list of zeros, followed by a one, and repeat five times. Pushing the \"Play\" button on the widget will produce a sound with 5 clicks in it. (We also loading in a few useful code modules.)"
   ]
  },
  {
   "cell_type": "code",
   "execution_count": null,
   "id": "2db79494",
   "metadata": {},
   "outputs": [],
   "source": [
    "from IPython.display import Audio, display, YouTubeVideo\n",
    "from ipywidgets import interactive\n",
    "\n",
    "rate = 44100\n",
    "signal = ([0]*(rate//5)+[1])*5\n",
    "Audio(data=signal,rate=rate,autoplay=False)\n"
   ]
  },
  {
   "cell_type": "markdown",
   "id": "5d96498e",
   "metadata": {},
   "source": [
    "## What is music?\n",
    "\n",
    "Music is a form of art that involves organized sounds and silence. It is created by combining melodies, rhythms, and harmonies, and is typically performed by musicians using instruments or voices.\n",
    "\n",
    "Music can take many different forms and styles, and it has the ability to evoke a wide range of emotions in listeners. It can be used for entertainment, to express ideas and feelings, or to accompany other activities such as dancing or religious ceremonies.\n",
    "\n",
    "Music has a long history, and different cultures have developed their own unique styles and traditions of music. In Western culture, music is typically divided into several genres, such as classical, jazz, rock, and pop. There are also many other genres and styles of music from around the world, including traditional and folk music, as well as more modern styles like hip hop and electronic dance music.\n",
    "\n",
    "Music is an important part of many people's lives, and it has the ability to bring people together and to express and convey emotions in a powerful way."
   ]
  },
  {
   "cell_type": "markdown",
   "id": "6f8e709d",
   "metadata": {},
   "source": [
    "## What makes a sound musical?\n",
    "\n",
    "There are several characteristics that can make a sound musical, including pitch, rhythm, melody, and harmony.\n",
    "\n",
    "Pitch is the perceived highness or lowness of a sound, and it is related to the rate of oscillation of the sound wave. In music, pitch is used to create melodies, which are sequences of pitches that form a recognizable tune.\n",
    "\n",
    "Rhythm is the pattern of the duration and placement of sounds and silences in music. It is created by the arrangement of rhythms and rhythms, and it is an important element of music that gives it a sense of movement and structure.\n",
    "\n",
    "Melody is a sequence of pitches that form a recognizable tune. It is an important element of music that gives it its characteristic sound and helps to convey emotion.\n",
    "\n",
    "Harmony is the combination of pitches played or sung at the same time to create a chord. It is an important element of music that gives it depth and complexity, and it is created by the combination of different melodies and rhythms.\n",
    "\n",
    "Overall, music is a combination of these and other elements that are used to create an organized and pleasing sound. It is subjective, and what one person considers musical may be different from what another person considers musical.\n",
    "\n",
    "### From click to musical tones\n",
    "\n",
    "By sending many clicks to the computer speaker, we get get something that sound more like music. \n",
    "\n",
    "Try the following code, and adjust the number of clicks from low of 5 to a high of 440. At what point does it start to sound like a musical tone to you?"
   ]
  },
  {
   "cell_type": "code",
   "execution_count": null,
   "id": "4580c833",
   "metadata": {},
   "outputs": [],
   "source": [
    "# make a lot of clicks\n",
    "def set_clicks(autoplay=False,num_clicks=10):\n",
    "    rate = 44100\n",
    "    signal = ([0]*(rate//num_clicks)+[1])*num_clicks\n",
    "    display(Audio(data=signal,rate=rate,autoplay=autoplay))\n",
    "\n",
    "v2 = interactive(set_clicks, autoplay=False, num_clicks=(5,440))\n",
    "display(v2)"
   ]
  },
  {
   "cell_type": "markdown",
   "id": "63834ee5",
   "metadata": {},
   "source": [
    "### Playing music in a Jupyter notebook\n",
    "\n",
    "The computer can also play complex sounds, again by sending a string of numbers to the computer's speaker. Here is a clip from Keith Jarrett's 1975 Koln concert, which demonstrates all the richness of music, including rhythum, melody and harmony.\n",
    "\n",
    "We use the Audio tool load in the music file from storage, and then play the sound. "
   ]
  },
  {
   "cell_type": "code",
   "execution_count": null,
   "id": "e0b8f6c8",
   "metadata": {},
   "outputs": [],
   "source": [
    "Audio(filename='sounds/KolnShort.wav',rate=44100)"
   ]
  },
  {
   "cell_type": "markdown",
   "id": "8042b81d",
   "metadata": {},
   "source": [
    "## The physics of producing musical sounds\n",
    "\n",
    "Across the world, in various countries and cultures, people ahve been creaing music for thousands of years, usually with the help of some musical instruments. These include drums, gongs, bells, string instruments like guitars, ouds and violins, and a wide range of wind instruments such as flutes, horns, reed instruments (clarinets, oboes, bassoons, saxophones) and more.\n",
    "\n",
    "The basic setup is the same in all instruments. First, there is something that starts a vibration: for a drum, there is the drum stick hitting the drum head; for a violin, it could be the violin bow drawn across strings or the violinist's finger plucking the string. Next, there is some object that vibrates: think of the skin of a drum, or the strings on a violin. Finally, there is a mechanism or physical body that resonates with the vibrations and transmits them to the air, so that people can hear the sound. For the violin, this is wooden body of the violin itself; for a drum, it is the whole body of drum including the top and bottom skins, the wooden or metal sizes, and the air inside the drum. \n",
    "\n",
    "The character of the sound of the instrument comes from the interaction of all these three parts: the initiator, the vibrating object, and resonator. Rich sounds come from complex instruments. \n",
    "\n",
    "Let's start with the simplest instrument, to see how this works. "
   ]
  },
  {
   "cell_type": "markdown",
   "id": "6b1be845",
   "metadata": {},
   "source": [
    "## The tuning fork - the simplest example\n",
    "\n",
    "<img src=\"images/TuningFork.jpg\" alt=\"A real tuning Fork\" width=\"500\"/>\n",
    "<div align=\"center\"> A real tuning fork. </div>\n",
    "\n",
    "A tuning fork is a type of musical instrument that consists of a fork-shaped metal bar that vibrates at a specific pitch when struck. The vibrations of a tuning fork are periodic and produce sound waves that are characterized by their frequency, measured in cycles per second, or Hertz (Hz). The waveform produced is very nearly a perfect sine wave, which makes this an example of a simple harmonic oscillator. (To oscillate means to vibrate in a regular pattern.)\n",
    "\n",
    "<img src=\"images/forkP.gif\" alt=\"The motion of a tuning fork.\" width=\"800\"/>\n",
    "<div align=\"center\"> The motion of a tuning fork. </div>\n",
    "\n",
    "When a tuning fork is struck, it begins to vibrate at its natural frequency, which is determined by the mass and stiffness of the metal bar. Typically, the mass and stiffness are constant so the frequency produced by the tuning fork can be used as a standard reference to tune other instruments. \n",
    "\n",
    "Let's identify the three components that produce the musical sound. First, the initiator is what you use to hit the tuning fork with -- usually something soft like the knuckle of your hand, or a rubber mallet. (A metal mallet might damage the fork.) Next, the vibrating objects in the tuning fork are the metal tines of the fork. Finally, for the resonator, we usually touch the base of the fork to a tabletop or to a glass window, and let the table/window act as the resonator, transmitting the vibrations from the fork to the air. \n",
    "\n",
    "Most tuning forks are marked with their frequency of vibration -- the one in this photo is marked \"440\" which means 440 vibrations per second. This is known in music as the note A above middle C -- also called \"Concert A\" by musicians. \n",
    "\n",
    "### Simulation of a tuning fork\n",
    "\n",
    "We can simulate the sound made by a tuning fork simply by creating a list of numbers, computed using the sine function in Python, and sent it to the computer's speaker. We include a graph of the sound, as a function of time, and a control to adjust the frequency of the sine wave. \n",
    "\n",
    "Here is some code to do this.\n"
   ]
  },
  {
   "cell_type": "markdown",
   "id": "a2fdb282",
   "metadata": {},
   "source": [
    "First, we import some Python modules for doing math:"
   ]
  },
  {
   "cell_type": "code",
   "execution_count": null,
   "id": "1a9a6b35",
   "metadata": {},
   "outputs": [],
   "source": [
    "from numpy import pi, sin, linspace, array"
   ]
  },
  {
   "cell_type": "markdown",
   "id": "676206c9",
   "metadata": {},
   "source": [
    "Next, we create a function to build a sine wave and put in the Audio tool. Then run the widget. "
   ]
  },
  {
   "cell_type": "code",
   "execution_count": null,
   "id": "38b3865b",
   "metadata": {},
   "outputs": [],
   "source": [
    "def tuning_fork(autoplay=False,freq=440):\n",
    "    rate,t_max = 44100,1\n",
    "    t = linspace(0,t_max,rate*t_max)\n",
    "    display(Audio(data=sin(2*pi*freq*t)*(t_max-t),rate=rate,autoplay=autoplay))\n",
    "\n",
    "interactive(tuning_fork, autoplay=False, freq=(100,800))"
   ]
  },
  {
   "cell_type": "markdown",
   "id": "843953a7",
   "metadata": {},
   "source": [
    "To learn more about the physics of this simple instrument, click the following line to get to a Jupyter notebook about tuning forks.\n",
    "\n",
    "[Tuning Fork Lesson](./tuning-fork.ipynb)\n",
    "\n",
    "We can also use this simple tuning fork synthesis to create a keyboard in a Jupyter notebook. You can check it out here:\n",
    "\n",
    "[Keyboard Lesson](./keyboard.ipynb)"
   ]
  },
  {
   "cell_type": "markdown",
   "id": "3c88dde2",
   "metadata": {},
   "source": [
    "## The penny whistle - a simple wind instrument \n",
    "\n",
    "A penny whistle, also known as a tin whistle, is a simple, narrow-bore wind instrument that is played by blowing air through a small hole or whistle at one end, with sound resonating through the long tube attached to the whistle. It may have holes along the body of the instrument to change the pitch of the sound. The picture below shows a penny whistle with no holes, lying alongside a ruler for scale.\n",
    "\n",
    "<img src=\"images/PennyWhistle.jpg\" alt=\"Penny Whistle\" width=\"500\"/>\n",
    "<div align=\"center\"> A child's penny whistle. </div>\n",
    "\n",
    "To play a penny whistle, the player blows into the mouthpiece at one end of the instrument. This cause a stream of air to move through the whistle, across the fipple and labium, forcing the airstream to rapidly diverge up and down. As the player covers or uncovers the holes, it changes the effective length of the air column inside the tube, which in turn changes the pitch of the sound.\n",
    "\n",
    "Let's again identify the three components that produce the musical sound. First, there is the person blowing into the whistle on the end, which initiates the vibrations in the mouthpiece. Next, there is the vibrating object -- in this case, it is the stream air itself that is vibrating up and down, across the fipple and labium of the mouthpiece. Finally, the vibrations force a resonance in the air column in the tube, which is then passed on to the open air through the hole in the whistle, creating the sound we hear. \n",
    "\n",
    "### The fundamental pitch of the penny whistle\n",
    "\n",
    "The pitch or frequency of the tone created by the penny whistle is determined by the length of the air tube and the speed of sound in air. One way to envision this is to imagine a pulse of air pressure that travels from one end of the tube, and bounces off the end, as in this animation:\n",
    "\n",
    "<img src=\"images/tube1.gif\" alt=\"Pulse in tube\" width=\"500\"/>\n",
    "<div align=\"center\">Pulses of air pressure in a tube. </div>\n",
    "\n",
    "The pulse has to travel both forwards and back along the tube to complete one cycle, travelling at the speed of sound. This tells us the frequency of the oscillations is given by the formula\n",
    "\n",
    "$$ \\mbox{Pitch (in Hz)  } = \\frac{V}{2L}, $$\n",
    "where $V$ is the velocity of sound in air, and $L$ is the length of the tube. \n",
    "\n",
    "For example, for the penny whistle pictured above, the length is about 15 cm, while the speed of sound is about 346 meters per second, at room temperature. So the expected frequency is\n",
    "\n",
    "$$ \\mbox{Pitch } = \\frac{V}{2L} = \\frac{346 \\, m/s}{2\\times 0.15 \\, m} \\approx 1153 \\mbox{ cycles per second.}$$\n",
    "\n",
    "To see more detail on this example, click on the following link to get to another notebook:\n",
    "\n",
    "[Penny Whistle Lesson](./penny-whistle.ipynb)"
   ]
  },
  {
   "attachments": {},
   "cell_type": "markdown",
   "id": "92941fcc",
   "metadata": {},
   "source": [
    "## The slide whistle - another wind instrument \n",
    "\n",
    "A slide whistle, also known as a swanee whistle or lotus flute, is a simple, narrow-bore wind instrument that is played by blowing air through a small hole at one end, producing a sliding pitch when the attached piston is moved in and out. It consists of a narrow tube with a whistle on one end and sliding piston on the other that can be moved in and out to change the length of the air column inside the tube.\n",
    "\n",
    "<img src=\"images/SlideWhistle.jpg\" alt=\"Slide Whistle\" width=\"500\"/>\n",
    "<div align=\"center\">A child's slide whistle. </div>\n",
    "\n",
    "To play a slide whistle, the player blows into the mouthpiece at one end of the instrument. This cause a stream of air to move through the whislte, across the fipple and labium, forcing the airstream to rapidly diverge up and down. As the player pushes the sliding piston in and out, it changes the length of the air column inside the tube, which in turn changes the pitch of the sound.\n",
    "\n",
    "Let's again identify the three components that produce the musical sound. First, there is the person blowing into the whistle on the end, which initiates the vibrations in the mouthpiece. Next, there is the vibrating object -- in this case, it is the airstream itself that is vibrating up and down, across the fipple and labium of the mouthpiece. Finally, the vibrations force a resonance in the air column in the tube, which is then passed on to the open air through the hole in the whistle, creating the sound we hear. \n",
    "\n",
    "### The pitch of the slide whistle\n",
    "\n",
    "The pitch of the slide whistle is lower than the penny whistle. This surprising difference is because the slide tube is closed at one end. The result is that the fundamental frequency is given by the formula\n",
    "\n",
    "$$ \\mbox{Fundamental freq } = \\frac{V}{4L}$$\n",
    "\n",
    "where $V$ is again the velocity of sound in air, and $L$ is the length of the tube. \n",
    "\n",
    "In the slide whistle pictured above, the tube length is about 19.5 cm, when the piston is fully extended. We expect a fundamental frequency of \n",
    "\n",
    "$$ \\mbox{Fundamental freq } = \\frac{346 \\, m/s}{4\\times 0.195 m} = 444.6 \\mbox{ Hz.}$$\n",
    "\n",
    "Using the online pitch detector, we measured a pitch of 442 Hz, which is pretty close to the above estimate.\n",
    "\n",
    "To learn more about why the factor of four comes into the pitch frequency formula above, check out the lesson on slide whistles:\n",
    "\n",
    "[Slide Whistle Lesson](./slide-whistle.ipynb)"
   ]
  },
  {
   "cell_type": "markdown",
   "id": "918a322e",
   "metadata": {},
   "source": [
    "## The Didgeridoo\n",
    "\n",
    "A didgeridoo is a wind instrument that is traditionally used by Indigenous Australian cultures, especially in northern Australia. \n",
    "\n",
    "<img src=\"images/didgeridoo.jpg\" alt=\"A ukelele.\" width=\"150\"/>\n",
    "<div align=\"center\">A four-foot long didgeridoo from Australia. </div>\n",
    "\n",
    "It is a long cylindrical or conical tube, usually made from eucalyptus wood, that is played by blowing into one end while vibrating the lips and creating a drone-like sound. The didgeridoo is also known for its unique, low-pitched and pulsating tone, which is produced by circular breathing. The instrument has become a symbol of Indigenous Australian culture and is widely played both in Australia and internationally. It is used in a variety of musical styles, including traditional Indigenous music, world music, and contemporary music genres like jazz and rock.\n",
    "\n",
    "The physics of sound production in a didgeridoo is similar to the slide whistle, except the vibrating source is the musician's lips that are pursed against one end of the wooden tube, and vibrate when the musician exhales air through their lips. The wooden tube acts like a half-closed pipe -- closed at the lips' end, and open at the far end of the tube.\n",
    "\n",
    "The didgeridoo in the photo above measures 123 cm long (48.5 inches). When played, it produces a pitch of of about 70Hz. Using the formula for frequency of a half-closed pipe, we expect a pitch to \n",
    "\n",
    "$$ \\mbox{Frequency } = \\frac{V}{4L} = \\frac{346 m/s}{4(1.23) m} = 70.6 \\mbox{ Hz, }$$\n",
    "\n",
    "which is very close to what we measured. \n",
    "\n",
    "### Try it youself.\n",
    "\n",
    "If you have a didgeridoo, you can measure the pitch with an online pitch detector such as this one: https://www.onlinemictest.com/tuners/pitch-detector/\n",
    "\n",
    "If you don't have a didgeridoo, try using a long cardboard tube like the ones that come with wrapping paper. Measure its length, and the pitch produce when you blow and vibrate your lips in one end. Do your measurements agree with the formula above?\n",
    "\n"
   ]
  },
  {
   "attachments": {},
   "cell_type": "markdown",
   "id": "635a48dd",
   "metadata": {},
   "source": [
    "## The plucked string\n",
    "\n",
    "A more complicated family of vibrating instuments are the stringed instrucments, such as guitars, harps, violins, cellos and so on. One of the first string instruments a young child might play is the ukelele, as shown here.\n",
    "\n",
    "<img src=\"images/ukelele.jpg\" alt=\"A ukelele.\" width=\"500\"/>\n",
    "<div align=\"center\">A standard ukelele. </div>\n",
    "\n",
    "The distinctive sounds of these stringed instruments are produced by the interaction of \n",
    "- the method of striking the strings, which could be with a plastic pick, with fingers or fingernails, or with a bow strung with horse hair;\n",
    "- the vibrating strings, which may be made of plastic, steel or even animal tendons, and the various ways the strings can move;\n",
    "- the resonate body of the instrument, such as the wooden frame of a violin, guitar or harp. \n",
    "\n",
    "The interaction between these three items is quite complex. Let's simplify by examining first just the vibrating strings themselves.\n",
    "\n",
    "### Fundamental frequency\n",
    "\n",
    "A vibrations of plucked string can be envisioned as a pulse that travels up and down the length of the string, as in this animation:\n",
    "\n",
    "<img src=\"images/string1.gif\" alt=\"A single pulse\" width=\"500\"/>\n",
    "<div align=\"center\">Single pulse traveling on a string. </div>\n",
    "\n",
    "As with the penny whistle, the frequency of the pitch is given by the formula\n",
    "\n",
    "$$ \\mbox{Pitch frequency (in Hertz) } = \\frac{V}{2L},$$\n",
    "\n",
    "where $L$ is the length of the string, but here $V$ is the velocity of the pulse on the string. This is also called the velocity of sound in the string, but note it is usually different than the velocity in air. \n",
    "\n",
    "For example, for the ukelele above, we can measure the pitch of the A string (the highest sounding string) as 440 Hz, and the length is 35 cm. Rearranging the formula above, we find the velocity $V$ of sound in this string is\n",
    "\n",
    "$$ \\mbox{Velocity } V = \\mbox{freq}*2L = 440*2*0.25  = 308 m/s.$$\n",
    "\n",
    "So, 308 meters per second is a bit slower than the speed of sound in air. \n",
    "\n",
    "### You try:\n",
    "\n",
    "The lowest string on the ukelele also has length 35 cm, but plays the note C at 262 Hz. What is the speed of sound in this string?\n"
   ]
  },
  {
   "cell_type": "markdown",
   "id": "a65dc4bf",
   "metadata": {},
   "source": [
    "### Simulating the plucked string\n",
    "\n",
    "Here is a short piece of code to simulate the sound produced by a plucked string. The basic idea is to create a feedback loop, that simulated the pulse bouncing back and forth across the string. There is a little filter to help the sound decay to silence, just like a real plucked string. \n",
    "\n",
    "This is the famous Karplus-Strong algorithm created in 1983 that was simple enough to generate sounds in real time on the slow personal computers from 40+ years ago. The idea is the input signal has a series of isolated pulses, that get fed back into the output signal with a delay. By adjusting the length of the delay, we can choose the frequency of oscillations. "
   ]
  },
  {
   "cell_type": "code",
   "execution_count": null,
   "id": "9b8cb582",
   "metadata": {},
   "outputs": [],
   "source": [
    "def set_plucks(autoplay=False,num_plucks=3,pitch=220):\n",
    "    rate = 44100\n",
    "    signal_in = array(([1.]+[0.]*int(rate/num_plucks))*num_plucks)\n",
    "    signal_out = 0*signal_in\n",
    "    p = int(rate/pitch) # the delay period for oscillation\n",
    "    for i in range(len(signal_out)-p):\n",
    "        signal_out[p+i] = signal_in[i] + (signal_out[i]+signal_out[i+1])/2\n",
    "    display(Audio(data=signal_out,rate=rate,autoplay=autoplay))\n",
    "\n",
    "interactive(set_plucks, autoplay=False, num_plucks=(1,10), pitch=(110,440))"
   ]
  },
  {
   "cell_type": "markdown",
   "id": "e74d7fab",
   "metadata": {},
   "source": [
    "### Try it yourself\n",
    "\n",
    "In the simulation about, move the sliders to change the number of plucks and/or the frequency of the oscillation. Does it sound like a ukelele or guitar string to you? \n",
    "\n",
    "### Going further\n",
    "\n",
    "Click this link to access a notebook with more details on the physics of a plucked string.\n",
    "\n",
    "[Plucked String Lesson](./plucked-string.ipynb)\n",
    "\n",
    "You may also like the notebook on standing waves:\n",
    "\n",
    "[Standing Waves Lesson](./standing-wave.ipynb)"
   ]
  },
  {
   "cell_type": "markdown",
   "id": "815da7e8",
   "metadata": {},
   "source": [
    "## Strings and standing waves\n",
    "\n",
    "The motion of a plucked string on a guitar, or the vibrations of a bowed string on a violin is very complex. \n",
    "For instance, here we can see a slow motion video of a violin string vibrating in a complex pattern known as the Helmholtz motion. "
   ]
  },
  {
   "cell_type": "code",
   "execution_count": null,
   "id": "0965efe4",
   "metadata": {},
   "outputs": [],
   "source": [
    "YouTubeVideo('6JeyiM0YNo4')"
   ]
  },
  {
   "cell_type": "markdown",
   "id": "1752cacb",
   "metadata": {},
   "source": [
    "In graphical form, the Helmholts motion can be envisioned as a triangular pulse that travels around the length of the string, as in this animation:\n",
    "\n",
    "<img src=\"images/helm_wave.gif\" alt=\"Helmholtz waveform\" width=\"500\"/>\n",
    "<div align=\"center\">Helmholtz motion. </div>\n",
    "\n",
    "\n",
    "Remarkably, all the complex motions of the string, including the Helmholtz motion, can be understood as made up of simpler standing waves, or sinusoid patterns that up and down along the string. \n",
    "\n",
    "<div align=\"center\">\n",
    "    <b> The first three standing waves on a string </b>    \n",
    "<table width = 800>\n",
    "<tr>\n",
    "<td><img src=\"images/string_standing_wave1.gif\"></td>\n",
    "<td><img src=\"images/string_standing_wave2.gif\"></td>\n",
    "<td><img src=\"images/string_standing_wave3.gif\"></td>\n",
    "</tr>\n",
    "<tr>\n",
    "<td><div align=\"center\">Fundamental Mode </div></td>\n",
    "<td><div align=\"center\">Second Harmonic </div></td>\n",
    "<td><div align=\"center\">Third Harmonic </div></td>\n",
    "</tr>\n",
    "</table>\n",
    "</div>\n",
    "\n",
    "These standing waves can be numbered as modes 1,2,3, and so on, all the way to infinity. The shape of the curve, for an ideal elastic string, is just the shape of a sine wave. The rate at which they oscillate depend on the length and tension of the string, as well as the mode number. \n",
    "\n",
    "Pythagorus, of Ancient Greece, was one of the first to observe that these standing waves vibrated at different pitches and would sound pleasant together when the modes were harmonically related. It turns out the frequency of vibration of any of these modes is a simple integer multiple of the frequency of the fundamental mode and so what we heard are frequencies that are related by small integer fractions.\n",
    "\n",
    "These different frequencies are called the harmonics for the vibrating string, and combining them accounts for the rich musical sound produced by stringed instruments. \n",
    "\n",
    "Remarkably, all the various complex motions of a string are obtained as a mathematical sum of the sinusoidal functions representing these standing wave motion. Even the Helmholts motion can be so obtained.\n",
    "\n",
    "Pipes and tubes also have standing waves, which can be more involved since the ends of the pipe could be either open or closed. For instance, here are simulations of the pressure in a half-open pipe, representing the first two standing waves in the slide whistle above:\n",
    "<div align=\"center\">\n",
    "    <b> The first two standing waves on a half-open pipe </b>    \n",
    "<table width = 800>\n",
    "<tr>\n",
    "<td><img src=\"images/tube_standing_half_wave1.gif\"></td>\n",
    "<td><img src=\"images/tube_standing_half_wave3.gif\"></td>\n",
    "</tr>\n",
    "<tr>\n",
    "<td><div align=\"center\">Fundamental Mode </div></td>\n",
    "<td><div align=\"center\">Third Harmonic </div></td>\n",
    "</tr>\n",
    "</table>\n",
    "</div>\n",
    "\n",
    "At the closed end of the pipe (left end in the figures), the air inside is trapped, so the pressure can go up and down with the vibrations of the air column. At the open end (right end) the air pressure is fixed as it must match the outside air pressure, since there is a hole at the point. So the waveform is locked at the right endpoint. \n",
    "\n",
    "\n",
    "Click this link to access a notebook with more details on the physics of standing waves.\n",
    "\n",
    "[Standing Wave Lesson](./standing-wave.ipynb)"
   ]
  },
  {
   "cell_type": "markdown",
   "id": "a5f3cf96",
   "metadata": {},
   "source": [
    "## Harmonics\n",
    "\n",
    "A harmonic is a frequency that is an integer multiple of the fundamental frequency of a waveform or sound. The fundamental frequency is the lowest frequency in a waveform or sound, and the harmonics are the higher frequency components that are present in the waveform or sound.\n",
    "\n",
    "Harmonics are important in music, as they contribute to the overall timbre or tone of a musical instrument or voice. In fact, most instruments do not produce one pure tone but rather a mixture of harmonics, giving different instruments and voices with unique harmonic spectrums. All the instruments mentioned above can produce harmonics, with the sole exception of the tuning fork. \n",
    "\n",
    "The harmonic spectrum of an instrument helps to define its character and distinguish it from the sounds of other instruments.\n",
    "\n",
    "It is an interesting psychoacoustic observation that the harmonics sound pleasant to our ears, and in fact form the basis for the Western music scale. \n",
    "\n",
    "| Harmonic      | Frequency | Piano Note     |\n",
    "| :---        |   :---:   |          ---: |\n",
    "| Fundamental (1st)|   220 Hz | A3   |\n",
    "| 2nd   | 440 Hz | A4 |\n",
    "| 3rd   | 660 Hz | E5 |\n",
    "| 4th   | 880 Hz | A5 |\n",
    "| 5th   | 1010 Hz | C\\#5   |\n",
    "| 6th   | 1320 Hz | E5 |\n",
    "| 7th   | 1540 Hz | G5 |\n",
    "| 8th   | 1760 Hz | A6 |\n",
    "\n",
    "Those familiar with the music notation will recognize the notes for the A major triad (A-C#-E-A), with a minor seventh (G5) thrown in for good measure.\n",
    "\n",
    "Understanding the harmonics that are produced by a musical instrument is key in understanding the physics of music production. "
   ]
  },
  {
   "cell_type": "markdown",
   "id": "ac72113c",
   "metadata": {},
   "source": [
    "### Simulating harmonics\n",
    "\n",
    "We can simulate harmonics by creating a series of sine waves with various frequencies and amplitudes, and adding them all together. To be proper harmonics, the frequencies will be integer multiples of some fundamental frequency. \n",
    "\n",
    "The following code sets up some slides and controls to allow you to select a particular fundamental frequency, and set the amplitudes of the first several harmonics (integer multiples of the fundamental). The \"Play\" button lets you hear the result, and view the sound waveform in the plot. \n",
    "\n",
    "Try it yourself. Run the following two code blocks to get to the user interface with all the sliders. Select a preset wave (Sine, Triangle etc.) and click the \"Play\" button to hear it. You can adjust the sliders to change the magnitude of each harmonic. "
   ]
  },
  {
   "cell_type": "code",
   "execution_count": null,
   "id": "06e4a3d5",
   "metadata": {},
   "outputs": [],
   "source": [
    "%run myHarmonics.py"
   ]
  },
  {
   "cell_type": "code",
   "execution_count": null,
   "id": "1107a9f7",
   "metadata": {},
   "outputs": [],
   "source": [
    "HBox([VBox(children=sliders+[dropdown]+[out]),fig_widget])"
   ]
  },
  {
   "cell_type": "markdown",
   "id": "9fb29be2",
   "metadata": {},
   "source": [
    "### Try the above.\n",
    "\n",
    "Move the sliders to adjust the amplitude of the various harmonics. Clich the \"Play\" button to hear the sound. Can you make interesting sounds? Does the second harmonic sound an octave higher than the first harmonic?\n",
    "\n",
    "You can also select certain waveforms. Does the triangle wave sound like an organ to you? Does the sine wave sound like the pure tone from a tuning fork?\n",
    "\n",
    "If you would like to see more on harmonics and learn about the code for this example, see the following notebook:\n",
    "\n",
    "[Harmonics Lesson](./harmonics.ipynb)"
   ]
  },
  {
   "cell_type": "markdown",
   "id": "1ff37ee9",
   "metadata": {},
   "source": [
    "## Harmonics and musical notes. \n",
    "\n",
    "The ancient Greeks noticed that vibrating strings of different lengths produced pleasant soound (music) when their lengths were related by small integer fractions like 3/4 or 4/5. From the physics of strings, we know this means the frequencies of the tones produced are related by small integer fractions. \n",
    "\n",
    "Another way to think of this is to observe these related tones are often multiples of some common fundamental frequency. This means these tones are related as harmonics of a fundamental. \n",
    "\n",
    "It is an interesting questions as to why these harmonics sound good to our ears. Does it have to do with the sounds that arise naturally in nature, as rich vibrations with harmonics? Or is it something about the way our ears work?\n",
    "\n",
    "Discuss!\n",
    "\n",
    "The follow code lets you produce sounds with frequencies related by small integers. Which sound pleasant to you?"
   ]
  },
  {
   "cell_type": "code",
   "execution_count": null,
   "id": "92f78ec2",
   "metadata": {},
   "outputs": [],
   "source": [
    "## Small integer frequencies ratios sound nice\n",
    "# vary frequency, amplitude, timbre\n",
    "def set_int_freqs(Autoplay=False,Integer_1 = 2, Integer_2 = 3):\n",
    "    t_max = 5\n",
    "    rate = 44100\n",
    "    t = linspace(0,t_max,rate*t_max)\n",
    "    Hz = 220\n",
    "    signal = sin(2*pi*Integer_1*Hz*t) + sin(2*pi*Integer_2*Hz*t + .1) # add a weird phase\n",
    "    display(Audio(data=signal, rate=rate,autoplay=Autoplay))\n",
    "    return signal\n",
    "\n",
    "v2 = interactive(set_int_freqs, Autoplay=False, Integer_1 = (1,9), Integer_2=(1,9))\n",
    "display(v2)\n"
   ]
  },
  {
   "cell_type": "markdown",
   "id": "c39ef6fa",
   "metadata": {},
   "source": [
    "### Do it yourself.\n",
    "\n",
    "Using the sliders above, ask youself:\n",
    "- Which pair of integers make a sound that sounds good to you? \n",
    "- Experiment with various pairs.\n",
    "- Make a list of nice sounds and bad sounds.\n",
    "\n",
    "For instance, I think the pair (2,3) sounds good and the sound (6,7) sounds bad. What do you think?\n",
    "\n",
    "If you would like to see more on harmonics, see the following notebook:\n",
    "\n",
    "[Harmonics Lesson](./harmonics.ipynb)\n",
    "\n",
    "We can investigate harmonics with a keyboard in a Jupyter notebook. You can check it out here:\n",
    "\n",
    "[Keyboard Lesson](./keyboard.ipynb)"
   ]
  },
  {
   "cell_type": "markdown",
   "id": "5872790f",
   "metadata": {},
   "source": [
    "## Drums\n",
    "\n",
    "A drum is a musical instrument that produces sound by means of a vibrating membrane or skin stretched over a hollow shell or frame. The vibrations of a drum are not usually periodic but consist of a mix of oscillations at different frequncies and amplitudes, arrayed across the surface of the drum head. The material of the drum head, its thickness, the diameter, and the tension of the membrane all influence the sound produced, as does the manner of striking the drum and shape of the frame holding the drum head. \n",
    "\n",
    "<img src=\"images/drum-mendoza.jpg\" alt=\"A simple drum head\" width=\"500\"/>\n",
    "<div align=\"center\">\n",
    "    Photo by <a href=\"https://unsplash.com/@luxiernaga?utm_source=unsplash&utm_medium=referral&utm_content=creditCopyText\">Luz Mendoza</a> on <a href=\"https://unsplash.com/s/photos/drum?utm_source=unsplash&utm_medium=referral&utm_content=creditCopyText\">Unsplash</a>\n",
    "</div>\n",
    "       \n",
    "All types have three common ingredients: a drum head consisting of a circular membrane that vibrates when struck, something to strike it with such as sticks or hands and fingers, and a body or frame that support the membrane. \n",
    "       \n",
    "Notice again that the drum then has the three features of a musical instruments. An initiator to start the sound (e.g. drum sticks), a vibrating membrane to create the sound (the drum head), and the resonator, which is the frame of the drum itself and the air within. \n",
    "       \n",
    "A good place to start in understanding how a drum produces sound is to look at the drum head. The motion of a circular drum head is quite complex and has been studied by mathematicians and physicists for centuries. One key resuls is that these complex motions are made up of simpler vibrations called modes, that are very much like the standing wave modes we see in vibrating strings. \n",
    "       \n",
    "It's a bit more complicated for a two-dimensional drum head because the drum modes are index by pairs of integers $(m,n)$ while for strings, we just index by the harmonic number (first harmonic, second harmonic, third harmonic, etc.) Here are some of the simpler modes of vibration:\n",
    "\n",
    "The $(0,n)$ modes are the symmetric modes of vibration, and are a bit easier to understand.  The first three symmetric modes vibrate like this:\n",
    "\n",
    "<div align=\"center\">\n",
    "<table width = 400>\n",
    "<tr>\n",
    "<td><img src=\"images/drumhead_01.gif\"></td>\n",
    "<td><img src=\"images/drumhead_11.gif\"></td>\n",
    "<td><img src=\"images/drumhead_12.gif\"></td>\n",
    "</tr>\n",
    "<tr>\n",
    "<td><div align=\"center\">Vibration Mode 0,1 </div></td>\n",
    "<td><div align=\"center\">Vibration Mode 1,1 </div></td>\n",
    "<td><div align=\"center\">Vibration Mode 1,2 </div></td>\n",
    "</tr>\n",
    "<tr>\n",
    "<td><img src=\"images/drumhead_02.gif\"></td>\n",
    "<td><img src=\"images/drumhead_12.gif\"></td>\n",
    "<td><img src=\"images/drumhead_22.gif\"></td>\n",
    "</tr>\n",
    "<tr>\n",
    "<td><div align=\"center\">Vibration Mode 0,2 </div></td>\n",
    "<td><div align=\"center\">Vibration Mode 1,2 </div></td>\n",
    "<td><div align=\"center\">Vibration Mode 2,2 </div></td>\n",
    "</tr>\n",
    "</table>\n",
    "    <b> Some vibrations modes for a circular drumhead </b>    \n",
    "</div>\n",
    "\n",
    "The speed at which each mode vibrates determines the frequency of sound produced by this mode. The numerical   frequencies of these modes are **not** integer multiples of some fundamental frequency, unlike for a string. For an ideal vibrating membrane, the frequencies can be computed exactly using a special function that comes up in physics, called a Bessel function. For a real drum, these frequencies are modified by the presence of air, the actual material of the membrane, and the resonant vibrations of the air within the drum body.\n",
    "       \n",
    "You can learn more about the details in this notebook:\n",
    "\n",
    "[Drum Lesson](./drums.ipynb)"
   ]
  },
  {
   "attachments": {},
   "cell_type": "markdown",
   "id": "8223174a",
   "metadata": {},
   "source": [
    "## Trumpet and other brass instuments \n",
    "\n",
    "A trumpet is a brass instrument that is commonly used in classical, jazz, and popular music. It consists of a long, narrow tube that flares out into a bell-shaped opening at one end. The trumpet has three valves that are used to change the length of the instrument and produce different notes.\n",
    "\n",
    "<img src=\"images/trumpet.jpg\" alt=\"A trumpet\" width=\"300\"/>\n",
    "<div align=\"center\">\n",
    "    Photo by <a href=\"https://unsplash.com/@rylomedia?utm_source=unsplash&utm_medium=referral&utm_content=creditCopyText\">Ryan Loughlin</a> on <a href=\"https://unsplash.com/s/photos/trumpet?utm_source=unsplash&utm_medium=referral&utm_content=creditCopyText\">Unsplash</a>\n",
    "</div>\n",
    "  \n",
    "\n",
    "The four main members of the brass family are the trumpet, French Horn, trombone and tuba. The first three are made up of a long cylindrical pipe capped at the end with a large, horn-shaped bell at the end, while the tuba's pipe is more like a long tampered cone. The trumpet, French horn and tube have valves that adjust the length of the pipe, while the trombone has a sliding pipe that can adjust this length. \n",
    "\n",
    "To make sound on a brass instrument, the player buzzes their lips into a cup-shaped mouthpiece, which is attached to the instrument's leadpipe. This causes the air inside the insturment'a pipe to vibrate, creating sound waves that resonate in the body of the instrument. The length and diameter of the pipe, as well as the position of the valves, determine the pitch of the sound that is produced.\n",
    "\n",
    "The player can control the sound of the brass instrument by adjusting the amount of air they blow, the tightness of their lips, and the position of their tongue. Different playing techniques, such as tonguing, vibrato, and mutes, can also be used to create a wide range of sounds and effects.\n",
    "\n",
    "If a trumpet was a simple brass tube, its resonances would be the same as those of a simple closed pipe, where the lip end is the closed end. That is, we would see a fundamental resonance, and its odd harmonics appearing. However, the addition of a mouthpiece at one end and a bell-shape flare at the end changes the resonances significantly: for instance, the first five harmonics are roughly in the ratios 0.8, 2, 3, 4 and 5. The player can tighten or loosen their lips and create a sound at the frequencies 2, 3, 4, or 5 times the principal resonance, allowing them to play notes of a chord without even moving a value. \n",
    "\n",
    "This is why a bugle (a trumpet without values) can play a simple tune like \"Taps\" or \"Reveille\" just with the skill of the player, as in this clip:"
   ]
  },
  {
   "cell_type": "code",
   "execution_count": null,
   "id": "8a520d27",
   "metadata": {},
   "outputs": [],
   "source": [
    "YouTubeVideo('8r5Ieh0OuQY')"
   ]
  },
  {
   "attachments": {},
   "cell_type": "markdown",
   "id": "0529f43b",
   "metadata": {},
   "source": [
    "The bell on the trumpet causes the \"node\" at the end of the pipe to move outwards as the harmonic mode, or pitch increases, which lowers the resonant frequency. This is why we get the full range of integer harmonics 2, 3, 4 and so on.\n",
    "\n",
    "The trumpet bell also changes the way sounds are transmitted to the air, so for instance the higher harmonics are radiated more efficiently than the lower frequencies, changing the timbre of the sound. The bell also has a directional pattern to how the sound radiates. Higher harmonics with higher frequencies tend to travel in a direction straight out of the bell, while lower frequencies radiate all around. This affects what the audience hears depending on their position relative to the trumpet. \n",
    "\n",
    "There is also some interesting dynamics in how the player's lips oscillate in response to the vibrations of air inside the trumpet. The lips act as a pressure-controlled valve, that release air in a burst with the reflected pressure coming from inside the instrument. This means the lips vibrate in synchrony with resonances of the trumpet, which is how the player is able to sustain an accurate pitch. \n",
    "\n",
    "Synthesizing the sound of a brass instrument is a challenge, which you might like to try yourself. Some notes on this are here:\n",
    "https://www.soundonsound.com/techniques/synthesizing-brass-instruments"
   ]
  },
  {
   "cell_type": "markdown",
   "id": "94b5848e",
   "metadata": {},
   "source": [
    "## Clarinet and other woodwind instruments\n",
    "\n",
    "A clarinet is a musical instrument in the woodwind family. It is a single-reed instrument that has a cylindrical bore and a flared bell. The clarinet is played by blowing air into the mouthpiece, which vibrates a reed that is attached to the mouthpiece. This causes the air column inside the instrument to vibrate, producing sound waves that resonate in the body of the clarinet. The shape of the clarinet's bore and the size and placement of the holes affect the tone and timbre of the sound produced.\n",
    "\n",
    "<img src=\"images/clarinet.jpg\" alt=\"A few clarinets\" width=\"300\"/>\n",
    "<div align=\"center\">\n",
    "Photo by <a href=\"https://unsplash.com/@obiefernandez?utm_source=unsplash&utm_medium=referral&utm_content=creditCopyText\">Obie Fernandez</a> on <a href=\"https://unsplash.com/s/photos/clarinet?utm_source=unsplash&utm_medium=referral&utm_content=creditCopyText\">Unsplash</a>\n",
    "</div>\n",
    "  \n",
    "\n",
    "The player can control the pitch of the sound by opening and closing the holes in the clarinet with their fingers and by changing the speed and pressure of the air they blow into the mouthpiece. They can control quality of the sound of the clarinet by adjusting the amount of air they blow, the tightness of the reed, and the position of their lips and tongue. Different playing techniques, such as tonguing, vibrato, and glissando, can also be used to create a wide range of sounds and effects on the clarinet.\n",
    "\n",
    "The woodwind family is a rich collection of instruments including flutes, oboes, bassoons, saxophones, English horns and more. Some key differences include their size and shape, the type of reed used in the mouthpiece (single reed for clarinets and saxophones, double reeds for oboes and bassoons, no reed at all for a flute or recorder), and the shape of the borehole in the body of the instrument (cylindrical for flutes and clarients, and a tapered cone for oboes, bassoons and saxophones). \n",
    "\n",
    "Of the reeded woodwinds, the clarinet with its cylindrical bore behaves like a half-open pipe, so the vibrating column of air in the instruments supports mainly the odd harmonics. This gives the clarient its characteristic woody tone. The resonances of the air column determine the fundamental pitch of clarinet reed as there is a strong feedback been the reed and the vibrating air. The tone holes on the side of the instrument are used to select the notes that sound, as opening a hole at a certain point will surpress the standing wave modes that don't have a node there. \n",
    "\n",
    "The oboe, bassoon, English horn and saxophone have conical boreholes, which turn out to behave like an open pipe. So both even and odd harmonics are present in their notes. The oboe also emphasize certain clusters of resonant frequencies, known as **formants** (around 1000 and 3000 Hertz), which appears to be a property of its double reed. The bassoon also shows the presence of a formant, at a lower frequency. \n",
    "\n",
    "The regular pattern of holes along the side of the woodwind instrument create a cutoff filter that surpresses harmonics of frequencies greater than some fixed number, depending on the type instrument. For instance, different clarinets will have cutoff frequencies in the range of 1000 to 1500 Hertz, making each one sound darker or brighter, depending on the cutoff. \n",
    "\n"
   ]
  },
  {
   "cell_type": "markdown",
   "id": "d17c29ef",
   "metadata": {},
   "source": [
    "## Organ pipe\n",
    "\n",
    "An organ pipe is a tube-shaped musical instrument that produces sound by means of a vibrating column of air. The vibrations in an organ pipe are periodic and produce sound waves that are characterized by their frequency and wavelength.\n",
    "\n",
    "In an open organ pipe, the air column inside the pipe is free to vibrate at both ends. This type of pipe produces a sound that is characterized by odd harmonics, which are frequencies that are odd-numbered multiples of the fundamental frequency. For example, if the fundamental frequency of the pipe is 100 Hz, the higher harmonics would include 300 Hz, 500 Hz, 700 Hz, and so on.\n",
    "\n",
    "In a closed organ pipe, one end of the pipe is closed off, while the other end is open. This type of pipe produces a sound that is characterized by even harmonics, which are frequencies that are even-numbered multiples of the fundamental frequency. For example, if the fundamental frequency of the pipe is 100 Hz, the harmonics would include 200 Hz, 400 Hz, 600 Hz, and so on.\n",
    "\n",
    "The frequency of the oscillations in an organ pipe is determined by the length of the pipe and the speed of sound in the air inside the pipe. The frequency can be changed by adjusting the length of the pipe or by changing the temperature or humidity of the air inside the pipe.\n"
   ]
  },
  {
   "cell_type": "markdown",
   "id": "420b2c60",
   "metadata": {},
   "source": [
    "## A violin\n",
    "\n",
    "A violin is a stringed musical instrument that is played with a bow. It is one of the members of the violin family of instruments, which also includes the viola, cello, and double bass. The violin has a distinctive, high-pitched sound that has made it a popular instrument in classical music, as well as in many other musical styles.\n",
    "\n",
    "<img src=\"images/violin.jpg\" alt=\"A violin\" width=\"300\"/>\n",
    "<div align=\"center\">\n",
    "    A typical violin\n",
    "</div>\n",
    "\n",
    "The sound of a violin is produced by the vibration of its strings. The strings are made of steel or gut and are stretched between the tailpiece and the bridge. When the player draws the bow across the strings, they cause the strings to vibrate. These vibrations are then amplified by the body of the violin, which acts as a resonating chamber. The shape and size of the violin, as well as the materials used to make it, all contribute to the unique sound that it produces.\n",
    "\n",
    "The sound can be varied by the player by changing the speed and pressure of the bow, as well as by changing the position of the bow on the strings. The player can also produce different sounds by pressing the strings down against the fingerboard, which changes the length of the vibrating string and thus the pitch of the sound.\n",
    "\n",
    "In addition to the strings and the body, the sound of the violin is also influenced by the chin rest and the tailpiece, as well as by the strings and the bow. Professional violinists often experiment with different components to find the combination that produces the sound they are looking for.\n",
    "\n",
    "Recall we have a formula related the pitch of a vibrating string, its length, and the velocity of sound in the string:\n",
    "\n",
    "$$ \\mbox{Pitch frequency (in Hertz) } = \\frac{V}{2L}.$$\n",
    "\n",
    "Rearranging this, we can compute the speed of sound in a violin string as\n",
    "\n",
    "$$ \\mbox{Velocity (in meter/sec) } = {2L}\\cdot{freq}.$$\n",
    "\n",
    "The highest pitched string on a violin is the E string, which vibrates at a frequency of 660 Hz. The length of the string is about 32.5 cm, so we find the speed is\n",
    "\n",
    "$$\\mbox{Velocity  } = {2(.325)}\\cdot{660} = 429 m/s,$$\n",
    "\n",
    "which is faster than the speed of sound in air!\n",
    "\n",
    "The violin strings can vibrate in complex pattern, and support both the even and odd harmonics of the fundamental frequency. The right sound of the violin comes from the complex resonances of the violin body, which is a vibrating three dimensional solid frame surrounding a volume of air inside. Understanding these resonances is key to understanding how the violin is able to produce the sounds it does. \n"
    "\n",
    "You can learn more about the violin in this notebook:\n",
    "\n",
    "[Violin Lesson](./violin.ipynb)"
   ]
  },
  {
   "attachments": {},
   "cell_type": "markdown",
   "id": "cd7f1623",
   "metadata": {},
   "source": [
    "## Summary\n",
    "\n",
    "This learning resource demonstrates how musical instruments produce sound and how these sounds can be reproduced on a computer. Experiment with this and accompanying learning resources to better understand how different musical instruments produce sounds and music from around the world."
   ]
  },
  {
   "cell_type": "markdown",
   "id": "74d6b528",
   "metadata": {},
   "source": [
    "[![Callysto.ca License](https://github.com/callysto/curriculum-notebooks/blob/master/callysto-notebook-banner-bottom.jpg?raw=true)](https://github.com/callysto/curriculum-notebooks/blob/master/LICENSE.md)"
   ]
  },
  {
   "cell_type": "code",
   "execution_count": null,
   "id": "80adf388",
   "metadata": {},
   "outputs": [],
   "source": []
  }
 ],
 "metadata": {
  "kernelspec": {
   "display_name": "Python 3 (ipykernel)",
   "language": "python",
   "name": "python3"
  },
  "language_info": {
   "codemirror_mode": {
    "name": "ipython",
    "version": 3
   },
   "file_extension": ".py",
   "mimetype": "text/x-python",
   "name": "python",
   "nbconvert_exporter": "python",
   "pygments_lexer": "ipython3",
   "version": "3.9.6"
  }
 },
 "nbformat": 4,
 "nbformat_minor": 5
}
