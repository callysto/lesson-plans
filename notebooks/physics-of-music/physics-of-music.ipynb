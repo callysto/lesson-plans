{
 "cells": [
  {
   "cell_type": "markdown",
   "id": "87e914e0",
   "metadata": {},
   "source": [
    "![Callysto.ca Banner](https://github.com/callysto/curriculum-notebooks/blob/master/callysto-notebook-banner-top.jpg?raw=true)"
   ]
  },
  {
   "cell_type": "markdown",
   "id": "b286e9e4",
   "metadata": {},
   "source": [
    "# Physics of Music - Part One"
   ]
  },
  {
   "cell_type": "markdown",
   "id": "5719f13b",
   "metadata": {},
   "source": [
    "![Warning](images/warning_2.png)\n",
    "![Warning](images/warning_1.png)\n",
    "\n",
    "## WARNING:\n",
    "This notebook will play a variety of sounds to help you learn about sounds. It can be VERY LOUD so be sure to turn down the volume on your computer before beginning."
   ]
  },
  {
   "cell_type": "markdown",
   "id": "df62d0e1",
   "metadata": {},
   "source": [
    "## Outline\n",
    "\n",
    "1. What is sound\n",
    "2. What is music\n",
    "3. What makes a sound, sound nice?\n",
    "4. Repeated clicks, demo\n",
    "5. Repeated clicks, with feedback\n",
    "4. What is a simple harmonic oscillator?\n",
    "5. What are harmonics?\n",
    "6. Why do harmonics arise in natural objects?\n",
    "- open pipes\n",
    "- closed pipes\n",
    "- half closed pipes\n",
    "- conical pipe\n",
    "- strings\n",
    "- drums\n",
    "- bells\n"
   ]
  },
  {
   "cell_type": "markdown",
   "id": "13c8ab9f",
   "metadata": {},
   "source": [
    "## Demos\n",
    "1. A click or two\n",
    "2. Repeated clicks, with slider to control pitch\n",
    "3. Clicks with feedback\n",
    "4. Noise with feedback\n",
    "5. Simple sine wave\n",
    "6. Sine wave and a few harmonics\n",
    "7. Simulations of various instruments"
   ]
  },
  {
   "cell_type": "markdown",
   "id": "bb88e8d5",
   "metadata": {},
   "source": [
    "### Initializing\n",
    "\n",
    "We load in a few Python modules to control sound, widgets and plots"
   ]
  },
  {
   "cell_type": "code",
   "execution_count": null,
   "id": "58e73687",
   "metadata": {},
   "outputs": [],
   "source": [
    "# We import the libraries numpy, matplotlib and widgets to make this work. And some audio tools\n",
    "%matplotlib inline\n",
    "import matplotlib.pyplot as plt\n",
    "from numpy import zeros, pi, sin, cos, exp, linspace, maximum, minimum, random\n",
    "from ipywidgets import interactive, FloatLogSlider, RadioButtons, SelectMultiple\n",
    "from IPython.display import Audio, display"
   ]
  },
  {
   "cell_type": "markdown",
   "id": "b116a18f",
   "metadata": {},
   "source": [
    "### Demo 1\n",
    "\n",
    "Sound is caused by rapid changes in air pressure. Your computer has a loudspeaker or headphones that we can control by sending electrical current into the speaker.\n",
    "\n",
    "The following code sends several brief pulses of electricity to the speaker. You should be able to hear this as a few clicks. You may use the slider to adjust the number of clicks. "
   ]
  },
  {
   "cell_type": "code",
   "execution_count": null,
   "id": "521d3d84",
   "metadata": {},
   "outputs": [],
   "source": [
    "# make a few clicks\n",
    "def set_clicks(autoplay=False,num_clicks=3):\n",
    "    t_max = 1\n",
    "    rate = 44100\n",
    "    t = linspace(0,t_max,rate*t_max)\n",
    "    signal = 0*t\n",
    "    num = max(1,min(10,num_clicks))\n",
    "    for i in range(1,num+1):\n",
    "        signal[int(i*len(signal)/(num+1))]=1 \n",
    "    display(Audio(data=signal,rate=rate,autoplay=autoplay))\n",
    "    plt.plot(t,signal)\n",
    "    plt.title(\"Clicks\")\n",
    "    plt.xlabel(\"Time (secs)\")\n",
    "    plt.ylabel(\"Amplitude\")\n",
    "    return signal\n",
    "\n",
    "v1 = interactive(set_clicks, autoplay=False, num_clicks=(1,10))\n",
    "output = v1.children[-1]\n",
    "output.layout.height = '350px'\n",
    "display(v1)"
   ]
  },
  {
   "cell_type": "markdown",
   "id": "6c6da055",
   "metadata": {},
   "source": [
    "### Demo 2\n",
    "\n",
    "When the clicks happen quickly, we hear a sound that resembles a tone. The following code create a few hundred clicks per second, again by sending several pulses of electricity to the computer's speaker.\n",
    "\n",
    "USe the slider to adjust the number of clicks. With a low number of 10 clicks per second, you will likely hear every individual click. When you use something like 100 clicks per second or more, the sound starts to sound like a musical tone.\n",
    "\n",
    "Not a very pretty tone, but it seems to have a pitch."
   ]
  },
  {
   "cell_type": "code",
   "execution_count": null,
   "id": "41205680",
   "metadata": {},
   "outputs": [],
   "source": [
    "# make a lot of clicks\n",
    "def set_clicks(autoplay=False,num_clicks=200):\n",
    "    t_max = 1\n",
    "    rate = 44100\n",
    "    t = linspace(0,t_max,rate*t_max)\n",
    "    signal = 0*t\n",
    "    num = max(1,min(1000,num_clicks))\n",
    "    for i in range(1,num+1):\n",
    "        signal[int(i*len(signal)/(num+1))]=1 \n",
    "    display(Audio(data=signal,rate=rate,autoplay=autoplay))\n",
    "    plt.plot(t,signal)\n",
    "    plt.title(\"Clicks\")\n",
    "    plt.xlabel(\"Time (secs)\")\n",
    "    plt.ylabel(\"Amplitude\")\n",
    "    return signal\n",
    "\n",
    "v2 = interactive(set_clicks, autoplay=False, num_clicks=(10,440))\n",
    "output = v2.children[-1]\n",
    "output.layout.height = '350px'\n",
    "display(v2)"
   ]
  },
  {
   "cell_type": "markdown",
   "id": "9300ce08",
   "metadata": {},
   "source": [
    "### Demo 3\n",
    "\n",
    "Natural sounds, including sounds made from musical instruments, usually feature some kind of vibrating member that resonants with the body of the instrument.\n",
    "\n",
    "Blah blah blah, we need to talk physics here.\n",
    "\n",
    "This demo shows how to take the clicks and add resonance. The code has a simple feedback loop, where the input signal (clicks) feeds a loop that adds the signal back to itself after a short delay. \n",
    "\n",
    "Add a figure.\n",
    "\n",
    "You can adjust the pitch and number of clicks. \n",
    "\n",
    "The sound you hear is similar to the sound of a plucked string, like a guitar string or plucked violin string. "
   ]
  },
  {
   "cell_type": "code",
   "execution_count": null,
   "id": "ed265815",
   "metadata": {},
   "outputs": [],
   "source": [
    "# add some feedback with clicks as input\n",
    "def set_plucks(autoplay=False,num_plucks=3,pitch=220):\n",
    "    t_max = 1\n",
    "    rate = 44100\n",
    "    t = linspace(0,t_max,rate*t_max)\n",
    "    signal_in = 0*t\n",
    "    signal_out = 0*t\n",
    "    num = max(1,min(10,num_plucks))\n",
    "    pitch = max(55,min(880,pitch))\n",
    "    for i in range(1,num+1):\n",
    "        signal_in[int(i*len(signal_in)/(num+1))]=1 \n",
    "    p = int(rate/pitch) # the period of oscillation, in number of samples\n",
    "    for i in range(len(signal_out)-p):\n",
    "        signal_out[p+i] = signal_in[i] + (signal_out[i]+signal_out[i+1])/2\n",
    "    display(Audio(data=signal_out,rate=rate,autoplay=autoplay))\n",
    "    plt.subplot(1, 2, 1)\n",
    "    plt.plot(t,signal_in)\n",
    "    plt.title(\"Signal_in\")\n",
    "    plt.xlabel(\"Time (secs)\")\n",
    "    plt.ylabel(\"Amplitude\")\n",
    "    plt.subplot(1, 2, 2)\n",
    "    plt.plot(t,signal_out)\n",
    "    plt.title(\"Signal_out\")\n",
    "    plt.xlabel(\"Time (secs)\")\n",
    "    plt.ylabel(\"Amplitude\")\n",
    "    return signal_out\n",
    "\n",
    "v3 = interactive(set_plucks, autoplay=False, num_plucks=(1,10), pitch=(110,440))\n",
    "output = v3.children[-1]\n",
    "output.layout.height = '350px'\n",
    "display(v3)"
   ]
  },
  {
   "cell_type": "markdown",
   "id": "a079a822",
   "metadata": {},
   "source": [
    "### Demo 4\n",
    "\n",
    "With the same feedback loop, we can input some random noise. \n",
    "\n",
    "The resulting sound is somewhat like the sound from a bowed violin (or string bass). The random noise simulates the coarse horse hairs on the violin bow as they rub against the strings of the violin. \n",
    "\n",
    "This is a very simple simulation, so it doesn't sound exactly like a violin. Maybe it sounds like a violin made out of a tin can or something. "
   ]
  },
  {
   "cell_type": "code",
   "execution_count": null,
   "id": "81adae20",
   "metadata": {},
   "outputs": [],
   "source": [
    "# add some feedback with random noise as input\n",
    "def set_bowed(autoplay=False,pitch=220):\n",
    "    t_max = 1\n",
    "    rate = 44100\n",
    "    t = linspace(0,t_max,rate*t_max)\n",
    "    signal_in = 0*t\n",
    "    signal_out = 0*t\n",
    "    pitch = max(55,min(880,pitch))\n",
    "    signal_in=random.randn(len(t))*exp(-t)\n",
    "    p = int(rate/pitch) # the period of oscillation\n",
    "    for i in range(len(signal_out)-p):\n",
    "        signal_out[p+i] = signal_in[i] + (signal_out[i]+signal_out[i+1])/2\n",
    "    display(Audio(data=signal_out,rate=rate,autoplay=autoplay))\n",
    "    plt.subplot(1, 2, 1)\n",
    "    plt.plot(t,signal_in)\n",
    "    plt.title(\"Signal_in\")\n",
    "    plt.xlabel(\"Time (secs)\")\n",
    "    plt.ylabel(\"Amplitude\")\n",
    "    plt.subplot(1, 2, 2)\n",
    "    plt.plot(t,signal_out)\n",
    "    plt.title(\"Signal_out\")\n",
    "    plt.xlabel(\"Time (secs)\")\n",
    "    plt.ylabel(\"Amplitude\")\n",
    "    return signal_out\n",
    "\n",
    "v4 = interactive(set_bowed, autoplay=False, pitch=(110,440))\n",
    "output = v4.children[-1]\n",
    "output.layout.height = '350px'\n",
    "display(v4)"
   ]
  },
  {
   "cell_type": "markdown",
   "id": "8f87830c",
   "metadata": {},
   "source": [
    "### Demo 5\n",
    "\n",
    "Blah blah blah, say something about the physics of simple harmonic oscillators (a weight on a string, or a tuning force). Open pipes, closed pipes, pipes open at one end. Compare to woodwinds and brass. Note the importants of harmonics.\n",
    "\n",
    "This demo lets you hear what the harmonics of a particular pitch sound like. Pick harmonics from 1 to 8. You will get a multiple of the basic pitch.\n",
    "\n",
    "The graph shows the first 20 milliseconds of the waveform for the sound. It is a sine wave. "
   ]
  },
  {
   "cell_type": "code",
   "execution_count": null,
   "id": "3b52035e",
   "metadata": {},
   "outputs": [],
   "source": [
    "# a sine wave and its harmonics\n",
    "def set_harm(autoplay=False,num_harm=1,pitch=220):\n",
    "    t_max = 1\n",
    "    rate = 44100\n",
    "    t = linspace(0,t_max,rate*t_max)\n",
    "    signal = 0*t\n",
    "    harm = max(1,min(8,num_harm))\n",
    "    pitch = max(27,min(880,pitch))\n",
    "    signal = sin(2*pi*pitch*harm*t)\n",
    "    display(Audio(data=signal,rate=rate,autoplay=autoplay))\n",
    "    plt.plot(t[0:1000],signal[0:1000])\n",
    "    plt.title(\"Signal at \" + str(pitch*harm) + \" Hz\")\n",
    "    plt.xlabel(\"Time (secs)\")\n",
    "    plt.ylabel(\"Amplitude\")\n",
    "    return signal\n",
    "\n",
    "v5 = interactive(set_harm, autoplay=False, num_harm=(1,8), pitch=(55,440))\n",
    "output = v5.children[-1]\n",
    "output.layout.height = '350px'\n",
    "display(v5)"
   ]
  },
  {
   "cell_type": "markdown",
   "id": "fb51f452",
   "metadata": {},
   "source": [
    "### Demo 6\n",
    "\n",
    "The following demo lets you combine a sine wave and various harmonics. The list there can have multiple choice -- use the control/command key to select more than one item on the list.\n",
    "\n",
    "Try selecting just 'Fundamental\" to hear the pure sine way. \n",
    "\n",
    "Try selecting 'Fundamental\" along with x3, x5, x6, x7 to hear something like a clarinet.\n",
    "\n",
    "Try selecting 'Fundamental\" along with x2, x3, x4 to hear something like a pipe organ."
   ]
  },
  {
   "cell_type": "code",
   "execution_count": null,
   "id": "0f55f5d9",
   "metadata": {},
   "outputs": [],
   "source": [
    "# a sine wave and its harmonics\n",
    "\n",
    "myHarms = ['Fundamental','x2','x3','x4','x5','x6','x7','x8']\n",
    "myChoices = SelectMultiple(\n",
    "    options=myHarms,\n",
    "    value=[myHarms[0]],\n",
    "    description='Harmonics',\n",
    "    disabled=False\n",
    ")\n",
    "\n",
    "def set_harm_choices(autoplay=False,pitch=220,choices=[]):\n",
    "    t_max = 1\n",
    "    rate = 44100\n",
    "    t = linspace(0,t_max,rate*t_max)\n",
    "    pitch = max(27,min(880,pitch))\n",
    "    signal = 0*t\n",
    "    for i in range(len(myHarms)):\n",
    "        if myHarms[i] in choices:\n",
    "            signal = signal + sin(2*pi*pitch*(i+1)*t)\n",
    "    display(Audio(data=signal,rate=rate,autoplay=autoplay))\n",
    "    plt.plot(t[0:1000],signal[0:1000])\n",
    "    plt.title(\"Signal at \" + str(pitch) + \" Hz\")\n",
    "    plt.xlabel(\"Time (secs)\")\n",
    "    plt.ylabel(\"Amplitude\")\n",
    "    return signal\n",
    "\n",
    "v6 = interactive(set_harm_choices, autoplay=False, pitch=(55,440), choices=myChoices)\n",
    "output = v6.children[-1]\n",
    "output.layout.height = '350px'\n",
    "display(v6)"
   ]
  },
  {
   "cell_type": "markdown",
   "id": "f3131eeb",
   "metadata": {},
   "source": [
    "### Demo 7\n",
    "\n",
    "Real instruments are more complicated. The harmonics are not exactly integer multiples of the fundamental. The amplitude of the harmonics can have different amplitudes. Both the frequency of the harmonics and their amplitudes can change depending on how loudly the instrument is played. Even the direction of the instrument (e.g. which way the trumpet is pointed towards the listener) makes a difference.\n",
    "\n",
    "Percussive instruments are even more complex. (Discuss the physics of vibrating membranes, like a drum head. Don't forget to mention most drums have a top and a bottom membrange. The interaction of these two membranes, and the movement of the air trapped between them, also affects the production of sound. \n",
    "\n",
    "Talk about the physics of all this. \n",
    "\n",
    "For this demo, we want to have a number of different choices for instruments, based on the various harmonics that are present, and at various amplitudes. \n",
    "\n",
    "I think I need a spreadsheet for these. I can refer to a text like Rossing, Moore and Wheeler to get specific numbers. The code will be like the above, giving a sum of various sine waves. "
   ]
  },
  {
   "cell_type": "code",
   "execution_count": null,
   "id": "32cb392a",
   "metadata": {},
   "outputs": [],
   "source": []
  }
 ],
 "metadata": {
  "kernelspec": {
   "display_name": "Python 3 (ipykernel)",
   "language": "python",
   "name": "python3"
  },
  "language_info": {
   "codemirror_mode": {
    "name": "ipython",
    "version": 3
   },
   "file_extension": ".py",
   "mimetype": "text/x-python",
   "name": "python",
   "nbconvert_exporter": "python",
   "pygments_lexer": "ipython3",
   "version": "3.10.5"
  }
 },
 "nbformat": 4,
 "nbformat_minor": 5
}
