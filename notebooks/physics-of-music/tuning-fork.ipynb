{
 "cells": [
  {
   "cell_type": "markdown",
   "id": "87e914e0",
   "metadata": {},
   "source": [
    "![Callysto.ca Banner](https://github.com/callysto/curriculum-notebooks/blob/master/callysto-notebook-banner-top.jpg?raw=true)"
   ]
  },
  {
   "cell_type": "markdown",
   "id": "b286e9e4",
   "metadata": {},
   "source": [
    "# Physics of Music - Tuning Fork"
   ]
  },
  {
   "cell_type": "markdown",
   "id": "5719f13b",
   "metadata": {},
   "source": [
    "<img src=\"images/warning_2.png\" alt=\"Warning - loud sounds\" width=\"100\"/>\n",
    "<img src=\"images/warning_1.png\" alt=\"Warning - turn down your volume\" width=\"200\"/>\n",
    "\n",
    "\n",
    "## WARNING:\n",
    "This notebook will play a variety of sounds to help you learn about sounds. It can be VERY LOUD so be sure to turn down the volume on your computer before beginning."
   ]
  },
  {
   "cell_type": "markdown",
   "id": "6b1be845",
   "metadata": {},
   "source": [
    "## The tuning fork - a simple instrument\n",
    "\n",
    "<img src=\"images/TuningFork.jpg\" alt=\"A real tuning Fork\" width=\"500\"/>\n",
    "<div align=\"center\"> A real tuning fork. </div>\n",
    "\n",
    "A tuning fork is a type of musical instrument that consists of a fork-shaped metal bar that vibrates at a specific pitch when struck. The vibrations of a tuning fork are periodic and produce sound waves that are characterized by their frequency, measured in cycles per second, or Hertz (Hz). The waveform produced is very nearly a perfect sine wave, which makes this an example of a simple harmonic oscillator. \n",
    "\n",
    "<img src=\"images/forkP.gif\" alt=\"The motion of a tuning fork.\" width=\"800\"/>\n",
    "<div align=\"center\"> The motion of a tuning fork. </div>\n",
    "\n",
    "When a tuning fork is struck, it begins to vibrate at its natural frequency, which is determined by the mass and stiffness of the metal bar. Typically, the mass and stiffness are constant so the frequency produced by the tuning fork can be used as a standard reference to tune other instruments. \n",
    "\n",
    "Let's identify the three components that produce the musical sound. First, the initiator is what you use to hit the tuning fork with --usually something soft like the knuckle of your hand, or a rubber mallet. (A metal mallet might damage the fork.) Next, the vibrating objects in the tuning fork are the metal tines of the fork. Finally, for the resonator, we usually touch the base of the fork to a tabletop or to a glass window, and let the table/window act as the resonator, transmitting the vibrations from the fork to the air. \n",
    "\n",
    "Most tuning forks are marked with their frequency of vibration -- the one in this photo is marked \"440\" which means 440 vibrations per second. This is known in music as the note A above middle C -- also called \"Concert A\" by musicians. \n",
    "\n",
    "### Simulation of a tuning fork\n",
    "\n",
    "We can simulate the sound made by a tuning fork simply by creating a list of numbers, computed using the sine function in Python, and sent it to the computer's speaker. We include a graph of the sound, as a function of time, and a control to adjust the frequency of the sine wave. \n",
    "\n",
    "Here is some code to do this.\n"
   ]
  },
  {
   "cell_type": "code",
   "execution_count": null,
   "id": "1a9a6b35",
   "metadata": {},
   "outputs": [],
   "source": []
  },
  {
   "cell_type": "code",
   "execution_count": null,
   "id": "38b3865b",
   "metadata": {},
   "outputs": [],
   "source": [
    "# We import the libraries numpy, matplotlib and widgets to make this work. And some audio tools\n",
    "import matplotlib.pyplot as plt\n",
    "from numpy import pi, sin, linspace\n",
    "from IPython.display import Audio, display\n",
    "from ipywidgets import interactive\n",
    "\n",
    "# make a sine wave to play and to display\n",
    "def tuning_fork(autoplay=False,freq=440):\n",
    "    t_max = 1\n",
    "    rate = 44100\n",
    "    t = linspace(0,t_max,rate*t_max)\n",
    "    signal = sin(2*pi*freq*t)\n",
    "    display(Audio(data=signal,rate=rate,autoplay=autoplay))\n",
    "\n",
    "    plt.plot(t[0:1000],signal[0:1000])\n",
    "    plt.title(\"Sine wave\")\n",
    "    plt.xlabel(\"Time (secs)\")\n",
    "    plt.ylabel(\"Amplitude\")\n",
    "    return signal\n",
    "\n",
    "v0 = interactive(tuning_fork, autoplay=False, freq=(100,800))\n",
    "output = v0.children[-1]\n",
    "output.layout.height = '550px'\n",
    "display(v0)"
   ]
  },
  {
   "cell_type": "markdown",
   "id": "f84fafa9",
   "metadata": {},
   "source": [
    "**Notice:** The graph only shows the first 20 milliseconds or so of the sound, as the sound vibrations are very fast. Count the number of peaks and multiply by 50 to get the frequency of the oscillation in Hertz (cycles per second). "
   ]
  },
  {
   "cell_type": "markdown",
   "id": "9ea08be8",
   "metadata": {},
   "source": [
    "### Tuning fork as a simple harmonic oscillator.\n",
    "\n",
    "A tuning fork is an example of a simple harmonic oscillator which moves in a periodic manner. In this case, the system is the mass of the fork's tines as propelled by the springiness of the metal. The mass and strength of the spring determine the frequency of oscillation so with a careful manufacturing process, one can produce tuning forks of precise, reliable frequencies which is used to tune other instruments. \n",
    "\n",
    "### Some physics\n",
    "\n",
    "The motion of the tuning fork is the same as for other simple vibrating systems, like the back-and-forth motion of a child's swing or the rocking of a boat in the water. \n",
    "\n",
    "The physics of this vibration are describe by two basic laws. First, when you push on the springy tine of the tuning fork, you can feel  a force that pushs back with a strength that increases the further you push the tine. This is Hooke's law, which says the force is just the product of the spring constant $k$ and the distance moved, $x$. That is to say, the force is $F = -kx$, where the minus sign indicates the spring force *pushs back* on you when you move the tine. Second, there is Newton's  law, that says the force on the tine must equal the mass times the acceleration ($F = ma)$. \n",
    "\n",
    "Equating these two force equations together gives the equation\n",
    "$$-kx = ma,$$\n",
    "where $k$ is the spring constant, $x$ is position of the tine, $m$ is the mass of the tine, and $a$ is its acceleration.\n",
    "\n",
    "Now, with some calculus, we could solve for $x$ as a function of time and would see the sine wave coming up as one of the solutions. That is a bit too much to do in this notebook.\n",
    "\n",
    "But we can do some physics using dimensional analysis! If we rewrite the above forces equation as\n",
    "$$ \\frac{a}{x} = -\\frac{k}{m},$$\n",
    "we see the behaviour of the oscillation must only depend on the ratio $k/m$. Moveover, the dimension of this ratio is the same dimension as $a/x$ which is acceleration (measured in meters per second squared) divided by position (measured meters). \n",
    "\n",
    "So the ratio $k/m$ is measured in units of $1/sec^2$, and so the square root $\\sqrt{k/m}$ is in units of $1/sec$, or Hertz. Thus we can conclude that the frequency of the oscillator is proportional to this square root:\n",
    "$$\\mbox{freq (in Hz)} = \\mbox{ constant } \\sqrt{\\frac{k}{m}}.$$\n",
    "\n",
    "Even without knowing the constant, we can see that increasing $k$ by making the spring \"springier\", the frequency of oscillation will go up. Increasing the mass will make the frequency go down. \n",
    "\n",
    "By the way, the constant turns out to be $1/2\\pi$, which requires some calculus to show. \n",
    "\n",
    "\n",
    "### Do it yourself: an experiment to change the pitch\n",
    "\n",
    "You can do an experiment to change the mass of a tuning fork, to see how this might change the frequency of the sound produced. Take two small magnets, and attach them symmetrically to the end of your tuning fork, as shown here:\n",
    "\n",
    "<img src=\"images/TuningFork2.jpg\" alt=\"Tuning Fork with Magnets\" \n",
    "width=\"500\"/>\n",
    "<div align=\"center\"> Magnets attached to a tuning fork. </div>\n",
    "\n",
    "It is important to use two identical magnets, located at similar spots on the ends of the fork's two tines. This is necessary to keep the tines in balance. Strike the fork gently with your knuckle, or a rubber mallet. \n",
    "\n",
    "Does the weighted fork produce a different pitch? Is it lower, or higher than the original pitch? Why do you think you got the result you did?"
   ]
  },
  {
   "cell_type": "markdown",
   "id": "eec35ebb",
   "metadata": {},
   "source": [
    "### Do it yourself: measuring the pitch of a tuning fork\n",
    "\n",
    "There are many web pages available that let's you measure the pitch of the sound directly. Here is one:\n",
    "\n",
    "https://www.onlinemictest.com/tuners/pitch-detector/\n",
    "\n",
    "We used this online pitch detector to measure the frequencies of the tuning fork with and without magnets. Here are the results from one such test:\n",
    "- without magnets: 440.1 Hz\n",
    "- with magnets midway up the tines: 419 Hz\n",
    "- with magnets near the end of the tines: 364 Hz\n",
    "\n",
    "Try it yourself with a tuning fork, magnets and a pitch detector. What frequencies do you measure?"
   ]
  },
  {
   "cell_type": "markdown",
   "id": "47b0ade2",
   "metadata": {},
   "source": [
    "## What have you learned?\n",
    "\n",
    "- how does the tuning fork make sound?\n",
    "- what properties of the tuning fork affects its pitch?\n",
    "- how can you adjust the frequency of the tuning fork?\n",
    "\n",
    "## Going further\n",
    "\n",
    "- why are tuning forks used to tune other instruments?\n",
    "- does the air temperature or humidity affect the pitch of a tuning fork?\n",
    "- does rust or wear and tear on a tuning fork affect the pitch?\n"
   ]
  }
 ],
 "metadata": {
  "kernelspec": {
   "display_name": "Python 3 (ipykernel)",
   "language": "python",
   "name": "python3"
  },
  "language_info": {
   "codemirror_mode": {
    "name": "ipython",
    "version": 3
   },
   "file_extension": ".py",
   "mimetype": "text/x-python",
   "name": "python",
   "nbconvert_exporter": "python",
   "pygments_lexer": "ipython3",
   "version": "3.9.13"
  }
 },
 "nbformat": 4,
 "nbformat_minor": 5
}
