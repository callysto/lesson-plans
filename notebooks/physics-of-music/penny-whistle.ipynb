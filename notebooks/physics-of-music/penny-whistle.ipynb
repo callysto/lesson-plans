{
 "cells": [
  {
   "cell_type": "markdown",
   "id": "87e914e0",
   "metadata": {},
   "source": [
    "![Callysto.ca Banner](https://github.com/callysto/curriculum-notebooks/blob/master/callysto-notebook-banner-top.jpg?raw=true)"
   ]
  },
  {
   "cell_type": "markdown",
   "id": "b286e9e4",
   "metadata": {},
   "source": [
    "# Physics of Music - The Penny Whistle"
   ]
  },
  {
   "cell_type": "markdown",
   "id": "5719f13b",
   "metadata": {},
   "source": [
    "<img src=\"images/warning_2.png\" alt=\"Warning - loud sounds\" width=\"100\"/>\n",
    "<img src=\"images/warning_1.png\" alt=\"Warning - turn down your volume\" width=\"200\"/>\n",
    "\n",
    "\n",
    "## WARNING:\n",
    "This notebook will play a variety of sounds to help you learn about sounds. It can be VERY LOUD so be sure to turn down the volume on your computer before beginning."
   ]
  },
  {
   "cell_type": "markdown",
   "id": "3c88dde2",
   "metadata": {},
   "source": [
    "## The penny whistle - a simple wind instrument \n",
    "\n",
    "A penny whistle, also known as a tin whistle, is a simple, narrow-bore wind instrument that is played by blowing air through a small hole or whistle at one end, with sound resonating through the long tube attached to the whistle. It may have holes along the body of the instrument to change the pitch of the sound. The picture below shows a penny whistle with no holes, lying alongside a ruler for scale.\n",
    "\n",
    "<img src=\"images/PennyWhistle.jpg\" alt=\"Penny Whistle\" width=\"500\"/>\n",
    "<div align=\"center\"> A child's penny whistle. </div>\n",
    "\n",
    "To play a penny whistle, the player blows into the mouthpiece at one end of the instrument. This cause a stream of air to move through the whistle, across the fipple and labium, forcing the airstream to rapidly diverge up and down. As the player covers or uncovers the holes, it changes the effective length of the air column inside the tube, which in turn changes the pitch of the sound.\n",
    "\n",
    "Let's again identify the three components that produce the musical sound. First, there is the person blowing into the whistle on the end, which initiates the vibrations in the mouthpiece. Next, there is the vibrating object -- in this case, it is the stream air itself that is vibrating up and down, across the fipple and labium of the mouthpiece. Finally, the vibrations force a resonance in the air column in the tube, which is then passed on to the open air through the hole in the whistle, creating the sound we hear.  \n",
    "\n",
    "### The fundamental pitch of the penny whistle\n",
    "\n",
    "The pitch or frequency of the tone created by the penny whistle is determined by the length of the air tube and the speed of sound in air. One way to envision this is to imagine a pulse of air pressure that travels from one end of the tube, and bounces off the end, as in this animation:\n",
    "\n",
    "<img src=\"images/tube1.gif\" alt=\"Pulse in tube\" width=\"500\"/>\n",
    "<div align=\"center\">Pulses of air pressure in a tube. </div>\n",
    "\n",
    "The pressure pulse gets inverted at the ends because the open hole in the whistle force the net pressure change at the end must be zero. The positive and negative peaks have to cancel each other at the end. \n",
    "\n",
    "Observe that the pulse travels to one end, and then returns, travling a total distance of twice the length of the tube before repeating the cycle. If the length of the tube is $L$, and the speed of sound is $V$, then the number of cycles per second is $V/2L$, which is the frequency of the tone in Hertz.\n",
    "\n",
    "For example, in the picture above, the penny whistle is about 15 cm long, while the speed of sound is about 340 meters per second. So the expected frequency is\n",
    "\n",
    "$$ \\mbox{Fundamental freq } = \\frac{V}{2L} = \\frac{340 \\, m/s}{2\\times 0.15 \\, m} \\approx 1130 \\mbox{ cycles per second.}$$\n",
    "\n",
    "This tone is transmitted through the whistle hole into the ear, which we hear as a musical note: \n",
    "\n",
    "<img src=\"images/tube1P.gif\" alt=\"Pulses in the tube transmitting to air.\" width=\"1000\"/>\n",
    "<div align=\"center\">Pulses in the tube transmitting to air. </div>\n",
    "\n",
    "We tested the whistle pictured above with an online pitch detector, and measured 1080 Hz, which is very close to the predicted value of 1130 Hz.\n",
    "\n",
    "### Harmonics of the penny whistle\n",
    "\n",
    "If you blow very hard on the penny whistle, you can produce a highed pitched tone. Again, the source of the sound is a pulse of air pressure travelling down the tube. However, we have enough energy to put two pulses circulating in the tube of the whistle for each cycle around the tube. This will generate twice as many pulses per second, as shown in the following animation:\n",
    "\n",
    "<img src=\"images/tube2P.gif\" alt=\"Two pulses in tube, with output\" width=\"1000\"/>\n",
    "<div align=\"center\">Double pulses generate the second harmonic. </div>\n",
    "\n",
    "This tone is called the second harmonic and its frequency is exactly twice the fundamental frequency; that is,\n",
    "\n",
    "$$ \\mbox{Second harmonic freq } = 2 \\times \\mbox{Fundamental freq }.$$\n",
    "\n",
    "Again as an example, for the penny whistle pictured above, we expect the second harmonic to be at\n",
    "\n",
    "$$ \\mbox{Second harmonic freq } = 2\\times 1080 \\mbox{ Hz} = 2160 \\mbox{ Hz}.$$\n",
    "\n",
    "Again measuring with an online pitch detector, we observed a pitch of 2060 Hz, which is very close to the twice the measured fundamental frequency of 1080 Hz.\n",
    "\n",
    "There are higher harmonics, one for each integer 1, 2,3, 4, and so on. With practice, one can blow hard enough to the whistle to see the third harmonic. In this case, there are three pulses per cycle in the tube, as pictured in this animation: \n",
    "\n",
    "<img src=\"images/tube3P.gif\" alt=\"Three pulses in tube, with output\" width=\"1000\"/>\n",
    "<div align=\"center\">Triple pulses generate the third harmonic. </div>\n",
    "\n",
    "The frequency will be three times as high as the fundamental, so \n",
    "\n",
    "$$ \\mbox{Third harmonic freq } = 3\\times \\mbox{Fundamental freq }.$$\n",
    "\n",
    "We expect a the third harmonic to be at $3\\times 1080 = 3240\\, Hz$. To be honest, our online pitch detector had a hard time measuring this third harmonic with the cheap whistle we had. We did eventually get a reading of 2790 Hz, which is more than 10 percent lower than the expected value. \n",
    "\n"
   ]
  },
  {
   "cell_type": "markdown",
   "id": "69bd3c85",
   "metadata": {},
   "source": [
    "### Do it yourself: measuring the pitch of a penny whistle\n",
    "\n",
    "There are many web pages available that let's you measure the pitch of the sound directly. Here is one:\n",
    "\n",
    "https://www.onlinemictest.com/tuners/pitch-detector/\n",
    "\n",
    "We used this online pitch detector to measure the fundamental frequency of the penny whistle shown above. With a length of 15 cm, we measured a pitch of 1080 Hz. \n",
    "\n",
    "Does this satisfy the equation\n",
    "\n",
    "$$ \\mbox{Pitch } = \\frac{V}{2L},$$\n",
    "\n",
    "where V is the velocity of sound in air (look it up), $L$ is the length of the whistle, and Pitch is the measured frequency in Hertz? How close are the predicted and measured values?\n",
    "\n",
    "With your own penny whistle, measure the pitch when you play it, and measure the length from the mouthpiece hole to the end of the tune. Cover any holes along the length of the tube, if it has holes. Does it  satisfy the equaton above, approximately?\n",
    "\n",
    "It you blow harder, can you get the second harmonic? Third harmonic? Are they 2 and 3 time higher in frequency than the fundamental?\n",
    "\n",
    "What happens if you blow across the top of a straw? Across a bottle top? Can you measure that pitch? How is the pitch related to the length  of the straw, or the size of the bottle?"
   ]
  },
  {
   "cell_type": "markdown",
   "id": "03761fd4",
   "metadata": {},
   "source": [
    "### What have you learned?\n",
    "\n",
    "- The whistle makes a sound by the vibrating air stream at the mouthpiece.\n",
    "- The length of the tube determines the pitch.\n",
    "- The formula for the pitch depends on the speed of sound and the length of the tube.\n",
    "- The pitch of the harmonics are integer multiples of the fundamental frequency.\n",
    "\n",
    "### Going further\n",
    "\n",
    "- What is the speed of sound at $20^{\\circ}$ Celcius? How about at $0^{\\circ}$ C or $-20^{\\circ}$ C? How will this affect the pitch?\n",
    "- How accurately can you measure the length of the tube? In particular, where on the mouthpiece should you start measuring from? Will this make a difference in how accurate the pitch frequency formula is?\n"
   ]
  }
 ],
 "metadata": {
  "kernelspec": {
   "display_name": "Python 3 (ipykernel)",
   "language": "python",
   "name": "python3"
  },
  "language_info": {
   "codemirror_mode": {
    "name": "ipython",
    "version": 3
   },
   "file_extension": ".py",
   "mimetype": "text/x-python",
   "name": "python",
   "nbconvert_exporter": "python",
   "pygments_lexer": "ipython3",
   "version": "3.9.13"
  }
 },
 "nbformat": 4,
 "nbformat_minor": 5
}
