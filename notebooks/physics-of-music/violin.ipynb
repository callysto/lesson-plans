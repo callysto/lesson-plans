{
 "cells": [
  {
   "cell_type": "markdown",
   "id": "87e914e0",
   "metadata": {},
   "source": [
    "![Callysto.ca Banner](https://github.com/callysto/curriculum-notebooks/blob/master/callysto-notebook-banner-top.jpg?raw=true)"
   ]
  },
  {
   "cell_type": "markdown",
   "id": "b286e9e4",
   "metadata": {},
   "source": [
    "# Physics of Music - The Violin\n",
    "\n",
    "---\n",
    "\n",
    "## <font color=\"#FF0000\">WARNING:</font>\n",
    "\n",
    "This notebook will play a variety of sounds to help you learn about sounds. It can be **<font color=\"#FF0000\">VERY LOUD</font>** so be sure to turn down the volume on your computer before beginning.\n",
    "\n",
    "---\n"
   ]
  },
  {
   "cell_type": "markdown",
   "id": "6f17c5c0",
   "metadata": {},
   "source": [
    "## The violin\n",
    "\n",
    "A violin is a stringed musical instrument that is played with a bow. It is one of the members of the violin family of instruments, which also includes the viola, cello, and double bass. The violin has a distinctive, high-pitched sound that has made it a popular instrument in classical music, as well as in many other musical styles.\n",
    "\n",
    "<img src=\"images/violin.jpg\" alt=\"A violin\" width=\"300\"/>\n",
    "<div align=\"center\">\n",
    "    A typical violin\n",
    "</div>\n",
    "\n",
    "The sound of a violin is produced by the vibration of its strings. The strings are made of steel or gut and are stretched between the tailpiece and the bridge. When the player draws the bow across the strings, they cause the strings to vibrate. These vibrations are then amplified by the body of the violin, which acts as a resonating chamber. The shape and size of the violin, as well as the materials used to make it, all contribute to the unique sound that it produces.\n",
    "\n",
    "The sound can be varied by the player by changing the speed and pressure of the bow, as well as by changing the position of the bow on the strings. The player can also produce different sounds by pressing the strings down against the fingerboard, which changes the length of the vibrating string and thus the pitch of the sound.\n",
    "\n",
    "In addition to the strings and the body, the sound of the violin is also influenced by the chin rest and the tailpiece, as well as by the strings and the bow. Professional violinists often experiment with different components to find the combination that produces the sound they are looking for.\n",
    "\n",
    "## Speed of sound in a string\n",
    "\n",
    "Recall we have a formula related the pitch of a vibrating string, its length $L$, and the velocity $V$ of sound in the string:\n",
    "\n",
    "$$ \\mbox{Pitch frequency (in Hertz) } = \\frac{V}{2L}.$$\n",
    "\n",
    "Rearranging this, we can compute the speed of sound in a violin string as\n",
    "\n",
    "$$ \\mbox{Velocity (in meter/sec) } = {2L}\\times{freq}.$$\n",
    "\n",
    "The highest pitched string on a violin is the E string, which vibrates at a frequency of 660 Hz. The length of the string is about 32.5 cm, so we find the speed is\n",
    "\n",
    "$$\\mbox{Velocity  } = {2(.325)}\\times{660} = 429 \\mbox{ meters per second},$$\n",
    "\n",
    "which is faster than the speed of sound in air!"
   ]
  },
  {
   "attachments": {},
   "cell_type": "markdown",
   "id": "26a21314",
   "metadata": {},
   "source": [
    "## Speed of sound in all the strings\n",
    "\n",
    "The four strings on the violin are pitched at four different notes. From lowest to highest, they are G3, D4, A4 and E5. The corresponding frequencies are 196 Hz, 293.66 Hz, 440 Hz and 660 Hz. From the formula above, we can compute the speed of sound in each of the four strings. \n",
    "\n",
    "Using that formula, can you complete this chart of sound speeds?\n",
    "\n",
    "| Note name | Frequency | Speed of sound |\n",
    "|-----------|-----------|----------------|\n",
    "| G3        | 196 Hz    |         ?       |\n",
    "| D4        | 294 Hz    |         ?       |\n",
    "| A4        | 440 Hz    |         ?       |\n",
    "| E5        | 660 Hz    |      429 m/s   |\n",
    "\n",
    "Which of these strings have speeds faster than the speed of sound in air, which is about 330 m/s? "
   ]
  },
  {
   "cell_type": "markdown",
   "id": "420b2c60",
   "metadata": {},
   "source": [
    "## Modes of vibration\n",
    "\n",
    "The violin strings can vibrate in complex patterns, and support both the even and odd harmonics of a fundamental frequency. The rich sound of the violin comes from the complex resonances of the violin body, which is a vibrating three dimensional solid frame surrounding a volume of air inside. Understanding these resonances is key to understanding how the violin is able to produce the sounds it does. \n",
    "\n",
    "Starting with the violin string, a vibration is initiated by pulling a bow of rough horse hair across the metal string, which starts the oscillations along the length of the string. The following video, in slow motion, shows the complex vibrations that occur under bowing. Notice the triangular pulse that moves up and down the string. This is called the Helmholtz motion.\n",
    "\n",
    "Helmholtz published his observations on the Helmholtz motion in his book \"On the Sensations of Tone,\" published in 1863. This was well before the invention of slow motion cameras!"
   ]
  },
  {
   "cell_type": "code",
   "execution_count": null,
   "id": "65ef77dd",
   "metadata": {},
   "outputs": [],
   "source": [
    "from IPython.display import YouTubeVideo\n",
    "YouTubeVideo('6JeyiM0YNo4')"
   ]
  },
  {
   "cell_type": "markdown",
   "id": "c1ca63ab",
   "metadata": {},
   "source": [
    "In graphical form, the Helmholtz motion can be envisioned as a triangular pulse that travels around the length of the string, as in this animation:\n",
    "\n",
    "<img src=\"images/helm_wave.gif\" alt=\"Helmholtz waveform\" width=\"500\"/>\n",
    "<div align=\"center\">Helmholtz motion. </div>\n",
    "\n",
    "\n",
    "Remarkably, all the complex motions of the string, including the Helmholtz motion, can be understood as made up of simpler standing waves, or sinusoid patterns that oscillate up and down along the string. \n",
    "\n",
    "### Fundamental mode\n",
    "\n",
    "The simplest standing wave is the fundamental oscillation, or mode, consisting of one \"hump\" of a sine curve that moves up and down in a periodic motion, like this:\n",
    "\n",
    "<div align=\"center\">\n",
    "    <b> The fundamental mode of vibration </b>    \n",
    "<table width = 800>\n",
    "<tr>\n",
    "<td><img src=\"images/string_standing_wave1.gif\"></td>\n",
    "</tr>\n",
    "</table>\n",
    "</div>\n",
    "\n",
    "This motion has a nice mathematical description as a product of two sine functions, something like this:\n",
    "$$ h(x,t) = \\sin(x)\\sin(t), $$\n",
    "where $x$ measures the distance along the string, $t$ is the elapsed time, and $h$ is the height of the string. What this says is that the shape of the string as it vibrates will look like a sine curve (in the horizontal or $x$ direction), and each point on the string moves up and down in the simple harmonic motion like a tuning fork, in the time variable $t$.\n",
    "\n",
    "### Higher modes\n",
    "\n",
    "Other modes of vibration occur, which are described mathematically by scaling the $x$ and $t$ variables by integers, like 2,3,4 and so on. \n",
    "\n",
    "The second harmonic appears as the function\n",
    "$$ h(x,t) = \\sin(2x)\\sin(2t), $$\n",
    "while the third harmonic appears as\n",
    "$$ h(x,t) = \\sin(3x)\\sin(3t). $$\n",
    "\n",
    "We can animate these modes as follows:\n",
    "\n",
    "<div align=\"center\">\n",
    "    <b> The first three modes of vibration on a string </b>    \n",
    "<table width = 800>\n",
    "<tr>\n",
    "<td><img src=\"images/string_standing_wave1.gif\"></td>\n",
    "<td><img src=\"images/string_standing_wave2.gif\"></td>\n",
    "<td><img src=\"images/string_standing_wave3.gif\"></td>\n",
    "</tr>\n",
    "<tr>\n",
    "<td><div align=\"center\">Fundamental Mode </div></td>\n",
    "<td><div align=\"center\">Second Harmonic Mode </div></td>\n",
    "<td><div align=\"center\">Third Harmonic Mode </div></td>\n",
    "</tr>\n",
    "</table>\n",
    "</div>\n",
    "\n",
    "This modes, in the form of sinusoids, are the harmonics of vibration. Notice the numbers of \"humps\" on the curves in the three modes. The fundamental, or first mode, has one hump of a sine curve. The second mode has two humps, and the third mode has three humps. \n",
    "\n",
    "Notice how the second and third modes oscillate more quickly than the fundamental mode. In fact, if you observe closely, you can see that the second mode is oscillating twice as fast as the fundamental, while the third mode oscillates three times as fast. \n",
    "\n",
    "This is true for all $n$-th order modes: the $n$-th mode has $n$ humps, and oscillates $n$ times faster than the fundamental. It is representated mathematically as\n",
    "$$ h(x,t) = \\sin(nx)\\sin(nt). $$"
   ]
  },
  {
   "cell_type": "markdown",
   "id": "d04cbf9a",
   "metadata": {},
   "source": [
    "### Adding modes\n",
    "\n",
    "Helmholtz observed that **any** complex motion of the vibrating violin string can be obtained by adding up these various harmonic modes. This is the idea of Fourier series, discovered in 1805. \n",
    "\n",
    "For the complex Helmholtz motion, we need to add a weighted sum of harmonics.\n",
    "\n",
    "The formula for the Helmholtz motion is like this:\n",
    "\n",
    "$$h(x,t) = \\sin(x)\\sin(t) + \\frac{1}{4}\\sin(2x)\\sin(2t)+ \\frac{1}{9}\\sin(3x)\\sin(3t) + \\frac{1}{16}\\sin(4x)\\sin(4t) + \\cdots,$$\n",
    "\n",
    "where the three dots at the end means we keep on summing over all modes to infinity.\n",
    "\n",
    "The fact that all harmonics occur in this sum is the reason the violin sound is so rich and pleasing to our ears. "
   ]
  },
  {
   "cell_type": "markdown",
   "id": "f58d6635",
   "metadata": {},
   "source": [
    "### Hearing the harmonics\n",
    "\n",
    "From the Helmholtz formula, it appears that the amplitude of the harmonics are weighted by a factor of $1/n^2$, where $n$ is the order of the harmonic. \n",
    "\n",
    "That's not necessarily what we hear. The string has to transmit the vibrations through the bridge to the body of the violin, which depends on the force of the string on the bridge. Refering to the text by Rossing, Moore and Wheeler on  \"The Science of Sound,\" it appears the harmonics of the force are weighted by $1/n$.\n",
    "\n",
    "Since we have Python code, we can play around with both the number of nodes to include in the synthezied sound, and the order of the power of $n$ that appears in the weights. \n",
    "\n",
    "So let us synthesize a violin sound, from the formula\n",
    "$$s(t) = \\sum_{n=1}^N \\frac{1}{n^k} \\sin(nt),$$\n",
    "where we sum over a number of  modes $n$ from the fundamental $n=1$ to a maximum $n=N$. We can choose the power $k$ for the exponent in the weight. Note that $k$ doesn't have to be an integer.\n",
    "\n",
    "Play around with the following synthesis in the code below. Adjust the number of modes in the simulation, and adjust the power $k$. What sounds like a violin to you?\n",
    "\n",
    "If you select \"Autoplay\" in the checkbox, the sound will adjust \"live\" as you move the sliders. \n"
   ]
  },
  {
   "cell_type": "code",
   "execution_count": null,
   "id": "18ad4e16",
   "metadata": {},
   "outputs": [],
   "source": [
    "from numpy import pi, sin, exp, power, linspace\n",
    "from ipywidgets import interactive\n",
    "from IPython.display import Audio, display\n",
    "\n",
    "def add_modes(autoplay=False,num_modes=5,k = 2):\n",
    "    rate = 44100\n",
    "    freq = 440 # pitch is A above middle C\n",
    "    t_dur = 5  # 5 second duration\n",
    "    t_peak = 1 # peak sound at 1 second\n",
    "    t = linspace(0,t_dur,rate*t_dur)\n",
    "    signal = 0*t\n",
    "    for n in range(num_modes,0,-1):\n",
    "        signal += sin(2*pi*n*freq*t)/power(n,k)\n",
    "    signal *= t*exp(-t/t_peak)  # shape the note with an attack and decay\n",
    "    display(Audio(data=signal,rate=rate,autoplay=autoplay))\n",
    "\n",
    "v1 = interactive(add_modes, autoplay=False, num_modes=(1,20),k=(0.5,3.0,0.5))\n",
    "display(v1)"
   ]
  },
  {
   "cell_type": "markdown",
   "id": "96d922ae",
   "metadata": {},
   "source": [
    "## A note on physical units\n",
    "\n",
    "To make the formulas above a bit simpler, we cheated a little by ignoring physical units. To be more precise, let's include the length $L$ of the string and the period of oscillation $T$ for the note being played. The fundamental harmonic is given by the equation\n",
    "\n",
    "$$h(x,t) = \\sin(\\frac{\\pi x}{L}) \\sin(\\frac{2\\pi t}{T})$$\n",
    "\n",
    "while the $n$-th harmonic is given as\n",
    "\n",
    "$$h(x,t) = \\sin(\\frac{\\pi nx}{L}) \\sin(\\frac{2\\pi nt}{T}).$$\n",
    "\n",
    "Notice that the period of oscillation $T$ is the reciprocal of the frequency $f$ or pitch of the string, so we could also write\n",
    "\n",
    "$$h(x,t) = \\sin(\\frac{\\pi x}{L}) \\sin(2\\pi ft)$$\n",
    "\n",
    "for the fundamental. Choose the format that you like, if you need it. \n",
    "\n",
    "### Question\n",
    "\n",
    "When $L$ is measured in meters, and $T$ is measured in seconds, then the ratio $L/T$ has the dimension of meters per second, which is a velocity. See if you can figure out why twice that value, $2L/T$, is the speed of sound in the string. \n"
   ]
  },
  {
   "cell_type": "markdown",
   "id": "2ad0b3d3",
   "metadata": {},
   "source": [
    "### The resonating body\n",
    "\n",
    "The third component that is important in the production of musical sounds is the resonating body, the object that vibrates in resonance with the main vibrator in the instrument. For the violin, this is the wooden body of the violin itself, including the top and back plates of the body as well as the volume of air inside the wooden body. The neck, ribs and fingerboard of the violin contribute as well, but to a much lesser extent.\n",
    "\n",
    "There are four major resonant modes to mention. First, the A0 mode that arises from the air moving in and out of the f-holes in the top of the violin. The T1 mode is the main vibrational mode of the top plate. And finally there are the C3 and C4 modes, which involve a two dimensional flexing of the violin body. There are other modes, but they only contribute a little. \n",
    "\n",
    "These four modes are tuned to peak at frequencies around 275 Hz, 460 Hz, 530 Hz and 700 Hz and radiate sound very effective to the air around the violin. \n",
    "\n",
    "There is an additonal cluster of resonant modes in the range of about 2 to 3 kilohertz, which can be described as a formant resembling the characteristics of a human singer. This formant is particularly notable in characterizing the sound of high quality violins. \n",
    "\n",
    "Modeling the resonant body is beyond the aims of this short notebook. It could be attempted by introducing a well-designed filter to modify the spectra of the violin string simulations created above. "
   ]
  },
  {
   "cell_type": "markdown",
   "id": "cd7f1623",
   "metadata": {},
   "source": [
    "## Summary\n",
    "\n",
    "This learning resource demonstrates some of the details of how a violin produces sound, how these sounds are represented mathematically and how they can be reproduced on a computer. Experiment with this and accompanying learning resources to better understand how different musical instruments produce sounds and music from around the world."
   ]
  },
  {
   "cell_type": "markdown",
   "id": "74d6b528",
   "metadata": {},
   "source": [
    "[![Callysto.ca License](https://github.com/callysto/curriculum-notebooks/blob/master/callysto-notebook-banner-bottom.jpg?raw=true)](https://github.com/callysto/curriculum-notebooks/blob/master/LICENSE.md)"
   ]
  },
  {
   "cell_type": "code",
   "execution_count": null,
   "id": "80adf388",
   "metadata": {},
   "outputs": [],
   "source": []
  }
 ],
 "metadata": {
  "kernelspec": {
   "display_name": "Python 3 (ipykernel)",
   "language": "python",
   "name": "python3"
  },
  "language_info": {
   "codemirror_mode": {
    "name": "ipython",
    "version": 3
   },
   "file_extension": ".py",
   "mimetype": "text/x-python",
   "name": "python",
   "nbconvert_exporter": "python",
   "pygments_lexer": "ipython3",
   "version": "3.9.6"
  }
 },
 "nbformat": 4,
 "nbformat_minor": 5
}
