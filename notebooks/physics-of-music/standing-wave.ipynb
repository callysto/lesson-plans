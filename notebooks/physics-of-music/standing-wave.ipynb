{
 "cells": [
  {
   "cell_type": "markdown",
   "id": "87e914e0",
   "metadata": {},
   "source": [
    "![Callysto.ca Banner](https://github.com/callysto/curriculum-notebooks/blob/master/callysto-notebook-banner-top.jpg?raw=true)"
   ]
  },
  {
   "cell_type": "markdown",
   "id": "b286e9e4",
   "metadata": {},
   "source": [
    "# Physics of Music - Standing Waves\n",
    "\n",
    "---\n",
    "\n",
    "## <font color=\"#FF0000\">WARNING:</font>\n",
    "\n",
    "This notebook will play a variety of sounds to help you learn about sounds. It can be **<font color=\"#FF0000\">VERY LOUD</font>** so be sure to turn down the volume on your computer before beginning.\n",
    "\n",
    "---\n"
   ]
  },
  {
   "cell_type": "markdown",
   "id": "c744e050",
   "metadata": {},
   "source": [
    "### Standing wave on a vibrating string\n",
    "\n",
    "A length of string, when placed under tension, will vibrate when struck or plucked with a finger or pick. Unlike the tuning fork which produces a simple sine wave at a fixed frequency, a vibrating string can oscillate in all sorts of complex motions.\n",
    "\n",
    "The simplest one we might imagine is a simple \"bump\" that moves perpendicular to the length of the string. Imagine, for instance, the string on the ukelele fixed at the endpoints, and plucked at the centre. The oscillations might look something like this:\n",
    "\n",
    "<img src=\"images/string_standing_wave1.gif\" alt=\"Simple oscillation\" width=\"500\"/>\n",
    "<div align=\"center\">Fundamental. </div>\n",
    "\n",
    "This is called the fundamental mode of vibration. \n",
    "\n",
    "We can also get a more complicated oscillation when the string is plucked in two places, say upwards on the left and downwards on the right, simulateneously. The oscillations would look something like this:\n",
    "\n",
    "<img src=\"images/string_standing_wave2.gif\" alt=\"Double oscillation\" width=\"500\"/>\n",
    "<div align=\"center\">Second harmonic. </div>\n",
    "\n",
    "This is called the second harmonic of vibration. In a real string, these double oscillations occur at twice the frequency as the single oscillations above. One way to see this is to imagine holding the string fixed at the midpoint. Then you have a string of half the length vibrating, and we know from our discussion of pulses on a string that the pitch is inversely proportional to length. Half the length means twice the frequency.  \n",
    "\n",
    "We can also have three oscillations, for the third harmonic, moving at three times the speed, as in the following:\n",
    "\n",
    "<img src=\"images/string_standing_wave3.gif\" alt=\"Double oscillation\" width=\"500\"/>\n",
    "<div align=\"center\">Third harmoonic. </div>\n",
    "\n",
    "These different oscillations can combine, by summing up the heights of the oscillations along the points of the string. For instance, if we add the first and third harmonic, we get something like this:\n",
    "\n",
    "<img src=\"images/string_standing_wave31.gif\" alt=\"Two harmonics added\" width=\"500\"/>\n",
    "<div align=\"center\">First and third harmonic combined. </div>\n",
    "\n",
    "In fact, there are infinitely many different waveforms that are possible with the same piece of string under tension. These are all obtained by summing up different combinations of these harmonic modes, with different relative amplitudes and phases. \n",
    "\n",
    "An interesting complex waveform is the Helmholz motion of a bowed violin string, first described in the 1880's by physicist Hermann Helmholz. It looks like two straight lines with a \"corner\" that moves along the length of the string at a fixed speed, like this:\n",
    "\n",
    "<img src=\"images/helm_wave.gif\" alt=\"Helmholtz waveform\" width=\"500\"/>\n",
    "<div align=\"center\">Helmholtz motion. </div>\n",
    "\n",
    "Let's take a deeper dive into the motion of these string."
   ]
  },
  {
   "cell_type": "markdown",
   "id": "28eff688",
   "metadata": {},
   "source": [
    "## Strings and standing waves\n",
    "\n",
    "The motion of a plucked string on a guitar, or the vibrations of a bowed string on a violin is very complex. \n",
    "For instance, here we can see a slow motion video of a violin string vibrating in a complex pattern known as the Helmholtz motion. "
   ]
  },
  {
   "cell_type": "code",
   "execution_count": 1,
   "id": "88d1819f",
   "metadata": {},
   "outputs": [
    {
     "data": {
      "image/jpeg": "[encoded data removed]",
      "text/html": [
       "\n",
       "        <iframe\n",
       "            width=\"400\"\n",
       "            height=\"300\"\n",
       "            src=\"https://www.youtube.com/embed/6JeyiM0YNo4\"\n",
       "            frameborder=\"0\"\n",
       "            allowfullscreen\n",
       "            \n",
       "        ></iframe>\n",
       "        "
      ],
      "text/plain": [
       "<IPython.lib.display.YouTubeVideo at 0x1030997f0>"
      ]
     },
     "execution_count": 1,
     "metadata": {},
     "output_type": "execute_result"
    }
   ],
   "source": [
    "from IPython.display import YouTubeVideo\n",
    "YouTubeVideo('6JeyiM0YNo4')"
   ]
  },
  {
   "cell_type": "markdown",
   "id": "63ac9298",
   "metadata": {},
   "source": [
    "These complex motions can be understood as made up of simpler standing waves, or sinusoid patterns that oscillate along the string. \n",
    "\n",
    "<div align=\"center\">\n",
    "    <b> The first three standing waves on a string </b>    \n",
    "<table width = 800>\n",
    "<tr>\n",
    "<td><img src=\"images/string_standing_wave1.gif\"></td>\n",
    "<td><img src=\"images/string_standing_wave2.gif\"></td>\n",
    "<td><img src=\"images/string_standing_wave3.gif\"></td>\n",
    "</tr>\n",
    "<tr>\n",
    "<td><div align=\"center\">Fundamental Mode </div></td>\n",
    "<td><div align=\"center\">Second Harmonic </div></td>\n",
    "<td><div align=\"center\">Third Harmonic </div></td>\n",
    "</tr>\n",
    "</table>\n",
    "</div>\n",
    "\n",
    "These standing waves can be numbered as modes 1,2,3, and so on, all the way to infinity. The shape of the curve, for an ideal elastic string, is just the shape of a sine wave. The rate at which they oscillate depend on the length and tension of the string, as well as the mode number. \n",
    "\n",
    "Pythagorus, of Ancient Greece, was one of the first to observe that these standing waves vibrated at different pitches and would sound pleasant together when the modes were harmonically related. It turns out the frequency of vibration of any of these modes is a simple integer multiple of the frequency of the fundamental mode and so what we heard are frequencies that are related by small integer fractions.\n",
    "\n",
    "These different frequencies are called the harmonics for the vibrating string, and combining them accounts for the rich musical sound produced by stringed instruments. \n",
    "\n",
    "Remarkably, the complex motions of a string are obtained as a mathematical sum of the functions representing these standing wave motion. Even the Helmholts motion can be so obtained:\n",
    "\n",
    "<img src=\"images/helm_wave.gif\" alt=\"Helmholtz waveform\" width=\"500\"/>\n",
    "<div align=\"center\">Helmholtz motion. </div>"
   ]
  },
  {
   "cell_type": "markdown",
   "id": "e90afe78",
   "metadata": {},
   "source": [
    "### Traveling waves: the fundamental\n",
    "\n",
    "To see how these standing waves arise, imagine two children holding a skipping rope, and shaking it between them. If they carefully synchronize their movements, they can make a bump move down from one end to the other. It could travel left to right, like this:\n",
    "\n",
    "<img src=\"images/string_travelR_wave1.gif\" alt=\"Simple oscillation\" width=\"500\"/>\n",
    "<div align=\"center\"> A wave traveling to the right. </div>\n",
    "\n",
    "If the children reverse roles, they could instead have a wave going right to left, like this:\n",
    "\n",
    "<img src=\"images/string_travelL_wave1.gif\" alt=\"Double oscillation\" width=\"500\"/>\n",
    "<div align=\"center\"> A wave traveling to the left. </div>\n",
    "\n",
    "Now, a string on a violin cannot move like this, because the endpoints of the string are fixed by the bridge and do not move at all. However, if we add up the two left- and right-travelling waves, their peaks and troughs exactly cancel at the endpoints, giving the orange curve in the middle:\n",
    "\n",
    "<img src=\"images/string_travelRL_wave1.gif\" alt=\"Double oscillation\" width=\"500\"/>\n",
    "<div align=\"center\"> Summing the two to get the standing wave. </div>\n",
    "\n",
    "So this is how the first mode of the string vibration works. Now, we can work out its frequency of oscillation, by observing that the traveling waves must travel at some velocity $V$ along the string, and the animation repeats itself in the time it takes the bump to travel from left to right, and back again. So, it travels a length of $2L$ where $L$ is the length of the string, of the frequency of oscillation is \n",
    "\n",
    "$$ \\mbox{Frequency (in Hz)  } = \\frac{V}{2L}. $$\n",
    "\n",
    "This is exactly the same formula we had for a pulse traveling back and forth in a string, or an open pipe. \n",
    "\n",
    "<img src=\"images/string1.gif\" alt=\"A single pulse\" width=\"500\"/>\n",
    "<div align=\"center\"> A pressure pulse traveling back and forth in a pipe. </div>\n",
    "\n",
    "For instance, the G string on a violin oscillates at 196 Hertz, and has a length of about 32.5 cm. The above formula lets us calculate the velocity of sound in that string as\n",
    "\n",
    "$$ V = 2L\\times\\mbox{ freq} = 2\\times(.325)\\times 196 = 127 \\mbox{ meters/second},$$\n",
    "\n",
    "which is about one-third the speed of sound in air. "
   ]
  },
  {
   "cell_type": "markdown",
   "id": "90863b4a",
   "metadata": {},
   "source": [
    "### Traveling wave: the second harmonic\n",
    "\n",
    "To see the second harmonic, imagine the children shaking the rope faster, so more bumps appear along the skipping rope. The left-going wave looks like this:\n",
    "\n",
    "<img src=\"images/string_travelL_wave2.gif\" alt=\"Double oscillation\" width=\"500\"/>\n",
    "<div align=\"center\"> A double wave traveling to the left. </div>\n",
    "\n",
    "while the right-going wave looks like this:\n",
    "\n",
    "<img src=\"images/string_travelR_wave2.gif\" alt=\"Double oscillation\" width=\"500\"/>\n",
    "<div align=\"center\"> A double wave traveling to the right. </div>\n",
    "\n",
    "Add them together and we see the second harmonic mode, as the orange curve here:\n",
    "\n",
    "<img src=\"images/string_travelRL_wave2.gif\" alt=\"Double oscillation\" width=\"500\"/>\n",
    "<div align=\"center\"> Summing the two to get the standing wave. </div>\n",
    "\n",
    "To find the frequency of oscillation, just notice that the velocity of the traveling wave is still the same, $V$, but now we get two bumps per period rather than one. So the frequency of oscillation is twice the fundamental above, so we have the formula\n",
    "\n",
    "$$ \\mbox{Frequency of 2nd harmonic  } = 2\\mbox{ times (Frequency of fundamental)}. $$\n",
    "\n",
    "And this pattern continues for the 3rd, 4th, 5th harmonics and so on. \n"
   ]
  },
  {
   "cell_type": "markdown",
   "id": "ba44d722",
   "metadata": {},
   "source": [
    "### Helmholtz traveling wave:\n",
    "\n",
    "The complex motion of the Helmholtz wave can also be understood as a traveling wave. Again, imagine our two children shaking a rope, but this time, each period they give a sharp tug to the rope to make a litte kink in the curve as it moves from left to right, like this:\n",
    "\n",
    "<img src=\"images/helmR_wave.gif\" alt=\"Helmhotz waveform traveling right\" width=\"500\"/>\n",
    "<div align=\"center\"> A Helmholtz corner traveling to the right. </div>\n",
    "\n",
    "Then imagine the same shape, but traveling from left to right, and upside down:\n",
    "\n",
    "<img src=\"images/helmL_wave.gif\" alt=\"Helmhotz waveform traveling left\" width=\"500\"/>\n",
    "<div align=\"center\"> A Helmholtz corner traveling to the left. </div>\n",
    "\n",
    "We add the two, and magically the endpoints cancel so we have fixed nodes for our string at the endpoints. The orange curve in the middle of this animation is the true Helmholtz waveform:\n",
    "\n",
    "<img src=\"images/helmRL_wave.gif\" alt=\"Helmhotz waveform with traveling parts\" width=\"500\"/>\n",
    "<div align=\"center\"> Summing the two to get the Helmholtz oscillation. </div>\n",
    "\n",
    "Again, the frequency of oscillation is just $V/2L$.\n",
    "\n",
    "It is an interesting exercise to figure out the Helmholtz oscillation as a sum of modal harmonics!\n"
   ]
  },
  {
   "cell_type": "markdown",
   "id": "9462ff64",
   "metadata": {},
   "source": [
    "## Pipes and standing waves\n",
    "\n",
    "Standing waves also occur in the pressure waves traveling in a pipe, as in the case of penny whistles and slide whistles that were discussed earlier. They also occur in woodwinds, brass instruments, organ pipes and other instruments that have oscillating air masses. \n",
    "\n",
    "The standing waves for a simple open pipe look just like those for a string. The relative air pressure in the pipe must be zero at the ends of the pipe, as the pipe is open to the air and pressure cannot build up at the open end. Here we see the first three harmonics of the open pipe: \n",
    "\n",
    "<div align=\"center\">\n",
    "    <b> The first three standing waves in an open pipe </b>    \n",
    "<table width = 800>\n",
    "<tr>\n",
    "<td><img src=\"images/tube_standing_wave1.gif\"></td>\n",
    "<td><img src=\"images/tube_standing_wave2.gif\"></td>\n",
    "<td><img src=\"images/tube_standing_wave3.gif\"></td>\n",
    "</tr>\n",
    "<tr>\n",
    "<td><div align=\"center\">Fundamental Mode </div></td>\n",
    "<td><div align=\"center\">Second Harmonic </div></td>\n",
    "<td><div align=\"center\">Third Harmonic </div></td>\n",
    "</tr>\n",
    "</table>\n",
    "</div>\n",
    "\n",
    "Again, the frequency of the fundamental is given by $V/2L$, where here $V$ is the velocity of sound in the air, and $L$ is the length of the pipe. The frequency of the higher harmonics are integer multiples of this fundamental frequency. \n",
    "\n",
    "For a half-open pipe, the standing waves are a bit different. In this case, at the open end the relative pressure is fixed at zero, but at the other, closed end, the pressure can go up and down. The fundamental mode looks like this: \n",
    "\n",
    "<img src=\"images/tube_standing_half_wave1.gif\" alt=\"Fundament mode, half open\" width=\"500\"/>\n",
    "<div align=\"center\"> Fundamental mode for a half open pipe. </div>\n",
    "\n",
    "Its frequency is $V/4L$, just like for the slide whistle. The next available harmonic is the third harmonic, with standing waves that look like this:\n",
    "\n",
    "<img src=\"images/tube_standing_half_wave3.gif\" alt=\"Third harmonic mode, half open\" width=\"500\"/>\n",
    "<div align=\"center\"> Third harmonic for a half open pipe. </div>\n",
    "\n",
    "Its frequency is three times the fundamental. As with pulses, only the odd harmonics appear as standing waves for the half-open pipe.\n",
    "\n",
    "\n",
    "The standing waves for conically shaped instrument, like a saxophone, or one with a flared bell at the end, like a trumpet, are a bit more complicated but follow this basic pattern. "
   ]
  },
  {
   "cell_type": "markdown",
   "id": "ce6ab121",
   "metadata": {},
   "source": [
    "[![Callysto.ca License](https://github.com/callysto/curriculum-notebooks/blob/master/callysto-notebook-banner-bottom.jpg?raw=true)](https://github.com/callysto/curriculum-notebooks/blob/master/LICENSE.md)"
   ]
  },
  {
   "cell_type": "code",
   "execution_count": null,
   "id": "bc259ab9",
   "metadata": {},
   "outputs": [],
   "source": []
  }
 ],
 "metadata": {
  "kernelspec": {
   "display_name": "Python 3 (ipykernel)",
   "language": "python",
   "name": "python3"
  },
  "language_info": {
   "codemirror_mode": {
    "name": "ipython",
    "version": 3
   },
   "file_extension": ".py",
   "mimetype": "text/x-python",
   "name": "python",
   "nbconvert_exporter": "python",
   "pygments_lexer": "ipython3",
   "version": "3.9.6"
  }
 },
 "nbformat": 4,
 "nbformat_minor": 5
}
