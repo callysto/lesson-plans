{
 "cells": [
  {
   "cell_type": "markdown",
   "id": "87e914e0",
   "metadata": {},
   "source": [
    "![Callysto.ca Banner](https://github.com/callysto/curriculum-notebooks/blob/master/callysto-notebook-banner-top.jpg?raw=true)"
   ]
  },
  {
   "cell_type": "markdown",
   "id": "b286e9e4",
   "metadata": {},
   "source": [
    "# Physics of Music - Plucked String\n",
    "\n",
    "---\n",
    "\n",
    "## <font color=\"#FF0000\">WARNING:</font>\n",
    "\n",
    "This notebook will play a variety of sounds to help you learn about sounds. It can be **<font color=\"#FF0000\">VERY LOUD</font>** so be sure to turn down the volume on your computer before beginning.\n",
    "\n",
    "---\n"
   ]
  },
  {
   "cell_type": "markdown",
   "id": "2ee47a92",
   "metadata": {},
   "source": [
    "## The plucked string\n",
    "\n",
    "A more complicated family of vibrating instuments are the stringed instrucments, such as guitars, harps, violins, cellos and so on. One of the first string instruments a young child might play is the ukelele, as shown here.\n",
    "\n",
    "<img src=\"images/ukelele.jpg\" alt=\"A ukelele.\" width=\"500\"/>\n",
    "<div align=\"center\">A standard ukelele. </div>\n",
    "\n",
    "The distinctive sounds of these stringed instruments are produced by the interaction of \n",
    "- the method of striking the strings, which could be with a plastic pick, with fingers or fingernails, or with a bow strung with horse hair;\n",
    "- the vibrating strings, which may be made of plastic, steel or even animal tendons, and the various ways the strings can move;\n",
    "- the resonate body of the instrument, such as the wooden frame of a violin or guitar, or the metal frame of a harp. \n",
    "\n",
    "The interaction between these three items is quite complex. Let's simplify by examining first just the vibrating strings themselves.\n",
    "\n",
    "### Fundamental frequency\n",
    "\n",
    "A vibrations of plucked string can be envisioned as a pulse that travels up and down the length of the string, as in this animation:\n",
    "\n",
    "<img src=\"images/string1.gif\" alt=\"A single pulse\" width=\"500\"/>\n",
    "<div align=\"center\">Single pulse traveling on a string. </div>\n",
    "\n",
    "As with the penny whistle, the frequency of the pitch is given by the formula\n",
    "\n",
    "$$ \\mbox{Pitch frequency (in Hertz) } = \\frac{V}{2L},$$\n",
    "\n",
    "where $L$ is the length of the string, but here $V$ is the velocity of the pulse on the string. This is also called the velocity of sound in the string, but note it is usually different than the velocity in air. \n",
    "\n",
    "For example, for the ukelele above, we can measure the pitch of the A string (the highest sounding string) as 440 Hz, and the length is 35 cm. Rearranging the formula above, we find the velocity $V$ of sound in this string is\n",
    "\n",
    "$$ \\mbox{Velocity } V = \\mbox{freq}*2L = 440*2*0.25  = 308 m/s.$$\n",
    "\n",
    "So, 308 meters per second is a bit slower than the speed of sound in air. \n",
    "\n",
    "### You try:\n",
    "\n",
    "The lowest string on the ukelele also has length 35 cm, but plays the note C at 262 Hz. What is the speed of sound in this string?"
   ]
  },
  {
   "cell_type": "markdown",
   "id": "2e1cfed9",
   "metadata": {},
   "source": [
    "## Simulating the plucked string\n",
    "\n",
    "Here is a short piece of code to simulate the sound produced by a plucked string. The basic idea is to create a feedback loop, that simulated the pulse bouncing back and forth across the string. There is a little filter to help the sound decay to silence, just like a real plucked string. \n",
    "\n",
    "This is the famous Karplus-Strong algorithm created in 1983 that was simple enough to generate sounds in real time on the slow personal computers from 40+ years ago. "
   ]
  },
  {
   "cell_type": "code",
   "execution_count": 1,
   "id": "92aada57",
   "metadata": {},
   "outputs": [],
   "source": [
    "# We import the libraries numpy, matplotlib and widgets to make this work. And some audio tools\n",
    "import matplotlib.pyplot as plt\n",
    "from numpy import zeros, pi, sin, cos, exp, linspace, maximum, minimum, random\n",
    "from ipywidgets import interactive, FloatLogSlider, RadioButtons, SelectMultiple\n",
    "from IPython.display import Audio, display"
   ]
  },
  {
   "cell_type": "code",
   "execution_count": 2,
   "id": "4f43f248",
   "metadata": {},
   "outputs": [
    {
     "data": {
      "application/vnd.jupyter.widget-view+json": {
       "model_id": "e7f9e97bdb494c0f9ef43511b8f00e31",
       "version_major": 2,
       "version_minor": 0
      },
      "text/plain": [
       "interactive(children=(Checkbox(value=False, description='autoplay'), IntSlider(value=3, description='num_pluck…"
      ]
     },
     "metadata": {},
     "output_type": "display_data"
    }
   ],
   "source": [
    "# add some feedback with clicks as input\n",
    "def set_plucks(autoplay=False,num_plucks=3,pitch=220):\n",
    "    t_max = 1\n",
    "    rate = 44100\n",
    "    t = linspace(0,t_max,rate*t_max)\n",
    "    signal_in = 0*t\n",
    "    signal_out = 0*t\n",
    "    num = max(1,min(10,num_plucks))\n",
    "    pitch = max(55,min(880,pitch))\n",
    "    for i in range(1,num+1):\n",
    "        signal_in[int(i*len(signal_in)/(num+1))]=1 \n",
    "    p = int(rate/pitch) # the period of oscillation, in number of samples\n",
    "    for i in range(len(signal_out)-p):\n",
    "        signal_out[p+i] = signal_in[i] + (signal_out[i]+signal_out[i+1])/2\n",
    "    display(Audio(data=signal_out,rate=rate,autoplay=autoplay))\n",
    "    plt.subplot(1, 2, 1)\n",
    "    plt.plot(t,signal_in)\n",
    "    plt.title(\"Signal_in\")\n",
    "    plt.xlabel(\"Time (secs)\")\n",
    "    plt.ylabel(\"Amplitude\")\n",
    "    plt.subplot(1, 2, 2)\n",
    "    plt.plot(t,signal_out)\n",
    "    plt.title(\"Signal_out\")\n",
    "    plt.xlabel(\"Time (secs)\")\n",
    "    plt.ylabel(\"Amplitude\")\n",
    "    return signal_out\n",
    "\n",
    "v3 = interactive(set_plucks, autoplay=False, num_plucks=(1,10), pitch=(110,440))\n",
    "output = v3.children[-1]\n",
    "output.layout.height = '500px'\n",
    "display(v3)"
   ]
  },
  {
   "cell_type": "markdown",
   "id": "9d8c9ac2",
   "metadata": {},
   "source": [
    "### Try it yourself\n",
    "\n",
    "In the simulation about, move the sliders to change the number of plucks and/or the frequency of the oscillation. The plots give a visual display of the plucks and the resulting sounds."
   ]
  },
  {
   "cell_type": "markdown",
   "id": "24f7d16f",
   "metadata": {},
   "source": [
    "## More pulses travellng along the string\n",
    "\n",
    "In the simulation above, we have a single pulse moving back and forth along the string, something like thisL\n",
    "\n",
    "<img src=\"images/string1.gif\" alt=\"A single pulse\" width=\"500\"/>\n",
    "<div align=\"center\">A single pulse on the string.</div>\n",
    "\n",
    "We should think about how the sound exits the string. On a violin (or guitar), there is a bridge or small wooden wedge supporting the string at one end, that carries the pulse to the violin's wooden body, transmitting the string vibration to something we can here. You can picture this schematically with the sound exiting one end of the string, as in this animation:\n",
    "\n",
    "<img src=\"images/string1P.gif\" alt=\"Single pulse and propagation\" width=\"1000\"/>\n",
    "<div align=\"center\">A single pulse, and its transmission.</div>\n",
    "\n",
    "Now, there is nothing special abou having just one pulse. You could have two equally spaced pulses traveling back and forth on the string, as in the following animation:\n",
    "\n",
    "<img src=\"images/string2.gif\" alt=\"Two equally spaced pulses\" width=\"500\"/>\n",
    "<div align=\"center\">Two pulses on the string.</div>\n",
    "\n",
    "The two pulses travel at the same speed as the single pulse, but now when the sound is transmitted out of the string, we get twice as many pulse per second, as show here:\n",
    "\n",
    "<img src=\"images/string2P.gif\" alt=\"Two pulses and propagation\" width=\"1000\"/>\n",
    "<div align=\"center\">Two circulating pulses, and their transmission.</div>\n",
    "\n",
    "We could have three or more pulses, and get three or more as many pulses being transmitted out of the string, like this:\n",
    "\n",
    "<img src=\"images/string3P.gif\" alt=\"Three pulses and propagation\" width=\"1000\"/>\n",
    "<div align=\"center\">Three circulating pulses, and their transmission.</div>\n",
    "\n",
    "\n",
    "This is the start of the idea that a string can produce a fundmental frequency, and also harmonics at 2, 3, and 4 times this this fundamental frequency. So for instance, a string that vibrates at 110 Hz can also produce harmonics at 220, 330, 440, 550 Hertz and so on. \n",
    "\n",
    "Another way to understand this is to look beyond the idea of pulse, and look at the possible modes of oscillation for a string. "
   ]
  },
  {
   "cell_type": "markdown",
   "id": "7d0c9cac",
   "metadata": {},
   "source": [
    "## Modes of oscillation\n",
    "\n",
    "A length of string, when placed under tension, will vibrate when struck or plucked with a finger or pick. Unlike the tuning fork which produces a simple sine wave at a fixed frequency, a vibrating string can oscillate in all sorts of complex motions.\n",
    "\n",
    "The simplest one we might imagine is a simple \"bump\" that moves perpendicular to the length of the string. Imagine, for instance, the string on the ukelele fixed at the endpoints, and plucked at the centre. The oscillations might look something like this:\n",
    "\n",
    "<img src=\"images/string_standing_wave1.gif\" alt=\"Simple oscillation\" width=\"500\"/>\n",
    "<div align=\"center\">Fundamental. </div>\n",
    "\n",
    "This is called the fundamental mode of vibration. \n",
    "\n",
    "We can also get a more complicated oscillation when the string is plucked in two places, say upwards on the left and downwards on the right, simulateneously. The oscillations would look something like this:\n",
    "\n",
    "<img src=\"images/string_standing_wave2.gif\" alt=\"Double oscillation\" width=\"500\"/>\n",
    "<div align=\"center\">Second harmonic. </div>\n",
    "\n",
    "This is called the second harmonic of vibration. In a real string, these double oscillations occur at twice the frequency as the single oscillations above. One way to see this is to imagine holding the string fixed at the midpoint. Then you have a string of half the length vibrating, and we know from our discussion of pulses on a string that the pitch is inversely proportional to length. Half the length means twice the frequency.  \n",
    "\n",
    "We can also have three oscillations, for the third harmonic, moving at three times the speed, as in the following:\n",
    "\n",
    "<img src=\"images/string_standing_wave3.gif\" alt=\"Double oscillation\" width=\"500\"/>\n",
    "<div align=\"center\">Third harmoonic. </div>\n",
    "\n",
    "The frequency of oscillation for these modes are alway integer multiples of the fundamental frequency which is\n",
    "\n",
    "$$$$ \\mbox{Fundamental frequency (in Hertz) } = \\frac{V}{2L},$$\n",
    "\n",
    "where $V$ is the velocity of sound in the string and $L$ is the length of the string. This is the same formula for the pitch of the single pulse, above. \n",
    "\n",
    "The second harmonic mode will vibrate at twice the fundamental frequency, the third harmonic mode at three times the frequency, and so on. \n",
    "\n",
    "These different oscillations can combine, by summing up the heights of the oscillations along the points of the string. For instance, if we add the first and third harmonic, we get something like this:\n",
    "\n",
    "<img src=\"images/string_standing_wave31.gif\" alt=\"Two harmonics added\" width=\"500\"/>\n",
    "<div align=\"center\">First and third harmonic combined. </div>\n",
    "\n",
    "The tone of this complex oscillation is a mixture of two frequncies, the fundamental frequency and three times the frequency. Our ear hears this as a pleasant chord -- a musical fifth.\n",
    "\n",
    "In fact, there are infinitely many different waveforms that are possible with the same piece of string under tension. These are all obtained by summing up different combinations of these harmonic modes, with different relative amplitudes and phases. \n",
    "\n",
    "An interesting complex waveform is the Helmholz motion of a bowed violin string, first described in the 1880's by physicist Hermann Helmholz. It looks like two straight lines with a \"corner\" that moves along the length of the string at a fixed speed, like this:\n",
    "\n",
    "<img src=\"images/helm_wave.gif\" alt=\"Helmholtz waveform\" width=\"500\"/>\n",
    "<div align=\"center\">Helmholtz motion. </div>\n",
    "\n",
    "Again, even this complex motion can be understood as a mathematical sum of the fundamental mode and its harmonics. \n",
    "\n",
    "If you would like to learn more about these modes of vibrations, check out the notebook on standing waves here:\n",
    "\n",
    "[Standing Waves Lesson](./standing-wave.ipynb)"
   ]
  },
  {
   "cell_type": "markdown",
   "id": "10a1806c",
   "metadata": {},
   "source": [
    "[![Callysto.ca License](https://github.com/callysto/curriculum-notebooks/blob/master/callysto-notebook-banner-bottom.jpg?raw=true)](https://github.com/callysto/curriculum-notebooks/blob/master/LICENSE.md)"
   ]
  },
  {
   "cell_type": "code",
   "execution_count": null,
   "id": "f3fee2e5",
   "metadata": {},
   "outputs": [],
   "source": []
  }
 ],
 "metadata": {
  "kernelspec": {
   "display_name": "Python 3 (ipykernel)",
   "language": "python",
   "name": "python3"
  },
  "language_info": {
   "codemirror_mode": {
    "name": "ipython",
    "version": 3
   },
   "file_extension": ".py",
   "mimetype": "text/x-python",
   "name": "python",
   "nbconvert_exporter": "python",
   "pygments_lexer": "ipython3",
   "version": "3.9.13"
  }
 },
 "nbformat": 4,
 "nbformat_minor": 5
}
