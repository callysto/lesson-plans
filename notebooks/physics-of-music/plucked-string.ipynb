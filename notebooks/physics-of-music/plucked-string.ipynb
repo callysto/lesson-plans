{
 "cells": [
  {
   "cell_type": "markdown",
   "id": "87e914e0",
   "metadata": {},
   "source": [
    "![Callysto.ca Banner](https://github.com/callysto/curriculum-notebooks/blob/master/callysto-notebook-banner-top.jpg?raw=true)"
   ]
  },
  {
   "cell_type": "markdown",
   "id": "b286e9e4",
   "metadata": {},
   "source": [
    "# Physics of Music - Plucked String"
   ]
  },
  {
   "cell_type": "markdown",
   "id": "5719f13b",
   "metadata": {},
   "source": [
    "<img src=\"images/warning_2.png\" alt=\"Warning - loud sounds\" width=\"100\"/>\n",
    "<img src=\"images/warning_1.png\" alt=\"Warning - turn down your volume\" width=\"200\"/>\n",
    "\n",
    "\n",
    "## WARNING:\n",
    "This notebook will play a variety of sounds to help you learn about sounds. It can be VERY LOUD so be sure to turn down the volume on your computer before beginning."
   ]
  },
  {
   "cell_type": "markdown",
   "id": "2ee47a92",
   "metadata": {},
   "source": [
    "## The plucked string\n",
    "\n",
    "A more complicated family of vibrating instuments are the stringed instrucments, such as guitars, harps, violins, cellos and so on. One of the first string instruments a young child might play is the ukelele, as shown here.\n",
    "\n",
    "<img src=\"images/ukelele.jpg\" alt=\"A ukelele.\" width=\"500\"/>\n",
    "<div align=\"center\">A standard ukelele. </div>\n",
    "\n",
    "The distinctive sounds of these stringed instruments are produced by the interaction of \n",
    "- the method of striking the strings, which could be with a plastic pick, with fingers or fingernails, or with a bow strung with horse hair;\n",
    "- the vibrating strings, which may be made of plastic, steel or even animal tendons, and the various ways the strings can move;\n",
    "- the resonate body of the instrument, such as the wooden frame of a violin or guitar, or the metal frame of a harp. \n",
    "\n",
    "The interaction between these three items is quite complex. Let's simplify by examining first just the vibrating strings themselves.\n",
    "\n",
    "### Fundamental frequency\n",
    "\n",
    "A vibrations of plucked string can be envisioned as a pulse that travels up and down the length of the string, as in this animation:\n",
    "\n",
    "<img src=\"images/string1.gif\" alt=\"A single pulse\" width=\"500\"/>\n",
    "<div align=\"center\">Single pulse traveling on a string. </div>\n",
    "\n",
    "As with the penny whistle, the frequency of the pitch is given by the formula\n",
    "\n",
    "$$ \\mbox{Pitch frequency (in Hertz) } = \\frac{V}{2L},$$\n",
    "\n",
    "where $L$ is the length of the string, but here $V$ is the velocity of the pulse on the string. This is also called the velocity of sound in the string, but note it is usually different than the velocity in air. \n",
    "\n",
    "For example, for the ukelele above, we can measure the pitch of the A string (the highest sounding string) as 440 Hz, and the length is 35 cm. Rearranging the formula above, we find the velocity $V$ of sound in this string is\n",
    "\n",
    "$$ \\mbox{Velocity } V = \\mbox{freq}*2L = 440*2*0.25  = 308 m/s.$$\n",
    "\n",
    "So, 308 meters per second is a bit slower than the speed of sound in air. \n",
    "\n",
    "### You try:\n",
    "\n",
    "The lowest string on the ukelele also has length 35 cm, but plays the note C at 262 Hz. What is the speed of sound in this string?"
   ]
  },
  {
   "cell_type": "markdown",
   "id": "2e1cfed9",
   "metadata": {},
   "source": [
    "### Simulating the plucked string\n",
    "\n",
    "Here is a short piece of code to simulate the sound produced by a plucked string. The basic idea is to create a feedback loop, that simulated the pulse bouncing back and forth across the string. There is a little filter to help the sound decay to silence, just like a real plucked string. \n",
    "\n",
    "This is the famous Karplus-Strong algorithm created in 1983 that was simple enough to generate sounds in real time on the slow personal computers from 40+ years ago. "
   ]
  },
  {
   "cell_type": "code",
   "execution_count": null,
   "id": "92aada57",
   "metadata": {},
   "outputs": [],
   "source": [
    "# We import the libraries numpy, matplotlib and widgets to make this work. And some audio tools\n",
    "import matplotlib.pyplot as plt\n",
    "from numpy import zeros, pi, sin, cos, exp, linspace, maximum, minimum, random\n",
    "from ipywidgets import interactive, FloatLogSlider, RadioButtons, SelectMultiple\n",
    "from IPython.display import Audio, display"
   ]
  },
  {
   "cell_type": "code",
   "execution_count": null,
   "id": "4f43f248",
   "metadata": {},
   "outputs": [],
   "source": [
    "# add some feedback with clicks as input\n",
    "def set_plucks(autoplay=False,num_plucks=3,pitch=220):\n",
    "    t_max = 1\n",
    "    rate = 44100\n",
    "    t = linspace(0,t_max,rate*t_max)\n",
    "    signal_in = 0*t\n",
    "    signal_out = 0*t\n",
    "    num = max(1,min(10,num_plucks))\n",
    "    pitch = max(55,min(880,pitch))\n",
    "    for i in range(1,num+1):\n",
    "        signal_in[int(i*len(signal_in)/(num+1))]=1 \n",
    "    p = int(rate/pitch) # the period of oscillation, in number of samples\n",
    "    for i in range(len(signal_out)-p):\n",
    "        signal_out[p+i] = signal_in[i] + (signal_out[i]+signal_out[i+1])/2\n",
    "    display(Audio(data=signal_out,rate=rate,autoplay=autoplay))\n",
    "    plt.subplot(1, 2, 1)\n",
    "    plt.plot(t,signal_in)\n",
    "    plt.title(\"Signal_in\")\n",
    "    plt.xlabel(\"Time (secs)\")\n",
    "    plt.ylabel(\"Amplitude\")\n",
    "    plt.subplot(1, 2, 2)\n",
    "    plt.plot(t,signal_out)\n",
    "    plt.title(\"Signal_out\")\n",
    "    plt.xlabel(\"Time (secs)\")\n",
    "    plt.ylabel(\"Amplitude\")\n",
    "    return signal_out\n",
    "\n",
    "v3 = interactive(set_plucks, autoplay=False, num_plucks=(1,10), pitch=(110,440))\n",
    "output = v3.children[-1]\n",
    "output.layout.height = '500px'\n",
    "display(v3)"
   ]
  },
  {
   "cell_type": "markdown",
   "id": "9d8c9ac2",
   "metadata": {},
   "source": [
    "### Try it yourself\n",
    "\n",
    "In the simulation about, move the sliders to change the number of plucks and/or the frequency of the oscillation. The plots give a visual display of the plucks and the resulting sounds."
   ]
  },
  {
   "cell_type": "markdown",
   "id": "c744e050",
   "metadata": {},
   "source": [
    "### Oscillations of a vibrating string\n",
    "\n",
    "A length of string, whether made of metal, plastic or cat gut, when placed under tension, will vibrated when struck or plucked with a finger or pick. Unlike the tuning fork which produces a simple sine wave at a fixed frequency, a vibrating string can oscillate in all sorts of complex waves.\n",
    "\n",
    "The simplest one we might imagine is a simple \"bump\" that moves perpendicular to the length of the string. Imagine, for instance, the string on the ukelele fixed at the endpoints, and plucked at the centre. The oscillations might look something like this:\n",
    "\n",
    "<img src=\"images/string_travel_wave1.gif\" alt=\"Simple oscillation\" width=\"500\"/>\n",
    "<div align=\"center\">Fundamental. </div>\n",
    "\n",
    "This is called the fundamental mode of vibration. \n",
    "\n",
    "We can also get a more complicated oscillation when the string is plucked in two places, say upwards on the left and downwards on the right, simulateneously. The oscillations would look something like this:\n",
    "\n",
    "<img src=\"images/string_travel_wave2.gif\" alt=\"Double oscillation\" width=\"500\"/>\n",
    "<div align=\"center\">Second harmonic. </div>\n",
    "\n",
    "This is called the second harmonic of vibration. In a real string, these double oscillations occur at twice the frequency as the single oscillations above. One way to see this is to imagine holding the string fixed at the midpoint. Then you have a string of half the length vibrating, and we know the pitch is inversely proportional to length. Half the length means twice the frequency.  \n",
    "\n",
    "We can also have three oscillations, for the third harmonic, moving at three times the speed, as in the following:\n",
    "\n",
    "<img src=\"images/string_travel_wave3.gif\" alt=\"Double oscillation\" width=\"500\"/>\n",
    "<div align=\"center\">Third harmoonic. </div>\n",
    "\n",
    "A more complex waveform is the Helmholz motion of a bowed violin string, first described in the 1880's by physicist Hermann Helmholz. It looks like two straight lines with a \"corner\" that moves along the length of the string at a fixed speed, like this:\n",
    "\n",
    "<img src=\"images/helm_wave.gif\" alt=\"Helmholtz waveform\" width=\"500\"/>\n",
    "<div align=\"center\">Helmholtz motion. </div>\n",
    "\n",
    "In fact, there are infinitely many different waveforms that are possible with the same piece of string under tension. \n",
    "\n",
    "Let's examine the simplest case, of a single pulse on the string, to see how the physics of the string determines the vibration."
   ]
  },
  {
   "cell_type": "markdown",
   "id": "24f7d16f",
   "metadata": {},
   "source": [
    "### A pulse travelling along the string\n",
    "\n",
    "<img src=\"images/string1.gif\" alt=\"A single pulse\" width=\"500\"/>\n",
    "<img src=\"images/string1P.gif\" alt=\"Single pulse and propagation\" width=\"1000\"/>\n",
    "<img src=\"images/string2.gif\" alt=\"Two equally spaced pulses\" width=\"500\"/>\n",
    "<img src=\"images/string2P.gif\" alt=\"Two pulses and propagation\" width=\"1000\"/>\n",
    "<img src=\"images/string3.gif\" alt=\"Three pulse\" width=\"500\"/>\n",
    "<img src=\"images/string3P.gif\" alt=\"Three pulses and propagation\" width=\"1000\"/>"
   ]
  },
  {
   "cell_type": "markdown",
   "id": "e0f80c68",
   "metadata": {},
   "source": [
    "### Complex motions\n",
    "\n",
    "<img src=\"images/string_travel_wave1.gif\" alt=\"Simple oscillation\" width=\"500\"/>\n",
    "<img src=\"images/string_travel_wave2.gif\" alt=\"Double oscillation\" width=\"500\"/>\n",
    "<img src=\"images/helm_wave.gif\" alt=\"Helmholtz waveform\" width=\"500\"/>"
   ]
  },
  {
   "cell_type": "markdown",
   "id": "8828c42a",
   "metadata": {},
   "source": [
    "### Traveling waves:\n",
    "\n",
    "<img src=\"images/string_travelL_wave1.gif\" alt=\"Simple oscillation\" width=\"500\"/>\n",
    "<img src=\"images/string_travelR_wave1.gif\" alt=\"Double oscillation\" width=\"500\"/>\n",
    "<img src=\"images/string_travelRL_wave1.gif\" alt=\"Double oscillation\" width=\"500\"/>\n",
    "\n",
    "### Helmholtz travelling wave:\n",
    "\n",
    "<img src=\"images/helmL_wave.gif\" alt=\"Helmhotz waveform traveling left\" width=\"500\"/>\n",
    "<img src=\"images/helmR_wave.gif\" alt=\"Helmhotz waveform traveling right\" width=\"500\"/>\n",
    "<img src=\"images/helmRL_wave.gif\" alt=\"Helmhotz waveform with traveling parts\" width=\"500\"/>"
   ]
  },
  {
   "cell_type": "markdown",
   "id": "10a1806c",
   "metadata": {},
   "source": [
    "[![Callysto.ca License](https://github.com/callysto/curriculum-notebooks/blob/master/callysto-notebook-banner-bottom.jpg?raw=true)](https://github.com/callysto/curriculum-notebooks/blob/master/LICENSE.md)"
   ]
  },
  {
   "cell_type": "code",
   "execution_count": null,
   "id": "f3fee2e5",
   "metadata": {},
   "outputs": [],
   "source": []
  }
 ],
 "metadata": {
  "kernelspec": {
   "display_name": "Python 3 (ipykernel)",
   "language": "python",
   "name": "python3"
  },
  "language_info": {
   "codemirror_mode": {
    "name": "ipython",
    "version": 3
   },
   "file_extension": ".py",
   "mimetype": "text/x-python",
   "name": "python",
   "nbconvert_exporter": "python",
   "pygments_lexer": "ipython3",
   "version": "3.9.13"
  }
 },
 "nbformat": 4,
 "nbformat_minor": 5
}
