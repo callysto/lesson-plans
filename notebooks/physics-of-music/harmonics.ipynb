{
 "cells": [
  {
   "cell_type": "markdown",
   "id": "87e914e0",
   "metadata": {},
   "source": [
    "![Callysto.ca Banner](https://github.com/callysto/curriculum-notebooks/blob/master/callysto-notebook-banner-top.jpg?raw=true)"
   ]
  },
  {
   "cell_type": "markdown",
   "id": "b286e9e4",
   "metadata": {},
   "source": [
    "# Physics of Music - Harmonics"
   ]
  },
  {
   "cell_type": "markdown",
   "id": "5719f13b",
   "metadata": {},
   "source": [
    "<img src=\"images/warning_2.png\" alt=\"Warning - loud sounds\" width=\"100\"/>\n",
    "<img src=\"images/warning_1.png\" alt=\"Warning - turn down your volume\" width=\"200\"/>\n",
    "\n",
    "\n",
    "## WARNING:\n",
    "This notebook will play a variety of sounds to help you learn about sounds. It can be VERY LOUD so be sure to turn down the volume on your computer before beginning."
   ]
  },
  {
   "cell_type": "markdown",
   "id": "a5f3cf96",
   "metadata": {},
   "source": [
    "## Harmonics\n",
    "\n",
    "A harmonic is a frequency that is an integer multiple of the fundamental frequency of a waveform or sound. The fundamental frequency is the lowest frequency in a waveform or sound, and the harmonics are the higher frequency components that are present in the waveform or sound.\n",
    "\n",
    "Harmonics are important in music, as they contribute to the overall timbre or tone of a musical instrument or voice. In fact, most instruments do not produce one pure tone but rather a mixture of harmonics, giving different instruments and voices with unique harmonic spectrums. All the instruments mentioned above can produce harmonics, with the sole exception of the tuning fork. \n",
    "\n",
    "The harmonic spectrum of an instrument helps to define its character and distinguish it from the sounds of other instruments.\n",
    "\n",
    "It is an interesting psychoacoustic observation that the harmonics sound pleasant to our ears, and in fact form the basis for the Western music scale. \n",
    "\n",
    "| Harmonic      | Frequency | Piano Note     |\n",
    "| :---        |   :---:   |          ---: |\n",
    "| Fundamental (1st)|   220 Hz | A3   |\n",
    "| 2nd   | 440 Hz | A4 |\n",
    "| 3rd   | 660 Hz | E5 |\n",
    "| 4th   | 880 Hz | A5 |\n",
    "| 5th   | 1010 Hz | C\\#5   |\n",
    "| 6th   | 1320 Hz | E5 |\n",
    "| 7th   | 1540 Hz | G5 |\n",
    "| 8th   | 1760 Hz | A6 |\n",
    "\n",
    "Those familiar with the music notation will recognize the notes for the A major triad (A-C#-E-A), with a minor seventh (G5) thrown in for good measure.\n",
    "\n",
    "Understanding the harmonics that are produced by a musical instrument is key in understanding the physics of music production. "
   ]
  },
  {
   "cell_type": "markdown",
   "id": "ac72113c",
   "metadata": {},
   "source": [
    "### Simulating harmonics\n",
    "\n",
    "We can simulate harmonics by creating a series of sine waves with various frequencies and amplitudes, and adding them all together. To be proper harmonics, the frequencies will be integer multiples of some fundamental frequency. \n",
    "\n",
    "The following code sets up some slides and controls to allow you to select a particular fundamental frequency, and set the amplitudes of the first seven harmonics (integer multiples of the fundamental). You can click the \"Play\" button to hear the result, and view the sound waveform in the plot. \n",
    "\n",
    "Try it yourself. Run the following code blocks to get to the user interface with all the sliders. "
   ]
  },
  {
   "cell_type": "code",
   "execution_count": 2,
   "id": "64e0df9a",
   "metadata": {},
   "outputs": [],
   "source": [
    "## Import some code modules\n",
    "import plotly.graph_objects as go\n",
    "from IPython.display import Audio, display, clear_output\n",
    "from numpy import pi, sin, power, linspace, array, real\n",
    "from ipywidgets import interactive, FloatSlider, Dropdown, Output, HBox, VBox"
   ]
  },
  {
   "cell_type": "code",
   "execution_count": 3,
   "id": "119ef16f",
   "metadata": {},
   "outputs": [],
   "source": [
    "## Setup a default waveform\n",
    "rate, t_max = 44100, 5\n",
    "t = linspace(0,t_max,rate*t_max)\n",
    "signal = sin(2*pi*220*t)"
   ]
  },
  {
   "cell_type": "code",
   "execution_count": 4,
   "id": "496f0236",
   "metadata": {},
   "outputs": [],
   "source": [
    "# some useful coefficients for harmonics\n",
    "n_harms = 9  # the number of coefficients\n",
    "\n",
    "ns = array(range(n_harms))  # a list of integers, to build coefficients\n",
    "sine = array([1]+[0]*(n_harms-1))  \n",
    "sawtooth = 1/(1+ns)\n",
    "square = sawtooth*((1+ns)%2)\n",
    "triangle = square*square*real(1j**ns)\n",
    "\n",
    "## Apply a fejer kernel to make these waveforms smooth\n",
    "fejer = power(1-ns/n_harms,.75)\n",
    "sawtooth = sawtooth*fejer\n",
    "square = square*fejer"
   ]
  },
  {
   "cell_type": "code",
   "execution_count": 5,
   "id": "07e21968",
   "metadata": {},
   "outputs": [],
   "source": [
    "# create sliders to set the harmonics\n",
    "def slider_handler(change):\n",
    "    signal = 0\n",
    "    for i,s in enumerate(sliders,start=1):\n",
    "        signal += s.value*sin(i*2*pi*220*t)\n",
    "    out.clear_output()\n",
    "    with out:\n",
    "        display(Audio(data=signal, rate=rate,autoplay=False))\n",
    "    fig_widget.data[0]['y'] = signal[:nsamples]\n",
    "\n",
    "sliders = []\n",
    "for i in range(len(sine)):\n",
    "    slider = FloatSlider(\n",
    "        description=f\"Harmonic {i+1}\", min=-1, max = 1, step = .01)\n",
    "    slider.observe(slider_handler, names='value')\n",
    "    sliders.append(slider)"
   ]
  },
  {
   "cell_type": "code",
   "execution_count": 6,
   "id": "dfcad2ee",
   "metadata": {},
   "outputs": [],
   "source": [
    "# create a drop menu to preselect nice waveforms\n",
    "d_vals = (sine,triangle,square,sawtooth)\n",
    "d_list = (\"Sine wave\", \"Triangle wave\",\"Square wave\",\"Sawtooth wave\" )\n",
    "\n",
    "def dropdown_handler(change):\n",
    "    for i,s in enumerate(sliders):\n",
    "        s.value = d_vals[d_list.index(change.new)][i]\n",
    "        \n",
    "dropdown = Dropdown(description=\"Presets:\", options=d_list)\n",
    "dropdown.observe(dropdown_handler, names='value')"
   ]
  },
  {
   "cell_type": "code",
   "execution_count": 7,
   "id": "5fd88c94",
   "metadata": {},
   "outputs": [],
   "source": [
    "# create a audio playback tool\n",
    "out = Output()\n",
    "with out:\n",
    "    display(Audio(data=signal, rate=rate))"
   ]
  },
  {
   "cell_type": "code",
   "execution_count": 8,
   "id": "527ce821",
   "metadata": {},
   "outputs": [],
   "source": [
    "# create a figure to display the waveform\n",
    "nsamples = 1024\n",
    "fig = go.Figure(data=go.Scatter(x= t[:nsamples], y=signal[:nsamples], mode='lines'))\n",
    "fig.update_xaxes(title_text='Time (mS)').update_yaxes(title_text='Amplitude')\n",
    "fig_widget = go.FigureWidget(fig)"
   ]
  },
  {
   "cell_type": "code",
   "execution_count": 9,
   "id": "6da85e76",
   "metadata": {},
   "outputs": [
    {
     "data": {
      "application/vnd.jupyter.widget-view+json": {
       "model_id": "de4eb17647a54c39bdc0743abdc2bb29",
       "version_major": 2,
       "version_minor": 0
      },
      "text/plain": [
       "HBox(children=(VBox(children=(FloatSlider(value=1.0, description='Harmonic 1', max=1.0, min=-1.0, step=0.01), …"
      ]
     },
     "metadata": {},
     "output_type": "display_data"
    }
   ],
   "source": [
    "# Set up the user interface\n",
    "dropdown.value = d_list[1]\n",
    "HBox([VBox(children=sliders+[dropdown]+[out]),fig_widget])"
   ]
  },
  {
   "cell_type": "markdown",
   "id": "4e857a87",
   "metadata": {},
   "source": [
    "### Try the above.\n",
    "\n",
    "Move the sliders to adjust the amplitude of the various harmonics. Clich the \"Play\" button to hear the sound. Can you make interesting sounds? Does the second harmonic sound an octave higher than the first harmonic?\n",
    "\n",
    "You can also select certain waveforms. Does the triangle wave sound like an organ to you? Does the sine wave sound like the pure tone from a tuning fork?"
   ]
  },
  {
   "cell_type": "markdown",
   "id": "1ff37ee9",
   "metadata": {},
   "source": [
    "## Harmonics and musical notes. \n",
    "\n",
    "The ancient Greeks noticed that vibrating strings of different lengths produced pleasant soound (music) when their lengths were related by small integer fractions like 3/4 or 4/5. From the physics of strings, we know this means the frequencies of the tones produced are related by small integer fractions. \n",
    "\n",
    "Another way to think of this is to observe these related tones are often multiples of some common fundamental frequency. This means these tones are related as harmonics of a fundamental. \n",
    "\n",
    "It is an interesting questions as to why these harmonics sound good to our ears. Does it have to do with the sounds that arise naturally in nature, as rich vibrations with harmonics? Or is it something about the way our ears work?\n",
    "\n",
    "Discuss!\n",
    "\n",
    "The follow code lets you produce sounds with frequencies related by small integers. Which sound pleasant to you?"
   ]
  },
  {
   "cell_type": "code",
   "execution_count": 9,
   "id": "92f78ec2",
   "metadata": {},
   "outputs": [
    {
     "data": {
      "application/vnd.jupyter.widget-view+json": {
       "model_id": "5b8cc729defa4e15be66195236a6f153",
       "version_major": 2,
       "version_minor": 0
      },
      "text/plain": [
       "interactive(children=(Checkbox(value=False, description='Autoplay'), IntSlider(value=2, description='Integer_1…"
      ]
     },
     "metadata": {},
     "output_type": "display_data"
    }
   ],
   "source": [
    "## Small integer frequencies ratios sound nice\n",
    "# vary frequency, amplitude, timbre\n",
    "def set_int_freqs(Autoplay=False,Integer_1 = 2, Integer_2 = 3):\n",
    "    t_max = 5\n",
    "    rate = 44100\n",
    "    t = linspace(0,t_max,rate*t_max)\n",
    "    Hz = 220\n",
    "    signal = sin(2*pi*Integer_1*Hz*t) + sin(2*pi*Integer_2*Hz*t + .1) # add a weird phase\n",
    "    display(Audio(data=signal, rate=rate,autoplay=Autoplay))\n",
    "    return signal\n",
    "\n",
    "v2 = interactive(set_int_freqs, Autoplay=False, Integer_1 = (1,9), Integer_2=(1,9))\n",
    "display(v2)\n"
   ]
  },
  {
   "cell_type": "markdown",
   "id": "c39ef6fa",
   "metadata": {},
   "source": [
    "### Do it yourself.\n",
    "\n",
    "Using the sliders above, ask youself:\n",
    "- Which pair of integers make a sound that sounds good to you? \n",
    "- Experiment with various pairs.\n",
    "- Make a list of nice sounds and bad sounds.\n",
    "\n",
    "For instance, I think the pair (2,3) sounds good and the sound (6,7) sounds bad. What do you think?"
   ]
  },
  {
   "cell_type": "markdown",
   "id": "dceace20",
   "metadata": {},
   "source": [
    "[![Callysto.ca License](https://github.com/callysto/curriculum-notebooks/blob/master/callysto-notebook-banner-bottom.jpg?raw=true)](https://github.com/callysto/curriculum-notebooks/blob/master/LICENSE.md)"
   ]
  },
  {
   "cell_type": "code",
   "execution_count": null,
   "id": "4a3ae55d",
   "metadata": {},
   "outputs": [],
   "source": []
  }
 ],
 "metadata": {
  "kernelspec": {
   "display_name": "Python 3 (ipykernel)",
   "language": "python",
   "name": "python3"
  },
  "language_info": {
   "codemirror_mode": {
    "name": "ipython",
    "version": 3
   },
   "file_extension": ".py",
   "mimetype": "text/x-python",
   "name": "python",
   "nbconvert_exporter": "python",
   "pygments_lexer": "ipython3",
   "version": "3.9.13"
  }
 },
 "nbformat": 4,
 "nbformat_minor": 5
}
