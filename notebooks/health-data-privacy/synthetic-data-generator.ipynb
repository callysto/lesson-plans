{
 "cells": [
  {
   "cell_type": "markdown",
   "id": "c13fa31f-373e-4d10-9961-cd5d7b582a30",
   "metadata": {},
   "source": [
    "# Synthetic Data Generator\n",
    "\n",
    "Followiung the documentation available at [Gretel.ai's Synthetics library](https://github.com/gretelai/gretel-synthetics) (Apache License 2.0), we can adapt it to create synthetic data for our needs. The primary goal is to generate synthetic *health* data, but it can be used to generate any dataset once given a sample to train on."
   ]
  },
  {
   "cell_type": "code",
   "execution_count": 31,
   "id": "5c9fcc53-184b-4f3c-8c05-f3fc9bc4f25f",
   "metadata": {},
   "outputs": [],
   "source": [
    "import pandas as pd\n",
    "from pathlib import Path\n",
    "from gretel_synthetics.generate import generate_text\n",
    "from gretel_synthetics.config import TensorFlowConfig\n",
    "from gretel_synthetics.tokenizers import CharTokenizerTrainer\n",
    "from gretel_synthetics.train import train"
   ]
  },
  {
   "cell_type": "code",
   "execution_count": 10,
   "id": "0e125a20-cd83-44df-b398-b5c33a3916fe",
   "metadata": {},
   "outputs": [],
   "source": [
    "## Convert XPT file to CSV for Gretel\n",
    "# mcq = pd.read_sas('data/P_MCQ.XPT')\n",
    "# mcq.to_csv('data/P_MCQ.csv')"
   ]
  },
  {
   "cell_type": "code",
   "execution_count": 37,
   "id": "386d8a88-4805-43d0-bc21-56c265854ff1",
   "metadata": {},
   "outputs": [],
   "source": [
    "input_data = pd.read_csv('data/P_MCQ.csv')\n",
    "\n",
    "medcols = {\n",
    "    'SEQN' : 'Respondent sequence number',\n",
    "    'MCQ010' : 'Ever been told you have asthma',\n",
    "    'MCQ025' : 'Age when first had asthma',\n",
    "    'MCQ035' : 'Still have asthma',\n",
    "    'MCQ040' : 'Had asthma attack in past year',\n",
    "    'MCQ050' : 'Emergency care visit for asthma/past yr',\n",
    "    'AGQ030' : 'Did SP have episode of hay fever/past yr',\n",
    "    'MCQ053' : 'Taking treatment for anemia/past 3 mos',\n",
    "    'MCQ080' : 'Doctor ever said you were overweight',\n",
    "    'MCQ092' : 'Ever receive blood transfusion',\n",
    "    'MCD093' : 'Year receive blood transfusion',\n",
    "    'MCQ145' : 'CHECK ITEM',\n",
    "    'MCQ149' : 'Menstrual periods started yet?',\n",
    "    'MCQ151' : 'Age in years at first menstrual period',\n",
    "    'RHD018' : 'Estimated age in months at menarche',\n",
    "    'MCQ160a' : 'Doctor ever said you had arthritis',\n",
    "    'MCQ195' : 'Which type of arthritis was it?',\n",
    "    'MCQ160B' : 'Ever told had congestive heart failure',\n",
    "    'MCD180B' : 'Age when told you had heart failure',\n",
    "    'MCQ160C' : 'Ever told you had coronary heart disease',\n",
    "    'MCD180C' : 'Age when told had coronary heart disease',\n",
    "    'MCQ160D' : 'Ever told you had angina/angina pectoris',\n",
    "    'MCD180D' : 'Age when told you had angina pectoris',\n",
    "    'MCQ160E' : 'Ever told you had heart attack',\n",
    "    'MCD180E' : 'Age when told you had heart attack',\n",
    "    'MCQ160F' : 'Ever told you had a stroke',\n",
    "    'MCD180F' : 'Age when told you had a stroke',\n",
    "    'MCQ160M' : 'Ever told you had thyroid problem',\n",
    "    'MCQ170M' : 'Do you still have thyroid problem',\n",
    "    'MCD180M' : 'Age when told you had thyroid problem',\n",
    "    'MCQ160P' : 'Ever told you had COPD, emphysema, ChB',\n",
    "    'MCQ160L' : 'Ever told you had any liver condition',\n",
    "    'MCQ170L' : 'Do you still have a liver condition',\n",
    "    'MCD180L' : 'Age when told you had a liver condition',\n",
    "    'MCQ500' : 'Ever told you had any liver condition',\n",
    "    'MCQ510A' : 'Liver condition: Fatty liver',\n",
    "    'MCQ510B' : 'Liver condition: Liver fibrosis',\n",
    "    'MCQ510C' : 'Liver condition: Liver cirrhosis',\n",
    "    'MCQ510D' : 'Liver condition: Viral hepatitis',\n",
    "    'MCQ510E' : 'Liver condition: Autoimmune hepatitis',\n",
    "    'MCQ510F' : 'Liver condition: Other liver disease',\n",
    "    'MCQ515' : 'CHECK ITEM',\n",
    "    'MCQ520' : 'Abdominal pain during past 12 months?',\n",
    "    'MCQ530' : 'Where was the most uncomfortable pain',\n",
    "    'MCQ540' : 'Ever seen a DR about this pain',\n",
    "    'MCQ550' : 'Has DR ever said you have gallstones',\n",
    "    'MCQ560' : 'Ever had gallbladder surgery?',\n",
    "    'MCQ570' : 'Age when 1st had gallbladder surgery?',\n",
    "    'MCQ220' : 'Ever told you had cancer or malignancy',\n",
    "    'MCQ230A' : '1st cancer - what kind was it?',\n",
    "    'MCQ230B' : '2nd cancer - what kind was it?',\n",
    "    'MCQ230C' : '3rd cancer - what kind was it?',\n",
    "    'MCQ230D' : 'More than 3 kinds of cancer',\n",
    "    'MCQ300B' : 'Close relative had asthma?',\n",
    "    'MCQ300C' : 'Close relative had diabetes?',\n",
    "    'MCQ300A' : 'Close relative had heart attack?',\n",
    "    'MCQ366A' : 'Doctor told you to control/lose weight',\n",
    "    'MCQ366B' : 'Doctor told you to exercise',\n",
    "    'MCQ366C' : 'Doctor told you to reduce salt in diet',\n",
    "    'MCQ366D' : 'Doctor told you to reduce fat/calories',\n",
    "    'MCQ371A' : 'Are you now controlling or losing weight',\n",
    "    'MCQ371B' : 'Are you now increasing exercise',\n",
    "    'MCQ371C' : 'Are you now reducing salt in diet',\n",
    "    'MCQ371D' : 'Are you now reducing fat in diet',\n",
    "    'OSQ230' : 'Any metal objects inside your body?'\n",
    "}\n",
    "\n",
    "input_data = input_data.rename(medcols, axis=1)"
   ]
  },
  {
   "cell_type": "code",
   "execution_count": 18,
   "id": "63dc0b99-24ca-41af-8b3e-808d8f5b2cd2",
   "metadata": {},
   "outputs": [],
   "source": [
    "# Configure TensorFlow. Arguments with 'dp' refer to intentionally noising data with differential privacy\n",
    "\n",
    "config = TensorFlowConfig(\n",
    "    epochs=5,\n",
    "    gen_lines=1000,\n",
    "    max_lines=1e5,\n",
    "    dp=False,\n",
    "    predict_batch_size=1,\n",
    "    rnn_units=256,\n",
    "    batch_size=16,\n",
    "    learning_rate=0.0015,\n",
    "    # dp_noise_multiplier=0.2,\n",
    "    # dp_l2_norm_clip=1.0,\n",
    "    dropout_rate=0.5,\n",
    "    # dp_microbatches=1,\n",
    "    reset_states=False,\n",
    "    overwrite=True,\n",
    "    checkpoint_dir=(Path.cwd() / 'checkpoints').as_posix(),\n",
    "    input_data_path='data/P_MCQ.csv'\n",
    ")"
   ]
  },
  {
   "cell_type": "code",
   "execution_count": 19,
   "id": "4fda69af-99aa-414a-aab5-48546c17469b",
   "metadata": {},
   "outputs": [
    {
     "name": "stderr",
     "output_type": "stream",
     "text": [
      "2022-05-30 11:43:32,415 : MainThread : INFO : Loading input data from data/P_MCQ.csv\n",
      "2022-05-30 11:43:32,493 : MainThread : WARNING : ***** GPU not found, CPU will be used instead! *****\n",
      "2022-05-30 11:43:32,494 : MainThread : INFO : Tokenizing input data\n",
      "100%|██████████| 14987/14987 [00:00<00:00, 66212.78it/s]\n",
      "2022-05-30 11:43:32,723 : MainThread : INFO : Shuffling input data\n",
      "2022-05-30 11:43:36,355 : MainThread : INFO : Creating validation dataset\n",
      "2022-05-30 11:43:36,379 : MainThread : INFO : Creating training dataset\n",
      "2022-05-30 11:43:39,478 : MainThread : INFO : Initializing synthetic model\n",
      "2022-05-30 11:43:39,835 : MainThread : INFO : Using keras.optimizers.RMSprop optimizer\n"
     ]
    },
    {
     "name": "stdout",
     "output_type": "stream",
     "text": [
      "Model: \"sequential_3\"\n",
      "_________________________________________________________________\n",
      " Layer (type)                Output Shape              Param #   \n",
      "=================================================================\n",
      " embedding_3 (Embedding)     (16, None, 256)           7424      \n",
      "                                                                 \n",
      " dropout_9 (Dropout)         (16, None, 256)           0         \n",
      "                                                                 \n",
      " lstm_6 (LSTM)               (16, None, 256)           525312    \n",
      "                                                                 \n",
      " dropout_10 (Dropout)        (16, None, 256)           0         \n",
      "                                                                 \n",
      " lstm_7 (LSTM)               (16, None, 256)           525312    \n",
      "                                                                 \n",
      " dropout_11 (Dropout)        (16, None, 256)           0         \n",
      "                                                                 \n",
      " dense_3 (Dense)             (16, None, 29)            7453      \n",
      "                                                                 \n",
      "=================================================================\n",
      "Total params: 1,065,501\n",
      "Trainable params: 1,065,501\n",
      "Non-trainable params: 0\n",
      "_________________________________________________________________\n",
      "None\n",
      "Epoch 1/5\n",
      "1052/1052 [==============================] - 252s 235ms/step - loss: 0.4608 - accuracy: 0.8406 - val_loss: 0.3241 - val_accuracy: 0.8815\n",
      "Epoch 2/5\n",
      "1052/1052 [==============================] - 277s 263ms/step - loss: 0.3197 - accuracy: 0.8833 - val_loss: 0.2990 - val_accuracy: 0.8899\n",
      "Epoch 3/5\n",
      "1052/1052 [==============================] - 244s 231ms/step - loss: 0.3028 - accuracy: 0.8888 - val_loss: 0.2909 - val_accuracy: 0.8929\n",
      "Epoch 4/5\n",
      "1052/1052 [==============================] - 253s 239ms/step - loss: 0.2953 - accuracy: 0.8917 - val_loss: 0.2823 - val_accuracy: 0.8955\n",
      "Epoch 5/5\n",
      "1052/1052 [==============================] - 244s 231ms/step - loss: 0.2879 - accuracy: 0.8940 - val_loss: 0.2744 - val_accuracy: 0.8981\n"
     ]
    },
    {
     "name": "stderr",
     "output_type": "stream",
     "text": [
      "2022-05-30 12:04:50,787 : MainThread : INFO : Saving model history to model_history.csv\n",
      "2022-05-30 12:04:50,789 : MainThread : INFO : Saving model to /Users/jordanswanson/Documents/GitHub/lesson-plans/notebooks/health-data-privacy/checkpoints/synthetic\n"
     ]
    }
   ],
   "source": [
    "# Initialize the tokenizer\n",
    "tokenizer = CharTokenizerTrainer(config=config)\n",
    "\n",
    "# Train the model\n",
    "train(config, tokenizer)"
   ]
  },
  {
   "cell_type": "code",
   "execution_count": 33,
   "id": "e360de20-1902-4f48-b41f-fc0840a9d624",
   "metadata": {},
   "outputs": [],
   "source": [
    "# Build a validator\n",
    "def validate_record(line):\n",
    "    rec = line.split(\",\")\n",
    "    if len(rec) == 4:\n",
    "        datetime.datetime.strptime(rec[3], '%Y-%m-%d')\n",
    "        int(rec[2])\n",
    "        int(rec[1])\n",
    "        int(rec[0])\n",
    "    else:\n",
    "        raise Exception('record not valid')"
   ]
  },
  {
   "cell_type": "code",
   "execution_count": null,
   "id": "92d2a841-a0c8-4ffb-9fb3-3848ef907769",
   "metadata": {},
   "outputs": [],
   "source": [
    "# Print CSV header and synthetic lines\n",
    "counter = 0\n",
    "print(input_data.columns)\n",
    "for line in generate_text(config, \n",
    "                          line_validator=validate_record, \n",
    "                          max_invalid=1e5):\n",
    "    if line.valid:\n",
    "        print(f\"{line.text}\")\n",
    "        counter += 1\n",
    "    if counter > config.gen_lines:\n",
    "        break"
   ]
  },
  {
   "cell_type": "code",
   "execution_count": null,
   "id": "81d5694b-9cf6-4339-898f-cea44ee58f74",
   "metadata": {},
   "outputs": [],
   "source": []
  }
 ],
 "metadata": {
  "kernelspec": {
   "display_name": "Python 3 (ipykernel)",
   "language": "python",
   "name": "python3"
  },
  "language_info": {
   "codemirror_mode": {
    "name": "ipython",
    "version": 3
   },
   "file_extension": ".py",
   "mimetype": "text/x-python",
   "name": "python",
   "nbconvert_exporter": "python",
   "pygments_lexer": "ipython3",
   "version": "3.9.12"
  }
 },
 "nbformat": 4,
 "nbformat_minor": 5
}
