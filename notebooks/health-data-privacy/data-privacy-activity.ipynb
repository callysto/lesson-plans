{
 "cells": [
  {
   "cell_type": "markdown",
   "id": "433f1da6-016e-497c-a3ac-cf7942ce6ad1",
   "metadata": {},
   "source": [
    "![Callysto.ca Banner](https://github.com/callysto/curriculum-notebooks/blob/master/callysto-notebook-banner-top.jpg?raw=true)\n",
    "\n",
    "<a href=\"https://hub.callysto.ca/jupyter/hub/user-redirect/git-pull?repo=https%3A%2F%2Fgithub.com%2Fcallysto%2Fpresentations&branch=master&subPath=health-data-privacy.ipynb&depth=1\" target=\"_parent\"><img src=\"https://raw.githubusercontent.com/callysto/curriculum-notebooks/master/open-in-callysto-button.svg?sanitize=true\" width=\"123\" height=\"24\" alt=\"Open in Callysto\"/> </a>"
   ]
  },
  {
   "cell_type": "markdown",
   "id": "13d22ca6-e0e4-4bc0-baf1-2b7944944630",
   "metadata": {},
   "source": [
    "# Data Privacy Locked Room"
   ]
  },
  {
   "cell_type": "markdown",
   "id": "6694e0c8-b9d6-44b0-a320-cf1dbcd6247b",
   "metadata": {},
   "source": [
    "## Introduction\n",
    "\n",
    "You're spending time with your friend one day, killing time waiting for your ride to arrive. Your friend is on their phone, mindlessly scrolling through their social media, when you happen to see a photo pop up in their feed:\n",
    "\n",
    "![](https://previews.123rf.com/images/wavebreakmediamicro/wavebreakmediamicro1606/wavebreakmediamicro160619981/59100339-group-of-happy-friends-sitting-together-with-the-dog-in-park.jpg)\n",
    "<p style=\"font-size:10px\">\n",
    "    <b> https://previews.123rf.com/images/wavebreakmediamicro/wavebreakmediamicro1606/wavebreakmediamicro160619981/59100339-group-of-happy-friends-sitting-together-with-the-dog-in-park.jpg </b>\n",
    "</p>"
   ]
  },
  {
   "cell_type": "markdown",
   "id": "8949f901-58d6-406b-be3c-cd3b5aa0cedf",
   "metadata": {},
   "source": [
    "The photo catches your eye! You're not familiar with the person who posted the picture (and your friend says it's just an acquaintance of theirs), but you do recognize an old friend of yours in the red shirt, Sarah. It's been a long time since you've seen her, and you'd love to get back in contact with her. Unfortunately, she seems to have removed herself from all forms of social media, and the only information you know about her is:\n",
    "\n",
    "- She's since married and changed her last name\n",
    "- Her husband is the man in the blue jacket\n",
    "- The dog in the photo is their dog\n",
    "- The location the photo was tagged in is in a park in the city you live in\n",
    "\n",
    "**Using your data science skills, along with the information you just acquired and the resources you have access to, can you connect the data to find a way to get in contact with your old friend?**\n",
    "\n",
    "The first dataset you come across is a spreadsheet of contact info from a local dog group that you think Sarah and her husband belong to:"
   ]
  },
  {
   "cell_type": "code",
   "execution_count": null,
   "id": "89366c0f-6c3b-4ad9-b4df-fc9b65721dfd",
   "metadata": {},
   "outputs": [],
   "source": [
    "import pandas as pd\n",
    "petDf = pd.read_csv('data/PetGroupContactList.csv')\n",
    "petDf\n",
    "# petDf[petDf['Breed']=='Golden Retriever']"
   ]
  },
  {
   "cell_type": "code",
   "execution_count": null,
   "id": "5985395c-d87f-4d24-8892-dace4252cc1b",
   "metadata": {},
   "outputs": [],
   "source": [
    "searchDf = pd.read_csv('data/InternetSearchLeak.csv')\n",
    "searchDf\n",
    "# searchDf[searchDf['Phone Number']=='834-352-0013']"
   ]
  },
  {
   "cell_type": "code",
   "execution_count": null,
   "id": "0ea54a72-f2cb-4ed7-8a7d-9fcebe88e5ea",
   "metadata": {},
   "outputs": [],
   "source": []
  }
 ],
 "metadata": {
  "kernelspec": {
   "display_name": "Python 3 (ipykernel)",
   "language": "python",
   "name": "python3"
  },
  "language_info": {
   "codemirror_mode": {
    "name": "ipython",
    "version": 3
   },
   "file_extension": ".py",
   "mimetype": "text/x-python",
   "name": "python",
   "nbconvert_exporter": "python",
   "pygments_lexer": "ipython3",
   "version": "3.9.12"
  }
 },
 "nbformat": 4,
 "nbformat_minor": 5
}
