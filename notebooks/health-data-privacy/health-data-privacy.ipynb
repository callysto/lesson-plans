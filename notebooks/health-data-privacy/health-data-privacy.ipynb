{
 "cells": [
  {
   "cell_type": "markdown",
   "id": "fd71b497-7047-483e-a2e2-7443f4efcbda",
   "metadata": {},
   "source": [
    "![Callysto.ca Banner](https://github.com/callysto/curriculum-notebooks/blob/master/callysto-notebook-banner-top.jpg?raw=true)\n",
    "\n",
    "<a href=\"https://hub.callysto.ca/jupyter/hub/user-redirect/git-pull?repo=https%3A%2F%2Fgithub.com%2Fcallysto%2Fpresentations&branch=master&subPath=health-data-privacy.ipynb&depth=1\" target=\"_parent\"><img src=\"https://raw.githubusercontent.com/callysto/curriculum-notebooks/master/open-in-callysto-button.svg?sanitize=true\" width=\"123\" height=\"24\" alt=\"Open in Callysto\"/> </a>"
   ]
  },
  {
   "cell_type": "markdown",
   "id": "556d747b-764e-426c-8015-6e795ee5f0c2",
   "metadata": {},
   "source": [
    "# Data Privacy\n",
    "\n",
    "As our world becomes increasingly digitized and interconnected, our use of and reliance on data has also increased. The types of devices that are being connected to the internet get [stranger and stranger every day](https://www.metrikus.io/blog/10-weirdest-iot-enabled-devices-of-all-time), where the value of that interconnectivity is sometimes difficult to see. This is a fairly recent trend, made possible by advances in computing, internet, and data storage technology, which are are all innovating at breakneck speed. It's becoming such an integrated part of our lives that it's sometimes easy to forget just how much information is collected about us, and who has access to it. This is especially true for health data, which is typically quite closely guarded, and can have very negative effects if it falls into the wrong hands.\n",
    "\n",
    "In this notebook, and the accompanying activity, we'll look at ways that data impacts your life, from its collection to its applications. We'll have a special focus on the role of health data, with some information about what you can do to make sure that your data isn't used in a way that negatively impacts your life. Hopefully you'll leave with an appreciation of how seemingly irrelevant data can be used to paint a picture of who you are, and how that information can be used for both bad and good."
   ]
  },
  {
   "cell_type": "markdown",
   "id": "ef7e3ab9-b674-46fe-b4fd-f193ad201ac2",
   "metadata": {},
   "source": [
    "# Positive Use of Data\n",
    "### Historical Health Data\n",
    "Though recent advances have made data more accessible in both type and quantity, the use of data in public health has always been appreciated. The COVID-19 pandemic has introduced the general public to metrics and terms that were once solely the domain of health researchers in the field of [epidemiology](https://en.wikipedia.org/wiki/Epidemiology). The response to COVID-19 has been largely data-driven, but we can look at some historical instances of health data being used to control a disease outbreak long before data was as commonplace as it is today.\n",
    "\n",
    "A classic example of the role of health data is in [determining the source of a cholera outbreak in London in 1854](https://www.rcseng.ac.uk/library-and-publications/library/blog/mapping-disease-john-snow-and-cholera/). Cholera is an [incredibly nasty bacterial disease](https://www.mayoclinic.org/diseases-conditions/cholera/symptoms-causes/syc-20355287) that affects the digestive tract, and though it's rare today in developed nations, it still results in the [deaths of tens of thousands of people](https://www.who.int/news-room/fact-sheets/detail/cholera) in developing countries across the world *each year*. \n",
    "\n",
    "At the time, London was dealing with massive amounts of people moving to the city in a short period of time, and the sewage system wasn't adequate to handle the removal of all the waste, especially in one area of the city. This resulted in the sewage contaminating the drinking water supply, which is now known as the primary route of cholera infection in humans. This lead to the third outbreak of cholera that the city had seen in 20 years, and at its peak over [600 people were dying each week from the disease](https://www.ncbi.nlm.nih.gov/pmc/articles/PMC7150208/).\n",
    "\n",
    "A young physician named [John Snow](https://en.wikipedia.org/wiki/John_Snow) rejected the leading theory at the time that cholera was an airborne disease, and was insistent that it spread through water. To illustrate his point, he recorded the locations of the homes of those who had died from cholera, and added that data to a map of the area that also had the locations of the water pumps that provided the drinking water for the nearby homes:\n",
    "\n",
    "#### John Snow's original map overlaid with cholera deaths (bubble size is number of deaths; blue taps indicate location of water pumps)"
   ]
  },
  {
   "cell_type": "markdown",
   "id": "246b7cde-acfd-439f-bb59-9af342bf3493",
   "metadata": {},
   "source": [
    "![John Snow's original map overlaid with cholera causes (bubble size is number of cases](https://blog.rtwilson.com/wp-content/uploads/2012/01/SnowMap_Points.png)\n",
    "<p>\n",
    "<b>https://blog.rtwilson.com/wp-content/uploads/2012/01/SnowMap_Points.png</b>\n",
    "</p>"
   ]
  },
  {
   "cell_type": "markdown",
   "id": "460bfce5-d57e-4a1f-aa32-1bc8bf3ea9ad",
   "metadata": {},
   "source": [
    "By comparing the spread of the cases with the location of the pumps, it became quite obvious which pump was contaminated with cholera and was causing the epidemic. He was able to convince the local government to disable the contaminated pump, forcing citizens to get their water from other pumps, and the outbreak was contained. This is considered to be a major event in both the birth of the field of epidemiology, and the use of data in public health.\n",
    "\n",
    "John Snow's work laid the foundation for the use of health data, and is a great example of how our personal data (in this case, home address and infection status) can be used positively to help limit the spread of a deadly disease in the community. Unfortunately, as we'll see, data hasn't always been used for the benefit of the population it's collected from. Though there are no shortage of examples of your data knowingly being used in a way you might not be comfortable with, first we'll show a few examples of data that was released in earnest, but had unintended consequences."
   ]
  },
  {
   "cell_type": "markdown",
   "id": "4c23851a-5ec6-40df-83d4-fedb6ae3d046",
   "metadata": {},
   "source": [
    "# Unintentional Misuse of Data\n",
    "### Smart Devices and GPS\n",
    "\n",
    "[Strava](https://en.wikipedia.org/wiki/Strava) is an internet service that allows users to track their physical activity and compare with their friends and others, both locally and across the world. Users can upload their activities (usually via the Strava app) to the service, and compare their times on certain segments or progress towards certain goals. To enable that, Strava collects the GPS data from the users' smartwatches (Apple, Garmin, Fitbit, etc) and other devices that they use to record their activity, and uses that data to calculate times, distances, and speeds. By allowing users to compare their times, collect achievements, and accomplish goals, the social media aspect of the service encourages people to exercise, which is a fairly noble goal.\n",
    "\n",
    "One of the other functions of Strava is to help users find new routes near them that are popular with other Strava users. To help users explore their local routes, Strava generates a heatmap that shows the most popular locations for activites, shown as the brightest locations below:"
   ]
  },
  {
   "cell_type": "markdown",
   "id": "87061d7c-9546-4ae4-a88b-34a521c637ef",
   "metadata": {},
   "source": [
    "![](https://1n4rcn88bk4ziht713dla5ub-wpengine.netdna-ssl.com/wp-content/uploads/2017/10/Global-Heatmap.png)\n",
    "<p>\n",
    "<b>https://blog.strava.com/zi/press/strava-community-creates-ultimate-map-of-athlete-playgrounds/</b>\n",
    "</p>"
   ]
  },
  {
   "cell_type": "markdown",
   "id": "d0d1feab-9810-43f0-b62c-edbbc9f88b03",
   "metadata": {},
   "source": [
    "In November 2017, Strava released their heatmap as an [interactive tool](http://labs.strava.com/heatmap) that allowed anyone to explore the map and the popular locations for physical activity across the world (though non-users are restricted to a wider level of zoom). A few months later, one user discovered that there were many \"hot spots\" showing up in otherwise completely remote regions, far away from any population centers. What this user had discovered was the [existence of (previously) secret military bases](https://techcrunch.com/2018/01/28/strava-exposes-military-bases/) in regions such as Afghanistan, Syria, and Somalia. Looking deeper, it was also possible to track the movements of troops, as some of them had uploaded recordings of their training exercises."
   ]
  },
  {
   "cell_type": "markdown",
   "id": "590553e6-6b7c-420a-8973-d367a0e204cc",
   "metadata": {},
   "source": [
    "![](https://ichef.bbci.co.uk/news/976/cpsprodpb/112EA/production/_99787307_bagram_airbase.jpg)\n",
    "<p>\n",
    "    <b>https://ichef.bbci.co.uk/news/976/cpsprodpb/112EA/production/_99787307_bagram_airbase.jpg</b>\n",
    "</p>"
   ]
  },
  {
   "cell_type": "markdown",
   "id": "b4f26985-bea4-4b02-b27d-b9b351aaa9e9",
   "metadata": {},
   "source": [
    "As you can imagine, the militaries of the countries whose bases were exposed were none too pleased. They certainly had never expected the locations of their operations to be revealed in this way, and had therefore not put in any protections to stop such an event from occurring. Likewise, the service members who uploaded the data were just trying to track their workouts, and had no idea that Strava would make these heatmaps public, nor that anyone would look at them that closely. It's also difficult to blame Strava for their role in this situation, as they had no idea that the bases existed. Nor did they know exactly how the heatmap was going to be used; all it took was a university student from Australia to probe a bit deeper into the available data as part of his academic research to uncover valuable strategic information. Strava has since added privacy tools where users can obscure the starts and ends of their activities (to hide the location of their home or work), as well as changed several potentially privacy-invasive features to be \"opt-in\" versus \"opt-out\".\n",
    "\n",
    "In summary, though all parties involved in the collection, analysis, and release of the data had no intention of causing any harm, the damage was still done and the heatmap became a serious security concern. As data becomes cheaper and more commonplace to collect, and as the public's appetite for such data continues to increase, the world will continue to struggle to keep up with the potential negative side effects of carelessly releasing personal information.\n",
    "\n",
    "Unfortunately, as we learn more about how seemingly innocuous data can be used to discover previously secret information, there are ever-increasing numbers of entities that are using that knowledge specifically to direct people's behaviour towards a goal that aligns with theirs."
   ]
  },
  {
   "cell_type": "markdown",
   "id": "5521c5c5-7cf8-4534-a623-79500e6b8907",
   "metadata": {},
   "source": [
    "# Negative Use of Data\n",
    "### Genetic Testing and Health Insurance Discrimination"
   ]
  },
  {
   "cell_type": "markdown",
   "id": "99533f83-30fc-459a-a7ad-ea46de215465",
   "metadata": {},
   "source": [
    "[Carpal Tunnel Syndrome (CPS)](https://www.hopkinsmedicine.org/health/conditions-and-diseases/carpal-tunnel-syndrome) is a chronic medical condition in the hands and wrists that arises primarily in workers who perform repetitive manual tasks with their hands as part of their job, such as typing, or using some tools. Once the condition develops, it usually requires rest to allow the the wrists to recover, sometimes even requiring surgery or a major change to the tasks a worker may perform at their job. As a worker with CTS is undergoing treatment, they're usually unable to continue working their normal job, so workplace productivity decreases. For medical conditions acquired while working, most jurisdictions ensure that workers are still getting paid while undergoing treatment, which is no small cost to the employer. Therefore, employers will often implement changes to their workplaces to avoid the development of conditions such as CTS.\n",
    "\n",
    "In 2000, a [railroad worker named Gary Avary developed CTS](https://www.latimes.com/archives/la-xpm-2002-may-09-fi-nucarpal9-story.html) while working with high-powered tools on a railroad track system in Nebraska, USA. He reported his symptoms to the company, and had an appointment scheduled with the company's physician. While undergoing assessment by the doctor, they also took blood samples from Gary, telling him it was for routine bloodwork. Unknown to Gary, the company was actually taking the blood and performing genetic testing on it, looking for evidence that Gary carried a gene that made him more likely to develop CTS, regardless of his workplace activities."
   ]
  },
  {
   "cell_type": "markdown",
   "id": "4060c8cf-7ab3-4e71-bfcf-fedfa77e4418",
   "metadata": {},
   "source": [
    "![](https://lsminsurance.ca/images/2016/09/genetic-testing-insurance.jpg)\n",
    "<p>\n",
    "    <b> https://lsminsurance.ca/images/2016/09/genetic-testing-insurance.jpg </b>\n",
    "</p>"
   ]
  },
  {
   "cell_type": "markdown",
   "id": "c0271d2f-750d-4002-927b-be829d275c5e",
   "metadata": {},
   "source": [
    "Gary's company would then attempt to use the genetic testing to prove that his CTS was a [\"pre-existing condition\"](https://en.wikipedia.org/wiki/Pre-existing_condition), meaning that it existed before he began employment at the company. Importantly for the company, if they could prove that Gary's CTS was a pre-existing condition, they would not be responsible for paying for his treatment or for his lost wages while undergoing treatment. Genetic testing was still a very new (and expensive) technology in 2000, but the cost of the testing was far lower than the cost of paying for Gary's treatment.\n",
    "\n",
    "Gary's wife, a nurse, was understandably suspicious of the need to collect bloodwork for this injury, and was the one to discover that it had been sent for genetic testing. Pretty quickly, dozens of other employees of the railroad company came forward with similar stories, and they ended up [suing the company for health discrimination](https://www.eeoc.gov/newsroom/eeoc-and-bnsf-settle-genetic-testing-case-under-americans-disabilities-act-0). Ironically, the research that the railroad company (and laboratory that conducted the testing) had used to justify the link between the genes in question and CTS was completely unfounded, [according to the scientist who made the discovery](https://www.wired.com/2001/04/genetic-testing-case-settled/).\n",
    "\n",
    "The resulting lawsuit helped set precedent for the role of genetic testing in discriminatory insurance practices, leading to the [passing of law in the USA that forbids such discrimination](https://www.genome.gov/genetics-glossary/Genetic-Information-Nondiscrimination-Act). Unfortunately, no such legislation exists in Canada at this time.\n",
    "\n",
    "Though the actions of the railroad company in this story would now be considered illegal (and were always unethical), it underscores how health information can be used in negative, even discriminatory ways, sometimes without the knowledge of the person the data was collected from. Seemingly innocent pieces of data can be combined to arrive at very important and far-reaching consequences.\n",
    "\n",
    "In the next exercise, we'll walk through an activity where you'll get first-hand experience comparing datasets to see how they can be combined to uncover information that should be hidden. After the activity, we'll also talk about best practices to ensure that data remains private."
   ]
  },
  {
   "cell_type": "markdown",
   "id": "0d1685ee-140d-4eee-9eb0-ebc6366c60c3",
   "metadata": {},
   "source": [
    "# Activity Time"
   ]
  },
  {
   "cell_type": "markdown",
   "id": "fde37ba4-9902-4ce4-9663-c650ffebb70d",
   "metadata": {},
   "source": [
    "To explore the interconnectivity of datasets, we'll go through a scenario where you'll have the chance to explore several related datasets, and see how they can be used together to find even more information. This is an important skill in data science, using multiple different sources of data to help arrive at a conclusion.\n",
    "\n",
    "Throughout the activity, keep in kind how seemingly harmless the individual datasets are on their own, and how combining them quickly allows you to single out the individuals that the data was collected on."
   ]
  },
  {
   "cell_type": "markdown",
   "id": "c19ccd0b-f768-4eb3-9d27-5365c658036e",
   "metadata": {},
   "source": [
    "https://docs.google.com/forms/d/e/1FAIpQLSeT6yukZhqafPnDk1CZFr3cezLLafQx8lcHTJ0Mr95-gPiq7A/viewform?usp=pp_url "
   ]
  },
  {
   "cell_type": "code",
   "execution_count": null,
   "id": "a2206289-8391-47a5-a034-0caf88b08a9e",
   "metadata": {},
   "outputs": [],
   "source": []
  },
  {
   "cell_type": "code",
   "execution_count": null,
   "id": "2d4424bc-02d3-498d-901b-79b48966ca17",
   "metadata": {},
   "outputs": [],
   "source": []
  },
  {
   "cell_type": "code",
   "execution_count": null,
   "id": "f98fedb0-7222-4605-9ad8-f7782b4f606e",
   "metadata": {},
   "outputs": [],
   "source": []
  },
  {
   "cell_type": "code",
   "execution_count": null,
   "id": "aa2cc0e9-5595-4b6a-a5f9-9a4ae9a82d56",
   "metadata": {},
   "outputs": [],
   "source": []
  },
  {
   "cell_type": "code",
   "execution_count": null,
   "id": "9f95a9d4-db10-4244-9e37-e634bd761d81",
   "metadata": {},
   "outputs": [],
   "source": []
  },
  {
   "cell_type": "code",
   "execution_count": null,
   "id": "3fb0bbf1-a872-4d06-a2dd-090907391bc7",
   "metadata": {},
   "outputs": [],
   "source": []
  },
  {
   "cell_type": "code",
   "execution_count": null,
   "id": "0dcff560-a9c3-473a-887b-621622bf5c65",
   "metadata": {},
   "outputs": [],
   "source": []
  },
  {
   "cell_type": "markdown",
   "id": "8bbc3b56-219f-4731-b4e3-f377f07933a8",
   "metadata": {},
   "source": [
    "[![Callysto.ca License](https://github.com/callysto/curriculum-notebooks/blob/master/callysto-notebook-banner-bottom.jpg?raw=true)](https://github.com/callysto/curriculum-notebooks/blob/master/LICENSE.md)"
   ]
  },
  {
   "cell_type": "code",
   "execution_count": null,
   "id": "8e640f79-eaed-411b-acdd-4434676fd29f",
   "metadata": {},
   "outputs": [],
   "source": []
  }
 ],
 "metadata": {
  "kernelspec": {
   "display_name": "Python 3 (ipykernel)",
   "language": "python",
   "name": "python3"
  },
  "language_info": {
   "codemirror_mode": {
    "name": "ipython",
    "version": 3
   },
   "file_extension": ".py",
   "mimetype": "text/x-python",
   "name": "python",
   "nbconvert_exporter": "python",
   "pygments_lexer": "ipython3",
   "version": "3.9.12"
  }
 },
 "nbformat": 4,
 "nbformat_minor": 5
}
