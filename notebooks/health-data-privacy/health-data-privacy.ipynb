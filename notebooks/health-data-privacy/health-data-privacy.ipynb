{
 "cells": [
  {
   "cell_type": "markdown",
   "id": "fd71b497-7047-483e-a2e2-7443f4efcbda",
   "metadata": {},
   "source": [
    "![Callysto.ca Banner](https://github.com/callysto/curriculum-notebooks/blob/master/callysto-notebook-banner-top.jpg?raw=true)\n",
    "\n",
    "<a href=\"https://hub.callysto.ca/jupyter/hub/user-redirect/git-pull?repo=https%3A%2F%2Fgithub.com%2Fcallysto%2Fpresentations&branch=master&subPath=health-data-privacy.ipynb&depth=1\" target=\"_parent\"><img src=\"https://raw.githubusercontent.com/callysto/curriculum-notebooks/master/open-in-callysto-button.svg?sanitize=true\" width=\"123\" height=\"24\" alt=\"Open in Callysto\"/> </a>"
   ]
  },
  {
   "cell_type": "markdown",
   "id": "556d747b-764e-426c-8015-6e795ee5f0c2",
   "metadata": {},
   "source": [
    "# Data Privacy\n",
    "\n",
    "As our world becomes increasingly digitized and interconnected, our use of and reliance on data has also increased. The types of devices that are being connected to the internet get [stranger and stranger every day](https://www.metrikus.io/blog/10-weirdest-iot-enabled-devices-of-all-time), where the value of that interconnectivity is sometimes difficult to see. This is a fairly recent trend, made possible by advances in computing, internet, and data storage technology, which are are all innovating at breakneck speed. It's becoming such an integrated part of our lives that it's sometimes easy to forget just how much information is collected about us, and who has access to it. This is especially true for health data, which is typically quite closely guarded, and can have very negative effects if it falls into the wrong hands.\n",
    "\n",
    "In this notebook, and the accompanying activity, we'll look at ways that data impacts your life, from its collection to its applications. We'll have a special focus on the role of health data, with some information about what you can do to make sure that your data isn't used in a way that negatively impacts your life. Hopefully you'll leave with an appreciation of how seemingly irrelevant data can be used to paint a picture of who you are, and how that information can be used for both bad and good."
   ]
  },
  {
   "cell_type": "markdown",
   "id": "ef7e3ab9-b674-46fe-b4fd-f193ad201ac2",
   "metadata": {},
   "source": [
    "## Historical Health Data\n",
    "\n",
    "Though recent advances have made data more accessible in both type and quantity, the use of data in public health has always been appreciated. The COVID-19 pandemic has introduced the general public to metrics and terms that were once solely the domain of health researchers in the field of [epidemiology](https://en.wikipedia.org/wiki/Epidemiology). The response to COVID-19 has been largely data-driven, but we can look at some historical instances of health data being used to control a disease outbreak long before data was as commonplace as it is today.\n",
    "\n",
    "#### Cholera\n",
    "\n",
    "A classic example of the role of health data is in [determining the source of a cholera outbreak in London in 1854](https://www.rcseng.ac.uk/library-and-publications/library/blog/mapping-disease-john-snow-and-cholera/). Cholera is an [incredibly nasty bacterial disease](https://www.mayoclinic.org/diseases-conditions/cholera/symptoms-causes/syc-20355287) that affects the digestive tract, and though it's rare today in developed nations, it still results in the [deaths of tens of thousands of people](https://www.who.int/news-room/fact-sheets/detail/cholera) in developing countries across the world *each year*. \n",
    "\n",
    "At the time, London was dealing with massive amounts of people moving to the city in a short period of time, and the sewage system wasn't adequate to handle the removal of all the waste. This resulted in the sewage contaminating the drinking water supply in a particular part of the city, which is now known as the primary route of cholera infection in humans. This lead to the third outbreak of cholera that the city had seen in 20 years, and at its peak over [600 people were dying each week from the disease](https://www.ncbi.nlm.nih.gov/pmc/articles/PMC7150208/).\n",
    "\n",
    "A young physician named [John Snow](https://en.wikipedia.org/wiki/John_Snow) rejected the leading theory at the time that cholera was an airborne disease, and was insistent that it spread through water. To illustrate his point, he recorded the locations of the homes of those who had died from cholera, and added that data to a map of the area:"
   ]
  },
  {
   "cell_type": "markdown",
   "id": "246b7cde-acfd-439f-bb59-9af342bf3493",
   "metadata": {},
   "source": [
    "![John Snow's original map overlaid with cholera causes (bubble size is number of cases](https://blog.rtwilson.com/wp-content/uploads/2012/01/SnowMap_Points.png)\n",
    "\n",
    "John Snow's original map overlaid with cholera deaths (bubble size is number of deaths; blue taps indicate location of water pumps)"
   ]
  },
  {
   "cell_type": "markdown",
   "id": "460bfce5-d57e-4a1f-aa32-1bc8bf3ea9ad",
   "metadata": {},
   "source": [
    "By comparing the spread of the cases with the location of the pumps, it became quite obvious which pump was contaminated with cholera and was causing the epidemic. He was able to convince the local government to disable the contaminated pump, forcing citizens to get their water from other pumps, and the outbreak was contained. This is considered to be a major event in both the birth of the field of epidemiology, and the use of data in public health.\n",
    "\n",
    "John Snow's work laid the foundation for the use of data, and is a great example of how our personal data (in this case, address and infection status) can be used positively to help limit the spread of a deadly disease in the community. As we'll see, data hasn't always been used for the benefit of the population it's collected on."
   ]
  },
  {
   "cell_type": "code",
   "execution_count": null,
   "id": "4cc98f39-38f1-4bbc-94a9-a22fbc57148f",
   "metadata": {},
   "outputs": [],
   "source": []
  },
  {
   "cell_type": "code",
   "execution_count": null,
   "id": "5970ff75-4943-43f1-ab98-afdd8234ac21",
   "metadata": {},
   "outputs": [],
   "source": []
  },
  {
   "cell_type": "code",
   "execution_count": null,
   "id": "0d10e2f7-d488-45bf-84de-fbd57995e8bb",
   "metadata": {},
   "outputs": [],
   "source": []
  },
  {
   "cell_type": "code",
   "execution_count": null,
   "id": "384eb6b1-a67b-4d9f-b6ce-cc0e0ee2b1ac",
   "metadata": {},
   "outputs": [],
   "source": []
  },
  {
   "cell_type": "code",
   "execution_count": null,
   "id": "c28cc668-81ab-4c03-bdc2-3e42782782cb",
   "metadata": {},
   "outputs": [],
   "source": []
  },
  {
   "cell_type": "code",
   "execution_count": null,
   "id": "8692349a-5c45-4eb0-a002-436a52b1151f",
   "metadata": {},
   "outputs": [],
   "source": []
  },
  {
   "cell_type": "markdown",
   "id": "8bbc3b56-219f-4731-b4e3-f377f07933a8",
   "metadata": {},
   "source": [
    "[![Callysto.ca License](https://github.com/callysto/curriculum-notebooks/blob/master/callysto-notebook-banner-bottom.jpg?raw=true)](https://github.com/callysto/curriculum-notebooks/blob/master/LICENSE.md)"
   ]
  },
  {
   "cell_type": "code",
   "execution_count": null,
   "id": "8e640f79-eaed-411b-acdd-4434676fd29f",
   "metadata": {},
   "outputs": [],
   "source": []
  }
 ],
 "metadata": {
  "kernelspec": {
   "display_name": "Python 3 (ipykernel)",
   "language": "python",
   "name": "python3"
  },
  "language_info": {
   "codemirror_mode": {
    "name": "ipython",
    "version": 3
   },
   "file_extension": ".py",
   "mimetype": "text/x-python",
   "name": "python",
   "nbconvert_exporter": "python",
   "pygments_lexer": "ipython3",
   "version": "3.9.12"
  }
 },
 "nbformat": 4,
 "nbformat_minor": 5
}
