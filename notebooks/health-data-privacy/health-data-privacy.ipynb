{
 "cells": [
  {
   "cell_type": "markdown",
   "id": "fd71b497-7047-483e-a2e2-7443f4efcbda",
   "metadata": {},
   "source": [
    "![Callysto.ca Banner](https://github.com/callysto/curriculum-notebooks/blob/master/callysto-notebook-banner-top.jpg?raw=true)\n",
    "\n",
    "<a href=\"https://hub.callysto.ca/jupyter/hub/user-redirect/git-pull?repo=https%3A%2F%2Fgithub.com%2Fcallysto%2Fpresentations&branch=master&subPath=health-data-privacy.ipynb&depth=1\" target=\"_parent\"><img src=\"https://raw.githubusercontent.com/callysto/curriculum-notebooks/master/open-in-callysto-button.svg?sanitize=true\" width=\"123\" height=\"24\" alt=\"Open in Callysto\"/> </a>"
   ]
  },
  {
   "cell_type": "markdown",
   "id": "556d747b-764e-426c-8015-6e795ee5f0c2",
   "metadata": {},
   "source": [
    "# Data Privacy\n",
    "\n",
    "As our world becomes increasingly digitized and interconnected, our reliance on data has also increased. Devices connected to the internet get [stranger every day](https://www.metrikus.io/blog/10-weirdest-iot-enabled-devices-of-all-time), a fairly recent trend made possible by advances in computing, the internet, and data-storage technology. Technology is becoming such an integrated part of our lives that it is easy to forget how much information is collected about us, and who has access to it. This is especially true for health data, which is should be private and can have negative effects if it falls into the wrong hands.\n",
    "\n",
    "In this notebook and activity we'll look at ways that data impacts your life, from its collection to its applications. We'll focus on health data, with information about what you can do to ensure your data isn't used in a way that negatively impacts you. Hopefully you'll develop an appreciation for how data can paint a picture of who you are, and how it can be used to your benefit or detriment."
   ]
  },
  {
   "cell_type": "markdown",
   "id": "ef7e3ab9-b674-46fe-b4fd-f193ad201ac2",
   "metadata": {},
   "source": [
    "# Positive Use of Data\n",
    "### Historical Health Data\n",
    "A classic example of using health data is [determining the source of a cholera outbreak in London in 1854](https://www.rcseng.ac.uk/library-and-publications/library/blog/mapping-disease-john-snow-and-cholera/). Cholera is a [nasty bacterial disease](https://www.mayoclinic.org/diseases-conditions/cholera/symptoms-causes/syc-20355287) that affects the digestive tract. Ahough it's rare today in developed nations, it still results in the [deaths of tens of thousands of people](https://www.who.int/news-room/fact-sheets/detail/cholera) in across the world *each year*. \n",
    "\n",
    "At the time many people were moving to London, and the sewage system wasn't able to handle all the waste. In one area of the city this resulted in sewage contaminating the drinking water supply, which led to an outbreak of cholera. At its peak over [600 people were dying each week from the disease](https://www.ncbi.nlm.nih.gov/pmc/articles/PMC7150208/).\n",
    "\n",
    "A young physician named [John Snow](https://en.wikipedia.org/wiki/John_Snow) rejected the leading theory that cholera was an airborne disease, and insisted that it spread through water. To illustrate his point, he recorded the locations of the homes of those who had died from cholera, and added that data to a map of the area. The map also had the locations of the water pumps that provided the drinking water for the nearby homes.\n",
    "\n",
    "#### John Snow's original map overlaid with cholera deaths (bubble size is number of deaths; blue taps indicate the location of water pumps)"
   ]
  },
  {
   "cell_type": "markdown",
   "id": "246b7cde-acfd-439f-bb59-9af342bf3493",
   "metadata": {},
   "source": [
    "![John Snow's original map overlaid with cholera causes (bubble size is number of cases](https://blog.rtwilson.com/wp-content/uploads/2012/01/SnowMap_Points.png)\n",
    "<p>\n",
    "<b>https://blog.rtwilson.com/wp-content/uploads/2012/01/SnowMap_Points.png</b>\n",
    "</p>"
   ]
  },
  {
   "cell_type": "markdown",
   "id": "460bfce5-d57e-4a1f-aa32-1bc8bf3ea9ad",
   "metadata": {},
   "source": [
    "Once he compared the spread of the cases with the location of the pumps, it became obvious which pump was contaminated and was causing the epidemic. He convinced the local government to disable the contaminated pump and the outbreak was contained. This is considered to be a major event in both the birth of the field of [epidemiology](https://en.wikipedia.org/wiki/Epidemiology) and the use of data in public health.\n",
    "\n",
    "John Snow's work laid the foundation for the use of health data, and is a great example of how  personal data (in this case, home address and infection status) can be used for good. Unfortunately, data hasn't always been used for the benefit of the population it's collected from. Let's take a look at an example of data collection with unintended consequences."
   ]
  },
  {
   "cell_type": "markdown",
   "id": "4c23851a-5ec6-40df-83d4-fedb6ae3d046",
   "metadata": {},
   "source": [
    "# Unintentional Misuse of Data\n",
    "### Smart Devices and GPS\n",
    "\n",
    "[Strava](https://en.wikipedia.org/wiki/Strava) is a service that allows users to track their physical activity and compare with others, both locally and across the world. Users can upload their activities, tracked using [GPS](https://en.wikipedia.org/wiki/Global_Positioning_System) on their devices, and compare their times or progress towards goals. The social aspect of the service has the noble goal of encouraging exercise.\n",
    "\n",
    "Another function of Strava is to help users find new routes near them that are popular with other users. To assist with this, Strava generates a heatmap that shows the most popular locations for activities, shown in the [heatmap](https://en.wikipedia.org/wiki/Heat_map) below."
   ]
  },
  {
   "cell_type": "markdown",
   "id": "87061d7c-9546-4ae4-a88b-34a521c637ef",
   "metadata": {},
   "source": [
    "![](https://1n4rcn88bk4ziht713dla5ub-wpengine.netdna-ssl.com/wp-content/uploads/2017/10/Global-Heatmap.png)\n",
    "<p>\n",
    "<b>https://blog.strava.com/zi/press/strava-community-creates-ultimate-map-of-athlete-playgrounds/</b>\n",
    "</p>"
   ]
  },
  {
   "cell_type": "markdown",
   "id": "d0d1feab-9810-43f0-b62c-edbbc9f88b03",
   "metadata": {},
   "source": [
    "In November 2017, Strava released their heatmap as an [interactive tool](http://labs.strava.com/heatmap) that allowed anyone to explore the popular locations. A few months later, one user discovered that there were many \"hot spots\" showing up in otherwise completely remote regions. What this user had discovered was the [existence of (previously) secret military bases](https://techcrunch.com/2018/01/28/strava-exposes-military-bases/) in regions such as Afghanistan, Syria, and Somalia. Looking deeper, it was also possible to track the movements of troops, as some of them had uploaded recordings of their training exercises."
   ]
  },
  {
   "cell_type": "markdown",
   "id": "590553e6-6b7c-420a-8973-d367a0e204cc",
   "metadata": {},
   "source": [
    "![](https://ichef.bbci.co.uk/news/976/cpsprodpb/112EA/production/_99787307_bagram_airbase.jpg)\n",
    "<p>\n",
    "    <b>https://ichef.bbci.co.uk/news/976/cpsprodpb/112EA/production/_99787307_bagram_airbase.jpg</b>\n",
    "</p>"
   ]
  },
  {
   "cell_type": "markdown",
   "id": "b4f26985-bea4-4b02-b27d-b9b351aaa9e9",
   "metadata": {},
   "source": [
    "As you can imagine, this displeased the militaries whose bases were exposed. They hadn't expected their operations to be revealed in this way, and had not established preventative measures. The service members who uploaded data were just trying to track their workouts, and had no idea how it would be used. It's also difficult to blame Strava, as they had no idea that the bases existed. All it took was some further probing into the data to uncover valuable strategic information. Strava has since added privacy tools where users can obscure the starts and ends of their activities, to hide the location of their home or work, and potentially privacy-sensitive features default to \"opt-in\".\n",
    "\n",
    "Although all parties involved in the collection, analysis, and release of the data had no intention of causing harm, the heatmap became a serious security concern. \n",
    "\n",
    "As the demand for and availability of data increases, it will be difficult to keep up with potential negative effects. As we learn more about how seemingly harmless data can be used, entities are increasingly misusing data for their own benefit."
   ]
  },
  {
   "cell_type": "markdown",
   "id": "5521c5c5-7cf8-4534-a623-79500e6b8907",
   "metadata": {},
   "source": [
    "# Negative Use of Data\n",
    "### Genetic Testing and Health Insurance Discrimination"
   ]
  },
  {
   "cell_type": "markdown",
   "id": "99533f83-30fc-459a-a7ad-ea46de215465",
   "metadata": {},
   "source": [
    "[Carpal Tunnel Syndrome (CPS)](https://www.hopkinsmedicine.org/health/conditions-and-diseases/carpal-tunnel-syndrome) is a chronic medical condition in the hands and wrists that occurs primarily in workers who perform repetitive manual tasks, such as typing or using some tools. Once the condition develops it usually requires rest for recovery, and sometimes even requires surgery. For conditions acquired while working, most jurisdictions ensure that workers are paid while undergoing treatment. This is a large expense for employers.\n",
    "\n",
    "In 2000, [a railroad worker named Gary Avary developed CTS](https://www.latimes.com/archives/la-xpm-2002-may-09-fi-nucarpal9-story.html) while working with high-powered tools. He reported his symptoms to the company and had an appointment scheduled with the company's doctor. While undergoing assessment, they also took blood samples, telling Avary that it was routine bloodwork. However the company was actually performing genetic testing to look for evidence that he was genetically more likely to develop CTS."
   ]
  },
  {
   "cell_type": "markdown",
   "id": "4060c8cf-7ab3-4e71-bfcf-fedfa77e4418",
   "metadata": {},
   "source": [
    "![](https://lsminsurance.ca/images/2016/09/genetic-testing-insurance.jpg)\n",
    "<p>\n",
    "    <b> https://lsminsurance.ca/images/2016/09/genetic-testing-insurance.jpg </b>\n",
    "</p>"
   ]
  },
  {
   "cell_type": "markdown",
   "id": "c0271d2f-750d-4002-927b-be829d275c5e",
   "metadata": {},
   "source": [
    "The company then tried to use the tests to prove that Avary's CTS was a [\"pre-existing condition\"](https://en.wikipedia.org/wiki/Pre-existing_condition) from before he began his employment there. If the company could prove that the CTS was pre-existing, they would not be responsible for paying for treatment or his lost wages. Genetic testing was still a very new, and expensive, technology in 2000, but the cost of testing was far lower than paying for treatment.\n",
    "\n",
    "Gary Avary's wife, a nurse, was suspicious of the need to collect bloodwork for this injury, and discovered that it had been sent for genetic testing. Soon dozens of other employees came forward with similar stories, and they ended up [suing the railroad company for health discrimination](https://www.eeoc.gov/newsroom/eeoc-and-bnsf-settle-genetic-testing-case-under-americans-disabilities-act-0). Ironically, the research used to justify the link between these genes and CTS was, [according to the scientist who made the discovery](https://www.wired.com/2001/04/genetic-testing-case-settled/), completely unfounded.\n",
    "\n",
    "The resulting lawsuit helped set precedent for the role of genetic testing in discriminatory insurance practices, leading to the [passing of a law in the USA that forbids such discrimination](https://www.genome.gov/genetics-glossary/Genetic-Information-Nondiscrimination-Act). Unfortunately, no such legislation exists in Canada at this time.\n",
    "\n",
    "Though the actions of the railroad company in this story would now be illegal, and were always unethical, it shows how health information can be used in negative ways, sometimes without the knowledge of the person the data was collected from.\n",
    "\n",
    "In the next exercise, you will compare and combine datasets to uncover information that should be hidden. After the activity, we'll present best practices to ensure that data remains private."
   ]
  },
  {
   "cell_type": "markdown",
   "id": "0d1685ee-140d-4eee-9eb0-ebc6366c60c3",
   "metadata": {},
   "source": [
    "# Activity Time"
   ]
  },
  {
   "cell_type": "markdown",
   "id": "fde37ba4-9902-4ce4-9663-c650ffebb70d",
   "metadata": {},
   "source": [
    "Exploring several datasets, and seeing how they can be used together to find even more information, is an important skill in data science. Using multiple sources of data can help data scientists to arrive at a conclusion.\n",
    "\n",
    "Throughout the activity, keep in mind how seemingly harmless the individual datasets are on their own, but how combining them quickly allows you to single out individuals."
   ]
  },
  {
   "cell_type": "markdown",
   "id": "a031fdbb-5b70-4b75-9e61-14b729e811be",
   "metadata": {},
   "source": [
    "# Data Privacy Locked Room\n",
    "\n",
    "## Introduction\n",
    "\n",
    "You're spending time with your friend one day, waiting for your ride to arrive. Your friend is on their phone, mindlessly scrolling through social media, when you happen to see a photo pop up in their feed:\n",
    "\n",
    "<div>\n",
    "<img src='img/1.png' width=800/>\n",
    "</div>"
   ]
  },
  {
   "cell_type": "markdown",
   "id": "ab482cf7-7583-4e84-884d-119d3df54841",
   "metadata": {},
   "source": [
    "The photo catches your eye! You're not familiar with the person who posted the picture (and your friend says it's just an acquaintance of theirs), but you do recognize an old friend of yours in the dark red plaid shirt on the left, Sarah. It's been a long time since you've seen her, and you'd love to get back in contact with her. The only information you know about her is:\n",
    "\n",
    "- She's since married and changed her last name\n",
    "- Her husband is the man in the blue plaid with the guitar\n",
    "- Both your friend and her husband are under 30 years old\n",
    "- The dog on the left in the photo is their dog\n",
    "- The location the photo was tagged in is a popular campground near your city (Calgary)\n",
    "\n",
    "**Using your data science skills, along with the information you just acquired and the resources you have access to, can you connect the data to find a way to get in contact with your old friend?**\n",
    "\n",
    "## Tips and Tricks\n",
    "\n",
    "We'll be using the Python library [pandas](https://pandas.pydata.org/) to handle the datasets, so here are some commands you might need to use.\n",
    "\n",
    "We can import the library, then read an example dataframe to practice the commands:"
   ]
  },
  {
   "cell_type": "code",
   "execution_count": null,
   "id": "926bbc03-1a12-48c9-8c91-15f60d0c78a6",
   "metadata": {},
   "outputs": [],
   "source": [
    "import pandas as pd\n",
    "sample = pd.read_csv('data/sample.csv')\n",
    "sample"
   ]
  },
  {
   "cell_type": "markdown",
   "id": "11031f27-6838-4dd9-b1b1-ac1a98b17dd1",
   "metadata": {},
   "source": [
    "You can filter dataframe rows by selecting the column and returning only values that meet a criteria.\n",
    "\n",
    "In the next code cell, we're looking at column `C` and returning only rows where the value in column `C` is equal to `'Cat'`:"
   ]
  },
  {
   "cell_type": "code",
   "execution_count": null,
   "id": "35ff1b88-f5ae-4f2c-baa3-1bd18841f5c6",
   "metadata": {},
   "outputs": [],
   "source": [
    "sample[sample['C']=='Cat']"
   ]
  },
  {
   "cell_type": "markdown",
   "id": "eec8975a-c612-4e27-a695-14e65164970e",
   "metadata": {},
   "source": [
    "Note that words or text must be surrounded by `'`quotation marks`'`, but numerical values do not.\n",
    "\n",
    "You can also do simple math equality functions like `>` or `<` if the column contains only numbers.\n",
    "\n",
    "Here we're looking in column `A` for values greater than 2:"
   ]
  },
  {
   "cell_type": "code",
   "execution_count": null,
   "id": "9599c32e-8dea-4d3d-b476-8876c33c27a5",
   "metadata": {},
   "outputs": [],
   "source": [
    "sample[sample['A']>2]"
   ]
  },
  {
   "cell_type": "markdown",
   "id": "a94b2f95-37a6-4395-b747-13434886009b",
   "metadata": {},
   "source": [
    "If the dataframe is too large to fit all the contents on screen, but you're curious what values exist in each column, you can use the following command to return all unique values in the column:"
   ]
  },
  {
   "cell_type": "code",
   "execution_count": null,
   "id": "f0b59b39-6fc1-4b65-b811-e613eb9f8a7e",
   "metadata": {},
   "outputs": [],
   "source": [
    "list(sample['C'].unique())"
   ]
  },
  {
   "cell_type": "markdown",
   "id": "d3606f97-2fd4-46b0-b79c-64b5ff8ae802",
   "metadata": {},
   "source": [
    "You can also filter by multiple conditions by surrounding each with round brackets and joining them with an `&`:"
   ]
  },
  {
   "cell_type": "code",
   "execution_count": null,
   "id": "5b8082da-c708-409b-9b86-a4d84609519c",
   "metadata": {},
   "outputs": [],
   "source": [
    "sample[(sample['A']<=3) & (sample['B']==True)]"
   ]
  },
  {
   "cell_type": "markdown",
   "id": "56048a0a-4445-4345-bbae-a2f3df1d1112",
   "metadata": {},
   "source": [
    "## Let's Get Started"
   ]
  },
  {
   "cell_type": "markdown",
   "id": "b4fc3623-5bf0-4d65-85fb-d49ec73353f3",
   "metadata": {},
   "source": [
    "The first dataset you come across is a spreadsheet of contact info from a local dog group that you think Sarah and her husband belong to. Using the information you have from the photo, and some reference materials below, use the datasets to answer the questions in the accompanying form: https://forms.gle/684QTAZGN3SjzmRFA\n",
    "\n",
    "Area Code Table code chunk:\n",
    "\n",
    "```\n",
    "areaCodeTable = pd.read_csv('data/AreaCodeTable.csv')\n",
    "areaCodeTable\n",
    "```"
   ]
  },
  {
   "cell_type": "markdown",
   "id": "b37e9b8a-f386-4711-a8eb-b548d334ac0c",
   "metadata": {},
   "source": [
    "### Dataset #1 - Pet Group Contact List"
   ]
  },
  {
   "cell_type": "code",
   "execution_count": null,
   "id": "2d4424bc-02d3-498d-901b-79b48966ca17",
   "metadata": {},
   "outputs": [],
   "source": [
    "petDf = pd.read_csv('data/PetGroupContactList.csv')\n",
    "petDf\n",
    "\n",
    "\n"
   ]
  },
  {
   "cell_type": "markdown",
   "id": "9f0b446c-4ea8-4b9f-82c9-37d47470ca4f",
   "metadata": {},
   "source": [
    "### Dataset #2 - ?"
   ]
  },
  {
   "cell_type": "code",
   "execution_count": null,
   "id": "aa2cc0e9-5595-4b6a-a5f9-9a4ae9a82d56",
   "metadata": {},
   "outputs": [],
   "source": [
    "# Paste code snippet from Google Form below\n",
    "\n",
    "\n",
    "\n"
   ]
  },
  {
   "cell_type": "markdown",
   "id": "2d3f3d56-f6f7-4d17-9519-74f03f1e024c",
   "metadata": {},
   "source": [
    "### Dataset #3 - ?"
   ]
  },
  {
   "cell_type": "code",
   "execution_count": null,
   "id": "3fb0bbf1-a872-4d06-a2dd-090907391bc7",
   "metadata": {},
   "outputs": [],
   "source": [
    "# Post code snippet from Google Form below\n",
    "\n",
    "\n",
    "\n"
   ]
  },
  {
   "cell_type": "markdown",
   "id": "a74d4515-70eb-4fb6-985e-b2f4c07a5137",
   "metadata": {},
   "source": [
    "## Conclusion\n",
    "\n",
    "Hopefully the activity showed you how easy it can be to find information about someone. Thankfully most people aren't as creepy, hopefully you and Sarah can joke about it at spin class.\n",
    "\n",
    "Most of the datasets we've use were randomly generated, but similar datasets exist on the internet. The trend is to collect as much information as possible from as many people as possible, usually to help guide decisions or influence their behaviour. On the surface it may feel like the data serves a useful purpose, such as Google customizing its search results or Amazon recommending purchases for you. However your data could be used in ways that you may not like, such as when [social media data was leveraged to influence elections and political referendums](https://en.wikipedia.org/wiki/Facebook%E2%80%93Cambridge_Analytica_data_scandal).\n",
    "\n",
    "Thankfully, protections exist around health data to ensure that it doesn't easily change hands. These protections only apply to governmental agencies like [AHS](https://www.albertahealthservices.ca/about/page121.aspx), though, so any data collected by or voluntarily given to private organizations could be misused. Imagine your health condition being leaked to your employer, or perhaps predictive algorithms being the first to inform you of a health issue you weren't yet aware of. It is important to consider who may access your data when you choose to disclose it to people, organizations, apps, or websites."
   ]
  },
  {
   "cell_type": "markdown",
   "id": "8bbc3b56-219f-4731-b4e3-f377f07933a8",
   "metadata": {},
   "source": [
    "[![Callysto.ca License](https://github.com/callysto/curriculum-notebooks/blob/master/callysto-notebook-banner-bottom.jpg?raw=true)](https://github.com/callysto/curriculum-notebooks/blob/master/LICENSE.md)"
   ]
  }
 ],
 "metadata": {
  "kernelspec": {
   "display_name": "Python 3 (ipykernel)",
   "language": "python",
   "name": "python3"
  },
  "language_info": {
   "codemirror_mode": {
    "name": "ipython",
    "version": 3
   },
   "file_extension": ".py",
   "mimetype": "text/x-python",
   "name": "python",
   "nbconvert_exporter": "python",
   "pygments_lexer": "ipython3",
   "version": "3.9.12"
  },
  "vscode": {
   "interpreter": {
    "hash": "aee8b7b246df8f9039afb4144a1f6fd8d2ca17a180786b69acc140d282b71a49"
   }
  }
 },
 "nbformat": 4,
 "nbformat_minor": 5
}
