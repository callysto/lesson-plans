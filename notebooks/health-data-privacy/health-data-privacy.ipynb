{
 "cells": [
  {
   "cell_type": "markdown",
   "id": "a257f8c3-edb4-4c74-9bf6-2db8e620a0ce",
   "metadata": {},
   "source": [
    "# NHANES Demographics data\n",
    "\n",
    "CC-1089\n",
    "\n",
    "With the goal of sparking discussion surrounding responsible use of machine learning, especially as it applies to health data, it might make sense to first look at what the data says about us, even when it's been anonymized.\n",
    "\n",
    "Using the NHANES demographic data, is it possible to find small pockets of unique sets of observations that could potentially lead to 'removing the veil' if we we know enough information about someone? This can highlight just how easy it is uniquely describe a person, given enough data. An important part of data literacy is understanding the value of privacy, and just how easily we give up our data without thinking about what it reveals about us.\n",
    "\n",
    "The first dataset is the NHANES datat on **Demographics** found at https://wwwn.cdc.gov/nchs/nhanes/search/datapage.aspx?Component=Demographics&Cycle=2017-2020\n",
    "\n",
    "Data description:\n",
    "https://wwwn.cdc.gov/Nchs/Nhanes/2017-2018/P_DEMO.htm"
   ]
  },
  {
   "cell_type": "code",
   "execution_count": null,
   "id": "ef7d5d49-44f9-48c1-a559-7db1e27a5f7d",
   "metadata": {},
   "outputs": [],
   "source": [
    "import pandas as pd"
   ]
  },
  {
   "cell_type": "code",
   "execution_count": null,
   "id": "4856652e-201f-4662-baa8-93bf3f5c4f74",
   "metadata": {},
   "outputs": [],
   "source": [
    "demdata = pd.read_sas('data/P_DEMO.XPT')\n",
    "demcols = {\n",
    "    'SEQN' : 'Respondent sequence number',\n",
    "    'SDDSRVYR' : 'Data release cycle',\n",
    "    'RIDSTATR' : 'Interview/Examination status',\n",
    "    'RIAGENDR' : 'Gender',\n",
    "    'RIDAGEYR' : 'Age in years at screening',\n",
    "    'RIDAGEMN' : 'Age in months at screening - 0 to 24 mos',\n",
    "    'RIDRETH1' : 'Race/Hispanic origin',\n",
    "    'RIDRETH3' : 'Race/Hispanic origin w/ NH Asian',\n",
    "    'RIDEXMON' : 'Six-month time period',\n",
    "    'DMDBORN4' : 'Country of birth',\n",
    "    'DMDYRUSZ' : 'Length of time in US',\n",
    "    'DMDEDUC2' : 'Education level - Adults 20+',\n",
    "    'DMDMARTZ' : 'Marital status',\n",
    "    'RIDEXPRG' : 'Pregnancy status at exam',\n",
    "    'SIALANG' : 'Language of SP Interview',\n",
    "    'SIAPROXY' : 'Proxy used in SP Interview?',\n",
    "    'SIAINTRP' : 'Interpreter used in SP Interview?',\n",
    "    'FIALANG' : 'Language of Family Interview',\n",
    "    'FIAPROXY' : 'Proxy used in Family Interview?',\n",
    "    'FIAINTRP' : 'Interpreter used in Family Interview?',\n",
    "    'MIALANG' : 'Language of MEC Interview',\n",
    "    'MIAPROXY' : 'Proxy used in MEC Interview?',\n",
    "    'MIAINTRP' : 'Interpreter used in MEC Interview?',\n",
    "    'AIALANGA' : 'Language of ACASI Interview',\n",
    "    'WTINTPRP' : 'Full sample interview weight',\n",
    "    'WTMECPRP' : 'Full sample MEC exam weight',\n",
    "    'SDMVPSU' : 'Masked variance pseudo-PSU',\n",
    "    'SDMVSTRA' : 'Masked variance pseudo-stratum',\n",
    "    'INDFMPIR' : 'Ratio of family income to poverty'\n",
    "}\n",
    "\n",
    "demdata = demdata.rename(demcols, axis=1)\n",
    "demdata"
   ]
  },
  {
   "cell_type": "code",
   "execution_count": null,
   "id": "e017eb02-45c2-42e7-9de1-82fb6df0e1ba",
   "metadata": {},
   "outputs": [],
   "source": [
    "# Remove administrative data, statistical weightings to isolate demographic answers\n",
    "demdata = demdata.drop(['Respondent sequence number', \n",
    "                       'Data release cycle',\n",
    "                       'Full sample interview weight',\n",
    "                       'Full sample MEC exam weight',\n",
    "                       'Masked variance pseudo-PSU',\n",
    "                       'Masked variance pseudo-stratum',\n",
    "                       ],\n",
    "                     axis=1)\n",
    "demdata"
   ]
  },
  {
   "cell_type": "code",
   "execution_count": null,
   "id": "cc51d38b-7694-4b7e-b15d-8f3d94b38d43",
   "metadata": {},
   "outputs": [],
   "source": [
    "# Count unique rows in dataset\n",
    "dem_uniques = len(demdata[list(demdata.columns)].drop_duplicates())\n",
    "print(dem_uniques)\n",
    "print(dem_uniques/len(demdata))"
   ]
  },
  {
   "cell_type": "markdown",
   "id": "ca583022-4aa8-42e2-b2ec-653fccfa65ac",
   "metadata": {},
   "source": [
    "In the demographic dataset above, of the 15,560 participants interviewed, 14,748 responses (~95%) are completely unique. Put another way, if you had a complete knowledge of a participant's answers to these questions, you could almost certainly pick them out of this dataset without concern of selecting the wrong person.\n",
    "\n",
    "For exactly that reason, any information that directly links an observation to an actual person has been stripped from this dataset (and would be a cardinal sin to leave in *any* health dataset). That being said, these questions are fairly high-level demographic questions, and on the surface don't seem that they could be descriptive enough to identify anyone.\n",
    "\n",
    "Let's look at another dataset and see if we can do the same analysis. This second dataset is regarding **Medical Conditions**\n",
    "\n",
    "Dataset description:\n",
    "https://wwwn.cdc.gov/Nchs/Nhanes/2017-2018/P_MCQ.htm"
   ]
  },
  {
   "cell_type": "code",
   "execution_count": null,
   "id": "8371c4b9-c46a-46cd-a74f-2e10fcef2b73",
   "metadata": {},
   "outputs": [],
   "source": [
    "meddata = pd.read_sas('data/P_MCQ.XPT')\n",
    "medcols = {\n",
    "    'SEQN' : 'Respondent sequence number',\n",
    "    'MCQ010' : 'Ever been told you have asthma',\n",
    "    'MCQ025' : 'Age when first had asthma',\n",
    "    'MCQ035' : 'Still have asthma',\n",
    "    'MCQ040' : 'Had asthma attack in past year',\n",
    "    'MCQ050' : 'Emergency care visit for asthma/past yr',\n",
    "    'AGQ030' : 'Did SP have episode of hay fever/past yr',\n",
    "    'MCQ053' : 'Taking treatment for anemia/past 3 mos',\n",
    "    'MCQ080' : 'Doctor ever said you were overweight',\n",
    "    'MCQ092' : 'Ever receive blood transfusion',\n",
    "    'MCD093' : 'Year receive blood transfusion',\n",
    "    'MCQ145' : 'CHECK ITEM',\n",
    "    'MCQ149' : 'Menstrual periods started yet?',\n",
    "    'MCQ151' : 'Age in years at first menstrual period',\n",
    "    'RHD018' : 'Estimated age in months at menarche',\n",
    "    'MCQ160a' : 'Doctor ever said you had arthritis',\n",
    "    'MCQ195' : 'Which type of arthritis was it?',\n",
    "    'MCQ160B' : 'Ever told had congestive heart failure',\n",
    "    'MCD180B' : 'Age when told you had heart failure',\n",
    "    'MCQ160C' : 'Ever told you had coronary heart disease',\n",
    "    'MCD180C' : 'Age when told had coronary heart disease',\n",
    "    'MCQ160D' : 'Ever told you had angina/angina pectoris',\n",
    "    'MCD180D' : 'Age when told you had angina pectoris',\n",
    "    'MCQ160E' : 'Ever told you had heart attack',\n",
    "    'MCD180E' : 'Age when told you had heart attack',\n",
    "    'MCQ160F' : 'Ever told you had a stroke',\n",
    "    'MCD180F' : 'Age when told you had a stroke',\n",
    "    'MCQ160M' : 'Ever told you had thyroid problem',\n",
    "    'MCQ170M' : 'Do you still have thyroid problem',\n",
    "    'MCD180M' : 'Age when told you had thyroid problem',\n",
    "    'MCQ160P' : 'Ever told you had COPD, emphysema, ChB',\n",
    "    'MCQ160L' : 'Ever told you had any liver condition',\n",
    "    'MCQ170L' : 'Do you still have a liver condition',\n",
    "    'MCD180L' : 'Age when told you had a liver condition',\n",
    "    'MCQ500' : 'Ever told you had any liver condition',\n",
    "    'MCQ510A' : 'Liver condition: Fatty liver',\n",
    "    'MCQ510B' : 'Liver condition: Liver fibrosis',\n",
    "    'MCQ510C' : 'Liver condition: Liver cirrhosis',\n",
    "    'MCQ510D' : 'Liver condition: Viral hepatitis',\n",
    "    'MCQ510E' : 'Liver condition: Autoimmune hepatitis',\n",
    "    'MCQ510F' : 'Liver condition: Other liver disease',\n",
    "    'MCQ515' : 'CHECK ITEM',\n",
    "    'MCQ520' : 'Abdominal pain during past 12 months?',\n",
    "    'MCQ530' : 'Where was the most uncomfortable pain',\n",
    "    'MCQ540' : 'Ever seen a DR about this pain',\n",
    "    'MCQ550' : 'Has DR ever said you have gallstones',\n",
    "    'MCQ560' : 'Ever had gallbladder surgery?',\n",
    "    'MCQ570' : 'Age when 1st had gallbladder surgery?',\n",
    "    'MCQ220' : 'Ever told you had cancer or malignancy',\n",
    "    'MCQ230A' : '1st cancer - what kind was it?',\n",
    "    'MCQ230B' : '2nd cancer - what kind was it?',\n",
    "    'MCQ230C' : '3rd cancer - what kind was it?',\n",
    "    'MCQ230D' : 'More than 3 kinds of cancer',\n",
    "    'MCQ300B' : 'Close relative had asthma?',\n",
    "    'MCQ300C' : 'Close relative had diabetes?',\n",
    "    'MCQ300A' : 'Close relative had heart attack?',\n",
    "    'MCQ366A' : 'Doctor told you to control/lose weight',\n",
    "    'MCQ366B' : 'Doctor told you to exercise',\n",
    "    'MCQ366C' : 'Doctor told you to reduce salt in diet',\n",
    "    'MCQ366D' : 'Doctor told you to reduce fat/calories',\n",
    "    'MCQ371A' : 'Are you now controlling or losing weight',\n",
    "    'MCQ371B' : 'Are you now increasing exercise',\n",
    "    'MCQ371C' : 'Are you now reducing salt in diet',\n",
    "    'MCQ371D' : 'Are you now reducing fat in diet',\n",
    "    'OSQ230' : 'Any metal objects inside your body?'\n",
    "}\n",
    "\n",
    "meddata = meddata.rename(medcols, axis=1)\n",
    "meddata"
   ]
  },
  {
   "cell_type": "code",
   "execution_count": null,
   "id": "0a1ae894-0908-4d44-93b1-5bfa33c56d36",
   "metadata": {},
   "outputs": [],
   "source": [
    "# Remove administrative and error-checking variables:\n",
    "meddata = meddata.drop(['Respondent sequence number',\n",
    "                        'MCQ160A'],\n",
    "                         axis=1)"
   ]
  },
  {
   "cell_type": "code",
   "execution_count": null,
   "id": "c97c9261-93f6-4ed8-afb2-dccd523d2fe9",
   "metadata": {},
   "outputs": [],
   "source": [
    "# Count unique rows in dataset\n",
    "med_uniques = len(meddata[list(meddata.columns)].drop_duplicates())\n",
    "print(med_uniques)\n",
    "print(med_uniques/len(meddata))"
   ]
  },
  {
   "cell_type": "markdown",
   "id": "34c2400b-a909-4c9a-815d-e5be4ce1d68d",
   "metadata": {},
   "source": [
    "In this dataset, we see that around 55% of the observations are unique, or a little over half the people in the dataset can be uniquely described with their responses to the questions, which are now more personal than the first set. Again, there's no way to link the data here to any names or other personal details, but it highlights how with even relatively small amounts of data, enough information can be connected to lead to unique observations."
   ]
  },
  {
   "cell_type": "code",
   "execution_count": null,
   "id": "aabcc6bf-0475-4717-b3ef-63106be22f06",
   "metadata": {},
   "outputs": [],
   "source": []
  }
 ],
 "metadata": {
  "kernelspec": {
   "display_name": "Python 3 (ipykernel)",
   "language": "python",
   "name": "python3"
  },
  "language_info": {
   "codemirror_mode": {
    "name": "ipython",
    "version": 3
   },
   "file_extension": ".py",
   "mimetype": "text/x-python",
   "name": "python",
   "nbconvert_exporter": "python",
   "pygments_lexer": "ipython3",
   "version": "3.10.4"
  }
 },
 "nbformat": 4,
 "nbformat_minor": 5
}
