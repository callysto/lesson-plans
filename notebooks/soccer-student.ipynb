{
 "cells": [
  {
   "cell_type": "markdown",
   "metadata": {
    "slideshow": {
     "slide_type": "slide"
    }
   },
   "source": [
    "# Soccer Analytics"
   ]
  },
  {
   "cell_type": "code",
   "execution_count": null,
   "metadata": {
    "slideshow": {
     "slide_type": "skip"
    }
   },
   "outputs": [],
   "source": [
    "# import Python libraries\n",
    "\n",
    "import pandas as pd\n",
    "from pandas import read_csv\n",
    "import plotly.graph_objects as go\n",
    "import plotly.express as px\n",
    "\n",
    "from IPython.display import YouTubeVideo"
   ]
  },
  {
   "cell_type": "markdown",
   "metadata": {
    "slideshow": {
     "slide_type": "slide"
    }
   },
   "source": [
    "## Example: anonymized professional soccer event data\n",
    "Data source: https://github.com/metrica-sports/sample-data"
   ]
  },
  {
   "cell_type": "code",
   "execution_count": null,
   "metadata": {
    "scrolled": false,
    "slideshow": {
     "slide_type": "-"
    }
   },
   "outputs": [],
   "source": [
    "df_soccer = pd.read_csv(\"https://raw.githubusercontent.com/metrica-sports/sample-data/master/data/Sample_Game_1/Sample_Game_1_RawEventsData.csv\");\n",
    "df_soccer"
   ]
  },
  {
   "cell_type": "code",
   "execution_count": null,
   "metadata": {
    "scrolled": false,
    "slideshow": {
     "slide_type": "slide"
    }
   },
   "outputs": [],
   "source": [
    "px.scatter(df_soccer, x='Start X', y='Start Y', color='Type', hover_data=['Subtype'], title='All events during the game by on-field location')"
   ]
  },
  {
   "cell_type": "code",
   "execution_count": null,
   "metadata": {
    "scrolled": true,
    "slideshow": {
     "slide_type": "slide"
    }
   },
   "outputs": [],
   "source": [
    "Count = df_soccer.groupby(\"Type\").size().reset_index(name=\"Count\")\n",
    "Count.sort_values('Count', ascending=False)"
   ]
  },
  {
   "cell_type": "code",
   "execution_count": null,
   "metadata": {
    "scrolled": false,
    "slideshow": {
     "slide_type": "slide"
    }
   },
   "outputs": [],
   "source": [
    "events_df = px.bar(Count, x='Type', y='Count', color=\"Type\", title='Total counts for types of events')\n",
    "events_df.update_layout(xaxis={'categoryorder':'total descending'})"
   ]
  },
  {
   "cell_type": "code",
   "execution_count": null,
   "metadata": {
    "scrolled": false,
    "slideshow": {
     "slide_type": "slide"
    }
   },
   "outputs": [],
   "source": [
    "px.scatter(df_soccer, x='Start Time [s]', y='Type', hover_data=['Subtype'], color='Team', title=\"Timeline of events by type for Away and Home\")"
   ]
  },
  {
   "cell_type": "code",
   "execution_count": null,
   "metadata": {
    "scrolled": false,
    "slideshow": {
     "slide_type": "slide"
    }
   },
   "outputs": [],
   "source": [
    "px.scatter(df_soccer.loc[lambda df: (df['Team'] == 'Home') & (df['From'] == 'Player10'), :], x='Start Time [s]', y='Type', color='Type', title='Timeline of events by type for player 10 on Home team')"
   ]
  },
  {
   "cell_type": "code",
   "execution_count": null,
   "metadata": {
    "scrolled": false,
    "slideshow": {
     "slide_type": "slide"
    }
   },
   "outputs": [],
   "source": [
    "px.scatter(df_soccer.loc[lambda df: (df['Team'] == 'Home') & (df['Period'] == 2) & (df['Type'] == 'PASS'), :], x='Start X', y='Start Y', size='Period', size_max=6, title='Home team passes, second half')"
   ]
  },
  {
   "cell_type": "markdown",
   "metadata": {
    "slideshow": {
     "slide_type": "slide"
    }
   },
   "source": [
    "## Accessing UEFA Champions League data to create graphs with Python"
   ]
  },
  {
   "cell_type": "markdown",
   "metadata": {
    "slideshow": {
     "slide_type": "slide"
    }
   },
   "source": [
    "## Inputting data from a table to create a bar graph"
   ]
  },
  {
   "cell_type": "markdown",
   "metadata": {
    "scrolled": false,
    "slideshow": {
     "slide_type": "-"
    }
   },
   "source": [
    "### 🔎 Which techniques lead to goal scoring?\n",
    "Data source: https://www.uefa.com/uefachampionsleague/season=2021/statistics/round=2001252/clubs/kind=goaltypes/index.html"
   ]
  },
  {
   "cell_type": "code",
   "execution_count": null,
   "metadata": {},
   "outputs": [],
   "source": [
    "url = 'https://www.uefa.com/uefachampionsleague/season=2021/statistics/round=2001252/clubs/kind=goaltypes/index.html'\n",
    "import pandas as pd\n",
    "df1 = pd.read_html(url)[0]\n",
    "df1"
   ]
  },
  {
   "cell_type": "code",
   "execution_count": null,
   "metadata": {
    "scrolled": false,
    "slideshow": {
     "slide_type": "-"
    }
   },
   "outputs": [],
   "source": [
    "labels = ['left foot', 'right foot', 'header', 'other']\n",
    "values = [4, 13, 5, 0]\n",
    "px.bar(x=labels, y=values, title='Bayern: Type of goal')"
   ]
  },
  {
   "cell_type": "markdown",
   "metadata": {
    "slideshow": {
     "slide_type": "slide"
    }
   },
   "source": [
    "## Inputting data from a table to create a double bar graph"
   ]
  },
  {
   "cell_type": "markdown",
   "metadata": {
    "scrolled": true,
    "slideshow": {
     "slide_type": "-"
    }
   },
   "source": [
    "### 🔎 Comparing teams: Do similar techniques lead to goal scoring?"
   ]
  },
  {
   "cell_type": "code",
   "execution_count": null,
   "metadata": {
    "scrolled": false,
    "slideshow": {
     "slide_type": "-"
    }
   },
   "outputs": [],
   "source": [
    "goal_type=['left foot', 'right foot', 'header', 'other']\n",
    "\n",
    "bar_goal_type = go.Figure(data=[\n",
    "    go.Bar(name='Bayern', x=goal_type, y=[4, 13, 5, 0]),\n",
    "    go.Bar(name='Barcelona', x=goal_type, y=[6, 10, 1, 1])])\n",
    "\n",
    "bar_goal_type.update_layout(title_text='Bayern versus Barcelona: Type of goal')"
   ]
  },
  {
   "cell_type": "markdown",
   "metadata": {
    "slideshow": {
     "slide_type": "slide"
    }
   },
   "source": [
    "## Inputting data to create a circle graph"
   ]
  },
  {
   "cell_type": "markdown",
   "metadata": {
    "scrolled": false,
    "slideshow": {
     "slide_type": "-"
    }
   },
   "source": [
    "### 🔎 How do on target goals and unsuccessful goal attempts compare?"
   ]
  },
  {
   "cell_type": "code",
   "execution_count": null,
   "metadata": {
    "scrolled": false
   },
   "outputs": [],
   "source": [
    "url = 'https://www.uefa.com/uefachampionsleague/season=2021/statistics/round=2001252/clubs/kind=attempts/index.html'\n",
    "import pandas as pd\n",
    "df2 = pd.read_html(url)[0]\n",
    "df2"
   ]
  },
  {
   "cell_type": "code",
   "execution_count": null,
   "metadata": {
    "scrolled": false,
    "slideshow": {
     "slide_type": "-"
    }
   },
   "outputs": [],
   "source": [
    "px.pie(names=['On target', 'Off target', 'Blocked', 'Against woodwork'], \n",
    "       values=[44, 42, 34, 4], \n",
    "       title='Bayern: Goal attempts')"
   ]
  },
  {
   "cell_type": "markdown",
   "metadata": {
    "slideshow": {
     "slide_type": "slide"
    }
   },
   "source": [
    "### 🔎 How do ball possession and scoring relate?"
   ]
  },
  {
   "cell_type": "markdown",
   "metadata": {},
   "source": [
    "### Making a csv file\n",
    "Data source: https://www.uefa.com/uefachampionsleague/standings/\n",
    "<br>Data were collected for the group phase (6 games per team) for the 2020-2021 season."
   ]
  },
  {
   "cell_type": "code",
   "execution_count": null,
   "metadata": {},
   "outputs": [],
   "source": [
    "%%writefile possession.csv\n",
    "Total goals,Goal difference,Average ball possession (%),Team\n",
    "18,16,61,Bayern\n",
    "16,11,57,Barcelona\n",
    "16,7,44,Monchengladbach\n",
    "15,5,50,Man. United\n",
    "14,12,54,Chelsea\n",
    "14,10,51,Juventus\n",
    "13,12,59,Man. City\n",
    "13,7,54,Paris\n",
    "12,7,56,Dortmund\n",
    "11,2,58,Real Madrid\n",
    "11,-1,51,Leipzig\n",
    "11,4,47,Lazio\n",
    "10,7,53,Liverpool\n",
    "10,7,41,Porto\n",
    "10,-7,48,RB Salzburg\n",
    "10,2,47,Atalanta\n",
    "9,1,57,Sevilla\n",
    "8,-2,51,Club Brugge\n",
    "7,0,55,Ajax\n",
    "7,-2,51,Inter Milan\n",
    "7,-1,50,Atletico Madrid\n",
    "7,-11,45,Istanbul Basaksehir\n",
    "6,-5,40,Krasnodar\n",
    "5,-12,47,Ferencvaros\n",
    "5,-7,47,Shakhtar Donetsk\n",
    "5,-5,42,Lokomotiv Moskva\n",
    "4,-9,47,Zenit\n",
    "4,-9,46,Midtjylland\n",
    "4,-9,45,Dynamo Kyiv\n",
    "3,-8,50,Rennes\n",
    "2,-8,50,Olympiacos\n",
    "2,-11,50,Marseille"
   ]
  },
  {
   "cell_type": "code",
   "execution_count": null,
   "metadata": {
    "scrolled": false,
    "slideshow": {
     "slide_type": "-"
    }
   },
   "outputs": [],
   "source": [
    "possession_df = pd.read_csv('possession.csv')\n",
    "possession_df.sort_values('Average ball possession (%)', ascending=False)"
   ]
  },
  {
   "cell_type": "code",
   "execution_count": null,
   "metadata": {
    "slideshow": {
     "slide_type": "slide"
    }
   },
   "outputs": [],
   "source": [
    "possession_df['Average ball possession (%)'].min()"
   ]
  },
  {
   "cell_type": "code",
   "execution_count": null,
   "metadata": {
    "slideshow": {
     "slide_type": "-"
    }
   },
   "outputs": [],
   "source": [
    "possession_df['Average ball possession (%)'].max()"
   ]
  },
  {
   "cell_type": "code",
   "execution_count": null,
   "metadata": {
    "slideshow": {
     "slide_type": "-"
    }
   },
   "outputs": [],
   "source": [
    "range = (possession_df['Average ball possession (%)'].max()) - (possession_df['Average ball possession (%)'].min())\n",
    "print(range)"
   ]
  },
  {
   "cell_type": "code",
   "execution_count": null,
   "metadata": {
    "slideshow": {
     "slide_type": "-"
    }
   },
   "outputs": [],
   "source": [
    "possession_df['Average ball possession (%)'].median()"
   ]
  },
  {
   "cell_type": "code",
   "execution_count": null,
   "metadata": {
    "slideshow": {
     "slide_type": "-"
    }
   },
   "outputs": [],
   "source": [
    "possession_df['Average ball possession (%)'].mean()"
   ]
  },
  {
   "cell_type": "code",
   "execution_count": null,
   "metadata": {
    "scrolled": false
   },
   "outputs": [],
   "source": [
    "bar_df = px.bar(possession_df, x='Team', y='Average ball possession (%)', title='Average ball possession (%) by team')\n",
    "bar_df.update_layout(xaxis={'categoryorder':'total descending'})"
   ]
  },
  {
   "cell_type": "code",
   "execution_count": null,
   "metadata": {
    "scrolled": true,
    "slideshow": {
     "slide_type": "slide"
    }
   },
   "outputs": [],
   "source": [
    "scatter_total_df = px.scatter(possession_df,\n",
    "                    x=\"Average ball possession (%)\", y=\"Total goals\", hover_data=[\"Team\"], trendline=\"ols\",\n",
    "                    title=\"Relationship between average ball possession (%) and total goals\")\n",
    "scatter_total_df.show()"
   ]
  },
  {
   "cell_type": "code",
   "execution_count": null,
   "metadata": {
    "slideshow": {
     "slide_type": "slide"
    }
   },
   "outputs": [],
   "source": [
    "scatter_difference_df = px.scatter(possession_df,\n",
    "                    x=\"Average ball possession (%)\", y=\"Goal difference\",\n",
    "                    size=\"Total goals\", color=\"Team\",\n",
    "                    title=\"Relationship between average ball possession (%) and goal difference by team\")\n",
    "scatter_difference_df.show()"
   ]
  }
 ],
 "metadata": {
  "kernelspec": {
   "display_name": "Python 3",
   "language": "python",
   "name": "python3"
  },
  "language_info": {
   "codemirror_mode": {
    "name": "ipython",
    "version": 3
   },
   "file_extension": ".py",
   "mimetype": "text/x-python",
   "name": "python",
   "nbconvert_exporter": "python",
   "pygments_lexer": "ipython3",
   "version": "3.8.8"
  },
  "rise": {
   "footer": "<IMG src='./images/callysto_logo.png' height='50'>",
   "scroll": true,
   "transition": "none"
  }
 },
 "nbformat": 4,
 "nbformat_minor": 4
}
