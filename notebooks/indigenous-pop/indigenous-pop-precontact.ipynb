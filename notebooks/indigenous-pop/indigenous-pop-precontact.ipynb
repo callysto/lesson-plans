{
 "cells": [
  {
   "cell_type": "markdown",
   "id": "a833c648",
   "metadata": {},
   "source": [
    "![Callysto.ca Banner](https://github.com/callysto/curriculum-notebooks/blob/master/callysto-notebook-banner-top.jpg?raw=true)"
   ]
  },
  {
   "cell_type": "markdown",
   "id": "36711e2c",
   "metadata": {},
   "source": [
    "## Indigenous population before first contact with Europeans\n",
    "\n",
    "In this short notebook, we show how to scrape some data from a Wikipedia webpage and then visualize the data in a nice graphic.\n",
    "\n",
    "We are looking at population data for Indigenous peoples before contact with Europeans. \n",
    "\n",
    "Our data source is this wikipedia page: https://en.wikipedia.org/wiki/Population_history_of_Indigenous_peoples_of_the_Americas\n",
    "\n",
    "Note that this is a delicate topic, as the population estimates vary widely, often reflecting biases of various authors. "
   ]
  },
  {
   "cell_type": "markdown",
   "id": "ffa6337d",
   "metadata": {},
   "source": [
    "### Step 1. Libraries\n",
    "\n",
    "\n",
    "FIrst, we import some useful Python libraries: Pandas for data analysis, requests for reading the webpage, and warning to manage any errors when we read the webpage. \n",
    "\n",
    "We also import a plotting library"
   ]
  },
  {
   "cell_type": "code",
   "execution_count": null,
   "id": "f1f38eda",
   "metadata": {},
   "outputs": [],
   "source": [
    "import pandas as pd\n",
    "import requests, warnings\n",
    "import plotly.express as px"
   ]
  },
  {
   "cell_type": "markdown",
   "id": "ba078237-3bf3-4b6b-8db9-ff427db377f2",
   "metadata": {},
   "source": [
    "### Step 2\n",
    "\n",
    "We then point a variable **url** to the webpage we want to use at Wikipedia, and store the results in **res**. We've copied the code below to show how we've done this, but to avoid any possibility of the data changing in the future, we've saved the data to a CSV file that we'll import to bring in the data.\n",
    "\n",
    "<code class=\"python\">\n",
    "url = 'https://en.wikipedia.org/wiki/Population_history_of_Indigenous_peoples_of_the_Americas'\n",
    "\n",
    "with warnings.catch_warnings():\n",
    "    warnings.simplefilter(\"ignore\")\n",
    "    res = requests.get(url, verify=False)\n",
    "    df = pd.read_html(res.text)[0]\n",
    "</code>"
   ]
  },
  {
   "cell_type": "code",
   "execution_count": null,
   "id": "12e5f427-fea3-4056-acb8-a8ed327eb6bd",
   "metadata": {},
   "outputs": [],
   "source": [
    "df = pd.read_csv('data/indigenous-populations-precontact.csv')\n",
    "df"
   ]
  },
  {
   "cell_type": "markdown",
   "id": "79a0b0c1-e3d6-4d98-bae9-8d744945fa3a",
   "metadata": {},
   "source": [
    "### Step 3\n",
    "\n",
    "The columns contain text references to ranges of numbers, but computers usually don't like that. Instead, we're going to replace the text with the number that represents the average of the value.\n",
    "\n",
    "As we'll be focusing on the USA and Canada, we'll primarily replace values in that column."
   ]
  },
  {
   "cell_type": "code",
   "execution_count": null,
   "id": "909ebd4a-5e9e-4ef7-994d-002a6a6ec292",
   "metadata": {},
   "outputs": [],
   "source": [
    "df.replace(['2 million-3 million'],'2500000',inplace=True)\n",
    "df.replace(['0.9 million'],'900000',inplace=True)\n",
    "df.replace(['1 million'],'1000000',inplace=True)\n",
    "df.replace(['9.8-12.25 million'],'11000000',inplace=True)\n",
    "df.replace(['1.213-2.639 million'],'2000000',inplace=True)\n",
    "df.replace(['3.79 million'],'3790000',inplace=True)\n",
    "df.replace(['3.44 million'],'3440000',inplace=True)\n",
    "df.replace(['3.5 million'],'3500000',inplace=True)\n",
    "df.replace(['7 million'],'7000000',inplace=True)\n",
    "df['USA and Canada'] = pd.to_numeric(df['USA and Canada'], errors='coerce')\n",
    "df"
   ]
  },
  {
   "cell_type": "markdown",
   "id": "5954c9a5-0286-4f7f-bef1-e3984bd0193c",
   "metadata": {},
   "source": [
    "### Step 4. Clean up\n",
    "\n",
    "Let's clean up the dataframe. \n",
    "\n",
    "Wikipedia is an excellent source of information, but one of the drawbacks of being so well sourced is that the editors of Wikipedia often add tags to pieces of information to show where the data came from. In our dataframe, this shows up in the Author column as \\[#\\], with various numbers depending on the source.\n",
    "\n",
    "We can remove those with the below code, that simply removes the last three characters from a string."
   ]
  },
  {
   "cell_type": "code",
   "execution_count": null,
   "id": "b4705d50-76e5-422c-8014-3d89841a8d53",
   "metadata": {},
   "outputs": [],
   "source": [
    "df['Author'] = df['Author'].str[:-4]\n",
    "df"
   ]
  },
  {
   "cell_type": "markdown",
   "id": "9c7d41d1",
   "metadata": {},
   "source": [
    "### Step 5. Plotting the data\n",
    "\n",
    "Let use Plotly to create a simple bar chart. We will attempt to plot the Number of indigenous people in the USA/Canada prior to European contact."
   ]
  },
  {
   "cell_type": "code",
   "execution_count": null,
   "id": "22153fcf",
   "metadata": {},
   "outputs": [],
   "source": [
    "px.bar(df, x=df.agg(lambda x: f'{x[\"Author\"]} ({x[\"Date\"]})', axis=1), # Combines author and year\n",
    "       y='USA and Canada', labels = {'x': 'Author (Year)'}, title=\"Different estimates for population, by author\",)\n"
   ]
  },
  {
   "cell_type": "markdown",
   "id": "c27e86d8",
   "metadata": {},
   "source": [
    "## Further work\n",
    "\n",
    "- What else can you do with this data? Perhaps clean up the data in other columns and plot as well. \n",
    "\n",
    "- What other sources of data can you use? Is there data for particular regions, such as B.C. or the Pacific West Coast that might have more accurate data? Look into the work of anthropologist Robert Boyd. "
   ]
  },
  {
   "cell_type": "markdown",
   "id": "3d510c51",
   "metadata": {},
   "source": [
    "## Conclusions\n",
    "\n",
    "We have shown how to scrape some data from Wikipedia, place into a Pandas dataframe and produce informative charts using Plotly. Important steps including cleaning up the data to get it into a form that can be understood by the program and put into good shapre for plotting. "
   ]
  },
  {
   "cell_type": "markdown",
   "id": "8348b85a",
   "metadata": {},
   "source": [
    "[![Callysto.ca License](https://github.com/callysto/curriculum-notebooks/blob/master/callysto-notebook-banner-bottom.jpg?raw=true)](https://github.com/callysto/curriculum-notebooks/blob/master/LICENSE.md)"
   ]
  }
 ],
 "metadata": {
  "kernelspec": {
   "display_name": "Python 3 (ipykernel)",
   "language": "python",
   "name": "python3"
  },
  "language_info": {
   "codemirror_mode": {
    "name": "ipython",
    "version": 3
   },
   "file_extension": ".py",
   "mimetype": "text/x-python",
   "name": "python",
   "nbconvert_exporter": "python",
   "pygments_lexer": "ipython3",
   "version": "3.9.13"
  }
 },
 "nbformat": 4,
 "nbformat_minor": 5
}
