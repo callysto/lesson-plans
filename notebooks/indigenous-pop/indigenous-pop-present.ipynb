{
 "cells": [
  {
   "cell_type": "markdown",
   "id": "a833c648",
   "metadata": {},
   "source": [
    "![Callysto.ca Banner](https://github.com/callysto/curriculum-notebooks/blob/master/callysto-notebook-banner-top.jpg?raw=true)"
   ]
  },
  {
   "cell_type": "markdown",
   "id": "36711e2c",
   "metadata": {},
   "source": [
    "## Indigenous population in Canada, present day\n",
    "\n",
    "In this short notebook, we show how to scrape some data from a Wikipedia webpage and then visualize the data in a nice graphic.\n",
    "\n",
    "We are looking at population data for Indigenous people across Canada. \n",
    "\n",
    "Our data source is this wikipedia page: https://en.wikipedia.org/wiki/Indigenous_peoples_in_Canada"
   ]
  },
  {
   "cell_type": "markdown",
   "id": "ffa6337d",
   "metadata": {},
   "source": [
    "### Step 1. Libraries\n",
    "\n",
    "\n",
    "FIrst, we import some useful Python libraries: Pandas for data analysis, requests for reading the webpage, and warning to manage any errors when we read the webpage. \n",
    "\n",
    "We also import a plotting library"
   ]
  },
  {
   "cell_type": "code",
   "execution_count": null,
   "id": "f1f38eda",
   "metadata": {},
   "outputs": [],
   "source": [
    "import pandas as pd\n",
    "import requests, warnings\n",
    "import plotly.express as px"
   ]
  },
  {
   "cell_type": "markdown",
   "id": "8fa473c6",
   "metadata": {},
   "source": [
    "### Step 2\n",
    "\n",
    "Wel then point a variable **url** to the webpage we want to use at Wikipedia, and store the results in **res**."
   ]
  },
  {
   "cell_type": "code",
   "execution_count": null,
   "id": "5155f763",
   "metadata": {},
   "outputs": [],
   "source": [
    "url = 'https://en.wikipedia.org/wiki/Indigenous_peoples_in_Canada'\n",
    "\n",
    "with warnings.catch_warnings():\n",
    "    warnings.simplefilter(\"ignore\")\n",
    "    res = requests.get(url, verify=False)\n"
   ]
  },
  {
   "cell_type": "markdown",
   "id": "4eb9410b",
   "metadata": {},
   "source": [
    "### Step 3\n",
    "\n",
    "The variable **res** is actually a data structure. We could look at all the text in iy using the component **res.text**  but instead, leads load it into a panda dataframe and look at the result."
   ]
  },
  {
   "cell_type": "code",
   "execution_count": null,
   "id": "c6fa320f",
   "metadata": {},
   "outputs": [],
   "source": [
    "pd.read_html(res.text)"
   ]
  },
  {
   "cell_type": "markdown",
   "id": "7003af6e",
   "metadata": {},
   "source": [
    "### Step 3 results, interpretation\n",
    "\n",
    "The result of Step 3 is a list of charts. We can select them using an index. Experiment a bit, and we discover the chart we want is number three. Let's put this into a dataframe, which we call **df**"
   ]
  },
  {
   "cell_type": "code",
   "execution_count": null,
   "id": "7844cd34",
   "metadata": {},
   "outputs": [],
   "source": [
    "df = pd.read_html(res.text)[3]\n",
    "df"
   ]
  },
  {
   "cell_type": "markdown",
   "id": "39d1e439",
   "metadata": {},
   "source": [
    "### Step 4. Clean up\n",
    "\n",
    "Let's clean up the dataframe. \n",
    "\n",
    "We will remove the last row (index 14) and the last column ('Unnamed') as they dont's contain useful information."
   ]
  },
  {
   "cell_type": "code",
   "execution_count": null,
   "id": "22153fcf",
   "metadata": {},
   "outputs": [],
   "source": [
    "df = df.drop(14)\n",
    "df = df.drop('Unnamed: 8',axis=1)\n",
    "df"
   ]
  },
  {
   "cell_type": "markdown",
   "id": "4bdafece",
   "metadata": {},
   "source": [
    "### Step 4+\n",
    "\n",
    "Let's also get rid of the \"NaN\" in the second column. This really should be the total for Canada. \n",
    "\n",
    "It's a bit tricky, as this \"NaN\" in not a string, but a floating point value that represents \"Not a Number.\" So in our Python code, we call it float(\"nan\")"
   ]
  },
  {
   "cell_type": "code",
   "execution_count": null,
   "id": "acea4bb9",
   "metadata": {},
   "outputs": [],
   "source": [
    "df = df.replace([float(\"nan\")],'Canada')"
   ]
  },
  {
   "cell_type": "code",
   "execution_count": null,
   "id": "fa8389e8",
   "metadata": {},
   "outputs": [],
   "source": [
    "df"
   ]
  },
  {
   "cell_type": "markdown",
   "id": "c0596ecc",
   "metadata": {},
   "source": [
    "### Step 5. More cleanup \n",
    "\n",
    "It turns out the Column names have some problems as they include some additional characters, including some that are invisible. We can see this by listing the column names. We use this information to then clean up the Column names."
   ]
  },
  {
   "cell_type": "code",
   "execution_count": null,
   "id": "13042cfa",
   "metadata": {},
   "outputs": [],
   "source": [
    "list(df)"
   ]
  },
  {
   "cell_type": "code",
   "execution_count": null,
   "id": "a913cc07",
   "metadata": {},
   "outputs": [],
   "source": [
    "## We use the \"inplace\" option to update the current dataframe\n",
    "df.rename(columns = {'Province\\xa0/ Territory':'Province/Territory', '%[a]':'%', 'Other[b]': 'Other'}, inplace = True)\n",
    "df.rename(columns = {'First Nations(Indian)': 'First Nations'}, inplace = True)\n",
    "df"
   ]
  },
  {
   "cell_type": "markdown",
   "id": "9c7d41d1",
   "metadata": {},
   "source": [
    "### Step 6. Plotting the data\n",
    "\n",
    "Let use Plotly to create a simple bar chart. We will attempt to plot the Number of indigenous people in each Province/Territory."
   ]
  },
  {
   "cell_type": "code",
   "execution_count": null,
   "id": "aef240bc",
   "metadata": {},
   "outputs": [],
   "source": [
    "fig = px.bar(df, x='Province/Territory', y='Number')\n",
    "fig.show()"
   ]
  },
  {
   "cell_type": "markdown",
   "id": "f96067ae",
   "metadata": {},
   "source": [
    "### Step 6 - what went wrong?\n",
    "\n",
    "You may have noticed the plot is wrong. What went wrong? And how do we fix it?\n",
    "\n",
    "Discuss before going to the next stage.\n"
   ]
  },
  {
   "cell_type": "markdown",
   "id": "be9b9696",
   "metadata": {},
   "source": [
    "### Step 7. Fixing the data.\n",
    "\n",
    "The problem is that Python thinks thoses numbers are just text strings. So we have to force them to be numbers. \n",
    "There is a simple command to do this, called **to_numeric** which will convert the text in a column into numbers."
   ]
  },
  {
   "cell_type": "code",
   "execution_count": null,
   "id": "6c15862d",
   "metadata": {},
   "outputs": [],
   "source": [
    "df['Number'] = pd.to_numeric(df['Number'], errors='coerce')\n",
    "px.bar(df, x='Province/Territory', y='Number')"
   ]
  },
  {
   "cell_type": "markdown",
   "id": "f208789d",
   "metadata": {},
   "source": [
    "### Step 7+  A better plot\n",
    "\n",
    "Let's drop the 13th row, which is the Canada number, as it is so big. The result shows each province and territory in more detail."
   ]
  },
  {
   "cell_type": "code",
   "execution_count": null,
   "id": "949acbae",
   "metadata": {},
   "outputs": [],
   "source": [
    "px.bar(df.drop(13), x='Province/Territory', y='Number')"
   ]
  },
  {
   "cell_type": "markdown",
   "id": "37a5d90d",
   "metadata": {},
   "source": [
    "### Step 8. More data in the plot.\n",
    "\n",
    "Finally, let's do a multi-bar plot to show the breakdown of the different categories of people in this data. Plotly has an easy way to do this, using the \"wide format\" for data frames. \n",
    "\n",
    "First, though, we need to convert the data into numerical values in each columns. Then we call the Plotly bar command. \n"
   ]
  },
  {
   "cell_type": "code",
   "execution_count": null,
   "id": "f18b4347",
   "metadata": {},
   "outputs": [],
   "source": [
    "df['First Nations'] = pd.to_numeric(df['First Nations'], errors='coerce')\n",
    "df['Métis'] = pd.to_numeric(df['Métis'], errors='coerce')\n",
    "df['Inuit'] = pd.to_numeric(df['Inuit'], errors='coerce')\n",
    "df['Multiple'] = pd.to_numeric(df['Multiple'], errors='coerce')\n",
    "df['Other'] = pd.to_numeric(df['Other'], errors='coerce')"
   ]
  },
  {
   "cell_type": "code",
   "execution_count": null,
   "id": "61b78c94",
   "metadata": {},
   "outputs": [],
   "source": [
    "px.bar(df, x='Province/Territory', \n",
    "           y=['First Nations','Métis','Inuit','Multiple','Other'], title=\"Indigenous populations in Canada\")"
   ]
  },
  {
   "cell_type": "markdown",
   "id": "c2acdcc9",
   "metadata": {},
   "source": [
    "### Opps.\n",
    "\n",
    "Let's get rid of Canada again!"
   ]
  },
  {
   "cell_type": "code",
   "execution_count": null,
   "id": "1fab9089",
   "metadata": {},
   "outputs": [],
   "source": [
    "px.bar(df.drop(13), x='Province/Territory', \n",
    "           y=['First Nations','Métis','Inuit','Multiple','Other'], title=\"Indigenous populations in Canada\")"
   ]
  },
  {
   "cell_type": "markdown",
   "id": "869211a8",
   "metadata": {},
   "source": [
    "## Notes on data sources\n",
    "\n",
    "This data came from Wikipedia, based on the 2016 Canadian census.\n",
    "\n",
    "We expect similar data to appear in September 2022, based on the 2021 Canadian census. A link to the data sources at Statistics Canada is given here: https://www12.statcan.gc.ca/census-recensement/2021/dp-pd/dt-td/index-eng.cfm"
   ]
  },
  {
   "cell_type": "markdown",
   "id": "c27e86d8",
   "metadata": {},
   "source": [
    "## Further work\n",
    "\n",
    "- What else can you do with this data? Perhaps you want to plot information about percentages. How would you do that?\n",
    "\n",
    "- What other sources of data can you get? Can you access Wikipedia data about indigenous populations in other countries that interest you? How about the United States? Or Australia?"
   ]
  },
  {
   "cell_type": "markdown",
   "id": "a7b0cb14",
   "metadata": {},
   "source": [
    "### A little help\n",
    "\n",
    "Let's see if we can plot the percentages, by Province. Try it yourself first, and then check your work here.\n"
   ]
  },
  {
   "cell_type": "code",
   "execution_count": null,
   "id": "f250b1a5",
   "metadata": {},
   "outputs": [],
   "source": [
    "## First, remove the percentage sign by remove the last character in each string\n",
    "## Then convert the percentage numers (which are strings) to numerical values.\n",
    "\n",
    "df['%'] = df['%'].map(lambda x: x[:-1])\n",
    "df['%'] = pd.to_numeric(df['%'])"
   ]
  },
  {
   "cell_type": "code",
   "execution_count": null,
   "id": "3d553004",
   "metadata": {},
   "outputs": [],
   "source": [
    "px.bar(df, x='Province/Territory', y='%', title=\"Indigenous population, by percentage\")\n"
   ]
  },
  {
   "cell_type": "markdown",
   "id": "3d510c51",
   "metadata": {},
   "source": [
    "## Conclusions\n",
    "\n",
    "We have shown how to scrape some data from Wikipedia, place into a Pandas dataframe and produce informative charts using Plotly. Important steps including cleaning up the data to get it into a form that can be understood by the program and put into good shapre for plotting. "
   ]
  },
  {
   "cell_type": "markdown",
   "id": "8348b85a",
   "metadata": {},
   "source": [
    "[![Callysto.ca License](https://github.com/callysto/curriculum-notebooks/blob/master/callysto-notebook-banner-bottom.jpg?raw=true)](https://github.com/callysto/curriculum-notebooks/blob/master/LICENSE.md)"
   ]
  }
 ],
 "metadata": {
  "kernelspec": {
   "display_name": "Python 3 (ipykernel)",
   "language": "python",
   "name": "python3"
  },
  "language_info": {
   "codemirror_mode": {
    "name": "ipython",
    "version": 3
   },
   "file_extension": ".py",
   "mimetype": "text/x-python",
   "name": "python",
   "nbconvert_exporter": "python",
   "pygments_lexer": "ipython3",
   "version": "3.9.13"
  }
 },
 "nbformat": 4,
 "nbformat_minor": 5
}
