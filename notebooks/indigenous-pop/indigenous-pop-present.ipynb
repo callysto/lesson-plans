{
 "cells": [
  {
   "cell_type": "markdown",
   "id": "a833c648",
   "metadata": {},
   "source": [
    "![Callysto.ca Banner](https://github.com/callysto/curriculum-notebooks/blob/master/callysto-notebook-banner-top.jpg?raw=true)"
   ]
  },
  {
   "cell_type": "markdown",
   "id": "36711e2c",
   "metadata": {},
   "source": [
    "## Indigenous population in Canada, present day\n",
    "\n",
    "In this short notebook, we show how to scrape some data from a Wikipedia webpage and then visualize the data in a nice graphic.\n",
    "\n",
    "We are looking at population data for Indigenous people across Canada. \n",
    "\n",
    "Our data source is this wikipedia page: https://en.wikipedia.org/wiki/Indigenous_peoples_in_Canada, which in turn is largely based on the [2016 Canada Census](https://www12.statcan.gc.ca/census-recensement/2016/dp-pd/dt-td/Lp-eng.cfm?LANG=E&APATH=3&DETAIL=0&DIM=0&FL=A&FREE=0&GC=0&GID=0&GK=0&GRP=1&PID=0&PRID=10&PTYPE=109445&S=0&SHOWALL=0&SUB=0&Temporal=2017&THEME=122&VID=0&VNAMEE=&VNAMEF=)."
   ]
  },
  {
   "cell_type": "markdown",
   "id": "ffa6337d",
   "metadata": {},
   "source": [
    "### Step 1. Libraries\n",
    "\n",
    "\n",
    "FIrst, we import some useful Python libraries: Pandas for data analysis, requests for reading the webpage, and warning to manage any errors when we read the webpage. \n",
    "\n",
    "We also import a plotting library"
   ]
  },
  {
   "cell_type": "code",
   "execution_count": null,
   "id": "f1f38eda",
   "metadata": {},
   "outputs": [],
   "source": [
    "import pandas as pd\n",
    "import requests, warnings\n",
    "import plotly.express as px"
   ]
  },
  {
   "cell_type": "markdown",
   "id": "50ee6432-3e8e-440e-9c0a-de056afcc594",
   "metadata": {
    "tags": []
   },
   "source": [
    "### Step 2\n",
    "\n",
    "We then point a variable **url** to the webpage we want to use at Wikipedia, and store the results in **res**. We've copied the code below to show how we've done this, but to avoid any possibility of the data changing in the future, we've saved the data to a CSV file that we'll import to bring in the data.\n",
    "\n",
    "<code class=\"python\">\n",
    "url = 'https://en.wikipedia.org/wiki/Indigenous_peoples_in_Canada'\n",
    "\n",
    "with warnings.catch_warnings():\n",
    "    warnings.simplefilter(\"ignore\")\n",
    "    res = requests.get(url, verify=False)\n",
    "    df = res.text[3]\n",
    "</code>"
   ]
  },
  {
   "cell_type": "code",
   "execution_count": null,
   "id": "7e2b1521-f515-4cd3-9fbc-315d528f2356",
   "metadata": {},
   "outputs": [],
   "source": [
    "df = pd.read_csv('data/indigenous-populations-present.csv')\n",
    "df"
   ]
  },
  {
   "cell_type": "markdown",
   "id": "3ac9fe73-5049-4ffe-9976-0e32393a94b9",
   "metadata": {
    "tags": []
   },
   "source": [
    "### Step 3. Clean up\n",
    "\n",
    "Let's clean up the dataframe. \n",
    "\n",
    "We will remove the last row (index 14) and the last column ('Unnamed') as they dont's contain useful information."
   ]
  },
  {
   "cell_type": "code",
   "execution_count": null,
   "id": "e712b352-2866-4973-9c2f-d1220b185552",
   "metadata": {},
   "outputs": [],
   "source": [
    "df = df.drop(14)\n",
    "df = df.drop('Unnamed: 8',axis=1)\n",
    "df"
   ]
  },
  {
   "cell_type": "markdown",
   "id": "4bdafece",
   "metadata": {},
   "source": [
    "### Step 4\n",
    "\n",
    "Let's also get rid of the \"NaN\" in the second column. This really should be the total for Canada. \n",
    "\n",
    "It's a bit tricky, as this \"NaN\" in not a string, but a floating point value that represents \"Not a Number.\" So in our Python code, we call it float(\"nan\")"
   ]
  },
  {
   "cell_type": "code",
   "execution_count": null,
   "id": "acea4bb9",
   "metadata": {},
   "outputs": [],
   "source": [
    "df = df.replace([float(\"nan\")],'Canada')\n",
    "df"
   ]
  },
  {
   "cell_type": "markdown",
   "id": "c0596ecc",
   "metadata": {},
   "source": [
    "### Step 4+. More cleanup \n",
    "\n",
    "It turns out the Column names have some problems as they include some additional characters, including some that are invisible. We can see this by listing the column names. We use this information to then clean up the Column names."
   ]
  },
  {
   "cell_type": "code",
   "execution_count": null,
   "id": "13042cfa",
   "metadata": {},
   "outputs": [],
   "source": [
    "list(df)"
   ]
  },
  {
   "cell_type": "code",
   "execution_count": null,
   "id": "a913cc07",
   "metadata": {},
   "outputs": [],
   "source": [
    "## We use the \"inplace\" option to update the current dataframe\n",
    "df.rename(columns = {'Province\\xa0/ Territory':'Province/Territory', '%[a]':'%', 'Other[b]': 'Other'}, inplace = True)\n",
    "df.rename(columns = {'First Nations(Indian)': 'First Nations'}, inplace = True)\n",
    "df"
   ]
  },
  {
   "cell_type": "markdown",
   "id": "9c7d41d1",
   "metadata": {},
   "source": [
    "### Step 5. Plotting the data\n",
    "\n",
    "Let use Plotly to create a simple bar chart. We will attempt to plot the Number of indigenous people in each Province/Territory."
   ]
  },
  {
   "cell_type": "code",
   "execution_count": null,
   "id": "aef240bc",
   "metadata": {},
   "outputs": [],
   "source": [
    "fig = px.bar(df, x='Province/Territory', y='Number', title='Indigenous populations by location')\n",
    "fig.show()"
   ]
  },
  {
   "cell_type": "markdown",
   "id": "f96067ae",
   "metadata": {},
   "source": [
    "### Step 6 - what went wrong?\n",
    "\n",
    "You may have noticed the plot is wrong. What went wrong? And how do we fix it?\n",
    "\n",
    "Discuss before going to the next stage.\n"
   ]
  },
  {
   "cell_type": "markdown",
   "id": "be9b9696",
   "metadata": {},
   "source": [
    "### Step 7. Fixing the data.\n",
    "\n",
    "The problem is that Python thinks thoses numbers are just text strings. So we have to force them to be numbers. \n",
    "There is a simple command to do this, called **to_numeric** which will convert the text in a column into numbers."
   ]
  },
  {
   "cell_type": "code",
   "execution_count": null,
   "id": "6c15862d",
   "metadata": {},
   "outputs": [],
   "source": [
    "df['Number'] = pd.to_numeric(df['Number'], errors='coerce')\n",
    "px.bar(df, x='Province/Territory', y='Number', title='Indigenous populations by location')"
   ]
  },
  {
   "cell_type": "markdown",
   "id": "f208789d",
   "metadata": {},
   "source": [
    "### Step 7+  A better plot\n",
    "\n",
    "Let's drop the 13th row, which is the Canada number, as it is so big and obscures the other bars. The result shows each province and territory in more detail."
   ]
  },
  {
   "cell_type": "code",
   "execution_count": null,
   "id": "949acbae",
   "metadata": {},
   "outputs": [],
   "source": [
    "px.bar(df.drop(13), x='Province/Territory', y='Number', title='Indigenous populations by province/territory')"
   ]
  },
  {
   "cell_type": "markdown",
   "id": "37a5d90d",
   "metadata": {},
   "source": [
    "### Step 8. More data in the plot.\n",
    "\n",
    "Finally, let's do a multi-bar plot to show the breakdown of the different categories of indigenous people in this data. Plotly has an easy way to do this, using the \"wide format\" for data frames. \n",
    "\n",
    "First, though, we need to convert the data into numerical values in each columns. Then we call the Plotly bar command. \n"
   ]
  },
  {
   "cell_type": "code",
   "execution_count": null,
   "id": "f18b4347",
   "metadata": {},
   "outputs": [],
   "source": [
    "df['First Nations'] = pd.to_numeric(df['First Nations'], errors='coerce')\n",
    "df['Métis'] = pd.to_numeric(df['Métis'], errors='coerce')\n",
    "df['Inuit'] = pd.to_numeric(df['Inuit'], errors='coerce')\n",
    "df['Multiple'] = pd.to_numeric(df['Multiple'], errors='coerce')\n",
    "df['Other'] = pd.to_numeric(df['Other'], errors='coerce')"
   ]
  },
  {
   "cell_type": "code",
   "execution_count": null,
   "id": "61b78c94",
   "metadata": {},
   "outputs": [],
   "source": [
    "px.bar(df, x='Province/Territory', \n",
    "           y=['First Nations','Métis','Inuit','Multiple','Other'], title=\"Indigenous populations in Canada\")"
   ]
  },
  {
   "cell_type": "markdown",
   "id": "c2acdcc9",
   "metadata": {},
   "source": [
    "### Opps.\n",
    "\n",
    "Let's get rid of Canada again to make the other values clearer!"
   ]
  },
  {
   "cell_type": "code",
   "execution_count": null,
   "id": "1fab9089",
   "metadata": {},
   "outputs": [],
   "source": [
    "px.bar(df.drop(13), x='Province/Territory', \n",
    "           y=['First Nations','Métis','Inuit','Multiple','Other'], title=\"Indigenous populations in Canada\")"
   ]
  },
  {
   "cell_type": "markdown",
   "id": "869211a8",
   "metadata": {},
   "source": [
    "## Notes on data sources\n",
    "\n",
    "This data came from Wikipedia, based on the 2016 Canadian census.\n",
    "\n",
    "This data may be updated in the future, as the census is completed every 5 years, and often released in the fall following the year it was collected. See if you can update the data with the most current available census."
   ]
  },
  {
   "cell_type": "markdown",
   "id": "c27e86d8",
   "metadata": {},
   "source": [
    "## Further work\n",
    "\n",
    "- What else can you do with this data? Perhaps you want to plot information about percentages. How would you do that?\n",
    "\n",
    "- What other sources of data can you get? Can you access Wikipedia data about indigenous populations in other countries that interest you? How about the United States? Or Australia?"
   ]
  },
  {
   "cell_type": "markdown",
   "id": "a7b0cb14",
   "metadata": {},
   "source": [
    "### A little help\n",
    "\n",
    "Let's see if we can plot the percentages, by province. Try it yourself first, and then check your work here.\n"
   ]
  },
  {
   "cell_type": "code",
   "execution_count": null,
   "id": "f250b1a5",
   "metadata": {},
   "outputs": [],
   "source": [
    "## First, remove the percentage sign by remove the last character in each string\n",
    "## Then convert the percentage numers (which are strings) to numerical values.\n",
    "\n",
    "df['%'] = df['%'].map(lambda x: x[:-1])\n",
    "df['%'] = pd.to_numeric(df['%'])"
   ]
  },
  {
   "cell_type": "code",
   "execution_count": null,
   "id": "3d553004",
   "metadata": {},
   "outputs": [],
   "source": [
    "px.bar(df, x='Province/Territory', y='%', title=\"% Indigenous population of each province\")\n"
   ]
  },
  {
   "cell_type": "markdown",
   "id": "3d510c51",
   "metadata": {},
   "source": [
    "## Conclusions\n",
    "\n",
    "We have shown how to scrape some data from Wikipedia, place into a Pandas dataframe and produce informative charts using Plotly. Important steps including cleaning up the data to get it into a form that can be understood by the program and put into good shapre for plotting. "
   ]
  },
  {
   "cell_type": "markdown",
   "id": "8348b85a",
   "metadata": {},
   "source": [
    "[![Callysto.ca License](https://github.com/callysto/curriculum-notebooks/blob/master/callysto-notebook-banner-bottom.jpg?raw=true)](https://github.com/callysto/curriculum-notebooks/blob/master/LICENSE.md)"
   ]
  }
 ],
 "metadata": {
  "kernelspec": {
   "display_name": "Python 3 (ipykernel)",
   "language": "python",
   "name": "python3"
  },
  "language_info": {
   "codemirror_mode": {
    "name": "ipython",
    "version": 3
   },
   "file_extension": ".py",
   "mimetype": "text/x-python",
   "name": "python",
   "nbconvert_exporter": "python",
   "pygments_lexer": "ipython3",
   "version": "3.9.13"
  }
 },
 "nbformat": 4,
 "nbformat_minor": 5
}
