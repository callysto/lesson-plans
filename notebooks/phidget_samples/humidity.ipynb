{
 "cells": [
  {
   "cell_type": "markdown",
   "id": "7e3107f8-3384-4161-9290-8e2188eb0caf",
   "metadata": {},
   "source": [
    "![Callysto.ca Banner](https://github.com/callysto/curriculum-notebooks/blob/master/callysto-notebook-banner-top.jpg?raw=true)\n"
   ]
  },
  {
   "cell_type": "markdown",
   "id": "7e6f204e-37af-4c1f-ac9f-a67386c9f135",
   "metadata": {},
   "source": [
    "## humidity.ipynb: Humidity Sensor\n",
    "\n",
    "#### January 2024\n",
    "\n",
    "This short notebook is a minimal demonstration of how to access a Phidget device from a Jupyter notebook and connect it to Python code.\n",
    "\n",
    "It is important to run this notebook in a suitable  web browser: Google Chrome, Chromium or MS Edge. Unfortunately, other browsers do not currently support the WebUSB protocol for access to USB devices from a web page. \n",
    "\n",
    "## Setting up the Phidget device\n",
    "\n",
    "You will need a Phidget VINT hub (HUB0001) and a Phidget Humidity Sensor (HUM1001) or Humidity/Temperature sensor connected together as shown here:\n",
    "<p style=\"text-align:center;\">\n",
    "<img src=\"images/HumiditySensor.png\" alt=\"Image of the humidity sensor and VINT Hub\"  width = 500 />\n",
    "</p>\n",
    "<p style=\"text-align:center;\">\n",
    "Phidget VINT Hub and Humidity Sensor connected together. (Photo Credits: Phidgets Inc.)\n",
    "</p>\n",
    "\n",
    "Use a USB cable to connect the VINT Hub to your computer. \n",
    "\n",
    "If you have an older version of the Phidgets, you may need to update its firmware. See the following for details:\n",
    "\n",
    "- https://www.phidgets.com/education/educators/advanced-troubleshooting/firmware-upgrade/\n",
    "\n",
    "### Notes on local and remote computer\n",
    "\n",
    "Note we are using two computers here. There is the laptop (or desktop) computer sitting in front of you, which is the **local** computer. The Callysto Hub, that you're running this notebook on, is a piece of software running on a cloud-based network computer located at the Cybera offices in Alberta (usually), and we call this the **remote** computer. \n",
    "\n",
    "We run Python code on the Callysto Hub, while the Phidget device is accessed from the local computer using Javascript. JavaScript is just another programming language, but with a syntax and structure somewhat different than Python. You will see Javascript in the code below as part of the widget class.\n",
    "\n",
    "For more information on how to write Javascript for accessing the Phidget Humidity Sensor device, please refer to the Phidgets webpages:\n",
    "\n",
    "- https://www.phidgets.com/?prodid=1179#Tab_API\n",
    "\n",
    "Run the following cells and follow the instructions at the end. "
   ]
  },
  {
   "cell_type": "code",
   "execution_count": 1,
   "id": "075dc10a-ff45-4f5b-90f6-d8feb13b4e55",
   "metadata": {},
   "outputs": [],
   "source": [
    "import anywidget\n",
    "import traitlets\n",
    "from ipywidgets import FloatSlider"
   ]
  },
  {
   "cell_type": "code",
   "execution_count": 2,
   "id": "45d0e115-8607-4376-a9f1-59122c25caac",
   "metadata": {},
   "outputs": [],
   "source": [
    "## Create the humidity widget class, which communicates with the Phidget devices.\n",
    "\n",
    "class humidity_widget(anywidget.AnyWidget):\n",
    "    _esm = \"\"\"\n",
    "\n",
    "import {USBConnection, HumiditySensor} from \"https://esm.sh/phidget22@3.17\";\n",
    "\n",
    "export function render({ model, el }) {\n",
    "    var conn = 0; // the USB connection\n",
    "    var chan = 0; // the channel for the device\n",
    "    var isOpen = false;\n",
    "    var connOpen = false;\n",
    "    var chanOpen = false;\n",
    "\n",
    "    async function openUSB() {\n",
    "        if (conn) {\n",
    "            try {await chan.close();} catch {}\n",
    "            try {await conn.close();} catch {}\n",
    "            try {await conn.delete();} catch {}\n",
    "        }\n",
    "        conn = new USBConnection();\n",
    "        chan = new HumiditySensor();\n",
    "        chan.onHumidityChange = function(value) {\n",
    "            textValue.innerHTML = 'Humidity is ' + value;\n",
    "            model.set('value', value);\n",
    "            model.save_changes();\n",
    "       \t};\n",
    "        chan.onAttach = async () => {\n",
    "            textStatus.innerHTML = 'Attached. ';\n",
    "            await chan.setDataInterval(250);\n",
    "        }\n",
    "\n",
    "        try {\n",
    "    \t\tawait conn.connect();\n",
    "            conn.requestWebUSBDeviceAccess();\n",
    "            connOpen = true;\n",
    "    \t} catch(err) {connOpen = false;}\n",
    "        if (connOpen) {\n",
    "            chanOpen = false;\n",
    "            try {\n",
    "                await chan.open(2000);\n",
    "                chanOpen = true;\n",
    "            } catch(err) {chanOpen = false;}\n",
    "        }\n",
    "        \n",
    "        // now let the UI reflect the status of the connections\n",
    "        if (connOpen && chanOpen) {\n",
    "            isOpen = true;\n",
    "            textStatus.innerHTML = 'USB connected, channel open. ';\n",
    "            button.innerHTML = `Click to disconnect`;\n",
    "        }\n",
    "        if (connOpen && !chanOpen) {\n",
    "            isOpen = false;\n",
    "            textStatus.innerHTML = 'USB connected, channel not open. ';\n",
    "            button.innerHTML = `Click to connect`;\n",
    "        }\n",
    "        if (!connOpen) {\n",
    "            isOpen = false;\n",
    "            textStatus.innerHTML = 'USB did not connect. ';\n",
    "            button.innerHTML = `Click to connect`;        \n",
    "        }\n",
    "    };\n",
    "    async function closeUSB() {\n",
    "        try {await chan.close();} catch {}\n",
    "        try {await conn.close();} catch {}\n",
    "        try {await conn.delete();} catch {}\n",
    "        isOpen = false; \n",
    "        connOpen = false;\n",
    "        chanOpen = false;\n",
    "        textStatus.innerHTML = 'Disconnected. ';\n",
    "        textValue.innerHTML = 'Humidity is null. ';\n",
    "        button.innerHTML = `Click to connect`;\n",
    "    };\n",
    "    \n",
    "    // here we define the user interface, a button and two text boxes\n",
    "    let button = document.createElement(\"button\");\n",
    "    button.classList.add(\"ph-button\");\n",
    "    button.innerHTML = `Click to open USB`;\n",
    "    button.addEventListener(\"click\", async () => {\n",
    "        if (isOpen) {closeUSB();} else {openUSB();}\n",
    "    });\n",
    "    let textStatus = document.createElement(\"label\");\n",
    "    textStatus.innerHTML = 'Status message here. ';\n",
    "    let textValue = document.createElement(\"label\");\n",
    "    textValue.innerHTML = 'Humidity is null. ';\n",
    "    \n",
    "    // Post the UI into the Jupyter notebook cell\n",
    "    el.appendChild(button);\n",
    "    el.appendChild(textStatus);\n",
    "    el.appendChild(textValue);\n",
    "    \n",
    "    // we include a return function to close the Phidget when the notebook is closed\n",
    "    return closeUSB();\n",
    "  }\n",
    "    \"\"\"\n",
    "    _css = \"\"\"\n",
    "    .ph-button {color: white; \n",
    "        background-color:rgb(96, 107, 174); \n",
    "        border-radius: 8px; \n",
    "        font-size: 24px; \n",
    "        display: block;\n",
    "        padding: 15px 32px;}\n",
    "    .ph-button:hover { background-color:rgb(120, 128, 187); }  \n",
    "    \"\"\"\n",
    "    value = traitlets.Float(0).tag(sync=True)"
   ]
  },
  {
   "cell_type": "markdown",
   "id": "8f047b38-80fe-4908-a544-9daa3f4bc980",
   "metadata": {},
   "source": [
    "## Side note\n",
    "\n",
    "At this point, you could use the widget with the one-line command \n",
    "> humidity_widget()\n",
    "\n",
    "However, let's get creative and use Python code to read the device values and display on a ipywidget. "
   ]
  },
  {
   "cell_type": "code",
   "execution_count": 3,
   "id": "2651a244-48c2-4890-ae21-fb28c2a5a902",
   "metadata": {},
   "outputs": [],
   "source": [
    "## Create the humidity widget and link it to a slider, representing the humidity level.\n",
    "\n",
    "phidget = humidity_widget()\n",
    "gauge = FloatSlider(min=20,max=80.0,orientation='horizontal',description = 'Humidity')\n",
    "def updateGauge(change):\n",
    "    gauge.value = change.new\n",
    "\n",
    "phidget.observe(updateGauge, names=['value'])"
   ]
  },
  {
   "cell_type": "code",
   "execution_count": 4,
   "id": "0d2859a6-1172-44d7-8497-a824b8877ecf",
   "metadata": {},
   "outputs": [
    {
     "data": {
      "application/vnd.jupyter.widget-view+json": {
       "model_id": "97f2eb20cc23459597ceee40bb94fed8",
       "version_major": 2,
       "version_minor": 0
      },
      "text/plain": [
       "humidity_widget()"
      ]
     },
     "metadata": {},
     "output_type": "display_data"
    },
    {
     "data": {
      "application/vnd.jupyter.widget-view+json": {
       "model_id": "906566ba4b8541aa8c61e91fd7df9400",
       "version_major": 2,
       "version_minor": 0
      },
      "text/plain": [
       "FloatSlider(value=20.0, description='Humidity', max=80.0, min=20.0)"
      ]
     },
     "metadata": {},
     "output_type": "display_data"
    }
   ],
   "source": [
    "## Display the humidity widget and the slider. \n",
    "\n",
    "display(phidget,gauge)"
   ]
  },
  {
   "cell_type": "markdown",
   "id": "47166666-abde-43d3-af60-be546896c6b5",
   "metadata": {},
   "source": [
    "## Instructions\n",
    "\n",
    "Use the mouse to click on the \"Click to connect\" button above. \n",
    "\n",
    "If the phidget does not connect right way, try clicking again. Also, verify that you have the phidget hub connected to your computer's USB port, and the phidget device is plugged into the hub. Once connected, you will see the device data values updates every second or so. \n",
    "\n",
    "When you are done, click on the button now labeled \"Click to disconnect.\""
   ]
  },
  {
   "cell_type": "markdown",
   "id": "6dd7caab-a49f-4256-a2f9-cd894c564d37",
   "metadata": {},
   "source": [
    "[![Callysto.ca License](https://github.com/callysto/curriculum-notebooks/blob/master/callysto-notebook-banner-bottom.jpg?raw=true)](https://github.com/callysto/curriculum-notebooks/blob/master/LICENSE.md)"
   ]
  }
 ],
 "metadata": {
  "kernelspec": {
   "display_name": "Python 3 (ipykernel)",
   "language": "python",
   "name": "python3"
  },
  "language_info": {
   "codemirror_mode": {
    "name": "ipython",
    "version": 3
   },
   "file_extension": ".py",
   "mimetype": "text/x-python",
   "name": "python",
   "nbconvert_exporter": "python",
   "pygments_lexer": "ipython3",
   "version": "3.11.6"
  }
 },
 "nbformat": 4,
 "nbformat_minor": 5
}
