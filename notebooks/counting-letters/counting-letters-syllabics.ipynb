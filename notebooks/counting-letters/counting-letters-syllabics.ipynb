{
 "cells": [
  {
   "cell_type": "markdown",
   "id": "0ee8eab1",
   "metadata": {},
   "source": [
    "![Callysto.ca Banner](https://github.com/callysto/curriculum-notebooks/blob/master/callysto-notebook-banner-top.jpg?raw=true)\n",
    "\n",
    "<a href=\"https://hub.callysto.ca/jupyter/hub/user-redirect/git-pull?repo=https%3A%2F%2Fgithub.com%2Fcallysto%2Flesson-plans&branch=master&subPath=notebooks/counting-letters/counting-letters-syllabics.ipynb&depth=1\"><img src=\"https://raw.githubusercontent.com/callysto/curriculum-notebooks/master/open-in-callysto-button.svg?sanitize=true\" width=\"123\" height=\"24\" alt=\"Open in Callysto\"/></a>"
   ]
  },
  {
   "cell_type": "markdown",
   "id": "08355159",
   "metadata": {},
   "source": [
    "# Self-referential sentences in Cree syllabics (nehiyawasinahikewin)\n",
    "\n",
    "With credit to Dr. Ed Doolittle, Professor of Mathematics at First Nations University, for originating this work. \n",
    "\n",
    "See the following video to learn more about his work:"
   ]
  },
  {
   "cell_type": "markdown",
   "id": "ee4a97ee",
   "metadata": {},
   "source": [
    "[![Watch the video](https://img.youtube.com/vi/wZ-ctdoj_mM/default.jpg)](https://youtu.be/wZ-ctdoj_mM)"
   ]
  },
  {
   "cell_type": "markdown",
   "id": "2a1bf03e",
   "metadata": {},
   "source": [
    " ## Introduction\n",
    "\n",
    "We are interested in creating self-referential sentences like the following:\n",
    "- **This sentence has four e’s in it.**\n",
    "- **This sentence has five e’s in it.**\n",
    "\n",
    "Both these sentences are true, as the count (four, five) matches the actual number of e's in the sentence. However, the sentence \n",
    "- \"**This sentence has six e’s in it**\" \n",
    "\n",
    "is false. It does not have six e's. \n",
    "\n",
    "In the Cree language (nehiyawewin), we can get a self-referential sentence like this:\n",
    "\n",
    "```\n",
    "Mekwâc e-ayamihtâyan ôma, niyânanwâw kika-wâpahten ôma e masinipehikanis.\n",
    "```\n",
    "\n",
    "This translates as:\n",
    "```\n",
    "Right now as you read this, you will see five e's written.\n",
    "```\n",
    "\n",
    "\n",
    "In Cree syllabics, this is written as:\n",
    "```\n",
    "ᒣᑳᐧᐨ  ᐁ ᐊᔭᒥᐦᑖᔭᐣ  ᐆᒪ,  ᓃᔮᓇᓈᐧᐤ  ᑭᑲ ᐋᐧᐸᐦᑌᐣ  ᐆᒪ  \"ᐁ\"  ᒪᓯᓂᐯᐦᐃᑲᓂᐢ.\n",
    "```\n",
    "\n",
    "We want to create some Python code to make a sentence in Cree syllabics that tells you how many of each letter it has, and get the count correct. This is tricky, because the numbers in the sentence are made up of letters, and you don't know in advance how many letters there will be in the completed sentence!\n",
    "\n",
    "The idea is to treat the sentence as an object that gets transformed by the code, based on the count of letters in the sentence. As you update the sentence, you then update the count of letters. Hopefully the updates finally converge to a correct sentence.  This is called a **fixed point** in the set of sentences, under this transformation.\n",
    "\n",
    "Looking for fixed points in a dynamical system is an important topic in pure and applied mathematics. It is interesting to see it show up in languages as well. \n",
    "\n",
    "An English-based version of this project can be seen here: [counting-letters-english.ipynb](counting-letters-english.ipynb) A Cree version in Roman orthography (i.e. using English language letters) can be seen here: [counting-letters-cree.ipynb](counting-letters-cree.ipynb)\n"
   ]
  },
  {
   "cell_type": "markdown",
   "id": "4164e73d",
   "metadata": {},
   "source": [
    "## A quick note about dynamical systems\n",
    "\n",
    "A dynamical system is any physical system with moving parts, whether it be complicated like a car engine, or as simple as a ball rolling around on a surface. Physicists, mathematicians and engineers study these systems to design and build high performance machines."
   ]
  },
  {
   "cell_type": "markdown",
   "id": "c808b0b9",
   "metadata": {},
   "source": [
    "![gif](https://media.giphy.com/media/v1.Y2lkPTc5MGI3NjExY2hlNHlhazh6ZGlsYzJlYTMzbHRwenhyd3VrczE3MjFyNmxzcGd0OCZlcD12MV9pbnRlcm5hbF9naWZfYnlfaWQmY3Q9Zw/rcoIoFa5bj464/giphy.gif)\n",
    "via GIPHY"
   ]
  },
  {
   "cell_type": "markdown",
   "id": "8e229c19",
   "metadata": {},
   "source": [
    "## Fixed points\n",
    "\n",
    "A fixed point is a place (or configuration) where the dynamical system naturally stops moving. For instance, when a ball rolls into a valley and stops, this stopping point is called a fixed point. Finding fixed points for a mechanical systems is often key to understanding the physics of that system.\n",
    "\n",
    "## Sentences as dynamical systems\n",
    "\n",
    "We can think of a collection of sentences as the states of a dynamical system, and apply some transformation to a sentence as a way of \"evolving\" the system forward in time, just like a ball rolling forward evolves the physical system of a ball on a hill.\n",
    "\n",
    "For our sentence system, we will take  a generic sentence that mentions numbers and letters, and update the numbers based on how many letters show up in that sentence.\n",
    "\n",
    "## A simple example.\n",
    "\n",
    "Let's start with the sentence\n",
    "> **This sentence has seven e's in it.**\n",
    "\n",
    "Looking at the sentence, we see it doesn't have seven e's in it. It only has six. So we update the sentence to indicate six:\n",
    "> **This sentence has six e's in it.**\n",
    "\n",
    "Now we count and see the sentence has only four e's in it. So we update it again, replacing six with four. Now it says\n",
    "> **This sentence has four e's in it.**\n",
    "\n",
    "Now when we count, we see this sentence really does have four e's in it. AHA! So this sentence is a fixed point in the dynamical system -- if we try to update it, the four will remain as four, and the sentence no longer has to be corrected.\n",
    "\n",
    "So, we have found a fixed point, and this gives us a self-referential sentence. That is, the following sentence accurately describes itself:\n",
    "> **This sentence has four e's in it.**\n",
    "\n",
    "## The problem with cycles\n",
    "\n",
    "Unfortunately, we don't always get to fixed points. The sentences could cycle between two (or more) sentences in a loop and never get to a fixed point. For instance, look at this example:\n",
    "> **This thing has one e in it.**\n",
    "\n",
    "We count and see there are in fact two e's in it. So we update the sentence and get\n",
    "> **This thing has two e's in it.**\n",
    "\n",
    "We count again and see this last sentence has only one e in it. So we update the sentence to get\n",
    "> **This thing has one e in it.**\n",
    "\n",
    "YIKES! We are back at the beginning sentence. So each time we apply the count transformation, the sentence will just alternate between one or two e's in it, and never settle down to a fixed point. \n",
    "\n",
    "Our programming examples below will have to look out for never-ending cycles. \n",
    "\n",
    "## Longer examples\n",
    "\n",
    "We would like to try to find longer self-referential sentences, in the Cree language, using syllabics. We will use the same idea of finding fixed points for sentences with numbers in them, but use computer code to do the calculations for us. \n",
    "\n",
    "First we explain a bit about numbers in the Cree language, and the syllabics writing system."
   ]
  },
  {
   "cell_type": "markdown",
   "id": "d7ee53ac",
   "metadata": {},
   "source": [
    "## The Cree Language\n",
    "\n",
    "First we must learn a bit about numbers in the Cree language.\n",
    "\n",
    "There are over 100,000 people in Canada whose first language is Cree, including several dialects across the country. Information the Cree language across Canada can be found here: https://www.pathoftheelders.com/images/language/Cree%20%E2%80%93%20The%20Peoples%20Language.pdf\n",
    "\n",
    "For a consistent lesson, we follow the text of Jean L. Okimasîs, \"Cree, Language of the Plains.\" Other useful references are the Alberta Elder's Cree language dictionary  in the online resource https://www.creedictionary.com  as well as this online app: https://itwewina.altlab.app/ . More references are listed at the end of this notebook.\n"
   ]
  },
  {
   "cell_type": "markdown",
   "id": "3b7cbe9b",
   "metadata": {},
   "source": [
    "## The Cree alphabet and syllabics\n",
    "\n",
    "In Plains Cree, there are ten consonants (**c, h, k, m, n, p, s, t, w, y**) and seven vowels (**a, â, e, i, î, o, ô**). Six vowels appear as pairs indicating short and long versions (**a, â**), (**i, î**), (**o, ô**) while **e** only appears as one version. Note in some dictionaries, **e** is written as **ê,** the long form of the vowel.\n",
    "\n",
    "#### Note:\n",
    "The little \"hat\" above the vowel is called a **macron** which is a diacritical mark indicating the vowel is in the long form. It can be written as either a circumflex symbol (as here) or a line. Both marks indicate the same thing. The vowel \"e\" is a special case, there is just one form. \n",
    "\n",
    "These seven vowels and nine of the consonants combine to form syllabics. The following chart organizes the syllabics by lining up rows of consonants and columns of vowels. These combine as a \"consonant + vowel\" to give a basic sound like **wa** or **ta**. There is a last column, Finals, representing the sound where a consonant is added at the end of a vowel sound, like **tah** or **taht.** \n",
    "\n",
    "You might like to explore the patterns in this chart -- it is quite beautiful!\n",
    "\n",
    "| Cree Vowels | e | i | î | o | ô | a | â |  |\n",
    "| :---- | :-- | :-- | :-- | :-- | :-- | :-- | :-- | :-- |\n",
    "| Eng. Sound | b**ai**t | b**i**t | b**ea**t | p**u**t | b**oa**t | b**u**t | f**a** | Finals | \n",
    "| Syllabic Vowel | ᐁ | ᐃ | ᐄ | ᐅ | ᐆ | ᐊ | ᐋ | ᐧ (w) |\n",
    "| w | ᐁᐧ | ᐃᐧ | ᐄᐧ | ᐅᐧ | ᐆᐧ | ᐊᐧ | ᐋᐧ | ᐤ (ow) |\n",
    "| p | ᐯ | ᐱ | ᐲ | ᐳ | ᐴ | ᐸ | ᐹ | ᑊ |\n",
    "| t | ᑌ | ᑎ | ᑏ | ᑐ | ᑑ | ᑕ | ᑖ | ᐟ |\n",
    "| k | ᑫ | ᑭ | ᑮ | ᑯ | ᑰ | ᑲ | ᑳ | ᐠ |\n",
    "| c | ᒉ | ᒋ | ᒌ | ᒍ | ᒎ | ᒐ | ᒑ | ᐨ |\n",
    "| m | ᒣ | ᒥ | ᒦ | ᒧ | ᒨ | ᒪ | ᒫ | ᒼ |\n",
    "| n | ᓀ | ᓂ | ᓃ | ᓄ | ᓅ | ᓇ | ᓈ | ᐣ |\n",
    "| s | ᓭ | ᓯ | ᓰ | ᓱ | ᓲ | ᓴ | ᓵ | ᐢ |\n",
    "| y | ᔦ | ᔨ | ᔩ | ᔪ | ᔫ | ᔭ | ᔮ | ᕀ |\n",
    "\n",
    "There are also five additional syllabics, ᓬ ᕒ ᑫᐧ ᐦ ᕁ, representing the sounds l, r, kwe, h and hk.\n",
    "\n",
    "## Syllabics and symbols\n",
    "\n",
    "The syllabics are not the same as the individual symbols in printed Cree. For instance, the Cree word for ten, **mitâtaht**, is made of of three syllables **mi**, **tâ**, **tath**. In syllabics, it is written **ᒥᑖᑕᐦᐟ** where the third syllabic, **ᑕᐦᐟ** consists of the symbol **ᑕ** (ta) with the two finals **ᐦᐟ** (ht) attached. \n",
    "\n",
    "This may cause us a headache in the computer code, because we would need to create special codes for all the syllabics with all possible finals attached. That's too hard!\n",
    "\n",
    "The plan here is to count symbols, as individual characters in a sentence, rather than full syllabics. Apologies...\n",
    "\n"
   ]
  },
  {
   "cell_type": "markdown",
   "id": "ed2ffdf1",
   "metadata": {},
   "source": [
    "## Writing out numbers in Cree\n",
    "\n",
    "We follow the printed text in the book by Okimâsis, writing \"e\" instead of \"ê\"  for consitency. The syllabic forms were found in the online resources https://www.creedictionary.com and https://itwewina.altlab.app/\n",
    "There is also an excellent summary from a video by Arden Ogg and Solomon Ratt, at this web page:\n",
    "[https://creeliteracy.org/2020/03/27/shlc_numbers/](https://creeliteracy.org/2020/03/27/shlc_numbers/\n",
    ").\n",
    "\n",
    "The first ten counting numbers appear as follows:\n",
    "\n",
    "| #  | Cree |Syllabic |\n",
    "| -- | :----| :---- |\n",
    "| 1| peyak | ᐱᔭᐠ |\n",
    "| 2| nîso | ᓃᓱ |\n",
    "| 3| nisto | ᓂᐢᑐ |\n",
    "| 4| newo | ᓀᐅᐧ |\n",
    "| 5| nîyânan | ᓃᔮᓇᐣ |\n",
    "| 6| nikotwâsik | ᓂᑯᑖᐧᓯᐠ |\n",
    "| 7| tepakohp | ᑌᐸᑯᐦᑊ |\n",
    "| 8| ayinânew | ᐊᔨᓈᓀᐤ | \n",
    "| 9| kîkâmitâtaht | ᑮᑳᒥᑖᑕᐦᐟ |\n",
    "|10| mitâtaht | ᒥᑖᑕᐦᐟ |\n",
    "\n",
    "\n",
    "The numbers eleven through nineteen are given by attaching the suffix \"osâp,\" ( ᓵᑊ ) with some minor variations:\n",
    "\n",
    "| #  | Cree |Syllabic |\n",
    "| -- | :----| :---- |\n",
    "|11| peyakosâp | ᐯᔭᑯᓵᑊ |\n",
    "|12| nîsosâp | ᓃᓱᓵᑊ |\n",
    "|13| nistosâp | ᓂᐢᑐᓵᑊ |\n",
    "|14| newohsâp|  ᓀᐅᐧᐦᓵᑊ |\n",
    "|15| nîyânanosâp | ᓃᔮᓇᓄᓵᑊ |\n",
    "|16| nikotwâsosâp | ᓂᑯᑖᐧᓱᓵᑊ |\n",
    "|17| tepakohposâp | ᑌᐸᑯᐦᐳᓵᑊ |\n",
    "|18| ayinânewosâp | ᐊᔦᓈᓀᐅᐧᓵᑊ |\n",
    "|19| kîkâmitâtahtosâp |  ᑮᑳᒥᑖᑕᐦᑐᓵᑊ |\n",
    "\n",
    "The numbers 20, 30, 40, etc are given by adding the suffix \"mitanaw\" ( ᒥᑕᓇᐤ ) to the single digit names above:\n",
    "\n",
    "| #  | Cree |Syllabic |\n",
    "| -- | :----| :---- |\n",
    "| 20 | nîstanaw | ᓃᐢᑕᓇᐤ |\n",
    "| 30 | nistomitanaw | ᓂᐢᑐᒥᑕᓇᐤ |\n",
    "| 40 | nemitanaw| ᓀᒥᑕᓇᐤ |\n",
    "| 50 | nîyânanomitanaw | ᓃᔮᓇᓄᒥᑕᓇᐤ |\n",
    "| 60 | nikotwâsomitanaw | ᓂᑯᑖᐧᓱᒥᑕᓇᐤ |\n",
    "| 70 | tepakohpimitanaw | ᑌᐸᑯᐦᐱᒥᑕᓇᐤ |\n",
    "| 80 | ayinânewomitanaw | ᐊᔨᓈᓀᐅᐧᒥᑕᓇᐤ |\n",
    "| 90 | kîkâmitâtahtomitanaw | ᑮᑳᒥᑖᑕᐦᑐᒥᑕᓇᐤ |\n",
    "\n",
    "\n",
    "To get a compound number like twenty-three, you take the \"20\" word and add the \"teens\" word for 13, to get\n",
    "\n",
    "| #  | Cree |Syllabic |\n",
    "| -- | :----| :---- |\n",
    "| 13 | nistosâp |  ᓂᐢᑐᓵᑊ |\n",
    "| 20 | nîstanaw |  ᓃᐢᑕᓇᐤ |\n",
    "| 23 | nîstanaw nistosâp |  ᓃᐢᑕᓇᐤ      ᓂᐢᑐᓵᑊ |\n",
    "\n",
    "Finally, when you are counting \"things\" like berries (mînisihkân,  ᒦᓂᓯᐦᑳᐣ ) you add a \"wâw\" ( ᐹᐧᐤ ) to the number word in Cree. For instance:\n",
    "\n",
    "| #  | Cree |Syllabic |\n",
    "| -- | :----| :---- |\n",
    "| 20 berries | nîstanawâw mînisihkân | ᓃᐢᑕᓄᐋᐧᐤ ᒦᓂᓯᐦᑳᐣ |\n",
    "| 23 berries | nîstanaw nistosâpwâw mînisihkân | ᓃᐢᑕᓇᐤ ᓂᐢᑐᓵᐹᐧᐤ  ᒦᓂᓯᐦᑳᐣ |"
   ]
  },
  {
   "cell_type": "markdown",
   "id": "7973e5e2",
   "metadata": {},
   "source": [
    "## Outline for the code\n",
    "\n",
    "There are several steps to explore:\n",
    "\n",
    "1. Build two dictionaries in Cree syllabics, for numbers and number of things.\n",
    "2. Write a function to turn a numerical value into a Cree word. \n",
    "3. Test the functions to see that they gives correct words for numbers.\n",
    "4. Create a list of the syllabic symbols in Cree, and a dictionary to count how many times they occur in a sentence.\n",
    "5. Build a sentence in Cree syllabics, using this functions to count letters. \n",
    "6. Test the sentence-building code. \n",
    "7. Create a loop in code to look for a fixed point -- the correct self-referential sentene. \n",
    "8. If this fails, try a shorter sentence that counts fewer symbols.  "
   ]
  },
  {
   "cell_type": "markdown",
   "id": "85b8db33",
   "metadata": {},
   "source": [
    "## 1. Cree dictionaries in Python\n",
    "\n",
    "We assemble this information a couple of Python dictionaries that the code will refer to when building the Cree sentence with numbers. "
   ]
  },
  {
   "cell_type": "code",
   "execution_count": null,
   "id": "6c231772",
   "metadata": {},
   "outputs": [],
   "source": [
    "# Numbers in Cree Syllabics\n",
    "\n",
    "syll_nums = {0:\"ᒪ ᑮᑲᐧᕀ\",1:\"ᐱᔭᐠ\", 2:\"ᓃᓱ\", 3:\"ᓂᐢᑐ\", 4:\"ᓀᐅᐧ\", 5:\"ᓃᔮᓇᐣ\",\n",
    "             6:\"ᓂᑯᑖᐧᓯᐠ\", 7:\"ᑌᐸᑯᐦᑊ\", 8:\"ᐊᔨᓈᓀᐤ\", 9:\"ᑮᑳᒥᑖᑕᐦᐟ\", 10:\"ᒥᑖᑕᐦᐟ\",\n",
    "            11:\"ᐯᔭᑯᓵᑊ\", 12:\"ᓃᓱᓵᑊ\", 13:\"ᓂᐢᑐᓵᑊ\", 14:\"ᓀᐅᐧᐦᓵᑊ\", 15:\"ᓃᔮᓇᓄᓵᑊ\",\n",
    "            16:\"ᓂᑯᑖᐧᓱᓵᑊ\", 17:\"ᑌᐸᑯᐦᐳᓵᑊ\", 18:\"ᐊᔦᓈᓀᐅᐧᓵᑊ\", 19:\"ᑮᑳᒥᑖᑕᐦᑐᓵᑊ\",\n",
    "            20:\"ᓃᐢᑕᓇᐤ\", 30:\"ᓂᐢᑐᒥᑕᓇᐤ\", 40:\"ᓀᒥᑕᓇᐤ\",50:\"ᓃᔮᓇᓄᒥᑕᓇᐤ\",\n",
    "            60:\"ᓂᑯᑖᐧᓱᒥᑕᓇᐤ\", 70:\"ᑌᐸᑯᐦᐱᒥᑕᓇᐤ\", 80:\"ᐊᔨᓈᓀᐅᐧᒥᑕᓇᐤ\",\n",
    "            90:\"ᑮᑳᒥᑖᑕᐦᑐᒥᑕᓇᐤ\"}\n",
    "\n",
    "# Number of things, in Syllabics\n",
    "syll_num_of = {0:\"ᓇᒫᑮᑲᐧᐤ\", 1:\"ᐯᔭᑳᐧᐤ\", 2:\"ᓃᓵᐧᐤ\", 3:\"ᓂᐢᑖᐧᐤ\", 4:\"ᓀᐋᐧᐤ\", 5:\"ᓃᔮᓇᓈᐧᐤ\",\n",
    "             6:\"ᓂᑯᑐᐋᐧᓯᑳᐧᐤ\", 7:\"ᑌᐸᑯᐦᐹᐧᐤ\", 8:\"ᐊᔨᓈᓀᐋᐧᐤ\", 9:\"ᑮᑳᒥᑕᑕᐦᑖᐧᐤ\", 10:\"ᒥᑖᑕᐦᑖᐧᐤ\",\n",
    "            11:\"ᐯᔭᑯᓵᐱᐋᐧᐤ\", 12:\"ᓃᓱᓵᐹᐧᐤ\", 13:\"ᓂᐢᑐᓵᐹᐧᐤ\", 14:\"ᓀᐅᐧᓵᐹᐧᐤ\", 15:\"ᓃᔮᓇᓄᓵᐹᐧᐤ\",\n",
    "            16:\"ᓂᑯᑖᐧᓱᓵᐹᐧᐤ\", 17:\"ᑌᐸᑯᐦᐳᓵᐹᐧᐤ\", 18:\"ᐊᔨᓈᓀᐅᐧᓵᐹᐧᐤ\", 19:\"ᑮᑳᒥᑕᐦᑕᑐᓵᐹᐤ\",\n",
    "            20:\"ᓃᐢᑕᓄᐋᐧᐤ\", 30:\"ᓂᐢᑐᒥᑕᓇᐋᐧᐤ\", 40:\"ᓀᒥᑕᓇᐋᐧᐤ\",50:\"ᓃᔮᓇᓄᒥᑕᓇᐋᐧᐤ\",\n",
    "            60:\"ᓂᑯᑖᐧᓱᒥᑕᓇᐤ\", 70:\"ᑌᐸᑯᐦᐱᒥᑕᓇᐋᐧᐤ\", 80:\"ᐊᔨᓈᓀᐅᐧᒥᑕᓇᐋᐧᐤ\",\n",
    "            90:\"ᑮᑳᒥᑖᑕᐦᑐᒥᑕᓇᐋᐧᐤ\"}"
   ]
  },
  {
   "cell_type": "markdown",
   "id": "4aaae866",
   "metadata": {},
   "source": [
    "## 2.  A function to turn a numerical value into a Cree word.\n",
    "\n",
    "The code has special cases for numbers smaller than twenty, and for round numbers like 20, 30, 40, etc. "
   ]
  },
  {
   "cell_type": "code",
   "execution_count": null,
   "id": "b12d3d9c",
   "metadata": {},
   "outputs": [],
   "source": [
    "\"\"\"Given a positive integer less than 100, print it in Cree syllabics.\"\"\"\n",
    "def int_to_syll(num):\n",
    "\n",
    "    assert(0 <= num)\n",
    "\n",
    "    if (num < 20):\n",
    "        return syll_num_of[num]\n",
    "\n",
    "    if (num < 100):\n",
    "        if num % 10 == 0: return syll_num_of[num]\n",
    "        else: return syll_nums[(num // 10) * 10] + ' ' + syll_num_of[(num % 10)+10]\n",
    "\n",
    "    return ' ᒥᒉᑖᐧᐤ'  ## micetwâw means \"many,\" for when we have more than 100 items"
   ]
  },
  {
   "cell_type": "markdown",
   "id": "ce24327b",
   "metadata": {},
   "source": [
    "## 3. Test\n",
    "\n",
    "Let's try out a few numbers in Cree."
   ]
  },
  {
   "cell_type": "code",
   "execution_count": null,
   "id": "8c0599c5",
   "metadata": {},
   "outputs": [],
   "source": [
    "## here is a sample to test it\n",
    "print( 5,': ' + int_to_syll(5), 28, ': ' + int_to_syll(28), 45, ': ' + int_to_syll(45) )"
   ]
  },
  {
   "cell_type": "markdown",
   "id": "18d5d3c8",
   "metadata": {},
   "source": [
    "## 4. A list of syllablic symbols in Cree\n",
    "\n",
    "We will create a list of symbols that occur in the syllabics of Cree, and use it to keep count of how many times they appear in a sentence. \n",
    "\n",
    "We are avoiding the **' w '** syllabics because they are represented by two symbols together, like **' ᐁᐧ '**, which is an issue in the computer's Unicode format. There is no easy way around this problem, so to keep the code simple we just avoid it. We also avoid using the final syllabics.\n",
    "\n",
    "Maybe you would like to try modifying the code to deal with these issues."
   ]
  },
  {
   "cell_type": "code",
   "execution_count": null,
   "id": "b656ad31",
   "metadata": {},
   "outputs": [],
   "source": [
    "vowel_syll = \"ᐁᐃᐄᐅᐆᐊᐋ\"  # the basic vowels\n",
    "p_syll = \"ᐯᐱᐲᐳᐴᐸᐹ\"  # The consonant-vowel combinations\n",
    "t_syll = \"ᑌᑎᑏᑑᑕᑖ\"\n",
    "k_syll = \"ᑫᑭᑮᑯᑰᑲᑳ\"\n",
    "c_syll = \"ᒉᒋᒌᒍᒎᒐᒑ\"\n",
    "m_syll = \"ᒣᒥᒦᒧᒨᒪᒫ\"\n",
    "n_syll = \"ᓀᓂᓃᓄᓅᓇᓈ\"\n",
    "s_syll = \"ᓭᓯᓰᓱᓲᓴᓵ\"\n",
    "y_syll = \"ᔦᔨᔩᔪᔫᔭᔮ\"\n",
    "final_syll =\"ᐧᐤᑊᐟᐠᐨᒼᐣᐢᕀᐦᕁᓬᕒ\"  # the final symbols\n",
    "\n",
    "cree_syll = vowel_syll + p_syll + k_syll + c_syll + \\\n",
    "    m_syll + n_syll + s_syll + y_syll "
   ]
  },
  {
   "cell_type": "code",
   "execution_count": null,
   "id": "1c6723cc",
   "metadata": {},
   "outputs": [],
   "source": [
    "## Let's see how many symbols we have. \n",
    "len(cree_syll)"
   ]
  },
  {
   "cell_type": "code",
   "execution_count": null,
   "id": "f3214de9",
   "metadata": {},
   "outputs": [],
   "source": [
    "# Now we create the dictionary to count the letters (syllbaics in this case)\n",
    "counts = dict ()\n",
    "letters = cree_syll\n",
    "for L in range(len(letters)):\n",
    "    counts[letters[L]] = 0\n",
    "print(counts)"
   ]
  },
  {
   "cell_type": "markdown",
   "id": "ad42d887",
   "metadata": {},
   "source": [
    "## 5. Build a sentence in Cree syllabics\n",
    "\n",
    "We follow Professor Doolittle's model sentence, \n",
    "```\n",
    "Mekwâc e-ayamihtâyan ôma, nîsitanaw ayenânewosâpwâw kika-wâpahten ôma \"a\" masinipehikanis,\n",
    "nîsitanaw peyakosâpwâw \"â\", ..., ekwa nîsitanawâw \"y.\"\n",
    "```\n",
    "In syllabics, \n",
    "```\n",
    "ᒣᑳᐧᐨ  ᐁ ᐊᔭᒥᐦᑖᔭᐣ  ᐆᒪ,  ᓃᓯᑕᓇᐤ  ᐊᔨᓈᓀᐅᐧᓵᐹᐧᐤ  ᑭᑲ ᐋᐧᐸᐦᑌᐣ  ᐆᒪ  \"ᐊ\"  ᒪᓯᓂᐯᐦᐃᑲᓂᐢ,\n",
    "ᓃᓯᑕᓇᐤ  ᐯᔭᑯᓵᐹᐧᐤ  \"ᐋ\", ..., ᐁᑲᐧ  ᓃᓯᑕᓇᐋᐧᐤ  \"y.\"\n",
    "```\n",
    "\n",
    "This translates as:\n",
    "```\n",
    "Right now as you read this, you will see 28 a's written, 21 â's, ..., and 20 y's.\n",
    "```\n",
    "\n",
    "We create a function to build this sentence, using the **counts** dictionary above to generate the numbers that go into the sentence. To get the grammar correct, we treat the first and last symbols **a** and **y** as special cases. \n",
    "\n",
    "We have a second function, build_sentence_num, that repeats the sentence with the numbers expresses as digits."
   ]
  },
  {
   "cell_type": "code",
   "execution_count": null,
   "id": "b84ff126",
   "metadata": {},
   "outputs": [],
   "source": [
    "# The first and last symbols ᐊ,ᔭ are handled differently, to get the grammar correct.\n",
    "def build_sentence():\n",
    "    s = 'ᒣᑳᐧᐨ  ᐁ ᐊᔭᒥᐦᑖᔭᐣ  ᐆᒪ, '\n",
    "    s += f' {int_to_syll(counts[\"ᐊ\"])} ᑭᑲ ᐋᐧᐸᐦᑌᐣ  ᐆᒪ  \"ᐊ\"  ᒪᓯᓂᐯᐦᐃᑲᓂᐢ, \\n' ## letter ᐊ\n",
    "    for letter, value in counts.items():\n",
    "        if not (letter=='ᐊ' or letter=='ᔭ' or value == 0):  ## symbols ᐊ and ᔭ are handled elsewhere\n",
    "            s+= f' {int_to_syll(value)} \"{letter}\", ' \n",
    "    s += f'ᐁᑲᐧ {int_to_syll(counts[\"ᔭ\"])} \"ᔭ\".'  ## symbol ᔭ handled here\n",
    "    return s\n",
    "\n",
    "# Write the sentence with digits for numbers (not words), for error checking. \n",
    "def build_sentence_num():\n",
    "    s = 'ᒣᑳᐧᐨ  ᐁ ᐊᔭᒥᐦᑖᔭᐣ  ᐆᒪ, '\n",
    "    s += f' {counts[\"ᐊ\"]} ᑭᑲ ᐋᐧᐸᐦᑌᐣ  ᐆᒪ  \"ᐊ\"  ᒪᓯᓂᐯᐦᐃᑲᓂᐢ, \\n' ## letter ᐊ\n",
    "    for letter, value in counts.items():\n",
    "        if not (letter=='ᐊ' or letter=='ᔭ' or value == 0):  ## symbols ᐊ and ᔭ are handled elsewhere\n",
    "            s+= f' {value} \"{letter}\", ' \n",
    "    s += f'ᐁᑲᐧ {counts[\"ᔭ\"]} \"ᔭ\".'  ## symbol ᔭ handled here\n",
    "    return s\n",
    "\n",
    "# A useful function to remove letters that only show up once. \n",
    "def trim_counts():\n",
    "    for letter, value in counts.items():\n",
    "        if value == 1:\n",
    "            counts[letter] = 0\n",
    "\n",
    "## Another way to trim the counts\n",
    "## If a letter only shows up in quotation marks, then we don't need it in the sentence.\n",
    "## So we trim it. \n",
    "def trim_counts_2(s):\n",
    "    for letter, value in counts.items():\n",
    "        if s.count(letter) == s.count('\"'+letter+'\"'):\n",
    "            counts[letter] = 0"
   ]
  },
  {
   "cell_type": "markdown",
   "id": "a5ff3878",
   "metadata": {},
   "source": [
    "## 6. Test the code\n",
    "\n",
    "Let's try building a sentence using the functions above.\n",
    "\n",
    "As we are just learning Cree syllabics, let's print out two versions of the sentence, one with Cree syllabics only, and a second one where the numbers are written as digits. This makes checking easier. "
   ]
  },
  {
   "cell_type": "code",
   "execution_count": null,
   "id": "b0175bf1",
   "metadata": {},
   "outputs": [],
   "source": [
    "## Test the build_sentence_cree function\n",
    "print(build_sentence())\n",
    "print(\"\\n\")\n",
    "print(build_sentence_num())"
   ]
  },
  {
   "cell_type": "markdown",
   "id": "d6176106",
   "metadata": {},
   "source": [
    "## More testing\n",
    "\n",
    "Let's build a few sentences and count letters. We also try trimming the sentences, removing symbols that only appear once. "
   ]
  },
  {
   "cell_type": "code",
   "execution_count": null,
   "id": "47cf60af",
   "metadata": {},
   "outputs": [],
   "source": [
    "s=build_sentence()\n",
    "s"
   ]
  },
  {
   "cell_type": "code",
   "execution_count": null,
   "id": "6516df94",
   "metadata": {},
   "outputs": [],
   "source": [
    "## Let's try counting letters and update the sentence\n",
    "s = build_sentence()\n",
    "for letter in counts.keys():\n",
    "    counts[letter] = s.count(letter)\n",
    "\n",
    "print(build_sentence())\n",
    "print(\"\\n\")\n",
    "print(build_sentence_num())"
   ]
  },
  {
   "cell_type": "code",
   "execution_count": null,
   "id": "f8e5fd42",
   "metadata": {},
   "outputs": [],
   "source": [
    "trim_counts_2(s)\n",
    "print(counts)"
   ]
  },
  {
   "cell_type": "code",
   "execution_count": null,
   "id": "62b06b66",
   "metadata": {},
   "outputs": [],
   "source": [
    "print(build_sentence())\n",
    "print(\"\\n\")\n",
    "print(build_sentence_num())"
   ]
  },
  {
   "cell_type": "markdown",
   "id": "26e25acd",
   "metadata": {},
   "source": [
    "## 7. The loop\n",
    "\n",
    "Now we create a function to build a sentence, then update its letter count over and over in a loop. \n",
    "\n",
    "If we get stuck in a cycle, randomize the count and begin again."
   ]
  },
  {
   "cell_type": "code",
   "execution_count": null,
   "id": "1066f2c4",
   "metadata": {},
   "outputs": [],
   "source": [
    "from random import randrange\n",
    "\n",
    "def randomize(): ## randomly change the counts up or down, but always non-negative.\n",
    "    for letter in letters:\n",
    "        counts[letter] = max(1,counts[letter]+randrange(-5,5))\n",
    "\n",
    "def my_loop():\n",
    "    for i in range(500):\n",
    "        s = build_sentence()\n",
    "        for k in range(1000):\n",
    "            for letter in counts.keys():\n",
    "                counts[letter] = s.lower().count(letter) \n",
    "            new_s = build_sentence()\n",
    "            if new_s == s:\n",
    "                print(\"solution at i,k = \", i,k, \"\\n\",s)\n",
    "                return\n",
    "            s = new_s\n",
    "        randomize()\n",
    "        trim_counts_2(s)\n",
    "    print(\"No solution found.\")"
   ]
  },
  {
   "cell_type": "markdown",
   "id": "d445df9b",
   "metadata": {},
   "source": [
    "## Try it\n",
    "\n",
    "Let's run the loop. Run the following cell, which sets up the list of Cree syllabic symbols, rebuilds the dictionary, then runs the loop. \n",
    "\n",
    "It may or may not give you an answer, depending on whether a fixed point can be found. You may have to wait a minute or so for an answer."
   ]
  },
  {
   "cell_type": "code",
   "execution_count": null,
   "id": "5a3d1a40",
   "metadata": {},
   "outputs": [],
   "source": [
    "cree_syll = vowel_syll + p_syll + k_syll + c_syll + \\\n",
    "    m_syll + n_syll + s_syll + y_syll \n",
    "\n",
    "counts = dict ()\n",
    "letters = cree_syll\n",
    "for L in range(len(letters)):\n",
    "    counts[letters[L]] = 0\n",
    "\n",
    "my_loop()"
   ]
  },
  {
   "cell_type": "code",
   "execution_count": null,
   "id": "7e822fa6",
   "metadata": {},
   "outputs": [],
   "source": [
    "print(counts)"
   ]
  },
  {
   "cell_type": "markdown",
   "id": "e3bf7077",
   "metadata": {},
   "source": [
    "## 8. An easier example\n",
    "\n",
    "The above example may not give a solution for you. We can do an easier problem, by using a short list of letters. Let's try the seven vowels and a few consonants. \n",
    "\n",
    "Let's try this combination: vowel_syll, p_syll, t_syll, k_syll, m_syll, s_syll, y_syll\n",
    "\n",
    "You might try other combinations, by remember to include the vowel_syll and y_syll as they are treated as special cases in our case. "
   ]
  },
  {
   "cell_type": "code",
   "execution_count": null,
   "id": "4fd5a6c7",
   "metadata": {},
   "outputs": [],
   "source": [
    "# A subset of the Cree syllabics\n",
    "letters = vowel_syll + p_syll + t_syll + k_syll + m_syll + s_syll + y_syll\n",
    "\n",
    "# Now we create the dictionary to count the symbols\n",
    "counts = dict()\n",
    "for letter in letters:\n",
    "    counts[letter] = 1\n",
    "    \n",
    "## Now run the code, and check the count.\n",
    "\n",
    "my_loop()\n",
    "print(\"\\n Counts are: \\n\")\n",
    "print(counts)"
   ]
  },
  {
   "cell_type": "markdown",
   "id": "69519786",
   "metadata": {},
   "source": [
    "### Did it work?\n",
    "\n",
    "If it did not give you a solution, try running the previous cell again. It is a random process, so sometimes it works and sometimes it doesn't. Try several times until you get an answer. A successful run is shown below.\n"
   ]
  },
  {
   "cell_type": "markdown",
   "id": "a0cde3b8",
   "metadata": {},
   "source": [
    "### Here is an example of a successful run.\n",
    "\n",
    "solution at i,k =  26 93 \n",
    "\n",
    " ᒣᑳᐧᐨ  ᐁ ᐊᔭᒥᐦᑖᔭᐣ  ᐆᒪ,  ᓀᐋᐧᐤ ᑭᑲ ᐋᐧᐸᐦᑌᐣ  ᐆᒪ  \"ᐊ\"  ᒪᓯᓂᐯᐦᐃᑲᓂᐢ, \n",
    " ᓂᐢᑖᐧᐤ \"ᐁ\",  ᓃᓵᐧᐤ \"ᐃ\",  ᐯᔭᑳᐧᐤ \"ᐅ\",  ᓂᐢᑖᐧᐤ \"ᐆ\",  ᐯᔭᑯᓵᐱᐋᐧᐤ \"ᐋ\",  ᑌᐸᑯᐦᐹᐧᐤ \"ᐯ\",  ᓃᓵᐧᐤ \"ᐱ\",  ᐯᔭᑳᐧᐤ \"ᐳ\",  ᓀᐋᐧᐤ \"ᐸ\",  ᓂᐢᑖᐧᐤ \"ᐹ\",  ᓀᐋᐧᐤ \"ᑌ\",  ᓂᐢᑖᐧᐤ \"ᑕ\",  ᑮᑳᒥᑕᑕᐦᑖᐧᐤ \"ᑖ\",  ᓃᓵᐧᐤ \"ᑭ\",  ᓃᓵᐧᐤ \"ᑮ\",  ᓀᐋᐧᐤ \"ᑯ\",  ᓀᐋᐧᐤ \"ᑲ\",  ᑌᐸᑯᐦᐹᐧᐤ \"ᑳ\",  ᓃᓵᐧᐤ \"ᒣ\",  ᓂᐢᑖᐧᐤ \"ᒥ\",  ᓀᐋᐧᐤ \"ᒪ\",  ᓃᓵᐧᐤ \"ᓯ\",  ᐯᔭᑳᐧᐤ \"ᓱ\",  ᐊᔨᓈᓀᐋᐧᐤ \"ᓵ\",  ᓂᐢᑖᐧᐤ \"ᔨ\",  ᐯᔭᑳᐧᐤ \"ᔮ\", ᐁᑲᐧ ᐊᔨᓈᓀᐋᐧᐤ \"ᔭ\".\n",
    "\n",
    "Counts are: \n",
    "\n",
    "{'ᐁ': 3, 'ᐃ': 2, 'ᐄ': 0, 'ᐅ': 1, 'ᐆ': 3, 'ᐊ': 4, 'ᐋ': 11, 'ᐯ': 7, 'ᐱ': 2, 'ᐲ': 0, 'ᐳ': 1, 'ᐴ': 0, 'ᐸ': 4, 'ᐹ': 3, 'ᑌ': 4, 'ᑎ': 0, 'ᑏ': 0, 'ᑑ': 0, 'ᑕ': 3, 'ᑖ': 9, 'ᑫ': 0, 'ᑭ': 2, 'ᑮ': 2, 'ᑯ': 4, 'ᑰ': 0, 'ᑲ': 4, 'ᑳ': 7, 'ᒣ': 2, 'ᒥ': 3, 'ᒦ': 0, 'ᒧ': 0, 'ᒨ': 0, 'ᒪ': 4, 'ᒫ': 0, 'ᓭ': 0, 'ᓯ': 2, 'ᓰ': 0, 'ᓱ': 1, 'ᓲ': 0, 'ᓴ': 0, 'ᓵ': 8, 'ᔦ': 0, 'ᔨ': 3, 'ᔩ': 0, 'ᔪ': 0, 'ᔫ': 0, 'ᔭ': 8, 'ᔮ': 1}"
   ]
  },
  {
   "cell_type": "markdown",
   "id": "d1e4058a",
   "metadata": {},
   "source": [
    "## Going further\n",
    "\n",
    "1. Try using a shorter or longer list of symbols. Can you successfully generate a solution?\n",
    "2. Could you modify this code for a different dialect of Cree?\n",
    "3. Can you modify this code for a different language? "
   ]
  },
  {
   "cell_type": "markdown",
   "id": "9c2a16b1",
   "metadata": {},
   "source": [
    "## References in Cree\n",
    "\n",
    "We used a number of references, both printed and online, to learn about the Cree language (nēhiyawēwin).\n",
    "\n",
    "1. Cree, Language of the Plains (nēhiyawēwin, paskwāwi-pīkiskwēwin), by Jean L. Okimāsis. Also available online as an open text resource of the University of Regina. https://ourspace.uregina.ca/server/api/core/bitstreams/e6c7d081-f286-42a4-896c-2b91fc27c47b/content\n",
    "2. Online Cree Dictionary: https://www.creedictionary.com\n",
    "3. itwêwina, Plains Cree Dictionary:\n",
    "https://itwewina.altlab.app/\n",
    "4. Cree Dictionary of Mathematical Terms with Visual Examples, by Arden Ogg. https://creeliteracy.org/2022/09/13/cree-dictionary-of-mathematical-terms-with-visual-examples/\n",
    "5. Stay home, learn Cree: Numbers, by Arden Ogg. https://creeliteracy.org/2020/03/27/shlc_numbers/\n",
    "\n",
    "We also acknowledge and thank Professors Ida Swan and Edward Doolittle for their assistance with the Cree langauge details in this notebook."
   ]
  },
  {
   "cell_type": "markdown",
   "id": "2e99f69f",
   "metadata": {},
   "source": [
    "## Summary\n",
    "\n",
    "We have learned a bit about the Cree language and its alphabet (syllabics) as well as its number system. \n",
    "\n",
    "We learned how to make a self-referencial sentence in Cree by using a loop that looks for a fixed-point in the set of sentences of a certain counting structure. \n",
    "\n",
    "This approach could work with other languages as well. "
   ]
  },
  {
   "cell_type": "markdown",
   "id": "6e00c864",
   "metadata": {},
   "source": [
    "[![Callysto.ca License](https://github.com/callysto/curriculum-notebooks/blob/master/callysto-notebook-banner-bottom.jpg?raw=true)](https://github.com/callysto/curriculum-notebooks/blob/master/LICENSE.md)"
   ]
  }
 ],
 "metadata": {
  "kernelspec": {
   "display_name": "Python 3 (ipykernel)",
   "language": "python",
   "name": "python3"
  },
  "language_info": {
   "codemirror_mode": {
    "name": "ipython",
    "version": 3
   },
   "file_extension": ".py",
   "mimetype": "text/x-python",
   "name": "python",
   "nbconvert_exporter": "python",
   "pygments_lexer": "ipython3",
   "version": "3.9.13"
  }
 },
 "nbformat": 4,
 "nbformat_minor": 5
}
