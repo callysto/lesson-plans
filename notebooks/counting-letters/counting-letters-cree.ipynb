{
 "cells": [
  {
   "cell_type": "markdown",
   "id": "0ee8eab1",
   "metadata": {},
   "source": [
    "![Callysto.ca Banner](https://github.com/callysto/curriculum-notebooks/blob/master/callysto-notebook-banner-top.jpg?raw=true)"
   ]
  },
  {
   "cell_type": "markdown",
   "id": "1c5223a8",
   "metadata": {},
   "source": [
    "# Self-referential sentences in Cree (nehiyawewin)\n",
    "\n",
    "With credit to Dr. Ed Doolittle, Professor of Mathematics at First Nations University, for originating this work. \n",
    "\n",
    "See the following video to learn more about his work:"
   ]
  },
  {
   "cell_type": "markdown",
   "id": "dfa3bf76",
   "metadata": {},
   "source": [
    "[![Watch the video](https://img.youtube.com/vi/wZ-ctdoj_mM/default.jpg)](https://youtu.be/wZ-ctdoj_mM)"
   ]
  },
  {
   "cell_type": "markdown",
   "id": "2a1bf03e",
   "metadata": {},
   "source": [
    "## Introduction\n",
    "\n",
    "We are interested in creating self-referential sentences like the following:\n",
    "- **This sentence has four e’s in it.**\n",
    "- **This sentence has five e’s in it.**\n",
    "\n",
    "Both these sentences are true, as the count (four, five) matches the actual number of e's in the sentence. However, the sentence \n",
    "- \"**This sentence has six e’s in it**\" \n",
    "\n",
    "is false. It does not have six e's. \n",
    "\n",
    "In the Cree language (nehiyawewin), we can get a self-referential sentence like this:\n",
    "\n",
    "```\n",
    "Mekwâc e-ayamihtâyan ôma, niyânanwâw kika-wâpahten ôma e masinipehikanis.\n",
    "```\n",
    "\n",
    "This translates as:\n",
    "```\n",
    "Right now as you read this, you will see five e's written.\n",
    "```\n",
    "\n",
    "We want to create some Python code to make a sentence that tells you how many of each letter it has, and get the count correct. This is tricky, because the numbers in the sentence are made up of letters, and you don't know in advance how many letters there will be in the completed sentence!\n",
    "\n",
    "The idea is to treat the sentence as an object that gets transformed by the code, based on the count of letters in the sentence. As you update the sentence, you then update the count of letters. Hopefully the updates finally converge to a correct sentence.  This is called a **fixed point** in the set of sentences, under this transformation.\n",
    "\n",
    "Looking for fixed points in a dynamical system is an important topic in pure and applied mathematics. It is interesting to see it show up in languages as well. \n",
    "\n",
    "An English-based version of this project can be seen here: [counting-letters-english.ipynb](counting-letters-english.ipynb)"
   ]
  },
  {
   "cell_type": "markdown",
   "id": "30498718",
   "metadata": {},
   "source": [
    "## A quick note about dynamical systems\n",
    "\n",
    "A dynamical system is any physical system with moving parts, whether it be complicated like a car engine, or as simple as a ball rolling around on a surface. Physicists, mathematicians and engineers study these systems to design and build high performance machines."
   ]
  },
  {
   "cell_type": "markdown",
   "id": "7bd04057",
   "metadata": {},
   "source": [
    "![gif](https://media.giphy.com/media/v1.Y2lkPTc5MGI3NjExY2hlNHlhazh6ZGlsYzJlYTMzbHRwenhyd3VrczE3MjFyNmxzcGd0OCZlcD12MV9pbnRlcm5hbF9naWZfYnlfaWQmY3Q9Zw/rcoIoFa5bj464/giphy.gif)\n",
    "via GIPHY"
   ]
  },
  {
   "cell_type": "markdown",
   "id": "52bb8da4",
   "metadata": {},
   "source": [
    "## Fixed points\n",
    "\n",
    "A fixed point is a place (or configuration) where the dynamical system naturally stops moving. For instance, when a ball rolls into a valley and stops, this stopping point is called a fixed point. Finding fixed points for a mechanical systems is often key to understanding the physics of that system.\n",
    "\n",
    "## Sentences as dynamical systems\n",
    "\n",
    "We can think of a collection of sentences as the states of a dynamical system, and apply some transformation to a sentence as a way of \"evolving\" the system forward in time, just like a ball rolling forward evolves the physical system of a ball on a hill.\n",
    "\n",
    "For our sentence system, we will take  a generic sentence that mentions numbers and letters, and update the numbers based on how many letters show up in that sentence.\n",
    "\n",
    "## A simple example.\n",
    "\n",
    "Let's start with the sentence\n",
    "> **This sentence has seven e's in it.**\n",
    "\n",
    "Looking at the sentence, we see it doesn't have seven e's in it. It only has six. So we update the sentence to indicate six:\n",
    "> **This sentence has six e's in it.**\n",
    "\n",
    "Now we count and see the sentence has only four e's in it. So we update it again, replacing six with four. Now it says\n",
    "> **This sentence has four e's in it.**\n",
    "\n",
    "Now when we count, we see this sentence really does have four e's in it. AHA! So this sentence is a fixed point in the dynamical system -- if we try to update it, the four will remain as four, and the sentence no longer has to be corrected.\n",
    "\n",
    "So, we have found a fixed point, and this gives us a self-referential sentence. That is, the following sentence accurately describes itself:\n",
    "> **This sentence has four e's in it.**\n",
    "\n",
    "## The problem with cycles\n",
    "\n",
    "Unfortunately, we don't always get to fixed points. The sentences could cycle between two (or more) sentences in a loop and never get to a fixed point. For instance, look at this example:\n",
    "> **This thing has one e in it.**\n",
    "\n",
    "We count and see there are in fact two e's in it. So we update the sentence and get\n",
    "> **This thing has two e's in it.**\n",
    "\n",
    "We count again and see this last sentence has only one e in it. So we update the sentence to get\n",
    "> **This thing has one e in it.**\n",
    "\n",
    "YIKES! We are back at the beginning sentence. So each time we apply the count transformation, the sentence will just alternate between one or two e's in it, and never settle down to a fixed point. \n",
    "\n",
    "Our programming examples below will have to look out for never-ending cycles. \n",
    "\n",
    "## Longer examples\n",
    "\n",
    "We would like to try to find longer self-referential sentences. We will use the same idea of finding fixed points for sentences with numbers in them, but use computer code to do the calculations for us. \n",
    "\n"
   ]
  },
  {
   "cell_type": "markdown",
   "id": "d7ee53ac",
   "metadata": {},
   "source": [
    "## The Cree Language\n",
    "\n",
    "First we must learn a bit about numbers in the Cree language.\n",
    "\n",
    "There are over 100,000 people in Canada whose first language is Cree, including several dialects across the country. Information the Cree language across Canada can be found here: https://www.pathoftheelders.com/images/language/Cree%20%E2%80%93%20The%20Peoples%20Language.pdf\n",
    "\n",
    "For a consistent lesson, we follow the text of Jean L. Okimasîs, \"Cree, Language of the Plains.\" Other useful references are the Alberta Elder's Cree language dictionary  in the online resource https://www.creedictionary.com  as well as this online app: https://itwewina.altlab.app/ . More references are listed at the end of this notebook.\n"
   ]
  },
  {
   "cell_type": "markdown",
   "id": "ed2ffdf1",
   "metadata": {},
   "source": [
    "## The Cree alphabet\n",
    "\n",
    "In Cree, there are ten consonants (c, h, k, m, n, p, s, t, w, y) and seven vowels (a, â, e, i, î, o, ô). Six vowels appear as pairs indicating short and long versions (a, â), (i, î), (o, ô) while \"e\" only appears as one version. Note in some dictionaries, \"e\" is written as \"ê,\" the long form of the vowel, but it seems to represents the same sound. So, seven vowel sounds in total.\n",
    "\n",
    "#### Note:\n",
    "The little \"hat\" above the vowel is called a **macron** which is a diacritical mark indicating the vowel is in the long form. It can be written as either a circumflex symbol (as here) or a line. Both marks indicate the same thing. The vowel \"e\" is a special case, there is just one form. \n",
    "\n",
    "## Writing out numbers in Cree\n",
    "\n",
    "We follow the printed text in the book by Okimâsis, writing \"e\" instead of \"ê\"  for consitency. Note there is also an excellent summary from a video by Arden Ogg and Solomon Ratt, at this web page:\n",
    "[https://creeliteracy.org/2020/03/27/shlc_numbers/](https://creeliteracy.org/2020/03/27/shlc_numbers/\n",
    ").\n",
    "\n",
    "The first ten counting numbers appear as follows:\n",
    "\n",
    "| #  | Cree |\n",
    "| -- | :----|\n",
    "| 1 | peyak |\n",
    "| 2 | nîso  |\n",
    "| 3 | nisto |\n",
    "| 4 | newo  |\n",
    "| 5 | niyânan |\n",
    "| 6 | nikotwâsik |\n",
    "| 7 | tepakohp |\n",
    "| 8 | ayenânew |\n",
    "| 9 | kekâ-mitâtaht |\n",
    "|10 | mitâtaht |\n",
    "\n",
    "The numbers eleven through nineteen are given by attaching the suffix \"osâp.\"  The numbers 12, 13, 14 are special cases (extra \"o\" is dropped) as is 16 (\"ik\" is dropped)\n",
    "\n",
    "| #  | Cree |\n",
    "| -- | :----|\n",
    "| 11 | peyakosâp |\n",
    "| 12 | nîsosâp  |\n",
    "| 13 | nistosâp |\n",
    "| 14 | newosâp  |\n",
    "| 15 | niyânanosâp |\n",
    "| 16 | nikotwâsosâp |\n",
    "| 17 | tepakohposâp |\n",
    "| 18 | ayenânewosâp |\n",
    "| 19 | kekâ-mitâtahtosâp |\n",
    "\n",
    "The numbers 20, 30, 40, etc are given by adding the suffix \"omitanaw\" to the single digit names above. Again, The numbers 20, 30, 40 are special cases (extra \"o\" is dropped) as is 60 (\"ik\" is dropped):\n",
    "\n",
    "| #  | Cree |\n",
    "| -- | :----|\n",
    "| 20 | nîsitanaw | \n",
    "| 30 | nistomitanaw | \n",
    "| 40 | newomitanaw| \n",
    "| 50 | niyânanomitanaw |\n",
    "| 60 | nikotwâsomitanaw | \n",
    "| 70 | tepakohpomitanaw | \n",
    "| 80 | ayenânewomitanaw |\n",
    "| 90 | kekâ-mitâtahtomitanaw |\n",
    "|100 | mitâtahtomitanaw |\n",
    "\n",
    "To get a compound number like twenty-three, you take the \"20\" word and add the \"teens\" word for 13, to get\n",
    "\n",
    "| #  | Cree |\n",
    "| -- | :----|\n",
    "| 13 | nistosâp | \n",
    "| 20 | nîsitanaw | \n",
    "| 23 | nîsitanaw nistosâp | \n",
    "\n",
    "A number like 39 is usually expressed as \"one less than forty\" so we get these special cases:\n",
    "\n",
    "| #  | Cree |\n",
    "| -- | :----|\n",
    "| 29 | kekâc-nistomitanaw | \n",
    "| 39 | kekâc-nemitanaw| \n",
    "| 49 | kekâc-niyânanomitanaw |\n",
    "| 59 | kekâc-nikotwâsikomitanaw | \n",
    "| 69 | kekâc-tepakohpomitanaw | \n",
    "| 79 | kekâc-ayenânewomitanaw |\n",
    "| 89 | kekâc-kekâ-mitâtahtomitanaw |\n",
    "\n",
    "The number 99 is quite special, expressed as \"one less than ten times ten, plus one less than ten:\"\n",
    "\n",
    "| #  | Cree |\n",
    "| -- | :----|\n",
    "| 99 | kekâ-mitâtahtomitanaw kekâ-mitâtaht|\n",
    "\n",
    "Finally, when you are counting \"things\" like berries (mînisihkân) you add a \"wâw\" to the number word in Cree. For instance:\n",
    "\n",
    "| #  | Cree |\n",
    "| -- | :----|\n",
    "| 20 berries | nîstanawâw mînisihkân | \n",
    "| 23 berries | nîstanaw nistosâpwâw mînisihkân | \n",
    "\n"
   ]
  },
  {
   "cell_type": "markdown",
   "id": "d1ad3587",
   "metadata": {},
   "source": [
    "## Regional variations\n",
    "\n",
    "To be sure, there are regional differences in how various numbers are pronounced and written in Cree. For instance:\n",
    "\n",
    "- 8 can appear as **ayenânew** or **ayinânew**\n",
    "- 20 can appear as **nisitanaw** or **nistanaw**\n",
    "- 40 can appear as **newomitanaw** or **nemitanaw**\n",
    "- 60 can appear as **nikotwâsomitanaw** or **nikotwâsikomitanaw**\n",
    "\n",
    "Our code follows the first version of each. "
   ]
  },
  {
   "cell_type": "markdown",
   "id": "4631fedd",
   "metadata": {},
   "source": [
    "## Outline for the code\n",
    "\n",
    "There are several steps to explore:\n",
    "\n",
    "1. Build a dictionary in Cree for the first ten numbers\n",
    "2. Write two functions to turn any number into a Cree word. Both counting numbers, and numbers of things. \n",
    "3. Test the functions to see that they gives correct words for numbers.\n",
    "4. Create a list of the 17 letters in Cree, and a dictionary to count how many times they occur in a sentence.\n",
    "5. Build a sentence in Cree, using this functions to count letters. \n",
    "6. Create a loop in code to look for a fixed point -- the correct self-referential sentene. \n",
    "7. If this fails, try a shorter sentence that counts fewer letters.  "
   ]
  },
  {
   "cell_type": "markdown",
   "id": "85b8db33",
   "metadata": {},
   "source": [
    "## 1. Python dictionaries \n",
    "\n",
    "We assemble this information a couple of Python dictionaries that the code will refer to when building the Cree sentence with numbers. "
   ]
  },
  {
   "cell_type": "code",
   "execution_count": null,
   "id": "6738dbb5",
   "metadata": {},
   "outputs": [],
   "source": [
    "# A dictionary of the ten first numbers in Cree\n",
    "cree_nums = {1:\"peyak\", 2:\"nîso\", 3:\"nisto\", 4:\"newo\", 5:\"niyânan\",\n",
    "             6:\"nikotwâsik\", 7:\"tepakohp\", 8:\"ayenânew\", 9:\"kekâ-mitâtaht\", 10:\"mitâtaht\"}\n"
   ]
  },
  {
   "cell_type": "markdown",
   "id": "4aaae866",
   "metadata": {},
   "source": [
    "## 2. A function to turn a numerical value into a Cree word.\n",
    "\n",
    "The code follows the rules above, building from the first ten numbers to handle all numbers from 1 to 100. Ithas special cases for the teens, for round numbers like 20, 30, 40, and compound numebrs. "
   ]
  },
  {
   "cell_type": "code",
   "execution_count": null,
   "id": "6be7178c",
   "metadata": {},
   "outputs": [],
   "source": [
    "## Convert an integer into a written word in Cree\n",
    "\n",
    "def int_to_cree_num(num):\n",
    "    global cree_nums\n",
    "\n",
    "    assert(1 <= num)\n",
    "\n",
    "    if num==20:                # special case \n",
    "        return 'nîsitanaw'  \n",
    "\n",
    "    if num==99:                # special case \n",
    "        return 'kekâ-mitâtahtomitanaw kekâ-mitâtaht' \n",
    "\n",
    "    if num<=10:                # single digits\n",
    "        return cree_nums[num]  \n",
    "\n",
    "    if num<=19:                # the teens\n",
    "        temp = cree_nums[num-10] + 'osâp'\n",
    "        return temp.replace('oo','o').replace('siko','so')\n",
    "    \n",
    "\n",
    "    if num <= 100:            # everything between 20 and 100\n",
    "        if num % 10 == 0:     # round numbers (multiples of ten)\n",
    "            temp = int_to_cree_num(num/10) + 'omitanaw'\n",
    "            return temp.replace('oo','o').replace('siko','so')\n",
    "        if num % 10 == 9:     # one less than the round numbers\n",
    "            return 'kekâc-' + int_to_cree_num(num+1)\n",
    "        else: \n",
    "            return int_to_cree_num((num // 10) * 10) + ' ' + int_to_cree_num((num % 10)+10)\n",
    "\n",
    "    return 'mihcet'  ## means \"many,\" for when we have more than 100 items\n",
    "\n",
    "## Convert an integer into a word, respecting the grammar for counting things\n",
    "def int_to_cree_num_of(num):\n",
    "    \n",
    "    temp = int_to_cree_num(num) + 'wâw'\n",
    "    return temp.replace('owâw','wâw').replace('ww','w').replace('sikwâw','swâw') # special cases"
   ]
  },
  {
   "cell_type": "markdown",
   "id": "1d10388c",
   "metadata": {},
   "source": [
    "## 3. Testing\n",
    "\n",
    "Let's test out these two functions by printing out the first 30 values."
   ]
  },
  {
   "cell_type": "code",
   "execution_count": null,
   "id": "5682e5c4",
   "metadata": {},
   "outputs": [],
   "source": [
    "for i in range(1,31):\n",
    "    print(i,int_to_cree_num(i), ',', int_to_cree_num_of(i))"
   ]
  },
  {
   "cell_type": "markdown",
   "id": "6b15ad46",
   "metadata": {},
   "source": [
    "## 3a. More testing\n",
    "\n",
    "It is good practice to test the code for words with an actual dictionary that has several test cases. We looked up the numbers from 1 to 20, and then multiples of 10, and put them into the following dictionaries. The next few cells compare the two functions above with the results in the dictionarieS and print out any errors. \n",
    "\n",
    "(There should be no errors printed out.)"
   ]
  },
  {
   "cell_type": "code",
   "execution_count": null,
   "id": "af531167",
   "metadata": {},
   "outputs": [],
   "source": [
    "## Two dictionaries of test cases\n",
    "\n",
    "# Numbers in Cree\n",
    "numbers = {1:\"peyak\", 2:\"nîso\", 3:\"nisto\", 4:\"newo\", 5:\"niyânan\",\n",
    "             6:\"nikotwâsik\", 7:\"tepakohp\", 8:\"ayenânew\", 9:\"kekâ-mitâtaht\", 10:\"mitâtaht\",\n",
    "            11:\"peyakosâp\", 12:\"nîsosâp\", 13:\"nistosâp\", 14:\"newosâp\", 15:\"niyânanosâp\",\n",
    "            16:\"nikotwâsosâp\", 17:\"tepakohposâp\", 18:\"ayenânewosâp\", 19:\"kekâ-mitâtahtosâp\",\n",
    "            20:\"nîsitanaw\", 30:\"nistomitanaw\", 40:\"newomitanaw\",50:\"niyânanomitanaw\",\n",
    "            60:\"nikotwâsomitanaw\", 70:\"tepakohpomitanaw\", 80:\"ayenânewomitanaw\",\n",
    "            90:\"kekâ-mitâtahtomitanaw\",100:\"mitâtahtomitanaw\"}\n",
    "\n",
    "# Number of things, in Cree\n",
    "numbers_of = {1:\"peyakwâw\", 2:\"nîswâw\", 3:\"nistwâw\", 4:\"newâw\", 5:\"niyânanwâw\",\n",
    "             6:\"nikotwâswâw\", 7:\"tepakohpwâw\", 8:\"ayenânewâw\", 9:\"kekâ-mitâtahtwâw\", 10:\"mitâtahtwâw\",\n",
    "            11:\"peyakosâpwâw\", 12:\"nîsosâpwâw\", 13:\"nistosâpwâw\", 14:\"newosâpwâw\", 15:\"niyânanosâpwâw\",\n",
    "            16:\"nikotwâsosâpwâw\", 17:\"tepakohposâpwâw\", 18:\"ayenânewosâpwâw\", 19:\"kekâ-mitâtahtosâpwâw\",\n",
    "            20:\"nîsitanawâw\", 30:\"nistomitanawâw\", 40:\"newomitanawâw\",50:\"niyânanomitanawâw\",\n",
    "            60:\"nikotwâsomitanawâw\", 70:\"tepakohpomitanawâw\", 80:\"ayenânewomitanawâw\",\n",
    "            90:\"kekâ-mitâtahtomitanawâw\",100:\"mitâtahtomitanawâw\"}\n"
   ]
  },
  {
   "cell_type": "code",
   "execution_count": null,
   "id": "9d64bcb1",
   "metadata": {},
   "outputs": [],
   "source": [
    "for i in range(1,21):\n",
    "    if int_to_cree_num(i) != numbers[i]:\n",
    "        print(i,int_to_cree_num(i),numbers[i])"
   ]
  },
  {
   "cell_type": "code",
   "execution_count": null,
   "id": "3f82ad8c",
   "metadata": {},
   "outputs": [],
   "source": [
    "for i in range(10,101,10):\n",
    "    if int_to_cree_num(i) != numbers[i]:\n",
    "        print(i,int_to_cree_num(i),numbers[i])"
   ]
  },
  {
   "cell_type": "code",
   "execution_count": null,
   "id": "5395a77e",
   "metadata": {},
   "outputs": [],
   "source": [
    "for i in range(1,21):\n",
    "    if int_to_cree_num_of(i) != numbers_of[i]:\n",
    "        print(i,int_to_cree_num_of(i),numbers_of[i])"
   ]
  },
  {
   "cell_type": "code",
   "execution_count": null,
   "id": "42343847",
   "metadata": {},
   "outputs": [],
   "source": [
    "for i in range(10,101,10):\n",
    "    if int_to_cree_num_of(i) != numbers_of[i]:\n",
    "        print(i,int_to_cree_num_of(i),numbers_of[i])"
   ]
  },
  {
   "cell_type": "markdown",
   "id": "18d5d3c8",
   "metadata": {},
   "source": [
    "## 4. A list of letters in Cree\n",
    "\n",
    "We will create a list of letters that occur in the language, and use it to keep count of how many times they appear in a sentence. \n",
    "\n",
    "We use this to create a dictionary to keep track of the count of letters in the sentences we build. "
   ]
  },
  {
   "cell_type": "code",
   "execution_count": null,
   "id": "3d81d30b",
   "metadata": {},
   "outputs": [],
   "source": [
    "## First we create the set of Cree letters, including both vowels and consonants\n",
    "cree_vowels = \"aâeiîoô\"   # seven vowels\n",
    "cree_consonants = \"chkmnpstwy\" # ten consonants\n",
    "\n",
    "cree_letters = cree_vowels + cree_consonants\n",
    "cree_letters"
   ]
  },
  {
   "cell_type": "code",
   "execution_count": null,
   "id": "f3214de9",
   "metadata": {},
   "outputs": [],
   "source": [
    "# Now we create the dictionary to count the letters\n",
    "counts = dict ()\n",
    "letters = cree_letters\n",
    "for L in range(len(letters)):\n",
    "    counts[letters[L]] = 1\n",
    "counts"
   ]
  },
  {
   "cell_type": "markdown",
   "id": "18a7af81",
   "metadata": {},
   "source": [
    "## 5. Build a sentence in Cree \n",
    "\n",
    "We follow Professor Doolittle's model sentence, modified for the spelling of 20 (nisitanaw)\n",
    "```\n",
    "Mekwâc e-ayamihtâyan ôma, nîsitanaw ayenânewosâpwâw kika-wâpahten ôma a masinipehikanis,\n",
    "nîsitanaw peyakosâpwâw â, ..., ekwa nîsitanawâw y.\n",
    "```\n",
    "This translates as:\n",
    "```\n",
    "Right now as you read this, you will see 28 a's written, 21 â's, ..., and 20 y's.\n",
    "```\n",
    "\n",
    "We create a function to build this sentence, using the **counts** dictionary above to generate the numbers that go into the sentence. To get the grammar correct, we treat the first and last letters **a** and **y** as special cases. "
   ]
  },
  {
   "cell_type": "code",
   "execution_count": null,
   "id": "b84ff126",
   "metadata": {},
   "outputs": [],
   "source": [
    "# The first and last letters a,y are handled differently, to get the grammar correct.\n",
    "def build_sentence():\n",
    "    s = 'Mekwâc e-ayamihtâyan ôma, '\n",
    "    s += f'{int_to_cree_num_of(counts[\"a\"])} kika-wâpahten ôma a masinipehikanis, \\n' ## letter a\n",
    "    for letter, value in counts.items():\n",
    "        if not (letter=='a' or letter=='y'):  ## letters a and y are handled elsewhere\n",
    "            s+= f'{int_to_cree_num_of(value)} {letter}, ' \n",
    "    s += f'ekwa {int_to_cree_num_of(counts[\"y\"])} y.'  ## letter y\n",
    "    return s"
   ]
  },
  {
   "cell_type": "code",
   "execution_count": null,
   "id": "b0175bf1",
   "metadata": {},
   "outputs": [],
   "source": [
    "## Test the build_sentence_cree function\n",
    "print(build_sentence())"
   ]
  },
  {
   "cell_type": "code",
   "execution_count": null,
   "id": "6516df94",
   "metadata": {},
   "outputs": [],
   "source": [
    "## Let's try counting letters and update the sentence\n",
    "s = build_sentence()\n",
    "for letter in counts.keys():\n",
    "    counts[letter] = s.count(letter)\n",
    "\n",
    "print(build_sentence())"
   ]
  },
  {
   "cell_type": "code",
   "execution_count": null,
   "id": "f8e5fd42",
   "metadata": {},
   "outputs": [],
   "source": [
    "counts"
   ]
  },
  {
   "cell_type": "markdown",
   "id": "26e25acd",
   "metadata": {},
   "source": [
    "## 6. Finding the fixed point\n",
    "\n",
    "Now we build a sentence, and update its letter count over and over. \n",
    "\n",
    "If we get stuck, randomize the count and begin again."
   ]
  },
  {
   "cell_type": "code",
   "execution_count": null,
   "id": "5a3d1a40",
   "metadata": {},
   "outputs": [],
   "source": [
    "from random import randrange\n",
    "\n",
    "def randomize(): ## randomly change the counts up or down, but always non-negative.\n",
    "    for letter in letters:\n",
    "        counts[letter] = max(1,counts[letter]+randrange(-5,5))\n",
    "\n",
    "def my_loop():\n",
    "    for i in range(500):\n",
    "        s = build_sentence()\n",
    "        for k in range(1000):\n",
    "            for letter in counts.keys():\n",
    "                counts[letter] = s.lower().count(letter) \n",
    "            new_s = build_sentence()\n",
    "            if new_s == s:\n",
    "                print(\"solution at i,k = \", i,k, \"\\n\",s)\n",
    "                return\n",
    "            s = new_s\n",
    "        randomize()\n",
    "    print(\"No solution found.\")\n",
    "\n",
    "\n",
    "my_loop()"
   ]
  },
  {
   "cell_type": "code",
   "execution_count": null,
   "id": "7e822fa6",
   "metadata": {},
   "outputs": [],
   "source": [
    "counts"
   ]
  },
  {
   "cell_type": "markdown",
   "id": "e3bf7077",
   "metadata": {},
   "source": [
    "## An easier example\n",
    "\n",
    "The above example may not give a solution for you. We can do an easier problem, by using a short list of letters. Let's try the seven vowels and a few consonants. \n",
    "\n",
    "Let's try this list: **a, â, e, i, î, o, ô, c, h, y**\n",
    "\n",
    "You might try other combinations, by remember to include the letters **a** adn **y** as they are treated as special cases in our cose. "
   ]
  },
  {
   "cell_type": "code",
   "execution_count": null,
   "id": "4fd5a6c7",
   "metadata": {},
   "outputs": [],
   "source": [
    "# A subset of the Cree letters\n",
    "letters = 'aâeiîoôchy'\n",
    "\n",
    "# Now we create the dictionary to count the letters\n",
    "counts = dict()\n",
    "for letter in letters:\n",
    "    counts[letter] = 1\n",
    "    \n",
    "## Now run the code, and check the count.\n",
    "\n",
    "my_loop()\n",
    "counts"
   ]
  },
  {
   "cell_type": "markdown",
   "id": "69519786",
   "metadata": {},
   "source": [
    "### Did it work?\n",
    "\n",
    "If it did not give you a solution, try running the previous cell again. It is a random process, so sometimes it works and sometimes it doesn't. Try several times until you get an answer. A successful run is shown below.\n"
   ]
  },
  {
   "cell_type": "markdown",
   "id": "a0cde3b8",
   "metadata": {},
   "source": [
    "### Here is an example of a successful run.\n",
    "\n",
    "solution at i,k =  90 2 \n",
    "\n",
    "Mekwâc e-ayamihtâyan ôma, ayenânewosâpwâw kika-wâpahten ôma a masinipehikanis, \n",
    "nîsitanaw peyakosâpwâw â, newosâpwâw e, peyakosâpwâw i, nistwâw î, niyânanwâw o, nistwâw ô, nîswâw c, newâw h, ekwa ayenânewâw y.\n",
    "\n",
    "counts = {'a': 18,\n",
    " 'â': 21,\n",
    " 'e': 14,\n",
    " 'i': 11,\n",
    " 'î': 3,\n",
    " 'o': 5,\n",
    " 'ô': 3,\n",
    " 'c': 2,\n",
    " 'h': 4,\n",
    " 'y': 8}"
   ]
  },
  {
   "cell_type": "markdown",
   "id": "d1e4058a",
   "metadata": {},
   "source": [
    "## Going further\n",
    "\n",
    "1. Try using a longer list of letters. Can you successfully generate a solution?\n",
    "2. Could you modify this code for a different dialect of Cree?\n",
    "3. Can you modify this code for a different language? "
   ]
  },
  {
   "cell_type": "markdown",
   "id": "76b20995",
   "metadata": {},
   "source": [
    "## References in Cree\n",
    "\n",
    "We used a number of references, both printed and online, to learn about the Cree language (nēhiyawēwin).\n",
    "\n",
    "1. Cree, Language of the Plains (nēhiyawēwin, paskwāwi-pīkiskwēwin), by Jean L. Okimāsis. Also available online as an open text resource of the University of Regina. https://ourspace.uregina.ca/server/api/core/bitstreams/e6c7d081-f286-42a4-896c-2b91fc27c47b/content\n",
    "2. Online Cree Dictionary: https://www.creedictionary.com\n",
    "3. itwêwina, Plains Cree Dictionary:\n",
    "https://itwewina.altlab.app/\n",
    "4. Cree Dictionary of Mathematical Terms with Visual Examples, by Arden Ogg. https://creeliteracy.org/2022/09/13/cree-dictionary-of-mathematical-terms-with-visual-examples/\n",
    "5. Stay home, learn Cree: Numbers, by Arden Ogg. https://creeliteracy.org/2020/03/27/shlc_numbers/\n",
    "\n",
    "We also acknowledge and thank Professors Ida Swan and Edward Doolittle for their assistance with the Cree langauge details in this notebook."
   ]
  },
  {
   "cell_type": "markdown",
   "id": "2e99f69f",
   "metadata": {},
   "source": [
    "## Summary\n",
    "\n",
    "We have learned a bit about the Cree language and its alphabet (roman orthography) as well as its number system. \n",
    "\n",
    "We learned how to make a self-referencial sentence in Cree by using a loop that looks for a fixed-point in the set of sentences of a certain counting structure. \n",
    "\n",
    "If you found this interesting, try a second version in Cree syllabics: [counting-letters-syllabics.ipynb](counting-letters-syllabics.ipynb)\n",
    "\n",
    "This approach could work with other languages as well. "
   ]
  },
  {
   "cell_type": "markdown",
   "id": "6e00c864",
   "metadata": {},
   "source": [
    "[![Callysto.ca License](https://github.com/callysto/curriculum-notebooks/blob/master/callysto-notebook-banner-bottom.jpg?raw=true)](https://github.com/callysto/curriculum-notebooks/blob/master/LICENSE.md)"
   ]
  }
 ],
 "metadata": {
  "kernelspec": {
   "display_name": "Python 3 (ipykernel)",
   "language": "python",
   "name": "python3"
  },
  "language_info": {
   "codemirror_mode": {
    "name": "ipython",
    "version": 3
   },
   "file_extension": ".py",
   "mimetype": "text/x-python",
   "name": "python",
   "nbconvert_exporter": "python",
   "pygments_lexer": "ipython3",
   "version": "3.9.13"
  }
 },
 "nbformat": 4,
 "nbformat_minor": 5
}
