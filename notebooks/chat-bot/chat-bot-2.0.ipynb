{
 "cells": [
  {
   "cell_type": "markdown",
   "id": "6d14131b-5300-46fe-86f0-4e98b9b09f38",
   "metadata": {},
   "source": [
    "![Callysto.ca Banner](https://github.com/callysto/curriculum-notebooks/blob/master/callysto-notebook-banner-top.jpg?raw=true)\n",
    "\n",
    "<a href=\"https://hub.callysto.ca/jupyter/hub/user-redirect/git-pull?repo=https%3A%2F%2Fgithub.com%2Fcallysto%2Fcurriculum-notebooks&branch=master&subPath=EnglishLanguageArts/IntroductionToPoetry/poetry-introduction.ipynb&depth=1\" target=\"_parent\"><img src=\"https://raw.githubusercontent.com/callysto/curriculum-notebooks/master/open-in-callysto-button.svg?sanitize=true\" width=\"123\" height=\"24\" alt=\"Open in Callysto\"/></a>"
   ]
  },
  {
   "cell_type": "markdown",
   "id": "8f6a6ba3-7a25-47de-992d-31554fa8896a",
   "metadata": {},
   "source": [
    "Make a list. I can statements\n",
    "Define Artificial Intelligence\n"
   ]
  },
  {
   "cell_type": "markdown",
   "id": "aab9ae53-1d02-4d69-9c16-3c21d5dddf78",
   "metadata": {},
   "source": [
    "Intro to Chatbot including AI information: TBD"
   ]
  },
  {
   "cell_type": "markdown",
   "id": "5c0ed10a-411a-48df-af5d-ff243f9b1409",
   "metadata": {},
   "source": [
    "Rule Based Chat Bot defintion "
   ]
  },
  {
   "cell_type": "code",
   "execution_count": 1,
   "id": "600c921c-7bd0-4a7c-9bb6-6adc2c484ca4",
   "metadata": {},
   "outputs": [
    {
     "name": "stdout",
     "output_type": "stream",
     "text": [
      "Welcome to Callysto Cuisine!\n",
      "How can I help you?\n",
      "1. Take a look at the menu\n",
      "2. Ask about daily specials.\n",
      "3. Make a reservation.\n",
      "4. Order take out.\n",
      "5. Exit.\n"
     ]
    },
    {
     "name": "stdin",
     "output_type": "stream",
     "text": [
      "Choice:  1\n"
     ]
    },
    {
     "name": "stdout",
     "output_type": "stream",
     "text": [
      "Poutine\n",
      "Tate Tots\n",
      "Taco Salad\n",
      "Freezies\n",
      "Beef Dip\n",
      "Spaghetti\n",
      "--------------------------------\n",
      "Welcome to Callysto Cuisine!\n",
      "How can I help you?\n",
      "1. Take a look at the menu\n",
      "2. Ask about daily specials.\n",
      "3. Make a reservation.\n",
      "4. Order take out.\n",
      "5. Exit.\n"
     ]
    },
    {
     "name": "stdin",
     "output_type": "stream",
     "text": [
      "How else can I help you?:  2\n"
     ]
    },
    {
     "name": "stdout",
     "output_type": "stream",
     "text": [
      "Our daily special is Cotton Candy!\n",
      "--------------------------------\n",
      "Welcome to Callysto Cuisine!\n",
      "How can I help you?\n",
      "1. Take a look at the menu\n",
      "2. Ask about daily specials.\n",
      "3. Make a reservation.\n",
      "4. Order take out.\n",
      "5. Exit.\n"
     ]
    },
    {
     "name": "stdin",
     "output_type": "stream",
     "text": [
      "How else can I help you?:  3\n",
      "Which time is best for you?: 6:00, 6:30, 7:00, 7:30, 8:00:  630\n"
     ]
    },
    {
     "name": "stdout",
     "output_type": "stream",
     "text": [
      "Great! I have you down for 630 this evening.\n",
      "--------------------------------\n",
      "Welcome to Callysto Cuisine!\n",
      "How can I help you?\n",
      "1. Take a look at the menu\n",
      "2. Ask about daily specials.\n",
      "3. Make a reservation.\n",
      "4. Order take out.\n",
      "5. Exit.\n"
     ]
    },
    {
     "name": "stdin",
     "output_type": "stream",
     "text": [
      "How else can I help you?:  4\n"
     ]
    },
    {
     "name": "stdout",
     "output_type": "stream",
     "text": [
      "Here's the menu. What items would you like to order?\n",
      "Please enter the item exactly as it appears on the menu.\n",
      "Poutine\n",
      "Tate Tots\n",
      "Taco Salad\n",
      "Freezies\n",
      "Beef Dip\n",
      "Spaghetti\n"
     ]
    },
    {
     "name": "stdin",
     "output_type": "stream",
     "text": [
      "Item:  Freezies\n",
      "Anything else? Yes/No:  no\n"
     ]
    },
    {
     "name": "stdout",
     "output_type": "stream",
     "text": [
      "Great! Here is your order:\n",
      "Freezies\n",
      "--------------------------------\n",
      "Welcome to Callysto Cuisine!\n",
      "How can I help you?\n",
      "1. Take a look at the menu\n",
      "2. Ask about daily specials.\n",
      "3. Make a reservation.\n",
      "4. Order take out.\n",
      "5. Exit.\n"
     ]
    },
    {
     "name": "stdin",
     "output_type": "stream",
     "text": [
      "How else can I help you?:  5\n"
     ]
    },
    {
     "name": "stdout",
     "output_type": "stream",
     "text": [
      "Thanks for checking out Callysto Cuisine. Come again!\n"
     ]
    }
   ],
   "source": [
    "'''\n",
    "Note: Student code will vary based on the restaurant they choose. There are \n",
    "also many different ways to approach this program. See if :\n",
    "'''\n",
    "\n",
    "#Create your menu here\n",
    "menu = [\"Poutine\", \"Tate Tots\", \"Taco Salad\",\n",
    "        \"Freezies\", \"Beef Dip\", \"Spaghetti\"]\n",
    "reservation_times = [\"6:00\", \"6:30\", \"7:00\", \"7:30\", \"8:00\"]\n",
    "\n",
    "# print_options should print options available to users \n",
    "# see description for more details\n",
    "def print_options():\n",
    "    print(\"Welcome to Callysto Cuisine!\")\n",
    "    print(\"How can I help you?\")\n",
    "    print(\"1. Take a look at the menu\")\n",
    "    print(\"2. Ask about daily specials.\")\n",
    "    print(\"3. Make a reservation.\")\n",
    "    print(\"4. Order take out.\")\n",
    "    print(\"5. Exit.\")\n",
    "\n",
    "def show_menu():\n",
    "    for item in menu:\n",
    "        print(item)\n",
    "\n",
    "def make_res():\n",
    "    avail_times = \"\"\n",
    "    for i in range(len(reservation_times)-1):\n",
    "        avail_times = avail_times + reservation_times[i] + \", \"\n",
    "    avail_times = avail_times + reservation_times[4]\n",
    "    time = input(\"Which time is best for you?: \" + avail_times + \": \")\n",
    "    print(\"Great! I have you down for \" + time + \" this evening.\")\n",
    "\n",
    "def takeout():\n",
    "    order = []\n",
    "    print(\"Here's the menu. What items would you like to order?\")\n",
    "    print(\"Please enter the item exactly as it appears on the menu.\")\n",
    "    show_menu()\n",
    "    while True:\n",
    "        item = input(\"Item: \")\n",
    "        if item in menu:\n",
    "            order.append(item)\n",
    "            more = input(\"Anything else? Yes/No: \")\n",
    "            if more == \"Yes\":\n",
    "                print(\"What else would you like to order?\")\n",
    "            else:\n",
    "                break\n",
    "        else:\n",
    "            print(\"I'm sorry, that is not an option. Please enter an item on the menu.\")\n",
    "    print(\"Great! Here is your order:\")\n",
    "    for item in order:\n",
    "        print(item)\n",
    "\n",
    "# Start program\n",
    "\n",
    "print_options()\n",
    "choice = int(input(\"Choice: \"))\n",
    "\n",
    "while choice != 5:\n",
    "    if choice == 1:\n",
    "        show_menu()    \n",
    "    elif choice == 2:\n",
    "        print(\"Our daily special is Cotton Candy!\")\n",
    "    elif choice == 3: \n",
    "        make_res()\n",
    "    elif choice == 4:\n",
    "        takeout()\n",
    "    print(\"--------------------------------\")\n",
    "    print_options()\n",
    "    choice = int(input(\"How else can I help you?: \"))\n",
    "    \n",
    "print(\"Thanks for checking out Callysto Cuisine. Come again!\")"
   ]
  },
  {
   "cell_type": "markdown",
   "id": "488eb8b3-d449-482a-9212-47e4da46222c",
   "metadata": {},
   "source": [
    "Step by step explaining how to change the code "
   ]
  },
  {
   "cell_type": "markdown",
   "id": "e275a874-6448-4fab-9a9e-a6778b41fef3",
   "metadata": {},
   "source": [
    "What makes rule-based chatbots useful?\n",
    "What are their limitations?\n",
    "How could this chatbot be improved? How would you improve it?\n",
    "What are some local restaurants in your area that might benefit from having a restaurant chatbot?"
   ]
  }
 ],
 "metadata": {
  "kernelspec": {
   "display_name": "Python 3 (ipykernel)",
   "language": "python",
   "name": "python3"
  },
  "language_info": {
   "codemirror_mode": {
    "name": "ipython",
    "version": 3
   },
   "file_extension": ".py",
   "mimetype": "text/x-python",
   "name": "python",
   "nbconvert_exporter": "python",
   "pygments_lexer": "ipython3",
   "version": "3.9.12"
  }
 },
 "nbformat": 4,
 "nbformat_minor": 5
}
