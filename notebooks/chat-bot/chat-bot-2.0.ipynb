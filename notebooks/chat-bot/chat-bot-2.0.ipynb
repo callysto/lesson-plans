{
 "cells": [
  {
   "cell_type": "markdown",
   "id": "6d14131b-5300-46fe-86f0-4e98b9b09f38",
   "metadata": {},
   "source": [
    "![Callysto.ca Banner](https://github.com/callysto/curriculum-notebooks/blob/master/callysto-notebook-banner-top.jpg?raw=true)\n",
    "\n",
    "<a href=\"https://hub.callysto.ca/jupyter/hub/user-redirect/git-pull?repo=https%3A%2F%2Fgithub.com%2Fcallysto%2Fcurriculum-notebooks&branch=master&subPath=EnglishLanguageArts/IntroductionToPoetry/poetry-introduction.ipynb&depth=1\" target=\"_parent\"><img src=\"https://raw.githubusercontent.com/callysto/curriculum-notebooks/master/open-in-callysto-button.svg?sanitize=true\" width=\"123\" height=\"24\" alt=\"Open in Callysto\"/></a>"
   ]
  },
  {
   "cell_type": "markdown",
   "id": "8f6a6ba3-7a25-47de-992d-31554fa8896a",
   "metadata": {},
   "source": [
    "### Learning Outcomes for Chat-Bot 1.0 \n",
    "- Define Artificial Intelligence\n",
    "- Apply multiple programming structures to create a rule-based chatbot\n",
    "- Evaluate the benefits and limitations of rule-based chatbots\n",
    "***\n"
   ]
  },
  {
   "cell_type": "code",
   "execution_count": null,
   "id": "5f26fa53-9ac2-4eb6-b6c0-26f88ccb4061",
   "metadata": {},
   "outputs": [],
   "source": [
    "#❗️Run this cell\n",
    "from IPython.display import YouTubeVideo\n",
    "YouTubeVideo('mYOjF9egvcM')"
   ]
  },
  {
   "cell_type": "markdown",
   "id": "5c0ed10a-411a-48df-af5d-ff243f9b1409",
   "metadata": {},
   "source": [
    "**Rule Based Chat Bots**\n",
    "\n",
    "A chatbot that provides users with a series of limited options that they can choose from to get more information from the chatbot. Rather than support a true conversation, rule-based chatbots tend to provide information and services that follow strict rules.\n",
    "\n",
    "Some questions to consider: \n",
    "- What are your initial thoughts about chat bots?\n",
    "- What are some of the limitations of chat bots that you noticed?\n",
    "- Which prompts the following chatbots respond well to? \n",
    "***"
   ]
  },
  {
   "cell_type": "markdown",
   "id": "169c3029-d1eb-46f1-b01e-c12bd0d3c893",
   "metadata": {},
   "source": [
    "_Activity 1: Tester, Human or Robot Game_ \n",
    "\n",
    "**Turing Test** is a test that determines how realistic, or humanlike a computer system really is. If a human is unable to tell if it is talking to a computer or a human, then the computer is said to have passed the Turing test."
   ]
  },
  {
   "cell_type": "code",
   "execution_count": null,
   "id": "cc4d1d3d-557e-4014-ade7-4857e9550fb4",
   "metadata": {},
   "outputs": [],
   "source": [
    "from IPython.display import YouTubeVideo\n",
    "YouTubeVideo('4VROUIAF2Do')"
   ]
  },
  {
   "cell_type": "markdown",
   "id": "92155f4f-d045-4c02-bc3f-208954943e0a",
   "metadata": {},
   "source": [
    "In this activity, we will evaluate the quality of a few different chatbots to determine if they are able to pass the Turing test, and what specifically makes a computer believably “human”.  Use the above questions for each chatbots. \n",
    "\n",
    "If possible, partner up with one or two other classmates.\n",
    "\n",
    "Find 2 - 4 chatbots to test. Feel free to search the internet for your own chatbots to test, but here are a few chatbots you may want to use:\n",
    "\n",
    "[Alice](https://www.pandorabots.com/pandora/talk?botid=b8d616e35e36e881)\n",
    "\n",
    "[Zeve](https://hellozeve.com/) \n",
    "\n",
    "[Eliza](http://psych.fullerton.edu/mbirnbaum/psych101/eliza.htm)\n",
    "\n",
    "[AI Dungeon](https://aidungeon.io/)\n",
    "\n",
    "Pick one person to be the tester. This is the person who will try to figure out whether or not they are talking to a chatbot or a human.\n",
    "\n",
    "Your task: \n",
    "Have the tester say “Hi!”. The other two partners will type the answer into the chatbot. One partner should read the actual chatbot response, and the other will make up their own response. Have the tester respond. If you partnered with only one other person, they will act as both the chatbot and the human responder.\n",
    "\n",
    "The other partners should continue answering, one reading the actual chatbot response and the other making up responses for 7-10 questions. It’s important to remember that the tester should not know which partner is the chatbot and which is responding as a human. The whole point is to see if the tester can figure it out!\n",
    "\n",
    "The tester guesses which partner is the chatbot, and which was the human. The tester should provide an explanation for their reasoning. Record if they got the correct answer.\n",
    "***"
   ]
  },
  {
   "cell_type": "markdown",
   "id": "29445471-283e-43b0-99cd-83343111977c",
   "metadata": {},
   "source": [
    "_Activity 2: My Own Restaurant Chatbot_\n",
    "\n",
    "It is your turn to create your own rule based chatbot! You can change the following python code to create your own restaurant chatbot! You don't need to know Python coding to do this activity, you will be given step by step activities to change the code to make it a more engaging experience for your customers.\n",
    "1. rename the menu items to customize to your own restaurant\n",
    "2. rename your restaurant (in the first print line)\n",
    ". Name your daily special (in while choice code)\n",
    "3. customize your greeting at the end of the code (in the print)\n",
    "5. Change reservation times (optional)\n",
    "\n"
   ]
  },
  {
   "cell_type": "code",
   "execution_count": null,
   "id": "600c921c-7bd0-4a7c-9bb6-6adc2c484ca4",
   "metadata": {},
   "outputs": [],
   "source": [
    "#Change 1\n",
    "menu = [\"menu itemX\", \"menu itemX\", \"menu itemX\",\n",
    "        \"menu itemX\", \"menu itemX\", \"menu itemX\"]\n",
    "reservation_times = [\"6:00\", \"6:30\", \"7:00\", \"7:30\", \"8:00\"]\n",
    "\n",
    "#Change 2 \n",
    "def print_options():\n",
    "    print(\"Welcome to RENAME YOUR RESTAURANT!\")\n",
    "    print(\"How can I help you?\")\n",
    "    print(\"1. Take a look at the menu\")\n",
    "    print(\"2. Ask about daily specials.\")\n",
    "    print(\"3. Make a reservation.\")\n",
    "    print(\"4. Order take out.\")\n",
    "    print(\"5. Exit.\")\n",
    "\n",
    "def show_menu():\n",
    "    for item in menu:\n",
    "        print(item)\n",
    "\n",
    "def make_res():\n",
    "    avail_times = \"\"\n",
    "    for i in range(len(reservation_times)-1):\n",
    "        avail_times = avail_times + reservation_times[i] + \", \"\n",
    "    avail_times = avail_times + reservation_times[4]\n",
    "    time = input(\"Which time is best for you?: \" + avail_times + \": \")\n",
    "    print(\"Great! I have you down for \" + time + \" this evening.\")\n",
    "\n",
    "def takeout():\n",
    "    order = []\n",
    "    print(\"Here's the menu. What items would you like to order?\")\n",
    "    print(\"Please enter the item exactly as it appears on the menu.\")\n",
    "    show_menu()\n",
    "    while True:\n",
    "        item = input(\"Item: \")\n",
    "        if item in menu:\n",
    "            order.append(item)\n",
    "            more = input(\"Anything else? Yes/No: \")\n",
    "            if more == \"Yes\":\n",
    "                print(\"What else would you like to order?\")\n",
    "            else:\n",
    "                break\n",
    "        else:\n",
    "            print(\"I'm sorry, that is not an option. Please enter an item on the menu.\")\n",
    "    print(\"Great! Here is your order:\")\n",
    "    for item in order:\n",
    "        print(item)\n",
    "\n",
    "# Start program\n",
    "\n",
    "print_options()\n",
    "choice = int(input(\"Choice: \"))\n",
    "# Change 4\n",
    "while choice != 5:\n",
    "    if choice == 1:\n",
    "        show_menu()    \n",
    "    elif choice == 2:\n",
    "        print(\"Our daily special is NAME YOUR DAILY SPECIAL!\")\n",
    "    elif choice == 3: \n",
    "        make_res()\n",
    "    elif choice == 4:\n",
    "        takeout()\n",
    "    print(\"--------------------------------\")\n",
    "    print_options()\n",
    "    choice = int(input(\"How else can I help you?: \"))\n",
    "    \n",
    "print(\"Thanks for checking out RENAME YOUR RESTAURANT. Come again!\")"
   ]
  },
  {
   "cell_type": "markdown",
   "id": "e275a874-6448-4fab-9a9e-a6778b41fef3",
   "metadata": {},
   "source": [
    "### Conclusion ### \n",
    "1. What is one thing you’re proud of that your rule-based chatbot can do? \n",
    "2. What is one thing you could do to improve your chatbot?\n",
    "3. Would your rule-based chatbot pass the Turing test? How do you know?"
   ]
  },
  {
   "cell_type": "markdown",
   "id": "a9a5c7d3-e717-442e-a83d-bdac05ffc5f1",
   "metadata": {},
   "source": [
    "[![Callysto.ca License](https://github.com/callysto/curriculum-notebooks/blob/master/callysto-notebook-banner-bottom.jpg?raw=true)](https://github.com/callysto/curriculum-notebooks/blob/master/LICENSE.md)"
   ]
  },
  {
   "cell_type": "markdown",
   "id": "a465775d-aa4c-4e11-b49a-443ef5db6f35",
   "metadata": {},
   "source": []
  }
 ],
 "metadata": {
  "kernelspec": {
   "display_name": "Python 3.9.6 64-bit",
   "language": "python",
   "name": "python3"
  },
  "language_info": {
   "codemirror_mode": {
    "name": "ipython",
    "version": 3
   },
   "file_extension": ".py",
   "mimetype": "text/x-python",
   "name": "python",
   "nbconvert_exporter": "python",
   "pygments_lexer": "ipython3",
   "version": "3.9.6"
  },
  "vscode": {
   "interpreter": {
    "hash": "31f2aee4e71d21fbe5cf8b01ff0e069b9275f58929596ceb00d14d90e3e16cd6"
   }
  }
 },
 "nbformat": 4,
 "nbformat_minor": 5
}
