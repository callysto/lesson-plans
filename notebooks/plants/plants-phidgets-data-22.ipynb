{
 "cells": [
  {
   "cell_type": "markdown",
   "id": "f936e378",
   "metadata": {},
   "source": [
    "## Step 6. Start the JS engine\n",
    "\n",
    "We send a message to the Comms channel, and this will start the data collection and posting. \n",
    "\n",
    "We can watch the monitor widget to see the most recent data being posted. "
   ]
  },
  {
   "cell_type": "code",
   "execution_count": 22,
   "id": "97cc01c3",
   "metadata": {},
   "outputs": [
    {
     "data": {
      "application/vnd.jupyter.widget-view+json": {
       "model_id": "04449729818c421d9c3d6c918ffc6623",
       "version_major": 2,
       "version_minor": 0
      },
      "text/plain": [
       "Text(value='No recent post yet', description='Latest data:', placeholder='blank')"
      ]
     },
     "execution_count": 22,
     "metadata": {},
     "output_type": "execute_result"
    }
   ],
   "source": [
    "monitor"
   ]
  },
  {
   "cell_type": "code",
   "execution_count": 23,
   "id": "8311f6e4",
   "metadata": {},
   "outputs": [],
   "source": [
    "## This command starts the JS loop running.\n",
    "my_comm.send({'foo':55})\n"
   ]
  },
  {
   "cell_type": "markdown",
   "id": "737f841f",
   "metadata": {},
   "source": [
    "## Step 7. Wait\n",
    "\n",
    "The data should be collecting now. You can watch the monitor above, it should update every 10 or 15 minutes in the daytime, and every hour at night. \n",
    "\n",
    "You can also check the online spreadsheet, to see that data is getting entered. \n",
    "https://ethercalc.net/MyWeirdName23\n",
    "\n"
   ]
  },
  {
   "cell_type": "markdown",
   "id": "7c743b26",
   "metadata": {},
   "source": [
    "## Step 8. Closing down the sensors\n",
    "\n",
    "It is **really important** to close the sensor now, as otherwise they will keep busy forever, always trying to update the sliders with the latest values. So, don't skip this next step.\n",
    "\n",
    "The following cell creates a button that you can click to close the Phidgets. Click it once you are all done with the Phidgets in this notebook. "
   ]
  },
  {
   "cell_type": "code",
   "execution_count": 17,
   "id": "81b75dad",
   "metadata": {},
   "outputs": [
    {
     "name": "stdout",
     "output_type": "stream",
     "text": [
      "Press this button when you are done, to disconnect the Phidgets\n"
     ]
    },
    {
     "data": {
      "application/vnd.jupyter.widget-view+json": {
       "model_id": "34632a92e9604474bbd8100c318581b0",
       "version_major": 2,
       "version_minor": 0
      },
      "text/plain": [
       "Button(button_style='danger', description='IMPORTANT: Click to disconnect', layout=Layout(height='80px', width…"
      ]
     },
     "metadata": {},
     "output_type": "display_data"
    }
   ],
   "source": [
    "def doDisconnect(b):\n",
    "    display(Javascript(\"\"\"\n",
    "        (async () => {\n",
    "            await humSensor.close();\n",
    "            await tempSensor.close();\n",
    "            await vrSensor.close();\n",
    "            await liteSensor.close();\n",
    "            usbconn.close();\n",
    "            usbconn.delete();\n",
    "            delete window.usbconn;\n",
    "            element.text(\"You have disconnected the Phidgets.\");\n",
    "        })();\n",
    "    \"\"\"))\n",
    "\n",
    "run_button = widgets.Button(\n",
    "    description = 'IMPORTANT: Click to disconnect', \n",
    "        button_style='danger',layout=widgets.Layout(width='50%', height='80px')\n",
    ")\n",
    "print(\"Press this button when you are done, to disconnect the Phidgets\")\n",
    "run_button.on_click(doDisconnect)\n",
    "\n",
    "display(run_button)"
   ]
  },
  {
   "cell_type": "markdown",
   "id": "7167ce22",
   "metadata": {},
   "source": [
    "\n",
    "### Confirm\n",
    "\n",
    "You can confirm the phidget is open or closed by running the following cell. \n",
    "\n",
    "If it is still attached (true), try clicking the button above, again."
   ]
  },
  {
   "cell_type": "code",
   "execution_count": null,
   "id": "ea80b411",
   "metadata": {},
   "outputs": [],
   "source": [
    "%%js\n",
    "element.text(\"Is the humidity sensor attached? \" + humSensor.attached);\n",
    "element.append(\"<p>Is the temperature sensor attached? \" + tempSensor.attached + \"</p>\");\n",
    "element.append(\"Is the moisture sensor attached? \" + vrSensor.attached +\"</p>\");\n",
    "element.append(\"Is the light sensor attached? \" + liteSensor.attached);"
   ]
  },
  {
   "cell_type": "markdown",
   "id": "2e261121",
   "metadata": {},
   "source": [
    "## Conclusion\n",
    "\n",
    "We have shown how to run a utility to grab Phidget sensor data and post it on the web. It uses a combination of Javascript and Python to access both the front end and back end engines in the Jupyter notebook environment.  "
   ]
  },
  {
   "cell_type": "markdown",
   "id": "ba7ee230",
   "metadata": {},
   "source": [
    "[![Callysto.ca License](https://github.com/callysto/curriculum-notebooks/blob/master/callysto-notebook-banner-bottom.jpg?raw=true)](https://github.com/callysto/curriculum-notebooks/blob/master/LICENSE.md)"
   ]
  }
 ],
 "metadata": {
  "kernelspec": {
   "display_name": "Python 3 (ipykernel)",
   "language": "python",
   "name": "python3"
  },
  "language_info": {
   "codemirror_mode": {
    "name": "ipython",
    "version": 3
   },
   "file_extension": ".py",
   "mimetype": "text/x-python",
   "name": "python",
   "nbconvert_exporter": "python",
   "pygments_lexer": "ipython3",
   "version": "3.9.13"
  }
 },
 "nbformat": 4,
 "nbformat_minor": 5
}
