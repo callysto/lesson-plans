{
 "cells": [
  {
   "cell_type": "markdown",
   "id": "ab44d5f8",
   "metadata": {},
   "source": [
    "### First open the front end of the Comms channel, in JavaScript"
   ]
  },
  {
   "cell_type": "code",
   "execution_count": 20,
   "id": "660b4bb9",
   "metadata": {},
   "outputs": [
    {
     "data": {
      "application/javascript": [
       "Jupyter.notebook.kernel.comm_manager.register_target('my_comm_target',\n",
       "    function(comm, msg) {\n",
       "        // comm is the frontend comm instance, msg is the comm_open message, which can carry data\n",
       "        // We don't do anything with the above opening msg\n",
       "        // Next, we register a handler to deal with later messages.\n",
       "        // Basically, on receiving a message, we start a timer that posts a send command,\n",
       "        // which sends the data in a message to the Python back end\n",
       "        comm.on_msg(function(msg) {\n",
       "            console.log(\"Comm message received \" + msg.content.data.foo);\n",
       "            // this function is called by the timer, sends data to the back end\n",
       "            function myTimer() {      \n",
       "                const d = new Date();\n",
       "                comm.send({'time': d.toLocaleString(), \n",
       "                           'temp':tempSensor.temperature, \n",
       "                           'humidity':humSensor.humidity,\n",
       "                           'ratio':vrSensor.sensorValue,\n",
       "                           'lux':liteSensor.illuminance});\n",
       "            } \n",
       "            let myVar = setInterval(myTimer, 300000); // run every 5 minutes (300sec)\n",
       "        });\n",
       "        comm.on_close(function(msg) {return 0;});\n",
       "    });\n"
      ],
      "text/plain": [
       "<IPython.core.display.Javascript object>"
      ]
     },
     "metadata": {},
     "output_type": "display_data"
    }
   ],
   "source": [
    "%%js\n",
    "Jupyter.notebook.kernel.comm_manager.register_target('my_comm_target',\n",
    "    function(comm, msg) {\n",
    "        // comm is the frontend comm instance, msg is the comm_open message, which can carry data\n",
    "        // We don't do anything with the above opening msg\n",
    "        // Next, we register a handler to deal with later messages.\n",
    "        // Basically, on receiving a message, we start a timer that posts a send command,\n",
    "        // which sends the data in a message to the Python back end\n",
    "        comm.on_msg(function(msg) {\n",
    "            console.log(\"Comm message received \" + msg.content.data.foo);\n",
    "            // this function is called by the timer, sends data to the back end\n",
    "            function myTimer() {      \n",
    "                const d = new Date();\n",
    "                comm.send({'time': d.toLocaleString(), \n",
    "                           'temp':tempSensor.temperature, \n",
    "                           'humidity':humSensor.humidity,\n",
    "                           'ratio':vrSensor.sensorValue,\n",
    "                           'lux':liteSensor.illuminance});\n",
    "            } \n",
    "            let myVar = setInterval(myTimer, 300000); // run every 5 minutes (300sec)\n",
    "        });\n",
    "        comm.on_close(function(msg) {return 0;});\n",
    "    });"
   ]
  },
  {
   "cell_type": "markdown",
   "id": "c053d551",
   "metadata": {},
   "source": [
    "### Next, open the back end of the Comms channel, in Python"
   ]
  },
  {
   "cell_type": "code",
   "execution_count": 21,
   "id": "03d3ea21",
   "metadata": {},
   "outputs": [],
   "source": [
    "from ipykernel.comm import Comm\n",
    "\n",
    "# a global variable we use to keep the data from the front end comm channel\n",
    "comm_data = \"Not set yet\"  \n",
    "\n",
    "# Connect to the comm channel in the front end, to the Python\n",
    "my_comm = Comm(target_name='my_comm_target', data={'foo': 1})\n",
    "\n",
    "# Add a callback for received messages. This will call post_stuff to store the data\n",
    "@my_comm.on_msg\n",
    "def _recv(msg):\n",
    "    global comm_data\n",
    "    comm_data = msg['content']['data']  # this is the data in the comm message\n",
    "    post_stuff(comm_data)"
   ]
  }
 ],
 "metadata": {
  "kernelspec": {
   "display_name": "Python 3 (ipykernel)",
   "language": "python",
   "name": "python3"
  },
  "language_info": {
   "codemirror_mode": {
    "name": "ipython",
    "version": 3
   },
   "file_extension": ".py",
   "mimetype": "text/x-python",
   "name": "python",
   "nbconvert_exporter": "python",
   "pygments_lexer": "ipython3",
   "version": "3.9.13"
  }
 },
 "nbformat": 4,
 "nbformat_minor": 5
}
