{
 "cells": [
  {
   "cell_type": "markdown",
   "id": "a954153d",
   "metadata": {},
   "source": [
    "![Callysto.ca Banner](https://github.com/callysto/curriculum-notebooks/blob/master/callysto-notebook-banner-top.jpg?raw=true)\n",
    " \n",
    "<a href=\"https://hub.callysto.ca/jupyter/hub/user-redirect/git-pull?repo=https%3A%2F%2Fgithub.com%2Fcallysto%2Flesson-plans&branch=anywidgets&urlpath=notebooks/lesson-plans/notebooks/plants/PhidgetFour_auto.ipynb&depth=1\" target=\"_parent\"><img src=\"https://raw.githubusercontent.com/callysto/curriculum-notebooks/master/open-in-callysto-button.svg?sanitize=true\" width=\"123\" height=\"24\" alt=\"Open in Callysto\"></a>"
   ]
  },
  {
   "cell_type": "markdown",
   "id": "f6c36172",
   "metadata": {},
   "source": [
    "# Collecting Data from Plants with Phidgets\n",
    "\n",
    "This is a utility notebook to collect data from [\"Phidgets\"](https://www.phidgets.com/education/learn/projects/plant-kit/) sensors around a plant and store in an online spreadsheet (Google Sheets).\n",
    "\n",
    "We have tried to make this notebook as friendly as possible for beginner programmers. However, it does require some attention to detail, so follow the instructions carefully. \n",
    "\n",
    "*The notebook runs both Python code and Javascript (JS) code. It would be nice to do everything in Python, but it seems Javascript is necessary to communicate with the Phidgets in a Jupyter notebook. Fortunately, the Javascript code here is easy enough to read and you will not need to change it.*"
   ]
  },
  {
   "cell_type": "markdown",
   "id": "46f3a83c",
   "metadata": {},
   "source": [
    "<h2 style=\"color: red\">IMPORTANT</h2>\n",
    "It is a good idea to disconnect the Phidgets at the end of this notebook when you are done. See the notes at the end on how to do this, so the Phidgets can be used by other notebooks you use later."
   ]
  },
  {
   "cell_type": "markdown",
   "id": "24d58734-7a7b-4ce8-bbc1-3950bfa4ea55",
   "metadata": {},
   "source": [
    "## Overview\n",
    "\n",
    "The purpose of this notebook is to collect data from certain hardware sensors called \"Phidgets\" which are set up to monitor the environment of a plant. The data can be viewed directly and it is also saved in an online spreadsheet for later data analysis.\n",
    "\n",
    "<img src=\"images/plant2.jpg\" alt=\"A plant with sensor\" width=\"400\"/>\n",
    "<div align=\"center\">\n",
    "\n",
    "A basement window with our plant."
   ]
  },
  {
   "cell_type": "markdown",
   "id": "93caa6f1",
   "metadata": {},
   "source": [
    "##### There are important requirements you must meet in order to complete this setup:\n",
    "    \n",
    "- you need the Phidget VINT device, with three sensors attached\n",
    "    - the temperature/humidity sensor (device type HUM1001_01)\n",
    "    - the light sensor (device type LUX1000_0)\n",
    "    - the moisture sensor (device type HUM1100)\n",
    "- you will need a computer (Mac, Windows, Raspberry Pi) with a USB connection and internet access\n",
    "- you will need the Chrome or Chromium Web browser (Safari, Firefox, and Edge will not work)\n",
    "\n",
    "Follow these steps:\n",
    "\n",
    "Assemble your Phidgets plant kit, see the following [link](https://www.phidgets.com/education/learn/projects/plant-kit/assemble/)\n",
    "\n",
    "1. Setting up the gauges \n",
    "1. Setting up an online spreadsheet\n",
    "1. Connect the plant sensors to your computer\n",
    "1. Setup code to post and display data\n",
    "1. Start the timer, to continuously post data"
   ]
  },
  {
   "cell_type": "markdown",
   "id": "4e399c57",
   "metadata": {},
   "source": [
    "***\n",
    "## Step 1. Setting up the gauges\n",
    "\n",
    "Run the cells in this notebook, **one cell at a time**. This will give you the chance to respond to any errors, and to chose a unique name for your online storage. \n",
    "\n",
    "**Do not select \"Run All.\"**\n",
    "\n",
    "We first set up some gauges to display values for temperature, humidity, soil moisture and light levels. We also add a text box to display the data as it is read in, and another to show the results of posting to the spreadsheet.  "
   ]
  },
  {
   "cell_type": "markdown",
   "id": "88ef7bee",
   "metadata": {},
   "source": [
    "We first load in all the libraries we need. Click on `▶Run`"
   ]
  },
  {
   "cell_type": "code",
   "execution_count": 1,
   "id": "2ee3f661",
   "metadata": {},
   "outputs": [],
   "source": [
    "import json, pytz, os.path, random, re, requests, threading\n",
    "import plotly.graph_objects as go\n",
    "from plotly.subplots import make_subplots\n",
    "import ipywidgets as widgets\n",
    "from time import sleep\n",
    "from datetime import datetime\n",
    "from IPython.display import display, Javascript, IFrame, Markdown "
   ]
  },
  {
   "cell_type": "code",
   "execution_count": 2,
   "id": "7dca1b25",
   "metadata": {},
   "outputs": [],
   "source": [
    "# Special libraries for the anywidgets\n",
    "import pathlib\n",
    "import traitlets\n",
    "try:\n",
    "    import anywidget\n",
    "except:\n",
    "    !pip install --user \"anywidget[dev]\"\n",
    "    import anywidget"
   ]
  },
  {
   "cell_type": "markdown",
   "id": "d2a71624",
   "metadata": {},
   "source": [
    "Now we set up the gauges and text boxes. This is not live data quite yet but we will be soon. \n",
    "\n",
    "Click on `▶Run`"
   ]
  },
  {
   "cell_type": "code",
   "execution_count": 3,
   "id": "b0bfc961",
   "metadata": {},
   "outputs": [
    {
     "data": {
      "application/vnd.jupyter.widget-view+json": {
       "model_id": "650c80b7082645269b42f2b60c26189b",
       "version_major": 2,
       "version_minor": 0
      },
      "text/plain": [
       "VBox(children=(FigureWidget({\n",
       "    'data': [{'domain': {'x': [0.0, 0.45], 'y': [0.675, 1.0]},\n",
       "              'ga…"
      ]
     },
     "metadata": {},
     "output_type": "display_data"
    }
   ],
   "source": [
    "# the four sensor gauges\n",
    "g_temp = go.Indicator(\n",
    "    mode = \"gauge+number\",\n",
    "    value = 20,\n",
    "    domain = {'x': [0, 1], 'y': [0, 1]},\n",
    "    title = {'text': \"Temperature\"},\n",
    "    gauge = {'axis': {'range': [10, 40]}}\n",
    ")\n",
    "\n",
    "g_hum = go.Indicator(\n",
    "    mode = \"gauge+number\",\n",
    "    value = 40,\n",
    "    domain = {'x': [0, 1], 'y': [0, 1]},\n",
    "    title = {'text': \"Humidity\"},\n",
    "    gauge = {'axis': {'range': [0, 100]}}\n",
    ")\n",
    "\n",
    "g_moist = go.Indicator(\n",
    "    mode = \"gauge+number\",\n",
    "    value = 0.5,\n",
    "    domain = {'x': [0, 1], 'y': [0, 1]},\n",
    "    title = {'text': \"Moisture\"},\n",
    "    gauge = {'axis': {'range': [0, 1.0]}}\n",
    ")\n",
    "\n",
    "g_light = go.Indicator(\n",
    "    mode = \"gauge+number\",\n",
    "    value = 40,\n",
    "    domain = {'x': [0, 1], 'y': [0, 1]},\n",
    "    title = {'text': \"Light Level\"},\n",
    "    gauge = {'axis': {'range': [0, 10000]}}\n",
    ")\n",
    "\n",
    "fig = make_subplots(\n",
    "    rows=2,\n",
    "    cols=2,\n",
    "    specs=[[{'type' : 'domain'}, {'type' : 'domain'}],[{'type' : 'domain'}, {'type' : 'domain'}]],\n",
    "    vertical_spacing = 0.35\n",
    ")\n",
    "fig.append_trace(g_temp, row=1, col=1)\n",
    "fig.append_trace(g_hum, row=1, col=2)\n",
    "fig.append_trace(g_moist, row=2, col=1)\n",
    "fig.append_trace(g_light, row=2, col=2)\n",
    "\n",
    "gauges = go.FigureWidget(fig)\n",
    "\n",
    "# a text widget to monitor the latest data\n",
    "data_monitor = widgets.Text(\n",
    "    description='Posted data:',\n",
    "    value=\"No posted data yet\",\n",
    "    layout={'width':'500px'},\n",
    "    disabled = False\n",
    ")\n",
    "# a text widget to monitor results of posting to the cloud\n",
    "post_monitor = widgets.Text(\n",
    "    description='Post result:',\n",
    "    value=\"No post yet\",\n",
    "    layout={'width':'500px'},\n",
    "    disabled = False\n",
    ")\n",
    "\n",
    "# the watering button\n",
    "data_button = widgets.Button(\n",
    "    description='Update gauges',\n",
    "    tooltip='Update data to gauges',\n",
    "    disabled=False,\n",
    "    button_style='success',\n",
    ")\n",
    "\n",
    "# the auto-watering Start/Stop button\n",
    "post_button = widgets.Button(\n",
    "    description='Post to spreadsheet',\n",
    "    tooltip='Post the latest data to the spreadsheet',\n",
    "    disabled=False,\n",
    "    button_style='success',\n",
    ")\n",
    "    \n",
    "dashboard = widgets.VBox([gauges,widgets.HBox([data_button,data_monitor]),\n",
    "                              widgets.HBox([post_button,post_monitor])])\n",
    "\n",
    "display(dashboard)"
   ]
  },
  {
   "cell_type": "markdown",
   "id": "427a9722",
   "metadata": {},
   "source": [
    "***\n",
    "## Step 2: Setting up the online spreadsheet.\n",
    "\n",
    "The next step involves creating an online spreadsheet using a web resource called Google Sheets. It's important to note that Google Sheets is a publicly accessible online spreadsheet tool, so please **avoid storing any confidential or sensitive data in it**.\n",
    "\n",
    "In the following code cell, you'll find a random spreadsheet number which you should use throughout the Plant notebooks. If you've used this notebook before, the code may suggest using the same name/number as your previous sheet, but you can always enter a new name/number in the text box provide but again remember that this is publicly accessible online.\n",
    "\n",
    "Click on `▶Run`"
   ]
  },
  {
   "cell_type": "code",
   "execution_count": 4,
   "id": "fbfd97af",
   "metadata": {},
   "outputs": [
    {
     "name": "stdout",
     "output_type": "stream",
     "text": [
      "Choose a name for your spreadsheet here:\n"
     ]
    },
    {
     "data": {
      "application/vnd.jupyter.widget-view+json": {
       "model_id": "266e348437f04dfc8a529f7f00cd4d2b",
       "version_major": 2,
       "version_minor": 0
      },
      "text/plain": [
       "interactive(children=(Text(value='Plant_804713', description='SS_Name'), Output()), _dom_classes=('widget-inte…"
      ]
     },
     "metadata": {},
     "output_type": "display_data"
    }
   ],
   "source": [
    "file_name = './ss_name.txt'  # the file where we store the spreadsheet name\n",
    "\n",
    "def get_ss_name():\n",
    "    if (os.path.isfile(file_name)):\n",
    "        with open(file_name,'r') as file:\n",
    "            result=json.load(file)\n",
    "        if result['name'] != 'default':\n",
    "            return result\n",
    "    json_name = {\"name\" : \"Plant_\" + \"\".join(random.choices('0123456789', k=6))}\n",
    "    with open(file_name,'w') as file:\n",
    "        json.dump(json_name,file)\n",
    "        return json_name\n",
    "    \n",
    "def set_ss_name(name):\n",
    "    with open(file_name,'w') as file:\n",
    "        json.dump({\"name\" : name},file)\n",
    "    \n",
    "def f(SS_Name):\n",
    "    if len(SS_Name) == 0:\n",
    "        return \"Enter a name here for your spreadsheet.\"\n",
    "    if re.search(r'[^A-Za-z0-9_\\-]',SS_Name):\n",
    "        return \"ERROR: Use only letters and numbers, no spaces.\"\n",
    "    else:\n",
    "        set_ss_name(SS_Name)\n",
    "        return \"Spreadsheet name is \" + SS_Name\n",
    "\n",
    "print(\"Choose a name for your spreadsheet here:\")\n",
    "widgets.interact(f, SS_Name=get_ss_name()['name']);"
   ]
  },
  {
   "cell_type": "markdown",
   "id": "63885ac2",
   "metadata": {},
   "source": [
    "### 2a. Initializing the spreadsheet\n",
    "\n",
    "Once you have selected a name above, we store some test data to ensure that it works. \n",
    "\n",
    "The following code runs a google script that takes some data and posts it online. The http link that is printed out will take you to your spreadsheet that holds the data. We also save the link in a file for later use. \n",
    "\n",
    "Click on `▶Run`"
   ]
  },
  {
   "cell_type": "code",
   "execution_count": 5,
   "id": "e81555b5",
   "metadata": {},
   "outputs": [
    {
     "name": "stdout",
     "output_type": "stream",
     "text": [
      "Data logged: https://docs.google.com/spreadsheets/d/12s1bTFF0o4-i3iSsbm4-_9J358a3fPoS9lx5szZZjjE/edit#gid=2138378482\n"
     ]
    }
   ],
   "source": [
    "sheet_url = 'https://script.google.com/macros/s/AKfycbyuMjh718bkYDYCetSGb0gxDqWxxoK_JiwEKcNkUAKdOOfLHj6uWTlsnbkM_01I-RPIlw/exec'\n",
    "sheet_name = get_ss_name()['name']\n",
    "\n",
    "data = {'Date':'2023-09-01', \n",
    "                'Time':'09:00:00', \n",
    "                'Temperature':21, \n",
    "                'Humidity':50, \n",
    "                'Moisture':.5, \n",
    "                'Luminance':100 }\n",
    "\n",
    "\n",
    "r = requests.post(sheet_url, params={'sheet':sheet_name, 'data':json.dumps(data)})\n",
    "\n",
    "viewing_url = r.text[13:]\n",
    "file_link = './ss_link.txt'  # the file where we store the spreadsheet link\n",
    "json_link = {\"link\" : viewing_url }\n",
    "with open(file_link,'w') as file:\n",
    "    json.dump(json_link,file)\n",
    "\n",
    "print(r.text)"
   ]
  },
  {
   "cell_type": "markdown",
   "id": "7ee349c3",
   "metadata": {},
   "source": [
    "### 2b. Viewing the spreadsheet\n",
    "\n",
    "Your spreadsheet is saved online as a Google spreadsheet. It has a rather long web address, which you can display here by running the following cell. Clicking the link that appears (htpps://docs.google.com...) will open a new tab with the spreadsheet displayed. \n",
    "\n",
    "Click on `▶Run`"
   ]
  },
  {
   "cell_type": "code",
   "execution_count": 6,
   "id": "5f0346b5",
   "metadata": {},
   "outputs": [
    {
     "data": {
      "text/markdown": [
       "Open your spreadsheet in a separate browser tab by clicking on this link: \n",
       " \n",
       " <a href='https://docs.google.com/spreadsheets/d/12s1bTFF0o4-i3iSsbm4-_9J358a3fPoS9lx5szZZjjE/edit#gid=2138378482' target='_blank'>https://docs.google.com/spreadsheets/d/12s1bTFF0o4-i3iSsbm4-_9J358a3fPoS9lx5szZZjjE/edit#gid=2138378482</a>"
      ],
      "text/plain": [
       "<IPython.core.display.Markdown object>"
      ]
     },
     "execution_count": 6,
     "metadata": {},
     "output_type": "execute_result"
    }
   ],
   "source": [
    "Markdown(f\"Open your spreadsheet in a separate browser tab by clicking on this link: \\n \\n \\\n",
    "<a href='{viewing_url}' target='_blank'>{viewing_url}</a>\")"
   ]
  },
  {
   "cell_type": "markdown",
   "id": "0aad94cc",
   "metadata": {},
   "source": [
    "***\n",
    "## Step 3: Connecting the sensor devices\n",
    "\n",
    "At this point, you should connect the Phidgets hardware to your computer. This includes 4 separate devices:\n",
    "- the Phidget VINT device, attached to the computer's USB port\n",
    "- the combined temperature/humidity sensor, attached to the VINT\n",
    "- the soil moisture sensor, attached to the VINT\n",
    "- the light sensor, attached to the VINT\n",
    "\n",
    "When you first attach the VINT device to the USB port, your computer may ask you (pop up) whether you wish to connect to this USB device. Please answer **\"yes\"** to this security request. \n",
    "\n",
    "We now go set up the software to communicate with the Phidget devices."
   ]
  },
  {
   "cell_type": "markdown",
   "id": "62b68595",
   "metadata": {},
   "source": [
    "### 3a. Creating the Phidget widget\n",
    "\n",
    "We create a widget to control the phidgets. This widget is called \"PhidgetFour_read\" and is designed to deal with the four phidget sensors (temperature, humidity, moisture and light level) that come with the Phidget plant kit.\n",
    "\n",
    "Once created, the Phidget widget is then connected to the gauges and the buttons in the user interface.\n",
    "\n",
    "However, you will not see the Phidget widget on the screen until step 3b.\n",
    "Click on `▶Run`"
   ]
  },
  {
   "cell_type": "code",
   "execution_count": 7,
   "id": "15b50028-df84-46ea-b25c-9001ee9dd5f4",
   "metadata": {},
   "outputs": [],
   "source": [
    "## define the class\n",
    "class PhidgetFour_read(anywidget.AnyWidget):\n",
    "    _esm = pathlib.Path(\"ph4read.js\")\n",
    "    _css = pathlib.Path(\"ph4xx.css\")\n",
    "    # These 5 variables are used by the widget class. Do not delete. \n",
    "    hubPort = traitlets.Int(0).tag(sync=True)   \n",
    "    temperature = traitlets.Float(0).tag(sync=True)\n",
    "    humidity = traitlets.Float(0).tag(sync=True)\n",
    "    moisture = traitlets.Float(0).tag(sync=True)\n",
    "    luminance = traitlets.Float(0).tag(sync=True)\n",
    "\n",
    "## create the PhidgetFour widget and name it pf\n",
    "pf = PhidgetFour_read()\n",
    "\n",
    "# connect the Phidget widget to the gauges in the user interface\n",
    "def updateTemperature(change):\n",
    "    gauges.data[0]['value'] = change.new\n",
    "def updateHumidity(change):\n",
    "    gauges.data[1]['value'] = change.new\n",
    "def updateMoisture(change):\n",
    "    gauges.data[2]['value'] = change.new\n",
    "def updateLuminance(change):\n",
    "    gauges.data[3]['value'] = change.new\n",
    "pf.observe(updateTemperature, names=[\"temperature\"])\n",
    "pf.observe(updateHumidity, names=[\"humidity\"])\n",
    "pf.observe(updateMoisture, names=[\"moisture\"])\n",
    "pf.observe(updateLuminance, names=[\"luminance\"])\n",
    "\n",
    "## Now we connect the data button in the user interface to the Phidget widget named pf\n",
    "def update_gauges(button):\n",
    "    pf.send(\"read\")\n",
    "data_button.on_click(update_gauges)"
   ]
  },
  {
   "cell_type": "markdown",
   "id": "8a2d644d",
   "metadata": {},
   "source": [
    "### 3b. Opening the USB connection\n",
    "\n",
    "Steps connecting your USB device to your Phidget VINT device to your computer. \n",
    "1. The VINT must be plugged into your computer's USB port. \n",
    "1. Click on `▶Run` in the following cell\n",
    "1. You will see two buttons. Click on the first one, to connect the Phidget devices\n",
    "1. Follow the prompts to select the VINT device (a list appears that you should click on). This will pair the device with your computer. "
   ]
  },
  {
   "cell_type": "code",
   "execution_count": 8,
   "id": "61039e90-109f-4dfe-bb7d-67db82995b9a",
   "metadata": {},
   "outputs": [
    {
     "data": {
      "application/vnd.jupyter.widget-view+json": {
       "model_id": "f64ea4ca5ff94e8d90f9ae7cb7ebe15d",
       "version_major": 2,
       "version_minor": 0
      },
      "text/plain": [
       "PhidgetFour_read()"
      ]
     },
     "metadata": {},
     "output_type": "display_data"
    }
   ],
   "source": [
    "pf"
   ]
  },
  {
   "cell_type": "markdown",
   "id": "f659c61a-ceb7-402f-80eb-017965a89f86",
   "metadata": {},
   "source": [
    "This should open a window that asks you to select the Phidget Hub. Do so, and click \"OK.\" The window looks like this:\n",
    "\n",
    "<img src=\"images/Pconnect.png\" width=300>\n",
    "<div align=\"left\">"
   ]
  },
  {
   "cell_type": "markdown",
   "id": "b1fafc82",
   "metadata": {},
   "source": [
    "### 3c. Confirm the USB connection \n",
    "\n",
    "The second button above will read the data. \n",
    "The status line will tell you if the USB and devices are connected.\n",
    "\n",
    "Click on the second button to read the data. \n",
    "\n",
    "\n",
    "#### Troubleshooting and/or not working?\n",
    "If your are unable to read the data from the sensors, you can try the following:\n",
    "\n",
    "1. Click disconnect and reconnect botton in this notebook\n",
    "2.Check that the senors are connected to the VINT HUB Phidgets"
   ]
  },
  {
   "cell_type": "markdown",
   "id": "1c3b0db3",
   "metadata": {},
   "source": [
    "## Step 4: Setup code to display and post the data\n",
    "\n",
    "The following code grabs data from the gauges and posts it onto the online spreadsheet. In the text boxes, it will also display what data was collected and the result of the online post. Results codes like 200 or 202 are good. \n",
    "\n",
    "TIME ZONE CHANGE: If you like, you can change the time zone 'Canada/Pacific' below to your time zone. For instance, for Alberta, change it to 'Canada/Mountain'\n",
    "\n",
    "The code is connected to a button on the display, so it posts whenever you click the button.\n",
    "\n",
    "\n",
    "Click on `▶Run`"
   ]
  },
  {
   "cell_type": "code",
   "execution_count": null,
   "id": "e245c5ca",
   "metadata": {},
   "outputs": [],
   "source": [
    "# set the time zone\n",
    "tz = pytz.timezone('Canada/Pacific')\n",
    "\n",
    "# here we update the data results to gauges (g) then post to the spreadsheet. \n",
    "def post_stuff(button):\n",
    "    data = {'Date':datetime.now(tz).strftime(\"%Y-%m-%d\"),\n",
    "                'Time':datetime.now(tz).strftime(\"%H:%M:%S\"), \n",
    "                'Temperature':f'{gauges.data[0][\"value\"]:.2f}', \n",
    "                'Humidity':f'{gauges.data[1][\"value\"]:.2f}', \n",
    "                'Moisture':f'{gauges.data[2][\"value\"]:.2f}', \n",
    "                'Luminance':f'{gauges.data[3][\"value\"]:.2f}'}\n",
    "    data_monitor.value = str(list(data.values()))\n",
    "    r = requests.post(sheet_url, params={'sheet':sheet_name, 'data':json.dumps(data)})\n",
    "    post_monitor.value = datetime.now(tz).strftime(\"%Y-%m-%d,%H:%M:%S\") + \", Status: \" + str(r.status_code)\n",
    "    \n",
    "post_button.on_click(post_stuff)"
   ]
  },
  {
   "cell_type": "markdown",
   "id": "ce687ebf",
   "metadata": {},
   "source": [
    "The dashboard is now ready to run. The buttons will now work, to update the gauges and to post data. \n",
    "\n",
    "Click on `▶Run` in the following cell."
   ]
  },
  {
   "cell_type": "code",
   "execution_count": null,
   "id": "a7bbbae1",
   "metadata": {},
   "outputs": [],
   "source": [
    "display(dashboard)"
   ]
  },
  {
   "cell_type": "markdown",
   "id": "737f841f",
   "metadata": {},
   "source": [
    "### YAY. We are all done\n",
    "\n",
    "The data will be updated each time you click the \"Update gauges\" button. To post this new data, click the \"Post to spreadsheet\" button. \n",
    "\n",
    "You can  see the results in the text boxes, and check the online spreadsheet. The following cell shows the current spreadsheet, which will update when you click the \"Post to spreadsheet\" button.\n",
    "\n",
    "Click on `▶Run`"
   ]
  },
  {
   "cell_type": "code",
   "execution_count": null,
   "id": "30211ffe",
   "metadata": {},
   "outputs": [],
   "source": [
    "Markdown(f\"Open your spreadsheet in a separate browser tab by clicking on this link: \\n \\n \\\n",
    "<a href='{viewing_url}' target='_blank'>{viewing_url}</a>\")"
   ]
  },
  {
   "cell_type": "markdown",
   "id": "f936e378",
   "metadata": {},
   "source": [
    "***\n",
    "## Step 5. Going further with automation\n",
    "\n",
    "We have the users to manually update the gauges, as this is to make sure the data is up to date Jupyter Hubs. \n",
    "\n",
    "But you can automate this and we have the gauges update automatically using a timer in Python but **not always reliable**. \n",
    "\n",
    "To have the data continuously updated, we need change the following code  line **\"test_code = False\" to \"test_code = True\"**\n",
    "\n",
    "If you are experiencing issues, you may need to restart the kernel and change the test code back to False.\n",
    "\n",
    "Click on `▶Run`"
   ]
  },
  {
   "cell_type": "code",
   "execution_count": null,
   "id": "b8264814",
   "metadata": {},
   "outputs": [],
   "source": [
    "test_code = False\n",
    "\n",
    "def post_loop(g):\n",
    "    total = 100*24*4 ## post for 100 days (4 per hour gives 100*24*4 total)\n",
    "    for i in range(total):\n",
    "        if stop_thread:\n",
    "            break\n",
    "        update_gauges(0)\n",
    "        sleep(2)\n",
    "        post_stuff(0)\n",
    "        sleep(15*60-3)  ## Sleep for 15 minutes before next post\n",
    "        \n",
    "if test_code:\n",
    "    stop_thread = False\n",
    "    thread = threading.Thread(target=post_loop,args=(gauges,))  \n",
    "    thread.start()"
   ]
  },
  {
   "cell_type": "markdown",
   "id": "7c743b26",
   "metadata": {},
   "source": [
    "***\n",
    "## Step 6. Finishing up: Closing down the sensors.\n",
    "\n",
    "Once you are done with the Phidgets, you should close them down. This makes the devices available to other software or other users of the computer.\n",
    "\n",
    "To disconnect, click on the Phidget widget button above that says \"Disconnect.\"\n",
    "\n",
    "Or, simply close this notebook. The Phidgets will then automatically disconnect. "
   ]
  },
  {
   "cell_type": "markdown",
   "id": "2e261121",
   "metadata": {},
   "source": [
    "## Conclusion\n",
    "\n",
    "We have demonstrated the process of running a utility that retrieves Phidget sensor data and publishes it on the web. This operation involves a combination of Javascript and Python to interact with both the front-end and back-end components within the Jupyter notebook environment.\n",
    "\n",
    "If you plan to collect data over an extended period, it's essential to have the Jupyter \"Hub\" software installed on your local computer. Please note that if you run this software on the [Callysto hub](https://hub.callysto.ca), it may automatically disconnect after approximately a day of continuous data collection.\n",
    "\n",
    "### Next Notebook\n",
    "You may now go to the [next notebook](./plants-watering-anywidget.ipynb) to set up watering for your plant.\n",
    "\n",
    "***\n",
    "For additional support or inquiries related to this notebook, feel free to reach out to M. Lamoureux or Mary Grant, who serve as Callysto ambassadors. They can provide further details and assistance."
   ]
  },
  {
   "cell_type": "markdown",
   "id": "ba7ee230",
   "metadata": {},
   "source": [
    "[![Callysto.ca License](https://github.com/callysto/curriculum-notebooks/blob/master/callysto-notebook-banner-bottom.jpg?raw=true)](https://github.com/callysto/curriculum-notebooks/blob/master/LICENSE.md)"
   ]
  }
 ],
 "metadata": {
  "kernelspec": {
   "display_name": "Python 3 (ipykernel)",
   "language": "python",
   "name": "python3"
  },
  "language_info": {
   "codemirror_mode": {
    "name": "ipython",
    "version": 3
   },
   "file_extension": ".py",
   "mimetype": "text/x-python",
   "name": "python",
   "nbconvert_exporter": "python",
   "pygments_lexer": "ipython3",
   "version": "3.9.12"
  }
 },
 "nbformat": 4,
 "nbformat_minor": 5
}
