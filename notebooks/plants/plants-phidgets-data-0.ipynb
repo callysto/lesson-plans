{
 "cells": [
  {
   "cell_type": "markdown",
   "id": "a954153d",
   "metadata": {},
   "source": [
    "![Callysto.ca Banner](https://github.com/callysto/curriculum-notebooks/blob/master/callysto-notebook-banner-top.jpg?raw=true)\n",
    "\n"
   ]
  },
  {
   "cell_type": "markdown",
   "id": "f6c36172",
   "metadata": {},
   "source": [
    "## plants-phidgets-data\n",
    "\n",
    "This is a utility notebook, to collect data from sensors around a plant and store in an online spreadsheet. The spreadsheet can then be accessed by anyone with the web address, to analysize the data.\n",
    "\n",
    "Ask M. Lamoureux for details. May 2023."
   ]
  },
  {
   "cell_type": "markdown",
   "id": "46f3a83c",
   "metadata": {},
   "source": [
    "<h2 style=\"color: red\">IMPORTANT</h2>\n",
    "You MUST click the <span style=\"color:red\">BIG, RED DISCONNECT BUTTON</span> at the end of this notebook when you are done. This tells the software to release the Phidget device, so it can be used by other notebooks you might try later."
   ]
  },
  {
   "cell_type": "markdown",
   "id": "93caa6f1",
   "metadata": {},
   "source": [
    "## Overview\n",
    "\n",
    "It takes quite a bit of setup to use this notebook appropriately.\n",
    "\n",
    "- you need the Phidget VINT device, with three sensors attached\n",
    "    - the temperature/humidity sensor (device type HUM1001_01)\n",
    "    - the light sensor (device type LUX1000_0)\n",
    "    - the moisture sensor (device type HUM1100)\n",
    "- a computer (Mac, Windows, Raspberry Pi) with USB connection and internet connection\n",
    "- the Chrome or Chromium Web browser\n",
    "- ideally, Jupyter software installed on the computer, to run independently of the Callysto Hub\n",
    "\n",
    "You should also choose the name of your online spreadsheet. Here, we are using the webpage called https://ethercalc.net/MyWeirdName23\n",
    "\n",
    "This what a typical setup looks like:\n",
    "\n",
    "<img src=\"images/plant2.jpg\" alt=\"A plant with sensor\" width=\"400\"/>\n",
    "<div align=\"center\">\n",
    "A basement window with our plant.\n",
    "</div>\n",
    "\n",
    "The notebook runs both Python code and Javascript (JS) code. The JS code is the front end, that talks to the browser and the Phidget devices collecting data. The Python code is the back end, taking care of things like dates, data format, and saving the data onto the online web spreadsheet.\n",
    "\n",
    "One very tricky aspect is getting the JS and Python engines talking to each other. This makes use of the \"Comms\" package in Jupyter that manages the communication between these two engines. One key feature of the Python engine (or kernel) is that when it is executing code, it cannot be interrupted by the JS engine. So even if you have a simple loop in Python, or a sleep command to pause Python, the JS engine cannot interrupt it to give it new data.\n",
    "\n",
    "So, our trick is to set a timer in JS that gathers data every few minutes, then sends a message to Python saying \"deal with this data.\" This triggers a Python code that looks at the data and decides if it is time to save it to the web. So in fact, the Python is not \"doing\" anything most of the time, so JS is not actually interrupting it. Instead, it is telling Python \"now is the time to deal with this data\" and the Python engine kicks in. "
   ]
  },
  {
   "cell_type": "markdown",
   "id": "ca2d3fdc",
   "metadata": {},
   "source": [
    "### Spreadsheet\n",
    "\n",
    "The spreadsheet can be viewed here:\n",
    "\n",
    "https://ethercalc.net/MyWeirdName23\n",
    "\n",
    "The 4 numbers following the date and time are temperature, humidity, moisture in the soil, and the light level. Here is a sample.\n",
    "\n",
    "|Date\t|Time\t|Temperature\t|Humidity\t|Moisture\t|Luminance |\n",
    "| ------ | ------ | ------ | ------ | ------ | ------ | \n",
    "|2023-04-30 |21:43:42\t|20.64\t|50.29\t|0.199\t|0.0193 |\n",
    "|2023-04-30\t|21:43:43\t|20.64\t|50.29\t|0.199\t|0.0193 |\n",
    "|2023-04-30\t|21:43:47\t|20.66\t|50.26\t|0.198\t|0.044 |\n",
    "|2023-04-30\t|21:43:47\t|20.64\t|50.26\t|0.198\t|0.044 |\n",
    "|2023-04-30\t|21:43:52\t|20.66\t|50.24\t|0.199\t|0.043 |"
   ]
  },
  {
   "cell_type": "markdown",
   "id": "0aad94cc",
   "metadata": {},
   "source": [
    "## Setup the Phidget devices\n",
    "\n",
    "You must be running on Chrome or Chromium on your laptop or desktop, and the Phidget VINT device needs to be connected to the USB port on your computer. \n",
    "\n",
    "The VINT device must have three sensors attached: the temperature/humidity sensor, the light sensor, and the soil moisture sensor.\n",
    "\n",
    "The main steps are:\n",
    "\n",
    "0. Import some Python libraries\n",
    "1. Import the Phidget library, in Javascript\n",
    "2. Define and open the USB connection\n",
    "3. Open the Phidget devices\n",
    "4. Set up Python code to post data to the online web spreadsheet\n",
    "5. Set up the Comms channel, so JS and Python can talk to each other\n",
    "6. Initiate the JS engine to start collecting data\n",
    "7. Let it run for a few hours, or days, to collect data\n",
    "8. When we are done, close the devices and USB connection\n"
   ]
  },
  {
   "cell_type": "markdown",
   "id": "62b68595",
   "metadata": {},
   "source": [
    "## Step 0. Python Libraries\n",
    "\n",
    "Let's import a few Python libraries that we need. "
   ]
  },
  {
   "cell_type": "code",
   "execution_count": 1,
   "id": "fef61e70",
   "metadata": {},
   "outputs": [],
   "source": [
    "import ipywidgets as widgets\n",
    "from time import sleep\n",
    "import requests\n",
    "from datetime import datetime, timedelta"
   ]
  },
  {
   "cell_type": "markdown",
   "id": "f3d2fb76",
   "metadata": {},
   "source": [
    "## Step 1. Phidgets library.\n",
    "\n",
    "Now import the Phidgets library. \n",
    "\n",
    "We are using a special library for debugging purposes. We will need to update this when the Phidgets company finishes their testing. \n",
    "\n",
    "Special library is here: https://www.phidgets.com/downloads/testing/phidget22"
   ]
  },
  {
   "cell_type": "code",
   "execution_count": 2,
   "id": "f0e32bea",
   "metadata": {},
   "outputs": [
    {
     "data": {
      "application/javascript": [
       "requirejs.config({\n",
       "    paths: { \n",
       "        'phidget22': ['https://www.phidgets.com/downloads/testing/phidget22'], \n",
       "    },                                         \n",
       "});\n",
       "require(['phidget22'], (phidget22) => {\n",
       "   window.phidget22 = phidget22; \n",
       "});\n"
      ],
      "text/plain": [
       "<IPython.core.display.Javascript object>"
      ]
     },
     "metadata": {},
     "output_type": "display_data"
    }
   ],
   "source": [
    "%%js\n",
    "requirejs.config({\n",
    "    paths: { \n",
    "        'phidget22': ['https://www.phidgets.com/downloads/testing/phidget22'], \n",
    "    },                                         \n",
    "});\n",
    "require(['phidget22'], (phidget22) => {\n",
    "   window.phidget22 = phidget22; \n",
    "});"
   ]
  },
  {
   "cell_type": "code",
   "execution_count": 3,
   "id": "76ab55d1",
   "metadata": {},
   "outputs": [],
   "source": [
    "## We pause for a second here, to allow the library to load\n",
    "sleep(1)"
   ]
  },
  {
   "cell_type": "markdown",
   "id": "8a2d644d",
   "metadata": {},
   "source": [
    "## Step 2. Open USB\n",
    "\n",
    "We now open a USB connection.  "
   ]
  },
  {
   "cell_type": "code",
   "execution_count": 4,
   "id": "9e4cb799",
   "metadata": {},
   "outputs": [
    {
     "data": {
      "application/javascript": [
       "\n",
       "if (window.usbconn === undefined) {\n",
       "    \n",
       "    element.text(\"Creating a new USB Connection.\");\n",
       "    \n",
       "    window.usbconn = new phidget22.USBConnection();\n",
       "    \n",
       "    usbconn.connect().then(() => {\n",
       "        usbconn.requestWebUSBDeviceAccess();\n",
       "    }).catch(err => {\n",
       "        window.usbconn.delete();\n",
       "        element.append(\"Error connecting to USB\" + err);\n",
       "    });\n",
       "}\n"
      ],
      "text/plain": [
       "<IPython.core.display.Javascript object>"
      ]
     },
     "metadata": {},
     "output_type": "display_data"
    }
   ],
   "source": [
    "%%js\n",
    "\n",
    "if (window.usbconn === undefined) {\n",
    "    \n",
    "    element.text(\"Creating a new USB Connection.\");\n",
    "    \n",
    "    window.usbconn = new phidget22.USBConnection();\n",
    "    \n",
    "    usbconn.connect().then(() => {\n",
    "        usbconn.requestWebUSBDeviceAccess();\n",
    "    }).catch(err => {\n",
    "        window.usbconn.delete();\n",
    "        element.append(\"Error connecting to USB\" + err);\n",
    "    });\n",
    "}"
   ]
  },
  {
   "cell_type": "code",
   "execution_count": 5,
   "id": "fa760a18",
   "metadata": {},
   "outputs": [],
   "source": [
    "## We rest for a bit while the USB connects\n",
    "sleep(1)"
   ]
  },
  {
   "cell_type": "markdown",
   "id": "b1fafc82",
   "metadata": {},
   "source": [
    "### Confirm the connection "
   ]
  },
  {
   "cell_type": "code",
   "execution_count": 6,
   "id": "d2ace047",
   "metadata": {},
   "outputs": [
    {
     "data": {
      "application/javascript": [
       "element.text(usbconn.connected);\n"
      ],
      "text/plain": [
       "<IPython.core.display.Javascript object>"
      ]
     },
     "metadata": {},
     "output_type": "display_data"
    }
   ],
   "source": [
    "%%js\n",
    "element.text(usbconn.connected);"
   ]
  },
  {
   "cell_type": "markdown",
   "id": "8dd323b8",
   "metadata": {},
   "source": [
    "## Step 3. Connect the sensors\n",
    "\n",
    "We make a request to open the four different sensors. We pause between each one, and check that they are connected. "
   ]
  },
  {
   "cell_type": "code",
   "execution_count": 7,
   "id": "36a90a01",
   "metadata": {},
   "outputs": [
    {
     "data": {
      "application/javascript": [
       "window.humSensor = new phidget22.HumiditySensor();\n",
       "humSensor.open();\n"
      ],
      "text/plain": [
       "<IPython.core.display.Javascript object>"
      ]
     },
     "metadata": {},
     "output_type": "display_data"
    }
   ],
   "source": [
    "%%js\n",
    "window.humSensor = new phidget22.HumiditySensor();\n",
    "humSensor.open();"
   ]
  },
  {
   "cell_type": "code",
   "execution_count": 8,
   "id": "48a11ba0",
   "metadata": {},
   "outputs": [],
   "source": [
    "sleep(1)"
   ]
  },
  {
   "cell_type": "code",
   "execution_count": 9,
   "id": "33cef859",
   "metadata": {},
   "outputs": [
    {
     "data": {
      "application/javascript": [
       "element.text(\"Is the humidity sensor attached? \" + humSensor.attached);\n"
      ],
      "text/plain": [
       "<IPython.core.display.Javascript object>"
      ]
     },
     "metadata": {},
     "output_type": "display_data"
    }
   ],
   "source": [
    "%%js\n",
    "element.text(\"Is the humidity sensor attached? \" + humSensor.attached);"
   ]
  },
  {
   "cell_type": "code",
   "execution_count": 10,
   "id": "9c63d0a3",
   "metadata": {},
   "outputs": [
    {
     "data": {
      "application/javascript": [
       "window.tempSensor = new phidget22.TemperatureSensor();\n",
       "tempSensor.open();\n"
      ],
      "text/plain": [
       "<IPython.core.display.Javascript object>"
      ]
     },
     "metadata": {},
     "output_type": "display_data"
    }
   ],
   "source": [
    "%%js\n",
    "window.tempSensor = new phidget22.TemperatureSensor();\n",
    "tempSensor.open();"
   ]
  },
  {
   "cell_type": "code",
   "execution_count": 11,
   "id": "28758db4",
   "metadata": {},
   "outputs": [],
   "source": [
    "sleep(1)"
   ]
  },
  {
   "cell_type": "code",
   "execution_count": 12,
   "id": "b0f044c4",
   "metadata": {},
   "outputs": [
    {
     "data": {
      "application/javascript": [
       "element.text(\"Is the temperature sensor attached? \" + tempSensor.attached);\n"
      ],
      "text/plain": [
       "<IPython.core.display.Javascript object>"
      ]
     },
     "metadata": {},
     "output_type": "display_data"
    }
   ],
   "source": [
    "%%js\n",
    "element.text(\"Is the temperature sensor attached? \" + tempSensor.attached);"
   ]
  },
  {
   "cell_type": "code",
   "execution_count": 13,
   "id": "0cce6ccc",
   "metadata": {},
   "outputs": [
    {
     "data": {
      "application/javascript": [
       "window.vrSensor = new phidget22.VoltageRatioInput();\n",
       "vrSensor.open();\n"
      ],
      "text/plain": [
       "<IPython.core.display.Javascript object>"
      ]
     },
     "metadata": {},
     "output_type": "display_data"
    }
   ],
   "source": [
    "%%js\n",
    "window.vrSensor = new phidget22.VoltageRatioInput();\n",
    "vrSensor.open();"
   ]
  },
  {
   "cell_type": "code",
   "execution_count": 14,
   "id": "13b4cab6",
   "metadata": {},
   "outputs": [],
   "source": [
    "sleep(1)"
   ]
  },
  {
   "cell_type": "code",
   "execution_count": 15,
   "id": "c2653f7a",
   "metadata": {},
   "outputs": [
    {
     "data": {
      "application/javascript": [
       "element.text(\"Is the moisture sensor attached? \" + vrSensor.attached);\n"
      ],
      "text/plain": [
       "<IPython.core.display.Javascript object>"
      ]
     },
     "metadata": {},
     "output_type": "display_data"
    }
   ],
   "source": [
    "%%js\n",
    "element.text(\"Is the moisture sensor attached? \" + vrSensor.attached);"
   ]
  },
  {
   "cell_type": "code",
   "execution_count": 16,
   "id": "07805e1b",
   "metadata": {},
   "outputs": [
    {
     "data": {
      "application/javascript": [
       "window.liteSensor = new phidget22.LightSensor();\n",
       "liteSensor.open();\n"
      ],
      "text/plain": [
       "<IPython.core.display.Javascript object>"
      ]
     },
     "metadata": {},
     "output_type": "display_data"
    }
   ],
   "source": [
    "%%js\n",
    "window.liteSensor = new phidget22.LightSensor();\n",
    "liteSensor.open();"
   ]
  },
  {
   "cell_type": "code",
   "execution_count": 17,
   "id": "9489cc9f",
   "metadata": {},
   "outputs": [],
   "source": [
    "sleep(1)"
   ]
  },
  {
   "cell_type": "code",
   "execution_count": 18,
   "id": "4f5f0484",
   "metadata": {},
   "outputs": [
    {
     "data": {
      "application/javascript": [
       "element.text(\"Is the light sensor attached? \" + liteSensor.attached);\n"
      ],
      "text/plain": [
       "<IPython.core.display.Javascript object>"
      ]
     },
     "metadata": {},
     "output_type": "display_data"
    }
   ],
   "source": [
    "%%js\n",
    "element.text(\"Is the light sensor attached? \" + liteSensor.attached);"
   ]
  }
 ],
 "metadata": {
  "kernelspec": {
   "display_name": "Python 3 (ipykernel)",
   "language": "python",
   "name": "python3"
  },
  "language_info": {
   "codemirror_mode": {
    "name": "ipython",
    "version": 3
   },
   "file_extension": ".py",
   "mimetype": "text/x-python",
   "name": "python",
   "nbconvert_exporter": "python",
   "pygments_lexer": "ipython3",
   "version": "3.9.13"
  }
 },
 "nbformat": 4,
 "nbformat_minor": 5
}
