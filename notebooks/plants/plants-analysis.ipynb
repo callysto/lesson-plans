{
 "cells": [
  {
   "cell_type": "markdown",
   "id": "63c13319",
   "metadata": {},
   "source": [
    "![Callysto.ca Banner](https://github.com/callysto/curriculum-notebooks/blob/master/callysto-notebook-banner-top.jpg?raw=true)"
   ]
  },
  {
   "cell_type": "markdown",
   "id": "604d4040",
   "metadata": {},
   "source": [
    "## Analysis of a Plant's Environment\n",
    "\n",
    "In this short notebook, we look at some data collected from a house plant growing in one of our homes.\n",
    "\n",
    "<img src=\"images/plant2.jpg\" alt=\"A plant with sensor\" width=\"400\"/>\n",
    "<div align=\"center\">\n",
    "\n",
    "A basement window with our plant.\n",
    "</div>\n",
    "\n",
    "We have a number of data sensors around the plant, made by the [Phidgets company]( https://www.phidgets.com/). These sensors keep track of the temperature, humidity, soil moisture, and light levels. Values from the sensors have been recorded several times a day and stored in an online spreadsheet. \n",
    "\n",
    "You can see the spreadsheet here: https://ethercalc.net/callysto_plant_01\n",
    "\n",
    "The sensors measure data in different units:\n",
    "- Temperature, in degrees Celsius. e.g. $20^o C$ is room temperature.\n",
    "- Humidity, as a percentage. e.g. 30% to 60% humidity is a typical room. \n",
    "- Moisture, as a ratio. e.g. 0.0 is bone dry, 1.0 is soaking wet.\n",
    "- Luminance, in lux. e.g. 1,000 lux is the light outdoors on a dark, cloudy day.\n",
    "\n",
    "In this notebook, we download the data and save it in a Pandas Dataframe. From there we can plot the data, and perform some numerical calculations that give us an idea about the state of the plant's environment.\n"
   ]
  },
  {
   "cell_type": "markdown",
   "id": "fd015023",
   "metadata": {},
   "source": [
    "## Step 1 - Libraries\n",
    "\n",
    "Let's import some Python libraries for Pandas, Plotly, and tools for dealing with dates and times. "
   ]
  },
  {
   "cell_type": "code",
   "execution_count": null,
   "id": "5b9475fa",
   "metadata": {},
   "outputs": [],
   "source": [
    "import pandas as pd\n",
    "import plotly.express as px\n",
    "from datetime import datetime"
   ]
  },
  {
   "cell_type": "markdown",
   "id": "38e47926",
   "metadata": {},
   "source": [
    "## Step 2 - Getting some data\n",
    "\n",
    "Let's get some plant data that we have stored as a file with this notebook. \n",
    "\n",
    "The following code reads in the data file and shows it as a data frame. We will call it **df** to represent the initial data set. Later, we will store a subset of the data in a new dataframe called **df_m** (for the modified data frame). "
   ]
  },
  {
   "cell_type": "code",
   "execution_count": null,
   "id": "e7b14ec1",
   "metadata": {},
   "outputs": [],
   "source": [
    "df = pd.read_csv('./data/Plant_00.csv')\n",
    "df"
   ]
  },
  {
   "cell_type": "markdown",
   "id": "ac998eb4",
   "metadata": {},
   "source": [
    "You should above see about 5000 rows with 6 columns of data in it."
   ]
  },
  {
   "cell_type": "markdown",
   "id": "b6409cdf",
   "metadata": {},
   "source": [
    "## Step 3 - Adding datetime\n",
    "\n",
    "Let's fix the time format, and add a \"datetime\" stamp by combining date and time into a single column. This will help us when plotting the data.\n",
    "\n"
   ]
  },
  {
   "cell_type": "code",
   "execution_count": null,
   "id": "7961cf14",
   "metadata": {},
   "outputs": [],
   "source": [
    "df['Time'] = df['Time'].apply(lambda x: datetime.strptime(x,\"%H:%M:%S\").strftime(\"%H:%M:%S\"))\n",
    "df[\"DateTime\"] = df[\"Date\"] + ' ' + df[\"Time\"]\n",
    "df"
   ]
  },
  {
   "cell_type": "markdown",
   "id": "9253fffa",
   "metadata": {},
   "source": [
    "## Step 4 - First plots\n",
    "\n",
    "Using Plotly, let's do some initial plots of the four different measurements: Temperature, Humidity, Moisture and Luminance. "
   ]
  },
  {
   "cell_type": "code",
   "execution_count": null,
   "id": "121897fc",
   "metadata": {},
   "outputs": [],
   "source": [
    "fig1 = px.scatter(df, x=\"DateTime\", y=\"Temperature\", \n",
    "                 title=\"Temperature versus Time\")\n",
    "fig2 = px.scatter(df, x=\"DateTime\", y=\"Humidity\", \n",
    "                 title=\"Humidity versus Time\")\n",
    "fig3 = px.scatter(df, x=\"DateTime\", y=\"Moisture\", \n",
    "                 title=\"Moisture versus Time\")\n",
    "fig4 = px.scatter(df, x=\"DateTime\", y=\"Luminance\", \n",
    "                 title=\"Luminance versus Time\")\n",
    "fig1.show(), fig2.show(), fig3.show(), fig4.show()"
   ]
  },
  {
   "cell_type": "markdown",
   "id": "473b2634",
   "metadata": {},
   "source": [
    "## Step 5 - First observations\n",
    "\n",
    "Let's check to see what the range of dates are present in the database."
   ]
  },
  {
   "cell_type": "code",
   "execution_count": null,
   "id": "1727ac0f",
   "metadata": {},
   "outputs": [],
   "source": [
    "print(\"Start and end dates are\",df[\"Date\"].min(), \"and\", df[\"Date\"].max())"
   ]
  },
  {
   "cell_type": "markdown",
   "id": "c329bac3",
   "metadata": {},
   "source": [
    "We see there is a lot of missing data in the above plots, especially early on. \n",
    "\n",
    "Let's ignore this data, and pick a two week period starting when the data is stable. In the following, we pick the data of May 16 to May 30. You will need to change this when examining your own plant data. \n",
    "\n",
    "We call this modified data frame **df_m**. This way, if you want to change the date range, the initial data in **df** is still saved for you. "
   ]
  },
  {
   "cell_type": "code",
   "execution_count": null,
   "id": "5349935a",
   "metadata": {},
   "outputs": [],
   "source": [
    "start_date = '2023-05-16'\n",
    "end_date = '2023-05-30'\n",
    "# Select DataFrame rows between two dates\n",
    "mask = (df['Date'] >= start_date) & (df['Date'] <= end_date)\n",
    "df_m = df[mask]\n",
    "df_m"
   ]
  },
  {
   "cell_type": "markdown",
   "id": "e3971e62",
   "metadata": {},
   "source": [
    "## Now the plots are better\n",
    "\n",
    "We plot with the modified data in **df_m**.\n"
   ]
  },
  {
   "cell_type": "code",
   "execution_count": null,
   "id": "6726435d",
   "metadata": {},
   "outputs": [],
   "source": [
    "fig1 = px.scatter(df_m, x=\"DateTime\", y=\"Temperature\", \n",
    "                 title=\"Temperature versus Time\")\n",
    "fig2 = px.scatter(df_m, x=\"DateTime\", y=\"Humidity\", \n",
    "                 title=\"Humidity versus Time\")\n",
    "fig3 = px.scatter(df_m, x=\"DateTime\", y=\"Moisture\", \n",
    "                 title=\"Moisture versus Time\")\n",
    "fig4 = px.scatter(df_m, x=\"DateTime\", y=\"Luminance\", \n",
    "                 title=\"Luminance versus Time\")\n",
    "fig1.show(), fig2.show(), fig3.show(), fig4.show()"
   ]
  },
  {
   "cell_type": "markdown",
   "id": "aa58c863",
   "metadata": {},
   "source": [
    "## Step 6: Analyzing the data\n",
    "\n",
    "Before doing any statistical analysis, what can we discover just by looking at the raw data?\n",
    "\n",
    "1. What is the typical range of: \n",
    "    - Temperature? \n",
    "    - Humidity?\n",
    "    - Moisture? \n",
    "    - Luminance?\n",
    "2. Are the any jumps in the data? \n",
    "    - We might expect a jump in moisture when the plant gets watered. \n",
    "    - Can you find the day and time the plant was watered?\n",
    "    - Are there other places where you see a jump in data? Why do you think it jumps?\n",
    "3. One day, when the moisture jumped, the humidity also briefly jumped. Why?\n",
    "    - Was it a rainy day?  Rain moistened the plant and also raised the humidity in the air?\n",
    "    - Was someone taking a shower and the air in the room got humid?\n",
    "    - Did someone spill water on the humidity sensor while trying to water the plant?\n",
    "    - What do you think happened?\n",
    "3. Is there any correlation with time of day and the various data? \n",
    "    - Temperature? \n",
    "    - Humidity?\n",
    "    - Moisture? \n",
    "    - Luminance?\n",
    "4. It looks like temperature goes up when humidity goes down, and vice versa. Can you state this more precisely?\n",
    "5. Does temperature go up with luminance? Or not?\n",
    "6. What conclusions might you draw from this data? Some good questions include:\n",
    "    - Is this an indoor plant? \n",
    "    - Can you say anything about the house it is in? \n",
    "    - Does the house have air conditioning for summer? \n",
    "    - Does the house have heating for winter? \n",
    "    - Are there indoor lights, or is the plant only seeing sunlight?\n",
    "    - What other conclusions can you draw from the data?\n"
   ]
  },
  {
   "cell_type": "markdown",
   "id": "f8a3c76b",
   "metadata": {},
   "source": [
    "## Step 6a: Analyzing the data - temperature and humidity\n",
    "\n",
    "We can graph humidity versus temperature to see if there are any obvious correlations. \n",
    "\n",
    "The Plotly graphing package allows us to indicate the date via a color of the marker on the graph. By doing, we can see how the data clusters by day. "
   ]
  },
  {
   "cell_type": "code",
   "execution_count": null,
   "id": "0e41afee",
   "metadata": {},
   "outputs": [],
   "source": [
    "fig4 = px.scatter(df_m, x=\"Temperature\", y=\"Humidity\", color=\"Date\",\n",
    "                 title=\"Humidity versus Temperature\")\n",
    "\n",
    "fig4.show()"
   ]
  },
  {
   "cell_type": "markdown",
   "id": "619f9d45",
   "metadata": {},
   "source": [
    "## Observations\n",
    "\n",
    "The colors of the dots in the above graph show how the data clusters by day. Clicking on the legend on the right, you can select specific dates to examine more closely. Are there some dates where the data cluster tightly? Others more loosely? What might that mean?"
   ]
  },
  {
   "cell_type": "markdown",
   "id": "e46bd47b",
   "metadata": {},
   "source": [
    "## Step 6b: Analyzing the data - light and time of day\n",
    "\n",
    "We can expect sunlight in the daytime, and darkness at night. Let's plot the luminance data as a function of time of day.\n",
    "\n",
    "Again, we can color the dots by \"Date\" to get an indication of how the data clusters based on the actual day. We also add the \"category order\" in order to sort the times in proper order along the x-axis."
   ]
  },
  {
   "cell_type": "code",
   "execution_count": null,
   "id": "740fa44d",
   "metadata": {},
   "outputs": [],
   "source": [
    "fig5 = px.scatter(df_m, x=\"Time\", y=\"Luminance\", color=\"Date\",\n",
    "                 title=\"Luminance versus Time of Day\")\n",
    "fig5.update_layout(xaxis_categoryorder = 'category ascending')\n",
    "fig5.show()"
   ]
  },
  {
   "cell_type": "markdown",
   "id": "549d66e3",
   "metadata": {},
   "source": [
    "## Observations\n",
    "\n",
    "We see the luminance peaks around 14:00 hours, which is 2:00 in the afternoon. That makes sense, as mid-afternoon is the brightest time of the day. \n",
    "\n",
    "We also see a small peak at 11:00 am, which dips downwards to about 1:00 pm, then goes up again. Why could this be?\n",
    "- Is the sun briefly darker each day?\n",
    "- Is there some dude walking in front of our plant each day at the same time?\n",
    "- Is the sun moving behind a tree or building which casts a shadow on our plant each morning?\n",
    "    \n",
    "What do you think?\n",
    "\n",
    "There are little blips of light around 9:00pm or 10:00pm on several days. What is going on here?\n",
    "- Is the sun briefly appearing in the middle of the night?\n",
    "- Is the moon shining on our plant?\n",
    "- Is some dude walking by with a flashlight?\n",
    "- Is someone working late in the evening, and turning on room lights where the plant is?\n",
    "\n",
    "What do you think?\n",
    "\n",
    "May 16 and May 17 are a bit unusual. \n",
    "- Describe the features of the data that make these two days stand out as different from the others.\n",
    "- Can you suggest reasons **why** these two days are unusual? What might have happened on those days?\n",
    "\n",
    "Notice there is a difference between **noticing** something unusual in the data, and **knowing** what actually happened to make that data be unusual."
   ]
  },
  {
   "cell_type": "markdown",
   "id": "5f51eb29",
   "metadata": {},
   "source": [
    "## Step 6c: Statistical analysis\n",
    "\n",
    "From the observations above, can we come up with numerical statements that make these observations quantifiable. \n",
    "\n",
    "For instance, we saw that temperature and humidity seemed to cluster together on certain days. Is there a trend line we can see?\n",
    "\n",
    "We use Plotly, with the \"trendline\" parameter to attach a linear trend to each cluster of daily data. We see the result below. "
   ]
  },
  {
   "cell_type": "code",
   "execution_count": null,
   "id": "4906e08b",
   "metadata": {},
   "outputs": [],
   "source": [
    "fig6 = px.scatter(df_m, x=\"Temperature\", y=\"Humidity\", color=\"Date\",\n",
    "            trendline=\"ols\", template=\"simple_white\", title=\"Humidity vs Temperature\")\n",
    "fig6.show()"
   ]
  },
  {
   "cell_type": "markdown",
   "id": "abc5c3e7",
   "metadata": {},
   "source": [
    "## Observation\n",
    "\n",
    "Most of the trendlines in the previous graph appear to slope downwards. What does this mean?\n",
    "- as temperature goes up, the humidity tends to goes up? Or,\n",
    "- As temperature goes up, the humidity tends to go down?\n",
    "\n",
    "Which do you think it is?\n",
    "\n",
    "While most dates have downward sloping trend line, May 24 stands out as a noticably increasing trend line. Using the legend on the right of the chart, pick out May 24. \n",
    "- Can you see why the trend line is up?\n",
    "- Did anything unusual happen on that day?\n",
    "- Try looking at your earlier plots of moisture as a function of time, at the beginning of this notebook. What happened that day?"
   ]
  },
  {
   "cell_type": "markdown",
   "id": "56361ac4",
   "metadata": {},
   "source": [
    "## Advanced work -- for a deeper dive in the analysis\n",
    "\n",
    "The trend lines above attempt to show a linear relationship between humidity and temperature. That is, it tries to fit the data with an equation of the form\n",
    "\n",
    "$$y = mx + b.$$\n",
    "\n",
    "Roll your mouse over one of the trend lines in the plot above. An information box should pop up. Take a look at all the information there.\n",
    "- Can you see the equation for the line? \n",
    "- Why values do you see for $m$? for $b$? \n",
    "- What does it mean if $m$ is negative? \n",
    "- What does it mean if $m$ is positive?\n",
    "\n",
    "There is also a value for $R^2$, called the R-squared statistical measure. It tells us how much the second variable is dependent on the first. A value near 1.0 says the second variable is strongly dependent on the first. A value near 0.0 says it is hardly dependent at all. Values mid-way between 0.0 and 1.0 say the second variable is only somewhat dependent on the first. \n",
    "\n",
    "Mouse over the various trend lines and look at the $R^2$ values.\n",
    "- Can you find an $R^2$ that is close to zero?\n",
    "- Can you find an $R^2$ that is close to one?\n",
    "- What is the biggest one you can find?\n",
    "- Do you notice anything about the plots with small $R^2$ values?\n",
    "- Do you notice anything about the plots with large $R^2$ values?\n"
   ]
  },
  {
   "cell_type": "markdown",
   "id": "ba596325",
   "metadata": {},
   "source": [
    "## Step 6d: Analyzing the data - Moisture and temperature\n",
    "\n",
    "We might expect moisture to depend on temperature, as higher temperatures could cause the soil to dry out. Let's see if the data shows this. \n",
    "\n",
    "Again, we use Plotly to draw the scatter plots and add some trend lines. "
   ]
  },
  {
   "cell_type": "code",
   "execution_count": null,
   "id": "8f6247c7",
   "metadata": {},
   "outputs": [],
   "source": [
    "fig6 = px.scatter(df_m, x=\"Temperature\", y=\"Moisture\", color=\"Date\",\n",
    "            trendline=\"ols\", template=\"simple_white\", title=\"Moisture vs Temperature\")\n",
    "fig6.show()"
   ]
  },
  {
   "cell_type": "markdown",
   "id": "2627fef7",
   "metadata": {},
   "source": [
    "## Observations\n",
    "\n",
    "Most of the trend lines seem to be slightly downwards. What does this mean?\n",
    "- As the temperature rises, the moisture of the soil also rises?\n",
    "- As the temperature rises, the moisture of the soil drops?\n",
    "- There is no strong connection between moisture and temperature, it's just random?\n",
    "\n",
    "What do you think?\n",
    "\n",
    "One line stands out, though. May 24 has a sharply increasing trend line. Do you recall what happened on May 24?\n",
    "- There was an earthquake in Vancouver that day that messed up our sensors?\n",
    "- There was a flood in Vancouver that day that drenched our plant?\n",
    "- Some dude came along and watered the plant, just as the day was getting hotter?\n",
    "\n",
    "What do you think?\n",
    "\n",
    "Should we draw conclusions about the relationship between humidity and temperature based on the one unusual day, or on the dozen or so other days?"
   ]
  },
  {
   "cell_type": "markdown",
   "id": "1ef1cda9",
   "metadata": {},
   "source": [
    "## Step 7: Going further\n",
    "\n",
    "Can you explore other relationships in the data?\n",
    "\n",
    "For instance, is there a connection between temperature and time of day? How would you explore this with code? Can you use the code above as a model?\n",
    "\n",
    "Can you see if there is a trend in average temperatures as we go from early May to late May? How do we compute average values using Pandas?\n",
    "\n",
    "Can you explore other ranges of dates in the dataset, beyond just May 16 to 30?\n",
    "\n",
    "If you had your own plant to monitor, what questions would you want answered about your plant?"
   ]
  },
  {
   "cell_type": "markdown",
   "id": "efeceed2",
   "metadata": {},
   "source": [
    "## Step 8 - Using your own data from the web\n",
    "\n",
    "Many students and teachers have been saving their own plant data on the internet. \n",
    "\n",
    "We can access data in this notebook by downloading it from one of two places: Google Sheets, or EtherCalc. \n",
    "\n",
    "You may adjust the following code to download your data. If the data is on Google Sheets, set\n",
    "```\n",
    "google_sheet = True\n",
    "```\n",
    "otherwise set to **False** and it will use EtherCalc instead.\n",
    "\n",
    "You shoudl also set the name of your spreadsheet where the data lives. In the code below, change 'Plant_03' to the name of your spreadsheet.  \n",
    "```\n",
    "sheet_name = 'Plant_03'\n",
    "```\n",
    "\n",
    "For a first demo, you might like to just leave the code as it is. This way you examine the data at our spreadsheet called 'Plant_03' on Google Sheets."
   ]
  },
  {
   "cell_type": "code",
   "execution_count": null,
   "id": "db544c34",
   "metadata": {},
   "outputs": [],
   "source": [
    "google_sheet = True\n",
    "sheet_name = 'Plant_03'\n",
    "\n",
    "if google_sheet:\n",
    "    sheet_id = \"12s1bTFF0o4-i3iSsbm4-_9J358a3fPoS9lx5szZZjjE\"\n",
    "    url = f\"https://docs.google.com/spreadsheets/d/{sheet_id}/gviz/tq?tqx=out:csv&sheet={sheet_name}\"\n",
    "else:\n",
    "    url = f\"https://ethercalc.nomagic.uk/_/{sheet_name}/csv\"\n",
    "    \n",
    "print(\"Data read from \", url)\n",
    "\n",
    "df = pd.read_csv(url)\n",
    "df\n",
    "    "
   ]
  },
  {
   "cell_type": "markdown",
   "id": "25e10248",
   "metadata": {},
   "source": [
    "## Clean up date/time\n",
    "\n",
    "As in earlier demo, we add a new column to the data from to cover date and time, for convenience."
   ]
  },
  {
   "cell_type": "code",
   "execution_count": null,
   "id": "30fd7670",
   "metadata": {},
   "outputs": [],
   "source": [
    "df['Time'] = df['Time'].apply(lambda x: datetime.strptime(x,\"%H:%M:%S\").strftime(\"%H:%M:%S\"))\n",
    "df[\"DateTime\"] = df[\"Date\"] + ' ' + df[\"Time\"]\n",
    "df"
   ]
  },
  {
   "cell_type": "markdown",
   "id": "0ce5206a",
   "metadata": {},
   "source": [
    "## First plots\n",
    "\n",
    "Herea are the initial plots: Temperature, Humidity, Moisture and Luminance. "
   ]
  },
  {
   "cell_type": "code",
   "execution_count": null,
   "id": "ca7fc94c",
   "metadata": {},
   "outputs": [],
   "source": [
    "fig1 = px.scatter(df, x=\"DateTime\", y=\"Temperature\", \n",
    "                 title=\"Temperature versus Time\")\n",
    "fig2 = px.scatter(df, x=\"DateTime\", y=\"Humidity\", \n",
    "                 title=\"Humidity versus Time\")\n",
    "fig3 = px.scatter(df, x=\"DateTime\", y=\"Moisture\", \n",
    "                 title=\"Moisture versus Time\")\n",
    "fig4 = px.scatter(df, x=\"DateTime\", y=\"Luminance\", \n",
    "                 title=\"Luminance versus Time\")\n",
    "fig1.show(), fig2.show(), fig3.show(), fig4.show()"
   ]
  },
  {
   "cell_type": "markdown",
   "id": "8d079e5d",
   "metadata": {},
   "source": [
    "## Set the date range\n",
    "\n",
    "We notice the interesting data goes from September 5th to 10th. (Your data will have a different range.)\n",
    "\n",
    "The follow code restricts the range to those dates, so we get more interesting data. \n",
    "\n",
    "**Note: You can change the dates to whatever you like, you will also need to rerun the above codes**"
   ]
  },
  {
   "cell_type": "code",
   "execution_count": null,
   "id": "90e1c390",
   "metadata": {},
   "outputs": [],
   "source": [
    "start_date = '2023-09-05'\n",
    "end_date = '2023-09-10'\n",
    "# Select DataFrame rows between two dates\n",
    "mask = (df['Date'] >= start_date) & (df['Date'] <= end_date)\n",
    "df_m = df[mask]\n",
    "df_m"
   ]
  },
  {
   "cell_type": "markdown",
   "id": "12115822",
   "metadata": {},
   "source": [
    "## More plots\n",
    "\n",
    "The plots now just show this date range, with the interesting data."
   ]
  },
  {
   "cell_type": "code",
   "execution_count": null,
   "id": "dc05af18",
   "metadata": {},
   "outputs": [],
   "source": [
    "fig1 = px.scatter(df_m, x=\"DateTime\", y=\"Temperature\", \n",
    "                 title=\"Temperature versus Time\")\n",
    "fig2 = px.scatter(df_m, x=\"DateTime\", y=\"Humidity\", \n",
    "                 title=\"Humidity versus Time\")\n",
    "fig3 = px.scatter(df_m, x=\"DateTime\", y=\"Moisture\", \n",
    "                 title=\"Moisture versus Time\")\n",
    "fig4 = px.scatter(df_m, x=\"DateTime\", y=\"Luminance\", \n",
    "                 title=\"Luminance versus Time\")\n",
    "fig1.show(), fig2.show(), fig3.show(), fig4.show()"
   ]
  },
  {
   "cell_type": "markdown",
   "id": "7613c938",
   "metadata": {},
   "source": [
    "## Next step\n",
    "\n",
    "Now continue your analysis, by repeating the code from the earlier part of this notebook.\n",
    "\n",
    "Or, if you like, just return to step 6. The dataframe called \"df\" now holds the data from the downloaded spreadsheet, so the code above will work on this new data. "
   ]
  },
  {
   "cell_type": "markdown",
   "id": "fea521e9",
   "metadata": {},
   "source": [
    "## Conclusions\n",
    "\n",
    "We conducted data collection from the real plant, capturing environmental parameters like temperature, humidity, soil moisture, and light levels.\n",
    "\n",
    "With the help of Pandas and Plotly, we delved into exploring relationships between different datasets. Our analysis aimed to identify correlations, such as those between temperature and humidity or the time of day and light levels.\n",
    "\n",
    "Unusual data points often indicated interesting or unique plant events, like watering occurrences or late-night activities.\n",
    "\n",
    "To provide a more quantitative perspective, we calculated trendlines to suggest mathematical relationships between these variables.\n",
    "\n",
    "Additionally, we have the capability to access external plant data from the web, enabling us to compare and analyze our own plant-related information with broader datasets.\n"
   ]
  },
  {
   "cell_type": "markdown",
   "id": "477acba7",
   "metadata": {},
   "source": [
    "[![Callysto.ca License](https://github.com/callysto/curriculum-notebooks/blob/master/callysto-notebook-banner-bottom.jpg?raw=true)](https://github.com/callysto/curriculum-notebooks/blob/master/LICENSE.md)"
   ]
  }
 ],
 "metadata": {
  "kernelspec": {
   "display_name": "Python 3 (ipykernel)",
   "language": "python",
   "name": "python3"
  },
  "language_info": {
   "codemirror_mode": {
    "name": "ipython",
    "version": 3
   },
   "file_extension": ".py",
   "mimetype": "text/x-python",
   "name": "python",
   "nbconvert_exporter": "python",
   "pygments_lexer": "ipython3",
   "version": "3.9.12"
  }
 },
 "nbformat": 4,
 "nbformat_minor": 5
}
