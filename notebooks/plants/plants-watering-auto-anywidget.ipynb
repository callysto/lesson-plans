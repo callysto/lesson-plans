{
 "cells": [
  {
   "cell_type": "markdown",
   "id": "a954153d",
   "metadata": {},
   "source": [
    "![Callysto.ca Banner](https://github.com/callysto/curriculum-notebooks/blob/master/callysto-notebook-banner-top.jpg?raw=true)\n",
    " \n",
    "<a href=\"https://hub.callysto.ca/jupyter/hub/user-redirect/git-pull?repo=https%3A%2F%2Fgithub.com%2Fcallysto%2Flesson-plans&branch=anywidgets&urlpath=notebooks/lesson-plans/notebooks/plants/PhidgetFour_auto.ipynb&depth=1\" target=\"_parent\"><img src=\"https://raw.githubusercontent.com/callysto/curriculum-notebooks/master/open-in-callysto-button.svg?sanitize=true\" width=\"123\" height=\"24\" alt=\"Open in Callysto\"></a>"
   ]
  },
  {
   "cell_type": "markdown",
   "id": "f6c36172",
   "metadata": {},
   "source": [
    "## plants-watering-auto (with anywidget)\n",
    "\n",
    "This is a short notebook to collect and display data from \"Phidgets\" sensors around a plant and allow the user to automatically water the plant on a daily basis."
   ]
  },
  {
   "cell_type": "markdown",
   "id": "46f3a83c",
   "metadata": {},
   "source": [
    "<h2 style=\"color: red\">WARNING</h2>\n",
    "Water can cause all kinds of damage. An automatic watering system can lead to accidental spills that could damage your computer, your furniture and more. Be sure to set up your plant watering system someplace safe, where a water spill will not cause trouble.\n",
    "\n",
    "One safe way is to place the plant and watering system in a waterproof plastic container. "
   ]
  },
  {
   "cell_type": "markdown",
   "id": "93caa6f1",
   "metadata": {},
   "source": [
    "## Overview\n",
    "\n",
    "The purpose of this notebook is to collect data from certain hardware sensors called [Phidgets](https://www.phidgets.com/education/learn/projects/plant-kit/). This kit has all the sensors we need to monitor the environment of the plant, along with a water pump and control. The data can be viewed directly on the computer screen, and the water pump can be activated to water the plant.\n",
    "\n",
    "We recommend you follow the detailed setup for the Plant Kit provided by the Phidget company. The instructions are here: https://www.phidgets.com/education/learn/projects/plant-kit/introduction/\n",
    "\n",
    "The [Phidget Plant Kit](https://www.phidgets.com/education/learn/projects/plant-kit/) contains several components. To set up this notebook, make sure you have the following:\n",
    "\n",
    "- the Phidget VINT Hub (HUB0000), with cables attached\n",
    "- the DC power supply (PSU2000), attached to Port 1 on the VINT Hub\n",
    "- the water pump (KIT4014), attached to the power supply, \n",
    "- the moisture Phidget (device type HUM1100), attached to the VINT Hub\n",
    "- the light sensor (device type LUX1000_0), attached to the VINT Hub\n",
    "- and optionally, the temperature/humidity sensor (device type HUM1001_01).\n",
    "\n",
    "There are five main steps in this notebook.\n",
    "\n",
    "1. Set up gauges and buttons for sensor data and water pump.\n",
    "2. Display and view the user interface.\n",
    "3. Connect the phidgets to the software and vtest.\n",
    "4. Water the plant.\n",
    "5. Observe the system over several days, to adjust the moisture level. \n",
    "\n",
    "Run the cells in this notebook, one cell at a time. This will give you the chance to respond to any errors and fix things if necessary. You may also select \"Run All\" to execute the whole notebook -- just be prepared to respond to any error messages. \n",
    "\n",
    "You should have a plant, with the sensors, water reservoir, and pump  nearby. This what the plant setup should look like:\n",
    "\n",
    "<div align=\"center\">\n",
    "<img src=\"images/plant-water.jpg\" alt=\"A plant with sensors and water pump\" width=\"400\"/><br>\n",
    "A plant with sensors and water pump.\n",
    "</div>\n",
    "\n",
    "Here is some more detail on the various devices we are using. \n",
    "<div align=\"center\">\n",
    "<img src=\"images/plant-water.jpg\" alt=\"A plant with sensors and water pump\" width=\"400\"/><br>\n",
    "1: Pump. 2: DC power supply. 3: Moisture probe. 4: Light sensor. 5: Humidity sensor. 6: VINT Hub\n",
    "</div>\n",
    "\n",
    "The notebook runs both Python code and Javascript (JS) code. It would be nice to do everything in Python, but it seems Javascript is necessary to communicate with the Phidgets in a Jupyter notebook. Fortunately, the Javascript code here is easy enough to read and you will not need to change it. "
   ]
  },
  {
   "cell_type": "markdown",
   "id": "91718648",
   "metadata": {},
   "source": [
    "## Step 1. Setting up the user interface\n",
    "\n",
    "Our goal is to create a user interface that looks like this:\n",
    "\n",
    "\n",
    "<div align=\"center\">\n",
    "<img src=\"images/AutoWaterUI.jpg\" alt=\"Image of the user interface\" width=\"800\"/><br>\n",
    "A plant with sensors and water pump.\n",
    "</div>\n",
    "\n",
    "This UI includes a button to connect the Phidget, four gauges to display values for temperature, humidity, soil moisture and light levels, and some buttons to water the plant. \n",
    "\n",
    "We have two watering buttons, one immediately water the plant, the other to to start/stop the automatic watering. \n",
    "\n",
    "There is also a slider, to adjust the moisture setpoint. The plant will only be watered if the moisture sensor goes below this level. \n",
    "\n",
    "Finally, there is a text box to record when the plant was watered. "
   ]
  },
  {
   "cell_type": "markdown",
   "id": "4e399c57",
   "metadata": {},
   "source": [
    "## Step 1a. \n",
    "\n",
    "Let's set up the software widget called \"PhidgetFive_auto\" that will to connect the Phidget hardware."
   ]
  },
  {
   "cell_type": "code",
   "execution_count": null,
   "id": "6cd8f511",
   "metadata": {},
   "outputs": [],
   "source": [
    "# Special libraries for the anywidgets\n",
    "import pathlib\n",
    "import traitlets\n",
    "try:\n",
    "    import anywidget\n",
    "except:\n",
    "    !pip install --user \"anywidget[dev]\"\n",
    "    import anywidget"
   ]
  },
  {
   "cell_type": "code",
   "execution_count": null,
   "id": "b52e4b27",
   "metadata": {},
   "outputs": [],
   "source": [
    "## define the class\n",
    "class PhidgetFive_auto(anywidget.AnyWidget):\n",
    "    _esm = pathlib.Path(\"ph5auto.js\")\n",
    "    _css = pathlib.Path(\"ph4xx.css\")\n",
    "    # These 5 variables are used by the widget class. Do not delete. \n",
    "    hubPort = traitlets.Int(1).tag(sync=True)   # default is port 1 on Phidget Plant Kit\n",
    "    temperature = traitlets.Float(0).tag(sync=True)\n",
    "    humidity = traitlets.Float(0).tag(sync=True)\n",
    "    moisture = traitlets.Float(0).tag(sync=True)\n",
    "    luminance = traitlets.Float(0).tag(sync=True)\n",
    "    pump = traitlets.Bool(False).tag(sync=True)\n",
    "\n",
    "## create the PhidgetFour widget and name it pf\n",
    "pf = PhidgetFive_auto()\n",
    "pf.hubPort = 1   ## The water pump is plugged into Port 1 (you can change this if you use another port)\n",
    "\n",
    "# connect the Phidget widget to the gauges in the user interface\n",
    "def updateTemperature(change):\n",
    "    gauges.data[0]['value'] = change.new\n",
    "def updateHumidity(change):\n",
    "    gauges.data[1]['value'] = change.new\n",
    "def updateMoisture(change):\n",
    "    gauges.data[2]['value'] = change.new\n",
    "def updateLuminance(change):\n",
    "    gauges.data[3]['value'] = change.new\n",
    "\n",
    "pf.observe(updateTemperature, names=[\"temperature\"])\n",
    "pf.observe(updateHumidity, names=[\"humidity\"])\n",
    "pf.observe(updateMoisture, names=[\"moisture\"])\n",
    "pf.observe(updateLuminance, names=[\"luminance\"])\n",
    "\n",
    "print(\"Phidget widget is ready.\")"
   ]
  },
  {
   "cell_type": "markdown",
   "id": "57d86b21",
   "metadata": {},
   "source": [
    "### Step 1b.\n",
    "\n",
    "Next we set up the gauges and some buttons, using plotly and widgets. "
   ]
  },
  {
   "cell_type": "code",
   "execution_count": null,
   "id": "c1ad7f68",
   "metadata": {},
   "outputs": [],
   "source": [
    "from IPython.display import display, Javascript\n",
    "from plotly.subplots import make_subplots\n",
    "import plotly.graph_objects as go\n",
    "import ipywidgets as widgets\n",
    "from datetime import datetime\n",
    "from time import sleep\n",
    "import threading"
   ]
  },
  {
   "cell_type": "code",
   "execution_count": null,
   "id": "43290d05",
   "metadata": {},
   "outputs": [],
   "source": [
    "# the four sensor gauges\n",
    "g_temp = go.Indicator(\n",
    "    mode = \"gauge+number\",\n",
    "    value = 20,\n",
    "    domain = {'x': [0, 1], 'y': [0, 1]},\n",
    "    title = {'text': \"Temperature\"},\n",
    "    gauge = {'axis': {'range': [10, 40]}}\n",
    ")\n",
    "\n",
    "g_hum = go.Indicator(\n",
    "    mode = \"gauge+number\",\n",
    "    value = 40,\n",
    "    domain = {'x': [0, 1], 'y': [0, 1]},\n",
    "    title = {'text': \"Humidity\"},\n",
    "    gauge = {'axis': {'range': [0, 100]}}\n",
    ")\n",
    "\n",
    "g_moist = go.Indicator(\n",
    "    mode = \"gauge+number\",\n",
    "    value = 0.5,\n",
    "    domain = {'x': [0, 1], 'y': [0, 1]},\n",
    "    title = {'text': \"Moisture\"},\n",
    "    gauge = {'axis': {'range': [0, 1.0]}}\n",
    ")\n",
    "\n",
    "g_light = go.Indicator(\n",
    "    mode = \"gauge+number\",\n",
    "    value = 40,\n",
    "    domain = {'x': [0, 1], 'y': [0, 1]},\n",
    "    title = {'text': \"Light Level\"},\n",
    "    gauge = {'axis': {'range': [0, 1000]}}\n",
    ")\n",
    "\n",
    "fig = make_subplots(\n",
    "    rows=2,\n",
    "    cols=2,\n",
    "    specs=[[{'type' : 'domain'}, {'type' : 'domain'}],[{'type' : 'domain'}, {'type' : 'domain'}]],\n",
    "    vertical_spacing = 0.35\n",
    ")\n",
    "fig.append_trace(g_temp, row=1, col=1)\n",
    "fig.append_trace(g_hum, row=1, col=2)\n",
    "fig.append_trace(g_moist, row=2, col=1)\n",
    "fig.append_trace(g_light, row=2, col=2)\n",
    "\n",
    "gauges = go.FigureWidget(fig)\n",
    "\n",
    "## The moisture trigger setpoint\n",
    "\n",
    "moist_slider = widgets.FloatSlider(\n",
    "    value=.3,\n",
    "    min=0.0,\n",
    "    max=1.0,\n",
    "    step=0.05,\n",
    "    description='Moisture setpoint:',\n",
    "    style = {'description_width': 'initial'},\n",
    "    layout=widgets.Layout(width='400px', height='80px'),\n",
    "    disabled=False,\n",
    "    continuous_update=False,\n",
    "    orientation='horizontal',\n",
    "    readout=True,\n",
    "    readout_format='.2f',\n",
    ")\n",
    "\n",
    "# the watering button\n",
    "water_button = widgets.Button(\n",
    "    description='Click to water',\n",
    "    tooltip='Water for two seconds',\n",
    "    disabled=False,\n",
    "    button_style='success',\n",
    ")\n",
    "\n",
    "# the auto-watering Start/Stop button\n",
    "auto_button = widgets.Button(\n",
    "    description='Start Auto Watering',\n",
    "    tooltip='Start or stop the auto-watering',\n",
    "    disabled=False,\n",
    "    button_style='success',\n",
    ")\n",
    "\n",
    "record_text = widgets.Textarea(\n",
    "    value='Record of the watering',\n",
    "    description='Last watered:',\n",
    "    disabled=False,\n",
    "    layout=widgets.Layout(width='40%', height='80px')\n",
    ")\n",
    "\n",
    "print('Gauges and buttons ready')"
   ]
  },
  {
   "cell_type": "markdown",
   "id": "e4f27f4e",
   "metadata": {},
   "source": [
    "### Step 1c. Connecting the buttons\n",
    "\n",
    "We connect the buttons in the user interface to functions that access the Phidget sensors."
   ]
  },
  {
   "cell_type": "code",
   "execution_count": null,
   "id": "e53764d9",
   "metadata": {},
   "outputs": [],
   "source": [
    "## The button/slider user interface\n",
    "\n",
    "## We connect the water button to the Phidget widget named pf\n",
    "## We will also record when the watering happened\n",
    "def water_plant(button):\n",
    "    now = datetime.now().strftime(\"%Y-%m-%d %H:%M:%S\")\n",
    "    record_text.value = now + ', Moisture = ' + str(pf.moisture) + '\\n' + record_text.value\n",
    "    pf.send(\"pumpOn\")\n",
    "    button.button_style = 'info'\n",
    "    button.description='Watering...'\n",
    "    sleep(2)\n",
    "    pf.send(\"pumpOff\")\n",
    "    button.button_style = 'success'\n",
    "    button.button_style = 'success'\n",
    "    button.description='Click to water'\n",
    "\n",
    "water_button.on_click(water_plant)\n",
    "\n",
    "# conditionally water the plant, if the moisture is too low. We also record the event in the text box\n",
    "def water_if_dry():\n",
    "    if (gauges.data[2]['value'] < moist_slider.value):\n",
    "        water_plant(water_button)\n",
    "\n",
    " # a flag to monitor if the auto-watering is on or not. The \"event\" is thread-safe\n",
    "is_watering = threading.Event()\n",
    "is_watering.clear()\n",
    "       \n",
    "# The watering loop will try to water each day, for up to 100 days\n",
    "def watering_loop():\n",
    "    for i in range(100):\n",
    "        if (is_watering.is_set()):\n",
    "            water_if_dry()\n",
    "            for j in range(60*60*24):  # check every second of a day, to see if we continue auto-watering\n",
    "                if not is_watering.is_set():\n",
    "                    return\n",
    "                sleep(1) # pause a second, then continue to count off seconds in the day\n",
    "        else:\n",
    "            break\n",
    "    \n",
    "# Click the auto button to start and stop the automatic watering\n",
    "def auto_button_do(widget):\n",
    "    global is_watering\n",
    "    if (widget.description=='Start Auto Watering'):\n",
    "        widget.description='Stop Auto Watering'\n",
    "        widget.button_style='danger'\n",
    "        is_watering.set()\n",
    "        thread = threading.Thread(target=watering_loop) \n",
    "        thread.start()\n",
    "    else:\n",
    "        widget.description='Start Auto Watering'\n",
    "        widget.button_style='success'\n",
    "        is_watering.clear()\n",
    "\n",
    "auto_button.on_click(auto_button_do)\n",
    "\n",
    "print('buttons ready')"
   ]
  },
  {
   "cell_type": "markdown",
   "id": "c7ef654f",
   "metadata": {},
   "source": [
    "## Step 2. Viewing the user interface\n",
    "\n",
    "We can view the user interface with the display command. We assemble them using the HBox and VBox functions\n"
   ]
  },
  {
   "cell_type": "code",
   "execution_count": null,
   "id": "b0bfc961",
   "metadata": {},
   "outputs": [],
   "source": [
    "dashboard = widgets.VBox([pf,gauges,moist_slider,widgets.HBox([water_button,auto_button]),record_text])\n",
    "display(dashboard)"
   ]
  },
  {
   "cell_type": "markdown",
   "id": "0aad94cc",
   "metadata": {},
   "source": [
    "## Step 3: Connecting the sensor devices\n",
    "\n",
    "At this point, you should connect the Phidgets hardware to your computer. This includes six separate devices:\n",
    "- the Phidget VINT device, attached to the computer's USB port\n",
    "- the DC power supply, attached to Port 1 on the VINT device\n",
    "- The water pump, attached to the DC power supply\n",
    "- the soil moisture sensor, attached to the VINT\n",
    "- the light sensor, attached to the VINT\n",
    "- optionally, the combined temperature/humidity sensor, attached to the VINT\n",
    "\n",
    "When you first attach the VINT device to the USB port, your computer may ask you whether you wish to connect to this USB device. Please answer \"yes\" to this security request. \n"
   ]
  },
  {
   "cell_type": "markdown",
   "id": "35fadbc4",
   "metadata": {},
   "source": [
    "### Step 3a. Opening the USB connection\n",
    "\n",
    "Steps connecting your USB device to your Phidget VINT device to your computer. \n",
    "1. The VINT must be plugged into your computer's USB port. \n",
    "1. Click on the 'Connect' button in the user interface above.\n",
    "1. Follow the prompts to select the VINT device (a list appears that you should click on). This will pair the device with your computer. "
   ]
  },
  {
   "cell_type": "markdown",
   "id": "36ffdf30",
   "metadata": {},
   "source": [
    " ### 3b. Check.\n",
    " Clicking the \"Connect\" button should open a window that asks you to select the Phidget Hub.  The window looks like this:\n",
    "\n",
    "<img src=\"images/Pconnect.png\" width=300>\n",
    "<div align=\"left\">\n",
    "    \n",
    "Go ahead and slect the Hub, and click \"Connect.\""
   ]
  },
  {
   "cell_type": "markdown",
   "id": "0087c95d",
   "metadata": {},
   "source": [
    "### 3c. Confirm the USB connection \n",
    "\n",
    "The status line below the 'Connect button' will tell you if the USB and devices are connected.\n",
    "\n",
    "If all is working well, the gauges will update with the latest readings from the sensors.\n",
    "\n",
    "If nothing happens, make sure you have the VINT hub connected to your computer's USB port. You should also have the sensors connected to the VINT hub. \n",
    "\n",
    "Click \"Disconnect\" and then \"Connect\" again. Try reading the data a second time. Sometimes the Phidgets need a few seconds to connect properly, so disconnecting and connecting again can help. "
   ]
  },
  {
   "cell_type": "markdown",
   "id": "be3b184a",
   "metadata": {},
   "source": [
    "## Step 4: Watering your plant\n",
    "\n",
    "Now that everything is connected, we can view the user interface above. \n",
    "\n",
    "The gauges should be live, showing the values from the sensors.\n",
    "\n",
    "Try the  \"Click to Water\" button. It should run the water pump for two seconds.\n",
    "\n",
    "Then try the \"Start Auto Watering\" button. This will check every day to see how moist the soil is. If the moisture is below the setpoint, as set by the slider, the computer will run water pump for two seconds. \n",
    "\n",
    "While Auto Watering is active, the button turns Red, and changes to say \"Stop Auto Watering.\" Click on it if you want to stop the auto-watering. "
   ]
  },
  {
   "cell_type": "markdown",
   "id": "520bf0df",
   "metadata": {},
   "source": [
    "## Emergent pump off\n",
    "\n",
    "If you need to turn off the water pump, run the following cell. "
   ]
  },
  {
   "cell_type": "code",
   "execution_count": null,
   "id": "6a10b97f",
   "metadata": {},
   "outputs": [],
   "source": [
    "pf.send(\"pumpOff\")"
   ]
  },
  {
   "cell_type": "markdown",
   "id": "5c98190a",
   "metadata": {},
   "source": [
    "## Step 5: Observing the results\n",
    "\n",
    "You'll need to be patient to see the results, as the code only checks the watering once a day. \n",
    "\n",
    "You can adjust the moisture setpoint at any time, using the slider. If you want to test it, just stop and re-start the auto-watering using the Auto Watering button. At start-up, the code always tests to see if the moisture gauge is reading below the set point. If it is below, then the pump gives a squirt of water.\n",
    "\n",
    "Try running this for several days. Does the system keep your plant watered?"
   ]
  },
  {
   "cell_type": "markdown",
   "id": "7c743b26",
   "metadata": {},
   "source": [
    "## Step 6. Final Step. Closing down the sensors\n",
    "\n",
    "It is **important** to close down all the sensors when you are done, as otherwise they will keep busy forever. Also, this notebook will block other notebooks from using the same sensors.\n",
    "\n",
    "You can disconnect by clicking the \"Disconnect\" button above. Or, simply close this notebook. "
   ]
  },
  {
   "cell_type": "markdown",
   "id": "a7c96e8b",
   "metadata": {},
   "source": [
    "## Troubleshooting\n",
    "\n",
    "Go back to Step 3 called \"Connecting the sensor devices.\"\n",
    "\n",
    "You should see a purple button there. Click on it connect. You need to have a Phidget VINT hub and sensors attached to your computer. "
   ]
  },
  {
   "cell_type": "markdown",
   "id": "2e261121",
   "metadata": {},
   "source": [
    "## Conclusion\n",
    "\n",
    "We have shown how to display Phidget sensor data from a plant and how to control the water pump for the plant. Using the auto-watering system, the computer will water your plant each day in order to keep the moisture above the given setpoint. \n",
    "\n",
    "You might like to go back to the data collection notebooks: \n",
    "- [plants-data-google.ipynb](plants-data-google.ipynb)\n",
    "- [plants-data-ethercalc.ipynb](plants-data-ethercalc.ipynb)"
   ]
  },
  {
   "cell_type": "markdown",
   "id": "ba7ee230",
   "metadata": {},
   "source": [
    "[![Callysto.ca License](https://github.com/callysto/curriculum-notebooks/blob/master/callysto-notebook-banner-bottom.jpg?raw=true)](https://github.com/callysto/curriculum-notebooks/blob/master/LICENSE.md)"
   ]
  }
 ],
 "metadata": {
  "kernelspec": {
   "display_name": "Python 3 (ipykernel)",
   "language": "python",
   "name": "python3"
  },
  "language_info": {
   "codemirror_mode": {
    "name": "ipython",
    "version": 3
   },
   "file_extension": ".py",
   "mimetype": "text/x-python",
   "name": "python",
   "nbconvert_exporter": "python",
   "pygments_lexer": "ipython3",
   "version": "3.9.12"
  }
 },
 "nbformat": 4,
 "nbformat_minor": 5
}
