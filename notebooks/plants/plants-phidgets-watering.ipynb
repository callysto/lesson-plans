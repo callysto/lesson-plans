{
 "cells": [
  {
   "cell_type": "markdown",
   "id": "a954153d",
   "metadata": {},
   "source": [
    "![Callysto.ca Banner](https://github.com/callysto/curriculum-notebooks/blob/master/callysto-notebook-banner-top.jpg?raw=true)\n",
    "\n"
   ]
  },
  {
   "cell_type": "markdown",
   "id": "f6c36172",
   "metadata": {},
   "source": [
    "## plants-phidgets-watering\n",
    "\n",
    "This is a short notebook to collect and display data from \"Phidgets\" sensors around a plant and allow the user to water the plant.\n",
    "\n",
    "We have tried to make this notebook as friendly as possible for beginner programmers and hardware hackers.\n",
    "\n",
    "Ask M. Lamoureux or Mary Grant (Callysto ambassadors) for details. August, 2023."
   ]
  },
  {
   "cell_type": "markdown",
   "id": "46f3a83c",
   "metadata": {},
   "source": [
    "<h2 style=\"color: red\">IMPORTANT</h2>\n",
    "You MUST click the <span style=\"color:red\">BIG, RED DISCONNECT BUTTON</span> at the end of this notebook when you are done. This tells the software to release the Phidget device, so it can be used by other notebooks you might try later."
   ]
  },
  {
   "cell_type": "markdown",
   "id": "93caa6f1",
   "metadata": {},
   "source": [
    "## Overview\n",
    "\n",
    "The purpose of this notebook is to collect data from certain hardware sensors called \"Phidgets\" which are set up to monitor the environment of a plant, and also to water the plant. The data can be viewed directly on the computer screen, and a water pump can be activated from a simple water pump.\n",
    "\n",
    "We are using a complete kit for plant monitoring that is available from the Phidgets company (https://phidgets.com) This kit has all the sensors we need to monitor the environment of the plant, along with a water pump and control to water the plant. \n",
    "\n",
    "We recommend you follow the detailed setup for the Plant Kit provided by the Phidget company. The instructions are here: https://www.phidgets.com/education/learn/projects/plant-kit/introduction/\n",
    "\n",
    "The Phidget Plant Kit contains several components. To set up this notebook, make sure you have the following:\n",
    "\n",
    "- the Phidget VINT Hub (HUB0000), with cables attached\n",
    "- the DC power supply (PSU2000), attached to Port 1 on the VINT Hub\n",
    "- the water pump (KIT4014), attached to the power supply, \n",
    "- the moisture Phidget (device type HUM1100), attached to the VINT Hub\n",
    "- the light sensor (device type LUX1000_0), attached to the VINT Hub\n",
    "- and optionally, the temperature/humidity sensor (device type HUM1001_01).\n",
    "\n",
    "There are for main steps in this notebook.\n",
    "\n",
    "1. Set up gauges on the screen to view the data from the plant sensors.\n",
    "2. Set up the plant sensors as software inputs to computer. Ensure that the softare can communicate with them.\n",
    "3. Test that the water pump works by pressing the on-screen button.\n",
    "5. Observe the changes in the moisture readings once the plant has been watered. \n",
    "\n",
    "Run the cells in this notebook, one cell at a time. This will give you the chance to respond to any errors and fix things if necessary. Do not select \"Run All.\" \n",
    "\n",
    "You should have a plant, with the sensors, water reservoir, and pump  nearby. This what the plant setup should look like. \n",
    "\n",
    "**Note: Keep it away from computer and electronic devices as much as possible.**\n",
    "\n",
    "<img src=\"images/plant-water.jpg\" alt=\"A plant with sensors and water pump\" width=\"400\"/>\n",
    "<div align=\"center\">\n",
    "\n",
    "A plant with sensors and water pump.\n",
    "</div>\n",
    "\n",
    "Here is some more detail on the various devices we are using. \n",
    "\n",
    "<img src=\"images/sensors.jpg\" alt=\"Details of the pump and sensors\" width=\"600\"/>\n",
    "<div align=\"center\">\n",
    "\n",
    "1: Pump. 2: DC power supply. 3: Moisture probe. 4: Light sensor. 5: Humidity sensor. 6: VINT Hub\n",
    "</div>\n",
    "\n",
    "The notebook runs both Python code and Javascript (JS) code. It would be nice to do everything in Python, but it seems Javascript is necessary to communicate with the Phidgets in a Jupyter notebook. Fortunately, the Javascript code here is easy enough to read and you will not need to change it. "
   ]
  },
  {
   "cell_type": "markdown",
   "id": "4e399c57",
   "metadata": {},
   "source": [
    "## Step 1. Setting up the gauges\n",
    "\n",
    "We first set up some gauges to display values for temperature, humidity, soil moisture and light levels. This uses the Plotly library, which is loaded in with the **import** command in Python. \n",
    "\n",
    "We also include a button that will be used to water the plant. \n",
    "\n",
    "The gauges are not yet connected to the sensors, so they just display some default values."
   ]
  },
  {
   "cell_type": "code",
   "execution_count": null,
   "id": "cef17c81",
   "metadata": {},
   "outputs": [],
   "source": [
    "## we import some libraries\n",
    "from IPython.display import display, Javascript\n",
    "from plotly.subplots import make_subplots\n",
    "import plotly.graph_objects as go\n",
    "import ipywidgets as widgets\n",
    "from time import sleep"
   ]
  },
  {
   "cell_type": "code",
   "execution_count": null,
   "id": "b0bfc961",
   "metadata": {},
   "outputs": [],
   "source": [
    "# the four sensor gauges\n",
    "g_temp = go.Indicator(\n",
    "    mode = \"gauge+number\",\n",
    "    value = 20,\n",
    "    domain = {'x': [0, 1], 'y': [0, 1]},\n",
    "    title = {'text': \"Temperature\"},\n",
    "    gauge = {'axis': {'range': [10, 40]}}\n",
    ")\n",
    "\n",
    "g_hum = go.Indicator(\n",
    "    mode = \"gauge+number\",\n",
    "    value = 40,\n",
    "    domain = {'x': [0, 1], 'y': [0, 1]},\n",
    "    title = {'text': \"Humidity\"},\n",
    "    gauge = {'axis': {'range': [0, 100]}}\n",
    ")\n",
    "\n",
    "g_moist = go.Indicator(\n",
    "    mode = \"gauge+number\",\n",
    "    value = 0.5,\n",
    "    domain = {'x': [0, 1], 'y': [0, 1]},\n",
    "    title = {'text': \"Moisture\"},\n",
    "    gauge = {'axis': {'range': [0, 1.0]}}\n",
    ")\n",
    "\n",
    "g_light = go.Indicator(\n",
    "    mode = \"gauge+number\",\n",
    "    value = 40,\n",
    "    domain = {'x': [0, 1], 'y': [0, 1]},\n",
    "    title = {'text': \"Light Level\"},\n",
    "    gauge = {'axis': {'range': [0, 10000]}}\n",
    ")\n",
    "\n",
    "fig = make_subplots(\n",
    "    rows=2,\n",
    "    cols=2,\n",
    "    specs=[[{'type' : 'domain'}, {'type' : 'domain'}],[{'type' : 'domain'}, {'type' : 'domain'}]],\n",
    "    vertical_spacing = 0.35\n",
    ")\n",
    "fig.append_trace(g_temp, row=1, col=1)\n",
    "fig.append_trace(g_hum, row=1, col=2)\n",
    "fig.append_trace(g_moist, row=2, col=1)\n",
    "fig.append_trace(g_light, row=2, col=2)\n",
    "\n",
    "gauges = go.FigureWidget(fig)\n",
    "\n",
    "# the data update button\n",
    "data_button = widgets.Button(\n",
    "    description='Update gauges',\n",
    "    tooltip='Update data to gauges',\n",
    "    disabled=False,\n",
    "    button_style='success',\n",
    ")\n",
    "\n",
    "# the watering button\n",
    "water_button = widgets.Button(\n",
    "    description='Click to water',\n",
    "    disabled=False,\n",
    "    button_style='success',\n",
    "    tooltip='Water for 2 seconds',\n",
    ")\n",
    "    \n",
    "dashboard = widgets.VBox([gauges,widgets.HBox([data_button,water_button])])\n",
    "\n",
    "display(dashboard)\n"
   ]
  },
  {
   "cell_type": "markdown",
   "id": "0aad94cc",
   "metadata": {},
   "source": [
    "## Step 2: Connecting the sensor devices\n",
    "\n",
    "At this point, you should connect the Phidgets hardware to your computer. This includes six separate devices:\n",
    "- the Phidget VINT device, attached to the computer's USB port\n",
    "- the DC power supply, attached to Port 1 on the VINT device\n",
    "- The water pump, attached to the DC power supply\n",
    "- the soil moisture sensor, attached to the VINT\n",
    "- the light sensor, attached to the VINT\n",
    "- optionally, the combined temperature/humidity sensor, attached to the VINT\n",
    "\n",
    "When you first attach the VINT device to the USB port, your computer may ask you whether you wish to connect to this USB device. Please answer \"yes\" to this security request. \n",
    "\n",
    "We now go set up the software to communicate with the Phidget devices."
   ]
  },
  {
   "cell_type": "markdown",
   "id": "dcfaf446",
   "metadata": {},
   "source": [
    "### Load the phidget library for Javascript"
   ]
  },
  {
   "cell_type": "code",
   "execution_count": null,
   "id": "f0e32bea",
   "metadata": {},
   "outputs": [],
   "source": [
    "%%js\n",
    "requirejs.config({\n",
    "    paths: { \n",
    "        'phidget22': ['https://unpkg.com/phidget22/browser/phidget22'], \n",
    "    },                                         \n",
    "});\n",
    "require(['phidget22'], (phidget22) => {\n",
    "   window.phidget22 = phidget22; \n",
    "});"
   ]
  },
  {
   "cell_type": "code",
   "execution_count": null,
   "id": "76ab55d1",
   "metadata": {},
   "outputs": [],
   "source": [
    "## We pause for a second here, to allow some time for the library to load in the background\n",
    "sleep(1)"
   ]
  },
  {
   "cell_type": "markdown",
   "id": "8a2d644d",
   "metadata": {},
   "source": [
    "### Opening the USB connection\n",
    "\n",
    "We now open a connection between the computer and your Phidget VINT device. The VINT must be plugged into your computer's USB port. Run the following cell, and follow the prompts to select the VINT device (a list appears that you should click on). This will pair the device with your computer. "
   ]
  },
  {
   "cell_type": "code",
   "execution_count": null,
   "id": "9e4cb799",
   "metadata": {},
   "outputs": [],
   "source": [
    "%%js\n",
    "if (window.usbconn === undefined) {\n",
    "    element.text(\"Creating a new USB Connection.\");\n",
    "    window.usbconn = new phidget22.USBConnection();    \n",
    "    usbconn.connect().then(() => {\n",
    "        usbconn.requestWebUSBDeviceAccess();\n",
    "    }).catch(err => {\n",
    "        window.usbconn.delete();\n",
    "        element.append(\"Error connecting to USB\" + err);\n",
    "    });\n",
    "}"
   ]
  },
  {
   "cell_type": "code",
   "execution_count": null,
   "id": "fa760a18",
   "metadata": {},
   "outputs": [],
   "source": [
    "## We rest for a bit while the USB connects\n",
    "sleep(1)"
   ]
  },
  {
   "cell_type": "markdown",
   "id": "b1fafc82",
   "metadata": {},
   "source": [
    "### Confirm the USB connection \n",
    "\n",
    "Run the following code to see if the device is connected. It should say \"true.\" If it does not, check your cable connections. You may also need to check the security settings on your computer to allow new USB devices to get connected. "
   ]
  },
  {
   "cell_type": "code",
   "execution_count": null,
   "id": "d2ace047",
   "metadata": {},
   "outputs": [],
   "source": [
    "%%js\n",
    "element.text(\"Is the USB device connected? \" + (usbconn.connected ? \"YES.\":\"NO.\"));"
   ]
  },
  {
   "cell_type": "markdown",
   "id": "8dd323b8",
   "metadata": {},
   "source": [
    "### Connect the sensors\n",
    "\n",
    "We make a request to open the four different sensors, for temperature, humidity, soil moisture and light level, as well as the control for the water pump. Be sure your devi es sensors are plugged into the VINT device. \n",
    "\n",
    "If you are missing a sensor or two, that is okay. The data collection for the other sensors will still work. The cells below will connect the sensors, then check to see that they are attached. "
   ]
  },
  {
   "cell_type": "code",
   "execution_count": null,
   "id": "183f3534",
   "metadata": {},
   "outputs": [],
   "source": [
    "%%js\n",
    "// minimize the async parts\n",
    "\n",
    "window.tempSensor = new phidget22.TemperatureSensor();\n",
    "window.humSensor = new phidget22.HumiditySensor();\n",
    "window.moistSensor = new phidget22.VoltageRatioInput();\n",
    "window.liteSensor = new phidget22.LightSensor();\n",
    "window.pump = new phidget22.DigitalOutput();\n",
    "pump.setHubPort(1);\n",
    "pump.setIsHubPortDevice(true);\n",
    "\n",
    "async function setup_sensors() {\n",
    "    let errorCode = 0;\n",
    "    try {await tempSensor.open(1000);} catch {errorCode |= 1;}    \n",
    "    try {await humSensor.open(1000);} catch {errorCode |= 2;}\n",
    "    try {await moistSensor.open(1000);} catch {errorCode |= 4;}\n",
    "    try {await liteSensor.open(1000);} catch {errorCode |= 8;} \n",
    "    try {await pump.open(1000);} catch {errorCode |= 16;}\n",
    "    return errorCode\n",
    "}\n",
    "\n",
    "setup_sensors()"
   ]
  },
  {
   "cell_type": "code",
   "execution_count": null,
   "id": "cf7c32e8",
   "metadata": {},
   "outputs": [],
   "source": [
    "## We rest for ten seconds while the Phidgets try to connect.\n",
    "sleep(10)"
   ]
  },
  {
   "cell_type": "markdown",
   "id": "a3229556",
   "metadata": {},
   "source": [
    "### Confirm the sensor connections\n",
    "\n",
    "Run the following code to see if the five devices have all connected. All five lines should say \"YES.\" If you don't have a sensor connected, this notebook will still work -- you just won't get data from that sensor. "
   ]
  },
  {
   "cell_type": "code",
   "execution_count": null,
   "id": "11ff8ea0",
   "metadata": {},
   "outputs": [],
   "source": [
    "%%js\n",
    "element.text(\"Is the humidity sensor attached? \" + (humSensor.attached ? \"YES.\":\"NO.\"));\n",
    "element.append(\"<br>Is the temperature sensor attached? \" + (tempSensor.attached ? \"YES.\":\"NO.\"));\n",
    "element.append(\"<br>Is the moisture sensor attached? \" + (moistSensor.attached ? \"YES.\":\"NO.\"));\n",
    "element.append(\"<br>Is the light sensor attached? \" + (liteSensor.attached ? \"YES.\":\"NO.\"))\n",
    "element.append(\"<br>Is the pump attached? \" + (pump.attached ? \"YES.\":\"NO.\"));"
   ]
  },
  {
   "cell_type": "markdown",
   "id": "be3b184a",
   "metadata": {},
   "source": [
    "## Step 3: Update data and connect the water pump\n",
    "\n",
    "Here we define two functions. One to update the gauges with current data, and another to turn on the water pump for two seconds, then turns it off. This should be enough to give a small squirt of water to your plant.\n",
    "\n",
    "These function is attached to the \"Update Gauges\" and \"Click to Water\" button, displayed below. Try pressing these button to see if they work. "
   ]
  },
  {
   "cell_type": "code",
   "execution_count": null,
   "id": "c2edd783",
   "metadata": {},
   "outputs": [],
   "source": [
    "## Some code to update the data\n",
    "\n",
    "def update_gauges(button):\n",
    "    display(Javascript(\"\"\"\n",
    "        if (tempSensor.attached) {\n",
    "            IPython.notebook.kernel.execute(\n",
    "                \"gauges.data[0]['value'] = \" + tempSensor.temperature); }\n",
    "        if (humSensor.attached) {\n",
    "        IPython.notebook.kernel.execute(\n",
    "            \"gauges.data[1]['value'] = \" + humSensor.humidity); }\n",
    "        if (moistSensor.attached) {\n",
    "        IPython.notebook.kernel.execute(\n",
    "            \"gauges.data[2]['value'] = \" + moistSensor.voltageRatio); }\n",
    "        if (liteSensor.attached) {\n",
    "        IPython.notebook.kernel.execute(\n",
    "            \"gauges.data[3]['value'] = \" + liteSensor.illuminance); }\n",
    "    \"\"\"))\n",
    "    \n",
    "\n",
    "data_button.on_click(update_gauges)\n",
    "\n",
    "def water_plant(widget):\n",
    "    widget.button_style = 'info'\n",
    "    display(Javascript(\"pump.setState(true);\"))\n",
    "    sleep(2)\n",
    "    widget.button_style = 'success'\n",
    "    display(Javascript(\"pump.setState(false);\"))\n",
    "\n",
    "water_button.on_click(water_plant)\n",
    "\n",
    "display(dashboard)"
   ]
  },
  {
   "cell_type": "markdown",
   "id": "5c98190a",
   "metadata": {},
   "source": [
    "## Step 4: Observing the results\n",
    "\n",
    "Once you water the plant, you should see the moisture level for the plant change. \n",
    "\n",
    "The other data gauges are live as well. Can you see the temperature, humidity and light level changes throughout the day?\n",
    "\n",
    "You will need to close this notebook and disconnect the Phidgets before see the live spreadsheet, which you need to reconnect the sensors."
   ]
  },
  {
   "cell_type": "markdown",
   "id": "7c743b26",
   "metadata": {},
   "source": [
    "## Final Step. Closing down the sensors\n",
    "\n",
    "It is **really important** to close the sensor now, as otherwise they will keep busy forever, always trying to update the spreadsheet with the latest values. Also, if you just quit the notebook, the sensors may not disconnect properly, which will give you trouble the next time you try to connect.\n",
    "\n",
    "So, don't skip this next step.\n",
    "\n",
    "The following cell creates a button that you can click to close the Phidgets. Click it once you are all done with the Phidgets in this notebook. "
   ]
  },
  {
   "cell_type": "code",
   "execution_count": null,
   "id": "81b75dad",
   "metadata": {},
   "outputs": [],
   "source": [
    "from IPython.display import display, Javascript\n",
    "\n",
    "def doDisconnect(b):\n",
    "    display(Javascript(\"\"\"\n",
    "        (async () => {\n",
    "            await humSensor.close();\n",
    "            await tempSensor.close();\n",
    "            await moistSensor.close();\n",
    "            await liteSensor.close();\n",
    "            await pump.close();\n",
    "            usbconn.close();\n",
    "            usbconn.delete();\n",
    "            delete window.usbconn;\n",
    "            element.text(\"You have disconnected the Phidgets.\");\n",
    "        })();\n",
    "    \"\"\"))\n",
    "\n",
    "run_button = widgets.Button(\n",
    "    description = 'IMPORTANT: Click to disconnect', \n",
    "        button_style='danger',layout=widgets.Layout(width='50%', height='80px')\n",
    ")\n",
    "print(\"Press this button when you are done, to disconnect the Phidgets\")\n",
    "run_button.on_click(doDisconnect)\n",
    "\n",
    "display(run_button)"
   ]
  },
  {
   "cell_type": "markdown",
   "id": "7167ce22",
   "metadata": {},
   "source": [
    "\n",
    "### Confirm\n",
    "\n",
    "You can confirm the Phidgets are open or closed by running the following cell. \n",
    "\n",
    "If any device is still attached (true), try clicking the button above, again."
   ]
  },
  {
   "cell_type": "code",
   "execution_count": null,
   "id": "ea80b411",
   "metadata": {},
   "outputs": [],
   "source": [
    "%%js\n",
    "element.text(\"Is the humidity sensor attached? \" + (humSensor.attached ? \"YES.\":\"NO.\"));\n",
    "element.append(\"<br>Is the temperature sensor attached? \" + (tempSensor.attached ? \"YES.\":\"NO.\"));\n",
    "element.append(\"<br>Is the moisture sensor attached? \" + (moistSensor.attached ? \"YES.\":\"NO.\"));\n",
    "element.append(\"<br>Is the light sensor attached? \" + (liteSensor.attached ? \"YES.\":\"NO.\"))\n",
    "element.append(\"<br>Is the pump attached? \" + (pump.attached ? \"YES.\":\"NO.\"));"
   ]
  },
  {
   "cell_type": "markdown",
   "id": "2e261121",
   "metadata": {},
   "source": [
    "## Conclusion\n",
    "\n",
    "We have shown how to display Phidget sensor data from a plant and how to control the water pump for the plant. It uses a combination of Javascript and Python to the sensors and display the results. \n",
    "\n",
    "You may now go to the next notebook, which automates the watering of your plant. The computer will monitor the moisture of the soil every day and decide whether to pump in more water. The notebook is here: \n",
    "[plants-phidgets-auto-watering.ipynb](plants-phidgets-auto-watering.ipynb)\n",
    "\n",
    "You might also like to go back to the data collection notebooks: \n",
    "- [plants-phidgets-data-google.ipynb](plants-phidgets-data-google.ipynb)\n",
    "- [plants-phidgets-data-ethercalc.ipynb](plants-phidgets-data-ethercalc.ipynb)"
   ]
  },
  {
   "cell_type": "markdown",
   "id": "ba7ee230",
   "metadata": {},
   "source": [
    "[![Callysto.ca License](https://github.com/callysto/curriculum-notebooks/blob/master/callysto-notebook-banner-bottom.jpg?raw=true)](https://github.com/callysto/curriculum-notebooks/blob/master/LICENSE.md)"
   ]
  }
 ],
 "metadata": {
  "kernelspec": {
   "display_name": "Python 3 (ipykernel)",
   "language": "python",
   "name": "python3"
  },
  "language_info": {
   "codemirror_mode": {
    "name": "ipython",
    "version": 3
   },
   "file_extension": ".py",
   "mimetype": "text/x-python",
   "name": "python",
   "nbconvert_exporter": "python",
   "pygments_lexer": "ipython3",
   "version": "3.9.13"
  }
 },
 "nbformat": 4,
 "nbformat_minor": 5
}
