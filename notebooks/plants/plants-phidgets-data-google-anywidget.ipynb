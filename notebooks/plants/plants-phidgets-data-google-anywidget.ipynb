{
 "cells": [
  {
   "cell_type": "markdown",
   "id": "a954153d",
   "metadata": {},
   "source": [
    "![Callysto.ca Banner](https://github.com/callysto/curriculum-notebooks/blob/master/callysto-notebook-banner-top.jpg?raw=true)\n",
    "\n"
   ]
  },
  {
   "cell_type": "markdown",
   "id": "f6c36172",
   "metadata": {},
   "source": [
    "# Collecting Data from Plants with Phidgets\n",
    "\n",
    "This is a utility notebook to collect data from [\"Phidgets\"](https://www.phidgets.com/education/learn/projects/plant-kit/) sensors around a plant and store in an online spreadsheet (Google Sheets).\n",
    "\n",
    "We have tried to make this notebook as friendly as possible for beginner programmers. However, it does require some attention to detail, so follow the instructions carefully. \n",
    "\n",
    "The notebook runs both Python code and Javascript (JS) code. It would be nice to do everything in Python, but it seems Javascript is necessary to communicate with the Phidgets in a Jupyter notebook. Fortunately, the Javascript code here is easy enough to read and you will not need to change it."
   ]
  },
  {
   "cell_type": "markdown",
   "id": "46f3a83c",
   "metadata": {},
   "source": [
    "<h2 style=\"color: red\">IMPORTANT</h2>\n",
    "You MUST click the <span style=\"color:red\">BIG, RED DISCONNECT BUTTON</span> at the end of this notebook when you are done. This tells the software to release the Phidget device, so it can be used by other notebooks you might try later."
   ]
  },
  {
   "cell_type": "markdown",
   "id": "24d58734-7a7b-4ce8-bbc1-3950bfa4ea55",
   "metadata": {},
   "source": [
    "## Overview\n",
    "\n",
    "The purpose of this notebook is to collect data from certain hardware sensors called \"Phidgets\" which are set up to monitor the environment of a plant. The data can be viewed directly and it is also saved in an online spreadsheet for later data analysis.\n",
    "\n",
    "<img src=\"images/plant2.jpg\" alt=\"A plant with sensor\" width=\"400\"/>\n",
    "<div align=\"center\">\n",
    "\n",
    "A basement window with our plant."
   ]
  },
  {
   "cell_type": "markdown",
   "id": "93caa6f1",
   "metadata": {},
   "source": [
    "There are important requirements you must meet in order to complete this setup:\n",
    "    \n",
    "- you need the Phidget VINT device, with three sensors attached\n",
    "    - the temperature/humidity sensor (device type HUM1001_01)\n",
    "    - the light sensor (device type LUX1000_0)\n",
    "    - the moisture sensor (device type HUM1100)\n",
    "- you will need a computer (Mac, Windows, Raspberry Pi) with a USB connection and internet access\n",
    "- you will need the Chrome or Chromium Web browser (Safari, Firefox, and Edge will not work)\n",
    "\n",
    "For a step by step guide on how to assemble your Phidgets plant kit , see the following [link](https://www.phidgets.com/education/learn/projects/plant-kit/assemble/)\n",
    "\n",
    "There are five main steps in this notebook. \n",
    "\n",
    "The five steps are:\n",
    "\n",
    "1. Setting up the gauges \n",
    "2. Setting up an online spreadsheet\n",
    "3. Connect the plant sensors to your computer\n",
    "4. Setup code to post and display data\n",
    "5. Start the timer, to continuously post data"
   ]
  },
  {
   "cell_type": "markdown",
   "id": "4e399c57",
   "metadata": {},
   "source": [
    "***\n",
    "## Step 1. Setting up the gauges\n",
    "\n",
    "Run the cells in this notebook, **one cell at a time**. This will give you the chance to respond to any errors, and to chose a unique name for your online storage. \n",
    "\n",
    "**Do not select \"Run All.\"**\n",
    "\n",
    "We first set up some gauges to display values for temperature, humidity, soil moisture and light levels. We also add a text box to display the data as it is read in, and another to show the results of posting to the spreadsheet.  "
   ]
  },
  {
   "cell_type": "markdown",
   "id": "88ef7bee",
   "metadata": {},
   "source": [
    "We first load in all the libraries we need. Click on `▶Run`"
   ]
  },
  {
   "cell_type": "code",
   "execution_count": 1,
   "id": "2ee3f661",
   "metadata": {},
   "outputs": [],
   "source": [
    "import json, pytz, os.path, random, re, requests, threading\n",
    "import plotly.graph_objects as go\n",
    "from plotly.subplots import make_subplots\n",
    "import ipywidgets as widgets\n",
    "from time import sleep\n",
    "from datetime import datetime\n",
    "from IPython.display import display, Javascript, IFrame, Markdown "
   ]
  },
  {
   "cell_type": "markdown",
   "id": "d2a71624",
   "metadata": {},
   "source": [
    "Now we set up the gauges and text boxes. This is not live data quite yet but we will be soon. \n",
    "\n",
    "Click on `▶Run`"
   ]
  },
  {
   "cell_type": "code",
   "execution_count": 2,
   "id": "b0bfc961",
   "metadata": {},
   "outputs": [
    {
     "data": {
      "application/vnd.jupyter.widget-view+json": {
       "model_id": "f5415ad4e0b14cd4924b1a0c5d313cb3",
       "version_major": 2,
       "version_minor": 0
      },
      "text/plain": [
       "VBox(children=(FigureWidget({\n",
       "    'data': [{'domain': {'x': [0.0, 0.45], 'y': [0.675, 1.0]},\n",
       "              'ga…"
      ]
     },
     "metadata": {},
     "output_type": "display_data"
    }
   ],
   "source": [
    "# the four sensor gauges\n",
    "g_temp = go.Indicator(\n",
    "    mode = \"gauge+number\",\n",
    "    value = 20,\n",
    "    domain = {'x': [0, 1], 'y': [0, 1]},\n",
    "    title = {'text': \"Temperature\"},\n",
    "    gauge = {'axis': {'range': [10, 40]}}\n",
    ")\n",
    "\n",
    "g_hum = go.Indicator(\n",
    "    mode = \"gauge+number\",\n",
    "    value = 40,\n",
    "    domain = {'x': [0, 1], 'y': [0, 1]},\n",
    "    title = {'text': \"Humidity\"},\n",
    "    gauge = {'axis': {'range': [0, 100]}}\n",
    ")\n",
    "\n",
    "g_moist = go.Indicator(\n",
    "    mode = \"gauge+number\",\n",
    "    value = 0.5,\n",
    "    domain = {'x': [0, 1], 'y': [0, 1]},\n",
    "    title = {'text': \"Moisture\"},\n",
    "    gauge = {'axis': {'range': [0, 1.0]}}\n",
    ")\n",
    "\n",
    "g_light = go.Indicator(\n",
    "    mode = \"gauge+number\",\n",
    "    value = 40,\n",
    "    domain = {'x': [0, 1], 'y': [0, 1]},\n",
    "    title = {'text': \"Light Level\"},\n",
    "    gauge = {'axis': {'range': [0, 10000]}}\n",
    ")\n",
    "\n",
    "fig = make_subplots(\n",
    "    rows=2,\n",
    "    cols=2,\n",
    "    specs=[[{'type' : 'domain'}, {'type' : 'domain'}],[{'type' : 'domain'}, {'type' : 'domain'}]],\n",
    "    vertical_spacing = 0.35\n",
    ")\n",
    "fig.append_trace(g_temp, row=1, col=1)\n",
    "fig.append_trace(g_hum, row=1, col=2)\n",
    "fig.append_trace(g_moist, row=2, col=1)\n",
    "fig.append_trace(g_light, row=2, col=2)\n",
    "\n",
    "gauges = go.FigureWidget(fig)\n",
    "\n",
    "# a text widget to monitor the latest data\n",
    "data_monitor = widgets.Text(\n",
    "    description='Posted data:',\n",
    "    value=\"No posted data yet\",\n",
    "    layout={'width':'500px'},\n",
    "    disabled = False\n",
    ")\n",
    "# a text widget to monitor results of posting to the cloud\n",
    "post_monitor = widgets.Text(\n",
    "    description='Post result:',\n",
    "    value=\"No post yet\",\n",
    "    layout={'width':'500px'},\n",
    "    disabled = False\n",
    ")\n",
    "\n",
    "# the watering button\n",
    "data_button = widgets.Button(\n",
    "    description='Update gauges',\n",
    "    tooltip='Update data to gauges',\n",
    "    disabled=False,\n",
    "    button_style='success',\n",
    ")\n",
    "\n",
    "# the auto-watering Start/Stop button\n",
    "post_button = widgets.Button(\n",
    "    description='Post to spreadsheet',\n",
    "    tooltip='Post the latest data to the spreadsheet',\n",
    "    disabled=False,\n",
    "    button_style='success',\n",
    ")\n",
    "    \n",
    "dashboard = widgets.VBox([gauges,widgets.HBox([data_button,data_monitor]),\n",
    "                              widgets.HBox([post_button,post_monitor])])\n",
    "\n",
    "display(dashboard)"
   ]
  },
  {
   "cell_type": "markdown",
   "id": "427a9722",
   "metadata": {},
   "source": [
    "***\n",
    "## Step 2: Setting up the online spreadsheet.\n",
    "\n",
    "The next step involves creating an online spreadsheet using a web resource called Google Sheets. It's important to note that Google Sheets is a publicly accessible online spreadsheet tool, so please **avoid storing any confidential or sensitive data in it**.\n",
    "\n",
    "In the following code cell, you'll find a random spreadsheet number which you should use throughout the Plant notebooks. If you've used this notebook before, the code may suggest using the same name/number as your previous sheet, but you can always enter a new name/number in the text box provide but again remember that this is publicly accessible online.\n",
    "\n",
    "Click on `▶Run`"
   ]
  },
  {
   "cell_type": "code",
   "execution_count": 3,
   "id": "fbfd97af",
   "metadata": {},
   "outputs": [
    {
     "name": "stdout",
     "output_type": "stream",
     "text": [
      "Choose a name for your spreadsheet here:\n"
     ]
    },
    {
     "data": {
      "application/vnd.jupyter.widget-view+json": {
       "model_id": "2dbc8d47c2564281aa3ed4bfcda1e32f",
       "version_major": 2,
       "version_minor": 0
      },
      "text/plain": [
       "interactive(children=(Text(value='Plant_534588', description='SS_Name'), Output()), _dom_classes=('widget-inte…"
      ]
     },
     "metadata": {},
     "output_type": "display_data"
    }
   ],
   "source": [
    "file_name = './ss_name.txt'  # the file where we store the spreadsheet name\n",
    "\n",
    "def get_ss_name():\n",
    "    if (os.path.isfile(file_name)):\n",
    "        with open(file_name,'r') as file:\n",
    "            result=json.load(file)\n",
    "        if result['name'] != 'default':\n",
    "            return result\n",
    "    json_name = {\"name\" : \"Plant_\" + \"\".join(random.choices('0123456789', k=6))}\n",
    "    with open(file_name,'w') as file:\n",
    "        json.dump(json_name,file)\n",
    "        return json_name\n",
    "    \n",
    "def set_ss_name(name):\n",
    "    with open(file_name,'w') as file:\n",
    "        json.dump({\"name\" : name},file)\n",
    "    \n",
    "def f(SS_Name):\n",
    "    if len(SS_Name) == 0:\n",
    "        return \"Enter a name here for your spreadsheet.\"\n",
    "    if re.search(r'[^A-Za-z0-9_\\-]',SS_Name):\n",
    "        return \"ERROR: Use only letters and numbers, no spaces.\"\n",
    "    else:\n",
    "        set_ss_name(SS_Name)\n",
    "        return \"Spreadsheet name is \" + SS_Name\n",
    "\n",
    "print(\"Choose a name for your spreadsheet here:\")\n",
    "widgets.interact(f, SS_Name=get_ss_name()['name']);"
   ]
  },
  {
   "cell_type": "markdown",
   "id": "63885ac2",
   "metadata": {},
   "source": [
    "### 2a. Initializing the spreadsheet\n",
    "\n",
    "Once you have selected a name above, we store some test data to ensure that it works. \n",
    "\n",
    "The following code runs a google script that takes some data and posts it online. The http link that is printed out will take you to your spreadsheet that holds the data. We also save the link in a file for later use. \n",
    "\n",
    "Click on `▶Run`"
   ]
  },
  {
   "cell_type": "code",
   "execution_count": 4,
   "id": "e81555b5",
   "metadata": {},
   "outputs": [
    {
     "name": "stdout",
     "output_type": "stream",
     "text": [
      "Data logged: https://docs.google.com/spreadsheets/d/12s1bTFF0o4-i3iSsbm4-_9J358a3fPoS9lx5szZZjjE/edit#gid=18935206\n"
     ]
    }
   ],
   "source": [
    "sheet_url = 'https://script.google.com/macros/s/AKfycbyuMjh718bkYDYCetSGb0gxDqWxxoK_JiwEKcNkUAKdOOfLHj6uWTlsnbkM_01I-RPIlw/exec'\n",
    "sheet_name = get_ss_name()['name']\n",
    "\n",
    "data = {'Date':'2023-09-01', \n",
    "                'Time':'09:00:00', \n",
    "                'Temperature':21, \n",
    "                'Humidity':50, \n",
    "                'Moisture':.5, \n",
    "                'Luminance':100 }\n",
    "\n",
    "\n",
    "r = requests.post(sheet_url, params={'sheet':sheet_name, 'data':json.dumps(data)})\n",
    "\n",
    "viewing_url = r.text[13:]\n",
    "file_link = './ss_link.txt'  # the file where we store the spreadsheet link\n",
    "json_link = {\"link\" : viewing_url }\n",
    "with open(file_link,'w') as file:\n",
    "    json.dump(json_link,file)\n",
    "\n",
    "print(r.text)"
   ]
  },
  {
   "cell_type": "markdown",
   "id": "7ee349c3",
   "metadata": {},
   "source": [
    "### 2b. Viewing the spreadsheet\n",
    "\n",
    "Your spreadsheet is saved online as a Google spreadsheet. It has a rather long web address, which you can display here by running the following cell. Clicking the link that appears (htpps://docs.google.com...) will open a new tab with the spreadsheet displayed. \n",
    "\n",
    "Click on `▶Run`"
   ]
  },
  {
   "cell_type": "code",
   "execution_count": 5,
   "id": "5f0346b5",
   "metadata": {},
   "outputs": [
    {
     "data": {
      "text/markdown": [
       "Open your spreadsheet in a separate browser tab by clicking on this link: \n",
       " \n",
       " <a href='https://docs.google.com/spreadsheets/d/12s1bTFF0o4-i3iSsbm4-_9J358a3fPoS9lx5szZZjjE/edit#gid=18935206' target='_blank'>https://docs.google.com/spreadsheets/d/12s1bTFF0o4-i3iSsbm4-_9J358a3fPoS9lx5szZZjjE/edit#gid=18935206</a>"
      ],
      "text/plain": [
       "<IPython.core.display.Markdown object>"
      ]
     },
     "execution_count": 5,
     "metadata": {},
     "output_type": "execute_result"
    }
   ],
   "source": [
    "Markdown(f\"Open your spreadsheet in a separate browser tab by clicking on this link: \\n \\n \\\n",
    "<a href='{viewing_url}' target='_blank'>{viewing_url}</a>\")"
   ]
  },
  {
   "cell_type": "markdown",
   "id": "0aad94cc",
   "metadata": {},
   "source": [
    "***\n",
    "## Step 3: Connecting the sensor devices\n",
    "\n",
    "At this point, you should connect the Phidgets hardware to your computer. This includes 4 separate devices:\n",
    "- the Phidget VINT device, attached to the computer's USB port\n",
    "- the combined temperature/humidity sensor, attached to the VINT\n",
    "- the soil moisture sensor, attached to the VINT\n",
    "- the light sensor, attached to the VINT\n",
    "\n",
    "When you first attach the VINT device to the USB port, your computer may ask you (pop up) whether you wish to connect to this USB device. Please answer **\"yes\"** to this security request. \n",
    "\n",
    "We now go set up the software to communicate with the Phidget devices."
   ]
  },
  {
   "cell_type": "markdown",
   "id": "62b68595",
   "metadata": {},
   "source": [
    "### 3a. Loading libraries\n",
    "\n",
    "We need to import libraries for Javascript. \n",
    "\n",
    "Click on `▶Run`"
   ]
  },
  {
   "cell_type": "code",
   "execution_count": 6,
   "id": "15b50028-df84-46ea-b25c-9001ee9dd5f4",
   "metadata": {},
   "outputs": [],
   "source": [
    "import anywidget\n",
    "import traitlets"
   ]
  },
  {
   "cell_type": "code",
   "execution_count": 7,
   "id": "f0e32bea",
   "metadata": {},
   "outputs": [],
   "source": [
    "class FourPhidgets(anywidget.AnyWidget):\n",
    "    _esm = \"\"\"\n",
    "    import  \"https://unpkg.com/phidget22/browser/phidget22\";\n",
    "\n",
    "    export function render({ model, el }) {\n",
    "      let usbconn = 0;\n",
    "      let tSensor = 0;\n",
    "      let hSensor = 0;\n",
    "      let mSensor = 0;\n",
    "      let lSensor = 0;\n",
    "      let errorCode = 0;\n",
    "      let getTemperature = () => model.get(\"temperature\");\n",
    "      let getHumidity = () => model.get(\"humidity\");\n",
    "      let getMoisture = () => model.get(\"moisture\");\n",
    "      let getLuminance = () => model.get(\"luminance\");\n",
    "      function openUSB() {\n",
    "        usbconn = new phidget22.USBConnection();    \n",
    "        usbconn.connect().then(() => {\n",
    "          usbconn.requestWebUSBDeviceAccess();\n",
    "        }).catch(err => {\n",
    "          // usbconn.delete();\n",
    "          console.log('Error connecting to USB ' + err);\n",
    "        });\n",
    "      };\n",
    "      async function openDevices() {\n",
    "        tSensor = new phidget22.TemperatureSensor();\n",
    "        tSensor.open(2000);\n",
    "        hSensor = new phidget22.HumiditySensor();\n",
    "        hSensor.open(2000);\n",
    "        mSensor = new phidget22.VoltageRatioInput();\n",
    "        mSensor.open(2000);\n",
    "        lSensor = new phidget22.LightSensor();\n",
    "        lSensor.open(2000);\n",
    "      };\n",
    "      function readDevices() {\n",
    "        let t0 = 0;\n",
    "        let h0 = 0;\n",
    "        let m0 = 0;\n",
    "        let l0 = 0;\n",
    "        if (tSensor.attached) {t0 = tSensor.temperature; }       \n",
    "        if (hSensor.attached) {h0 = hSensor.humidity; }       \n",
    "        if (mSensor.attached) {m0 = mSensor.voltageRatio; }       \n",
    "        if (lSensor.attached) {l0 = lSensor.illuminance; }       \n",
    "        model.set('temperature', t0 );\n",
    "        model.set('humidity', h0);\n",
    "        model.set('moisture', m0);\n",
    "        model.set('luminance', l0);\n",
    "        model.save_changes();\n",
    "      };\n",
    "      async function closeDevices() {\n",
    "        try {await tSensor.close();} catch {}\n",
    "        try {await hSensor.close();} catch {}\n",
    "        try {await mSensor.close();} catch {}\n",
    "        try {await lSensor.close();} catch {}\n",
    "      };\n",
    "      async function closeUSB() {\n",
    "        try {await usbconn.close();} catch {}\n",
    "        try {await usbconn.delete();} catch {}\n",
    "      };\n",
    "      model.on('msg:custom', msg => {\n",
    "         console.log(`new message: ${JSON.stringify(msg)}`);\n",
    "         if (msg == 'open') {\n",
    "            console.log('open called');\n",
    "            openUSB();\n",
    "            openDevices();\n",
    "         }\n",
    "         if (msg == 'read') {\n",
    "            console.log('read called');\n",
    "            readDevices();\n",
    "         }\n",
    "         if (msg == 'close') {\n",
    "            console.log('close called');\n",
    "            closeDevices();\n",
    "            closeUSB();\n",
    "         }\n",
    "      });\n",
    "\n",
    "      let buttonUSB = document.createElement(\"button\");\n",
    "      buttonUSB.classList.add(\"ph-button\");\n",
    "      buttonUSB.innerHTML = `Click to open USB`;\n",
    "      let buttonOpen = document.createElement(\"button\");\n",
    "      buttonOpen.classList.add(\"ph-button\");\n",
    "      buttonOpen.innerHTML = `Click to connect sensors`;\n",
    "      let buttonRead = document.createElement(\"button\");\n",
    "      buttonRead.classList.add(\"ph-button\");\n",
    "      buttonRead.innerHTML = `Click to read data`;\n",
    "      let buttonClose = document.createElement(\"button\");\n",
    "      buttonClose.classList.add(\"ph-button\");\n",
    "      buttonClose.innerHTML = `Click to disconnect`;\n",
    "      let textTemp = document.createElement(\"textarea\");\n",
    "      textTemp.classList.add(\"ph-text\");\n",
    "      textTemp.value = 'Temperature';\n",
    "      let textHum = document.createElement(\"textarea\");\n",
    "      textHum.classList.add(\"ph-text\");\n",
    "      textHum.value = 'Humidity';\n",
    "      let textMoist = document.createElement(\"textarea\");\n",
    "      textMoist.classList.add(\"ph-text\");\n",
    "      textMoist.value = 'Moisture';\n",
    "      let textLite = document.createElement(\"textarea\");\n",
    "      textLite.classList.add(\"ph-text\");\n",
    "      textLite.value = 'Light level';\n",
    "      buttonUSB.addEventListener(\"click\", openUSB );\n",
    "      buttonOpen.addEventListener(\"click\", openDevices );\n",
    "      buttonRead.addEventListener(\"click\", readDevices );\n",
    "      buttonClose.addEventListener(\"click\", async () => {\n",
    "        closeDevices();\n",
    "        closeUSB();\n",
    "        });\n",
    "      model.on(\"change:temperature\", () => {\n",
    "        textTemp.value = `Temperature is ${getTemperature()}`;\n",
    "      });\n",
    "      model.on(\"change:humidity\", () => {\n",
    "        textHum.value = `Humidity is ${getHumidity()}`;\n",
    "      });\n",
    "      model.on(\"change:moisture\", () => {\n",
    "        textMoist.value = `Moisture is ${getMoisture()}`;\n",
    "     });\n",
    "      model.on(\"change:luminance\", () => {\n",
    "        textLite.value = `Luminance is ${getLuminance()}`;\n",
    "      });\n",
    "      el.appendChild(buttonUSB);\n",
    "      el.appendChild(buttonOpen);\n",
    "      el.appendChild(buttonRead);\n",
    "      el.appendChild(buttonClose);\n",
    "      el.appendChild(textTemp);\n",
    "      el.appendChild(textHum);\n",
    "      el.appendChild(textMoist);\n",
    "      el.appendChild(textLite);\n",
    "      // we include a return function to close the Phidget when the notebook is close\n",
    "      return async () => {\n",
    "        try {await tSensor.close();} catch {}\n",
    "        try {await hSensor.close();} catch {}\n",
    "        try {await mSensor.close();} catch {}\n",
    "        try {await lSensor.close();} catch {}\n",
    "        try {await usbconn.close();} catch {}\n",
    "        try {await usbconn.delete();} catch {}\n",
    "    };\n",
    "    }\n",
    "    \"\"\"\n",
    "    _css=\"\"\"\n",
    "    .ph-button {color: white; \n",
    "                background-color: var(--md-blue-700); \n",
    "                border-radius: 8px; \n",
    "                font-size: 24px; \n",
    "                display: block;\n",
    "                padding: 15px 32px;}\n",
    "    .ph-button:hover { background-color: var(--md-blue-900); }\n",
    "    \"\"\"\n",
    "    temperature = traitlets.Float(0).tag(sync=True)\n",
    "    humidity = traitlets.Float(0).tag(sync=True)\n",
    "    moisture = traitlets.Float(0).tag(sync=True)\n",
    "    luminance = traitlets.Float(0).tag(sync=True)\n",
    "\n",
    "fp = FourPhidgets()\n",
    "fp.temperature = 40\n",
    "fp.humidity = 41\n",
    "fp.moisture = 42\n",
    "fp.luminance = 43"
   ]
  },
  {
   "cell_type": "code",
   "execution_count": 8,
   "id": "76ab55d1",
   "metadata": {},
   "outputs": [],
   "source": [
    "def updateTemperature(change):\n",
    "    gauges.data[0]['value'] = change.new\n",
    "    \n",
    "def updateHumidity(change):\n",
    "    gauges.data[1]['value'] = change.new\n",
    "    \n",
    "def updateMoisture(change):\n",
    "    gauges.data[2]['value'] = change.new\n",
    "    \n",
    "def updateLuminance(change):\n",
    "    gauges.data[3]['value'] = change.new\n"
   ]
  },
  {
   "cell_type": "code",
   "execution_count": 9,
   "id": "07ba3bbc-009f-4424-8d27-aaa07ebd1dae",
   "metadata": {},
   "outputs": [],
   "source": [
    "fp.observe(updateTemperature, names=[\"temperature\"])\n",
    "fp.observe(updateHumidity, names=[\"humidity\"])\n",
    "fp.observe(updateMoisture, names=[\"moisture\"])\n",
    "fp.observe(updateLuminance, names=[\"luminance\"])"
   ]
  },
  {
   "cell_type": "markdown",
   "id": "8a2d644d",
   "metadata": {},
   "source": [
    "### 3b. Opening the USB connection\n",
    "\n",
    "Steps connecting your USB device to your Phidget VINT device to your computer. \n",
    "1. The VINT must be plugged into your computer's USB port. \n",
    "1. Click on `▶Run`\n",
    "1. Follow the prompts to select the VINT device (a list appears that you should click on). This will pair the device with your computer. "
   ]
  },
  {
   "cell_type": "code",
   "execution_count": 10,
   "id": "61039e90-109f-4dfe-bb7d-67db82995b9a",
   "metadata": {},
   "outputs": [
    {
     "data": {
      "application/vnd.jupyter.widget-view+json": {
       "model_id": "6a80270ce094482084423e282e34c831",
       "version_major": 2,
       "version_minor": 0
      },
      "text/plain": [
       "FourPhidgets(humidity=41.0, luminance=43.0, moisture=42.0, temperature=40.0)"
      ]
     },
     "execution_count": 10,
     "metadata": {},
     "output_type": "execute_result"
    }
   ],
   "source": [
    "fp"
   ]
  },
  {
   "cell_type": "markdown",
   "id": "f659c61a-ceb7-402f-80eb-017965a89f86",
   "metadata": {},
   "source": [
    "This should open a window that asks you to select the Phidget Hub. Do so, and click \"OK.\" The window looks like this:\n",
    "\n",
    "<img src=\"images/Pconnect.png\" width=300>\n",
    "<div align=\"left\">"
   ]
  },
  {
   "cell_type": "markdown",
   "id": "b1fafc82",
   "metadata": {},
   "source": [
    "### 3c. Confirm the USB connection \n",
    "\n",
    "Run the following code to see if the device is connected. \n",
    "\n",
    "It should say \"true.\" \n",
    "\n",
    "If it does not, check your cable connections. You may also need to check the security settings on your computer to allow new USB devices to get connected. \n",
    "\n",
    "Click on `▶Run`"
   ]
  },
  {
   "cell_type": "code",
   "execution_count": null,
   "id": "6db65032",
   "metadata": {},
   "outputs": [],
   "source": [
    "## nothing here"
   ]
  },
  {
   "cell_type": "markdown",
   "id": "8dd323b8",
   "metadata": {},
   "source": [
    "### 3d. Connect the sensors\n",
    "\n",
    "We make a request to open the four different sensors. Be sure these three devices  are plugged into the VINT device.\n",
    "1. temperature and humidity sensors (one device)\n",
    "1. soil moisture \n",
    "1. light\n",
    " \n",
    "If you are missing a sensor or two, that is okay 👍🏻. The data collection for the other sensors will still work. The cells below will connect the sensors, then check to see that they are attached. \n",
    "\n",
    "Click on `▶Run`"
   ]
  },
  {
   "cell_type": "code",
   "execution_count": null,
   "id": "fc51edcd",
   "metadata": {},
   "outputs": [],
   "source": [
    "## nothing here"
   ]
  },
  {
   "cell_type": "code",
   "execution_count": null,
   "id": "48a11ba0",
   "metadata": {},
   "outputs": [],
   "source": [
    "## pause for a bit while the sensors get connected\n",
    "sleep(10)"
   ]
  },
  {
   "cell_type": "markdown",
   "id": "a3229556",
   "metadata": {},
   "source": [
    "### 3e. Confirm the sensor connections\n",
    "\n",
    "Run the following code cell to see if the four devices are connected. \n",
    "\n",
    "The result should be four lines of text that print out the names of the four sensors, and say **\"YES\"** they are **attached and ready to use**.\n",
    "\n",
    "If no lines appear, or the answers are **\"NO\"** it means this is **an error** with the hardware setup. At this point, try checking all the cable connection to the Phidgets and sensors, and start this notebook again. \n",
    "\n",
    "If you still are having errors, you may need to restart the kernel or even log out of the Callysto Hub and start again. (But normally, everything should work just fine.)\n",
    "\n",
    "Click on `▶Run`"
   ]
  },
  {
   "cell_type": "code",
   "execution_count": null,
   "id": "11ff8ea0",
   "metadata": {},
   "outputs": [],
   "source": [
    "## nothing here"
   ]
  },
  {
   "cell_type": "markdown",
   "id": "54e36b25",
   "metadata": {},
   "source": [
    "### 3f. Reading the sensors directly\n",
    "\n",
    "As a check, you can read the values directly with the following code. \n",
    "\n",
    "Let's look at temperature by running the following code cell.  It should print a line indicating what the temperature is. \n",
    "\n",
    "(If you get nothing, there is a hardware error. Refer to the instruction in Step 3e above.)\n",
    "\n",
    "Click on `▶Run`"
   ]
  },
  {
   "cell_type": "code",
   "execution_count": null,
   "id": "240427c3",
   "metadata": {},
   "outputs": [],
   "source": [
    "## nothing here"
   ]
  },
  {
   "cell_type": "markdown",
   "id": "06e1dde3",
   "metadata": {},
   "source": [
    "The following cells connects the sensors to the gauges, when the update button is pushed. You can push the button to update the gauges.\n",
    "\n",
    "Click on `▶Run`"
   ]
  },
  {
   "cell_type": "code",
   "execution_count": 11,
   "id": "baba309b",
   "metadata": {},
   "outputs": [],
   "source": [
    "## Some code to record the data\n",
    "\n",
    "def update_gauges(button):\n",
    "    fp.send(\"read\")\n",
    "    \n",
    "\n",
    "data_button.on_click(update_gauges)"
   ]
  },
  {
   "cell_type": "markdown",
   "id": "1c3b0db3",
   "metadata": {},
   "source": [
    "## Step 4: Setup code to display and post the data\n",
    "\n",
    "The following code grabs data from the gauges and posts it onto the online spreadsheet. In the text boxes, it will also display what data was collected and the result of the online post. Results codes like 200 or 202 are good. \n",
    "\n",
    "TIME ZONE CHANGE: If you like, you can change the time zone 'Canada/Pacific' below to your time zone. For instance, for Alberta, change it to 'Canada/Mountain'\n",
    "\n",
    "The code is connected to a button on the display, so it posts whenever you click the button.\n",
    "\n",
    "\n",
    "Click on `▶Run`"
   ]
  },
  {
   "cell_type": "code",
   "execution_count": 12,
   "id": "e245c5ca",
   "metadata": {},
   "outputs": [],
   "source": [
    "# set the time zone\n",
    "tz = pytz.timezone('Canada/Pacific')\n",
    "\n",
    "# here we update the data results to gauges (g) then post to the spreadsheet. \n",
    "def post_stuff(button):\n",
    "    data = {'Date':datetime.now(tz).strftime(\"%Y-%m-%d\"),\n",
    "                'Time':datetime.now(tz).strftime(\"%H:%M:%S\"), \n",
    "                'Temperature':f'{gauges.data[0][\"value\"]:.2f}', \n",
    "                'Humidity':f'{gauges.data[1][\"value\"]:.2f}', \n",
    "                'Moisture':f'{gauges.data[2][\"value\"]:.2f}', \n",
    "                'Luminance':f'{gauges.data[3][\"value\"]:.2f}'}\n",
    "    data_monitor.value = str(list(data.values()))\n",
    "    r = requests.post(sheet_url, params={'sheet':sheet_name, 'data':json.dumps(data)})\n",
    "    post_monitor.value = datetime.now(tz).strftime(\"%Y-%m-%d,%H:%M:%S\") + \", Status: \" + str(r.status_code)\n",
    "    \n",
    "post_button.on_click(post_stuff)"
   ]
  },
  {
   "cell_type": "markdown",
   "id": "ce687ebf",
   "metadata": {},
   "source": [
    "The dashboard is now ready to run. The buttons will now work, to update the gauges and to post data. \n",
    "\n",
    "Click on `▶Run` in the following cell."
   ]
  },
  {
   "cell_type": "code",
   "execution_count": 13,
   "id": "a7bbbae1",
   "metadata": {},
   "outputs": [
    {
     "data": {
      "application/vnd.jupyter.widget-view+json": {
       "model_id": "f5415ad4e0b14cd4924b1a0c5d313cb3",
       "version_major": 2,
       "version_minor": 0
      },
      "text/plain": [
       "VBox(children=(FigureWidget({\n",
       "    'data': [{'domain': {'x': [0.0, 0.45], 'y': [0.675, 1.0]},\n",
       "              'ga…"
      ]
     },
     "metadata": {},
     "output_type": "display_data"
    }
   ],
   "source": [
    "display(dashboard)"
   ]
  },
  {
   "cell_type": "markdown",
   "id": "737f841f",
   "metadata": {},
   "source": [
    "## YAY. We are all done\n",
    "\n",
    "The data will be updated each time you click the \"Update gauges\" button. To post this new data, click the \"Post to spreadsheet\" button. \n",
    "\n",
    "You can  see the results in the text boxes, and check the online spreadsheet. The following cell shows the current spreadsheet, which will update when you click the \"Post to spreadsheet\" button.\n",
    "\n",
    "Click on `▶Run`"
   ]
  },
  {
   "cell_type": "code",
   "execution_count": null,
   "id": "30211ffe",
   "metadata": {},
   "outputs": [],
   "source": [
    "Markdown(f\"Open your spreadsheet in a separate browser tab by clicking on this link: \\n \\n \\\n",
    "<a href='{viewing_url}' target='_blank'>{viewing_url}</a>\")"
   ]
  },
  {
   "cell_type": "markdown",
   "id": "f936e378",
   "metadata": {},
   "source": [
    "***\n",
    "## Step 5. Going further with automation\n",
    "\n",
    "We have the users to manually update the gauges, as this is to make sure the data is up to date Jupyter Hubs. \n",
    "\n",
    "But you can automate this and we have the gauges update automatically using a timer in Python but **not always reliable**. \n",
    "\n",
    "To have the data continuously updated, we need change the following code  line **\"test_code = False\" to \"test_code = True\"**\n",
    "\n",
    "If you are experiencing issues, you may need to restart the kernel and change the test code back to False.\n",
    "\n",
    "Click on `▶Run`"
   ]
  },
  {
   "cell_type": "code",
   "execution_count": 14,
   "id": "b8264814",
   "metadata": {},
   "outputs": [],
   "source": [
    "test_code = True\n",
    "\n",
    "def post_loop(g):\n",
    "    total = 100*24*4 ## post for 100 days (4 per hour gives 100*24*4 total)\n",
    "    for i in range(total):\n",
    "        if stop_thread:\n",
    "            break\n",
    "        update_gauges(0)\n",
    "        sleep(2)\n",
    "        post_stuff(0)\n",
    "        sleep(15*60-3)  ## Sleep for 15 minutes before next post\n",
    "        \n",
    "if test_code:\n",
    "    stop_thread = False\n",
    "    thread = threading.Thread(target=post_loop,args=(gauges,))  \n",
    "    thread.start()"
   ]
  },
  {
   "cell_type": "markdown",
   "id": "7c743b26",
   "metadata": {},
   "source": [
    "***\n",
    "## Finishing up. Closing down the sensors\n",
    "\n",
    "<h2 style=\"color: red\">REALLY IMPORTANT</h2>\n",
    "\n",
    "Close the sensor now, as otherwise they will keep busy forever, always trying to update the spreadsheet with the latest values. Also, if you just quit the notebook, the sensors may not disconnect properly, which will give you trouble the next time you try to connect.\n",
    "\n",
    "So, don't skip this next step.\n",
    "\n",
    "The following cell creates a button that you can click to close the Phidgets. Click it once you are all done with the Phidgets in this notebook. \n",
    "\n",
    "Click on `▶Run`"
   ]
  },
  {
   "cell_type": "markdown",
   "id": "7167ce22",
   "metadata": {},
   "source": [
    "\n",
    "### Confirm\n",
    "\n",
    "You can confirm the Phidgets are open or closed by running the following cell. \n",
    "\n",
    "If any device is still attached, try clicking the button above, again.\n",
    "\n",
    "Click on `▶Run`"
   ]
  },
  {
   "cell_type": "code",
   "execution_count": null,
   "id": "ea80b411",
   "metadata": {},
   "outputs": [],
   "source": [
    "## Nothing here"
   ]
  },
  {
   "cell_type": "markdown",
   "id": "2e261121",
   "metadata": {},
   "source": [
    "## Conclusion\n",
    "\n",
    "We have demonstrated the process of running a utility that retrieves Phidget sensor data and publishes it on the web. This operation involves a combination of Javascript and Python to interact with both the front-end and back-end components within the Jupyter notebook environment.\n",
    "\n",
    "If you plan to collect data over an extended period, it's essential to have the Jupyter \"Hub\" software installed on your local computer. Please note that if you run this software on the Callysto hub (https://hub.callysto.ca), it may automatically disconnect after approximately a day of continuous data collection.\n",
    "\n",
    "You may now go to the next notebook to do the data analysis, here: \n",
    "[plants-analysis.ipynb](plants-analysis.ipynb)\n",
    "\n",
    "For additional support or inquiries related to this notebook, feel free to reach out to M. Lamoureux or Mary Grant, who serve as Callysto ambassadors. They can provide further details and assistance."
   ]
  },
  {
   "cell_type": "markdown",
   "id": "ba7ee230",
   "metadata": {},
   "source": [
    "[![Callysto.ca License](https://github.com/callysto/curriculum-notebooks/blob/master/callysto-notebook-banner-bottom.jpg?raw=true)](https://github.com/callysto/curriculum-notebooks/blob/master/LICENSE.md)"
   ]
  }
 ],
 "metadata": {
  "kernelspec": {
   "display_name": "Python 3 (ipykernel)",
   "language": "python",
   "name": "python3"
  },
  "language_info": {
   "codemirror_mode": {
    "name": "ipython",
    "version": 3
   },
   "file_extension": ".py",
   "mimetype": "text/x-python",
   "name": "python",
   "nbconvert_exporter": "python",
   "pygments_lexer": "ipython3",
   "version": "3.11.6"
  }
 },
 "nbformat": 4,
 "nbformat_minor": 5
}
