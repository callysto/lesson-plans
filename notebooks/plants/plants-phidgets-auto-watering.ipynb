{
 "cells": [
  {
   "cell_type": "markdown",
   "id": "a954153d",
   "metadata": {},
   "source": [
    "![Callysto.ca Banner](https://github.com/callysto/curriculum-notebooks/blob/master/callysto-notebook-banner-top.jpg?raw=true)\n",
    "\n"
   ]
  },
  {
   "cell_type": "markdown",
   "id": "f6c36172",
   "metadata": {},
   "source": [
    "## plants-phidgets-auto-watering\n",
    "\n",
    "This is a short notebook to collect and display data from \"Phidgets\" sensors around a plant and allow the user to automatically water the plant on a daily basis.\n",
    "\n",
    "We have tried to make this notebook as friendly as possible for beginner programmers and hardware hackers.\n",
    "\n",
    "Ask M. Lamoureux or Mary Grant (Callysto ambassadors) for details. August, 2023."
   ]
  },
  {
   "cell_type": "markdown",
   "id": "46f3a83c",
   "metadata": {},
   "source": [
    "<h2 style=\"color: red\">IMPORTANT</h2>\n",
    "You MUST click the <span style=\"color:red\">BIG, RED DISCONNECT BUTTON</span> at the end of this notebook when you are done. This tells the software to release the Phidget device, so it can be used by other notebooks you might try later."
   ]
  },
  {
   "cell_type": "markdown",
   "id": "93caa6f1",
   "metadata": {},
   "source": [
    "## Overview\n",
    "\n",
    "The purpose of this notebook is to collect data from certain hardware sensors called \"Phidgets\" which are set up to monitor the environment of a plant, and also to water the plant automatically. The data can be viewed directly on the computer screen, and a water pump can be activated from a simple water pump.\n",
    "\n",
    "We are using a complete kit for plant monitoring that is available from the Phidgets company (https://phidgets.com) This kit has all the sensors we need to monitor the environment of the plant, along with a water pump and control to water the plant. \n",
    "\n",
    "We recommend you follow the detailed setup for the Plant Kit provided by the Phidget company. The instructions are here: https://www.phidgets.com/education/learn/projects/plant-kit/introduction/\n",
    "\n",
    "The Phidget Plant Kit contains several components. To set up this notebook, make sure you have the following:\n",
    "\n",
    "- the Phidget VINT Hub (HUB0000), with cables attached\n",
    "- the DC power supply (PSU2000), attached to Port 1 on the VINT Hub\n",
    "- the water pump (KIT4014), attached to the power supply, \n",
    "- the moisture Phidget (device type HUM1100), attached to the VINT Hub\n",
    "- the light sensor (device type LUX1000_0), attached to the VINT Hub\n",
    "- and optionally, the temperature/humidity sensor (device type HUM1001_01).\n",
    "\n",
    "There are four main steps in this notebook.\n",
    "\n",
    "1. Set up gauges and buttons on the screen to view the sensor data and control the water pumo.\n",
    "2. Set up the sensors and pump as software inputs/outputs to computer and connet to the software can communicate.\n",
    "3. Test that the water pump works by pressing the on-screen button, and turn on the auto-watering system.\n",
    "5. Observe the system over several days, to adjust the moisture level and check the computer is watering automatically when it should. \n",
    "\n",
    "Run the cells in this notebook, one cell at a time. This will give you the chance to respond to any errors and fix things if necessary. You may also select \"Run All\" to execute the whole notebook -- just be prepared to respond to any error messages. \n",
    "\n",
    "You should have a plant, with the sensors, water reservoir, and pump  nearby. This what the plant setup should look like:\n",
    "\n",
    "<img src=\"images/plant-water.jpg\" alt=\"A plant with sensors and water pump\" width=\"400\"/>\n",
    "<div align=\"center\">\n",
    "A plant with sensors and water pump.\n",
    "</div>\n",
    "\n",
    "Here is some more detail on the various devices we are using. \n",
    "<img src=\"images/sensors.jpg\" alt=\"Details of the pump and sensors\" width=\"600\"/>\n",
    "<div align=\"center\">\n",
    "1: Pump. 2: DC power supply. 3: Moisture probe. 4: Light sensor. 5: Humidity sensor. 6: VINT Hub\n",
    "</div>\n",
    "\n",
    "The notebook runs both Python code and Javascript (JS) code. It would be nice to do everything in Python, but it seems Javascript is necessary to communicate with the Phidgets in a Jupyter notebook. Fortunately, the Javascript code here is easy enough to read and you will not need to change it. "
   ]
  },
  {
   "cell_type": "markdown",
   "id": "4e399c57",
   "metadata": {},
   "source": [
    "## Step 1. Setting up the user interface\n",
    "\n",
    "We first set up some gauges to display values for temperature, humidity, soil moisture and light levels. This uses the Plotly library, which is loaded in with the **import** command in Python. Other libraries are also loaded here.  \n",
    "\n",
    "We include two buttons, one to start/stop the automatic watering, and the other to force immediate watering of the plant. \n",
    "\n",
    "There is a slider, to adjust the moisture setpoint. The plant will only be watered if the moisture sensor goes below this level. \n",
    "\n",
    "Finally, there is a text box to record when the plant was watered. "
   ]
  },
  {
   "cell_type": "code",
   "execution_count": null,
   "id": "cef17c81",
   "metadata": {},
   "outputs": [],
   "source": [
    "## we import some libraries\n",
    "from IPython.display import display, Javascript\n",
    "from plotly.subplots import make_subplots\n",
    "import plotly.graph_objects as go\n",
    "import ipywidgets as widgets\n",
    "from datetime import datetime\n",
    "from time import sleep\n",
    "import threading"
   ]
  },
  {
   "cell_type": "code",
   "execution_count": null,
   "id": "43290d05",
   "metadata": {},
   "outputs": [],
   "source": [
    "# the four sensor gauges\n",
    "g_temp = go.Indicator(\n",
    "    mode = \"gauge+number\",\n",
    "    value = 20,\n",
    "    domain = {'x': [0, 1], 'y': [0, 1]},\n",
    "    title = {'text': \"Temperature\"},\n",
    "    gauge = {'axis': {'range': [10, 40]}}\n",
    ")\n",
    "\n",
    "g_hum = go.Indicator(\n",
    "    mode = \"gauge+number\",\n",
    "    value = 40,\n",
    "    domain = {'x': [0, 1], 'y': [0, 1]},\n",
    "    title = {'text': \"Humidity\"},\n",
    "    gauge = {'axis': {'range': [0, 100]}}\n",
    ")\n",
    "\n",
    "g_moist = go.Indicator(\n",
    "    mode = \"gauge+number\",\n",
    "    value = 0.5,\n",
    "    domain = {'x': [0, 1], 'y': [0, 1]},\n",
    "    title = {'text': \"Moisture\"},\n",
    "    gauge = {'axis': {'range': [0, 1.0]}}\n",
    ")\n",
    "\n",
    "g_light = go.Indicator(\n",
    "    mode = \"gauge+number\",\n",
    "    value = 40,\n",
    "    domain = {'x': [0, 1], 'y': [0, 1]},\n",
    "    title = {'text': \"Light Level\"},\n",
    "    gauge = {'axis': {'range': [0, 10000]}}\n",
    ")\n",
    "\n",
    "fig = make_subplots(\n",
    "    rows=2,\n",
    "    cols=2,\n",
    "    specs=[[{'type' : 'domain'}, {'type' : 'domain'}],[{'type' : 'domain'}, {'type' : 'domain'}]],\n",
    "    vertical_spacing = 0.25\n",
    ")\n",
    "fig.append_trace(g_temp, row=1, col=1)\n",
    "fig.append_trace(g_hum, row=1, col=2)\n",
    "fig.append_trace(g_moist, row=2, col=1)\n",
    "fig.append_trace(g_light, row=2, col=2)\n",
    "\n",
    "gauges = go.FigureWidget(fig)\n",
    "\n",
    "## The moisture trigger setpoint\n",
    "\n",
    "moist_slider = widgets.FloatSlider(\n",
    "    value=.3,\n",
    "    min=0.0,\n",
    "    max=1.0,\n",
    "    step=0.05,\n",
    "    description='Moisture setpoint:',\n",
    "    style = {'description_width': 'initial'},\n",
    "    layout=widgets.Layout(width='400px', height='80px'),\n",
    "    disabled=False,\n",
    "    continuous_update=False,\n",
    "    orientation='horizontal',\n",
    "    readout=True,\n",
    "    readout_format='.2f',\n",
    ")\n",
    "\n",
    "# the watering button\n",
    "water_button = widgets.Button(\n",
    "    description='Click to water',\n",
    "    tooltip='Water for two seconds',\n",
    "    disabled=False,\n",
    "    button_style='success',\n",
    ")\n",
    "\n",
    "# the auto-watering Start/Stop button\n",
    "auto_button = widgets.Button(\n",
    "    description='Start Auto Watering',\n",
    "    tooltip='Start or stop the auto-watering',\n",
    "    disabled=False,\n",
    "    button_style='success',\n",
    ")\n",
    "\n",
    "record_text = widgets.Textarea(\n",
    "    value='Record of the watering',\n",
    "    description='Last watered:',\n",
    "    disabled=False,\n",
    "    layout=widgets.Layout(width='40%', height='80px')\n",
    ")\n",
    "\n",
    "dashboard = widgets.VBox([gauges,moist_slider,widgets.HBox([auto_button,water_button]),record_text])"
   ]
  },
  {
   "cell_type": "markdown",
   "id": "c7ef654f",
   "metadata": {},
   "source": [
    "## Viewing the user interface\n",
    "\n",
    "We can view the user interface with the display command. However, the gauges and buttons are not live yet, so it doesn't do much yet. "
   ]
  },
  {
   "cell_type": "code",
   "execution_count": null,
   "id": "b0bfc961",
   "metadata": {
    "scrolled": true
   },
   "outputs": [],
   "source": [
    "display(dashboard)"
   ]
  },
  {
   "cell_type": "markdown",
   "id": "e4f27f4e",
   "metadata": {},
   "source": [
    "## Setting up the buttons\n",
    "\n",
    "The following sets up code to make the buttons and sliders functional. However, the system doesn't work until we connect the sensors, in Step 2."
   ]
  },
  {
   "cell_type": "code",
   "execution_count": null,
   "id": "e53764d9",
   "metadata": {},
   "outputs": [],
   "source": [
    "## The button/slider user interface\n",
    "\n",
    "# a flag to monitor if the auto-watering is on or not. The \"event\" is thread-safe\n",
    "is_watering = threading.Event()\n",
    "is_watering.clear()\n",
    "\n",
    "# Click the water button to turn on the water for 2 seconds (2000 milliseconds in setTimeout)\n",
    "def water_button_do(widget):\n",
    "    widget.button_style = 'info'\n",
    "    widget.description='Watering...'\n",
    "    display(Javascript(\"\"\"\n",
    "        pump.setState(true);\n",
    "        setTimeout(function() {pump.setState(false);}, 2000);\n",
    "        \"\"\"))\n",
    "    sleep(2)          ## Delay 2 seconds to let setTimeout run above\n",
    "    widget.button_style = 'success'\n",
    "    widget.description='Click to water'\n",
    "\n",
    "water_button.on_click(water_button_do)\n",
    "\n",
    "# conditionally water the plant, if the moisture is too low. We also record the event in the text box\n",
    "def water_if_dry():\n",
    "    if (gauges.data[2]['value'] < moist_slider.value):\n",
    "        now = datetime.now().strftime(\"%Y-%m-%d %H:%M:%S\")\n",
    "        record_text.value = now + ', Moisture = ' + str(gauges.data[2]['value']) + '\\n' + record_text.value\n",
    "        water_button_do(water_button)\n",
    "        \n",
    "# The watering loop will try to water each day, for up to 100 days\n",
    "def watering_loop():\n",
    "    for i in range(100):\n",
    "        if (is_watering.is_set()):\n",
    "            water_if_dry()\n",
    "            for j in range(24*60*60):  # check every second of a day, to see if we continue auto-watering\n",
    "                if not is_watering.is_set():\n",
    "                    return\n",
    "                sleep(1) # pause a second, then continue to count off seconds in the day\n",
    "        else:\n",
    "            break\n",
    "    \n",
    "# Click the auto button to start and stop the automatic watering\n",
    "def auto_button_do(widget):\n",
    "    global is_watering\n",
    "    if (widget.description=='Start Auto Watering'):\n",
    "        widget.description='Stop Auto Watering'\n",
    "        widget.button_style='danger'\n",
    "        is_watering.set()\n",
    "        thread = threading.Thread(target=watering_loop) \n",
    "        thread.start()\n",
    "    else:\n",
    "        widget.description='Start Auto Watering'\n",
    "        widget.button_style='success'\n",
    "        is_watering.clear()\n",
    "        \n",
    "auto_button.on_click(auto_button_do)"
   ]
  },
  {
   "cell_type": "markdown",
   "id": "0aad94cc",
   "metadata": {},
   "source": [
    "## Step 2: Connecting the sensor devices\n",
    "\n",
    "At this point, you should connect the Phidgets hardware to your computer. This includes six separate devices:\n",
    "- the Phidget VINT device, attached to the computer's USB port\n",
    "- the DC power supply, attached to Port 1 on the VINT device\n",
    "- The water pump, attached to the DC power supply\n",
    "- the soil moisture sensor, attached to the VINT\n",
    "- the light sensor, attached to the VINT\n",
    "- optionally, the combined temperature/humidity sensor, attached to the VINT\n",
    "\n",
    "When you first attach the VINT device to the USB port, your computer may ask you whether you wish to connect to this USB device. Please answer \"yes\" to this security request. \n",
    "\n",
    "We now go set up the software to communicate with the Phidget devices."
   ]
  },
  {
   "cell_type": "markdown",
   "id": "dcfaf446",
   "metadata": {},
   "source": [
    "### Load the phidget library for Javascript"
   ]
  },
  {
   "cell_type": "code",
   "execution_count": null,
   "id": "f0e32bea",
   "metadata": {},
   "outputs": [],
   "source": [
    "%%js\n",
    "requirejs.config({\n",
    "    paths: { \n",
    "        'phidget22': ['https://unpkg.com/phidget22/browser/phidget22'], \n",
    "    },                                         \n",
    "});\n",
    "require(['phidget22'], (phidget22) => {\n",
    "   window.phidget22 = phidget22; \n",
    "});"
   ]
  },
  {
   "cell_type": "code",
   "execution_count": null,
   "id": "76ab55d1",
   "metadata": {},
   "outputs": [],
   "source": [
    "## We pause for a second here, to allow some time for the library to load in the background\n",
    "sleep(1)"
   ]
  },
  {
   "cell_type": "markdown",
   "id": "8a2d644d",
   "metadata": {},
   "source": [
    "### Opening the USB connection\n",
    "\n",
    "We now open a connection between the computer and your Phidget VINT device. The VINT must be plugged into your computer's USB port. Run the following cell, and follow the prompts to select the VINT device (a list appears that you should click on). This will pair the device with your computer. "
   ]
  },
  {
   "cell_type": "code",
   "execution_count": null,
   "id": "9e4cb799",
   "metadata": {},
   "outputs": [],
   "source": [
    "%%js\n",
    "if (window.usbconn === undefined) {\n",
    "    element.text(\"Creating a new USB Connection.\");\n",
    "    window.usbconn = new phidget22.USBConnection();    \n",
    "    usbconn.connect().then(() => {\n",
    "        usbconn.requestWebUSBDeviceAccess();\n",
    "    }).catch(err => {\n",
    "        window.usbconn.delete();\n",
    "        element.append(\"Error connecting to USB\" + err);\n",
    "    });\n",
    "}"
   ]
  },
  {
   "cell_type": "code",
   "execution_count": null,
   "id": "fa760a18",
   "metadata": {},
   "outputs": [],
   "source": [
    "## We rest for a bit while the USB connects\n",
    "sleep(1)"
   ]
  },
  {
   "cell_type": "markdown",
   "id": "b1fafc82",
   "metadata": {},
   "source": [
    "### Confirm the USB connection \n",
    "\n",
    "Run the following code to see if the device is connected. It should say \"true.\" If it does not, check your cable connections. You may also need to check the security settings on your computer to allow new USB devices to get connected. "
   ]
  },
  {
   "cell_type": "code",
   "execution_count": null,
   "id": "d2ace047",
   "metadata": {},
   "outputs": [],
   "source": [
    "%%js\n",
    "element.text(\"Is the USB device connected? \" + (usbconn.connected ? \"YES.\":\"NO.\"));"
   ]
  },
  {
   "cell_type": "markdown",
   "id": "8dd323b8",
   "metadata": {},
   "source": [
    "### Connect the sensors\n",
    "\n",
    "We make a request to open the four different sensors, for temperature, humidity, soil moisture and light level, as well as the control for the water pump. Be sure your sensors are plugged into the VINT device, and the pump is on Port number one. \n",
    "\n",
    "If you are missing a sensor or two, that is okay. The data collection for the other sensors will still work. The cells below will connect the sensors, then check to see that they are attached. "
   ]
  },
  {
   "cell_type": "code",
   "execution_count": null,
   "id": "183f3534",
   "metadata": {},
   "outputs": [],
   "source": [
    "%%js\n",
    "\n",
    "window.tempSensor = new phidget22.TemperatureSensor();\n",
    "tempSensor.onAttach = function () {\n",
    "    this.setDataInterval(1000);  \n",
    "};\n",
    "tempSensor.onTemperatureChange = function (value) {\n",
    "    IPython.notebook.kernel.execute(\n",
    "        \"gauges.data[0]['value'] = \" + value\n",
    "    );  \n",
    "};\n",
    "\n",
    "window.humSensor = new phidget22.HumiditySensor();\n",
    "humSensor.onAttach = function () {\n",
    "    this.setDataInterval(1000);  \n",
    "};\n",
    "humSensor.onHumidityChange = function (value) {\n",
    "    IPython.notebook.kernel.execute(\n",
    "        \"gauges.data[1]['value'] = \" + value\n",
    "    );  \n",
    "};\n",
    "\n",
    "window.moistSensor = new phidget22.VoltageRatioInput();\n",
    "moistSensor.onAttach = function () {\n",
    "    this.setDataInterval(1000);  \n",
    "};\n",
    "moistSensor.onVoltageRatioChange = function (value) {\n",
    "    IPython.notebook.kernel.execute(\n",
    "        \"gauges.data[2]['value'] = \" + value\n",
    "    );  \n",
    "};\n",
    "\n",
    "window.liteSensor = new phidget22.LightSensor();\n",
    "liteSensor.onAttach = function () {\n",
    "    this.setDataInterval(1000);  \n",
    "};\n",
    "liteSensor.onIlluminanceChange = function (value) {\n",
    "    IPython.notebook.kernel.execute(\n",
    "        \"gauges.data[3]['value'] = \" + value\n",
    "    );  \n",
    "};\n",
    "    \n",
    "window.pump = new phidget22.DigitalOutput();\n",
    "pump.setHubPort(1);\n",
    "pump.setIsHubPortDevice(true);\n",
    "\n",
    "async function setup_sensors() {\n",
    "    let errorCode = 0;\n",
    "    try {await tempSensor.open(1000);} catch {errorCode |= 1;}    \n",
    "    try {await humSensor.open(1000);} catch {errorCode |= 2;}\n",
    "    try {await moistSensor.open(1000);} catch {errorCode |= 4;}\n",
    "    try {await liteSensor.open(1000);} catch {errorCode |= 8;} \n",
    "    try {await pump.open(1000);} catch {errorCode |= 16;}\n",
    "    return errorCode\n",
    "}\n",
    "\n",
    "setup_sensors()"
   ]
  },
  {
   "cell_type": "code",
   "execution_count": null,
   "id": "cf7c32e8",
   "metadata": {},
   "outputs": [],
   "source": [
    "## We rest for five seconds while the Phidgets try to connect.\n",
    "sleep(5)"
   ]
  },
  {
   "cell_type": "markdown",
   "id": "a3229556",
   "metadata": {},
   "source": [
    "### Confirm the sensor connections\n",
    "\n",
    "Run the following code to see if the five devices have all connected. All five lines should say \"YES.\" If you don't have a sensor connected, this notebook will still work -- you just won't get data from that sensor. "
   ]
  },
  {
   "cell_type": "code",
   "execution_count": null,
   "id": "11ff8ea0",
   "metadata": {},
   "outputs": [],
   "source": [
    "%%js\n",
    "element.text(\"Is the humidity sensor attached? \" + (humSensor.attached ? \"YES.\":\"NO.\"));\n",
    "element.append(\"<br>Is the temperature sensor attached? \" + (tempSensor.attached ? \"YES.\":\"NO.\"));\n",
    "element.append(\"<br>Is the moisture sensor attached? \" + (moistSensor.attached ? \"YES.\":\"NO.\"));\n",
    "element.append(\"<br>Is the light sensor attached? \" + (liteSensor.attached ? \"YES.\":\"NO.\"))\n",
    "element.append(\"<br>Is the pump attached? \" + (pump.attached ? \"YES.\":\"NO.\"));"
   ]
  },
  {
   "cell_type": "markdown",
   "id": "be3b184a",
   "metadata": {},
   "source": [
    "## Step 3: View and use the user interface\n",
    "\n",
    "Now that everything is connected, we can view the user interface below. The gauges should be live, showing the values from the sensors.\n",
    "\n",
    "Try the  \"Click to Water\" button. It should run the water pump for two seconds.\n",
    "\n",
    "Then try the \"Start Auto Watering\" button. This will check every day to see how moist the soil is. If the moisture is below the setpoint, as set by the slider, the computer will run water pump for two seconds. \n",
    "\n",
    "While Auto Watering is active, the button turns Red, and changes to say \"Stop Auto Watering.\" Click on it if you want to stop the auto-watering. "
   ]
  },
  {
   "cell_type": "code",
   "execution_count": null,
   "id": "c2edd783",
   "metadata": {},
   "outputs": [],
   "source": [
    "display(dashboard)"
   ]
  },
  {
   "cell_type": "markdown",
   "id": "5c98190a",
   "metadata": {},
   "source": [
    "## Step 4: Observing the results\n",
    "\n",
    "You'll need to be patient to see the results, as the code only checks the watering once a day. \n",
    "\n",
    "You can adjust the moisture setpoint at any time, using the slider. If you want to test it, just stop and re-start the auto-watering using the Auto Watering button. At start-up, the code always tests to see if the moisture gauge is reading below the set point. If it is below, then the pump gives a squirt of water.\n",
    "\n",
    "Try running this for several days. Does the system keep your plant watered?"
   ]
  },
  {
   "cell_type": "markdown",
   "id": "7c743b26",
   "metadata": {},
   "source": [
    "## Final Step. Closing down the sensors\n",
    "\n",
    "Once you are all done with the automatic watering, it is **really important** to close the sensors now. Otherwise, the next next person to use the computer may not be able to connect to the Phidget devices. If you just quit the notebook, the sensors may not disconnect properly, again which can cause trouble the next time someone tries to connect to the Phidgets.\n",
    "\n",
    "So, don't skip this next step.\n",
    "\n",
    "The following cell creates a button that you can click to close the Phidgets. Click it once you are all done with the Phidgets in this notebook. "
   ]
  },
  {
   "cell_type": "code",
   "execution_count": null,
   "id": "81b75dad",
   "metadata": {},
   "outputs": [],
   "source": [
    "def doDisconnect(b):\n",
    "    display(Javascript(\"\"\"\n",
    "        (async () => {\n",
    "            await humSensor.close();\n",
    "            await tempSensor.close();\n",
    "            await moistSensor.close();\n",
    "            await liteSensor.close();\n",
    "            await pump.close();\n",
    "            usbconn.close();\n",
    "            usbconn.delete();\n",
    "            delete window.usbconn;\n",
    "            element.text(\"You have disconnected the Phidgets.\");\n",
    "        })();\n",
    "    \"\"\"))\n",
    "\n",
    "run_button = widgets.Button(\n",
    "    description = 'IMPORTANT: Click to disconnect', \n",
    "        button_style='danger',layout=widgets.Layout(width='50%', height='80px')\n",
    ")\n",
    "print(\"Press this button when you are done, to disconnect the Phidgets\")\n",
    "run_button.on_click(doDisconnect)\n",
    "\n",
    "display(run_button)"
   ]
  },
  {
   "cell_type": "markdown",
   "id": "7167ce22",
   "metadata": {},
   "source": [
    "\n",
    "### Confirm\n",
    "\n",
    "You can confirm the Phidgets are open or closed by running the following cell. \n",
    "\n",
    "If any device is still attached (true), try clicking the button above, again."
   ]
  },
  {
   "cell_type": "code",
   "execution_count": null,
   "id": "ea80b411",
   "metadata": {},
   "outputs": [],
   "source": [
    "%%js\n",
    "element.text(\"Is the humidity sensor attached? \" + (humSensor.attached ? \"YES.\":\"NO.\"));\n",
    "element.append(\"<br>Is the temperature sensor attached? \" + (tempSensor.attached ? \"YES.\":\"NO.\"));\n",
    "element.append(\"<br>Is the moisture sensor attached? \" + (moistSensor.attached ? \"YES.\":\"NO.\"));\n",
    "element.append(\"<br>Is the light sensor attached? \" + (liteSensor.attached ? \"YES.\":\"NO.\"))\n",
    "element.append(\"<br>Is the pump attached? \" + (pump.attached ? \"YES.\":\"NO.\"));"
   ]
  },
  {
   "cell_type": "markdown",
   "id": "2e261121",
   "metadata": {},
   "source": [
    "## Conclusion\n",
    "\n",
    "We have shown how to display Phidget sensor data from a plant and how to control the water pump for the plant. Using the auto-watering system, the computer will water your plant each day in order to keep the moisture above the given setpoint. "
   ]
  },
  {
   "cell_type": "markdown",
   "id": "ba7ee230",
   "metadata": {},
   "source": [
    "[![Callysto.ca License](https://github.com/callysto/curriculum-notebooks/blob/master/callysto-notebook-banner-bottom.jpg?raw=true)](https://github.com/callysto/curriculum-notebooks/blob/master/LICENSE.md)"
   ]
  }
 ],
 "metadata": {
  "kernelspec": {
   "display_name": "Python 3",
   "language": "python",
   "name": "python3"
  },
  "language_info": {
   "codemirror_mode": {
    "name": "ipython",
    "version": 3
   },
   "file_extension": ".py",
   "mimetype": "text/x-python",
   "name": "python",
   "nbconvert_exporter": "python",
   "pygments_lexer": "ipython3",
   "version": "3.8.8"
  }
 },
 "nbformat": 4,
 "nbformat_minor": 5
}
