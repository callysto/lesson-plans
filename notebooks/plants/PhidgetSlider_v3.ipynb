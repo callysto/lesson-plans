{
 "cells": [
  {
   "cell_type": "markdown",
   "id": "ef7bfd65-fedc-443a-b5b5-51d866b7c4b1",
   "metadata": {},
   "source": [
    "## PhidgetSlider_v3 notebook\n",
    "\n",
    "November 19. M. Lamoureux\n",
    "\n",
    "Test the slider Phidget attached to the VINT device.\n",
    "\n",
    "#### Setup\n",
    "\n",
    "- plug in the Phidget VINT Hub to the computer's USB port\n",
    "- Plug in the Phidget slider device (part number POT2001) to Port 1 on the VINT\n",
    "- (You can use a different port, but you need to change the code below.)\n",
    "- The code below creates a phidgetSlider object in Python, sets the port number to 1, then displays the phidget widget\n",
    "- click on the button on the screen to connect the phidget\n",
    "- you can see the values displayed. Slide the slider to change values\n",
    "- additional code links the physical slider with an ipywidget slider on screen\n",
    "\n",
    "Follows the code model from the Phidgets company, called VoltageRatioInput.html\n"
   ]
  },
  {
   "cell_type": "markdown",
   "id": "6d63b4e5-7e02-4cb0-86da-07ca6341bd33",
   "metadata": {},
   "source": [
    "## Pip install\n",
    "\n",
    "The pip install only needs to be done once on your hub. I include it here for completeness."
   ]
  },
  {
   "cell_type": "code",
   "execution_count": 2,
   "id": "61975140-c219-441c-b8c9-899c6a5ea7a7",
   "metadata": {},
   "outputs": [
    {
     "name": "stdout",
     "output_type": "stream",
     "text": [
      "\u001b[33mWARNING: Skipping /opt/conda/lib/python3.11/site-packages/nlopt-2.7.1.dist-info due to invalid metadata entry 'name'\u001b[0m\u001b[33m\n",
      "\u001b[0mCollecting anywidget[dev]\n",
      "  Using cached anywidget-0.7.1-py3-none-any.whl.metadata (4.2 kB)\n",
      "Requirement already satisfied: ipywidgets>=7.6.0 in /opt/conda/lib/python3.11/site-packages (from anywidget[dev]) (8.1.1)\n",
      "Collecting psygnal>=0.8.1 (from anywidget[dev])\n",
      "  Using cached psygnal-0.9.5-cp311-cp311-manylinux_2_17_x86_64.manylinux2014_x86_64.whl.metadata (6.9 kB)\n",
      "Requirement already satisfied: typing-extensions>=4.2.0 in /opt/conda/lib/python3.11/site-packages (from anywidget[dev]) (4.8.0)\n",
      "Requirement already satisfied: comm>=0.1.0 in /opt/conda/lib/python3.11/site-packages (from anywidget[dev]) (0.1.4)\n",
      "Collecting watchfiles>=0.18.0 (from anywidget[dev])\n",
      "  Using cached watchfiles-0.21.0-cp311-cp311-manylinux_2_17_x86_64.manylinux2014_x86_64.whl.metadata (4.9 kB)\n",
      "Requirement already satisfied: traitlets>=4 in /opt/conda/lib/python3.11/site-packages (from comm>=0.1.0->anywidget[dev]) (5.9.0)\n",
      "Requirement already satisfied: ipython>=6.1.0 in /opt/conda/lib/python3.11/site-packages (from ipywidgets>=7.6.0->anywidget[dev]) (8.16.1)\n",
      "Requirement already satisfied: widgetsnbextension~=4.0.9 in /opt/conda/lib/python3.11/site-packages (from ipywidgets>=7.6.0->anywidget[dev]) (4.0.9)\n",
      "Requirement already satisfied: jupyterlab-widgets~=3.0.9 in /opt/conda/lib/python3.11/site-packages (from ipywidgets>=7.6.0->anywidget[dev]) (3.0.9)\n",
      "Requirement already satisfied: mypy-extensions in /opt/conda/lib/python3.11/site-packages (from psygnal>=0.8.1->anywidget[dev]) (1.0.0)\n",
      "Requirement already satisfied: anyio>=3.0.0 in /opt/conda/lib/python3.11/site-packages (from watchfiles>=0.18.0->anywidget[dev]) (4.0.0)\n",
      "Requirement already satisfied: idna>=2.8 in /opt/conda/lib/python3.11/site-packages (from anyio>=3.0.0->watchfiles>=0.18.0->anywidget[dev]) (2.10)\n",
      "Requirement already satisfied: sniffio>=1.1 in /opt/conda/lib/python3.11/site-packages (from anyio>=3.0.0->watchfiles>=0.18.0->anywidget[dev]) (1.3.0)\n",
      "Requirement already satisfied: backcall in /opt/conda/lib/python3.11/site-packages (from ipython>=6.1.0->ipywidgets>=7.6.0->anywidget[dev]) (0.2.0)\n",
      "Requirement already satisfied: decorator in /opt/conda/lib/python3.11/site-packages (from ipython>=6.1.0->ipywidgets>=7.6.0->anywidget[dev]) (5.1.1)\n",
      "Requirement already satisfied: jedi>=0.16 in /opt/conda/lib/python3.11/site-packages (from ipython>=6.1.0->ipywidgets>=7.6.0->anywidget[dev]) (0.19.1)\n",
      "Requirement already satisfied: matplotlib-inline in /opt/conda/lib/python3.11/site-packages (from ipython>=6.1.0->ipywidgets>=7.6.0->anywidget[dev]) (0.1.6)\n",
      "Requirement already satisfied: pickleshare in /opt/conda/lib/python3.11/site-packages (from ipython>=6.1.0->ipywidgets>=7.6.0->anywidget[dev]) (0.7.5)\n",
      "Requirement already satisfied: prompt-toolkit!=3.0.37,<3.1.0,>=3.0.30 in /opt/conda/lib/python3.11/site-packages (from ipython>=6.1.0->ipywidgets>=7.6.0->anywidget[dev]) (3.0.39)\n",
      "Requirement already satisfied: pygments>=2.4.0 in /opt/conda/lib/python3.11/site-packages (from ipython>=6.1.0->ipywidgets>=7.6.0->anywidget[dev]) (2.16.1)\n",
      "Requirement already satisfied: stack-data in /opt/conda/lib/python3.11/site-packages (from ipython>=6.1.0->ipywidgets>=7.6.0->anywidget[dev]) (0.6.2)\n",
      "Requirement already satisfied: pexpect>4.3 in /opt/conda/lib/python3.11/site-packages (from ipython>=6.1.0->ipywidgets>=7.6.0->anywidget[dev]) (4.8.0)\n",
      "Requirement already satisfied: parso<0.9.0,>=0.8.3 in /opt/conda/lib/python3.11/site-packages (from jedi>=0.16->ipython>=6.1.0->ipywidgets>=7.6.0->anywidget[dev]) (0.8.3)\n",
      "Requirement already satisfied: ptyprocess>=0.5 in /opt/conda/lib/python3.11/site-packages (from pexpect>4.3->ipython>=6.1.0->ipywidgets>=7.6.0->anywidget[dev]) (0.7.0)\n",
      "Requirement already satisfied: wcwidth in /opt/conda/lib/python3.11/site-packages (from prompt-toolkit!=3.0.37,<3.1.0,>=3.0.30->ipython>=6.1.0->ipywidgets>=7.6.0->anywidget[dev]) (0.2.9)\n",
      "Requirement already satisfied: executing>=1.2.0 in /opt/conda/lib/python3.11/site-packages (from stack-data->ipython>=6.1.0->ipywidgets>=7.6.0->anywidget[dev]) (2.0.1)\n",
      "Requirement already satisfied: asttokens>=2.1.0 in /opt/conda/lib/python3.11/site-packages (from stack-data->ipython>=6.1.0->ipywidgets>=7.6.0->anywidget[dev]) (2.4.1)\n",
      "Requirement already satisfied: pure-eval in /opt/conda/lib/python3.11/site-packages (from stack-data->ipython>=6.1.0->ipywidgets>=7.6.0->anywidget[dev]) (0.2.2)\n",
      "Requirement already satisfied: six>=1.12.0 in /opt/conda/lib/python3.11/site-packages (from asttokens>=2.1.0->stack-data->ipython>=6.1.0->ipywidgets>=7.6.0->anywidget[dev]) (1.16.0)\n",
      "Using cached psygnal-0.9.5-cp311-cp311-manylinux_2_17_x86_64.manylinux2014_x86_64.whl (614 kB)\n",
      "Using cached watchfiles-0.21.0-cp311-cp311-manylinux_2_17_x86_64.manylinux2014_x86_64.whl (1.3 MB)\n",
      "Using cached anywidget-0.7.1-py3-none-any.whl (40 kB)\n",
      "\u001b[33mWARNING: Skipping /opt/conda/lib/python3.11/site-packages/nlopt-2.7.1.dist-info due to invalid metadata entry 'name'\u001b[0m\u001b[33m\n",
      "\u001b[0mInstalling collected packages: psygnal, watchfiles, anywidget\n",
      "Successfully installed anywidget-0.7.1 psygnal-0.9.5 watchfiles-0.21.0\n"
     ]
    }
   ],
   "source": [
    "!pip install \"anywidget[dev]\""
   ]
  },
  {
   "cell_type": "code",
   "execution_count": 9,
   "id": "cba2eeb7-3b1c-470e-a998-6c54236b890d",
   "metadata": {},
   "outputs": [],
   "source": [
    "import anywidget\n",
    "import traitlets"
   ]
  },
  {
   "cell_type": "code",
   "execution_count": 10,
   "id": "908170d1-5a74-4b0a-bd7c-d19a6f009c33",
   "metadata": {},
   "outputs": [],
   "source": [
    "class phidgetSlider(anywidget.AnyWidget):\n",
    "    _esm = \"\"\"\n",
    "import  \"https://unpkg.com/phidget22/browser/phidget22\";\n",
    "\n",
    "export function render({ model, el }) {\n",
    "    var conn = 0;\n",
    "    var ch = 0;\n",
    "    var isOpen = false;\n",
    "    var connOpen = false;\n",
    "    var chOpen = false;\n",
    "\n",
    "    async function openUSB() {\n",
    "        if (conn) {\n",
    "            try {await ch.close();} catch {console.log('ch.close failed');}\n",
    "            try {await conn.close();} catch {console.log('conn.close failed');}\n",
    "            try {await conn.delete();} catch {console.log('conn.delete failed');}\n",
    "        }\n",
    "        conn = new phidget22.USBConnection();\n",
    "        ch = new phidget22.VoltageRatioInput();\n",
    "        conn.onError = function(code, msg) {\n",
    "            console.log('Conn Code: ' + code);\n",
    "            console.log('Conn error: ' + msg);\n",
    "            console.log('----------');\n",
    "        };\n",
    "        ch.onError = (code, msg) => {\n",
    "        \tconsole.log('Ch Code: ' + code);\n",
    "        \tconsole.log('Ch error: ' + msg);\n",
    "        \tconsole.log('----------');\n",
    "        };\n",
    "        ch.onAttach = onAttach;\n",
    "        ch.onDetach = () => {\n",
    "        \tconsole.log('onDetach called. ');\n",
    "        }\n",
    "        ch.setIsHubPortDevice(true);\n",
    "        ch.setHubPort(model.get(\"hubPort\"));\n",
    "    \ttry {\n",
    "    \t\tawait conn.connect();\n",
    "            conn.requestWebUSBDeviceAccess();\n",
    "            console.log('usb connected');\n",
    "            connOpen = true;\n",
    "    \t} catch(err) {\n",
    "    \t\tconsole.log(\"Conn open error: \", err);\n",
    "            connOpen = false;\n",
    "    \t}\n",
    "        if (connOpen) {\n",
    "            try {\n",
    "                await ch.open();\n",
    "                console.log('Channel connected');\n",
    "                chOpen = true;            \n",
    "            } catch(err) {\n",
    "        \t\tconsole.log(\"Channel open error: \", err);\n",
    "                chOpen = false;\n",
    "            }\n",
    "        }\n",
    "        // now get the UI to reflect the status\n",
    "        if (connOpen && chOpen) {\n",
    "            isOpen = true;\n",
    "            textStatus.innerHTML = 'USB connected, channel open.';\n",
    "            button.innerHTML = `Click to disconnect`;\n",
    "        }\n",
    "        if (connOpen && !chOpen) {\n",
    "            isOpen = false;\n",
    "            textStatus.innerHTML = 'USB connected, channel not open.';\n",
    "            button.innerHTML = `Click to connect`;\n",
    "        }\n",
    "        if (!connOpen) {\n",
    "            isOpen = false;\n",
    "            textStatus.innerHTML = 'USB did not connect.';\n",
    "            button.innerHTML = `Click to connect`;        \n",
    "        }\n",
    "    };\n",
    "\n",
    "    async function closeUSB() {\n",
    "        console.log('closeUSB called');\n",
    "        try {await ch.close();} catch {console.log('ch.close failed');}\n",
    "        try {await conn.close();} catch {console.log('conn.close failed');}\n",
    "        try {await conn.delete();} catch {console.log('conn.delete failed');}\n",
    "        isOpen = false; \n",
    "        connOpen = false;\n",
    "        chOpen = false;\n",
    "        textStatus.innerHTML = 'Disconnected.  ';\n",
    "        textValue.innerHTML = 'Value is null.';\n",
    "        button.innerHTML = `Click to connect`;\n",
    "    };\n",
    "    model.on('msg:custom', msg => {\n",
    "        console.log(`new msg received: ` + msg);\n",
    "        if (msg == 'open') {\n",
    "            console.log('open msg called');\n",
    "            openUSB();\n",
    "         }\n",
    "         if (msg == 'close') {\n",
    "            console.log('close msg called');\n",
    "            closeUSB();\n",
    "         }\n",
    "    });\n",
    "    function onAttach(ch) {\n",
    "        console.log('channel is attached');\n",
    "        textStatus.innerHTML = 'Attached.  ';\n",
    "    \tch.onVoltageRatioChange = ratioChange;\n",
    "        ch.setDataInterval(100);\n",
    "        ch.setVoltageRatioChangeTrigger(.01);\n",
    "    }\n",
    "    function ratioChange(ratio) {\n",
    "        textValue.innerHTML = 'Value is ' + ratio;\n",
    "        model.set('value', ratio);\n",
    "        model.save_changes();\n",
    "    }\n",
    "    let button = document.createElement(\"button\");\n",
    "    button.classList.add(\"ph-button\");\n",
    "    button.innerHTML = `Click to connect`;\n",
    "    button.addEventListener(\"click\", async () => {\n",
    "        if (isOpen) {closeUSB();} else {openUSB();}\n",
    "    });\n",
    "    let textStatus = document.createElement(\"label\");\n",
    "    textStatus.innerHTML = 'Message area.';\n",
    "    let textValue = document.createElement(\"label\");\n",
    "    textValue.innerHTML = 'Value area.';\n",
    "    let div0 = document.createElement(\"div\");\n",
    "    el.appendChild(button);\n",
    "    el.appendChild(textStatus);\n",
    "    div0.appendChild(textValue);\n",
    "    el.appendChild(div0);\n",
    "    // we include a return function to close the Phidget when the notebook is closed\n",
    "    return async () => {\n",
    "        try {await ch.close();} catch {}\n",
    "        try {await conn.close();} catch {}\n",
    "        try {await conn.delete();} catch {}\n",
    "    };\n",
    "    }\n",
    "    \"\"\"\n",
    "    _css=\"\"\"\n",
    "    .ph-button {\n",
    "        color: white; \n",
    "        background-color: var(--md-blue-700); \n",
    "        border-radius: 8px; \n",
    "        font-size: 24px; \n",
    "        display: block;\n",
    "        padding: 15px 32px;\n",
    "    }\n",
    "    .ph-button:hover { \n",
    "        background-color: var(--md-blue-900); \n",
    "    }\n",
    "    \"\"\"\n",
    "    hubPort = traitlets.Int(0).tag(sync=True)\n",
    "    value = traitlets.Float(0).tag(sync=True)\n",
    "\n",
    "ps = phidgetSlider()\n",
    "ps.hubPort = 1\n"
   ]
  },
  {
   "cell_type": "code",
   "execution_count": 11,
   "id": "d65cc408-e41e-4ae4-be1e-f2b77cdef872",
   "metadata": {},
   "outputs": [
    {
     "data": {
      "application/vnd.jupyter.widget-view+json": {
       "model_id": "b56cc47728994548a98fd4000cc84378",
       "version_major": 2,
       "version_minor": 0
      },
      "text/plain": [
       "phidgetSlider(hubPort=1)"
      ]
     },
     "execution_count": 11,
     "metadata": {},
     "output_type": "execute_result"
    }
   ],
   "source": [
    "ps"
   ]
  },
  {
   "cell_type": "code",
   "execution_count": 12,
   "id": "60d4c81f-a9a1-4e00-af97-bed76d5406a9",
   "metadata": {},
   "outputs": [],
   "source": [
    "from ipywidgets import FloatSlider"
   ]
  },
  {
   "cell_type": "code",
   "execution_count": 13,
   "id": "414acb5e-73ab-4d2d-b9d6-d67c3595169e",
   "metadata": {},
   "outputs": [
    {
     "data": {
      "application/vnd.jupyter.widget-view+json": {
       "model_id": "03311b85b1044362b32ca8ea6c49537b",
       "version_major": 2,
       "version_minor": 0
      },
      "text/plain": [
       "FloatSlider(value=0.0, description='Value', max=1.0, readout_format='.3f', step=0.01)"
      ]
     },
     "execution_count": 13,
     "metadata": {},
     "output_type": "execute_result"
    }
   ],
   "source": [
    "mySlider = FloatSlider(\n",
    "    min=0,max=1.0,step=0.01,\n",
    "    description='Value',readout_format='.3f',\n",
    ")\n",
    "\n",
    "def updateSlider(change):\n",
    "    mySlider.value = change.new\n",
    "\n",
    "ps.observe(updateSlider, names=[\"value\"])\n",
    "\n",
    "mySlider"
   ]
  },
  {
   "cell_type": "code",
   "execution_count": 7,
   "id": "5dc20cc7-79e0-4ae1-88f2-8c5c567537f2",
   "metadata": {},
   "outputs": [],
   "source": [
    "# Here are some useful commands to access the widget in code\n",
    "\n",
    "#ps.send(\"open\")     ## open the phidget\n",
    "#ps.value            ## read the value\n",
    "#ps.send(\"close\")    ## close the phidget"
   ]
  },
  {
   "cell_type": "code",
   "execution_count": 14,
   "id": "5ddefc97-854f-4a84-8f81-ee26e77befcc",
   "metadata": {},
   "outputs": [
    {
     "data": {
      "text/plain": [
       "0.43356"
      ]
     },
     "execution_count": 14,
     "metadata": {},
     "output_type": "execute_result"
    }
   ],
   "source": [
    "ps.value"
   ]
  },
  {
   "cell_type": "code",
   "execution_count": null,
   "id": "995cdfb3-1b74-4a10-9f5d-959dddfa83fe",
   "metadata": {},
   "outputs": [],
   "source": []
  }
 ],
 "metadata": {
  "kernelspec": {
   "display_name": "Python 3 (ipykernel)",
   "language": "python",
   "name": "python3"
  },
  "language_info": {
   "codemirror_mode": {
    "name": "ipython",
    "version": 3
   },
   "file_extension": ".py",
   "mimetype": "text/x-python",
   "name": "python",
   "nbconvert_exporter": "python",
   "pygments_lexer": "ipython3",
   "version": "3.11.6"
  }
 },
 "nbformat": 4,
 "nbformat_minor": 5
}
