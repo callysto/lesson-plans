{
 "cells": [
  {
   "cell_type": "markdown",
   "id": "a954153d",
   "metadata": {},
   "source": [
    "![Callysto.ca Banner](https://github.com/callysto/curriculum-notebooks/blob/master/callysto-notebook-banner-top.jpg?raw=true)\n",
    " \n",
    "<a href=\"https://hub.callysto.ca/jupyter/hub/user-redirect/git-pull?repo=https%3A%2F%2Fgithub.com%2Fcallysto%2Flesson-plans&branch=anywidgets&urlpath=notebooks/lesson-plans/notebooks/plants/PhidgetFour_auto.ipynb&depth=1\" target=\"_parent\"><img src=\"https://raw.githubusercontent.com/callysto/curriculum-notebooks/master/open-in-callysto-button.svg?sanitize=true\" width=\"123\" height=\"24\" alt=\"Open in Callysto\"></a>"
   ]
  },
  {
   "cell_type": "markdown",
   "id": "f6c36172",
   "metadata": {},
   "source": [
    "# Watering plants with Phidgets\n",
    "\n",
    "This is a short notebook to collect and display data from \"Phidgets\" sensors around a plant and allow the user to water the plant."
   ]
  },
  {
   "cell_type": "markdown",
   "id": "93caa6f1",
   "metadata": {},
   "source": [
    "## Overview\n",
    "\n",
    "The purpose of this notebook is to collect data from certain hardware sensors called \"Phidgets\" which are set up to monitor the environment of a plant, and also to water the plant. The data can be viewed directly on the computer screen, and a water pump can be activated from a simple water pump.\n",
    "\n",
    "- you need the Phidget VINT device, with three sensors attached\n",
    "    - the temperature/humidity sensor (device type HUM1001_01)\n",
    "    - the light sensor (device type LUX1000_0)\n",
    "    - the moisture sensor (device type HUM1100)\n",
    "- you will need a computer (Mac, Windows, Raspberry Pi) with a USB connection and internet access\n",
    "- you will need the Chrome or Chromium Web browser (Safari, Firefox, and Edge will not work)\n",
    "\n",
    "Follow these steps:\n",
    "\n",
    "Assemble your Phidgets plant kit, see the following [link](https://www.phidgets.com/education/learn/projects/plant-kit/assemble/)\n",
    "\n",
    "1. Setting up the interface\n",
    "1. View the interface\n",
    "1. Connecting the sensor devices\n",
    "1. Watering your plant\n",
    "1. Observing the results \n",
    "\n",
    "\n",
    "Run the cells in this notebook, one cell at a time. This will give you the chance to respond to any errors and fix things if necessary. Do not select \"Run All.\" \n",
    "\n",
    "You should have a plant, with the sensors, water reservoir, and pump  nearby. This what the plant setup should look like. \n",
    "\n",
    "**Note: Keep it away from computer and electronic devices as much as possible.**\n",
    "\n",
    "<div align=\"center\">\n",
    "<img src=\"images/plant-water.jpg\" alt=\"A plant with sensors and water pump\" width=\"400\"/><br>\n",
    "A plant with sensors and water pump.\n",
    "</div>\n",
    "\n",
    "\n",
    "\n",
    "Here is some more detail on the various devices we are using. \n",
    "<div align=\"center\">\n",
    "<img src=\"images/sensors.jpg\" alt=\"Details of the pump and sensors\" width=\"600\"/><br>\n",
    "1: Pump. 2: DC power supply. 3: Moisture probe. 4: Light sensor. 5: Humidity sensor. 6: VINT Hub\n",
    "</div>\n",
    "\n",
    "The notebook runs both Python code and Javascript (JS) code. It would be nice to do everything in Python, but it seems Javascript is necessary to communicate with the Phidgets in a Jupyter notebook. Fortunately, the Javascript code here is easy enough to read and you will not need to change it. "
   ]
  },
  {
   "cell_type": "markdown",
   "id": "cd95682a",
   "metadata": {},
   "source": [
    "***\n",
    "\n",
    "## Step 1. Setting up the user interface\n",
    "\n",
    "Our goal is to create a user interface that looks like this:\n",
    "\n",
    "\n",
    "<div align=\"center\">\n",
    "<img src=\"images/WaterUI.jpg\" alt=\"Image of the user interface\" width=\"800\"/><br>\n",
    "A plant with sensors and water pump.\n",
    "</div>\n",
    "\n",
    "This UI includes a button to connect the Phidget, a second button to read the data, and a button to water the plant. It also holds four gauges to display values for temperature, humidity, soil moisture and light levels,  \n"
   ]
  },
  {
   "cell_type": "markdown",
   "id": "43a505af",
   "metadata": {},
   "source": [
    "## Step 1a. \n",
    "\n",
    "Let's set up the software widget called \"PhidgetFive_read\" that will to connect the Phidget hardware.\n",
    "\n",
    "Click on `▶Run` in the following two cells."
   ]
  },
  {
   "cell_type": "code",
   "execution_count": null,
   "id": "64c75550",
   "metadata": {},
   "outputs": [],
   "source": [
    "# Special libraries for the anywidgets\n",
    "import pathlib\n",
    "import traitlets\n",
    "try:\n",
    "    import anywidget\n",
    "except:\n",
    "    !pip install --user \"anywidget[dev]\"\n",
    "    import anywidget"
   ]
  },
  {
   "cell_type": "code",
   "execution_count": null,
   "id": "0e3ef1db",
   "metadata": {},
   "outputs": [],
   "source": [
    "## define the class\n",
    "class PhidgetFive_read(anywidget.AnyWidget):\n",
    "    _esm = pathlib.Path(\"ph5read.js\")\n",
    "    _css = pathlib.Path(\"ph4xx.css\")\n",
    "    # These 5 variables are used by the widget class. Do not delete. \n",
    "    hubPort = traitlets.Int(1).tag(sync=True)   # default is port 1 on Phidget Plant Kit\n",
    "    temperature = traitlets.Float(0).tag(sync=True)\n",
    "    humidity = traitlets.Float(0).tag(sync=True)\n",
    "    moisture = traitlets.Float(0).tag(sync=True)\n",
    "    luminance = traitlets.Float(0).tag(sync=True)\n",
    "    pump = traitlets.Bool(False).tag(sync=True)\n",
    "\n",
    "## create the PhidgetFour widget and name it pf\n",
    "pf = PhidgetFive_read()\n",
    "pf.hubPort = 1   ## The water pump is plugged into Port 1 (you can change this if you use another port)\n",
    "\n",
    "# connect the Phidget widget to the gauges in the user interface\n",
    "def updateTemperature(change):\n",
    "    gauges.data[0]['value'] = change.new\n",
    "def updateHumidity(change):\n",
    "    gauges.data[1]['value'] = change.new\n",
    "def updateMoisture(change):\n",
    "    gauges.data[2]['value'] = change.new\n",
    "def updateLuminance(change):\n",
    "    gauges.data[3]['value'] = change.new\n",
    "pf.observe(updateTemperature, names=[\"temperature\"])\n",
    "pf.observe(updateHumidity, names=[\"humidity\"])\n",
    "pf.observe(updateMoisture, names=[\"moisture\"])\n",
    "pf.observe(updateLuminance, names=[\"luminance\"])"
   ]
  },
  {
   "cell_type": "markdown",
   "id": "5abe1efc",
   "metadata": {},
   "source": [
    "### Step 1b.\n",
    "\n",
    "Next we set up the gauges and some buttons, using plotly and widgets. \n",
    "\n",
    "Click on `▶Run` in the following two cells."
   ]
  },
  {
   "cell_type": "code",
   "execution_count": null,
   "id": "bdd387cb",
   "metadata": {},
   "outputs": [],
   "source": [
    "from IPython.display import display, Javascript\n",
    "from plotly.subplots import make_subplots\n",
    "import plotly.graph_objects as go\n",
    "import ipywidgets as widgets\n",
    "from time import sleep"
   ]
  },
  {
   "cell_type": "code",
   "execution_count": null,
   "id": "15563541",
   "metadata": {},
   "outputs": [],
   "source": [
    "# the four sensor gauges\n",
    "g_temp = go.Indicator(\n",
    "    mode = \"gauge+number\",\n",
    "    value = 20,\n",
    "    domain = {'x': [0, 1], 'y': [0, 1]},\n",
    "    title = {'text': \"Temperature\"},\n",
    "    gauge = {'axis': {'range': [10, 40]}}\n",
    ")\n",
    "\n",
    "g_hum = go.Indicator(\n",
    "    mode = \"gauge+number\",\n",
    "    value = 40,\n",
    "    domain = {'x': [0, 1], 'y': [0, 1]},\n",
    "    title = {'text': \"Humidity\"},\n",
    "    gauge = {'axis': {'range': [0, 100]}}\n",
    ")\n",
    "\n",
    "g_moist = go.Indicator(\n",
    "    mode = \"gauge+number\",\n",
    "    value = 0.5,\n",
    "    domain = {'x': [0, 1], 'y': [0, 1]},\n",
    "    title = {'text': \"Moisture\"},\n",
    "    gauge = {'axis': {'range': [0, 1.0]}}\n",
    ")\n",
    "\n",
    "g_light = go.Indicator(\n",
    "    mode = \"gauge+number\",\n",
    "    value = 40,\n",
    "    domain = {'x': [0, 1], 'y': [0, 1]},\n",
    "    title = {'text': \"Light Level\"},\n",
    "    gauge = {'axis': {'range': [0, 1000]}}\n",
    ")\n",
    "\n",
    "fig = make_subplots(\n",
    "    rows=2,\n",
    "    cols=2,\n",
    "    specs=[[{'type' : 'domain'}, {'type' : 'domain'}],[{'type' : 'domain'}, {'type' : 'domain'}]],\n",
    "    vertical_spacing = 0.35\n",
    ")\n",
    "fig.append_trace(g_temp, row=1, col=1)\n",
    "fig.append_trace(g_hum, row=1, col=2)\n",
    "fig.append_trace(g_moist, row=2, col=1)\n",
    "fig.append_trace(g_light, row=2, col=2)\n",
    "\n",
    "gauges = go.FigureWidget(fig)\n",
    "\n",
    "# the data update button\n",
    "data_button = widgets.Button(\n",
    "    description='Update gauges',\n",
    "    tooltip='Update data to gauges',\n",
    "    disabled=False,\n",
    "    button_style='success',\n",
    ")\n",
    "\n",
    "# the watering button\n",
    "water_button = widgets.Button(\n",
    "    description='Click to water',\n",
    "    disabled=False,\n",
    "    button_style='success',\n",
    "    tooltip='Water for 2 seconds',\n",
    ")\n",
    "    "
   ]
  },
  {
   "cell_type": "markdown",
   "id": "220f69d8",
   "metadata": {},
   "source": [
    "### Step 1c. Connecting the buttons\n",
    "\n",
    "We connect the buttons in the user interface to functions that access the Phidget sensors.\n",
    "\n",
    "Click on `▶Run` in the following cell"
   ]
  },
  {
   "cell_type": "code",
   "execution_count": null,
   "id": "5307501a",
   "metadata": {},
   "outputs": [],
   "source": [
    "## We connect the data button in the user interface to the Phidget widget named pf\n",
    "def update_gauges(button):\n",
    "    pf.send(\"read\")\n",
    "\n",
    "data_button.on_click(update_gauges)\n",
    "\n",
    "## We connect the water button  the Phidget widget named pf\n",
    "def water_plant(button):\n",
    "    pf.send(\"pumpOn\")\n",
    "    button.button_style = 'info'\n",
    "    sleep(2)\n",
    "    pf.send(\"pumpOff\")\n",
    "    button.button_style = 'success'\n",
    "\n",
    "water_button.on_click(water_plant)"
   ]
  },
  {
   "cell_type": "markdown",
   "id": "d5a043e6",
   "metadata": {},
   "source": [
    "***\n",
    "## Step 2. Viewing the user interface\n",
    "\n",
    "We can view the user interface with the display command. We assemble them using the HBox and VBox functions.\n",
    "\n",
    "Click on `▶Run` in the following cell."
   ]
  },
  {
   "cell_type": "code",
   "execution_count": null,
   "id": "b0bfc961",
   "metadata": {},
   "outputs": [],
   "source": [
    "dashboard = widgets.VBox([pf, gauges,widgets.HBox([data_button,water_button])])\n",
    "display(dashboard)"
   ]
  },
  {
   "cell_type": "markdown",
   "id": "d168005b",
   "metadata": {},
   "source": [
    "***\n",
    "## Step 3: Connecting the sensor devices\n",
    "\n",
    "At this point, you should connect the Phidgets hardware to your computer. This includes six separate devices:\n",
    "- the Phidget VINT device, attached to the computer's USB port\n",
    "- the DC power supply, attached to Port 1 on the VINT device\n",
    "- The water pump, attached to the DC power supply\n",
    "- the soil moisture sensor, attached to the VINT\n",
    "- the light sensor, attached to the VINT\n",
    "- optionally, the combined temperature/humidity sensor, attached to the VINT\n",
    "\n",
    "When you first attach the VINT device to the USB port, your computer may ask you whether you wish to connect to this USB device. Please answer \"yes\" to this security request. \n"
   ]
  },
  {
   "cell_type": "markdown",
   "id": "95b56906",
   "metadata": {},
   "source": [
    "### Step 3a. Opening the USB connection\n",
    "\n",
    "Steps connecting your USB device to your Phidget VINT device to your computer. \n",
    "1. The VINT must be plugged into your computer's USB port. \n",
    "1. Click on the 'Connect' button in the user interface above.\n",
    "1. Follow the prompts to select the VINT device (a list appears that you should click on). This will pair the device with your computer. "
   ]
  },
  {
   "cell_type": "markdown",
   "id": "2a9b6bb2",
   "metadata": {},
   "source": [
    " ### 3b. Check.\n",
    " Clicking the \"Connect\" button should open a window that asks you to select the Phidget Hub.  The window looks like this:\n",
    "\n",
    "<img src=\"images/Pconnect.png\" width=300>\n",
    "<div align=\"left\">\n",
    "    \n",
    "Go ahead and slect the Hub, and click \"Connect.\""
   ]
  },
  {
   "cell_type": "markdown",
   "id": "772b5568",
   "metadata": {},
   "source": [
    "### 3c. Confirm the USB connection \n",
    "\n",
    "The status line below the 'Connect button' will tell you if the USB and devices are connected.\n",
    "\n",
    "If all is working well, the status text will say \"USB Connected.\" Click the button to update the date from the sensors.\n",
    "\n",
    "If nothing happens, make sure you have the VINT hub connected to your computer's USB port. You should also have the sensors connected to the VINT hub. \n",
    "\n",
    "Click \"Disconnect\" and then \"Connect\" again. Try reading the data a second time. Sometimes the Phidgets need a few seconds to connect properly, so disconnecting and connecting again can help. "
   ]
  },
  {
   "cell_type": "markdown",
   "id": "58ab3634",
   "metadata": {},
   "source": [
    "***\n",
    "## Step 4: Watering your plant\n",
    "\n",
    "Now that everything is connected, we can view the user interface above. \n",
    "\n",
    "The gauges should be live, showing the values from the sensors whenever you click the update button.\n",
    "\n",
    "Try the  \"Click to Water\" button. It should run the water pump for two seconds.\n"
   ]
  },
  {
   "cell_type": "markdown",
   "id": "d69dd0ee",
   "metadata": {},
   "source": [
    "***\n",
    "## Step 5. Observing the results\n",
    "Once you water the plant, you should see the moisture level for the plant change.\n",
    "\n",
    "The other data gauges are live as well, but you do need to click the update button to see the latest values. Can you see the temperature, humidity and light level changes throughout the day?\n",
    "\n",
    "You will need to close this notebook and disconnect the Phidgets before using any other notebook with the Phidgets. "
   ]
  },
  {
   "cell_type": "markdown",
   "id": "2a77af2d",
   "metadata": {},
   "source": [
    "### Emergency water cut off\n",
    "\n",
    "If the water pump is running and not stopping, try running the following cell. Or just restart the kernel. "
   ]
  },
  {
   "cell_type": "code",
   "execution_count": null,
   "id": "54dd64e0",
   "metadata": {},
   "outputs": [],
   "source": [
    "pf.send(\"pumpOff\")"
   ]
  },
  {
   "cell_type": "markdown",
   "id": "7c743b26",
   "metadata": {},
   "source": [
    "***\n",
    "## 6. Final Step. Closing down the sensors\n",
    "\n",
    "It is **important** to close down all the sensors when you are done, as otherwise they will keep busy forever. Also, this notebook will block other notebooks from using the same sensors.\n",
    "\n",
    "You can disconnect by clicking the \"Disconnect\" button above. Or, simply close this notebook. "
   ]
  },
  {
   "cell_type": "markdown",
   "id": "3eedac7e",
   "metadata": {},
   "source": [
    "#### Troubleshooting and/or not working?\n",
    "If your are unable to read the data from the sensors, you can try the following:\n",
    "\n",
    "1. Click disconnect and reconnect botton in this notebook\n",
    "2. Check that the senors are connected to the VINT HUB Phidgets\n"
   ]
  },
  {
   "cell_type": "markdown",
   "id": "2e261121",
   "metadata": {},
   "source": [
    "## Conclusion\n",
    "\n",
    "We have demonstrated the process of running a utility that retrieves Phidget sensor data and publishes it on the web. This operation involves a combination of Javascript and Python to interact with both the front-end and back-end components within the Jupyter notebook environment.\n",
    "\n",
    "If you plan to collect data over an extended period, it's essential to have the Jupyter \"Hub\" software installed on your local computer. Please note that if you run this software on the [Callysto hub](https://hub.callysto.ca), it may automatically disconnect after approximately a day of continuous data collection.\n",
    "\n",
    "You might also like to go back to the data collection notebooks: \n",
    "- [Collecting Data from Plants with Phidgets with Google Sheets](./plants-data-google-anywidget.ipynb)\n",
    "- [Collecting Data from Plants with Phidgets with Ethercalc](./plants-data-ethercalc-anywidget.ipynb)\n",
    "\n",
    "### Next Notebook\n",
    "You may now go to the [next notebook](./plants-watering-auto-anywidget.ipynb), which automates the watering of your plant. The computer will monitor the moisture of the soil every day and decide whether to pump in more water. \n",
    "\n",
    "***\n",
    "For additional support or inquiries related to this notebook, feel free to reach out to M. Lamoureux or Mary Grant, who serve as Callysto ambassadors. They can provide further details and assistance."
   ]
  },
  {
   "cell_type": "markdown",
   "id": "ba7ee230",
   "metadata": {},
   "source": [
    "[![Callysto.ca License](https://github.com/callysto/curriculum-notebooks/blob/master/callysto-notebook-banner-bottom.jpg?raw=true)](https://github.com/callysto/curriculum-notebooks/blob/master/LICENSE.md)"
   ]
  }
 ],
 "metadata": {
  "kernelspec": {
   "display_name": "Python 3 (ipykernel)",
   "language": "python",
   "name": "python3"
  },
  "language_info": {
   "codemirror_mode": {
    "name": "ipython",
    "version": 3
   },
   "file_extension": ".py",
   "mimetype": "text/x-python",
   "name": "python",
   "nbconvert_exporter": "python",
   "pygments_lexer": "ipython3",
   "version": "3.9.12"
  }
 },
 "nbformat": 4,
 "nbformat_minor": 5
}
