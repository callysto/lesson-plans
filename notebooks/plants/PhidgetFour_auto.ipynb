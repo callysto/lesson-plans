{
 "cells": [
  {
   "cell_type": "markdown",
   "id": "c687b9ff",
   "metadata": {},
   "source": [
    "![Callysto.ca Banner](https://github.com/callysto/curriculum-notebooks/blob/master/callysto-notebook-banner-top.jpg?raw=true)"
   ]
  },
  {
   "cell_type": "markdown",
   "id": "ce35fb00-8ddc-487b-9117-ca5d402e68f7",
   "metadata": {},
   "source": [
    "## PhidgetFour_v2 notebook\n",
    "\n",
    "November 19. M. Lamoureux\n",
    "\n",
    "Updated Nov 23, to load in external files. \n",
    "\n",
    "Test the four plant Phidgets attached to the VINT device.\n",
    "\n",
    "#### Setup\n",
    "\n",
    "- use Google Chrome browser, try in Incognito mode is things are not going well\n",
    "- log into hub.callysto.ca. Classic notebook and Lab environments should both work. \n",
    "- plug in the Phidget VINT Hub to the computer's USB port\n",
    "- Plug in the temperature/humidity, moisture, and light sensor to the VINT\n",
    "- The moisture probe must be on Port 1, the other sensors can be anywhere.\n",
    "- (You can use a different port, but you need to change the \"hubPort\" in the code below.)\n",
    "- The code below creates a phidgetFour object in Python, sets the port number to 1, then displays the phidgetFour widget\n",
    "- click on the button on the screen to connect the phidget and all four sensors\n",
    "- you can see the values displayed. Blow on the sensors to change values\n",
    "- additional code links the physical sensors with Plotly gauges on screen.\n",
    "\n"
   ]
  },
  {
   "cell_type": "markdown",
   "id": "ca693d5a-b7f6-4386-be11-32256ee594a6",
   "metadata": {},
   "source": [
    "## Importing modules and Pip install\n",
    "\n",
    "The pip install for anywidgets only needs to be done once on your hub. \n",
    "\n",
    "Here we use the \"try\" command in Python to install it when it is necessary. "
   ]
  },
  {
   "cell_type": "code",
   "execution_count": null,
   "id": "a0389407-e87e-4cf5-a78b-9a953c52ebc8",
   "metadata": {},
   "outputs": [],
   "source": [
    "import pathlib\n",
    "import traitlets\n",
    "try:\n",
    "    import anywidget\n",
    "except:\n",
    "    !pip install \"anywidget[dev]\"\n",
    "    import anywidget"
   ]
  },
  {
   "cell_type": "code",
   "execution_count": null,
   "id": "d2b341f3-9f5c-4349-9230-f51d9f75824b",
   "metadata": {},
   "outputs": [],
   "source": [
    "class PhidgetsFour(anywidget.AnyWidget):\n",
    "    _esm = pathlib.Path(\"ph4auto.js\")\n",
    "    _css = pathlib.Path(\"ph4xx.css\")\n",
    "    # These 5 variables are used by the widget. Do not delete. \n",
    "    hubPort = traitlets.Int(0).tag(sync=True)   \n",
    "    temperature = traitlets.Float(0).tag(sync=True)\n",
    "    humidity = traitlets.Float(0).tag(sync=True)\n",
    "    moisture = traitlets.Float(0).tag(sync=True)\n",
    "    luminance = traitlets.Float(0).tag(sync=True)\n",
    "\n",
    "pf = PhidgetsFour()\n",
    "pf.hubPort = 1    # Set the port on the VINT for the moisture sensor, which is \"special\"\n"
   ]
  },
  {
   "cell_type": "markdown",
   "id": "a6d021d5",
   "metadata": {},
   "source": [
    "## The phidget widget\n",
    "\n",
    "The next cell will display the phidget widget.\n",
    "\n",
    "Click on the connect button to connect the device. The sensor data will update once a second.  "
   ]
  },
  {
   "cell_type": "code",
   "execution_count": null,
   "id": "aee27c9a-fdb9-4636-b8fd-ab0ac8c95ec4",
   "metadata": {},
   "outputs": [],
   "source": [
    "pf"
   ]
  },
  {
   "cell_type": "markdown",
   "id": "a653780d",
   "metadata": {},
   "source": [
    "## Programmatic control\n",
    "\n",
    "You can send messages to \"pf\" to open or close the phidget devices, like this. "
   ]
  },
  {
   "cell_type": "code",
   "execution_count": null,
   "id": "612ef2ff",
   "metadata": {},
   "outputs": [],
   "source": [
    "pf.send(\"open\")"
   ]
  },
  {
   "cell_type": "markdown",
   "id": "d89f39b3",
   "metadata": {},
   "source": [
    "## Linking to other widgets\n",
    "\n",
    "Here is how to link the phidget widget above to other widgets, such as gauges. "
   ]
  },
  {
   "cell_type": "code",
   "execution_count": null,
   "id": "970ea42a-678a-403b-a042-68f80f841090",
   "metadata": {},
   "outputs": [],
   "source": [
    "import plotly.graph_objects as go\n",
    "from plotly.subplots import make_subplots\n",
    "import ipywidgets as widgets"
   ]
  },
  {
   "cell_type": "code",
   "execution_count": null,
   "id": "ab8c1b94-c390-4dcd-bc88-a8aeb66ebec9",
   "metadata": {},
   "outputs": [],
   "source": [
    "# the four sensor gauges\n",
    "g_temp = go.Indicator(\n",
    "    mode = \"gauge+number\",\n",
    "    value = 20,\n",
    "    domain = {'x': [0, 1], 'y': [0, 1]},\n",
    "    title = {'text': \"Temperature\"},\n",
    "    gauge = {'axis': {'range': [10, 40]}}\n",
    ")\n",
    "\n",
    "g_hum = go.Indicator(\n",
    "    mode = \"gauge+number\",\n",
    "    value = 40,\n",
    "    domain = {'x': [0, 1], 'y': [0, 1]},\n",
    "    title = {'text': \"Humidity\"},\n",
    "    gauge = {'axis': {'range': [0, 100]}}\n",
    ")\n",
    "\n",
    "g_moist = go.Indicator(\n",
    "    mode = \"gauge+number\",\n",
    "    value = 0.5,\n",
    "    domain = {'x': [0, 1], 'y': [0, 1]},\n",
    "    title = {'text': \"Moisture\"},\n",
    "    gauge = {'axis': {'range': [0, 1.0]}}\n",
    ")\n",
    "\n",
    "g_light = go.Indicator(\n",
    "    mode = \"gauge+number\",\n",
    "    value = 40,\n",
    "    domain = {'x': [0, 1], 'y': [0, 1]},\n",
    "    title = {'text': \"Light Level\"},\n",
    "    gauge = {'axis': {'range': [0, 10000]}}\n",
    ")\n",
    "\n",
    "fig = make_subplots(\n",
    "    rows=2,\n",
    "    cols=2,\n",
    "    specs=[[{'type' : 'domain'}, {'type' : 'domain'}],[{'type' : 'domain'}, {'type' : 'domain'}]],\n",
    "    vertical_spacing = 0.35\n",
    ")\n",
    "fig.append_trace(g_temp, row=1, col=1)\n",
    "fig.append_trace(g_hum, row=1, col=2)\n",
    "fig.append_trace(g_moist, row=2, col=1)\n",
    "fig.append_trace(g_light, row=2, col=2)\n",
    "\n",
    "gauges = go.FigureWidget(fig)"
   ]
  },
  {
   "cell_type": "code",
   "execution_count": null,
   "id": "2d233943-5cda-4ef2-9f1b-2b16333b9625",
   "metadata": {},
   "outputs": [],
   "source": [
    "def updateTemperature(change):\n",
    "    gauges.data[0]['value'] = change.new\n",
    "    \n",
    "def updateHumidity(change):\n",
    "    gauges.data[1]['value'] = change.new\n",
    "    \n",
    "def updateMoisture(change):\n",
    "    gauges.data[2]['value'] = change.new\n",
    "    \n",
    "def updateLuminance(change):\n",
    "    gauges.data[3]['value'] = change.new\n"
   ]
  },
  {
   "cell_type": "code",
   "execution_count": null,
   "id": "c441abe3-2653-4ea4-94cb-8aa407b83251",
   "metadata": {},
   "outputs": [],
   "source": [
    "pf.observe(updateTemperature, names=[\"temperature\"])\n",
    "pf.observe(updateHumidity, names=[\"humidity\"])\n",
    "pf.observe(updateMoisture, names=[\"moisture\"])\n",
    "pf.observe(updateLuminance, names=[\"luminance\"])"
   ]
  },
  {
   "cell_type": "code",
   "execution_count": null,
   "id": "62149e58-e4ef-4086-8509-346741b68cd5",
   "metadata": {},
   "outputs": [],
   "source": [
    "gauges"
   ]
  },
  {
   "cell_type": "markdown",
   "id": "ac784e63",
   "metadata": {},
   "source": [
    "## Nothing happening?\n",
    "\n",
    "Go back to the section called \"The Phidget Widget.\"\n",
    "\n",
    "You should see a button there. Click it to connect. Data will be read in automatically. You need to have a Phidget VINT hub and sensors attached to your computer. "
   ]
  },
  {
   "cell_type": "markdown",
   "id": "1a149b0f",
   "metadata": {},
   "source": [
    "[![Callysto.ca License](https://github.com/callysto/curriculum-notebooks/blob/master/callysto-notebook-banner-bottom.jpg?raw=true)](https://github.com/callysto/curriculum-notebooks/blob/master/LICENSE.md)"
   ]
  }
 ],
 "metadata": {
  "kernelspec": {
   "display_name": "Python 3 (ipykernel)",
   "language": "python",
   "name": "python3"
  },
  "language_info": {
   "codemirror_mode": {
    "name": "ipython",
    "version": 3
   },
   "file_extension": ".py",
   "mimetype": "text/x-python",
   "name": "python",
   "nbconvert_exporter": "python",
   "pygments_lexer": "ipython3",
   "version": "3.11.6"
  }
 },
 "nbformat": 4,
 "nbformat_minor": 5
}
