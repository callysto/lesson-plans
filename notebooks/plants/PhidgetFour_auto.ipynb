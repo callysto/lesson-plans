{
 "cells": [
  {
   "cell_type": "markdown",
   "id": "c687b9ff",
   "metadata": {},
   "source": [
    "![Callysto.ca Banner](https://github.com/callysto/curriculum-notebooks/blob/master/callysto-notebook-banner-top.jpg?raw=true)"
   ]
  },
  {
   "cell_type": "markdown",
   "id": "ce35fb00-8ddc-487b-9117-ca5d402e68f7",
   "metadata": {},
   "source": [
    "## Phidgets Plant Kit - Your Talking Plant Automated  \n",
    "\n",
    "\n",
    "#### Your plant can talk to you automatically! By connecting the [Phidgets plant kit](https://store.logicsacademy.com/products/phidgets-education-plant-kit) to your plant and running the codes below, your plant will start reading data automatically.\n",
    "\n",
    "#### Setup\n",
    "\n",
    "##### There are important requirements you must meet in order to complete this setup:\n",
    "    \n",
    "- you need the Phidget VINT device, with three sensors attached\n",
    "    - the temperature/humidity sensor (device type HUM1001_01)\n",
    "    - the light sensor (device type LUX1000_0)\n",
    "    - the moisture sensor (device type HUM1100)\n",
    "- you will need a computer (Mac, Windows, Raspberry Pi) with a USB connection and internet access\n",
    "- you will need the Chrome or Chromium Web browser (Safari, Firefox, and Edge will not work)\n",
    "\n",
    "Follow these steps:\n",
    "\n",
    "Assemble your Phidgets plant kit, see the following [link](https://www.phidgets.com/education/learn/projects/plant-kit/assemble/)\n",
    "1. Install libraries and widgets\n",
    "    1. Install all components and code to run on your computer\n",
    "1. Phidget Widget\n",
    "    1. Create an install button for your plant kit\n",
    "1. Sensor readings \n",
    "1. Programmatic control\n",
    "    1. Activates the sensors to automatically read values\n",
    "1.Live sensor readings with gauges\n"
   ]
  },
  {
   "cell_type": "markdown",
   "id": "ca693d5a-b7f6-4386-be11-32256ee594a6",
   "metadata": {},
   "source": [
    "***\n",
    "## 1. Importing modules and Pip install\n",
    "\n",
    "The pip install for anywidgets only needs to be done once on your hub. \n",
    "\n",
    "Here we use the \"try\" command in Python to install it when it is necessary. "
   ]
  },
  {
   "cell_type": "code",
   "execution_count": null,
   "id": "a0389407-e87e-4cf5-a78b-9a953c52ebc8",
   "metadata": {},
   "outputs": [],
   "source": [
    "import pathlib\n",
    "import traitlets\n",
    "try:\n",
    "    import anywidget\n",
    "except:\n",
    "    !pip install \"anywidget[dev]\"\n",
    "    import anywidget"
   ]
  },
  {
   "cell_type": "code",
   "execution_count": null,
   "id": "d2b341f3-9f5c-4349-9230-f51d9f75824b",
   "metadata": {},
   "outputs": [],
   "source": [
    "class PhidgetsFour(anywidget.AnyWidget):\n",
    "    _esm = pathlib.Path(\"ph4auto.js\")\n",
    "    _css = pathlib.Path(\"ph4xx.css\")\n",
    "    # These 4 variables are used by the widget. Do not delete. \n",
    "    temperature = traitlets.Float(0).tag(sync=True)\n",
    "    humidity = traitlets.Float(0).tag(sync=True)\n",
    "    moisture = traitlets.Float(0).tag(sync=True)\n",
    "    luminance = traitlets.Float(0).tag(sync=True)\n",
    "\n",
    "pf = PhidgetsFour()\n"
   ]
  },
  {
   "cell_type": "markdown",
   "id": "a6d021d5",
   "metadata": {
    "tags": []
   },
   "source": [
    "***\n",
    "## 2. The phidget widget\n",
    "\n",
    "The next cell will display the phidget widget.\n",
    "\n",
    "Click on the connect button to connect the device. The sensor data will update once a second.  "
   ]
  },
  {
   "cell_type": "code",
   "execution_count": null,
   "id": "aee27c9a-fdb9-4636-b8fd-ab0ac8c95ec4",
   "metadata": {},
   "outputs": [],
   "source": [
    "pf"
   ]
  },
  {
   "cell_type": "markdown",
   "id": "a653780d",
   "metadata": {},
   "source": [
    "***\n",
    "## 3. Programmatic control\n",
    "\n",
    "You can send messages to \"pf\" to open or close the phidget devices, like this. "
   ]
  },
  {
   "cell_type": "code",
   "execution_count": null,
   "id": "612ef2ff",
   "metadata": {},
   "outputs": [],
   "source": [
    "pf.send(\"open\")"
   ]
  },
  {
   "cell_type": "markdown",
   "id": "d89f39b3",
   "metadata": {},
   "source": [
    "***\n",
    "## 4. Live sensor readings with gauges\n",
    "\n",
    "Here is how to link the phidget widget above to other widgets, such as gauges. "
   ]
  },
  {
   "cell_type": "code",
   "execution_count": null,
   "id": "970ea42a-678a-403b-a042-68f80f841090",
   "metadata": {},
   "outputs": [],
   "source": [
    "import plotly.graph_objects as go\n",
    "from plotly.subplots import make_subplots\n",
    "import ipywidgets as widgets"
   ]
  },
  {
   "cell_type": "code",
   "execution_count": null,
   "id": "ab8c1b94-c390-4dcd-bc88-a8aeb66ebec9",
   "metadata": {},
   "outputs": [],
   "source": [
    "# the four sensor gauges\n",
    "g_temp = go.Indicator(\n",
    "    mode = \"gauge+number\",\n",
    "    value = 20,\n",
    "    domain = {'x': [0, 1], 'y': [0, 1]},\n",
    "    title = {'text': \"Temperature\"},\n",
    "    gauge = {'axis': {'range': [10, 40]}}\n",
    ")\n",
    "\n",
    "g_hum = go.Indicator(\n",
    "    mode = \"gauge+number\",\n",
    "    value = 40,\n",
    "    domain = {'x': [0, 1], 'y': [0, 1]},\n",
    "    title = {'text': \"Humidity\"},\n",
    "    gauge = {'axis': {'range': [0, 100]}}\n",
    ")\n",
    "\n",
    "g_moist = go.Indicator(\n",
    "    mode = \"gauge+number\",\n",
    "    value = 0.5,\n",
    "    domain = {'x': [0, 1], 'y': [0, 1]},\n",
    "    title = {'text': \"Moisture\"},\n",
    "    gauge = {'axis': {'range': [0, 1.0]}}\n",
    ")\n",
    "\n",
    "g_light = go.Indicator(\n",
    "    mode = \"gauge+number\",\n",
    "    value = 40,\n",
    "    domain = {'x': [0, 1], 'y': [0, 1]},\n",
    "    title = {'text': \"Light Level\"},\n",
    "    gauge = {'axis': {'range': [0, 1000]}}\n",
    ")\n",
    "\n",
    "fig = make_subplots(\n",
    "    rows=2,\n",
    "    cols=2,\n",
    "    specs=[[{'type' : 'domain'}, {'type' : 'domain'}],[{'type' : 'domain'}, {'type' : 'domain'}]],\n",
    "    vertical_spacing = 0.35\n",
    ")\n",
    "fig.append_trace(g_temp, row=1, col=1)\n",
    "fig.append_trace(g_hum, row=1, col=2)\n",
    "fig.append_trace(g_moist, row=2, col=1)\n",
    "fig.append_trace(g_light, row=2, col=2)\n",
    "\n",
    "gauges = go.FigureWidget(fig)"
   ]
  },
  {
   "cell_type": "code",
   "execution_count": null,
   "id": "2d233943-5cda-4ef2-9f1b-2b16333b9625",
   "metadata": {},
   "outputs": [],
   "source": [
    "def updateTemperature(change):\n",
    "    gauges.data[0]['value'] = change.new\n",
    "    \n",
    "def updateHumidity(change):\n",
    "    gauges.data[1]['value'] = change.new\n",
    "    \n",
    "def updateMoisture(change):\n",
    "    gauges.data[2]['value'] = change.new\n",
    "    \n",
    "def updateLuminance(change):\n",
    "    gauges.data[3]['value'] = change.new\n"
   ]
  },
  {
   "cell_type": "code",
   "execution_count": null,
   "id": "c441abe3-2653-4ea4-94cb-8aa407b83251",
   "metadata": {},
   "outputs": [],
   "source": [
    "pf.observe(updateTemperature, names=[\"temperature\"])\n",
    "pf.observe(updateHumidity, names=[\"humidity\"])\n",
    "pf.observe(updateMoisture, names=[\"moisture\"])\n",
    "pf.observe(updateLuminance, names=[\"luminance\"])"
   ]
  },
  {
   "cell_type": "code",
   "execution_count": null,
   "id": "62149e58-e4ef-4086-8509-346741b68cd5",
   "metadata": {},
   "outputs": [],
   "source": [
    "gauges"
   ]
  },
  {
   "cell_type": "markdown",
   "id": "ac784e63",
   "metadata": {},
   "source": [
    "## Troubleshooting\n",
    "\n",
    "Go back to the section called \"The Phidget Widget.\" Disconnect and reconnect your Phidget. You need to have a Phidget VINT hub and sensors attached to your computer.\n",
    "\n",
    "### Next Notebook\n",
    "You may now go to the next notebook to collect data from your sensors on a speadsheet.\n",
    "\n",
    "***\n",
    "For additional support or inquiries related to this notebook, feel free to reach out to M. Lamoureux or Mary Grant, who serve as Callysto ambassadors. They can provide further details and assistance."
   ]
  },
  {
   "cell_type": "markdown",
   "id": "1a149b0f",
   "metadata": {},
   "source": [
    "[![Callysto.ca License](https://github.com/callysto/curriculum-notebooks/blob/master/callysto-notebook-banner-bottom.jpg?raw=true)](https://github.com/callysto/curriculum-notebooks/blob/master/LICENSE.md)"
   ]
  }
 ],
 "metadata": {
  "kernelspec": {
   "display_name": "Python 3 (ipykernel)",
   "language": "python",
   "name": "python3"
  },
  "language_info": {
   "codemirror_mode": {
    "name": "ipython",
    "version": 3
   },
   "file_extension": ".py",
   "mimetype": "text/x-python",
   "name": "python",
   "nbconvert_exporter": "python",
   "pygments_lexer": "ipython3",
   "version": "3.9.13"
  }
 },
 "nbformat": 4,
 "nbformat_minor": 5
}
