{
 "cells": [
  {
   "cell_type": "markdown",
   "id": "1c3b0db3",
   "metadata": {},
   "source": [
    "An example that fixes Github's preview\n",
    "\n",
    "``` \n",
    "comm_data = ['time': date-time value, 'temp': value,'humidity': value,'ratio': value,'lux': value]\n",
    "```"
   ]
  }
 ],
 "metadata": {
  "kernelspec": {
   "display_name": "Python 3 (ipykernel)",
   "language": "python",
   "name": "python3"
  },
  "language_info": {
   "codemirror_mode": {
    "name": "ipython",
    "version": 3
   },
   "file_extension": ".py",
   "mimetype": "text/x-python",
   "name": "python",
   "nbconvert_exporter": "python",
   "pygments_lexer": "ipython3",
   "version": "3.9.13"
  }
 },
 "nbformat": 4,
 "nbformat_minor": 5
}
