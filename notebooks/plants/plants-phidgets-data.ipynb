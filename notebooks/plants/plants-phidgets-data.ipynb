{
 "cells": [
  {
   "cell_type": "markdown",
   "id": "a954153d",
   "metadata": {},
   "source": [
    "![Callysto.ca Banner](https://github.com/callysto/curriculum-notebooks/blob/master/callysto-notebook-banner-top.jpg?raw=true)\n",
    "\n"
   ]
  },
  {
   "cell_type": "markdown",
   "id": "f6c36172",
   "metadata": {},
   "source": [
    "# Collecting Data from Plants with Phidgets\n",
    "\n",
    "This is a utility notebook to collect data from [\"Phidgets\"](https://www.phidgets.com/education/learn/projects/plant-kit/) sensors around a plant and store in an online spreadsheet (Ethercalc).\n",
    "\n",
    "We have tried to make this notebook as friendly as possible for beginner programmers. However, it does require some attention to detail, so follow the instructions carefully. \n",
    "\n",
    "The notebook runs both Python code and Javascript (JS) code. It would be nice to do everything in Python, but it seems Javascript is necessary to communicate with the Phidgets in a Jupyter notebook. Fortunately, the Javascript code here is easy enough to read and you will not need to change it."
   ]
  },
  {
   "cell_type": "markdown",
   "id": "46f3a83c",
   "metadata": {},
   "source": [
    "<h2 style=\"color: red\">IMPORTANT</h2>\n",
    "You MUST click the <span style=\"color:red\">BIG, RED DISCONNECT BUTTON</span> at the end of this notebook when you are done. This tells the software to release the Phidget device, so it can be used by other notebooks you might try later."
   ]
  },
  {
   "cell_type": "markdown",
   "id": "24d58734-7a7b-4ce8-bbc1-3950bfa4ea55",
   "metadata": {},
   "source": [
    "## Overview\n",
    "\n",
    "The purpose of this notebook is to collect data from certain hardware sensors called \"Phidgets\" which are set up to monitor the environment of a plant. The data can be viewed directly and it is also saved in an online spreadsheet for later data analysis.\n",
    "\n",
    "<img src=\"images/plant2.jpg\" alt=\"A plant with sensor\" width=\"400\"/>\n",
    "<div align=\"center\">\n",
    "\n",
    "A basement window with our plant."
   ]
  },
  {
   "cell_type": "markdown",
   "id": "93caa6f1",
   "metadata": {},
   "source": [
    "There are important requirements you must meet in order to complete this setup:\n",
    "    \n",
    "- you need the Phidget VINT device, with three sensors attached\n",
    "    - the temperature/humidity sensor (device type HUM1001_01)\n",
    "    - the light sensor (device type LUX1000_0)\n",
    "    - the moisture sensor (device type HUM1100)\n",
    "- you will need a computer (Mac, Windows, Raspberry Pi) with a USB connection and internet access\n",
    "- you will need the Chrome or Chromium Web browser (Safari, Firefox, and Edge will not work)\n",
    "\n",
    "For a step by step guide on how to assemble your Phidgets plant kit , see the following [link](https://www.phidgets.com/education/learn/projects/plant-kit/assemble/)\n",
    "\n",
    "There are five main steps in this notebook. \n",
    "\n",
    "The fours steps are:\n",
    "\n",
    "1. Setting up the gauges \n",
    "2. Setting up an online spreadsheet\n",
    "3. Connect the plant sensors to your computer\n",
    "4. Setup code to post and display data\n",
    "5. Start the timer  "
   ]
  },
  {
   "cell_type": "markdown",
   "id": "4e399c57",
   "metadata": {},
   "source": [
    "***\n",
    "## Step 1. Setting up the gauges\n",
    "\n",
    "Run the cells in this notebook, **one cell at a time**. This will give you the chance to respond to any errors, and to chose a unique name for your online storage. \n",
    "\n",
    "**Do not select \"Run All.\"**\n",
    "\n",
    "We first set up some gauges to display values for temperature, humidity, soil moisture and light levels. This uses the Plotly library, which is loaded in with the **import** command in Python. We also add a text box to display the data as it is read in. \n",
    "\n",
    "The gauges are not yet connected to the sensors, so they just display some default values. Click on `▶Run`"
   ]
  },
  {
   "cell_type": "code",
   "execution_count": null,
   "id": "b0bfc961",
   "metadata": {},
   "outputs": [],
   "source": [
    "from plotly.subplots import make_subplots\n",
    "import plotly.graph_objects as go\n",
    "import ipywidgets as widgets\n",
    "\n",
    "# the four sensor gauges\n",
    "g_temp = go.Indicator(\n",
    "    mode = \"gauge+number\",\n",
    "    value = 20,\n",
    "    domain = {'x': [0, 1], 'y': [0, 1]},\n",
    "    title = {'text': \"Temperature\"},\n",
    "    gauge = {'axis': {'range': [10, 40]}}\n",
    ")\n",
    "\n",
    "g_hum = go.Indicator(\n",
    "    mode = \"gauge+number\",\n",
    "    value = 40,\n",
    "    domain = {'x': [0, 1], 'y': [0, 1]},\n",
    "    title = {'text': \"Humidity\"},\n",
    "    gauge = {'axis': {'range': [0, 100]}}\n",
    ")\n",
    "\n",
    "g_moist = go.Indicator(\n",
    "    mode = \"gauge+number\",\n",
    "    value = 0.5,\n",
    "    domain = {'x': [0, 1], 'y': [0, 1]},\n",
    "    title = {'text': \"Moisture\"},\n",
    "    gauge = {'axis': {'range': [0, 1.0]}}\n",
    ")\n",
    "\n",
    "g_light = go.Indicator(\n",
    "    mode = \"gauge+number\",\n",
    "    value = 40,\n",
    "    domain = {'x': [0, 1], 'y': [0, 1]},\n",
    "    title = {'text': \"Light Level\"},\n",
    "    gauge = {'axis': {'range': [0, 10000]}}\n",
    ")\n",
    "\n",
    "fig = make_subplots(\n",
    "    rows=2,\n",
    "    cols=2,\n",
    "    specs=[[{'type' : 'domain'}, {'type' : 'domain'}],[{'type' : 'domain'}, {'type' : 'domain'}]],\n",
    "    vertical_spacing = 0.25\n",
    ")\n",
    "fig.append_trace(g_temp, row=1, col=1)\n",
    "fig.append_trace(g_hum, row=1, col=2)\n",
    "fig.append_trace(g_moist, row=2, col=1)\n",
    "fig.append_trace(g_light, row=2, col=2)\n",
    "\n",
    "gauges = go.FigureWidget(fig)\n",
    "\n",
    "# a text widget to monitor the data being posted\n",
    "monitor = widgets.Text(\n",
    "    description='Latest data:',\n",
    "    value=\"No recent data yet\",\n",
    "    layout={'width':'500px'},\n",
    "    disabled = False\n",
    "    )\n",
    "\n",
    "def set_gauges(result):  ## This function will update the gauges\n",
    "    global gauges\n",
    "    gauges.data[0]['value'] = result['temp']\n",
    "    gauges.data[1]['value'] = result['humidity']\n",
    "    gauges.data[2]['value'] = result['moist']\n",
    "    gauges.data[3]['value'] = result['light']\n",
    "\n",
    "display(gauges,monitor)"
   ]
  },
  {
   "cell_type": "markdown",
   "id": "427a9722",
   "metadata": {},
   "source": [
    "***\n",
    "## Step 2: Setting up the online spreadsheet.\n",
    "\n",
    "The next step is to create a spreadsheet online where we will store the data. We use a web resource called **EtherCalc.** \n",
    "\n",
    "The following code cell presents a text suggesting a random name for your spreadsheet. You can always make up your own name. If you have already used this notebook, the code will suggest using the same name as last time. But you can alway choose new one.\n",
    "\n",
    "Note this spreadsheet is publically viewable. You should choose a name that is meaningful for you. \n",
    "\n",
    "Click on `▶Run`"
   ]
  },
  {
   "cell_type": "code",
   "execution_count": null,
   "id": "fbfd97af",
   "metadata": {},
   "outputs": [],
   "source": [
    "import json, string, random, re, requests, os.path\n",
    "from ipywidgets import interact\n",
    "from IPython.display import IFrame, Markdown\n",
    "\n",
    "file_name = './ss_name.txt'  # the file where we store the spreadsheet name\n",
    "\n",
    "def get_ss_name():\n",
    "    if (os.path.isfile(file_name)):\n",
    "        with open(file_name,'r') as file:\n",
    "            result=json.load(file)\n",
    "        if result['name'] != 'default':\n",
    "            return result\n",
    "    json_name = {\"name\" : \"Plant_\" + \"\".join(random.choices(string.digits, k=6))}\n",
    "    with open(file_name,'w') as file:\n",
    "        json.dump(json_name,file)\n",
    "        return json_name\n",
    "    \n",
    "def set_ss_name(name):\n",
    "    with open(file_name,'w') as file:\n",
    "        json.dump({\"name\" : name},file)\n",
    "    \n",
    "def f(SS_Name):\n",
    "    if len(SS_Name) == 0:\n",
    "        return \"Enter a name here for your spreadsheet.\"\n",
    "    if re.search(r'[^A-Za-z0-9_\\-]',SS_Name):\n",
    "        return \"ERROR: Use only letters and numbers, no spaces.\"\n",
    "    else:\n",
    "        set_ss_name(SS_Name)\n",
    "        return \"Spreadsheet name is \" + SS_Name\n",
    "\n",
    "print(\"Choose a name for your spreadsheet here:\")\n",
    "interact(f, SS_Name=get_ss_name()['name']);"
   ]
  },
  {
   "cell_type": "markdown",
   "id": "63885ac2",
   "metadata": {},
   "source": [
    "### 2a. Initializing the spreadsheet\n",
    "\n",
    "Once you have selected a name above, we can initialize the online spreadsheet to receive data. \n",
    "\n",
    "Click on `▶Run`"
   ]
  },
  {
   "cell_type": "code",
   "execution_count": null,
   "id": "e81555b5",
   "metadata": {},
   "outputs": [],
   "source": [
    "base_url = 'https://ethercalc.net/'\n",
    "post_url = base_url + '_/' + get_ss_name()['name']\n",
    "\n",
    "command_list = [\n",
    "    'set A1 text t Date',\n",
    "    'set B1 text t Time',\n",
    "    'set C1 text t Temperature',\n",
    "    'set D1 text t Humidity',\n",
    "    'set E1 text t Moisture',    \n",
    "    'set F1 text t Luminance',\n",
    "    'pane row 2'\n",
    "]\n",
    "\n",
    "for command in command_list:\n",
    "    myJSON = {'command':command}\n",
    "    r = requests.post(post_url, json= myJSON)\n",
    "    if r.status_code == 202:\n",
    "        print(f\"Command '{command[:6]}' successful\")\n",
    "    else:\n",
    "        print(f\"Command '{command}' failed\")\n",
    "\n"
   ]
  },
  {
   "cell_type": "markdown",
   "id": "7ee349c3",
   "metadata": {},
   "source": [
    "### 2b. Viewing the spreadsheet\n",
    "\n",
    "Once your spreadsheet has some data in it, it will look something like this:\n",
    "\n",
    "<img src=\"http://localhost:8888/files/Documents/GitHub/lesson-plans/notebooks/plants/images/SS1.png?_xsrf=2%7C150ad627%7Cde654d8b0bb81387ca8f0ef2502dbcb0%7C1689181378\" alt=\"Spreadsheet\" width=\"600\"/>\n",
    "<div align=\"center\">\n",
    "    \n",
    "The following code cells will access the spreadsheet you created yourself above."
   ]
  },
  {
   "cell_type": "markdown",
   "id": "16d25eda",
   "metadata": {},
   "source": [
    "Run this next cell to see your spreadsheet. Click on `▶Run`"
   ]
  },
  {
   "cell_type": "code",
   "execution_count": null,
   "id": "38707449",
   "metadata": {},
   "outputs": [],
   "source": [
    "site_url = base_url + get_ss_name()['name'] + '/view'\n",
    "IFrame(site_url, 700,500)"
   ]
  },
  {
   "cell_type": "markdown",
   "id": "d600381b",
   "metadata": {},
   "source": [
    "Run the following code to see the name of your spreadsheet and view it in another window. Click on `▶Run`"
   ]
  },
  {
   "cell_type": "code",
   "execution_count": null,
   "id": "0151c65d",
   "metadata": {},
   "outputs": [],
   "source": [
    "site_url = base_url + get_ss_name()['name'] + '/view'\n",
    "Markdown(f\"We can open your spreadsheet in a separate browser tab by clicking on this link: \\n \\\n",
    "\\n \\\n",
    "<a href={site_url} target='_blank'>{site_url}</a>\")"
   ]
  },
  {
   "cell_type": "markdown",
   "id": "0aad94cc",
   "metadata": {},
   "source": [
    "***\n",
    "## Step 3: Connecting the sensor devices\n",
    "\n",
    "At this point, you should connect the Phidgets hardware to your computer. This includes 4 separate devices:\n",
    "- the Phidget VINT device, attached to the computer's USB port\n",
    "- the combined temperature/humidity sensor, attached to the VINT\n",
    "- the soil moisture sensor, attached to the VINT\n",
    "- the light sensor, attached to the VINT\n",
    "\n",
    "When you first attach the VINT device to the USB port, your computer may ask you (pop up) whether you wish to connect to this USB device. Please answer **\"yes\"** to this security request. \n",
    "\n",
    "We now go set up the software to communicate with the Phidget devices."
   ]
  },
  {
   "cell_type": "markdown",
   "id": "62b68595",
   "metadata": {},
   "source": [
    "### 3aLoading libraries\n",
    "\n",
    "We need to import libraries for both Python and Javascript. Click on `▶Run`"
   ]
  },
  {
   "cell_type": "code",
   "execution_count": null,
   "id": "fef61e70",
   "metadata": {},
   "outputs": [],
   "source": [
    "from time import sleep\n",
    "import requests\n",
    "from datetime import datetime, timedelta"
   ]
  },
  {
   "cell_type": "code",
   "execution_count": null,
   "id": "f0e32bea",
   "metadata": {},
   "outputs": [],
   "source": [
    "%%js\n",
    "requirejs.config({\n",
    "    paths: { \n",
    "        'phidget22': ['https://unpkg.com/phidget22/browser/phidget22'], \n",
    "    },                                         \n",
    "});\n",
    "require(['phidget22'], (phidget22) => {\n",
    "   window.phidget22 = phidget22; \n",
    "});"
   ]
  },
  {
   "cell_type": "code",
   "execution_count": null,
   "id": "76ab55d1",
   "metadata": {},
   "outputs": [],
   "source": [
    "## We pause for a second here, to allow some time for the library to load in the background\n",
    "sleep(1)"
   ]
  },
  {
   "cell_type": "markdown",
   "id": "8a2d644d",
   "metadata": {},
   "source": [
    "### 3b.Opening the USB connection\n",
    "\n",
    "We now open a connection between the computer and your Phidget VINT device. The VINT must be plugged into your computer's USB port. Run the following cell, and follow the prompts to select the VINT device (a list appears that you should click on). This will pair the device with your computer. \n",
    "\n",
    "Click on `▶Run`"
   ]
  },
  {
   "cell_type": "code",
   "execution_count": null,
   "id": "9e4cb799",
   "metadata": {},
   "outputs": [],
   "source": [
    "%%js\n",
    "\n",
    "if (window.usbconn === undefined) {\n",
    "    \n",
    "    element.text(\"Creating a new USB Connection.\");\n",
    "    \n",
    "    window.usbconn = new phidget22.USBConnection();\n",
    "    \n",
    "    usbconn.connect().then(() => {\n",
    "        usbconn.requestWebUSBDeviceAccess();\n",
    "    }).catch(err => {\n",
    "        window.usbconn.delete();\n",
    "        element.append(\"Error connecting to USB\" + err);\n",
    "    });\n",
    "}"
   ]
  },
  {
   "cell_type": "code",
   "execution_count": null,
   "id": "fa760a18",
   "metadata": {},
   "outputs": [],
   "source": [
    "## We rest for a bit while the USB connects\n",
    "sleep(1)"
   ]
  },
  {
   "cell_type": "markdown",
   "id": "b1fafc82",
   "metadata": {},
   "source": [
    "### 3c. Confirm the USB connection \n",
    "\n",
    "Run the following code to see if the device is connected. It should say \"true.\" If it does not, check your cable connections. You may also need to check the security settings on your computer to allow new USB devices to get connected. \n",
    "\n",
    "Click on `▶Run`"
   ]
  },
  {
   "cell_type": "code",
   "execution_count": null,
   "id": "d2ace047",
   "metadata": {},
   "outputs": [],
   "source": [
    "%%js\n",
    "element.text(\"Is the USB device connected? \" + usbconn.connected);"
   ]
  },
  {
   "cell_type": "markdown",
   "id": "8dd323b8",
   "metadata": {},
   "source": [
    "### 3d. Connect the sensors\n",
    "\n",
    "We make a request to open the four different sensors, for temperature, humidity, soil moisture and light level. Be sure your three sensors are plugged into the VINT device. \n",
    "\n",
    "If you are missing a sensor or two, that is okay. The data collection for the other sensors will still work. The cells below will connect the sensors, then check to see that they are attached. \n",
    "\n",
    "Click on `▶Run`"
   ]
  },
  {
   "cell_type": "code",
   "execution_count": null,
   "id": "fc51edcd",
   "metadata": {},
   "outputs": [],
   "source": [
    "%%js\n",
    "window.humSensor = new phidget22.HumiditySensor(); humSensor.open();\n",
    "window.tempSensor = new phidget22.TemperatureSensor(); tempSensor.open();\n",
    "window.moistSensor = new phidget22.VoltageRatioInput(); moistSensor.open();\n",
    "window.liteSensor = new phidget22.LightSensor(); liteSensor.open();"
   ]
  },
  {
   "cell_type": "code",
   "execution_count": null,
   "id": "48a11ba0",
   "metadata": {},
   "outputs": [],
   "source": [
    "sleep(1)"
   ]
  },
  {
   "cell_type": "markdown",
   "id": "a3229556",
   "metadata": {},
   "source": [
    "### 3e. Confirm the sensor connections\n",
    "\n",
    "Run the following code to see if the fours is connected. All four lines should say \"true.\" If not, check your cable connections. \n",
    "\n",
    "Click on `▶Run`"
   ]
  },
  {
   "cell_type": "code",
   "execution_count": null,
   "id": "11ff8ea0",
   "metadata": {},
   "outputs": [],
   "source": [
    "%%js\n",
    "element.text(\"Is the humidity sensor attached? \" + humSensor.attached);\n",
    "element.append(\"<p>Is the temperature sensor attached? \" + tempSensor.attached + \"</p>\");\n",
    "element.append(\"Is the moisture sensor attached? \" + moistSensor.attached +\"</p>\");\n",
    "element.append(\"Is the light sensor attached? \" + liteSensor.attached);"
   ]
  },
  {
   "cell_type": "markdown",
   "id": "54e36b25",
   "metadata": {},
   "source": [
    "### 3f. Reading the sensors directly\n",
    "\n",
    "As a check, you can read the values directly with the following code. Let's look at temperature.  Click on `▶Run`"
   ]
  },
  {
   "cell_type": "code",
   "execution_count": null,
   "id": "240427c3",
   "metadata": {},
   "outputs": [],
   "source": [
    "%%js\n",
    "try {\n",
    "    element.text(\"The temperature is \" + tempSensor.temperature);\n",
    "}\n",
    "catch {\n",
    "    element.text(\"The device is not giving a value.\");    \n",
    "}"
   ]
  },
  {
   "cell_type": "markdown",
   "id": "1c3b0db3",
   "metadata": {},
   "source": [
    "***\n",
    "## Step 4: Setup code to post and display data\n",
    "\n",
    "This first cell below simply takes the data in \"result\" and posts it to the gauges and to the spreadsheet. It waits to update the spreadsheet only every 15 minutes. \n",
    "\n",
    "The \"result\" object contains all the sensor data in a dictionary format:\n",
    "```\n",
    "result = {'time':date-time-value, \n",
    "          'temp':value, \n",
    "          'humidity':value,\n",
    "          'moist':value,\n",
    "          'light':value}\n",
    "```\n",
    "\n",
    "Click on `▶Run`"
   ]
  },
  {
   "cell_type": "code",
   "execution_count": null,
   "id": "b8264814",
   "metadata": {},
   "outputs": [],
   "source": [
    "# set a reminder of when the last data was stored\n",
    "last_time = datetime.now() - timedelta(hours=2)\n",
    "\n",
    "# here we grab the data results from comm, check if it is time to post, then post. \n",
    "def post_stuff(result):\n",
    "    global last_time\n",
    "    data = datetime.now().strftime(\"%Y-%m-%d,%H:%M:%S\")\n",
    "    data += ',' + str(result['temp'])\n",
    "    data += ',' + str(result['humidity'])\n",
    "    data += ',' + str(result['moist'])\n",
    "    data += ',' + str(result['light'])\n",
    "    monitor.value = data\n",
    "    set_gauges(result)\n",
    "    post_url = 'https://ethercalc.net/_/' + get_ss_name()['name']\n",
    "    wait_time = 14*60 # in daytime, we post every 15 minute (wait 14). \n",
    "    if (datetime.now()-last_time).seconds < wait_time:\n",
    "        return\n",
    "    last_time = datetime.now()\n",
    "    r = requests.post(post_url, data= data) ## we could return a status code here..."
   ]
  },
  {
   "cell_type": "markdown",
   "id": "ab44d5f8",
   "metadata": {},
   "source": [
    "### 4a. Open a communication channel in JavaScript\n",
    "\n",
    "Here we create a Comms channel. This piece of JS code reads the sensors and sends the data back to Python. It gets instructions from Python in the \"msg\" message, to either send data, or start a timer that sends data on a regular schedule. \n",
    "\n",
    "This is a cute trick to get your local computer (in Javascript) to talk to the Jupyter Hub kernel (in Python). \n",
    "\n",
    "There is some error checking: if a sensor gets disconnected, we use 'zero' as the default sensor value. \n",
    "\n",
    "Click on `▶Run`"
   ]
  },
  {
   "cell_type": "code",
   "execution_count": null,
   "id": "660b4bb9",
   "metadata": {},
   "outputs": [],
   "source": [
    "%%js\n",
    "Jupyter.notebook.kernel.comm_manager.register_target('my_comm_target',\n",
    "    function(comm, msg) {\n",
    "        // comm is the frontend, msg is where data is transferred\n",
    "        comm.on_msg(function(msg) {\n",
    "            console.log(\"Comm message received \" + msg.content.data.foo);\n",
    "            if (msg.content.data.foo == 'senddata') {\n",
    "                sendData();\n",
    "            }\n",
    "            if (msg.content.data.foo == 'starttimer') {\n",
    "                setInterval(sendData, 5*60*1000); // run every 5 minutes (300sec);\n",
    "            }\n",
    "        });\n",
    "        comm.on_close(function(msg) {return 0;});\n",
    "        function sendData(){\n",
    "            let time, temp, humidity, moist, light;\n",
    "            console.log(\"function sendData was called \");\n",
    "            const d = new Date();\n",
    "            try {time = d.toLocalString(); } catch {time = 0}\n",
    "            try {temp = tempSensor.temperature;} catch {temp = 0}\n",
    "            try {humidity = humSensor.humidity;} catch {humidity = 0}\n",
    "            try {moist = moistSensor.sensorValue;} catch {moist = 0}\n",
    "            try {light = liteSensor.illuminance;} catch {light = 0}\n",
    "            comm.send({ 'time':time, \n",
    "                        'temp':temp, \n",
    "                        'humidity':humidity,\n",
    "                        'moist':moist,\n",
    "                        'light':light});\n",
    "        }\n",
    "    });"
   ]
  },
  {
   "cell_type": "markdown",
   "id": "c053d551",
   "metadata": {},
   "source": [
    "### 4b. Open a matching Comms channel in Python\n",
    "\n",
    "This is the second half of the Comms channel that lives in Python. When it gets a message from the JS side, it calls up the code post our data onto the gauges and spreadsheet. \n",
    "\n",
    "Click on `▶Run`"
   ]
  },
  {
   "cell_type": "code",
   "execution_count": null,
   "id": "03d3ea21",
   "metadata": {},
   "outputs": [],
   "source": [
    "from ipykernel.comm import Comm\n",
    "\n",
    "# a global variable we use to keep the data from the front end comm channel\n",
    "comm_data = \"Not set yet\"  \n",
    "\n",
    "# Connect to the comm channel in the front end, to the Python\n",
    "my_comm = Comm(target_name='my_comm_target', data={'foo': 1})\n",
    "\n",
    "# Add a callback for received messages. This will call post_stuff to store the data\n",
    "@my_comm.on_msg\n",
    "def _recv(msg):\n",
    "    global comm_data\n",
    "    comm_data = msg['content']['data']  # this is the data in the comm message\n",
    "    post_stuff(comm_data)"
   ]
  },
  {
   "cell_type": "markdown",
   "id": "2f1c4157",
   "metadata": {},
   "source": [
    "### 4c. Testing the communication\n",
    "\n",
    "At this point, the sensors should all be working, and we are ready to send data to the gauges. \n",
    "\n",
    "Run the following cells to get some data and display it. Click on `▶Run`"
   ]
  },
  {
   "cell_type": "code",
   "execution_count": null,
   "id": "fc11ad86",
   "metadata": {},
   "outputs": [],
   "source": [
    "my_comm.send({'foo':'senddata'})\n",
    "display(gauges, monitor)"
   ]
  },
  {
   "cell_type": "code",
   "execution_count": null,
   "id": "8311f6e4",
   "metadata": {},
   "outputs": [],
   "source": [
    "## Run this cell again, any time you want to see the latest sensor readings.\n",
    "my_comm.send({'foo':'senddata'})"
   ]
  },
  {
   "cell_type": "markdown",
   "id": "f936e378",
   "metadata": {},
   "source": [
    "***\n",
    "## Step 5. Start the timer\n",
    "\n",
    "We send a message to the Comms channel, telling Javascript to start sending us data on a regular schedule. \n",
    "\n",
    "We can watch the gauges above to see the most recent data as it is received. It gets posted to the spreadsheet every 15 minutes. \n",
    "\n",
    "Run the following cell to start the timer. \n",
    "\n",
    "Click on `▶Run`"
   ]
  },
  {
   "cell_type": "code",
   "execution_count": null,
   "id": "08fb6652",
   "metadata": {},
   "outputs": [],
   "source": [
    "## This command starts the timer\n",
    "my_comm.send({'foo':'starttimer'})\n"
   ]
  },
  {
   "cell_type": "markdown",
   "id": "737f841f",
   "metadata": {},
   "source": [
    "## YAY. We are all done\n",
    "\n",
    "The data should be collecting now. You can watch the gauges above, which will update every five minutes or so. \n",
    "\n",
    "You can also check the online spreadsheet, which you can see live in the next cell. It will update every 15 minutes or so. \n",
    "\n",
    "Click on `▶Run`"
   ]
  },
  {
   "cell_type": "code",
   "execution_count": null,
   "id": "30211ffe",
   "metadata": {},
   "outputs": [],
   "source": [
    "site_url = base_url + get_ss_name()['name'] + '/view'\n",
    "IFrame(site_url, 700,500)"
   ]
  },
  {
   "cell_type": "markdown",
   "id": "7c743b26",
   "metadata": {},
   "source": [
    "***\n",
    "## Finishing up. Closing down the sensors\n",
    "\n",
    "<h2 style=\"color: red\">REALLY IMPORTANT</h2>\n",
    "\n",
    "Close the sensor now, as otherwise they will keep busy forever, always trying to update the spreadsheet with the latest values. Also, if you just quit the notebook, the sensors may not disconnect properly, which will give you trouble the next time you try to connect.\n",
    "\n",
    "So, don't skip this next step.\n",
    "\n",
    "The following cell creates a button that you can click to close the Phidgets. Click it once you are all done with the Phidgets in this notebook. \n",
    "\n",
    "Click on `▶Run`"
   ]
  },
  {
   "cell_type": "code",
   "execution_count": null,
   "id": "81b75dad",
   "metadata": {},
   "outputs": [],
   "source": [
    "from IPython.display import display, Javascript\n",
    "\n",
    "def doDisconnect(b):\n",
    "    display(Javascript(\"\"\"\n",
    "        (async () => {\n",
    "            await humSensor.close();\n",
    "            await tempSensor.close();\n",
    "            await moistSensor.close();\n",
    "            await liteSensor.close();\n",
    "            usbconn.close();\n",
    "            usbconn.delete();\n",
    "            delete window.usbconn;\n",
    "            element.text(\"You have disconnected the Phidgets.\");\n",
    "        })();\n",
    "    \"\"\"))\n",
    "\n",
    "run_button = widgets.Button(\n",
    "    description = 'IMPORTANT: Click to disconnect', \n",
    "        button_style='danger',layout=widgets.Layout(width='50%', height='80px')\n",
    ")\n",
    "print(\"Press this button when you are done, to disconnect the Phidgets\")\n",
    "run_button.on_click(doDisconnect)\n",
    "\n",
    "display(run_button)"
   ]
  },
  {
   "cell_type": "markdown",
   "id": "7167ce22",
   "metadata": {},
   "source": [
    "\n",
    "### Confirm\n",
    "\n",
    "You can confirm the Phidgets are open or closed by running the following cell. \n",
    "\n",
    "If any device is still attached (true), try clicking the button above, again.\n",
    "\n",
    "Click on `▶Run`"
   ]
  },
  {
   "cell_type": "code",
   "execution_count": null,
   "id": "ea80b411",
   "metadata": {},
   "outputs": [],
   "source": [
    "%%js\n",
    "element.text(\"Is the humidity sensor attached? \" + humSensor.attached);\n",
    "element.append(\"<p>Is the temperature sensor attached? \" + tempSensor.attached + \"</p>\");\n",
    "element.append(\"Is the moisture sensor attached? \" + moistSensor.attached +\"</p>\");\n",
    "element.append(\"Is the light sensor attached? \" + liteSensor.attached);"
   ]
  },
  {
   "cell_type": "markdown",
   "id": "2e261121",
   "metadata": {},
   "source": [
    "## Conclusion\n",
    "\n",
    "We have shown how to run a utility to grab Phidget sensor data and post it on the web. It uses a combination of Javascript and Python to access both the front end and back end engines in the Jupyter notebook environment. \n",
    "\n",
    "If you wish to collect data for several days or more, you will need the Jupyter \"Hub\" software installed on your local computer. If you run this software on the Callysto hub (https://hub.callysto.ca), it will disconnect after a day or so of data collection. \n",
    "\n",
    "For additonal support with this notebook, contact Ask M. Lamoureux or Mary Grant (Callysto ambassadors) for details."
   ]
  },
  {
   "cell_type": "markdown",
   "id": "ba7ee230",
   "metadata": {},
   "source": [
    "[![Callysto.ca License](https://github.com/callysto/curriculum-notebooks/blob/master/callysto-notebook-banner-bottom.jpg?raw=true)](https://github.com/callysto/curriculum-notebooks/blob/master/LICENSE.md)"
   ]
  }
 ],
 "metadata": {
  "kernelspec": {
   "display_name": "Python 3 (ipykernel)",
   "language": "python",
   "name": "python3"
  },
  "language_info": {
   "codemirror_mode": {
    "name": "ipython",
    "version": 3
   },
   "file_extension": ".py",
   "mimetype": "text/x-python",
   "name": "python",
   "nbconvert_exporter": "python",
   "pygments_lexer": "ipython3",
   "version": "3.9.12"
  }
 },
 "nbformat": 4,
 "nbformat_minor": 5
}
