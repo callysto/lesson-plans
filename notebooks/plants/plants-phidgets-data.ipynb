{
 "cells": [
  {
   "cell_type": "markdown",
   "id": "a954153d",
   "metadata": {},
   "source": [
    "![Callysto.ca Banner](https://github.com/callysto/curriculum-notebooks/blob/master/callysto-notebook-banner-top.jpg?raw=true)\n",
    "\n"
   ]
  },
  {
   "cell_type": "markdown",
   "id": "f6c36172",
   "metadata": {},
   "source": [
    "# Collecting data with a Phidgets Plant Kit \n",
    "\n",
    "This is a utility notebook, to collect data from sensors around a plant and store in an online spreadsheet. The spreadsheet can then be accessed by anyone with the web address, to analysize the data.\n",
    "\n",
    "Ask M. Lamoureux for details. May 2023."
   ]
  },
  {
   "cell_type": "markdown",
   "id": "46f3a83c",
   "metadata": {},
   "source": [
    "<h2 style=\"color: red\">IMPORTANT</h2>\n",
    "You MUST click the <span style=\"color:red\">BIG, RED DISCONNECT BUTTON</span> at the end of this notebook when you are done. This tells the software to release the Phidget device, so it can be used by other notebooks you might try later."
   ]
  },
  {
   "cell_type": "markdown",
   "id": "93caa6f1",
   "metadata": {},
   "source": [
    "***\n",
    "## Stepping up your plant kit \n",
    "\n",
    "It takes quite a bit of setup to use this notebook appropriately.\n",
    "\n",
    "- you need the Phidget VINT device, with three sensors attached\n",
    "    - the temperature/humidity sensor (device type HUM1001_01)\n",
    "    - the light sensor (device type LUX1000_0)\n",
    "    - the moisture sensor (device type HUM1100)\n",
    "- a computer (Mac, Windows, Raspberry Pi) with USB connection and internet connection\n",
    "- the Chrome or Chromium Web browser\n",
    "- ideally, Jupyter software installed on the computer, to run independently of the Callysto Hub\n",
    "\n",
    "Phidgets has step by step instructions here: https://www.phidgets.com/education/learn/projects/plant-kit/assemble/\n",
    "\n",
    "This what a typical setup looks like:\n",
    "\n",
    "<img src=\"images/plant2.jpg\" alt=\"A plant with sensor\" width=\"400\"/>\n",
    "<div align=\"center\">\n",
    "\n",
    " \n",
    "A basement window with our plant.\n",
    "</div>\n",
    "\n",
    "\n",
    "The notebook runs both Python code and Javascript (JS) code. The JS code is the front end, that talks to the browser and the Phidget devices collecting data. The Python code is the back end, taking care of things like dates, data format, and saving the data onto the online web spreadsheet.\n",
    "\n",
    "One very tricky aspect is getting the JS and Python engines talking to each other. This makes use of the \"Comms\" package in Jupyter that manages the communication between these two engines. One key feature of the Python engine (or kernel) is that when it is executing code, it cannot be interrupted by the JS engine. So even if you have a simple loop in Python, or a sleep command to pause Python, the JS engine cannot interrupt it to give it new data.\n",
    "\n",
    "So, our trick is to set a timer in JS that gathers data every few minutes, then sends a message to Python saying \"deal with this data.\" This triggers a Python code that looks at the data and decides if it is time to save it to the web. So in fact, the Python is not \"doing\" anything most of the time, so JS is not actually interrupting it. Instead, it is telling Python \"now is the time to deal with this data\" and the Python engine kicks in. "
   ]
  },
  {
   "cell_type": "markdown",
   "id": "ca2d3fdc",
   "metadata": {},
   "source": [
    "***\n",
    "### Setting up your Spreadsheet\n",
    "\n",
    "The spreadsheet can be viewed here:\n",
    "\n",
    "https://ethercalc.net/MyWeirdName01\n",
    "\n",
    "The 4 numbers following the date and time are temperature, humidity, moisture in the soil, and the light level. Here is a sample.\n",
    "\n",
    "|Date\t|Time\t|Temperature\t|Humidity\t|Moisture\t|Luminance |\n",
    "| ------ | ------ | ------ | ------ | ------ | ------ | \n",
    "|2023-04-30 |21:43:42\t|20.64\t|50.29\t|0.199\t|0.0193 |\n",
    "|2023-04-30\t|21:43:43\t|20.64\t|50.29\t|0.199\t|0.0193 |\n",
    "|2023-04-30\t|21:43:47\t|20.66\t|50.26\t|0.198\t|0.044 |\n",
    "|2023-04-30\t|21:43:47\t|20.64\t|50.26\t|0.198\t|0.044 |\n",
    "|2023-04-30\t|21:43:52\t|20.66\t|50.24\t|0.199\t|0.043 |"
   ]
  },
  {
   "cell_type": "markdown",
   "id": "0aad94cc",
   "metadata": {},
   "source": [
    "***\n",
    "### Here are the steps to get your Phidget Plants up and running in Jupyter Notebook \n",
    "\n",
    "You must be running on Chrome or Chromium on your laptop or desktop, and the Phidget VINT device needs to be connected to the USB port on your computer. \n",
    "\n",
    "The VINT device must have three sensors attached: the temperature/humidity sensor, the light sensor, and the soil moisture sensor.\n",
    "\n",
    "The main steps are:\n",
    "\n",
    "0. Import some Python libraries\n",
    "1. Import the Phidget library, in Javascript\n",
    "2. Define and open the USB connection\n",
    "3. Open the Phidget devices\n",
    "4. Set up Python code to post data to the online web spreadsheet\n",
    "5. Set up the Comms channel, so JS and Python can talk to each other\n",
    "6. Initiate the JS engine to start collecting data\n",
    "7. Let it run for a few hours, or days, to collect data\n",
    "8. When we are done, close the devices and USB connection\n"
   ]
  },
  {
   "cell_type": "markdown",
   "id": "62b68595",
   "metadata": {},
   "source": [
    "#### Step 0. Python Libraries\n",
    "\n",
    "Let's import a few Python libraries that we need. Click on `▶Run`"
   ]
  },
  {
   "cell_type": "code",
   "execution_count": 1,
   "id": "fef61e70",
   "metadata": {},
   "outputs": [],
   "source": [
    "import ipywidgets as widgets\n",
    "from time import sleep\n",
    "import requests\n",
    "from datetime import datetime, timedelta"
   ]
  },
  {
   "cell_type": "markdown",
   "id": "f3d2fb76",
   "metadata": {},
   "source": [
    "#### Step 1. Phidgets library.\n",
    "\n",
    "Now import the Phidgets library. \n",
    "\n",
    "We are using a special library for debugging purposes. We will need to update this when the Phidgets company finishes their testing. \n",
    "\n",
    "Special library is here: https://www.phidgets.com/downloads/testing/phidget22"
   ]
  },
  {
   "cell_type": "code",
   "execution_count": 2,
   "id": "f0e32bea",
   "metadata": {},
   "outputs": [
    {
     "data": {
      "application/javascript": [
       "requirejs.config({\n",
       "    paths: { \n",
       "        'phidget22': ['https://www.phidgets.com/downloads/testing/phidget22'], \n",
       "    },                                         \n",
       "});\n",
       "require(['phidget22'], (phidget22) => {\n",
       "   window.phidget22 = phidget22; \n",
       "});\n"
      ],
      "text/plain": [
       "<IPython.core.display.Javascript object>"
      ]
     },
     "metadata": {},
     "output_type": "display_data"
    }
   ],
   "source": [
    "%%js\n",
    "requirejs.config({\n",
    "    paths: { \n",
    "        'phidget22': ['https://www.phidgets.com/downloads/testing/phidget22'], \n",
    "    },                                         \n",
    "});\n",
    "require(['phidget22'], (phidget22) => {\n",
    "   window.phidget22 = phidget22; \n",
    "});"
   ]
  },
  {
   "cell_type": "code",
   "execution_count": 3,
   "id": "76ab55d1",
   "metadata": {},
   "outputs": [],
   "source": [
    "## We pause for a second here, to allow the library to load\n",
    "sleep(1)"
   ]
  },
  {
   "cell_type": "markdown",
   "id": "8a2d644d",
   "metadata": {},
   "source": [
    "#### Step 2. Open USB\n",
    "\n",
    "We now open a USB connection.  A pop up window will appear and click on the the device name to open the USB connection, then click \"Open\""
   ]
  },
  {
   "cell_type": "code",
   "execution_count": 4,
   "id": "9e4cb799",
   "metadata": {},
   "outputs": [
    {
     "data": {
      "application/javascript": [
       "\n",
       "if (window.usbconn === undefined) {\n",
       "    \n",
       "    element.text(\"Creating a new USB Connection.\");\n",
       "    \n",
       "    window.usbconn = new phidget22.USBConnection();\n",
       "    \n",
       "    usbconn.connect().then(() => {\n",
       "        usbconn.requestWebUSBDeviceAccess();\n",
       "    }).catch(err => {\n",
       "        window.usbconn.delete();\n",
       "        element.append(\"Error connecting to USB\" + err);\n",
       "    });\n",
       "}\n"
      ],
      "text/plain": [
       "<IPython.core.display.Javascript object>"
      ]
     },
     "metadata": {},
     "output_type": "display_data"
    }
   ],
   "source": [
    "%%js\n",
    "\n",
    "if (window.usbconn === undefined) {\n",
    "    \n",
    "    element.text(\"Creating a new USB Connection.\");\n",
    "    \n",
    "    window.usbconn = new phidget22.USBConnection();\n",
    "    \n",
    "    usbconn.connect().then(() => {\n",
    "        usbconn.requestWebUSBDeviceAccess();\n",
    "    }).catch(err => {\n",
    "        window.usbconn.delete();\n",
    "        element.append(\"Error connecting to USB\" + err);\n",
    "    });\n",
    "}"
   ]
  },
  {
   "cell_type": "code",
   "execution_count": 5,
   "id": "fa760a18",
   "metadata": {},
   "outputs": [],
   "source": [
    "## We rest for a bit while the USB connects\n",
    "sleep(1)"
   ]
  },
  {
   "cell_type": "markdown",
   "id": "b1fafc82",
   "metadata": {},
   "source": [
    "### Confirm the connection "
   ]
  },
  {
   "cell_type": "code",
   "execution_count": 6,
   "id": "d2ace047",
   "metadata": {},
   "outputs": [
    {
     "data": {
      "application/javascript": [
       "element.text(usbconn.connected);\n"
      ],
      "text/plain": [
       "<IPython.core.display.Javascript object>"
      ]
     },
     "metadata": {},
     "output_type": "display_data"
    }
   ],
   "source": [
    "%%js\n",
    "element.text(usbconn.connected);"
   ]
  },
  {
   "cell_type": "markdown",
   "id": "8dd323b8",
   "metadata": {},
   "source": [
    "#### Step 3. Connect the sensors\n",
    "\n",
    "We make a request to open the four different sensors. We pause between each one, and check that they are connected. "
   ]
  },
  {
   "cell_type": "code",
   "execution_count": 7,
   "id": "36a90a01",
   "metadata": {},
   "outputs": [
    {
     "data": {
      "application/javascript": [
       "window.humSensor = new phidget22.HumiditySensor();\n",
       "humSensor.open();\n"
      ],
      "text/plain": [
       "<IPython.core.display.Javascript object>"
      ]
     },
     "metadata": {},
     "output_type": "display_data"
    }
   ],
   "source": [
    "%%js\n",
    "window.humSensor = new phidget22.HumiditySensor();\n",
    "humSensor.open();"
   ]
  },
  {
   "cell_type": "code",
   "execution_count": 8,
   "id": "48a11ba0",
   "metadata": {},
   "outputs": [],
   "source": [
    "sleep(1)"
   ]
  },
  {
   "cell_type": "code",
   "execution_count": 9,
   "id": "33cef859",
   "metadata": {},
   "outputs": [
    {
     "data": {
      "application/javascript": [
       "element.text(\"Is the humidity sensor attached? \" + humSensor.attached);\n"
      ],
      "text/plain": [
       "<IPython.core.display.Javascript object>"
      ]
     },
     "metadata": {},
     "output_type": "display_data"
    }
   ],
   "source": [
    "%%js\n",
    "element.text(\"Is the humidity sensor attached? \" + humSensor.attached);"
   ]
  },
  {
   "cell_type": "code",
   "execution_count": 10,
   "id": "9c63d0a3",
   "metadata": {},
   "outputs": [
    {
     "data": {
      "application/javascript": [
       "window.tempSensor = new phidget22.TemperatureSensor();\n",
       "tempSensor.open();\n"
      ],
      "text/plain": [
       "<IPython.core.display.Javascript object>"
      ]
     },
     "metadata": {},
     "output_type": "display_data"
    }
   ],
   "source": [
    "%%js\n",
    "window.tempSensor = new phidget22.TemperatureSensor();\n",
    "tempSensor.open();"
   ]
  },
  {
   "cell_type": "code",
   "execution_count": 11,
   "id": "28758db4",
   "metadata": {},
   "outputs": [],
   "source": [
    "sleep(1)"
   ]
  },
  {
   "cell_type": "code",
   "execution_count": 12,
   "id": "b0f044c4",
   "metadata": {},
   "outputs": [
    {
     "data": {
      "application/javascript": [
       "element.text(\"Is the temperature sensor attached? \" + tempSensor.attached);\n"
      ],
      "text/plain": [
       "<IPython.core.display.Javascript object>"
      ]
     },
     "metadata": {},
     "output_type": "display_data"
    }
   ],
   "source": [
    "%%js\n",
    "element.text(\"Is the temperature sensor attached? \" + tempSensor.attached);"
   ]
  },
  {
   "cell_type": "code",
   "execution_count": 13,
   "id": "0cce6ccc",
   "metadata": {},
   "outputs": [
    {
     "data": {
      "application/javascript": [
       "window.vrSensor = new phidget22.VoltageRatioInput();\n",
       "vrSensor.open();\n"
      ],
      "text/plain": [
       "<IPython.core.display.Javascript object>"
      ]
     },
     "metadata": {},
     "output_type": "display_data"
    }
   ],
   "source": [
    "%%js\n",
    "window.vrSensor = new phidget22.VoltageRatioInput();\n",
    "vrSensor.open();"
   ]
  },
  {
   "cell_type": "code",
   "execution_count": 14,
   "id": "13b4cab6",
   "metadata": {},
   "outputs": [],
   "source": [
    "sleep(1)"
   ]
  },
  {
   "cell_type": "code",
   "execution_count": 15,
   "id": "c2653f7a",
   "metadata": {},
   "outputs": [
    {
     "data": {
      "application/javascript": [
       "element.text(\"Is the moisture sensor attached? \" + vrSensor.attached);\n"
      ],
      "text/plain": [
       "<IPython.core.display.Javascript object>"
      ]
     },
     "metadata": {},
     "output_type": "display_data"
    }
   ],
   "source": [
    "%%js\n",
    "element.text(\"Is the moisture sensor attached? \" + vrSensor.attached);"
   ]
  },
  {
   "cell_type": "code",
   "execution_count": 16,
   "id": "07805e1b",
   "metadata": {},
   "outputs": [
    {
     "data": {
      "application/javascript": [
       "window.liteSensor = new phidget22.LightSensor();\n",
       "liteSensor.open();\n"
      ],
      "text/plain": [
       "<IPython.core.display.Javascript object>"
      ]
     },
     "metadata": {},
     "output_type": "display_data"
    }
   ],
   "source": [
    "%%js\n",
    "window.liteSensor = new phidget22.LightSensor();\n",
    "liteSensor.open();"
   ]
  },
  {
   "cell_type": "code",
   "execution_count": 17,
   "id": "9489cc9f",
   "metadata": {},
   "outputs": [],
   "source": [
    "sleep(1)"
   ]
  },
  {
   "cell_type": "code",
   "execution_count": 18,
   "id": "4f5f0484",
   "metadata": {},
   "outputs": [
    {
     "data": {
      "application/javascript": [
       "element.text(\"Is the light sensor attached? \" + liteSensor.attached);\n"
      ],
      "text/plain": [
       "<IPython.core.display.Javascript object>"
      ]
     },
     "metadata": {},
     "output_type": "display_data"
    }
   ],
   "source": [
    "%%js\n",
    "element.text(\"Is the light sensor attached? \" + liteSensor.attached);"
   ]
  },
  {
   "cell_type": "markdown",
   "id": "1c3b0db3",
   "metadata": {},
   "source": [
    "#### Step 4: Python code to post online\n",
    "\n",
    "We set up some code to post data to the online spreadsheet.\n",
    "\n",
    "The data comes from the Comms channel in the form of a dictionary:\n",
    "\n",
    "comm_data = {'time': date-time value, \n",
    "             'temp': value, \n",
    "             'humidity': value,\n",
    "             'ratio': value,\n",
    "             'lux': value}\n",
    "\n",
    "This will get sent to the function **post_stuff()**, which decides when to post it based on how much time has elapsed. We record data more frequently in the daytime, since the sunlight makes interesting things happen. \n",
    "\n",
    "We also have a widget to keep track of whether data has been posted. "
   ]
  },
  {
   "cell_type": "code",
   "execution_count": 39,
   "id": "b8264814",
   "metadata": {},
   "outputs": [],
   "source": [
    "# the URL of the spreadsheet, for posting\n",
    "post_url = 'https://ethercalc.net/_/MyWeirdName01'\n",
    "\n",
    "# set a reminder of when the last data was stored\n",
    "last_time = datetime.now() - timedelta(hours=2)\n",
    "\n",
    "# check if it is daytime\n",
    "def is_daylight(): \n",
    "    if (datetime.now().hour > 8) and (datetime.now().hour < 20):\n",
    "        return True\n",
    "    return False\n",
    "\n",
    "# a widget to monitor the data being posted\n",
    "monitor = widgets.Text(\n",
    "    value=\"No recent post yet\",\n",
    "    placeholder=\"blank\",\n",
    "    description=\"Latest data:\",\n",
    "    disabled = False\n",
    "    )\n",
    "\n",
    "# here we grab the data results from comm, check if it is time to post, then post. \n",
    "def post_stuff(result):\n",
    "    global last_time\n",
    "    if is_daylight():\n",
    "        wait_time = 14*60 # in daytime, we post every 15 minute (wait 14). \n",
    "    else:\n",
    "        wait_time = 59*60 # in nighttime, post every 60 minutes (wait 59)\n",
    "    if (datetime.now()-last_time).seconds < wait_time:\n",
    "        return\n",
    "    last_time = datetime.now()\n",
    "    data = datetime.now().strftime(\"%Y-%m-%d,%H:%M:%S\")\n",
    "    data += ',' + str(result['temp'])\n",
    "    data += ',' + str(result['humidity'])\n",
    "    data += ',' + str(result['ratio'])\n",
    "    data += ',' + str(result['lux'])\n",
    "    monitor.value = data    \n",
    "    r = requests.post(post_url, data= data) ## we could return a status code here..."
   ]
  },
  {
   "cell_type": "markdown",
   "id": "9589d0bc",
   "metadata": {},
   "source": [
    "#### Step 5: Open a comms channel \n",
    "\n",
    "This connects the Javascript and Python engines.\n",
    "\n",
    "Javascript (front end) and Python (back end) run separately on the Jupyter system. We open a Comms channel between the two so JS can pass the sensor data to Python, then Python posts it onto the web.  \n",
    "\n",
    "There is an issue that Python runs as a single thread in Jupyter. So if you put a \"sleep\" command in a Python loop, no other code can access the Jupyter kernel during that loop. The sensor data is then not recorded. \n",
    "\n",
    "The solution is to create a timer loop in Javascript, so that every 5 minutes it sends a message to the Python kernel. Basically, the message says \"hey Python, here is the latest data. Please save it to the cloud.\" Then the Python code can run and save the data. \n",
    "\n",
    "This way there is no loop or sleep in Python, so nothing to interupt. The loop is in JS (See \"setIntevalTimer in the JS code below).\n"
   ]
  },
  {
   "cell_type": "markdown",
   "id": "ab44d5f8",
   "metadata": {},
   "source": [
    "##### First open the front end of the Comms channel, in JavaScript"
   ]
  },
  {
   "cell_type": "code",
   "execution_count": 20,
   "id": "660b4bb9",
   "metadata": {},
   "outputs": [
    {
     "data": {
      "application/javascript": [
       "Jupyter.notebook.kernel.comm_manager.register_target('my_comm_target',\n",
       "    function(comm, msg) {\n",
       "        // comm is the frontend comm instance, msg is the comm_open message, which can carry data\n",
       "        // We don't do anything with the above opening msg\n",
       "        // Next, we register a handler to deal with later messages.\n",
       "        // Basically, on receiving a message, we start a timer that posts a send command,\n",
       "        // which sends the data in a message to the Python back end\n",
       "        comm.on_msg(function(msg) {\n",
       "            console.log(\"Comm message received \" + msg.content.data.foo);\n",
       "            // this function is called by the timer, sends data to the back end\n",
       "            function myTimer() {      \n",
       "                const d = new Date();\n",
       "                comm.send({'time': d.toLocaleString(), \n",
       "                           'temp':tempSensor.temperature, \n",
       "                           'humidity':humSensor.humidity,\n",
       "                           'ratio':vrSensor.sensorValue,\n",
       "                           'lux':liteSensor.illuminance});\n",
       "            } \n",
       "            let myVar = setInterval(myTimer, 300000); // run every 5 minutes (300sec)\n",
       "        });\n",
       "        comm.on_close(function(msg) {return 0;});\n",
       "    });\n"
      ],
      "text/plain": [
       "<IPython.core.display.Javascript object>"
      ]
     },
     "metadata": {},
     "output_type": "display_data"
    }
   ],
   "source": [
    "%%js\n",
    "Jupyter.notebook.kernel.comm_manager.register_target('my_comm_target',\n",
    "    function(comm, msg) {\n",
    "        // comm is the frontend comm instance, msg is the comm_open message, which can carry data\n",
    "        // We don't do anything with the above opening msg\n",
    "        // Next, we register a handler to deal with later messages.\n",
    "        // Basically, on receiving a message, we start a timer that posts a send command,\n",
    "        // which sends the data in a message to the Python back end\n",
    "        comm.on_msg(function(msg) {\n",
    "            console.log(\"Comm message received \" + msg.content.data.foo);\n",
    "            // this function is called by the timer, sends data to the back end\n",
    "            function myTimer() {      \n",
    "                const d = new Date();\n",
    "                comm.send({'time': d.toLocaleString(), \n",
    "                           'temp':tempSensor.temperature, \n",
    "                           'humidity':humSensor.humidity,\n",
    "                           'ratio':vrSensor.sensorValue,\n",
    "                           'lux':liteSensor.illuminance});\n",
    "            } \n",
    "            let myVar = setInterval(myTimer, 300000); // run every 5 minutes (300sec)\n",
    "        });\n",
    "        comm.on_close(function(msg) {return 0;});\n",
    "    });"
   ]
  },
  {
   "cell_type": "markdown",
   "id": "c053d551",
   "metadata": {},
   "source": [
    "##### Next, open the back end of the Comms channel, in Python"
   ]
  },
  {
   "cell_type": "code",
   "execution_count": 21,
   "id": "03d3ea21",
   "metadata": {},
   "outputs": [],
   "source": [
    "from ipykernel.comm import Comm\n",
    "\n",
    "# a global variable we use to keep the data from the front end comm channel\n",
    "comm_data = \"Not set yet\"  \n",
    "\n",
    "# Connect to the comm channel in the front end, to the Python\n",
    "my_comm = Comm(target_name='my_comm_target', data={'foo': 1})\n",
    "\n",
    "# Add a callback for received messages. This will call post_stuff to store the data\n",
    "@my_comm.on_msg\n",
    "def _recv(msg):\n",
    "    global comm_data\n",
    "    comm_data = msg['content']['data']  # this is the data in the comm message\n",
    "    post_stuff(comm_data)"
   ]
  },
  {
   "cell_type": "markdown",
   "id": "f936e378",
   "metadata": {},
   "source": [
    "#### Step 6. Start the JS engine\n",
    "\n",
    "We send a message to the Comms channel, and this will start the data collection and posting. \n",
    "\n",
    "We can watch the monitor widget to see the most recent data being posted. "
   ]
  },
  {
   "cell_type": "code",
   "execution_count": 22,
   "id": "97cc01c3",
   "metadata": {},
   "outputs": [
    {
     "data": {
      "application/vnd.jupyter.widget-view+json": {
       "model_id": "04449729818c421d9c3d6c918ffc6623",
       "version_major": 2,
       "version_minor": 0
      },
      "text/plain": [
       "Text(value='No recent post yet', description='Latest data:', placeholder='blank')"
      ]
     },
     "execution_count": 22,
     "metadata": {},
     "output_type": "execute_result"
    }
   ],
   "source": [
    "monitor"
   ]
  },
  {
   "cell_type": "code",
   "execution_count": 23,
   "id": "8311f6e4",
   "metadata": {},
   "outputs": [],
   "source": [
    "## This command starts the JS loop running.\n",
    "my_comm.send({'foo':55})"
   ]
  },
  {
   "cell_type": "markdown",
   "id": "64b48fad-f0ef-4052-b1da-9beefa2e1c8f",
   "metadata": {},
   "source": [
    "W can check the status of the Phidgets. Run the following code to check the humidity sensor."
   ]
  },
  {
   "cell_type": "code",
   "execution_count": null,
   "id": "8fb2687b-7885-451d-a50e-2a1fbd852499",
   "metadata": {},
   "outputs": [],
   "source": [
    "%%js\n",
    "element.text(humSensor.humidity);"
   ]
  },
  {
   "cell_type": "markdown",
   "id": "737f841f",
   "metadata": {},
   "source": [
    "#### Step 7. Wait\n",
    "\n",
    "The data should be collecting now. You can watch the monitor above, it should update every 10 or 15 minutes in the daytime, and every hour at night. \n",
    "\n",
    "You can also check the online spreadsheet, to see that data is getting entered. \n",
    "https://ethercalc.net/MyWeirdName23\n",
    "\n"
   ]
  },
  {
   "cell_type": "markdown",
   "id": "7c743b26",
   "metadata": {},
   "source": [
    "#### Step 8. Closing down the sensors\n",
    "\n",
    "It is **really important** to close the sensor now, as otherwise they will keep busy forever, always trying to update the sliders with the latest values. So, don't skip this next step.\n",
    "\n",
    "The following cell creates a button that you can click to close the Phidgets. Click it once you are all done with the Phidgets in this notebook. "
   ]
  },
  {
   "cell_type": "code",
   "execution_count": 17,
   "id": "81b75dad",
   "metadata": {},
   "outputs": [
    {
     "name": "stdout",
     "output_type": "stream",
     "text": [
      "Press this button when you are done, to disconnect the Phidgets\n"
     ]
    },
    {
     "data": {
      "application/vnd.jupyter.widget-view+json": {
       "model_id": "34632a92e9604474bbd8100c318581b0",
       "version_major": 2,
       "version_minor": 0
      },
      "text/plain": [
       "Button(button_style='danger', description='IMPORTANT: Click to disconnect', layout=Layout(height='80px', width…"
      ]
     },
     "metadata": {},
     "output_type": "display_data"
    }
   ],
   "source": [
    "def doDisconnect(b):\n",
    "    display(Javascript(\"\"\"\n",
    "        (async () => {\n",
    "            await humSensor.close();\n",
    "            await tempSensor.close();\n",
    "            await vrSensor.close();\n",
    "            await liteSensor.close();\n",
    "            usbconn.close();\n",
    "            usbconn.delete();\n",
    "            delete window.usbconn;\n",
    "            element.text(\"You have disconnected the Phidgets.\");\n",
    "        })();\n",
    "    \"\"\"))\n",
    "\n",
    "run_button = widgets.Button(\n",
    "    description = 'IMPORTANT: Click to disconnect', \n",
    "        button_style='danger',layout=widgets.Layout(width='50%', height='80px')\n",
    ")\n",
    "print(\"Press this button when you are done, to disconnect the Phidgets\")\n",
    "run_button.on_click(doDisconnect)\n",
    "\n",
    "display(run_button)"
   ]
  },
  {
   "cell_type": "markdown",
   "id": "7167ce22",
   "metadata": {},
   "source": [
    "\n",
    "##### Confirm\n",
    "\n",
    "You can confirm the phidget is open or closed by running the following cell. \n",
    "\n",
    "If it is still attached (true), try clicking the button above, again."
   ]
  },
  {
   "cell_type": "code",
   "execution_count": null,
   "id": "ea80b411",
   "metadata": {},
   "outputs": [],
   "source": [
    "%%js\n",
    "element.text(\"Is the humidity sensor attached? \" + humSensor.attached);\n",
    "element.append(\"<p>Is the temperature sensor attached? \" + tempSensor.attached + \"</p>\");\n",
    "element.append(\"Is the moisture sensor attached? \" + vrSensor.attached +\"</p>\");\n",
    "element.append(\"Is the light sensor attached? \" + liteSensor.attached);"
   ]
  },
  {
   "cell_type": "markdown",
   "id": "2e261121",
   "metadata": {},
   "source": [
    "## Conclusion\n",
    "\n",
    "We have shown how to run a utility to grab Phidget sensor data and post it on the web. Let us begin to chart out the data we have collected. NOTEBOOK??"
   ]
  },
  {
   "cell_type": "markdown",
   "id": "ba7ee230",
   "metadata": {},
   "source": [
    "[![Callysto.ca License](https://github.com/callysto/curriculum-notebooks/blob/master/callysto-notebook-banner-bottom.jpg?raw=true)](https://github.com/callysto/curriculum-notebooks/blob/master/LICENSE.md)"
   ]
  }
 ],
 "metadata": {
  "kernelspec": {
   "display_name": "Python 3 (ipykernel)",
   "language": "python",
   "name": "python3"
  },
  "language_info": {
   "codemirror_mode": {
    "name": "ipython",
    "version": 3
   },
   "file_extension": ".py",
   "mimetype": "text/x-python",
   "name": "python",
   "nbconvert_exporter": "python",
   "pygments_lexer": "ipython3",
   "version": "3.9.12"
  }
 },
 "nbformat": 4,
 "nbformat_minor": 5
}
