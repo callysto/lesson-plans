{
 "cells": [
  {
   "cell_type": "markdown",
   "id": "1c3b0db3",
   "metadata": {},
   "source": [
    "## Step 4: Python code to post online\n",
    "\n",
    "We set up some code to post data to the online spreadsheet.\n",
    "\n",
    "The data comes from the Comms channel in the form of a dictionary:\n",
    "``` \n",
    "comm_data = {'time': date-time value, \n",
    "             'temp': value, \n",
    "             'humidity': value,\n",
    "             'ratio': value,\n",
    "             'lux': value}\n",
    "```\n",
    "This will get sent to the function **post_stuff()**, which decides when to post it based on how much time has elapsed. We record data more frequently in the daytime, since the sunlight makes interesting things happen. \n",
    "\n",
    "We also have a widget to keep track of whether data has been posted. "
   ]
  },
  {
   "cell_type": "code",
   "execution_count": 39,
   "id": "b8264814",
   "metadata": {},
   "outputs": [],
   "source": [
    "# the URL of the spreadsheet, for posting\n",
    "post_url = 'https://ethercalc.net/_/MyWeirdName23'\n",
    "\n",
    "# set a reminder of when the last data was stored\n",
    "last_time = datetime.now() - timedelta(hours=2)\n",
    "\n",
    "# check if it is daytime\n",
    "def is_daylight(): \n",
    "    if (datetime.now().hour > 8) and (datetime.now().hour < 20):\n",
    "        return True\n",
    "    return False\n",
    "\n",
    "# a widget to monitor the data being posted\n",
    "monitor = widgets.Text(\n",
    "    value=\"No recent post yet\",\n",
    "    placeholder=\"blank\",\n",
    "    description=\"Latest data:\",\n",
    "    disabled = False\n",
    "    )\n",
    "\n",
    "# here we grab the data results from comm, check if it is time to post, then post. \n",
    "def post_stuff(result):\n",
    "    global last_time\n",
    "    if is_daylight():\n",
    "        wait_time = 14*60 # in daytime, we post every 15 minute (wait 14). \n",
    "    else:\n",
    "        wait_time = 59*60 # in nighttime, post every 60 minutes (wait 59)\n",
    "    if (datetime.now()-last_time).seconds < wait_time:\n",
    "        return\n",
    "    last_time = datetime.now()\n",
    "    data = datetime.now().strftime(\"%Y-%m-%d,%H:%M:%S\")\n",
    "    data += ',' + str(result['temp'])\n",
    "    data += ',' + str(result['humidity'])\n",
    "    data += ',' + str(result['ratio'])\n",
    "    data += ',' + str(result['lux'])\n",
    "    monitor.value = data    \n",
    "    r = requests.post(post_url, data= data) ## we could return a status code here..."
   ]
  },
  {
   "cell_type": "markdown",
   "id": "9589d0bc",
   "metadata": {},
   "source": [
    "## Step 5: Open a comms channel \n",
    "\n",
    "This connects the Javascript and Python engines.\n",
    "\n",
    "Javascript (front end) and Python (back end) run separately on the Jupyter system. We open a Comms channel between the two so JS can pass the sensor data to Python, then Python posts it onto the web.  \n",
    "\n",
    "There is an issue that Python runs as a single thread in Jupyter. So if you put a \"sleep\" command in a Python loop, no other code can access the Jupyter kernel during that loop. The sensor data is then not recorded. \n",
    "\n",
    "The solution is to create a timer loop in Javascript, so that every 5 minutes it sends a message to the Python kernel. Basically, the message says \"hey Python, here is the latest data. Please save it to the cloud.\" Then the Python code can run and save the data. \n",
    "\n",
    "This way there is no loop or sleep in Python, so nothing to interupt. The loop is in JS (See \"setIntevalTimer in the JS code below).\n"
   ]
  },
  {
   "cell_type": "markdown",
   "id": "ab44d5f8",
   "metadata": {},
   "source": [
    "### First open the front end of the Comms channel, in JavaScript"
   ]
  },
  {
   "cell_type": "code",
   "execution_count": 20,
   "id": "660b4bb9",
   "metadata": {},
   "outputs": [
    {
     "data": {
      "application/javascript": [
       "Jupyter.notebook.kernel.comm_manager.register_target('my_comm_target',\n",
       "    function(comm, msg) {\n",
       "        // comm is the frontend comm instance, msg is the comm_open message, which can carry data\n",
       "        // We don't do anything with the above opening msg\n",
       "        // Next, we register a handler to deal with later messages.\n",
       "        // Basically, on receiving a message, we start a timer that posts a send command,\n",
       "        // which sends the data in a message to the Python back end\n",
       "        comm.on_msg(function(msg) {\n",
       "            console.log(\"Comm message received \" + msg.content.data.foo);\n",
       "            // this function is called by the timer, sends data to the back end\n",
       "            function myTimer() {      \n",
       "                const d = new Date();\n",
       "                comm.send({'time': d.toLocaleString(), \n",
       "                           'temp':tempSensor.temperature, \n",
       "                           'humidity':humSensor.humidity,\n",
       "                           'ratio':vrSensor.sensorValue,\n",
       "                           'lux':liteSensor.illuminance});\n",
       "            } \n",
       "            let myVar = setInterval(myTimer, 300000); // run every 5 minutes (300sec)\n",
       "        });\n",
       "        comm.on_close(function(msg) {return 0;});\n",
       "    });\n"
      ],
      "text/plain": [
       "<IPython.core.display.Javascript object>"
      ]
     },
     "metadata": {},
     "output_type": "display_data"
    }
   ],
   "source": [
    "%%js\n",
    "Jupyter.notebook.kernel.comm_manager.register_target('my_comm_target',\n",
    "    function(comm, msg) {\n",
    "        // comm is the frontend comm instance, msg is the comm_open message, which can carry data\n",
    "        // We don't do anything with the above opening msg\n",
    "        // Next, we register a handler to deal with later messages.\n",
    "        // Basically, on receiving a message, we start a timer that posts a send command,\n",
    "        // which sends the data in a message to the Python back end\n",
    "        comm.on_msg(function(msg) {\n",
    "            console.log(\"Comm message received \" + msg.content.data.foo);\n",
    "            // this function is called by the timer, sends data to the back end\n",
    "            function myTimer() {      \n",
    "                const d = new Date();\n",
    "                comm.send({'time': d.toLocaleString(), \n",
    "                           'temp':tempSensor.temperature, \n",
    "                           'humidity':humSensor.humidity,\n",
    "                           'ratio':vrSensor.sensorValue,\n",
    "                           'lux':liteSensor.illuminance});\n",
    "            } \n",
    "            let myVar = setInterval(myTimer, 300000); // run every 5 minutes (300sec)\n",
    "        });\n",
    "        comm.on_close(function(msg) {return 0;});\n",
    "    });"
   ]
  },
  {
   "cell_type": "markdown",
   "id": "c053d551",
   "metadata": {},
   "source": [
    "### Next, open the back end of the Comms channel, in Python"
   ]
  },
  {
   "cell_type": "code",
   "execution_count": 21,
   "id": "03d3ea21",
   "metadata": {},
   "outputs": [],
   "source": [
    "from ipykernel.comm import Comm\n",
    "\n",
    "# a global variable we use to keep the data from the front end comm channel\n",
    "comm_data = \"Not set yet\"  \n",
    "\n",
    "# Connect to the comm channel in the front end, to the Python\n",
    "my_comm = Comm(target_name='my_comm_target', data={'foo': 1})\n",
    "\n",
    "# Add a callback for received messages. This will call post_stuff to store the data\n",
    "@my_comm.on_msg\n",
    "def _recv(msg):\n",
    "    global comm_data\n",
    "    comm_data = msg['content']['data']  # this is the data in the comm message\n",
    "    post_stuff(comm_data)"
   ]
  },
  {
   "cell_type": "markdown",
   "id": "f936e378",
   "metadata": {},
   "source": [
    "## Step 6. Start the JS engine\n",
    "\n",
    "We send a message to the Comms channel, and this will start the data collection and posting. \n",
    "\n",
    "We can watch the monitor widget to see the most recent data being posted. "
   ]
  },
  {
   "cell_type": "code",
   "execution_count": 22,
   "id": "97cc01c3",
   "metadata": {},
   "outputs": [
    {
     "data": {
      "application/vnd.jupyter.widget-view+json": {
       "model_id": "04449729818c421d9c3d6c918ffc6623",
       "version_major": 2,
       "version_minor": 0
      },
      "text/plain": [
       "Text(value='No recent post yet', description='Latest data:', placeholder='blank')"
      ]
     },
     "execution_count": 22,
     "metadata": {},
     "output_type": "execute_result"
    }
   ],
   "source": [
    "monitor"
   ]
  },
  {
   "cell_type": "code",
   "execution_count": 23,
   "id": "8311f6e4",
   "metadata": {},
   "outputs": [],
   "source": [
    "## This command starts the JS loop running.\n",
    "my_comm.send({'foo':55})\n"
   ]
  },
  {
   "cell_type": "markdown",
   "id": "737f841f",
   "metadata": {},
   "source": [
    "## Step 7. Wait\n",
    "\n",
    "The data should be collecting now. You can watch the monitor above, it should update every 10 or 15 minutes in the daytime, and every hour at night. \n",
    "\n",
    "You can also check the online spreadsheet, to see that data is getting entered. \n",
    "https://ethercalc.net/MyWeirdName23\n",
    "\n"
   ]
  },
  {
   "cell_type": "markdown",
   "id": "7c743b26",
   "metadata": {},
   "source": [
    "## Step 8. Closing down the sensors\n",
    "\n",
    "It is **really important** to close the sensor now, as otherwise they will keep busy forever, always trying to update the sliders with the latest values. So, don't skip this next step.\n",
    "\n",
    "The following cell creates a button that you can click to close the Phidgets. Click it once you are all done with the Phidgets in this notebook. "
   ]
  },
  {
   "cell_type": "code",
   "execution_count": 17,
   "id": "81b75dad",
   "metadata": {},
   "outputs": [
    {
     "name": "stdout",
     "output_type": "stream",
     "text": [
      "Press this button when you are done, to disconnect the Phidgets\n"
     ]
    },
    {
     "data": {
      "application/vnd.jupyter.widget-view+json": {
       "model_id": "34632a92e9604474bbd8100c318581b0",
       "version_major": 2,
       "version_minor": 0
      },
      "text/plain": [
       "Button(button_style='danger', description='IMPORTANT: Click to disconnect', layout=Layout(height='80px', width…"
      ]
     },
     "metadata": {},
     "output_type": "display_data"
    }
   ],
   "source": [
    "def doDisconnect(b):\n",
    "    display(Javascript(\"\"\"\n",
    "        (async () => {\n",
    "            await humSensor.close();\n",
    "            await tempSensor.close();\n",
    "            await vrSensor.close();\n",
    "            await liteSensor.close();\n",
    "            usbconn.close();\n",
    "            usbconn.delete();\n",
    "            delete window.usbconn;\n",
    "            element.text(\"You have disconnected the Phidgets.\");\n",
    "        })();\n",
    "    \"\"\"))\n",
    "\n",
    "run_button = widgets.Button(\n",
    "    description = 'IMPORTANT: Click to disconnect', \n",
    "        button_style='danger',layout=widgets.Layout(width='50%', height='80px')\n",
    ")\n",
    "print(\"Press this button when you are done, to disconnect the Phidgets\")\n",
    "run_button.on_click(doDisconnect)\n",
    "\n",
    "display(run_button)"
   ]
  },
  {
   "cell_type": "markdown",
   "id": "7167ce22",
   "metadata": {},
   "source": [
    "\n",
    "### Confirm\n",
    "\n",
    "You can confirm the phidget is open or closed by running the following cell. \n",
    "\n",
    "If it is still attached (true), try clicking the button above, again."
   ]
  },
  {
   "cell_type": "code",
   "execution_count": null,
   "id": "ea80b411",
   "metadata": {},
   "outputs": [],
   "source": [
    "%%js\n",
    "element.text(\"Is the humidity sensor attached? \" + humSensor.attached);\n",
    "element.append(\"<p>Is the temperature sensor attached? \" + tempSensor.attached + \"</p>\");\n",
    "element.append(\"Is the moisture sensor attached? \" + vrSensor.attached +\"</p>\");\n",
    "element.append(\"Is the light sensor attached? \" + liteSensor.attached);"
   ]
  },
  {
   "cell_type": "markdown",
   "id": "2e261121",
   "metadata": {},
   "source": [
    "## Conclusion\n",
    "\n",
    "We have shown how to run a utility to grab Phidget sensor data and post it on the web. It uses a combination of Javascript and Python to access both the front end and back end engines in the Jupyter notebook environment.  "
   ]
  },
  {
   "cell_type": "markdown",
   "id": "ba7ee230",
   "metadata": {},
   "source": [
    "[![Callysto.ca License](https://github.com/callysto/curriculum-notebooks/blob/master/callysto-notebook-banner-bottom.jpg?raw=true)](https://github.com/callysto/curriculum-notebooks/blob/master/LICENSE.md)"
   ]
  }
 ],
 "metadata": {
  "kernelspec": {
   "display_name": "Python 3 (ipykernel)",
   "language": "python",
   "name": "python3"
  },
  "language_info": {
   "codemirror_mode": {
    "name": "ipython",
    "version": 3
   },
   "file_extension": ".py",
   "mimetype": "text/x-python",
   "name": "python",
   "nbconvert_exporter": "python",
   "pygments_lexer": "ipython3",
   "version": "3.9.13"
  }
 },
 "nbformat": 4,
 "nbformat_minor": 5
}
