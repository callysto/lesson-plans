{
 "cells": [
  {
   "cell_type": "markdown",
   "id": "c687b9ff",
   "metadata": {},
   "source": [
    "![Callysto.ca Banner](https://github.com/callysto/curriculum-notebooks/blob/master/callysto-notebook-banner-top.jpg?raw=true)"
   ]
  },
  {
   "cell_type": "markdown",
   "id": "3cb2d7d9-058a-4452-bf26-0d8decf647a7",
   "metadata": {},
   "source": [
    "## Plant Phidgets- Your Talking Plant \n",
    "\n",
    "\n",
    "\n",
    "#### Does your plant appear sad, or do you think it requires some tender loving care? By connecting the [Phidgets plant kit](https://store.logicsacademy.com/products/phidgets-education-plant-kit) to your plant and running the codes below, your plant will start communicating with you."
   ]
  },
  {
   "cell_type": "markdown",
   "id": "054e9a32-c124-48ad-9b77-7246bd5805cd",
   "metadata": {},
   "source": [
    "<img src=\"images/plant2.jpg\" alt=\"A plant with sensor\" width=\"400\"/>\n",
    "<div align=\"center\">\n",
    "\n",
    "A basement window with our plant."
   ]
  },
  {
   "cell_type": "markdown",
   "id": "ce35fb00-8ddc-487b-9117-ca5d402e68f7",
   "metadata": {},
   "source": [
    "##### There are important requirements you must meet in order to complete this setup:\n",
    "    \n",
    "- you need the Phidget VINT device, with three sensors attached\n",
    "    - the temperature/humidity sensor (device type HUM1001_01)\n",
    "    - the light sensor (device type LUX1000_0)\n",
    "    - the moisture sensor (device type HUM1100)\n",
    "- you will need a computer (Mac, Windows, Raspberry Pi) with a USB connection and internet access\n",
    "- you will need the Chrome or Chromium Web browser (Safari, Firefox, and Edge will not work)\n",
    "\n",
    "For a step by step guide on how to assemble your Phidgets plant kit, see the following [link](https://www.phidgets.com/education/learn/projects/plant-kit/assemble/)\n",
    "\n",
    "\n",
    "The five steps are:\n",
    "\n",
    "1. Follow the above instructions to assemble your Phidgets plant kit, including your sensors\n",
    "1. Install libraries and widgets\n",
    "    1. Install all components and code to run on your computer\n",
    "1. Phidget Widget\n",
    "    1. Create a install button for your plant kit\n",
    "4. Sensor readings \n",
    "5. Visual Gauges\n"
   ]
  },
  {
   "cell_type": "markdown",
   "id": "ca693d5a-b7f6-4386-be11-32256ee594a6",
   "metadata": {},
   "source": [
    "***\n",
    "## 1. Install libraries and widgets\n",
    "\n",
    "The pip install for anywidgets only needs to be done once on your hub. \n",
    "\n",
    "Here we use the \"try\" command in Python to install it when it is necessary. \n",
    "\n",
    "Click on `▶Run`"
   ]
  },
  {
   "cell_type": "code",
   "execution_count": null,
   "id": "9894a6f4",
   "metadata": {},
   "outputs": [],
   "source": [
    "import pathlib\n",
    "import traitlets\n",
    "try:\n",
    "    import anywidget\n",
    "except:\n",
    "    !pip install \"anywidget[dev]\"\n",
    "    import anywidget"
   ]
  },
  {
   "cell_type": "code",
   "execution_count": null,
   "id": "d2b341f3-9f5c-4349-9230-f51d9f75824b",
   "metadata": {},
   "outputs": [],
   "source": [
    "class PhidgetFour_read(anywidget.AnyWidget):\n",
    "    _esm = pathlib.Path(\"ph4read.js\")\n",
    "    _css = pathlib.Path(\"ph4xx.css\")\n",
    "    # These 5 variables are used by the widget class. Do not delete. \n",
    "    hubPort = traitlets.Int(0).tag(sync=True)   \n",
    "    temperature = traitlets.Float(0).tag(sync=True)\n",
    "    humidity = traitlets.Float(0).tag(sync=True)\n",
    "    moisture = traitlets.Float(0).tag(sync=True)\n",
    "    luminance = traitlets.Float(0).tag(sync=True)\n",
    "\n",
    "pf = PhidgetFour_read()\n",
    "pf.hubPort = 1    # Not really needed anymore.\n"
   ]
  },
  {
   "cell_type": "markdown",
   "id": "ce480b42",
   "metadata": {},
   "source": [
    "***\n",
    "## 2. The Phidget widget\n",
    "\n",
    "The next cell will display the phidget widget.\n",
    "\n",
    "Click on the connect button to connect the device. Click on the read button to read the data. \n",
    "\n",
    "Click on `▶Run`"
   ]
  },
  {
   "cell_type": "code",
   "execution_count": null,
   "id": "aee27c9a-fdb9-4636-b8fd-ab0ac8c95ec4",
   "metadata": {},
   "outputs": [],
   "source": [
    "pf"
   ]
  },
  {
   "cell_type": "markdown",
   "id": "1ba60f9a",
   "metadata": {},
   "source": [
    "***\n",
    "## 3. Sensor readings\n",
    "\n",
    "You can send messages to \"pf\" to open, close or read data from the phidgets, like this. "
   ]
  },
  {
   "cell_type": "code",
   "execution_count": null,
   "id": "db4cd494",
   "metadata": {},
   "outputs": [],
   "source": [
    "pf.send(\"read\")"
   ]
  },
  {
   "cell_type": "markdown",
   "id": "52d7913c",
   "metadata": {},
   "source": [
    "You can also print out the current values of the phidget, like this:"
   ]
  },
  {
   "cell_type": "code",
   "execution_count": null,
   "id": "96e2ea04",
   "metadata": {},
   "outputs": [],
   "source": [
    "print(pf.temperature, pf.humidity, pf.moisture, pf.luminance)"
   ]
  },
  {
   "cell_type": "markdown",
   "id": "74eda24c",
   "metadata": {},
   "source": [
    "***\n",
    "## 4. Visual Gauges \n",
    "\n",
    "The codes below creates four gauges that are connected to the phidgets. \n",
    "\n",
    "Click on `▶Run` for each."
   ]
  },
  {
   "cell_type": "code",
   "execution_count": null,
   "id": "970ea42a-678a-403b-a042-68f80f841090",
   "metadata": {},
   "outputs": [],
   "source": [
    "import plotly.graph_objects as go\n",
    "from plotly.subplots import make_subplots\n",
    "import ipywidgets as widgets"
   ]
  },
  {
   "cell_type": "code",
   "execution_count": null,
   "id": "ab8c1b94-c390-4dcd-bc88-a8aeb66ebec9",
   "metadata": {},
   "outputs": [],
   "source": [
    "# the four sensor gauges\n",
    "g_temp = go.Indicator(\n",
    "    mode = \"gauge+number\",\n",
    "    value = 20,\n",
    "    domain = {'x': [0, 1], 'y': [0, 1]},\n",
    "    title = {'text': \"Temperature\"},\n",
    "    gauge = {'axis': {'range': [10, 40]}}\n",
    ")\n",
    "\n",
    "g_hum = go.Indicator(\n",
    "    mode = \"gauge+number\",\n",
    "    value = 40,\n",
    "    domain = {'x': [0, 1], 'y': [0, 1]},\n",
    "    title = {'text': \"Humidity\"},\n",
    "    gauge = {'axis': {'range': [0, 100]}}\n",
    ")\n",
    "\n",
    "g_moist = go.Indicator(\n",
    "    mode = \"gauge+number\",\n",
    "    value = 0.5,\n",
    "    domain = {'x': [0, 1], 'y': [0, 1]},\n",
    "    title = {'text': \"Moisture\"},\n",
    "    gauge = {'axis': {'range': [0, 1.0]}}\n",
    ")\n",
    "\n",
    "g_light = go.Indicator(\n",
    "    mode = \"gauge+number\",\n",
    "    value = 40,\n",
    "    domain = {'x': [0, 1], 'y': [0, 1]},\n",
    "    title = {'text': \"Light Level\"},\n",
    "    gauge = {'axis': {'range': [0, 10000]}}\n",
    ")\n",
    "\n",
    "fig = make_subplots(\n",
    "    rows=2,\n",
    "    cols=2,\n",
    "    specs=[[{'type' : 'domain'}, {'type' : 'domain'}],[{'type' : 'domain'}, {'type' : 'domain'}]],\n",
    "    vertical_spacing = 0.35\n",
    ")\n",
    "fig.append_trace(g_temp, row=1, col=1)\n",
    "fig.append_trace(g_hum, row=1, col=2)\n",
    "fig.append_trace(g_moist, row=2, col=1)\n",
    "fig.append_trace(g_light, row=2, col=2)\n",
    "\n",
    "gauges = go.FigureWidget(fig)"
   ]
  },
  {
   "cell_type": "code",
   "execution_count": null,
   "id": "2d233943-5cda-4ef2-9f1b-2b16333b9625",
   "metadata": {},
   "outputs": [],
   "source": [
    "def updateTemperature(change):\n",
    "    gauges.data[0]['value'] = change.new\n",
    "    \n",
    "def updateHumidity(change):\n",
    "    gauges.data[1]['value'] = change.new\n",
    "    \n",
    "def updateMoisture(change):\n",
    "    gauges.data[2]['value'] = change.new\n",
    "    \n",
    "def updateLuminance(change):\n",
    "    gauges.data[3]['value'] = change.new\n"
   ]
  },
  {
   "cell_type": "code",
   "execution_count": null,
   "id": "c441abe3-2653-4ea4-94cb-8aa407b83251",
   "metadata": {},
   "outputs": [],
   "source": [
    "pf.observe(updateTemperature, names=[\"temperature\"])\n",
    "pf.observe(updateHumidity, names=[\"humidity\"])\n",
    "pf.observe(updateMoisture, names=[\"moisture\"])\n",
    "pf.observe(updateLuminance, names=[\"luminance\"])"
   ]
  },
  {
   "cell_type": "code",
   "execution_count": null,
   "id": "62149e58-e4ef-4086-8509-346741b68cd5",
   "metadata": {},
   "outputs": [],
   "source": [
    "gauges"
   ]
  },
  {
   "cell_type": "markdown",
   "id": "6a648f05",
   "metadata": {},
   "source": [
    "***\n",
    "## Troubleshooting\n",
    "\n",
    "Go back to the section called \"The Phidget Widget.\"\n",
    "\n",
    "You should see two buttons there. Click one to connect. Click two to update the data. You need to have a Phidget VINT hub and sensors attached to your computer. \n",
    "\n",
    "For additional support or inquiries related to this notebook, feel free to reach out to M. Lamoureux or Mary Grant, who serve as Callysto ambassadors. They can provide further details and assistance."
   ]
  },
  {
   "cell_type": "markdown",
   "id": "1a149b0f",
   "metadata": {},
   "source": [
    "[![Callysto.ca License](https://github.com/callysto/curriculum-notebooks/blob/master/callysto-notebook-banner-bottom.jpg?raw=true)](https://github.com/callysto/curriculum-notebooks/blob/master/LICENSE.md)"
   ]
  }
 ],
 "metadata": {
  "kernelspec": {
   "display_name": "Python 3 (ipykernel)",
   "language": "python",
   "name": "python3"
  },
  "language_info": {
   "codemirror_mode": {
    "name": "ipython",
    "version": 3
   },
   "file_extension": ".py",
   "mimetype": "text/x-python",
   "name": "python",
   "nbconvert_exporter": "python",
   "pygments_lexer": "ipython3",
   "version": "3.9.12"
  }
 },
 "nbformat": 4,
 "nbformat_minor": 5
}
