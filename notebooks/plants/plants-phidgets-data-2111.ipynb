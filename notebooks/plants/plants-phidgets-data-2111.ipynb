{
 "cells": [
  {
   "cell_type": "markdown",
   "id": "1c3b0db3",
   "metadata": {},
   "source": [
    "## Step 4: Python code to post online\n",
    "\n",
    "We set up some code to post data to the online spreadsheet.\n",
    "\n",
    "The data comes from the Comms channel in the form of a dictionary:\n",
    "``` \n",
    "comm_data = {'time': date-time value, \n",
    "             'temp': value, \n",
    "             'humidity': value,\n",
    "             'ratio': value,\n",
    "             'lux': value}\n",
    "```\n",
    "This will get sent to the function **post_stuff()**, which decides when to post it based on how much time has elapsed. We record data more frequently in the daytime, since the sunlight makes interesting things happen. \n",
    "\n",
    "We also have a widget to keep track of whether data has been posted. "
   ]
  }
 ],
 "metadata": {
  "kernelspec": {
   "display_name": "Python 3 (ipykernel)",
   "language": "python",
   "name": "python3"
  },
  "language_info": {
   "codemirror_mode": {
    "name": "ipython",
    "version": 3
   },
   "file_extension": ".py",
   "mimetype": "text/x-python",
   "name": "python",
   "nbconvert_exporter": "python",
   "pygments_lexer": "ipython3",
   "version": "3.9.13"
  }
 },
 "nbformat": 4,
 "nbformat_minor": 5
}
