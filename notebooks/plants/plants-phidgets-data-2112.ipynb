{
 "cells": [
  {
   "cell_type": "code",
   "execution_count": 39,
   "id": "b8264814",
   "metadata": {},
   "outputs": [],
   "source": [
    "# the URL of the spreadsheet, for posting\n",
    "post_url = 'https://ethercalc.net/_/MyWeirdName23'\n",
    "\n",
    "# set a reminder of when the last data was stored\n",
    "last_time = datetime.now() - timedelta(hours=2)\n",
    "\n",
    "# check if it is daytime\n",
    "def is_daylight(): \n",
    "    if (datetime.now().hour > 8) and (datetime.now().hour < 20):\n",
    "        return True\n",
    "    return False\n",
    "\n",
    "# a widget to monitor the data being posted\n",
    "monitor = widgets.Text(\n",
    "    value=\"No recent post yet\",\n",
    "    placeholder=\"blank\",\n",
    "    description=\"Latest data:\",\n",
    "    disabled = False\n",
    "    )\n",
    "\n",
    "# here we grab the data results from comm, check if it is time to post, then post. \n",
    "def post_stuff(result):\n",
    "    global last_time\n",
    "    if is_daylight():\n",
    "        wait_time = 14*60 # in daytime, we post every 15 minute (wait 14). \n",
    "    else:\n",
    "        wait_time = 59*60 # in nighttime, post every 60 minutes (wait 59)\n",
    "    if (datetime.now()-last_time).seconds < wait_time:\n",
    "        return\n",
    "    last_time = datetime.now()\n",
    "    data = datetime.now().strftime(\"%Y-%m-%d,%H:%M:%S\")\n",
    "    data += ',' + str(result['temp'])\n",
    "    data += ',' + str(result['humidity'])\n",
    "    data += ',' + str(result['ratio'])\n",
    "    data += ',' + str(result['lux'])\n",
    "    monitor.value = data    \n",
    "    r = requests.post(post_url, data= data) ## we could return a status code here..."
   ]
  },
  {
   "cell_type": "markdown",
   "id": "9589d0bc",
   "metadata": {},
   "source": [
    "## Step 5: Open a comms channel \n",
    "\n",
    "This connects the Javascript and Python engines.\n",
    "\n",
    "Javascript (front end) and Python (back end) run separately on the Jupyter system. We open a Comms channel between the two so JS can pass the sensor data to Python, then Python posts it onto the web.  \n",
    "\n",
    "There is an issue that Python runs as a single thread in Jupyter. So if you put a \"sleep\" command in a Python loop, no other code can access the Jupyter kernel during that loop. The sensor data is then not recorded. \n",
    "\n",
    "The solution is to create a timer loop in Javascript, so that every 5 minutes it sends a message to the Python kernel. Basically, the message says \"hey Python, here is the latest data. Please save it to the cloud.\" Then the Python code can run and save the data. \n",
    "\n",
    "This way there is no loop or sleep in Python, so nothing to interupt. The loop is in JS (See \"setIntevalTimer in the JS code below).\n"
   ]
  }
 ],
 "metadata": {
  "kernelspec": {
   "display_name": "Python 3 (ipykernel)",
   "language": "python",
   "name": "python3"
  },
  "language_info": {
   "codemirror_mode": {
    "name": "ipython",
    "version": 3
   },
   "file_extension": ".py",
   "mimetype": "text/x-python",
   "name": "python",
   "nbconvert_exporter": "python",
   "pygments_lexer": "ipython3",
   "version": "3.9.13"
  }
 },
 "nbformat": 4,
 "nbformat_minor": 5
}
