{
 "cells": [
  {
   "cell_type": "markdown",
   "id": "a954153d",
   "metadata": {},
   "source": [
    "![Callysto.ca Banner](https://github.com/callysto/curriculum-notebooks/blob/master/callysto-notebook-banner-top.jpg?raw=true)\n",
    "\n"
   ]
  },
  {
   "cell_type": "markdown",
   "id": "46f3a83c",
   "metadata": {},
   "source": [
    "## Phidgets_4 Gauges.\n",
    "\n",
    "Let's use the previous work and connect the Phidget temperature and humidity sensors to a live gauge in Plotly.\n",
    "\n",
    "We use Plotly to get some nice looking gauges, and make them live by attaching them to the Phidget data. \n"
   ]
  },
  {
   "cell_type": "markdown",
   "id": "aef7a947",
   "metadata": {},
   "source": [
    "## Set up gauges\n",
    "\n",
    "We first set up the two gauges, for temperature and humidity"
   ]
  },
  {
   "cell_type": "code",
   "execution_count": 1,
   "id": "390878fc",
   "metadata": {},
   "outputs": [
    {
     "data": {
      "application/vnd.jupyter.widget-view+json": {
       "model_id": "11eda5fc412046ebbaf9c6fd6fb09f05",
       "version_major": 2,
       "version_minor": 0
      },
      "text/plain": [
       "FigureWidget({\n",
       "    'data': [{'domain': {'x': [0.0, 0.45], 'y': [0, 1]},\n",
       "              'gauge': {'axis': {'rang…"
      ]
     },
     "metadata": {},
     "output_type": "display_data"
    }
   ],
   "source": [
    "from plotly.subplots import make_subplots\n",
    "import plotly.graph_objects as go\n",
    "\n",
    "ind_hum = go.Indicator(\n",
    "    mode = \"gauge+number\",\n",
    "    value = 40,\n",
    "    domain = {'x': [0, 1], 'y': [0, 1]},\n",
    "    title = {'text': \"Humidity\"},\n",
    "    gauge = {'axis': {'range': [0, 100]}}\n",
    ")\n",
    "\n",
    "ind_temp = go.Indicator(\n",
    "    mode = \"gauge+number\",\n",
    "    value = 20,\n",
    "    domain = {'x': [0, 1], 'y': [0, 1]},\n",
    "    title = {'text': \"Temperature\"},\n",
    "    gauge = {'axis': {'range': [5, 35]}}\n",
    ")\n",
    "\n",
    "\n",
    "fig = make_subplots(\n",
    "    rows=1,\n",
    "    cols=2,\n",
    "    specs=[[{'type' : 'domain'}, {'type' : 'domain'}]])\n",
    "fig.append_trace(ind_temp, row=1, col=1)\n",
    "fig.append_trace(ind_hum, row=1, col=2)\n",
    "\n",
    "f = go.FigureWidget(fig)\n",
    "\n",
    "f"
   ]
  },
  {
   "cell_type": "markdown",
   "id": "0aad94cc",
   "metadata": {},
   "source": [
    "## Setup the Phidget devices\n",
    "\n",
    "You must be running on Chrome on your laptop or desktop, and the Phidget device needs to be connected to the USB port on your computer. \n",
    "\n",
    "As in the earlier notebooks, the main steps are thus:\n",
    "1. Set up default values for variables that cross js cells\n",
    "2. Define and open the USB connection\n",
    "3. Open the Humidity and Temperature device\n",
    "4. Request a connection to the Phidgets device\n",
    "5. Read values from the devices\n",
    "6. When we are done, close the device\n",
    "\n",
    "\n",
    "One chenge though is in Step 3, where we add some come that will communicate with Python. It looks like this:\n",
    "```\n",
    "    IPython.notebook.kernel.execute(\"f.data[1]['value'] = \" + humidity );  \n",
    "and\n",
    "    IPython.notebook.kernel.execute(\"f.data[0]['value'] = \" + temperature );  \n",
    "\n",
    "```\n",
    "\n",
    "These lines communicate with our Python code and update the values in data structure **f.data**.\n",
    "\n",
    "Step 5 then becomes \"live\" automatically. \n",
    "\n",
    "So run the following Python and Javascript code, and connect your Phidget."
   ]
  },
  {
   "cell_type": "markdown",
   "id": "62b68595",
   "metadata": {},
   "source": [
    "## Step 0\n",
    "Let's import a few Python libraries that we need. "
   ]
  },
  {
   "cell_type": "code",
   "execution_count": 2,
   "id": "fef61e70",
   "metadata": {},
   "outputs": [],
   "source": [
    "import ipywidgets as widgets\n",
    "from IPython.display import Javascript, display\n",
    "from time import sleep"
   ]
  },
  {
   "cell_type": "markdown",
   "id": "f3d2fb76",
   "metadata": {},
   "source": [
    "## Step 1."
   ]
  },
  {
   "cell_type": "code",
   "execution_count": 3,
   "id": "f0e32bea",
   "metadata": {},
   "outputs": [
    {
     "data": {
      "application/javascript": [
       "window.usbconn = null;\n",
       "window.humSensor = null;\n",
       "window.tempSensor = null;\n"
      ],
      "text/plain": [
       "<IPython.core.display.Javascript object>"
      ]
     },
     "metadata": {},
     "output_type": "display_data"
    }
   ],
   "source": [
    "%%js\n",
    "window.usbconn = null;\n",
    "window.humSensor = null;\n",
    "window.tempSensor = null;"
   ]
  },
  {
   "cell_type": "markdown",
   "id": "8a2d644d",
   "metadata": {},
   "source": [
    "## Step 2. "
   ]
  },
  {
   "cell_type": "code",
   "execution_count": 4,
   "id": "9e4cb799",
   "metadata": {},
   "outputs": [
    {
     "data": {
      "application/javascript": [
       "requirejs.config({\n",
       "    paths: { \n",
       "        'phidget22': ['https://unpkg.com/phidget22/browser/phidget22'], \n",
       "    },                                         \n",
       "});\n",
       "\n",
       "require(['phidget22'], function(phidget22) {\n",
       "    if (window.usbconn == null){\n",
       "        window.usbconn = new phidget22.USBConnection();\n",
       "        element.text(\"Creating a new USB Connection.\");\n",
       "    }\n",
       "    console.log(window.usbconn)\n",
       "    \n",
       "    window.usbconn.connect().catch(err => {\n",
       "        window.usbconn.delete();\n",
       "        element.append(\"Error connecting to USB\" + err);\n",
       "    });\n",
       "    element.append(\" Connected.\");\n",
       "});\n"
      ],
      "text/plain": [
       "<IPython.core.display.Javascript object>"
      ]
     },
     "metadata": {},
     "output_type": "display_data"
    }
   ],
   "source": [
    "%%js\n",
    "requirejs.config({\n",
    "    paths: { \n",
    "        'phidget22': ['https://unpkg.com/phidget22/browser/phidget22'], \n",
    "    },                                         \n",
    "});\n",
    "\n",
    "require(['phidget22'], function(phidget22) {\n",
    "    if (window.usbconn == null){\n",
    "        window.usbconn = new phidget22.USBConnection();\n",
    "        element.text(\"Creating a new USB Connection.\");\n",
    "    }\n",
    "    console.log(window.usbconn)\n",
    "    \n",
    "    window.usbconn.connect().catch(err => {\n",
    "        window.usbconn.delete();\n",
    "        element.append(\"Error connecting to USB\" + err);\n",
    "    });\n",
    "    element.append(\" Connected.\");\n",
    "});"
   ]
  },
  {
   "cell_type": "code",
   "execution_count": 5,
   "id": "fa760a18",
   "metadata": {},
   "outputs": [],
   "source": [
    "## We rest for a bit while the devices connect\n",
    "sleep(2)"
   ]
  },
  {
   "cell_type": "markdown",
   "id": "b1fafc82",
   "metadata": {},
   "source": [
    "### Confirm the connection "
   ]
  },
  {
   "cell_type": "code",
   "execution_count": 6,
   "id": "d2ace047",
   "metadata": {},
   "outputs": [
    {
     "data": {
      "application/javascript": [
       "element.text(window.usbconn.connected);\n"
      ],
      "text/plain": [
       "<IPython.core.display.Javascript object>"
      ]
     },
     "metadata": {},
     "output_type": "display_data"
    }
   ],
   "source": [
    "%%js\n",
    "element.text(window.usbconn.connected);"
   ]
  },
  {
   "cell_type": "markdown",
   "id": "8dd323b8",
   "metadata": {},
   "source": [
    "## Step 3"
   ]
  },
  {
   "cell_type": "code",
   "execution_count": 7,
   "id": "07805e1b",
   "metadata": {},
   "outputs": [
    {
     "data": {
      "application/javascript": [
       "requirejs.config({\n",
       "    paths: { \n",
       "        'phidget22': ['https://unpkg.com/phidget22/browser/phidget22'], \n",
       "    },                                         \n",
       "});\n",
       "\n",
       "require(['phidget22'], function(phidget22) {\n",
       "        // set up the humidity sensor\n",
       "    window.humSensor = new phidget22.HumiditySensor();\n",
       "    window.humSensor.onHumidityChange = function (humidity) {\n",
       "            IPython.notebook.kernel.execute(\n",
       "                \"f.data[1]['value'] = \" + humidity\n",
       "            );  \n",
       "        };\n",
       "    window.humSensor.open();\n",
       "        // set up the temperatre sesor\n",
       "    window.tempSensor = new phidget22.TemperatureSensor();\n",
       "    window.tempSensor.onTemperatureChange = function (temperature) {\n",
       "            IPython.notebook.kernel.execute(\n",
       "                \"f.data[0]['value'] = \" + temperature\n",
       "            );  \n",
       "        };\n",
       "    window.tempSensor.open();\n",
       "});\n"
      ],
      "text/plain": [
       "<IPython.core.display.Javascript object>"
      ]
     },
     "metadata": {},
     "output_type": "display_data"
    }
   ],
   "source": [
    "%%js\n",
    "requirejs.config({\n",
    "    paths: { \n",
    "        'phidget22': ['https://unpkg.com/phidget22/browser/phidget22'], \n",
    "    },                                         \n",
    "});\n",
    "\n",
    "require(['phidget22'], function(phidget22) {\n",
    "        // set up the humidity sensor\n",
    "    window.humSensor = new phidget22.HumiditySensor();\n",
    "    window.humSensor.onHumidityChange = function (humidity) {\n",
    "            IPython.notebook.kernel.execute(\n",
    "                \"f.data[1]['value'] = \" + humidity\n",
    "            );  \n",
    "        };\n",
    "    window.humSensor.open();\n",
    "        // set up the temperatre sesor\n",
    "    window.tempSensor = new phidget22.TemperatureSensor();\n",
    "    window.tempSensor.onTemperatureChange = function (temperature) {\n",
    "            IPython.notebook.kernel.execute(\n",
    "                \"f.data[0]['value'] = \" + temperature\n",
    "            );  \n",
    "        };\n",
    "    window.tempSensor.open();\n",
    "});"
   ]
  },
  {
   "cell_type": "code",
   "execution_count": 8,
   "id": "4f5f0484",
   "metadata": {},
   "outputs": [],
   "source": [
    "## We rest for a bit while the devices connect.\n",
    "sleep(2)"
   ]
  },
  {
   "cell_type": "markdown",
   "id": "93943e0d",
   "metadata": {},
   "source": [
    "## Step 4"
   ]
  },
  {
   "cell_type": "code",
   "execution_count": 9,
   "id": "a86c0ac5",
   "metadata": {},
   "outputs": [
    {
     "data": {
      "application/javascript": [
       "window.usbconn.requestWebUSBDeviceAccess();\n"
      ],
      "text/plain": [
       "<IPython.core.display.Javascript object>"
      ]
     },
     "metadata": {},
     "output_type": "display_data"
    }
   ],
   "source": [
    "%%js\n",
    "window.usbconn.requestWebUSBDeviceAccess();"
   ]
  },
  {
   "cell_type": "markdown",
   "id": "43381210",
   "metadata": {},
   "source": [
    "## Step 5. PAUSE HERE\n",
    "\n",
    "The gauges should be running now. Everything is live.  Scroll up and check it out the gauges, to see the temperature and humitity values. Try breathing on the sensor, so you can see changes in the readings. \n",
    "\n",
    "We can even display a copy of the gauges right here, also live. "
   ]
  },
  {
   "cell_type": "code",
   "execution_count": 10,
   "id": "5787a07d",
   "metadata": {},
   "outputs": [
    {
     "data": {
      "application/vnd.jupyter.widget-view+json": {
       "model_id": "11eda5fc412046ebbaf9c6fd6fb09f05",
       "version_major": 2,
       "version_minor": 0
      },
      "text/plain": [
       "FigureWidget({\n",
       "    'data': [{'domain': {'x': [0.0, 0.45], 'y': [0, 1]},\n",
       "              'gauge': {'axis': {'rang…"
      ]
     },
     "metadata": {},
     "output_type": "display_data"
    }
   ],
   "source": [
    "f"
   ]
  },
  {
   "cell_type": "markdown",
   "id": "7c743b26",
   "metadata": {},
   "source": [
    "## Step 6. Closing down the sensors\n",
    "\n",
    "It is **really importnat** to close the sensor now, as otherwise they will keep busy forever, always trying to update the sliders with the latest values. So, don't skip this next step.\n",
    "\n",
    "The following cell creates a button that you can click to close the Phidgets. Click it once you are all done with the Phidgets in this notebook. "
   ]
  },
  {
   "cell_type": "code",
   "execution_count": 11,
   "id": "81b75dad",
   "metadata": {},
   "outputs": [
    {
     "name": "stdout",
     "output_type": "stream",
     "text": [
      "Press this button when you are done, to disconnect the Phidgets\n"
     ]
    },
    {
     "data": {
      "application/vnd.jupyter.widget-view+json": {
       "model_id": "117c8068be884d36a8b8507ce665bdde",
       "version_major": 2,
       "version_minor": 0
      },
      "text/plain": [
       "Button(description='Click to disconnect', style=ButtonStyle())"
      ]
     },
     "metadata": {},
     "output_type": "display_data"
    },
    {
     "data": {
      "application/javascript": [
       "\n",
       "    window.humSensor.close();\n",
       "    window.tempSensor.close();\n",
       "    setTimeout(() => { window.usbconn.close(); },1000);\n",
       "    setTimeout(() => { window.usbconn.delete(); },2000);\n",
       "    "
      ],
      "text/plain": [
       "<IPython.core.display.Javascript object>"
      ]
     },
     "metadata": {},
     "output_type": "display_data"
    },
    {
     "name": "stdout",
     "output_type": "stream",
     "text": [
      "You have disconnected the Phidgets.\n"
     ]
    }
   ],
   "source": [
    "def doDisconnect(b):\n",
    "    display(Javascript(\"\"\"\n",
    "    window.humSensor.close();\n",
    "    window.tempSensor.close();\n",
    "    setTimeout(() => { window.usbconn.close(); },1000);\n",
    "    setTimeout(() => { window.usbconn.delete(); },2000);\n",
    "    \"\"\"))\n",
    "    print(\"You have disconnected the Phidgets.\")\n",
    "\n",
    "run_button = widgets.Button(\n",
    "      description = 'Click to disconnect'\n",
    ")\n",
    "print(\"Press this button when you are done, to disconnect the Phidgets\")\n",
    "run_button.on_click(doDisconnect)\n",
    "\n",
    "display(run_button)"
   ]
  },
  {
   "cell_type": "markdown",
   "id": "7167ce22",
   "metadata": {},
   "source": [
    "### Confirm\n",
    "\n",
    "You can confirm the phidget is open or closed by running the following cell. \n",
    "\n",
    "If it is open (true), try clicking the button above, again."
   ]
  },
  {
   "cell_type": "code",
   "execution_count": 12,
   "id": "ea80b411",
   "metadata": {},
   "outputs": [
    {
     "data": {
      "application/javascript": [
       "element.text(\"Is the humidity sensor open? \" + window.humSensor.isOpen);\n",
       "element.append(\"<p>Is the humidity sensor open? \" + window.tempSensor.isOpen);\n"
      ],
      "text/plain": [
       "<IPython.core.display.Javascript object>"
      ]
     },
     "metadata": {},
     "output_type": "display_data"
    }
   ],
   "source": [
    "%%js\n",
    "element.text(\"Is the humidity sensor open? \" + window.humSensor.isOpen);\n",
    "element.append(\"<p>Is the humidity sensor open? \" + window.tempSensor.isOpen);"
   ]
  },
  {
   "cell_type": "markdown",
   "id": "2e261121",
   "metadata": {},
   "source": [
    "## Conclusion\n",
    "\n",
    "We have shown how to display the temperature and humidity values from the Phidget device using a live widget from the ipywidgets library. "
   ]
  },
  {
   "cell_type": "markdown",
   "id": "ba7ee230",
   "metadata": {},
   "source": [
    "[![Callysto.ca License](https://github.com/callysto/curriculum-notebooks/blob/master/callysto-notebook-banner-bottom.jpg?raw=true)](https://github.com/callysto/curriculum-notebooks/blob/master/LICENSE.md)"
   ]
  }
 ],
 "metadata": {
  "kernelspec": {
   "display_name": "Python 3 (ipykernel)",
   "language": "python",
   "name": "python3"
  },
  "language_info": {
   "codemirror_mode": {
    "name": "ipython",
    "version": 3
   },
   "file_extension": ".py",
   "mimetype": "text/x-python",
   "name": "python",
   "nbconvert_exporter": "python",
   "pygments_lexer": "ipython3",
   "version": "3.10.5"
  }
 },
 "nbformat": 4,
 "nbformat_minor": 5
}
