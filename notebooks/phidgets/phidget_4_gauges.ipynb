{
 "cells": [
  {
   "cell_type": "markdown",
   "id": "a954153d",
   "metadata": {},
   "source": [
    "![Callysto.ca Banner](https://github.com/callysto/curriculum-notebooks/blob/master/callysto-notebook-banner-top.jpg?raw=true)\n",
    "\n"
   ]
  },
  {
   "cell_type": "markdown",
   "id": "46f3a83c",
   "metadata": {},
   "source": [
    "## Phidgets_4 Gauges.\n",
    "\n",
    "Let's use the previous work and connect the Phidget temperature and humidity sensors to a live gauge in Plotly.\n",
    "\n",
    "We use Plotly to get some nice looking gauges, and make them live by attaching them to the Phidget data. \n",
    "\n",
    "<h2 style=\"color: red\">IMPORTANT</h2>\n",
    "You MUST click the <span style=\"color:red\">BIG, RED DISCONNECT BUTTON</span> at the end of this notebook when you are done. This tells the software to release the Phidget device, so it can be used by other notebooks you might try later."
   ]
  },
  {
   "cell_type": "markdown",
   "id": "aef7a947",
   "metadata": {},
   "source": [
    "## Set up gauges\n",
    "\n",
    "We first set up the two gauges, for temperature and humidity"
   ]
  },
  {
   "cell_type": "code",
   "execution_count": null,
   "id": "390878fc",
   "metadata": {},
   "outputs": [],
   "source": [
    "from plotly.subplots import make_subplots\n",
    "import plotly.graph_objects as go\n",
    "\n",
    "ind_hum = go.Indicator(\n",
    "    mode = \"gauge+number\",\n",
    "    value = 40,\n",
    "    domain = {'x': [0, 1], 'y': [0, 1]},\n",
    "    title = {'text': \"Humidity\"},\n",
    "    gauge = {'axis': {'range': [0, 100]}}\n",
    ")\n",
    "\n",
    "ind_temp = go.Indicator(\n",
    "    mode = \"gauge+number\",\n",
    "    value = 20,\n",
    "    domain = {'x': [0, 1], 'y': [0, 1]},\n",
    "    title = {'text': \"Temperature\"},\n",
    "    gauge = {'axis': {'range': [5, 35]}}\n",
    ")\n",
    "\n",
    "\n",
    "fig = make_subplots(\n",
    "    rows=1,\n",
    "    cols=2,\n",
    "    specs=[[{'type' : 'domain'}, {'type' : 'domain'}]])\n",
    "fig.append_trace(ind_temp, row=1, col=1)\n",
    "fig.append_trace(ind_hum, row=1, col=2)\n",
    "\n",
    "f = go.FigureWidget(fig)\n",
    "\n",
    "f"
   ]
  },
  {
   "cell_type": "markdown",
   "id": "0aad94cc",
   "metadata": {},
   "source": [
    "## Setup the Phidget devices\n",
    "\n",
    "You must be running on Chrome on your laptop or desktop, and the Phidget device needs to be connected to the USB port on your computer. \n",
    "\n",
    "As in the earlier notebooks, the main steps are thus:\n",
    "\n",
    "0. Import some Python libraries\n",
    "1. Import the Phidget library, in Javascript\n",
    "2. Define and open the USB connection\n",
    "3. Open the Humidity and Temperature devices\n",
    "4. Read some values from the devices\n",
    "5. When we are done, close the devices and USB connection\n",
    "\n",
    "One change though is in Step 3, where we add some code that will communicate with Python. It looks like this:\n",
    "```\n",
    "    IPython.notebook.kernel.execute(\"f.data[1]['value'] = \" + humidity );  \n",
    "and\n",
    "    IPython.notebook.kernel.execute(\"f.data[0]['value'] = \" + temperature );  \n",
    "\n",
    "```\n",
    "\n",
    "These lines communicate with our Python code and update the values in data structure **f.data**.\n",
    "\n",
    "Step 4 then becomes \"live\" automatically. \n",
    "\n",
    "So run the following Python and Javascript code, and connect your Phidget."
   ]
  },
  {
   "cell_type": "markdown",
   "id": "62b68595",
   "metadata": {},
   "source": [
    "## Step 0.\n",
    "Let's import a few Python libraries that we need. "
   ]
  },
  {
   "cell_type": "code",
   "execution_count": null,
   "id": "fef61e70",
   "metadata": {},
   "outputs": [],
   "source": [
    "import ipywidgets as widgets\n",
    "from IPython.display import Javascript, display\n",
    "from time import sleep"
   ]
  },
  {
   "cell_type": "markdown",
   "id": "f3d2fb76",
   "metadata": {},
   "source": [
    "## Step 1.\n",
    "\n",
    "Now import the Phidgets library. "
   ]
  },
  {
   "cell_type": "code",
   "execution_count": null,
   "id": "f0e32bea",
   "metadata": {},
   "outputs": [],
   "source": [
    "%%js\n",
    "requirejs.config({\n",
    "    paths: { \n",
    "        'phidget22': ['https://unpkg.com/phidget22/browser/phidget22'], \n",
    "    },                                         \n",
    "});\n",
    "require(['phidget22'], (phidget22) => {\n",
    "   window.phidget22 = phidget22; \n",
    "});"
   ]
  },
  {
   "cell_type": "code",
   "execution_count": null,
   "id": "76ab55d1",
   "metadata": {},
   "outputs": [],
   "source": [
    "## We pause for a second here, to allow the library to load\n",
    "sleep(1)"
   ]
  },
  {
   "cell_type": "markdown",
   "id": "8a2d644d",
   "metadata": {},
   "source": [
    "## Step 2.\n",
    "We now open a USB connection.  "
   ]
  },
  {
   "cell_type": "code",
   "execution_count": null,
   "id": "9e4cb799",
   "metadata": {},
   "outputs": [],
   "source": [
    "%%js\n",
    "\n",
    "if (window.usbconn === undefined) {\n",
    "    \n",
    "    element.text(\"Creating a new USB Connection.\");\n",
    "    \n",
    "    window.usbconn = new phidget22.USBConnection();\n",
    "    \n",
    "    usbconn.connect().then(() => {\n",
    "        usbconn.requestWebUSBDeviceAccess();\n",
    "    }).catch(err => {\n",
    "        window.usbconn.delete();\n",
    "        element.append(\"Error connecting to USB\" + err);\n",
    "    });\n",
    "}"
   ]
  },
  {
   "cell_type": "code",
   "execution_count": null,
   "id": "fa760a18",
   "metadata": {},
   "outputs": [],
   "source": [
    "## We rest for a bit while the USB connect\n",
    "sleep(1)"
   ]
  },
  {
   "cell_type": "markdown",
   "id": "b1fafc82",
   "metadata": {},
   "source": [
    "### Confirm the connection "
   ]
  },
  {
   "cell_type": "code",
   "execution_count": null,
   "id": "d2ace047",
   "metadata": {},
   "outputs": [],
   "source": [
    "%%js\n",
    "element.text(usbconn.connected);"
   ]
  },
  {
   "cell_type": "markdown",
   "id": "8dd323b8",
   "metadata": {},
   "source": [
    "## Step 3.\n",
    "\n",
    "We make a request to open the humidity and temperature sensors. \n",
    "\n",
    "We connect them to the Plotly gauges using the call to kerner.execute. "
   ]
  },
  {
   "cell_type": "code",
   "execution_count": null,
   "id": "07805e1b",
   "metadata": {},
   "outputs": [],
   "source": [
    "%%js\n",
    "window.humSensor = new phidget22.HumiditySensor();\n",
    "humSensor.onHumidityChange = function (humidity) {\n",
    "    IPython.notebook.kernel.execute(\n",
    "        \"f.data[1]['value'] = \" + humidity\n",
    "    );  \n",
    "};\n",
    "humSensor.open();\n",
    "\n",
    "window.tempSensor = new phidget22.TemperatureSensor();\n",
    "tempSensor.onTemperatureChange = function (temperature) {\n",
    "    IPython.notebook.kernel.execute(\n",
    "        \"f.data[0]['value'] = \" + temperature\n",
    "    );  \n",
    "};\n",
    "tempSensor.open();"
   ]
  },
  {
   "cell_type": "code",
   "execution_count": null,
   "id": "4f5f0484",
   "metadata": {},
   "outputs": [],
   "source": [
    "## We rest for a bit while the devices connect.\n",
    "sleep(1)"
   ]
  },
  {
   "cell_type": "markdown",
   "id": "43381210",
   "metadata": {},
   "source": [
    "## Step 4. PAUSE HERE\n",
    "\n",
    "The gauges should be running now. Everything is live.  Scroll up and check it out the gauges, to see the temperature and humitity values. Try breathing on the sensor, so you can see changes in the readings. \n",
    "\n",
    "We can even display a copy of the gauges right here, also live. "
   ]
  },
  {
   "cell_type": "code",
   "execution_count": null,
   "id": "5787a07d",
   "metadata": {},
   "outputs": [],
   "source": [
    "f"
   ]
  },
  {
   "cell_type": "markdown",
   "id": "7c743b26",
   "metadata": {},
   "source": [
    "## Step 6. Closing down the sensors\n",
    "\n",
    "It is **really important** to close the sensor now, as otherwise they will keep busy forever, always trying to update the sliders with the latest values. So, don't skip this next step.\n",
    "\n",
    "The following cell creates a button that you can click to close the Phidgets. Click it once you are all done with the Phidgets in this notebook. "
   ]
  },
  {
   "cell_type": "code",
   "execution_count": null,
   "id": "81b75dad",
   "metadata": {},
   "outputs": [],
   "source": [
    "def doDisconnect(b):\n",
    "    display(Javascript(\"\"\"\n",
    "        (async () => {\n",
    "            await humSensor.close();\n",
    "            await tempSensor.close();\n",
    "            usbconn.close();\n",
    "            usbconn.delete();\n",
    "            delete window.usbconn;\n",
    "            element.text(\"You have disconnected the Phidgets.\");\n",
    "        })();\n",
    "    \"\"\"))\n",
    "\n",
    "run_button = widgets.Button(\n",
    "    description = 'IMPORTANT: Click to disconnect', \n",
    "        button_style='danger',layout=widgets.Layout(width='50%', height='80px')\n",
    ")\n",
    "print(\"Press this button when you are done, to disconnect the Phidgets\")\n",
    "run_button.on_click(doDisconnect)\n",
    "\n",
    "display(run_button)"
   ]
  },
  {
   "cell_type": "markdown",
   "id": "7167ce22",
   "metadata": {},
   "source": [
    "### Confirm\n",
    "\n",
    "You can confirm the phidget is open or closed by running the following cell. \n",
    "\n",
    "If it is still attached (true), try clicking the button above, again."
   ]
  },
  {
   "cell_type": "code",
   "execution_count": null,
   "id": "ea80b411",
   "metadata": {},
   "outputs": [],
   "source": [
    "%%js\n",
    "element.text(\"Is the humidity sensor attached? \" + humSensor.attached);\n",
    "element.append(\"<p>Is the temperature sensor attached? \" + tempSensor.attached);"
   ]
  },
  {
   "cell_type": "markdown",
   "id": "2e261121",
   "metadata": {},
   "source": [
    "## Conclusion\n",
    "\n",
    "We have shown how to display the temperature and humidity values from the Phidget device using a live widget from the ipywidgets library. "
   ]
  },
  {
   "cell_type": "markdown",
   "id": "ba7ee230",
   "metadata": {},
   "source": [
    "[![Callysto.ca License](https://github.com/callysto/curriculum-notebooks/blob/master/callysto-notebook-banner-bottom.jpg?raw=true)](https://github.com/callysto/curriculum-notebooks/blob/master/LICENSE.md)"
   ]
  }
 ],
 "metadata": {
  "kernelspec": {
   "display_name": "Python 3 (ipykernel)",
   "language": "python",
   "name": "python3"
  },
  "language_info": {
   "codemirror_mode": {
    "name": "ipython",
    "version": 3
   },
   "file_extension": ".py",
   "mimetype": "text/x-python",
   "name": "python",
   "nbconvert_exporter": "python",
   "pygments_lexer": "ipython3",
   "version": "3.9.13"
  }
 },
 "nbformat": 4,
 "nbformat_minor": 5
}
