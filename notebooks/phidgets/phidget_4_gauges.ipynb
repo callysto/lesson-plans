{
 "cells": [
  {
   "cell_type": "markdown",
   "id": "a954153d",
   "metadata": {},
   "source": [
    "![Callysto.ca Banner](https://github.com/callysto/curriculum-notebooks/blob/master/callysto-notebook-banner-top.jpg?raw=true)\n",
    "\n"
   ]
  },
  {
   "cell_type": "markdown",
   "id": "46f3a83c",
   "metadata": {},
   "source": [
    "## Phidgets_4 Gauges.\n",
    "\n",
    "Let's use the previous work and connect the Phidget temperature and humidity sensors to a live gauge in Plotly.\n",
    "\n",
    "We use Plotly to get some nice looking gauges, and make them live by attaching them to the Phidget data. \n",
    "\n",
    "It is important to run this notebook in the Google Chrome web browser, on a desktop or laptop computer. It also will work with Chromium, Opera and Edge. Unfortunately, other browsers (FireFox, Safari) will not work as they cannot access the USB port that connects to the Phidget device. That may change in the future, but at the time of writing, this is currently only possible in Chrome/Chromium/Opera/Edge."
   ]
  },
  {
   "cell_type": "markdown",
   "id": "832a0010",
   "metadata": {},
   "source": [
    "## Setting up the Phidget hardware\n",
    "\n",
    "We will be using the Phidget Starter Kit, as shown in this figure:\n",
    "<img src=\"images/KIT4003.jpg\" alt=\"Image of the starter kit\"  width = 500 />\n",
    "\n",
    "Verify these points:\n",
    "- Get a hold of a Phidgets Starter Kit. It should already be assembled. If not, assemble it now.\n",
    "    - You will have received instructions with the kit on how to assemble it.\n",
    "- The Starter Kit has a temperature/humidity sensor attached. If it does not, find the sensor and attach it.\n",
    "    - The humidity sensor is a small black box attached with a thin cable. It is marked with the initials \"HUM.\"\n",
    "- Connect the Starter Kit to your computer with a USB cable. \n",
    "    - The Kit come with a USB cable, it is attached to the Hub device inside the Starter Kit.\n",
    "- If you have an older version of the Phidgets, you may need to update its firmware. See the following for details:\n",
    "    - https://www.phidgets.com/education/educators/advanced-troubleshooting/firmware-upgrade/\n",
    "- As mentioned earlier, make sure you are running this notebook in the Google Chrome browser. "
   ]
  },
  {
   "cell_type": "markdown",
   "id": "aef7a947",
   "metadata": {},
   "source": [
    "## Set up gauges\n",
    "\n",
    "We first set up the two gauges, for temperature and humidity"
   ]
  },
  {
   "cell_type": "code",
   "execution_count": 1,
   "id": "390878fc",
   "metadata": {},
   "outputs": [
    {
     "data": {
      "application/vnd.jupyter.widget-view+json": {
       "model_id": "24c8a918762c481bac4a9d2bc49ccdfe",
       "version_major": 2,
       "version_minor": 0
      },
      "text/plain": [
       "FigureWidget({\n",
       "    'data': [{'domain': {'x': [0.0, 0.45], 'y': [0, 1]},\n",
       "              'gauge': {'axis': {'range': [5, 35]}},\n",
       "              'mode': 'gauge+number',\n",
       "              'title': {'text': 'Temperature'},\n",
       "              'type': 'indicator',\n",
       "              'uid': '14ff9c5a-96fe-4d00-9e13-83bee480d424',\n",
       "              'value': 20},\n",
       "             {'domain': {'x': [0.55, 1.0], 'y': [0, 1]},\n",
       "              'gauge': {'axis': {'range': [0, 100]}},\n",
       "              'mode': 'gauge+number',\n",
       "              'title': {'text': 'Humidity'},\n",
       "              'type': 'indicator',\n",
       "              'uid': '7d49548c-ee91-4065-97cb-ae94ee98573e',\n",
       "              'value': 40}],\n",
       "    'layout': {'template': '...'}\n",
       "})"
      ]
     },
     "execution_count": 1,
     "metadata": {},
     "output_type": "execute_result"
    }
   ],
   "source": [
    "from plotly.subplots import make_subplots\n",
    "import plotly.graph_objects as go\n",
    "\n",
    "ind_hum = go.Indicator(\n",
    "    mode = \"gauge+number\",\n",
    "    value = 40,\n",
    "    domain = {'x': [0, 1], 'y': [0, 1]},\n",
    "    title = {'text': \"Humidity\"},\n",
    "    gauge = {'axis': {'range': [0, 100]}}\n",
    ")\n",
    "\n",
    "ind_temp = go.Indicator(\n",
    "    mode = \"gauge+number\",\n",
    "    value = 20,\n",
    "    domain = {'x': [0, 1], 'y': [0, 1]},\n",
    "    title = {'text': \"Temperature\"},\n",
    "    gauge = {'axis': {'range': [5, 35]}}\n",
    ")\n",
    "\n",
    "\n",
    "fig = make_subplots(\n",
    "    rows=1,\n",
    "    cols=2,\n",
    "    specs=[[{'type' : 'domain'}, {'type' : 'domain'}]])\n",
    "fig.append_trace(ind_temp, row=1, col=1)\n",
    "fig.append_trace(ind_hum, row=1, col=2)\n",
    "\n",
    "gauges = go.FigureWidget(fig)\n",
    "\n",
    "gauges"
   ]
  },
  {
   "cell_type": "markdown",
   "id": "0aad94cc",
   "metadata": {},
   "source": [
    "## Setup the Phidget software\n",
    "\n",
    "As in the earlier notebooks, the main steps are thus:\n",
    "\n",
    "1. Import some Python libraries\n",
    "2. Create the Phidget Widget as a software object to connect to the devices\n",
    "3. Display the widget and the gauges\n",
    "4. Connect by pressing a button on screen\n",
    "5. Link the Phidget data to the gauges, for live updates. View the gauges.\n",
    "6. Close the sensor when you are done\n"
   ]
  },
  {
   "cell_type": "markdown",
   "id": "d26f3773",
   "metadata": {},
   "source": [
    "## Step 1.\n",
    "\n",
    "Let's import a few Python libraries that we need. \n",
    "\n",
    "The **anywidget** library is still in development, so we do a pip install if it is not already on the hub.  "
   ]
  },
  {
   "cell_type": "code",
   "execution_count": null,
   "id": "9322cd5f",
   "metadata": {},
   "outputs": [],
   "source": [
    "try:\n",
    "    import anywidget\n",
    "except:\n",
    "    !pip install --user \"anywidget[dev]\"\n",
    "    import anywidget\n",
    "    "
   ]
  },
  {
   "cell_type": "markdown",
   "id": "a6a08c40",
   "metadata": {},
   "source": [
    "## NOTE:\n",
    "\n",
    "If the **install** above gives an error message. try closing the notebook, shut down the kernel, then reopen the notebook. Run the cell again. After that, the libary will be properly installed."
   ]
  },
  {
   "cell_type": "code",
   "execution_count": 2,
   "id": "fef61e70",
   "metadata": {},
   "outputs": [],
   "source": [
    "import pathlib\n",
    "import traitlets"
   ]
  },
  {
   "cell_type": "markdown",
   "id": "f3d2fb76",
   "metadata": {},
   "source": [
    "## Step 2.\n",
    "\n",
    "We create the PhidgetFour class (software object) as an example of the **anywidget** models. The JS code for this tool is in the file **ph4auto.js** while the style file is in **ph4xx.css**. If you like, you can open this files in your browser to see what the code looks like.\n",
    "\n",
    "The PhidgetFour object contains four Python variables (named temperature, humidity, moisture and luminance) which will contain the data from the sensors. "
   ]
  },
  {
   "cell_type": "code",
   "execution_count": 3,
   "id": "f0e32bea",
   "metadata": {},
   "outputs": [],
   "source": [
    "class PhidgetsFour(anywidget.AnyWidget):\n",
    "    _esm = pathlib.Path(\"ph4auto.js\")\n",
    "    _css = pathlib.Path(\"ph4xx.css\")\n",
    "    # These 4 variables are used by the widget. Do not delete. \n",
    "    temperature = traitlets.Float(0).tag(sync=True)\n",
    "    humidity = traitlets.Float(0).tag(sync=True)\n",
    "    moisture = traitlets.Float(0).tag(sync=True)\n",
    "    luminance = traitlets.Float(0).tag(sync=True)\n",
    "\n",
    "pf = PhidgetsFour()"
   ]
  },
  {
   "cell_type": "markdown",
   "id": "8a2d644d",
   "metadata": {},
   "source": [
    "## Step 3.\n",
    "\n",
    "We now open and display the Phidget widget along with the gauges.\n",
    "\n",
    "When you run the following cell, you should see a button displayed and some text, followed by the gauges. "
   ]
  },
  {
   "cell_type": "code",
   "execution_count": 4,
   "id": "9e4cb799",
   "metadata": {},
   "outputs": [
    {
     "data": {
      "application/vnd.jupyter.widget-view+json": {
       "model_id": "a4d85205135f45198e29fde27b2d9a58",
       "version_major": 2,
       "version_minor": 0
      },
      "text/plain": [
       "PhidgetsFour()"
      ]
     },
     "metadata": {},
     "output_type": "display_data"
    },
    {
     "data": {
      "application/vnd.jupyter.widget-view+json": {
       "model_id": "24c8a918762c481bac4a9d2bc49ccdfe",
       "version_major": 2,
       "version_minor": 0
      },
      "text/plain": [
       "FigureWidget({\n",
       "    'data': [{'domain': {'x': [0.0, 0.45], 'y': [0, 1]},\n",
       "              'gauge': {'axis': {'range': [5, 35]}},\n",
       "              'mode': 'gauge+number',\n",
       "              'title': {'text': 'Temperature'},\n",
       "              'type': 'indicator',\n",
       "              'uid': '14ff9c5a-96fe-4d00-9e13-83bee480d424',\n",
       "              'value': 20},\n",
       "             {'domain': {'x': [0.55, 1.0], 'y': [0, 1]},\n",
       "              'gauge': {'axis': {'range': [0, 100]}},\n",
       "              'mode': 'gauge+number',\n",
       "              'title': {'text': 'Humidity'},\n",
       "              'type': 'indicator',\n",
       "              'uid': '7d49548c-ee91-4065-97cb-ae94ee98573e',\n",
       "              'value': 40}],\n",
       "    'layout': {'template': '...'}\n",
       "})"
      ]
     },
     "metadata": {},
     "output_type": "display_data"
    }
   ],
   "source": [
    "display(pf,gauges)"
   ]
  },
  {
   "cell_type": "markdown",
   "id": "b1fafc82",
   "metadata": {},
   "source": [
    "## Step 4. \n",
    "Clicking on the \"Connect\" button above will open a window that asks you to select the Phidget Hub. Select the hub and click \"Connect.\" The window looks like this:\n",
    "<img src=\"images/Pconnect.png\" alt=\"Hey\"  width = 300 />\n",
    "\n",
    "If you don't get this window, perhaps you are using the wrong browser. (Use Chrome, Chromium, or Opera).\n",
    "\n",
    "If you get the window but don't see the Phidget device, check to be sure the Phidget VINT hub is connected to your computer with a USB cable."
   ]
  },
  {
   "cell_type": "markdown",
   "id": "cd23b5c8",
   "metadata": {},
   "source": [
    "### Check:\n",
    "If all is well, the status text will report that the USB port is connected and the device channels are open. You should also see the value for temperature and humidity\n",
    "\n",
    "If you connected a moisture probe and the light detector from the Phidgets plant kit, you will see these values displayed as well. \n",
    "\n",
    "If you don't see any values, check again that the Phidget VINT device is connected to your computer with a USB cable. Also check that you have a Phidget temperature/humidity sensor connected to your VINT with the appropriate cable. "
   ]
  },
  {
   "cell_type": "markdown",
   "id": "8dd323b8",
   "metadata": {},
   "source": [
    "## Step 5.\n",
    "\n",
    "Now we link the gauges to the Phidgets. Run the following cell and you will see the gauges update as the humidity changes.\n"
   ]
  },
  {
   "cell_type": "code",
   "execution_count": 5,
   "id": "4f5f0484",
   "metadata": {},
   "outputs": [],
   "source": [
    "# connect the Phidget widget to the gauges in the user interface\n",
    "def updateTemperature(change):\n",
    "    gauges.data[0]['value'] = change.new\n",
    "def updateHumidity(change):\n",
    "    gauges.data[1]['value'] = change.new\n",
    "pf.observe(updateTemperature, names=[\"temperature\"])\n",
    "pf.observe(updateHumidity, names=[\"humidity\"])"
   ]
  },
  {
   "cell_type": "markdown",
   "id": "43381210",
   "metadata": {},
   "source": [
    "## PAUSE HERE\n",
    "\n",
    "The gauges should be running now. Everything is live.  Scroll up and check it out the gauges, to see the temperature and humitity values. Try breathing on the sensor, so you can see changes in the readings. \n",
    "\n",
    "We can even display a copy of the gauges right here, also live. "
   ]
  },
  {
   "cell_type": "code",
   "execution_count": 6,
   "id": "5787a07d",
   "metadata": {},
   "outputs": [
    {
     "data": {
      "application/vnd.jupyter.widget-view+json": {
       "model_id": "24c8a918762c481bac4a9d2bc49ccdfe",
       "version_major": 2,
       "version_minor": 0
      },
      "text/plain": [
       "FigureWidget({\n",
       "    'data': [{'domain': {'x': [0.0, 0.45], 'y': [0, 1]},\n",
       "              'gauge': {'axis': {'range': [5, 35]}},\n",
       "              'mode': 'gauge+number',\n",
       "              'title': {'text': 'Temperature'},\n",
       "              'type': 'indicator',\n",
       "              'uid': '14ff9c5a-96fe-4d00-9e13-83bee480d424',\n",
       "              'value': 24.5},\n",
       "             {'domain': {'x': [0.55, 1.0], 'y': [0, 1]},\n",
       "              'gauge': {'axis': {'range': [0, 100]}},\n",
       "              'mode': 'gauge+number',\n",
       "              'title': {'text': 'Humidity'},\n",
       "              'type': 'indicator',\n",
       "              'uid': '7d49548c-ee91-4065-97cb-ae94ee98573e',\n",
       "              'value': 44.37}],\n",
       "    'layout': {'template': '...'}\n",
       "})"
      ]
     },
     "execution_count": 6,
     "metadata": {},
     "output_type": "execute_result"
    }
   ],
   "source": [
    "gauges"
   ]
  },
  {
   "cell_type": "markdown",
   "id": "7c743b26",
   "metadata": {},
   "source": [
    "## Step 6. Closing down the sensors\n",
    "\n",
    "It is **really important** to close the sensors when you are done. Otherwise they will keep busy forever, always trying to update the gauges with the latest values. Also, no other notebook can use the Phidgets while this one is active. \n",
    "\n",
    "To close the Phidget, go back to the Connect button above, and click where it says \"Click to disconnect.\"\n",
    "\n",
    "You can also simply close this notebook. "
   ]
  },
  {
   "cell_type": "markdown",
   "id": "ed587083",
   "metadata": {},
   "source": [
    "## In case of errors\n",
    "\n",
    "Do you see gauges just above this cell, but nothing is happening? Go back and look for the \"Connect\" button in one of the cells. Click on it to get the Phidget hardware to connect to the software.\n",
    "\n",
    "Still having problems? What kind of errors can happen? What should we do about them?\n",
    "\n",
    "**Symptom 1**. When you click the Connect button, status text says \"USB not connected\"\n",
    "- Problem is likely that your browser does not support WebUSB.\n",
    "    - Solution is to switch to the latest versions of Chrome, Chromium, Opera or Edge.\n",
    "- Another problem could be that the Phidget VINT device is not connected via a USB cable. You should see a window like this <img src=\"images/Pconnect.png\" alt=\"Hey\"  width = 300 /> Select the VINT device once it appears.\n",
    "- Another notebook or piece of software is already connected to the Phidget device.\n",
    "    - Only one notebook at a time can use the Phidget. So close down any other notebook using Phidgets, or exit any other software using the device. \n",
    "- You might have an older version of a Phidget that needs a firmware update.\n",
    "    - see here for the solution: https://www.phidgets.com/education/educators/advanced-troubleshooting/firmware-upgrade/\n",
    "  \n",
    "    \n",
    "**Symptom 2**. When you click the Connect button, status text is \"USB connected, channel not open.\"\n",
    "- Check to see that you have a Phidget temperature/humidity device connected to your Phidget hub or VINT device\n"
   ]
  },
  {
   "cell_type": "markdown",
   "id": "2e261121",
   "metadata": {},
   "source": [
    "## Conclusion\n",
    "\n",
    "We have shown how to display the temperature and humidity values from the Phidget device using a live guages from the Plotly software library. "
   ]
  },
  {
   "cell_type": "markdown",
   "id": "ba7ee230",
   "metadata": {},
   "source": [
    "[![Callysto.ca License](https://github.com/callysto/curriculum-notebooks/blob/master/callysto-notebook-banner-bottom.jpg?raw=true)](https://github.com/callysto/curriculum-notebooks/blob/master/LICENSE.md)"
   ]
  }
 ],
 "metadata": {
  "kernelspec": {
   "display_name": "Python 3 (ipykernel)",
   "language": "python",
   "name": "python3"
  },
  "language_info": {
   "codemirror_mode": {
    "name": "ipython",
    "version": 3
   },
   "file_extension": ".py",
   "mimetype": "text/x-python",
   "name": "python",
   "nbconvert_exporter": "python",
   "pygments_lexer": "ipython3",
   "version": "3.11.6"
  }
 },
 "nbformat": 4,
 "nbformat_minor": 5
}
