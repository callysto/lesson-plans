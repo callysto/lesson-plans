{
 "cells": [
  {
   "cell_type": "markdown",
   "id": "bcfef756",
   "metadata": {},
   "source": [
    "![Callysto.ca Banner](https://github.com/callysto/curriculum-notebooks/blob/master/callysto-notebook-banner-top.jpg?raw=true)\n",
    "\n"
   ]
  },
  {
   "cell_type": "markdown",
   "id": "b212dbee",
   "metadata": {},
   "source": [
    "## Phidget_7 Game\n",
    "\n",
    "This is a really open ended exercise for the students.\n",
    "\n",
    "It is important to run this notebook in the Google Chrome web browser, on a desktop or laptop computer. Unfortunately, other browsers (FireFox, Safari, Edge) will not work as they cannot access the USB port that connects to the Phidget device.\n",
    "\n",
    "<h2 style=\"color: red\">IMPORTANT</h2>\n",
    "You MUST click the <span style=\"color:red\">BIG, RED DISCONNECT BUTTON</span> at the end of this notebook when you are done. This tells the software to release the Phidget device, so it can be used by other notebooks you might try later.\n",
    "\n",
    "The idea is to create a game using the push buttons and lights on the Phidgets Starter Kit. Some ideas include:\n",
    "- A speed test, where a light goes on at random and the code measures the time it takes the player to react by pushing the button.\n",
    "- A two-button speed test. The green or red light comes on at random, and the player must react by hitting the corresponding button. With the speed measured, as above\n",
    "- A pattern game. The lights flash in a random pattern (e.g. Red, Red, Green, Red, Green) and the player must repeat the pattern by pushing the button. \n",
    "- Or perhaps a \"prompt\" appears on the screen, and the player must push the corresponding button. Say, a picture randomly of an example of \"food\" or \"office supplies\" and the player must push \"Green\" for food, and \"Red\" for office supplies.\n",
    "\n",
    "Or think of your own game. \n",
    "\n",
    "A good place to start is the code in the notebook Phidget_6_buttons, which shows how to connect to the buttons and turn on and off the light. \n",
    "\n",
    "The basic code is repeated here. Can you modify it to make a game?\n",
    "\n",
    "Steps 0, 1, 2, 3, and 4 will be left the same as before. It is at Step 5 that you want to start modifying the code to make this into a game. "
   ]
  },
  {
   "cell_type": "markdown",
   "id": "514ac52a",
   "metadata": {},
   "source": [
    "## Setting up the Phidget device\n",
    "\n",
    "We will be using the Phidget Starter Kit, as shown in this figure:\n",
    "<img src=\"images/KIT4003.jpg\" alt=\"Image of the starter kit\"  width = 500 />\n",
    "\n",
    "Verify these points:\n",
    "- Get a hold of a Phidgets Starter Kit. It should already be assembled. If not, assemble it now.\n",
    "    - You will have received instructions with the kit on how to assemble it.\n",
    "- The Starter Kit has a two buttons and two switches connect. If it does not, find them and attach.\n",
    "    - We assume the red button is attached to port 0, and the red LED attached to port 1.\n",
    "    - We assume the green button is attached to port 5, and the green LED attached to port 4.\n",
    "    - if note, either change yoor wires or chage the \"setPortHub\" values in the code belwo. \n",
    "- Connect the Starter Kit to your computer with a USB cable. \n",
    "    - The Kit come with a USB cable, it is attached to the Hub device inside the Starter Kit.\n",
    "- If you have an older version of the Phidgets, you may need to update its firmware. See the following for details:\n",
    "    - https://www.phidgets.com/education/educators/advanced-troubleshooting/firmware-upgrade/\n",
    "- As mentioned above, make sure you are running this notebook in the Google Chrome browser. "
   ]
  },
  {
   "cell_type": "markdown",
   "id": "3514789c",
   "metadata": {},
   "source": [
    "## Setup the Phidget device\n",
    "\n",
    "As in the earlier notebooks, the main steps are thus:\n",
    "\n",
    "0. Load in some Python libraries\n",
    "1. Load in the Phidgets library, in Javascript \n",
    "2. Define and open the USB connection\n",
    "3. Open the digital inputs (buttons) and outputs (LEDS). There are four in total\n",
    "4. Request a connection to the Phidgets device\n",
    "5. Read values from the buttons, push values to the LEDs \n",
    "6. When we are done, close the device"
   ]
  },
  {
   "cell_type": "markdown",
   "id": "a61e9e84",
   "metadata": {},
   "source": [
    "## Step 0.\n",
    "Let's import a few Python libraries that we need. "
   ]
  },
  {
   "cell_type": "code",
   "execution_count": null,
   "id": "1d3ede7d",
   "metadata": {},
   "outputs": [],
   "source": [
    "import ipywidgets as widgets\n",
    "from IPython.display import Javascript, display\n",
    "from time import sleep, perf_counter"
   ]
  },
  {
   "cell_type": "markdown",
   "id": "bf80a7b8",
   "metadata": {},
   "source": [
    "## Step 1.\n",
    "\n",
    "Load in the Phidgets library, using Javascript. \n"
   ]
  },
  {
   "cell_type": "code",
   "execution_count": null,
   "id": "4cdf9d1c",
   "metadata": {},
   "outputs": [],
   "source": [
    "%%js\n",
    "requirejs.config({\n",
    "    paths: { \n",
    "        'phidget22': ['https://unpkg.com/phidget22/browser/phidget22'], \n",
    "    },                                         \n",
    "});\n",
    "require(['phidget22'], (phidget22) => {\n",
    "   window.phidget22 = phidget22; \n",
    "});"
   ]
  },
  {
   "cell_type": "code",
   "execution_count": null,
   "id": "ff13ec3e",
   "metadata": {},
   "outputs": [],
   "source": [
    "## We pause for a second here, to allow the library to load\n",
    "sleep(1)"
   ]
  },
  {
   "cell_type": "markdown",
   "id": "cb21c64c",
   "metadata": {},
   "source": [
    "## Step 2.\n",
    "Open the USB connection."
   ]
  },
  {
   "cell_type": "code",
   "execution_count": null,
   "id": "3838d6d9",
   "metadata": {},
   "outputs": [],
   "source": [
    "%%js\n",
    "\n",
    "if (window.usbconn === undefined) {\n",
    "    \n",
    "    element.text(\"Creating a new USB Connection.\");\n",
    "    \n",
    "    window.usbconn = new phidget22.USBConnection();\n",
    "    \n",
    "    usbconn.connect().then(() => {\n",
    "        usbconn.requestWebUSBDeviceAccess();\n",
    "    }).catch(err => {\n",
    "        window.usbconn.delete();\n",
    "        element.append(\"Error connecting to USB\" + err);\n",
    "    });\n",
    "}"
   ]
  },
  {
   "cell_type": "code",
   "execution_count": null,
   "id": "f86c51e5",
   "metadata": {},
   "outputs": [],
   "source": [
    "## We rest for a bit while the USB connects\n",
    "sleep(1)"
   ]
  },
  {
   "cell_type": "markdown",
   "id": "6592c60e",
   "metadata": {},
   "source": [
    "## Check\n",
    "We check here that the connection is open (should read \"true\")"
   ]
  },
  {
   "cell_type": "code",
   "execution_count": null,
   "id": "af44c83f",
   "metadata": {},
   "outputs": [],
   "source": [
    "%%js\n",
    "element.text(usbconn.connected);"
   ]
  },
  {
   "cell_type": "markdown",
   "id": "5cd5e7f4",
   "metadata": {},
   "source": [
    "## Step 3\n",
    "\n",
    "Open the two input ports and the two output ports. \n",
    "- We assume the red button (inA) is attached to port 0, and the red LED (outA) attached to port 1.\n",
    "- We assume the green button (inB) is attached to port 5, and the green LED (outB) attached to port 4.\n",
    "\n",
    "If these are different on your device, you will need to change these numbers in the code. \n"
   ]
  },
  {
   "cell_type": "code",
   "execution_count": null,
   "id": "2a447261",
   "metadata": {},
   "outputs": [],
   "source": [
    "%%js\n",
    "window.inA = new phidget22.DigitalInput();\n",
    "inA.setHubPort(0);        \n",
    "inA.setIsHubPortDevice(true); // required for a switch\n",
    "inA.open();\n",
    "\n",
    "window.inB = new phidget22.DigitalInput();\n",
    "inB.setHubPort(5);        \n",
    "inB.setIsHubPortDevice(true); // required for a switch\n",
    "inB.open();\n",
    "\n",
    "window.outA = new phidget22.DigitalOutput();\n",
    "outA.setHubPort(1);        \n",
    "outA.setIsHubPortDevice(true); // required for an LED\n",
    "outA.open();\n",
    "\n",
    "window.outB = new phidget22.DigitalOutput();\n",
    "outB.setHubPort(4);        \n",
    "outB.setIsHubPortDevice(true); // required for an LED\n",
    "outB.open();"
   ]
  },
  {
   "cell_type": "code",
   "execution_count": null,
   "id": "8dfa569b",
   "metadata": {},
   "outputs": [],
   "source": [
    "## We rest for a bit while the devices connect.\n",
    "sleep(1)"
   ]
  },
  {
   "cell_type": "markdown",
   "id": "ff81ff44",
   "metadata": {},
   "source": [
    "## Check\n",
    "\n",
    "Are the four devices all connected? Expecting \"true\" for the answers in the following. "
   ]
  },
  {
   "cell_type": "code",
   "execution_count": null,
   "id": "a0d9d862",
   "metadata": {},
   "outputs": [],
   "source": [
    "%%js\n",
    "element.text(\"Is Input A connected? \" + inA.attached);\n",
    "element.append(\"<p>Is Input B connected? \" + inB.attached);\n",
    "element.append(\"<p>Is Output A connected? \" + outA.attached);\n",
    "element.append(\"<p>Is Output B connected? \" + outB.attached);"
   ]
  },
  {
   "cell_type": "markdown",
   "id": "71dff949",
   "metadata": {},
   "source": [
    "## Step 5\n",
    "\n",
    "Let's play by turning on and off the LEDs, and reading the buttons."
   ]
  },
  {
   "cell_type": "markdown",
   "id": "dce2dfa5",
   "metadata": {},
   "source": [
    "## Turn LED A on\n",
    "- run the next cell"
   ]
  },
  {
   "cell_type": "code",
   "execution_count": null,
   "id": "68068cc2",
   "metadata": {},
   "outputs": [],
   "source": [
    "%%js\n",
    "outA.setState(true);"
   ]
  },
  {
   "cell_type": "code",
   "execution_count": null,
   "id": "44b1e723",
   "metadata": {},
   "outputs": [],
   "source": [
    "## Wait a bit so we can see the light\n",
    "sleep(2)"
   ]
  },
  {
   "cell_type": "markdown",
   "id": "3e5bc561",
   "metadata": {},
   "source": [
    "## Turn LED A off\n",
    "- run the next cell"
   ]
  },
  {
   "cell_type": "code",
   "execution_count": null,
   "id": "64b2386a",
   "metadata": {},
   "outputs": [],
   "source": [
    "%%js\n",
    "outA.setState(false);"
   ]
  },
  {
   "cell_type": "markdown",
   "id": "229d35b0",
   "metadata": {},
   "source": [
    "## Turn LED B on\n",
    "- run the next cell"
   ]
  },
  {
   "cell_type": "code",
   "execution_count": null,
   "id": "14eac03b",
   "metadata": {},
   "outputs": [],
   "source": [
    "%%js\n",
    "outB.setState(true);"
   ]
  },
  {
   "cell_type": "code",
   "execution_count": null,
   "id": "100b8d62",
   "metadata": {},
   "outputs": [],
   "source": [
    "## Wait a bit so we can see the light\n",
    "sleep(2)"
   ]
  },
  {
   "cell_type": "markdown",
   "id": "c95797c8",
   "metadata": {},
   "source": [
    "## Turn LED B off \n",
    "- run the next cell"
   ]
  },
  {
   "cell_type": "code",
   "execution_count": null,
   "id": "cca0d1a0",
   "metadata": {},
   "outputs": [],
   "source": [
    "%%js\n",
    "outB.setState(false);"
   ]
  },
  {
   "cell_type": "markdown",
   "id": "c68f7122",
   "metadata": {},
   "source": [
    "## Is button A pushed on or off?\n",
    "- run the next cell. Try it both with the button pushed on, or off. "
   ]
  },
  {
   "cell_type": "code",
   "execution_count": null,
   "id": "baf11292",
   "metadata": {},
   "outputs": [],
   "source": [
    "%%js\n",
    "element.text(inA.state)     "
   ]
  },
  {
   "cell_type": "markdown",
   "id": "10a42789",
   "metadata": {},
   "source": [
    "## Is button B pushed on or off?\n",
    "- run the next cell. Try it both with the button pushed on, or off. "
   ]
  },
  {
   "cell_type": "code",
   "execution_count": null,
   "id": "2f793e75",
   "metadata": {},
   "outputs": [],
   "source": [
    "%%js\n",
    "element.text(inB.state)"
   ]
  },
  {
   "cell_type": "markdown",
   "id": "eb932723",
   "metadata": {},
   "source": [
    "## Let's try a game.\n",
    "\n",
    "Let's just see how quickly you can push the button, when the light comes on.\n",
    "\n",
    "We first use some Javascript, to tell the A button to run some Python code when the button is pushed.\n",
    "\n",
    "All it does it record the time in variable `t1`, using the performance counter clock called `perf_counter()`."
   ]
  },
  {
   "cell_type": "code",
   "execution_count": null,
   "id": "4c745cdd",
   "metadata": {},
   "outputs": [],
   "source": [
    "%%js\n",
    "inA.onStateChange = function (state) {\n",
    "    if (state) {\n",
    "        IPython.notebook.kernel.execute(\"t1 = perf_counter()\"); \n",
    "        outA.setState(false);\n",
    "    };\n",
    "};"
   ]
  },
  {
   "cell_type": "markdown",
   "id": "c4e64719",
   "metadata": {},
   "source": [
    "Next, we run some Javascript code to do the following:\n",
    "1. Turn off the LED\n",
    "2. Pause for 5 seconds\n",
    "3. Record the current time in variable `t0`\n",
    "4. Turn on the LED.\n",
    "\n",
    "The code now is waiting for you to push button A. As soon as you do, it records the elapsed time in variable `t1`."
   ]
  },
  {
   "cell_type": "markdown",
   "id": "2e09f75c",
   "metadata": {},
   "source": [
    "### Run the following, and push the button as soon as the LED turns on. "
   ]
  },
  {
   "cell_type": "code",
   "execution_count": null,
   "id": "864b2208",
   "metadata": {},
   "outputs": [],
   "source": [
    "display(Javascript(\"outA.setState(false);\"))\n",
    "sleep(5)\n",
    "t0 = perf_counter()\n",
    "display(Javascript(\"outA.setState(true);\"))"
   ]
  },
  {
   "cell_type": "markdown",
   "id": "dc9cddff",
   "metadata": {},
   "source": [
    "## Now run the next line.\n",
    "\n",
    "This will show how long it took you to push the button, measured in seconds. It is the difference between the start time t0 and the end time t1. "
   ]
  },
  {
   "cell_type": "code",
   "execution_count": null,
   "id": "5feec427",
   "metadata": {},
   "outputs": [],
   "source": [
    "print(t1-t0)"
   ]
  },
  {
   "cell_type": "markdown",
   "id": "cbb331d0",
   "metadata": {},
   "source": [
    "## NOW TRY YOUR OWN\n",
    "\n",
    "Can you build on this example? Put in a random delay? Have the two LEDs light up at random? Have a pattern of lights that must be matched on the buttons? Get creative?"
   ]
  },
  {
   "cell_type": "markdown",
   "id": "19953aa6",
   "metadata": {},
   "source": [
    "## Closing up\n",
    "\n",
    "When you are all done, you should close up all four devices. Click the button to disconnect."
   ]
  },
  {
   "cell_type": "code",
   "execution_count": null,
   "id": "34f59f02",
   "metadata": {},
   "outputs": [],
   "source": [
    "def doDisconnect(b):\n",
    "    display(Javascript(\"\"\"\n",
    "        (async () => {\n",
    "            await inA.close();\n",
    "            await inB.close();\n",
    "            await outA.close();\n",
    "            await outB.close();\n",
    "            usbconn.close();\n",
    "            usbconn.delete();\n",
    "            delete window.usbconn;\n",
    "            element.text(\"You have disconnected the Phidgets.\");\n",
    "        })();\n",
    "    \"\"\"))\n",
    "\n",
    "run_button = widgets.Button(\n",
    "    description = 'IMPORTANT: Click to disconnect', \n",
    "        button_style='danger',layout=widgets.Layout(width='50%', height='80px')\n",
    ")\n",
    "print(\"Press this button when you are done, to disconnect the Phidgets\")\n",
    "run_button.on_click(doDisconnect)\n",
    "\n",
    "display(run_button)"
   ]
  },
  {
   "cell_type": "markdown",
   "id": "8d97b7ce",
   "metadata": {},
   "source": [
    "### Confirm\n",
    "\n",
    "You can confirm the phidget has been closed by running the following cell. \n",
    "\n",
    "If any of them are open (true), try clicking the button above, again."
   ]
  },
  {
   "cell_type": "code",
   "execution_count": null,
   "id": "ca5fc247",
   "metadata": {},
   "outputs": [],
   "source": [
    "%%js\n",
    "element.text(\"Is Input A attached? \" + inA.attached);\n",
    "element.append(\"<p>Is Input B attached? \" + inB.attached);\n",
    "element.append(\"<p>Is Output A attached? \" + outA.attached);\n",
    "element.append(\"<p>Is Output B attached? \" + outB.attached);"
   ]
  },
  {
   "cell_type": "markdown",
   "id": "4438ea8e",
   "metadata": {},
   "source": [
    "## And that's it. \n",
    "\n",
    "That was a simple game. Can you build on this idea?\n",
    "\n",
    "\n",
    "Good luck!"
   ]
  },
  {
   "cell_type": "markdown",
   "id": "4871334f",
   "metadata": {},
   "source": [
    "[![Callysto.ca License](https://github.com/callysto/curriculum-notebooks/blob/master/callysto-notebook-banner-bottom.jpg?raw=true)](https://github.com/callysto/curriculum-notebooks/blob/master/LICENSE.md)"
   ]
  }
 ],
 "metadata": {
  "kernelspec": {
   "display_name": "Python 3 (ipykernel)",
   "language": "python",
   "name": "python3"
  },
  "language_info": {
   "codemirror_mode": {
    "name": "ipython",
    "version": 3
   },
   "file_extension": ".py",
   "mimetype": "text/x-python",
   "name": "python",
   "nbconvert_exporter": "python",
   "pygments_lexer": "ipython3",
   "version": "3.9.13"
  }
 },
 "nbformat": 4,
 "nbformat_minor": 5
}
