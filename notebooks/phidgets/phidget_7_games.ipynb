{
 "cells": [
  {
   "cell_type": "markdown",
   "id": "bcfef756",
   "metadata": {},
   "source": [
    "![Callysto.ca Banner](https://github.com/callysto/curriculum-notebooks/blob/master/callysto-notebook-banner-top.jpg?raw=true)\n",
    "\n"
   ]
  },
  {
   "cell_type": "markdown",
   "id": "70fd8b2b",
   "metadata": {},
   "source": [
    "## Phidget_7 Game\n",
    "\n",
    "This is a really open ended exercise for the students.\n",
    "\n",
    "It is important to run this notebook in the Google Chrome web browser, on a desktop or laptop computer. Opera and Microsoft Edge should work as well. Unfortunately, other browsers (FireFox, Safari) do not work currently, as they cannot access the USB port that connects to the Phidget device.\n",
    "\n",
    "Reference code: https://www.phidgets.com/education/learn/getting-started-kit-tutorial/blink-led/\n",
    "Be sure to look at the JavaScript code."
   ]
  },
  {
   "cell_type": "markdown",
   "id": "b212dbee",
   "metadata": {},
   "source": [
    "The idea is to create a game using the push buttons and lights on the Phidgets Starter Kit. Some ideas include:\n",
    "- A speed test, where a light goes on at random and the code measures the time it takes the player to react by pushing the button.\n",
    "- A two-button speed test. The green or red light comes on at random, and the player must react by hitting the corresponding button. With the speed measured, as above\n",
    "- A pattern game. The lights flash in a random pattern (e.g. Red, Red, Green, Red, Green) and the player must repeat the pattern by pushing the button. \n",
    "- Or perhaps a \"prompt\" appears on the screen, and the player must push the corresponding button. Say, a picture randomly of an example of \"food\" or \"office supplies\" and the player must push \"Green\" for food, and \"Red\" for office supplies.\n",
    "\n",
    "Or think of your own game. \n",
    "\n",
    "A good place to start is the code in the notebook Phidget_6_buttons, which shows how to connect to the buttons and turn on and off the light. \n",
    "\n",
    "The basic code is repeated here. Can you modify it to make a game?\n",
    " "
   ]
  },
  {
   "cell_type": "markdown",
   "id": "514ac52a",
   "metadata": {},
   "source": [
    "## Setting up the Phidget device\n",
    "\n",
    "We will be using the Phidget Starter Kit, as shown in this figure:\n",
    "<img src=\"images/KIT4003.jpg\" alt=\"Image of the starter kit\"  width = 500 />\n",
    "\n",
    "Verify these points:\n",
    "- Get a hold of a Phidgets Starter Kit. It should already be assembled. If not, assemble it now.\n",
    "    - You will have received instructions with the kit on how to assemble it.\n",
    "- The Starter Kit has a two buttons and two switches connect. If it does not, find them and attach.\n",
    "    - We assume the red button is attached to port 0, and the red LED attached to port 1.\n",
    "    - We assume the green button is attached to port 5, and the green LED attached to port 4.\n",
    "    - if note, either change yoor wires or chage the \"setPortHub\" values in the code belwo. \n",
    "- Connect the Starter Kit to your computer with a USB cable. \n",
    "    - The Kit come with a USB cable, it is attached to the Hub device inside the Starter Kit.\n",
    "- If you have an older version of the Phidgets, you may need to update its firmware. See the following for details:\n",
    "    - https://www.phidgets.com/education/educators/advanced-troubleshooting/firmware-upgrade/\n",
    "- As mentioned above, make sure you are running this notebook in the Google Chrome browser. "
   ]
  },
  {
   "cell_type": "markdown",
   "id": "3514789c",
   "metadata": {},
   "source": [
    "## Setup the Phidget device\n",
    "\n",
    "As in the earlier notebooks, the main steps are thus:\n",
    "\n",
    "1. Load in some Python libraries\n",
    "2. Create the PhidgetsButtons class, using Javascript \n",
    "3. Display the PhidgetButtons widget\n",
    "4. Open the USB connection\n",
    "5. Control the Phidgets hardware from code\n",
    "6. Link the Phidgets to checkboxes\n",
    "7. Make a simple game \n",
    "8. When we are done, close the device"
   ]
  },
  {
   "cell_type": "markdown",
   "id": "a61e9e84",
   "metadata": {},
   "source": [
    "## Step 1.\n",
    "\n",
    "Let's import a few Python libraries that we need. \n",
    "\n",
    "The **anywidget** library is still in development, so we do a pip install if it is not already on the hub.  "
   ]
  },
  {
   "cell_type": "code",
   "execution_count": 1,
   "id": "39f6b124",
   "metadata": {},
   "outputs": [],
   "source": [
    "try:\n",
    "    import anywidget\n",
    "except:\n",
    "    !pip install --user \"anywidget[dev]\"\n",
    "    import anywidget"
   ]
  },
  {
   "cell_type": "markdown",
   "id": "69a0f9a2",
   "metadata": {},
   "source": [
    "## NOTE:\n",
    "\n",
    "If the **install** above gives an error message. try closing the notebook, shut down the kernel, then reopen the notebook. Run the cell again. After that, the libary will be properly installed."
   ]
  },
  {
   "cell_type": "code",
   "execution_count": 2,
   "id": "1d3ede7d",
   "metadata": {},
   "outputs": [],
   "source": [
    "import traitlets\n",
    "import threading\n",
    "import ipywidgets as widgets\n",
    "from time import sleep, perf_counter"
   ]
  },
  {
   "cell_type": "markdown",
   "id": "bf80a7b8",
   "metadata": {},
   "source": [
    "## Step 2.\n",
    "\n",
    "We create the PhidgetButtons2 class (software object) as an example of the **anywidget** models. It is based on the previous notebook, phidget_6_buttons.ipynb. However, we remove some of the buttons in the user interface, so it is better suited for games. \n",
    "\n",
    "The JS code for this tool is shown. Have a read, and feel free to experiment with it. "
   ]
  },
  {
   "cell_type": "code",
   "execution_count": 3,
   "id": "4cdf9d1c",
   "metadata": {},
   "outputs": [],
   "source": [
    "class PhidgetButtons2(anywidget.AnyWidget):\n",
    "    _esm = \"\"\"\n",
    "\n",
    "// Importing the functions we need for Phidgets\n",
    "  import {USBConnection, DigitalInput, DigitalOutput} from \"https://esm.sh/phidget22@3.17\";\n",
    "\n",
    "  export function render({ model, el }) {\n",
    "    \n",
    "    var connection = 0, inA = 0, inB = 0, outA = 0, outB = 0, connOpen = false;\n",
    "\n",
    "// Opening the USBconnection\n",
    "    async function openUSB() {\n",
    "        if (connection) {\n",
    "            try {await connection.close();} catch {}\n",
    "            try {await connection.delete();} catch {}\n",
    "        }\n",
    "        try {connection = new USBConnection();} \n",
    "            catch{console.log(\"This browser does not support WebUSB\");}\n",
    "\n",
    "     \ttry {\n",
    "                await connection.connect();\n",
    "                connection.requestWebUSBDeviceAccess();\n",
    "                connOpen = true;\n",
    "        } catch(err) {\n",
    "                connOpen = false;\n",
    "        }\n",
    "\n",
    "// Opening the digital inputs (for switched) and outputs (for LEDs)\n",
    "        inA = new DigitalInput();\n",
    "        inA.setHubPort(0);        \n",
    "        inA.setIsHubPortDevice(true);\n",
    "        inA.onStateChange = function(state) {\n",
    "            model.set('inAstate', state);\n",
    "            model.save_changes();\n",
    "         }\n",
    "\n",
    "        inB = new DigitalInput();\n",
    "        inB.setHubPort(5);        \n",
    "        inB.setIsHubPortDevice(true); \n",
    "        inB.onStateChange = function(state) {\n",
    "            model.set('inBstate', state);\n",
    "            model.save_changes();\n",
    "         }\n",
    "\n",
    "        outA = new DigitalOutput();\n",
    "        outA.setHubPort(1);        \n",
    "        outA.setIsHubPortDevice(true); \n",
    "\n",
    "        outB = new DigitalOutput();\n",
    "        outB.setHubPort(4);        \n",
    "        outB.setIsHubPortDevice(true);\n",
    "         \n",
    "        function outAchanged() {\n",
    "            var state = model.get('outAstate');\n",
    "            outA.setState(state);\n",
    "            model.set('outAstate', state);\n",
    "            model.save_changes();\n",
    "        }\n",
    "         \n",
    "        function outBchanged() {\n",
    "            var state = model.get('outBstate');\n",
    "            outB.setState(state);\n",
    "            model.set('outBstate', state);\n",
    "            model.save_changes();\n",
    "        }\n",
    "         \n",
    "        model.on(\"change:outAstate\", outAchanged);\n",
    "        model.on(\"change:outBstate\", outBchanged);\n",
    "\n",
    "\n",
    "// Here is the code to connect the devices\n",
    "     \ttry {\n",
    "                await inA.open(1000);\n",
    "                await inB.open(1000);\n",
    "                await outA.open(1000);\n",
    "                await outB.open(1000);\n",
    "                connOpen = true;\n",
    "        } catch(err) {\n",
    "                connOpen = false;\n",
    "        }\n",
    "       \n",
    "         // now get the UI to reflect the status\n",
    "        if (connOpen) {\n",
    "            textStatus.innerHTML = 'USB connected, channels open.  .';\n",
    "            button.innerHTML = `Click to disconnect`;\n",
    "        }\n",
    "        else {\n",
    "            textStatus.innerHTML = 'USB did not connect.  .';\n",
    "            button.innerHTML = `Click to connect`;        \n",
    "        }\n",
    "    };\n",
    "\n",
    "    async function closeUSB() {\n",
    "        try {await connection.close();} catch {}\n",
    "        try {await connection.delete();} catch {}\n",
    "        connOpen = false;\n",
    "        textStatus.innerHTML = 'Disconnected.  .';\n",
    "        button.innerHTML = `Click to connect`;\n",
    "    };\n",
    "    \n",
    "// The user interface, with one buttons and text \n",
    "    let button = document.createElement(\"button\");\n",
    "    button.classList.add(\"ph-button\");\n",
    "    button.innerHTML = `Click to open USB`;\n",
    "    button.addEventListener(\"click\", async () => {\n",
    "        if (connOpen) {closeUSB();} else {openUSB();}\n",
    "    });\n",
    "    let textStatus = document.createElement(\"label\");\n",
    "    textStatus.innerHTML = 'Status message here.  .';\n",
    "    \n",
    "// Now display the user interface\n",
    " \n",
    "    el.appendChild(button);\n",
    "    el.appendChild(textStatus);\n",
    "    \n",
    "// Clean up when the notebook is closed\n",
    "    return async () => {\n",
    "        try {await channel.close();} catch {}\n",
    "        try {await connection.close();} catch {}\n",
    "        try {await connection.delete();} catch {}\n",
    "    };\n",
    "  }\n",
    "    \"\"\"\n",
    "    _css = \"\"\"\n",
    "        .ph-button {color: white; \n",
    "            background-color:rgb(96, 107, 174); \n",
    "            border-radius: 8px; \n",
    "            font-size: 24px; \n",
    "            display: block;\n",
    "            padding: 15px 32px;}\n",
    "        .ph-button:hover { background-color:rgb(120, 128, 187); }\n",
    "    \"\"\"\n",
    "    inAstate = traitlets.Bool(False).tag(sync=True)\n",
    "    inBstate = traitlets.Bool(False).tag(sync=True)\n",
    "    outAstate = traitlets.Bool(False).tag(sync=True)\n",
    "    outBstate = traitlets.Bool(False).tag(sync=True)\n",
    "\n",
    "pb = PhidgetButtons2()"
   ]
  },
  {
   "cell_type": "markdown",
   "id": "597ac176",
   "metadata": {},
   "source": [
    "## Step 3.\n",
    "\n",
    "We now open and display the Phidget widget with its button and text. Run the following cell."
   ]
  },
  {
   "cell_type": "code",
   "execution_count": 4,
   "id": "e098cdf5",
   "metadata": {},
   "outputs": [
    {
     "data": {
      "application/vnd.jupyter.widget-view+json": {
       "model_id": "6f8b922e64144a97907c963f7d5f8c7f",
       "version_major": 2,
       "version_minor": 0
      },
      "text/plain": [
       "PhidgetButtons2()"
      ]
     },
     "metadata": {},
     "output_type": "display_data"
    }
   ],
   "source": [
    "display(pb)"
   ]
  },
  {
   "cell_type": "markdown",
   "id": "a970ba57",
   "metadata": {},
   "source": [
    "## Step 4. \n",
    "Clicking on the \"Connect\" button above will open a window that asks you to select the Phidget Hub. Select the hub and click \"Connect.\" The window looks like this:\n",
    "<img src=\"images/Pconnect.png\" alt=\"Hey\"  width = 300 />\n",
    "\n",
    "If you don't get this window, perhaps you are using the wrong browser. (Use Chrome, Chromium, or Opera).\n",
    "\n",
    "If you get the window but don't see the Phidget device, check to be sure the Phidget VINT hub is connected to your computer with a USB cable."
   ]
  },
  {
   "cell_type": "markdown",
   "id": "7618c31b",
   "metadata": {},
   "source": [
    "### Check:\n",
    "If all is well, the status text will report that the USB port is connected and the device channels are open. \n",
    "\n",
    "If you don't see this status, check again that the Phidget VINT device is connected to your computer with a USB cable. Also check that you have the LEDs and pushbottom cables connected to the correct ports, as per the setup instruction. \n",
    "\n",
    "- We assume the red button (inA) is attached to port 0, and the red LED (outA) attached to port 1.\n",
    "- We assume the green button (inB) is attached to port 5, and the green LED (outB) attached to port 4.\n",
    "\n",
    "If these are different on your device, you will need to change these numbers in the JS code above to match the ports on the VINT USB hub. \n",
    "\n",
    "You won't see any buttons about the LEDs or buttons. Instead, we use Python code to control these hardware devices. "
   ]
  },
  {
   "cell_type": "markdown",
   "id": "6e6aa2b5",
   "metadata": {},
   "source": [
    "## Step 5.\n",
    "\n",
    "We control the hardware directly with code. Try running the following cells and observe the action.s"
   ]
  },
  {
   "cell_type": "code",
   "execution_count": 5,
   "id": "4194dbcb",
   "metadata": {},
   "outputs": [],
   "source": [
    "# This will turn on the Red LED\n",
    "pb.outAstate = True"
   ]
  },
  {
   "cell_type": "code",
   "execution_count": 6,
   "id": "73bcaa01",
   "metadata": {},
   "outputs": [],
   "source": [
    "# This will turn off the Red LED\n",
    "pb.outAstate = False"
   ]
  },
  {
   "cell_type": "code",
   "execution_count": 7,
   "id": "c7a3b4f8",
   "metadata": {},
   "outputs": [],
   "source": [
    "# This will turn on the Green LED\n",
    "pb.outBstate = True"
   ]
  },
  {
   "cell_type": "code",
   "execution_count": 8,
   "id": "2c5e8c22",
   "metadata": {},
   "outputs": [],
   "source": [
    "# This will turn off the Green LED\n",
    "pb.outBstate = False"
   ]
  },
  {
   "cell_type": "code",
   "execution_count": 9,
   "id": "165105ce",
   "metadata": {},
   "outputs": [
    {
     "data": {
      "text/plain": [
       "False"
      ]
     },
     "execution_count": 9,
     "metadata": {},
     "output_type": "execute_result"
    }
   ],
   "source": [
    "## This will show the state of the Red button. It usually is false\n",
    "pb.inAstate"
   ]
  },
  {
   "cell_type": "code",
   "execution_count": 10,
   "id": "9f5bc458",
   "metadata": {},
   "outputs": [
    {
     "data": {
      "text/plain": [
       "False"
      ]
     },
     "execution_count": 10,
     "metadata": {},
     "output_type": "execute_result"
    }
   ],
   "source": [
    "## Try holding down the Red button, and then run this cell. It will read True\n",
    "pb.inAstate"
   ]
  },
  {
   "cell_type": "markdown",
   "id": "bc436c7c",
   "metadata": {},
   "source": [
    "## Step 6. Linking the phidgets to widgets\n",
    "\n",
    "We can add some check boxes to monitor the hardware. "
   ]
  },
  {
   "cell_type": "code",
   "execution_count": 11,
   "id": "3e005ede",
   "metadata": {},
   "outputs": [],
   "source": [
    "checkinA = widgets.Checkbox(\n",
    "    value=False,\n",
    "    description='Button A',\n",
    "    disabled=False\n",
    ")\n",
    "checkinB = widgets.Checkbox(\n",
    "    value=False,\n",
    "    description='Button B',\n",
    "    disabled=False\n",
    ")\n",
    "checkoutA = widgets.Checkbox(\n",
    "    value=False,\n",
    "    description='LED A',\n",
    "    disabled=False\n",
    ")\n",
    "checkoutB = widgets.Checkbox(\n",
    "    value=False,\n",
    "    description='LED B',\n",
    "    disabled=False\n",
    ")\n",
    "\n",
    "linkoutA=widgets.link((checkoutA,'value'),(pb,'outAstate'))\n",
    "linkoutB=widgets.link((checkoutB,'value'),(pb,'outBstate'))\n",
    "linkinA=widgets.link((checkinA,'value'),(pb,'inAstate'))\n",
    "linkinB=widgets.link((checkinB,'value'),(pb,'inBstate'))"
   ]
  },
  {
   "cell_type": "code",
   "execution_count": 12,
   "id": "85ffbe4e",
   "metadata": {},
   "outputs": [
    {
     "data": {
      "application/vnd.jupyter.widget-view+json": {
       "model_id": "2194c105668d43a4acbf00191c670778",
       "version_major": 2,
       "version_minor": 0
      },
      "text/plain": [
       "Checkbox(value=False, description='Button A')"
      ]
     },
     "metadata": {},
     "output_type": "display_data"
    },
    {
     "data": {
      "application/vnd.jupyter.widget-view+json": {
       "model_id": "1d67f946fc8b4548bf4c7f14b1bc80a1",
       "version_major": 2,
       "version_minor": 0
      },
      "text/plain": [
       "Checkbox(value=False, description='Button B')"
      ]
     },
     "metadata": {},
     "output_type": "display_data"
    },
    {
     "data": {
      "application/vnd.jupyter.widget-view+json": {
       "model_id": "6d4be8411c95400f8e73f4f7d61d1a17",
       "version_major": 2,
       "version_minor": 0
      },
      "text/plain": [
       "Checkbox(value=False, description='LED A')"
      ]
     },
     "metadata": {},
     "output_type": "display_data"
    },
    {
     "data": {
      "application/vnd.jupyter.widget-view+json": {
       "model_id": "806991e35b3147e5a613e79f01b9343d",
       "version_major": 2,
       "version_minor": 0
      },
      "text/plain": [
       "Checkbox(value=False, description='LED B')"
      ]
     },
     "metadata": {},
     "output_type": "display_data"
    }
   ],
   "source": [
    "display(checkinA,checkinB,checkoutA,checkoutB)"
   ]
  },
  {
   "cell_type": "markdown",
   "id": "6e28f4e6",
   "metadata": {},
   "source": [
    "### Check.\n",
    "\n",
    "Push the buttons on the Phidget hardware, and the above checkboxs will active.\n",
    "\n",
    "Click on the checkboxes for the LEDs, and the physical LED on the Phidget hardware will light up."
   ]
  },
  {
   "cell_type": "markdown",
   "id": "eb932723",
   "metadata": {},
   "source": [
    "## Step 7. Let's try a game.\n",
    "\n",
    "Let's create game to test  how quickly you can push the button, when the light comes on.\n",
    "\n",
    "Here is the basic idea for the code:\n",
    "- time variables t_start and t_end will record when the LED goes on, and when you push the button\n",
    "- the different (t_end - t_start) tells how long you took. It is displayed in a \"text\" widget\n",
    "- the game starts by making sure the LED is out, waits 3 seconds, then turns the LED on\n",
    "- the game waits up to 3 seconds to see your response. \n",
    "- when you push the button, the end time t_end is saved using the function get_time\n",
    "- the game then ends, and displays your time.\n",
    "\n",
    "Here is the Python code."
   ]
  },
  {
   "cell_type": "code",
   "execution_count": 13,
   "id": "76d0be44",
   "metadata": {},
   "outputs": [
    {
     "data": {
      "application/vnd.jupyter.widget-view+json": {
       "model_id": "d52fb6b504ac4ed4a90295e61e2687a2",
       "version_major": 2,
       "version_minor": 0
      },
      "text/plain": [
       "Text(value='0.000 seconds', description='Speed:')"
      ]
     },
     "execution_count": 13,
     "metadata": {},
     "output_type": "execute_result"
    }
   ],
   "source": [
    "t_start = 0\n",
    "t_end = 0\n",
    "\n",
    "def get_time(change):\n",
    "    global t_end\n",
    "    if change.new:\n",
    "        t_end = perf_counter()\n",
    "\n",
    "pb.observe(get_time, names=[\"inAstate\"])\n",
    "\n",
    "def run_game():\n",
    "    global t_start,t_end\n",
    "    pb.outAstate = False\n",
    "    sleep(3)\n",
    "    t_start = perf_counter()\n",
    "    pb.outAstate = True\n",
    "    sleep(3)\n",
    "    pb.outAstate = False\n",
    "    text.value = f'{(t_end-t_start):.3f} seconds'\n",
    "    \n",
    "text = widgets.Text(\n",
    "    value='0.000 seconds',\n",
    "    description='Speed:',\n",
    "    disabled=False   \n",
    ")\n",
    "text"
   ]
  },
  {
   "cell_type": "markdown",
   "id": "d20ffc4e",
   "metadata": {},
   "source": [
    "## Run it\n",
    "\n",
    "We run the code in a thread, to make sure the Phidgets and code work together properly."
   ]
  },
  {
   "cell_type": "code",
   "execution_count": 15,
   "id": "12f0cdd2",
   "metadata": {},
   "outputs": [],
   "source": [
    "thread = threading.Thread(target=run_game)\n",
    "\n",
    "thread.start()"
   ]
  },
  {
   "cell_type": "markdown",
   "id": "c4e64719",
   "metadata": {},
   "source": [
    "### Check\n",
    "\n",
    "How did it go? Did you get a time? Run the thread above (previous cell) to try the game again. \n",
    "\n",
    "What's your best time?"
   ]
  },
  {
   "cell_type": "markdown",
   "id": "cbb331d0",
   "metadata": {},
   "source": [
    "## Now try your own\n",
    "\n",
    "Can you build on this example game? Put in a random delay? Have the two LEDs light up at random? Have a pattern of lights that must be matched on the buttons? Get creative?"
   ]
  },
  {
   "cell_type": "markdown",
   "id": "19953aa6",
   "metadata": {},
   "source": [
    "## Step 8. Closing up\n",
    "\n",
    "When you are all done, you should close up the Phidget hardware . Click the button to disconnect, or just close this notebook."
   ]
  },
  {
   "cell_type": "markdown",
   "id": "4438ea8e",
   "metadata": {},
   "source": [
    "## And that's it. \n",
    "\n",
    "That was a simple game. Can you build on this idea?\n",
    "\n",
    "\n",
    "Good luck!"
   ]
  },
  {
   "cell_type": "markdown",
   "id": "4871334f",
   "metadata": {},
   "source": [
    "[![Callysto.ca License](https://github.com/callysto/curriculum-notebooks/blob/master/callysto-notebook-banner-bottom.jpg?raw=true)](https://github.com/callysto/curriculum-notebooks/blob/master/LICENSE.md)"
   ]
  }
 ],
 "metadata": {
  "kernelspec": {
   "display_name": "Python 3 (ipykernel)",
   "language": "python",
   "name": "python3"
  },
  "language_info": {
   "codemirror_mode": {
    "name": "ipython",
    "version": 3
   },
   "file_extension": ".py",
   "mimetype": "text/x-python",
   "name": "python",
   "nbconvert_exporter": "python",
   "pygments_lexer": "ipython3",
   "version": "3.11.6"
  }
 },
 "nbformat": 4,
 "nbformat_minor": 5
}
