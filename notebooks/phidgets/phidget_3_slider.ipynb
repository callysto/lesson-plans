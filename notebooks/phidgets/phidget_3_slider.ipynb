{
 "cells": [
  {
   "cell_type": "markdown",
   "id": "a954153d",
   "metadata": {},
   "source": [
    "![Callysto.ca Banner](https://github.com/callysto/curriculum-notebooks/blob/master/callysto-notebook-banner-top.jpg?raw=true)\n",
    "\n"
   ]
  },
  {
   "cell_type": "markdown",
   "id": "f10f5b13",
   "metadata": {},
   "source": [
    "## Phidget_3 Slider\n",
    "\n",
    "In this notebook, we use a simple slider widget to display the humidity, live as the values change.\n",
    "\n",
    "You will also have the chance to create your own widget to display temperaure.\n",
    "\n",
    "<h2 style=\"color: red\">IMPORTANT</h2>\n",
    "You MUST click the <span style=\"color:red\">BIG, RED DISCONNECT BUTTON</span> at the end of this notebook when you are done. This tells the software to release the Phidget device, so it can be used by other notebooks you might try later."
   ]
  },
  {
   "cell_type": "markdown",
   "id": "ab1a57f3",
   "metadata": {},
   "source": [
    "## Setting up the Phidget device\n",
    "\n",
    "We will be using the Phidget Starter Kit, as shown in this figure:\n",
    "<img src=\"images/KIT4003.jpg\" alt=\"Image of the starter kit\"  width = 500 />\n",
    "\n",
    "Verify these points:\n",
    "- Get a hold of a Phidgets Starter Kit. It should already be assembled. If not, assemble it now.\n",
    "    - You will have received instructions with the kit on how to assemble it.\n",
    "- The Starter Kit has a humidty sensor attached. If it does not, find the sensor and attach it.\n",
    "    - The humidty senor is a small black box attached with a thin cable. It is marked with the initials \"HUM.\"\n",
    "- Connect the Starter Kit to your computer with a USB cable. \n",
    "    - The Kit come with a USB cable, it is attached to the Hub device inside the Starter Kit.\n",
    "- If you have an older version of the Phidgets, you may need to update its firmware. See the following for details:\n",
    "    - https://www.phidgets.com/education/educators/advanced-troubleshooting/firmware-upgrade/\n",
    "- As mentioned earlier, make sure you are running this notebook in the Google Chrome browser. "
   ]
  },
  {
   "cell_type": "markdown",
   "id": "78948ba1",
   "metadata": {},
   "source": [
    "## Creating a widget\n",
    "\n",
    "The **ipywidgets** module contain several interactive \"objects\" like slider, buttons, and more, that we can use to interact with the Jupyter notebook. They are \"alive\" in the sense that the get updated automatically when their values are changed by some other process, like our Phidgets code in JavaScript. \n",
    "\n",
    "So we create here a slider, using floating point values, to display the Humidity. \n",
    "\n",
    "The slider is stored in a variable we call **f** and we can show it with the command **display(f)**.\n",
    "\n",
    "Of course, this is the data structure we say above in the JavaScript code, so that code talks to this displayed slider. \n",
    "\n"
   ]
  },
  {
   "cell_type": "code",
   "execution_count": 1,
   "id": "e71775a6",
   "metadata": {},
   "outputs": [
    {
     "data": {
      "application/vnd.jupyter.widget-view+json": {
       "model_id": "c826f238c6e440709af5bba8bced63c4",
       "version_major": 2,
       "version_minor": 0
      },
      "text/plain": [
       "FloatSlider(value=50.0, continuous_update=False, description='% Humidity ', max=80.0, min=30.0, orientation='v…"
      ]
     },
     "metadata": {},
     "output_type": "display_data"
    }
   ],
   "source": [
    "from ipywidgets import FloatSlider\n",
    "f = FloatSlider(\n",
    "    value=50.0,\n",
    "    min=30.0,\n",
    "    max=80.0,\n",
    "    step=0.1,\n",
    "    description='% Humidity ',\n",
    "    disabled=False,\n",
    "    continuous_update=False,\n",
    "    orientation='vertical',\n",
    "    readout=True,\n",
    "    readout_format='.2f',\n",
    ")\n",
    "\n",
    "f"
   ]
  },
  {
   "cell_type": "markdown",
   "id": "a98b0940",
   "metadata": {},
   "source": [
    "## What you should see\n",
    "\n",
    "Just above, you should see a vertical slider titled **% Humidity** and a read-out beneath it showing the value of the humidity. The read-out number will be fized at 50. Once we connect the Phidget, it should be changing as you watch it .\n",
    "\n",
    "Once connected, try breathing on the humidity sensor in your Phidget box, to see if you can make the numbers change."
   ]
  },
  {
   "cell_type": "markdown",
   "id": "b2a833b9",
   "metadata": {},
   "source": [
    "## Your turn\n",
    "\n",
    "Now you can try to create a temperature gauge.\n",
    "\n",
    "Use the example above, and create a FloatSlider and assign it to a new variable called **g**. This is the variable that the JavaScript refers to, in order to record the temperature values."
   ]
  },
  {
   "cell_type": "code",
   "execution_count": 2,
   "id": "e80fed18",
   "metadata": {},
   "outputs": [],
   "source": [
    "## Put your code here. It should start with something like\n",
    "## g = FloatSlider(\n",
    "\n",
    "\n"
   ]
  },
  {
   "cell_type": "markdown",
   "id": "0aad94cc",
   "metadata": {},
   "source": [
    "## Setup the Phidget device\n",
    "\n",
    "As in the earlier notebooks, the main steps are thus:\n",
    "\n",
    "0. Import some Python libraries\n",
    "1. Import the Phidget library, in Javascript\n",
    "2. Define and open the USB connection\n",
    "3. Open the Humidity and Temperature devices\n",
    "4. Read some values from the devices\n",
    "5. When we are done, close the devices and USB connection\n",
    "\n",
    "\n",
    "One chenge though is in Step 3, where we add some come that will communicate with Python. It looks like this:\n",
    "```\n",
    "    IPython.notebook.kernel.execute(\"f.value = \" + humidity );  \n",
    "and\n",
    "    IPython.notebook.kernel.execute(\"g.value = \" + temperature );  \n",
    "\n",
    "```\n",
    "\n",
    "These lines communicate with our Python code and update the values in data structures **f** anf **g**.\n",
    "\n",
    "Step 5 then becomes \"live\" automatically. \n",
    "\n",
    "So run the following JS code, and connect your Phidget."
   ]
  },
  {
   "cell_type": "markdown",
   "id": "7ed671fb",
   "metadata": {},
   "source": [
    "## Connecting the Phidget to the slide displays"
   ]
  },
  {
   "cell_type": "markdown",
   "id": "9546d255",
   "metadata": {},
   "source": [
    "## Step 0.\n",
    "Let's import a few Python libraries that we need. "
   ]
  },
  {
   "cell_type": "code",
   "execution_count": 3,
   "id": "06b3a262",
   "metadata": {},
   "outputs": [],
   "source": [
    "import ipywidgets as widgets\n",
    "from IPython.display import Javascript, display\n",
    "from time import sleep"
   ]
  },
  {
   "cell_type": "markdown",
   "id": "99d428ab",
   "metadata": {},
   "source": [
    "## Step 1.\n",
    "Import the Phidgets library, in Javascript"
   ]
  },
  {
   "cell_type": "code",
   "execution_count": 4,
   "id": "c3324f98",
   "metadata": {},
   "outputs": [
    {
     "data": {
      "application/javascript": [
       "requirejs.config({\n",
       "    paths: { \n",
       "        'phidget22': ['https://unpkg.com/phidget22/browser/phidget22'], \n",
       "    },                                         \n",
       "});\n",
       "require(['phidget22'], (phidget22) => {\n",
       "   window.phidget22 = phidget22; \n",
       "});\n"
      ],
      "text/plain": [
       "<IPython.core.display.Javascript object>"
      ]
     },
     "metadata": {},
     "output_type": "display_data"
    }
   ],
   "source": [
    "%%js\n",
    "requirejs.config({\n",
    "    paths: { \n",
    "        'phidget22': ['https://unpkg.com/phidget22/browser/phidget22'], \n",
    "    },                                         \n",
    "});\n",
    "require(['phidget22'], (phidget22) => {\n",
    "   window.phidget22 = phidget22; \n",
    "});"
   ]
  },
  {
   "cell_type": "code",
   "execution_count": 5,
   "id": "c06169b2",
   "metadata": {},
   "outputs": [],
   "source": [
    "## We pause for a second here, to allow the library to load\n",
    "sleep(1)"
   ]
  },
  {
   "cell_type": "markdown",
   "id": "a1ff0472",
   "metadata": {},
   "source": [
    "## Step 2.\n",
    "Open the USB connection. "
   ]
  },
  {
   "cell_type": "code",
   "execution_count": 6,
   "id": "22fed6a5",
   "metadata": {},
   "outputs": [
    {
     "data": {
      "application/javascript": [
       "\n",
       "if (window.usbconn === undefined) {\n",
       "    \n",
       "    element.text(\"Creating a new USB Connection.\");\n",
       "    \n",
       "    window.usbconn = new phidget22.USBConnection();\n",
       "    \n",
       "    usbconn.connect().then(() => {\n",
       "        usbconn.requestWebUSBDeviceAccess();\n",
       "    }).catch(err => {\n",
       "        window.usbconn.delete();\n",
       "        element.append(\"Error connecting to USB\" + err);\n",
       "    });\n",
       "}\n"
      ],
      "text/plain": [
       "<IPython.core.display.Javascript object>"
      ]
     },
     "metadata": {},
     "output_type": "display_data"
    }
   ],
   "source": [
    "%%js\n",
    "\n",
    "if (window.usbconn === undefined) {\n",
    "    \n",
    "    element.text(\"Creating a new USB Connection.\");\n",
    "    \n",
    "    window.usbconn = new phidget22.USBConnection();\n",
    "    \n",
    "    usbconn.connect().then(() => {\n",
    "        usbconn.requestWebUSBDeviceAccess();\n",
    "    }).catch(err => {\n",
    "        window.usbconn.delete();\n",
    "        element.append(\"Error connecting to USB\" + err);\n",
    "    });\n",
    "}"
   ]
  },
  {
   "cell_type": "code",
   "execution_count": 7,
   "id": "67e4b816",
   "metadata": {},
   "outputs": [],
   "source": [
    "## We rest for a bit while the USB connection opens\n",
    "sleep(1)"
   ]
  },
  {
   "cell_type": "markdown",
   "id": "ffc16fe4",
   "metadata": {},
   "source": [
    "## Step 3.  \n",
    "\n",
    "Open the Humidity device and Temperature devices and connect to the slider. "
   ]
  },
  {
   "cell_type": "code",
   "execution_count": 8,
   "id": "d7c7fd47",
   "metadata": {},
   "outputs": [
    {
     "data": {
      "application/javascript": [
       "window.humSensor = new phidget22.HumiditySensor();\n",
       "humSensor.onHumidityChange = function (humidity) {\n",
       "    IPython.notebook.kernel.execute(\"f.value = \" + humidity);  \n",
       "};\n",
       "humSensor.open();\n",
       "\n",
       "window.tempSensor = new phidget22.TemperatureSensor();\n",
       "tempSensor.onTemperatureChange = function (temperature) {\n",
       "    IPython.notebook.kernel.execute(\"g.value = \" + temperature);  \n",
       "};\n",
       "tempSensor.open();\n"
      ],
      "text/plain": [
       "<IPython.core.display.Javascript object>"
      ]
     },
     "metadata": {},
     "output_type": "display_data"
    }
   ],
   "source": [
    "%%js\n",
    "window.humSensor = new phidget22.HumiditySensor();\n",
    "humSensor.onHumidityChange = function (humidity) {\n",
    "    IPython.notebook.kernel.execute(\"f.value = \" + humidity);  \n",
    "};\n",
    "humSensor.open();\n",
    "\n",
    "window.tempSensor = new phidget22.TemperatureSensor();\n",
    "tempSensor.onTemperatureChange = function (temperature) {\n",
    "    IPython.notebook.kernel.execute(\"g.value = \" + temperature);  \n",
    "};\n",
    "tempSensor.open();"
   ]
  },
  {
   "cell_type": "code",
   "execution_count": 9,
   "id": "6d3d44ba",
   "metadata": {},
   "outputs": [],
   "source": [
    "## We rest for a bit while the devices connect.\n",
    "sleep(1)"
   ]
  },
  {
   "cell_type": "markdown",
   "id": "3a1ef368",
   "metadata": {},
   "source": [
    "### Check\n",
    "\n",
    "Let's check that the sensors were opened, by running the following code. \n",
    "\n",
    "If you get a \"false,\" try running the cells above again. "
   ]
  },
  {
   "cell_type": "code",
   "execution_count": 10,
   "id": "bbbb2c4c",
   "metadata": {},
   "outputs": [
    {
     "data": {
      "application/javascript": [
       "element.text(\"Is the humidity sensor attached? \" + humSensor.attached);\n",
       "element.append(\"<p> Is the temperature sensor open? \" + tempSensor.attached);\n"
      ],
      "text/plain": [
       "<IPython.core.display.Javascript object>"
      ]
     },
     "metadata": {},
     "output_type": "display_data"
    }
   ],
   "source": [
    "%%js\n",
    "element.text(\"Is the humidity sensor attached? \" + humSensor.attached);\n",
    "element.append(\"<p> Is the temperature sensor open? \" + tempSensor.attached);"
   ]
  },
  {
   "cell_type": "markdown",
   "id": "069c1921",
   "metadata": {},
   "source": [
    "## Step 4.\n",
    "\n",
    "Check now that the sliders defined above are actually showing the humidity and temperature values. \n",
    "\n",
    "This is because the JavaScript is now running live. Any time a value changes, it pushes the new value to the slider. This is the results of the code in \"onHumidityChange\" and \"onTemperatureChange\"\n"
   ]
  },
  {
   "cell_type": "markdown",
   "id": "9dbd06f3",
   "metadata": {},
   "source": [
    "## Putting it all together\n",
    "\n",
    "We can put the two sliders together in one box, so we see how the humidity and temperature values change together. "
   ]
  },
  {
   "cell_type": "code",
   "execution_count": 11,
   "id": "3a749836",
   "metadata": {},
   "outputs": [
    {
     "data": {
      "application/vnd.jupyter.widget-view+json": {
       "model_id": "e700ad8ade4d4cf09788554b3d69298a",
       "version_major": 2,
       "version_minor": 0
      },
      "text/plain": [
       "HBox(children=(FloatSlider(value=50.0, continuous_update=False, description='Humidity ', max=80.0, min=30.0, o…"
      ]
     },
     "metadata": {},
     "output_type": "display_data"
    }
   ],
   "source": [
    "from ipywidgets import FloatSlider, HBox\n",
    "\n",
    "f = FloatSlider(\n",
    "    value=50.0,\n",
    "    min=30.0,\n",
    "    max=80.0,\n",
    "    step=0.1,\n",
    "    description='Humidity ',\n",
    "    disabled=False,\n",
    "    continuous_update=False,\n",
    "    orientation='vertical',\n",
    "    readout=True,\n",
    "    readout_format='.2f',\n",
    ")\n",
    "g = FloatSlider(\n",
    "    value=20.0,\n",
    "    min=10.0,\n",
    "    max=30.0,\n",
    "    step=0.1,\n",
    "    description='Temperature',\n",
    "    disabled=False,\n",
    "    continuous_update=False,\n",
    "    orientation='vertical',\n",
    "    readout=True,\n",
    "    readout_format='.2f',\n",
    ")\n",
    "\n",
    "h = HBox([f, g])\n",
    "display(h)"
   ]
  },
  {
   "cell_type": "markdown",
   "id": "4a0c2203",
   "metadata": {},
   "source": [
    "## Step 5. \n",
    "\n",
    "Closing down the sensors\n",
    "\n",
    "It is **really importnat** to close the sensor now, as otherwise they will keep busy forever, always trying to update the sliders with the latest values. So, don't skip this next step.\n",
    "\n",
    "The following cell creates a button that you can click to close the Phidgets. Click it once you are all done with the Phidgets in this notebook. "
   ]
  },
  {
   "cell_type": "code",
   "execution_count": 12,
   "id": "6e22d976",
   "metadata": {},
   "outputs": [
    {
     "name": "stdout",
     "output_type": "stream",
     "text": [
      "Press this button when you are done, to disconnect the Phidgets\n"
     ]
    },
    {
     "data": {
      "application/vnd.jupyter.widget-view+json": {
       "model_id": "13a432baaf6d40a286b1024d44322df5",
       "version_major": 2,
       "version_minor": 0
      },
      "text/plain": [
       "Button(button_style='danger', description='IMPORTANT: Click to disconnect', layout=Layout(height='80px', width…"
      ]
     },
     "metadata": {},
     "output_type": "display_data"
    },
    {
     "data": {
      "application/javascript": [
       "\n",
       "        (async () => {\n",
       "            await humSensor.close();\n",
       "            await tempSensor.close();\n",
       "            usbconn.close();\n",
       "            usbconn.delete();\n",
       "            delete window.usbconn;\n",
       "            element.text(\"You have disconnected the Phidgets.\");\n",
       "        })();\n",
       "    "
      ],
      "text/plain": [
       "<IPython.core.display.Javascript object>"
      ]
     },
     "metadata": {},
     "output_type": "display_data"
    }
   ],
   "source": [
    "def doDisconnect(b):\n",
    "    display(Javascript(\"\"\"\n",
    "        (async () => {\n",
    "            await humSensor.close();\n",
    "            await tempSensor.close();\n",
    "            usbconn.close();\n",
    "            usbconn.delete();\n",
    "            delete window.usbconn;\n",
    "            element.text(\"You have disconnected the Phidgets.\");\n",
    "        })();\n",
    "    \"\"\"))\n",
    "\n",
    "run_button = widgets.Button(\n",
    "    description = 'IMPORTANT: Click to disconnect', \n",
    "        button_style='danger',layout=widgets.Layout(width='50%', height='80px')\n",
    ")\n",
    "print(\"Press this button when you are done, to disconnect the Phidgets\")\n",
    "run_button.on_click(doDisconnect)\n",
    "\n",
    "display(run_button)"
   ]
  },
  {
   "cell_type": "markdown",
   "id": "0422ee02",
   "metadata": {},
   "source": [
    "### Confirm\n",
    "\n",
    "You can confirm the phidget is open or closed by running the following cell. \n",
    "\n",
    "If it is open (true), try clicking the button above, again."
   ]
  },
  {
   "cell_type": "code",
   "execution_count": 13,
   "id": "169c79ff",
   "metadata": {},
   "outputs": [
    {
     "data": {
      "application/javascript": [
       "element.text(\"Is the humidity sensor attached? \" + humSensor.attached);\n",
       "element.append(\"<p> Is the temperature sensor attached? \" + tempSensor.attached);\n"
      ],
      "text/plain": [
       "<IPython.core.display.Javascript object>"
      ]
     },
     "metadata": {},
     "output_type": "display_data"
    }
   ],
   "source": [
    "%%js\n",
    "element.text(\"Is the humidity sensor attached? \" + humSensor.attached);\n",
    "element.append(\"<p> Is the temperature sensor attached? \" + tempSensor.attached);"
   ]
  },
  {
   "cell_type": "markdown",
   "id": "96ee6ba5",
   "metadata": {},
   "source": [
    "## Conclusion\n",
    "\n",
    "We have shown how to display the temperature and humidity values from the Phidget device using a live widget from the ipywidgets library. "
   ]
  },
  {
   "cell_type": "markdown",
   "id": "ba7ee230",
   "metadata": {},
   "source": [
    "[![Callysto.ca License](https://github.com/callysto/curriculum-notebooks/blob/master/callysto-notebook-banner-bottom.jpg?raw=true)](https://github.com/callysto/curriculum-notebooks/blob/master/LICENSE.md)"
   ]
  }
 ],
 "metadata": {
  "kernelspec": {
   "display_name": "Python 3 (ipykernel)",
   "language": "python",
   "name": "python3"
  },
  "language_info": {
   "codemirror_mode": {
    "name": "ipython",
    "version": 3
   },
   "file_extension": ".py",
   "mimetype": "text/x-python",
   "name": "python",
   "nbconvert_exporter": "python",
   "pygments_lexer": "ipython3",
   "version": "3.10.8"
  }
 },
 "nbformat": 4,
 "nbformat_minor": 5
}
