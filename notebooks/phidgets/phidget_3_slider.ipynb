{
 "cells": [
  {
   "cell_type": "markdown",
   "id": "a954153d",
   "metadata": {},
   "source": [
    "![Callysto.ca Banner](https://github.com/callysto/curriculum-notebooks/blob/master/callysto-notebook-banner-top.jpg?raw=true)\n",
    "\n"
   ]
  },
  {
   "cell_type": "markdown",
   "id": "f10f5b13",
   "metadata": {},
   "source": [
    "## Phidget_3 Slider\n",
    "\n",
    "In this notebook, we use a simple slider widget to display the humidity, updating live as the values change.\n",
    "\n",
    "You will also have the chance to create your own widget to display temperaure.\n",
    "\n",
    "It is important to run this notebook in the Google Chrome web browser, on a desktop or laptop computer. It also will work with Chromium, Opera and Edge. Unfortunately, other browsers (FireFox, Safari) will not work as they cannot access the USB port that connects to the Phidget device. That may change in the future, but at the time of writing, this is currently only possible in Chrome/Chromium/Opera/Edge."
   ]
  },
  {
   "cell_type": "markdown",
   "id": "ab1a57f3",
   "metadata": {},
   "source": [
    "## Setting up the Phidget device\n",
    "\n",
    "We will be using the Phidget Starter Kit, as shown in this figure:\n",
    "<img src=\"images/KIT4003.jpg\" alt=\"Image of the starter kit\"  width = 500 />\n",
    "\n",
    "Verify these points:\n",
    "- Get a hold of a Phidgets Starter Kit. It should already be assembled. If not, assemble it now.\n",
    "    - You will have received instructions with the kit on how to assemble it.\n",
    "- The Starter Kit has a temperature/humidity sensor attached. If it does not, find the sensor and attach it.\n",
    "    - The humidity sensor is a small black box attached with a thin cable. It is marked with the initials \"HUM.\"\n",
    "- Connect the Starter Kit to your computer with a USB cable. \n",
    "    - The Kit come with a USB cable, it is attached to the Hub device inside the Starter Kit.\n",
    "- If you have an older version of the Phidgets, you may need to update its firmware. See the following for details:\n",
    "    - https://www.phidgets.com/education/educators/advanced-troubleshooting/firmware-upgrade/\n",
    "- As mentioned earlier, make sure you are running this notebook in the Google Chrome browser. "
   ]
  },
  {
   "cell_type": "markdown",
   "id": "78948ba1",
   "metadata": {},
   "source": [
    "## Creating a widget\n",
    "\n",
    "The **ipywidgets** module contain several interactive \"objects\" like sliders, buttons, and more, that we can use to interact with the Jupyter notebook. They are \"live\" in the sense that the get updated automatically when their values are changed by some other process, like our Phidgets code in JavaScript. \n",
    "\n",
    "So we create here a slider, using floating point values, to display the humidity. \n",
    "\n",
    "The slider is stored in a variable we call **f** and we can show it with the command **display(f)**.\n",
    "\n",
    "Of course, this is the data structure we say above in the JavaScript code, so that code talks to this displayed slider. \n",
    "\n"
   ]
  },
  {
   "cell_type": "code",
   "execution_count": null,
   "id": "e71775a6",
   "metadata": {},
   "outputs": [],
   "source": [
    "from ipywidgets import FloatSlider, link\n",
    "\n",
    "f = FloatSlider(\n",
    "    value=50.0,\n",
    "    min=0.0,\n",
    "    max=80.0,\n",
    "    description='Humidity '\n",
    ")\n",
    "\n",
    "display(f)"
   ]
  },
  {
   "cell_type": "markdown",
   "id": "a98b0940",
   "metadata": {},
   "source": [
    "## What you should see\n",
    "\n",
    "Just above, you should see a slider titled **% Humidity** and a read-out  it showing the value of the humidity. The read-out number will be fixed at 50. Once we connect the Phidget, it should be changing as you watch it .\n",
    "\n",
    "Depending on where you live, and the humidity at that location, the number can vary wildly. If you want to narrow the range of possible values, feel free to modify the `min` and `max` values in the code above. Return to this after the next steps for a better idea of where to set that range.\n",
    "\n",
    "Once connected, try breathing on the humidity sensor in your Phidget box, to see if you can make the numbers change."
   ]
  },
  {
   "cell_type": "markdown",
   "id": "b2a833b9",
   "metadata": {},
   "source": [
    "## Your turn\n",
    "\n",
    "Now you can try to create a temperature gauge.\n",
    "\n",
    "Use the example above, and create a FloatSlider and assign it to a new variable called **g**. This is the variable that the JavaScript refers to, in order to record the temperature values. Hint: it's normal, expected even, to copy and paste your code from earlier if you're reusing it."
   ]
  },
  {
   "cell_type": "code",
   "execution_count": null,
   "id": "e80fed18",
   "metadata": {},
   "outputs": [],
   "source": [
    "## Put your code here. It should start with something like\n",
    "## g = FloatSlider(\n",
    "\n",
    "\n"
   ]
  },
  {
   "cell_type": "markdown",
   "id": "0aad94cc",
   "metadata": {},
   "source": [
    "## Setup the Phidget software\n",
    "\n",
    "As in the earlier notebooks, the main steps are thus:\n",
    "\n",
    "1. Import some Python libraries\n",
    "2. Create the Phidget Widget as a software object to connect to the devices\n",
    "3. Display the widget and the slider\n",
    "4. Connect by pressing a button on screen\n",
    "5. Link the Phidget data to the slider, for live updates\n",
    "6. Create sliders to monitor both temperature and humidity\n",
    "\n"
   ]
  },
  {
   "cell_type": "markdown",
   "id": "9546d255",
   "metadata": {},
   "source": [
    "## Step 1.\n",
    "\n",
    "Let's import a few Python libraries that we need. \n",
    "\n",
    "The **anywidget** library is still in development, so we do a pip install if it is not already on the hub.  "
   ]
  },
  {
   "cell_type": "code",
   "execution_count": null,
   "id": "06b3a262",
   "metadata": {},
   "outputs": [],
   "source": [
    "try:\n",
    "    import anywidget\n",
    "except:\n",
    "    !pip install \"anywidget[dev]\"\n",
    "    import anywidget\n",
    "    \n",
    "import pathlib\n",
    "import traitlets"
   ]
  },
  {
   "cell_type": "markdown",
   "id": "99d428ab",
   "metadata": {},
   "source": [
    "## Step 2.\n",
    "\n",
    "We create the PhidgetFour class (software object) as an example of the **anywidget** models. The JS code for this tool is in the file **ph4auto.js** while the style file is in **ph4xx.css**. If you like, you can open this files in your browser to see what the code looks like.\n",
    "\n",
    "The PhidgetFour object contains four Python variables (named temperature, humidity, moisture and luminance) which will contain the data from the sensors. "
   ]
  },
  {
   "cell_type": "code",
   "execution_count": null,
   "id": "c3324f98",
   "metadata": {},
   "outputs": [],
   "source": [
    "class PhidgetsFour(anywidget.AnyWidget):\n",
    "    _esm = pathlib.Path(\"ph4auto.js\")\n",
    "    _css = pathlib.Path(\"ph4xx.css\")\n",
    "    # These 4 variables are used by the widget. Do not delete. \n",
    "    temperature = traitlets.Float(0).tag(sync=True)\n",
    "    humidity = traitlets.Float(0).tag(sync=True)\n",
    "    moisture = traitlets.Float(0).tag(sync=True)\n",
    "    luminance = traitlets.Float(0).tag(sync=True)\n",
    "\n",
    "pf = PhidgetsFour()"
   ]
  },
  {
   "cell_type": "markdown",
   "id": "a1ff0472",
   "metadata": {},
   "source": [
    "## Step 3.\n",
    "\n",
    "We now open and display the Phidget widget along with the slider.\n",
    "\n",
    "When you run the following cell, you should see a button displayed and some text, followed by the slider. "
   ]
  },
  {
   "cell_type": "code",
   "execution_count": null,
   "id": "22fed6a5",
   "metadata": {},
   "outputs": [],
   "source": [
    "display(pf,f)"
   ]
  },
  {
   "cell_type": "markdown",
   "id": "ffc16fe4",
   "metadata": {},
   "source": [
    "## Step 4. \n",
    "Clicking on the \"Connect\" button above will open a window that asks you to select the Phidget Hub. Select the hub and click \"Connect.\" The window looks like this:\n",
    "<img src=\"images/Pconnect.png\" alt=\"Hey\"  width = 300 />\n",
    "\n",
    "If you don't get this window, perhaps you are using the wrong browser. (Use Chrome, Chromium, or Opera).\n",
    "\n",
    "If you get the window but don't see the Phidget device, check to be sure the Phidget VINT hub is connected to your computer with a USB cable."
   ]
  },
  {
   "cell_type": "markdown",
   "id": "6a64c2f5",
   "metadata": {},
   "source": [
    "### Check:\n",
    "If all is well, the status text will report that the USB port is connected and the device channels are open. You should also see the value for temperature and humidity\n",
    "\n",
    "If you connected a moisture probe and the light detector from the Phidgets plant kit, you will see these values displayed as well. \n",
    "\n",
    "If you don't see any values, check again that the Phidget VINT device is connected to your computer with a USB cable. Also check that you have a Phidget temperature/humidity sensor connected to your VINT with the appropriate cable. "
   ]
  },
  {
   "cell_type": "markdown",
   "id": "069c1921",
   "metadata": {},
   "source": [
    "## Step 5.\n",
    "\n",
    "Now we link the slider to the Phidgets. Run the following cell and you will see the slider update as the humidity changes.\n"
   ]
  },
  {
   "cell_type": "code",
   "execution_count": null,
   "id": "9bf68333",
   "metadata": {},
   "outputs": [],
   "source": [
    "l=link((f,'value'),(pf,'humidity'))"
   ]
  },
  {
   "cell_type": "markdown",
   "id": "6513a481",
   "metadata": {},
   "source": [
    "If you like, you can watch the slider all by itself. "
   ]
  },
  {
   "cell_type": "code",
   "execution_count": null,
   "id": "670394ee",
   "metadata": {},
   "outputs": [],
   "source": [
    "display(f)"
   ]
  },
  {
   "cell_type": "markdown",
   "id": "9dbd06f3",
   "metadata": {},
   "source": [
    "## Step 6. Putting it all together\n",
    "\n",
    "We can put the two sliders together in one box, so we see how the humidity and temperature values change together. As before, feel free to adjust the ranges of the `min` and `max` to see the slider move in real-time."
   ]
  },
  {
   "cell_type": "code",
   "execution_count": null,
   "id": "3a749836",
   "metadata": {},
   "outputs": [],
   "source": [
    "from ipywidgets import FloatSlider, HBox\n",
    "\n",
    "hum = FloatSlider(\n",
    "    value=50.0,\n",
    "    min=30.0,\n",
    "    max=80.0,\n",
    "    step=0.1,\n",
    "    description='Humidity ',\n",
    "    disabled=False,\n",
    "    continuous_update=False,\n",
    "    orientation='vertical',\n",
    "    readout=True,\n",
    "    readout_format='.2f',\n",
    ")\n",
    "temp = FloatSlider(\n",
    "    value=20.0,\n",
    "    min=10.0,\n",
    "    max=30.0,\n",
    "    step=0.1,\n",
    "    description='Temperature',\n",
    "    disabled=False,\n",
    "    continuous_update=False,\n",
    "    orientation='vertical',\n",
    "    readout=True,\n",
    "    readout_format='.2f',\n",
    ")\n",
    "\n",
    "l1=link((hum,'value'),(pf,'humidity'))\n",
    "l2=link((temp,'value'),(pf,'temperature'))\n",
    "\n",
    "display(HBox([hum, temp]))"
   ]
  },
  {
   "cell_type": "markdown",
   "id": "7609b5eb",
   "metadata": {},
   "source": [
    "## Closing down the sensors\n",
    "\n",
    "It is **really important** to close the sensors when you are done. Otherwise they will keep busy forever, always trying to update the sliders with the latest values. Also, no other notebook can use the Phidgets while this one is active. \n",
    "\n",
    "To close the Phidget, go back to the Connect button above, and click where it says \"Click to disconnect.\"\n",
    "\n",
    "You can also simply close this notebook. "
   ]
  },
  {
   "cell_type": "markdown",
   "id": "4b4d0c05",
   "metadata": {},
   "source": [
    "## In case of errors\n",
    "\n",
    "Do you see sliders just above this cell, but nothing is happening? Go back and look for the \"Connect\" button in one of the cells. Click on it to get the Phidget hardware to connect to the software.\n",
    "\n",
    "Still having problems? What kind of errors can happen? What should we do about them?\n",
    "\n",
    "**Symptom 1**. When you click the Connect button, status text says \"USB not connected\"\n",
    "- Problem is likely that your browser does not support WebUSB.\n",
    "    - Solution is to switch to the latest versions of Chrome, Chromium, Opera or Edge.\n",
    "- Another problem could be that the Phidget VINT device is not connected via a USB cable. You should see a window like this <img src=\"images/Pconnect.png\" alt=\"Hey\"  width = 300 /> Select the VINT device once it appears.\n",
    "- Another notebook or piece of software is already connected to the Phidget device.\n",
    "    - Only one notebook at a time can use the Phidget. So close down any other notebook using Phidgets, or exit any other software using the device. \n",
    "- You might have an older version of a Phidget that needs a firmware update.\n",
    "    - see here for the solution: https://www.phidgets.com/education/educators/advanced-troubleshooting/firmware-upgrade/\n",
    "  \n",
    "    \n",
    "**Symptom 2**. When you click the Connect button, status text is \"USB connected, channel not open.\"\n",
    "- Check to see that you have a Phidget temperature/humidity device connected to your Phidget hub or VINT device"
   ]
  },
  {
   "cell_type": "markdown",
   "id": "96ee6ba5",
   "metadata": {},
   "source": [
    "## Conclusion\n",
    "\n",
    "We have shown how to display the temperature and humidity values from the Phidget device using a live widget from the ipywidgets library. "
   ]
  },
  {
   "cell_type": "markdown",
   "id": "ba7ee230",
   "metadata": {},
   "source": [
    "[![Callysto.ca License](https://github.com/callysto/curriculum-notebooks/blob/master/callysto-notebook-banner-bottom.jpg?raw=true)](https://github.com/callysto/curriculum-notebooks/blob/master/LICENSE.md)"
   ]
  }
 ],
 "metadata": {
  "kernelspec": {
   "display_name": "Python 3 (ipykernel)",
   "language": "python",
   "name": "python3"
  },
  "language_info": {
   "codemirror_mode": {
    "name": "ipython",
    "version": 3
   },
   "file_extension": ".py",
   "mimetype": "text/x-python",
   "name": "python",
   "nbconvert_exporter": "python",
   "pygments_lexer": "ipython3",
   "version": "3.11.6"
  }
 },
 "nbformat": 4,
 "nbformat_minor": 5
}
