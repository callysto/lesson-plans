{
 "cells": [
  {
   "cell_type": "markdown",
   "id": "bcfef756",
   "metadata": {},
   "source": [
    "![Callysto.ca Banner](https://github.com/callysto/curriculum-notebooks/blob/master/callysto-notebook-banner-top.jpg?raw=true)\n",
    "\n"
   ]
  },
  {
   "cell_type": "markdown",
   "id": "3514789c",
   "metadata": {},
   "source": [
    "## Phidget_1 Humidity sensor\n",
    "\n",
    "This short notebook introduces how we access a Phidget device from a Jupyter notebook.\n",
    "\n",
    "It is important to run this notebook in the Google Chrome web browser, on a desktop or laptop computer. Unfortunately, other browsers (FireFox, Safari, Edge) will not work as they cannot access the USB port that connects to the Phidget device.\n",
    "\n",
    "### Setting up the Phidget device\n",
    "\n",
    "We will be using the Phidget Starter Kit, as shown in this figure:\n",
    "<img src=\"images/KIT4003.jpg\" alt=\"Image of the starter kit\"  width = 500 />\n",
    "\n",
    "Verify these points:\n",
    "- Get a hold of a Phidgets Starter Kit. It should already be assembled. If not, assemble it now.\n",
    "    - You will have received instructions with the kit on how to assemble it.\n",
    "- The Starter Kit has a humidty sensor attached. If it does not, find the sensor and attach it.\n",
    "    - The humidty senor is a small black box attached with a thin cable. It is marked with the initials \"HUM.\"\n",
    "- Connect the Starter Kit to your computer with a USB cable. \n",
    "    - The Kit come with a USB cable, it is attached to the Hub device inside the Starter Kit.\n",
    "- As mentioned above, make sure you are running this notebook in the Google Chrome browser. \n",
    "\n",
    "### Notes on local and remote computer\n",
    "\n",
    "It is interesting to notice that we are using two computers here. There is the laptop (or desktop) computer sitting in front of you, which is the **local** computer. The Callysto Hub is actually a piece of software running on a cloud-based network computer located at the Cybera offices in Alberta (usually), and we call this the **remote** computer. \n",
    "\n",
    "We want to program in Python on the Callysto Hub, which will be running on the remote computer. However, the Phidget device is connected to the local computer (the one in front of you), so we need a way to communicate with the device using the local computer. \n",
    "\n",
    "We can do this using the Chrome browser and adding some code in the JavaScript language. Javascript runs on the local computer, in the browser, and so it is able to access the Phidget device. Unfortunately, this means we need to include some JavaScript in our notebook. \n",
    "\n",
    "### A bit about JavaScript\n",
    "\n",
    "JavaScript is just another programming language. It has its own syntax, and there are books and videos that will teach you about JavaScript. We don't want to teach it here, but will introduce some basic features so you can see how it works in a Jupyter notebook. \n",
    "\n",
    "First, we often put JavaScript code in a cell by itself, with a header that starts with \"%%js\". For instance, we might see this in a cell:\n",
    "```\n",
    "%%js\n",
    "let x = 23;\n",
    "let y = x + 24;\n",
    "```\n",
    "The first line tells Jupyter to treat the rest of the cell as JavaScript. The remaining lines are just code, written in JavaScript.\n",
    "\n",
    "The Jupyter notebook is a little funny about how it treats JavaScript variables, like x and y in the code above. When we first define a variable, we need to attach it to the \"window\" object of the notebook, otherwise the notebook loses track of the variable. So we attach it, like this:\n",
    "```\n",
    "%%js\n",
    "window.x = 23;\n",
    "window.y = window.x + 24;\n",
    "```\n",
    "Once the variable has been attached to the window, we can use them directly, like this:\n",
    "```\n",
    "%%js\n",
    "y = 2*x + 3*y;\n",
    "```\n",
    "So it is no longer necessary to refer to the variable in the long form, window.x or window.y. \n",
    "\n",
    "Now, when we want to write something from JavaScript into the Jupyter notebook's output cell, we use the **element** object and attach some text to it. So, to write \"Hello, World\" in JavaScript and have it appear on the Jupyter notebook, we write something like this:\n",
    "```\n",
    "%%js\n",
    "element.text(\"Hello, World.\");\n",
    "```\n",
    "\n",
    "Finally, JavaScript also uses libraries of code. To use the Phidget library, you will see some code like this:\n",
    "```\n",
    "%%js\n",
    "requirejs.config({\n",
    "    paths: { \n",
    "        'phidget22': ['https://unpkg.com/phidget22/browser/phidget22'], \n",
    "    },                                         \n",
    "});\n",
    "```\n",
    "That is just some gobbly gook that gets us access to the code library we need. It's important, but don't worry about it. We will also attach the libary to the window, as a variable window.phidget22, so we can use it later in the code. \n",
    "\n",
    "This is all you need to know about JavaScript for this notebook. \n",
    "\n"
   ]
  },
  {
   "cell_type": "markdown",
   "id": "82d0ee5f",
   "metadata": {
    "slideshow": {
     "slide_type": "slide"
    }
   },
   "source": [
    "## Overview of the code.\n",
    "\n",
    "It's a bit tricky to use the Phidget device, as we have to \"tell\" the computer explicity that we want to use the Phidget. This means writing code that tell the computer that, first, we want to use the USB port and cable to connect to the device, and then we want to use a specific device in the starter kit, and finally we want to read data from that deive. \n",
    "\n",
    "We will do this in a step-by-step manner, so we can understand how the connection process works. At the end, it is always good practice to clean things up by closing all the connections. \n",
    "\n",
    "The main steps are thus:\n",
    "\n",
    "0. Import some Python libraries\n",
    "1. Import the Phidget library, in Javascript\n",
    "2. Define and open the USB connection\n",
    "3. Open the Humidity device\n",
    "4. Read some values from the Humidity device\n",
    "5. When we are done, close the device and USB connection\n",
    "\n",
    "Now let's get into the details"
   ]
  },
  {
   "cell_type": "markdown",
   "id": "b7f73850",
   "metadata": {},
   "source": [
    "## Step 0.\n",
    "Let's import a few Python libraries that we need. "
   ]
  },
  {
   "cell_type": "code",
   "execution_count": 1,
   "id": "377ec5c6",
   "metadata": {},
   "outputs": [],
   "source": [
    "import ipywidgets as widgets\n",
    "from IPython.display import Javascript, display\n",
    "from time import sleep"
   ]
  },
  {
   "cell_type": "markdown",
   "id": "58d63d14",
   "metadata": {},
   "source": [
    "## Step 1.\n",
    "\n",
    "We load in the Phidgets22 library of code in JavaScript. Notice the \"%%js\" at the first line, which indicates this is JavaScript code. We also attach the library to the window, so we can use it in later cells. See the notes on JavaScript above."
   ]
  },
  {
   "cell_type": "code",
   "execution_count": 2,
   "id": "590f5a82",
   "metadata": {},
   "outputs": [
    {
     "data": {
      "application/javascript": [
       "requirejs.config({\n",
       "    paths: { \n",
       "        'phidget22': ['https://unpkg.com/phidget22/browser/phidget22'], \n",
       "    },                                         \n",
       "});\n",
       "require(['phidget22'], (phidget22) => {\n",
       "   window.phidget22 = phidget22; \n",
       "});\n"
      ],
      "text/plain": [
       "<IPython.core.display.Javascript object>"
      ]
     },
     "metadata": {},
     "output_type": "display_data"
    }
   ],
   "source": [
    "%%js\n",
    "requirejs.config({\n",
    "    paths: { \n",
    "        'phidget22': ['https://unpkg.com/phidget22/browser/phidget22'], \n",
    "    },                                         \n",
    "});\n",
    "require(['phidget22'], (phidget22) => {\n",
    "   window.phidget22 = phidget22; \n",
    "});"
   ]
  },
  {
   "cell_type": "code",
   "execution_count": 3,
   "id": "d8f93d7c",
   "metadata": {},
   "outputs": [],
   "source": [
    "## We pause for a second here, to allow the library to load\n",
    "sleep(1)"
   ]
  },
  {
   "cell_type": "markdown",
   "id": "32b4ce79",
   "metadata": {},
   "source": [
    "## Step 2.\n",
    "We now open a USB connection. Again the \"%%js\" indicates this is JavaScript code. The code requests the USB port to open and access the Phidget Hub. "
   ]
  },
  {
   "cell_type": "code",
   "execution_count": 4,
   "id": "eeaef321",
   "metadata": {},
   "outputs": [
    {
     "data": {
      "application/javascript": [
       "\n",
       "if (window.usbconn === undefined) {\n",
       "    \n",
       "    element.text(\"Creating a new USB Connection.\");\n",
       "    \n",
       "    window.usbconn = new phidget22.USBConnection();\n",
       "    \n",
       "    usbconn.connect().then(() => {\n",
       "        usbconn.requestWebUSBDeviceAccess();\n",
       "    }).catch(err => {\n",
       "        window.usbconn.delete();\n",
       "        element.append(\"Error connecting to USB\" + err);\n",
       "    });\n",
       "}\n"
      ],
      "text/plain": [
       "<IPython.core.display.Javascript object>"
      ]
     },
     "metadata": {},
     "output_type": "display_data"
    }
   ],
   "source": [
    "%%js\n",
    "\n",
    "if (window.usbconn === undefined) {\n",
    "    \n",
    "    element.text(\"Creating a new USB Connection.\");\n",
    "    \n",
    "    window.usbconn = new phidget22.USBConnection();\n",
    "    \n",
    "    usbconn.connect().then(() => {\n",
    "        usbconn.requestWebUSBDeviceAccess();\n",
    "    }).catch(err => {\n",
    "        window.usbconn.delete();\n",
    "        element.append(\"Error connecting to USB\" + err);\n",
    "    });\n",
    "}"
   ]
  },
  {
   "cell_type": "markdown",
   "id": "3a9c72a2",
   "metadata": {},
   "source": [
    "This should open a window that asks you to select the Phidget Hub, and click \"OK.\" It looks like this:\n",
    "<img src=\"images/Pconnect.png\" alt=\"Hey\"  width = 300 />"
   ]
  },
  {
   "cell_type": "code",
   "execution_count": 5,
   "id": "a9e786df",
   "metadata": {},
   "outputs": [],
   "source": [
    "## We rest for a bit while the USB port opens\n",
    "sleep(1)"
   ]
  },
  {
   "cell_type": "markdown",
   "id": "82597f78",
   "metadata": {},
   "source": [
    "### Check:\n",
    "We can verify that the connection is live, by checking the state of the connection. The following line of code should return the value \"true.\" If it does not, try running the cell above again. "
   ]
  },
  {
   "cell_type": "code",
   "execution_count": 6,
   "id": "e67a4f64",
   "metadata": {},
   "outputs": [
    {
     "data": {
      "application/javascript": [
       "element.text(usbconn.connected);\n"
      ],
      "text/plain": [
       "<IPython.core.display.Javascript object>"
      ]
     },
     "metadata": {},
     "output_type": "display_data"
    }
   ],
   "source": [
    "%%js\n",
    "element.text(usbconn.connected);"
   ]
  },
  {
   "cell_type": "markdown",
   "id": "534816be",
   "metadata": {},
   "source": [
    "## Step 3.\n",
    "We make a request to open the humidity sensor. \n",
    "\n",
    "Again, Javascript code. We create a connection to the Humidity sensor, then open the connection. "
   ]
  },
  {
   "cell_type": "code",
   "execution_count": 7,
   "id": "c0ab4493",
   "metadata": {},
   "outputs": [
    {
     "data": {
      "application/javascript": [
       "window.humSensor = new phidget22.HumiditySensor();\n",
       "humSensor.open();\n"
      ],
      "text/plain": [
       "<IPython.core.display.Javascript object>"
      ]
     },
     "metadata": {},
     "output_type": "display_data"
    }
   ],
   "source": [
    "%%js\n",
    "window.humSensor = new phidget22.HumiditySensor();\n",
    "humSensor.open();"
   ]
  },
  {
   "cell_type": "code",
   "execution_count": 8,
   "id": "060aa863",
   "metadata": {},
   "outputs": [],
   "source": [
    "## We rest for a bit while the device connects.\n",
    "sleep(1)"
   ]
  },
  {
   "cell_type": "markdown",
   "id": "784009ce",
   "metadata": {},
   "source": [
    "### Check:\n",
    "We can verify that the humidity device is live, by checking the state of the sensor. The following line of code should return the value \"true.\" If it does not, try running the cell above again. "
   ]
  },
  {
   "cell_type": "code",
   "execution_count": 9,
   "id": "606afbf9",
   "metadata": {},
   "outputs": [
    {
     "data": {
      "application/javascript": [
       "element.text(\"Is the Humidity Sensor attached? \" + humSensor.attached);\n"
      ],
      "text/plain": [
       "<IPython.core.display.Javascript object>"
      ]
     },
     "metadata": {},
     "output_type": "display_data"
    }
   ],
   "source": [
    "%%js\n",
    "element.text(\"Is the Humidity Sensor attached? \" + humSensor.attached);"
   ]
  },
  {
   "cell_type": "markdown",
   "id": "4cce9a9c",
   "metadata": {},
   "source": [
    "## Step 4.\n",
    "We can now access the humidity sensor directly, to get the reading value. \n",
    "\n",
    "You can run this cell several times if you like, to see if the humidity value changes."
   ]
  },
  {
   "cell_type": "code",
   "execution_count": 10,
   "id": "51b9c33f",
   "metadata": {},
   "outputs": [
    {
     "data": {
      "application/javascript": [
       "element.text(humSensor.humidity);\n"
      ],
      "text/plain": [
       "<IPython.core.display.Javascript object>"
      ]
     },
     "metadata": {},
     "output_type": "display_data"
    }
   ],
   "source": [
    "%%js\n",
    "element.text(humSensor.humidity);"
   ]
  },
  {
   "cell_type": "markdown",
   "id": "e5f243d6",
   "metadata": {},
   "source": [
    "### Check:\n",
    "We can do a loop, to check read the humidity device several times.\n",
    "\n",
    "If you like, try breathing on the sensor. You should see the reading values change on the display below, as your breath will change the humidity content of the air. "
   ]
  },
  {
   "cell_type": "code",
   "execution_count": 11,
   "id": "ff701954",
   "metadata": {},
   "outputs": [
    {
     "data": {
      "application/javascript": [
       "element.text(humSensor.humidity);"
      ],
      "text/plain": [
       "<IPython.core.display.Javascript object>"
      ]
     },
     "metadata": {},
     "output_type": "display_data"
    },
    {
     "data": {
      "application/javascript": [
       "element.text(humSensor.humidity);"
      ],
      "text/plain": [
       "<IPython.core.display.Javascript object>"
      ]
     },
     "metadata": {},
     "output_type": "display_data"
    },
    {
     "data": {
      "application/javascript": [
       "element.text(humSensor.humidity);"
      ],
      "text/plain": [
       "<IPython.core.display.Javascript object>"
      ]
     },
     "metadata": {},
     "output_type": "display_data"
    },
    {
     "data": {
      "application/javascript": [
       "element.text(humSensor.humidity);"
      ],
      "text/plain": [
       "<IPython.core.display.Javascript object>"
      ]
     },
     "metadata": {},
     "output_type": "display_data"
    },
    {
     "data": {
      "application/javascript": [
       "element.text(humSensor.humidity);"
      ],
      "text/plain": [
       "<IPython.core.display.Javascript object>"
      ]
     },
     "metadata": {},
     "output_type": "display_data"
    },
    {
     "data": {
      "application/javascript": [
       "element.text(humSensor.humidity);"
      ],
      "text/plain": [
       "<IPython.core.display.Javascript object>"
      ]
     },
     "metadata": {},
     "output_type": "display_data"
    },
    {
     "data": {
      "application/javascript": [
       "element.text(humSensor.humidity);"
      ],
      "text/plain": [
       "<IPython.core.display.Javascript object>"
      ]
     },
     "metadata": {},
     "output_type": "display_data"
    },
    {
     "data": {
      "application/javascript": [
       "element.text(humSensor.humidity);"
      ],
      "text/plain": [
       "<IPython.core.display.Javascript object>"
      ]
     },
     "metadata": {},
     "output_type": "display_data"
    },
    {
     "data": {
      "application/javascript": [
       "element.text(humSensor.humidity);"
      ],
      "text/plain": [
       "<IPython.core.display.Javascript object>"
      ]
     },
     "metadata": {},
     "output_type": "display_data"
    },
    {
     "data": {
      "application/javascript": [
       "element.text(humSensor.humidity);"
      ],
      "text/plain": [
       "<IPython.core.display.Javascript object>"
      ]
     },
     "metadata": {},
     "output_type": "display_data"
    }
   ],
   "source": [
    "for i in range(10):\n",
    "    display(Javascript(\"element.text(humSensor.humidity);\"))\n",
    "    sleep(.25)"
   ]
  },
  {
   "cell_type": "markdown",
   "id": "91efcb97",
   "metadata": {},
   "source": [
    "## Step 5. Closing. \n",
    "\n",
    "Once we are all done, we should close the connection to the phidget. This will leave the phidget free for another notebook to use it, or another person to use the computer with the phidget. \n",
    "\n",
    "The following cell creates a button that you can click to close the Phidgets. Click it once you are all done with the Phidgets in this notebook. \n"
   ]
  },
  {
   "cell_type": "code",
   "execution_count": 14,
   "id": "92434fd5",
   "metadata": {},
   "outputs": [
    {
     "name": "stdout",
     "output_type": "stream",
     "text": [
      "Press this button when you are done, to disconnect the Phidgets\n"
     ]
    },
    {
     "data": {
      "application/vnd.jupyter.widget-view+json": {
       "model_id": "38867e661fff44c28618aa43c97722c9",
       "version_major": 2,
       "version_minor": 0
      },
      "text/plain": [
       "Button(description='Click to disconnect', style=ButtonStyle())"
      ]
     },
     "metadata": {},
     "output_type": "display_data"
    },
    {
     "data": {
      "application/javascript": [
       "\n",
       "        (async () => {\n",
       "            await humSensor.close();\n",
       "            usbconn.close();\n",
       "            usbconn.delete();\n",
       "            delete window.usbconn;\n",
       "            element.text(\"You have disconnected the Phidgets.\");\n",
       "        })();\n",
       "    "
      ],
      "text/plain": [
       "<IPython.core.display.Javascript object>"
      ]
     },
     "metadata": {},
     "output_type": "display_data"
    }
   ],
   "source": [
    "def doDisconnect(b):\n",
    "    display(Javascript(\"\"\"\n",
    "        (async () => {\n",
    "            await humSensor.close();\n",
    "            usbconn.close();\n",
    "            usbconn.delete();\n",
    "            delete window.usbconn;\n",
    "            element.text(\"You have disconnected the Phidgets.\");\n",
    "        })();\n",
    "    \"\"\"))\n",
    "\n",
    "run_button = widgets.Button(\n",
    "    description = 'Click to disconnect'\n",
    ")\n",
    "print(\"Press this button when you are done, to disconnect the Phidgets\")\n",
    "run_button.on_click(doDisconnect)\n",
    "\n",
    "display(run_button)"
   ]
  },
  {
   "cell_type": "markdown",
   "id": "9620d4af",
   "metadata": {},
   "source": [
    "### Confirm\n",
    "\n",
    "You can confirm the phidget is open or closed by running the following cell. \n",
    "\n",
    "If it is open (true), try clicking the button above, again. "
   ]
  },
  {
   "cell_type": "code",
   "execution_count": 15,
   "id": "000efd03",
   "metadata": {},
   "outputs": [
    {
     "data": {
      "application/javascript": [
       "element.text(\"Is the Phidget attached: \" + humSensor.attached);\n"
      ],
      "text/plain": [
       "<IPython.core.display.Javascript object>"
      ]
     },
     "metadata": {},
     "output_type": "display_data"
    }
   ],
   "source": [
    "%%js\n",
    "element.text(\"Is the Phidget attached: \" + humSensor.attached);"
   ]
  },
  {
   "cell_type": "markdown",
   "id": "9382ee3a",
   "metadata": {},
   "source": [
    "## In case of errors\n",
    "\n",
    "What kind of errors can happen? What should they do about them?\n",
    "\n",
    "Symptom 1. At Step 2, you keep getting \"Connection Errors.\"\n",
    "- Problem is likely that you are not using the Chrome browser.\n",
    "- Solution is to switch to Chrome.\n",
    "    \n",
    "Symptom 2. At Step 2, the requestWebUSBDeviceAccess() command fails.\n",
    "- Check that you see an image like this: <img src=\"images/Pconnect.png\" alt=\"Hey\"  width = 300 />\n",
    "- If you don't see it, this probably means your Phidget Starter Kit is not connected.\n",
    "- Solution is to plug in the Phidget to your computer's USB port, then try again.\n",
    "    \n",
    "    \n",
    "Symptom 3. At Step 2, the image above appears, but you do not see the VINT device displayed.\n",
    "- Problem is likely that the Phidget device is not attached to your computer.\n",
    "- Solution is to plug in the Phidget to your computer's USB port, then try again.\n",
    "\n",
    "\n",
    "\n",
    "Symptom 4. At Step 2 or 3, the image above appears and you select the VINT device, but nothing else happens.\n",
    "- Problem is likely that another piece of software is already connected to the device. For instance, if you have another Jupyter notebook using the device, or are using Phidget's MakeCode software.\n",
    "- Solution is to stop the other software from running.\n",
    "- In some cases, you might need to shut down all the notebooks and log out of the Callysto Hub. Then log back in and start anew. \n"
   ]
  },
  {
   "cell_type": "markdown",
   "id": "4871334f",
   "metadata": {},
   "source": [
    "[![Callysto.ca License](https://github.com/callysto/curriculum-notebooks/blob/master/callysto-notebook-banner-bottom.jpg?raw=true)](https://github.com/callysto/curriculum-notebooks/blob/master/LICENSE.md)"
   ]
  }
 ],
 "metadata": {
  "kernelspec": {
   "display_name": "Python 3 (ipykernel)",
   "language": "python",
   "name": "python3"
  },
  "language_info": {
   "codemirror_mode": {
    "name": "ipython",
    "version": 3
   },
   "file_extension": ".py",
   "mimetype": "text/x-python",
   "name": "python",
   "nbconvert_exporter": "python",
   "pygments_lexer": "ipython3",
   "version": "3.10.5"
  }
 },
 "nbformat": 4,
 "nbformat_minor": 5
}
