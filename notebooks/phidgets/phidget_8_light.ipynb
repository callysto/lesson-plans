{
 "cells": [
  {
   "cell_type": "markdown",
   "id": "bcfef756",
   "metadata": {},
   "source": [
    "![Callysto.ca Banner](https://github.com/callysto/curriculum-notebooks/blob/master/callysto-notebook-banner-top.jpg?raw=true)\n",
    "\n"
   ]
  },
  {
   "cell_type": "markdown",
   "id": "3514789c",
   "metadata": {},
   "source": [
    "## Phidget_8 Light sensor\n",
    "\n",
    "**NOTE** This is a quick test to see if I can use another sensor. I happen to have a Phidgets light sensor, so I attached it t the VINT hub to see if I could get it to work. \n",
    "\n",
    "All the code here is from Phidget_1_humidity, just modified to work with the light sensor.\n",
    "\n",
    "\n",
    "### Setting up the Phidget device\n",
    "\n",
    "We will be using the Phidget Starter Kit, as shown in this figure:\n",
    "<img src=\"images/KIT4003.jpg\" alt=\"Image of the starter kit\"  width = 500 />\n",
    "\n",
    "Verify these points:\n",
    "- Get a hold of a Phidgets Starter Kit. It should already be assembled. If not, assemble it now.\n",
    "    - You will have received instructions with the kit on how to assemble it.\n",
    "- The Starter Kit has a humidty sensor attached. However, this notebook will use the light sensor.\n",
    "    - If you have a light sensor, attach it to the VINT Hub. My sensor is marked **LUX1000_0.**\n",
    "- Connect the Starter Kit to your computer with a USB cable. \n",
    "    - The Kit come with a USB cable, it is attached to the Hub device inside the Starter Kit.\n",
    "- As mentioned above, make sure you are running this notebook in the Google Chrome browser. \n",
    "\n"
   ]
  },
  {
   "cell_type": "markdown",
   "id": "82d0ee5f",
   "metadata": {},
   "source": [
    "## Overview of the code.\n",
    "\n",
    "It's a bit tricky to use the Phidget device, as we have to \"tell\" the computer explicity that we want to use the Phidget. This means writing code that tell the computer that, first, we want to use the USB port and cable to connect to the device, and then we want to use a specific device in the starter kit, and finally we want to read data from that deive. \n",
    "\n",
    "We will do this in a step-by-step manner, so we can understand how the connection process works. At the end, it is always good practice to clean things up by closing all the connections. \n",
    "\n",
    "The main steps are thus:\n",
    "1. Set up default values for variables that cross js cells\n",
    "2. Define and open the USB connection\n",
    "3. Open the Humidity device\n",
    "4. Request a connection to the Phidgets device\n",
    "5. Read some values from the Humidity device\n",
    "6. When we are done, close the device\n",
    "\n",
    "Now let's get into the details"
   ]
  },
  {
   "cell_type": "markdown",
   "id": "b7f73850",
   "metadata": {},
   "source": [
    "## Step 0\n",
    "Let's import a few Python libraries that we need. "
   ]
  },
  {
   "cell_type": "code",
   "execution_count": null,
   "id": "377ec5c6",
   "metadata": {},
   "outputs": [],
   "source": [
    "import ipywidgets as widgets\n",
    "from IPython.display import Javascript, display\n",
    "from time import sleep"
   ]
  },
  {
   "cell_type": "markdown",
   "id": "58d63d14",
   "metadata": {},
   "source": [
    "## Step 1.\n",
    "\n",
    "We set up some variables in JavaScript. Notice the \"%js\" command that indicates this is JavaScript code. We also attach the variables to the window, so we can use them in later cells (see the notes on JavaScript above.)"
   ]
  },
  {
   "cell_type": "code",
   "execution_count": null,
   "id": "590f5a82",
   "metadata": {},
   "outputs": [],
   "source": [
    "%%js\n",
    "window.usbconn = null;\n",
    "window.liteSensor = null;"
   ]
  },
  {
   "cell_type": "markdown",
   "id": "32b4ce79",
   "metadata": {},
   "source": [
    "## Step 2.\n",
    "We try to open a USB connection. This is again JavaScript code, with some instructions to use the \"Phidget22\" library of code. You should not have to change this code."
   ]
  },
  {
   "cell_type": "code",
   "execution_count": null,
   "id": "eeaef321",
   "metadata": {},
   "outputs": [],
   "source": [
    "%%js\n",
    "requirejs.config({\n",
    "    paths: { \n",
    "        'phidget22': ['https://unpkg.com/phidget22/browser/phidget22'], \n",
    "    },                                         \n",
    "});\n",
    "\n",
    "require(['phidget22'], function(phidget22) {\n",
    "    if (window.usbconn == null){\n",
    "        window.usbconn = new phidget22.USBConnection();\n",
    "        element.text(\"Creating a new USB Connection.\");\n",
    "    }\n",
    "    console.log(window.usbconn)\n",
    "    \n",
    "    window.usbconn.connect().catch(err => {\n",
    "        window.usbconn.delete();\n",
    "        element.append(\"Error connecting to USB\" + err);\n",
    "    });\n",
    "    element.append(\" Connected.\");\n",
    "});"
   ]
  },
  {
   "cell_type": "code",
   "execution_count": null,
   "id": "a9e786df",
   "metadata": {},
   "outputs": [],
   "source": [
    "## We rest for a bit while the devices connect\n",
    "sleep(2)"
   ]
  },
  {
   "cell_type": "markdown",
   "id": "82597f78",
   "metadata": {},
   "source": [
    "### Check:\n",
    "We can verify that the connection is live, by checking the state of the connection. The following line of code should return the value \"true.\" If it does not, try running the cell above again. "
   ]
  },
  {
   "cell_type": "code",
   "execution_count": null,
   "id": "e67a4f64",
   "metadata": {},
   "outputs": [],
   "source": [
    "%%js\n",
    "element.text(window.usbconn.connected);"
   ]
  },
  {
   "cell_type": "markdown",
   "id": "534816be",
   "metadata": {},
   "source": [
    "## Step 3\n",
    "We make a request to open the light sensor. \n",
    "\n",
    "Although there is a lot of JS code here, there are really only two lines that do anything significant. (Can you find them?) One of them creates the new Light Sensor object, and the second one opens the connection. "
   ]
  },
  {
   "cell_type": "code",
   "execution_count": null,
   "id": "c0ab4493",
   "metadata": {},
   "outputs": [],
   "source": [
    "%%js\n",
    "requirejs.config({\n",
    "    paths: { \n",
    "        'phidget22': ['https://unpkg.com/phidget22/browser/phidget22'], \n",
    "    },                                         \n",
    "});\n",
    "\n",
    "require(['phidget22'], function(phidget22) {\n",
    "    window.liteSensor = new phidget22.LightSensor();\n",
    "    window.liteSensor.open();\n",
    "});"
   ]
  },
  {
   "cell_type": "code",
   "execution_count": null,
   "id": "060aa863",
   "metadata": {},
   "outputs": [],
   "source": [
    "## We rest for a bit while the devices connect.\n",
    "sleep(2)"
   ]
  },
  {
   "cell_type": "markdown",
   "id": "784009ce",
   "metadata": {},
   "source": [
    "### Check:\n",
    "We can verify that the humidity device is live, by checking the state of the sensor. The following line of code should return the value \"true.\" If it does not, try running the cell above again. "
   ]
  },
  {
   "cell_type": "code",
   "execution_count": null,
   "id": "606afbf9",
   "metadata": {},
   "outputs": [],
   "source": [
    "%%js\n",
    "element.text(\"Is the Light Sensor open? \" + window.liteSensor.isOpen);"
   ]
  },
  {
   "cell_type": "markdown",
   "id": "536b143f",
   "metadata": {},
   "source": [
    "## Step 4\n",
    "We now request that the USB connection to the Phidget device becomes live. "
   ]
  },
  {
   "cell_type": "code",
   "execution_count": null,
   "id": "e696d4c7",
   "metadata": {},
   "outputs": [],
   "source": [
    "%%js\n",
    "window.usbconn.requestWebUSBDeviceAccess();"
   ]
  },
  {
   "cell_type": "markdown",
   "id": "3a9c72a2",
   "metadata": {},
   "source": [
    "This should open a window that asks you to select the Phidget device, and click \"OK.\" It looks like this:\n",
    "<img src=\"images/Pconnect.png\" alt=\"Hey\"  width = 300 />"
   ]
  },
  {
   "cell_type": "markdown",
   "id": "4cce9a9c",
   "metadata": {},
   "source": [
    "## Step 5.\n",
    "We can now access the light sensor directly, to get the reading value. \n",
    "\n",
    "You can run this cell several times if you like, to see if the light value changes."
   ]
  },
  {
   "cell_type": "code",
   "execution_count": null,
   "id": "51b9c33f",
   "metadata": {},
   "outputs": [],
   "source": [
    "%%js\n",
    "element.text(window.liteSensor.illuminance);"
   ]
  },
  {
   "cell_type": "markdown",
   "id": "e5f243d6",
   "metadata": {},
   "source": [
    "### Check:\n",
    "We can do a loop, to check read the humidity device several times.\n",
    "\n",
    "If you like, try covering the light sensor so no light gets to it. You should see the reading values change on the display below, as the shade will change the luminance value.  "
   ]
  },
  {
   "cell_type": "code",
   "execution_count": null,
   "id": "ff701954",
   "metadata": {},
   "outputs": [],
   "source": [
    "for i in range(10):\n",
    "    display(Javascript(\"element.text(window.liteSensor.illuminance);\"))\n",
    "    sleep(.5)"
   ]
  },
  {
   "cell_type": "markdown",
   "id": "91efcb97",
   "metadata": {},
   "source": [
    "## Step 6. Closing. \n",
    "\n",
    "Once we are all done, we should close the connection to the phidget. This will leave it free for the next person to use in their experiments. \n",
    "\n",
    "The following cell creates a button that you can click to close the Phidgets. Click it once you are all done with the Phidgets in this notebook. \n"
   ]
  },
  {
   "cell_type": "code",
   "execution_count": null,
   "id": "92434fd5",
   "metadata": {},
   "outputs": [],
   "source": [
    "def doDisconnect(b):\n",
    "    display(Javascript(\"\"\"\n",
    "    window.liteSensor.close();\n",
    "    setTimeout(() => { window.usbconn.close(); },1000);\n",
    "    setTimeout(() => { window.usbconn.delete(); },2000);\n",
    "    \"\"\"))\n",
    "    print(\"You have disconnected the Phidgets.\")\n",
    "\n",
    "run_button = widgets.Button(\n",
    "      description = 'Click to disconnect'\n",
    ")\n",
    "print(\"Press this button when you are done, to disconnect the Phidgets\")\n",
    "run_button.on_click(doDisconnect)\n",
    "\n",
    "display(run_button)"
   ]
  },
  {
   "cell_type": "markdown",
   "id": "9620d4af",
   "metadata": {},
   "source": [
    "### Confirm\n",
    "\n",
    "You can confirm the phidget is open or closed by running the following cell. \n",
    "\n",
    "If it is open (true), try clicking the button above, again. "
   ]
  },
  {
   "cell_type": "code",
   "execution_count": null,
   "id": "000efd03",
   "metadata": {},
   "outputs": [],
   "source": [
    "%%js\n",
    "element.text(\"Is the Phidget open: \" + window.liteSensor.isOpen);"
   ]
  },
  {
   "cell_type": "markdown",
   "id": "9382ee3a",
   "metadata": {},
   "source": [
    "## In case of errors\n",
    "\n",
    "What kind of errors can happen? What should they do about them?\n",
    "\n",
    "Symptom 1. At Step 2, you keep getting \"Connection Errors.\"\n",
    "- Problem is likely that you are not using the Chrome browser.\n",
    "- Solution is to switch to Chrome.\n",
    "    \n",
    "Symptom 2. At Step 4, the requestWebUSBDeviceAccess() command fails.\n",
    "- Check that you see an image like this: <img src=\"images/Pconnect.png\" alt=\"Hey\"  width = 300 />\n",
    "- If you don't see it, this probably means your Phidget Starter Kit is not connected.\n",
    "- Solution is to plug in the Phidget to your computer's USB port, then try again.\n",
    "    \n",
    "    \n",
    "Symptom 3. At Step 4, the image above appers, but you do not see the VINT device displayed.\n",
    "- Problem is likely that the Phidget device is not attached to your computer.\n",
    "- Solution is to plug in the Phidget to your computer's USB port, then try again.\n",
    "\n",
    "\n",
    "\n",
    "Symptom 4. At Step 4, the image above appears and you select the VINT device, but nothing else happens.\n",
    "- Problem is likely that another piece of software is already connected to the device. For instance, if you have another Jupyter notebook using the device, or are using Phidget's MakeCode software.\n",
    "- Solution is to stop the other software from running.\n",
    "- In some cases, you might need to shut down all the notebooks and log out of the Callysto Hub. Then log back in and start anew. \n"
   ]
  },
  {
   "cell_type": "markdown",
   "id": "4871334f",
   "metadata": {},
   "source": [
    "[![Callysto.ca License](https://github.com/callysto/curriculum-notebooks/blob/master/callysto-notebook-banner-bottom.jpg?raw=true)](https://github.com/callysto/curriculum-notebooks/blob/master/LICENSE.md)"
   ]
  }
 ],
 "metadata": {
  "kernelspec": {
   "display_name": "Python 3 (ipykernel)",
   "language": "python",
   "name": "python3"
  },
  "language_info": {
   "codemirror_mode": {
    "name": "ipython",
    "version": 3
   },
   "file_extension": ".py",
   "mimetype": "text/x-python",
   "name": "python",
   "nbconvert_exporter": "python",
   "pygments_lexer": "ipython3",
   "version": "3.10.5"
  }
 },
 "nbformat": 4,
 "nbformat_minor": 5
}
