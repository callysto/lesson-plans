{
 "cells": [
  {
   "cell_type": "markdown",
   "id": "bcfef756",
   "metadata": {},
   "source": [
    "![Callysto.ca Banner](https://github.com/callysto/curriculum-notebooks/blob/master/callysto-notebook-banner-top.jpg?raw=true)\n",
    "\n"
   ]
  },
  {
   "cell_type": "markdown",
   "id": "3514789c",
   "metadata": {},
   "source": [
    "## Phidget_2 Humidity and Temperature\n",
    "\n",
    "This short notebook allows access to a Phidgets device from a Jupyter notebook.\n",
    "\n",
    "We will build on the code from the notebook Phidgets_1 in order to get both temperature and humidity to display on the screen.\n",
    "\n",
    "It is important to run this notebook in the Google Chrome web browser, on a desktop or laptop computer. It also will work with Chromium, Opera and Edge. Unfortunately, other browsers (FireFox, Safari) will not work as they cannot access the USB port that connects to the Phidget device. That may change in the future, but at the time of writing, this is currently only possible in Chrome/Chromium/Opera/Edge.\n",
    "\n",
    "\n",
    "### Setting up the Phidget device\n",
    "\n",
    "We will be using the Phidget Starter Kit, as shown in this figure:\n",
    "<img src=\"images/KIT4003.jpg\" alt=\"Image of the starter kit\"  width = 500 />\n",
    "\n",
    "Verify these points:\n",
    "- Get a hold of a Phidgets Starter Kit. It should already be assembled. If not, assemble it now.\n",
    "    - You will have received instructions with the kit on how to assemble it.\n",
    "- The Starter Kit has a combined humidity/temperature sensor attached. If it does not, find the sensor and attach it.\n",
    "    - The humidity/temperature sensor is a small black box attached with a thin cable. It is marked with the initials \"HUM.\"\n",
    "- Connect the Starter Kit to your computer with a USB cable. \n",
    "    - The Kit come with a USB cable, it is attached to the Hub device inside the Starter Kit.\n",
    "- If you have an older version of the Phidgets, you may need to update its firmware. See the following for details:\n",
    "    - https://www.phidgets.com/education/educators/advanced-troubleshooting/firmware-upgrade/\n",
    "- If you have the Phidgets Plant Kit, you may also connect the moisture and light sensor devices to the Hub.\n",
    "- As mentioned above, make sure you are running this notebook in the Google Chrome browser. \n",
    "\n",
    "\n",
    "## Overview of the code.\n",
    "\n",
    "In the previous notebook, phidget_1_humidity.ipynb, we went into detail on how Javascript code is used to access the Phidget devices. \n",
    "\n",
    "In this notebook, the code is more complex because we are connecting several Phidget sensors as well as linking them to Python variables. If you are interested in seeing the details, you can read the code in the file called **ph4auto.js**. \n",
    "\n",
    "For this notebook, we simply load the JS code to create a widget that accesses the Phidgets for us. \n",
    "\n",
    "The main steps in the notebook are as follows:\n",
    "\n",
    "1. Import some Python libraries\n",
    "2. Create the Phidget Widget as a software object to connect to the devices\n",
    "3. Display the widget\n",
    "4. Connect by pressing a button on screen\n",
    "5. Read some values from the devices\n",
    "6. When we are done, close the devices and USB connection\n",
    "\n",
    "Now let's get into the details"
   ]
  },
  {
   "cell_type": "markdown",
   "id": "eda57b25",
   "metadata": {},
   "source": [
    "## Step 1.\n",
    "\n",
    "Let's import a few Python libraries that we need. \n",
    "\n",
    "The **anywidget** library is still in development, so we do a pip install if it is not already on the hub. "
   ]
  },
  {
   "cell_type": "code",
   "execution_count": null,
   "id": "3105be16",
   "metadata": {},
   "outputs": [],
   "source": [
    "try:\n",
    "    import anywidget\n",
    "except:\n",
    "    !pip install \"anywidget[dev]\"\n",
    "    import anywidget\n",
    "    \n",
    "import pathlib\n",
    "import traitlets"
   ]
  },
  {
   "cell_type": "markdown",
   "id": "879a2d4f",
   "metadata": {},
   "source": [
    "## Step 2.\n",
    "\n",
    "We create the PhidgetFour class (software object) as an example of the **anywidget** models. The JS code for this tool is in the file **ph4auto.js** while the style file is in **ph4xx.css**. If you like, you can open this files in your browser to see what the code looks like.\n",
    "\n",
    "The PhidgetFour object contains four Python variables (named temperature, humidity, moisture and luminance) which will contain the data from the sensors. "
   ]
  },
  {
   "cell_type": "code",
   "execution_count": null,
   "id": "110a667b",
   "metadata": {},
   "outputs": [],
   "source": [
    "class PhidgetsFour(anywidget.AnyWidget):\n",
    "    _esm = pathlib.Path(\"ph4auto.js\")\n",
    "    _css = pathlib.Path(\"ph4xx.css\")\n",
    "    # These 4 variables are used by the widget. Do not delete. \n",
    "    temperature = traitlets.Float(0).tag(sync=True)\n",
    "    humidity = traitlets.Float(0).tag(sync=True)\n",
    "    moisture = traitlets.Float(0).tag(sync=True)\n",
    "    luminance = traitlets.Float(0).tag(sync=True)\n",
    "\n",
    "pf = PhidgetsFour()"
   ]
  },
  {
   "cell_type": "markdown",
   "id": "9a453610",
   "metadata": {},
   "source": [
    "## Step 3.\n",
    "\n",
    "We now open and display the Phidget widget. When you run the following cell, you should see a button displayed and some text. "
   ]
  },
  {
   "cell_type": "code",
   "execution_count": null,
   "id": "5d558348",
   "metadata": {},
   "outputs": [],
   "source": [
    "pf"
   ]
  },
  {
   "cell_type": "markdown",
   "id": "0273dac0",
   "metadata": {},
   "source": [
    "## Step 4. \n",
    "Clicking on the \"Connect\" button above will open a window that asks you to select the Phidget Hub. Select the hub and click \"Connect.\" The window looks like this:\n",
    "<img src=\"images/Pconnect.png\" alt=\"Hey\"  width = 300 />\n",
    "\n",
    "If you don't get this window, perhaps you are using the wrong browser. (Use Chrome, Chromium, or Opera).\n",
    "\n",
    "If you get the window but don't see the Phidget device, check to be sure the Phidget VINT hub is connected to your computer with a USB cable. "
   ]
  },
  {
   "cell_type": "markdown",
   "id": "8b154828",
   "metadata": {},
   "source": [
    "### Check:\n",
    "If all is well, the status text will report that the USB port is connected and the device channels are open. You should also see the value for temperature and humidity\n",
    "\n",
    "If you connected a moisture probe and the light detector from the Phidgets plant kit, you will see these values displayed as well. \n",
    "\n",
    "If you don't see any values, check again that the Phidget VINT device is connected to your computer with a USB cable. Also check that you have a Phidget temperature/humidity sensor connected to your VINT with the appropriate cable. "
   ]
  },
  {
   "cell_type": "markdown",
   "id": "aad10caf",
   "metadata": {},
   "source": [
    "## Step 5.\n",
    "\n",
    "In the text boxes displayed with the widget, you should see the values for temperature and humidity, updated about once every second. If you like, breath on the temperature/humidity sensor to see the data values change.\n",
    "\n",
    "You can also access the data values directly in Python. Run the following cell to see the temperature and humidity. \n"
   ]
  },
  {
   "cell_type": "code",
   "execution_count": null,
   "id": "e26b8603",
   "metadata": {},
   "outputs": [],
   "source": [
    "print(pf.temperature, pf.humidity)"
   ]
  },
  {
   "cell_type": "markdown",
   "id": "276f7898",
   "metadata": {},
   "source": [
    "You may run the above cell several times to have it print out the current, updated values for temperature and humidity. Each time you run it, you will see the latest values for the data. "
   ]
  },
  {
   "cell_type": "markdown",
   "id": "6b0110eb",
   "metadata": {},
   "source": [
    "## Step 6. Closing down the sensors. \n",
    "\n",
    "Once we are all done, we should close the connection to the Phidget. This will leave it free for the next person to use in their experiments. \n",
    "\n",
    "To disconnect the sensor, just put the widget button above which says \"Click to disconnect.\"\n",
    "\n",
    "You may also close the Phidget  by sending the widget a message, as in the following cell:\n"
   ]
  },
  {
   "cell_type": "code",
   "execution_count": null,
   "id": "e5a3cab5",
   "metadata": {},
   "outputs": [],
   "source": [
    "## Uncomment the following and run, to close the Phidget\n",
    "\n",
    "## pf.send(\"close\")"
   ]
  },
  {
   "cell_type": "markdown",
   "id": "9382ee3a",
   "metadata": {},
   "source": [
    "## In case of errors\n",
    "\n",
    "Did you \"run all\" for the notebook and nothing seems to be happening? Go back to **Step 3** and see click on the \"Connect\" button. This will connect the Phidgets to the notebook. \n",
    "\n",
    "What kind of errors can happen? What should they do about them?\n",
    "\n",
    "Symptom 1. When you click the connect button, status text says \"USB not connected\"\n",
    "- Problem is likely that your browser does not support WebUSB.\n",
    "    - Solution is to switch to Chrome, Chromium, Opera or Edge.\n",
    "- Another problem could be that the Phidget VINT device is not connected via a USB cable. You should see a window like this <img src=\"images/Pconnect.png\" alt=\"Hey\"  width = 300 /> Select the VINT device once it appears.\n",
    "- Another notebook or piece of software is already connected to the Phidget device.\n",
    "    - Only one notebook at a time can use the Phidget. So close down the other notebook, or exit any other software using the device. \n",
    "- You might have an older version of a Phidget that needs a firmware update.\n",
    "    - see here for the solution: https://www.phidgets.com/education/educators/advanced-troubleshooting/firmware-upgrade/\n",
    "  \n",
    "    \n",
    "Symptom 2. When you click the connect button, status text is \"USB connected, channel not open.\"\n",
    "- Check to see that you have a Phidget temperature/humidity device connected to your Phidget hub or VINT device\n"
   ]
  },
  {
   "cell_type": "markdown",
   "id": "4871334f",
   "metadata": {},
   "source": [
    "[![Callysto.ca License](https://github.com/callysto/curriculum-notebooks/blob/master/callysto-notebook-banner-bottom.jpg?raw=true)](https://github.com/callysto/curriculum-notebooks/blob/master/LICENSE.md)"
   ]
  }
 ],
 "metadata": {
  "kernelspec": {
   "display_name": "Python 3 (ipykernel)",
   "language": "python",
   "name": "python3"
  },
  "language_info": {
   "codemirror_mode": {
    "name": "ipython",
    "version": 3
   },
   "file_extension": ".py",
   "mimetype": "text/x-python",
   "name": "python",
   "nbconvert_exporter": "python",
   "pygments_lexer": "ipython3",
   "version": "3.11.6"
  }
 },
 "nbformat": 4,
 "nbformat_minor": 5
}
