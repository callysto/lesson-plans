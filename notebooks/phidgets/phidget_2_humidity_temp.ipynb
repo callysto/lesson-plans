{
 "cells": [
  {
   "cell_type": "markdown",
   "id": "bcfef756",
   "metadata": {},
   "source": [
    "![Callysto.ca Banner](https://github.com/callysto/curriculum-notebooks/blob/master/callysto-notebook-banner-top.jpg?raw=true)\n",
    "\n"
   ]
  },
  {
   "cell_type": "markdown",
   "id": "3514789c",
   "metadata": {},
   "source": [
    "## Phidget_2 Humidity and Temperature\n",
    "\n",
    "This short notebook builds on how we access a Phidgets device from a Jupyter notebook.\n",
    "\n",
    "We will be modifying code from Phidgets_1 in order to get both temperature and humidity to display on the screen.\n",
    "\n",
    "It is important to run this notebook in the Google Chrome web browser, on a desktop or laptop computer. Unfortunately, other browsers (FireFox, Safari, Edge) will not work as they cannot access the USB port that connects to the Phidget device. That may change in the future, but at the time of writing, this is currently only possible in Chrome.\n",
    "\n",
    "<h2 style=\"color: red\">IMPORTANT</h2>\n",
    "You MUST click the <span style=\"color:red\">BIG, RED DISCONNECT BUTTON</span> at the end of this notebook when you are done. This tells the software to release the Phidget device, so it can be used by other notebooks you might try later.\n",
    "\n",
    "### Setting up the Phidget device\n",
    "\n",
    "We will be using the Phidget Starter Kit, as shown in this figure:\n",
    "<img src=\"images/KIT4003.jpg\" alt=\"Image of the starter kit\"  width = 500 />\n",
    "\n",
    "Verify these points:\n",
    "- Get a hold of a Phidgets Starter Kit. It should already be assembled. If not, assemble it now.\n",
    "    - You will have received instructions with the kit on how to assemble it.\n",
    "- The Starter Kit has a humidty sensor attached. If it does not, find the sensor and attach it.\n",
    "    - The humidty senor is a small black box attached with a thin cable. It is marked with the initials \"HUM.\"\n",
    "- Connect the Starter Kit to your computer with a USB cable. \n",
    "    - The Kit come with a USB cable, it is attached to the Hub device inside the Starter Kit.\n",
    "- If you have an older version of the Phidgets, you may need to update its firmware. See the following for details:\n",
    "    - https://www.phidgets.com/education/educators/advanced-troubleshooting/firmware-upgrade/\n",
    "- As mentioned above, make sure you are running this notebook in the Google Chrome browser. \n",
    "\n",
    "\n",
    "## Overview of the code.\n",
    "\n",
    "It's a bit tricky to use the Phidget device, as we have to \"tell\" the computer explicity that we want to use the Phidget. This means writing code that tell the computer that, first, we want to use the USB port and cable to connect to the device, and then we want to use a specific device in the starter kit, and finally we want to read data from that deive. \n",
    "\n",
    "We will do this in a step-by-step manner, so we can understand how the connection process works. At the end, it is always good practice to clean things up by closing all the connections. \n",
    "\n",
    "The main steps are thus:\n",
    "\n",
    "0. Import some Python libraries\n",
    "1. Import the Phidget library, in Javascript\n",
    "2. Define and open the USB connection\n",
    "3. Open the Humidity and Temperature devices\n",
    "4. Read some values from the devices\n",
    "5. When we are done, close the devices and USB connection\n",
    "\n",
    "Now let's get into the details"
   ]
  },
  {
   "cell_type": "markdown",
   "id": "eda57b25",
   "metadata": {},
   "source": [
    "## Step 0.\n",
    "Let's import a few Python libraries that we need. "
   ]
  },
  {
   "cell_type": "code",
   "execution_count": null,
   "id": "e8d8178e",
   "metadata": {},
   "outputs": [],
   "source": [
    "import ipywidgets as widgets\n",
    "from IPython.display import Javascript, display\n",
    "from time import sleep"
   ]
  },
  {
   "cell_type": "markdown",
   "id": "8b154828",
   "metadata": {},
   "source": [
    "## Step 1.\n",
    "\n",
    "We load in the Phidgets22 library of code in JavaScript."
   ]
  },
  {
   "cell_type": "code",
   "execution_count": null,
   "id": "437367de",
   "metadata": {},
   "outputs": [],
   "source": [
    "%%js\n",
    "requirejs.config({\n",
    "    paths: { \n",
    "        'phidget22': ['https://unpkg.com/phidget22/browser/phidget22'], \n",
    "    },                                         \n",
    "});\n",
    "require(['phidget22'], (phidget22) => {\n",
    "   window.phidget22 = phidget22; \n",
    "});"
   ]
  },
  {
   "cell_type": "code",
   "execution_count": null,
   "id": "d2824925",
   "metadata": {},
   "outputs": [],
   "source": [
    "## We pause for a second here, to allow the library to load\n",
    "sleep(1)"
   ]
  },
  {
   "cell_type": "markdown",
   "id": "6944fc62",
   "metadata": {},
   "source": [
    "## Step 2.\n",
    "We now open a USB connection.  This Javascript code requests the USB port to open and access the Phidget Hub. "
   ]
  },
  {
   "cell_type": "code",
   "execution_count": null,
   "id": "a5de09fd",
   "metadata": {},
   "outputs": [],
   "source": [
    "%%js\n",
    "\n",
    "if (window.usbconn === undefined) {\n",
    "    \n",
    "    element.text(\"Creating a new USB Connection.\");\n",
    "    \n",
    "    window.usbconn = new phidget22.USBConnection();\n",
    "    \n",
    "    usbconn.connect().then(() => {\n",
    "        usbconn.requestWebUSBDeviceAccess();\n",
    "    }).catch(err => {\n",
    "        window.usbconn.delete();\n",
    "        element.append(\"Error connecting to USB\" + err);\n",
    "    });\n",
    "}"
   ]
  },
  {
   "cell_type": "code",
   "execution_count": null,
   "id": "3302e62c",
   "metadata": {},
   "outputs": [],
   "source": [
    "## We rest for a bit while the USB port opens\n",
    "sleep(1)"
   ]
  },
  {
   "cell_type": "markdown",
   "id": "4e662eb5",
   "metadata": {},
   "source": [
    "## Step 2 - Confirm.\n",
    "\n",
    "Let's check that the connection is open. If it is not, then try running the cell above again. "
   ]
  },
  {
   "cell_type": "code",
   "execution_count": null,
   "id": "6f1a3932",
   "metadata": {},
   "outputs": [],
   "source": [
    "%%js\n",
    "element.text(usbconn.connected);"
   ]
  },
  {
   "cell_type": "markdown",
   "id": "aad10caf",
   "metadata": {},
   "source": [
    "## Step 3.\n",
    "\n",
    "Let's open both the humidity and temperature sensors. Notice how the open codes are very similar for the two sensors. "
   ]
  },
  {
   "cell_type": "code",
   "execution_count": null,
   "id": "e26b8603",
   "metadata": {},
   "outputs": [],
   "source": [
    "%%js\n",
    "window.humSensor = new phidget22.HumiditySensor();\n",
    "window.tempSensor = new phidget22.TemperatureSensor();\n",
    "humSensor.open();\n",
    "tempSensor.open();"
   ]
  },
  {
   "cell_type": "code",
   "execution_count": null,
   "id": "4d971464",
   "metadata": {},
   "outputs": [],
   "source": [
    "## We rest for a bit while the devices connect.\n",
    "sleep(1)"
   ]
  },
  {
   "cell_type": "markdown",
   "id": "2591ac36",
   "metadata": {},
   "source": [
    "### Check\n",
    "\n",
    "Let's check that the sensors were opened, by running the following code. \n",
    "\n",
    "If you get a \"false,\" try running the cell above again. "
   ]
  },
  {
   "cell_type": "code",
   "execution_count": null,
   "id": "7bcb3731",
   "metadata": {},
   "outputs": [],
   "source": [
    "%%js\n",
    "element.text(\"Is the humidity sensor attached? \" + humSensor.isOpen);\n",
    "element.append(\"<p> Is the temperature sensor attached? \" + tempSensor.isOpen);"
   ]
  },
  {
   "cell_type": "markdown",
   "id": "1c8a3456",
   "metadata": {},
   "source": [
    "## Step 4.  \n",
    "\n",
    "Reading the value for the device\n",
    "\n",
    "We saw in an earlier notebook that we can read the humidity value with the following."
   ]
  },
  {
   "cell_type": "code",
   "execution_count": null,
   "id": "a7f1cfb8",
   "metadata": {},
   "outputs": [],
   "source": [
    "%%js\n",
    "element.text(humSensor.humidity);"
   ]
  },
  {
   "cell_type": "markdown",
   "id": "6e06ff9b",
   "metadata": {},
   "source": [
    "## Try it yourself - temperature\n",
    "How would you modify the cell above to read the temperature value?\n",
    "\n",
    "Hint: you need to change both the name of sensor (humSensor) and the output variable (humidity).\n",
    "    \n",
    "Try out your own code in the cell below. "
   ]
  },
  {
   "cell_type": "code",
   "execution_count": null,
   "id": "d58d3900",
   "metadata": {},
   "outputs": [],
   "source": [
    "%%js\n",
    "element.text(\"Put your code in this cell.\")\n"
   ]
  },
  {
   "cell_type": "markdown",
   "id": "33b507e9",
   "metadata": {},
   "source": [
    "## Step 4+. Displaying several values\n",
    "\n",
    "Let's write a loop in Python to display several readings in sequence. We will import some helper function for the IPython module.\n",
    "\n",
    "Also, we can make the display more informative by adding some words to the numerical reading. \n"
   ]
  },
  {
   "cell_type": "code",
   "execution_count": null,
   "id": "038bf057",
   "metadata": {},
   "outputs": [],
   "source": [
    "from IPython.display import Javascript, display\n",
    "from time import sleep\n",
    "\n",
    "for i in range(10):\n",
    "    display(Javascript(\"\"\"\n",
    "    element.text(\"Humdity is \" + humSensor.humidity + \"%. \");\n",
    "    element.append(\"Temperature is \" + tempSensor.temperature + \" degrees.\");\n",
    "    \"\"\"))\n",
    "    sleep(.25)"
   ]
  },
  {
   "cell_type": "markdown",
   "id": "6b0110eb",
   "metadata": {},
   "source": [
    "## Step 5. Closing down the sensors. \n",
    "\n",
    "Once we are all done, we should close the connection to the phidget. This will leave it free for the next person to use in their experiments. \n",
    "\n",
    "The following cell creates a button that you can click to close the Phidgets. Click it once you are all done with the Phidgets in this notebook. "
   ]
  },
  {
   "cell_type": "code",
   "execution_count": null,
   "id": "eb491d21",
   "metadata": {},
   "outputs": [],
   "source": [
    "def doDisconnect(b):\n",
    "    display(Javascript(\"\"\"\n",
    "        (async () => {\n",
    "            await humSensor.close();\n",
    "            await tempSensor.close();\n",
    "            usbconn.close();\n",
    "            usbconn.delete();\n",
    "            delete window.usbconn;\n",
    "            element.text(\"You have disconnected the Phidgets.\");\n",
    "        })();\n",
    "    \"\"\"))\n",
    "\n",
    "run_button = widgets.Button(\n",
    "    description = 'IMPORTANT: Click to disconnect', \n",
    "        button_style='danger',layout=widgets.Layout(width='50%', height='80px')\n",
    ")\n",
    "print(\"Press this button when you are done, to disconnect the Phidgets\")\n",
    "run_button.on_click(doDisconnect)\n",
    "\n",
    "display(run_button)"
   ]
  },
  {
   "cell_type": "markdown",
   "id": "2771e891",
   "metadata": {},
   "source": [
    "### Confirm\n",
    "\n",
    "You can confirm the phidget is open or closed by running the following cell. \n",
    "\n",
    "If it is open (true), try clicking the button above, again. "
   ]
  },
  {
   "cell_type": "code",
   "execution_count": null,
   "id": "5a556ab2",
   "metadata": {},
   "outputs": [],
   "source": [
    "%%js\n",
    "element.text(\"Is the humidity sensor attached? \" + humSensor.attached);\n",
    "element.append(\"<p> Is the temperature sensor attached? \" + tempSensor.attached);\n"
   ]
  },
  {
   "cell_type": "markdown",
   "id": "9382ee3a",
   "metadata": {},
   "source": [
    "## In case of errors\n",
    "\n",
    "What kind of errors can happen? What should they do about them?\n",
    "\n",
    "Symptom 1. At Step 2, you keep getting \"Connection Errors.\"\n",
    "- Problem is likely that you are not using the Chrome browser.\n",
    "    - Solution is to switch to Chrome.\n",
    "- You might have an older version of a Phidget that needs a firmware update.\n",
    "    - See here for the solution: https://www.phidgets.com/education/educators/advanced-troubleshooting/firmware-upgrade/\n",
    "    \n",
    "Symptom 2. At Step 2, the requestWebUSBDeviceAccess() command fails.\n",
    "- Check that you see an image like this: <img src=\"images/Pconnect.png\" alt=\"Hey\"  width = 300 />\n",
    "- If you don't see it, this probably means your Phidget Starter Kit is not connected.\n",
    "- Solution is to plug in the Phidget to your computer's USB port, then try again.\n",
    "    \n",
    "    \n",
    "Symptom 3. At Step 2, the image above appears, but you do not see the VINT device displayed.\n",
    "- Problem is likely that the Phidget device is not attached to your computer.\n",
    "- Solution is to plug in the Phidget to your computer's USB port, then try again.\n",
    "\n",
    "\n",
    "\n",
    "Symptom 4. At Step 2 or 3, the image above appears and you select the VINT device, but nothing else happens.\n",
    "- Problem is likely that another piece of software is already connected to the device. For instance, if you have another Jupyter notebook using the device, or are using Phidget's MakeCode software.\n",
    "- Solution is to stop the other software from running.\n",
    "- In some cases, you might need to shut down all the notebooks and log out of the Callysto Hub. Then log back in and start anew. \n",
    "- don't forget to click the <span style=\"color:red\">BIG, RED DISCONNECT BUTTON</span> above when you are done. \n",
    "\n",
    "Symptom 5. JavaScript errors occur, like **TypeError: Cannot read properties of undefined (reading 'attached')**\n",
    "- check the spelling of the variables and commands"
   ]
  },
  {
   "cell_type": "markdown",
   "id": "4871334f",
   "metadata": {},
   "source": [
    "[![Callysto.ca License](https://github.com/callysto/curriculum-notebooks/blob/master/callysto-notebook-banner-bottom.jpg?raw=true)](https://github.com/callysto/curriculum-notebooks/blob/master/LICENSE.md)"
   ]
  }
 ],
 "metadata": {
  "kernelspec": {
   "display_name": "Python 3 (ipykernel)",
   "language": "python",
   "name": "python3"
  },
  "language_info": {
   "codemirror_mode": {
    "name": "ipython",
    "version": 3
   },
   "file_extension": ".py",
   "mimetype": "text/x-python",
   "name": "python",
   "nbconvert_exporter": "python",
   "pygments_lexer": "ipython3",
   "version": "3.9.13"
  }
 },
 "nbformat": 4,
 "nbformat_minor": 5
}
