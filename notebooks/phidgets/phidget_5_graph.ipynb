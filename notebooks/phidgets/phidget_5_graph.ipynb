{
 "cells": [
  {
   "cell_type": "markdown",
   "id": "a954153d",
   "metadata": {},
   "source": [
    "![Callysto.ca Banner](https://github.com/callysto/curriculum-notebooks/blob/master/callysto-notebook-banner-top.jpg?raw=true)\n",
    "\n"
   ]
  },
  {
   "cell_type": "markdown",
   "id": "f10f5b13",
   "metadata": {},
   "source": [
    "## Phidget_5 Graphs and gauges.\n",
    "\n",
    "Using what we have learned so far, let's add some graphs to the display. This way we can see a record over time of the temperature and humidity readings. \n",
    "\n",
    "We use Plotly to get some nice looking gauges, and add some graphs to record the data coming from the Phidget devices. \n",
    "\n",
    "It is important to run this notebook in the Google Chrome web browser, on a desktop or laptop computer. It also will work with Chromium, Opera and Edge. Unfortunately, other browsers (FireFox, Safari) will not work as they cannot access the USB port that connects to the Phidget device. That may change in the future, but at the time of writing, this is currently only possible in Chrome/Chromium/Opera/Edge."
   ]
  },
  {
   "cell_type": "markdown",
   "id": "a6e7a5df",
   "metadata": {},
   "source": [
    "## Setting up the Phidget hardware\n",
    "\n",
    "We will be using the Phidget Starter Kit, as shown in this figure:\n",
    "<img src=\"images/KIT4003.jpg\" alt=\"Image of the starter kit\"  width = 500 />\n",
    "\n",
    "Verify these points:\n",
    "- Get a hold of a Phidgets Starter Kit. It should already be assembled. If not, assemble it now.\n",
    "    - You will have received instructions with the kit on how to assemble it.\n",
    "- The Starter Kit has a temperature/humidity sensor attached. If it does not, find the sensor and attach it.\n",
    "    - The humidity sensor is a small black box attached with a thin cable. It is marked with the initials \"HUM.\"\n",
    "- Connect the Starter Kit to your computer with a USB cable. \n",
    "    - The Kit come with a USB cable, it is attached to the Hub device inside the Starter Kit.\n",
    "- If you have an older version of the Phidgets, you may need to update its firmware. See the following for details:\n",
    "    - https://www.phidgets.com/education/educators/advanced-troubleshooting/firmware-upgrade/\n",
    "- As mentioned earlier, make sure you are running this notebook in the Google Chrome browser. "
   ]
  },
  {
   "cell_type": "markdown",
   "id": "6e7dc6c8",
   "metadata": {},
   "source": [
    "## Libraries\n",
    "\n",
    "We include a few libraries, for plotting and doing numerical work."
   ]
  },
  {
   "cell_type": "code",
   "execution_count": null,
   "id": "2ffc826b",
   "metadata": {},
   "outputs": [],
   "source": [
    "from plotly.subplots import make_subplots\n",
    "import plotly.graph_objects as go\n",
    "import numpy as np"
   ]
  },
  {
   "cell_type": "markdown",
   "id": "4bde58ed",
   "metadata": {},
   "source": [
    "## Data storage\n",
    "\n",
    "The data has to go somewhere, so we create a few buffers to store the temperature and humidity readings."
   ]
  },
  {
   "cell_type": "code",
   "execution_count": null,
   "id": "0a8222a0",
   "metadata": {},
   "outputs": [],
   "source": [
    "buffer_len = 100\n",
    "\n",
    "h_buffer = np.zeros(buffer_len)\n",
    "t_buffer = np.zeros(buffer_len)"
   ]
  },
  {
   "cell_type": "markdown",
   "id": "566812cf",
   "metadata": {},
   "source": [
    "## Gauges and charts\n",
    "\n",
    "We create the two gauges for temperature and humidity, and the two charts to display the data over time. The gauges are called `t_indicator` and `h_indicator`, and the charts are called `t_chart` and `h_chart`.\n",
    "\n",
    "We use the features of Plotly to put these four items into a single figure, using the `subplot()` function. We also add titles and some default ranges for the y-axes in the charts, to make this all work with the callback functions above. \n",
    "\n",
    "We then turn the figure into a live widget, using the `FigureWidget()` function.\n",
    "\n",
    "Once these gauges and charts are all set up, we will connect them to the Phidget sensors."
   ]
  },
  {
   "cell_type": "code",
   "execution_count": null,
   "id": "390878fc",
   "metadata": {},
   "outputs": [],
   "source": [
    "x = np.arange(buffer_len)\n",
    "\n",
    "t_indicator = go.Indicator(\n",
    "    mode = \"gauge+number\",\n",
    "    value = 20,\n",
    "    domain = {'x': [0, 1], 'y': [0, 1]},\n",
    "    title = {'text': \"Temperature\"},\n",
    "    gauge = {'axis': {'range': [5, 35]}}\n",
    ")\n",
    "\n",
    "h_indicator = go.Indicator(\n",
    "    mode = \"gauge+number\",\n",
    "    value = 40,\n",
    "    domain = {'x': [0, 1], 'y': [0, 1]},\n",
    "    title = {'text': \"Humidity\"},\n",
    "    gauge = {'axis': {'range': [0, 100]}}\n",
    ")\n",
    "\n",
    "\n",
    "t_chart = go.Scatter(x=x, y=t_buffer, mode='lines')\n",
    "h_chart = go.Scatter(x=x, y=h_buffer, mode='lines')\n",
    "\n",
    "\n",
    "fig = make_subplots(\n",
    "    rows=2,\n",
    "    cols=2,\n",
    "    specs=[[{'type' : 'domain'}, {'type' : 'domain'}],\n",
    "           [{'type' : 'xy'}, {'type' : 'xy'}]])\n",
    "fig.append_trace(t_indicator, row=1, col=1)\n",
    "fig.append_trace(h_indicator, row=1, col=2)\n",
    "fig.append_trace(t_chart, row=2, col=1)\n",
    "fig.append_trace(h_chart, row=2, col=2)\n",
    "\n",
    "fig.update_traces(name='Temperature', showlegend = True, row=2, col=1)\n",
    "fig.update_traces(name='Humidity', showlegend = True, row=2, col=2)\n",
    "\n",
    "fig.update_yaxes(title_text=\"Degrees C\", range=[10, 30], row=2, col=1)\n",
    "fig.update_yaxes(title_text=\"Percentage\", range=[50, 70], row=2, col=2)\n",
    "\n",
    "plots = go.FigureWidget(fig)\n",
    "\n",
    "plots"
   ]
  },
  {
   "cell_type": "markdown",
   "id": "d02ab9b4",
   "metadata": {},
   "source": [
    "## Utility functions\n",
    "\n",
    "We introduce a few utility functions, which are used to set the ranges on the vertical axes of our graphs. We don't know what temperature or humidity to expect, so we set the Y range to about ±2 degrees of the current temperature value, and ±10 percentage points for the humidity. \n",
    "\n",
    "This will make it easier for us to see small changes in the reading, reflected in the graphs."
   ]
  },
  {
   "cell_type": "code",
   "execution_count": null,
   "id": "6d8fc4ee",
   "metadata": {},
   "outputs": [],
   "source": [
    "## Utility function to bracket a value by plus/minus 2, 5 or 10\n",
    "\n",
    "def bracket2(value):\n",
    "    return (2*np.round(value/2)-2, 2*np.round(value/2)+2)\n",
    "\n",
    "def bracket5(value):\n",
    "    return (5*np.round(value/5)-5, 5*np.round(value/5)+5)\n",
    "\n",
    "def bracket10(value):\n",
    "    return (10*np.round(value/10)-10, 10*np.round(value/10)+10)"
   ]
  },
  {
   "cell_type": "markdown",
   "id": "34139898",
   "metadata": {},
   "source": [
    "## Update data functions\n",
    "\n",
    "Here we define the updtate functions. These functions get called whenever the Phidgets report new values for temperature and humidity. They will link the Phidget devices to the plots on screen.\n",
    "\n",
    "We have two buffers, or arrays, to store the temperature and humidity readings over a period of time. We chose 100 points, for simplicity, but you could change this. \n",
    "\n",
    "The update functions do three things:\n",
    "- Update the value in the temperature or humidity gauge\n",
    "- Store the new value at the end of buffer, and display the 100 values in the temperature or humidity graph\n",
    "- Update the range of the y-axis for the graph, so it brackets the actual reading value.\n",
    "\n",
    "As mentioned above, we do this bracketing so the graphs look nice, and we can see small changes in tmeperature or humidity.\n",
    "\n",
    "Feel free to experiment with better ways to display the charts. "
   ]
  },
  {
   "cell_type": "raw",
   "id": "7e94cc1e",
   "metadata": {},
   "source": [
    "def callback_temp(value):\n",
    "    f.data[0]['value'] = value      \n",
    "    t_buffer[0:-1] = t_buffer[1:]\n",
    "    t_buffer[-1] = value\n",
    "    f.data[2]['y'] = t_buffer\n",
    "    f.layout['yaxis']['range'] = bracket2(value)\n",
    "\n",
    "def callback_hum(value):\n",
    "    f.data[1]['value'] = value\n",
    "    h_buffer[0:-1] = h_buffer[1:]\n",
    "    h_buffer[-1] = value\n",
    "    f.data[3]['y'] = h_buffer\n",
    "    f.layout['yaxis2']['range'] = bracket10(value)\n",
    " "
   ]
  },
  {
   "cell_type": "code",
   "execution_count": null,
   "id": "e882a65b",
   "metadata": {},
   "outputs": [],
   "source": [
    "# define update functions to connect Phidget widgets to the gauges\n",
    "\n",
    "def updateTemperature(change):\n",
    "    plots.data[0]['value'] = change.new      \n",
    "    t_buffer[0:-1] = t_buffer[1:]\n",
    "    t_buffer[-1] = change.new\n",
    "    plots.data[2]['y'] = t_buffer\n",
    "    plots.layout['yaxis']['range'] = bracket2(change.new)\n",
    "\n",
    "def updateHumidity(change):\n",
    "    plots.data[1]['value'] = change.new\n",
    "    h_buffer[0:-1] = h_buffer[1:]\n",
    "    h_buffer[-1] = change.new\n",
    "    plots.data[3]['y'] = h_buffer\n",
    "    plots.layout['yaxis2']['range'] = bracket10(change.new)"
   ]
  },
  {
   "cell_type": "markdown",
   "id": "0aad94cc",
   "metadata": {},
   "source": [
    "## Setup the Phidget software\n",
    "\n",
    "As in the earlier notebooks, the main steps are thus:\n",
    "\n",
    "1. Import some Python libraries\n",
    "2. Create the Phidget Widget as a software object to connect to the devices\n",
    "3. Display the widget and the gauges\n",
    "4. Connect by pressing a button on screen\n",
    "5. Link the Phidget data to the gauges, for live updates. View the gauges.\n",
    "6. Close the sensor when you are done"
   ]
  },
  {
   "cell_type": "markdown",
   "id": "9cc0a568",
   "metadata": {},
   "source": [
    "## Step 1.\n",
    "\n",
    "Let's import a few Python libraries that we need. \n",
    "\n",
    "The **anywidget** library is still in development, so we do a pip install if it is not already on the hub. "
   ]
  },
  {
   "cell_type": "code",
   "execution_count": null,
   "id": "87304d86",
   "metadata": {},
   "outputs": [],
   "source": [
    "try:\n",
    "    import anywidget\n",
    "except:\n",
    "    !pip install \"anywidget[dev]\"\n",
    "    import anywidget\n",
    "    \n",
    "import pathlib\n",
    "import traitlets"
   ]
  },
  {
   "cell_type": "markdown",
   "id": "3c1b0abc",
   "metadata": {},
   "source": [
    "## Step 2.\n",
    "\n",
    "We create the PhidgetFour class (software object) as an example of the **anywidget** models. The JS code for this tool is in the file **ph4auto.js** while the style file is in **ph4xx.css**. If you like, you can open this files in your browser to see what the code looks like.\n",
    "\n",
    "The PhidgetFour object contains four Python variables (named temperature, humidity, moisture and luminance) which will contain the data from the sensors. "
   ]
  },
  {
   "cell_type": "code",
   "execution_count": null,
   "id": "882ff4fc",
   "metadata": {},
   "outputs": [],
   "source": [
    "class PhidgetsFour(anywidget.AnyWidget):\n",
    "    _esm = pathlib.Path(\"ph4auto.js\")\n",
    "    _css = pathlib.Path(\"ph4xx.css\")\n",
    "    # These 4 variables are used by the widget. Do not delete. \n",
    "    temperature = traitlets.Float(0).tag(sync=True)\n",
    "    humidity = traitlets.Float(0).tag(sync=True)\n",
    "    moisture = traitlets.Float(0).tag(sync=True)\n",
    "    luminance = traitlets.Float(0).tag(sync=True)\n",
    "\n",
    "pf = PhidgetsFour()"
   ]
  },
  {
   "cell_type": "markdown",
   "id": "5c57a974",
   "metadata": {},
   "source": [
    "## Step 3.\n",
    "\n",
    "We now open and display the Phidget widget along with the gauges and plots.\n",
    "\n",
    "When you run the following cell, you should see a button displayed and some text, followed by the gauges and plots. "
   ]
  },
  {
   "cell_type": "code",
   "execution_count": null,
   "id": "34043762",
   "metadata": {},
   "outputs": [],
   "source": [
    "display(pf,plots)"
   ]
  },
  {
   "cell_type": "markdown",
   "id": "aca3d2b7",
   "metadata": {},
   "source": [
    "## Step 4. \n",
    "Clicking on the \"Connect\" button above will open a window that asks you to select the Phidget Hub. Select the hub and click \"Connect.\" The window looks like this:\n",
    "<img src=\"images/Pconnect.png\" alt=\"Hey\"  width = 300 />\n",
    "\n",
    "If you don't get this window, perhaps you are using the wrong browser. (Use Chrome, Chromium, or Opera).\n",
    "\n",
    "If you get the window but don't see the Phidget device, check to be sure the Phidget VINT hub is connected to your computer with a USB cable."
   ]
  },
  {
   "cell_type": "markdown",
   "id": "6cadcd32",
   "metadata": {},
   "source": [
    "### Check:\n",
    "If all is well, the status text will report that the USB port is connected and the device channels are open. You should also see the value for temperature and humidity\n",
    "\n",
    "If you connected a moisture probe and the light detector from the Phidgets plant kit, you will see these values displayed as well. \n",
    "\n",
    "If you don't see any values, check again that the Phidget VINT device is connected to your computer with a USB cable. Also check that you have a Phidget temperature/humidity sensor connected to your VINT with the appropriate cable. "
   ]
  },
  {
   "cell_type": "markdown",
   "id": "5bb9c98d",
   "metadata": {},
   "source": [
    "## Step 5.\n",
    "\n",
    "Now we link the gauges and plots to the Phidgets. Run the following cell and you will see the gauges update as the tempature and humidity changes."
   ]
  },
  {
   "cell_type": "code",
   "execution_count": null,
   "id": "53dbe118",
   "metadata": {},
   "outputs": [],
   "source": [
    "pf.observe(updateTemperature, names=[\"temperature\"])\n",
    "pf.observe(updateHumidity, names=[\"humidity\"])"
   ]
  },
  {
   "cell_type": "markdown",
   "id": "dba3545e",
   "metadata": {},
   "source": [
    "## PAUSE HERE\n",
    "\n",
    "The gauges should be running now. Everything is live.  Scroll up and check it out the gauges, to see the temperature and humitity values. The plots should be recording data as well.\n",
    "\n",
    "Try breathing on the sensor, so you can see changes in the readings. \n",
    "\n",
    "We can even display a copy of the plots right here, also live. "
   ]
  },
  {
   "cell_type": "code",
   "execution_count": null,
   "id": "da966103",
   "metadata": {},
   "outputs": [],
   "source": [
    "display(plots)"
   ]
  },
  {
   "cell_type": "markdown",
   "id": "d0f45bcb",
   "metadata": {},
   "source": [
    "## Step 6. Closing down the sensors\n",
    "\n",
    "It is **really important** to close the sensors when you are done. Otherwise they will keep busy forever, always trying to update the gauges with the latest values. Also, no other notebook can use the Phidgets while this one is active. \n",
    "\n",
    "To close the Phidget, go back to the Connect button above, and click where it says \"Click to disconnect.\"\n",
    "\n",
    "You can also simply close this notebook. "
   ]
  },
  {
   "cell_type": "markdown",
   "id": "c63654ea",
   "metadata": {},
   "source": [
    "## In case of errors\n",
    "\n",
    "Do you see gauges just above this cell, but nothing is happening? Go back and look for the \"Connect\" button in one of the cells. Click on it to get the Phidget hardware to connect to the software.\n",
    "\n",
    "Still having problems? What kind of errors can happen? What should we do about them?\n",
    "\n",
    "**Symptom 1**. When you click the Connect button, status text says \"USB not connected\"\n",
    "- Problem is likely that your browser does not support WebUSB.\n",
    "    - Solution is to switch to the latest versions of Chrome, Chromium, Opera or Edge.\n",
    "- Another problem could be that the Phidget VINT device is not connected via a USB cable. You should see a window like this <img src=\"images/Pconnect.png\" alt=\"Hey\"  width = 300 /> Select the VINT device once it appears.\n",
    "- Another notebook or piece of software is already connected to the Phidget device.\n",
    "    - Only one notebook at a time can use the Phidget. So close down any other notebook using Phidgets, or exit any other software using the device. \n",
    "- You might have an older version of a Phidget that needs a firmware update.\n",
    "    - see here for the solution: https://www.phidgets.com/education/educators/advanced-troubleshooting/firmware-upgrade/\n",
    "  \n",
    "    \n",
    "**Symptom 2**. When you click the Connect button, status text is \"USB connected, channel not open.\"\n",
    "- Check to see that you have a Phidget temperature/humidity device connected to your Phidget hub or VINT device\n"
   ]
  },
  {
   "cell_type": "markdown",
   "id": "26773ba1",
   "metadata": {},
   "source": [
    "## Going further\n",
    "\n",
    "Some ideas to try on your own:\n",
    "\n",
    "- Is there a better way to bracket the values when we set the y-axis limits? Can we make the display nicer?\n",
    "- Can we add some \"memory\" to the y-axis ranges, so they don't jump around too much when the temperature or humidity reading crosses some critical points? For instance, when the temperature crosses an odd integer (e.g. value = 27), the range will jump around from (24,28) t0 (26,30), which is a rather ugly display.\n",
    "- Can we update the charts only once a second? That way it is easier to see the slow changes in value.\n",
    "- Can we record the x-axis as a time value, so we know at what time certain readings occur?\n",
    "- Can we save the data into a file, on some regular basis? This should include data and time stamps, so we have an accurate historical record of the reading.\n"
   ]
  },
  {
   "cell_type": "markdown",
   "id": "301513e8",
   "metadata": {},
   "source": [
    "## Conclusion\n",
    "\n",
    "We have shown how to display the temperature and humidity values from the Phidget device using a live gauges from the Plots library. We also plot the data as it comes in. "
   ]
  },
  {
   "cell_type": "markdown",
   "id": "ba7ee230",
   "metadata": {},
   "source": [
    "[![Callysto.ca License](https://github.com/callysto/curriculum-notebooks/blob/master/callysto-notebook-banner-bottom.jpg?raw=true)](https://github.com/callysto/curriculum-notebooks/blob/master/LICENSE.md)"
   ]
  }
 ],
 "metadata": {
  "kernelspec": {
   "display_name": "Python 3 (ipykernel)",
   "language": "python",
   "name": "python3"
  },
  "language_info": {
   "codemirror_mode": {
    "name": "ipython",
    "version": 3
   },
   "file_extension": ".py",
   "mimetype": "text/x-python",
   "name": "python",
   "nbconvert_exporter": "python",
   "pygments_lexer": "ipython3",
   "version": "3.11.6"
  }
 },
 "nbformat": 4,
 "nbformat_minor": 5
}
