{
 "cells": [
  {
   "cell_type": "markdown",
   "id": "a954153d",
   "metadata": {},
   "source": [
    "![Callysto.ca Banner](https://github.com/callysto/curriculum-notebooks/blob/master/callysto-notebook-banner-top.jpg?raw=true)\n",
    "\n"
   ]
  },
  {
   "cell_type": "markdown",
   "id": "f10f5b13",
   "metadata": {},
   "source": [
    "## Phidget_5 Graphs and gauges.\n",
    "\n",
    "Using what we have learned so far, let's add some graphs to the display. This way we can see record over time of the temperature and humidity readings. \n"
   ]
  },
  {
   "cell_type": "markdown",
   "id": "6e7dc6c8",
   "metadata": {},
   "source": [
    "## Libraries\n",
    "\n",
    "We include a few libraries, for plotting and doing numerical work."
   ]
  },
  {
   "cell_type": "code",
   "execution_count": 1,
   "id": "2ffc826b",
   "metadata": {},
   "outputs": [],
   "source": [
    "from plotly.subplots import make_subplots\n",
    "import plotly.graph_objects as go\n",
    "import numpy as np"
   ]
  },
  {
   "cell_type": "markdown",
   "id": "4bde58ed",
   "metadata": {},
   "source": [
    "## Data storage\n",
    "\n",
    "The data has to go somewhere, so we create a few buffers to store the temperature and humidity readings."
   ]
  },
  {
   "cell_type": "code",
   "execution_count": 2,
   "id": "0a8222a0",
   "metadata": {},
   "outputs": [],
   "source": [
    "buffer_len = 100\n",
    "\n",
    "h_buffer = np.zeros(buffer_len)\n",
    "t_buffer = np.zeros(buffer_len)"
   ]
  },
  {
   "cell_type": "markdown",
   "id": "566812cf",
   "metadata": {},
   "source": [
    "## Gauges and charts\n",
    "\n",
    "We create the two gauges for temperature and humidity, and the two charts to display the data over time. The gauges are called **t_indicator** and **h_indicator**, and the charts are called **t_chart** and **h_chart**.\n",
    "\n",
    "We use the features of Plotly to put this four items into a single figure, using the **subplot()** function. We also add titles and some default ranges for the y-axes in the charts, to make this all work with the callback functions above. \n",
    "\n",
    "We then turn the figure into a live widget, using the **FigureWidget()** function.\n",
    "\n",
    "Once these gauges and charts are all set up, we will connect them to the Phidget sensors."
   ]
  },
  {
   "cell_type": "code",
   "execution_count": 3,
   "id": "390878fc",
   "metadata": {},
   "outputs": [
    {
     "data": {
      "application/vnd.jupyter.widget-view+json": {
       "model_id": "97a1c6768075489f8976b268f2206a0a",
       "version_major": 2,
       "version_minor": 0
      },
      "text/plain": [
       "FigureWidget({\n",
       "    'data': [{'domain': {'x': [0.0, 0.45], 'y': [0.575, 1.0]},\n",
       "              'gauge': {'axis': …"
      ]
     },
     "metadata": {},
     "output_type": "display_data"
    }
   ],
   "source": [
    "x = np.arange(buffer_len)\n",
    "\n",
    "t_indicator = go.Indicator(\n",
    "    mode = \"gauge+number\",\n",
    "    value = 20,\n",
    "    domain = {'x': [0, 1], 'y': [0, 1]},\n",
    "    title = {'text': \"Temperature\"},\n",
    "    gauge = {'axis': {'range': [5, 35]}}\n",
    ")\n",
    "\n",
    "h_indicator = go.Indicator(\n",
    "    mode = \"gauge+number\",\n",
    "    value = 40,\n",
    "    domain = {'x': [0, 1], 'y': [0, 1]},\n",
    "    title = {'text': \"Humidity\"},\n",
    "    gauge = {'axis': {'range': [0, 100]}}\n",
    ")\n",
    "\n",
    "\n",
    "t_chart = go.Scatter(x=x, y=t_buffer, mode='lines')\n",
    "h_chart = go.Scatter(x=x, y=h_buffer, mode='lines')\n",
    "\n",
    "\n",
    "fig = make_subplots(\n",
    "    rows=2,\n",
    "    cols=2,\n",
    "    specs=[[{'type' : 'domain'}, {'type' : 'domain'}],\n",
    "           [{'type' : 'xy'}, {'type' : 'xy'}]])\n",
    "fig.append_trace(t_indicator, row=1, col=1)\n",
    "fig.append_trace(h_indicator, row=1, col=2)\n",
    "fig.append_trace(t_chart, row=2, col=1)\n",
    "fig.append_trace(h_chart, row=2, col=2)\n",
    "\n",
    "fig.update_traces(name='Temperature', showlegend = True, row=2, col=1)\n",
    "fig.update_traces(name='Humidity', showlegend = True, row=2, col=2)\n",
    "\n",
    "fig.update_yaxes(title_text=\"Degrees C\", range=[10, 30], row=2, col=1)\n",
    "fig.update_yaxes(title_text=\"Percentage\", range=[50, 70], row=2, col=2)\n",
    "\n",
    "f = go.FigureWidget(fig)\n",
    "\n",
    "f"
   ]
  },
  {
   "cell_type": "markdown",
   "id": "d02ab9b4",
   "metadata": {},
   "source": [
    "## Utility functions\n",
    "\n",
    "We introduce a few utility functions, which are used to set the ranges on the vertical axes of our graphs. We don't know what temperature or humidity to expect, so we set the Y range to about $\\pm 2$ degrees of the current temperature value, and $\\pm 10$ percentage points for the humidity. \n",
    "\n",
    "This will make it easier for us to see small changes in the reading, reflected in the graphs."
   ]
  },
  {
   "cell_type": "code",
   "execution_count": 4,
   "id": "6d8fc4ee",
   "metadata": {},
   "outputs": [],
   "source": [
    "## Utility function to bracket a value by plus/minus 2, 5 or 10\n",
    "\n",
    "def bracket2(value):\n",
    "    return (2*np.round(value/2)-2, 2*np.round(value/2)+2)\n",
    "\n",
    "def bracket5(value):\n",
    "    return (5*np.round(value/5)-5, 5*np.round(value/5)+5)\n",
    "\n",
    "def bracket10(value):\n",
    "    return (10*np.round(value/10)-10, 10*np.round(value/10)+10)"
   ]
  },
  {
   "cell_type": "markdown",
   "id": "34139898",
   "metadata": {},
   "source": [
    "## Callback functions\n",
    "\n",
    "Here we define the callback functions. These functions get called whenevern the Phidgets report new values for temperature and humidity. They are initiatied from the Javascript code above.\n",
    "\n",
    "We have two buffers, or arrays, to store the temperature and humidity readings over a period of time. We chose 100 points, for simplicity, but you could change this. \n",
    "\n",
    "The callback functions do three things:\n",
    "- update the value in the temperature or humidity gauge\n",
    "- store the new value at the end of buffer, and display the 100 values in the temperature or humidity graph\n",
    "- update the range of the y-axis for the graph, so it brackets the actual reading value.\n",
    "\n",
    "As mentioned above, we do this bracketing so the graphs look nice, and we can see small changes in tmeperature or humidity.\n",
    "\n",
    "Feel free to experiment on better ways to display the charts. "
   ]
  },
  {
   "cell_type": "code",
   "execution_count": 5,
   "id": "b8dba5e4",
   "metadata": {},
   "outputs": [],
   "source": [
    "def callback_temp(value):\n",
    "    f.data[0]['value'] = value      \n",
    "    t_buffer[0:-1] = t_buffer[1:]\n",
    "    t_buffer[-1] = value\n",
    "    f.data[2]['y'] = t_buffer\n",
    "    f.layout['yaxis']['range'] = bracket2(value)\n",
    "\n",
    "def callback_hum(value):\n",
    "    f.data[1]['value'] = value\n",
    "    h_buffer[0:-1] = h_buffer[1:]\n",
    "    h_buffer[-1] = value\n",
    "    f.data[3]['y'] = h_buffer\n",
    "    f.layout['yaxis2']['range'] = bracket10(value)\n",
    " "
   ]
  },
  {
   "cell_type": "markdown",
   "id": "0aad94cc",
   "metadata": {},
   "source": [
    "## Setup the Phidget device\n",
    "\n",
    "You must be running on Chrome on your laptop or desktop, and the Phidget device needs to be connected to the USB port on your computer. \n",
    "\n",
    "As in the earlier notebooks, the main steps are thus:\n",
    "\n",
    "0. Load in some Python libraries\n",
    "1. Load in the Phidgets library, in Javascript\n",
    "2. Define and open the USB connection\n",
    "3. Open the Humidity and Temperature device\n",
    "4. Read values from the devices\n",
    "5. When we are done, close the device\n",
    "\n",
    "\n",
    "The Javascript code here is much like before, except at Step 3  we have introduced callback functions \"callback_hum()\" and \"callback_hum().\" A callback function is just a function that gets called whenever these JS function operate.\n",
    "\n",
    "What is nice here is the callback functions are written in Python, so it is easy for us to program them in Python, and make changes as we need to. \n",
    "\n",
    "Step 4 then becomes \"live\" automatically. \n",
    "\n",
    "So run the following Python and Javascript code, and connect your Phidget. "
   ]
  },
  {
   "cell_type": "markdown",
   "id": "9cc0a568",
   "metadata": {},
   "source": [
    "## Step 0.\n",
    "Let's import a few Python libraries that we need. "
   ]
  },
  {
   "cell_type": "code",
   "execution_count": 6,
   "id": "87304d86",
   "metadata": {},
   "outputs": [],
   "source": [
    "import ipywidgets as widgets\n",
    "from IPython.display import Javascript, display\n",
    "from time import sleep"
   ]
  },
  {
   "cell_type": "markdown",
   "id": "3c1b0abc",
   "metadata": {},
   "source": [
    "## Step 1.\n",
    "Now import the Phidgets library."
   ]
  },
  {
   "cell_type": "code",
   "execution_count": 7,
   "id": "882ff4fc",
   "metadata": {},
   "outputs": [
    {
     "data": {
      "application/javascript": [
       "requirejs.config({\n",
       "    paths: { \n",
       "        'phidget22': ['https://unpkg.com/phidget22/browser/phidget22'], \n",
       "    },                                         \n",
       "});\n",
       "require(['phidget22'], (phidget22) => {\n",
       "   window.phidget22 = phidget22; \n",
       "});\n"
      ],
      "text/plain": [
       "<IPython.core.display.Javascript object>"
      ]
     },
     "metadata": {},
     "output_type": "display_data"
    }
   ],
   "source": [
    "%%js\n",
    "requirejs.config({\n",
    "    paths: { \n",
    "        'phidget22': ['https://unpkg.com/phidget22/browser/phidget22'], \n",
    "    },                                         \n",
    "});\n",
    "require(['phidget22'], (phidget22) => {\n",
    "   window.phidget22 = phidget22; \n",
    "});"
   ]
  },
  {
   "cell_type": "code",
   "execution_count": 8,
   "id": "ae187dd8",
   "metadata": {},
   "outputs": [],
   "source": [
    "## We pause for a second here, to allow the library to load\n",
    "sleep(1)"
   ]
  },
  {
   "cell_type": "markdown",
   "id": "5c57a974",
   "metadata": {},
   "source": [
    "## Step 2. \n",
    "We open the USB connection."
   ]
  },
  {
   "cell_type": "code",
   "execution_count": 9,
   "id": "34043762",
   "metadata": {},
   "outputs": [
    {
     "data": {
      "application/javascript": [
       "\n",
       "if (window.usbconn === undefined) {\n",
       "    \n",
       "    element.text(\"Creating a new USB Connection.\");\n",
       "    \n",
       "    window.usbconn = new phidget22.USBConnection();\n",
       "    \n",
       "    usbconn.connect().then(() => {\n",
       "        usbconn.requestWebUSBDeviceAccess();\n",
       "    }).catch(err => {\n",
       "        window.usbconn.delete();\n",
       "        element.append(\"Error connecting to USB\" + err);\n",
       "    });\n",
       "}\n"
      ],
      "text/plain": [
       "<IPython.core.display.Javascript object>"
      ]
     },
     "metadata": {},
     "output_type": "display_data"
    }
   ],
   "source": [
    "%%js\n",
    "\n",
    "if (window.usbconn === undefined) {\n",
    "    \n",
    "    element.text(\"Creating a new USB Connection.\");\n",
    "    \n",
    "    window.usbconn = new phidget22.USBConnection();\n",
    "    \n",
    "    usbconn.connect().then(() => {\n",
    "        usbconn.requestWebUSBDeviceAccess();\n",
    "    }).catch(err => {\n",
    "        window.usbconn.delete();\n",
    "        element.append(\"Error connecting to USB\" + err);\n",
    "    });\n",
    "}"
   ]
  },
  {
   "cell_type": "code",
   "execution_count": 10,
   "id": "342e20ba",
   "metadata": {},
   "outputs": [],
   "source": [
    "## We rest for a bit while the USB connects\n",
    "sleep(1)"
   ]
  },
  {
   "cell_type": "markdown",
   "id": "aca3d2b7",
   "metadata": {},
   "source": [
    "### Confirm the connection "
   ]
  },
  {
   "cell_type": "code",
   "execution_count": 11,
   "id": "53dbe118",
   "metadata": {},
   "outputs": [
    {
     "data": {
      "application/javascript": [
       "element.text(usbconn.connected);\n"
      ],
      "text/plain": [
       "<IPython.core.display.Javascript object>"
      ]
     },
     "metadata": {},
     "output_type": "display_data"
    }
   ],
   "source": [
    "%%js\n",
    "element.text(usbconn.connected);"
   ]
  },
  {
   "cell_type": "markdown",
   "id": "dba3545e",
   "metadata": {},
   "source": [
    "## Step 3.\n",
    "\n",
    "Notice we introduce the callback functions here, at line 14 and 23. This is new, and a good trick to know aboutl "
   ]
  },
  {
   "cell_type": "code",
   "execution_count": 12,
   "id": "da966103",
   "metadata": {},
   "outputs": [
    {
     "data": {
      "application/javascript": [
       "// set up the humidity sensor\n",
       "window.humSensor = new phidget22.HumiditySensor();\n",
       "humSensor.onHumidityChange = function (humidity) {\n",
       "    IPython.notebook.kernel.execute(\n",
       "        \"callback_hum(\" + humidity + \");\"\n",
       "    );  \n",
       "};\n",
       "humSensor.open();\n",
       "    \n",
       "// set up the temperature sensor\n",
       "window.tempSensor = new phidget22.TemperatureSensor();\n",
       "tempSensor.onTemperatureChange = function (temperature) {\n",
       "    IPython.notebook.kernel.execute(\n",
       "        \"callback_temp(\" + temperature + \");\"\n",
       "    );  \n",
       "};\n",
       "tempSensor.open();\n"
      ],
      "text/plain": [
       "<IPython.core.display.Javascript object>"
      ]
     },
     "metadata": {},
     "output_type": "display_data"
    }
   ],
   "source": [
    "%%js\n",
    "// set up the humidity sensor\n",
    "window.humSensor = new phidget22.HumiditySensor();\n",
    "humSensor.onHumidityChange = function (humidity) {\n",
    "    IPython.notebook.kernel.execute(\n",
    "        \"callback_hum(\" + humidity + \");\"\n",
    "    );  \n",
    "};\n",
    "humSensor.open();\n",
    "    \n",
    "// set up the temperature sensor\n",
    "window.tempSensor = new phidget22.TemperatureSensor();\n",
    "tempSensor.onTemperatureChange = function (temperature) {\n",
    "    IPython.notebook.kernel.execute(\n",
    "        \"callback_temp(\" + temperature + \");\"\n",
    "    );  \n",
    "};\n",
    "tempSensor.open();"
   ]
  },
  {
   "cell_type": "code",
   "execution_count": 13,
   "id": "ec39015d",
   "metadata": {},
   "outputs": [],
   "source": [
    "## We rest for a bit while the devices connect.\n",
    "sleep(1)"
   ]
  },
  {
   "cell_type": "markdown",
   "id": "d0f45bcb",
   "metadata": {},
   "source": [
    "## Step 4. PAUSE HERE\n",
    "\n",
    "The gauges and graphs should be running now. Everything is live.  Scroll up and check it out the gauges, to see the temperature and humitity values. Try breathing on the sensor, so you can see changes in the readings. You should see both the gauges and the graphs change in real time. "
   ]
  },
  {
   "cell_type": "code",
   "execution_count": 14,
   "id": "5131d2d6",
   "metadata": {},
   "outputs": [
    {
     "data": {
      "application/vnd.jupyter.widget-view+json": {
       "model_id": "97a1c6768075489f8976b268f2206a0a",
       "version_major": 2,
       "version_minor": 0
      },
      "text/plain": [
       "FigureWidget({\n",
       "    'data': [{'domain': {'x': [0.0, 0.45], 'y': [0.575, 1.0]},\n",
       "              'gauge': {'axis': …"
      ]
     },
     "metadata": {},
     "output_type": "display_data"
    }
   ],
   "source": [
    "f"
   ]
  },
  {
   "cell_type": "markdown",
   "id": "f0c8d1dd",
   "metadata": {},
   "source": [
    "## Step 5. Closing down the sensors\n",
    "\n",
    "It is **really important** to close the sensor now, as otherwise they will keep busy forever, always trying to update the sliders with the latest values. So, don't skip this next step.\n",
    "\n",
    "The following cell creates a button that you can click to close the Phidgets. Click it once you are all done with the Phidgets in this notebook. "
   ]
  },
  {
   "cell_type": "code",
   "execution_count": 15,
   "id": "12116cea",
   "metadata": {},
   "outputs": [
    {
     "name": "stdout",
     "output_type": "stream",
     "text": [
      "Press this button when you are done, to disconnect the Phidgets\n"
     ]
    },
    {
     "data": {
      "application/vnd.jupyter.widget-view+json": {
       "model_id": "8ca36cb184994ddcb8a554329a8ac787",
       "version_major": 2,
       "version_minor": 0
      },
      "text/plain": [
       "Button(description='Click to disconnect', style=ButtonStyle())"
      ]
     },
     "metadata": {},
     "output_type": "display_data"
    },
    {
     "data": {
      "application/javascript": [
       "\n",
       "        (async () => {\n",
       "            await humSensor.close();\n",
       "            await tempSensor.close();\n",
       "            usbconn.close();\n",
       "            usbconn.delete();\n",
       "            delete window.usbconn;\n",
       "            element.text(\"You have disconnected the Phidgets.\");\n",
       "        })();\n",
       "    "
      ],
      "text/plain": [
       "<IPython.core.display.Javascript object>"
      ]
     },
     "metadata": {},
     "output_type": "display_data"
    }
   ],
   "source": [
    "def doDisconnect(b):\n",
    "    display(Javascript(\"\"\"\n",
    "        (async () => {\n",
    "            await humSensor.close();\n",
    "            await tempSensor.close();\n",
    "            usbconn.close();\n",
    "            usbconn.delete();\n",
    "            delete window.usbconn;\n",
    "            element.text(\"You have disconnected the Phidgets.\");\n",
    "        })();\n",
    "    \"\"\"))\n",
    "\n",
    "run_button = widgets.Button(\n",
    "    description = 'Click to disconnect'\n",
    ")\n",
    "print(\"Press this button when you are done, to disconnect the Phidgets\")\n",
    "run_button.on_click(doDisconnect)\n",
    "\n",
    "display(run_button)"
   ]
  },
  {
   "cell_type": "markdown",
   "id": "71af7d4f",
   "metadata": {},
   "source": [
    "### Confirm\n",
    "\n",
    "You can confirm the phidget has been closed by running the following cell. \n",
    "\n",
    "If it is still attached (true), try clicking the button above, again."
   ]
  },
  {
   "cell_type": "code",
   "execution_count": 17,
   "id": "c0199176",
   "metadata": {},
   "outputs": [
    {
     "data": {
      "application/javascript": [
       "element.text(\"Is the humidity sensor attached? \" + humSensor.attached);\n",
       "element.append(\"<p>Is the temperature sensor attached? \" + tempSensor.attached);\n"
      ],
      "text/plain": [
       "<IPython.core.display.Javascript object>"
      ]
     },
     "metadata": {},
     "output_type": "display_data"
    }
   ],
   "source": [
    "%%js\n",
    "element.text(\"Is the humidity sensor attached? \" + humSensor.attached);\n",
    "element.append(\"<p>Is the temperature sensor attached? \" + tempSensor.attached);"
   ]
  },
  {
   "cell_type": "markdown",
   "id": "26773ba1",
   "metadata": {},
   "source": [
    "## Going further\n",
    "\n",
    "Some ideas to try on your own:\n",
    "\n",
    "- is there a better way to bracket the values when we set the y-axis limits? Can we make the display nicer?\n",
    "- can we add some \"memory\" to the y-axis ranges, so they don't jump around too much when the temperature or humidity reading crosses some critical points? For instance, when the temperature crosses an odd integer (e.g. value = 27), the range will jump around from (24,28) t0 (26,30). Which is a rather ugly display\n",
    "- can we update the charts only once a second? That way it is easier to see the slow changes in value.\n",
    "- can we record the x-axis as a time value, so we know at what time certain readings occur?\n",
    "- can we save the data into a file, on some regular basis? This should include data and time stamps, so we have an accurate historical record of the reading.\n"
   ]
  },
  {
   "cell_type": "markdown",
   "id": "301513e8",
   "metadata": {},
   "source": [
    "## Conclusion\n",
    "\n",
    "We have shown how to display the temperature and humidity values from the Phidget device using a live widget from the ipywidgets library. "
   ]
  },
  {
   "cell_type": "markdown",
   "id": "ba7ee230",
   "metadata": {},
   "source": [
    "[![Callysto.ca License](https://github.com/callysto/curriculum-notebooks/blob/master/callysto-notebook-banner-bottom.jpg?raw=true)](https://github.com/callysto/curriculum-notebooks/blob/master/LICENSE.md)"
   ]
  }
 ],
 "metadata": {
  "kernelspec": {
   "display_name": "Python 3 (ipykernel)",
   "language": "python",
   "name": "python3"
  },
  "language_info": {
   "codemirror_mode": {
    "name": "ipython",
    "version": 3
   },
   "file_extension": ".py",
   "mimetype": "text/x-python",
   "name": "python",
   "nbconvert_exporter": "python",
   "pygments_lexer": "ipython3",
   "version": "3.10.5"
  }
 },
 "nbformat": 4,
 "nbformat_minor": 5
}
