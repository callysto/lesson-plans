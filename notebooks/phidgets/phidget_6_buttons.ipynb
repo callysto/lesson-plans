{
 "cells": [
  {
   "cell_type": "markdown",
   "id": "bcfef756",
   "metadata": {},
   "source": [
    "![Callysto.ca Banner](https://github.com/callysto/curriculum-notebooks/blob/master/callysto-notebook-banner-top.jpg?raw=true)\n",
    "\n"
   ]
  },
  {
   "cell_type": "markdown",
   "id": "b212dbee",
   "metadata": {},
   "source": [
    "## Phidget_6 Buttons and LEDs\n",
    "\n",
    "This short notebook introduces how we access a Phidgets device from a Jupyter notebook.\n",
    "\n",
    "We will monitor the two pushbuttons on the Phidget starter kit, and use them to control the LEDson that box. \n",
    "\n",
    "It is important to run this notebook in the Google Chrome web browser, on a desktop or laptop computer. Opera and MicroSoft Edge should work as well. Unfortunately, other browsers (FireFox, Safari) do not work currently, as they cannot access the USB port that connects to the Phidget device.\n",
    "\n",
    "Reference code: https://www.phidgets.com/education/learn/getting-started-kit-tutorial/blink-led/\n",
    "Be sure to look at the JavaScript code."
   ]
  },
  {
   "cell_type": "markdown",
   "id": "514ac52a",
   "metadata": {},
   "source": [
    "## Setting up the Phidget device\n",
    "\n",
    "We will be using the Phidget Starter Kit, as shown in this figure:\n",
    "<img src=\"images/KIT4003.jpg\" alt=\"Image of the starter kit\"  width = 500 />\n",
    "\n",
    "Verify these points:\n",
    "- Get a hold of a Phidgets Starter Kit. It should already be assembled. If not, assemble it now.\n",
    "    - You will have received instructions with the kit on how to assemble it.\n",
    "- The Starter Kit has a two buttons and two switches connect. If it does not, find them and attach.\n",
    "    - We assume the red button is attached to port 0, and the red LED attached to port 1.\n",
    "    - We assume the green button is attached to port 5, and the green LED attached to port 4.\n",
    "    - if note, either change yoor wires or chage the \"setPortHub\" values in the code belwo. \n",
    "- Connect the Starter Kit to your computer with a USB cable. \n",
    "    - The Kit come with a USB cable, it is attached to the Hub device inside the Starter Kit.\n",
    "- As mentioned above, make sure you are running this notebook in the Google Chrome browser. "
   ]
  },
  {
   "cell_type": "markdown",
   "id": "3514789c",
   "metadata": {},
   "source": [
    "## Setup the Phidget device\n",
    "\n",
    "As in the earlier notebooks, the main steps are thus:\n",
    "1. Set up default values for variables that cross js cells\n",
    "2. Define and open the USB connection\n",
    "3. Open the digital inputs (buttons) and outputs (LEDS). There are four in total.\n",
    "4. Request a connection to the Phidgets device\n",
    "5. Read values from the buttons, push values to the LEDs \n",
    "6. When we are done, close the device"
   ]
  },
  {
   "cell_type": "markdown",
   "id": "a61e9e84",
   "metadata": {},
   "source": [
    "## Step 0\n",
    "Let's import a few Python libraries that we need. "
   ]
  },
  {
   "cell_type": "code",
   "execution_count": null,
   "id": "1d3ede7d",
   "metadata": {},
   "outputs": [],
   "source": [
    "import ipywidgets as widgets\n",
    "from IPython.display import Javascript, display\n",
    "from time import sleep"
   ]
  },
  {
   "cell_type": "markdown",
   "id": "bf80a7b8",
   "metadata": {},
   "source": [
    "## Step 1\n",
    "\n",
    "Set up some variales.\n"
   ]
  },
  {
   "cell_type": "code",
   "execution_count": null,
   "id": "4cdf9d1c",
   "metadata": {},
   "outputs": [],
   "source": [
    "%%js\n",
    "window.usbconn = null;\n",
    "window.inA = null;\n",
    "window.inB = null;\n",
    "window.outA = null;\n",
    "window.outB = null;"
   ]
  },
  {
   "cell_type": "markdown",
   "id": "cb21c64c",
   "metadata": {},
   "source": [
    "## Step 2\n",
    "Open the USB connection."
   ]
  },
  {
   "cell_type": "code",
   "execution_count": null,
   "id": "3838d6d9",
   "metadata": {},
   "outputs": [],
   "source": [
    "%%js\n",
    "requirejs.config({\n",
    "    paths: { \n",
    "        'phidget22': ['https://unpkg.com/phidget22/browser/phidget22'], \n",
    "    },                                         \n",
    "});\n",
    "\n",
    "require(['phidget22'], function(phidget22) {\n",
    "    if (window.usbconn == null){\n",
    "        window.usbconn = new phidget22.USBConnection();\n",
    "        element.text(\"Creating a new USB Connection.\");\n",
    "    }\n",
    "    console.log(window.usbconn)\n",
    "    \n",
    "    window.usbconn.connect().catch(err => {\n",
    "        window.usbconn.delete();\n",
    "        element.append(\"Error connecting to USB\" + err);\n",
    "    });\n",
    "    element.append(\" Connected.\");\n",
    "});"
   ]
  },
  {
   "cell_type": "code",
   "execution_count": null,
   "id": "f86c51e5",
   "metadata": {},
   "outputs": [],
   "source": [
    "## We rest for a bit while the devices connect\n",
    "sleep(2)"
   ]
  },
  {
   "cell_type": "markdown",
   "id": "6592c60e",
   "metadata": {},
   "source": [
    "## Check\n",
    "We check here that the connection is open (should read \"true\")"
   ]
  },
  {
   "cell_type": "code",
   "execution_count": null,
   "id": "af44c83f",
   "metadata": {},
   "outputs": [],
   "source": [
    "%%js\n",
    "element.text(window.usbconn.connected);"
   ]
  },
  {
   "cell_type": "markdown",
   "id": "5cd5e7f4",
   "metadata": {},
   "source": [
    "## Step 3\n",
    "\n",
    "Open the two input ports and the two output ports. \n",
    "- We assume the red button (inA) is attached to port 0, and the red LED (outA) attached to port 1.\n",
    "- We assume the green button (inB) is attached to port 5, and the green LED (outB) attached to port 4.\n",
    "\n",
    "If these are different on your device, you will need to change these numbers in the code. \n"
   ]
  },
  {
   "cell_type": "code",
   "execution_count": null,
   "id": "2a447261",
   "metadata": {},
   "outputs": [],
   "source": [
    "%%js\n",
    "requirejs.config({\n",
    "    paths: { \n",
    "        'phidget22': ['https://unpkg.com/phidget22/browser/phidget22'], \n",
    "    },                                         \n",
    "});\n",
    "\n",
    "require(['phidget22'], function(phidget22) {\n",
    "        window.inA = new phidget22.DigitalInput();\n",
    "        window.inA.setHubPort(0);        \n",
    "        window.inA.setIsHubPortDevice(true); // required for a switch\n",
    "        window.inA.open();\n",
    "\n",
    "        window.inB = new phidget22.DigitalInput();\n",
    "        window.inB.setHubPort(5);        \n",
    "        window.inB.setIsHubPortDevice(true); // required for a switch\n",
    "        window.inB.open();\n",
    "\n",
    "        window.outA = new phidget22.DigitalOutput();\n",
    "        window.outA.setHubPort(1);        \n",
    "        window.outA.setIsHubPortDevice(true); // required for an LED\n",
    "        window.outA.open();\n",
    "\n",
    "        window.outB = new phidget22.DigitalOutput();\n",
    "        window.outB.setHubPort(4);        \n",
    "        window.outB.setIsHubPortDevice(true); // required for an LED\n",
    "        window.outB.open();\n",
    "\n",
    "});"
   ]
  },
  {
   "cell_type": "code",
   "execution_count": null,
   "id": "8dfa569b",
   "metadata": {},
   "outputs": [],
   "source": [
    "## We rest for a bit while the devices connect.\n",
    "sleep(2)"
   ]
  },
  {
   "cell_type": "markdown",
   "id": "38d7fc04",
   "metadata": {},
   "source": [
    "## Step 4\n",
    "\n",
    "We request a connection to the Phidgets devices. "
   ]
  },
  {
   "cell_type": "code",
   "execution_count": null,
   "id": "9b15b3a4",
   "metadata": {},
   "outputs": [],
   "source": [
    "%%js\n",
    "window.usbconn.requestWebUSBDeviceAccess();"
   ]
  },
  {
   "cell_type": "markdown",
   "id": "ff81ff44",
   "metadata": {},
   "source": [
    "## Check\n",
    "\n",
    "Are the four devices all connected? Expecting \"true\" for the answers in the following. "
   ]
  },
  {
   "cell_type": "code",
   "execution_count": null,
   "id": "a0d9d862",
   "metadata": {},
   "outputs": [],
   "source": [
    "%%js\n",
    "element.text(\"Is Input A connected? \" + window.inA.isOpen);\n",
    "element.append(\"<p>Is Input B connected? \" + window.inB.isOpen);\n",
    "element.append(\"<p>Is Output A connected? \" + window.outA.isOpen);\n",
    "element.append(\"<p>Is Output B connected? \" + window.outB.isOpen);"
   ]
  },
  {
   "cell_type": "markdown",
   "id": "71dff949",
   "metadata": {},
   "source": [
    "## Step 5\n",
    "\n",
    "Let's play by turing on and off the LEDs, and reading the buttons."
   ]
  },
  {
   "cell_type": "markdown",
   "id": "dce2dfa5",
   "metadata": {},
   "source": [
    "## Turn LED A on\n",
    "- run the next cell"
   ]
  },
  {
   "cell_type": "code",
   "execution_count": null,
   "id": "68068cc2",
   "metadata": {},
   "outputs": [],
   "source": [
    "%%js\n",
    "window.outA.setState(true);"
   ]
  },
  {
   "cell_type": "code",
   "execution_count": null,
   "id": "44b1e723",
   "metadata": {},
   "outputs": [],
   "source": [
    "## Wait a bit so we can see the light\n",
    "sleep(2)"
   ]
  },
  {
   "cell_type": "markdown",
   "id": "3e5bc561",
   "metadata": {},
   "source": [
    "## Turn LED A off\n",
    "- run the next cell"
   ]
  },
  {
   "cell_type": "code",
   "execution_count": null,
   "id": "64b2386a",
   "metadata": {},
   "outputs": [],
   "source": [
    "%%js\n",
    "window.outA.setState(false);"
   ]
  },
  {
   "cell_type": "markdown",
   "id": "229d35b0",
   "metadata": {},
   "source": [
    "## Turn LED B on\n",
    "- run the next cell"
   ]
  },
  {
   "cell_type": "code",
   "execution_count": null,
   "id": "14eac03b",
   "metadata": {},
   "outputs": [],
   "source": [
    "%%js\n",
    "window.outB.setState(true);"
   ]
  },
  {
   "cell_type": "code",
   "execution_count": null,
   "id": "100b8d62",
   "metadata": {},
   "outputs": [],
   "source": [
    "## Wait a bit so we can see the light\n",
    "sleep(2)"
   ]
  },
  {
   "cell_type": "markdown",
   "id": "c95797c8",
   "metadata": {},
   "source": [
    "## Turn LED B off \n",
    "- run the next cell"
   ]
  },
  {
   "cell_type": "code",
   "execution_count": null,
   "id": "cca0d1a0",
   "metadata": {},
   "outputs": [],
   "source": [
    "%%js\n",
    "window.outB.setState(false);"
   ]
  },
  {
   "cell_type": "markdown",
   "id": "c68f7122",
   "metadata": {},
   "source": [
    "## Is button A pushed on or off?\n",
    "- run the next cell. Try it both with the button pushed on, or off. "
   ]
  },
  {
   "cell_type": "code",
   "execution_count": null,
   "id": "baf11292",
   "metadata": {},
   "outputs": [],
   "source": [
    "%%js\n",
    "element.text(window.inA.state)"
   ]
  },
  {
   "cell_type": "markdown",
   "id": "10a42789",
   "metadata": {},
   "source": [
    "## Is button B pushed on or off?\n",
    "- run the next cell. Try it both with the button pushed on, or off. "
   ]
  },
  {
   "cell_type": "code",
   "execution_count": null,
   "id": "2f793e75",
   "metadata": {},
   "outputs": [],
   "source": [
    "%%js\n",
    "element.text(window.inB.state)"
   ]
  },
  {
   "cell_type": "markdown",
   "id": "e5c43e06",
   "metadata": {},
   "source": [
    "## Connect the button to the LED\n",
    "- run the next cell. \n",
    "- then try pushing the A button. It should turn on the A LED> "
   ]
  },
  {
   "cell_type": "code",
   "execution_count": null,
   "id": "1ffd9a9a",
   "metadata": {},
   "outputs": [],
   "source": [
    "%%js\n",
    "window.inA.onStateChange = function (state) {\n",
    "    window.outA.setState(state);\n",
    "};\n"
   ]
  },
  {
   "cell_type": "markdown",
   "id": "ff5e4e84",
   "metadata": {},
   "source": [
    "## Connect the B button to a screen button\n",
    "- run the next to cells\n",
    "- when you push the B button, the button on the screen should flash on and off"
   ]
  },
  {
   "cell_type": "code",
   "execution_count": null,
   "id": "87efdce8",
   "metadata": {},
   "outputs": [],
   "source": [
    "from ipywidgets import  ToggleButton\n",
    "\n",
    "buttonB  = ToggleButton(description='Button B')\n",
    "\n",
    "buttonB"
   ]
  },
  {
   "cell_type": "code",
   "execution_count": null,
   "id": "da534aa1",
   "metadata": {},
   "outputs": [],
   "source": [
    "%%js\n",
    "window.inB.onStateChange = function (state) {\n",
    "    window.outB.setState(state);\n",
    "    let ss = \"False\";\n",
    "    if (state) {ss = \"True\";};\n",
    "    IPython.notebook.kernel.execute(\"buttonB.value = \" + ss );  \n",
    "};\n"
   ]
  },
  {
   "cell_type": "markdown",
   "id": "19953aa6",
   "metadata": {},
   "source": [
    "## Closing up\n",
    "\n",
    "When you are all done, you should close up all four devices. Click the button to disconnect."
   ]
  },
  {
   "cell_type": "code",
   "execution_count": null,
   "id": "34f59f02",
   "metadata": {},
   "outputs": [],
   "source": [
    "def doDisconnect(b):\n",
    "    display(Javascript(\"\"\"\n",
    "    window.inA.close();\n",
    "    window.inB.close();\n",
    "    window.outA.close();\n",
    "    window.outB.close();\n",
    "    setTimeout(() => { window.usbconn.close(); },1000);\n",
    "    setTimeout(() => { window.usbconn.delete(); },2000);\n",
    "    \"\"\"))\n",
    "    print(\"You have disconnected the Phidgets.\")\n",
    "\n",
    "run_button = widgets.Button(\n",
    "      description = 'Click to disconnect'\n",
    ")\n",
    "print(\"Press this button when you are done, to disconnect the Phidgets\")\n",
    "run_button.on_click(doDisconnect)\n",
    "\n",
    "display(run_button)"
   ]
  },
  {
   "cell_type": "markdown",
   "id": "8d97b7ce",
   "metadata": {},
   "source": [
    "### Confirm\n",
    "\n",
    "You can confirm the phidget has been closed by running the following cell. \n",
    "\n",
    "If any of them are open (true), try clicking the button above, again."
   ]
  },
  {
   "cell_type": "code",
   "execution_count": null,
   "id": "ca5fc247",
   "metadata": {},
   "outputs": [],
   "source": [
    "%%js\n",
    "element.text(\"Is Input A connected? \" + window.inA.isOpen);\n",
    "element.append(\"<p>Is Input B connected? \" + window.inB.isOpen);\n",
    "element.append(\"<p>Is Output A connected? \" + window.outA.isOpen);\n",
    "element.append(\"<p>Is Output B connected? \" + window.outB.isOpen);"
   ]
  },
  {
   "cell_type": "markdown",
   "id": "4438ea8e",
   "metadata": {},
   "source": [
    "## And that's it. \n",
    "\n",
    "The Phidget device will continue to monitor the two push buttons, display the result on the screen, and light up the appropriate LEDs. .\n",
    "\n",
    "\n",
    "Good job!"
   ]
  },
  {
   "cell_type": "markdown",
   "id": "4871334f",
   "metadata": {},
   "source": [
    "[![Callysto.ca License](https://github.com/callysto/curriculum-notebooks/blob/master/callysto-notebook-banner-bottom.jpg?raw=true)](https://github.com/callysto/curriculum-notebooks/blob/master/LICENSE.md)"
   ]
  }
 ],
 "metadata": {
  "kernelspec": {
   "display_name": "Python 3 (ipykernel)",
   "language": "python",
   "name": "python3"
  },
  "language_info": {
   "codemirror_mode": {
    "name": "ipython",
    "version": 3
   },
   "file_extension": ".py",
   "mimetype": "text/x-python",
   "name": "python",
   "nbconvert_exporter": "python",
   "pygments_lexer": "ipython3",
   "version": "3.10.5"
  }
 },
 "nbformat": 4,
 "nbformat_minor": 5
}
