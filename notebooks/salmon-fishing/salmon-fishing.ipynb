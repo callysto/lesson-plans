{
 "cells": [
  {
   "cell_type": "markdown",
   "metadata": {},
   "source": [
    "# Fish\n",
    "\n",
    "## key variables\n",
    "\n",
    "\n",
    "|  Symbol  |  Definition                    |\n",
    "|----------|--------------------------------|\n",
    "|  $i$     | geographic Location            |\n",
    "| $j$      |  odd/even lineage              |\n",
    "| $S$      |  Stock Abundance               |\n",
    "| $R$      |  Recruitment                   |\n",
    "| $\\theta$ | random pertubation of r        |\n",
    "| $b$      | densitity dependent mortaility |\n",
    "| $r$      |population growth rate          |\n",
    "|$\\epsilon$| environmental stochasticity    |\n",
    "| $t$      | time                           |\n",
    "| $N$      | abundance                      |\n",
    "| $c$      | inter-population $b$           |\n",
    "\n",
    "## Model\n",
    "\n",
    "Model will be based on the [Ricker Population Model](https://en.wikipedia.org/wiki/Ricker_model).\n",
    "$$ R_{t} = S_{t-2} e^{r - b S_{t-2}+ \\epsilon_{t}} $$\n",
    "$$ \\ln\\left[\\frac{R_{t}}{S_{t-2}}\\right]= r+\\theta -bS_{t-2}+\\epsilon_{t}$$\n",
    "Adding in additional assumptions about locations:\n",
    "$$ \\ln\\left[\\frac{R_{i,t}}{S_{i,t-2}}\\right]= \\left(r+\\theta_i\\right) -b_iS_{i,t-2}+\\epsilon_{i,t}$$\n",
    "Showing interdependence and measuring abundance (3.1 in the paper):\n",
    "$$ N_t = N_{t-2}e^{r-bN_{t-2}-cbN_{t-1}}$$\n",
    "\n",
    "I think any model more complicated than this is not appropriate for our notebook."
   ]
  },
  {
   "cell_type": "markdown",
   "metadata": {},
   "source": [
    "### Notes from Laura\n",
    "\n",
    "Need:\n",
    "$S_0$ to calculute $R_2$ and $S_1$ to calcualte $R_3$."
   ]
  },
  {
   "cell_type": "code",
   "execution_count": null,
   "metadata": {},
   "outputs": [],
   "source": [
    "%run -i ./scripts/scripts.py"
   ]
  },
  {
   "cell_type": "code",
   "execution_count": null,
   "metadata": {},
   "outputs": [],
   "source": [
    "f2 = Fishtrap(r=1.36,  b=0.00136, c=0.8, N1=500, N2=300)\n",
    "f2.project_pop().show()\n",
    "f2.model_with_quota(200).show()"
   ]
  },
  {
   "cell_type": "markdown",
   "metadata": {},
   "source": [
    "# Ideas\n",
    "- Label plots\n",
    "- add horizontal line on chart showing when harvesting commences\n",
    "- display chart showing total number of fish harvested next to the harvesting plot\n",
    "- Clean up and heavily label code\n",
    "- Create education components (Laura)\n",
    "- Look into encorporating into last notebook."
   ]
  },
  {
   "cell_type": "code",
   "execution_count": null,
   "metadata": {},
   "outputs": [],
   "source": [
    "fishtrap = Fishtrap()\n",
    "fishtrap.make_output_quota(0)"
   ]
  },
  {
   "cell_type": "code",
   "execution_count": null,
   "metadata": {},
   "outputs": [],
   "source": [
    "interactive_plot = interact_manual(f2.make_output_quota, quota=(0, 500, 25))\n",
    "interactive_plot;"
   ]
  }
 ],
 "metadata": {
  "kernelspec": {
   "display_name": "Python 3",
   "language": "python",
   "name": "python3"
  },
  "language_info": {
   "codemirror_mode": {
    "name": "ipython",
    "version": 3
   },
   "file_extension": ".py",
   "mimetype": "text/x-python",
   "name": "python",
   "nbconvert_exporter": "python",
   "pygments_lexer": "ipython3",
   "version": "3.8.5"
  }
 },
 "nbformat": 4,
 "nbformat_minor": 4
}
