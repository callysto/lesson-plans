{
 "cells": [
  {
   "cell_type": "markdown",
   "metadata": {},
   "source": [
    "![Callysto.ca Banner](https://github.com/callysto/curriculum-notebooks/blob/master/callysto-notebook-banner-top.jpg?raw=true)"
   ]
  },
  {
   "cell_type": "markdown",
   "metadata": {},
   "source": [
    "# Modelling fish traps: Incorporating population size of salmon\n",
    "\n",
    "In a [previous notebook on fish traps](http://tinyurl.com/y4yya4cg) we learned about the crescent element -  a type of intertidal modification used by Northern First Nations to trap fish, such as salmon. In this notebook, we will explore the impact of harvesting salmon on the salmon population size over the course of several years. \n",
    "\n",
    "To learn more about how harvesting impacts salmon population, we have created a mathematical model. In this notebook, we will generate plots using that model and understand how harvesting impacts salmon populations. \n"
   ]
  },
  {
   "cell_type": "markdown",
   "metadata": {},
   "source": [
    "### What is a Mathematical Model\n",
    "\n",
    "A mathematical model is a description of a system using <b>mathematical concepts</b> and <b>mathematical language</b>.\n",
    "\n",
    "You can think of a math model as a tool to help us describe what we believe about the workings of phenomena in the world. \n",
    "\n",
    "<b>We use the language of mathematics to express our beliefs.</b>\n",
    "\n",
    "<b>We use mathematics (theoretical and numerical analysis) to evaluate the model, and get insights about the original phenomenon.</b>"
   ]
  },
  {
   "cell_type": "markdown",
   "metadata": {},
   "source": [
    "### How do we model a problem using mathematics?\n",
    "\n",
    "\n",
    "|Step | Description |\n",
    "|-|-|\n",
    "|1| <font color=#000000><b>Choose what phenomenon you want to model|</b></font>\n",
    "|2| <font color=#000000><b>What assumptions are you making about the phenomenon|1|</b></font>   \n",
    "|3| <font color=#000000><b>Use a flow diagram to help you determine the structure of your model|1|</b></font>\n",
    "|4| <font color=#000000><b>Choose equations|2|</b></font>\n",
    "|5| <font color=#000000><b>Implement equations using Python|2|</b></font>\n",
    "|6| <font color=#000000><b>Solve equations|2|</b></font>\n",
    "|7| <font color=#000000><b>Study the behaviour of the model|3|</b></font>\n",
    "|8| <font color=#000000><b>Test the model|3|</b></font>\n",
    "|9| <font color=#000000><b>Use the model|3|</b></font>"
   ]
  },
  {
   "cell_type": "markdown",
   "metadata": {},
   "source": [
    "### Our phenomenon of interest: impact of harvesting on salmon population size\n",
    "\n",
    "Before we can choose assumptions, we need to take time to understand the phenomenon. \n",
    "\n",
    "Run the cell below. A YouTube video window will display. Play the video below to learn about the life cycle of salmon. "
   ]
  },
  {
   "cell_type": "code",
   "execution_count": 1,
   "metadata": {},
   "outputs": [
    {
     "data": {
      "image/jpeg": "[encoded data removed]",
      "text/html": [
       "\n",
       "        <iframe\n",
       "            width=\"400\"\n",
       "            height=\"300\"\n",
       "            src=\"https://www.youtube.com/embed/nkXthUsnRz4\"\n",
       "            frameborder=\"0\"\n",
       "            allowfullscreen\n",
       "        ></iframe>\n",
       "        "
      ],
      "text/plain": [
       "<IPython.lib.display.YouTubeVideo at 0x7f93d07e3880>"
      ]
     },
     "execution_count": 1,
     "metadata": {},
     "output_type": "execute_result"
    }
   ],
   "source": [
    "from IPython.lib.display import YouTubeVideo\n",
    "YouTubeVideo(\"nkXthUsnRz4\")"
   ]
  },
  {
   "cell_type": "markdown",
   "metadata": {},
   "source": [
    "## Model Assumptions\n",
    "\n",
    "* We are picking pink salmon for our model. This is species is the smallest and most abundant of the Pacific salmon. \n",
    "\n",
    "* Pink salmon in their native range have <b>a strict two year life cycle</b>, thus <b>odd and even-year populations do not interbreed</b>. \n",
    "\n",
    "* Adult pink salmon enter spawning streams from the ocean, usually returning to the stream where they originated. \n",
    "\n",
    "* We assume <b>harvesting occurs when the salmon are adults returning from the ocean into the spawning streams, before they spawn</b>.\n",
    "\n",
    "* This last assumption implies that if salmon was harvested, it did not reach the spawning stream and thus <b>could not reproduce</b>. \n",
    "\n",
    "<img src=\"http://www.riversportfishing.com/wp-content/uploads/salmon-pink-wm.jpg\" alt=\"Pink salmon\" style=\"width: 600px;\"/>\n",
    "\n",
    "<em> Image source: http://www.riversportfishing.com/fishing-info/salmon-bc/pink-salmon/</em>"
   ]
  },
  {
   "cell_type": "markdown",
   "metadata": {},
   "source": [
    "### Flow diagram\n",
    "\n",
    "We can use a flow diagram - a visual representation of our phenomenon - to represent the life cycle of salmon. \n",
    "\n",
    "Use the flow diagram below, along with the video and information on our assumptions, to identify when we assume harvesting is happening. \n",
    "\n",
    "\n",
    "In the diagram:\n",
    "\n",
    "- a rectangle\t🔲 represents a stage in the cycle\n",
    "\n",
    "- a diamond 🔷 represents salmon's potential death in the cycle\n",
    "\n",
    "- arrows indicate moving from one stage to another\n",
    "\n",
    "<img src=\"./images/Life_Cycle.png\" alt=\"Salmon life cycle\" style=\"width: 800px;\"/>"
   ]
  },
  {
   "cell_type": "markdown",
   "metadata": {},
   "source": [
    "#### Your answer here ✏️\n",
    "\n",
    "Double click this cell to identify when harvesting takes place in our model. Use the numbers in the diamons to identify when you think the salmon died due harvesting in our model. "
   ]
  },
  {
   "cell_type": "markdown",
   "metadata": {},
   "source": [
    "## Key variables\n",
    "\n",
    "We can identify several key variables. The variables are summarized in the table below. On the left, a mathematical symbol has been assigned. The definition can be found on the right. \n",
    "\n",
    "\n",
    "|  Symbol  |  Definition                    |\n",
    "|----------|--------------------------------|\n",
    "|  $i$     | Geographic Location            |\n",
    "| $j$      |  Odd/even lineage              |\n",
    "| $S$      |  Stock Abundance               |\n",
    "| $R$      |  Recruitment                   |\n",
    "| $\\theta$ | Random pertubation of r        |\n",
    "| $b$      | Densitity dependent mortaility |\n",
    "| $r$      | Population growth rate          |\n",
    "|$\\epsilon$| Environmental stochasticity    |\n",
    "| $t$      | Time                           |\n",
    "| $N$      | Abundance                      |\n",
    "| $c$      | Inter-population $b$           |\n",
    "\n",
    "## Model\n",
    "\n",
    "The model used is an adaptation of the [Ricker Population Model](https://en.wikipedia.org/wiki/Ricker_model).\n",
    "\n",
    "The Ricker model, named after Bill Ricker, is a classic discrete population model that is used to determine the expected number of individuals in generation as a function of the number of individuals in the previous generation. This model is popular when determining the number of fish that will be present in a fishery. \n",
    "\n",
    "\n",
    "[![Watch this video to learm more](https://img.youtube.com/vi/7DNhqtYf47E/0.jpg)](https://www.youtube.com/watch?v=7DNhqtYf47E)\n",
    "\n",
    "\n",
    "This notebook's code is based on an adaptation for the Ricker model by Krkosek <em>et al.</em> whose focus is on modelling pink salmon populations, and in particular, its even/odd spawning pattern:\n",
    "\n",
    "\n",
    "$$ R_{t} = S_{t-2} e^{r - b S_{t-2}+ \\epsilon_{t}} $$\n",
    "$$ \\ln\\left[\\frac{R_{t}}{S_{t-2}}\\right]= r+\\theta -bS_{t-2}+\\epsilon_{t}$$\n",
    "Adding in additional assumptions about locations:\n",
    "$$ \\ln\\left[\\frac{R_{i,t}}{S_{i,t-2}}\\right]= \\left(r+\\theta_i\\right) -b_iS_{i,t-2}+\\epsilon_{i,t}$$\n",
    "Showing interdependence and measuring abundance (3.1 in the paper):\n",
    "$$ N_t = N_{t-2}e^{r-bN_{t-2}-cbN_{t-1}}$$\n",
    "\n",
    "[1] Krkosek, M., Hilborn, R., Peterman, R. M., & Quinn, T. P. (2011). Cycles, stochasticity and density dependence in pink salmon population dynamics. Proceedings. Biological sciences, 278(1714), 2060–2068. https://doi.org/10.1098/rspb.2010.2335"
   ]
  },
  {
   "cell_type": "markdown",
   "metadata": {},
   "source": [
    "### Implement our model using Python\n",
    "\n",
    "In the next cell we will execute Python code containing functions that implement our model. \n",
    "\n",
    "Run the cell below to call the functions."
   ]
  },
  {
   "cell_type": "code",
   "execution_count": 2,
   "metadata": {},
   "outputs": [
    {
     "name": "stdout",
     "output_type": "stream",
     "text": [
      "Success! Functions imported\n"
     ]
    }
   ],
   "source": [
    "%run -i ./scripts/rickers_adaptation.py\n",
    "f2 = Fishtrap(r=1.36,  b=0.00136, c=0.8, N1=500, N2=300)\n",
    "print(\"Success! Functions imported\")"
   ]
  },
  {
   "cell_type": "markdown",
   "metadata": {},
   "source": [
    "Run the cell below to display the projected population for fish in two populations:\n",
    "\n",
    "1. Odd year population\n",
    "\n",
    "2. Even year population\n",
    "\n",
    "The red line denotes the even year salmon populatio, while the blue line denotes the odd year population. The black vertical line denotes when harvesting started taking place. \n",
    "\n",
    "Choose how many fish you want to harvest using the slider called \"quota\". Observe how the two populations are affected by the harvesting. \n",
    "\n",
    "A pie chart with the total harvested fish will be displayed on the right hand side. \n",
    "\n",
    "<b> Remember: these populations do not interbreed! </b>"
   ]
  },
  {
   "cell_type": "code",
   "execution_count": 3,
   "metadata": {},
   "outputs": [
    {
     "data": {
      "application/vnd.jupyter.widget-view+json": {
       "model_id": "7224fac889134759805de560249690c7",
       "version_major": 2,
       "version_minor": 0
      },
      "text/plain": [
       "interactive(children=(IntSlider(value=50, description='quota', step=25), Output()), _dom_classes=('widget-inte…"
      ]
     },
     "metadata": {},
     "output_type": "display_data"
    }
   ],
   "source": [
    "interactive_plot = interact(f2.make_output_quota, quota=(0, 100, 25))\n",
    "interactive_plot;"
   ]
  },
  {
   "cell_type": "markdown",
   "metadata": {},
   "source": [
    "#### ✏️ Reflect: Why are the two species affected differently in terms of population size?\n",
    "\n",
    "Double click this cell to enter your thoughts on the relationship between harvested fish and total population size for the odd and even year populations. "
   ]
  },
  {
   "cell_type": "markdown",
   "metadata": {},
   "source": [
    "## What quota would kill a population in less than ten years? \n",
    "\n",
    "Run the code below to run the model and determine how long it would take for a population to die with a quota of your choice. "
   ]
  },
  {
   "cell_type": "code",
   "execution_count": 4,
   "metadata": {},
   "outputs": [
    {
     "data": {
      "application/vnd.jupyter.widget-view+json": {
       "model_id": "7c0e2a709d9549d89d78d25bf5ee2a1f",
       "version_major": 2,
       "version_minor": 0
      },
      "text/plain": [
       "interactive(children=(IntSlider(value=400, description='quota', max=800, step=5), Output()), _dom_classes=('wi…"
      ]
     },
     "metadata": {},
     "output_type": "display_data"
    }
   ],
   "source": [
    "interactive_plot = interact(f2.make_output_quota, quota=(0, 800, 5))\n",
    "interactive_plot;"
   ]
  },
  {
   "cell_type": "markdown",
   "metadata": {},
   "source": [
    "#### ✏️ Reflect: What population died within 10 years? What was your quota? \n",
    "\n",
    "Double click this cell to enter the quota that kills an entire population, identify which population died, and how long it took for the population to die.\n",
    "\n",
    "#### ✏️ Reflect: What quota kills both populations within 10 years?\n"
   ]
  },
  {
   "cell_type": "markdown",
   "metadata": {},
   "source": [
    "[![Callysto.ca License](https://github.com/callysto/curriculum-notebooks/blob/master/callysto-notebook-banner-bottom.jpg?raw=true)](https://github.com/callysto/curriculum-notebooks/blob/master/LICENSE.md)"
   ]
  }
 ],
 "metadata": {
  "kernelspec": {
   "display_name": "Python 3",
   "language": "python",
   "name": "python3"
  },
  "language_info": {
   "codemirror_mode": {
    "name": "ipython",
    "version": 3
   },
   "file_extension": ".py",
   "mimetype": "text/x-python",
   "name": "python",
   "nbconvert_exporter": "python",
   "pygments_lexer": "ipython3",
   "version": "3.8.6"
  }
 },
 "nbformat": 4,
 "nbformat_minor": 4
}
