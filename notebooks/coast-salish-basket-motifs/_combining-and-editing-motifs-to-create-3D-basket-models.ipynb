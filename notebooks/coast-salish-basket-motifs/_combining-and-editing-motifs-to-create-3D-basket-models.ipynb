{
 "cells": [
  {
   "cell_type": "markdown",
   "metadata": {},
   "source": [
    "![Callysto.ca Banner](https://github.com/callysto/curriculum-notebooks/blob/master/callysto-notebook-banner-top.jpg?raw=true)\n"
   ]
  },
  {
   "cell_type": "markdown",
   "metadata": {},
   "source": [
    "<center><h1>Combining and Editing Motifs to create 3D Basket Models</h1></center>\n",
    "    \n",
    "#### Authors: Howell Tan, Jenifer Pham & Laura Gutierrez Funderburk, Cedric Chauve\n",
    "#### Contact: [Dr. Cedric Chauve](https://cchauve.github.io) and [Dr. Veselin Jungic](http://people.math.sfu.ca/~vjungic/)\n",
    "#### This is joint collaboration with Tla'amin Nation members: Ms. Betty Wilson, Ms. Gail Blaine, and Mr. Tyler Peters.\n",
    "#### Acknowledgements:\n",
    "We thank the Tla'amin Nation and members Ms. Betty Wilson, Ms. Gail Blaine, and Mr. Tyler Peters for sharing their knowledge and wisdom on the craft of traditional basket weaving. Without their openness this project would have not taken place. We also acknowledge that this work was conducted in unceded territory of the Musqueam , Skxwú7mesh, Tsleil-Waututh, Kwikwetlem nations. We thank PIMS and Cybera, as well as the Government of Canada for providing financial support and infrastructure.\n",
    "#### Last modified: October 26, 2018"
   ]
  },
  {
   "cell_type": "code",
   "execution_count": null,
   "metadata": {},
   "outputs": [],
   "source": [
    "%matplotlib inline\n",
    "%run -i ./python_scripts/modules.py\n",
    "%run -i ./python_scripts/colours.py\n",
    "%run -i ./python_scripts/atomic_rectangle.py\n",
    "%run -i ./python_scripts/atomic_triangle.py\n",
    "%run -i ./python_scripts/atomic_chevron.py\n",
    "%run -i ./python_scripts/operations.py\n",
    "%run -i ./python_scripts/plotting.py\n",
    "%run -i ./python_scripts/modify_patterns.py\n",
    "%run -i ./python_scripts/3d_combine_patterns.py"
   ]
  },
  {
   "cell_type": "markdown",
   "metadata": {},
   "source": [
    "## Editing motifs & Creating your own motif\n",
    "    \n",
    "All motifs emerge from a blank canvas. If you click \"Create Blank Canvas\", you have full autonomy to create your own motif from scratch. Start by specifying the height and width of your canvas. That is, choose the number of respective rows and columns you would like your canvas to have. Note only positive integers values will be accepted. Decimal inputs will be rounded down to the nearest integer.\n",
    "\n",
    "Once you have specified your dimensions, click the \"Create Blank Canvas\" button. To create your motif, choose a color and click on a block to change its color. To erase, choose the last color and click on the block you wish to erase.\n",
    "\n",
    "However, if you want to edit an existing canvas, we can manually edit motifs by selecting a canvas you want from the \"Select a file:\" drop-down menu and clicking \"Edit Canvas\". To make changes to your motif, choose a color and click on a block in your motif display to change its color. To erase, choose the last color and click on the block you wish to erase."
   ]
  },
  {
   "cell_type": "code",
   "execution_count": null,
   "metadata": {},
   "outputs": [],
   "source": [
    "from IPython.display import HTML\n",
    "HTML(filename=\"./html_scripts/createCanvas.html\")"
   ]
  },
  {
   "cell_type": "markdown",
   "metadata": {},
   "source": [
    "## Creating 3D Basket Models\n",
    "\n",
    "A *net* of a 3D shape is an arrangement of two dimensional shapes which can be folded along the edges to become the faces of the 3D shape.  Given a rectangular basket (without a lid cover), we see that the net of the basket consists of five shapes: one rectangle, which makes up the bottom of the basket, and four trapezoids, which make up the sides. Hence, we can add up to four motifs to generate a 3D model of a rectangular basket with motifs.\n",
    "\n",
    "<center> <img src=\"./images/net-rect.png\" alt=\"Rectangular Basket and Net\" width = 50%>\n",
    "    \n",
    "Given a circular basket (without a lid cover), we see that the net of the basket consists of only two shapes. The bottom of the basket is circular in shape and the surface, making up the sides of the basket can be thought of as a single curved trapezoid. Hence, we only require one motif to generate a 3D model of a circular basket with motifs.\n",
    "\n",
    "<center> <img src=\"./images/net-circ.png\" alt=\"Circular Basket and Net\" width = 50%>\n",
    "\n",
    "To place your motifs onto 3D models, first choose a basket shape and then choose the motif you would like to see on each face. If you have saved your motif but do not see the file in the dropdown menu, try clicking on the Refresh Files button. "
   ]
  },
  {
   "cell_type": "code",
   "execution_count": null,
   "metadata": {},
   "outputs": [],
   "source": [
    "display(basket_options)\n",
    "basket_options.observe(toggle_button_run_cell, 'value')"
   ]
  },
  {
   "cell_type": "code",
   "execution_count": null,
   "metadata": {},
   "outputs": [],
   "source": [
    "basket_chose = basket_options.value\n",
    "display_basket_model(basket_chose)"
   ]
  },
  {
   "cell_type": "code",
   "execution_count": null,
   "metadata": {},
   "outputs": [],
   "source": [
    "dropdown_choose_basket(basket_chose)"
   ]
  },
  {
   "cell_type": "code",
   "execution_count": null,
   "metadata": {},
   "outputs": [],
   "source": [
    "# Check if files have been selected \n",
    "# Assign pattern to appropriate face(s) and plot basket\n",
    "plot_3d_model(files_selected)"
   ]
  },
  {
   "cell_type": "markdown",
   "metadata": {},
   "source": [
    "[![Callysto.ca License](https://github.com/callysto/curriculum-notebooks/blob/master/callysto-notebook-banner-bottom.jpg?raw=true)](https://github.com/callysto/curriculum-notebooks/blob/master/LICENSE.md)"
   ]
  }
 ],
 "metadata": {
  "kernelspec": {
   "display_name": "Python 3",
   "language": "python",
   "name": "python3"
  },
  "language_info": {
   "codemirror_mode": {
    "name": "ipython",
    "version": 3
   },
   "file_extension": ".py",
   "mimetype": "text/x-python",
   "name": "python",
   "nbconvert_exporter": "python",
   "pygments_lexer": "ipython3",
   "version": "3.8.5"
  }
 },
 "nbformat": 4,
 "nbformat_minor": 4
}
