{
 "cells": [
  {
   "cell_type": "markdown",
   "metadata": {
    "slideshow": {
     "slide_type": "skip"
    }
   },
   "source": [
    "## To use this slideshow:\n",
    "- Run All, using the menu item: Kernel/Restart & Run All\n",
    "- Return to this top cell\n",
    "- click on \"Slideshow\" menu item above, that looks like this:\n",
    "![](images/SlideIcon.png)"
   ]
  },
  {
   "cell_type": "markdown",
   "metadata": {
    "slideshow": {
     "slide_type": "slide"
    }
   },
   "source": [
    "![Callysto.ca Banner](https://github.com/callysto/curriculum-notebooks/blob/master/callysto-notebook-banner-top.jpg?raw=true)\n",
    "\n",
    "<h1 align='center'>The Unfair Dice Problem</h1>\n",
    "\n",
    "<h3 align='center'>Laura Gutierrez Funderburk, Cybera Inc. </h3>\n",
    "\n",
    "<h3 align='center'>Michael Lamoureux, University of Calgary </h3>\n",
    "\n",
    "<h4 align='center'>Joint work with Richard Hoshino, Northeastern University </h4>"
   ]
  },
  {
   "cell_type": "markdown",
   "metadata": {
    "slideshow": {
     "slide_type": "slide"
    }
   },
   "source": [
    "<h2 align='center'> About the Callysto Program</h2>\n",
    "\n",
    "- Provide open educational infrastructure and learning resources\n",
    "- Focus on making computational thinking and data science/literacy available\n",
    "- Use Jupyter notebooks as main platform\n",
    "- Host teacher and student training workshops\n",
    "\n",
    "<h3 align='center'>Brought to you by</h3>\n",
    "\n",
    "\n",
    "| | | |\n",
    "|-|-|-|\n",
    "|<img src=\"./images/Cybera_Logo_RBG_Colour.png\" alt=\"Drawing\" width=400px;/>|<img src=\"./images/PIMS_Logos_Web_PIMS_Logo_Colour.png\" alt=\"Drawing\" width = 400px;/>| <img src=\"./images/With_Funding_Canada_Wordmark-colour_BIL-EN.png\" alt=\"Drawing\" width=400px;/>|"
   ]
  },
  {
   "cell_type": "markdown",
   "metadata": {
    "slideshow": {
     "slide_type": "slide"
    }
   },
   "source": [
    "<h2 align='center'>What is a Jupyter notebook?</h2>\n",
    "\n",
    "A Jupyter notebook is an application that can include both text and (Python) code in different “cells” or parts of the document.\n",
    "\n",
    "Through the Callysto Hub you can execute code and share notebooks without installing software and dependencies. \n",
    "\n",
    "Jupyter notebooks are widely used within data science to perform analysis and communicate results.\n"
   ]
  },
  {
   "cell_type": "markdown",
   "metadata": {
    "slideshow": {
     "slide_type": "slide"
    }
   },
   "source": [
    "<h2 align='center'>Callysto provides Jupyter notebooks exploring various subjects</h2>\n",
    "\n",
    "\n",
    "|[callysto.ca](https://www.callysto.ca/) |\n",
    "|-|\n",
    "|<img src=\"./images/CallystoResources.png\" alt=\"Drawing\" width=1000px;/>|"
   ]
  },
  {
   "cell_type": "markdown",
   "metadata": {
    "slideshow": {
     "slide_type": "slide"
    }
   },
   "source": [
    "<h2 align='center'>Motivation</h2>\n",
    "\n",
    "How do small advantages, repeated over time, contribute to the success of an individual?\n",
    "\n",
    "Does this make a difference in what we see as fairness, or justice, in real life?\n",
    "\n",
    "Can we make a simulation of this, and explore any remediations?"
   ]
  },
  {
   "cell_type": "markdown",
   "metadata": {
    "slideshow": {
     "slide_type": "slide"
    }
   },
   "source": [
    "<h2 align='center'>Example: Socio-economic status</h2>\n",
    "\n",
    "Two students, student A and student B are both going to the same university."
   ]
  },
  {
   "cell_type": "markdown",
   "metadata": {
    "slideshow": {
     "slide_type": "subslide"
    }
   },
   "source": [
    "Suppose student A receives financial support, lives close to campus, has a car, doesn't need a job for support.\n",
    "\n"
   ]
  },
  {
   "cell_type": "markdown",
   "metadata": {
    "slideshow": {
     "slide_type": "subslide"
    }
   },
   "source": [
    "Suppose student B on the other hand does not have as many resources, lives far from campus, takes transit, has a part-time job and student loans for tuition.\n",
    "\n"
   ]
  },
  {
   "cell_type": "markdown",
   "metadata": {
    "slideshow": {
     "slide_type": "subslide"
    }
   },
   "source": [
    "How does this impact their trajectories over time?"
   ]
  },
  {
   "cell_type": "markdown",
   "metadata": {
    "slideshow": {
     "slide_type": "slide"
    }
   },
   "source": [
    "<h2 align='center'>Another example: career advancement</h2>\n",
    "\n",
    "Two candidates, candidate A and candidate B are both applying for the same job. Suppose both have comparable experience. "
   ]
  },
  {
   "cell_type": "markdown",
   "metadata": {
    "slideshow": {
     "slide_type": "subslide"
    }
   },
   "source": [
    "Suppose candidate A's background is more relatable to the hiring managers. Both the candidate and the team find it easy to relate to one another. "
   ]
  },
  {
   "cell_type": "markdown",
   "metadata": {
    "slideshow": {
     "slide_type": "subslide"
    }
   },
   "source": [
    "\n",
    "Suppose candidate B's background is foreign to the hiring managers. It takes more work both from the candidate and the hiring team to relate to one another."
   ]
  },
  {
   "cell_type": "markdown",
   "metadata": {
    "slideshow": {
     "slide_type": "subslide"
    }
   },
   "source": [
    "How does this impact which candidate is invited to the interview, selected for a job, or promoted throughout their career trajectories over time?"
   ]
  },
  {
   "cell_type": "markdown",
   "metadata": {
    "slideshow": {
     "slide_type": "slide"
    }
   },
   "source": [
    "<h2 align='center'>Can we use mathematics and code to simulate this kind of situation?</h2>\n"
   ]
  },
  {
   "cell_type": "markdown",
   "metadata": {
    "slideshow": {
     "slide_type": "subslide"
    }
   },
   "source": [
    "<h2 align='center'>How can we communicate these types of situations to students in a constructive way?</h2>\n"
   ]
  },
  {
   "cell_type": "markdown",
   "metadata": {
    "slideshow": {
     "slide_type": "slide"
    }
   },
   "source": [
    "<h2 align='center'>Let's simplify the situation with a game of dice.</h2>\n",
    "\n",
    "<img align='center' src=\"./images/twodice6401.jpg\" alt=\"Drawing\" style=\"width: 450px;\"/>\n",
    "\n",
    "Student A and student B each roll a die. The one with a bigger number wins. Ties go to A. \n",
    "\n",
    "Starting with ten dollars each, at each roll the winner takes a dollar from the loser. \n",
    "\n",
    "Let's play. Play until someone runs out of money. "
   ]
  },
  {
   "cell_type": "markdown",
   "metadata": {
    "slideshow": {
     "slide_type": "slide"
    }
   },
   "source": [
    "<h2 align='center'>Let's play</h2>\n"
   ]
  },
  {
   "cell_type": "code",
   "execution_count": null,
   "metadata": {
    "slideshow": {
     "slide_type": "skip"
    }
   },
   "outputs": [],
   "source": [
    "import random\n",
    "def roll_dice_two_players():\n",
    "    major_die = random.choice([1,2,3,4,5,6])\n",
    "    minor_die = random.choice([1,2,3,4,5,6])\n",
    "    \n",
    "    print(\"A rolls \",major_die, \"and B rolls\", minor_die,\".\")\n",
    "    return (major_die >= minor_die)\n"
   ]
  },
  {
   "cell_type": "code",
   "execution_count": null,
   "metadata": {
    "slideshow": {
     "slide_type": "skip"
    }
   },
   "outputs": [],
   "source": [
    "from ipywidgets import widgets,Layout,Button,VBox,HBox\n",
    "from IPython.display import display, Javascript, Markdown, HTML, clear_output\n",
    "import pandas as pd\n",
    "\n",
    "## We store the game results in a data frame, for convenience\n",
    "\n",
    "df = pd.DataFrame({\"A's Points\": [ 0 for i in range(11)],\n",
    "                  \"B's Points\": [ 0 for i in range(11)]},\n",
    "                  index=[i for i in range(11)])\n",
    "df.loc[0, \"A's Points\"] = 10\n",
    "df.loc[0, \"B's Points\"] = 10\n",
    "\n",
    "## We make a couple of buttons to roll the dice, and reset the game\n",
    "style = {'description_width': 'initial'}\n",
    "\n",
    "# Button widget\n",
    "play_button = widgets.Button(\n",
    "    button_style='success',\n",
    "    description=\"Roll the dice\", \n",
    "    layout=Layout(width='15%', height='30px'),\n",
    "    style=style\n",
    ") \n",
    "\n",
    "# Button widget\n",
    "reset_button = widgets.Button(\n",
    "    button_style='danger',\n",
    "    description=\"Reset the game\", \n",
    "    layout=Layout(width='15%', height='30px'),\n",
    "    style=style\n",
    ") \n",
    "\n",
    "turn_n = 0\n",
    "\n",
    "def play_action(b):\n",
    "    global turn_n\n",
    "    clear_output()\n",
    "    display(tab2)\n",
    "    turn_n += 1\n",
    "    if (turn_n>10):\n",
    "        print(\"Game over! Who won this round?\")\n",
    "        display(df[0:11])\n",
    "    else:\n",
    "        print(\"Turn #\",turn_n)\n",
    "        if roll_dice_two_players():\n",
    "            print(\"A wins this roll. A gets one point from B.\")\n",
    "            df.loc[turn_n, \"A's Points\"] = df.loc[turn_n-1,\"A's Points\"] +1\n",
    "            df.loc[turn_n, \"B's Points\"] = df.loc[turn_n-1,\"B's Points\"]-1 \n",
    "        else:\n",
    "            print(\"B wins this roll. B gets one point from A.\")\n",
    "            df.loc[turn_n, \"A's Points\"] = df.loc[turn_n-1,\"A's Points\"] -1\n",
    "            df.loc[turn_n, \"B's Points\"] = df.loc[turn_n-1,\"B's Points\"]+1 \n",
    "        display(df[0:turn_n+1])\n",
    "  \n",
    "def reset_action(b):\n",
    "    global turn_n\n",
    "    clear_output()\n",
    "    display(tab2)\n",
    "    print(\"A and V start with ten points each.\")\n",
    "    display(df[0:1])\n",
    "    turn_n=0\n",
    "    \n",
    "    \n",
    "play_button.on_click( play_action )\n",
    "reset_button.on_click( reset_action )\n",
    "\n",
    "tab1 = HBox(children=[play_button,reset_button])\n",
    "tab2 = widgets.Tab(children=[tab1])\n",
    "tab2.set_title(0, 'Play')\n",
    "\n",
    "\n",
    "# Connect widget to function - run subsequent cells\n"
   ]
  },
  {
   "cell_type": "code",
   "execution_count": null,
   "metadata": {
    "slideshow": {
     "slide_type": "fragment"
    }
   },
   "outputs": [],
   "source": [
    "display(tab2)\n",
    "print(\"A and B start with ten points each.\")\n",
    "display(df[0:1])"
   ]
  },
  {
   "cell_type": "markdown",
   "metadata": {
    "slideshow": {
     "slide_type": "slide"
    }
   },
   "source": [
    "<h2 align='center'>Let's Try Again....</h2>\n",
    "\n",
    "B is losing the ties! So let's make things more fair, give B two dollars when B wins."
   ]
  },
  {
   "cell_type": "code",
   "execution_count": null,
   "metadata": {
    "slideshow": {
     "slide_type": "skip"
    }
   },
   "outputs": [],
   "source": [
    "## re-use the same data frame\n",
    "df.loc[0, \"A's Points\"] = 10\n",
    "df.loc[0, \"B's Points\"] = 10\n",
    "\n",
    "## We make a couple of buttons to roll the dice, and reset the game\n",
    "style = {'description_width': 'initial'}\n",
    "\n",
    "# Button widget\n",
    "play_button2 = widgets.Button(\n",
    "    button_style='success',\n",
    "    description=\"Roll the dice\", \n",
    "    layout=Layout(width='15%', height='30px'),\n",
    "    style=style\n",
    ") \n",
    "\n",
    "# Button widget\n",
    "reset_button2 = widgets.Button(\n",
    "    button_style='danger',\n",
    "    description=\"Reset the game\", \n",
    "    layout=Layout(width='15%', height='30px'),\n",
    "    style=style\n",
    ") \n",
    "\n",
    "turn2 = 0\n",
    "\n",
    "def play_action2(b):\n",
    "    global turn2\n",
    "    clear_output()\n",
    "    display(tab4)\n",
    "    turn2 += 1\n",
    "    if (turn2>10):\n",
    "        print(\"Game over! Who won this round?\")\n",
    "        display(df[0:11])\n",
    "    else:\n",
    "        print(\"Turn #\",turn2)\n",
    "        if roll_dice_two_players():\n",
    "            print(\"A wins this roll. A gets one point from B.\")\n",
    "            df.loc[turn2, \"A's Points\"] = df.loc[turn2-1,\"A's Points\"] +1\n",
    "            df.loc[turn2, \"B's Points\"] = df.loc[turn2-1,\"B's Points\"]-1 \n",
    "        else:\n",
    "            print(\"B wins this roll. B gets two points from A.\")\n",
    "            df.loc[turn2, \"A's Points\"] = df.loc[turn2-1,\"A's Points\"] -2\n",
    "            df.loc[turn2, \"B's Points\"] = df.loc[turn2-1,\"B's Points\"]+2 \n",
    "        display(df[0:turn2+1])\n",
    "  \n",
    "def reset_action2(b):\n",
    "    global turn2\n",
    "    clear_output()\n",
    "    display(tab4)\n",
    "    print(\"A and B start with ten points each.\")\n",
    "    display(df[0:1])\n",
    "    turn2=0\n",
    "    \n",
    "    \n",
    "play_button2.on_click( play_action2 )\n",
    "reset_button2.on_click( reset_action2 )\n",
    "\n",
    "tab3 = HBox(children=[play_button2,reset_button2])\n",
    "tab4 = widgets.Tab(children=[tab3])\n",
    "tab4.set_title(0, 'Play')\n",
    "\n"
   ]
  },
  {
   "cell_type": "code",
   "execution_count": null,
   "metadata": {
    "slideshow": {
     "slide_type": "fragment"
    }
   },
   "outputs": [],
   "source": [
    "display(tab4)\n",
    "print(\"A and B start with ten points each.\")\n",
    "display(df[0:1])"
   ]
  },
  {
   "cell_type": "markdown",
   "metadata": {
    "slideshow": {
     "slide_type": "skip"
    }
   },
   "source": [
    "<h2 align='center'>In class: Let's Play</h2>\n",
    "\n",
    "Break up the students into groups of two (A and B).\n",
    "\n",
    "Give each student ten candies, and a die. Have them roll the dice, and trade candy until someone runs out.\n",
    "\n",
    "Count up how many people in group A won all the candy? How many people in group B won them all?\n",
    "\n",
    "Is this fair?"
   ]
  },
  {
   "cell_type": "markdown",
   "metadata": {
    "slideshow": {
     "slide_type": "skip"
    }
   },
   "source": [
    "<h2 align='center'>In an online class: Let's Play</h2>\n",
    "\n",
    "Using Jupyter notebooks to have students play online. \n",
    "\n",
    "- We will use this link https://tinyurl.com/virtual-dice (also posted in the comments)\n",
    "\n",
    "- People will be broken into groups using Zoom breakout rooms\n",
    "\n",
    "- Within each group, members decide who shares their screen and run the notebook\n",
    "\n",
    "- Use the notebook to simulate Bob and Alice playing the game\n",
    "\n",
    "- Run through the notebook within your group"
   ]
  },
  {
   "cell_type": "markdown",
   "metadata": {
    "slideshow": {
     "slide_type": "slide"
    }
   },
   "source": [
    "<h2 align='center'>What makes this game unfair?</h2>\n",
    "\n",
    "<center><img src=\"./images/SampleSpace.png\" alt=\"Drawing\" style=\"width: 450px;\"/></center>\n"
   ]
  },
  {
   "cell_type": "markdown",
   "metadata": {
    "slideshow": {
     "slide_type": "slide"
    }
   },
   "source": [
    "<h2 align='center'>What makes this game unfair?</h2>\n",
    "\n",
    "Below is the sample space of our game. B's die outcome (black column) is subtracted from B's die outcome (dark red row). \n",
    "\n",
    "A wins whenever the result is 0 or more. B wins whenever the result is negative. \n",
    "\n",
    "The probability A will win is $$P(A) = \\frac{21}{36}$$\n",
    "\n",
    "while the probability B will win is $$P(B) = \\frac{15}{36}$$"
   ]
  },
  {
   "cell_type": "markdown",
   "metadata": {
    "slideshow": {
     "slide_type": "skip"
    }
   },
   "source": [
    "In the first game, the expected per-round payoff for A is $$\\big( \\frac{21}{36}\\big) *1 + \\big( \\frac{15}{36} \\big)*(-1) = \\frac{1}{6}.$$  \n",
    "\n",
    "So after about 60 rounds of play, A would be \"expected\" to have all of the toothpicks.  \n",
    "\n",
    "\n",
    "Conversely, in the second game, the expected per-round payoff for A is  $$\\big( \\frac{21}{36}\\big) *1 + \\big( \\frac{15}{36} \\big)*(-2) = \\frac{-1}{4}.$$  \n",
    "\n",
    "\n",
    "So after about 40 rounds of play, B would be \"expected\" to have all of the toothpicks."
   ]
  },
  {
   "cell_type": "markdown",
   "metadata": {
    "slideshow": {
     "slide_type": "slide"
    }
   },
   "source": [
    "<h2 align='center'>What can be done to balance this situation?</h2>\n",
    "\n",
    "The original game resulted in an unfair scenario for B.\n",
    "\n",
    "Giving B two points instead of one resulted in an unfair scenario for A. \n",
    "\n",
    "How can we find a solution to this problem?"
   ]
  },
  {
   "cell_type": "markdown",
   "metadata": {
    "slideshow": {
     "slide_type": "slide"
    }
   },
   "source": [
    "<h2 align='center'>Simulating the Game</h2>\n",
    "\n",
    "Let's use some code to simulate many trials of this unfair game.\n",
    "\n",
    "Try making it more fair. Change the starting points, or the payoffs.\n"
   ]
  },
  {
   "cell_type": "code",
   "execution_count": null,
   "metadata": {
    "slideshow": {
     "slide_type": "skip"
    }
   },
   "outputs": [],
   "source": [
    "import random\n",
    "\n",
    "import matplotlib.patches as mpatches\n",
    "from ipywidgets import interact, interact_manual, widgets, Layout, VBox, HBox, Button\n",
    "from IPython.display import display, Javascript, Markdown, HTML, clear_output\n",
    "import matplotlib.pyplot as plt\n",
    "\n",
    "\n",
    "\n",
    "#def runN_cell( b ):    \n",
    "#    display(Javascript('IPython.notebook.execute_cell_range(IPython.notebook.get_selected_index()+1,IPython.notebook.get_selected_index()+2)'))    \n",
    "\n",
    "    \n",
    "#def rerun_cell( b ):    \n",
    "#    display(Javascript('IPython.notebook.execute_cell_range(IPython.notebook.get_selected_index(),IPython.notebook.get_selected_index()+1)'))    \n"
   ]
  },
  {
   "cell_type": "code",
   "execution_count": null,
   "metadata": {
    "slideshow": {
     "slide_type": "skip"
    }
   },
   "outputs": [],
   "source": [
    "### This cell contains code to simulate our game\n",
    "\n",
    "def roll_dice():\n",
    "    \n",
    "    \"\"\"This function simulates rolling two dice \n",
    "    and substracting the minor die outcome from the major die outcome\"\"\"\n",
    "    major_die = random.choice([1,2,3,4,5,6])\n",
    "    minor_die = random.choice([1,2,3,4,5,6])\n",
    "    \n",
    "    if major_die >= minor_die:\n",
    "        return True\n",
    "    else:\n",
    "        return False\n",
    "\n",
    "def play_game(StartValue_A, StartValue_B, p, q):\n",
    "    \n",
    "    \"\"\"This function implements two players engaging in the game\"\"\"\n",
    "        \n",
    "    # Initialize variables\n",
    "    # Set value A to starting value, resp value C\n",
    "    value_A = StartValue_A\n",
    "    value_B = StartValue_B \n",
    "    turn_number = 0\n",
    "    # Store points on each turn\n",
    "    CurrentValue_A = []\n",
    "    CurrentValue_B = []\n",
    "    # Initialize winners\n",
    "    winner_A = 0\n",
    "    winner_B = 0\n",
    "    \n",
    "    # We want to continue playing as long as both players have at least one more point\n",
    "    while value_A > 0 and value_B > 0:\n",
    "        # Increase turn\n",
    "        turn_number += 1\n",
    "        \n",
    "        # If major die >=  minor die \n",
    "        if roll_dice():\n",
    "            # Update and save current values for A and B\n",
    "            CurrentValue_A.append(value_A)\n",
    "            CurrentValue_B.append(value_B)\n",
    "            \n",
    "            # Give A one more (set of) point(s) \n",
    "            value_A = value_A + p\n",
    "            # Remove the same quantity from B \n",
    "            value_B = value_B - p\n",
    "            \n",
    "        # Otherwise, we have major die < minor die \n",
    "        else:\n",
    "            # Update and save current values for A and B\n",
    "            CurrentValue_A.append(value_A)\n",
    "            CurrentValue_B.append(value_B)\n",
    "            # Give B one more (set of) points \n",
    "            value_B = value_B + q\n",
    "            # Remove the same quantity from A\n",
    "            value_A = value_A - q\n",
    "            \n",
    "    # Get winners\n",
    "    # If A has zero or less points, B is the winner\n",
    "    if value_A <= 0: winner_B = 1\n",
    "    # Otherwise, A is the winner \n",
    "    if value_B <= 0: winner_A = 1\n",
    "    \n",
    "    return [turn_number, winner_A, winner_B,CurrentValue_A,CurrentValue_B]\n",
    "    \n",
    "    \n",
    "\n",
    "def plot_game(StartValue_A, StartValue_B, p, q):\n",
    "    \n",
    "    \"\"\"This function simulates the game for a given 1000 trials and prints \n",
    "    the average number of times A and B win\"\"\"\n",
    "    # Suppose we set 1000 trials\n",
    "    n = 1000\n",
    "   \n",
    "    # Initialize variables\n",
    "    wins_for_A = 0\n",
    "    wins_for_B = 0\n",
    "    total_moves = 0   \n",
    "    \n",
    "    # Iterate over the total number of trials, and repeat game\n",
    "    for i in range(n):  \n",
    "        [turn_number, winner_A, winner_B,CurrentValue_A,CurrentValue_B] = play_game(StartValue_A, StartValue_B, p, q)\n",
    "        # Add number of turns\n",
    "        total_moves += turn_number\n",
    "        # Add total number of times A won\n",
    "        wins_for_A += winner_A\n",
    "        # Add total number of times B won  \n",
    "        wins_for_B += winner_B\n",
    "    \n",
    "    print(\"The average number of rounds is\", total_moves/n)\n",
    "    print(\"A wins\", round(100*wins_for_A/n,2), \"% of the time\")\n",
    "    print(\"B wins\", round(100*wins_for_B/n,2), \"% of the time\")\n",
    "    \n",
    "    # Plot results\n",
    "    # Set x axis values\n",
    "    x_co = [i for i in range(len(CurrentValue_A))]\n",
    "    # Initialize figure and set x, y limits\n",
    "    fig,ax = plt.subplots(figsize=(10,5))\n",
    "    ax.set_xlim([0,len(x_co) + 1])\n",
    "    ax.set_ylim([0,StartValue_A+StartValue_B])\n",
    "    ax.grid(True) \n",
    "    # Plot points for A and B at each turn\n",
    "    ax.plot(x_co,CurrentValue_A,label=\"A\",c='r')\n",
    "    ax.plot(x_co,CurrentValue_B,label=\"B\",c='black')\n",
    "    # Add labels, title and legend to improve readability\n",
    "    ax.set_ylabel(\"Number of points\",fontsize=25)\n",
    "    ax.set_xlabel(\"Number of turns\",fontsize=25)\n",
    "    ax.set_title(\"A Typical Game\",fontsize=25)\n",
    "    plt.legend(bbox_to_anchor=(1.05, 1), loc=2, borderaxespad=1.)\n",
    "    plt.show()"
   ]
  },
  {
   "cell_type": "code",
   "execution_count": null,
   "metadata": {
    "slideshow": {
     "slide_type": "skip"
    }
   },
   "outputs": [],
   "source": [
    "# Create interactive menu with parameters\n",
    "\n",
    "style = {'description_width': 'initial'}\n",
    "\n",
    "all_the_widgets = [widgets.BoundedIntText(\n",
    "            value=10,\n",
    "            min=1,\n",
    "            max=1000,\n",
    "            description='A: Initial Points:',\n",
    "            disabled=False,style =style), widgets.BoundedIntText(\n",
    "            value=10,\n",
    "            min=1,\n",
    "            max=1000,\n",
    "            description='B:Initial Points:',\n",
    "            disabled=False,style =style), widgets.BoundedFloatText(\n",
    "            value=1,\n",
    "            min=0,\n",
    "            max=1000,\n",
    "            step=0.1,\n",
    "            description='# points for A win',\n",
    "            disabled=False,\n",
    "            continuous_update=False,\n",
    "            orientation='horizontal',\n",
    "            readout=True,\n",
    "            readout_format='f',\n",
    "            style =style),widgets.BoundedFloatText(\n",
    "            value=1,\n",
    "            min=0,\n",
    "            max=1000,\n",
    "            step=0.1,\n",
    "            description='# points for B win',\n",
    "            disabled=False,\n",
    "            continuous_update=False,\n",
    "            orientation='horizontal',\n",
    "            readout=True,\n",
    "            readout_format='f',\n",
    "            style =style)]\n",
    "\n",
    "\n",
    "# Button widget\n",
    "CD_button = widgets.Button(\n",
    "    button_style='success',\n",
    "    description=\"Run Simulations\", \n",
    "    layout=Layout(width='15%', height='30px'),\n",
    "    style=style\n",
    ")    \n",
    "\n",
    "def draw_results(b):\n",
    "    StartValue_A = all_the_widgets[0].value\n",
    "    StartValue_B = all_the_widgets[1].value\n",
    "    p = all_the_widgets[2].value\n",
    "    q = all_the_widgets[3].value\n",
    "    clear_output()\n",
    "    display(tab)  ## Have to redraw the widgets\n",
    "    plot_game(StartValue_A, StartValue_B, p, q)\n",
    "\n",
    "# Connect widget to function - run subsequent cells\n",
    "#CD_button.on_click( runN_cell )\n",
    "CD_button.on_click( draw_results )\n",
    "\n",
    "# user menu using categories found above\n",
    "tab3 = VBox(children=[HBox(children=all_the_widgets[0:2]),HBox(children=all_the_widgets[2:4]),\n",
    "                      CD_button])\n",
    "tab = widgets.Tab(children=[tab3])\n",
    "tab.set_title(0, 'Choose Parameters')\n",
    "# display(tab)   ## We will display in the next cell. So SlideShow works. "
   ]
  },
  {
   "cell_type": "code",
   "execution_count": null,
   "metadata": {
    "slideshow": {
     "slide_type": "slide"
    }
   },
   "outputs": [],
   "source": [
    "display(tab)"
   ]
  },
  {
   "cell_type": "code",
   "execution_count": null,
   "metadata": {
    "slideshow": {
     "slide_type": "skip"
    }
   },
   "outputs": [],
   "source": [
    "StartValue_A = all_the_widgets[0].value\n",
    "StartValue_B = all_the_widgets[1].value\n",
    "p = all_the_widgets[2].value\n",
    "q = all_the_widgets[3].value\n",
    "plot_game(StartValue_A, StartValue_B, p, q)"
   ]
  },
  {
   "cell_type": "markdown",
   "metadata": {
    "slideshow": {
     "slide_type": "slide"
    }
   },
   "source": [
    "<h2 align='center'>What can we take away from this?</h2>\n",
    "\n",
    "1. Notice slight advantages can significantly change the outcome when repeated over several iterations. \n",
    "\n",
    "2. The \"losing party\" can suffer in the quality of their experience, desire to continue engaging, emotional distress, tangible loss, and desire to disengage from the activity. \n",
    "\n",
    "3. The \"winning\" party , might believe that the outcome is solely due to their work ethic, talent, and might attritbute their success to themselves. \n",
    "\n",
    "4. How does this translate to real life?"
   ]
  },
  {
   "cell_type": "markdown",
   "metadata": {
    "slideshow": {
     "slide_type": "slide"
    }
   },
   "source": [
    "<h2 align='center'>Implications in Real Life</h2>\n",
    "\n",
    "1. In the context of work for example, how does being able to relate to your co-workers impact the opportunities you are given or even learn about? \n",
    "\n",
    "2. In the context of socio economic status, difficulty accessing resources results in higher likelyhood of suffering and thus less opportunities to thrive. \n",
    "\n",
    "3. Balancing things for all parties is a complex problem to solve, understanding of what drives inequality and what an appropriate solution is are needed before making changes."
   ]
  },
  {
   "cell_type": "markdown",
   "metadata": {
    "slideshow": {
     "slide_type": "slide"
    }
   },
   "source": [
    "<h2 align='center'>What can we do?</h2>\n",
    "\n",
    "1. Acknowledge that there are advantages/disadvantages in life. These have an impact on overall success, and it is a constructive exercise to identify and address these. \n",
    "\n",
    "2. Acknowledge the role of advantage and be open to learning more about what can be done to balance things. \n",
    "\n",
    "3. It can be a deeply empowering experience to recognize the disadvantages and ask yourself what can be done with this knowledge. \n",
    "\n",
    "4. Work together to improve the situation, by adjusting the \"parameters\" in the situation.\n",
    "\n",
    "5. Important to first identify the inherent problem and assessing how this impact parties involved. "
   ]
  },
  {
   "cell_type": "markdown",
   "metadata": {
    "slideshow": {
     "slide_type": "slide"
    }
   },
   "source": [
    "![Callysto.ca Banner](https://github.com/callysto/curriculum-notebooks/blob/master/callysto-notebook-banner-top.jpg?raw=true)\n",
    "\n",
    "<h2 align='center'>Getting Started with Callysto</h2>\n",
    "\n",
    "- Free, open source resources (CC license) callysto.ca\n",
    "- Online self-paced courses (courses.callysto.ca)  \n",
    "- Preview our learning modules https://callysto.github.io/curriculum-jbook/intro.html\n",
    "- Contact us for “in-class” workshops, teacher PD, virtual hackathons, and more\n",
    "\n",
    "Email: contact@callysto.ca\n",
    "\n",
    "On Twitter: @callysto_canada"
   ]
  }
 ],
 "metadata": {
  "celltoolbar": "Slideshow",
  "kernelspec": {
   "display_name": "Python 3 (ipykernel)",
   "language": "python",
   "name": "python3"
  },
  "language_info": {
   "codemirror_mode": {
    "name": "ipython",
    "version": 3
   },
   "file_extension": ".py",
   "mimetype": "text/x-python",
   "name": "python",
   "nbconvert_exporter": "python",
   "pygments_lexer": "ipython3",
   "version": "3.9.6"
  },
  "rise": {
   "autolaunch": false,
   "backimage": "Bgnd0.jpg"
  }
 },
 "nbformat": 4,
 "nbformat_minor": 4
}
