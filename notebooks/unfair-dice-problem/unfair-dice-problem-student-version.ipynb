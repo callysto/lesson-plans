{
 "cells": [
  {
   "cell_type": "code",
   "execution_count": 1,
   "metadata": {},
   "outputs": [
    {
     "data": {
      "text/html": [
       "<script>\n",
       "code_show=true; \n",
       "function code_toggle() {\n",
       " if (code_show){\n",
       " $('div.input').hide();\n",
       " } else {\n",
       " $('div.input').show();\n",
       " }\n",
       " code_show = !code_show\n",
       "} \n",
       "$( document ).ready(code_toggle);\n",
       "</script>\n",
       "The raw code for this IPython notebook is by default hidden for easier reading.\n",
       "To toggle on/off the raw code, click <a href=\"javascript:code_toggle()\">here</a>."
      ],
      "text/plain": [
       "<IPython.core.display.HTML object>"
      ]
     },
     "execution_count": 1,
     "metadata": {},
     "output_type": "execute_result"
    }
   ],
   "source": [
    "from IPython.display import HTML\n",
    "\n",
    "HTML('''<script>\n",
    "code_show=true; \n",
    "function code_toggle() {\n",
    " if (code_show){\n",
    " $('div.input').hide();\n",
    " } else {\n",
    " $('div.input').show();\n",
    " }\n",
    " code_show = !code_show\n",
    "} \n",
    "$( document ).ready(code_toggle);\n",
    "</script>\n",
    "The raw code for this IPython notebook is by default hidden for easier reading.\n",
    "To toggle on/off the raw code, click <a href=\"javascript:code_toggle()\">here</a>.''')\n"
   ]
  },
  {
   "cell_type": "markdown",
   "metadata": {},
   "source": [
    "![Callysto.ca Banner](https://github.com/callysto/curriculum-notebooks/blob/master/callysto-notebook-banner-top.jpg?raw=true)"
   ]
  },
  {
   "cell_type": "markdown",
   "metadata": {},
   "source": [
    "![](https://github.com/callysto/callysto-sample-notebooks/blob/master/notebooks/images/Callysto_Notebook-Banner_Top_06.06.18.jpg?raw=true)"
   ]
  },
  {
   "cell_type": "markdown",
   "metadata": {},
   "source": [
    "<h1 align='center'>The Unfair Dice Problem</h1>\n"
   ]
  },
  {
   "cell_type": "markdown",
   "metadata": {},
   "source": [
    "Double click this cell to enter your name. \n",
    "\n",
    "First name:\n",
    "\n",
    "Last name:\n",
    "\n",
    "Date:"
   ]
  },
  {
   "cell_type": "markdown",
   "metadata": {},
   "source": [
    "<h2 align='center'>Setting up the game</h2>\n",
    "\n",
    "We will use two dice in this game, and assume the dice are fair, i.e. there is the same probability of getting one of the six faces. \n",
    "\n",
    "Let's suppose two people, Alice and Bob, decide to play with this setup and start with the same amount of money, $10 each. \n",
    "\n",
    "One die will be designated as \"Alice's die\" while the other one will be designated as \"Bob's die\". Dice are rolled and the outcome obtained from Bob's outcome is subtracted from the Alice's outcome. \n",
    "\n",
    "<img src=\"twodice6401.jpg\" alt=\"Drawing\" style=\"width: 450px;\"/>\n",
    "\n",
    "If Alice's outcome is greater than or equal to Bob's, Alice takes $\\$1$ from Bob. Otherwise, Bob takes $\\$1$ from Alice. "
   ]
  },
  {
   "cell_type": "markdown",
   "metadata": {},
   "source": [
    "## Let's Play\n",
    "\n",
    "Forming groups of two's, decide which of you plays \"Alice\" and \"Bob\". \n",
    "\n",
    "\n",
    "Click the \"Roll the dice\" button below to roll the dice, see who wins. Repeat ten times.\n",
    "\n",
    "Click the \"Reset\" button to start again with ten dollars each."
   ]
  },
  {
   "cell_type": "code",
   "execution_count": 2,
   "metadata": {},
   "outputs": [],
   "source": [
    "import random\n",
    "def roll_dice_two_players():\n",
    "    major_die = random.choice([1,2,3,4,5,6])\n",
    "    minor_die = random.choice([1,2,3,4,5,6])\n",
    "    \n",
    "    print(\"Alice rolls \",major_die, \"and Bob rolls\", minor_die,\".\")\n",
    "    return (major_die >= minor_die)\n"
   ]
  },
  {
   "cell_type": "code",
   "execution_count": 3,
   "metadata": {},
   "outputs": [
    {
     "data": {
      "application/vnd.jupyter.widget-view+json": {
       "model_id": "dcf86e2243af48f1bc9b09956024083a",
       "version_major": 2,
       "version_minor": 0
      },
      "text/plain": [
       "Tab(children=(HBox(children=(Button(button_style='success', description='Roll the dice', layout=Layout(height=…"
      ]
     },
     "metadata": {},
     "output_type": "display_data"
    },
    {
     "name": "stdout",
     "output_type": "stream",
     "text": [
      "Alice and Bob start with ten points each.\n"
     ]
    },
    {
     "data": {
      "text/html": [
       "<div>\n",
       "<style scoped>\n",
       "    .dataframe tbody tr th:only-of-type {\n",
       "        vertical-align: middle;\n",
       "    }\n",
       "\n",
       "    .dataframe tbody tr th {\n",
       "        vertical-align: top;\n",
       "    }\n",
       "\n",
       "    .dataframe thead th {\n",
       "        text-align: right;\n",
       "    }\n",
       "</style>\n",
       "<table border=\"1\" class=\"dataframe\">\n",
       "  <thead>\n",
       "    <tr style=\"text-align: right;\">\n",
       "      <th></th>\n",
       "      <th>Alice's Points</th>\n",
       "      <th>Bob's Points</th>\n",
       "    </tr>\n",
       "  </thead>\n",
       "  <tbody>\n",
       "    <tr>\n",
       "      <th>0</th>\n",
       "      <td>10</td>\n",
       "      <td>10</td>\n",
       "    </tr>\n",
       "  </tbody>\n",
       "</table>\n",
       "</div>"
      ],
      "text/plain": [
       "   Alice's Points  Bob's Points\n",
       "0              10            10"
      ]
     },
     "metadata": {},
     "output_type": "display_data"
    }
   ],
   "source": [
    "from ipywidgets import widgets,Layout,Button,VBox,HBox\n",
    "from IPython.display import display, Javascript, Markdown, HTML, clear_output\n",
    "import pandas as pd\n",
    "\n",
    "## We store the game results in a data frame, for convenience\n",
    "\n",
    "df = pd.DataFrame({\"Alice's Points\": [ 0 for i in range(11)],\n",
    "                  \"Bob's Points\": [ 0 for i in range(11)]},\n",
    "                  index=[i for i in range(11)])\n",
    "df.loc[0, \"Alice's Points\"] = 10\n",
    "df.loc[0, \"Bob's Points\"] = 10\n",
    "\n",
    "## We make a couple of buttons to roll the dice, and reset the game\n",
    "style = {'description_width': 'initial'}\n",
    "\n",
    "# Button widget\n",
    "play_button = widgets.Button(\n",
    "    button_style='success',\n",
    "    description=\"Roll the dice\", \n",
    "    layout=Layout(width='15%', height='30px'),\n",
    "    style=style\n",
    ") \n",
    "\n",
    "# Button widget\n",
    "reset_button = widgets.Button(\n",
    "    button_style='danger',\n",
    "    description=\"Reset the game\", \n",
    "    layout=Layout(width='15%', height='30px'),\n",
    "    style=style\n",
    ") \n",
    "\n",
    "turn_n = 0\n",
    "\n",
    "def play_action(b):\n",
    "    global turn_n\n",
    "    clear_output()\n",
    "    display(tab2)\n",
    "    turn_n += 1\n",
    "    if (turn_n>10):\n",
    "        print(\"Game over! Who won this round?\")\n",
    "        display(df[0:11])\n",
    "    else:\n",
    "        print(\"Turn #\",turn_n)\n",
    "        if roll_dice_two_players():\n",
    "            print(\"Alice wins this roll. She gets one point from Bob.\")\n",
    "            df.loc[turn_n, \"Alice's Points\"] = df.loc[turn_n-1,\"Alice's Points\"] +1\n",
    "            df.loc[turn_n, \"Bob's Points\"] = df.loc[turn_n-1,\"Bob's Points\"]-1 \n",
    "        else:\n",
    "            print(\"Bob wins this roll. He gets one point from Alice.\")\n",
    "            df.loc[turn_n, \"Alice's Points\"] = df.loc[turn_n-1,\"Alice's Points\"] -1\n",
    "            df.loc[turn_n, \"Bob's Points\"] = df.loc[turn_n-1,\"Bob's Points\"]+1 \n",
    "        display(df[0:turn_n+1])\n",
    "  \n",
    "def reset_action(b):\n",
    "    global turn_n\n",
    "    clear_output()\n",
    "    display(tab2)\n",
    "    print(\"Alice and Bob start with ten points each.\")\n",
    "    display(df[0:1])\n",
    "    turn_n=0\n",
    "    \n",
    "    \n",
    "play_button.on_click( play_action )\n",
    "reset_button.on_click( reset_action )\n",
    "\n",
    "tab1 = HBox(children=[play_button,reset_button])\n",
    "tab2 = widgets.Tab(children=[tab1])\n",
    "tab2.set_title(0, 'Play')\n",
    "display(tab2)\n",
    "print(\"Alice and Bob start with ten points each.\")\n",
    "display(df[0:1])\n",
    "\n",
    "# Connect widget to function - run subsequent cells\n"
   ]
  },
  {
   "cell_type": "markdown",
   "metadata": {},
   "source": [
    "<h3>Let's Try Again....</h3>\n",
    "\n",
    "Bob is losing the ties! So let's make things more fair, give him two dollars when he wins.\n",
    "\n",
    "Try this weighted game instead.  Who wins?\n"
   ]
  },
  {
   "cell_type": "code",
   "execution_count": 4,
   "metadata": {},
   "outputs": [
    {
     "data": {
      "application/vnd.jupyter.widget-view+json": {
       "model_id": "cb0237ec8b084bdab9b6fc1351c425a8",
       "version_major": 2,
       "version_minor": 0
      },
      "text/plain": [
       "Tab(children=(HBox(children=(Button(button_style='success', description='Roll the dice', layout=Layout(height=…"
      ]
     },
     "metadata": {},
     "output_type": "display_data"
    },
    {
     "name": "stdout",
     "output_type": "stream",
     "text": [
      "Alice and Bob start with ten points each.\n"
     ]
    },
    {
     "data": {
      "text/html": [
       "<div>\n",
       "<style scoped>\n",
       "    .dataframe tbody tr th:only-of-type {\n",
       "        vertical-align: middle;\n",
       "    }\n",
       "\n",
       "    .dataframe tbody tr th {\n",
       "        vertical-align: top;\n",
       "    }\n",
       "\n",
       "    .dataframe thead th {\n",
       "        text-align: right;\n",
       "    }\n",
       "</style>\n",
       "<table border=\"1\" class=\"dataframe\">\n",
       "  <thead>\n",
       "    <tr style=\"text-align: right;\">\n",
       "      <th></th>\n",
       "      <th>Alice's Points</th>\n",
       "      <th>Bob's Points</th>\n",
       "    </tr>\n",
       "  </thead>\n",
       "  <tbody>\n",
       "    <tr>\n",
       "      <th>0</th>\n",
       "      <td>10</td>\n",
       "      <td>10</td>\n",
       "    </tr>\n",
       "  </tbody>\n",
       "</table>\n",
       "</div>"
      ],
      "text/plain": [
       "   Alice's Points  Bob's Points\n",
       "0              10            10"
      ]
     },
     "metadata": {},
     "output_type": "display_data"
    }
   ],
   "source": [
    "## re-use the same data frame\n",
    "df.loc[0, \"Alice's Points\"] = 10\n",
    "df.loc[0, \"Bob's Points\"] = 10\n",
    "\n",
    "## We make a couple of buttons to roll the dice, and reset the game\n",
    "style = {'description_width': 'initial'}\n",
    "\n",
    "# Button widget\n",
    "play_button2 = widgets.Button(\n",
    "    button_style='success',\n",
    "    description=\"Roll the dice\", \n",
    "    layout=Layout(width='15%', height='30px'),\n",
    "    style=style\n",
    ") \n",
    "\n",
    "# Button widget\n",
    "reset_button2 = widgets.Button(\n",
    "    button_style='danger',\n",
    "    description=\"Reset the game\", \n",
    "    layout=Layout(width='15%', height='30px'),\n",
    "    style=style\n",
    ") \n",
    "\n",
    "turn2 = 0\n",
    "\n",
    "def play_action2(b):\n",
    "    global turn2\n",
    "    clear_output()\n",
    "    display(tab4)\n",
    "    turn2 += 1\n",
    "    if (turn2>10):\n",
    "        print(\"Game over! Who won this round?\")\n",
    "        display(df[0:11])\n",
    "    else:\n",
    "        print(\"Turn #\",turn2)\n",
    "        if roll_dice_two_players():\n",
    "            print(\"Alice wins this roll. She gets one point from Bob.\")\n",
    "            df.loc[turn2, \"Alice's Points\"] = df.loc[turn2-1,\"Alice's Points\"] +1\n",
    "            df.loc[turn2, \"Bob's Points\"] = df.loc[turn2-1,\"Bob's Points\"]-1 \n",
    "        else:\n",
    "            print(\"Bob wins this roll. He gets two points from Alice.\")\n",
    "            df.loc[turn2, \"Alice's Points\"] = df.loc[turn2-1,\"Alice's Points\"] -2\n",
    "            df.loc[turn2, \"Bob's Points\"] = df.loc[turn2-1,\"Bob's Points\"]+2 \n",
    "        display(df[0:turn2+1])\n",
    "  \n",
    "def reset_action2(b):\n",
    "    global turn2\n",
    "    clear_output()\n",
    "    display(tab4)\n",
    "    print(\"Alice and Bob start with ten points each.\")\n",
    "    display(df[0:1])\n",
    "    turn2=0\n",
    "    \n",
    "    \n",
    "play_button2.on_click( play_action2 )\n",
    "reset_button2.on_click( reset_action2 )\n",
    "\n",
    "tab3 = HBox(children=[play_button2,reset_button2])\n",
    "tab4 = widgets.Tab(children=[tab3])\n",
    "tab4.set_title(0, 'Play')\n",
    "display(tab4)\n",
    "print(\"Alice and Bob start with ten points each.\")\n",
    "display(df[0:1])\n"
   ]
  },
  {
   "cell_type": "markdown",
   "metadata": {},
   "source": [
    "## What makes this game unfair?\n",
    "\n",
    "Double click this cell to enter the missing answers. Missing answers are represented with a ? sign.\n",
    "\n",
    "Below is the sample space of our game. Bob's die outcome (black column) is subtracted from Alice's die outcome (dark red row). \n",
    "\n",
    "Alice wins whenever the result is 0 or more. Bob wins whenever the result is negative. \n",
    "\n",
    "✏️ The probability Alice will win is $$P(A) = \\frac{?}{36}$$\n",
    "\n",
    "✏️while the probability Bob will win is $$P(B) = \\frac{?}{?}$$"
   ]
  },
  {
   "cell_type": "code",
   "execution_count": 5,
   "metadata": {},
   "outputs": [
    {
     "data": {
      "text/html": [
       "<table style='margin: 0 auto;font-size: 25px'>\n",
       "    <tr style=\"width:100%;text-align:center;background-color:#990000;color:white\">\n",
       "    <th style=\"background-color:white;color:white\"> </th>\n",
       "        <th>1</th>\n",
       "        <th>2</th>\n",
       "        <th>3</th>\n",
       "        <th>4</th>\n",
       "        <th>5</th>\n",
       "        <th>6</th>\n",
       "    </tr>\n",
       "    <tr>\n",
       "        \n",
       "        <td style=\"background-color:black;color:white\"><strong>1</strong></td>\n",
       "        <td style=\"background-color:#ffcccc\">0</td>\n",
       "        <td style=\"background-color:#ffcccc\">1</td>\n",
       "        <td style=\"background-color:#ffcccc\">2</td>\n",
       "        <td style=\"background-color:#ffcccc\">3</td>\n",
       "        <td style=\"background-color:#ffcccc\">4</td>\n",
       "        <td style=\"background-color:#ffcccc\">5</td>\n",
       "    </tr>\n",
       "    <tr >\n",
       "        <td style=\"background-color:black;color:white\"><strong>2</strong></td>\n",
       "        <td>-1</td>\n",
       "        <td style=\"background-color:#ffcccc\">0</td>\n",
       "        <td style=\"background-color:#ffcccc\">1</td>\n",
       "        <td style=\"background-color:#ffcccc\">2</td>\n",
       "        <td style=\"background-color:#ffcccc\">3</td>\n",
       "        <td style=\"background-color:#ffcccc\">4</td>\n",
       "    </tr>\n",
       "    <tr >\n",
       "        <td style=\"background-color:black;color:white\"><strong>3</strong></td>\n",
       "        <td>-2</td>\n",
       "        <td>-1</td>\n",
       "        <td style=\"background-color:#ffcccc\">0</td>\n",
       "        <td style=\"background-color:#ffcccc\">1</td>\n",
       "        <td style=\"background-color:#ffcccc\">2</td>\n",
       "        <td style=\"background-color:#ffcccc\">3</td>\n",
       "    </tr>\n",
       "    <tr >\n",
       "        <td style=\"background-color:black;color:white\"><strong>4</strong></td>\n",
       "        <td>-3</td>\n",
       "        <td>-2</td>\n",
       "        <td>-1</td>\n",
       "        <td style=\"background-color:#ffcccc\">0</td>\n",
       "        <td style=\"background-color:#ffcccc\">1</td>\n",
       "        <td style=\"background-color:#ffcccc\">2</td>\n",
       "    </tr>\n",
       "    <tr >\n",
       "        <td style=\"background-color:black;color:white\"><strong>5</strong></td>\n",
       "        <td>-4</td>\n",
       "        <td>-3</td>\n",
       "        <td>-2</td>\n",
       "        <td>-1</td>\n",
       "        <td style=\"background-color:#ffcccc\">0</td>\n",
       "        <td style=\"background-color:#ffcccc\">1</td>\n",
       "    </tr>\n",
       "    <tr >\n",
       "        <td style=\"background-color:black;color:white\"><strong>6</strong></td>\n",
       "        <td>-5</td>\n",
       "        <td>-4</td>\n",
       "        <td>-3</td>\n",
       "        <td>-2</td>\n",
       "        <td>-1</td>\n",
       "        <td style=\"background-color:#ffcccc\">0</td>\n",
       "    </tr>\n",
       "</table>\n"
      ],
      "text/plain": [
       "<IPython.core.display.HTML object>"
      ]
     },
     "metadata": {},
     "output_type": "display_data"
    }
   ],
   "source": [
    "%%html\n",
    "<table style='margin: 0 auto;font-size: 25px'>\n",
    "    <tr style=\"width:100%;text-align:center;background-color:#990000;color:white\">\n",
    "    <th style=\"background-color:white;color:white\"> </th>\n",
    "        <th>1</th>\n",
    "        <th>2</th>\n",
    "        <th>3</th>\n",
    "        <th>4</th>\n",
    "        <th>5</th>\n",
    "        <th>6</th>\n",
    "    </tr>\n",
    "    <tr>\n",
    "        \n",
    "        <td style=\"background-color:black;color:white\"><strong>1</strong></td>\n",
    "        <td style=\"background-color:#ffcccc\">0</td>\n",
    "        <td style=\"background-color:#ffcccc\">1</td>\n",
    "        <td style=\"background-color:#ffcccc\">2</td>\n",
    "        <td style=\"background-color:#ffcccc\">3</td>\n",
    "        <td style=\"background-color:#ffcccc\">4</td>\n",
    "        <td style=\"background-color:#ffcccc\">5</td>\n",
    "    </tr>\n",
    "    <tr >\n",
    "        <td style=\"background-color:black;color:white\"><strong>2</strong></td>\n",
    "        <td>-1</td>\n",
    "        <td style=\"background-color:#ffcccc\">0</td>\n",
    "        <td style=\"background-color:#ffcccc\">1</td>\n",
    "        <td style=\"background-color:#ffcccc\">2</td>\n",
    "        <td style=\"background-color:#ffcccc\">3</td>\n",
    "        <td style=\"background-color:#ffcccc\">4</td>\n",
    "    </tr>\n",
    "    <tr >\n",
    "        <td style=\"background-color:black;color:white\"><strong>3</strong></td>\n",
    "        <td>-2</td>\n",
    "        <td>-1</td>\n",
    "        <td style=\"background-color:#ffcccc\">0</td>\n",
    "        <td style=\"background-color:#ffcccc\">1</td>\n",
    "        <td style=\"background-color:#ffcccc\">2</td>\n",
    "        <td style=\"background-color:#ffcccc\">3</td>\n",
    "    </tr>\n",
    "    <tr >\n",
    "        <td style=\"background-color:black;color:white\"><strong>4</strong></td>\n",
    "        <td>-3</td>\n",
    "        <td>-2</td>\n",
    "        <td>-1</td>\n",
    "        <td style=\"background-color:#ffcccc\">0</td>\n",
    "        <td style=\"background-color:#ffcccc\">1</td>\n",
    "        <td style=\"background-color:#ffcccc\">2</td>\n",
    "    </tr>\n",
    "    <tr >\n",
    "        <td style=\"background-color:black;color:white\"><strong>5</strong></td>\n",
    "        <td>-4</td>\n",
    "        <td>-3</td>\n",
    "        <td>-2</td>\n",
    "        <td>-1</td>\n",
    "        <td style=\"background-color:#ffcccc\">0</td>\n",
    "        <td style=\"background-color:#ffcccc\">1</td>\n",
    "    </tr>\n",
    "    <tr >\n",
    "        <td style=\"background-color:black;color:white\"><strong>6</strong></td>\n",
    "        <td>-5</td>\n",
    "        <td>-4</td>\n",
    "        <td>-3</td>\n",
    "        <td>-2</td>\n",
    "        <td>-1</td>\n",
    "        <td style=\"background-color:#ffcccc\">0</td>\n",
    "    </tr>\n",
    "</table>"
   ]
  },
  {
   "cell_type": "markdown",
   "metadata": {},
   "source": [
    "✏️In the first game, the expected per-round payoff for Alice is $$\\big( \\frac{?}{?}\\big) *1 + \\big( \\frac{?}{?} \\big)*(-1) = \\frac{?}{?}.$$  \n",
    "\n",
    "✏️So after about ____ rounds of play, Alice would be \"expected\" to have all of the candies.  \n",
    "\n",
    "\n",
    "✏️Conversely, in the second game, the expected per-round payoff for Alice is  $$\\big( \\frac{?}{?}\\big) *1 + \\big( \\frac{?}{?} \\big)*(-2) = \\frac{?}{?}.$$  \n",
    "\n",
    "\n",
    "✏️ So after about ____ rounds of play, Bob would be \"expected\" to have all of the candies."
   ]
  },
  {
   "cell_type": "markdown",
   "metadata": {},
   "source": [
    "<h2 align='center'>Computational Thinking: Simulating the Game Using Python and Jupyter Notebooks</h2>\n",
    "\n",
    "Most teams must note something is off with this game. One player seems to consistently get the other player's toothpicks and win. \n",
    "\n",
    "One way to test whether the same player wins consistently is to run several trials and observe how each player fares, how many turns it took and what the outcome was in each trial, however this is time consuming and prone to error. \n",
    "\n",
    "Here we benefit from using programming languages to simulate several trials and observe how the players are doing over time, as well as the average number of rounds it takes before a player loses all their toothpicks. "
   ]
  },
  {
   "cell_type": "code",
   "execution_count": 6,
   "metadata": {},
   "outputs": [],
   "source": [
    "import random\n",
    "\n",
    "import matplotlib.patches as mpatches\n",
    "from ipywidgets import interact, interact_manual, widgets, Layout\n",
    "from ipywidgets import widgets, VBox, HBox, Button\n",
    "from IPython.display import display, Javascript, Markdown, HTML\n",
    "import random\n",
    "import matplotlib.pyplot as plt\n",
    "\n",
    "style = {'description_width': 'initial'}\n",
    "\n",
    "def runN_cell( b ):\n",
    "    \n",
    "    display(Javascript('IPython.notebook.execute_cell_range(IPython.notebook.get_selected_index()+1,\\\n",
    "    IPython.notebook.get_selected_index()+2)'))    \n",
    "\n",
    "    \n",
    "def rerun_cell( b ):\n",
    "    \n",
    "    display(Javascript('IPython.notebook.execute_cell_range(IPython.notebook.get_selected_index(),\\\n",
    "    IPython.notebook.get_selected_index()+1)'))    \n"
   ]
  },
  {
   "cell_type": "code",
   "execution_count": 7,
   "metadata": {},
   "outputs": [],
   "source": [
    "### This cell contains code to simulate our game\n",
    "\n",
    "def roll_dice():\n",
    "    \n",
    "    \"\"\"This function simulates rolling two dice \n",
    "    and substracting the minor die outcome from the major die outcome\"\"\"\n",
    "    major_die = random.choice([1,2,3,4,5,6])\n",
    "    minor_die = random.choice([1,2,3,4,5,6])\n",
    "    \n",
    "    if major_die - minor_die >= 0:\n",
    "        return True\n",
    "    else:\n",
    "        return False\n",
    "\n",
    "def play_game(StartValue_A, StartValue_B, p, q):\n",
    "    \n",
    "    \"\"\"This function implements two players engaging in the game\"\"\"\n",
    "        \n",
    "    # Initialize variables\n",
    "    # Set value A to starting value, resp value C\n",
    "    value_A = StartValue_A\n",
    "    value_B = StartValue_B \n",
    "    turn_number = 0\n",
    "    # Store points on each turn\n",
    "    CurrentValue_A = []\n",
    "    CurrentValue_B = []\n",
    "    # Initialize winners\n",
    "    winner_A = 0\n",
    "    winner_B = 0\n",
    "    \n",
    "    # We want to continue playing as long as both players have at least one more point\n",
    "    while value_A > 0 and value_B > 0:\n",
    "        # Increase turn\n",
    "        turn_number += 1\n",
    "        \n",
    "        # If major die - minor die is greater than or equal to zero\n",
    "        if roll_dice():\n",
    "            # Update and save current values for A and B\n",
    "            CurrentValue_A.append(value_A)\n",
    "            CurrentValue_B.append(value_B)\n",
    "            \n",
    "            # Give A one more (set of) point(s) \n",
    "            value_A = value_A + p\n",
    "            # Remove the same quantity from B \n",
    "            value_B = value_B - p\n",
    "            \n",
    "        # If major die - minor die is negative\n",
    "        else:\n",
    "            # Update and save current values for A and B\n",
    "            CurrentValue_A.append(value_A)\n",
    "            CurrentValue_B.append(value_B)\n",
    "            # Give B one more (set of) points \n",
    "            value_B = value_B + q\n",
    "            # Remove the same quantity from A\n",
    "            value_A = value_A - q\n",
    "            \n",
    "    # Get winners\n",
    "    # If A has zero or less points, B is the winner\n",
    "    if value_A <= 0: winner_B = 1\n",
    "    # Otherwise, A is the winner \n",
    "    if value_B <= 0: winner_A = 1\n",
    "    \n",
    "    return [turn_number, winner_A, winner_B,CurrentValue_A,CurrentValue_B]\n",
    "    \n",
    "    \n",
    "\n",
    "def plot_game(StartValue_A, StartValue_B, p, q):\n",
    "    \n",
    "    \"\"\"This function simulates the game for a given 1000 trials and prints \n",
    "    the average number of times A and B win\"\"\"\n",
    "    # Suppose we set 1000 trials\n",
    "    n = 1000\n",
    "   \n",
    "    # Initialize variables\n",
    "    wins_for_A = 0\n",
    "    wins_for_B = 0\n",
    "    total_moves = 0   \n",
    "    \n",
    "    # Iterate over the total number of trials, and repeat game\n",
    "    for i in range(n):  \n",
    "        [turn_number, winner_A, winner_B,CurrentValue_A,CurrentValue_B] = play_game(StartValue_A, StartValue_B, p, q)\n",
    "        # Add number of turns\n",
    "        total_moves += turn_number\n",
    "        # Add total number of times A won\n",
    "        wins_for_A += winner_A\n",
    "        # Add total number of times B won  \n",
    "        wins_for_B += winner_B\n",
    "    \n",
    "    print(\"The average number of rounds is\", total_moves/n)\n",
    "    print(\"Player Alice wins\", round(100*wins_for_A/n,2), \"% of the time\")\n",
    "    print(\"Player Bob wins\", round(100*wins_for_B/n,2), \"% of the time\")\n",
    "    \n",
    "    # Plot results\n",
    "    # Set x axis values\n",
    "    x_co = [i for i in range(len(CurrentValue_A))]\n",
    "    # Initialize figure and set x, y limits\n",
    "    fig,ax = plt.subplots(figsize=(10,10))\n",
    "    ax.set_xlim([0,len(x_co) + 1])\n",
    "    ax.set_ylim([0,2*max([StartValue_A,StartValue_B])])\n",
    "    ax.grid(True) \n",
    "    # Plot points for A and B at each turn\n",
    "    ax.plot(x_co,CurrentValue_A,label=\"Alice\",c='r')\n",
    "    ax.plot(x_co,CurrentValue_B,label=\"Bob\",c='black')\n",
    "    # Add labels, title and legend to improve readability\n",
    "    ax.set_ylabel(\"Number of points\",fontsize=25)\n",
    "    ax.set_xlabel(\"Number of turns\",fontsize=25)\n",
    "    ax.set_title(\"Game Simulation\",fontsize=25)\n",
    "    plt.legend(bbox_to_anchor=(1.05, 1), loc=2, borderaxespad=1.)\n",
    "    plt.show()"
   ]
  },
  {
   "cell_type": "code",
   "execution_count": 8,
   "metadata": {},
   "outputs": [
    {
     "data": {
      "application/vnd.jupyter.widget-view+json": {
       "model_id": "b453e22c6a1a488485f1fb0ddaff9fcc",
       "version_major": 2,
       "version_minor": 0
      },
      "text/plain": [
       "Tab(children=(VBox(children=(HBox(children=(BoundedIntText(value=10, description='Group A Initial Points:', ma…"
      ]
     },
     "metadata": {},
     "output_type": "display_data"
    }
   ],
   "source": [
    "# Create interactive menu with parameters\n",
    "all_the_widgets = [widgets.BoundedIntText(\n",
    "            value=10,\n",
    "            min=1,\n",
    "            max=1000,\n",
    "            description='Group A Initial Points:',\n",
    "            disabled=False,style =style), widgets.BoundedIntText(\n",
    "            value=10,\n",
    "            min=1,\n",
    "            max=1000,\n",
    "            description='Group B Initial Points:',\n",
    "            disabled=False,style =style), widgets.BoundedFloatText(\n",
    "            value=1,\n",
    "            min=0,\n",
    "            max=1000,\n",
    "            step=0.1,\n",
    "            description='# points A gets if A wins',\n",
    "            disabled=False,\n",
    "            continuous_update=False,\n",
    "            orientation='horizontal',\n",
    "            readout=True,\n",
    "            readout_format='f',\n",
    "            style =style),widgets.BoundedFloatText(\n",
    "            value=1,\n",
    "            min=0,\n",
    "            max=1000,\n",
    "            step=0.1,\n",
    "            description='# points B gets if B wins',\n",
    "            disabled=False,\n",
    "            continuous_update=False,\n",
    "            orientation='horizontal',\n",
    "            readout=True,\n",
    "            readout_format='f',\n",
    "            style =style)]\n",
    "\n",
    "\n",
    "# Button widget\n",
    "CD_button = widgets.Button(\n",
    "    button_style='success',\n",
    "    description=\"Run Simulations\", \n",
    "    layout=Layout(width='15%', height='30px'),\n",
    "    style=style\n",
    ")    \n",
    "\n",
    "# Connect widget to function - run subsequent cells\n",
    "CD_button.on_click( runN_cell )\n",
    "\n",
    "# user menu using categories found above\n",
    "tab3 = VBox(children=[HBox(children=all_the_widgets[0:2]),HBox(children=all_the_widgets[2:4]),\n",
    "                      CD_button])\n",
    "tab = widgets.Tab(children=[tab3])\n",
    "tab.set_title(0, 'Choose Parameters')\n",
    "display(tab)"
   ]
  },
  {
   "cell_type": "code",
   "execution_count": 9,
   "metadata": {},
   "outputs": [
    {
     "name": "stdout",
     "output_type": "stream",
     "text": [
      "The average number of rounds is 56.238\n",
      "Player Alice wins 97.1 % of the time\n",
      "Player Bob wins 2.9 % of the time\n"
     ]
    },
    {
     "data": {
      "image/png": "[encoded data removed]",
      "text/plain": [
       "<Figure size 720x720 with 1 Axes>"
      ]
     },
     "metadata": {
      "needs_background": "light"
     },
     "output_type": "display_data"
    }
   ],
   "source": [
    "StartValue_A = all_the_widgets[0].value\n",
    "StartValue_B = all_the_widgets[1].value\n",
    "p = all_the_widgets[2].value\n",
    "q = all_the_widgets[3].value\n",
    "plot_game(StartValue_A, StartValue_B, p, q)"
   ]
  },
  {
   "cell_type": "markdown",
   "metadata": {},
   "source": [
    "## How can we make this game as 'fair' as possible?\n",
    "\n",
    "Use the simulation to test different combinations of initial points for each player, change how many points each player gets when they win. \n",
    "\n",
    "The game is 'fair' when both players have win 50% of the time.\n",
    "Enter your values in the box below. Paste the output message you obtain when you enter your values.\n",
    "\n",
    "Sample:\n",
    "\n",
    "        Initial number of points group A gets: 100\n",
    "        Initial number of points group B gets: 100\n",
    "        # points A gets if A wins: 1\n",
    "        # points B gets if B wins: 1\n",
    "        Output: \n",
    "        The average number of rounds is 56.622\n",
    "        Player Alice wins 96.8 % of the time\n",
    "        Player Bob wins 3.2 % of the time\n",
    "        "
   ]
  },
  {
   "cell_type": "code",
   "execution_count": 10,
   "metadata": {},
   "outputs": [
    {
     "data": {
      "application/vnd.jupyter.widget-view+json": {
       "model_id": "d2fce892527347729efc7dfa7d5b3755",
       "version_major": 2,
       "version_minor": 0
      },
      "text/plain": [
       "Textarea(value='', layout=Layout(height='75px', width='100%'), placeholder='Write your answer here. Press Reco…"
      ]
     },
     "metadata": {},
     "output_type": "display_data"
    },
    {
     "data": {
      "application/vnd.jupyter.widget-view+json": {
       "model_id": "c9f34451441242ac8ed91aa41a138d9f",
       "version_major": 2,
       "version_minor": 0
      },
      "text/plain": [
       "Button(button_style='info', description='Record Answer', layout=Layout(height='30px', width='15%'), style=Butt…"
      ]
     },
     "metadata": {},
     "output_type": "display_data"
    }
   ],
   "source": [
    "from ipywidgets import widgets as w\n",
    "from ipywidgets import Button, Layout\n",
    "from IPython.display import display, Javascript, Markdown\n",
    "\n",
    "def rerun_cell( b ):\n",
    "    \n",
    "    display(Javascript('IPython.notebook.execute_cell_range(IPython.notebook.get_selected_index()+1,IPython.notebook.get_selected_index()+2)'))   \n",
    "style = {'description_width': 'initial'}\n",
    "\n",
    "\n",
    "student_text1 = w.Textarea( value='', placeholder='Write your answer here. Press Record Answer when you finish.', description='', disabled=False , layout=Layout(width='100%', height='75px') )\n",
    "student_button1 = w.Button(button_style='info',description=\"Record Answer\", layout=Layout(width='15%', height='30px'))\n",
    "\n",
    "display(student_text1)\n",
    "display(student_button1)\n",
    "\n",
    "student_button1.on_click( rerun_cell ) "
   ]
  },
  {
   "cell_type": "code",
   "execution_count": 11,
   "metadata": {},
   "outputs": [],
   "source": [
    "student_input1 = student_text1.value\n",
    "\n",
    "if(student_input1 != ''):\n",
    "    display(Markdown(\"### Your answer for Assignment 2\"))\n",
    "    display(Markdown(student_input1))"
   ]
  },
  {
   "cell_type": "markdown",
   "metadata": {},
   "source": [
    "## Apply to real life\n",
    "\n",
    "1. Think about other examples where unfairness plays a role in the outcome engaged parties experience. \n",
    "\n",
    "2. Share an example that came to mind with the class. \n",
    "3. Think about what can be done to improve the outcome engaged parties experience. "
   ]
  },
  {
   "cell_type": "markdown",
   "metadata": {},
   "source": [
    "![Callysto.ca License](https://github.com/callysto/curriculum-notebooks/blob/master/callysto-notebook-banner-bottom.jpg?raw=true)"
   ]
  }
 ],
 "metadata": {
  "kernelspec": {
   "display_name": "Python 3 (ipykernel)",
   "language": "python",
   "name": "python3"
  },
  "language_info": {
   "codemirror_mode": {
    "name": "ipython",
    "version": 3
   },
   "file_extension": ".py",
   "mimetype": "text/x-python",
   "name": "python",
   "nbconvert_exporter": "python",
   "pygments_lexer": "ipython3",
   "version": "3.9.6"
  }
 },
 "nbformat": 4,
 "nbformat_minor": 2
}
