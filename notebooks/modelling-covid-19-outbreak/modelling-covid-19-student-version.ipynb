{
 "cells": [
  {
   "cell_type": "markdown",
   "metadata": {},
   "source": [
    "![Callysto.ca Banner](https://github.com/callysto/curriculum-notebooks/blob/master/callysto-notebook-banner-top.jpg?raw=true)"
   ]
  },
  {
   "cell_type": "markdown",
   "metadata": {},
   "source": [
    "# Modelling the COVID19 Outbreak in Canada\n",
    "\n",
    "In this notebook, we’ll implement a “<b>S</b>usceptible, <b>E</b>xposed, <b>I</b>nfected and <b>R</b>ecovered” (<b>SEIR</b>) model used in epidemiology, the study of how disease occurs in populations. \n",
    "\n"
   ]
  },
  {
   "cell_type": "markdown",
   "metadata": {},
   "source": [
    "### Our phenomenon of interest: modelling number of people affected by COVID-19\n",
    "\n",
    "Let's turn now to an event that made headlines in 2020: the COVID-19 pandemic. \n",
    "\n",
    "COVID-19 is a viral infection caused by a pathogen called SARS-CoV-2. \n",
    "\n",
    "<center><img src='./images/23311_lores.jpg',style=\"width: 600px;\"></center>\n",
    "\n",
    "<center>SARS-CoV-2 virus. Illustration by CDC/ Alissa Eckert, MSMI; Dan Higgins, MAMS (2020) </center>"
   ]
  },
  {
   "cell_type": "markdown",
   "metadata": {},
   "source": [
    "#### [Student & Teacher Activity]: Discuss with your teacher your understanding of the COVID-19 outbreak. When you discuss, keep the following questions in mind: \n",
    "\n",
    "#### 1. How is the disease transmitted? \n",
    "#### 2. What pathogen is responsible for causing COVID-19?\n",
    "#### 3. What role does social distancing play?\n",
    "\n",
    "#### Once you have completed the activity above, interact with this Jupyter notebook to explore how we can use mathematics and programming to model the COVID-19 outbreak. \n",
    "\n",
    "## How to use this notebook:\n",
    "\n",
    "![](./images/runb.png)\n",
    "\n",
    "Click on the cell below. Press the <b>>|Run</b> button on the to run the cell below. <b>Note the code cells will <font color=red>not</font> work unless the cell below is run upon opening the notebook</b>."
   ]
  },
  {
   "cell_type": "code",
   "execution_count": null,
   "metadata": {},
   "outputs": [],
   "source": [
    "%run ./scripts/covid19_model.py\n",
    "print(\"Success!\")"
   ]
  },
  {
   "cell_type": "markdown",
   "metadata": {},
   "source": [
    "## Using mathematics to model the COVID-19 outbreak\n",
    "\n",
    "#### [Student Activity] Run the cell below to display a YouTube video. \n",
    "\n",
    "#### [ Student Activity] Play the YouTube Video to learn more about how we can use mathematics to model the COVID-19 outbreak.\n"
   ]
  },
  {
   "cell_type": "code",
   "execution_count": null,
   "metadata": {},
   "outputs": [],
   "source": [
    "from IPython.lib.display import YouTubeVideo\n",
    "YouTubeVideo('LTPJQnEZOLE')"
   ]
  },
  {
   "cell_type": "markdown",
   "metadata": {},
   "source": [
    "\n",
    "<b> What assumptions is the speaker in the video making about the COVID-19 outbreak?</b>\n",
    "\n",
    "#### [Student Activity] Run the cell below to display a text box. Use the text box to enter your answer. When you are done, press the \"Record Answer\" button."
   ]
  },
  {
   "cell_type": "code",
   "execution_count": null,
   "metadata": {},
   "outputs": [],
   "source": [
    "# Code to create a text box\n",
    "try:\n",
    "    display(student_text0,student_button0)\n",
    "except:\n",
    "    print(\"Make sure you run the code cell with code '%run ./scripts/covid19_model.py', then try again.\")"
   ]
  },
  {
   "cell_type": "code",
   "execution_count": null,
   "metadata": {},
   "outputs": [],
   "source": [
    "# Code to store your answer\n",
    "try:\n",
    "    student_input0 = student_text0.value\n",
    "    if(student_input0 != ''):\n",
    "        display(Markdown(\"Your answer for modifying beta parameter:\"),Markdown(student_input0))\n",
    "except:\n",
    "    print(\"Make sure you run the code cell with code '%run ./scripts/covid19_model.py', then try again.\")"
   ]
  },
  {
   "cell_type": "markdown",
   "metadata": {},
   "source": [
    "### Flow diagram representing those assumptions\n",
    "\n",
    "How does a person move from one stage into another? In other words, how does a person go from susceptible to exposed, to infected, to recovered? \n",
    "\n",
    "$\\Delta$: Per-capita birth rate.\n",
    "\n",
    "$\\mu$: Per-capita natural death rate.\n",
    "\n",
    "$\\alpha$: Virus-induced average fatality rate.\n",
    "\n",
    "$\\beta$: Probability of disease transmission per contact (dimensionless) times the number of contacts per unit time.\n",
    "\n",
    "$\\epsilon$: Rate of progression from exposed to infectious (the reciprocal is the incubation period).\n",
    "\n",
    "$\\gamma$: Recovery rate of infectious individuals (the reciprocal is the infectious period).\n",
    "\n",
    "$\\delta$: Rate at which a recovered person re-enters into the susceptible category\n",
    "\n",
    "<center><img src='./images/SEIR.png',style=\"width: 600px;\"></center>\n"
   ]
  },
  {
   "cell_type": "markdown",
   "metadata": {},
   "source": [
    "### Using Mathematics & Code to Create a Simulation\n",
    "\n",
    "Using a tool from Calculus called \"Differential Equations\", we can create a system that will allow us to study our model. \n",
    "\n",
    "It will look daunting - but don't fret! This is what we refer to as using the language of mathematics to express our beliefs about a phenomenon. \n",
    "\n",
    "#### [Student Activity] Run the cell below to display a YouTube video. \n",
    "\n",
    "#### [Student Activity] Play the YouTube Video to learn more about how we can use mathematics to model the COVID-19 outbreak.\n",
    "\n"
   ]
  },
  {
   "cell_type": "code",
   "execution_count": null,
   "metadata": {},
   "outputs": [],
   "source": [
    "from IPython.lib.display import YouTubeVideo\n",
    "YouTubeVideo('wdRYoAOCs_k')"
   ]
  },
  {
   "cell_type": "markdown",
   "metadata": {},
   "source": [
    "### Tinkering with the Parameters: $\\beta$, the rate of contact\n",
    "\n",
    "We can use Python code to solve for and plot the solutions to our system of equations.\n",
    "\n",
    "The cell below will allow us to run code written to express our system of equations. \n",
    "\n",
    "The full script is [here](https://github.com/callysto/lesson-plans/blob/master/notebooks/modelling-covid-19-outbreak/scripts/covid19_model.py)."
   ]
  },
  {
   "cell_type": "markdown",
   "metadata": {},
   "source": [
    "Once we have run the cell below, we can then start running our simulation. \n",
    "\n",
    "Let's start with the rate of contact $\\beta$. The more susceptible people are in contact with infectious people, the higher the value of $\\beta$. \n",
    "\n",
    "What happens when we reduce this rate?, i.e. if we find ways to reduce contact between infectious and susceptible people? Run the cells below, and use the widget to find out how the numbers change. \n",
    "\n",
    "\n",
    "#### [Student Activity] Run the cell below, and use the widget to find out how the number of infectious cases changes when we change $\\beta$. "
   ]
  },
  {
   "cell_type": "code",
   "execution_count": null,
   "metadata": {},
   "outputs": [],
   "source": [
    "try:\n",
    "    interact_manual(tinker_beta, \n",
    "         beta=widgets.FloatSlider(min=0, max=1, step=0.01, value=0.5,description='Beta: contact rate',style=style));\n",
    "except:\n",
    "    print(\"Make sure you run the code cell with code '%run ./scripts/covid19_model.py', then try again.\")"
   ]
  },
  {
   "cell_type": "markdown",
   "metadata": {},
   "source": [
    "When we reduce the contact between infectious and susceptible, we see that the number of new infections each infection generates is lower. \n",
    "\n",
    "How can we reduce the contact in real life? \n",
    "\n",
    "<b>We can do things like social distancing, wearing masks, and using vaccines to prevent susceptible people from becoming exposed. </b>\n",
    "\n",
    "What is the rate $\\beta$ required so that each infections generates less than 1 infection?\n",
    "\n",
    "What happens in our plot when we enter that value for $\\beta$?\n",
    "\n",
    "#### [Student Activity]  Run the cell below and use the text box to enter your answer. When you are done, press the \"Record Answer\" button."
   ]
  },
  {
   "cell_type": "code",
   "execution_count": null,
   "metadata": {},
   "outputs": [],
   "source": [
    "# Code to create a text box\n",
    "try:\n",
    "    display(student_text1,student_button1)\n",
    "except:\n",
    "    print(\"Make sure you run the code cell with code '%run ./scripts/covid19_model.py', then try again.\")"
   ]
  },
  {
   "cell_type": "code",
   "execution_count": null,
   "metadata": {},
   "outputs": [],
   "source": [
    "# Code to store your answer\n",
    "try:\n",
    "    student_input1 = student_text1.value\n",
    "    if(student_input1 != ''):\n",
    "        display(Markdown(\"Your answer for modifying beta parameter:\"),Markdown(student_input1))\n",
    "except:\n",
    "    print(\"Make sure you run the code cell with code '%run ./scripts/covid19_model.py', then try again.\")"
   ]
  },
  {
   "cell_type": "markdown",
   "metadata": {},
   "source": [
    "____\n",
    "\n",
    "### Tinkering with the Parameters $\\beta$: the rate of contact and $\\alpha$: the rate of death due COVID-19\n",
    "\n",
    "\n",
    "How deadly is COVID-19? Let's tinker with a new parameter $\\alpha$ - in our diagram, this corresponds to the death by COVID-19 rate. \n",
    "\n",
    "#### [Student Activity] Run the cell below, and use the widget to find out how the number of infectious cases changes when we change $\\beta$ and $\\alpha$. "
   ]
  },
  {
   "cell_type": "code",
   "execution_count": null,
   "metadata": {},
   "outputs": [],
   "source": [
    "try:\n",
    "    interact_manual(tinker_beta_alpha, \n",
    "        beta=widgets.FloatSlider(min=0, max=1, step=0.01, value=0.5,description='Beta: contact rate',style=style),\n",
    "        alpha=widgets.FloatSlider(min=0, max=1, step=0.01, value=0.5,description='Alpha: COVID-19 death rate',style=style));\n",
    "except:\n",
    "    print(\"Make sure you run the code cell with code '%run ./scripts/covid19_model.py', then try again.\")"
   ]
  },
  {
   "cell_type": "markdown",
   "metadata": {},
   "source": [
    "Something interesting will happen now...the deadlier the virus is, the lower the number of new infections generated by each existing infection. \n",
    "\n",
    "In the table found [here](https://coronavirus.jhu.edu/data/mortality) under \"Case-fatality\" there are percentages for the case fatality of COVID-19 for different countries. \n",
    "\n",
    "If you want to try them using our notebook, recall that 1% can be represented by decimal values as 0.01, 10% as 0.1 and 100% as 1.0. \n",
    "\n",
    "Do you think that COVID-19 is a deadly disease?\n",
    "\n",
    "#### [Student Activity] Run the cell below and use the text box to enter your answer. When you are done, press the \"Record Answer\" button."
   ]
  },
  {
   "cell_type": "code",
   "execution_count": null,
   "metadata": {},
   "outputs": [],
   "source": [
    "# Code to create a text box\n",
    "try:\n",
    "    display(student_text2,student_button2)\n",
    "except:\n",
    "    print(\"Make sure you run the code cell with code '%run ./scripts/covid19_model.py', then try again.\")"
   ]
  },
  {
   "cell_type": "code",
   "execution_count": null,
   "metadata": {},
   "outputs": [],
   "source": [
    "# Code to store your answer\n",
    "try:\n",
    "    student_input2 = student_text2.value\n",
    "    if(student_input2 != ''):\n",
    "        display(Markdown(\"Your answer for modifying beta parameter:\"),Markdown(student_input2))\n",
    "except:\n",
    "    print(\"Make sure you run the code cell with code '%run ./scripts/covid19_model.py', then try again.\")"
   ]
  },
  {
   "cell_type": "markdown",
   "metadata": {},
   "source": [
    "### Tinkering with the remaining parameters\n",
    "\n",
    "Let's incorporate the rest of our parameters into the simulation. \n",
    "\n",
    "$\\Delta$: Per-capita birth rate.\n",
    "\n",
    "$\\mu$: Per-capita natural death rate.\n",
    "\n",
    "$\\alpha$: Virus-induced average fatality rate.\n",
    "\n",
    "$\\beta$: Probability of disease transmission per contact (dimensionless) times the number of contacts per unit time.\n",
    "\n",
    "$\\epsilon$: Rate of progression from exposed to infectious (the reciprocal is the incubation period).\n",
    "\n",
    "$\\gamma$: Recovery rate of infectious individuals (the reciprocal is the infectious period).\n",
    "\n",
    "$\\delta$: Rate at which a recovered person re-enters into the susceptible category\n",
    "\n",
    "<center><img src='./images/FlowChart.png',style=\"width: 600px;\"></center>\n",
    "\n",
    "#### [Student Activity] Run the cells below, and use the widget to find out how the number of infectious cases changes when we change all parameters. "
   ]
  },
  {
   "cell_type": "code",
   "execution_count": null,
   "metadata": {
    "scrolled": false
   },
   "outputs": [],
   "source": [
    "try:\n",
    "    display(tab)\n",
    "except:\n",
    "    print(\"Make sure you run the code cell with code '%run ./scripts/covid19_model.py', then try again.\")"
   ]
  },
  {
   "cell_type": "markdown",
   "metadata": {},
   "source": [
    "### Plotting number of infectious against reported cases of COVID-19 in Canada\n",
    "\n",
    "Using COVID-19 Open Data [1], we are going to compare our model to the number of daily cases reported in Canada. \n",
    "\n",
    "[1] COVID-19 Data Repository by the Center for Systems Science and Engineering (CSSE) at Johns Hopkins University, https://github.com/CSSEGISandData/COVID-19\n",
    "\n",
    "In Canada, a person normally gets tested once they start displaying [symptoms of COVID-19](https://www.covid-19canada.com/#symptoms).\n",
    "\n",
    "By the time a person starts showing symptoms, they can infect others who are in close contact with them. \n",
    "\n",
    "Let's focus on the number of infectious people then and plot that against real data. \n",
    "\n",
    "\n",
    "\n",
    "#### [Student Activity] Run the following cells. Play with the parameters to get a \"first guess\" of what the parameters in our model are. Try to get as close as possible to the curve of reported data."
   ]
  },
  {
   "cell_type": "code",
   "execution_count": null,
   "metadata": {
    "scrolled": false
   },
   "outputs": [],
   "source": [
    "%run -i ./scripts/open_data.py\n",
    "print(\"Success!\")"
   ]
  },
  {
   "cell_type": "code",
   "execution_count": null,
   "metadata": {},
   "outputs": [],
   "source": [
    "try:\n",
    "    display(tab1)\n",
    "except:\n",
    "    print(\"Make sure you run the code cell with code '%run ./scripts/open_data.py', then try again.\")"
   ]
  },
  {
   "cell_type": "markdown",
   "metadata": {},
   "source": [
    "<b>What are the parameters that \"fit\" the real data best? </b>\n",
    "\n",
    "In other words, what are the values for \n",
    "\n",
    "Beta: contact rate\n",
    "\n",
    "Epsilon: infectiousness rate\n",
    "\n",
    "Gamma: recovery rate\n",
    "\n",
    "Alpha: COVID-19 death rate\n",
    "\n",
    "Delta: birth rate\n",
    "\n",
    "mu: natural death rate\n",
    "\n",
    "delta: re-incorporation rate\n",
    "\n",
    "that make our simulation as closely as possible to the data on confirmed COVID-19 cases in Canada?\n",
    "\n",
    "#### [Student Activity]  Run the cell below and use the text box to enter your answer. When you are done, press the \"Record Answer\" button."
   ]
  },
  {
   "cell_type": "code",
   "execution_count": null,
   "metadata": {
    "scrolled": true
   },
   "outputs": [],
   "source": [
    "# Code to create a text box\n",
    "try:\n",
    "    display(student_text3,student_button3)\n",
    "except:\n",
    "    print(\"Make sure you run the code cell with code '%run ./scripts/open_data.py', then try again.\")"
   ]
  },
  {
   "cell_type": "code",
   "execution_count": null,
   "metadata": {},
   "outputs": [],
   "source": [
    "# Code to store your answer\n",
    "try:\n",
    "    student_input3 = student_text3.value\n",
    "    if(student_input3 != ''):\n",
    "        display(Markdown(\"Your answer for modifying beta parameter:\"),Markdown(student_input3))\n",
    "except:\n",
    "    print(\"Make sure you run the code cell with code '%run ./scripts/open_data.py', then try again.\")"
   ]
  },
  {
   "cell_type": "markdown",
   "metadata": {},
   "source": [
    "#### [Student & Teacher Activity] Discuss with your teacher the limitations of the model and the data.\n"
   ]
  },
  {
   "cell_type": "markdown",
   "metadata": {},
   "source": [
    "## Further reading \n",
    "\n",
    "Infectious Disease Modelling https://towardsdatascience.com/infectious-disease-modelling-beyond-the-basic-sir-model-216369c584c4\n",
    "\n",
    "Model adapted from Carcione José M., Santos Juan E., Bagaini Claudio, Ba Jing, A Simulation of a COVID-19 Epidemic Based on a Deterministic SEIR Model. <b>Frontiers in Public Health</b> Vol 8, 2020 https://www.frontiersin.org/article/10.3389/fpubh.2020.00230   DOI=10.3389/fpubh.2020.00230   "
   ]
  },
  {
   "cell_type": "markdown",
   "metadata": {},
   "source": [
    "[![Callysto.ca License](https://github.com/callysto/curriculum-notebooks/blob/master/callysto-notebook-banner-bottom.jpg?raw=true)](https://github.com/callysto/curriculum-notebooks/blob/master/LICENSE.md)"
   ]
  }
 ],
 "metadata": {
  "kernelspec": {
   "display_name": "Python 3",
   "language": "python",
   "name": "python3"
  },
  "language_info": {
   "codemirror_mode": {
    "name": "ipython",
    "version": 3
   },
   "file_extension": ".py",
   "mimetype": "text/x-python",
   "name": "python",
   "nbconvert_exporter": "python",
   "pygments_lexer": "ipython3",
   "version": "3.8.5"
  }
 },
 "nbformat": 4,
 "nbformat_minor": 4
}
