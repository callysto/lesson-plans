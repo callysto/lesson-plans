{
 "cells": [
  {
   "cell_type": "markdown",
   "metadata": {},
   "source": [
    "![Callysto.ca Banner](https://github.com/callysto/curriculum-notebooks/blob/master/callysto-notebook-banner-top.jpg?raw=true)"
   ]
  },
  {
   "cell_type": "markdown",
   "metadata": {},
   "source": [
    "# The Bridge Problem"
   ]
  },
  {
   "cell_type": "code",
   "execution_count": null,
   "metadata": {},
   "outputs": [],
   "source": [
    "#Import Youtube Video\n",
    "from IPython.display import YouTubeVideo\n",
    "YouTubeVideo('7yDmGnA8Hw0')"
   ]
  },
  {
   "cell_type": "markdown",
   "metadata": {},
   "source": [
    "## Any solution to this problem must involve five steps, as in the animation below:\n",
    "### Step 1: Two people cross the bridge.\n",
    "### Step 2: One person goes back.\n",
    "### Step 3: Two people cross the bridge.\n",
    "### Step 4: One person goes back.\n",
    "### Step 5: Two people cross the bridge."
   ]
  },
  {
   "cell_type": "code",
   "execution_count": null,
   "metadata": {},
   "outputs": [],
   "source": [
    "%%html\n",
    "<iframe src=\"bridge-animation.mp4\"></iframe>"
   ]
  },
  {
   "cell_type": "markdown",
   "metadata": {},
   "source": [
    "## We discovered two possible algorithms to solve this problem: \n",
    "### Option 1: Always sending the fastest person\n",
    "### Option 2: Combining the two slowest people"
   ]
  },
  {
   "cell_type": "code",
   "execution_count": null,
   "metadata": {},
   "outputs": [],
   "source": [
    "def CalculateTime(A, B, C, D):\n",
    "    t=[A,B,C,D]\n",
    "    t.sort()\n",
    "    A=t[0] \n",
    "    B=t[1] \n",
    "    C=t[2] \n",
    "    D=t[3]\n",
    "    print('Sending Fastest Person solves the problem in', B+A+C+A+D, 'minutes')\n",
    "    print('Combining Two Slowest solves the problem in', B+A+D+B+B, 'minutes')\n",
    "    return"
   ]
  },
  {
   "cell_type": "markdown",
   "metadata": {},
   "source": [
    "## Let's compare our algorithms, and see which one is faster.\n",
    "### Let's experiment by trying different input values for A, B, C, and D."
   ]
  },
  {
   "cell_type": "code",
   "execution_count": null,
   "metadata": {
    "scrolled": true
   },
   "outputs": [],
   "source": [
    "from ipywidgets import interact\n",
    "import ipywidgets as widgets\n",
    "interact(CalculateTime,\n",
    "A=widgets.IntSlider(min=1, max=20),\n",
    "B=widgets.IntSlider(min=1, max=20),\n",
    "C=widgets.IntSlider(min=1, max=20),\n",
    "D=widgets.IntSlider(min=1, max=20))"
   ]
  },
  {
   "cell_type": "markdown",
   "metadata": {},
   "source": [
    "## Two Challenge Questions\n",
    "### For which values of (A,B,C,D) do the above solutions result in the same total time?\n",
    "### How many different ways can the four people cross the bridge?  (Hint: the answer is more than 100!)"
   ]
  },
  {
   "cell_type": "markdown",
   "metadata": {},
   "source": [
    "[![Callysto.ca License](https://github.com/callysto/curriculum-notebooks/blob/master/callysto-notebook-banner-bottom.jpg?raw=true)](https://github.com/callysto/curriculum-notebooks/blob/master/LICENSE.md)"
   ]
  }
 ],
 "metadata": {
  "kernelspec": {
   "display_name": "Python 3",
   "language": "python",
   "name": "python3"
  },
  "language_info": {
   "codemirror_mode": {
    "name": "ipython",
    "version": 3
   },
   "file_extension": ".py",
   "mimetype": "text/x-python",
   "name": "python",
   "nbconvert_exporter": "python",
   "pygments_lexer": "ipython3",
   "version": "3.7.3"
  }
 },
 "nbformat": 4,
 "nbformat_minor": 2
}
