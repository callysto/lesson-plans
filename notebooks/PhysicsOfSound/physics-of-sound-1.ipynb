{
 "cells": [
  {
   "cell_type": "markdown",
   "metadata": {},
   "source": [
    "![Callysto.ca Banner](https://github.com/callysto/curriculum-notebooks/blob/master/callysto-notebook-banner-top.jpg?raw=true)"
   ]
  },
  {
   "cell_type": "markdown",
   "metadata": {
    "slideshow": {
     "slide_type": "slide"
    }
   },
   "source": [
    "# Physics of Sound - Part One"
   ]
  },
  {
   "cell_type": "markdown",
   "metadata": {},
   "source": [
    "![Warning](images/warning_2.png)\n",
    "![Warning](images/warning_1.png)\n",
    "\n",
    "## WARNING:\n",
    "This notebook will play a variety of sounds to help you learn about sounds. It can be VERY LOUD so be sure to turn down the volume on your computer before beginning."
   ]
  },
  {
   "cell_type": "markdown",
   "metadata": {
    "slideshow": {
     "slide_type": "slide"
    }
   },
   "source": [
    "## What is sound?\n",
    "\n",
    "Sound is simply the rapid variations, or **vibrations** in air pressure that we hear in our ears as sound. Some sounds are produced by regular vibrations of a physical object like the strings on a guitar or the head of a drum. Other sounds are more random, coming for instance from the motion of wind through leaves on a tree. \n",
    "\n",
    "The tines of a tuning fork oscillate back and forth when struck. \n",
    "\n",
    "![tuning fork image](images/tuningfork.jpg)\n",
    "\n",
    "The stings on a violin vibrate when rubbed by a bow.\n",
    "![volin image](images/violin.jpg)\n",
    "\n",
    "\n",
    "For the more regular vibrations, the sounds often seem like musical notes to us. For such sounds, there are three\n",
    "important characteristics:\n",
    "- the **Amplitude** or loudness\n",
    "- the **Pitch** which is the speed of the vibrations\n",
    "- the **Timbre** or quality of the sound\n",
    "\n",
    "Our ears can sense changes in all these thre characteristics. It is what helps us identify what thing is creating a sound. For instance, we can tell the difference between the sound of a musical instrument, or a person talking. \n",
    "\n",
    "We can use the computer to create sounds and play around with these three characteristics. "
   ]
  },
  {
   "cell_type": "markdown",
   "metadata": {},
   "source": [
    "## Amplitude\n",
    "\n",
    "The amplitude of a sound is a measure of how loud it is. For instance, a whisper is a very low amplitude sound while the roar of a motorcycle is a very loud sound. Loudness is measured in **Bels**, in honour of inventor Alexander Graham Bell. We usually use the unit of **decibels** (one-tenth of a Bel) when we talk about sound. \n",
    "\n",
    "On the computer, it is difficult to create a sound with a specific loudness or decibel rating, becauase each computer has a different set of speakers, and the computer user can adjust the volume setting pretty much arbitrarily. So it is useful to think of familiar sounds and know what their loudness is. \n",
    "\n",
    "| Sound       | Decibel leve |\n",
    "| ----------- | ----------- |\n",
    "| Softest sound that can be heard      | 0 dB       |\n",
    "| Breathing   | 10 dB        |\n",
    "| Watch ticking   | 20 dB        |\n",
    "| Whisper   | 30 dB        |\n",
    "| Refrigerator hun   | 40 dB        |\n",
    "| Normal conversation   | 60 dB        |\n",
    "| Lawn mover    | 80 dB        |\n",
    "| Subway train, car horn    | 100 dB        |\n",
    "| Rock concert    | 110 dB        |\n",
    "| Siren  nearby    | 120 dB        |\n",
    "| Firecrackers nearby    | 140 dB        |\n"
   ]
  },
  {
   "cell_type": "markdown",
   "metadata": {},
   "source": [
    "## Playing with amplitude\n",
    "\n",
    "Run the following two cells of code to set up a \"slider\" to play sounds of different amplitude. \n",
    "\n",
    "As you move the slider back and forth, you will hear changes in the loudness, or amplitude, of the sound. "
   ]
  },
  {
   "cell_type": "code",
   "execution_count": 1,
   "metadata": {},
   "outputs": [],
   "source": [
    "# We import the libraries numpy, matplotlib and widgets to make this work. And some audio tools\n",
    "%matplotlib inline\n",
    "import matplotlib.pyplot as plt\n",
    "from numpy import pi, sin, linspace, maximum, minimum, random\n",
    "from ipywidgets import interactive, FloatLogSlider\n",
    "from IPython.display import Audio, display"
   ]
  },
  {
   "cell_type": "code",
   "execution_count": 2,
   "metadata": {},
   "outputs": [
    {
     "data": {
      "application/vnd.jupyter.widget-view+json": {
       "model_id": "014e7842235f49ef9a5f3ff0edbf1244",
       "version_major": 2,
       "version_minor": 0
      },
      "text/plain": [
       "interactive(children=(FloatSlider(value=1.0, description='Amp', max=1.0), Output()), _dom_classes=('widget-int…"
      ]
     },
     "metadata": {},
     "output_type": "display_data"
    }
   ],
   "source": [
    "# vary amplitude\n",
    "def set_amp(Amp=1.0):\n",
    "    t_max = 5\n",
    "    rate = 44100\n",
    "    Hz = 220\n",
    "    t = linspace(0,t_max,rate*t_max)\n",
    "    signal = Amp*sin(2*pi*Hz*t) + sin(2*pi*10*t) # add the inaudible 10Hz to stop normalization\n",
    "    display(Audio(data=signal, rate=rate,autoplay=True))\n",
    "    return signal\n",
    "\n",
    "v1 = interactive(set_amp, Amp=(0.0,1.0))\n",
    "display(v1)"
   ]
  },
  {
   "cell_type": "markdown",
   "metadata": {},
   "source": [
    "## Pitch\n",
    "\n",
    "Pitch has to do with the rate of vibration. It is measured in **cycles per second** or **Hertz** in honour of Heinrich Hertz, who studied electromagnetic waves in the 19th century. The pitch of a sound is usually directly related to the thing that is vibrating and the rate at which it vibrates.\n",
    "\n",
    "For instance, a tuning forl makes sound because its tines are quickly moving back and forth. usually several hundred times per second. A violin makes sounds because the strings are vibrating, with the sound amplified by the wooden body of the instrumnet. A violin string can vibrate from several hundred to several thousand times per second. \n",
    "\n",
    "Low frequency sounds are caused by very slow vibrations -- think of a fog horn or whale call. High frequency sounds are caused by very rapid vibrations -- think of birds or bat sounds, or fingers scratching along a chalkboard. \n",
    "\n",
    "Our ears are limited in what pitches we can hear. A yound person with healthy ears can typically hear sounds with frequencies in the range of 20 Hz to 20,000 Hz. A piano can create notes with frequencies from about 25 Hz to  4000 Hz.\n",
    "\n",
    "The next code cell lets you create a sound of various pitches. Run the cell, then move the slider back and forth to hear tones of different frequencies."
   ]
  },
  {
   "cell_type": "code",
   "execution_count": 3,
   "metadata": {},
   "outputs": [
    {
     "data": {
      "application/vnd.jupyter.widget-view+json": {
       "model_id": "4c9de439390d47ecb13299b5ce18f785",
       "version_major": 2,
       "version_minor": 0
      },
      "text/plain": [
       "interactive(children=(FloatSlider(value=220.0, description='Hz', max=440.0, min=110.0), Output()), _dom_classe…"
      ]
     },
     "metadata": {},
     "output_type": "display_data"
    }
   ],
   "source": [
    "# Vary frequency\n",
    "def set_freq(Hz=220.0):\n",
    "    t_max = 5 # max time in seconds\n",
    "    rate = 44100\n",
    "    t = linspace(0,t_max,rate*t_max)\n",
    "    signal = sin(2*pi*Hz*t)\n",
    "    display(Audio(data=signal, rate=rate,autoplay=True))\n",
    "    return signal\n",
    "\n",
    "v2 = interactive(set_freq, Hz=(110.0,440.0))\n",
    "display(v2)"
   ]
  },
  {
   "cell_type": "markdown",
   "metadata": {},
   "source": [
    "## Range of pitches\n",
    "\n",
    "Since we can hear such a large range of pitches, let's try another slider that ranges from 10Hz to 10,000 Hz.\n",
    "\n",
    "Note that most computers cannot create sounds in this full range, due to limitations in their electronics and in their speaker system. A very high quality music system should be able to reproduce all these tones.\n",
    "\n",
    "Howver, it is important to observe that you may not be able to hear all these sounds. It could be your computer is not able to produce such a range of tones. Or it could be your ears. Compare with your friends -- if none of you can hear a particular sound in this range of frequencies, it is probably the computer that is not producing the sound. "
   ]
  },
  {
   "cell_type": "code",
   "execution_count": 5,
   "metadata": {},
   "outputs": [
    {
     "data": {
      "application/vnd.jupyter.widget-view+json": {
       "model_id": "8d31b8645acf4ddf96aee8ae565c8d53",
       "version_major": 2,
       "version_minor": 0
      },
      "text/plain": [
       "interactive(children=(FloatLogSlider(value=220.0, description='Hz', min=1.0, step=0.01), Output()), _dom_class…"
      ]
     },
     "metadata": {},
     "output_type": "display_data"
    }
   ],
   "source": [
    "#vary tone on a large scale\n",
    "slide = FloatLogSlider(\n",
    "    value=220,\n",
    "    base=10,\n",
    "    min=1, # max exponent of base\n",
    "    max=4, # min exponent of base\n",
    "    step=0.01 # exponent step\n",
    "   )\n",
    "\n",
    "v3 = interactive(set_freq,Hz=slide)\n",
    "                 \n",
    "display(v3)"
   ]
  },
  {
   "cell_type": "markdown",
   "metadata": {},
   "source": [
    "## Timbre\n",
    "\n",
    "Timbre is the quality of the sound. This is the quality that allows us to distingush between the sound of a flute and the sound of a violin, or other musical instrument. It has to do with the complexity of the vibrations, specifically on the complexity of the object that is vibrating.\n",
    "\n",
    "On the computer, we can simulate different timbres by *clipping* a sinusoidal waveform. Let's not worry about the mechanics of this, just try it out in the following. Run the code cell below, and move the slider to obtain sounds with different pitches.\n",
    "\n"
   ]
  },
  {
   "cell_type": "code",
   "execution_count": 4,
   "metadata": {},
   "outputs": [
    {
     "data": {
      "application/vnd.jupyter.widget-view+json": {
       "model_id": "ef163d54fe1b4c9d8ab9701d2cd6c7ad",
       "version_major": 2,
       "version_minor": 0
      },
      "text/plain": [
       "interactive(children=(FloatSlider(value=1.0, description='Timbre', max=1.0, min=0.01), Output()), _dom_classes…"
      ]
     },
     "metadata": {},
     "output_type": "display_data"
    }
   ],
   "source": [
    "# vary timbre\n",
    "def set_timbre(Timbre=1.0):\n",
    "    t_max = 5\n",
    "    rate = 44100\n",
    "    Hz = 220\n",
    "    t = linspace(0,t_max,rate*t_max)\n",
    "    signal = sin(2*pi*Hz*t)\n",
    "    signal = minimum(signal,Timbre)\n",
    "    signal = maximum(signal,-Timbre)\n",
    "    display(Audio(data=signal, rate=rate,autoplay=True))\n",
    "    return signal\n",
    "\n",
    "v4 = interactive(set_timbre, Timbre=(0.01,1.0))\n",
    "display(v4)"
   ]
  },
  {
   "cell_type": "markdown",
   "metadata": {},
   "source": [
    "## Interactive play\n",
    "\n",
    "Let's have some fun with this sound generation.\n",
    "\n",
    "Run the following code cell, and play with the three sliders to  vary all three characteristics: Pitch, Amplitude and Timbre."
   ]
  },
  {
   "cell_type": "code",
   "execution_count": 6,
   "metadata": {},
   "outputs": [
    {
     "data": {
      "application/vnd.jupyter.widget-view+json": {
       "model_id": "4649d246cc454516a89f91758061b173",
       "version_major": 2,
       "version_minor": 0
      },
      "text/plain": [
       "interactive(children=(FloatSlider(value=220.0, description='Hz', max=440.0, min=110.0), FloatSlider(value=1.0,…"
      ]
     },
     "metadata": {},
     "output_type": "display_data"
    }
   ],
   "source": [
    "# vary frequency, amplitude, timbre\n",
    "def set_all(Hz = 220.0, Amp = 1.0, Timbre=1.0):\n",
    "    t_max = 5\n",
    "    rate = 44100\n",
    "    t = linspace(0,t_max,rate*t_max)\n",
    "    signal = sin(2*pi*Hz*t)\n",
    "    signal = minimum(signal,Timbre)\n",
    "    signal = maximum(signal,-Timbre)\n",
    "    signal = Amp*signal + sin(2*pi*10*t)\n",
    "    display(Audio(data=signal, rate=rate,autoplay=True))\n",
    "    return signal\n",
    "\n",
    "v5 = interactive(set_all, Hz = (110.0,440.0), Amp=(0.0,1.0), Timbre=(0.1,1.0))\n",
    "display(v5)"
   ]
  },
  {
   "cell_type": "markdown",
   "metadata": {},
   "source": [
    "## Questions\n",
    "\n",
    "1. Can you hear the difference between changing the frequency, and changing the timbre?\n",
    "2. Is there a combination of frequency and timbre that sounds really good to you?\n",
    "3. Is there a combination of frequency and timbre that sounds really bad to you?\n",
    "4. What combinations do your friends like or dislike? Anything particularly annoying?\n"
   ]
  },
  {
   "cell_type": "markdown",
   "metadata": {},
   "source": [
    "## Interactive hearing test\n",
    "\n",
    "Let's do a little test to see what range of frequencies your ears can detect.\n",
    "\n",
    "Most people with normal hearing can hear sounds at 5,000 Hz, although it is an annoying sound to listen to. Most people struggle to hear a sound at 20,000 Hz. The following test lets you experiment with that range of frequencies, to see what you can hear or not hear.\n",
    "\n",
    "Run the following code cell. When you move the slider, the computer will produce two, three or four tones at the given frequency. If you can count the pulses, you can hear this frequency. If you can't count the pulses, you likely cannote hear this frequency. \n",
    "\n",
    "Try various frequencies, to see what you can hear and cannot hear.\n",
    "\n",
    "(Keep in mind, though, that perhaps your computer speakers are not able to generate certian high frequencies. DOuble check by asking a friend to listen as well,)\n",
    "\n"
   ]
  },
  {
   "cell_type": "code",
   "execution_count": 7,
   "metadata": {},
   "outputs": [
    {
     "data": {
      "application/vnd.jupyter.widget-view+json": {
       "model_id": "6fbc1a6da1dd4a0c9f88aacf8a00cd46",
       "version_major": 2,
       "version_minor": 0
      },
      "text/plain": [
       "interactive(children=(IntSlider(value=5000, description='Hz', max=20000, min=5000), Output()), _dom_classes=('…"
      ]
     },
     "metadata": {},
     "output_type": "display_data"
    }
   ],
   "source": [
    "# Vary frequency\n",
    "def set_freq_pulses(Hz=5000):\n",
    "    t_max = 5 # max time in seconds\n",
    "    pulses = random.randint(2,5) # the number of pulses to generate\n",
    "    rate = 44100\n",
    "    t = linspace(0,t_max,rate*t_max)\n",
    "    signal = sin(2*pi*Hz*t)*sin(pi*pulses*t/t_max)**2\n",
    "    display(Audio(data=signal, rate=rate,autoplay=True))\n",
    "    return signal\n",
    "\n",
    "v6 = interactive(set_freq_pulses, Hz=(5000,20000))\n",
    "display(v6)"
   ]
  },
  {
   "cell_type": "markdown",
   "metadata": {},
   "source": [
    "## Questions\n",
    "\n",
    "1. What is the highest frequency you can hear in this test?\n",
    "2. Who amongst your friends can hear the highest frequencies?\n",
    "3. If you are in a big class, do you notice if one group of people can hear higher than others? Is the difference perhaps based on \n",
    " - age? \n",
    " - gender?\n",
    " - teacher versus students?\n",
    " - musical training?\n",
    " - hunters? (or people routinely exposed to loud noises liek rifles)\n",
    " - other differences?"
   ]
  },
  {
   "cell_type": "markdown",
   "metadata": {},
   "source": [
    "## Some thoughts on music\n",
    "\n",
    "The ancient Greeks noticed that strings of different lengths produced pleasant sounds (music) when their lengths were related by **small integer fractions** like 3/4 or 4/5. \n",
    "\n",
    "This interesting observation has to do with the pitches produced by the strings. Why they sound good to humans is an interesting question about how we perceive sound. \n",
    "\n",
    "The follow code lets you produce sounds with frequencies related by small integers. "
   ]
  },
  {
   "cell_type": "code",
   "execution_count": 8,
   "metadata": {},
   "outputs": [
    {
     "data": {
      "application/vnd.jupyter.widget-view+json": {
       "model_id": "1ad9fde983284882af357c4fa436d31f",
       "version_major": 2,
       "version_minor": 0
      },
      "text/plain": [
       "interactive(children=(IntSlider(value=2, description='Integer_1', max=9, min=1), IntSlider(value=3, descriptio…"
      ]
     },
     "metadata": {},
     "output_type": "display_data"
    }
   ],
   "source": [
    "## Small integer frequencies ratios sound nice\n",
    "# vary frequency, amplitude, timbre\n",
    "def set_int_freqs(Integer_1 = 2, Integer_2 = 3):\n",
    "    t_max = 5\n",
    "    rate = 44100\n",
    "    t = linspace(0,t_max,rate*t_max)\n",
    "    Hz = 220\n",
    "    signal = sin(2*pi*Integer_1*Hz*t) + sin(2*pi*Integer_2*Hz*t + .1) # add a weird phase\n",
    "    display(Audio(data=signal, rate=rate,autoplay=True))\n",
    "    return signal\n",
    "\n",
    "v7 = interactive(set_int_freqs, Integer_1 = (1,9), Integer_2=(1,9))\n",
    "display(v7)\n",
    "\n"
   ]
  },
  {
   "cell_type": "markdown",
   "metadata": {},
   "source": [
    "## Questions\n",
    "\n",
    "1. Which combination of tones sound good to you?\n",
    "2. Whcih combinations sound strange to you?\n",
    "3. If you play a musical instrument, do you recognize any of these as musical intervals on a scale?"
   ]
  },
  {
   "cell_type": "markdown",
   "metadata": {},
   "source": [
    "## Interactive Beats\n",
    "\n",
    "There is an interesting psycho-acoustical phenomena we can observe in humans, which is how we perceive two tones that are close in frequency. Usually, two tones playing at the same time are heard by our ears as two separate tones. But if they are close in frequency, we hear only one tone that **beats** loud and soft. \n",
    "\n",
    "Why this happens is an interesting question about both how our ears work, and how our brain works.\n",
    "\n",
    "You can experiment with this by running the following code cell. "
   ]
  },
  {
   "cell_type": "code",
   "execution_count": 9,
   "metadata": {},
   "outputs": [
    {
     "data": {
      "application/vnd.jupyter.widget-view+json": {
       "model_id": "285fc805494a41409abab67469b0f243",
       "version_major": 2,
       "version_minor": 0
      },
      "text/plain": [
       "interactive(children=(FloatSlider(value=220.0, description='f1_Hz', max=300.0, min=200.0), FloatSlider(value=2…"
      ]
     },
     "metadata": {},
     "output_type": "display_data"
    }
   ],
   "source": [
    "def beat_freq(f1_Hz=220.0, f2_Hz=224.0):\n",
    "    t_max = 5\n",
    "    rate = 44100\n",
    "    t = linspace(0,t_max,rate*t_max)\n",
    "    signal = sin(2*pi*f1_Hz*t) + sin(2*pi*f2_Hz*t)\n",
    "    display(Audio(data=signal, rate=rate,autoplay=True))\n",
    "    return signal\n",
    "\n",
    "v8 = interactive(beat_freq, f1_Hz=(200.0,300.0), f2_Hz=(200.0,300.0))\n",
    "display(v8)"
   ]
  },
  {
   "cell_type": "markdown",
   "metadata": {},
   "source": [
    "## Questions and activities\n",
    "\n",
    "1. Using the two sliders above, move the sliders to hear two sounds of different frequencies.\n",
    "2. If you set both sliders to the same frequency, you should hear just one tone. Do you?\n",
    "3. If you set the sliders to different, but close frequencies (like 220 and 224 Hz), you will hear beats. Do you?\n",
    "4. If you set the sliders to different, far apart freqeuncies (like 220 and 275 Hz), you will hear a musical chord. Do you?\n",
    "5. How close do the frequencies need to be for you to hear beats?\n",
    "6. How far apart do the frequencies need to be for you to hear something like a musical chord?\n",
    "7. If the frequencies differ by 3 Hz (like 220 and 223 Hz), how many beats per second do you hear? If you can't hear it, make a guess. (It is just arithmetic!)\n",
    "8. Does the number of beats per second only depend on the difference of the frequencies? Or something else?\n",
    "\n",
    "By the way, using the \"arrow keys\" on your keyboard will allow you to make fine changes to the slider values. You can also type in values directly in the text box by the slider. Try it!\n",
    "\n"
   ]
  },
  {
   "cell_type": "markdown",
   "metadata": {
    "slideshow": {
     "slide_type": "slide"
    }
   },
   "source": [
    "## A really annoying sound\n",
    "\n",
    "The following sound is really annoying, so you might like to turn down the volume on your computer. \n",
    "\n",
    "Animals that use sonar for locating objects in their enviroments include whale, dophins and bats. Using their voice boxes or nasal cavities, they can produce a tone that rapidly increase in frequency. This is called a chirp, and is also the idea behind certain radar signals made by humans in the electromagnetic spectrum.\n",
    "\n",
    "We can use a chirp to explore the range of frequencies that we can hear. Humans with very good ears can hear from 20 Hz to 20,000 Hz. "
   ]
  },
  {
   "cell_type": "code",
   "execution_count": 10,
   "metadata": {
    "slideshow": {
     "slide_type": "slide"
    }
   },
   "outputs": [
    {
     "data": {
      "application/vnd.jupyter.widget-view+json": {
       "model_id": "863b54de107f46e684321b65bed39a4e",
       "version_major": 2,
       "version_minor": 0
      },
      "text/plain": [
       "interactive(children=(IntSlider(value=5000, description='Hz', max=20000, min=1000), Output()), _dom_classes=('…"
      ]
     },
     "metadata": {},
     "output_type": "display_data"
    }
   ],
   "source": [
    "def make_chirp(Hz=5000):\n",
    "    t_max = 5\n",
    "    rate = 44100\n",
    "    t = linspace(0,t_max,rate*t_max)\n",
    "    signal = sin(pi*Hz*t*t/t_max) \n",
    "    display(Audio(data=signal, rate=rate,autoplay=True))\n",
    "    return signal\n",
    "\n",
    "v9 = interactive(make_chirp, Hz=(1000,20000))\n",
    "display(v9)"
   ]
  },
  {
   "cell_type": "markdown",
   "metadata": {},
   "source": [
    "## To explore\n",
    "\n",
    "1. The slider sets the maximum frequency for the chirp. At what frequency does it get annoying to you? To your friends?\n",
    "2. Try the slider at 1000 Hz. Can you hear how the frequency starts low, then works its way up to a higher frequency?\n",
    "3. At what frequency do you stop hearing the slide? How about your friends?\n"
   ]
  },
  {
   "cell_type": "markdown",
   "metadata": {
    "slideshow": {
     "slide_type": "slide"
    }
   },
   "source": [
    "## Random numbers\n",
    "\n",
    "A list of random numbers, will create a sound. \n",
    "\n",
    "What do you think is will sound like?\n",
    "\n"
   ]
  },
  {
   "cell_type": "code",
   "execution_count": 12,
   "metadata": {
    "slideshow": {
     "slide_type": "skip"
    }
   },
   "outputs": [
    {
     "data": {
      "text/html": [
       "\n",
       "                <audio  controls=\"controls\" autoplay=\"autoplay\">\n",
       "                    <source src=\"data:audio/wav;base64,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\" type=\"audio/wav\" />\n",
       "                    Your browser does not support the audio element.\n",
       "                </audio>\n",
       "              "
      ],
      "text/plain": [
       "<IPython.lib.display.Audio object>"
      ]
     },
     "execution_count": 12,
     "metadata": {},
     "output_type": "execute_result"
    }
   ],
   "source": [
    "Fs = 44100\n",
    "random_sound = random.randn(Fs)\n",
    "Audio(data=random_sound, rate=Fs, autoplay=True)"
   ]
  },
  {
   "cell_type": "markdown",
   "metadata": {},
   "source": [
    "## Summary\n",
    "\n",
    "This notebook was a brief introduction to the physics of sound.\n",
    "\n",
    "We generated vibrations in air pressure using code that sends a string of numbers to the computer speakers. We can vary the pitch, amplitude and timbre of the sound using simple commands. \n",
    "\n",
    "We also explored the phenomena of beats and looked into the range of frequencies that a person can hear. \n",
    "\n",
    "We used random numbers to generate noise. "
   ]
  },
  {
   "cell_type": "markdown",
   "metadata": {},
   "source": [
    "[![Callysto.ca License](https://github.com/callysto/curriculum-notebooks/blob/master/callysto-notebook-banner-bottom.jpg?raw=true)](https://github.com/callysto/curriculum-notebooks/blob/master/LICENSE.md)"
   ]
  }
 ],
 "metadata": {
  "kernelspec": {
   "display_name": "Python 3 (ipykernel)",
   "language": "python",
   "name": "python3"
  },
  "language_info": {
   "codemirror_mode": {
    "name": "ipython",
    "version": 3
   },
   "file_extension": ".py",
   "mimetype": "text/x-python",
   "name": "python",
   "nbconvert_exporter": "python",
   "pygments_lexer": "ipython3",
   "version": "3.10.5"
  },
  "vscode": {
   "interpreter": {
    "hash": "d1ca6d17674200220921376aaeb3d36cffe15ecab2470a9a5e7a456cdbf61425"
   }
  }
 },
 "nbformat": 4,
 "nbformat_minor": 4
}
