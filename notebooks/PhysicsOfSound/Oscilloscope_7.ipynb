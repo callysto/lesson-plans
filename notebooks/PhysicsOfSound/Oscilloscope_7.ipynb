{
 "cells": [
  {
   "cell_type": "markdown",
   "id": "22013bbb",
   "metadata": {},
   "source": [
    "![Callysto.ca Banner](https://github.com/callysto/curriculum-notebooks/blob/master/callysto-notebook-banner-top.jpg?raw=true)"
   ]
  },
  {
   "cell_type": "markdown",
   "id": "3f5f7219",
   "metadata": {},
   "source": [
    "## Oscilloscope 7\n",
    "\n",
    "#### August 31, 2022\n",
    "\n",
    "Based on Oscilloscope 5 and 6.\n",
    "\n",
    "The goal: Remove all the HTML code, move the JS into a Jupyter cell, and run it without any external files. This should be easy. \n",
    "\n",
    "We also got this to run in Chrome, Safari and Firefox by using the method navigator.mediaDevices.getUserMedia, rather than the older and depricated version navigator.getUserMedia. This might cause some incompatibility with older browsers, though. \n"
   ]
  },
  {
   "cell_type": "code",
   "execution_count": 5,
   "id": "4b381234",
   "metadata": {},
   "outputs": [],
   "source": [
    "import plotly.graph_objects as go\n",
    "from IPython.display import Javascript"
   ]
  },
  {
   "cell_type": "code",
   "execution_count": 6,
   "id": "41b9210b-ac21-4001-998f-c014672e892f",
   "metadata": {},
   "outputs": [],
   "source": [
    "from IPython.display import display, HTML"
   ]
  },
  {
   "cell_type": "code",
   "execution_count": 7,
   "id": "da55146e",
   "metadata": {},
   "outputs": [
    {
     "data": {
      "application/vnd.jupyter.widget-view+json": {
       "model_id": "4bf5027ca7014e0f9f18b47ce456ebac",
       "version_major": 2,
       "version_minor": 0
      },
      "text/plain": [
       "FigureWidget({\n",
       "    'data': [{'mode': 'lines', 'type': 'scatter', 'uid': '2a7e02ac-76d9-44f2-a948-699178fb39b6'…"
      ]
     },
     "metadata": {},
     "output_type": "display_data"
    }
   ],
   "source": [
    "myDataArray = [0,.1,.2,.3]\n",
    "\n",
    "fig = go.Figure(data=go.Scatter( y=myDataArray, mode='lines'))\n",
    "fig.update_layout(yaxis_range=[-.3,.3])\n",
    "f = go.FigureWidget(fig)\n",
    "f"
   ]
  },
  {
   "cell_type": "code",
   "execution_count": 8,
   "id": "055103a2",
   "metadata": {},
   "outputs": [
    {
     "data": {
      "application/javascript": [
       "\n",
       "\n",
       "// We use the WebAudio API in Javascript in order to access the user's microphone. It asks for permission first. \n",
       "\n",
       "// Some variable to keep track of the audio context, source, and stream\n",
       "\n",
       "var audioCtx = new (window.AudioContext || window.webkitAudioContext)();\n",
       "var source;\n",
       "var stream;\n",
       "\n",
       "//set up the analyser node that grabs the sound samples\n",
       "\n",
       "var analyser = audioCtx.createAnalyser();\n",
       "    analyser.minDecibels = -90;\n",
       "    analyser.maxDecibels = -10;\n",
       "    analyser.smoothingTimeConstant = 0.85;\n",
       "\n",
       "// a variable to keep track of animation frames\n",
       "\n",
       "var drawVisual;\n",
       "\n",
       "// start up the microphone (media) and then connect it to the visualizer\n",
       "\n",
       "if (navigator.mediaDevices.getUserMedia) {\n",
       "    console.log(\"mediaDevices.getUserMedia supported.\");\n",
       "    async function getMedia(constraints) {\n",
       "        try {\n",
       "            stream = await navigator.mediaDevices.getUserMedia(constraints);\n",
       "            source = audioCtx.createMediaStreamSource(stream);\n",
       "            source.connect(analyser);\n",
       "            visualize();\n",
       "        } \n",
       "        catch (err) {\n",
       "            console.log(\"The following gUM error occured: \" + err);\n",
       "        }\n",
       "    }\n",
       "    getMedia({audio: true,})\n",
       "} else {\n",
       "          console.log(\"mediaDevices.getUserMedia not supported on your browser!\");\n",
       "};\n",
       "\n",
       "// This visualize function catches the sound samples then passes it to the Plotly device in Python\n",
       "// We also check one global variable \"killDraw\" to see when we should stop the drawing. \n",
       "function visualize() {\n",
       "    analyser.fftSize = 1024;\n",
       "    var dataArray = new Float32Array(analyser.fftSize);\n",
       "    var fps = 4;\n",
       "    window.killDraw = false;\n",
       "    function draw(timestamp){\n",
       "        if (window.killDraw) {return;}\n",
       "        setTimeout(function(){ //throttle requestAnimationFrame to 4 fps\n",
       "            analyser.getFloatTimeDomainData(dataArray);\n",
       "            IPython.notebook.kernel.execute(\n",
       "                \"f.data[0]['y'] = \"+ dataArray + \";\"\n",
       "            ); \n",
       "            drawVisual = requestAnimationFrame(draw)\n",
       "        }, 1000/fps)\n",
       "    }\n",
       "    draw();\n",
       "}\n",
       "\n",
       "// finally, we save the \"visualize\" function in a variable we can call from a Jupyter cell later. \n",
       "window.myVis = visualize;\n",
       "\n"
      ],
      "text/plain": [
       "<IPython.core.display.Javascript object>"
      ]
     },
     "execution_count": 8,
     "metadata": {},
     "output_type": "execute_result"
    }
   ],
   "source": [
    "Javascript(\"\"\"\n",
    "\n",
    "// We use the WebAudio API in Javascript in order to access the user's microphone. It asks for permission first. \n",
    "\n",
    "// Some variable to keep track of the audio context, source, and stream\n",
    "\n",
    "var audioCtx = new (window.AudioContext || window.webkitAudioContext)();\n",
    "var source;\n",
    "var stream;\n",
    "\n",
    "//set up the analyser node that grabs the sound samples\n",
    "\n",
    "var analyser = audioCtx.createAnalyser();\n",
    "    analyser.minDecibels = -90;\n",
    "    analyser.maxDecibels = -10;\n",
    "    analyser.smoothingTimeConstant = 0.85;\n",
    "\n",
    "// a variable to keep track of animation frames\n",
    "\n",
    "var drawVisual;\n",
    "\n",
    "// start up the microphone (media) and then connect it to the visualizer\n",
    "\n",
    "if (navigator.mediaDevices.getUserMedia) {\n",
    "    console.log(\"mediaDevices.getUserMedia supported.\");\n",
    "    async function getMedia(constraints) {\n",
    "        try {\n",
    "            stream = await navigator.mediaDevices.getUserMedia(constraints);\n",
    "            source = audioCtx.createMediaStreamSource(stream);\n",
    "            source.connect(analyser);\n",
    "            visualize();\n",
    "        } \n",
    "        catch (err) {\n",
    "            console.log(\"The following gUM error occured: \" + err);\n",
    "        }\n",
    "    }\n",
    "    getMedia({audio: true,})\n",
    "} else {\n",
    "          console.log(\"mediaDevices.getUserMedia not supported on your browser!\");\n",
    "};\n",
    "\n",
    "// This visualize function catches the sound samples then passes it to the Plotly device in Python\n",
    "// We also check one global variable \"killDraw\" to see when we should stop the drawing. \n",
    "function visualize() {\n",
    "    analyser.fftSize = 1024;\n",
    "    var dataArray = new Float32Array(analyser.fftSize);\n",
    "    var fps = 4;\n",
    "    window.killDraw = false;\n",
    "    function draw(timestamp){\n",
    "        if (window.killDraw) {return;}\n",
    "        setTimeout(function(){ //throttle requestAnimationFrame to 4 fps\n",
    "            analyser.getFloatTimeDomainData(dataArray);\n",
    "            IPython.notebook.kernel.execute(\n",
    "                \"f.data[0]['y'] = \"+ dataArray + \";\"\n",
    "            ); \n",
    "            drawVisual = requestAnimationFrame(draw)\n",
    "        }, 1000/fps)\n",
    "    }\n",
    "    draw();\n",
    "}\n",
    "\n",
    "// finally, we save the \"visualize\" function in a variable we can call from a Jupyter cell later. \n",
    "window.myVis = visualize;\n",
    "\n",
    "\"\"\")"
   ]
  },
  {
   "cell_type": "markdown",
   "id": "dd8b89c8",
   "metadata": {},
   "source": [
    "## Starting and stopping\n",
    "\n",
    "We include two cells to start and stop the drawing. Otherwise, the drawing is running all the time and never stops working. "
   ]
  },
  {
   "cell_type": "code",
   "execution_count": 4,
   "id": "cc7a7e32",
   "metadata": {},
   "outputs": [
    {
     "data": {
      "application/javascript": [
       "window.killDraw=true;"
      ],
      "text/plain": [
       "<IPython.core.display.Javascript object>"
      ]
     },
     "execution_count": 4,
     "metadata": {},
     "output_type": "execute_result"
    }
   ],
   "source": [
    "## Run this cell to stop the drawing\n",
    "Javascript(\"window.killDraw=true;\")"
   ]
  },
  {
   "cell_type": "code",
   "execution_count": 5,
   "id": "618f0d11",
   "metadata": {},
   "outputs": [
    {
     "data": {
      "application/javascript": [
       "window.killDraw=true; window.myVis();"
      ],
      "text/plain": [
       "<IPython.core.display.Javascript object>"
      ]
     },
     "execution_count": 5,
     "metadata": {},
     "output_type": "execute_result"
    }
   ],
   "source": [
    "## Run this cell to restart the drawing\n",
    "Javascript(\"window.killDraw=true; window.myVis();\")"
   ]
  },
  {
   "cell_type": "markdown",
   "id": "3d2651df",
   "metadata": {},
   "source": [
    "[![Callysto.ca License](https://github.com/callysto/curriculum-notebooks/blob/master/callysto-notebook-banner-bottom.jpg?raw=true)](https://github.com/callysto/curriculum-notebooks/blob/master/LICENSE.md)"
   ]
  },
  {
   "cell_type": "code",
   "execution_count": 13,
   "id": "fed03573",
   "metadata": {},
   "outputs": [
    {
     "data": {
      "application/javascript": [
       "window.killDraw = true;\n",
       "console.log(window.killDraw)\n"
      ],
      "text/plain": [
       "<IPython.core.display.Javascript object>"
      ]
     },
     "metadata": {},
     "output_type": "display_data"
    }
   ],
   "source": [
    "%%js\n",
    "window.killDraw = true;\n",
    "console.log(window.killDraw)"
   ]
  },
  {
   "cell_type": "code",
   "execution_count": null,
   "id": "49271c1a",
   "metadata": {},
   "outputs": [],
   "source": []
  }
 ],
 "metadata": {
  "kernelspec": {
   "display_name": "Python 3 (ipykernel)",
   "language": "python",
   "name": "python3"
  },
  "language_info": {
   "codemirror_mode": {
    "name": "ipython",
    "version": 3
   },
   "file_extension": ".py",
   "mimetype": "text/x-python",
   "name": "python",
   "nbconvert_exporter": "python",
   "pygments_lexer": "ipython3",
   "version": "3.10.5"
  }
 },
 "nbformat": 4,
 "nbformat_minor": 5
}
