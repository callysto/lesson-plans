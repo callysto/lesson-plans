{
 "cells": [
  {
   "cell_type": "markdown",
   "id": "22013bbb",
   "metadata": {},
   "source": [
    "![Callysto.ca Banner](https://github.com/callysto/curriculum-notebooks/blob/master/callysto-notebook-banner-top.jpg?raw=true)"
   ]
  },
  {
   "cell_type": "markdown",
   "id": "3f5f7219",
   "metadata": {},
   "source": [
    "## Spectroscope\n",
    "\n",
    "#### August 31, 2022\n",
    "\n",
    "Based on Oscilloscope 7.\n",
    "\n",
    "Let's just view the FFT info instead. Note the values are given in Decibels, so we have to adjust the limits on our Plotly graph. \n",
    "\n",
    "I can set the sample rate in the JS code, and use this to figure out the axis range for the frequencies. \n",
    "\n",
    "Amplitude is in decibels. \n"
   ]
  },
  {
   "cell_type": "code",
   "execution_count": 1,
   "id": "4b381234",
   "metadata": {},
   "outputs": [],
   "source": [
    "import plotly.graph_objects as go\n",
    "from IPython.display import Javascript\n"
   ]
  },
  {
   "cell_type": "code",
   "execution_count": 2,
   "id": "634af43b",
   "metadata": {},
   "outputs": [],
   "source": [
    "## Let's set up the frequency lines, Sample Rate and FFT size have to be the same as in the Javascript code\n",
    "from numpy import linspace\n",
    "sampleRate = 10000\n",
    "FFTsize = 256\n",
    "x = linspace(0,sampleRate//2,FFTsize//2)"
   ]
  },
  {
   "cell_type": "code",
   "execution_count": 3,
   "id": "da55146e",
   "metadata": {},
   "outputs": [
    {
     "data": {
      "application/vnd.jupyter.widget-view+json": {
       "model_id": "697f3039841340f09f8075bcced2691b",
       "version_major": 2,
       "version_minor": 0
      },
      "text/plain": [
       "FigureWidget({\n",
       "    'data': [{'mode': 'lines',\n",
       "              'type': 'scatter',\n",
       "              'uid': '035124b8-…"
      ]
     },
     "metadata": {},
     "output_type": "display_data"
    }
   ],
   "source": [
    "myDataArray = x\n",
    "\n",
    "fig = go.Figure(data=go.Scatter( x=x,y=x, mode='lines'))\n",
    "fig.update_layout(yaxis_range=[-120,0],title=\"Spectrogram\",xaxis_title=\"Frequency\",yaxis_title=\"Magnitude (dB)\")\n",
    "f = go.FigureWidget(fig)\n",
    "f"
   ]
  },
  {
   "cell_type": "code",
   "execution_count": 4,
   "id": "055103a2",
   "metadata": {},
   "outputs": [
    {
     "data": {
      "application/javascript": [
       "\n",
       "\n",
       "// We use the WebAudio API in Javascript in order to access the user's microphone. It asks for permission first. \n",
       "\n",
       "// Some variable to keep track of the audio context, source, and stream\n",
       "\n",
       "var audioCtx = new (window.AudioContext || window.webkitAudioContext)({sampleRate: 10000,});\n",
       "var source;\n",
       "var stream;\n",
       "\n",
       "//set up the analyser node that grabs the sound samples\n",
       "\n",
       "var analyser = audioCtx.createAnalyser();\n",
       "    analyser.minDecibels = -90;\n",
       "    analyser.maxDecibels = -10;\n",
       "    analyser.smoothingTimeConstant = 0.85;\n",
       "\n",
       "// a variable to keep track of animation frames\n",
       "\n",
       "var drawVisual;\n",
       "\n",
       "// start up the microphone (media) and then connect it to the visualizer\n",
       "\n",
       "if (navigator.mediaDevices.getUserMedia) {\n",
       "    console.log(\"mediaDevices.getUserMedia supported.\");\n",
       "    async function getMedia(constraints) {\n",
       "        try {\n",
       "            stream = await navigator.mediaDevices.getUserMedia(constraints);\n",
       "            source = audioCtx.createMediaStreamSource(stream);\n",
       "            source.connect(analyser);\n",
       "            visualize();\n",
       "        } \n",
       "        catch (err) {\n",
       "            console.log(\"The following gUM error occured: \" + err);\n",
       "        }\n",
       "    }\n",
       "    getMedia({audio: true,})\n",
       "} else {\n",
       "          console.log(\"mediaDevices.getUserMedia not supported on your browser!\");\n",
       "};\n",
       "\n",
       "// This visualize function catches the sound samples then passes it to the Plotly device in Python\n",
       "// We also check one global variable \"killDraw\" to see when we should stop the drawing. \n",
       "function visualize() {\n",
       "    analyser.fftSize = 256;\n",
       "    var dataArray = new Float32Array(analyser.frequencyBinCount);\n",
       "    var fps = 4;\n",
       "    window.killDraw = false;\n",
       "    function draw(timestamp){\n",
       "        if (window.killDraw) {return;}\n",
       "        setTimeout(function(){ //throttle requestAnimationFrame to 4 fps\n",
       "            analyser.getFloatFrequencyData(dataArray);\n",
       "            IPython.notebook.kernel.execute(\n",
       "                \"f.data[0]['y'] = \"+ dataArray + \";\"\n",
       "            ); \n",
       "            drawVisual = requestAnimationFrame(draw)\n",
       "        }, 1000/fps)\n",
       "    }\n",
       "    draw();\n",
       "}\n",
       "\n",
       "// finally, we save the \"visualize\" function in a variable we can call from a Jupyter cell later. \n",
       "window.myVis = visualize;\n",
       "\n"
      ],
      "text/plain": [
       "<IPython.core.display.Javascript object>"
      ]
     },
     "execution_count": 4,
     "metadata": {},
     "output_type": "execute_result"
    }
   ],
   "source": [
    "Javascript(\"\"\"\n",
    "\n",
    "// We use the WebAudio API in Javascript in order to access the user's microphone. It asks for permission first. \n",
    "\n",
    "// Some variable to keep track of the audio context, source, and stream\n",
    "\n",
    "var audioCtx = new (window.AudioContext || window.webkitAudioContext)({sampleRate: 10000,});\n",
    "var source;\n",
    "var stream;\n",
    "\n",
    "//set up the analyser node that grabs the sound samples\n",
    "\n",
    "var analyser = audioCtx.createAnalyser();\n",
    "    analyser.minDecibels = -90;\n",
    "    analyser.maxDecibels = -10;\n",
    "    analyser.smoothingTimeConstant = 0.85;\n",
    "\n",
    "// a variable to keep track of animation frames\n",
    "\n",
    "var drawVisual;\n",
    "\n",
    "// start up the microphone (media) and then connect it to the visualizer\n",
    "\n",
    "if (navigator.mediaDevices.getUserMedia) {\n",
    "    console.log(\"mediaDevices.getUserMedia supported.\");\n",
    "    async function getMedia(constraints) {\n",
    "        try {\n",
    "            stream = await navigator.mediaDevices.getUserMedia(constraints);\n",
    "            source = audioCtx.createMediaStreamSource(stream);\n",
    "            source.connect(analyser);\n",
    "            visualize();\n",
    "        } \n",
    "        catch (err) {\n",
    "            console.log(\"The following gUM error occured: \" + err);\n",
    "        }\n",
    "    }\n",
    "    getMedia({audio: true,})\n",
    "} else {\n",
    "          console.log(\"mediaDevices.getUserMedia not supported on your browser!\");\n",
    "};\n",
    "\n",
    "// This visualize function catches the sound samples then passes it to the Plotly device in Python\n",
    "// We also check one global variable \"killDraw\" to see when we should stop the drawing. \n",
    "function visualize() {\n",
    "    analyser.fftSize = 256;\n",
    "    var dataArray = new Float32Array(analyser.frequencyBinCount);\n",
    "    var fps = 4;\n",
    "    window.killDraw = false;\n",
    "    function draw(timestamp){\n",
    "        if (window.killDraw) {return;}\n",
    "        setTimeout(function(){ //throttle requestAnimationFrame to 4 fps\n",
    "            analyser.getFloatFrequencyData(dataArray);\n",
    "            IPython.notebook.kernel.execute(\n",
    "                \"f.data[0]['y'] = \"+ dataArray + \";\"\n",
    "            ); \n",
    "            drawVisual = requestAnimationFrame(draw)\n",
    "        }, 1000/fps)\n",
    "    }\n",
    "    draw();\n",
    "}\n",
    "\n",
    "// finally, we save the \"visualize\" function in a variable we can call from a Jupyter cell later. \n",
    "window.myVis = visualize;\n",
    "\n",
    "\"\"\")"
   ]
  },
  {
   "cell_type": "markdown",
   "id": "dd8b89c8",
   "metadata": {},
   "source": [
    "## Starting and stopping\n",
    "\n",
    "We include two cells to start and stop the drawing. Otherwise, the drawing is running all the time and never stops working. "
   ]
  },
  {
   "cell_type": "code",
   "execution_count": 5,
   "id": "cc7a7e32",
   "metadata": {},
   "outputs": [
    {
     "data": {
      "application/javascript": [
       "window.killDraw=true;"
      ],
      "text/plain": [
       "<IPython.core.display.Javascript object>"
      ]
     },
     "execution_count": 5,
     "metadata": {},
     "output_type": "execute_result"
    }
   ],
   "source": [
    "## Run this cell to stop the drawing\n",
    "Javascript(\"window.killDraw=true;\")"
   ]
  },
  {
   "cell_type": "code",
   "execution_count": 6,
   "id": "618f0d11",
   "metadata": {},
   "outputs": [
    {
     "data": {
      "application/javascript": [
       "window.killDraw=true; window.myVis();"
      ],
      "text/plain": [
       "<IPython.core.display.Javascript object>"
      ]
     },
     "execution_count": 6,
     "metadata": {},
     "output_type": "execute_result"
    }
   ],
   "source": [
    "## Run this cell to restart the drawing\n",
    "Javascript(\"window.killDraw=true; window.myVis();\")"
   ]
  },
  {
   "cell_type": "markdown",
   "id": "3d2651df",
   "metadata": {},
   "source": [
    "[![Callysto.ca License](https://github.com/callysto/curriculum-notebooks/blob/master/callysto-notebook-banner-bottom.jpg?raw=true)](https://github.com/callysto/curriculum-notebooks/blob/master/LICENSE.md)"
   ]
  },
  {
   "cell_type": "code",
   "execution_count": 13,
   "id": "fed03573",
   "metadata": {},
   "outputs": [
    {
     "data": {
      "application/javascript": [
       "window.killDraw = true;\n",
       "console.log(window.killDraw)\n"
      ],
      "text/plain": [
       "<IPython.core.display.Javascript object>"
      ]
     },
     "metadata": {},
     "output_type": "display_data"
    }
   ],
   "source": [
    "%%js\n",
    "window.killDraw = true;\n",
    "console.log(window.killDraw)"
   ]
  },
  {
   "cell_type": "code",
   "execution_count": 10,
   "id": "49271c1a",
   "metadata": {},
   "outputs": [
    {
     "data": {
      "text/plain": [
       "[0, 0.1, 0.2, 0.3]"
      ]
     },
     "execution_count": 10,
     "metadata": {},
     "output_type": "execute_result"
    }
   ],
   "source": [
    "myDataArray"
   ]
  },
  {
   "cell_type": "code",
   "execution_count": 11,
   "id": "1f92833f",
   "metadata": {},
   "outputs": [
    {
     "data": {
      "text/plain": [
       "(-72.69232177734375,\n",
       " -73.7354965209961,\n",
       " -80.48992156982422,\n",
       " -88.05966186523438,\n",
       " -89.74690246582031,\n",
       " -91.5738296508789,\n",
       " -94.54830169677734,\n",
       " -95.40719604492188,\n",
       " -97.6620101928711,\n",
       " -97.91693878173828,\n",
       " -93.91902160644531,\n",
       " -93.01429748535156,\n",
       " -94.64923095703125,\n",
       " -94.25202941894531,\n",
       " -95.08991241455078,\n",
       " -97.97381591796875,\n",
       " -96.54663848876953,\n",
       " -96.14773559570312,\n",
       " -96.80858612060547,\n",
       " -98.14303588867188,\n",
       " -103.04718780517578,\n",
       " -100.89405822753906,\n",
       " -98.60954284667969,\n",
       " -100.12976837158203,\n",
       " -100.1986083984375,\n",
       " -98.70745849609375,\n",
       " -96.6347427368164,\n",
       " -97.5508041381836,\n",
       " -102.12762451171875,\n",
       " -99.94876861572266,\n",
       " -98.14834594726562,\n",
       " -98.86386108398438,\n",
       " -96.61235046386719,\n",
       " -96.06211853027344,\n",
       " -97.23076629638672,\n",
       " -97.9860610961914,\n",
       " -99.43858337402344,\n",
       " -99.94490814208984,\n",
       " -101.7662353515625,\n",
       " -102.26920318603516,\n",
       " -102.12067413330078,\n",
       " -103.76023864746094,\n",
       " -101.8980484008789,\n",
       " -101.0054702758789,\n",
       " -102.11311340332031,\n",
       " -101.53770446777344,\n",
       " -101.34312438964844,\n",
       " -98.59312438964844,\n",
       " -97.58911895751953,\n",
       " -97.33804321289062,\n",
       " -97.44192504882812,\n",
       " -97.866943359375,\n",
       " -98.83351135253906,\n",
       " -98.72163391113281,\n",
       " -96.56634521484375,\n",
       " -97.36469268798828,\n",
       " -98.5899658203125,\n",
       " -99.42587280273438,\n",
       " -98.71195983886719,\n",
       " -102.159423828125,\n",
       " -98.37318420410156,\n",
       " -96.822021484375,\n",
       " -96.88813018798828,\n",
       " -95.5625228881836,\n",
       " -96.07403564453125,\n",
       " -98.83877563476562,\n",
       " -100.7217025756836,\n",
       " -98.06585693359375,\n",
       " -96.14126586914062,\n",
       " -95.50575256347656,\n",
       " -97.86531066894531,\n",
       " -101.0390625,\n",
       " -101.67716979980469,\n",
       " -103.409912109375,\n",
       " -103.72421264648438,\n",
       " -100.89447784423828,\n",
       " -99.19088745117188,\n",
       " -99.81098175048828,\n",
       " -102.54425048828125,\n",
       " -103.37207794189453,\n",
       " -100.70037841796875,\n",
       " -100.7030029296875,\n",
       " -105.55108642578125,\n",
       " -105.22254943847656,\n",
       " -104.0376205444336,\n",
       " -103.68529510498047,\n",
       " -103.23978424072266,\n",
       " -103.38697814941406,\n",
       " -104.82891082763672,\n",
       " -106.00515747070312,\n",
       " -104.14704132080078,\n",
       " -100.65861511230469,\n",
       " -99.45867919921875,\n",
       " -99.92266845703125,\n",
       " -101.68045043945312,\n",
       " -103.56940460205078,\n",
       " -104.01085662841797,\n",
       " -105.37692260742188,\n",
       " -104.86138916015625,\n",
       " -104.5804443359375,\n",
       " -102.83100891113281,\n",
       " -101.51029968261719,\n",
       " -100.88177490234375,\n",
       " -101.07656860351562,\n",
       " -102.46380615234375,\n",
       " -104.0103530883789,\n",
       " -103.22964477539062,\n",
       " -104.60845184326172,\n",
       " -104.52930450439453,\n",
       " -103.13743591308594,\n",
       " -104.98645782470703,\n",
       " -104.65312194824219,\n",
       " -103.77027893066406,\n",
       " -103.09593963623047,\n",
       " -104.68309020996094,\n",
       " -103.5219955444336,\n",
       " -101.44712829589844,\n",
       " -101.19293975830078,\n",
       " -102.58170318603516,\n",
       " -102.53691101074219,\n",
       " -99.16957092285156,\n",
       " -92.64505004882812,\n",
       " -93.75595092773438,\n",
       " -102.26596069335938,\n",
       " -107.05415344238281,\n",
       " -106.31388854980469,\n",
       " -104.42794799804688,\n",
       " -104.46388244628906)"
      ]
     },
     "execution_count": 11,
     "metadata": {},
     "output_type": "execute_result"
    }
   ],
   "source": [
    "f.data[0]['y']"
   ]
  },
  {
   "cell_type": "code",
   "execution_count": 30,
   "id": "63004215",
   "metadata": {},
   "outputs": [
    {
     "data": {
      "text/plain": [
       "1.5"
      ]
     },
     "execution_count": 30,
     "metadata": {},
     "output_type": "execute_result"
    }
   ],
   "source": [
    "3/2\n"
   ]
  },
  {
   "cell_type": "code",
   "execution_count": 32,
   "id": "13c076d2",
   "metadata": {},
   "outputs": [
    {
     "data": {
      "text/plain": [
       "2"
      ]
     },
     "execution_count": 32,
     "metadata": {},
     "output_type": "execute_result"
    }
   ],
   "source": [
    "4//2"
   ]
  },
  {
   "cell_type": "code",
   "execution_count": null,
   "id": "8273362a",
   "metadata": {},
   "outputs": [],
   "source": []
  }
 ],
 "metadata": {
  "kernelspec": {
   "display_name": "Python 3 (ipykernel)",
   "language": "python",
   "name": "python3"
  },
  "language_info": {
   "codemirror_mode": {
    "name": "ipython",
    "version": 3
   },
   "file_extension": ".py",
   "mimetype": "text/x-python",
   "name": "python",
   "nbconvert_exporter": "python",
   "pygments_lexer": "ipython3",
   "version": "3.10.5"
  }
 },
 "nbformat": 4,
 "nbformat_minor": 5
}
